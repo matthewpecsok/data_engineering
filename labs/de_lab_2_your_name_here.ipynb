{
  "nbformat": 4,
  "nbformat_minor": 0,
  "metadata": {
    "colab": {
      "provenance": [],
      "authorship_tag": "ABX9TyNq6tBDUfREobM/fI51iUue",
      "include_colab_link": true
    },
    "kernelspec": {
      "name": "python3",
      "display_name": "Python 3"
    },
    "language_info": {
      "name": "python"
    }
  },
  "cells": [
    {
      "cell_type": "markdown",
      "metadata": {
        "id": "view-in-github",
        "colab_type": "text"
      },
      "source": [
        "<a href=\"https://colab.research.google.com/github/matthewpecsok/data_engineering/blob/main/labs/de_lab_2_your_name_here.ipynb\" target=\"_parent\"><img src=\"https://colab.research.google.com/assets/colab-badge.svg\" alt=\"Open In Colab\"/></a>"
      ]
    },
    {
      "cell_type": "markdown",
      "source": [
        "# Data Engineering - assignment 2\n",
        "\n",
        "Matthew Pecsok 7/1/2024\n"
      ],
      "metadata": {
        "id": "agMEbQSZp60z"
      }
    },
    {
      "cell_type": "markdown",
      "source": [
        "## Intro to table of contents\n",
        "\n",
        "In this lab we'll be practing the lessons and skills learned from Tutorial 2 to migrate data. Please see the Assignment rubric for details on how to complete the code for the lab."
      ],
      "metadata": {
        "id": "UO8ZV9edsXMa"
      }
    },
    {
      "cell_type": "markdown",
      "source": [
        "## Database setups (modify with the database requirements from the assignment)"
      ],
      "metadata": {
        "id": "kgVg0P9AsikJ"
      }
    },
    {
      "cell_type": "code",
      "source": [
        "# setups including getting the database\n",
        "\n",
        "!wget -O northwind.db https://github.com/matthewpecsok/data_engineering/raw/main/data/northwind.db\n",
        "\n",
        "!pip -q install --upgrade ipython\n",
        "!pip -q install --upgrade ipython-sql\n",
        "\n",
        "import sqlite3\n",
        "con = sqlite3.connect(\"northwind.db\")\n",
        "\n",
        "%load_ext sql\n",
        "%sql sqlite:///northwind.db\n",
        "\n",
        "%config SqlMagic.autopandas = True\n",
        "%config SqlMagic.feedback = False\n",
        "%config SqlMagic.displaycon = False\n",
        "\n",
        "import duckdb"
      ],
      "metadata": {
        "id": "s7A78FWOEJPr"
      },
      "execution_count": null,
      "outputs": []
    },
    {
      "cell_type": "markdown",
      "source": [
        "When creating your new database and tables you will may need to learn more about the datatypes for columns. Read more here.\n",
        "\n",
        "https://www.sqlite.org/datatype3.html\n"
      ],
      "metadata": {
        "id": "qWAkXsNVqy1-"
      }
    },
    {
      "cell_type": "markdown",
      "source": [
        "## Create a new database for migrating data.\n",
        "\n"
      ],
      "metadata": {
        "id": "x0G0OZOuwUUE"
      }
    },
    {
      "cell_type": "code",
      "source": [],
      "metadata": {
        "id": "V0L-8jEHQKYs"
      },
      "execution_count": null,
      "outputs": []
    },
    {
      "cell_type": "markdown",
      "source": [
        "add additional sections as needed to complete the assignment"
      ],
      "metadata": {
        "id": "fEEvzxcXNvjh"
      }
    },
    {
      "cell_type": "code",
      "source": [
        "# replace ###### with your file name\n",
        "# make sure you have your google drive mounted.\n",
        "\n",
        "!cp \"/content/drive/MyDrive/Colab Notebooks/######.ipynb\" ./\n",
        "!jupyter nbconvert --to html \"######.ipynb\""
      ],
      "metadata": {
        "id": "1RaHykVumG5B"
      },
      "execution_count": null,
      "outputs": []
    }
  ]
}