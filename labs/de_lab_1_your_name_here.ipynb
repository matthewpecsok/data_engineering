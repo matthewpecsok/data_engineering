{
  "nbformat": 4,
  "nbformat_minor": 0,
  "metadata": {
    "colab": {
      "provenance": [],
      "authorship_tag": "ABX9TyPj3uJOGhQ6O0MupfqSWDHL",
      "include_colab_link": true
    },
    "kernelspec": {
      "name": "python3",
      "display_name": "Python 3"
    },
    "language_info": {
      "name": "python"
    }
  },
  "cells": [
    {
      "cell_type": "markdown",
      "metadata": {
        "id": "view-in-github",
        "colab_type": "text"
      },
      "source": [
        "<a href=\"https://colab.research.google.com/github/matthewpecsok/data_engineering/blob/main/labs/de_lab_1_your_name_here.ipynb\" target=\"_parent\"><img src=\"https://colab.research.google.com/assets/colab-badge.svg\" alt=\"Open In Colab\"/></a>"
      ]
    },
    {
      "cell_type": "markdown",
      "source": [
        "# Data Engineering - Lab 1\n"
      ],
      "metadata": {
        "id": "agMEbQSZp60z"
      }
    },
    {
      "cell_type": "markdown",
      "source": [
        "## Intro to table of contents\n",
        "\n",
        "In this lab we'll be introduced to the Google Colab environment. To start this notebook simply go to \"Runtime\" and choose \"Run All\". This will connect Colab to your virtual machine and run the code needed to get your database setup.\n",
        "\n",
        "You'll notice that notebooks are setup with a table of contents navigation bar on the left nav bar of your screen. Mouse over and hover to see which options are available and click \"Table of Contents\" to see the major sections to this Notebook.  "
      ],
      "metadata": {
        "id": "UO8ZV9edsXMa"
      }
    },
    {
      "cell_type": "markdown",
      "source": [
        "## Database setups (do not modify)"
      ],
      "metadata": {
        "id": "kgVg0P9AsikJ"
      }
    },
    {
      "cell_type": "code",
      "source": [
        "# setups including getting the database \n",
        "\n",
        "!wget https://github.com/matthewpecsok/data_engineering/raw/main/data/northwind.db\n",
        "\n",
        "import sqlite3\n",
        "con = sqlite3.connect(\"northwind.db\")\n",
        "\n",
        "%load_ext sql\n",
        "%sql sqlite:///northwind.db\n",
        "\n",
        "%config SqlMagic.autopandas = True\n",
        "%config SqlMagic.feedback = False\n",
        "%config SqlMagic.displaycon = False"
      ],
      "metadata": {
        "id": "s7A78FWOEJPr"
      },
      "execution_count": null,
      "outputs": []
    },
    {
      "cell_type": "markdown",
      "source": [
        "## ERD of the Northwind Database"
      ],
      "metadata": {
        "id": "3GVziX6FsmTl"
      }
    },
    {
      "cell_type": "markdown",
      "source": [
        "\n",
        "![ERD](https://github.com/matthewpecsok/data_engineering/blob/main/data/Northwind_ERD.png?raw=true)\n"
      ],
      "metadata": {
        "id": "YLcJUuWbLdi_"
      }
    },
    {
      "cell_type": "markdown",
      "source": [
        "Using %sql allows for one line sql statements\n",
        "Using %%sql allows for multi-line sql statements and better readability for long sql queries."
      ],
      "metadata": {
        "id": "Xvdhv8Cav1H0"
      }
    },
    {
      "cell_type": "code",
      "source": [
        "%sql select * from products limit 4"
      ],
      "metadata": {
        "id": "vRLTc5J0MRWy"
      },
      "execution_count": null,
      "outputs": []
    },
    {
      "cell_type": "code",
      "source": [
        "%%sql \n",
        "\n",
        "select \n",
        "count(1) as product_count\n",
        "from \n",
        "products"
      ],
      "metadata": {
        "id": "JLv3uQDHLHjN"
      },
      "execution_count": null,
      "outputs": []
    },
    {
      "cell_type": "markdown",
      "source": [
        "## Lab question 1\n",
        "\n",
        "Use the code block below to answer the question."
      ],
      "metadata": {
        "id": "x0G0OZOuwUUE"
      }
    },
    {
      "cell_type": "code",
      "source": [
        "%sql --your code here"
      ],
      "metadata": {
        "id": "eDqEw6nRMbNX"
      },
      "execution_count": null,
      "outputs": []
    },
    {
      "cell_type": "markdown",
      "source": [
        "## Lab question 2\n",
        "\n"
      ],
      "metadata": {
        "id": "ZoHlhzqbwaos"
      }
    },
    {
      "cell_type": "code",
      "source": [
        "%sql --your code here"
      ],
      "metadata": {
        "id": "UV-VJ4BfOiID"
      },
      "execution_count": null,
      "outputs": []
    },
    {
      "cell_type": "markdown",
      "source": [
        "## Lab question 3\n",
        "\n"
      ],
      "metadata": {
        "id": "pZBpz5ZrOiH9"
      }
    },
    {
      "cell_type": "code",
      "source": [
        "%sql --your code here"
      ],
      "metadata": {
        "id": "D0OrdrnUOo_b"
      },
      "execution_count": null,
      "outputs": []
    },
    {
      "cell_type": "markdown",
      "source": [
        "## Lab question 4\n",
        "\n"
      ],
      "metadata": {
        "id": "XCWp678BOo_a"
      }
    },
    {
      "cell_type": "code",
      "source": [
        "%sql --your code here"
      ],
      "metadata": {
        "id": "AnqCXqFKwfFs"
      },
      "execution_count": null,
      "outputs": []
    },
    {
      "cell_type": "markdown",
      "source": [
        "add additional sections as needed to complete the quiz"
      ],
      "metadata": {
        "id": "fEEvzxcXNvjh"
      }
    }
  ]
}