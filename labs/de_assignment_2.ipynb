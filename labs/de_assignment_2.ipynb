{
  "nbformat": 4,
  "nbformat_minor": 0,
  "metadata": {
    "colab": {
      "provenance": [],
      "authorship_tag": "ABX9TyMEiW8y2XxQhLGv0q+rr1si",
      "include_colab_link": true
    },
    "kernelspec": {
      "name": "python3",
      "display_name": "Python 3"
    },
    "language_info": {
      "name": "python"
    }
  },
  "cells": [
    {
      "cell_type": "markdown",
      "metadata": {
        "id": "view-in-github",
        "colab_type": "text"
      },
      "source": [
        "<a href=\"https://colab.research.google.com/github/matthewpecsok/data_engineering/blob/main/labs/de_assignment_2.ipynb\" target=\"_parent\"><img src=\"https://colab.research.google.com/assets/colab-badge.svg\" alt=\"Open In Colab\"/></a>"
      ]
    },
    {
      "cell_type": "markdown",
      "source": [
        "# Data Engineering - Lab 2\n",
        "\n",
        "Matthew Pecsok\n"
      ],
      "metadata": {
        "id": "agMEbQSZp60z"
      }
    },
    {
      "cell_type": "markdown",
      "source": [
        "## Intro to table of contents\n",
        "\n",
        "In this lab we'll be introduced to the Google Colab environment. To start this notebook simply go to \"Runtime\" and choose \"Run All\". This will connect Colab to your virtual machine and run the code needed to get your database setup.\n",
        "\n",
        "You'll notice that notebooks are setup with a table of contents navigation bar on the left nav bar of your screen. Mouse over and hover to see which options are available and click \"Table of Contents\" to see the major sections to this Notebook.  "
      ],
      "metadata": {
        "id": "UO8ZV9edsXMa"
      }
    },
    {
      "cell_type": "markdown",
      "source": [
        "## Database setups (do not modify)"
      ],
      "metadata": {
        "id": "kgVg0P9AsikJ"
      }
    },
    {
      "cell_type": "code",
      "source": [
        "# setups including getting the database \n",
        "\n",
        "!wget -O northwind.db https://github.com/matthewpecsok/data_engineering/raw/main/data/northwind.db\n",
        "\n",
        "import sqlite3\n",
        "con = sqlite3.connect(\"northwind.db\")\n",
        "\n",
        "!pip install duckdb\n",
        "!pip install duckdb-engine\n",
        "\n",
        "%load_ext sql\n",
        "%sql sqlite:///northwind.db\n",
        "\n",
        "%config SqlMagic.autopandas = True\n",
        "%config SqlMagic.feedback = False\n",
        "%config SqlMagic.displaycon = False\n",
        "\n",
        "import duckdb"
      ],
      "metadata": {
        "colab": {
          "base_uri": "https://localhost:8080/"
        },
        "id": "s7A78FWOEJPr",
        "outputId": "469d2081-506e-4806-ae91-3c21935fc598"
      },
      "execution_count": null,
      "outputs": [
        {
          "output_type": "stream",
          "name": "stdout",
          "text": [
            "--2023-01-12 23:22:34--  https://github.com/matthewpecsok/data_engineering/raw/main/data/northwind.db\n",
            "Resolving github.com (github.com)... 20.27.177.113\n",
            "Connecting to github.com (github.com)|20.27.177.113|:443... connected.\n",
            "HTTP request sent, awaiting response... 302 Found\n",
            "Location: https://raw.githubusercontent.com/matthewpecsok/data_engineering/main/data/northwind.db [following]\n",
            "--2023-01-12 23:22:35--  https://raw.githubusercontent.com/matthewpecsok/data_engineering/main/data/northwind.db\n",
            "Resolving raw.githubusercontent.com (raw.githubusercontent.com)... 185.199.108.133, 185.199.109.133, 185.199.110.133, ...\n",
            "Connecting to raw.githubusercontent.com (raw.githubusercontent.com)|185.199.108.133|:443... connected.\n",
            "HTTP request sent, awaiting response... 200 OK\n",
            "Length: 602112 (588K) [application/octet-stream]\n",
            "Saving to: ‘northwind.db’\n",
            "\n",
            "northwind.db        100%[===================>] 588.00K  --.-KB/s    in 0.05s   \n",
            "\n",
            "2023-01-12 23:22:35 (11.6 MB/s) - ‘northwind.db’ saved [602112/602112]\n",
            "\n",
            "Looking in indexes: https://pypi.org/simple, https://us-python.pkg.dev/colab-wheels/public/simple/\n",
            "Requirement already satisfied: duckdb in /usr/local/lib/python3.8/dist-packages (0.6.1)\n",
            "Requirement already satisfied: numpy>=1.14 in /usr/local/lib/python3.8/dist-packages (from duckdb) (1.21.6)\n",
            "Looking in indexes: https://pypi.org/simple, https://us-python.pkg.dev/colab-wheels/public/simple/\n",
            "Requirement already satisfied: duckdb-engine in /usr/local/lib/python3.8/dist-packages (0.6.8)\n",
            "Requirement already satisfied: duckdb>=0.4.0 in /usr/local/lib/python3.8/dist-packages (from duckdb-engine) (0.6.1)\n",
            "Requirement already satisfied: sqlalchemy<2.0.0,>=1.3.19 in /usr/local/lib/python3.8/dist-packages (from duckdb-engine) (1.4.46)\n",
            "Requirement already satisfied: numpy in /usr/local/lib/python3.8/dist-packages (from duckdb-engine) (1.21.6)\n",
            "Requirement already satisfied: greenlet!=0.4.17 in /usr/local/lib/python3.8/dist-packages (from sqlalchemy<2.0.0,>=1.3.19->duckdb-engine) (2.0.1)\n",
            "The sql extension is already loaded. To reload it, use:\n",
            "  %reload_ext sql\n"
          ]
        },
        {
          "output_type": "stream",
          "name": "stderr",
          "text": [
            "/usr/local/lib/python3.8/dist-packages/IPython/core/interactiveshell.py:3326: UserWarning: Config option `displaycon` not recognized by `SqlMagic`.  Did you mean `displaylimit`?\n",
            "  exec(code_obj, self.user_global_ns, self.user_ns)\n"
          ]
        }
      ]
    },
    {
      "cell_type": "markdown",
      "source": [
        "## ERD of the Northwind Database"
      ],
      "metadata": {
        "id": "3GVziX6FsmTl"
      }
    },
    {
      "cell_type": "markdown",
      "source": [
        "\n",
        "![ERD](https://github.com/matthewpecsok/data_engineering/blob/main/data/Northwind_ERD.png?raw=true)\n"
      ],
      "metadata": {
        "id": "YLcJUuWbLdi_"
      }
    },
    {
      "cell_type": "markdown",
      "source": [
        "Using %sql allows for one line sql statements\n",
        "Using %%sql allows for multi-line sql statements and better readability for long sql queries."
      ],
      "metadata": {
        "id": "Xvdhv8Cav1H0"
      }
    },
    {
      "cell_type": "code",
      "source": [
        "%sql select * from products limit 4"
      ],
      "metadata": {
        "colab": {
          "base_uri": "https://localhost:8080/",
          "height": 325
        },
        "id": "vRLTc5J0MRWy",
        "outputId": "829ad7fd-97fb-4bc6-80b2-7e3d9df94dd2"
      },
      "execution_count": null,
      "outputs": [
        {
          "output_type": "stream",
          "name": "stdout",
          "text": [
            " * sqlite:///northwind.db\n"
          ]
        },
        {
          "output_type": "execute_result",
          "data": {
            "text/plain": [
              "   ProductID                   ProductName  SupplierID  CategoryID  \\\n",
              "0          1                          Chai           1           1   \n",
              "1          2                         Chang           1           1   \n",
              "2          3                 Aniseed Syrup           1           2   \n",
              "3          4  Chef Anton's Cajun Seasoning           2           2   \n",
              "\n",
              "       QuantityPerUnit  UnitPrice  UnitsInStock  UnitsOnOrder  ReorderLevel  \\\n",
              "0   10 boxes x 20 bags         18            39             0            10   \n",
              "1   24 - 12 oz bottles         19            17            40            25   \n",
              "2  12 - 550 ml bottles         10            13            70            25   \n",
              "3       48 - 6 oz jars         22            53             0             0   \n",
              "\n",
              "  Discontinued  \n",
              "0            0  \n",
              "1            0  \n",
              "2            0  \n",
              "3            0  "
            ],
            "text/html": [
              "\n",
              "  <div id=\"df-063d689b-4fa2-488d-a739-2ac5fd967c5e\">\n",
              "    <div class=\"colab-df-container\">\n",
              "      <div>\n",
              "<style scoped>\n",
              "    .dataframe tbody tr th:only-of-type {\n",
              "        vertical-align: middle;\n",
              "    }\n",
              "\n",
              "    .dataframe tbody tr th {\n",
              "        vertical-align: top;\n",
              "    }\n",
              "\n",
              "    .dataframe thead th {\n",
              "        text-align: right;\n",
              "    }\n",
              "</style>\n",
              "<table border=\"1\" class=\"dataframe\">\n",
              "  <thead>\n",
              "    <tr style=\"text-align: right;\">\n",
              "      <th></th>\n",
              "      <th>ProductID</th>\n",
              "      <th>ProductName</th>\n",
              "      <th>SupplierID</th>\n",
              "      <th>CategoryID</th>\n",
              "      <th>QuantityPerUnit</th>\n",
              "      <th>UnitPrice</th>\n",
              "      <th>UnitsInStock</th>\n",
              "      <th>UnitsOnOrder</th>\n",
              "      <th>ReorderLevel</th>\n",
              "      <th>Discontinued</th>\n",
              "    </tr>\n",
              "  </thead>\n",
              "  <tbody>\n",
              "    <tr>\n",
              "      <th>0</th>\n",
              "      <td>1</td>\n",
              "      <td>Chai</td>\n",
              "      <td>1</td>\n",
              "      <td>1</td>\n",
              "      <td>10 boxes x 20 bags</td>\n",
              "      <td>18</td>\n",
              "      <td>39</td>\n",
              "      <td>0</td>\n",
              "      <td>10</td>\n",
              "      <td>0</td>\n",
              "    </tr>\n",
              "    <tr>\n",
              "      <th>1</th>\n",
              "      <td>2</td>\n",
              "      <td>Chang</td>\n",
              "      <td>1</td>\n",
              "      <td>1</td>\n",
              "      <td>24 - 12 oz bottles</td>\n",
              "      <td>19</td>\n",
              "      <td>17</td>\n",
              "      <td>40</td>\n",
              "      <td>25</td>\n",
              "      <td>0</td>\n",
              "    </tr>\n",
              "    <tr>\n",
              "      <th>2</th>\n",
              "      <td>3</td>\n",
              "      <td>Aniseed Syrup</td>\n",
              "      <td>1</td>\n",
              "      <td>2</td>\n",
              "      <td>12 - 550 ml bottles</td>\n",
              "      <td>10</td>\n",
              "      <td>13</td>\n",
              "      <td>70</td>\n",
              "      <td>25</td>\n",
              "      <td>0</td>\n",
              "    </tr>\n",
              "    <tr>\n",
              "      <th>3</th>\n",
              "      <td>4</td>\n",
              "      <td>Chef Anton's Cajun Seasoning</td>\n",
              "      <td>2</td>\n",
              "      <td>2</td>\n",
              "      <td>48 - 6 oz jars</td>\n",
              "      <td>22</td>\n",
              "      <td>53</td>\n",
              "      <td>0</td>\n",
              "      <td>0</td>\n",
              "      <td>0</td>\n",
              "    </tr>\n",
              "  </tbody>\n",
              "</table>\n",
              "</div>\n",
              "      <button class=\"colab-df-convert\" onclick=\"convertToInteractive('df-063d689b-4fa2-488d-a739-2ac5fd967c5e')\"\n",
              "              title=\"Convert this dataframe to an interactive table.\"\n",
              "              style=\"display:none;\">\n",
              "        \n",
              "  <svg xmlns=\"http://www.w3.org/2000/svg\" height=\"24px\"viewBox=\"0 0 24 24\"\n",
              "       width=\"24px\">\n",
              "    <path d=\"M0 0h24v24H0V0z\" fill=\"none\"/>\n",
              "    <path d=\"M18.56 5.44l.94 2.06.94-2.06 2.06-.94-2.06-.94-.94-2.06-.94 2.06-2.06.94zm-11 1L8.5 8.5l.94-2.06 2.06-.94-2.06-.94L8.5 2.5l-.94 2.06-2.06.94zm10 10l.94 2.06.94-2.06 2.06-.94-2.06-.94-.94-2.06-.94 2.06-2.06.94z\"/><path d=\"M17.41 7.96l-1.37-1.37c-.4-.4-.92-.59-1.43-.59-.52 0-1.04.2-1.43.59L10.3 9.45l-7.72 7.72c-.78.78-.78 2.05 0 2.83L4 21.41c.39.39.9.59 1.41.59.51 0 1.02-.2 1.41-.59l7.78-7.78 2.81-2.81c.8-.78.8-2.07 0-2.86zM5.41 20L4 18.59l7.72-7.72 1.47 1.35L5.41 20z\"/>\n",
              "  </svg>\n",
              "      </button>\n",
              "      \n",
              "  <style>\n",
              "    .colab-df-container {\n",
              "      display:flex;\n",
              "      flex-wrap:wrap;\n",
              "      gap: 12px;\n",
              "    }\n",
              "\n",
              "    .colab-df-convert {\n",
              "      background-color: #E8F0FE;\n",
              "      border: none;\n",
              "      border-radius: 50%;\n",
              "      cursor: pointer;\n",
              "      display: none;\n",
              "      fill: #1967D2;\n",
              "      height: 32px;\n",
              "      padding: 0 0 0 0;\n",
              "      width: 32px;\n",
              "    }\n",
              "\n",
              "    .colab-df-convert:hover {\n",
              "      background-color: #E2EBFA;\n",
              "      box-shadow: 0px 1px 2px rgba(60, 64, 67, 0.3), 0px 1px 3px 1px rgba(60, 64, 67, 0.15);\n",
              "      fill: #174EA6;\n",
              "    }\n",
              "\n",
              "    [theme=dark] .colab-df-convert {\n",
              "      background-color: #3B4455;\n",
              "      fill: #D2E3FC;\n",
              "    }\n",
              "\n",
              "    [theme=dark] .colab-df-convert:hover {\n",
              "      background-color: #434B5C;\n",
              "      box-shadow: 0px 1px 3px 1px rgba(0, 0, 0, 0.15);\n",
              "      filter: drop-shadow(0px 1px 2px rgba(0, 0, 0, 0.3));\n",
              "      fill: #FFFFFF;\n",
              "    }\n",
              "  </style>\n",
              "\n",
              "      <script>\n",
              "        const buttonEl =\n",
              "          document.querySelector('#df-063d689b-4fa2-488d-a739-2ac5fd967c5e button.colab-df-convert');\n",
              "        buttonEl.style.display =\n",
              "          google.colab.kernel.accessAllowed ? 'block' : 'none';\n",
              "\n",
              "        async function convertToInteractive(key) {\n",
              "          const element = document.querySelector('#df-063d689b-4fa2-488d-a739-2ac5fd967c5e');\n",
              "          const dataTable =\n",
              "            await google.colab.kernel.invokeFunction('convertToInteractive',\n",
              "                                                     [key], {});\n",
              "          if (!dataTable) return;\n",
              "\n",
              "          const docLinkHtml = 'Like what you see? Visit the ' +\n",
              "            '<a target=\"_blank\" href=https://colab.research.google.com/notebooks/data_table.ipynb>data table notebook</a>'\n",
              "            + ' to learn more about interactive tables.';\n",
              "          element.innerHTML = '';\n",
              "          dataTable['output_type'] = 'display_data';\n",
              "          await google.colab.output.renderOutput(dataTable, element);\n",
              "          const docLink = document.createElement('div');\n",
              "          docLink.innerHTML = docLinkHtml;\n",
              "          element.appendChild(docLink);\n",
              "        }\n",
              "      </script>\n",
              "    </div>\n",
              "  </div>\n",
              "  "
            ]
          },
          "metadata": {},
          "execution_count": 2
        }
      ]
    },
    {
      "cell_type": "code",
      "source": [
        "%%sql \n",
        "\n",
        "select \n",
        "count(1) as product_count\n",
        "from \n",
        "products"
      ],
      "metadata": {
        "colab": {
          "base_uri": "https://localhost:8080/",
          "height": 96
        },
        "id": "JLv3uQDHLHjN",
        "outputId": "b670a88d-a48a-4faf-ef63-d47ed1089f3c"
      },
      "execution_count": null,
      "outputs": [
        {
          "output_type": "stream",
          "name": "stdout",
          "text": [
            " * sqlite:///northwind.db\n",
            "Done.\n"
          ]
        },
        {
          "output_type": "execute_result",
          "data": {
            "text/plain": [
              "[(77,)]"
            ],
            "text/html": [
              "<table>\n",
              "    <thead>\n",
              "        <tr>\n",
              "            <th>product_count</th>\n",
              "        </tr>\n",
              "    </thead>\n",
              "    <tbody>\n",
              "        <tr>\n",
              "            <td>77</td>\n",
              "        </tr>\n",
              "    </tbody>\n",
              "</table>"
            ]
          },
          "metadata": {},
          "execution_count": 3
        }
      ]
    },
    {
      "cell_type": "markdown",
      "source": [
        "## Lab question 1\n",
        "\n",
        "Use the code block below to answer the question."
      ],
      "metadata": {
        "id": "x0G0OZOuwUUE"
      }
    },
    {
      "cell_type": "code",
      "source": [
        "%sql --your code here"
      ],
      "metadata": {
        "id": "eDqEw6nRMbNX",
        "colab": {
          "base_uri": "https://localhost:8080/"
        },
        "outputId": "a8fa4704-3f1a-4f51-f498-3957e6b5f9da"
      },
      "execution_count": null,
      "outputs": [
        {
          "output_type": "stream",
          "name": "stdout",
          "text": [
            " * sqlite:///northwind.db\n",
            "0 rows affected.\n"
          ]
        },
        {
          "output_type": "execute_result",
          "data": {
            "text/plain": [
              "[]"
            ]
          },
          "metadata": {},
          "execution_count": 4
        }
      ]
    },
    {
      "cell_type": "markdown",
      "source": [
        "## Lab question 2\n",
        "\n"
      ],
      "metadata": {
        "id": "ZoHlhzqbwaos"
      }
    },
    {
      "cell_type": "code",
      "source": [
        "%sql --your code here"
      ],
      "metadata": {
        "colab": {
          "base_uri": "https://localhost:8080/"
        },
        "outputId": "dd1c8d33-4605-4266-db19-80054a892a79",
        "id": "UV-VJ4BfOiID"
      },
      "execution_count": null,
      "outputs": [
        {
          "output_type": "stream",
          "name": "stdout",
          "text": [
            " * sqlite:///northwind.db\n",
            "0 rows affected.\n"
          ]
        },
        {
          "output_type": "execute_result",
          "data": {
            "text/plain": [
              "[]"
            ]
          },
          "metadata": {},
          "execution_count": 5
        }
      ]
    },
    {
      "cell_type": "markdown",
      "source": [
        "## Lab question 3\n",
        "\n"
      ],
      "metadata": {
        "id": "pZBpz5ZrOiH9"
      }
    },
    {
      "cell_type": "code",
      "source": [
        "%sql --your code here"
      ],
      "metadata": {
        "colab": {
          "base_uri": "https://localhost:8080/"
        },
        "outputId": "bf708ca6-a716-4f7b-8b3c-588dbbfed7ee",
        "id": "D0OrdrnUOo_b"
      },
      "execution_count": null,
      "outputs": [
        {
          "output_type": "stream",
          "name": "stdout",
          "text": [
            " * sqlite:///northwind.db\n",
            "0 rows affected.\n"
          ]
        },
        {
          "output_type": "execute_result",
          "data": {
            "text/plain": [
              "[]"
            ]
          },
          "metadata": {},
          "execution_count": 6
        }
      ]
    },
    {
      "cell_type": "markdown",
      "source": [
        "## Lab question 4\n",
        "\n"
      ],
      "metadata": {
        "id": "XCWp678BOo_a"
      }
    },
    {
      "cell_type": "code",
      "source": [
        "%sql --your code here"
      ],
      "metadata": {
        "colab": {
          "base_uri": "https://localhost:8080/"
        },
        "id": "AnqCXqFKwfFs",
        "outputId": "0a19c6e5-22ab-4030-8b1c-2ed578baee3b"
      },
      "execution_count": null,
      "outputs": [
        {
          "output_type": "stream",
          "name": "stdout",
          "text": [
            " * sqlite:///northwind.db\n",
            "0 rows affected.\n"
          ]
        },
        {
          "output_type": "execute_result",
          "data": {
            "text/plain": [
              "[]"
            ]
          },
          "metadata": {},
          "execution_count": 7
        }
      ]
    },
    {
      "cell_type": "markdown",
      "source": [
        "add additional sections as needed to complete the quiz"
      ],
      "metadata": {
        "id": "fEEvzxcXNvjh"
      }
    }
  ]
}