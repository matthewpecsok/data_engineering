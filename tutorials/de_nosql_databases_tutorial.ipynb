{
  "nbformat": 4,
  "nbformat_minor": 0,
  "metadata": {
    "colab": {
      "provenance": [],
      "toc_visible": true,
      "authorship_tag": "ABX9TyPgGx/FUm6Nx5u+qa0KT9h6",
      "include_colab_link": true
    },
    "kernelspec": {
      "name": "python3",
      "display_name": "Python 3"
    },
    "language_info": {
      "name": "python"
    }
  },
  "cells": [
    {
      "cell_type": "markdown",
      "metadata": {
        "id": "view-in-github",
        "colab_type": "text"
      },
      "source": [
        "<a href=\"https://colab.research.google.com/github/matthewpecsok/data_engineering/blob/main/tutorials/de_nosql_databases_tutorial.ipynb\" target=\"_parent\"><img src=\"https://colab.research.google.com/assets/colab-badge.svg\" alt=\"Open In Colab\"/></a>"
      ]
    },
    {
      "cell_type": "markdown",
      "source": [
        "This tutorial will introduce you to  MongoDB a document database. MongoDB deals in data that is effictively a dictionary in Python or JSON data if it's a file. This document-oriented database is very different from the relational database designs we've seen thus far. We'll learn how to populate the database with data, how to query the database for documents we'd like to find, how to extract data for data engineering purposes. "
      ],
      "metadata": {
        "id": "J76X04zOiK61"
      }
    },
    {
      "cell_type": "code",
      "source": [
        "!pip install faker\n",
        "!pip install pymongo"
      ],
      "metadata": {
        "colab": {
          "base_uri": "https://localhost:8080/"
        },
        "id": "IlImf-IoL61o",
        "outputId": "76a56e19-6f42-410b-b63e-011aa17ed6bf"
      },
      "execution_count": 1,
      "outputs": [
        {
          "output_type": "stream",
          "name": "stdout",
          "text": [
            "Looking in indexes: https://pypi.org/simple, https://us-python.pkg.dev/colab-wheels/public/simple/\n",
            "Collecting faker\n",
            "  Downloading Faker-18.9.0-py3-none-any.whl (1.7 MB)\n",
            "\u001b[2K     \u001b[90m━━━━━━━━━━━━━━━━━━━━━━━━━━━━━━━━━━━━━━━━\u001b[0m \u001b[32m1.7/1.7 MB\u001b[0m \u001b[31m30.9 MB/s\u001b[0m eta \u001b[36m0:00:00\u001b[0m\n",
            "\u001b[?25hRequirement already satisfied: python-dateutil>=2.4 in /usr/local/lib/python3.10/dist-packages (from faker) (2.8.2)\n",
            "Requirement already satisfied: six>=1.5 in /usr/local/lib/python3.10/dist-packages (from python-dateutil>=2.4->faker) (1.16.0)\n",
            "Installing collected packages: faker\n",
            "Successfully installed faker-18.9.0\n",
            "Looking in indexes: https://pypi.org/simple, https://us-python.pkg.dev/colab-wheels/public/simple/\n",
            "Collecting pymongo\n",
            "  Downloading pymongo-4.3.3-cp310-cp310-manylinux_2_17_x86_64.manylinux2014_x86_64.whl (492 kB)\n",
            "\u001b[2K     \u001b[90m━━━━━━━━━━━━━━━━━━━━━━━━━━━━━━━━━━━━━━\u001b[0m \u001b[32m492.9/492.9 kB\u001b[0m \u001b[31m12.4 MB/s\u001b[0m eta \u001b[36m0:00:00\u001b[0m\n",
            "\u001b[?25hCollecting dnspython<3.0.0,>=1.16.0 (from pymongo)\n",
            "  Downloading dnspython-2.3.0-py3-none-any.whl (283 kB)\n",
            "\u001b[2K     \u001b[90m━━━━━━━━━━━━━━━━━━━━━━━━━━━━━━━━━━━━━━\u001b[0m \u001b[32m283.7/283.7 kB\u001b[0m \u001b[31m20.4 MB/s\u001b[0m eta \u001b[36m0:00:00\u001b[0m\n",
            "\u001b[?25hInstalling collected packages: dnspython, pymongo\n",
            "Successfully installed dnspython-2.3.0 pymongo-4.3.3\n"
          ]
        }
      ]
    },
    {
      "cell_type": "code",
      "source": [
        "from faker import Faker\n",
        "from pymongo import MongoClient\n",
        "import random\n",
        "import datetime"
      ],
      "metadata": {
        "id": "mkYJ0TjXN1ue"
      },
      "execution_count": 2,
      "outputs": []
    },
    {
      "cell_type": "markdown",
      "source": [
        "# install MongoDB"
      ],
      "metadata": {
        "id": "S573xnvQa4Lw"
      }
    },
    {
      "cell_type": "code",
      "source": [
        "!apt install mongodb >log\n",
        "!service mongodb start\n",
        "\n",
        "from pymongo import MongoClient\n",
        "client = MongoClient()\n",
        "client.list_database_names() # ['admin', 'local']"
      ],
      "metadata": {
        "colab": {
          "base_uri": "https://localhost:8080/"
        },
        "id": "E68Zpj-Hyj-O",
        "outputId": "48d5a1b7-e5d2-4025-d078-473f09ebf230"
      },
      "execution_count": 3,
      "outputs": [
        {
          "output_type": "stream",
          "name": "stdout",
          "text": [
            "\n",
            "WARNING: apt does not have a stable CLI interface. Use with caution in scripts.\n",
            "\n",
            " * Starting database mongodb\n",
            "   ...done.\n"
          ]
        },
        {
          "output_type": "execute_result",
          "data": {
            "text/plain": [
              "['admin', 'config', 'local']"
            ]
          },
          "metadata": {},
          "execution_count": 3
        }
      ]
    },
    {
      "cell_type": "markdown",
      "source": [
        "## create the db\n",
        "\n",
        "name our database"
      ],
      "metadata": {
        "id": "7ZgIUYCCi8GQ"
      }
    },
    {
      "cell_type": "code",
      "source": [
        "# Access a specific database (replace 'your_database' with the desired database name)\n",
        "db = client['cloud_purchase_db']"
      ],
      "metadata": {
        "id": "38hNStS5xV1A"
      },
      "execution_count": 4,
      "outputs": []
    },
    {
      "cell_type": "markdown",
      "source": [
        "## Set up Collections"
      ],
      "metadata": {
        "id": "pVaWthrNi9Vg"
      }
    },
    {
      "cell_type": "markdown",
      "source": [
        "drop the collections in case they already exist so we don't duplicate data"
      ],
      "metadata": {
        "id": "mkuAVN9UjFPU"
      }
    },
    {
      "cell_type": "code",
      "source": [
        "db.drop_collection('customers')\n",
        "db.drop_collection('products')\n",
        "db.drop_collection('orders')"
      ],
      "metadata": {
        "colab": {
          "base_uri": "https://localhost:8080/"
        },
        "id": "4-wKPCwxxXkh",
        "outputId": "bafbb095-b412-4072-bca4-9fc393e659cc"
      },
      "execution_count": 5,
      "outputs": [
        {
          "output_type": "execute_result",
          "data": {
            "text/plain": [
              "{'ok': 0.0,\n",
              " 'errmsg': 'ns not found',\n",
              " 'code': 26,\n",
              " 'codeName': 'NamespaceNotFound'}"
            ]
          },
          "metadata": {},
          "execution_count": 5
        }
      ]
    },
    {
      "cell_type": "markdown",
      "source": [
        "do we have any collections?"
      ],
      "metadata": {
        "id": "XDOGvMNKjI_H"
      }
    },
    {
      "cell_type": "markdown",
      "source": [
        "## list collections"
      ],
      "metadata": {
        "id": "HakKmGYfjLfk"
      }
    },
    {
      "cell_type": "code",
      "source": [
        "db.list_collection_names()"
      ],
      "metadata": {
        "colab": {
          "base_uri": "https://localhost:8080/"
        },
        "id": "tAbWgjJ2Okhh",
        "outputId": "6d65e50c-1c0d-43f7-c753-2189049849e0"
      },
      "execution_count": 6,
      "outputs": [
        {
          "output_type": "execute_result",
          "data": {
            "text/plain": [
              "[]"
            ]
          },
          "metadata": {},
          "execution_count": 6
        }
      ]
    },
    {
      "cell_type": "code",
      "source": [
        "# Create Faker instance\n",
        "fake = Faker()"
      ],
      "metadata": {
        "id": "Zu7bYyF5jPry"
      },
      "execution_count": 7,
      "outputs": []
    },
    {
      "cell_type": "markdown",
      "source": [
        "# Create the data"
      ],
      "metadata": {
        "id": "8Xl4MJ7zbqxw"
      }
    },
    {
      "cell_type": "markdown",
      "source": [
        "## create customer data"
      ],
      "metadata": {
        "id": "zXu6lgeCbzk_"
      }
    },
    {
      "cell_type": "code",
      "source": [
        "# Generate customers\n",
        "customers = []\n",
        "for i in range(100):\n",
        "    customer = {\n",
        "        'customerid': i+1,\n",
        "        'name': fake.name(),\n",
        "        'email': fake.email(),\n",
        "        'phone': [fake.phone_number(),fake.phone_number(),fake.phone_number()]\n",
        "    }\n",
        "    customers.append(customer)"
      ],
      "metadata": {
        "id": "YjkdgXx3jT_i"
      },
      "execution_count": 8,
      "outputs": []
    },
    {
      "cell_type": "code",
      "source": [
        "# Insert customers into MongoDB\n",
        "db.customers.insert_many(customers)"
      ],
      "metadata": {
        "colab": {
          "base_uri": "https://localhost:8080/"
        },
        "id": "y6fmYt1UjVPu",
        "outputId": "9d827073-4db4-4649-e036-c70b5cae6aeb"
      },
      "execution_count": 9,
      "outputs": [
        {
          "output_type": "execute_result",
          "data": {
            "text/plain": [
              "<pymongo.results.InsertManyResult at 0x7f678d157610>"
            ]
          },
          "metadata": {},
          "execution_count": 9
        }
      ]
    },
    {
      "cell_type": "markdown",
      "source": [
        "## create products data"
      ],
      "metadata": {
        "id": "hcaXjvZlb121"
      }
    },
    {
      "cell_type": "code",
      "source": [
        "# Generate products\n",
        "products = []\n",
        "for i in range(10):\n",
        "    product = {\n",
        "        'productid': i+1,\n",
        "        'category': random.choice(['Electronics', 'Clothing', 'Books', 'Home']),\n",
        "        'price': random.uniform(1, 100)\n",
        "    }\n",
        "    products.append(product)"
      ],
      "metadata": {
        "id": "CxwNS24fjWgh"
      },
      "execution_count": 10,
      "outputs": []
    },
    {
      "cell_type": "code",
      "source": [
        "# Insert products into MongoDB\n",
        "db.products.insert_many(products)"
      ],
      "metadata": {
        "colab": {
          "base_uri": "https://localhost:8080/"
        },
        "id": "Rmyiye1HjXee",
        "outputId": "ee4bfde8-0e38-4ab6-9f0a-f7fa8782564d"
      },
      "execution_count": 11,
      "outputs": [
        {
          "output_type": "execute_result",
          "data": {
            "text/plain": [
              "<pymongo.results.InsertManyResult at 0x7f678d156830>"
            ]
          },
          "metadata": {},
          "execution_count": 11
        }
      ]
    },
    {
      "cell_type": "markdown",
      "source": [
        "## create orders data"
      ],
      "metadata": {
        "id": "Lkab6nLWb4cJ"
      }
    },
    {
      "cell_type": "code",
      "source": [
        "datetime.datetime.now()"
      ],
      "metadata": {
        "colab": {
          "base_uri": "https://localhost:8080/"
        },
        "id": "Bvfg7Ynp29HY",
        "outputId": "20311202-d763-4d69-df12-4f2770ab15a3"
      },
      "execution_count": 12,
      "outputs": [
        {
          "output_type": "execute_result",
          "data": {
            "text/plain": [
              "datetime.datetime(2023, 5, 25, 13, 39, 50, 597345)"
            ]
          },
          "metadata": {},
          "execution_count": 12
        }
      ]
    },
    {
      "cell_type": "code",
      "source": [
        "purchase_date = fake.date_between(start_date='-1y', end_date='today')\n",
        "purchase_date = datetime.datetime.combine(purchase_date, datetime.datetime.min.time())\n",
        "\n",
        "purchase_date"
      ],
      "metadata": {
        "colab": {
          "base_uri": "https://localhost:8080/"
        },
        "id": "ax4FS4fM2XzO",
        "outputId": "e465c141-9181-4617-9f27-597830121a32"
      },
      "execution_count": 13,
      "outputs": [
        {
          "output_type": "execute_result",
          "data": {
            "text/plain": [
              "datetime.datetime(2022, 6, 18, 0, 0)"
            ]
          },
          "metadata": {},
          "execution_count": 13
        }
      ]
    },
    {
      "cell_type": "code",
      "source": [
        "# Generate customer orders\n",
        "orders = []\n",
        "for i in range(1000):\n",
        "    customerid = random.randint(1, 100)\n",
        "    productid = random.randint(1, 10)\n",
        "    units = random.randint(10000, 1000000)\n",
        "    if random.random() < 0.1:\n",
        "        units *= 1000\n",
        "    purchase_date = fake.date_between(start_date='-1y', end_date='today')\n",
        "    purchase_date = datetime.datetime.combine(purchase_date, datetime.datetime.min.time())\n",
        "\n",
        "    order = {\n",
        "        'customerid': customerid,\n",
        "        'productid': productid,\n",
        "        'units': units,\n",
        "        'purchase_date': purchase_date\n",
        "    }\n",
        "    orders.append(order)"
      ],
      "metadata": {
        "id": "TTdoT6P5j4_o"
      },
      "execution_count": 14,
      "outputs": []
    },
    {
      "cell_type": "code",
      "source": [
        "# Insert orders into MongoDB\n",
        "db.orders.insert_many(orders)"
      ],
      "metadata": {
        "colab": {
          "base_uri": "https://localhost:8080/"
        },
        "id": "gQjWUTb4xXSy",
        "outputId": "125d4406-3c3c-4411-fcf8-d36cca6fcd2f"
      },
      "execution_count": 15,
      "outputs": [
        {
          "output_type": "execute_result",
          "data": {
            "text/plain": [
              "<pymongo.results.InsertManyResult at 0x7f676300faf0>"
            ]
          },
          "metadata": {},
          "execution_count": 15
        }
      ]
    },
    {
      "cell_type": "code",
      "source": [
        "db.list_collection_names() # list collections"
      ],
      "metadata": {
        "colab": {
          "base_uri": "https://localhost:8080/"
        },
        "id": "pGJp7-xlPBHo",
        "outputId": "1ca3f8e2-1580-451a-d9a3-e49213d33f3f"
      },
      "execution_count": 16,
      "outputs": [
        {
          "output_type": "execute_result",
          "data": {
            "text/plain": [
              "['products', 'customers', 'orders']"
            ]
          },
          "metadata": {},
          "execution_count": 16
        }
      ]
    },
    {
      "cell_type": "markdown",
      "source": [
        "loop through collections and count the number of documents"
      ],
      "metadata": {
        "id": "Kh7A9GgHcHj-"
      }
    },
    {
      "cell_type": "code",
      "source": [
        "for collection_name in db.list_collection_names():\n",
        "  collection = db.get_collection(collection_name)\n",
        "  print(f'{collection_name}:{collection.count_documents({})}')"
      ],
      "metadata": {
        "colab": {
          "base_uri": "https://localhost:8080/"
        },
        "id": "HjkD5qDpPBWw",
        "outputId": "e926eb15-854e-4f25-e657-b71bd74714e0"
      },
      "execution_count": 17,
      "outputs": [
        {
          "output_type": "stream",
          "name": "stdout",
          "text": [
            "products:10\n",
            "customers:100\n",
            "orders:1000\n"
          ]
        }
      ]
    },
    {
      "cell_type": "markdown",
      "source": [
        "# Querying\n",
        "\n"
      ],
      "metadata": {
        "id": "T7r6ecU8Zpaj"
      }
    },
    {
      "cell_type": "markdown",
      "source": [
        "## Customers\n",
        "\n",
        "Find all customers."
      ],
      "metadata": {
        "id": "In4J09kQZsH-"
      }
    },
    {
      "cell_type": "code",
      "source": [
        "for document in db.customers.find({}):\n",
        "  print(document)"
      ],
      "metadata": {
        "colab": {
          "base_uri": "https://localhost:8080/"
        },
        "id": "JYT5n-vEPFDT",
        "outputId": "c4bce25a-c731-4503-f069-3f6f1b5d0a85"
      },
      "execution_count": 18,
      "outputs": [
        {
          "output_type": "stream",
          "name": "stdout",
          "text": [
            "{'_id': ObjectId('646f6526089726df60df1403'), 'customerid': 1, 'name': 'Natalie Beasley', 'email': 'omartin@example.com', 'phone': ['783.279.1929x07149', '(340)372-9532x11823', '537-863-1571']}\n",
            "{'_id': ObjectId('646f6526089726df60df1404'), 'customerid': 2, 'name': 'Cindy Patrick', 'email': 'ozamora@example.com', 'phone': ['007.249.9850', '(194)710-1490x36575', '599.989.5554x2489']}\n",
            "{'_id': ObjectId('646f6526089726df60df1405'), 'customerid': 3, 'name': 'Brandon Curtis', 'email': 'leenicole@example.com', 'phone': ['(842)768-7943', '942.711.7732', '(301)239-3598']}\n",
            "{'_id': ObjectId('646f6526089726df60df1406'), 'customerid': 4, 'name': 'Johnny Montgomery', 'email': 'stephenfritz@example.net', 'phone': ['(103)879-1555x811', '(966)811-2675', '001-499-721-5731']}\n",
            "{'_id': ObjectId('646f6526089726df60df1407'), 'customerid': 5, 'name': 'Daniel Matthews', 'email': 'abigailrodriguez@example.com', 'phone': ['+1-099-091-6723x519', '(994)313-3095', '036-763-1777']}\n",
            "{'_id': ObjectId('646f6526089726df60df1408'), 'customerid': 6, 'name': 'Scott May', 'email': 'jeffery01@example.net', 'phone': ['001-789-147-6550x2572', '5338565533', '671-234-0298x28918']}\n",
            "{'_id': ObjectId('646f6526089726df60df1409'), 'customerid': 7, 'name': 'Holly Le', 'email': 'fsmith@example.net', 'phone': ['704.547.3786', '(789)285-0212', '427.597.4672x44918']}\n",
            "{'_id': ObjectId('646f6526089726df60df140a'), 'customerid': 8, 'name': 'Robert Oliver', 'email': 'hward@example.com', 'phone': ['5845119220', '001-380-305-7029x3840', '933.805.6702x8137']}\n",
            "{'_id': ObjectId('646f6526089726df60df140b'), 'customerid': 9, 'name': 'Alex Maldonado', 'email': 'tmoses@example.org', 'phone': ['107-168-5743x0169', '270-940-3722x3216', '604-935-8518']}\n",
            "{'_id': ObjectId('646f6526089726df60df140c'), 'customerid': 10, 'name': 'Zachary Espinoza', 'email': 'marythomas@example.org', 'phone': ['900-303-9920x77246', '001-472-575-4761x9743', '849-491-3258']}\n",
            "{'_id': ObjectId('646f6526089726df60df140d'), 'customerid': 11, 'name': 'Tony Lee', 'email': 'esmith@example.com', 'phone': ['307-592-1744x4537', '+1-517-528-3479x61188', '001-256-945-2171x3728']}\n",
            "{'_id': ObjectId('646f6526089726df60df140e'), 'customerid': 12, 'name': 'Joseph Gutierrez', 'email': 'salazarjoe@example.net', 'phone': ['578-371-5196x283', '+1-585-130-5896', '897-087-3528']}\n",
            "{'_id': ObjectId('646f6526089726df60df140f'), 'customerid': 13, 'name': 'Jeffrey Pham', 'email': 'johnandrews@example.com', 'phone': ['(035)224-0696x42784', '001-728-219-8182', '123-639-8028x00427']}\n",
            "{'_id': ObjectId('646f6526089726df60df1410'), 'customerid': 14, 'name': 'Dr. Gregory Berry', 'email': 'weberpaige@example.net', 'phone': ['613-345-5914x0204', '326-793-1460x7861', '001-870-213-0428']}\n",
            "{'_id': ObjectId('646f6526089726df60df1411'), 'customerid': 15, 'name': 'Dana Lopez', 'email': 'cherryluis@example.net', 'phone': ['(199)991-3157x743', '2541909488', '992.126.7193']}\n",
            "{'_id': ObjectId('646f6526089726df60df1412'), 'customerid': 16, 'name': 'Sharon Pineda', 'email': 'gonzalesjulie@example.net', 'phone': ['412-498-6639', '+1-429-498-6365x9978', '016-902-7946']}\n",
            "{'_id': ObjectId('646f6526089726df60df1413'), 'customerid': 17, 'name': 'Kirk Gonzalez', 'email': 'scottnorton@example.org', 'phone': ['001-068-310-5238x6924', '001-020-922-1919x442', '+1-392-944-8091']}\n",
            "{'_id': ObjectId('646f6526089726df60df1414'), 'customerid': 18, 'name': 'Lauren Bartlett', 'email': 'williamhouse@example.com', 'phone': ['+1-491-807-1751x93142', '+1-025-435-4911x6969', '001-337-766-0055x48319']}\n",
            "{'_id': ObjectId('646f6526089726df60df1415'), 'customerid': 19, 'name': 'Emily Brock', 'email': 'larry24@example.com', 'phone': ['001-724-306-3888x747', '265-470-5560x487', '+1-754-659-7177x251']}\n",
            "{'_id': ObjectId('646f6526089726df60df1416'), 'customerid': 20, 'name': 'Steven Austin', 'email': 'wesleybrown@example.org', 'phone': ['483.842.9199x85683', '(964)456-4836x4170', '479-878-4227x5645']}\n",
            "{'_id': ObjectId('646f6526089726df60df1417'), 'customerid': 21, 'name': 'Susan Ross', 'email': 'christineperkins@example.org', 'phone': ['383-693-3265x15524', '+1-069-671-2275x357', '185.633.2874']}\n",
            "{'_id': ObjectId('646f6526089726df60df1418'), 'customerid': 22, 'name': 'Gary Cox', 'email': 'floresgary@example.org', 'phone': ['700-731-4571x38752', '(668)120-7849', '+1-274-403-1058']}\n",
            "{'_id': ObjectId('646f6526089726df60df1419'), 'customerid': 23, 'name': 'Zachary Sanchez', 'email': 'ginajohnson@example.org', 'phone': ['039-711-0772', '491-759-6595', '001-118-357-1529x04799']}\n",
            "{'_id': ObjectId('646f6526089726df60df141a'), 'customerid': 24, 'name': 'Deanna Hurst', 'email': 'marshalldavid@example.net', 'phone': ['696-693-4676', '(859)904-4044x14081', '944.496.3849x26302']}\n",
            "{'_id': ObjectId('646f6526089726df60df141b'), 'customerid': 25, 'name': 'Richard Smith', 'email': 'jake90@example.org', 'phone': ['(440)591-8732x286', '+1-372-477-4117x239', '001-106-804-1713x9441']}\n",
            "{'_id': ObjectId('646f6526089726df60df141c'), 'customerid': 26, 'name': 'Andrea Guerra', 'email': 'smithemily@example.org', 'phone': ['001-886-517-5925x147', '657-178-2232', '651.815.5565']}\n",
            "{'_id': ObjectId('646f6526089726df60df141d'), 'customerid': 27, 'name': 'Rebecca Wall', 'email': 'david50@example.net', 'phone': ['(854)950-9328x15339', '+1-348-947-0795x6110', '486-668-9662']}\n",
            "{'_id': ObjectId('646f6526089726df60df141e'), 'customerid': 28, 'name': 'Sarah Kelly', 'email': 'fmcfarland@example.net', 'phone': ['(172)984-5911x39686', '+1-322-638-7824x82156', '(471)846-9218x04728']}\n",
            "{'_id': ObjectId('646f6526089726df60df141f'), 'customerid': 29, 'name': 'Sean Gonzalez DVM', 'email': 'parellano@example.org', 'phone': ['714.996.2683x65581', '175-751-6935x60485', '(100)191-5162']}\n",
            "{'_id': ObjectId('646f6526089726df60df1420'), 'customerid': 30, 'name': 'John Washington', 'email': 'devin01@example.com', 'phone': ['585.269.6579x28394', '847-552-1783x81336', '+1-392-903-3646']}\n",
            "{'_id': ObjectId('646f6526089726df60df1421'), 'customerid': 31, 'name': 'Paul Phelps', 'email': 'nancylee@example.com', 'phone': ['(463)406-3924x938', '(789)692-8403', '001-405-239-2308x763']}\n",
            "{'_id': ObjectId('646f6526089726df60df1422'), 'customerid': 32, 'name': 'Jennifer Carter', 'email': 'robertsjulie@example.com', 'phone': ['+1-814-838-5547x05308', '+1-487-602-0787x51862', '001-796-784-7933x04610']}\n",
            "{'_id': ObjectId('646f6526089726df60df1423'), 'customerid': 33, 'name': 'Mike Smith', 'email': 'bfisher@example.com', 'phone': ['+1-811-720-7722x46242', '(894)638-7711x80078', '(368)782-2770x577']}\n",
            "{'_id': ObjectId('646f6526089726df60df1424'), 'customerid': 34, 'name': 'Jordan Thomas', 'email': 'wflores@example.net', 'phone': ['677-581-3514x49799', '+1-016-196-4624x900', '001-589-155-4449']}\n",
            "{'_id': ObjectId('646f6526089726df60df1425'), 'customerid': 35, 'name': 'Jennifer Hansen', 'email': 'wilsonandre@example.com', 'phone': ['6835233983', '+1-991-037-0075x5578', '+1-206-530-6978x6563']}\n",
            "{'_id': ObjectId('646f6526089726df60df1426'), 'customerid': 36, 'name': 'Jordan Smith', 'email': 'martinmichelle@example.org', 'phone': ['723-904-2842', '(049)087-2777', '(684)582-3530']}\n",
            "{'_id': ObjectId('646f6526089726df60df1427'), 'customerid': 37, 'name': 'Whitney Johnson', 'email': 'zsmith@example.org', 'phone': ['+1-147-281-0671', '+1-632-464-4925x2511', '681-611-0826x8203']}\n",
            "{'_id': ObjectId('646f6526089726df60df1428'), 'customerid': 38, 'name': 'Christopher Johnston', 'email': 'aguirrejohn@example.net', 'phone': ['+1-593-400-7667x6389', '001-467-279-8065x934', '(046)346-5388']}\n",
            "{'_id': ObjectId('646f6526089726df60df1429'), 'customerid': 39, 'name': 'Keith Bartlett', 'email': 'lopezvalerie@example.org', 'phone': ['(114)485-7519x66444', '226-361-9273', '001-232-168-5397']}\n",
            "{'_id': ObjectId('646f6526089726df60df142a'), 'customerid': 40, 'name': 'Caroline Smith', 'email': 'bradleyamber@example.net', 'phone': ['331.054.2996', '(014)673-6805', '429-447-7668x067']}\n",
            "{'_id': ObjectId('646f6526089726df60df142b'), 'customerid': 41, 'name': 'Robert Ortiz', 'email': 'steven23@example.org', 'phone': ['+1-553-865-5434x23780', '355.396.9695', '001-829-832-2837x186']}\n",
            "{'_id': ObjectId('646f6526089726df60df142c'), 'customerid': 42, 'name': 'Arthur Smith', 'email': 'thomasjeffrey@example.net', 'phone': ['(789)961-8063', '5840737489', '(535)435-5916x64265']}\n",
            "{'_id': ObjectId('646f6526089726df60df142d'), 'customerid': 43, 'name': 'Matthew Hernandez II', 'email': 'freemandebra@example.com', 'phone': ['(277)190-3543', '995-028-2036', '(244)001-5211x249']}\n",
            "{'_id': ObjectId('646f6526089726df60df142e'), 'customerid': 44, 'name': 'Scott Cook', 'email': 'jasminebryant@example.org', 'phone': ['001-172-825-8822', '(471)002-3538', '001-673-095-7511x66190']}\n",
            "{'_id': ObjectId('646f6526089726df60df142f'), 'customerid': 45, 'name': 'Aaron Pennington', 'email': 'travisneal@example.net', 'phone': ['904-838-2569x541', '332-418-4850x48524', '001-054-763-8728x73194']}\n",
            "{'_id': ObjectId('646f6526089726df60df1430'), 'customerid': 46, 'name': 'Jordan Harris', 'email': 'cnelson@example.net', 'phone': ['(412)509-5835', '0903143657', '859-600-5484']}\n",
            "{'_id': ObjectId('646f6526089726df60df1431'), 'customerid': 47, 'name': 'Amy Barron', 'email': 'angelalane@example.com', 'phone': ['+1-613-001-4906x50946', '150-069-7223', '746.232.0786x23270']}\n",
            "{'_id': ObjectId('646f6526089726df60df1432'), 'customerid': 48, 'name': 'Brendan Hayes', 'email': 'davidsutton@example.com', 'phone': ['+1-627-919-6055x9746', '884-247-5940', '+1-098-650-4952x52910']}\n",
            "{'_id': ObjectId('646f6526089726df60df1433'), 'customerid': 49, 'name': 'Javier Lyons', 'email': 'trivera@example.net', 'phone': ['090-301-7230', '(698)168-6504', '767-868-8271x0649']}\n",
            "{'_id': ObjectId('646f6526089726df60df1434'), 'customerid': 50, 'name': 'Melissa Young', 'email': 'amandasharp@example.net', 'phone': ['058.096.4357x75205', '461-135-9304', '423.962.2985']}\n",
            "{'_id': ObjectId('646f6526089726df60df1435'), 'customerid': 51, 'name': 'Christopher Stone', 'email': 'kimberly74@example.org', 'phone': ['551.490.9305x64764', '570.515.7855x41103', '001-014-081-7328x521']}\n",
            "{'_id': ObjectId('646f6526089726df60df1436'), 'customerid': 52, 'name': 'Haley Obrien', 'email': 'crystal44@example.net', 'phone': ['220.037.0280x41746', '052.236.6788', '098.596.1256x27590']}\n",
            "{'_id': ObjectId('646f6526089726df60df1437'), 'customerid': 53, 'name': 'Joshua Russell', 'email': 'spencerpaul@example.net', 'phone': ['072-557-4420', '(340)162-6832', '218-955-4310x159']}\n",
            "{'_id': ObjectId('646f6526089726df60df1438'), 'customerid': 54, 'name': 'Peter Harmon', 'email': 'davidferguson@example.net', 'phone': ['(753)411-7212', '(228)241-0150', '+1-089-363-8548x0007']}\n",
            "{'_id': ObjectId('646f6526089726df60df1439'), 'customerid': 55, 'name': 'Mrs. Patricia Brooks', 'email': 'nguyenmaria@example.com', 'phone': ['4820036512', '798.089.8737', '569-697-3852x43035']}\n",
            "{'_id': ObjectId('646f6526089726df60df143a'), 'customerid': 56, 'name': 'Edwin Tran', 'email': 'lloydcharles@example.net', 'phone': ['(588)186-5886', '001-259-996-5932x25793', '763.084.3248x83850']}\n",
            "{'_id': ObjectId('646f6526089726df60df143b'), 'customerid': 57, 'name': 'Rose Hoffman', 'email': 'brownjeffrey@example.net', 'phone': ['600-624-1332', '+1-336-905-0591x470', '001-600-361-0586x06597']}\n",
            "{'_id': ObjectId('646f6526089726df60df143c'), 'customerid': 58, 'name': 'Robert Johnson', 'email': 'wheelerdavid@example.com', 'phone': ['(921)654-3384x9700', '340.909.0024x92376', '982-249-2977']}\n",
            "{'_id': ObjectId('646f6526089726df60df143d'), 'customerid': 59, 'name': 'Kenneth Gonzalez', 'email': 'ffreeman@example.com', 'phone': ['313.183.5937x15415', '127-505-1958x57037', '001-949-536-1438x4051']}\n",
            "{'_id': ObjectId('646f6526089726df60df143e'), 'customerid': 60, 'name': 'Christine Simpson', 'email': 'conradkari@example.net', 'phone': ['001-526-914-0398', '+1-393-303-6561', '001-323-926-0059x588']}\n",
            "{'_id': ObjectId('646f6526089726df60df143f'), 'customerid': 61, 'name': 'Eric Woods', 'email': 'noah63@example.com', 'phone': ['+1-337-571-9482x747', '+1-062-262-9620', '001-988-052-0248x429']}\n",
            "{'_id': ObjectId('646f6526089726df60df1440'), 'customerid': 62, 'name': 'Jenna Delgado', 'email': 'kennethcortez@example.net', 'phone': ['065-526-0875', '+1-387-339-1038', '+1-785-914-5604x714']}\n",
            "{'_id': ObjectId('646f6526089726df60df1441'), 'customerid': 63, 'name': 'Maria Small', 'email': 'ythomas@example.org', 'phone': ['870.344.6224', '152.094.4824x8517', '803.039.4259x02929']}\n",
            "{'_id': ObjectId('646f6526089726df60df1442'), 'customerid': 64, 'name': 'Isaiah Figueroa', 'email': 'grantholmes@example.com', 'phone': ['001-593-351-6340x9844', '(983)299-8929x661', '618-137-7429x3998']}\n",
            "{'_id': ObjectId('646f6526089726df60df1443'), 'customerid': 65, 'name': 'Sarah Lopez', 'email': 'robindaniel@example.net', 'phone': ['289-938-0359', '001-203-462-9892x35410', '001-478-205-0708']}\n",
            "{'_id': ObjectId('646f6526089726df60df1444'), 'customerid': 66, 'name': 'Emily Dunn', 'email': 'smallcassidy@example.org', 'phone': ['001-883-589-2957x6788', '343-239-2854x1666', '557-925-5287']}\n",
            "{'_id': ObjectId('646f6526089726df60df1445'), 'customerid': 67, 'name': 'Ariana Stevens', 'email': 'james84@example.org', 'phone': ['611-468-0919', '(595)773-7191', '(121)887-8405x7886']}\n",
            "{'_id': ObjectId('646f6526089726df60df1446'), 'customerid': 68, 'name': 'Madison Clark', 'email': 'bethmoore@example.net', 'phone': ['+1-424-389-0527x66837', '(841)107-9969', '(882)479-1564']}\n",
            "{'_id': ObjectId('646f6526089726df60df1447'), 'customerid': 69, 'name': 'Mary Gillespie', 'email': 'xtucker@example.org', 'phone': ['651.094.7083x92765', '480-253-7895x468', '+1-122-484-4910x17567']}\n",
            "{'_id': ObjectId('646f6526089726df60df1448'), 'customerid': 70, 'name': 'John Fisher', 'email': 'kelly71@example.com', 'phone': ['781.193.0737x791', '702.078.0229x996', '154.629.5400']}\n",
            "{'_id': ObjectId('646f6526089726df60df1449'), 'customerid': 71, 'name': 'John Beard', 'email': 'susanbryant@example.com', 'phone': ['522-180-0542', '155.836.3012x9085', '510.118.4976x90570']}\n",
            "{'_id': ObjectId('646f6526089726df60df144a'), 'customerid': 72, 'name': 'Charles Mckinney', 'email': 'anadavis@example.com', 'phone': ['7064865728', '+1-670-001-5937', '(897)537-8401x14315']}\n",
            "{'_id': ObjectId('646f6526089726df60df144b'), 'customerid': 73, 'name': 'Toni Bennett', 'email': 'robert35@example.com', 'phone': ['742-713-1802', '746-630-0295', '088-661-0914x6294']}\n",
            "{'_id': ObjectId('646f6526089726df60df144c'), 'customerid': 74, 'name': 'Kevin Noble', 'email': 'bkrueger@example.org', 'phone': ['052-371-6490x11685', '+1-557-390-8466x26217', '717.832.7467x9924']}\n",
            "{'_id': ObjectId('646f6526089726df60df144d'), 'customerid': 75, 'name': 'Cody Reeves', 'email': 'oroman@example.com', 'phone': ['684-830-6901', '(912)308-1230', '(289)677-6197']}\n",
            "{'_id': ObjectId('646f6526089726df60df144e'), 'customerid': 76, 'name': 'Andrew Fisher', 'email': 'arodriguez@example.com', 'phone': ['672-680-9945x7226', '862.917.2635x039', '122.596.1367x7799']}\n",
            "{'_id': ObjectId('646f6526089726df60df144f'), 'customerid': 77, 'name': 'Kimberly Ball', 'email': 'ashleyarnold@example.com', 'phone': ['333-879-0227', '232.961.2553x79501', '969-761-6007']}\n",
            "{'_id': ObjectId('646f6526089726df60df1450'), 'customerid': 78, 'name': 'Leslie Martinez', 'email': 'breynolds@example.org', 'phone': ['(513)975-5351x3579', '503-250-2411x8526', '642-962-1809x8985']}\n",
            "{'_id': ObjectId('646f6526089726df60df1451'), 'customerid': 79, 'name': 'Stacy Macias', 'email': 'clarkaimee@example.net', 'phone': ['(626)682-3567', '(997)779-0216x49497', '(370)994-1918x666']}\n",
            "{'_id': ObjectId('646f6526089726df60df1452'), 'customerid': 80, 'name': 'Brian Gomez', 'email': 'chicks@example.net', 'phone': ['001-765-289-4909x4054', '035-679-5041x617', '427-010-0351']}\n",
            "{'_id': ObjectId('646f6526089726df60df1453'), 'customerid': 81, 'name': 'Luis Price', 'email': 'shawngraham@example.com', 'phone': ['502-563-6674', '+1-436-323-3124', '(041)205-6565x97771']}\n",
            "{'_id': ObjectId('646f6526089726df60df1454'), 'customerid': 82, 'name': 'Melissa Reilly', 'email': 'burnsjavier@example.net', 'phone': ['009.723.6735', '(840)519-5395', '6227873016']}\n",
            "{'_id': ObjectId('646f6526089726df60df1455'), 'customerid': 83, 'name': 'Heather Dixon', 'email': 'jamie12@example.org', 'phone': ['737-159-7357x7247', '(275)380-8305', '+1-000-382-5604x295']}\n",
            "{'_id': ObjectId('646f6526089726df60df1456'), 'customerid': 84, 'name': 'Christine Hernandez', 'email': 'michellelindsey@example.org', 'phone': ['(787)897-3467', '072.073.4216x4267', '289-185-8265x306']}\n",
            "{'_id': ObjectId('646f6526089726df60df1457'), 'customerid': 85, 'name': 'Toni Waters', 'email': 'cynthiamclean@example.net', 'phone': ['(528)648-8805', '001-083-360-9744x1108', '(364)778-6083x95074']}\n",
            "{'_id': ObjectId('646f6526089726df60df1458'), 'customerid': 86, 'name': 'Brett Morales', 'email': 'lucastina@example.net', 'phone': ['873.070.0822x6655', '001-221-904-3140x098', '1222920301']}\n",
            "{'_id': ObjectId('646f6526089726df60df1459'), 'customerid': 87, 'name': 'Erica Davis', 'email': 'glenperez@example.org', 'phone': ['(932)862-5788x468', '(127)490-6809', '398-304-6920']}\n",
            "{'_id': ObjectId('646f6526089726df60df145a'), 'customerid': 88, 'name': 'Anna Davis', 'email': 'johnsonmeghan@example.org', 'phone': ['764.506.1659x0082', '(491)996-5742x23939', '(350)281-1701']}\n",
            "{'_id': ObjectId('646f6526089726df60df145b'), 'customerid': 89, 'name': 'Amy Leon', 'email': 'michaeljones@example.com', 'phone': ['993.084.3854x95372', '+1-973-077-9686x86486', '722.325.9744x3541']}\n",
            "{'_id': ObjectId('646f6526089726df60df145c'), 'customerid': 90, 'name': 'Donald Mason', 'email': 'laurapowers@example.com', 'phone': ['+1-370-856-8880x62077', '+1-107-934-7631x16843', '001-328-202-8748']}\n",
            "{'_id': ObjectId('646f6526089726df60df145d'), 'customerid': 91, 'name': 'Vanessa Villanueva', 'email': 'nsanchez@example.com', 'phone': ['641-033-1205x6080', '001-850-715-4022', '194-687-1124']}\n",
            "{'_id': ObjectId('646f6526089726df60df145e'), 'customerid': 92, 'name': 'Eric Dawson', 'email': 'ysuarez@example.com', 'phone': ['451-472-1822x34723', '(985)200-7205x740', '001-475-715-2865']}\n",
            "{'_id': ObjectId('646f6526089726df60df145f'), 'customerid': 93, 'name': 'Jill Leach', 'email': 'teresa37@example.org', 'phone': ['(763)713-7149', '788-138-9724', '356-568-4300']}\n",
            "{'_id': ObjectId('646f6526089726df60df1460'), 'customerid': 94, 'name': 'Eric Contreras', 'email': 'elizabeth09@example.org', 'phone': ['9161542203', '001-035-809-1799x93457', '2604142376']}\n",
            "{'_id': ObjectId('646f6526089726df60df1461'), 'customerid': 95, 'name': 'Jon Acosta', 'email': 'youngdevin@example.com', 'phone': ['132-150-6715x2818', '2566159651', '146-620-1242']}\n",
            "{'_id': ObjectId('646f6526089726df60df1462'), 'customerid': 96, 'name': 'Stephen Mccall', 'email': 'ipayne@example.com', 'phone': ['+1-764-968-6585x21816', '001-498-776-0874x051', '(217)632-4948x5106']}\n",
            "{'_id': ObjectId('646f6526089726df60df1463'), 'customerid': 97, 'name': 'Albert Olson', 'email': 'tmckee@example.com', 'phone': ['001-470-254-9120x90458', '001-796-052-5376', '+1-066-978-1828x723']}\n",
            "{'_id': ObjectId('646f6526089726df60df1464'), 'customerid': 98, 'name': 'Kara Ray', 'email': 'kaitlin82@example.com', 'phone': ['001-248-040-1887x4518', '(381)063-9965', '903.500.2475x151']}\n",
            "{'_id': ObjectId('646f6526089726df60df1465'), 'customerid': 99, 'name': 'Megan Roberson', 'email': 'james96@example.com', 'phone': ['112.193.6927', '(372)275-5855', '001-374-723-7945']}\n",
            "{'_id': ObjectId('646f6526089726df60df1466'), 'customerid': 100, 'name': 'Joshua Arroyo', 'email': 'gabrielabailey@example.org', 'phone': ['+1-036-302-9486x4706', '582.289.5329', '+1-175-401-2490x07937']}\n"
          ]
        }
      ]
    },
    {
      "cell_type": "markdown",
      "source": [
        "find customerid 76"
      ],
      "metadata": {
        "id": "E3O_CpF2cilt"
      }
    },
    {
      "cell_type": "code",
      "source": [
        "for document in db.customers.find({'customerid':76}):\n",
        "  print(document)"
      ],
      "metadata": {
        "colab": {
          "base_uri": "https://localhost:8080/"
        },
        "id": "JU37UrSBSvtn",
        "outputId": "26f03c5f-2d93-40bf-f197-f956e8e1b990"
      },
      "execution_count": 19,
      "outputs": [
        {
          "output_type": "stream",
          "name": "stdout",
          "text": [
            "{'_id': ObjectId('646f6526089726df60df144e'), 'customerid': 76, 'name': 'Andrew Fisher', 'email': 'arodriguez@example.com', 'phone': ['672-680-9945x7226', '862.917.2635x039', '122.596.1367x7799']}\n"
          ]
        }
      ]
    },
    {
      "cell_type": "markdown",
      "source": [
        "## Products\n",
        "\n",
        "find all products"
      ],
      "metadata": {
        "id": "cqtFa0b8Zt13"
      }
    },
    {
      "cell_type": "code",
      "source": [
        "for document in db.products.find({}):\n",
        "  print(document)"
      ],
      "metadata": {
        "colab": {
          "base_uri": "https://localhost:8080/"
        },
        "id": "k6n9rAQfU3yW",
        "outputId": "b3710b93-84a6-4487-c531-dee60d6d3b13"
      },
      "execution_count": 20,
      "outputs": [
        {
          "output_type": "stream",
          "name": "stdout",
          "text": [
            "{'_id': ObjectId('646f6526089726df60df1467'), 'productid': 1, 'category': 'Electronics', 'price': 37.80238180289961}\n",
            "{'_id': ObjectId('646f6526089726df60df1468'), 'productid': 2, 'category': 'Home', 'price': 96.90152545965559}\n",
            "{'_id': ObjectId('646f6526089726df60df1469'), 'productid': 3, 'category': 'Books', 'price': 72.06382176676661}\n",
            "{'_id': ObjectId('646f6526089726df60df146a'), 'productid': 4, 'category': 'Electronics', 'price': 3.2756652489953764}\n",
            "{'_id': ObjectId('646f6526089726df60df146b'), 'productid': 5, 'category': 'Home', 'price': 71.5924500629026}\n",
            "{'_id': ObjectId('646f6526089726df60df146c'), 'productid': 6, 'category': 'Electronics', 'price': 12.403988892084563}\n",
            "{'_id': ObjectId('646f6526089726df60df146d'), 'productid': 7, 'category': 'Clothing', 'price': 84.57855710974763}\n",
            "{'_id': ObjectId('646f6526089726df60df146e'), 'productid': 8, 'category': 'Home', 'price': 67.66780391614036}\n",
            "{'_id': ObjectId('646f6526089726df60df146f'), 'productid': 9, 'category': 'Electronics', 'price': 85.79804576472488}\n",
            "{'_id': ObjectId('646f6526089726df60df1470'), 'productid': 10, 'category': 'Home', 'price': 60.51637810887955}\n"
          ]
        }
      ]
    },
    {
      "cell_type": "markdown",
      "source": [
        "find all products with prices less than 40"
      ],
      "metadata": {
        "id": "Dox59Ztlc10h"
      }
    },
    {
      "cell_type": "code",
      "source": [
        "for document in db.products.find({'price': {'$lt':40}}):\n",
        "  print(document)"
      ],
      "metadata": {
        "colab": {
          "base_uri": "https://localhost:8080/"
        },
        "id": "gwBXy1cfTKPh",
        "outputId": "4321eb7e-ad35-4d8e-bf44-5d892be62077"
      },
      "execution_count": 21,
      "outputs": [
        {
          "output_type": "stream",
          "name": "stdout",
          "text": [
            "{'_id': ObjectId('646f6526089726df60df1467'), 'productid': 1, 'category': 'Electronics', 'price': 37.80238180289961}\n",
            "{'_id': ObjectId('646f6526089726df60df146a'), 'productid': 4, 'category': 'Electronics', 'price': 3.2756652489953764}\n",
            "{'_id': ObjectId('646f6526089726df60df146c'), 'productid': 6, 'category': 'Electronics', 'price': 12.403988892084563}\n"
          ]
        }
      ]
    },
    {
      "cell_type": "markdown",
      "source": [
        "find all products with category clothing"
      ],
      "metadata": {
        "id": "Z7AWze1Dc5QO"
      }
    },
    {
      "cell_type": "code",
      "source": [
        "for document in db.products.find({'category': 'Clothing'}):\n",
        "  print(document)"
      ],
      "metadata": {
        "colab": {
          "base_uri": "https://localhost:8080/"
        },
        "id": "b2kBTS4bTbTi",
        "outputId": "799623e2-aff5-492a-acee-e8981007811b"
      },
      "execution_count": 22,
      "outputs": [
        {
          "output_type": "stream",
          "name": "stdout",
          "text": [
            "{'_id': ObjectId('646f6526089726df60df146d'), 'productid': 7, 'category': 'Clothing', 'price': 84.57855710974763}\n"
          ]
        }
      ]
    },
    {
      "cell_type": "markdown",
      "source": [
        "find all products with price less than 40 AND category Clothing"
      ],
      "metadata": {
        "id": "z3G2QMqsc73k"
      }
    },
    {
      "cell_type": "code",
      "source": [
        "for document in db.products.find({'price': {'$lt':40},'category': 'Clothing'}):\n",
        "  print(document)"
      ],
      "metadata": {
        "id": "Yksl4SVtU_Bx"
      },
      "execution_count": 23,
      "outputs": []
    },
    {
      "cell_type": "markdown",
      "source": [
        "## Orders"
      ],
      "metadata": {
        "id": "o-PyKjH-ZyA_"
      }
    },
    {
      "cell_type": "code",
      "source": [
        "for document in db.orders.find({'units': {'$lt': 12000}}):\n",
        "  print(document)"
      ],
      "metadata": {
        "id": "GBkqINjitBRA"
      },
      "execution_count": 24,
      "outputs": []
    },
    {
      "cell_type": "markdown",
      "source": [
        "query orders with dates greater than 5-15-2023"
      ],
      "metadata": {
        "id": "yo_5TLacdNJF"
      }
    },
    {
      "cell_type": "code",
      "source": [
        "for document in db.orders.find({'purchase_date': '2022-07-04T00:00:00.000000Z'}):\n",
        "  print(document)"
      ],
      "metadata": {
        "id": "fAS24XRPwr4x"
      },
      "execution_count": 25,
      "outputs": []
    },
    {
      "cell_type": "code",
      "source": [
        "for document in db.orders.find({'purchase_date': {'$gt':datetime.datetime(2021, 5, 15)}}):\n",
        "  print(document)"
      ],
      "metadata": {
        "colab": {
          "base_uri": "https://localhost:8080/"
        },
        "id": "4rg8XNlyVRch",
        "outputId": "7b5c52ce-fad8-41a3-e5ea-8570aac2c944"
      },
      "execution_count": 26,
      "outputs": [
        {
          "output_type": "stream",
          "name": "stdout",
          "text": [
            "{'_id': ObjectId('646f6526089726df60df1471'), 'customerid': 51, 'productid': 4, 'units': 815718, 'purchase_date': datetime.datetime(2022, 10, 13, 0, 0)}\n",
            "{'_id': ObjectId('646f6526089726df60df1472'), 'customerid': 73, 'productid': 3, 'units': 98529, 'purchase_date': datetime.datetime(2023, 4, 24, 0, 0)}\n",
            "{'_id': ObjectId('646f6526089726df60df1473'), 'customerid': 27, 'productid': 9, 'units': 956629, 'purchase_date': datetime.datetime(2023, 1, 15, 0, 0)}\n",
            "{'_id': ObjectId('646f6526089726df60df1474'), 'customerid': 6, 'productid': 3, 'units': 684770, 'purchase_date': datetime.datetime(2023, 3, 4, 0, 0)}\n",
            "{'_id': ObjectId('646f6526089726df60df1475'), 'customerid': 92, 'productid': 3, 'units': 962627, 'purchase_date': datetime.datetime(2023, 1, 19, 0, 0)}\n",
            "{'_id': ObjectId('646f6526089726df60df1476'), 'customerid': 19, 'productid': 3, 'units': 822063, 'purchase_date': datetime.datetime(2022, 11, 14, 0, 0)}\n",
            "{'_id': ObjectId('646f6526089726df60df1477'), 'customerid': 40, 'productid': 2, 'units': 806501, 'purchase_date': datetime.datetime(2022, 8, 15, 0, 0)}\n",
            "{'_id': ObjectId('646f6526089726df60df1478'), 'customerid': 38, 'productid': 7, 'units': 660953, 'purchase_date': datetime.datetime(2023, 2, 21, 0, 0)}\n",
            "{'_id': ObjectId('646f6526089726df60df1479'), 'customerid': 83, 'productid': 4, 'units': 181418, 'purchase_date': datetime.datetime(2022, 6, 4, 0, 0)}\n",
            "{'_id': ObjectId('646f6526089726df60df147a'), 'customerid': 19, 'productid': 4, 'units': 58504, 'purchase_date': datetime.datetime(2023, 2, 4, 0, 0)}\n",
            "{'_id': ObjectId('646f6526089726df60df147b'), 'customerid': 35, 'productid': 5, 'units': 902676, 'purchase_date': datetime.datetime(2023, 2, 4, 0, 0)}\n",
            "{'_id': ObjectId('646f6526089726df60df147c'), 'customerid': 99, 'productid': 4, 'units': 905729, 'purchase_date': datetime.datetime(2022, 7, 12, 0, 0)}\n",
            "{'_id': ObjectId('646f6526089726df60df147d'), 'customerid': 52, 'productid': 8, 'units': 799273, 'purchase_date': datetime.datetime(2023, 3, 8, 0, 0)}\n",
            "{'_id': ObjectId('646f6526089726df60df147e'), 'customerid': 62, 'productid': 9, 'units': 727437, 'purchase_date': datetime.datetime(2022, 12, 30, 0, 0)}\n",
            "{'_id': ObjectId('646f6526089726df60df147f'), 'customerid': 95, 'productid': 8, 'units': 949279, 'purchase_date': datetime.datetime(2022, 10, 5, 0, 0)}\n",
            "{'_id': ObjectId('646f6526089726df60df1480'), 'customerid': 28, 'productid': 2, 'units': 655629, 'purchase_date': datetime.datetime(2022, 10, 9, 0, 0)}\n",
            "{'_id': ObjectId('646f6526089726df60df1481'), 'customerid': 20, 'productid': 4, 'units': 568802, 'purchase_date': datetime.datetime(2022, 11, 24, 0, 0)}\n",
            "{'_id': ObjectId('646f6526089726df60df1482'), 'customerid': 55, 'productid': 10, 'units': 931142, 'purchase_date': datetime.datetime(2023, 1, 1, 0, 0)}\n",
            "{'_id': ObjectId('646f6526089726df60df1483'), 'customerid': 83, 'productid': 5, 'units': 82684, 'purchase_date': datetime.datetime(2022, 8, 20, 0, 0)}\n",
            "{'_id': ObjectId('646f6526089726df60df1484'), 'customerid': 11, 'productid': 1, 'units': 386973, 'purchase_date': datetime.datetime(2022, 9, 2, 0, 0)}\n",
            "{'_id': ObjectId('646f6526089726df60df1485'), 'customerid': 38, 'productid': 9, 'units': 21104, 'purchase_date': datetime.datetime(2022, 7, 2, 0, 0)}\n",
            "{'_id': ObjectId('646f6526089726df60df1486'), 'customerid': 39, 'productid': 10, 'units': 763697, 'purchase_date': datetime.datetime(2023, 2, 8, 0, 0)}\n",
            "{'_id': ObjectId('646f6526089726df60df1487'), 'customerid': 2, 'productid': 4, 'units': 900746, 'purchase_date': datetime.datetime(2023, 5, 6, 0, 0)}\n",
            "{'_id': ObjectId('646f6526089726df60df1488'), 'customerid': 89, 'productid': 5, 'units': 64382, 'purchase_date': datetime.datetime(2023, 4, 11, 0, 0)}\n",
            "{'_id': ObjectId('646f6526089726df60df1489'), 'customerid': 62, 'productid': 1, 'units': 60595, 'purchase_date': datetime.datetime(2022, 8, 20, 0, 0)}\n",
            "{'_id': ObjectId('646f6526089726df60df148a'), 'customerid': 10, 'productid': 3, 'units': 624749, 'purchase_date': datetime.datetime(2022, 7, 29, 0, 0)}\n",
            "{'_id': ObjectId('646f6526089726df60df148b'), 'customerid': 59, 'productid': 9, 'units': 673417, 'purchase_date': datetime.datetime(2022, 8, 8, 0, 0)}\n",
            "{'_id': ObjectId('646f6526089726df60df148c'), 'customerid': 2, 'productid': 9, 'units': 953032, 'purchase_date': datetime.datetime(2023, 2, 19, 0, 0)}\n",
            "{'_id': ObjectId('646f6526089726df60df148d'), 'customerid': 34, 'productid': 5, 'units': 660088, 'purchase_date': datetime.datetime(2022, 7, 17, 0, 0)}\n",
            "{'_id': ObjectId('646f6526089726df60df148e'), 'customerid': 13, 'productid': 2, 'units': 410943000, 'purchase_date': datetime.datetime(2023, 3, 11, 0, 0)}\n",
            "{'_id': ObjectId('646f6526089726df60df148f'), 'customerid': 36, 'productid': 2, 'units': 182941, 'purchase_date': datetime.datetime(2023, 3, 15, 0, 0)}\n",
            "{'_id': ObjectId('646f6526089726df60df1490'), 'customerid': 80, 'productid': 2, 'units': 417855, 'purchase_date': datetime.datetime(2023, 1, 6, 0, 0)}\n",
            "{'_id': ObjectId('646f6526089726df60df1491'), 'customerid': 47, 'productid': 2, 'units': 656224000, 'purchase_date': datetime.datetime(2022, 7, 7, 0, 0)}\n",
            "{'_id': ObjectId('646f6526089726df60df1492'), 'customerid': 12, 'productid': 8, 'units': 420386, 'purchase_date': datetime.datetime(2022, 6, 1, 0, 0)}\n",
            "{'_id': ObjectId('646f6526089726df60df1493'), 'customerid': 46, 'productid': 4, 'units': 803140, 'purchase_date': datetime.datetime(2023, 3, 17, 0, 0)}\n",
            "{'_id': ObjectId('646f6526089726df60df1494'), 'customerid': 9, 'productid': 8, 'units': 747105, 'purchase_date': datetime.datetime(2022, 6, 3, 0, 0)}\n",
            "{'_id': ObjectId('646f6526089726df60df1495'), 'customerid': 22, 'productid': 3, 'units': 571102, 'purchase_date': datetime.datetime(2022, 9, 11, 0, 0)}\n",
            "{'_id': ObjectId('646f6526089726df60df1496'), 'customerid': 31, 'productid': 5, 'units': 235056, 'purchase_date': datetime.datetime(2022, 10, 14, 0, 0)}\n",
            "{'_id': ObjectId('646f6526089726df60df1497'), 'customerid': 58, 'productid': 7, 'units': 101452, 'purchase_date': datetime.datetime(2022, 9, 18, 0, 0)}\n",
            "{'_id': ObjectId('646f6526089726df60df1498'), 'customerid': 95, 'productid': 3, 'units': 991290, 'purchase_date': datetime.datetime(2022, 11, 24, 0, 0)}\n",
            "{'_id': ObjectId('646f6526089726df60df1499'), 'customerid': 25, 'productid': 2, 'units': 449526, 'purchase_date': datetime.datetime(2022, 6, 5, 0, 0)}\n",
            "{'_id': ObjectId('646f6526089726df60df149a'), 'customerid': 84, 'productid': 1, 'units': 361795, 'purchase_date': datetime.datetime(2022, 9, 6, 0, 0)}\n",
            "{'_id': ObjectId('646f6526089726df60df149b'), 'customerid': 80, 'productid': 9, 'units': 730413, 'purchase_date': datetime.datetime(2023, 5, 12, 0, 0)}\n",
            "{'_id': ObjectId('646f6526089726df60df149c'), 'customerid': 61, 'productid': 2, 'units': 145854, 'purchase_date': datetime.datetime(2023, 1, 3, 0, 0)}\n",
            "{'_id': ObjectId('646f6526089726df60df149d'), 'customerid': 80, 'productid': 6, 'units': 939264, 'purchase_date': datetime.datetime(2023, 2, 10, 0, 0)}\n",
            "{'_id': ObjectId('646f6526089726df60df149e'), 'customerid': 21, 'productid': 2, 'units': 745918, 'purchase_date': datetime.datetime(2023, 1, 23, 0, 0)}\n",
            "{'_id': ObjectId('646f6526089726df60df149f'), 'customerid': 21, 'productid': 7, 'units': 139556, 'purchase_date': datetime.datetime(2022, 6, 25, 0, 0)}\n",
            "{'_id': ObjectId('646f6526089726df60df14a0'), 'customerid': 83, 'productid': 4, 'units': 306050, 'purchase_date': datetime.datetime(2022, 6, 8, 0, 0)}\n",
            "{'_id': ObjectId('646f6526089726df60df14a1'), 'customerid': 52, 'productid': 2, 'units': 240642, 'purchase_date': datetime.datetime(2022, 11, 1, 0, 0)}\n",
            "{'_id': ObjectId('646f6526089726df60df14a2'), 'customerid': 92, 'productid': 2, 'units': 831035, 'purchase_date': datetime.datetime(2022, 11, 5, 0, 0)}\n",
            "{'_id': ObjectId('646f6526089726df60df14a3'), 'customerid': 58, 'productid': 9, 'units': 817569000, 'purchase_date': datetime.datetime(2022, 9, 23, 0, 0)}\n",
            "{'_id': ObjectId('646f6526089726df60df14a4'), 'customerid': 74, 'productid': 6, 'units': 743871, 'purchase_date': datetime.datetime(2023, 3, 10, 0, 0)}\n",
            "{'_id': ObjectId('646f6526089726df60df14a5'), 'customerid': 58, 'productid': 2, 'units': 698755, 'purchase_date': datetime.datetime(2023, 4, 11, 0, 0)}\n",
            "{'_id': ObjectId('646f6526089726df60df14a6'), 'customerid': 18, 'productid': 4, 'units': 613281, 'purchase_date': datetime.datetime(2023, 4, 8, 0, 0)}\n",
            "{'_id': ObjectId('646f6526089726df60df14a7'), 'customerid': 88, 'productid': 5, 'units': 381148, 'purchase_date': datetime.datetime(2022, 10, 27, 0, 0)}\n",
            "{'_id': ObjectId('646f6526089726df60df14a8'), 'customerid': 56, 'productid': 9, 'units': 291643, 'purchase_date': datetime.datetime(2023, 2, 22, 0, 0)}\n",
            "{'_id': ObjectId('646f6526089726df60df14a9'), 'customerid': 55, 'productid': 2, 'units': 433910000, 'purchase_date': datetime.datetime(2022, 11, 29, 0, 0)}\n",
            "{'_id': ObjectId('646f6526089726df60df14aa'), 'customerid': 27, 'productid': 7, 'units': 266704, 'purchase_date': datetime.datetime(2022, 11, 13, 0, 0)}\n",
            "{'_id': ObjectId('646f6526089726df60df14ab'), 'customerid': 7, 'productid': 6, 'units': 619615000, 'purchase_date': datetime.datetime(2022, 6, 11, 0, 0)}\n",
            "{'_id': ObjectId('646f6526089726df60df14ac'), 'customerid': 68, 'productid': 8, 'units': 681601, 'purchase_date': datetime.datetime(2022, 7, 26, 0, 0)}\n",
            "{'_id': ObjectId('646f6526089726df60df14ad'), 'customerid': 93, 'productid': 5, 'units': 809926, 'purchase_date': datetime.datetime(2023, 5, 9, 0, 0)}\n",
            "{'_id': ObjectId('646f6526089726df60df14ae'), 'customerid': 14, 'productid': 9, 'units': 511253, 'purchase_date': datetime.datetime(2023, 2, 4, 0, 0)}\n",
            "{'_id': ObjectId('646f6526089726df60df14af'), 'customerid': 5, 'productid': 4, 'units': 538639, 'purchase_date': datetime.datetime(2022, 9, 22, 0, 0)}\n",
            "{'_id': ObjectId('646f6526089726df60df14b0'), 'customerid': 30, 'productid': 8, 'units': 444352, 'purchase_date': datetime.datetime(2022, 11, 21, 0, 0)}\n",
            "{'_id': ObjectId('646f6526089726df60df14b1'), 'customerid': 91, 'productid': 7, 'units': 85148, 'purchase_date': datetime.datetime(2023, 1, 22, 0, 0)}\n",
            "{'_id': ObjectId('646f6526089726df60df14b2'), 'customerid': 5, 'productid': 5, 'units': 819318, 'purchase_date': datetime.datetime(2023, 2, 16, 0, 0)}\n",
            "{'_id': ObjectId('646f6526089726df60df14b3'), 'customerid': 93, 'productid': 2, 'units': 936380, 'purchase_date': datetime.datetime(2023, 5, 10, 0, 0)}\n",
            "{'_id': ObjectId('646f6526089726df60df14b4'), 'customerid': 41, 'productid': 4, 'units': 870906, 'purchase_date': datetime.datetime(2022, 10, 20, 0, 0)}\n",
            "{'_id': ObjectId('646f6526089726df60df14b5'), 'customerid': 96, 'productid': 1, 'units': 111644, 'purchase_date': datetime.datetime(2022, 9, 10, 0, 0)}\n",
            "{'_id': ObjectId('646f6526089726df60df14b6'), 'customerid': 41, 'productid': 9, 'units': 261645, 'purchase_date': datetime.datetime(2023, 1, 5, 0, 0)}\n",
            "{'_id': ObjectId('646f6526089726df60df14b7'), 'customerid': 11, 'productid': 10, 'units': 476523000, 'purchase_date': datetime.datetime(2023, 1, 9, 0, 0)}\n",
            "{'_id': ObjectId('646f6526089726df60df14b8'), 'customerid': 73, 'productid': 1, 'units': 38618, 'purchase_date': datetime.datetime(2022, 11, 30, 0, 0)}\n",
            "{'_id': ObjectId('646f6526089726df60df14b9'), 'customerid': 76, 'productid': 3, 'units': 608508, 'purchase_date': datetime.datetime(2023, 2, 23, 0, 0)}\n",
            "{'_id': ObjectId('646f6526089726df60df14ba'), 'customerid': 74, 'productid': 10, 'units': 201156, 'purchase_date': datetime.datetime(2023, 2, 18, 0, 0)}\n",
            "{'_id': ObjectId('646f6526089726df60df14bb'), 'customerid': 48, 'productid': 5, 'units': 411685, 'purchase_date': datetime.datetime(2022, 11, 19, 0, 0)}\n",
            "{'_id': ObjectId('646f6526089726df60df14bc'), 'customerid': 26, 'productid': 8, 'units': 481191, 'purchase_date': datetime.datetime(2022, 9, 28, 0, 0)}\n",
            "{'_id': ObjectId('646f6526089726df60df14bd'), 'customerid': 31, 'productid': 2, 'units': 772993, 'purchase_date': datetime.datetime(2022, 9, 1, 0, 0)}\n",
            "{'_id': ObjectId('646f6526089726df60df14be'), 'customerid': 90, 'productid': 5, 'units': 799332, 'purchase_date': datetime.datetime(2022, 9, 26, 0, 0)}\n",
            "{'_id': ObjectId('646f6526089726df60df14bf'), 'customerid': 82, 'productid': 4, 'units': 460809000, 'purchase_date': datetime.datetime(2023, 4, 11, 0, 0)}\n",
            "{'_id': ObjectId('646f6526089726df60df14c0'), 'customerid': 49, 'productid': 1, 'units': 347979, 'purchase_date': datetime.datetime(2022, 9, 17, 0, 0)}\n",
            "{'_id': ObjectId('646f6526089726df60df14c1'), 'customerid': 48, 'productid': 6, 'units': 821846, 'purchase_date': datetime.datetime(2023, 3, 20, 0, 0)}\n",
            "{'_id': ObjectId('646f6526089726df60df14c2'), 'customerid': 68, 'productid': 5, 'units': 506668, 'purchase_date': datetime.datetime(2022, 11, 29, 0, 0)}\n",
            "{'_id': ObjectId('646f6526089726df60df14c3'), 'customerid': 4, 'productid': 10, 'units': 144059, 'purchase_date': datetime.datetime(2023, 1, 8, 0, 0)}\n",
            "{'_id': ObjectId('646f6526089726df60df14c4'), 'customerid': 100, 'productid': 2, 'units': 758008, 'purchase_date': datetime.datetime(2022, 10, 23, 0, 0)}\n",
            "{'_id': ObjectId('646f6526089726df60df14c5'), 'customerid': 49, 'productid': 4, 'units': 780429, 'purchase_date': datetime.datetime(2022, 12, 11, 0, 0)}\n",
            "{'_id': ObjectId('646f6526089726df60df14c6'), 'customerid': 3, 'productid': 4, 'units': 239261, 'purchase_date': datetime.datetime(2022, 5, 26, 0, 0)}\n",
            "{'_id': ObjectId('646f6526089726df60df14c7'), 'customerid': 93, 'productid': 8, 'units': 736253, 'purchase_date': datetime.datetime(2022, 11, 21, 0, 0)}\n",
            "{'_id': ObjectId('646f6526089726df60df14c8'), 'customerid': 57, 'productid': 3, 'units': 273359, 'purchase_date': datetime.datetime(2023, 4, 21, 0, 0)}\n",
            "{'_id': ObjectId('646f6526089726df60df14c9'), 'customerid': 7, 'productid': 6, 'units': 819453, 'purchase_date': datetime.datetime(2022, 11, 10, 0, 0)}\n",
            "{'_id': ObjectId('646f6526089726df60df14ca'), 'customerid': 89, 'productid': 3, 'units': 230959, 'purchase_date': datetime.datetime(2022, 7, 4, 0, 0)}\n",
            "{'_id': ObjectId('646f6526089726df60df14cb'), 'customerid': 8, 'productid': 3, 'units': 973074, 'purchase_date': datetime.datetime(2022, 5, 29, 0, 0)}\n",
            "{'_id': ObjectId('646f6526089726df60df14cc'), 'customerid': 16, 'productid': 1, 'units': 459143, 'purchase_date': datetime.datetime(2023, 3, 24, 0, 0)}\n",
            "{'_id': ObjectId('646f6526089726df60df14cd'), 'customerid': 75, 'productid': 4, 'units': 918714000, 'purchase_date': datetime.datetime(2022, 11, 25, 0, 0)}\n",
            "{'_id': ObjectId('646f6526089726df60df14ce'), 'customerid': 28, 'productid': 5, 'units': 502365, 'purchase_date': datetime.datetime(2023, 4, 16, 0, 0)}\n",
            "{'_id': ObjectId('646f6526089726df60df14cf'), 'customerid': 40, 'productid': 8, 'units': 805396, 'purchase_date': datetime.datetime(2022, 6, 1, 0, 0)}\n",
            "{'_id': ObjectId('646f6526089726df60df14d0'), 'customerid': 74, 'productid': 1, 'units': 484358, 'purchase_date': datetime.datetime(2022, 9, 10, 0, 0)}\n",
            "{'_id': ObjectId('646f6526089726df60df14d1'), 'customerid': 7, 'productid': 6, 'units': 709645, 'purchase_date': datetime.datetime(2022, 6, 9, 0, 0)}\n",
            "{'_id': ObjectId('646f6526089726df60df14d2'), 'customerid': 46, 'productid': 4, 'units': 618945, 'purchase_date': datetime.datetime(2022, 6, 15, 0, 0)}\n",
            "{'_id': ObjectId('646f6526089726df60df14d3'), 'customerid': 1, 'productid': 6, 'units': 71168, 'purchase_date': datetime.datetime(2022, 6, 4, 0, 0)}\n",
            "{'_id': ObjectId('646f6526089726df60df14d4'), 'customerid': 64, 'productid': 9, 'units': 290314, 'purchase_date': datetime.datetime(2022, 9, 25, 0, 0)}\n",
            "{'_id': ObjectId('646f6526089726df60df14d5'), 'customerid': 80, 'productid': 5, 'units': 424375, 'purchase_date': datetime.datetime(2022, 7, 14, 0, 0)}\n",
            "{'_id': ObjectId('646f6526089726df60df14d6'), 'customerid': 32, 'productid': 7, 'units': 656455, 'purchase_date': datetime.datetime(2022, 8, 23, 0, 0)}\n",
            "{'_id': ObjectId('646f6526089726df60df14d7'), 'customerid': 72, 'productid': 5, 'units': 305763, 'purchase_date': datetime.datetime(2022, 10, 10, 0, 0)}\n",
            "{'_id': ObjectId('646f6526089726df60df14d8'), 'customerid': 50, 'productid': 9, 'units': 25184, 'purchase_date': datetime.datetime(2022, 5, 26, 0, 0)}\n",
            "{'_id': ObjectId('646f6526089726df60df14d9'), 'customerid': 52, 'productid': 2, 'units': 221438, 'purchase_date': datetime.datetime(2022, 10, 11, 0, 0)}\n",
            "{'_id': ObjectId('646f6526089726df60df14da'), 'customerid': 84, 'productid': 3, 'units': 626414, 'purchase_date': datetime.datetime(2022, 11, 4, 0, 0)}\n",
            "{'_id': ObjectId('646f6526089726df60df14db'), 'customerid': 6, 'productid': 4, 'units': 276397, 'purchase_date': datetime.datetime(2022, 6, 27, 0, 0)}\n",
            "{'_id': ObjectId('646f6526089726df60df14dc'), 'customerid': 14, 'productid': 7, 'units': 801274, 'purchase_date': datetime.datetime(2022, 6, 25, 0, 0)}\n",
            "{'_id': ObjectId('646f6526089726df60df14dd'), 'customerid': 13, 'productid': 3, 'units': 562963, 'purchase_date': datetime.datetime(2023, 1, 11, 0, 0)}\n",
            "{'_id': ObjectId('646f6526089726df60df14de'), 'customerid': 30, 'productid': 6, 'units': 448905, 'purchase_date': datetime.datetime(2022, 12, 4, 0, 0)}\n",
            "{'_id': ObjectId('646f6526089726df60df14df'), 'customerid': 73, 'productid': 5, 'units': 570012, 'purchase_date': datetime.datetime(2022, 10, 19, 0, 0)}\n",
            "{'_id': ObjectId('646f6526089726df60df14e0'), 'customerid': 48, 'productid': 9, 'units': 165911, 'purchase_date': datetime.datetime(2022, 12, 31, 0, 0)}\n",
            "{'_id': ObjectId('646f6526089726df60df14e1'), 'customerid': 15, 'productid': 8, 'units': 184545, 'purchase_date': datetime.datetime(2022, 8, 24, 0, 0)}\n",
            "{'_id': ObjectId('646f6526089726df60df14e2'), 'customerid': 12, 'productid': 9, 'units': 119812000, 'purchase_date': datetime.datetime(2023, 5, 2, 0, 0)}\n",
            "{'_id': ObjectId('646f6526089726df60df14e3'), 'customerid': 81, 'productid': 1, 'units': 515331, 'purchase_date': datetime.datetime(2023, 2, 4, 0, 0)}\n",
            "{'_id': ObjectId('646f6526089726df60df14e4'), 'customerid': 64, 'productid': 10, 'units': 292893, 'purchase_date': datetime.datetime(2022, 10, 9, 0, 0)}\n",
            "{'_id': ObjectId('646f6526089726df60df14e5'), 'customerid': 80, 'productid': 1, 'units': 655479, 'purchase_date': datetime.datetime(2022, 10, 25, 0, 0)}\n",
            "{'_id': ObjectId('646f6526089726df60df14e6'), 'customerid': 29, 'productid': 10, 'units': 988399, 'purchase_date': datetime.datetime(2022, 9, 28, 0, 0)}\n",
            "{'_id': ObjectId('646f6526089726df60df14e7'), 'customerid': 13, 'productid': 9, 'units': 237993, 'purchase_date': datetime.datetime(2023, 3, 25, 0, 0)}\n",
            "{'_id': ObjectId('646f6526089726df60df14e8'), 'customerid': 10, 'productid': 9, 'units': 999307, 'purchase_date': datetime.datetime(2022, 8, 1, 0, 0)}\n",
            "{'_id': ObjectId('646f6526089726df60df14e9'), 'customerid': 70, 'productid': 10, 'units': 648033, 'purchase_date': datetime.datetime(2022, 8, 19, 0, 0)}\n",
            "{'_id': ObjectId('646f6526089726df60df14ea'), 'customerid': 90, 'productid': 4, 'units': 415376, 'purchase_date': datetime.datetime(2022, 8, 4, 0, 0)}\n",
            "{'_id': ObjectId('646f6526089726df60df14eb'), 'customerid': 83, 'productid': 8, 'units': 183406, 'purchase_date': datetime.datetime(2022, 9, 11, 0, 0)}\n",
            "{'_id': ObjectId('646f6526089726df60df14ec'), 'customerid': 13, 'productid': 1, 'units': 597062, 'purchase_date': datetime.datetime(2022, 7, 27, 0, 0)}\n",
            "{'_id': ObjectId('646f6526089726df60df14ed'), 'customerid': 65, 'productid': 7, 'units': 161183, 'purchase_date': datetime.datetime(2022, 6, 4, 0, 0)}\n",
            "{'_id': ObjectId('646f6526089726df60df14ee'), 'customerid': 96, 'productid': 2, 'units': 400011, 'purchase_date': datetime.datetime(2022, 6, 18, 0, 0)}\n",
            "{'_id': ObjectId('646f6526089726df60df14ef'), 'customerid': 78, 'productid': 9, 'units': 615253, 'purchase_date': datetime.datetime(2023, 4, 2, 0, 0)}\n",
            "{'_id': ObjectId('646f6526089726df60df14f0'), 'customerid': 2, 'productid': 2, 'units': 517079, 'purchase_date': datetime.datetime(2023, 5, 21, 0, 0)}\n",
            "{'_id': ObjectId('646f6526089726df60df14f1'), 'customerid': 98, 'productid': 8, 'units': 318223, 'purchase_date': datetime.datetime(2022, 12, 11, 0, 0)}\n",
            "{'_id': ObjectId('646f6526089726df60df14f2'), 'customerid': 90, 'productid': 8, 'units': 897088, 'purchase_date': datetime.datetime(2023, 4, 7, 0, 0)}\n",
            "{'_id': ObjectId('646f6526089726df60df14f3'), 'customerid': 59, 'productid': 10, 'units': 292052, 'purchase_date': datetime.datetime(2022, 7, 11, 0, 0)}\n",
            "{'_id': ObjectId('646f6526089726df60df14f4'), 'customerid': 70, 'productid': 6, 'units': 169988, 'purchase_date': datetime.datetime(2022, 12, 18, 0, 0)}\n",
            "{'_id': ObjectId('646f6526089726df60df14f5'), 'customerid': 8, 'productid': 1, 'units': 248846, 'purchase_date': datetime.datetime(2022, 9, 23, 0, 0)}\n",
            "{'_id': ObjectId('646f6526089726df60df14f6'), 'customerid': 20, 'productid': 8, 'units': 997969, 'purchase_date': datetime.datetime(2022, 8, 26, 0, 0)}\n",
            "{'_id': ObjectId('646f6526089726df60df14f7'), 'customerid': 65, 'productid': 6, 'units': 920289, 'purchase_date': datetime.datetime(2023, 1, 21, 0, 0)}\n",
            "{'_id': ObjectId('646f6526089726df60df14f8'), 'customerid': 92, 'productid': 4, 'units': 719696, 'purchase_date': datetime.datetime(2022, 7, 15, 0, 0)}\n",
            "{'_id': ObjectId('646f6526089726df60df14f9'), 'customerid': 47, 'productid': 3, 'units': 312119, 'purchase_date': datetime.datetime(2022, 12, 4, 0, 0)}\n",
            "{'_id': ObjectId('646f6526089726df60df14fa'), 'customerid': 59, 'productid': 9, 'units': 287567, 'purchase_date': datetime.datetime(2023, 1, 17, 0, 0)}\n",
            "{'_id': ObjectId('646f6526089726df60df14fb'), 'customerid': 44, 'productid': 3, 'units': 472609000, 'purchase_date': datetime.datetime(2022, 11, 18, 0, 0)}\n",
            "{'_id': ObjectId('646f6526089726df60df14fc'), 'customerid': 75, 'productid': 8, 'units': 646763, 'purchase_date': datetime.datetime(2022, 9, 20, 0, 0)}\n",
            "{'_id': ObjectId('646f6526089726df60df14fd'), 'customerid': 90, 'productid': 5, 'units': 549128000, 'purchase_date': datetime.datetime(2022, 7, 28, 0, 0)}\n",
            "{'_id': ObjectId('646f6526089726df60df14fe'), 'customerid': 54, 'productid': 10, 'units': 843559, 'purchase_date': datetime.datetime(2022, 6, 30, 0, 0)}\n",
            "{'_id': ObjectId('646f6526089726df60df14ff'), 'customerid': 15, 'productid': 8, 'units': 735728, 'purchase_date': datetime.datetime(2022, 12, 17, 0, 0)}\n",
            "{'_id': ObjectId('646f6526089726df60df1500'), 'customerid': 17, 'productid': 9, 'units': 832012, 'purchase_date': datetime.datetime(2022, 6, 16, 0, 0)}\n",
            "{'_id': ObjectId('646f6526089726df60df1501'), 'customerid': 63, 'productid': 2, 'units': 816873, 'purchase_date': datetime.datetime(2022, 7, 18, 0, 0)}\n",
            "{'_id': ObjectId('646f6526089726df60df1502'), 'customerid': 42, 'productid': 2, 'units': 673352, 'purchase_date': datetime.datetime(2023, 5, 12, 0, 0)}\n",
            "{'_id': ObjectId('646f6526089726df60df1503'), 'customerid': 99, 'productid': 8, 'units': 711985, 'purchase_date': datetime.datetime(2023, 3, 17, 0, 0)}\n",
            "{'_id': ObjectId('646f6526089726df60df1504'), 'customerid': 28, 'productid': 9, 'units': 809904, 'purchase_date': datetime.datetime(2022, 8, 20, 0, 0)}\n",
            "{'_id': ObjectId('646f6526089726df60df1505'), 'customerid': 13, 'productid': 4, 'units': 57468, 'purchase_date': datetime.datetime(2023, 3, 19, 0, 0)}\n",
            "{'_id': ObjectId('646f6526089726df60df1506'), 'customerid': 76, 'productid': 6, 'units': 853523, 'purchase_date': datetime.datetime(2022, 12, 20, 0, 0)}\n",
            "{'_id': ObjectId('646f6526089726df60df1507'), 'customerid': 34, 'productid': 7, 'units': 911336, 'purchase_date': datetime.datetime(2022, 7, 14, 0, 0)}\n",
            "{'_id': ObjectId('646f6526089726df60df1508'), 'customerid': 69, 'productid': 10, 'units': 80958, 'purchase_date': datetime.datetime(2022, 7, 15, 0, 0)}\n",
            "{'_id': ObjectId('646f6526089726df60df1509'), 'customerid': 56, 'productid': 7, 'units': 255513, 'purchase_date': datetime.datetime(2022, 12, 13, 0, 0)}\n",
            "{'_id': ObjectId('646f6526089726df60df150a'), 'customerid': 28, 'productid': 10, 'units': 390688, 'purchase_date': datetime.datetime(2022, 10, 27, 0, 0)}\n",
            "{'_id': ObjectId('646f6526089726df60df150b'), 'customerid': 21, 'productid': 9, 'units': 311641, 'purchase_date': datetime.datetime(2022, 5, 29, 0, 0)}\n",
            "{'_id': ObjectId('646f6526089726df60df150c'), 'customerid': 57, 'productid': 8, 'units': 714747, 'purchase_date': datetime.datetime(2023, 4, 4, 0, 0)}\n",
            "{'_id': ObjectId('646f6526089726df60df150d'), 'customerid': 62, 'productid': 8, 'units': 177333, 'purchase_date': datetime.datetime(2023, 4, 3, 0, 0)}\n",
            "{'_id': ObjectId('646f6526089726df60df150e'), 'customerid': 81, 'productid': 8, 'units': 123811, 'purchase_date': datetime.datetime(2022, 9, 30, 0, 0)}\n",
            "{'_id': ObjectId('646f6526089726df60df150f'), 'customerid': 37, 'productid': 1, 'units': 332562, 'purchase_date': datetime.datetime(2023, 4, 5, 0, 0)}\n",
            "{'_id': ObjectId('646f6526089726df60df1510'), 'customerid': 33, 'productid': 1, 'units': 423957, 'purchase_date': datetime.datetime(2023, 2, 10, 0, 0)}\n",
            "{'_id': ObjectId('646f6526089726df60df1511'), 'customerid': 66, 'productid': 6, 'units': 321629, 'purchase_date': datetime.datetime(2022, 5, 30, 0, 0)}\n",
            "{'_id': ObjectId('646f6526089726df60df1512'), 'customerid': 76, 'productid': 8, 'units': 149782, 'purchase_date': datetime.datetime(2022, 6, 5, 0, 0)}\n",
            "{'_id': ObjectId('646f6526089726df60df1513'), 'customerid': 28, 'productid': 3, 'units': 929498, 'purchase_date': datetime.datetime(2022, 12, 11, 0, 0)}\n",
            "{'_id': ObjectId('646f6526089726df60df1514'), 'customerid': 35, 'productid': 3, 'units': 594871, 'purchase_date': datetime.datetime(2022, 10, 6, 0, 0)}\n",
            "{'_id': ObjectId('646f6526089726df60df1515'), 'customerid': 10, 'productid': 6, 'units': 797125, 'purchase_date': datetime.datetime(2023, 1, 31, 0, 0)}\n",
            "{'_id': ObjectId('646f6526089726df60df1516'), 'customerid': 57, 'productid': 8, 'units': 466875, 'purchase_date': datetime.datetime(2022, 12, 20, 0, 0)}\n",
            "{'_id': ObjectId('646f6526089726df60df1517'), 'customerid': 49, 'productid': 7, 'units': 966086, 'purchase_date': datetime.datetime(2023, 3, 29, 0, 0)}\n",
            "{'_id': ObjectId('646f6526089726df60df1518'), 'customerid': 46, 'productid': 9, 'units': 15827, 'purchase_date': datetime.datetime(2022, 11, 5, 0, 0)}\n",
            "{'_id': ObjectId('646f6526089726df60df1519'), 'customerid': 4, 'productid': 8, 'units': 81639, 'purchase_date': datetime.datetime(2022, 6, 13, 0, 0)}\n",
            "{'_id': ObjectId('646f6526089726df60df151a'), 'customerid': 72, 'productid': 3, 'units': 335413, 'purchase_date': datetime.datetime(2023, 3, 15, 0, 0)}\n",
            "{'_id': ObjectId('646f6526089726df60df151b'), 'customerid': 76, 'productid': 7, 'units': 26385, 'purchase_date': datetime.datetime(2023, 3, 20, 0, 0)}\n",
            "{'_id': ObjectId('646f6526089726df60df151c'), 'customerid': 56, 'productid': 4, 'units': 425835, 'purchase_date': datetime.datetime(2023, 1, 25, 0, 0)}\n",
            "{'_id': ObjectId('646f6526089726df60df151d'), 'customerid': 56, 'productid': 4, 'units': 616533, 'purchase_date': datetime.datetime(2023, 2, 1, 0, 0)}\n",
            "{'_id': ObjectId('646f6526089726df60df151e'), 'customerid': 19, 'productid': 7, 'units': 963506, 'purchase_date': datetime.datetime(2023, 4, 12, 0, 0)}\n",
            "{'_id': ObjectId('646f6526089726df60df151f'), 'customerid': 70, 'productid': 3, 'units': 917109, 'purchase_date': datetime.datetime(2022, 5, 27, 0, 0)}\n",
            "{'_id': ObjectId('646f6526089726df60df1520'), 'customerid': 2, 'productid': 5, 'units': 482765000, 'purchase_date': datetime.datetime(2022, 11, 29, 0, 0)}\n",
            "{'_id': ObjectId('646f6526089726df60df1521'), 'customerid': 36, 'productid': 10, 'units': 102852, 'purchase_date': datetime.datetime(2023, 4, 27, 0, 0)}\n",
            "{'_id': ObjectId('646f6526089726df60df1522'), 'customerid': 90, 'productid': 3, 'units': 655096, 'purchase_date': datetime.datetime(2022, 7, 30, 0, 0)}\n",
            "{'_id': ObjectId('646f6526089726df60df1523'), 'customerid': 1, 'productid': 9, 'units': 375732, 'purchase_date': datetime.datetime(2022, 8, 17, 0, 0)}\n",
            "{'_id': ObjectId('646f6526089726df60df1524'), 'customerid': 89, 'productid': 1, 'units': 369847, 'purchase_date': datetime.datetime(2022, 11, 16, 0, 0)}\n",
            "{'_id': ObjectId('646f6526089726df60df1525'), 'customerid': 30, 'productid': 8, 'units': 771881, 'purchase_date': datetime.datetime(2023, 3, 10, 0, 0)}\n",
            "{'_id': ObjectId('646f6526089726df60df1526'), 'customerid': 88, 'productid': 10, 'units': 189847, 'purchase_date': datetime.datetime(2022, 8, 17, 0, 0)}\n",
            "{'_id': ObjectId('646f6526089726df60df1527'), 'customerid': 99, 'productid': 10, 'units': 148227000, 'purchase_date': datetime.datetime(2023, 2, 6, 0, 0)}\n",
            "{'_id': ObjectId('646f6526089726df60df1528'), 'customerid': 93, 'productid': 10, 'units': 413320000, 'purchase_date': datetime.datetime(2023, 5, 20, 0, 0)}\n",
            "{'_id': ObjectId('646f6526089726df60df1529'), 'customerid': 17, 'productid': 6, 'units': 389847, 'purchase_date': datetime.datetime(2023, 2, 23, 0, 0)}\n",
            "{'_id': ObjectId('646f6526089726df60df152a'), 'customerid': 59, 'productid': 10, 'units': 829842, 'purchase_date': datetime.datetime(2022, 10, 18, 0, 0)}\n",
            "{'_id': ObjectId('646f6526089726df60df152b'), 'customerid': 1, 'productid': 1, 'units': 669443, 'purchase_date': datetime.datetime(2023, 3, 17, 0, 0)}\n",
            "{'_id': ObjectId('646f6526089726df60df152c'), 'customerid': 3, 'productid': 9, 'units': 360922, 'purchase_date': datetime.datetime(2022, 12, 20, 0, 0)}\n",
            "{'_id': ObjectId('646f6526089726df60df152d'), 'customerid': 50, 'productid': 8, 'units': 204743, 'purchase_date': datetime.datetime(2023, 5, 13, 0, 0)}\n",
            "{'_id': ObjectId('646f6526089726df60df152e'), 'customerid': 100, 'productid': 4, 'units': 45676, 'purchase_date': datetime.datetime(2023, 5, 7, 0, 0)}\n",
            "{'_id': ObjectId('646f6526089726df60df152f'), 'customerid': 7, 'productid': 1, 'units': 149153, 'purchase_date': datetime.datetime(2023, 3, 30, 0, 0)}\n",
            "{'_id': ObjectId('646f6526089726df60df1530'), 'customerid': 85, 'productid': 6, 'units': 499014, 'purchase_date': datetime.datetime(2023, 3, 29, 0, 0)}\n",
            "{'_id': ObjectId('646f6526089726df60df1531'), 'customerid': 5, 'productid': 7, 'units': 944679, 'purchase_date': datetime.datetime(2022, 7, 5, 0, 0)}\n",
            "{'_id': ObjectId('646f6526089726df60df1532'), 'customerid': 56, 'productid': 1, 'units': 425554, 'purchase_date': datetime.datetime(2022, 9, 22, 0, 0)}\n",
            "{'_id': ObjectId('646f6526089726df60df1533'), 'customerid': 71, 'productid': 8, 'units': 57308000, 'purchase_date': datetime.datetime(2022, 7, 28, 0, 0)}\n",
            "{'_id': ObjectId('646f6526089726df60df1534'), 'customerid': 23, 'productid': 6, 'units': 622707, 'purchase_date': datetime.datetime(2023, 1, 21, 0, 0)}\n",
            "{'_id': ObjectId('646f6526089726df60df1535'), 'customerid': 92, 'productid': 4, 'units': 190643, 'purchase_date': datetime.datetime(2022, 8, 31, 0, 0)}\n",
            "{'_id': ObjectId('646f6526089726df60df1536'), 'customerid': 76, 'productid': 1, 'units': 465355, 'purchase_date': datetime.datetime(2023, 3, 3, 0, 0)}\n",
            "{'_id': ObjectId('646f6526089726df60df1537'), 'customerid': 77, 'productid': 1, 'units': 891386, 'purchase_date': datetime.datetime(2023, 1, 9, 0, 0)}\n",
            "{'_id': ObjectId('646f6526089726df60df1538'), 'customerid': 12, 'productid': 8, 'units': 749775, 'purchase_date': datetime.datetime(2022, 8, 12, 0, 0)}\n",
            "{'_id': ObjectId('646f6526089726df60df1539'), 'customerid': 23, 'productid': 3, 'units': 142502, 'purchase_date': datetime.datetime(2022, 7, 14, 0, 0)}\n",
            "{'_id': ObjectId('646f6526089726df60df153a'), 'customerid': 77, 'productid': 7, 'units': 376868, 'purchase_date': datetime.datetime(2023, 4, 19, 0, 0)}\n",
            "{'_id': ObjectId('646f6526089726df60df153b'), 'customerid': 18, 'productid': 10, 'units': 754411, 'purchase_date': datetime.datetime(2023, 5, 4, 0, 0)}\n",
            "{'_id': ObjectId('646f6526089726df60df153c'), 'customerid': 85, 'productid': 10, 'units': 177703, 'purchase_date': datetime.datetime(2023, 2, 22, 0, 0)}\n",
            "{'_id': ObjectId('646f6526089726df60df153d'), 'customerid': 100, 'productid': 9, 'units': 48513, 'purchase_date': datetime.datetime(2022, 11, 4, 0, 0)}\n",
            "{'_id': ObjectId('646f6526089726df60df153e'), 'customerid': 77, 'productid': 2, 'units': 723847, 'purchase_date': datetime.datetime(2023, 2, 26, 0, 0)}\n",
            "{'_id': ObjectId('646f6526089726df60df153f'), 'customerid': 68, 'productid': 2, 'units': 289000, 'purchase_date': datetime.datetime(2022, 10, 30, 0, 0)}\n",
            "{'_id': ObjectId('646f6526089726df60df1540'), 'customerid': 25, 'productid': 3, 'units': 140286, 'purchase_date': datetime.datetime(2022, 9, 22, 0, 0)}\n",
            "{'_id': ObjectId('646f6526089726df60df1541'), 'customerid': 17, 'productid': 2, 'units': 222768, 'purchase_date': datetime.datetime(2022, 6, 13, 0, 0)}\n",
            "{'_id': ObjectId('646f6526089726df60df1542'), 'customerid': 96, 'productid': 8, 'units': 274134, 'purchase_date': datetime.datetime(2023, 3, 2, 0, 0)}\n",
            "{'_id': ObjectId('646f6526089726df60df1543'), 'customerid': 26, 'productid': 4, 'units': 29064, 'purchase_date': datetime.datetime(2022, 5, 28, 0, 0)}\n",
            "{'_id': ObjectId('646f6526089726df60df1544'), 'customerid': 32, 'productid': 5, 'units': 546170, 'purchase_date': datetime.datetime(2023, 2, 20, 0, 0)}\n",
            "{'_id': ObjectId('646f6526089726df60df1545'), 'customerid': 83, 'productid': 1, 'units': 220938, 'purchase_date': datetime.datetime(2022, 9, 14, 0, 0)}\n",
            "{'_id': ObjectId('646f6526089726df60df1546'), 'customerid': 35, 'productid': 5, 'units': 453741, 'purchase_date': datetime.datetime(2022, 9, 9, 0, 0)}\n",
            "{'_id': ObjectId('646f6526089726df60df1547'), 'customerid': 2, 'productid': 5, 'units': 610697, 'purchase_date': datetime.datetime(2023, 5, 11, 0, 0)}\n",
            "{'_id': ObjectId('646f6526089726df60df1548'), 'customerid': 64, 'productid': 2, 'units': 175631, 'purchase_date': datetime.datetime(2023, 1, 22, 0, 0)}\n",
            "{'_id': ObjectId('646f6526089726df60df1549'), 'customerid': 9, 'productid': 6, 'units': 608126, 'purchase_date': datetime.datetime(2023, 3, 28, 0, 0)}\n",
            "{'_id': ObjectId('646f6526089726df60df154a'), 'customerid': 66, 'productid': 4, 'units': 708376, 'purchase_date': datetime.datetime(2023, 3, 22, 0, 0)}\n",
            "{'_id': ObjectId('646f6526089726df60df154b'), 'customerid': 5, 'productid': 8, 'units': 134236, 'purchase_date': datetime.datetime(2023, 3, 2, 0, 0)}\n",
            "{'_id': ObjectId('646f6526089726df60df154c'), 'customerid': 42, 'productid': 6, 'units': 537906, 'purchase_date': datetime.datetime(2022, 11, 3, 0, 0)}\n",
            "{'_id': ObjectId('646f6526089726df60df154d'), 'customerid': 89, 'productid': 2, 'units': 814812, 'purchase_date': datetime.datetime(2022, 8, 8, 0, 0)}\n",
            "{'_id': ObjectId('646f6526089726df60df154e'), 'customerid': 57, 'productid': 5, 'units': 853182, 'purchase_date': datetime.datetime(2022, 8, 7, 0, 0)}\n",
            "{'_id': ObjectId('646f6526089726df60df154f'), 'customerid': 12, 'productid': 1, 'units': 640458, 'purchase_date': datetime.datetime(2022, 9, 5, 0, 0)}\n",
            "{'_id': ObjectId('646f6526089726df60df1550'), 'customerid': 67, 'productid': 5, 'units': 557187, 'purchase_date': datetime.datetime(2022, 8, 23, 0, 0)}\n",
            "{'_id': ObjectId('646f6526089726df60df1551'), 'customerid': 24, 'productid': 4, 'units': 717023000, 'purchase_date': datetime.datetime(2022, 12, 19, 0, 0)}\n",
            "{'_id': ObjectId('646f6526089726df60df1552'), 'customerid': 16, 'productid': 10, 'units': 476395, 'purchase_date': datetime.datetime(2022, 9, 21, 0, 0)}\n",
            "{'_id': ObjectId('646f6526089726df60df1553'), 'customerid': 12, 'productid': 3, 'units': 50823, 'purchase_date': datetime.datetime(2022, 9, 23, 0, 0)}\n",
            "{'_id': ObjectId('646f6526089726df60df1554'), 'customerid': 13, 'productid': 5, 'units': 127365, 'purchase_date': datetime.datetime(2022, 7, 27, 0, 0)}\n",
            "{'_id': ObjectId('646f6526089726df60df1555'), 'customerid': 48, 'productid': 1, 'units': 797846000, 'purchase_date': datetime.datetime(2023, 5, 22, 0, 0)}\n",
            "{'_id': ObjectId('646f6526089726df60df1556'), 'customerid': 15, 'productid': 10, 'units': 851572, 'purchase_date': datetime.datetime(2022, 7, 11, 0, 0)}\n",
            "{'_id': ObjectId('646f6526089726df60df1557'), 'customerid': 55, 'productid': 7, 'units': 839429, 'purchase_date': datetime.datetime(2022, 8, 18, 0, 0)}\n",
            "{'_id': ObjectId('646f6526089726df60df1558'), 'customerid': 32, 'productid': 6, 'units': 877351, 'purchase_date': datetime.datetime(2023, 4, 20, 0, 0)}\n",
            "{'_id': ObjectId('646f6526089726df60df1559'), 'customerid': 57, 'productid': 4, 'units': 669317, 'purchase_date': datetime.datetime(2023, 3, 2, 0, 0)}\n",
            "{'_id': ObjectId('646f6526089726df60df155a'), 'customerid': 84, 'productid': 7, 'units': 830695, 'purchase_date': datetime.datetime(2022, 9, 19, 0, 0)}\n",
            "{'_id': ObjectId('646f6526089726df60df155b'), 'customerid': 75, 'productid': 10, 'units': 473954, 'purchase_date': datetime.datetime(2022, 6, 24, 0, 0)}\n",
            "{'_id': ObjectId('646f6526089726df60df155c'), 'customerid': 71, 'productid': 1, 'units': 121791, 'purchase_date': datetime.datetime(2022, 9, 6, 0, 0)}\n",
            "{'_id': ObjectId('646f6526089726df60df155d'), 'customerid': 31, 'productid': 8, 'units': 112772, 'purchase_date': datetime.datetime(2022, 11, 18, 0, 0)}\n",
            "{'_id': ObjectId('646f6526089726df60df155e'), 'customerid': 40, 'productid': 5, 'units': 721243, 'purchase_date': datetime.datetime(2022, 6, 27, 0, 0)}\n",
            "{'_id': ObjectId('646f6526089726df60df155f'), 'customerid': 60, 'productid': 1, 'units': 549755, 'purchase_date': datetime.datetime(2022, 7, 27, 0, 0)}\n",
            "{'_id': ObjectId('646f6526089726df60df1560'), 'customerid': 45, 'productid': 6, 'units': 579927, 'purchase_date': datetime.datetime(2022, 11, 4, 0, 0)}\n",
            "{'_id': ObjectId('646f6526089726df60df1561'), 'customerid': 99, 'productid': 7, 'units': 521981, 'purchase_date': datetime.datetime(2022, 9, 14, 0, 0)}\n",
            "{'_id': ObjectId('646f6526089726df60df1562'), 'customerid': 70, 'productid': 1, 'units': 757229, 'purchase_date': datetime.datetime(2022, 7, 15, 0, 0)}\n",
            "{'_id': ObjectId('646f6526089726df60df1563'), 'customerid': 53, 'productid': 4, 'units': 906882, 'purchase_date': datetime.datetime(2023, 2, 14, 0, 0)}\n",
            "{'_id': ObjectId('646f6526089726df60df1564'), 'customerid': 92, 'productid': 10, 'units': 910032, 'purchase_date': datetime.datetime(2023, 3, 4, 0, 0)}\n",
            "{'_id': ObjectId('646f6526089726df60df1565'), 'customerid': 76, 'productid': 7, 'units': 138811, 'purchase_date': datetime.datetime(2022, 8, 5, 0, 0)}\n",
            "{'_id': ObjectId('646f6526089726df60df1566'), 'customerid': 22, 'productid': 8, 'units': 207269, 'purchase_date': datetime.datetime(2023, 3, 18, 0, 0)}\n",
            "{'_id': ObjectId('646f6526089726df60df1567'), 'customerid': 39, 'productid': 6, 'units': 179661, 'purchase_date': datetime.datetime(2022, 11, 7, 0, 0)}\n",
            "{'_id': ObjectId('646f6526089726df60df1568'), 'customerid': 79, 'productid': 5, 'units': 915408, 'purchase_date': datetime.datetime(2022, 9, 16, 0, 0)}\n",
            "{'_id': ObjectId('646f6526089726df60df1569'), 'customerid': 76, 'productid': 4, 'units': 121305, 'purchase_date': datetime.datetime(2023, 3, 8, 0, 0)}\n",
            "{'_id': ObjectId('646f6526089726df60df156a'), 'customerid': 16, 'productid': 10, 'units': 527950, 'purchase_date': datetime.datetime(2022, 7, 25, 0, 0)}\n",
            "{'_id': ObjectId('646f6526089726df60df156b'), 'customerid': 30, 'productid': 4, 'units': 822319, 'purchase_date': datetime.datetime(2022, 10, 12, 0, 0)}\n",
            "{'_id': ObjectId('646f6526089726df60df156c'), 'customerid': 5, 'productid': 5, 'units': 293270, 'purchase_date': datetime.datetime(2022, 8, 27, 0, 0)}\n",
            "{'_id': ObjectId('646f6526089726df60df156d'), 'customerid': 67, 'productid': 4, 'units': 593677, 'purchase_date': datetime.datetime(2022, 11, 11, 0, 0)}\n",
            "{'_id': ObjectId('646f6526089726df60df156e'), 'customerid': 8, 'productid': 6, 'units': 87762, 'purchase_date': datetime.datetime(2022, 9, 13, 0, 0)}\n",
            "{'_id': ObjectId('646f6526089726df60df156f'), 'customerid': 39, 'productid': 9, 'units': 877128, 'purchase_date': datetime.datetime(2023, 3, 26, 0, 0)}\n",
            "{'_id': ObjectId('646f6526089726df60df1570'), 'customerid': 5, 'productid': 2, 'units': 522513, 'purchase_date': datetime.datetime(2022, 11, 29, 0, 0)}\n",
            "{'_id': ObjectId('646f6526089726df60df1571'), 'customerid': 77, 'productid': 8, 'units': 590081, 'purchase_date': datetime.datetime(2022, 11, 5, 0, 0)}\n",
            "{'_id': ObjectId('646f6526089726df60df1572'), 'customerid': 91, 'productid': 6, 'units': 885474, 'purchase_date': datetime.datetime(2022, 12, 3, 0, 0)}\n",
            "{'_id': ObjectId('646f6526089726df60df1573'), 'customerid': 24, 'productid': 9, 'units': 72555000, 'purchase_date': datetime.datetime(2022, 9, 4, 0, 0)}\n",
            "{'_id': ObjectId('646f6526089726df60df1574'), 'customerid': 57, 'productid': 10, 'units': 145157, 'purchase_date': datetime.datetime(2022, 12, 23, 0, 0)}\n",
            "{'_id': ObjectId('646f6526089726df60df1575'), 'customerid': 96, 'productid': 2, 'units': 420658, 'purchase_date': datetime.datetime(2022, 10, 15, 0, 0)}\n",
            "{'_id': ObjectId('646f6526089726df60df1576'), 'customerid': 44, 'productid': 4, 'units': 386190, 'purchase_date': datetime.datetime(2022, 12, 5, 0, 0)}\n",
            "{'_id': ObjectId('646f6526089726df60df1577'), 'customerid': 6, 'productid': 4, 'units': 892128, 'purchase_date': datetime.datetime(2023, 2, 27, 0, 0)}\n",
            "{'_id': ObjectId('646f6526089726df60df1578'), 'customerid': 61, 'productid': 4, 'units': 819223, 'purchase_date': datetime.datetime(2023, 5, 10, 0, 0)}\n",
            "{'_id': ObjectId('646f6526089726df60df1579'), 'customerid': 30, 'productid': 9, 'units': 147950, 'purchase_date': datetime.datetime(2023, 3, 31, 0, 0)}\n",
            "{'_id': ObjectId('646f6526089726df60df157a'), 'customerid': 49, 'productid': 8, 'units': 607796, 'purchase_date': datetime.datetime(2023, 2, 17, 0, 0)}\n",
            "{'_id': ObjectId('646f6526089726df60df157b'), 'customerid': 17, 'productid': 10, 'units': 888316, 'purchase_date': datetime.datetime(2022, 10, 20, 0, 0)}\n",
            "{'_id': ObjectId('646f6526089726df60df157c'), 'customerid': 93, 'productid': 9, 'units': 859451, 'purchase_date': datetime.datetime(2023, 3, 23, 0, 0)}\n",
            "{'_id': ObjectId('646f6526089726df60df157d'), 'customerid': 80, 'productid': 9, 'units': 203681, 'purchase_date': datetime.datetime(2023, 1, 17, 0, 0)}\n",
            "{'_id': ObjectId('646f6526089726df60df157e'), 'customerid': 63, 'productid': 3, 'units': 257393, 'purchase_date': datetime.datetime(2023, 3, 26, 0, 0)}\n",
            "{'_id': ObjectId('646f6526089726df60df157f'), 'customerid': 40, 'productid': 1, 'units': 244803, 'purchase_date': datetime.datetime(2022, 8, 23, 0, 0)}\n",
            "{'_id': ObjectId('646f6526089726df60df1580'), 'customerid': 82, 'productid': 8, 'units': 22056, 'purchase_date': datetime.datetime(2022, 10, 19, 0, 0)}\n",
            "{'_id': ObjectId('646f6526089726df60df1581'), 'customerid': 18, 'productid': 4, 'units': 232902, 'purchase_date': datetime.datetime(2022, 9, 11, 0, 0)}\n",
            "{'_id': ObjectId('646f6526089726df60df1582'), 'customerid': 34, 'productid': 8, 'units': 134098, 'purchase_date': datetime.datetime(2022, 9, 17, 0, 0)}\n",
            "{'_id': ObjectId('646f6526089726df60df1583'), 'customerid': 77, 'productid': 3, 'units': 988287, 'purchase_date': datetime.datetime(2023, 4, 21, 0, 0)}\n",
            "{'_id': ObjectId('646f6526089726df60df1584'), 'customerid': 73, 'productid': 1, 'units': 467752, 'purchase_date': datetime.datetime(2023, 3, 25, 0, 0)}\n",
            "{'_id': ObjectId('646f6526089726df60df1585'), 'customerid': 69, 'productid': 8, 'units': 678900, 'purchase_date': datetime.datetime(2022, 6, 23, 0, 0)}\n",
            "{'_id': ObjectId('646f6526089726df60df1586'), 'customerid': 82, 'productid': 1, 'units': 979364, 'purchase_date': datetime.datetime(2023, 2, 28, 0, 0)}\n",
            "{'_id': ObjectId('646f6526089726df60df1587'), 'customerid': 3, 'productid': 7, 'units': 421482, 'purchase_date': datetime.datetime(2023, 3, 15, 0, 0)}\n",
            "{'_id': ObjectId('646f6526089726df60df1588'), 'customerid': 20, 'productid': 10, 'units': 134386, 'purchase_date': datetime.datetime(2022, 12, 26, 0, 0)}\n",
            "{'_id': ObjectId('646f6526089726df60df1589'), 'customerid': 76, 'productid': 10, 'units': 78785, 'purchase_date': datetime.datetime(2023, 1, 31, 0, 0)}\n",
            "{'_id': ObjectId('646f6526089726df60df158a'), 'customerid': 93, 'productid': 4, 'units': 836579, 'purchase_date': datetime.datetime(2022, 11, 16, 0, 0)}\n",
            "{'_id': ObjectId('646f6526089726df60df158b'), 'customerid': 62, 'productid': 9, 'units': 627300, 'purchase_date': datetime.datetime(2022, 9, 23, 0, 0)}\n",
            "{'_id': ObjectId('646f6526089726df60df158c'), 'customerid': 37, 'productid': 3, 'units': 510947000, 'purchase_date': datetime.datetime(2023, 3, 25, 0, 0)}\n",
            "{'_id': ObjectId('646f6526089726df60df158d'), 'customerid': 21, 'productid': 6, 'units': 751783, 'purchase_date': datetime.datetime(2022, 6, 14, 0, 0)}\n",
            "{'_id': ObjectId('646f6526089726df60df158e'), 'customerid': 41, 'productid': 6, 'units': 108192, 'purchase_date': datetime.datetime(2023, 4, 30, 0, 0)}\n",
            "{'_id': ObjectId('646f6526089726df60df158f'), 'customerid': 76, 'productid': 3, 'units': 183938, 'purchase_date': datetime.datetime(2022, 7, 29, 0, 0)}\n",
            "{'_id': ObjectId('646f6526089726df60df1590'), 'customerid': 5, 'productid': 3, 'units': 927008000, 'purchase_date': datetime.datetime(2023, 2, 8, 0, 0)}\n",
            "{'_id': ObjectId('646f6526089726df60df1591'), 'customerid': 91, 'productid': 2, 'units': 45983, 'purchase_date': datetime.datetime(2023, 4, 8, 0, 0)}\n",
            "{'_id': ObjectId('646f6526089726df60df1592'), 'customerid': 58, 'productid': 10, 'units': 636399, 'purchase_date': datetime.datetime(2023, 1, 19, 0, 0)}\n",
            "{'_id': ObjectId('646f6526089726df60df1593'), 'customerid': 98, 'productid': 3, 'units': 36284, 'purchase_date': datetime.datetime(2022, 6, 23, 0, 0)}\n",
            "{'_id': ObjectId('646f6526089726df60df1594'), 'customerid': 61, 'productid': 5, 'units': 925641, 'purchase_date': datetime.datetime(2022, 9, 20, 0, 0)}\n",
            "{'_id': ObjectId('646f6526089726df60df1595'), 'customerid': 39, 'productid': 1, 'units': 713469, 'purchase_date': datetime.datetime(2022, 8, 14, 0, 0)}\n",
            "{'_id': ObjectId('646f6526089726df60df1596'), 'customerid': 6, 'productid': 5, 'units': 409064, 'purchase_date': datetime.datetime(2023, 4, 5, 0, 0)}\n",
            "{'_id': ObjectId('646f6526089726df60df1597'), 'customerid': 78, 'productid': 9, 'units': 121395, 'purchase_date': datetime.datetime(2022, 6, 5, 0, 0)}\n",
            "{'_id': ObjectId('646f6526089726df60df1598'), 'customerid': 50, 'productid': 5, 'units': 83115, 'purchase_date': datetime.datetime(2023, 2, 14, 0, 0)}\n",
            "{'_id': ObjectId('646f6526089726df60df1599'), 'customerid': 79, 'productid': 4, 'units': 667821, 'purchase_date': datetime.datetime(2022, 10, 30, 0, 0)}\n",
            "{'_id': ObjectId('646f6526089726df60df159a'), 'customerid': 48, 'productid': 9, 'units': 32180, 'purchase_date': datetime.datetime(2022, 6, 11, 0, 0)}\n",
            "{'_id': ObjectId('646f6526089726df60df159b'), 'customerid': 63, 'productid': 6, 'units': 710856, 'purchase_date': datetime.datetime(2022, 7, 8, 0, 0)}\n",
            "{'_id': ObjectId('646f6526089726df60df159c'), 'customerid': 32, 'productid': 10, 'units': 113750, 'purchase_date': datetime.datetime(2023, 1, 29, 0, 0)}\n",
            "{'_id': ObjectId('646f6526089726df60df159d'), 'customerid': 45, 'productid': 2, 'units': 335183, 'purchase_date': datetime.datetime(2022, 12, 20, 0, 0)}\n",
            "{'_id': ObjectId('646f6526089726df60df159e'), 'customerid': 77, 'productid': 10, 'units': 752525, 'purchase_date': datetime.datetime(2023, 5, 11, 0, 0)}\n",
            "{'_id': ObjectId('646f6526089726df60df159f'), 'customerid': 87, 'productid': 6, 'units': 573326, 'purchase_date': datetime.datetime(2022, 12, 14, 0, 0)}\n",
            "{'_id': ObjectId('646f6526089726df60df15a0'), 'customerid': 68, 'productid': 8, 'units': 320079, 'purchase_date': datetime.datetime(2023, 2, 23, 0, 0)}\n",
            "{'_id': ObjectId('646f6526089726df60df15a1'), 'customerid': 9, 'productid': 2, 'units': 652015, 'purchase_date': datetime.datetime(2023, 3, 13, 0, 0)}\n",
            "{'_id': ObjectId('646f6526089726df60df15a2'), 'customerid': 45, 'productid': 6, 'units': 483874, 'purchase_date': datetime.datetime(2023, 2, 15, 0, 0)}\n",
            "{'_id': ObjectId('646f6526089726df60df15a3'), 'customerid': 45, 'productid': 2, 'units': 637098, 'purchase_date': datetime.datetime(2023, 5, 2, 0, 0)}\n",
            "{'_id': ObjectId('646f6526089726df60df15a4'), 'customerid': 43, 'productid': 8, 'units': 140359, 'purchase_date': datetime.datetime(2022, 12, 27, 0, 0)}\n",
            "{'_id': ObjectId('646f6526089726df60df15a5'), 'customerid': 27, 'productid': 1, 'units': 258033, 'purchase_date': datetime.datetime(2022, 12, 25, 0, 0)}\n",
            "{'_id': ObjectId('646f6526089726df60df15a6'), 'customerid': 93, 'productid': 6, 'units': 886562, 'purchase_date': datetime.datetime(2023, 1, 29, 0, 0)}\n",
            "{'_id': ObjectId('646f6526089726df60df15a7'), 'customerid': 39, 'productid': 8, 'units': 400684, 'purchase_date': datetime.datetime(2022, 8, 21, 0, 0)}\n",
            "{'_id': ObjectId('646f6526089726df60df15a8'), 'customerid': 76, 'productid': 6, 'units': 633777, 'purchase_date': datetime.datetime(2022, 5, 27, 0, 0)}\n",
            "{'_id': ObjectId('646f6526089726df60df15a9'), 'customerid': 43, 'productid': 5, 'units': 816579, 'purchase_date': datetime.datetime(2023, 1, 4, 0, 0)}\n",
            "{'_id': ObjectId('646f6526089726df60df15aa'), 'customerid': 16, 'productid': 9, 'units': 774538, 'purchase_date': datetime.datetime(2022, 10, 12, 0, 0)}\n",
            "{'_id': ObjectId('646f6526089726df60df15ab'), 'customerid': 29, 'productid': 3, 'units': 519947, 'purchase_date': datetime.datetime(2022, 8, 11, 0, 0)}\n",
            "{'_id': ObjectId('646f6526089726df60df15ac'), 'customerid': 92, 'productid': 5, 'units': 990750, 'purchase_date': datetime.datetime(2022, 12, 16, 0, 0)}\n",
            "{'_id': ObjectId('646f6526089726df60df15ad'), 'customerid': 54, 'productid': 3, 'units': 18703, 'purchase_date': datetime.datetime(2022, 10, 7, 0, 0)}\n",
            "{'_id': ObjectId('646f6526089726df60df15ae'), 'customerid': 52, 'productid': 8, 'units': 662862, 'purchase_date': datetime.datetime(2023, 1, 13, 0, 0)}\n",
            "{'_id': ObjectId('646f6526089726df60df15af'), 'customerid': 60, 'productid': 5, 'units': 845553, 'purchase_date': datetime.datetime(2022, 7, 31, 0, 0)}\n",
            "{'_id': ObjectId('646f6526089726df60df15b0'), 'customerid': 81, 'productid': 4, 'units': 786125, 'purchase_date': datetime.datetime(2022, 12, 11, 0, 0)}\n",
            "{'_id': ObjectId('646f6526089726df60df15b1'), 'customerid': 1, 'productid': 5, 'units': 844337, 'purchase_date': datetime.datetime(2022, 12, 12, 0, 0)}\n",
            "{'_id': ObjectId('646f6526089726df60df15b2'), 'customerid': 25, 'productid': 7, 'units': 375408, 'purchase_date': datetime.datetime(2022, 8, 26, 0, 0)}\n",
            "{'_id': ObjectId('646f6526089726df60df15b3'), 'customerid': 26, 'productid': 1, 'units': 677045, 'purchase_date': datetime.datetime(2023, 1, 11, 0, 0)}\n",
            "{'_id': ObjectId('646f6526089726df60df15b4'), 'customerid': 42, 'productid': 6, 'units': 640279, 'purchase_date': datetime.datetime(2023, 4, 3, 0, 0)}\n",
            "{'_id': ObjectId('646f6526089726df60df15b5'), 'customerid': 5, 'productid': 9, 'units': 508488, 'purchase_date': datetime.datetime(2023, 2, 20, 0, 0)}\n",
            "{'_id': ObjectId('646f6526089726df60df15b6'), 'customerid': 27, 'productid': 1, 'units': 761792, 'purchase_date': datetime.datetime(2023, 5, 8, 0, 0)}\n",
            "{'_id': ObjectId('646f6526089726df60df15b7'), 'customerid': 65, 'productid': 10, 'units': 540833, 'purchase_date': datetime.datetime(2022, 8, 17, 0, 0)}\n",
            "{'_id': ObjectId('646f6526089726df60df15b8'), 'customerid': 62, 'productid': 6, 'units': 963248, 'purchase_date': datetime.datetime(2022, 7, 22, 0, 0)}\n",
            "{'_id': ObjectId('646f6526089726df60df15b9'), 'customerid': 70, 'productid': 9, 'units': 565016, 'purchase_date': datetime.datetime(2022, 9, 9, 0, 0)}\n",
            "{'_id': ObjectId('646f6526089726df60df15ba'), 'customerid': 98, 'productid': 1, 'units': 371184000, 'purchase_date': datetime.datetime(2023, 3, 21, 0, 0)}\n",
            "{'_id': ObjectId('646f6526089726df60df15bb'), 'customerid': 83, 'productid': 8, 'units': 625926000, 'purchase_date': datetime.datetime(2022, 7, 23, 0, 0)}\n",
            "{'_id': ObjectId('646f6526089726df60df15bc'), 'customerid': 71, 'productid': 1, 'units': 257494, 'purchase_date': datetime.datetime(2023, 1, 4, 0, 0)}\n",
            "{'_id': ObjectId('646f6526089726df60df15bd'), 'customerid': 30, 'productid': 1, 'units': 371422, 'purchase_date': datetime.datetime(2022, 12, 3, 0, 0)}\n",
            "{'_id': ObjectId('646f6526089726df60df15be'), 'customerid': 1, 'productid': 7, 'units': 311157, 'purchase_date': datetime.datetime(2023, 4, 7, 0, 0)}\n",
            "{'_id': ObjectId('646f6526089726df60df15bf'), 'customerid': 94, 'productid': 6, 'units': 248052, 'purchase_date': datetime.datetime(2023, 5, 3, 0, 0)}\n",
            "{'_id': ObjectId('646f6526089726df60df15c0'), 'customerid': 78, 'productid': 10, 'units': 750778000, 'purchase_date': datetime.datetime(2023, 4, 7, 0, 0)}\n",
            "{'_id': ObjectId('646f6526089726df60df15c1'), 'customerid': 53, 'productid': 3, 'units': 210925, 'purchase_date': datetime.datetime(2023, 4, 15, 0, 0)}\n",
            "{'_id': ObjectId('646f6526089726df60df15c2'), 'customerid': 95, 'productid': 4, 'units': 157374, 'purchase_date': datetime.datetime(2022, 7, 1, 0, 0)}\n",
            "{'_id': ObjectId('646f6526089726df60df15c3'), 'customerid': 96, 'productid': 9, 'units': 826764, 'purchase_date': datetime.datetime(2022, 8, 9, 0, 0)}\n",
            "{'_id': ObjectId('646f6526089726df60df15c4'), 'customerid': 73, 'productid': 9, 'units': 450134, 'purchase_date': datetime.datetime(2023, 3, 25, 0, 0)}\n",
            "{'_id': ObjectId('646f6526089726df60df15c5'), 'customerid': 79, 'productid': 2, 'units': 59755, 'purchase_date': datetime.datetime(2023, 3, 22, 0, 0)}\n",
            "{'_id': ObjectId('646f6526089726df60df15c6'), 'customerid': 23, 'productid': 6, 'units': 373785, 'purchase_date': datetime.datetime(2023, 1, 31, 0, 0)}\n",
            "{'_id': ObjectId('646f6526089726df60df15c7'), 'customerid': 9, 'productid': 10, 'units': 694172, 'purchase_date': datetime.datetime(2023, 4, 3, 0, 0)}\n",
            "{'_id': ObjectId('646f6526089726df60df15c8'), 'customerid': 46, 'productid': 8, 'units': 579069, 'purchase_date': datetime.datetime(2022, 12, 30, 0, 0)}\n",
            "{'_id': ObjectId('646f6526089726df60df15c9'), 'customerid': 93, 'productid': 5, 'units': 900403, 'purchase_date': datetime.datetime(2023, 4, 22, 0, 0)}\n",
            "{'_id': ObjectId('646f6526089726df60df15ca'), 'customerid': 85, 'productid': 10, 'units': 330132, 'purchase_date': datetime.datetime(2023, 3, 12, 0, 0)}\n",
            "{'_id': ObjectId('646f6526089726df60df15cb'), 'customerid': 25, 'productid': 2, 'units': 917353, 'purchase_date': datetime.datetime(2022, 9, 28, 0, 0)}\n",
            "{'_id': ObjectId('646f6526089726df60df15cc'), 'customerid': 81, 'productid': 5, 'units': 889904, 'purchase_date': datetime.datetime(2023, 4, 8, 0, 0)}\n",
            "{'_id': ObjectId('646f6526089726df60df15cd'), 'customerid': 84, 'productid': 9, 'units': 244409, 'purchase_date': datetime.datetime(2022, 7, 24, 0, 0)}\n",
            "{'_id': ObjectId('646f6526089726df60df15ce'), 'customerid': 77, 'productid': 3, 'units': 990152, 'purchase_date': datetime.datetime(2022, 10, 20, 0, 0)}\n",
            "{'_id': ObjectId('646f6526089726df60df15cf'), 'customerid': 51, 'productid': 10, 'units': 241190, 'purchase_date': datetime.datetime(2023, 2, 15, 0, 0)}\n",
            "{'_id': ObjectId('646f6526089726df60df15d0'), 'customerid': 25, 'productid': 7, 'units': 232972, 'purchase_date': datetime.datetime(2023, 4, 14, 0, 0)}\n",
            "{'_id': ObjectId('646f6526089726df60df15d1'), 'customerid': 61, 'productid': 8, 'units': 866679, 'purchase_date': datetime.datetime(2022, 7, 16, 0, 0)}\n",
            "{'_id': ObjectId('646f6526089726df60df15d2'), 'customerid': 3, 'productid': 3, 'units': 980339, 'purchase_date': datetime.datetime(2022, 10, 15, 0, 0)}\n",
            "{'_id': ObjectId('646f6526089726df60df15d3'), 'customerid': 66, 'productid': 1, 'units': 573262, 'purchase_date': datetime.datetime(2023, 4, 28, 0, 0)}\n",
            "{'_id': ObjectId('646f6526089726df60df15d4'), 'customerid': 67, 'productid': 10, 'units': 777005000, 'purchase_date': datetime.datetime(2023, 1, 25, 0, 0)}\n",
            "{'_id': ObjectId('646f6526089726df60df15d5'), 'customerid': 41, 'productid': 3, 'units': 444143, 'purchase_date': datetime.datetime(2023, 5, 12, 0, 0)}\n",
            "{'_id': ObjectId('646f6526089726df60df15d6'), 'customerid': 47, 'productid': 7, 'units': 817454, 'purchase_date': datetime.datetime(2022, 12, 1, 0, 0)}\n",
            "{'_id': ObjectId('646f6526089726df60df15d7'), 'customerid': 72, 'productid': 9, 'units': 864410, 'purchase_date': datetime.datetime(2022, 12, 11, 0, 0)}\n",
            "{'_id': ObjectId('646f6526089726df60df15d8'), 'customerid': 7, 'productid': 7, 'units': 571206, 'purchase_date': datetime.datetime(2023, 5, 7, 0, 0)}\n",
            "{'_id': ObjectId('646f6526089726df60df15d9'), 'customerid': 72, 'productid': 9, 'units': 817109, 'purchase_date': datetime.datetime(2023, 1, 21, 0, 0)}\n",
            "{'_id': ObjectId('646f6526089726df60df15da'), 'customerid': 68, 'productid': 9, 'units': 482736, 'purchase_date': datetime.datetime(2022, 10, 17, 0, 0)}\n",
            "{'_id': ObjectId('646f6526089726df60df15db'), 'customerid': 57, 'productid': 10, 'units': 622226, 'purchase_date': datetime.datetime(2022, 10, 17, 0, 0)}\n",
            "{'_id': ObjectId('646f6526089726df60df15dc'), 'customerid': 89, 'productid': 7, 'units': 704399, 'purchase_date': datetime.datetime(2022, 6, 17, 0, 0)}\n",
            "{'_id': ObjectId('646f6526089726df60df15dd'), 'customerid': 31, 'productid': 4, 'units': 309532, 'purchase_date': datetime.datetime(2023, 5, 16, 0, 0)}\n",
            "{'_id': ObjectId('646f6526089726df60df15de'), 'customerid': 70, 'productid': 6, 'units': 919742, 'purchase_date': datetime.datetime(2022, 7, 30, 0, 0)}\n",
            "{'_id': ObjectId('646f6526089726df60df15df'), 'customerid': 58, 'productid': 7, 'units': 136942, 'purchase_date': datetime.datetime(2022, 5, 29, 0, 0)}\n",
            "{'_id': ObjectId('646f6526089726df60df15e0'), 'customerid': 1, 'productid': 2, 'units': 195887, 'purchase_date': datetime.datetime(2023, 4, 18, 0, 0)}\n",
            "{'_id': ObjectId('646f6526089726df60df15e1'), 'customerid': 88, 'productid': 8, 'units': 816677, 'purchase_date': datetime.datetime(2023, 4, 23, 0, 0)}\n",
            "{'_id': ObjectId('646f6526089726df60df15e2'), 'customerid': 23, 'productid': 6, 'units': 204280, 'purchase_date': datetime.datetime(2023, 1, 26, 0, 0)}\n",
            "{'_id': ObjectId('646f6526089726df60df15e3'), 'customerid': 34, 'productid': 10, 'units': 296163, 'purchase_date': datetime.datetime(2022, 9, 27, 0, 0)}\n",
            "{'_id': ObjectId('646f6526089726df60df15e4'), 'customerid': 24, 'productid': 2, 'units': 848457, 'purchase_date': datetime.datetime(2022, 7, 9, 0, 0)}\n",
            "{'_id': ObjectId('646f6526089726df60df15e5'), 'customerid': 4, 'productid': 2, 'units': 91372, 'purchase_date': datetime.datetime(2023, 3, 28, 0, 0)}\n",
            "{'_id': ObjectId('646f6526089726df60df15e6'), 'customerid': 71, 'productid': 2, 'units': 933218, 'purchase_date': datetime.datetime(2022, 7, 24, 0, 0)}\n",
            "{'_id': ObjectId('646f6526089726df60df15e7'), 'customerid': 62, 'productid': 10, 'units': 619015, 'purchase_date': datetime.datetime(2022, 11, 9, 0, 0)}\n",
            "{'_id': ObjectId('646f6526089726df60df15e8'), 'customerid': 69, 'productid': 6, 'units': 59146, 'purchase_date': datetime.datetime(2022, 10, 14, 0, 0)}\n",
            "{'_id': ObjectId('646f6526089726df60df15e9'), 'customerid': 57, 'productid': 3, 'units': 614561, 'purchase_date': datetime.datetime(2023, 1, 25, 0, 0)}\n",
            "{'_id': ObjectId('646f6526089726df60df15ea'), 'customerid': 21, 'productid': 3, 'units': 499238, 'purchase_date': datetime.datetime(2022, 7, 31, 0, 0)}\n",
            "{'_id': ObjectId('646f6526089726df60df15eb'), 'customerid': 97, 'productid': 5, 'units': 843267, 'purchase_date': datetime.datetime(2023, 4, 18, 0, 0)}\n",
            "{'_id': ObjectId('646f6526089726df60df15ec'), 'customerid': 25, 'productid': 5, 'units': 496504, 'purchase_date': datetime.datetime(2023, 2, 14, 0, 0)}\n",
            "{'_id': ObjectId('646f6526089726df60df15ed'), 'customerid': 44, 'productid': 3, 'units': 676039, 'purchase_date': datetime.datetime(2022, 12, 14, 0, 0)}\n",
            "{'_id': ObjectId('646f6526089726df60df15ee'), 'customerid': 93, 'productid': 4, 'units': 500780, 'purchase_date': datetime.datetime(2023, 1, 8, 0, 0)}\n",
            "{'_id': ObjectId('646f6526089726df60df15ef'), 'customerid': 57, 'productid': 3, 'units': 389804, 'purchase_date': datetime.datetime(2022, 7, 13, 0, 0)}\n",
            "{'_id': ObjectId('646f6526089726df60df15f0'), 'customerid': 4, 'productid': 5, 'units': 153459, 'purchase_date': datetime.datetime(2022, 9, 24, 0, 0)}\n",
            "{'_id': ObjectId('646f6526089726df60df15f1'), 'customerid': 95, 'productid': 6, 'units': 229807, 'purchase_date': datetime.datetime(2022, 6, 4, 0, 0)}\n",
            "{'_id': ObjectId('646f6526089726df60df15f2'), 'customerid': 82, 'productid': 10, 'units': 351709000, 'purchase_date': datetime.datetime(2023, 3, 8, 0, 0)}\n",
            "{'_id': ObjectId('646f6526089726df60df15f3'), 'customerid': 64, 'productid': 1, 'units': 677514, 'purchase_date': datetime.datetime(2022, 9, 29, 0, 0)}\n",
            "{'_id': ObjectId('646f6526089726df60df15f4'), 'customerid': 72, 'productid': 5, 'units': 817130, 'purchase_date': datetime.datetime(2022, 8, 14, 0, 0)}\n",
            "{'_id': ObjectId('646f6526089726df60df15f5'), 'customerid': 60, 'productid': 10, 'units': 740992, 'purchase_date': datetime.datetime(2022, 9, 21, 0, 0)}\n",
            "{'_id': ObjectId('646f6526089726df60df15f6'), 'customerid': 18, 'productid': 3, 'units': 972461, 'purchase_date': datetime.datetime(2022, 12, 8, 0, 0)}\n",
            "{'_id': ObjectId('646f6526089726df60df15f7'), 'customerid': 86, 'productid': 10, 'units': 983385000, 'purchase_date': datetime.datetime(2023, 4, 13, 0, 0)}\n",
            "{'_id': ObjectId('646f6526089726df60df15f8'), 'customerid': 51, 'productid': 7, 'units': 182236, 'purchase_date': datetime.datetime(2022, 7, 19, 0, 0)}\n",
            "{'_id': ObjectId('646f6526089726df60df15f9'), 'customerid': 21, 'productid': 9, 'units': 146210, 'purchase_date': datetime.datetime(2022, 7, 27, 0, 0)}\n",
            "{'_id': ObjectId('646f6526089726df60df15fa'), 'customerid': 20, 'productid': 7, 'units': 593615, 'purchase_date': datetime.datetime(2023, 2, 7, 0, 0)}\n",
            "{'_id': ObjectId('646f6526089726df60df15fb'), 'customerid': 53, 'productid': 6, 'units': 848857, 'purchase_date': datetime.datetime(2022, 10, 15, 0, 0)}\n",
            "{'_id': ObjectId('646f6526089726df60df15fc'), 'customerid': 20, 'productid': 3, 'units': 382948, 'purchase_date': datetime.datetime(2023, 3, 15, 0, 0)}\n",
            "{'_id': ObjectId('646f6526089726df60df15fd'), 'customerid': 14, 'productid': 8, 'units': 468831, 'purchase_date': datetime.datetime(2022, 8, 12, 0, 0)}\n",
            "{'_id': ObjectId('646f6526089726df60df15fe'), 'customerid': 43, 'productid': 1, 'units': 368172, 'purchase_date': datetime.datetime(2022, 7, 29, 0, 0)}\n",
            "{'_id': ObjectId('646f6526089726df60df15ff'), 'customerid': 61, 'productid': 8, 'units': 687280, 'purchase_date': datetime.datetime(2022, 12, 1, 0, 0)}\n",
            "{'_id': ObjectId('646f6526089726df60df1600'), 'customerid': 16, 'productid': 3, 'units': 255606, 'purchase_date': datetime.datetime(2023, 3, 15, 0, 0)}\n",
            "{'_id': ObjectId('646f6526089726df60df1601'), 'customerid': 29, 'productid': 2, 'units': 583453, 'purchase_date': datetime.datetime(2023, 4, 4, 0, 0)}\n",
            "{'_id': ObjectId('646f6526089726df60df1602'), 'customerid': 87, 'productid': 9, 'units': 525339, 'purchase_date': datetime.datetime(2023, 3, 27, 0, 0)}\n",
            "{'_id': ObjectId('646f6526089726df60df1603'), 'customerid': 48, 'productid': 8, 'units': 114572, 'purchase_date': datetime.datetime(2022, 8, 30, 0, 0)}\n",
            "{'_id': ObjectId('646f6526089726df60df1604'), 'customerid': 62, 'productid': 9, 'units': 634393, 'purchase_date': datetime.datetime(2022, 10, 30, 0, 0)}\n",
            "{'_id': ObjectId('646f6526089726df60df1605'), 'customerid': 68, 'productid': 5, 'units': 185383, 'purchase_date': datetime.datetime(2022, 11, 24, 0, 0)}\n",
            "{'_id': ObjectId('646f6526089726df60df1606'), 'customerid': 27, 'productid': 6, 'units': 235902, 'purchase_date': datetime.datetime(2023, 1, 31, 0, 0)}\n",
            "{'_id': ObjectId('646f6526089726df60df1607'), 'customerid': 31, 'productid': 10, 'units': 424166, 'purchase_date': datetime.datetime(2022, 12, 29, 0, 0)}\n",
            "{'_id': ObjectId('646f6526089726df60df1608'), 'customerid': 91, 'productid': 6, 'units': 992718, 'purchase_date': datetime.datetime(2022, 6, 7, 0, 0)}\n",
            "{'_id': ObjectId('646f6526089726df60df1609'), 'customerid': 13, 'productid': 7, 'units': 267406, 'purchase_date': datetime.datetime(2022, 6, 10, 0, 0)}\n",
            "{'_id': ObjectId('646f6526089726df60df160a'), 'customerid': 51, 'productid': 4, 'units': 180669, 'purchase_date': datetime.datetime(2022, 8, 21, 0, 0)}\n",
            "{'_id': ObjectId('646f6526089726df60df160b'), 'customerid': 39, 'productid': 2, 'units': 851286, 'purchase_date': datetime.datetime(2022, 8, 31, 0, 0)}\n",
            "{'_id': ObjectId('646f6526089726df60df160c'), 'customerid': 10, 'productid': 10, 'units': 252567, 'purchase_date': datetime.datetime(2022, 11, 24, 0, 0)}\n",
            "{'_id': ObjectId('646f6526089726df60df160d'), 'customerid': 15, 'productid': 2, 'units': 518310, 'purchase_date': datetime.datetime(2022, 9, 8, 0, 0)}\n",
            "{'_id': ObjectId('646f6526089726df60df160e'), 'customerid': 44, 'productid': 2, 'units': 524990000, 'purchase_date': datetime.datetime(2022, 12, 14, 0, 0)}\n",
            "{'_id': ObjectId('646f6526089726df60df160f'), 'customerid': 3, 'productid': 6, 'units': 799227, 'purchase_date': datetime.datetime(2023, 5, 4, 0, 0)}\n",
            "{'_id': ObjectId('646f6526089726df60df1610'), 'customerid': 85, 'productid': 10, 'units': 170573, 'purchase_date': datetime.datetime(2022, 11, 23, 0, 0)}\n",
            "{'_id': ObjectId('646f6526089726df60df1611'), 'customerid': 47, 'productid': 1, 'units': 554249, 'purchase_date': datetime.datetime(2023, 2, 8, 0, 0)}\n",
            "{'_id': ObjectId('646f6526089726df60df1612'), 'customerid': 11, 'productid': 9, 'units': 952671, 'purchase_date': datetime.datetime(2023, 5, 17, 0, 0)}\n",
            "{'_id': ObjectId('646f6526089726df60df1613'), 'customerid': 39, 'productid': 6, 'units': 907268, 'purchase_date': datetime.datetime(2022, 7, 11, 0, 0)}\n",
            "{'_id': ObjectId('646f6526089726df60df1614'), 'customerid': 11, 'productid': 9, 'units': 934960000, 'purchase_date': datetime.datetime(2022, 12, 16, 0, 0)}\n",
            "{'_id': ObjectId('646f6526089726df60df1615'), 'customerid': 23, 'productid': 9, 'units': 854379, 'purchase_date': datetime.datetime(2022, 6, 30, 0, 0)}\n",
            "{'_id': ObjectId('646f6526089726df60df1616'), 'customerid': 85, 'productid': 4, 'units': 591166, 'purchase_date': datetime.datetime(2022, 7, 17, 0, 0)}\n",
            "{'_id': ObjectId('646f6526089726df60df1617'), 'customerid': 90, 'productid': 10, 'units': 561836, 'purchase_date': datetime.datetime(2022, 7, 27, 0, 0)}\n",
            "{'_id': ObjectId('646f6526089726df60df1618'), 'customerid': 83, 'productid': 8, 'units': 978051, 'purchase_date': datetime.datetime(2023, 3, 21, 0, 0)}\n",
            "{'_id': ObjectId('646f6526089726df60df1619'), 'customerid': 41, 'productid': 6, 'units': 449196, 'purchase_date': datetime.datetime(2023, 2, 27, 0, 0)}\n",
            "{'_id': ObjectId('646f6526089726df60df161a'), 'customerid': 68, 'productid': 5, 'units': 125577, 'purchase_date': datetime.datetime(2023, 3, 18, 0, 0)}\n",
            "{'_id': ObjectId('646f6526089726df60df161b'), 'customerid': 98, 'productid': 5, 'units': 312502, 'purchase_date': datetime.datetime(2023, 3, 30, 0, 0)}\n",
            "{'_id': ObjectId('646f6526089726df60df161c'), 'customerid': 1, 'productid': 10, 'units': 955711, 'purchase_date': datetime.datetime(2023, 4, 9, 0, 0)}\n",
            "{'_id': ObjectId('646f6526089726df60df161d'), 'customerid': 81, 'productid': 1, 'units': 985796, 'purchase_date': datetime.datetime(2022, 11, 13, 0, 0)}\n",
            "{'_id': ObjectId('646f6526089726df60df161e'), 'customerid': 30, 'productid': 3, 'units': 470382, 'purchase_date': datetime.datetime(2023, 4, 25, 0, 0)}\n",
            "{'_id': ObjectId('646f6526089726df60df161f'), 'customerid': 90, 'productid': 9, 'units': 387093, 'purchase_date': datetime.datetime(2022, 11, 29, 0, 0)}\n",
            "{'_id': ObjectId('646f6526089726df60df1620'), 'customerid': 34, 'productid': 5, 'units': 490677000, 'purchase_date': datetime.datetime(2022, 11, 30, 0, 0)}\n",
            "{'_id': ObjectId('646f6526089726df60df1621'), 'customerid': 45, 'productid': 7, 'units': 329055, 'purchase_date': datetime.datetime(2022, 9, 10, 0, 0)}\n",
            "{'_id': ObjectId('646f6526089726df60df1622'), 'customerid': 57, 'productid': 6, 'units': 457062, 'purchase_date': datetime.datetime(2023, 3, 21, 0, 0)}\n",
            "{'_id': ObjectId('646f6526089726df60df1623'), 'customerid': 49, 'productid': 5, 'units': 634005, 'purchase_date': datetime.datetime(2023, 2, 28, 0, 0)}\n",
            "{'_id': ObjectId('646f6526089726df60df1624'), 'customerid': 37, 'productid': 10, 'units': 930860, 'purchase_date': datetime.datetime(2023, 3, 29, 0, 0)}\n",
            "{'_id': ObjectId('646f6526089726df60df1625'), 'customerid': 23, 'productid': 6, 'units': 519933, 'purchase_date': datetime.datetime(2022, 7, 5, 0, 0)}\n",
            "{'_id': ObjectId('646f6526089726df60df1626'), 'customerid': 34, 'productid': 5, 'units': 788308, 'purchase_date': datetime.datetime(2023, 1, 4, 0, 0)}\n",
            "{'_id': ObjectId('646f6526089726df60df1627'), 'customerid': 73, 'productid': 9, 'units': 886676, 'purchase_date': datetime.datetime(2022, 7, 4, 0, 0)}\n",
            "{'_id': ObjectId('646f6526089726df60df1628'), 'customerid': 33, 'productid': 9, 'units': 795006, 'purchase_date': datetime.datetime(2023, 5, 12, 0, 0)}\n",
            "{'_id': ObjectId('646f6526089726df60df1629'), 'customerid': 21, 'productid': 5, 'units': 125915000, 'purchase_date': datetime.datetime(2023, 4, 18, 0, 0)}\n",
            "{'_id': ObjectId('646f6526089726df60df162a'), 'customerid': 82, 'productid': 6, 'units': 708669, 'purchase_date': datetime.datetime(2023, 3, 1, 0, 0)}\n",
            "{'_id': ObjectId('646f6526089726df60df162b'), 'customerid': 49, 'productid': 1, 'units': 625740, 'purchase_date': datetime.datetime(2023, 2, 11, 0, 0)}\n",
            "{'_id': ObjectId('646f6526089726df60df162c'), 'customerid': 45, 'productid': 9, 'units': 716682, 'purchase_date': datetime.datetime(2022, 9, 21, 0, 0)}\n",
            "{'_id': ObjectId('646f6526089726df60df162d'), 'customerid': 100, 'productid': 7, 'units': 639373, 'purchase_date': datetime.datetime(2022, 10, 25, 0, 0)}\n",
            "{'_id': ObjectId('646f6526089726df60df162e'), 'customerid': 75, 'productid': 9, 'units': 970731, 'purchase_date': datetime.datetime(2023, 1, 18, 0, 0)}\n",
            "{'_id': ObjectId('646f6526089726df60df162f'), 'customerid': 3, 'productid': 2, 'units': 189119, 'purchase_date': datetime.datetime(2022, 10, 15, 0, 0)}\n",
            "{'_id': ObjectId('646f6526089726df60df1630'), 'customerid': 99, 'productid': 1, 'units': 641320, 'purchase_date': datetime.datetime(2022, 7, 14, 0, 0)}\n",
            "{'_id': ObjectId('646f6526089726df60df1631'), 'customerid': 94, 'productid': 8, 'units': 807466000, 'purchase_date': datetime.datetime(2023, 2, 18, 0, 0)}\n",
            "{'_id': ObjectId('646f6526089726df60df1632'), 'customerid': 72, 'productid': 1, 'units': 770072, 'purchase_date': datetime.datetime(2022, 5, 27, 0, 0)}\n",
            "{'_id': ObjectId('646f6526089726df60df1633'), 'customerid': 47, 'productid': 1, 'units': 377327, 'purchase_date': datetime.datetime(2023, 1, 14, 0, 0)}\n",
            "{'_id': ObjectId('646f6526089726df60df1634'), 'customerid': 92, 'productid': 4, 'units': 583806, 'purchase_date': datetime.datetime(2022, 7, 3, 0, 0)}\n",
            "{'_id': ObjectId('646f6526089726df60df1635'), 'customerid': 79, 'productid': 4, 'units': 570237, 'purchase_date': datetime.datetime(2022, 11, 13, 0, 0)}\n",
            "{'_id': ObjectId('646f6526089726df60df1636'), 'customerid': 32, 'productid': 4, 'units': 305699, 'purchase_date': datetime.datetime(2022, 8, 25, 0, 0)}\n",
            "{'_id': ObjectId('646f6526089726df60df1637'), 'customerid': 15, 'productid': 6, 'units': 796731, 'purchase_date': datetime.datetime(2022, 7, 3, 0, 0)}\n",
            "{'_id': ObjectId('646f6526089726df60df1638'), 'customerid': 90, 'productid': 9, 'units': 688790, 'purchase_date': datetime.datetime(2022, 10, 12, 0, 0)}\n",
            "{'_id': ObjectId('646f6526089726df60df1639'), 'customerid': 86, 'productid': 7, 'units': 829395, 'purchase_date': datetime.datetime(2023, 4, 18, 0, 0)}\n",
            "{'_id': ObjectId('646f6526089726df60df163a'), 'customerid': 17, 'productid': 4, 'units': 933914000, 'purchase_date': datetime.datetime(2022, 8, 14, 0, 0)}\n",
            "{'_id': ObjectId('646f6526089726df60df163b'), 'customerid': 20, 'productid': 10, 'units': 910420, 'purchase_date': datetime.datetime(2023, 2, 24, 0, 0)}\n",
            "{'_id': ObjectId('646f6526089726df60df163c'), 'customerid': 9, 'productid': 2, 'units': 35657, 'purchase_date': datetime.datetime(2023, 2, 27, 0, 0)}\n",
            "{'_id': ObjectId('646f6526089726df60df163d'), 'customerid': 80, 'productid': 3, 'units': 969765, 'purchase_date': datetime.datetime(2023, 3, 30, 0, 0)}\n",
            "{'_id': ObjectId('646f6526089726df60df163e'), 'customerid': 42, 'productid': 1, 'units': 994457000, 'purchase_date': datetime.datetime(2023, 3, 6, 0, 0)}\n",
            "{'_id': ObjectId('646f6526089726df60df163f'), 'customerid': 11, 'productid': 7, 'units': 720978, 'purchase_date': datetime.datetime(2022, 8, 24, 0, 0)}\n",
            "{'_id': ObjectId('646f6526089726df60df1640'), 'customerid': 27, 'productid': 6, 'units': 838553000, 'purchase_date': datetime.datetime(2022, 10, 27, 0, 0)}\n",
            "{'_id': ObjectId('646f6526089726df60df1641'), 'customerid': 67, 'productid': 3, 'units': 261358, 'purchase_date': datetime.datetime(2022, 7, 24, 0, 0)}\n",
            "{'_id': ObjectId('646f6526089726df60df1642'), 'customerid': 56, 'productid': 6, 'units': 809346, 'purchase_date': datetime.datetime(2022, 9, 19, 0, 0)}\n",
            "{'_id': ObjectId('646f6526089726df60df1643'), 'customerid': 88, 'productid': 10, 'units': 194247, 'purchase_date': datetime.datetime(2022, 11, 12, 0, 0)}\n",
            "{'_id': ObjectId('646f6526089726df60df1644'), 'customerid': 55, 'productid': 6, 'units': 852884, 'purchase_date': datetime.datetime(2022, 12, 26, 0, 0)}\n",
            "{'_id': ObjectId('646f6526089726df60df1645'), 'customerid': 79, 'productid': 7, 'units': 997899, 'purchase_date': datetime.datetime(2023, 1, 3, 0, 0)}\n",
            "{'_id': ObjectId('646f6526089726df60df1646'), 'customerid': 56, 'productid': 6, 'units': 869334, 'purchase_date': datetime.datetime(2023, 5, 14, 0, 0)}\n",
            "{'_id': ObjectId('646f6526089726df60df1647'), 'customerid': 13, 'productid': 3, 'units': 616067, 'purchase_date': datetime.datetime(2022, 8, 31, 0, 0)}\n",
            "{'_id': ObjectId('646f6526089726df60df1648'), 'customerid': 12, 'productid': 8, 'units': 672306, 'purchase_date': datetime.datetime(2022, 12, 26, 0, 0)}\n",
            "{'_id': ObjectId('646f6526089726df60df1649'), 'customerid': 94, 'productid': 10, 'units': 418297, 'purchase_date': datetime.datetime(2022, 7, 14, 0, 0)}\n",
            "{'_id': ObjectId('646f6526089726df60df164a'), 'customerid': 15, 'productid': 2, 'units': 936123, 'purchase_date': datetime.datetime(2022, 8, 20, 0, 0)}\n",
            "{'_id': ObjectId('646f6526089726df60df164b'), 'customerid': 47, 'productid': 10, 'units': 491952, 'purchase_date': datetime.datetime(2022, 11, 6, 0, 0)}\n",
            "{'_id': ObjectId('646f6526089726df60df164c'), 'customerid': 92, 'productid': 9, 'units': 866452, 'purchase_date': datetime.datetime(2023, 3, 28, 0, 0)}\n",
            "{'_id': ObjectId('646f6526089726df60df164d'), 'customerid': 49, 'productid': 1, 'units': 828087, 'purchase_date': datetime.datetime(2023, 4, 18, 0, 0)}\n",
            "{'_id': ObjectId('646f6526089726df60df164e'), 'customerid': 34, 'productid': 4, 'units': 983143, 'purchase_date': datetime.datetime(2022, 7, 19, 0, 0)}\n",
            "{'_id': ObjectId('646f6526089726df60df164f'), 'customerid': 58, 'productid': 4, 'units': 675192, 'purchase_date': datetime.datetime(2023, 1, 28, 0, 0)}\n",
            "{'_id': ObjectId('646f6526089726df60df1650'), 'customerid': 9, 'productid': 9, 'units': 984295, 'purchase_date': datetime.datetime(2022, 6, 3, 0, 0)}\n",
            "{'_id': ObjectId('646f6526089726df60df1651'), 'customerid': 40, 'productid': 4, 'units': 158539, 'purchase_date': datetime.datetime(2022, 9, 16, 0, 0)}\n",
            "{'_id': ObjectId('646f6526089726df60df1652'), 'customerid': 60, 'productid': 8, 'units': 894315, 'purchase_date': datetime.datetime(2023, 4, 26, 0, 0)}\n",
            "{'_id': ObjectId('646f6526089726df60df1653'), 'customerid': 22, 'productid': 6, 'units': 782830, 'purchase_date': datetime.datetime(2022, 8, 24, 0, 0)}\n",
            "{'_id': ObjectId('646f6526089726df60df1654'), 'customerid': 19, 'productid': 5, 'units': 67956, 'purchase_date': datetime.datetime(2022, 12, 14, 0, 0)}\n",
            "{'_id': ObjectId('646f6526089726df60df1655'), 'customerid': 54, 'productid': 8, 'units': 353864000, 'purchase_date': datetime.datetime(2022, 12, 5, 0, 0)}\n",
            "{'_id': ObjectId('646f6526089726df60df1656'), 'customerid': 6, 'productid': 9, 'units': 462092, 'purchase_date': datetime.datetime(2023, 2, 15, 0, 0)}\n",
            "{'_id': ObjectId('646f6526089726df60df1657'), 'customerid': 29, 'productid': 6, 'units': 469525, 'purchase_date': datetime.datetime(2022, 9, 17, 0, 0)}\n",
            "{'_id': ObjectId('646f6526089726df60df1658'), 'customerid': 8, 'productid': 7, 'units': 192000, 'purchase_date': datetime.datetime(2022, 10, 13, 0, 0)}\n",
            "{'_id': ObjectId('646f6526089726df60df1659'), 'customerid': 69, 'productid': 2, 'units': 391292, 'purchase_date': datetime.datetime(2023, 1, 13, 0, 0)}\n",
            "{'_id': ObjectId('646f6526089726df60df165a'), 'customerid': 41, 'productid': 8, 'units': 607059, 'purchase_date': datetime.datetime(2022, 10, 16, 0, 0)}\n",
            "{'_id': ObjectId('646f6526089726df60df165b'), 'customerid': 70, 'productid': 8, 'units': 202170, 'purchase_date': datetime.datetime(2022, 11, 1, 0, 0)}\n",
            "{'_id': ObjectId('646f6526089726df60df165c'), 'customerid': 3, 'productid': 1, 'units': 508877, 'purchase_date': datetime.datetime(2022, 11, 23, 0, 0)}\n",
            "{'_id': ObjectId('646f6526089726df60df165d'), 'customerid': 77, 'productid': 5, 'units': 46214, 'purchase_date': datetime.datetime(2023, 2, 26, 0, 0)}\n",
            "{'_id': ObjectId('646f6526089726df60df165e'), 'customerid': 83, 'productid': 3, 'units': 778895, 'purchase_date': datetime.datetime(2022, 10, 29, 0, 0)}\n",
            "{'_id': ObjectId('646f6526089726df60df165f'), 'customerid': 23, 'productid': 10, 'units': 46662, 'purchase_date': datetime.datetime(2023, 4, 24, 0, 0)}\n",
            "{'_id': ObjectId('646f6526089726df60df1660'), 'customerid': 61, 'productid': 8, 'units': 140636, 'purchase_date': datetime.datetime(2023, 2, 3, 0, 0)}\n",
            "{'_id': ObjectId('646f6526089726df60df1661'), 'customerid': 97, 'productid': 8, 'units': 351049000, 'purchase_date': datetime.datetime(2023, 3, 14, 0, 0)}\n",
            "{'_id': ObjectId('646f6526089726df60df1662'), 'customerid': 16, 'productid': 4, 'units': 937689, 'purchase_date': datetime.datetime(2022, 11, 7, 0, 0)}\n",
            "{'_id': ObjectId('646f6526089726df60df1663'), 'customerid': 31, 'productid': 5, 'units': 594225, 'purchase_date': datetime.datetime(2023, 2, 24, 0, 0)}\n",
            "{'_id': ObjectId('646f6526089726df60df1664'), 'customerid': 3, 'productid': 8, 'units': 998153, 'purchase_date': datetime.datetime(2022, 7, 9, 0, 0)}\n",
            "{'_id': ObjectId('646f6526089726df60df1665'), 'customerid': 51, 'productid': 6, 'units': 139257, 'purchase_date': datetime.datetime(2023, 4, 4, 0, 0)}\n",
            "{'_id': ObjectId('646f6526089726df60df1666'), 'customerid': 20, 'productid': 5, 'units': 781430, 'purchase_date': datetime.datetime(2022, 11, 6, 0, 0)}\n",
            "{'_id': ObjectId('646f6526089726df60df1667'), 'customerid': 87, 'productid': 2, 'units': 538311, 'purchase_date': datetime.datetime(2022, 9, 28, 0, 0)}\n",
            "{'_id': ObjectId('646f6526089726df60df1668'), 'customerid': 45, 'productid': 2, 'units': 771301, 'purchase_date': datetime.datetime(2022, 12, 23, 0, 0)}\n",
            "{'_id': ObjectId('646f6526089726df60df1669'), 'customerid': 100, 'productid': 5, 'units': 240175, 'purchase_date': datetime.datetime(2022, 12, 21, 0, 0)}\n",
            "{'_id': ObjectId('646f6526089726df60df166a'), 'customerid': 14, 'productid': 3, 'units': 796979, 'purchase_date': datetime.datetime(2022, 10, 21, 0, 0)}\n",
            "{'_id': ObjectId('646f6526089726df60df166b'), 'customerid': 35, 'productid': 10, 'units': 978780, 'purchase_date': datetime.datetime(2023, 2, 3, 0, 0)}\n",
            "{'_id': ObjectId('646f6526089726df60df166c'), 'customerid': 99, 'productid': 1, 'units': 654260, 'purchase_date': datetime.datetime(2022, 6, 2, 0, 0)}\n",
            "{'_id': ObjectId('646f6526089726df60df166d'), 'customerid': 6, 'productid': 7, 'units': 510389, 'purchase_date': datetime.datetime(2022, 12, 8, 0, 0)}\n",
            "{'_id': ObjectId('646f6526089726df60df166e'), 'customerid': 29, 'productid': 8, 'units': 773623, 'purchase_date': datetime.datetime(2022, 6, 16, 0, 0)}\n",
            "{'_id': ObjectId('646f6526089726df60df166f'), 'customerid': 31, 'productid': 3, 'units': 800141, 'purchase_date': datetime.datetime(2023, 5, 8, 0, 0)}\n",
            "{'_id': ObjectId('646f6526089726df60df1670'), 'customerid': 67, 'productid': 8, 'units': 15518, 'purchase_date': datetime.datetime(2022, 10, 24, 0, 0)}\n",
            "{'_id': ObjectId('646f6526089726df60df1671'), 'customerid': 55, 'productid': 10, 'units': 406644, 'purchase_date': datetime.datetime(2022, 9, 10, 0, 0)}\n",
            "{'_id': ObjectId('646f6526089726df60df1672'), 'customerid': 36, 'productid': 8, 'units': 42230, 'purchase_date': datetime.datetime(2022, 10, 16, 0, 0)}\n",
            "{'_id': ObjectId('646f6526089726df60df1673'), 'customerid': 37, 'productid': 10, 'units': 115520, 'purchase_date': datetime.datetime(2023, 4, 19, 0, 0)}\n",
            "{'_id': ObjectId('646f6526089726df60df1674'), 'customerid': 96, 'productid': 2, 'units': 616666, 'purchase_date': datetime.datetime(2022, 12, 2, 0, 0)}\n",
            "{'_id': ObjectId('646f6526089726df60df1675'), 'customerid': 40, 'productid': 9, 'units': 172602, 'purchase_date': datetime.datetime(2023, 1, 13, 0, 0)}\n",
            "{'_id': ObjectId('646f6526089726df60df1676'), 'customerid': 71, 'productid': 9, 'units': 873762, 'purchase_date': datetime.datetime(2022, 8, 28, 0, 0)}\n",
            "{'_id': ObjectId('646f6526089726df60df1677'), 'customerid': 80, 'productid': 10, 'units': 909725, 'purchase_date': datetime.datetime(2022, 11, 18, 0, 0)}\n",
            "{'_id': ObjectId('646f6526089726df60df1678'), 'customerid': 2, 'productid': 3, 'units': 181805, 'purchase_date': datetime.datetime(2022, 6, 24, 0, 0)}\n",
            "{'_id': ObjectId('646f6526089726df60df1679'), 'customerid': 72, 'productid': 2, 'units': 254798000, 'purchase_date': datetime.datetime(2022, 11, 3, 0, 0)}\n",
            "{'_id': ObjectId('646f6526089726df60df167a'), 'customerid': 78, 'productid': 10, 'units': 572116000, 'purchase_date': datetime.datetime(2022, 11, 16, 0, 0)}\n",
            "{'_id': ObjectId('646f6526089726df60df167b'), 'customerid': 35, 'productid': 9, 'units': 112522, 'purchase_date': datetime.datetime(2022, 7, 3, 0, 0)}\n",
            "{'_id': ObjectId('646f6526089726df60df167c'), 'customerid': 74, 'productid': 2, 'units': 257405, 'purchase_date': datetime.datetime(2022, 8, 22, 0, 0)}\n",
            "{'_id': ObjectId('646f6526089726df60df167d'), 'customerid': 20, 'productid': 8, 'units': 495852, 'purchase_date': datetime.datetime(2023, 3, 2, 0, 0)}\n",
            "{'_id': ObjectId('646f6526089726df60df167e'), 'customerid': 98, 'productid': 8, 'units': 649011, 'purchase_date': datetime.datetime(2023, 5, 4, 0, 0)}\n",
            "{'_id': ObjectId('646f6526089726df60df167f'), 'customerid': 63, 'productid': 3, 'units': 438836, 'purchase_date': datetime.datetime(2023, 4, 30, 0, 0)}\n",
            "{'_id': ObjectId('646f6526089726df60df1680'), 'customerid': 67, 'productid': 6, 'units': 58223000, 'purchase_date': datetime.datetime(2023, 3, 8, 0, 0)}\n",
            "{'_id': ObjectId('646f6526089726df60df1681'), 'customerid': 25, 'productid': 7, 'units': 180068000, 'purchase_date': datetime.datetime(2023, 3, 1, 0, 0)}\n",
            "{'_id': ObjectId('646f6526089726df60df1682'), 'customerid': 71, 'productid': 10, 'units': 825448, 'purchase_date': datetime.datetime(2023, 2, 26, 0, 0)}\n",
            "{'_id': ObjectId('646f6526089726df60df1683'), 'customerid': 2, 'productid': 4, 'units': 447170, 'purchase_date': datetime.datetime(2023, 3, 24, 0, 0)}\n",
            "{'_id': ObjectId('646f6526089726df60df1684'), 'customerid': 51, 'productid': 7, 'units': 130398, 'purchase_date': datetime.datetime(2022, 11, 15, 0, 0)}\n",
            "{'_id': ObjectId('646f6526089726df60df1685'), 'customerid': 67, 'productid': 8, 'units': 728727, 'purchase_date': datetime.datetime(2023, 4, 26, 0, 0)}\n",
            "{'_id': ObjectId('646f6526089726df60df1686'), 'customerid': 99, 'productid': 6, 'units': 31349, 'purchase_date': datetime.datetime(2022, 8, 4, 0, 0)}\n",
            "{'_id': ObjectId('646f6526089726df60df1687'), 'customerid': 2, 'productid': 3, 'units': 481593, 'purchase_date': datetime.datetime(2022, 12, 1, 0, 0)}\n",
            "{'_id': ObjectId('646f6526089726df60df1688'), 'customerid': 70, 'productid': 8, 'units': 772762, 'purchase_date': datetime.datetime(2022, 12, 6, 0, 0)}\n",
            "{'_id': ObjectId('646f6526089726df60df1689'), 'customerid': 80, 'productid': 5, 'units': 507112, 'purchase_date': datetime.datetime(2023, 1, 19, 0, 0)}\n",
            "{'_id': ObjectId('646f6526089726df60df168a'), 'customerid': 65, 'productid': 6, 'units': 843901000, 'purchase_date': datetime.datetime(2022, 7, 29, 0, 0)}\n",
            "{'_id': ObjectId('646f6526089726df60df168b'), 'customerid': 44, 'productid': 1, 'units': 951153, 'purchase_date': datetime.datetime(2023, 4, 30, 0, 0)}\n",
            "{'_id': ObjectId('646f6526089726df60df168c'), 'customerid': 25, 'productid': 1, 'units': 976168, 'purchase_date': datetime.datetime(2023, 2, 17, 0, 0)}\n",
            "{'_id': ObjectId('646f6526089726df60df168d'), 'customerid': 96, 'productid': 2, 'units': 376443, 'purchase_date': datetime.datetime(2023, 1, 30, 0, 0)}\n",
            "{'_id': ObjectId('646f6526089726df60df168e'), 'customerid': 48, 'productid': 8, 'units': 564522, 'purchase_date': datetime.datetime(2022, 11, 12, 0, 0)}\n",
            "{'_id': ObjectId('646f6526089726df60df168f'), 'customerid': 46, 'productid': 5, 'units': 393322, 'purchase_date': datetime.datetime(2022, 6, 20, 0, 0)}\n",
            "{'_id': ObjectId('646f6526089726df60df1690'), 'customerid': 61, 'productid': 8, 'units': 958046, 'purchase_date': datetime.datetime(2022, 10, 4, 0, 0)}\n",
            "{'_id': ObjectId('646f6526089726df60df1691'), 'customerid': 41, 'productid': 2, 'units': 42031, 'purchase_date': datetime.datetime(2022, 11, 29, 0, 0)}\n",
            "{'_id': ObjectId('646f6526089726df60df1692'), 'customerid': 92, 'productid': 3, 'units': 759478, 'purchase_date': datetime.datetime(2022, 12, 20, 0, 0)}\n",
            "{'_id': ObjectId('646f6526089726df60df1693'), 'customerid': 46, 'productid': 3, 'units': 610835, 'purchase_date': datetime.datetime(2022, 7, 1, 0, 0)}\n",
            "{'_id': ObjectId('646f6526089726df60df1694'), 'customerid': 42, 'productid': 8, 'units': 406165, 'purchase_date': datetime.datetime(2022, 8, 12, 0, 0)}\n",
            "{'_id': ObjectId('646f6526089726df60df1695'), 'customerid': 35, 'productid': 4, 'units': 675368, 'purchase_date': datetime.datetime(2022, 11, 29, 0, 0)}\n",
            "{'_id': ObjectId('646f6526089726df60df1696'), 'customerid': 17, 'productid': 7, 'units': 525058, 'purchase_date': datetime.datetime(2022, 6, 9, 0, 0)}\n",
            "{'_id': ObjectId('646f6526089726df60df1697'), 'customerid': 11, 'productid': 3, 'units': 505185, 'purchase_date': datetime.datetime(2023, 1, 12, 0, 0)}\n",
            "{'_id': ObjectId('646f6526089726df60df1698'), 'customerid': 62, 'productid': 8, 'units': 468335, 'purchase_date': datetime.datetime(2022, 8, 4, 0, 0)}\n",
            "{'_id': ObjectId('646f6526089726df60df1699'), 'customerid': 75, 'productid': 3, 'units': 497381, 'purchase_date': datetime.datetime(2022, 9, 25, 0, 0)}\n",
            "{'_id': ObjectId('646f6526089726df60df169a'), 'customerid': 43, 'productid': 6, 'units': 795478, 'purchase_date': datetime.datetime(2023, 1, 18, 0, 0)}\n",
            "{'_id': ObjectId('646f6526089726df60df169b'), 'customerid': 20, 'productid': 5, 'units': 167970, 'purchase_date': datetime.datetime(2022, 6, 5, 0, 0)}\n",
            "{'_id': ObjectId('646f6526089726df60df169c'), 'customerid': 79, 'productid': 10, 'units': 692782, 'purchase_date': datetime.datetime(2023, 2, 7, 0, 0)}\n",
            "{'_id': ObjectId('646f6526089726df60df169d'), 'customerid': 50, 'productid': 7, 'units': 880016, 'purchase_date': datetime.datetime(2023, 4, 7, 0, 0)}\n",
            "{'_id': ObjectId('646f6526089726df60df169e'), 'customerid': 43, 'productid': 2, 'units': 872180, 'purchase_date': datetime.datetime(2022, 6, 20, 0, 0)}\n",
            "{'_id': ObjectId('646f6526089726df60df169f'), 'customerid': 13, 'productid': 2, 'units': 347838, 'purchase_date': datetime.datetime(2022, 9, 22, 0, 0)}\n",
            "{'_id': ObjectId('646f6526089726df60df16a0'), 'customerid': 73, 'productid': 6, 'units': 946358, 'purchase_date': datetime.datetime(2022, 11, 13, 0, 0)}\n",
            "{'_id': ObjectId('646f6526089726df60df16a1'), 'customerid': 65, 'productid': 7, 'units': 475732, 'purchase_date': datetime.datetime(2022, 12, 24, 0, 0)}\n",
            "{'_id': ObjectId('646f6526089726df60df16a2'), 'customerid': 28, 'productid': 7, 'units': 779462000, 'purchase_date': datetime.datetime(2022, 7, 9, 0, 0)}\n",
            "{'_id': ObjectId('646f6526089726df60df16a3'), 'customerid': 53, 'productid': 9, 'units': 634245, 'purchase_date': datetime.datetime(2022, 7, 13, 0, 0)}\n",
            "{'_id': ObjectId('646f6526089726df60df16a4'), 'customerid': 98, 'productid': 8, 'units': 70347, 'purchase_date': datetime.datetime(2022, 12, 9, 0, 0)}\n",
            "{'_id': ObjectId('646f6526089726df60df16a5'), 'customerid': 50, 'productid': 7, 'units': 645918, 'purchase_date': datetime.datetime(2022, 6, 16, 0, 0)}\n",
            "{'_id': ObjectId('646f6526089726df60df16a6'), 'customerid': 28, 'productid': 5, 'units': 725873, 'purchase_date': datetime.datetime(2022, 8, 21, 0, 0)}\n",
            "{'_id': ObjectId('646f6526089726df60df16a7'), 'customerid': 38, 'productid': 3, 'units': 997585, 'purchase_date': datetime.datetime(2022, 5, 26, 0, 0)}\n",
            "{'_id': ObjectId('646f6526089726df60df16a8'), 'customerid': 5, 'productid': 10, 'units': 207184, 'purchase_date': datetime.datetime(2023, 1, 23, 0, 0)}\n",
            "{'_id': ObjectId('646f6526089726df60df16a9'), 'customerid': 10, 'productid': 2, 'units': 828710, 'purchase_date': datetime.datetime(2023, 5, 13, 0, 0)}\n",
            "{'_id': ObjectId('646f6526089726df60df16aa'), 'customerid': 90, 'productid': 10, 'units': 719288, 'purchase_date': datetime.datetime(2023, 3, 27, 0, 0)}\n",
            "{'_id': ObjectId('646f6526089726df60df16ab'), 'customerid': 4, 'productid': 7, 'units': 537244, 'purchase_date': datetime.datetime(2022, 12, 8, 0, 0)}\n",
            "{'_id': ObjectId('646f6526089726df60df16ac'), 'customerid': 8, 'productid': 4, 'units': 864497, 'purchase_date': datetime.datetime(2022, 6, 19, 0, 0)}\n",
            "{'_id': ObjectId('646f6526089726df60df16ad'), 'customerid': 90, 'productid': 9, 'units': 819799, 'purchase_date': datetime.datetime(2022, 10, 2, 0, 0)}\n",
            "{'_id': ObjectId('646f6526089726df60df16ae'), 'customerid': 34, 'productid': 5, 'units': 187337, 'purchase_date': datetime.datetime(2023, 2, 14, 0, 0)}\n",
            "{'_id': ObjectId('646f6526089726df60df16af'), 'customerid': 84, 'productid': 6, 'units': 813051, 'purchase_date': datetime.datetime(2023, 1, 1, 0, 0)}\n",
            "{'_id': ObjectId('646f6526089726df60df16b0'), 'customerid': 81, 'productid': 7, 'units': 385391, 'purchase_date': datetime.datetime(2022, 5, 28, 0, 0)}\n",
            "{'_id': ObjectId('646f6526089726df60df16b1'), 'customerid': 94, 'productid': 9, 'units': 787865, 'purchase_date': datetime.datetime(2022, 12, 24, 0, 0)}\n",
            "{'_id': ObjectId('646f6526089726df60df16b2'), 'customerid': 64, 'productid': 4, 'units': 220455, 'purchase_date': datetime.datetime(2022, 7, 11, 0, 0)}\n",
            "{'_id': ObjectId('646f6526089726df60df16b3'), 'customerid': 84, 'productid': 6, 'units': 566658, 'purchase_date': datetime.datetime(2023, 2, 10, 0, 0)}\n",
            "{'_id': ObjectId('646f6526089726df60df16b4'), 'customerid': 5, 'productid': 9, 'units': 33095, 'purchase_date': datetime.datetime(2023, 1, 21, 0, 0)}\n",
            "{'_id': ObjectId('646f6526089726df60df16b5'), 'customerid': 20, 'productid': 4, 'units': 951363, 'purchase_date': datetime.datetime(2022, 6, 5, 0, 0)}\n",
            "{'_id': ObjectId('646f6526089726df60df16b6'), 'customerid': 85, 'productid': 1, 'units': 549747, 'purchase_date': datetime.datetime(2023, 1, 20, 0, 0)}\n",
            "{'_id': ObjectId('646f6526089726df60df16b7'), 'customerid': 55, 'productid': 5, 'units': 686123, 'purchase_date': datetime.datetime(2022, 5, 30, 0, 0)}\n",
            "{'_id': ObjectId('646f6526089726df60df16b8'), 'customerid': 89, 'productid': 7, 'units': 813958, 'purchase_date': datetime.datetime(2022, 10, 15, 0, 0)}\n",
            "{'_id': ObjectId('646f6526089726df60df16b9'), 'customerid': 22, 'productid': 2, 'units': 267336, 'purchase_date': datetime.datetime(2022, 5, 26, 0, 0)}\n",
            "{'_id': ObjectId('646f6526089726df60df16ba'), 'customerid': 11, 'productid': 5, 'units': 31074, 'purchase_date': datetime.datetime(2022, 7, 26, 0, 0)}\n",
            "{'_id': ObjectId('646f6526089726df60df16bb'), 'customerid': 86, 'productid': 5, 'units': 596286, 'purchase_date': datetime.datetime(2022, 7, 16, 0, 0)}\n",
            "{'_id': ObjectId('646f6526089726df60df16bc'), 'customerid': 29, 'productid': 6, 'units': 930509, 'purchase_date': datetime.datetime(2023, 4, 30, 0, 0)}\n",
            "{'_id': ObjectId('646f6526089726df60df16bd'), 'customerid': 18, 'productid': 6, 'units': 304012, 'purchase_date': datetime.datetime(2023, 2, 23, 0, 0)}\n",
            "{'_id': ObjectId('646f6526089726df60df16be'), 'customerid': 62, 'productid': 6, 'units': 382568, 'purchase_date': datetime.datetime(2023, 3, 25, 0, 0)}\n",
            "{'_id': ObjectId('646f6526089726df60df16bf'), 'customerid': 87, 'productid': 10, 'units': 222395, 'purchase_date': datetime.datetime(2022, 11, 13, 0, 0)}\n",
            "{'_id': ObjectId('646f6526089726df60df16c0'), 'customerid': 92, 'productid': 6, 'units': 416759000, 'purchase_date': datetime.datetime(2023, 3, 25, 0, 0)}\n",
            "{'_id': ObjectId('646f6526089726df60df16c1'), 'customerid': 53, 'productid': 10, 'units': 917139, 'purchase_date': datetime.datetime(2022, 12, 24, 0, 0)}\n",
            "{'_id': ObjectId('646f6526089726df60df16c2'), 'customerid': 35, 'productid': 4, 'units': 511403000, 'purchase_date': datetime.datetime(2023, 1, 9, 0, 0)}\n",
            "{'_id': ObjectId('646f6526089726df60df16c3'), 'customerid': 77, 'productid': 8, 'units': 919122, 'purchase_date': datetime.datetime(2023, 2, 17, 0, 0)}\n",
            "{'_id': ObjectId('646f6526089726df60df16c4'), 'customerid': 71, 'productid': 6, 'units': 914078, 'purchase_date': datetime.datetime(2023, 5, 24, 0, 0)}\n",
            "{'_id': ObjectId('646f6526089726df60df16c5'), 'customerid': 21, 'productid': 8, 'units': 949539, 'purchase_date': datetime.datetime(2023, 2, 26, 0, 0)}\n",
            "{'_id': ObjectId('646f6526089726df60df16c6'), 'customerid': 30, 'productid': 8, 'units': 975270, 'purchase_date': datetime.datetime(2022, 6, 27, 0, 0)}\n",
            "{'_id': ObjectId('646f6526089726df60df16c7'), 'customerid': 67, 'productid': 7, 'units': 531718, 'purchase_date': datetime.datetime(2023, 3, 30, 0, 0)}\n",
            "{'_id': ObjectId('646f6526089726df60df16c8'), 'customerid': 38, 'productid': 6, 'units': 654798, 'purchase_date': datetime.datetime(2023, 1, 22, 0, 0)}\n",
            "{'_id': ObjectId('646f6526089726df60df16c9'), 'customerid': 26, 'productid': 10, 'units': 267492, 'purchase_date': datetime.datetime(2022, 12, 27, 0, 0)}\n",
            "{'_id': ObjectId('646f6526089726df60df16ca'), 'customerid': 82, 'productid': 6, 'units': 458493, 'purchase_date': datetime.datetime(2022, 11, 22, 0, 0)}\n",
            "{'_id': ObjectId('646f6526089726df60df16cb'), 'customerid': 98, 'productid': 9, 'units': 972078, 'purchase_date': datetime.datetime(2022, 8, 15, 0, 0)}\n",
            "{'_id': ObjectId('646f6526089726df60df16cc'), 'customerid': 88, 'productid': 7, 'units': 849717, 'purchase_date': datetime.datetime(2022, 5, 26, 0, 0)}\n",
            "{'_id': ObjectId('646f6526089726df60df16cd'), 'customerid': 88, 'productid': 10, 'units': 910213, 'purchase_date': datetime.datetime(2022, 11, 15, 0, 0)}\n",
            "{'_id': ObjectId('646f6526089726df60df16ce'), 'customerid': 42, 'productid': 2, 'units': 710213, 'purchase_date': datetime.datetime(2022, 10, 10, 0, 0)}\n",
            "{'_id': ObjectId('646f6526089726df60df16cf'), 'customerid': 15, 'productid': 4, 'units': 152927, 'purchase_date': datetime.datetime(2022, 11, 3, 0, 0)}\n",
            "{'_id': ObjectId('646f6526089726df60df16d0'), 'customerid': 98, 'productid': 4, 'units': 518513, 'purchase_date': datetime.datetime(2022, 9, 7, 0, 0)}\n",
            "{'_id': ObjectId('646f6526089726df60df16d1'), 'customerid': 35, 'productid': 1, 'units': 195457, 'purchase_date': datetime.datetime(2023, 4, 18, 0, 0)}\n",
            "{'_id': ObjectId('646f6526089726df60df16d2'), 'customerid': 64, 'productid': 7, 'units': 582068, 'purchase_date': datetime.datetime(2022, 10, 23, 0, 0)}\n",
            "{'_id': ObjectId('646f6526089726df60df16d3'), 'customerid': 12, 'productid': 7, 'units': 812270, 'purchase_date': datetime.datetime(2022, 7, 7, 0, 0)}\n",
            "{'_id': ObjectId('646f6526089726df60df16d4'), 'customerid': 95, 'productid': 1, 'units': 510820000, 'purchase_date': datetime.datetime(2022, 12, 27, 0, 0)}\n",
            "{'_id': ObjectId('646f6526089726df60df16d5'), 'customerid': 65, 'productid': 9, 'units': 119810, 'purchase_date': datetime.datetime(2022, 9, 15, 0, 0)}\n",
            "{'_id': ObjectId('646f6526089726df60df16d6'), 'customerid': 71, 'productid': 1, 'units': 548082, 'purchase_date': datetime.datetime(2022, 10, 2, 0, 0)}\n",
            "{'_id': ObjectId('646f6526089726df60df16d7'), 'customerid': 24, 'productid': 8, 'units': 327602, 'purchase_date': datetime.datetime(2022, 11, 22, 0, 0)}\n",
            "{'_id': ObjectId('646f6526089726df60df16d8'), 'customerid': 5, 'productid': 7, 'units': 976925000, 'purchase_date': datetime.datetime(2023, 4, 13, 0, 0)}\n",
            "{'_id': ObjectId('646f6526089726df60df16d9'), 'customerid': 14, 'productid': 6, 'units': 833883, 'purchase_date': datetime.datetime(2022, 12, 31, 0, 0)}\n",
            "{'_id': ObjectId('646f6526089726df60df16da'), 'customerid': 10, 'productid': 10, 'units': 894750, 'purchase_date': datetime.datetime(2022, 10, 28, 0, 0)}\n",
            "{'_id': ObjectId('646f6526089726df60df16db'), 'customerid': 28, 'productid': 9, 'units': 684028, 'purchase_date': datetime.datetime(2023, 5, 7, 0, 0)}\n",
            "{'_id': ObjectId('646f6526089726df60df16dc'), 'customerid': 4, 'productid': 9, 'units': 603899, 'purchase_date': datetime.datetime(2022, 7, 2, 0, 0)}\n",
            "{'_id': ObjectId('646f6526089726df60df16dd'), 'customerid': 26, 'productid': 3, 'units': 877045, 'purchase_date': datetime.datetime(2022, 10, 24, 0, 0)}\n",
            "{'_id': ObjectId('646f6526089726df60df16de'), 'customerid': 60, 'productid': 3, 'units': 893267, 'purchase_date': datetime.datetime(2023, 3, 27, 0, 0)}\n",
            "{'_id': ObjectId('646f6526089726df60df16df'), 'customerid': 69, 'productid': 9, 'units': 495915, 'purchase_date': datetime.datetime(2022, 7, 20, 0, 0)}\n",
            "{'_id': ObjectId('646f6526089726df60df16e0'), 'customerid': 51, 'productid': 7, 'units': 914962, 'purchase_date': datetime.datetime(2022, 9, 4, 0, 0)}\n",
            "{'_id': ObjectId('646f6526089726df60df16e1'), 'customerid': 41, 'productid': 1, 'units': 180672, 'purchase_date': datetime.datetime(2022, 7, 19, 0, 0)}\n",
            "{'_id': ObjectId('646f6526089726df60df16e2'), 'customerid': 12, 'productid': 5, 'units': 135843, 'purchase_date': datetime.datetime(2022, 9, 13, 0, 0)}\n",
            "{'_id': ObjectId('646f6526089726df60df16e3'), 'customerid': 95, 'productid': 1, 'units': 310227, 'purchase_date': datetime.datetime(2023, 3, 1, 0, 0)}\n",
            "{'_id': ObjectId('646f6526089726df60df16e4'), 'customerid': 93, 'productid': 1, 'units': 824028, 'purchase_date': datetime.datetime(2023, 4, 25, 0, 0)}\n",
            "{'_id': ObjectId('646f6526089726df60df16e5'), 'customerid': 7, 'productid': 6, 'units': 839089, 'purchase_date': datetime.datetime(2023, 2, 17, 0, 0)}\n",
            "{'_id': ObjectId('646f6526089726df60df16e6'), 'customerid': 4, 'productid': 2, 'units': 512816000, 'purchase_date': datetime.datetime(2022, 7, 28, 0, 0)}\n",
            "{'_id': ObjectId('646f6526089726df60df16e7'), 'customerid': 79, 'productid': 2, 'units': 406966, 'purchase_date': datetime.datetime(2023, 3, 13, 0, 0)}\n",
            "{'_id': ObjectId('646f6526089726df60df16e8'), 'customerid': 100, 'productid': 8, 'units': 825944000, 'purchase_date': datetime.datetime(2022, 5, 27, 0, 0)}\n",
            "{'_id': ObjectId('646f6526089726df60df16e9'), 'customerid': 36, 'productid': 4, 'units': 62830, 'purchase_date': datetime.datetime(2023, 2, 25, 0, 0)}\n",
            "{'_id': ObjectId('646f6526089726df60df16ea'), 'customerid': 98, 'productid': 2, 'units': 865105, 'purchase_date': datetime.datetime(2023, 4, 30, 0, 0)}\n",
            "{'_id': ObjectId('646f6526089726df60df16eb'), 'customerid': 70, 'productid': 8, 'units': 290123, 'purchase_date': datetime.datetime(2022, 10, 16, 0, 0)}\n",
            "{'_id': ObjectId('646f6526089726df60df16ec'), 'customerid': 13, 'productid': 3, 'units': 29709, 'purchase_date': datetime.datetime(2022, 11, 1, 0, 0)}\n",
            "{'_id': ObjectId('646f6526089726df60df16ed'), 'customerid': 15, 'productid': 7, 'units': 222754, 'purchase_date': datetime.datetime(2022, 9, 14, 0, 0)}\n",
            "{'_id': ObjectId('646f6526089726df60df16ee'), 'customerid': 77, 'productid': 1, 'units': 627469, 'purchase_date': datetime.datetime(2022, 12, 5, 0, 0)}\n",
            "{'_id': ObjectId('646f6526089726df60df16ef'), 'customerid': 69, 'productid': 9, 'units': 991471, 'purchase_date': datetime.datetime(2022, 9, 26, 0, 0)}\n",
            "{'_id': ObjectId('646f6526089726df60df16f0'), 'customerid': 41, 'productid': 6, 'units': 836219, 'purchase_date': datetime.datetime(2022, 6, 30, 0, 0)}\n",
            "{'_id': ObjectId('646f6526089726df60df16f1'), 'customerid': 82, 'productid': 6, 'units': 952463, 'purchase_date': datetime.datetime(2022, 8, 2, 0, 0)}\n",
            "{'_id': ObjectId('646f6526089726df60df16f2'), 'customerid': 5, 'productid': 9, 'units': 379044, 'purchase_date': datetime.datetime(2023, 4, 19, 0, 0)}\n",
            "{'_id': ObjectId('646f6526089726df60df16f3'), 'customerid': 10, 'productid': 8, 'units': 135887, 'purchase_date': datetime.datetime(2022, 11, 28, 0, 0)}\n",
            "{'_id': ObjectId('646f6526089726df60df16f4'), 'customerid': 61, 'productid': 5, 'units': 18432, 'purchase_date': datetime.datetime(2022, 8, 22, 0, 0)}\n",
            "{'_id': ObjectId('646f6526089726df60df16f5'), 'customerid': 57, 'productid': 8, 'units': 754486, 'purchase_date': datetime.datetime(2022, 10, 27, 0, 0)}\n",
            "{'_id': ObjectId('646f6526089726df60df16f6'), 'customerid': 76, 'productid': 2, 'units': 104104, 'purchase_date': datetime.datetime(2022, 9, 28, 0, 0)}\n",
            "{'_id': ObjectId('646f6526089726df60df16f7'), 'customerid': 65, 'productid': 2, 'units': 647215000, 'purchase_date': datetime.datetime(2022, 7, 16, 0, 0)}\n",
            "{'_id': ObjectId('646f6526089726df60df16f8'), 'customerid': 80, 'productid': 6, 'units': 811793, 'purchase_date': datetime.datetime(2023, 3, 22, 0, 0)}\n",
            "{'_id': ObjectId('646f6526089726df60df16f9'), 'customerid': 69, 'productid': 6, 'units': 699938, 'purchase_date': datetime.datetime(2022, 12, 5, 0, 0)}\n",
            "{'_id': ObjectId('646f6526089726df60df16fa'), 'customerid': 42, 'productid': 7, 'units': 14499, 'purchase_date': datetime.datetime(2022, 6, 1, 0, 0)}\n",
            "{'_id': ObjectId('646f6526089726df60df16fb'), 'customerid': 49, 'productid': 10, 'units': 141229, 'purchase_date': datetime.datetime(2022, 7, 25, 0, 0)}\n",
            "{'_id': ObjectId('646f6526089726df60df16fc'), 'customerid': 94, 'productid': 7, 'units': 622898, 'purchase_date': datetime.datetime(2022, 12, 30, 0, 0)}\n",
            "{'_id': ObjectId('646f6526089726df60df16fd'), 'customerid': 97, 'productid': 9, 'units': 766730, 'purchase_date': datetime.datetime(2022, 11, 29, 0, 0)}\n",
            "{'_id': ObjectId('646f6526089726df60df16fe'), 'customerid': 90, 'productid': 4, 'units': 702382, 'purchase_date': datetime.datetime(2022, 12, 27, 0, 0)}\n",
            "{'_id': ObjectId('646f6526089726df60df16ff'), 'customerid': 90, 'productid': 4, 'units': 442143, 'purchase_date': datetime.datetime(2022, 11, 28, 0, 0)}\n",
            "{'_id': ObjectId('646f6526089726df60df1700'), 'customerid': 5, 'productid': 7, 'units': 496629, 'purchase_date': datetime.datetime(2022, 8, 14, 0, 0)}\n",
            "{'_id': ObjectId('646f6526089726df60df1701'), 'customerid': 93, 'productid': 8, 'units': 786981, 'purchase_date': datetime.datetime(2022, 12, 25, 0, 0)}\n",
            "{'_id': ObjectId('646f6526089726df60df1702'), 'customerid': 69, 'productid': 6, 'units': 127227, 'purchase_date': datetime.datetime(2022, 9, 19, 0, 0)}\n",
            "{'_id': ObjectId('646f6526089726df60df1703'), 'customerid': 34, 'productid': 9, 'units': 375234, 'purchase_date': datetime.datetime(2022, 10, 24, 0, 0)}\n",
            "{'_id': ObjectId('646f6526089726df60df1704'), 'customerid': 23, 'productid': 10, 'units': 996156, 'purchase_date': datetime.datetime(2022, 7, 18, 0, 0)}\n",
            "{'_id': ObjectId('646f6526089726df60df1705'), 'customerid': 32, 'productid': 8, 'units': 565102000, 'purchase_date': datetime.datetime(2023, 1, 8, 0, 0)}\n",
            "{'_id': ObjectId('646f6526089726df60df1706'), 'customerid': 69, 'productid': 2, 'units': 789344, 'purchase_date': datetime.datetime(2022, 11, 2, 0, 0)}\n",
            "{'_id': ObjectId('646f6526089726df60df1707'), 'customerid': 1, 'productid': 9, 'units': 784830, 'purchase_date': datetime.datetime(2023, 2, 15, 0, 0)}\n",
            "{'_id': ObjectId('646f6526089726df60df1708'), 'customerid': 21, 'productid': 1, 'units': 174246, 'purchase_date': datetime.datetime(2022, 9, 11, 0, 0)}\n",
            "{'_id': ObjectId('646f6526089726df60df1709'), 'customerid': 50, 'productid': 10, 'units': 961589, 'purchase_date': datetime.datetime(2022, 8, 16, 0, 0)}\n",
            "{'_id': ObjectId('646f6526089726df60df170a'), 'customerid': 38, 'productid': 10, 'units': 477336, 'purchase_date': datetime.datetime(2022, 8, 5, 0, 0)}\n",
            "{'_id': ObjectId('646f6526089726df60df170b'), 'customerid': 84, 'productid': 1, 'units': 289269, 'purchase_date': datetime.datetime(2023, 1, 30, 0, 0)}\n",
            "{'_id': ObjectId('646f6526089726df60df170c'), 'customerid': 14, 'productid': 10, 'units': 839574, 'purchase_date': datetime.datetime(2022, 7, 31, 0, 0)}\n",
            "{'_id': ObjectId('646f6526089726df60df170d'), 'customerid': 91, 'productid': 3, 'units': 722588, 'purchase_date': datetime.datetime(2022, 9, 15, 0, 0)}\n",
            "{'_id': ObjectId('646f6526089726df60df170e'), 'customerid': 56, 'productid': 4, 'units': 376765000, 'purchase_date': datetime.datetime(2022, 6, 23, 0, 0)}\n",
            "{'_id': ObjectId('646f6526089726df60df170f'), 'customerid': 38, 'productid': 4, 'units': 510786, 'purchase_date': datetime.datetime(2023, 4, 11, 0, 0)}\n",
            "{'_id': ObjectId('646f6526089726df60df1710'), 'customerid': 26, 'productid': 5, 'units': 167314, 'purchase_date': datetime.datetime(2022, 8, 22, 0, 0)}\n",
            "{'_id': ObjectId('646f6526089726df60df1711'), 'customerid': 19, 'productid': 7, 'units': 453196, 'purchase_date': datetime.datetime(2022, 12, 27, 0, 0)}\n",
            "{'_id': ObjectId('646f6526089726df60df1712'), 'customerid': 58, 'productid': 8, 'units': 433896, 'purchase_date': datetime.datetime(2022, 7, 11, 0, 0)}\n",
            "{'_id': ObjectId('646f6526089726df60df1713'), 'customerid': 100, 'productid': 2, 'units': 895013, 'purchase_date': datetime.datetime(2022, 12, 6, 0, 0)}\n",
            "{'_id': ObjectId('646f6526089726df60df1714'), 'customerid': 36, 'productid': 10, 'units': 71424, 'purchase_date': datetime.datetime(2023, 1, 23, 0, 0)}\n",
            "{'_id': ObjectId('646f6526089726df60df1715'), 'customerid': 78, 'productid': 6, 'units': 838852, 'purchase_date': datetime.datetime(2022, 6, 1, 0, 0)}\n",
            "{'_id': ObjectId('646f6526089726df60df1716'), 'customerid': 89, 'productid': 9, 'units': 737114, 'purchase_date': datetime.datetime(2022, 11, 26, 0, 0)}\n",
            "{'_id': ObjectId('646f6526089726df60df1717'), 'customerid': 50, 'productid': 6, 'units': 958841, 'purchase_date': datetime.datetime(2022, 6, 25, 0, 0)}\n",
            "{'_id': ObjectId('646f6526089726df60df1718'), 'customerid': 22, 'productid': 9, 'units': 566527, 'purchase_date': datetime.datetime(2022, 8, 14, 0, 0)}\n",
            "{'_id': ObjectId('646f6526089726df60df1719'), 'customerid': 37, 'productid': 3, 'units': 504951, 'purchase_date': datetime.datetime(2022, 6, 11, 0, 0)}\n",
            "{'_id': ObjectId('646f6526089726df60df171a'), 'customerid': 65, 'productid': 1, 'units': 685394, 'purchase_date': datetime.datetime(2022, 7, 26, 0, 0)}\n",
            "{'_id': ObjectId('646f6526089726df60df171b'), 'customerid': 28, 'productid': 6, 'units': 318889, 'purchase_date': datetime.datetime(2022, 9, 1, 0, 0)}\n",
            "{'_id': ObjectId('646f6526089726df60df171c'), 'customerid': 98, 'productid': 10, 'units': 359046, 'purchase_date': datetime.datetime(2023, 1, 31, 0, 0)}\n",
            "{'_id': ObjectId('646f6526089726df60df171d'), 'customerid': 42, 'productid': 2, 'units': 664844, 'purchase_date': datetime.datetime(2023, 1, 5, 0, 0)}\n",
            "{'_id': ObjectId('646f6526089726df60df171e'), 'customerid': 36, 'productid': 8, 'units': 310336, 'purchase_date': datetime.datetime(2022, 8, 3, 0, 0)}\n",
            "{'_id': ObjectId('646f6526089726df60df171f'), 'customerid': 8, 'productid': 1, 'units': 228936, 'purchase_date': datetime.datetime(2022, 12, 13, 0, 0)}\n",
            "{'_id': ObjectId('646f6526089726df60df1720'), 'customerid': 99, 'productid': 5, 'units': 129150, 'purchase_date': datetime.datetime(2023, 5, 15, 0, 0)}\n",
            "{'_id': ObjectId('646f6526089726df60df1721'), 'customerid': 62, 'productid': 6, 'units': 14307, 'purchase_date': datetime.datetime(2022, 6, 25, 0, 0)}\n",
            "{'_id': ObjectId('646f6526089726df60df1722'), 'customerid': 57, 'productid': 7, 'units': 112372, 'purchase_date': datetime.datetime(2023, 1, 6, 0, 0)}\n",
            "{'_id': ObjectId('646f6526089726df60df1723'), 'customerid': 89, 'productid': 5, 'units': 363290, 'purchase_date': datetime.datetime(2023, 4, 27, 0, 0)}\n",
            "{'_id': ObjectId('646f6526089726df60df1724'), 'customerid': 6, 'productid': 3, 'units': 901983, 'purchase_date': datetime.datetime(2023, 4, 24, 0, 0)}\n",
            "{'_id': ObjectId('646f6526089726df60df1725'), 'customerid': 3, 'productid': 10, 'units': 405063, 'purchase_date': datetime.datetime(2022, 5, 28, 0, 0)}\n",
            "{'_id': ObjectId('646f6526089726df60df1726'), 'customerid': 55, 'productid': 6, 'units': 75901000, 'purchase_date': datetime.datetime(2022, 10, 6, 0, 0)}\n",
            "{'_id': ObjectId('646f6526089726df60df1727'), 'customerid': 5, 'productid': 9, 'units': 665978, 'purchase_date': datetime.datetime(2022, 11, 20, 0, 0)}\n",
            "{'_id': ObjectId('646f6526089726df60df1728'), 'customerid': 34, 'productid': 2, 'units': 435799, 'purchase_date': datetime.datetime(2022, 10, 13, 0, 0)}\n",
            "{'_id': ObjectId('646f6526089726df60df1729'), 'customerid': 65, 'productid': 2, 'units': 748440000, 'purchase_date': datetime.datetime(2023, 1, 6, 0, 0)}\n",
            "{'_id': ObjectId('646f6526089726df60df172a'), 'customerid': 82, 'productid': 5, 'units': 769140, 'purchase_date': datetime.datetime(2022, 7, 6, 0, 0)}\n",
            "{'_id': ObjectId('646f6526089726df60df172b'), 'customerid': 68, 'productid': 3, 'units': 848248, 'purchase_date': datetime.datetime(2022, 12, 26, 0, 0)}\n",
            "{'_id': ObjectId('646f6526089726df60df172c'), 'customerid': 43, 'productid': 3, 'units': 450213, 'purchase_date': datetime.datetime(2023, 5, 3, 0, 0)}\n",
            "{'_id': ObjectId('646f6526089726df60df172d'), 'customerid': 97, 'productid': 8, 'units': 739095, 'purchase_date': datetime.datetime(2023, 4, 11, 0, 0)}\n",
            "{'_id': ObjectId('646f6526089726df60df172e'), 'customerid': 31, 'productid': 6, 'units': 510438, 'purchase_date': datetime.datetime(2022, 11, 4, 0, 0)}\n",
            "{'_id': ObjectId('646f6526089726df60df172f'), 'customerid': 5, 'productid': 2, 'units': 453962, 'purchase_date': datetime.datetime(2022, 10, 18, 0, 0)}\n",
            "{'_id': ObjectId('646f6526089726df60df1730'), 'customerid': 22, 'productid': 7, 'units': 98770, 'purchase_date': datetime.datetime(2022, 6, 10, 0, 0)}\n",
            "{'_id': ObjectId('646f6526089726df60df1731'), 'customerid': 60, 'productid': 10, 'units': 925141, 'purchase_date': datetime.datetime(2023, 2, 3, 0, 0)}\n",
            "{'_id': ObjectId('646f6526089726df60df1732'), 'customerid': 56, 'productid': 8, 'units': 195240, 'purchase_date': datetime.datetime(2022, 6, 15, 0, 0)}\n",
            "{'_id': ObjectId('646f6526089726df60df1733'), 'customerid': 73, 'productid': 6, 'units': 670312, 'purchase_date': datetime.datetime(2022, 6, 9, 0, 0)}\n",
            "{'_id': ObjectId('646f6526089726df60df1734'), 'customerid': 3, 'productid': 6, 'units': 568656, 'purchase_date': datetime.datetime(2023, 1, 18, 0, 0)}\n",
            "{'_id': ObjectId('646f6526089726df60df1735'), 'customerid': 56, 'productid': 10, 'units': 579671, 'purchase_date': datetime.datetime(2022, 7, 15, 0, 0)}\n",
            "{'_id': ObjectId('646f6526089726df60df1736'), 'customerid': 4, 'productid': 1, 'units': 914244, 'purchase_date': datetime.datetime(2022, 7, 15, 0, 0)}\n",
            "{'_id': ObjectId('646f6526089726df60df1737'), 'customerid': 80, 'productid': 1, 'units': 214080, 'purchase_date': datetime.datetime(2022, 9, 9, 0, 0)}\n",
            "{'_id': ObjectId('646f6526089726df60df1738'), 'customerid': 86, 'productid': 7, 'units': 919340, 'purchase_date': datetime.datetime(2022, 12, 7, 0, 0)}\n",
            "{'_id': ObjectId('646f6526089726df60df1739'), 'customerid': 76, 'productid': 10, 'units': 974379, 'purchase_date': datetime.datetime(2022, 10, 31, 0, 0)}\n",
            "{'_id': ObjectId('646f6526089726df60df173a'), 'customerid': 72, 'productid': 3, 'units': 318233, 'purchase_date': datetime.datetime(2023, 2, 3, 0, 0)}\n",
            "{'_id': ObjectId('646f6526089726df60df173b'), 'customerid': 13, 'productid': 6, 'units': 200140, 'purchase_date': datetime.datetime(2022, 9, 29, 0, 0)}\n",
            "{'_id': ObjectId('646f6526089726df60df173c'), 'customerid': 44, 'productid': 2, 'units': 143088, 'purchase_date': datetime.datetime(2022, 6, 7, 0, 0)}\n",
            "{'_id': ObjectId('646f6526089726df60df173d'), 'customerid': 97, 'productid': 6, 'units': 139811, 'purchase_date': datetime.datetime(2023, 3, 5, 0, 0)}\n",
            "{'_id': ObjectId('646f6526089726df60df173e'), 'customerid': 43, 'productid': 9, 'units': 832816, 'purchase_date': datetime.datetime(2023, 2, 9, 0, 0)}\n",
            "{'_id': ObjectId('646f6526089726df60df173f'), 'customerid': 24, 'productid': 3, 'units': 580704, 'purchase_date': datetime.datetime(2022, 10, 26, 0, 0)}\n",
            "{'_id': ObjectId('646f6526089726df60df1740'), 'customerid': 33, 'productid': 4, 'units': 639424, 'purchase_date': datetime.datetime(2023, 4, 8, 0, 0)}\n",
            "{'_id': ObjectId('646f6526089726df60df1741'), 'customerid': 98, 'productid': 8, 'units': 118010, 'purchase_date': datetime.datetime(2023, 2, 11, 0, 0)}\n",
            "{'_id': ObjectId('646f6526089726df60df1742'), 'customerid': 12, 'productid': 1, 'units': 756708, 'purchase_date': datetime.datetime(2022, 7, 3, 0, 0)}\n",
            "{'_id': ObjectId('646f6526089726df60df1743'), 'customerid': 84, 'productid': 10, 'units': 646141000, 'purchase_date': datetime.datetime(2022, 9, 14, 0, 0)}\n",
            "{'_id': ObjectId('646f6526089726df60df1744'), 'customerid': 72, 'productid': 9, 'units': 743085000, 'purchase_date': datetime.datetime(2022, 5, 25, 0, 0)}\n",
            "{'_id': ObjectId('646f6526089726df60df1745'), 'customerid': 23, 'productid': 5, 'units': 316068, 'purchase_date': datetime.datetime(2022, 6, 14, 0, 0)}\n",
            "{'_id': ObjectId('646f6526089726df60df1746'), 'customerid': 70, 'productid': 6, 'units': 271058, 'purchase_date': datetime.datetime(2023, 1, 11, 0, 0)}\n",
            "{'_id': ObjectId('646f6526089726df60df1747'), 'customerid': 55, 'productid': 5, 'units': 86159, 'purchase_date': datetime.datetime(2023, 1, 15, 0, 0)}\n",
            "{'_id': ObjectId('646f6526089726df60df1748'), 'customerid': 46, 'productid': 4, 'units': 870222, 'purchase_date': datetime.datetime(2023, 4, 27, 0, 0)}\n",
            "{'_id': ObjectId('646f6526089726df60df1749'), 'customerid': 19, 'productid': 5, 'units': 179589, 'purchase_date': datetime.datetime(2022, 8, 24, 0, 0)}\n",
            "{'_id': ObjectId('646f6526089726df60df174a'), 'customerid': 36, 'productid': 10, 'units': 886397, 'purchase_date': datetime.datetime(2022, 11, 6, 0, 0)}\n",
            "{'_id': ObjectId('646f6526089726df60df174b'), 'customerid': 60, 'productid': 3, 'units': 547481, 'purchase_date': datetime.datetime(2023, 4, 6, 0, 0)}\n",
            "{'_id': ObjectId('646f6526089726df60df174c'), 'customerid': 19, 'productid': 10, 'units': 377855, 'purchase_date': datetime.datetime(2023, 4, 22, 0, 0)}\n",
            "{'_id': ObjectId('646f6526089726df60df174d'), 'customerid': 25, 'productid': 10, 'units': 505757, 'purchase_date': datetime.datetime(2023, 5, 22, 0, 0)}\n",
            "{'_id': ObjectId('646f6526089726df60df174e'), 'customerid': 6, 'productid': 2, 'units': 266157, 'purchase_date': datetime.datetime(2023, 2, 15, 0, 0)}\n",
            "{'_id': ObjectId('646f6526089726df60df174f'), 'customerid': 78, 'productid': 5, 'units': 406463, 'purchase_date': datetime.datetime(2023, 3, 29, 0, 0)}\n",
            "{'_id': ObjectId('646f6526089726df60df1750'), 'customerid': 49, 'productid': 3, 'units': 817800, 'purchase_date': datetime.datetime(2023, 3, 9, 0, 0)}\n",
            "{'_id': ObjectId('646f6526089726df60df1751'), 'customerid': 17, 'productid': 5, 'units': 424041, 'purchase_date': datetime.datetime(2023, 1, 19, 0, 0)}\n",
            "{'_id': ObjectId('646f6526089726df60df1752'), 'customerid': 48, 'productid': 5, 'units': 776698, 'purchase_date': datetime.datetime(2022, 10, 1, 0, 0)}\n",
            "{'_id': ObjectId('646f6526089726df60df1753'), 'customerid': 21, 'productid': 4, 'units': 373041, 'purchase_date': datetime.datetime(2023, 5, 22, 0, 0)}\n",
            "{'_id': ObjectId('646f6526089726df60df1754'), 'customerid': 63, 'productid': 7, 'units': 770674, 'purchase_date': datetime.datetime(2023, 2, 1, 0, 0)}\n",
            "{'_id': ObjectId('646f6526089726df60df1755'), 'customerid': 60, 'productid': 3, 'units': 702067, 'purchase_date': datetime.datetime(2022, 10, 4, 0, 0)}\n",
            "{'_id': ObjectId('646f6526089726df60df1756'), 'customerid': 7, 'productid': 10, 'units': 775371, 'purchase_date': datetime.datetime(2023, 4, 15, 0, 0)}\n",
            "{'_id': ObjectId('646f6526089726df60df1757'), 'customerid': 2, 'productid': 6, 'units': 720042, 'purchase_date': datetime.datetime(2022, 12, 27, 0, 0)}\n",
            "{'_id': ObjectId('646f6526089726df60df1758'), 'customerid': 4, 'productid': 2, 'units': 286762, 'purchase_date': datetime.datetime(2023, 1, 30, 0, 0)}\n",
            "{'_id': ObjectId('646f6526089726df60df1759'), 'customerid': 87, 'productid': 1, 'units': 955273000, 'purchase_date': datetime.datetime(2022, 7, 30, 0, 0)}\n",
            "{'_id': ObjectId('646f6526089726df60df175a'), 'customerid': 1, 'productid': 4, 'units': 437766, 'purchase_date': datetime.datetime(2023, 1, 18, 0, 0)}\n",
            "{'_id': ObjectId('646f6526089726df60df175b'), 'customerid': 41, 'productid': 10, 'units': 639586, 'purchase_date': datetime.datetime(2022, 12, 17, 0, 0)}\n",
            "{'_id': ObjectId('646f6526089726df60df175c'), 'customerid': 33, 'productid': 9, 'units': 370294, 'purchase_date': datetime.datetime(2023, 5, 17, 0, 0)}\n",
            "{'_id': ObjectId('646f6526089726df60df175d'), 'customerid': 5, 'productid': 1, 'units': 157557, 'purchase_date': datetime.datetime(2023, 2, 19, 0, 0)}\n",
            "{'_id': ObjectId('646f6526089726df60df175e'), 'customerid': 50, 'productid': 4, 'units': 785465, 'purchase_date': datetime.datetime(2023, 4, 13, 0, 0)}\n",
            "{'_id': ObjectId('646f6526089726df60df175f'), 'customerid': 2, 'productid': 10, 'units': 270683, 'purchase_date': datetime.datetime(2022, 10, 19, 0, 0)}\n",
            "{'_id': ObjectId('646f6526089726df60df1760'), 'customerid': 18, 'productid': 2, 'units': 795402, 'purchase_date': datetime.datetime(2023, 5, 3, 0, 0)}\n",
            "{'_id': ObjectId('646f6526089726df60df1761'), 'customerid': 58, 'productid': 9, 'units': 578502, 'purchase_date': datetime.datetime(2022, 10, 5, 0, 0)}\n",
            "{'_id': ObjectId('646f6526089726df60df1762'), 'customerid': 3, 'productid': 9, 'units': 291042, 'purchase_date': datetime.datetime(2023, 5, 4, 0, 0)}\n",
            "{'_id': ObjectId('646f6526089726df60df1763'), 'customerid': 70, 'productid': 5, 'units': 805064000, 'purchase_date': datetime.datetime(2022, 12, 4, 0, 0)}\n",
            "{'_id': ObjectId('646f6526089726df60df1764'), 'customerid': 73, 'productid': 4, 'units': 484512, 'purchase_date': datetime.datetime(2022, 10, 2, 0, 0)}\n",
            "{'_id': ObjectId('646f6526089726df60df1765'), 'customerid': 84, 'productid': 6, 'units': 104704, 'purchase_date': datetime.datetime(2022, 6, 27, 0, 0)}\n",
            "{'_id': ObjectId('646f6526089726df60df1766'), 'customerid': 10, 'productid': 8, 'units': 679356, 'purchase_date': datetime.datetime(2023, 3, 7, 0, 0)}\n",
            "{'_id': ObjectId('646f6526089726df60df1767'), 'customerid': 9, 'productid': 5, 'units': 797402000, 'purchase_date': datetime.datetime(2023, 4, 15, 0, 0)}\n",
            "{'_id': ObjectId('646f6526089726df60df1768'), 'customerid': 41, 'productid': 7, 'units': 779928, 'purchase_date': datetime.datetime(2023, 2, 1, 0, 0)}\n",
            "{'_id': ObjectId('646f6526089726df60df1769'), 'customerid': 47, 'productid': 7, 'units': 256712, 'purchase_date': datetime.datetime(2022, 12, 31, 0, 0)}\n",
            "{'_id': ObjectId('646f6526089726df60df176a'), 'customerid': 89, 'productid': 9, 'units': 909212, 'purchase_date': datetime.datetime(2022, 12, 5, 0, 0)}\n",
            "{'_id': ObjectId('646f6526089726df60df176b'), 'customerid': 70, 'productid': 5, 'units': 125586, 'purchase_date': datetime.datetime(2022, 11, 23, 0, 0)}\n",
            "{'_id': ObjectId('646f6526089726df60df176c'), 'customerid': 66, 'productid': 6, 'units': 453047, 'purchase_date': datetime.datetime(2023, 1, 18, 0, 0)}\n",
            "{'_id': ObjectId('646f6526089726df60df176d'), 'customerid': 98, 'productid': 8, 'units': 934483, 'purchase_date': datetime.datetime(2022, 7, 20, 0, 0)}\n",
            "{'_id': ObjectId('646f6526089726df60df176e'), 'customerid': 74, 'productid': 5, 'units': 292779, 'purchase_date': datetime.datetime(2023, 4, 10, 0, 0)}\n",
            "{'_id': ObjectId('646f6526089726df60df176f'), 'customerid': 4, 'productid': 6, 'units': 493036, 'purchase_date': datetime.datetime(2022, 11, 6, 0, 0)}\n",
            "{'_id': ObjectId('646f6526089726df60df1770'), 'customerid': 79, 'productid': 2, 'units': 635765, 'purchase_date': datetime.datetime(2022, 7, 13, 0, 0)}\n",
            "{'_id': ObjectId('646f6526089726df60df1771'), 'customerid': 88, 'productid': 2, 'units': 832546, 'purchase_date': datetime.datetime(2023, 3, 15, 0, 0)}\n",
            "{'_id': ObjectId('646f6526089726df60df1772'), 'customerid': 82, 'productid': 7, 'units': 73728, 'purchase_date': datetime.datetime(2023, 5, 11, 0, 0)}\n",
            "{'_id': ObjectId('646f6526089726df60df1773'), 'customerid': 71, 'productid': 1, 'units': 544933, 'purchase_date': datetime.datetime(2023, 1, 24, 0, 0)}\n",
            "{'_id': ObjectId('646f6526089726df60df1774'), 'customerid': 61, 'productid': 9, 'units': 601674, 'purchase_date': datetime.datetime(2023, 3, 6, 0, 0)}\n",
            "{'_id': ObjectId('646f6526089726df60df1775'), 'customerid': 4, 'productid': 8, 'units': 457826, 'purchase_date': datetime.datetime(2022, 8, 15, 0, 0)}\n",
            "{'_id': ObjectId('646f6526089726df60df1776'), 'customerid': 54, 'productid': 7, 'units': 790276, 'purchase_date': datetime.datetime(2022, 8, 19, 0, 0)}\n",
            "{'_id': ObjectId('646f6526089726df60df1777'), 'customerid': 73, 'productid': 5, 'units': 520071, 'purchase_date': datetime.datetime(2022, 9, 13, 0, 0)}\n",
            "{'_id': ObjectId('646f6526089726df60df1778'), 'customerid': 82, 'productid': 7, 'units': 874460, 'purchase_date': datetime.datetime(2022, 12, 19, 0, 0)}\n",
            "{'_id': ObjectId('646f6526089726df60df1779'), 'customerid': 17, 'productid': 2, 'units': 194491, 'purchase_date': datetime.datetime(2023, 2, 20, 0, 0)}\n",
            "{'_id': ObjectId('646f6526089726df60df177a'), 'customerid': 6, 'productid': 6, 'units': 84470, 'purchase_date': datetime.datetime(2022, 10, 27, 0, 0)}\n",
            "{'_id': ObjectId('646f6526089726df60df177b'), 'customerid': 10, 'productid': 1, 'units': 298020000, 'purchase_date': datetime.datetime(2022, 9, 12, 0, 0)}\n",
            "{'_id': ObjectId('646f6526089726df60df177c'), 'customerid': 83, 'productid': 6, 'units': 662565, 'purchase_date': datetime.datetime(2022, 9, 18, 0, 0)}\n",
            "{'_id': ObjectId('646f6526089726df60df177d'), 'customerid': 87, 'productid': 4, 'units': 651290, 'purchase_date': datetime.datetime(2022, 5, 28, 0, 0)}\n",
            "{'_id': ObjectId('646f6526089726df60df177e'), 'customerid': 69, 'productid': 6, 'units': 716894, 'purchase_date': datetime.datetime(2022, 8, 27, 0, 0)}\n",
            "{'_id': ObjectId('646f6526089726df60df177f'), 'customerid': 94, 'productid': 9, 'units': 743039, 'purchase_date': datetime.datetime(2023, 2, 22, 0, 0)}\n",
            "{'_id': ObjectId('646f6526089726df60df1780'), 'customerid': 46, 'productid': 6, 'units': 424765, 'purchase_date': datetime.datetime(2023, 5, 7, 0, 0)}\n",
            "{'_id': ObjectId('646f6526089726df60df1781'), 'customerid': 47, 'productid': 1, 'units': 321430, 'purchase_date': datetime.datetime(2023, 1, 7, 0, 0)}\n",
            "{'_id': ObjectId('646f6526089726df60df1782'), 'customerid': 90, 'productid': 6, 'units': 800743, 'purchase_date': datetime.datetime(2023, 5, 6, 0, 0)}\n",
            "{'_id': ObjectId('646f6526089726df60df1783'), 'customerid': 64, 'productid': 6, 'units': 248387, 'purchase_date': datetime.datetime(2022, 12, 20, 0, 0)}\n",
            "{'_id': ObjectId('646f6526089726df60df1784'), 'customerid': 85, 'productid': 8, 'units': 204837, 'purchase_date': datetime.datetime(2022, 9, 26, 0, 0)}\n",
            "{'_id': ObjectId('646f6526089726df60df1785'), 'customerid': 35, 'productid': 3, 'units': 403573, 'purchase_date': datetime.datetime(2023, 1, 22, 0, 0)}\n",
            "{'_id': ObjectId('646f6526089726df60df1786'), 'customerid': 13, 'productid': 3, 'units': 958982, 'purchase_date': datetime.datetime(2022, 10, 29, 0, 0)}\n",
            "{'_id': ObjectId('646f6526089726df60df1787'), 'customerid': 12, 'productid': 2, 'units': 320026, 'purchase_date': datetime.datetime(2023, 4, 5, 0, 0)}\n",
            "{'_id': ObjectId('646f6526089726df60df1788'), 'customerid': 2, 'productid': 3, 'units': 562812, 'purchase_date': datetime.datetime(2022, 6, 3, 0, 0)}\n",
            "{'_id': ObjectId('646f6526089726df60df1789'), 'customerid': 77, 'productid': 3, 'units': 72168, 'purchase_date': datetime.datetime(2022, 12, 29, 0, 0)}\n",
            "{'_id': ObjectId('646f6526089726df60df178a'), 'customerid': 32, 'productid': 2, 'units': 776451, 'purchase_date': datetime.datetime(2022, 10, 28, 0, 0)}\n",
            "{'_id': ObjectId('646f6526089726df60df178b'), 'customerid': 77, 'productid': 8, 'units': 220600, 'purchase_date': datetime.datetime(2022, 11, 26, 0, 0)}\n",
            "{'_id': ObjectId('646f6526089726df60df178c'), 'customerid': 48, 'productid': 6, 'units': 468598, 'purchase_date': datetime.datetime(2022, 9, 15, 0, 0)}\n",
            "{'_id': ObjectId('646f6526089726df60df178d'), 'customerid': 12, 'productid': 1, 'units': 59352, 'purchase_date': datetime.datetime(2022, 7, 23, 0, 0)}\n",
            "{'_id': ObjectId('646f6526089726df60df178e'), 'customerid': 72, 'productid': 4, 'units': 23175, 'purchase_date': datetime.datetime(2022, 7, 6, 0, 0)}\n",
            "{'_id': ObjectId('646f6526089726df60df178f'), 'customerid': 94, 'productid': 8, 'units': 526606, 'purchase_date': datetime.datetime(2022, 10, 19, 0, 0)}\n",
            "{'_id': ObjectId('646f6526089726df60df1790'), 'customerid': 75, 'productid': 6, 'units': 947007, 'purchase_date': datetime.datetime(2022, 6, 14, 0, 0)}\n",
            "{'_id': ObjectId('646f6526089726df60df1791'), 'customerid': 6, 'productid': 2, 'units': 23071, 'purchase_date': datetime.datetime(2023, 4, 29, 0, 0)}\n",
            "{'_id': ObjectId('646f6526089726df60df1792'), 'customerid': 10, 'productid': 2, 'units': 97144, 'purchase_date': datetime.datetime(2022, 11, 8, 0, 0)}\n",
            "{'_id': ObjectId('646f6526089726df60df1793'), 'customerid': 64, 'productid': 2, 'units': 880162, 'purchase_date': datetime.datetime(2022, 10, 13, 0, 0)}\n",
            "{'_id': ObjectId('646f6526089726df60df1794'), 'customerid': 25, 'productid': 7, 'units': 206990, 'purchase_date': datetime.datetime(2022, 10, 31, 0, 0)}\n",
            "{'_id': ObjectId('646f6526089726df60df1795'), 'customerid': 13, 'productid': 8, 'units': 405552, 'purchase_date': datetime.datetime(2023, 2, 17, 0, 0)}\n",
            "{'_id': ObjectId('646f6526089726df60df1796'), 'customerid': 97, 'productid': 6, 'units': 293160, 'purchase_date': datetime.datetime(2022, 11, 22, 0, 0)}\n",
            "{'_id': ObjectId('646f6526089726df60df1797'), 'customerid': 5, 'productid': 6, 'units': 963364, 'purchase_date': datetime.datetime(2022, 8, 31, 0, 0)}\n",
            "{'_id': ObjectId('646f6526089726df60df1798'), 'customerid': 45, 'productid': 4, 'units': 682952, 'purchase_date': datetime.datetime(2022, 9, 19, 0, 0)}\n",
            "{'_id': ObjectId('646f6526089726df60df1799'), 'customerid': 16, 'productid': 8, 'units': 136070, 'purchase_date': datetime.datetime(2022, 12, 13, 0, 0)}\n",
            "{'_id': ObjectId('646f6526089726df60df179a'), 'customerid': 20, 'productid': 8, 'units': 698811, 'purchase_date': datetime.datetime(2023, 2, 28, 0, 0)}\n",
            "{'_id': ObjectId('646f6526089726df60df179b'), 'customerid': 94, 'productid': 5, 'units': 619628, 'purchase_date': datetime.datetime(2022, 10, 3, 0, 0)}\n",
            "{'_id': ObjectId('646f6526089726df60df179c'), 'customerid': 13, 'productid': 4, 'units': 144589, 'purchase_date': datetime.datetime(2022, 8, 17, 0, 0)}\n",
            "{'_id': ObjectId('646f6526089726df60df179d'), 'customerid': 24, 'productid': 2, 'units': 511785, 'purchase_date': datetime.datetime(2022, 6, 24, 0, 0)}\n",
            "{'_id': ObjectId('646f6526089726df60df179e'), 'customerid': 11, 'productid': 2, 'units': 405899, 'purchase_date': datetime.datetime(2022, 11, 4, 0, 0)}\n",
            "{'_id': ObjectId('646f6526089726df60df179f'), 'customerid': 1, 'productid': 4, 'units': 925062, 'purchase_date': datetime.datetime(2022, 6, 12, 0, 0)}\n",
            "{'_id': ObjectId('646f6526089726df60df17a0'), 'customerid': 26, 'productid': 8, 'units': 299621, 'purchase_date': datetime.datetime(2022, 9, 12, 0, 0)}\n",
            "{'_id': ObjectId('646f6526089726df60df17a1'), 'customerid': 34, 'productid': 6, 'units': 425201, 'purchase_date': datetime.datetime(2022, 10, 22, 0, 0)}\n",
            "{'_id': ObjectId('646f6526089726df60df17a2'), 'customerid': 89, 'productid': 5, 'units': 481553, 'purchase_date': datetime.datetime(2022, 9, 14, 0, 0)}\n",
            "{'_id': ObjectId('646f6526089726df60df17a3'), 'customerid': 23, 'productid': 10, 'units': 626230, 'purchase_date': datetime.datetime(2022, 10, 9, 0, 0)}\n",
            "{'_id': ObjectId('646f6526089726df60df17a4'), 'customerid': 95, 'productid': 5, 'units': 911033, 'purchase_date': datetime.datetime(2022, 9, 23, 0, 0)}\n",
            "{'_id': ObjectId('646f6526089726df60df17a5'), 'customerid': 11, 'productid': 4, 'units': 16208, 'purchase_date': datetime.datetime(2022, 10, 20, 0, 0)}\n",
            "{'_id': ObjectId('646f6526089726df60df17a6'), 'customerid': 32, 'productid': 9, 'units': 757255, 'purchase_date': datetime.datetime(2023, 1, 23, 0, 0)}\n",
            "{'_id': ObjectId('646f6526089726df60df17a7'), 'customerid': 53, 'productid': 5, 'units': 68331, 'purchase_date': datetime.datetime(2023, 5, 16, 0, 0)}\n",
            "{'_id': ObjectId('646f6526089726df60df17a8'), 'customerid': 55, 'productid': 9, 'units': 278703000, 'purchase_date': datetime.datetime(2022, 11, 13, 0, 0)}\n",
            "{'_id': ObjectId('646f6526089726df60df17a9'), 'customerid': 92, 'productid': 5, 'units': 307104, 'purchase_date': datetime.datetime(2022, 8, 4, 0, 0)}\n",
            "{'_id': ObjectId('646f6526089726df60df17aa'), 'customerid': 71, 'productid': 1, 'units': 990763, 'purchase_date': datetime.datetime(2022, 9, 27, 0, 0)}\n",
            "{'_id': ObjectId('646f6526089726df60df17ab'), 'customerid': 98, 'productid': 5, 'units': 808054, 'purchase_date': datetime.datetime(2023, 4, 26, 0, 0)}\n",
            "{'_id': ObjectId('646f6526089726df60df17ac'), 'customerid': 42, 'productid': 8, 'units': 329183, 'purchase_date': datetime.datetime(2023, 1, 19, 0, 0)}\n",
            "{'_id': ObjectId('646f6526089726df60df17ad'), 'customerid': 28, 'productid': 4, 'units': 590161, 'purchase_date': datetime.datetime(2023, 1, 7, 0, 0)}\n",
            "{'_id': ObjectId('646f6526089726df60df17ae'), 'customerid': 38, 'productid': 6, 'units': 742607, 'purchase_date': datetime.datetime(2022, 8, 24, 0, 0)}\n",
            "{'_id': ObjectId('646f6526089726df60df17af'), 'customerid': 8, 'productid': 2, 'units': 472926, 'purchase_date': datetime.datetime(2022, 9, 29, 0, 0)}\n",
            "{'_id': ObjectId('646f6526089726df60df17b0'), 'customerid': 87, 'productid': 4, 'units': 334197, 'purchase_date': datetime.datetime(2023, 3, 4, 0, 0)}\n",
            "{'_id': ObjectId('646f6526089726df60df17b1'), 'customerid': 47, 'productid': 5, 'units': 431256, 'purchase_date': datetime.datetime(2023, 3, 9, 0, 0)}\n",
            "{'_id': ObjectId('646f6526089726df60df17b2'), 'customerid': 99, 'productid': 9, 'units': 160781, 'purchase_date': datetime.datetime(2022, 12, 15, 0, 0)}\n",
            "{'_id': ObjectId('646f6526089726df60df17b3'), 'customerid': 35, 'productid': 1, 'units': 471093, 'purchase_date': datetime.datetime(2023, 1, 16, 0, 0)}\n",
            "{'_id': ObjectId('646f6526089726df60df17b4'), 'customerid': 75, 'productid': 5, 'units': 410971, 'purchase_date': datetime.datetime(2022, 8, 24, 0, 0)}\n",
            "{'_id': ObjectId('646f6526089726df60df17b5'), 'customerid': 42, 'productid': 10, 'units': 725781, 'purchase_date': datetime.datetime(2022, 7, 9, 0, 0)}\n",
            "{'_id': ObjectId('646f6526089726df60df17b6'), 'customerid': 85, 'productid': 6, 'units': 798538000, 'purchase_date': datetime.datetime(2023, 1, 2, 0, 0)}\n",
            "{'_id': ObjectId('646f6526089726df60df17b7'), 'customerid': 19, 'productid': 4, 'units': 466481, 'purchase_date': datetime.datetime(2022, 8, 8, 0, 0)}\n",
            "{'_id': ObjectId('646f6526089726df60df17b8'), 'customerid': 70, 'productid': 7, 'units': 264069, 'purchase_date': datetime.datetime(2022, 8, 24, 0, 0)}\n",
            "{'_id': ObjectId('646f6526089726df60df17b9'), 'customerid': 38, 'productid': 3, 'units': 18952, 'purchase_date': datetime.datetime(2022, 8, 14, 0, 0)}\n",
            "{'_id': ObjectId('646f6526089726df60df17ba'), 'customerid': 46, 'productid': 2, 'units': 137831, 'purchase_date': datetime.datetime(2023, 5, 19, 0, 0)}\n",
            "{'_id': ObjectId('646f6526089726df60df17bb'), 'customerid': 88, 'productid': 3, 'units': 933310, 'purchase_date': datetime.datetime(2022, 10, 24, 0, 0)}\n",
            "{'_id': ObjectId('646f6526089726df60df17bc'), 'customerid': 53, 'productid': 6, 'units': 212177, 'purchase_date': datetime.datetime(2023, 4, 26, 0, 0)}\n",
            "{'_id': ObjectId('646f6526089726df60df17bd'), 'customerid': 24, 'productid': 7, 'units': 571944, 'purchase_date': datetime.datetime(2022, 10, 27, 0, 0)}\n",
            "{'_id': ObjectId('646f6526089726df60df17be'), 'customerid': 59, 'productid': 6, 'units': 327537000, 'purchase_date': datetime.datetime(2023, 2, 20, 0, 0)}\n",
            "{'_id': ObjectId('646f6526089726df60df17bf'), 'customerid': 92, 'productid': 6, 'units': 335230, 'purchase_date': datetime.datetime(2022, 8, 31, 0, 0)}\n",
            "{'_id': ObjectId('646f6526089726df60df17c0'), 'customerid': 60, 'productid': 1, 'units': 35727, 'purchase_date': datetime.datetime(2022, 6, 12, 0, 0)}\n",
            "{'_id': ObjectId('646f6526089726df60df17c1'), 'customerid': 82, 'productid': 4, 'units': 203848, 'purchase_date': datetime.datetime(2023, 5, 14, 0, 0)}\n",
            "{'_id': ObjectId('646f6526089726df60df17c2'), 'customerid': 73, 'productid': 8, 'units': 935808, 'purchase_date': datetime.datetime(2022, 7, 24, 0, 0)}\n",
            "{'_id': ObjectId('646f6526089726df60df17c3'), 'customerid': 23, 'productid': 9, 'units': 555888000, 'purchase_date': datetime.datetime(2022, 10, 8, 0, 0)}\n",
            "{'_id': ObjectId('646f6526089726df60df17c4'), 'customerid': 34, 'productid': 9, 'units': 657613000, 'purchase_date': datetime.datetime(2023, 5, 14, 0, 0)}\n",
            "{'_id': ObjectId('646f6526089726df60df17c5'), 'customerid': 62, 'productid': 7, 'units': 844051, 'purchase_date': datetime.datetime(2023, 1, 18, 0, 0)}\n",
            "{'_id': ObjectId('646f6526089726df60df17c6'), 'customerid': 20, 'productid': 4, 'units': 450631, 'purchase_date': datetime.datetime(2022, 11, 16, 0, 0)}\n",
            "{'_id': ObjectId('646f6526089726df60df17c7'), 'customerid': 43, 'productid': 1, 'units': 604226, 'purchase_date': datetime.datetime(2023, 2, 10, 0, 0)}\n",
            "{'_id': ObjectId('646f6526089726df60df17c8'), 'customerid': 94, 'productid': 1, 'units': 136227, 'purchase_date': datetime.datetime(2023, 1, 25, 0, 0)}\n",
            "{'_id': ObjectId('646f6526089726df60df17c9'), 'customerid': 35, 'productid': 9, 'units': 268070, 'purchase_date': datetime.datetime(2022, 7, 25, 0, 0)}\n",
            "{'_id': ObjectId('646f6526089726df60df17ca'), 'customerid': 4, 'productid': 3, 'units': 303929, 'purchase_date': datetime.datetime(2022, 8, 20, 0, 0)}\n",
            "{'_id': ObjectId('646f6526089726df60df17cb'), 'customerid': 98, 'productid': 7, 'units': 323761, 'purchase_date': datetime.datetime(2022, 8, 26, 0, 0)}\n",
            "{'_id': ObjectId('646f6526089726df60df17cc'), 'customerid': 87, 'productid': 6, 'units': 148257, 'purchase_date': datetime.datetime(2022, 6, 8, 0, 0)}\n",
            "{'_id': ObjectId('646f6526089726df60df17cd'), 'customerid': 72, 'productid': 4, 'units': 207250, 'purchase_date': datetime.datetime(2022, 11, 10, 0, 0)}\n",
            "{'_id': ObjectId('646f6526089726df60df17ce'), 'customerid': 64, 'productid': 8, 'units': 606025000, 'purchase_date': datetime.datetime(2022, 9, 26, 0, 0)}\n",
            "{'_id': ObjectId('646f6526089726df60df17cf'), 'customerid': 56, 'productid': 8, 'units': 29095, 'purchase_date': datetime.datetime(2023, 1, 8, 0, 0)}\n",
            "{'_id': ObjectId('646f6526089726df60df17d0'), 'customerid': 11, 'productid': 1, 'units': 464437, 'purchase_date': datetime.datetime(2023, 1, 4, 0, 0)}\n",
            "{'_id': ObjectId('646f6526089726df60df17d1'), 'customerid': 43, 'productid': 8, 'units': 694217, 'purchase_date': datetime.datetime(2022, 11, 24, 0, 0)}\n",
            "{'_id': ObjectId('646f6526089726df60df17d2'), 'customerid': 59, 'productid': 9, 'units': 275496, 'purchase_date': datetime.datetime(2022, 8, 20, 0, 0)}\n",
            "{'_id': ObjectId('646f6526089726df60df17d3'), 'customerid': 17, 'productid': 5, 'units': 613510, 'purchase_date': datetime.datetime(2023, 5, 16, 0, 0)}\n",
            "{'_id': ObjectId('646f6526089726df60df17d4'), 'customerid': 73, 'productid': 7, 'units': 667915, 'purchase_date': datetime.datetime(2023, 3, 22, 0, 0)}\n",
            "{'_id': ObjectId('646f6526089726df60df17d5'), 'customerid': 80, 'productid': 9, 'units': 129666000, 'purchase_date': datetime.datetime(2022, 11, 1, 0, 0)}\n",
            "{'_id': ObjectId('646f6526089726df60df17d6'), 'customerid': 14, 'productid': 5, 'units': 171590, 'purchase_date': datetime.datetime(2023, 4, 10, 0, 0)}\n",
            "{'_id': ObjectId('646f6526089726df60df17d7'), 'customerid': 98, 'productid': 5, 'units': 275426000, 'purchase_date': datetime.datetime(2022, 6, 17, 0, 0)}\n",
            "{'_id': ObjectId('646f6526089726df60df17d8'), 'customerid': 78, 'productid': 6, 'units': 897647, 'purchase_date': datetime.datetime(2022, 12, 24, 0, 0)}\n",
            "{'_id': ObjectId('646f6526089726df60df17d9'), 'customerid': 42, 'productid': 9, 'units': 510339, 'purchase_date': datetime.datetime(2023, 1, 31, 0, 0)}\n",
            "{'_id': ObjectId('646f6526089726df60df17da'), 'customerid': 22, 'productid': 8, 'units': 889133, 'purchase_date': datetime.datetime(2023, 4, 11, 0, 0)}\n",
            "{'_id': ObjectId('646f6526089726df60df17db'), 'customerid': 70, 'productid': 5, 'units': 254738000, 'purchase_date': datetime.datetime(2023, 5, 24, 0, 0)}\n",
            "{'_id': ObjectId('646f6526089726df60df17dc'), 'customerid': 78, 'productid': 9, 'units': 693908, 'purchase_date': datetime.datetime(2022, 10, 25, 0, 0)}\n",
            "{'_id': ObjectId('646f6526089726df60df17dd'), 'customerid': 18, 'productid': 6, 'units': 197420, 'purchase_date': datetime.datetime(2022, 5, 28, 0, 0)}\n",
            "{'_id': ObjectId('646f6526089726df60df17de'), 'customerid': 3, 'productid': 1, 'units': 890317000, 'purchase_date': datetime.datetime(2022, 12, 7, 0, 0)}\n",
            "{'_id': ObjectId('646f6526089726df60df17df'), 'customerid': 13, 'productid': 9, 'units': 96692, 'purchase_date': datetime.datetime(2023, 3, 28, 0, 0)}\n",
            "{'_id': ObjectId('646f6526089726df60df17e0'), 'customerid': 43, 'productid': 2, 'units': 997201, 'purchase_date': datetime.datetime(2023, 2, 13, 0, 0)}\n",
            "{'_id': ObjectId('646f6526089726df60df17e1'), 'customerid': 65, 'productid': 10, 'units': 305564, 'purchase_date': datetime.datetime(2022, 9, 12, 0, 0)}\n",
            "{'_id': ObjectId('646f6526089726df60df17e2'), 'customerid': 57, 'productid': 7, 'units': 972399, 'purchase_date': datetime.datetime(2022, 12, 3, 0, 0)}\n",
            "{'_id': ObjectId('646f6526089726df60df17e3'), 'customerid': 69, 'productid': 7, 'units': 509300, 'purchase_date': datetime.datetime(2023, 2, 28, 0, 0)}\n",
            "{'_id': ObjectId('646f6526089726df60df17e4'), 'customerid': 69, 'productid': 1, 'units': 325624, 'purchase_date': datetime.datetime(2022, 10, 19, 0, 0)}\n",
            "{'_id': ObjectId('646f6526089726df60df17e5'), 'customerid': 16, 'productid': 8, 'units': 793170, 'purchase_date': datetime.datetime(2023, 1, 8, 0, 0)}\n",
            "{'_id': ObjectId('646f6526089726df60df17e6'), 'customerid': 57, 'productid': 3, 'units': 465108, 'purchase_date': datetime.datetime(2023, 2, 18, 0, 0)}\n",
            "{'_id': ObjectId('646f6526089726df60df17e7'), 'customerid': 87, 'productid': 7, 'units': 987901, 'purchase_date': datetime.datetime(2022, 10, 28, 0, 0)}\n",
            "{'_id': ObjectId('646f6526089726df60df17e8'), 'customerid': 29, 'productid': 2, 'units': 939972, 'purchase_date': datetime.datetime(2022, 8, 15, 0, 0)}\n",
            "{'_id': ObjectId('646f6526089726df60df17e9'), 'customerid': 91, 'productid': 5, 'units': 139395, 'purchase_date': datetime.datetime(2022, 8, 11, 0, 0)}\n",
            "{'_id': ObjectId('646f6526089726df60df17ea'), 'customerid': 15, 'productid': 3, 'units': 269193, 'purchase_date': datetime.datetime(2023, 1, 8, 0, 0)}\n",
            "{'_id': ObjectId('646f6526089726df60df17eb'), 'customerid': 38, 'productid': 3, 'units': 916357, 'purchase_date': datetime.datetime(2022, 5, 24, 0, 0)}\n",
            "{'_id': ObjectId('646f6526089726df60df17ec'), 'customerid': 57, 'productid': 6, 'units': 775636, 'purchase_date': datetime.datetime(2022, 12, 11, 0, 0)}\n",
            "{'_id': ObjectId('646f6526089726df60df17ed'), 'customerid': 50, 'productid': 7, 'units': 106151000, 'purchase_date': datetime.datetime(2022, 12, 2, 0, 0)}\n",
            "{'_id': ObjectId('646f6526089726df60df17ee'), 'customerid': 40, 'productid': 6, 'units': 485864, 'purchase_date': datetime.datetime(2023, 1, 4, 0, 0)}\n",
            "{'_id': ObjectId('646f6526089726df60df17ef'), 'customerid': 74, 'productid': 1, 'units': 147282, 'purchase_date': datetime.datetime(2023, 4, 26, 0, 0)}\n",
            "{'_id': ObjectId('646f6526089726df60df17f0'), 'customerid': 61, 'productid': 9, 'units': 377794, 'purchase_date': datetime.datetime(2023, 4, 14, 0, 0)}\n",
            "{'_id': ObjectId('646f6526089726df60df17f1'), 'customerid': 97, 'productid': 3, 'units': 27719, 'purchase_date': datetime.datetime(2022, 7, 3, 0, 0)}\n",
            "{'_id': ObjectId('646f6526089726df60df17f2'), 'customerid': 58, 'productid': 10, 'units': 105985, 'purchase_date': datetime.datetime(2022, 9, 26, 0, 0)}\n",
            "{'_id': ObjectId('646f6526089726df60df17f3'), 'customerid': 87, 'productid': 5, 'units': 95291000, 'purchase_date': datetime.datetime(2022, 9, 9, 0, 0)}\n",
            "{'_id': ObjectId('646f6526089726df60df17f4'), 'customerid': 98, 'productid': 5, 'units': 620163, 'purchase_date': datetime.datetime(2022, 6, 11, 0, 0)}\n",
            "{'_id': ObjectId('646f6526089726df60df17f5'), 'customerid': 88, 'productid': 7, 'units': 53553, 'purchase_date': datetime.datetime(2022, 7, 30, 0, 0)}\n",
            "{'_id': ObjectId('646f6526089726df60df17f6'), 'customerid': 96, 'productid': 7, 'units': 183935, 'purchase_date': datetime.datetime(2022, 10, 11, 0, 0)}\n",
            "{'_id': ObjectId('646f6526089726df60df17f7'), 'customerid': 94, 'productid': 1, 'units': 910863, 'purchase_date': datetime.datetime(2022, 7, 19, 0, 0)}\n",
            "{'_id': ObjectId('646f6526089726df60df17f8'), 'customerid': 66, 'productid': 8, 'units': 944498, 'purchase_date': datetime.datetime(2023, 1, 5, 0, 0)}\n",
            "{'_id': ObjectId('646f6526089726df60df17f9'), 'customerid': 99, 'productid': 9, 'units': 846669, 'purchase_date': datetime.datetime(2022, 12, 13, 0, 0)}\n",
            "{'_id': ObjectId('646f6526089726df60df17fa'), 'customerid': 82, 'productid': 4, 'units': 115921, 'purchase_date': datetime.datetime(2022, 6, 22, 0, 0)}\n",
            "{'_id': ObjectId('646f6526089726df60df17fb'), 'customerid': 66, 'productid': 5, 'units': 393507, 'purchase_date': datetime.datetime(2022, 7, 25, 0, 0)}\n",
            "{'_id': ObjectId('646f6526089726df60df17fc'), 'customerid': 37, 'productid': 10, 'units': 971882, 'purchase_date': datetime.datetime(2022, 11, 6, 0, 0)}\n",
            "{'_id': ObjectId('646f6526089726df60df17fd'), 'customerid': 46, 'productid': 8, 'units': 152669, 'purchase_date': datetime.datetime(2022, 8, 6, 0, 0)}\n",
            "{'_id': ObjectId('646f6526089726df60df17fe'), 'customerid': 19, 'productid': 2, 'units': 784937, 'purchase_date': datetime.datetime(2023, 1, 19, 0, 0)}\n",
            "{'_id': ObjectId('646f6526089726df60df17ff'), 'customerid': 4, 'productid': 5, 'units': 47931, 'purchase_date': datetime.datetime(2022, 8, 15, 0, 0)}\n",
            "{'_id': ObjectId('646f6526089726df60df1800'), 'customerid': 91, 'productid': 6, 'units': 656886, 'purchase_date': datetime.datetime(2022, 9, 20, 0, 0)}\n",
            "{'_id': ObjectId('646f6526089726df60df1801'), 'customerid': 50, 'productid': 5, 'units': 90166, 'purchase_date': datetime.datetime(2022, 9, 25, 0, 0)}\n",
            "{'_id': ObjectId('646f6526089726df60df1802'), 'customerid': 55, 'productid': 6, 'units': 618726, 'purchase_date': datetime.datetime(2023, 5, 20, 0, 0)}\n",
            "{'_id': ObjectId('646f6526089726df60df1803'), 'customerid': 74, 'productid': 1, 'units': 766747, 'purchase_date': datetime.datetime(2023, 1, 29, 0, 0)}\n",
            "{'_id': ObjectId('646f6526089726df60df1804'), 'customerid': 93, 'productid': 2, 'units': 925911, 'purchase_date': datetime.datetime(2022, 12, 24, 0, 0)}\n",
            "{'_id': ObjectId('646f6526089726df60df1805'), 'customerid': 34, 'productid': 1, 'units': 966517, 'purchase_date': datetime.datetime(2023, 1, 3, 0, 0)}\n",
            "{'_id': ObjectId('646f6526089726df60df1806'), 'customerid': 13, 'productid': 6, 'units': 534079, 'purchase_date': datetime.datetime(2023, 3, 14, 0, 0)}\n",
            "{'_id': ObjectId('646f6526089726df60df1807'), 'customerid': 100, 'productid': 6, 'units': 853200, 'purchase_date': datetime.datetime(2023, 1, 14, 0, 0)}\n",
            "{'_id': ObjectId('646f6526089726df60df1808'), 'customerid': 80, 'productid': 1, 'units': 767679, 'purchase_date': datetime.datetime(2022, 7, 13, 0, 0)}\n",
            "{'_id': ObjectId('646f6526089726df60df1809'), 'customerid': 62, 'productid': 8, 'units': 787737, 'purchase_date': datetime.datetime(2022, 6, 23, 0, 0)}\n",
            "{'_id': ObjectId('646f6526089726df60df180a'), 'customerid': 24, 'productid': 9, 'units': 316685, 'purchase_date': datetime.datetime(2023, 2, 2, 0, 0)}\n",
            "{'_id': ObjectId('646f6526089726df60df180b'), 'customerid': 63, 'productid': 4, 'units': 518619000, 'purchase_date': datetime.datetime(2022, 5, 29, 0, 0)}\n",
            "{'_id': ObjectId('646f6526089726df60df180c'), 'customerid': 93, 'productid': 10, 'units': 88880, 'purchase_date': datetime.datetime(2022, 6, 7, 0, 0)}\n",
            "{'_id': ObjectId('646f6526089726df60df180d'), 'customerid': 15, 'productid': 1, 'units': 712152, 'purchase_date': datetime.datetime(2022, 9, 23, 0, 0)}\n",
            "{'_id': ObjectId('646f6526089726df60df180e'), 'customerid': 60, 'productid': 9, 'units': 977228000, 'purchase_date': datetime.datetime(2023, 4, 22, 0, 0)}\n",
            "{'_id': ObjectId('646f6526089726df60df180f'), 'customerid': 42, 'productid': 5, 'units': 740214, 'purchase_date': datetime.datetime(2022, 11, 10, 0, 0)}\n",
            "{'_id': ObjectId('646f6526089726df60df1810'), 'customerid': 68, 'productid': 4, 'units': 767759, 'purchase_date': datetime.datetime(2023, 4, 4, 0, 0)}\n",
            "{'_id': ObjectId('646f6526089726df60df1811'), 'customerid': 89, 'productid': 1, 'units': 586932, 'purchase_date': datetime.datetime(2023, 1, 19, 0, 0)}\n",
            "{'_id': ObjectId('646f6526089726df60df1812'), 'customerid': 90, 'productid': 1, 'units': 662288, 'purchase_date': datetime.datetime(2023, 1, 19, 0, 0)}\n",
            "{'_id': ObjectId('646f6526089726df60df1813'), 'customerid': 27, 'productid': 5, 'units': 678728, 'purchase_date': datetime.datetime(2023, 2, 28, 0, 0)}\n",
            "{'_id': ObjectId('646f6526089726df60df1814'), 'customerid': 76, 'productid': 7, 'units': 857601, 'purchase_date': datetime.datetime(2023, 3, 30, 0, 0)}\n",
            "{'_id': ObjectId('646f6526089726df60df1815'), 'customerid': 43, 'productid': 6, 'units': 425911, 'purchase_date': datetime.datetime(2023, 2, 3, 0, 0)}\n",
            "{'_id': ObjectId('646f6526089726df60df1816'), 'customerid': 85, 'productid': 3, 'units': 21299, 'purchase_date': datetime.datetime(2022, 12, 8, 0, 0)}\n",
            "{'_id': ObjectId('646f6526089726df60df1817'), 'customerid': 31, 'productid': 5, 'units': 463301, 'purchase_date': datetime.datetime(2023, 3, 26, 0, 0)}\n",
            "{'_id': ObjectId('646f6526089726df60df1818'), 'customerid': 38, 'productid': 6, 'units': 711996, 'purchase_date': datetime.datetime(2023, 5, 13, 0, 0)}\n",
            "{'_id': ObjectId('646f6526089726df60df1819'), 'customerid': 52, 'productid': 1, 'units': 666465, 'purchase_date': datetime.datetime(2022, 12, 11, 0, 0)}\n",
            "{'_id': ObjectId('646f6526089726df60df181a'), 'customerid': 79, 'productid': 5, 'units': 830418, 'purchase_date': datetime.datetime(2023, 1, 13, 0, 0)}\n",
            "{'_id': ObjectId('646f6526089726df60df181b'), 'customerid': 56, 'productid': 6, 'units': 123701, 'purchase_date': datetime.datetime(2022, 6, 11, 0, 0)}\n",
            "{'_id': ObjectId('646f6526089726df60df181c'), 'customerid': 33, 'productid': 6, 'units': 930701, 'purchase_date': datetime.datetime(2022, 5, 24, 0, 0)}\n",
            "{'_id': ObjectId('646f6526089726df60df181d'), 'customerid': 41, 'productid': 2, 'units': 507628, 'purchase_date': datetime.datetime(2023, 3, 18, 0, 0)}\n",
            "{'_id': ObjectId('646f6526089726df60df181e'), 'customerid': 81, 'productid': 6, 'units': 364718, 'purchase_date': datetime.datetime(2022, 9, 1, 0, 0)}\n",
            "{'_id': ObjectId('646f6526089726df60df181f'), 'customerid': 90, 'productid': 2, 'units': 784785000, 'purchase_date': datetime.datetime(2022, 7, 14, 0, 0)}\n",
            "{'_id': ObjectId('646f6526089726df60df1820'), 'customerid': 90, 'productid': 4, 'units': 954255, 'purchase_date': datetime.datetime(2023, 2, 26, 0, 0)}\n",
            "{'_id': ObjectId('646f6526089726df60df1821'), 'customerid': 29, 'productid': 2, 'units': 841566, 'purchase_date': datetime.datetime(2023, 4, 1, 0, 0)}\n",
            "{'_id': ObjectId('646f6526089726df60df1822'), 'customerid': 28, 'productid': 8, 'units': 704031, 'purchase_date': datetime.datetime(2022, 9, 11, 0, 0)}\n",
            "{'_id': ObjectId('646f6526089726df60df1823'), 'customerid': 90, 'productid': 7, 'units': 30037, 'purchase_date': datetime.datetime(2023, 3, 29, 0, 0)}\n",
            "{'_id': ObjectId('646f6526089726df60df1824'), 'customerid': 47, 'productid': 5, 'units': 791059, 'purchase_date': datetime.datetime(2022, 12, 14, 0, 0)}\n",
            "{'_id': ObjectId('646f6526089726df60df1825'), 'customerid': 26, 'productid': 1, 'units': 498262, 'purchase_date': datetime.datetime(2022, 9, 2, 0, 0)}\n",
            "{'_id': ObjectId('646f6526089726df60df1826'), 'customerid': 91, 'productid': 10, 'units': 131421, 'purchase_date': datetime.datetime(2022, 7, 6, 0, 0)}\n",
            "{'_id': ObjectId('646f6526089726df60df1827'), 'customerid': 6, 'productid': 8, 'units': 117615, 'purchase_date': datetime.datetime(2022, 9, 10, 0, 0)}\n",
            "{'_id': ObjectId('646f6526089726df60df1828'), 'customerid': 25, 'productid': 4, 'units': 746848, 'purchase_date': datetime.datetime(2023, 1, 30, 0, 0)}\n",
            "{'_id': ObjectId('646f6526089726df60df1829'), 'customerid': 44, 'productid': 1, 'units': 131730, 'purchase_date': datetime.datetime(2022, 10, 28, 0, 0)}\n",
            "{'_id': ObjectId('646f6526089726df60df182a'), 'customerid': 55, 'productid': 7, 'units': 630557, 'purchase_date': datetime.datetime(2023, 2, 26, 0, 0)}\n",
            "{'_id': ObjectId('646f6526089726df60df182b'), 'customerid': 26, 'productid': 3, 'units': 450140000, 'purchase_date': datetime.datetime(2022, 12, 22, 0, 0)}\n",
            "{'_id': ObjectId('646f6526089726df60df182c'), 'customerid': 15, 'productid': 5, 'units': 76679, 'purchase_date': datetime.datetime(2023, 1, 17, 0, 0)}\n",
            "{'_id': ObjectId('646f6526089726df60df182d'), 'customerid': 58, 'productid': 3, 'units': 286466, 'purchase_date': datetime.datetime(2023, 1, 26, 0, 0)}\n",
            "{'_id': ObjectId('646f6526089726df60df182e'), 'customerid': 67, 'productid': 7, 'units': 678149, 'purchase_date': datetime.datetime(2022, 6, 11, 0, 0)}\n",
            "{'_id': ObjectId('646f6526089726df60df182f'), 'customerid': 31, 'productid': 7, 'units': 122824, 'purchase_date': datetime.datetime(2023, 4, 25, 0, 0)}\n",
            "{'_id': ObjectId('646f6526089726df60df1830'), 'customerid': 45, 'productid': 1, 'units': 227631, 'purchase_date': datetime.datetime(2023, 5, 7, 0, 0)}\n",
            "{'_id': ObjectId('646f6526089726df60df1831'), 'customerid': 59, 'productid': 7, 'units': 550429, 'purchase_date': datetime.datetime(2023, 3, 15, 0, 0)}\n",
            "{'_id': ObjectId('646f6526089726df60df1832'), 'customerid': 59, 'productid': 8, 'units': 906669000, 'purchase_date': datetime.datetime(2022, 6, 27, 0, 0)}\n",
            "{'_id': ObjectId('646f6526089726df60df1833'), 'customerid': 38, 'productid': 9, 'units': 356611, 'purchase_date': datetime.datetime(2023, 4, 29, 0, 0)}\n",
            "{'_id': ObjectId('646f6526089726df60df1834'), 'customerid': 83, 'productid': 6, 'units': 708762, 'purchase_date': datetime.datetime(2022, 9, 5, 0, 0)}\n",
            "{'_id': ObjectId('646f6526089726df60df1835'), 'customerid': 11, 'productid': 5, 'units': 711724, 'purchase_date': datetime.datetime(2023, 2, 6, 0, 0)}\n",
            "{'_id': ObjectId('646f6526089726df60df1836'), 'customerid': 49, 'productid': 2, 'units': 924000, 'purchase_date': datetime.datetime(2022, 8, 7, 0, 0)}\n",
            "{'_id': ObjectId('646f6526089726df60df1837'), 'customerid': 98, 'productid': 3, 'units': 35383, 'purchase_date': datetime.datetime(2023, 3, 16, 0, 0)}\n",
            "{'_id': ObjectId('646f6526089726df60df1838'), 'customerid': 11, 'productid': 6, 'units': 876990, 'purchase_date': datetime.datetime(2022, 7, 20, 0, 0)}\n",
            "{'_id': ObjectId('646f6526089726df60df1839'), 'customerid': 9, 'productid': 10, 'units': 641492, 'purchase_date': datetime.datetime(2022, 7, 1, 0, 0)}\n",
            "{'_id': ObjectId('646f6526089726df60df183a'), 'customerid': 85, 'productid': 4, 'units': 375342, 'purchase_date': datetime.datetime(2022, 9, 6, 0, 0)}\n",
            "{'_id': ObjectId('646f6526089726df60df183b'), 'customerid': 79, 'productid': 9, 'units': 461184, 'purchase_date': datetime.datetime(2022, 7, 21, 0, 0)}\n",
            "{'_id': ObjectId('646f6526089726df60df183c'), 'customerid': 19, 'productid': 1, 'units': 952537, 'purchase_date': datetime.datetime(2022, 8, 27, 0, 0)}\n",
            "{'_id': ObjectId('646f6526089726df60df183d'), 'customerid': 43, 'productid': 4, 'units': 750985, 'purchase_date': datetime.datetime(2022, 8, 3, 0, 0)}\n",
            "{'_id': ObjectId('646f6526089726df60df183e'), 'customerid': 16, 'productid': 4, 'units': 457843, 'purchase_date': datetime.datetime(2023, 5, 13, 0, 0)}\n",
            "{'_id': ObjectId('646f6526089726df60df183f'), 'customerid': 26, 'productid': 1, 'units': 909336, 'purchase_date': datetime.datetime(2022, 11, 21, 0, 0)}\n",
            "{'_id': ObjectId('646f6526089726df60df1840'), 'customerid': 5, 'productid': 5, 'units': 748829, 'purchase_date': datetime.datetime(2022, 6, 19, 0, 0)}\n",
            "{'_id': ObjectId('646f6526089726df60df1841'), 'customerid': 67, 'productid': 8, 'units': 239943000, 'purchase_date': datetime.datetime(2023, 5, 4, 0, 0)}\n",
            "{'_id': ObjectId('646f6526089726df60df1842'), 'customerid': 56, 'productid': 9, 'units': 136157, 'purchase_date': datetime.datetime(2023, 1, 30, 0, 0)}\n",
            "{'_id': ObjectId('646f6526089726df60df1843'), 'customerid': 54, 'productid': 1, 'units': 157516, 'purchase_date': datetime.datetime(2022, 9, 26, 0, 0)}\n",
            "{'_id': ObjectId('646f6526089726df60df1844'), 'customerid': 68, 'productid': 5, 'units': 109938, 'purchase_date': datetime.datetime(2023, 3, 31, 0, 0)}\n",
            "{'_id': ObjectId('646f6526089726df60df1845'), 'customerid': 4, 'productid': 2, 'units': 629760, 'purchase_date': datetime.datetime(2022, 10, 8, 0, 0)}\n",
            "{'_id': ObjectId('646f6526089726df60df1846'), 'customerid': 52, 'productid': 6, 'units': 520486000, 'purchase_date': datetime.datetime(2023, 4, 19, 0, 0)}\n",
            "{'_id': ObjectId('646f6526089726df60df1847'), 'customerid': 7, 'productid': 6, 'units': 149622, 'purchase_date': datetime.datetime(2022, 7, 5, 0, 0)}\n",
            "{'_id': ObjectId('646f6526089726df60df1848'), 'customerid': 54, 'productid': 6, 'units': 584203, 'purchase_date': datetime.datetime(2022, 11, 1, 0, 0)}\n",
            "{'_id': ObjectId('646f6526089726df60df1849'), 'customerid': 17, 'productid': 5, 'units': 293039, 'purchase_date': datetime.datetime(2022, 9, 4, 0, 0)}\n",
            "{'_id': ObjectId('646f6526089726df60df184a'), 'customerid': 81, 'productid': 5, 'units': 567414, 'purchase_date': datetime.datetime(2022, 7, 13, 0, 0)}\n",
            "{'_id': ObjectId('646f6526089726df60df184b'), 'customerid': 71, 'productid': 9, 'units': 491051, 'purchase_date': datetime.datetime(2022, 8, 31, 0, 0)}\n",
            "{'_id': ObjectId('646f6526089726df60df184c'), 'customerid': 93, 'productid': 9, 'units': 541674, 'purchase_date': datetime.datetime(2022, 8, 12, 0, 0)}\n",
            "{'_id': ObjectId('646f6526089726df60df184d'), 'customerid': 49, 'productid': 8, 'units': 209451, 'purchase_date': datetime.datetime(2022, 12, 29, 0, 0)}\n",
            "{'_id': ObjectId('646f6526089726df60df184e'), 'customerid': 75, 'productid': 6, 'units': 370592, 'purchase_date': datetime.datetime(2022, 7, 30, 0, 0)}\n",
            "{'_id': ObjectId('646f6526089726df60df184f'), 'customerid': 22, 'productid': 4, 'units': 642753, 'purchase_date': datetime.datetime(2023, 1, 19, 0, 0)}\n",
            "{'_id': ObjectId('646f6526089726df60df1850'), 'customerid': 83, 'productid': 9, 'units': 215336, 'purchase_date': datetime.datetime(2023, 4, 28, 0, 0)}\n",
            "{'_id': ObjectId('646f6526089726df60df1851'), 'customerid': 34, 'productid': 5, 'units': 638103, 'purchase_date': datetime.datetime(2023, 5, 14, 0, 0)}\n",
            "{'_id': ObjectId('646f6526089726df60df1852'), 'customerid': 92, 'productid': 7, 'units': 883912, 'purchase_date': datetime.datetime(2023, 5, 20, 0, 0)}\n",
            "{'_id': ObjectId('646f6526089726df60df1853'), 'customerid': 93, 'productid': 8, 'units': 514937, 'purchase_date': datetime.datetime(2022, 10, 21, 0, 0)}\n",
            "{'_id': ObjectId('646f6526089726df60df1854'), 'customerid': 84, 'productid': 2, 'units': 710868, 'purchase_date': datetime.datetime(2022, 12, 24, 0, 0)}\n",
            "{'_id': ObjectId('646f6526089726df60df1855'), 'customerid': 7, 'productid': 3, 'units': 471329, 'purchase_date': datetime.datetime(2022, 9, 7, 0, 0)}\n",
            "{'_id': ObjectId('646f6526089726df60df1856'), 'customerid': 61, 'productid': 10, 'units': 56475000, 'purchase_date': datetime.datetime(2022, 12, 3, 0, 0)}\n",
            "{'_id': ObjectId('646f6526089726df60df1857'), 'customerid': 46, 'productid': 2, 'units': 695150, 'purchase_date': datetime.datetime(2022, 11, 6, 0, 0)}\n",
            "{'_id': ObjectId('646f6526089726df60df1858'), 'customerid': 100, 'productid': 3, 'units': 808561, 'purchase_date': datetime.datetime(2022, 10, 2, 0, 0)}\n"
          ]
        }
      ]
    },
    {
      "cell_type": "markdown",
      "source": [
        "# Extraction \n"
      ],
      "metadata": {
        "id": "2rCz0PjQdk3d"
      }
    },
    {
      "cell_type": "markdown",
      "source": [
        "## Dump mongodb data to json file. "
      ],
      "metadata": {
        "id": "aARmVUWMfry8"
      }
    },
    {
      "cell_type": "markdown",
      "source": [
        "create a JSON file with the filtered data. "
      ],
      "metadata": {
        "id": "PW0sAp8Kdptk"
      }
    },
    {
      "cell_type": "code",
      "source": [
        "from bson.json_util import dumps\n",
        "import json"
      ],
      "metadata": {
        "id": "McVys3EohoeQ"
      },
      "execution_count": 27,
      "outputs": []
    },
    {
      "cell_type": "markdown",
      "source": [
        "open a file. create a cursor that gets passed to dumps which takes binary json data and converts it serialized json, deseralizes it to python object and then serializes it back to a file.  "
      ],
      "metadata": {
        "id": "76ZvzDUYd65Y"
      }
    },
    {
      "cell_type": "markdown",
      "source": [
        "## dump orders"
      ],
      "metadata": {
        "id": "9QhRK7b9iUbE"
      }
    },
    {
      "cell_type": "code",
      "source": [
        "cursor_matt = db.orders.find({'purchase_date': {'$gt':datetime.datetime(2023, 5, 15, 0, 0, 0)}})\n",
        "#for doc in cursor_matt:\n",
        "#  doc['purchase_date'] = doc['purchase_date'].isoformat()\n",
        "#  print(doc)\n",
        "\n",
        "#cursor_matt"
      ],
      "metadata": {
        "id": "PBgmQVd-B3Om"
      },
      "execution_count": 28,
      "outputs": []
    },
    {
      "cell_type": "code",
      "source": [
        "#from bson import json_util\n",
        "\n",
        "# Convert dates to JSON-compatible format\n",
        "#for document in cursor_matt:\n",
        "#    document['purchase_date'] = document['purchase_date'].isoformat()\n",
        "\n",
        "# Export to JSON\n",
        "#json_data = json.dumps(cursor_matt, default=json_util.default)\n",
        "\n",
        "# Print the JSON data\n",
        "#print(json_data)"
      ],
      "metadata": {
        "id": "eRHc4gsyGMkW"
      },
      "execution_count": 29,
      "outputs": []
    },
    {
      "cell_type": "code",
      "source": [
        "cursor_matt"
      ],
      "metadata": {
        "colab": {
          "base_uri": "https://localhost:8080/"
        },
        "id": "WkGGexd0DUvK",
        "outputId": "37a704e6-f522-4da6-f025-90455bfbb650"
      },
      "execution_count": 30,
      "outputs": [
        {
          "output_type": "execute_result",
          "data": {
            "text/plain": [
              "<pymongo.cursor.Cursor at 0x7f6762d991e0>"
            ]
          },
          "metadata": {},
          "execution_count": 30
        }
      ]
    },
    {
      "cell_type": "code",
      "source": [
        "with open('orders_gt_2023_5_15.json', 'w') as file:\n",
        "  #cursor = db.orders.find({'purchase_date': {'$gt':datetime.datetime(2023, 5, 15, 0, 0, 0)}})\n",
        "  json.dump(json.loads(dumps(cursor_matt)), file)"
      ],
      "metadata": {
        "id": "7Hki9yWNGxpQ"
      },
      "execution_count": 324,
      "outputs": []
    },
    {
      "cell_type": "code",
      "source": [
        "with open('orders_gt_2023_5_15.json', 'w') as file:\n",
        "  cursor = db.orders.find({'purchase_date': {'$gt':datetime.datetime(2023, 5, 15, 0, 0, 0)}})\n",
        "  file.write(dumps(cursor))"
      ],
      "metadata": {
        "id": "jG3g6M9cZ6xU"
      },
      "execution_count": 31,
      "outputs": []
    },
    {
      "cell_type": "markdown",
      "source": [
        "## dump customers"
      ],
      "metadata": {
        "id": "_sL1H_YPiWem"
      }
    },
    {
      "cell_type": "code",
      "source": [
        "with open('customers.json', 'w') as file:\n",
        "  cursor = db.customers.find({})\n",
        "  file.write(dumps(cursor))"
      ],
      "metadata": {
        "id": "DMPIXxjgg4La"
      },
      "execution_count": 32,
      "outputs": []
    },
    {
      "cell_type": "markdown",
      "source": [
        "## dump products"
      ],
      "metadata": {
        "id": "v5Q4VGapiXvC"
      }
    },
    {
      "cell_type": "code",
      "source": [
        "with open('products.json', 'w') as file:\n",
        "  cursor = db.products.find({})\n",
        "  file.write(dumps(cursor))"
      ],
      "metadata": {
        "id": "4B7LAYJRhBke"
      },
      "execution_count": 33,
      "outputs": []
    },
    {
      "cell_type": "code",
      "source": [
        "!ls -lh *.json"
      ],
      "metadata": {
        "colab": {
          "base_uri": "https://localhost:8080/"
        },
        "id": "3MX4SWGdh6n4",
        "outputId": "154ad9fd-ec85-4b7a-d0d5-0622b4a76be7"
      },
      "execution_count": 34,
      "outputs": [
        {
          "output_type": "stream",
          "name": "stdout",
          "text": [
            "-rw-r--r-- 1 root root  20K May 25 13:40 customers.json\n",
            "-rw-r--r-- 1 root root 2.3K May 25 13:40 orders_gt_2023_5_15.json\n",
            "-rw-r--r-- 1 root root 1.2K May 25 13:40 products.json\n"
          ]
        }
      ]
    },
    {
      "cell_type": "code",
      "source": [
        "!cat orders_gt_2023_5_15.json"
      ],
      "metadata": {
        "colab": {
          "base_uri": "https://localhost:8080/"
        },
        "id": "U5YH3Jsrh-Eb",
        "outputId": "44d95e0c-0386-470b-e8f7-dcc14b659aa0"
      },
      "execution_count": 35,
      "outputs": [
        {
          "output_type": "stream",
          "name": "stdout",
          "text": [
            "[{\"_id\": {\"$oid\": \"646f6526089726df60df14f0\"}, \"customerid\": 2, \"productid\": 2, \"units\": 517079, \"purchase_date\": {\"$date\": \"2023-05-21T00:00:00Z\"}}, {\"_id\": {\"$oid\": \"646f6526089726df60df1528\"}, \"customerid\": 93, \"productid\": 10, \"units\": 413320000, \"purchase_date\": {\"$date\": \"2023-05-20T00:00:00Z\"}}, {\"_id\": {\"$oid\": \"646f6526089726df60df1555\"}, \"customerid\": 48, \"productid\": 1, \"units\": 797846000, \"purchase_date\": {\"$date\": \"2023-05-22T00:00:00Z\"}}, {\"_id\": {\"$oid\": \"646f6526089726df60df15dd\"}, \"customerid\": 31, \"productid\": 4, \"units\": 309532, \"purchase_date\": {\"$date\": \"2023-05-16T00:00:00Z\"}}, {\"_id\": {\"$oid\": \"646f6526089726df60df1612\"}, \"customerid\": 11, \"productid\": 9, \"units\": 952671, \"purchase_date\": {\"$date\": \"2023-05-17T00:00:00Z\"}}, {\"_id\": {\"$oid\": \"646f6526089726df60df16c4\"}, \"customerid\": 71, \"productid\": 6, \"units\": 914078, \"purchase_date\": {\"$date\": \"2023-05-24T00:00:00Z\"}}, {\"_id\": {\"$oid\": \"646f6526089726df60df174d\"}, \"customerid\": 25, \"productid\": 10, \"units\": 505757, \"purchase_date\": {\"$date\": \"2023-05-22T00:00:00Z\"}}, {\"_id\": {\"$oid\": \"646f6526089726df60df1753\"}, \"customerid\": 21, \"productid\": 4, \"units\": 373041, \"purchase_date\": {\"$date\": \"2023-05-22T00:00:00Z\"}}, {\"_id\": {\"$oid\": \"646f6526089726df60df175c\"}, \"customerid\": 33, \"productid\": 9, \"units\": 370294, \"purchase_date\": {\"$date\": \"2023-05-17T00:00:00Z\"}}, {\"_id\": {\"$oid\": \"646f6526089726df60df17a7\"}, \"customerid\": 53, \"productid\": 5, \"units\": 68331, \"purchase_date\": {\"$date\": \"2023-05-16T00:00:00Z\"}}, {\"_id\": {\"$oid\": \"646f6526089726df60df17ba\"}, \"customerid\": 46, \"productid\": 2, \"units\": 137831, \"purchase_date\": {\"$date\": \"2023-05-19T00:00:00Z\"}}, {\"_id\": {\"$oid\": \"646f6526089726df60df17d3\"}, \"customerid\": 17, \"productid\": 5, \"units\": 613510, \"purchase_date\": {\"$date\": \"2023-05-16T00:00:00Z\"}}, {\"_id\": {\"$oid\": \"646f6526089726df60df17db\"}, \"customerid\": 70, \"productid\": 5, \"units\": 254738000, \"purchase_date\": {\"$date\": \"2023-05-24T00:00:00Z\"}}, {\"_id\": {\"$oid\": \"646f6526089726df60df1802\"}, \"customerid\": 55, \"productid\": 6, \"units\": 618726, \"purchase_date\": {\"$date\": \"2023-05-20T00:00:00Z\"}}, {\"_id\": {\"$oid\": \"646f6526089726df60df1852\"}, \"customerid\": 92, \"productid\": 7, \"units\": 883912, \"purchase_date\": {\"$date\": \"2023-05-20T00:00:00Z\"}}]"
          ]
        }
      ]
    },
    {
      "cell_type": "markdown",
      "source": [
        "# Reading JSON file data into Python"
      ],
      "metadata": {
        "id": "-K7Ot5B7JO9o"
      }
    },
    {
      "cell_type": "markdown",
      "source": [
        "## JSON into Pandas DataFrame"
      ],
      "metadata": {
        "id": "xJIgvFHFJcH-"
      }
    },
    {
      "cell_type": "code",
      "source": [
        "import pandas as pd"
      ],
      "metadata": {
        "id": "MlJrhVWijy5S"
      },
      "execution_count": 36,
      "outputs": []
    },
    {
      "cell_type": "code",
      "source": [
        "customers_df = pd.read_json('customers.json')\n",
        "customers_df.head(2)"
      ],
      "metadata": {
        "colab": {
          "base_uri": "https://localhost:8080/",
          "height": 112
        },
        "id": "EfUKlGYZj0PT",
        "outputId": "376dbff9-3448-4de8-a61e-86cb6b823249"
      },
      "execution_count": 37,
      "outputs": [
        {
          "output_type": "execute_result",
          "data": {
            "text/plain": [
              "                                    _id  customerid             name  \\\n",
              "0  {'$oid': '646f6526089726df60df1403'}           1  Natalie Beasley   \n",
              "1  {'$oid': '646f6526089726df60df1404'}           2    Cindy Patrick   \n",
              "\n",
              "                 email                                              phone  \n",
              "0  omartin@example.com  [783.279.1929x07149, (340)372-9532x11823, 537-...  \n",
              "1  ozamora@example.com  [007.249.9850, (194)710-1490x36575, 599.989.55...  "
            ],
            "text/html": [
              "\n",
              "  <div id=\"df-fa4e569b-51c4-4fb2-85fa-c034d229a9f2\">\n",
              "    <div class=\"colab-df-container\">\n",
              "      <div>\n",
              "<style scoped>\n",
              "    .dataframe tbody tr th:only-of-type {\n",
              "        vertical-align: middle;\n",
              "    }\n",
              "\n",
              "    .dataframe tbody tr th {\n",
              "        vertical-align: top;\n",
              "    }\n",
              "\n",
              "    .dataframe thead th {\n",
              "        text-align: right;\n",
              "    }\n",
              "</style>\n",
              "<table border=\"1\" class=\"dataframe\">\n",
              "  <thead>\n",
              "    <tr style=\"text-align: right;\">\n",
              "      <th></th>\n",
              "      <th>_id</th>\n",
              "      <th>customerid</th>\n",
              "      <th>name</th>\n",
              "      <th>email</th>\n",
              "      <th>phone</th>\n",
              "    </tr>\n",
              "  </thead>\n",
              "  <tbody>\n",
              "    <tr>\n",
              "      <th>0</th>\n",
              "      <td>{'$oid': '646f6526089726df60df1403'}</td>\n",
              "      <td>1</td>\n",
              "      <td>Natalie Beasley</td>\n",
              "      <td>omartin@example.com</td>\n",
              "      <td>[783.279.1929x07149, (340)372-9532x11823, 537-...</td>\n",
              "    </tr>\n",
              "    <tr>\n",
              "      <th>1</th>\n",
              "      <td>{'$oid': '646f6526089726df60df1404'}</td>\n",
              "      <td>2</td>\n",
              "      <td>Cindy Patrick</td>\n",
              "      <td>ozamora@example.com</td>\n",
              "      <td>[007.249.9850, (194)710-1490x36575, 599.989.55...</td>\n",
              "    </tr>\n",
              "  </tbody>\n",
              "</table>\n",
              "</div>\n",
              "      <button class=\"colab-df-convert\" onclick=\"convertToInteractive('df-fa4e569b-51c4-4fb2-85fa-c034d229a9f2')\"\n",
              "              title=\"Convert this dataframe to an interactive table.\"\n",
              "              style=\"display:none;\">\n",
              "        \n",
              "  <svg xmlns=\"http://www.w3.org/2000/svg\" height=\"24px\"viewBox=\"0 0 24 24\"\n",
              "       width=\"24px\">\n",
              "    <path d=\"M0 0h24v24H0V0z\" fill=\"none\"/>\n",
              "    <path d=\"M18.56 5.44l.94 2.06.94-2.06 2.06-.94-2.06-.94-.94-2.06-.94 2.06-2.06.94zm-11 1L8.5 8.5l.94-2.06 2.06-.94-2.06-.94L8.5 2.5l-.94 2.06-2.06.94zm10 10l.94 2.06.94-2.06 2.06-.94-2.06-.94-.94-2.06-.94 2.06-2.06.94z\"/><path d=\"M17.41 7.96l-1.37-1.37c-.4-.4-.92-.59-1.43-.59-.52 0-1.04.2-1.43.59L10.3 9.45l-7.72 7.72c-.78.78-.78 2.05 0 2.83L4 21.41c.39.39.9.59 1.41.59.51 0 1.02-.2 1.41-.59l7.78-7.78 2.81-2.81c.8-.78.8-2.07 0-2.86zM5.41 20L4 18.59l7.72-7.72 1.47 1.35L5.41 20z\"/>\n",
              "  </svg>\n",
              "      </button>\n",
              "      \n",
              "  <style>\n",
              "    .colab-df-container {\n",
              "      display:flex;\n",
              "      flex-wrap:wrap;\n",
              "      gap: 12px;\n",
              "    }\n",
              "\n",
              "    .colab-df-convert {\n",
              "      background-color: #E8F0FE;\n",
              "      border: none;\n",
              "      border-radius: 50%;\n",
              "      cursor: pointer;\n",
              "      display: none;\n",
              "      fill: #1967D2;\n",
              "      height: 32px;\n",
              "      padding: 0 0 0 0;\n",
              "      width: 32px;\n",
              "    }\n",
              "\n",
              "    .colab-df-convert:hover {\n",
              "      background-color: #E2EBFA;\n",
              "      box-shadow: 0px 1px 2px rgba(60, 64, 67, 0.3), 0px 1px 3px 1px rgba(60, 64, 67, 0.15);\n",
              "      fill: #174EA6;\n",
              "    }\n",
              "\n",
              "    [theme=dark] .colab-df-convert {\n",
              "      background-color: #3B4455;\n",
              "      fill: #D2E3FC;\n",
              "    }\n",
              "\n",
              "    [theme=dark] .colab-df-convert:hover {\n",
              "      background-color: #434B5C;\n",
              "      box-shadow: 0px 1px 3px 1px rgba(0, 0, 0, 0.15);\n",
              "      filter: drop-shadow(0px 1px 2px rgba(0, 0, 0, 0.3));\n",
              "      fill: #FFFFFF;\n",
              "    }\n",
              "  </style>\n",
              "\n",
              "      <script>\n",
              "        const buttonEl =\n",
              "          document.querySelector('#df-fa4e569b-51c4-4fb2-85fa-c034d229a9f2 button.colab-df-convert');\n",
              "        buttonEl.style.display =\n",
              "          google.colab.kernel.accessAllowed ? 'block' : 'none';\n",
              "\n",
              "        async function convertToInteractive(key) {\n",
              "          const element = document.querySelector('#df-fa4e569b-51c4-4fb2-85fa-c034d229a9f2');\n",
              "          const dataTable =\n",
              "            await google.colab.kernel.invokeFunction('convertToInteractive',\n",
              "                                                     [key], {});\n",
              "          if (!dataTable) return;\n",
              "\n",
              "          const docLinkHtml = 'Like what you see? Visit the ' +\n",
              "            '<a target=\"_blank\" href=https://colab.research.google.com/notebooks/data_table.ipynb>data table notebook</a>'\n",
              "            + ' to learn more about interactive tables.';\n",
              "          element.innerHTML = '';\n",
              "          dataTable['output_type'] = 'display_data';\n",
              "          await google.colab.output.renderOutput(dataTable, element);\n",
              "          const docLink = document.createElement('div');\n",
              "          docLink.innerHTML = docLinkHtml;\n",
              "          element.appendChild(docLink);\n",
              "        }\n",
              "      </script>\n",
              "    </div>\n",
              "  </div>\n",
              "  "
            ]
          },
          "metadata": {},
          "execution_count": 37
        }
      ]
    },
    {
      "cell_type": "code",
      "source": [
        "orders_df = pd.read_json('orders_gt_2023_5_15.json')\n",
        "orders_df.head(2)"
      ],
      "metadata": {
        "colab": {
          "base_uri": "https://localhost:8080/",
          "height": 112
        },
        "id": "hueMtil_j6Fi",
        "outputId": "731ef52f-c729-4de7-9b9e-d6c781bb5bac"
      },
      "execution_count": 38,
      "outputs": [
        {
          "output_type": "execute_result",
          "data": {
            "text/plain": [
              "                                    _id  customerid  productid      units  \\\n",
              "0  {'$oid': '646f6526089726df60df14f0'}           2          2     517079   \n",
              "1  {'$oid': '646f6526089726df60df1528'}          93         10  413320000   \n",
              "\n",
              "                       purchase_date  \n",
              "0  {'$date': '2023-05-21T00:00:00Z'}  \n",
              "1  {'$date': '2023-05-20T00:00:00Z'}  "
            ],
            "text/html": [
              "\n",
              "  <div id=\"df-459eace4-626e-4f01-a203-00dd3c3ab36c\">\n",
              "    <div class=\"colab-df-container\">\n",
              "      <div>\n",
              "<style scoped>\n",
              "    .dataframe tbody tr th:only-of-type {\n",
              "        vertical-align: middle;\n",
              "    }\n",
              "\n",
              "    .dataframe tbody tr th {\n",
              "        vertical-align: top;\n",
              "    }\n",
              "\n",
              "    .dataframe thead th {\n",
              "        text-align: right;\n",
              "    }\n",
              "</style>\n",
              "<table border=\"1\" class=\"dataframe\">\n",
              "  <thead>\n",
              "    <tr style=\"text-align: right;\">\n",
              "      <th></th>\n",
              "      <th>_id</th>\n",
              "      <th>customerid</th>\n",
              "      <th>productid</th>\n",
              "      <th>units</th>\n",
              "      <th>purchase_date</th>\n",
              "    </tr>\n",
              "  </thead>\n",
              "  <tbody>\n",
              "    <tr>\n",
              "      <th>0</th>\n",
              "      <td>{'$oid': '646f6526089726df60df14f0'}</td>\n",
              "      <td>2</td>\n",
              "      <td>2</td>\n",
              "      <td>517079</td>\n",
              "      <td>{'$date': '2023-05-21T00:00:00Z'}</td>\n",
              "    </tr>\n",
              "    <tr>\n",
              "      <th>1</th>\n",
              "      <td>{'$oid': '646f6526089726df60df1528'}</td>\n",
              "      <td>93</td>\n",
              "      <td>10</td>\n",
              "      <td>413320000</td>\n",
              "      <td>{'$date': '2023-05-20T00:00:00Z'}</td>\n",
              "    </tr>\n",
              "  </tbody>\n",
              "</table>\n",
              "</div>\n",
              "      <button class=\"colab-df-convert\" onclick=\"convertToInteractive('df-459eace4-626e-4f01-a203-00dd3c3ab36c')\"\n",
              "              title=\"Convert this dataframe to an interactive table.\"\n",
              "              style=\"display:none;\">\n",
              "        \n",
              "  <svg xmlns=\"http://www.w3.org/2000/svg\" height=\"24px\"viewBox=\"0 0 24 24\"\n",
              "       width=\"24px\">\n",
              "    <path d=\"M0 0h24v24H0V0z\" fill=\"none\"/>\n",
              "    <path d=\"M18.56 5.44l.94 2.06.94-2.06 2.06-.94-2.06-.94-.94-2.06-.94 2.06-2.06.94zm-11 1L8.5 8.5l.94-2.06 2.06-.94-2.06-.94L8.5 2.5l-.94 2.06-2.06.94zm10 10l.94 2.06.94-2.06 2.06-.94-2.06-.94-.94-2.06-.94 2.06-2.06.94z\"/><path d=\"M17.41 7.96l-1.37-1.37c-.4-.4-.92-.59-1.43-.59-.52 0-1.04.2-1.43.59L10.3 9.45l-7.72 7.72c-.78.78-.78 2.05 0 2.83L4 21.41c.39.39.9.59 1.41.59.51 0 1.02-.2 1.41-.59l7.78-7.78 2.81-2.81c.8-.78.8-2.07 0-2.86zM5.41 20L4 18.59l7.72-7.72 1.47 1.35L5.41 20z\"/>\n",
              "  </svg>\n",
              "      </button>\n",
              "      \n",
              "  <style>\n",
              "    .colab-df-container {\n",
              "      display:flex;\n",
              "      flex-wrap:wrap;\n",
              "      gap: 12px;\n",
              "    }\n",
              "\n",
              "    .colab-df-convert {\n",
              "      background-color: #E8F0FE;\n",
              "      border: none;\n",
              "      border-radius: 50%;\n",
              "      cursor: pointer;\n",
              "      display: none;\n",
              "      fill: #1967D2;\n",
              "      height: 32px;\n",
              "      padding: 0 0 0 0;\n",
              "      width: 32px;\n",
              "    }\n",
              "\n",
              "    .colab-df-convert:hover {\n",
              "      background-color: #E2EBFA;\n",
              "      box-shadow: 0px 1px 2px rgba(60, 64, 67, 0.3), 0px 1px 3px 1px rgba(60, 64, 67, 0.15);\n",
              "      fill: #174EA6;\n",
              "    }\n",
              "\n",
              "    [theme=dark] .colab-df-convert {\n",
              "      background-color: #3B4455;\n",
              "      fill: #D2E3FC;\n",
              "    }\n",
              "\n",
              "    [theme=dark] .colab-df-convert:hover {\n",
              "      background-color: #434B5C;\n",
              "      box-shadow: 0px 1px 3px 1px rgba(0, 0, 0, 0.15);\n",
              "      filter: drop-shadow(0px 1px 2px rgba(0, 0, 0, 0.3));\n",
              "      fill: #FFFFFF;\n",
              "    }\n",
              "  </style>\n",
              "\n",
              "      <script>\n",
              "        const buttonEl =\n",
              "          document.querySelector('#df-459eace4-626e-4f01-a203-00dd3c3ab36c button.colab-df-convert');\n",
              "        buttonEl.style.display =\n",
              "          google.colab.kernel.accessAllowed ? 'block' : 'none';\n",
              "\n",
              "        async function convertToInteractive(key) {\n",
              "          const element = document.querySelector('#df-459eace4-626e-4f01-a203-00dd3c3ab36c');\n",
              "          const dataTable =\n",
              "            await google.colab.kernel.invokeFunction('convertToInteractive',\n",
              "                                                     [key], {});\n",
              "          if (!dataTable) return;\n",
              "\n",
              "          const docLinkHtml = 'Like what you see? Visit the ' +\n",
              "            '<a target=\"_blank\" href=https://colab.research.google.com/notebooks/data_table.ipynb>data table notebook</a>'\n",
              "            + ' to learn more about interactive tables.';\n",
              "          element.innerHTML = '';\n",
              "          dataTable['output_type'] = 'display_data';\n",
              "          await google.colab.output.renderOutput(dataTable, element);\n",
              "          const docLink = document.createElement('div');\n",
              "          docLink.innerHTML = docLinkHtml;\n",
              "          element.appendChild(docLink);\n",
              "        }\n",
              "      </script>\n",
              "    </div>\n",
              "  </div>\n",
              "  "
            ]
          },
          "metadata": {},
          "execution_count": 38
        }
      ]
    },
    {
      "cell_type": "code",
      "source": [
        "products_df = pd.read_json('products.json')\n",
        "products_df.head(2)"
      ],
      "metadata": {
        "colab": {
          "base_uri": "https://localhost:8080/",
          "height": 112
        },
        "id": "TyYwyqmtkEYW",
        "outputId": "fd6f3913-e37b-4452-a81c-b721cd327802"
      },
      "execution_count": 39,
      "outputs": [
        {
          "output_type": "execute_result",
          "data": {
            "text/plain": [
              "                                    _id  productid     category      price\n",
              "0  {'$oid': '646f6526089726df60df1467'}          1  Electronics  37.802382\n",
              "1  {'$oid': '646f6526089726df60df1468'}          2         Home  96.901525"
            ],
            "text/html": [
              "\n",
              "  <div id=\"df-1b6657ef-34a3-4f6a-a103-1a9d0bbaff9d\">\n",
              "    <div class=\"colab-df-container\">\n",
              "      <div>\n",
              "<style scoped>\n",
              "    .dataframe tbody tr th:only-of-type {\n",
              "        vertical-align: middle;\n",
              "    }\n",
              "\n",
              "    .dataframe tbody tr th {\n",
              "        vertical-align: top;\n",
              "    }\n",
              "\n",
              "    .dataframe thead th {\n",
              "        text-align: right;\n",
              "    }\n",
              "</style>\n",
              "<table border=\"1\" class=\"dataframe\">\n",
              "  <thead>\n",
              "    <tr style=\"text-align: right;\">\n",
              "      <th></th>\n",
              "      <th>_id</th>\n",
              "      <th>productid</th>\n",
              "      <th>category</th>\n",
              "      <th>price</th>\n",
              "    </tr>\n",
              "  </thead>\n",
              "  <tbody>\n",
              "    <tr>\n",
              "      <th>0</th>\n",
              "      <td>{'$oid': '646f6526089726df60df1467'}</td>\n",
              "      <td>1</td>\n",
              "      <td>Electronics</td>\n",
              "      <td>37.802382</td>\n",
              "    </tr>\n",
              "    <tr>\n",
              "      <th>1</th>\n",
              "      <td>{'$oid': '646f6526089726df60df1468'}</td>\n",
              "      <td>2</td>\n",
              "      <td>Home</td>\n",
              "      <td>96.901525</td>\n",
              "    </tr>\n",
              "  </tbody>\n",
              "</table>\n",
              "</div>\n",
              "      <button class=\"colab-df-convert\" onclick=\"convertToInteractive('df-1b6657ef-34a3-4f6a-a103-1a9d0bbaff9d')\"\n",
              "              title=\"Convert this dataframe to an interactive table.\"\n",
              "              style=\"display:none;\">\n",
              "        \n",
              "  <svg xmlns=\"http://www.w3.org/2000/svg\" height=\"24px\"viewBox=\"0 0 24 24\"\n",
              "       width=\"24px\">\n",
              "    <path d=\"M0 0h24v24H0V0z\" fill=\"none\"/>\n",
              "    <path d=\"M18.56 5.44l.94 2.06.94-2.06 2.06-.94-2.06-.94-.94-2.06-.94 2.06-2.06.94zm-11 1L8.5 8.5l.94-2.06 2.06-.94-2.06-.94L8.5 2.5l-.94 2.06-2.06.94zm10 10l.94 2.06.94-2.06 2.06-.94-2.06-.94-.94-2.06-.94 2.06-2.06.94z\"/><path d=\"M17.41 7.96l-1.37-1.37c-.4-.4-.92-.59-1.43-.59-.52 0-1.04.2-1.43.59L10.3 9.45l-7.72 7.72c-.78.78-.78 2.05 0 2.83L4 21.41c.39.39.9.59 1.41.59.51 0 1.02-.2 1.41-.59l7.78-7.78 2.81-2.81c.8-.78.8-2.07 0-2.86zM5.41 20L4 18.59l7.72-7.72 1.47 1.35L5.41 20z\"/>\n",
              "  </svg>\n",
              "      </button>\n",
              "      \n",
              "  <style>\n",
              "    .colab-df-container {\n",
              "      display:flex;\n",
              "      flex-wrap:wrap;\n",
              "      gap: 12px;\n",
              "    }\n",
              "\n",
              "    .colab-df-convert {\n",
              "      background-color: #E8F0FE;\n",
              "      border: none;\n",
              "      border-radius: 50%;\n",
              "      cursor: pointer;\n",
              "      display: none;\n",
              "      fill: #1967D2;\n",
              "      height: 32px;\n",
              "      padding: 0 0 0 0;\n",
              "      width: 32px;\n",
              "    }\n",
              "\n",
              "    .colab-df-convert:hover {\n",
              "      background-color: #E2EBFA;\n",
              "      box-shadow: 0px 1px 2px rgba(60, 64, 67, 0.3), 0px 1px 3px 1px rgba(60, 64, 67, 0.15);\n",
              "      fill: #174EA6;\n",
              "    }\n",
              "\n",
              "    [theme=dark] .colab-df-convert {\n",
              "      background-color: #3B4455;\n",
              "      fill: #D2E3FC;\n",
              "    }\n",
              "\n",
              "    [theme=dark] .colab-df-convert:hover {\n",
              "      background-color: #434B5C;\n",
              "      box-shadow: 0px 1px 3px 1px rgba(0, 0, 0, 0.15);\n",
              "      filter: drop-shadow(0px 1px 2px rgba(0, 0, 0, 0.3));\n",
              "      fill: #FFFFFF;\n",
              "    }\n",
              "  </style>\n",
              "\n",
              "      <script>\n",
              "        const buttonEl =\n",
              "          document.querySelector('#df-1b6657ef-34a3-4f6a-a103-1a9d0bbaff9d button.colab-df-convert');\n",
              "        buttonEl.style.display =\n",
              "          google.colab.kernel.accessAllowed ? 'block' : 'none';\n",
              "\n",
              "        async function convertToInteractive(key) {\n",
              "          const element = document.querySelector('#df-1b6657ef-34a3-4f6a-a103-1a9d0bbaff9d');\n",
              "          const dataTable =\n",
              "            await google.colab.kernel.invokeFunction('convertToInteractive',\n",
              "                                                     [key], {});\n",
              "          if (!dataTable) return;\n",
              "\n",
              "          const docLinkHtml = 'Like what you see? Visit the ' +\n",
              "            '<a target=\"_blank\" href=https://colab.research.google.com/notebooks/data_table.ipynb>data table notebook</a>'\n",
              "            + ' to learn more about interactive tables.';\n",
              "          element.innerHTML = '';\n",
              "          dataTable['output_type'] = 'display_data';\n",
              "          await google.colab.output.renderOutput(dataTable, element);\n",
              "          const docLink = document.createElement('div');\n",
              "          docLink.innerHTML = docLinkHtml;\n",
              "          element.appendChild(docLink);\n",
              "        }\n",
              "      </script>\n",
              "    </div>\n",
              "  </div>\n",
              "  "
            ]
          },
          "metadata": {},
          "execution_count": 39
        }
      ]
    },
    {
      "cell_type": "markdown",
      "source": [
        "### Merge DataFrames"
      ],
      "metadata": {
        "id": "xG-DsipBJXwz"
      }
    },
    {
      "cell_type": "code",
      "source": [
        "customers_orders_df = customers_df.merge(orders_df, left_on='customerid', right_on='customerid')\n",
        "customers_orders_df.head(3)"
      ],
      "metadata": {
        "colab": {
          "base_uri": "https://localhost:8080/",
          "height": 239
        },
        "id": "j5344ESrkhkN",
        "outputId": "56d1aadd-d427-4602-f621-a59c98471f58"
      },
      "execution_count": 40,
      "outputs": [
        {
          "output_type": "execute_result",
          "data": {
            "text/plain": [
              "                                  _id_x  customerid           name  \\\n",
              "0  {'$oid': '646f6526089726df60df1404'}           2  Cindy Patrick   \n",
              "1  {'$oid': '646f6526089726df60df140d'}          11       Tony Lee   \n",
              "2  {'$oid': '646f6526089726df60df1413'}          17  Kirk Gonzalez   \n",
              "\n",
              "                     email                                              phone  \\\n",
              "0      ozamora@example.com  [007.249.9850, (194)710-1490x36575, 599.989.55...   \n",
              "1       esmith@example.com  [307-592-1744x4537, +1-517-528-3479x61188, 001...   \n",
              "2  scottnorton@example.org  [001-068-310-5238x6924, 001-020-922-1919x442, ...   \n",
              "\n",
              "                                  _id_y  productid   units  \\\n",
              "0  {'$oid': '646f6526089726df60df14f0'}          2  517079   \n",
              "1  {'$oid': '646f6526089726df60df1612'}          9  952671   \n",
              "2  {'$oid': '646f6526089726df60df17d3'}          5  613510   \n",
              "\n",
              "                       purchase_date  \n",
              "0  {'$date': '2023-05-21T00:00:00Z'}  \n",
              "1  {'$date': '2023-05-17T00:00:00Z'}  \n",
              "2  {'$date': '2023-05-16T00:00:00Z'}  "
            ],
            "text/html": [
              "\n",
              "  <div id=\"df-26d42b1c-ff58-41bd-ae66-0d61c17e74ad\">\n",
              "    <div class=\"colab-df-container\">\n",
              "      <div>\n",
              "<style scoped>\n",
              "    .dataframe tbody tr th:only-of-type {\n",
              "        vertical-align: middle;\n",
              "    }\n",
              "\n",
              "    .dataframe tbody tr th {\n",
              "        vertical-align: top;\n",
              "    }\n",
              "\n",
              "    .dataframe thead th {\n",
              "        text-align: right;\n",
              "    }\n",
              "</style>\n",
              "<table border=\"1\" class=\"dataframe\">\n",
              "  <thead>\n",
              "    <tr style=\"text-align: right;\">\n",
              "      <th></th>\n",
              "      <th>_id_x</th>\n",
              "      <th>customerid</th>\n",
              "      <th>name</th>\n",
              "      <th>email</th>\n",
              "      <th>phone</th>\n",
              "      <th>_id_y</th>\n",
              "      <th>productid</th>\n",
              "      <th>units</th>\n",
              "      <th>purchase_date</th>\n",
              "    </tr>\n",
              "  </thead>\n",
              "  <tbody>\n",
              "    <tr>\n",
              "      <th>0</th>\n",
              "      <td>{'$oid': '646f6526089726df60df1404'}</td>\n",
              "      <td>2</td>\n",
              "      <td>Cindy Patrick</td>\n",
              "      <td>ozamora@example.com</td>\n",
              "      <td>[007.249.9850, (194)710-1490x36575, 599.989.55...</td>\n",
              "      <td>{'$oid': '646f6526089726df60df14f0'}</td>\n",
              "      <td>2</td>\n",
              "      <td>517079</td>\n",
              "      <td>{'$date': '2023-05-21T00:00:00Z'}</td>\n",
              "    </tr>\n",
              "    <tr>\n",
              "      <th>1</th>\n",
              "      <td>{'$oid': '646f6526089726df60df140d'}</td>\n",
              "      <td>11</td>\n",
              "      <td>Tony Lee</td>\n",
              "      <td>esmith@example.com</td>\n",
              "      <td>[307-592-1744x4537, +1-517-528-3479x61188, 001...</td>\n",
              "      <td>{'$oid': '646f6526089726df60df1612'}</td>\n",
              "      <td>9</td>\n",
              "      <td>952671</td>\n",
              "      <td>{'$date': '2023-05-17T00:00:00Z'}</td>\n",
              "    </tr>\n",
              "    <tr>\n",
              "      <th>2</th>\n",
              "      <td>{'$oid': '646f6526089726df60df1413'}</td>\n",
              "      <td>17</td>\n",
              "      <td>Kirk Gonzalez</td>\n",
              "      <td>scottnorton@example.org</td>\n",
              "      <td>[001-068-310-5238x6924, 001-020-922-1919x442, ...</td>\n",
              "      <td>{'$oid': '646f6526089726df60df17d3'}</td>\n",
              "      <td>5</td>\n",
              "      <td>613510</td>\n",
              "      <td>{'$date': '2023-05-16T00:00:00Z'}</td>\n",
              "    </tr>\n",
              "  </tbody>\n",
              "</table>\n",
              "</div>\n",
              "      <button class=\"colab-df-convert\" onclick=\"convertToInteractive('df-26d42b1c-ff58-41bd-ae66-0d61c17e74ad')\"\n",
              "              title=\"Convert this dataframe to an interactive table.\"\n",
              "              style=\"display:none;\">\n",
              "        \n",
              "  <svg xmlns=\"http://www.w3.org/2000/svg\" height=\"24px\"viewBox=\"0 0 24 24\"\n",
              "       width=\"24px\">\n",
              "    <path d=\"M0 0h24v24H0V0z\" fill=\"none\"/>\n",
              "    <path d=\"M18.56 5.44l.94 2.06.94-2.06 2.06-.94-2.06-.94-.94-2.06-.94 2.06-2.06.94zm-11 1L8.5 8.5l.94-2.06 2.06-.94-2.06-.94L8.5 2.5l-.94 2.06-2.06.94zm10 10l.94 2.06.94-2.06 2.06-.94-2.06-.94-.94-2.06-.94 2.06-2.06.94z\"/><path d=\"M17.41 7.96l-1.37-1.37c-.4-.4-.92-.59-1.43-.59-.52 0-1.04.2-1.43.59L10.3 9.45l-7.72 7.72c-.78.78-.78 2.05 0 2.83L4 21.41c.39.39.9.59 1.41.59.51 0 1.02-.2 1.41-.59l7.78-7.78 2.81-2.81c.8-.78.8-2.07 0-2.86zM5.41 20L4 18.59l7.72-7.72 1.47 1.35L5.41 20z\"/>\n",
              "  </svg>\n",
              "      </button>\n",
              "      \n",
              "  <style>\n",
              "    .colab-df-container {\n",
              "      display:flex;\n",
              "      flex-wrap:wrap;\n",
              "      gap: 12px;\n",
              "    }\n",
              "\n",
              "    .colab-df-convert {\n",
              "      background-color: #E8F0FE;\n",
              "      border: none;\n",
              "      border-radius: 50%;\n",
              "      cursor: pointer;\n",
              "      display: none;\n",
              "      fill: #1967D2;\n",
              "      height: 32px;\n",
              "      padding: 0 0 0 0;\n",
              "      width: 32px;\n",
              "    }\n",
              "\n",
              "    .colab-df-convert:hover {\n",
              "      background-color: #E2EBFA;\n",
              "      box-shadow: 0px 1px 2px rgba(60, 64, 67, 0.3), 0px 1px 3px 1px rgba(60, 64, 67, 0.15);\n",
              "      fill: #174EA6;\n",
              "    }\n",
              "\n",
              "    [theme=dark] .colab-df-convert {\n",
              "      background-color: #3B4455;\n",
              "      fill: #D2E3FC;\n",
              "    }\n",
              "\n",
              "    [theme=dark] .colab-df-convert:hover {\n",
              "      background-color: #434B5C;\n",
              "      box-shadow: 0px 1px 3px 1px rgba(0, 0, 0, 0.15);\n",
              "      filter: drop-shadow(0px 1px 2px rgba(0, 0, 0, 0.3));\n",
              "      fill: #FFFFFF;\n",
              "    }\n",
              "  </style>\n",
              "\n",
              "      <script>\n",
              "        const buttonEl =\n",
              "          document.querySelector('#df-26d42b1c-ff58-41bd-ae66-0d61c17e74ad button.colab-df-convert');\n",
              "        buttonEl.style.display =\n",
              "          google.colab.kernel.accessAllowed ? 'block' : 'none';\n",
              "\n",
              "        async function convertToInteractive(key) {\n",
              "          const element = document.querySelector('#df-26d42b1c-ff58-41bd-ae66-0d61c17e74ad');\n",
              "          const dataTable =\n",
              "            await google.colab.kernel.invokeFunction('convertToInteractive',\n",
              "                                                     [key], {});\n",
              "          if (!dataTable) return;\n",
              "\n",
              "          const docLinkHtml = 'Like what you see? Visit the ' +\n",
              "            '<a target=\"_blank\" href=https://colab.research.google.com/notebooks/data_table.ipynb>data table notebook</a>'\n",
              "            + ' to learn more about interactive tables.';\n",
              "          element.innerHTML = '';\n",
              "          dataTable['output_type'] = 'display_data';\n",
              "          await google.colab.output.renderOutput(dataTable, element);\n",
              "          const docLink = document.createElement('div');\n",
              "          docLink.innerHTML = docLinkHtml;\n",
              "          element.appendChild(docLink);\n",
              "        }\n",
              "      </script>\n",
              "    </div>\n",
              "  </div>\n",
              "  "
            ]
          },
          "metadata": {},
          "execution_count": 40
        }
      ]
    },
    {
      "cell_type": "code",
      "source": [
        "cust_ord_prods_df = customers_orders_df.merge(products_df, left_on='productid', right_on='productid')\n",
        "cust_ord_prods_df.head(3)"
      ],
      "metadata": {
        "colab": {
          "base_uri": "https://localhost:8080/",
          "height": 381
        },
        "id": "0sDVIswjJpOa",
        "outputId": "5f179612-570e-4fb3-fbe2-0fca267e4756"
      },
      "execution_count": 42,
      "outputs": [
        {
          "output_type": "execute_result",
          "data": {
            "text/plain": [
              "                                  _id_x  customerid           name  \\\n",
              "0  {'$oid': '646f6526089726df60df1404'}           2  Cindy Patrick   \n",
              "1  {'$oid': '646f6526089726df60df1430'}          46  Jordan Harris   \n",
              "2  {'$oid': '646f6526089726df60df140d'}          11       Tony Lee   \n",
              "\n",
              "                 email                                              phone  \\\n",
              "0  ozamora@example.com  [007.249.9850, (194)710-1490x36575, 599.989.55...   \n",
              "1  cnelson@example.net          [(412)509-5835, 0903143657, 859-600-5484]   \n",
              "2   esmith@example.com  [307-592-1744x4537, +1-517-528-3479x61188, 001...   \n",
              "\n",
              "                                  _id_y  productid   units  \\\n",
              "0  {'$oid': '646f6526089726df60df14f0'}          2  517079   \n",
              "1  {'$oid': '646f6526089726df60df17ba'}          2  137831   \n",
              "2  {'$oid': '646f6526089726df60df1612'}          9  952671   \n",
              "\n",
              "                       purchase_date                                   _id  \\\n",
              "0  {'$date': '2023-05-21T00:00:00Z'}  {'$oid': '646f6526089726df60df1468'}   \n",
              "1  {'$date': '2023-05-19T00:00:00Z'}  {'$oid': '646f6526089726df60df1468'}   \n",
              "2  {'$date': '2023-05-17T00:00:00Z'}  {'$oid': '646f6526089726df60df146f'}   \n",
              "\n",
              "      category      price  \n",
              "0         Home  96.901525  \n",
              "1         Home  96.901525  \n",
              "2  Electronics  85.798046  "
            ],
            "text/html": [
              "\n",
              "  <div id=\"df-7ea91667-35ff-4ed9-b842-09e6fdd50606\">\n",
              "    <div class=\"colab-df-container\">\n",
              "      <div>\n",
              "<style scoped>\n",
              "    .dataframe tbody tr th:only-of-type {\n",
              "        vertical-align: middle;\n",
              "    }\n",
              "\n",
              "    .dataframe tbody tr th {\n",
              "        vertical-align: top;\n",
              "    }\n",
              "\n",
              "    .dataframe thead th {\n",
              "        text-align: right;\n",
              "    }\n",
              "</style>\n",
              "<table border=\"1\" class=\"dataframe\">\n",
              "  <thead>\n",
              "    <tr style=\"text-align: right;\">\n",
              "      <th></th>\n",
              "      <th>_id_x</th>\n",
              "      <th>customerid</th>\n",
              "      <th>name</th>\n",
              "      <th>email</th>\n",
              "      <th>phone</th>\n",
              "      <th>_id_y</th>\n",
              "      <th>productid</th>\n",
              "      <th>units</th>\n",
              "      <th>purchase_date</th>\n",
              "      <th>_id</th>\n",
              "      <th>category</th>\n",
              "      <th>price</th>\n",
              "    </tr>\n",
              "  </thead>\n",
              "  <tbody>\n",
              "    <tr>\n",
              "      <th>0</th>\n",
              "      <td>{'$oid': '646f6526089726df60df1404'}</td>\n",
              "      <td>2</td>\n",
              "      <td>Cindy Patrick</td>\n",
              "      <td>ozamora@example.com</td>\n",
              "      <td>[007.249.9850, (194)710-1490x36575, 599.989.55...</td>\n",
              "      <td>{'$oid': '646f6526089726df60df14f0'}</td>\n",
              "      <td>2</td>\n",
              "      <td>517079</td>\n",
              "      <td>{'$date': '2023-05-21T00:00:00Z'}</td>\n",
              "      <td>{'$oid': '646f6526089726df60df1468'}</td>\n",
              "      <td>Home</td>\n",
              "      <td>96.901525</td>\n",
              "    </tr>\n",
              "    <tr>\n",
              "      <th>1</th>\n",
              "      <td>{'$oid': '646f6526089726df60df1430'}</td>\n",
              "      <td>46</td>\n",
              "      <td>Jordan Harris</td>\n",
              "      <td>cnelson@example.net</td>\n",
              "      <td>[(412)509-5835, 0903143657, 859-600-5484]</td>\n",
              "      <td>{'$oid': '646f6526089726df60df17ba'}</td>\n",
              "      <td>2</td>\n",
              "      <td>137831</td>\n",
              "      <td>{'$date': '2023-05-19T00:00:00Z'}</td>\n",
              "      <td>{'$oid': '646f6526089726df60df1468'}</td>\n",
              "      <td>Home</td>\n",
              "      <td>96.901525</td>\n",
              "    </tr>\n",
              "    <tr>\n",
              "      <th>2</th>\n",
              "      <td>{'$oid': '646f6526089726df60df140d'}</td>\n",
              "      <td>11</td>\n",
              "      <td>Tony Lee</td>\n",
              "      <td>esmith@example.com</td>\n",
              "      <td>[307-592-1744x4537, +1-517-528-3479x61188, 001...</td>\n",
              "      <td>{'$oid': '646f6526089726df60df1612'}</td>\n",
              "      <td>9</td>\n",
              "      <td>952671</td>\n",
              "      <td>{'$date': '2023-05-17T00:00:00Z'}</td>\n",
              "      <td>{'$oid': '646f6526089726df60df146f'}</td>\n",
              "      <td>Electronics</td>\n",
              "      <td>85.798046</td>\n",
              "    </tr>\n",
              "  </tbody>\n",
              "</table>\n",
              "</div>\n",
              "      <button class=\"colab-df-convert\" onclick=\"convertToInteractive('df-7ea91667-35ff-4ed9-b842-09e6fdd50606')\"\n",
              "              title=\"Convert this dataframe to an interactive table.\"\n",
              "              style=\"display:none;\">\n",
              "        \n",
              "  <svg xmlns=\"http://www.w3.org/2000/svg\" height=\"24px\"viewBox=\"0 0 24 24\"\n",
              "       width=\"24px\">\n",
              "    <path d=\"M0 0h24v24H0V0z\" fill=\"none\"/>\n",
              "    <path d=\"M18.56 5.44l.94 2.06.94-2.06 2.06-.94-2.06-.94-.94-2.06-.94 2.06-2.06.94zm-11 1L8.5 8.5l.94-2.06 2.06-.94-2.06-.94L8.5 2.5l-.94 2.06-2.06.94zm10 10l.94 2.06.94-2.06 2.06-.94-2.06-.94-.94-2.06-.94 2.06-2.06.94z\"/><path d=\"M17.41 7.96l-1.37-1.37c-.4-.4-.92-.59-1.43-.59-.52 0-1.04.2-1.43.59L10.3 9.45l-7.72 7.72c-.78.78-.78 2.05 0 2.83L4 21.41c.39.39.9.59 1.41.59.51 0 1.02-.2 1.41-.59l7.78-7.78 2.81-2.81c.8-.78.8-2.07 0-2.86zM5.41 20L4 18.59l7.72-7.72 1.47 1.35L5.41 20z\"/>\n",
              "  </svg>\n",
              "      </button>\n",
              "      \n",
              "  <style>\n",
              "    .colab-df-container {\n",
              "      display:flex;\n",
              "      flex-wrap:wrap;\n",
              "      gap: 12px;\n",
              "    }\n",
              "\n",
              "    .colab-df-convert {\n",
              "      background-color: #E8F0FE;\n",
              "      border: none;\n",
              "      border-radius: 50%;\n",
              "      cursor: pointer;\n",
              "      display: none;\n",
              "      fill: #1967D2;\n",
              "      height: 32px;\n",
              "      padding: 0 0 0 0;\n",
              "      width: 32px;\n",
              "    }\n",
              "\n",
              "    .colab-df-convert:hover {\n",
              "      background-color: #E2EBFA;\n",
              "      box-shadow: 0px 1px 2px rgba(60, 64, 67, 0.3), 0px 1px 3px 1px rgba(60, 64, 67, 0.15);\n",
              "      fill: #174EA6;\n",
              "    }\n",
              "\n",
              "    [theme=dark] .colab-df-convert {\n",
              "      background-color: #3B4455;\n",
              "      fill: #D2E3FC;\n",
              "    }\n",
              "\n",
              "    [theme=dark] .colab-df-convert:hover {\n",
              "      background-color: #434B5C;\n",
              "      box-shadow: 0px 1px 3px 1px rgba(0, 0, 0, 0.15);\n",
              "      filter: drop-shadow(0px 1px 2px rgba(0, 0, 0, 0.3));\n",
              "      fill: #FFFFFF;\n",
              "    }\n",
              "  </style>\n",
              "\n",
              "      <script>\n",
              "        const buttonEl =\n",
              "          document.querySelector('#df-7ea91667-35ff-4ed9-b842-09e6fdd50606 button.colab-df-convert');\n",
              "        buttonEl.style.display =\n",
              "          google.colab.kernel.accessAllowed ? 'block' : 'none';\n",
              "\n",
              "        async function convertToInteractive(key) {\n",
              "          const element = document.querySelector('#df-7ea91667-35ff-4ed9-b842-09e6fdd50606');\n",
              "          const dataTable =\n",
              "            await google.colab.kernel.invokeFunction('convertToInteractive',\n",
              "                                                     [key], {});\n",
              "          if (!dataTable) return;\n",
              "\n",
              "          const docLinkHtml = 'Like what you see? Visit the ' +\n",
              "            '<a target=\"_blank\" href=https://colab.research.google.com/notebooks/data_table.ipynb>data table notebook</a>'\n",
              "            + ' to learn more about interactive tables.';\n",
              "          element.innerHTML = '';\n",
              "          dataTable['output_type'] = 'display_data';\n",
              "          await google.colab.output.renderOutput(dataTable, element);\n",
              "          const docLink = document.createElement('div');\n",
              "          docLink.innerHTML = docLinkHtml;\n",
              "          element.appendChild(docLink);\n",
              "        }\n",
              "      </script>\n",
              "    </div>\n",
              "  </div>\n",
              "  "
            ]
          },
          "metadata": {},
          "execution_count": 42
        }
      ]
    },
    {
      "cell_type": "markdown",
      "source": [
        "### Drop columns"
      ],
      "metadata": {
        "id": "mnByUAB1J7Vj"
      }
    },
    {
      "cell_type": "code",
      "source": [
        "cust_ord_prods_df.drop('_id_x',axis=1,inplace=True)\n",
        "cust_ord_prods_df.drop('_id_y',axis=1,inplace=True)\n",
        "cust_ord_prods_df.drop('_id',axis=1,inplace=True)"
      ],
      "metadata": {
        "id": "uXyQAwHKlxYk"
      },
      "execution_count": 44,
      "outputs": []
    },
    {
      "cell_type": "code",
      "source": [
        "cust_ord_prods_df.head(3)"
      ],
      "metadata": {
        "colab": {
          "base_uri": "https://localhost:8080/",
          "height": 143
        },
        "id": "NKS42223mZif",
        "outputId": "ee811ab4-e340-4723-d32b-bfe522b857a5"
      },
      "execution_count": 46,
      "outputs": [
        {
          "output_type": "execute_result",
          "data": {
            "text/plain": [
              "   customerid           name                email  \\\n",
              "0           2  Cindy Patrick  ozamora@example.com   \n",
              "1          46  Jordan Harris  cnelson@example.net   \n",
              "2          11       Tony Lee   esmith@example.com   \n",
              "\n",
              "                                               phone  productid   units  \\\n",
              "0  [007.249.9850, (194)710-1490x36575, 599.989.55...          2  517079   \n",
              "1          [(412)509-5835, 0903143657, 859-600-5484]          2  137831   \n",
              "2  [307-592-1744x4537, +1-517-528-3479x61188, 001...          9  952671   \n",
              "\n",
              "                       purchase_date     category      price  \n",
              "0  {'$date': '2023-05-21T00:00:00Z'}         Home  96.901525  \n",
              "1  {'$date': '2023-05-19T00:00:00Z'}         Home  96.901525  \n",
              "2  {'$date': '2023-05-17T00:00:00Z'}  Electronics  85.798046  "
            ],
            "text/html": [
              "\n",
              "  <div id=\"df-b02a6d2d-f5a0-489e-bc6d-60f8feecdab6\">\n",
              "    <div class=\"colab-df-container\">\n",
              "      <div>\n",
              "<style scoped>\n",
              "    .dataframe tbody tr th:only-of-type {\n",
              "        vertical-align: middle;\n",
              "    }\n",
              "\n",
              "    .dataframe tbody tr th {\n",
              "        vertical-align: top;\n",
              "    }\n",
              "\n",
              "    .dataframe thead th {\n",
              "        text-align: right;\n",
              "    }\n",
              "</style>\n",
              "<table border=\"1\" class=\"dataframe\">\n",
              "  <thead>\n",
              "    <tr style=\"text-align: right;\">\n",
              "      <th></th>\n",
              "      <th>customerid</th>\n",
              "      <th>name</th>\n",
              "      <th>email</th>\n",
              "      <th>phone</th>\n",
              "      <th>productid</th>\n",
              "      <th>units</th>\n",
              "      <th>purchase_date</th>\n",
              "      <th>category</th>\n",
              "      <th>price</th>\n",
              "    </tr>\n",
              "  </thead>\n",
              "  <tbody>\n",
              "    <tr>\n",
              "      <th>0</th>\n",
              "      <td>2</td>\n",
              "      <td>Cindy Patrick</td>\n",
              "      <td>ozamora@example.com</td>\n",
              "      <td>[007.249.9850, (194)710-1490x36575, 599.989.55...</td>\n",
              "      <td>2</td>\n",
              "      <td>517079</td>\n",
              "      <td>{'$date': '2023-05-21T00:00:00Z'}</td>\n",
              "      <td>Home</td>\n",
              "      <td>96.901525</td>\n",
              "    </tr>\n",
              "    <tr>\n",
              "      <th>1</th>\n",
              "      <td>46</td>\n",
              "      <td>Jordan Harris</td>\n",
              "      <td>cnelson@example.net</td>\n",
              "      <td>[(412)509-5835, 0903143657, 859-600-5484]</td>\n",
              "      <td>2</td>\n",
              "      <td>137831</td>\n",
              "      <td>{'$date': '2023-05-19T00:00:00Z'}</td>\n",
              "      <td>Home</td>\n",
              "      <td>96.901525</td>\n",
              "    </tr>\n",
              "    <tr>\n",
              "      <th>2</th>\n",
              "      <td>11</td>\n",
              "      <td>Tony Lee</td>\n",
              "      <td>esmith@example.com</td>\n",
              "      <td>[307-592-1744x4537, +1-517-528-3479x61188, 001...</td>\n",
              "      <td>9</td>\n",
              "      <td>952671</td>\n",
              "      <td>{'$date': '2023-05-17T00:00:00Z'}</td>\n",
              "      <td>Electronics</td>\n",
              "      <td>85.798046</td>\n",
              "    </tr>\n",
              "  </tbody>\n",
              "</table>\n",
              "</div>\n",
              "      <button class=\"colab-df-convert\" onclick=\"convertToInteractive('df-b02a6d2d-f5a0-489e-bc6d-60f8feecdab6')\"\n",
              "              title=\"Convert this dataframe to an interactive table.\"\n",
              "              style=\"display:none;\">\n",
              "        \n",
              "  <svg xmlns=\"http://www.w3.org/2000/svg\" height=\"24px\"viewBox=\"0 0 24 24\"\n",
              "       width=\"24px\">\n",
              "    <path d=\"M0 0h24v24H0V0z\" fill=\"none\"/>\n",
              "    <path d=\"M18.56 5.44l.94 2.06.94-2.06 2.06-.94-2.06-.94-.94-2.06-.94 2.06-2.06.94zm-11 1L8.5 8.5l.94-2.06 2.06-.94-2.06-.94L8.5 2.5l-.94 2.06-2.06.94zm10 10l.94 2.06.94-2.06 2.06-.94-2.06-.94-.94-2.06-.94 2.06-2.06.94z\"/><path d=\"M17.41 7.96l-1.37-1.37c-.4-.4-.92-.59-1.43-.59-.52 0-1.04.2-1.43.59L10.3 9.45l-7.72 7.72c-.78.78-.78 2.05 0 2.83L4 21.41c.39.39.9.59 1.41.59.51 0 1.02-.2 1.41-.59l7.78-7.78 2.81-2.81c.8-.78.8-2.07 0-2.86zM5.41 20L4 18.59l7.72-7.72 1.47 1.35L5.41 20z\"/>\n",
              "  </svg>\n",
              "      </button>\n",
              "      \n",
              "  <style>\n",
              "    .colab-df-container {\n",
              "      display:flex;\n",
              "      flex-wrap:wrap;\n",
              "      gap: 12px;\n",
              "    }\n",
              "\n",
              "    .colab-df-convert {\n",
              "      background-color: #E8F0FE;\n",
              "      border: none;\n",
              "      border-radius: 50%;\n",
              "      cursor: pointer;\n",
              "      display: none;\n",
              "      fill: #1967D2;\n",
              "      height: 32px;\n",
              "      padding: 0 0 0 0;\n",
              "      width: 32px;\n",
              "    }\n",
              "\n",
              "    .colab-df-convert:hover {\n",
              "      background-color: #E2EBFA;\n",
              "      box-shadow: 0px 1px 2px rgba(60, 64, 67, 0.3), 0px 1px 3px 1px rgba(60, 64, 67, 0.15);\n",
              "      fill: #174EA6;\n",
              "    }\n",
              "\n",
              "    [theme=dark] .colab-df-convert {\n",
              "      background-color: #3B4455;\n",
              "      fill: #D2E3FC;\n",
              "    }\n",
              "\n",
              "    [theme=dark] .colab-df-convert:hover {\n",
              "      background-color: #434B5C;\n",
              "      box-shadow: 0px 1px 3px 1px rgba(0, 0, 0, 0.15);\n",
              "      filter: drop-shadow(0px 1px 2px rgba(0, 0, 0, 0.3));\n",
              "      fill: #FFFFFF;\n",
              "    }\n",
              "  </style>\n",
              "\n",
              "      <script>\n",
              "        const buttonEl =\n",
              "          document.querySelector('#df-b02a6d2d-f5a0-489e-bc6d-60f8feecdab6 button.colab-df-convert');\n",
              "        buttonEl.style.display =\n",
              "          google.colab.kernel.accessAllowed ? 'block' : 'none';\n",
              "\n",
              "        async function convertToInteractive(key) {\n",
              "          const element = document.querySelector('#df-b02a6d2d-f5a0-489e-bc6d-60f8feecdab6');\n",
              "          const dataTable =\n",
              "            await google.colab.kernel.invokeFunction('convertToInteractive',\n",
              "                                                     [key], {});\n",
              "          if (!dataTable) return;\n",
              "\n",
              "          const docLinkHtml = 'Like what you see? Visit the ' +\n",
              "            '<a target=\"_blank\" href=https://colab.research.google.com/notebooks/data_table.ipynb>data table notebook</a>'\n",
              "            + ' to learn more about interactive tables.';\n",
              "          element.innerHTML = '';\n",
              "          dataTable['output_type'] = 'display_data';\n",
              "          await google.colab.output.renderOutput(dataTable, element);\n",
              "          const docLink = document.createElement('div');\n",
              "          docLink.innerHTML = docLinkHtml;\n",
              "          element.appendChild(docLink);\n",
              "        }\n",
              "      </script>\n",
              "    </div>\n",
              "  </div>\n",
              "  "
            ]
          },
          "metadata": {},
          "execution_count": 46
        }
      ]
    },
    {
      "cell_type": "code",
      "source": [
        "#df['date_field'] = \n",
        "#pd.to_datetime(customers_orders_df['purchase_date']).dt.date"
      ],
      "metadata": {
        "id": "lu_6TxOz1L-u"
      },
      "execution_count": 47,
      "outputs": []
    },
    {
      "cell_type": "code",
      "source": [
        "#customers_orders_df['purchase_date'].apply(pd.Series).merge(customers_orders_df, left_index=True, right_index=True).drop('purchase_date', axis=1)"
      ],
      "metadata": {
        "colab": {
          "base_uri": "https://localhost:8080/",
          "height": 676
        },
        "id": "o5lkQX7imagv",
        "outputId": "19a16185-3b0f-419e-93d6-89c203a4ef94"
      },
      "execution_count": 262,
      "outputs": [
        {
          "output_type": "execute_result",
          "data": {
            "text/plain": [
              "                   $date  customerid                name  \\\n",
              "0   2023-05-19T00:00:00Z           7       David Fleming   \n",
              "1   2023-05-23T00:00:00Z          11    Christina Gaines   \n",
              "2   2023-05-17T00:00:00Z          15       Sean Mitchell   \n",
              "3   2023-05-23T00:00:00Z          19      Anthony Weaver   \n",
              "4   2023-05-23T00:00:00Z          30      Jasmine Greene   \n",
              "5   2023-05-16T00:00:00Z          31  Claudia Williamson   \n",
              "6   2023-05-24T00:00:00Z          43         Sheila Lang   \n",
              "7   2023-05-20T00:00:00Z          44        Jordan Crane   \n",
              "8   2023-05-20T00:00:00Z          53        John Mcclain   \n",
              "9   2023-05-21T00:00:00Z          54       Lydia Daniels   \n",
              "10  2023-05-16T00:00:00Z          58       Deanna Powell   \n",
              "11  2023-05-19T00:00:00Z          58       Deanna Powell   \n",
              "12  2023-05-24T00:00:00Z          73     Samantha Keller   \n",
              "13  2023-05-24T00:00:00Z          79          Mary Smith   \n",
              "14  2023-05-20T00:00:00Z          80      Amanda Sherman   \n",
              "15  2023-05-20T00:00:00Z          81      Carolyn Warren   \n",
              "16  2023-05-22T00:00:00Z          87   Michelle Williams   \n",
              "17  2023-05-24T00:00:00Z          94       Cheryl Rivera   \n",
              "18  2023-05-21T00:00:00Z          96         Grace Bauer   \n",
              "19  2023-05-24T00:00:00Z          97        Cesar Harris   \n",
              "\n",
              "                           email  \\\n",
              "0          rmcdonald@example.com   \n",
              "1         briansmith@example.net   \n",
              "2         wcontreras@example.com   \n",
              "3         kimstewart@example.com   \n",
              "4              hking@example.org   \n",
              "5   katherinebradley@example.com   \n",
              "6          markskirk@example.org   \n",
              "7            adennis@example.org   \n",
              "8             dawn16@example.net   \n",
              "9     mooreelizabeth@example.org   \n",
              "10     christopher04@example.net   \n",
              "11     christopher04@example.net   \n",
              "12           ynelson@example.com   \n",
              "13     floresrebecca@example.org   \n",
              "14       paigebarron@example.org   \n",
              "15       moorehailey@example.com   \n",
              "16    jenniferramsey@example.com   \n",
              "17            pduran@example.com   \n",
              "18          joseph15@example.org   \n",
              "19     denniszachary@example.net   \n",
              "\n",
              "                                                phone  productid   units  \n",
              "0   [591.044.1754x11239, 317-737-1716x8760, +1-660...         10  710713  \n",
              "1   [587.067.5507x07839, 001-213-749-3632, 643-642...          5  160962  \n",
              "2         [1594613264, 538.585.2750, +1-476-708-9676]          8   27876  \n",
              "3   [+1-132-693-8718x344, 382-449-9696x699, 618-60...          7  500620  \n",
              "4   [3511505656, 849.442.6133x0470, 885-547-3838x2...          4  323709  \n",
              "5   [(883)567-8493, 001-055-354-0369, +1-548-402-6...          8  228962  \n",
              "6   [001-855-781-5048x763, 974-096-3408x29823, +1-...          4  635703  \n",
              "7         [724-890-2841, (242)289-4738, 866-474-4911]          5  850070  \n",
              "8   [+1-655-195-9973x65639, 959.802.0940, +1-213-1...          5  189310  \n",
              "9   [+1-234-630-8007x8015, +1-495-297-8626x89201, ...          6  577200  \n",
              "10  [001-681-147-3639x8890, 899.371.7821x8659, +1-...          3   27163  \n",
              "11  [001-681-147-3639x8890, 899.371.7821x8659, +1-...          1  967115  \n",
              "12  [943.893.7952x70418, +1-858-574-9207x66461, 05...          3  374719  \n",
              "13  [913.516.1680x9217, (432)557-1476, 541-168-744...          4  392201  \n",
              "14  [+1-118-323-7156x567, 001-959-841-2415x8540, 8...          1  234892  \n",
              "15  [001-861-368-6029x63416, +1-974-929-1916x853, ...          1  177884  \n",
              "16  [753.614.1820, 833.040.6974, +1-370-489-1841x4...         10  464193  \n",
              "17  [(166)339-6151x349, (851)259-6744, (825)994-24...          7   44670  \n",
              "18    [2885922370, (598)627-5084x89288, 388.920.8940]          5  666113  \n",
              "19  [475.457.4185x0756, 092.266.5843x8682, (224)07...          9  234893  "
            ],
            "text/html": [
              "\n",
              "  <div id=\"df-9e340b06-8d84-4a08-b4e4-194069a1568f\">\n",
              "    <div class=\"colab-df-container\">\n",
              "      <div>\n",
              "<style scoped>\n",
              "    .dataframe tbody tr th:only-of-type {\n",
              "        vertical-align: middle;\n",
              "    }\n",
              "\n",
              "    .dataframe tbody tr th {\n",
              "        vertical-align: top;\n",
              "    }\n",
              "\n",
              "    .dataframe thead th {\n",
              "        text-align: right;\n",
              "    }\n",
              "</style>\n",
              "<table border=\"1\" class=\"dataframe\">\n",
              "  <thead>\n",
              "    <tr style=\"text-align: right;\">\n",
              "      <th></th>\n",
              "      <th>$date</th>\n",
              "      <th>customerid</th>\n",
              "      <th>name</th>\n",
              "      <th>email</th>\n",
              "      <th>phone</th>\n",
              "      <th>productid</th>\n",
              "      <th>units</th>\n",
              "    </tr>\n",
              "  </thead>\n",
              "  <tbody>\n",
              "    <tr>\n",
              "      <th>0</th>\n",
              "      <td>2023-05-19T00:00:00Z</td>\n",
              "      <td>7</td>\n",
              "      <td>David Fleming</td>\n",
              "      <td>rmcdonald@example.com</td>\n",
              "      <td>[591.044.1754x11239, 317-737-1716x8760, +1-660...</td>\n",
              "      <td>10</td>\n",
              "      <td>710713</td>\n",
              "    </tr>\n",
              "    <tr>\n",
              "      <th>1</th>\n",
              "      <td>2023-05-23T00:00:00Z</td>\n",
              "      <td>11</td>\n",
              "      <td>Christina Gaines</td>\n",
              "      <td>briansmith@example.net</td>\n",
              "      <td>[587.067.5507x07839, 001-213-749-3632, 643-642...</td>\n",
              "      <td>5</td>\n",
              "      <td>160962</td>\n",
              "    </tr>\n",
              "    <tr>\n",
              "      <th>2</th>\n",
              "      <td>2023-05-17T00:00:00Z</td>\n",
              "      <td>15</td>\n",
              "      <td>Sean Mitchell</td>\n",
              "      <td>wcontreras@example.com</td>\n",
              "      <td>[1594613264, 538.585.2750, +1-476-708-9676]</td>\n",
              "      <td>8</td>\n",
              "      <td>27876</td>\n",
              "    </tr>\n",
              "    <tr>\n",
              "      <th>3</th>\n",
              "      <td>2023-05-23T00:00:00Z</td>\n",
              "      <td>19</td>\n",
              "      <td>Anthony Weaver</td>\n",
              "      <td>kimstewart@example.com</td>\n",
              "      <td>[+1-132-693-8718x344, 382-449-9696x699, 618-60...</td>\n",
              "      <td>7</td>\n",
              "      <td>500620</td>\n",
              "    </tr>\n",
              "    <tr>\n",
              "      <th>4</th>\n",
              "      <td>2023-05-23T00:00:00Z</td>\n",
              "      <td>30</td>\n",
              "      <td>Jasmine Greene</td>\n",
              "      <td>hking@example.org</td>\n",
              "      <td>[3511505656, 849.442.6133x0470, 885-547-3838x2...</td>\n",
              "      <td>4</td>\n",
              "      <td>323709</td>\n",
              "    </tr>\n",
              "    <tr>\n",
              "      <th>5</th>\n",
              "      <td>2023-05-16T00:00:00Z</td>\n",
              "      <td>31</td>\n",
              "      <td>Claudia Williamson</td>\n",
              "      <td>katherinebradley@example.com</td>\n",
              "      <td>[(883)567-8493, 001-055-354-0369, +1-548-402-6...</td>\n",
              "      <td>8</td>\n",
              "      <td>228962</td>\n",
              "    </tr>\n",
              "    <tr>\n",
              "      <th>6</th>\n",
              "      <td>2023-05-24T00:00:00Z</td>\n",
              "      <td>43</td>\n",
              "      <td>Sheila Lang</td>\n",
              "      <td>markskirk@example.org</td>\n",
              "      <td>[001-855-781-5048x763, 974-096-3408x29823, +1-...</td>\n",
              "      <td>4</td>\n",
              "      <td>635703</td>\n",
              "    </tr>\n",
              "    <tr>\n",
              "      <th>7</th>\n",
              "      <td>2023-05-20T00:00:00Z</td>\n",
              "      <td>44</td>\n",
              "      <td>Jordan Crane</td>\n",
              "      <td>adennis@example.org</td>\n",
              "      <td>[724-890-2841, (242)289-4738, 866-474-4911]</td>\n",
              "      <td>5</td>\n",
              "      <td>850070</td>\n",
              "    </tr>\n",
              "    <tr>\n",
              "      <th>8</th>\n",
              "      <td>2023-05-20T00:00:00Z</td>\n",
              "      <td>53</td>\n",
              "      <td>John Mcclain</td>\n",
              "      <td>dawn16@example.net</td>\n",
              "      <td>[+1-655-195-9973x65639, 959.802.0940, +1-213-1...</td>\n",
              "      <td>5</td>\n",
              "      <td>189310</td>\n",
              "    </tr>\n",
              "    <tr>\n",
              "      <th>9</th>\n",
              "      <td>2023-05-21T00:00:00Z</td>\n",
              "      <td>54</td>\n",
              "      <td>Lydia Daniels</td>\n",
              "      <td>mooreelizabeth@example.org</td>\n",
              "      <td>[+1-234-630-8007x8015, +1-495-297-8626x89201, ...</td>\n",
              "      <td>6</td>\n",
              "      <td>577200</td>\n",
              "    </tr>\n",
              "    <tr>\n",
              "      <th>10</th>\n",
              "      <td>2023-05-16T00:00:00Z</td>\n",
              "      <td>58</td>\n",
              "      <td>Deanna Powell</td>\n",
              "      <td>christopher04@example.net</td>\n",
              "      <td>[001-681-147-3639x8890, 899.371.7821x8659, +1-...</td>\n",
              "      <td>3</td>\n",
              "      <td>27163</td>\n",
              "    </tr>\n",
              "    <tr>\n",
              "      <th>11</th>\n",
              "      <td>2023-05-19T00:00:00Z</td>\n",
              "      <td>58</td>\n",
              "      <td>Deanna Powell</td>\n",
              "      <td>christopher04@example.net</td>\n",
              "      <td>[001-681-147-3639x8890, 899.371.7821x8659, +1-...</td>\n",
              "      <td>1</td>\n",
              "      <td>967115</td>\n",
              "    </tr>\n",
              "    <tr>\n",
              "      <th>12</th>\n",
              "      <td>2023-05-24T00:00:00Z</td>\n",
              "      <td>73</td>\n",
              "      <td>Samantha Keller</td>\n",
              "      <td>ynelson@example.com</td>\n",
              "      <td>[943.893.7952x70418, +1-858-574-9207x66461, 05...</td>\n",
              "      <td>3</td>\n",
              "      <td>374719</td>\n",
              "    </tr>\n",
              "    <tr>\n",
              "      <th>13</th>\n",
              "      <td>2023-05-24T00:00:00Z</td>\n",
              "      <td>79</td>\n",
              "      <td>Mary Smith</td>\n",
              "      <td>floresrebecca@example.org</td>\n",
              "      <td>[913.516.1680x9217, (432)557-1476, 541-168-744...</td>\n",
              "      <td>4</td>\n",
              "      <td>392201</td>\n",
              "    </tr>\n",
              "    <tr>\n",
              "      <th>14</th>\n",
              "      <td>2023-05-20T00:00:00Z</td>\n",
              "      <td>80</td>\n",
              "      <td>Amanda Sherman</td>\n",
              "      <td>paigebarron@example.org</td>\n",
              "      <td>[+1-118-323-7156x567, 001-959-841-2415x8540, 8...</td>\n",
              "      <td>1</td>\n",
              "      <td>234892</td>\n",
              "    </tr>\n",
              "    <tr>\n",
              "      <th>15</th>\n",
              "      <td>2023-05-20T00:00:00Z</td>\n",
              "      <td>81</td>\n",
              "      <td>Carolyn Warren</td>\n",
              "      <td>moorehailey@example.com</td>\n",
              "      <td>[001-861-368-6029x63416, +1-974-929-1916x853, ...</td>\n",
              "      <td>1</td>\n",
              "      <td>177884</td>\n",
              "    </tr>\n",
              "    <tr>\n",
              "      <th>16</th>\n",
              "      <td>2023-05-22T00:00:00Z</td>\n",
              "      <td>87</td>\n",
              "      <td>Michelle Williams</td>\n",
              "      <td>jenniferramsey@example.com</td>\n",
              "      <td>[753.614.1820, 833.040.6974, +1-370-489-1841x4...</td>\n",
              "      <td>10</td>\n",
              "      <td>464193</td>\n",
              "    </tr>\n",
              "    <tr>\n",
              "      <th>17</th>\n",
              "      <td>2023-05-24T00:00:00Z</td>\n",
              "      <td>94</td>\n",
              "      <td>Cheryl Rivera</td>\n",
              "      <td>pduran@example.com</td>\n",
              "      <td>[(166)339-6151x349, (851)259-6744, (825)994-24...</td>\n",
              "      <td>7</td>\n",
              "      <td>44670</td>\n",
              "    </tr>\n",
              "    <tr>\n",
              "      <th>18</th>\n",
              "      <td>2023-05-21T00:00:00Z</td>\n",
              "      <td>96</td>\n",
              "      <td>Grace Bauer</td>\n",
              "      <td>joseph15@example.org</td>\n",
              "      <td>[2885922370, (598)627-5084x89288, 388.920.8940]</td>\n",
              "      <td>5</td>\n",
              "      <td>666113</td>\n",
              "    </tr>\n",
              "    <tr>\n",
              "      <th>19</th>\n",
              "      <td>2023-05-24T00:00:00Z</td>\n",
              "      <td>97</td>\n",
              "      <td>Cesar Harris</td>\n",
              "      <td>denniszachary@example.net</td>\n",
              "      <td>[475.457.4185x0756, 092.266.5843x8682, (224)07...</td>\n",
              "      <td>9</td>\n",
              "      <td>234893</td>\n",
              "    </tr>\n",
              "  </tbody>\n",
              "</table>\n",
              "</div>\n",
              "      <button class=\"colab-df-convert\" onclick=\"convertToInteractive('df-9e340b06-8d84-4a08-b4e4-194069a1568f')\"\n",
              "              title=\"Convert this dataframe to an interactive table.\"\n",
              "              style=\"display:none;\">\n",
              "        \n",
              "  <svg xmlns=\"http://www.w3.org/2000/svg\" height=\"24px\"viewBox=\"0 0 24 24\"\n",
              "       width=\"24px\">\n",
              "    <path d=\"M0 0h24v24H0V0z\" fill=\"none\"/>\n",
              "    <path d=\"M18.56 5.44l.94 2.06.94-2.06 2.06-.94-2.06-.94-.94-2.06-.94 2.06-2.06.94zm-11 1L8.5 8.5l.94-2.06 2.06-.94-2.06-.94L8.5 2.5l-.94 2.06-2.06.94zm10 10l.94 2.06.94-2.06 2.06-.94-2.06-.94-.94-2.06-.94 2.06-2.06.94z\"/><path d=\"M17.41 7.96l-1.37-1.37c-.4-.4-.92-.59-1.43-.59-.52 0-1.04.2-1.43.59L10.3 9.45l-7.72 7.72c-.78.78-.78 2.05 0 2.83L4 21.41c.39.39.9.59 1.41.59.51 0 1.02-.2 1.41-.59l7.78-7.78 2.81-2.81c.8-.78.8-2.07 0-2.86zM5.41 20L4 18.59l7.72-7.72 1.47 1.35L5.41 20z\"/>\n",
              "  </svg>\n",
              "      </button>\n",
              "      \n",
              "  <style>\n",
              "    .colab-df-container {\n",
              "      display:flex;\n",
              "      flex-wrap:wrap;\n",
              "      gap: 12px;\n",
              "    }\n",
              "\n",
              "    .colab-df-convert {\n",
              "      background-color: #E8F0FE;\n",
              "      border: none;\n",
              "      border-radius: 50%;\n",
              "      cursor: pointer;\n",
              "      display: none;\n",
              "      fill: #1967D2;\n",
              "      height: 32px;\n",
              "      padding: 0 0 0 0;\n",
              "      width: 32px;\n",
              "    }\n",
              "\n",
              "    .colab-df-convert:hover {\n",
              "      background-color: #E2EBFA;\n",
              "      box-shadow: 0px 1px 2px rgba(60, 64, 67, 0.3), 0px 1px 3px 1px rgba(60, 64, 67, 0.15);\n",
              "      fill: #174EA6;\n",
              "    }\n",
              "\n",
              "    [theme=dark] .colab-df-convert {\n",
              "      background-color: #3B4455;\n",
              "      fill: #D2E3FC;\n",
              "    }\n",
              "\n",
              "    [theme=dark] .colab-df-convert:hover {\n",
              "      background-color: #434B5C;\n",
              "      box-shadow: 0px 1px 3px 1px rgba(0, 0, 0, 0.15);\n",
              "      filter: drop-shadow(0px 1px 2px rgba(0, 0, 0, 0.3));\n",
              "      fill: #FFFFFF;\n",
              "    }\n",
              "  </style>\n",
              "\n",
              "      <script>\n",
              "        const buttonEl =\n",
              "          document.querySelector('#df-9e340b06-8d84-4a08-b4e4-194069a1568f button.colab-df-convert');\n",
              "        buttonEl.style.display =\n",
              "          google.colab.kernel.accessAllowed ? 'block' : 'none';\n",
              "\n",
              "        async function convertToInteractive(key) {\n",
              "          const element = document.querySelector('#df-9e340b06-8d84-4a08-b4e4-194069a1568f');\n",
              "          const dataTable =\n",
              "            await google.colab.kernel.invokeFunction('convertToInteractive',\n",
              "                                                     [key], {});\n",
              "          if (!dataTable) return;\n",
              "\n",
              "          const docLinkHtml = 'Like what you see? Visit the ' +\n",
              "            '<a target=\"_blank\" href=https://colab.research.google.com/notebooks/data_table.ipynb>data table notebook</a>'\n",
              "            + ' to learn more about interactive tables.';\n",
              "          element.innerHTML = '';\n",
              "          dataTable['output_type'] = 'display_data';\n",
              "          await google.colab.output.renderOutput(dataTable, element);\n",
              "          const docLink = document.createElement('div');\n",
              "          docLink.innerHTML = docLinkHtml;\n",
              "          element.appendChild(docLink);\n",
              "        }\n",
              "      </script>\n",
              "    </div>\n",
              "  </div>\n",
              "  "
            ]
          },
          "metadata": {},
          "execution_count": 262
        }
      ]
    },
    {
      "cell_type": "markdown",
      "source": [
        "## JSON into list of python dictionary"
      ],
      "metadata": {
        "id": "cxTLWKDlKwfp"
      }
    },
    {
      "cell_type": "markdown",
      "source": [
        "### read customers JSON file"
      ],
      "metadata": {
        "id": "QhRCNHBCMnvq"
      }
    },
    {
      "cell_type": "code",
      "source": [
        "with open('customers.json') as json_file:\n",
        "    customers = json.load(json_file)\n",
        "\n",
        "customers[0:2] # show the first 2 records (like head with n=2)"
      ],
      "metadata": {
        "colab": {
          "base_uri": "https://localhost:8080/"
        },
        "id": "7xI5xoDWpWnC",
        "outputId": "7025ec6a-3dbe-4107-ae4a-c5ef1e6dd28f"
      },
      "execution_count": 51,
      "outputs": [
        {
          "output_type": "execute_result",
          "data": {
            "text/plain": [
              "[{'_id': {'$oid': '646f6526089726df60df1403'},\n",
              "  'customerid': 1,\n",
              "  'name': 'Natalie Beasley',\n",
              "  'email': 'omartin@example.com',\n",
              "  'phone': ['783.279.1929x07149', '(340)372-9532x11823', '537-863-1571']},\n",
              " {'_id': {'$oid': '646f6526089726df60df1404'},\n",
              "  'customerid': 2,\n",
              "  'name': 'Cindy Patrick',\n",
              "  'email': 'ozamora@example.com',\n",
              "  'phone': ['007.249.9850', '(194)710-1490x36575', '599.989.5554x2489']}]"
            ]
          },
          "metadata": {},
          "execution_count": 51
        }
      ]
    },
    {
      "cell_type": "markdown",
      "source": [
        "#### explore list of dictionaries"
      ],
      "metadata": {
        "id": "B1PoW_WEMcPy"
      }
    },
    {
      "cell_type": "code",
      "source": [
        "type(customers)"
      ],
      "metadata": {
        "colab": {
          "base_uri": "https://localhost:8080/"
        },
        "id": "c9KN0fACMKoE",
        "outputId": "1ec65cfc-59eb-4ef0-889a-b0e04eb98249"
      },
      "execution_count": 68,
      "outputs": [
        {
          "output_type": "execute_result",
          "data": {
            "text/plain": [
              "list"
            ]
          },
          "metadata": {},
          "execution_count": 68
        }
      ]
    },
    {
      "cell_type": "code",
      "source": [
        "len(customers)"
      ],
      "metadata": {
        "colab": {
          "base_uri": "https://localhost:8080/"
        },
        "id": "KQxGmb9EMSK0",
        "outputId": "c92d8b55-884d-4e87-b6b7-b2fc6ed155d4"
      },
      "execution_count": 71,
      "outputs": [
        {
          "output_type": "execute_result",
          "data": {
            "text/plain": [
              "100"
            ]
          },
          "metadata": {},
          "execution_count": 71
        }
      ]
    },
    {
      "cell_type": "code",
      "source": [
        "type(customers[1])"
      ],
      "metadata": {
        "colab": {
          "base_uri": "https://localhost:8080/"
        },
        "id": "UTR84x-jMMdU",
        "outputId": "0733cd11-5d2f-4b79-860b-f0100443e634"
      },
      "execution_count": 70,
      "outputs": [
        {
          "output_type": "execute_result",
          "data": {
            "text/plain": [
              "dict"
            ]
          },
          "metadata": {},
          "execution_count": 70
        }
      ]
    },
    {
      "cell_type": "code",
      "source": [
        "customers[1]"
      ],
      "metadata": {
        "colab": {
          "base_uri": "https://localhost:8080/"
        },
        "id": "ZjBCArv4Lv6X",
        "outputId": "fd9775d3-1281-4bde-c8a8-516e8c58d82c"
      },
      "execution_count": 62,
      "outputs": [
        {
          "output_type": "execute_result",
          "data": {
            "text/plain": [
              "{'_id': {'$oid': '646f6526089726df60df1404'},\n",
              " 'customerid': 2,\n",
              " 'name': 'Cindy Patrick',\n",
              " 'email': 'ozamora@example.com',\n",
              " 'phone': ['007.249.9850', '(194)710-1490x36575', '599.989.5554x2489']}"
            ]
          },
          "metadata": {},
          "execution_count": 62
        }
      ]
    },
    {
      "cell_type": "code",
      "source": [
        "customers[1]['name']"
      ],
      "metadata": {
        "colab": {
          "base_uri": "https://localhost:8080/",
          "height": 36
        },
        "id": "E-niZJ0LLahT",
        "outputId": "60602838-6d06-4a92-a250-25e50124b2ce"
      },
      "execution_count": 63,
      "outputs": [
        {
          "output_type": "execute_result",
          "data": {
            "text/plain": [
              "'Cindy Patrick'"
            ],
            "application/vnd.google.colaboratory.intrinsic+json": {
              "type": "string"
            }
          },
          "metadata": {},
          "execution_count": 63
        }
      ]
    },
    {
      "cell_type": "code",
      "source": [
        "customers[1].get('name')"
      ],
      "metadata": {
        "colab": {
          "base_uri": "https://localhost:8080/",
          "height": 36
        },
        "id": "zoIPVSlrL0tB",
        "outputId": "c7a9838f-fb39-4594-d09f-037daac0d6d6"
      },
      "execution_count": 65,
      "outputs": [
        {
          "output_type": "execute_result",
          "data": {
            "text/plain": [
              "'Cindy Patrick'"
            ],
            "application/vnd.google.colaboratory.intrinsic+json": {
              "type": "string"
            }
          },
          "metadata": {},
          "execution_count": 65
        }
      ]
    },
    {
      "cell_type": "markdown",
      "source": [
        "### read orders JSON file"
      ],
      "metadata": {
        "id": "WMabTm-HMic5"
      }
    },
    {
      "cell_type": "code",
      "source": [
        "with open('orders_gt_2023_5_15.json') as json_file:\n",
        "    orders = json.load(json_file)\n",
        "\n",
        "orders[0:2] # show the first 2 records (like head with n=2)"
      ],
      "metadata": {
        "colab": {
          "base_uri": "https://localhost:8080/"
        },
        "id": "npvFrxQ7K13s",
        "outputId": "aac6afb1-1a20-4885-d1e0-20f7acab1388"
      },
      "execution_count": 52,
      "outputs": [
        {
          "output_type": "execute_result",
          "data": {
            "text/plain": [
              "[{'_id': {'$oid': '646f6526089726df60df14f0'},\n",
              "  'customerid': 2,\n",
              "  'productid': 2,\n",
              "  'units': 517079,\n",
              "  'purchase_date': {'$date': '2023-05-21T00:00:00Z'}},\n",
              " {'_id': {'$oid': '646f6526089726df60df1528'},\n",
              "  'customerid': 93,\n",
              "  'productid': 10,\n",
              "  'units': 413320000,\n",
              "  'purchase_date': {'$date': '2023-05-20T00:00:00Z'}}]"
            ]
          },
          "metadata": {},
          "execution_count": 52
        }
      ]
    },
    {
      "cell_type": "markdown",
      "source": [
        "### read products JSON file"
      ],
      "metadata": {
        "id": "xGq9M_6xMlbz"
      }
    },
    {
      "cell_type": "code",
      "source": [
        "with open('products.json') as json_file:\n",
        "    products = json.load(json_file)\n",
        "\n",
        "products[0:2] # show the first 2 records (like head with n=2)"
      ],
      "metadata": {
        "colab": {
          "base_uri": "https://localhost:8080/"
        },
        "id": "LyVVjgw3LHB3",
        "outputId": "b69319cf-735f-4b0b-8b02-44d575c5a020"
      },
      "execution_count": 53,
      "outputs": [
        {
          "output_type": "execute_result",
          "data": {
            "text/plain": [
              "[{'_id': {'$oid': '646f6526089726df60df1467'},\n",
              "  'productid': 1,\n",
              "  'category': 'Electronics',\n",
              "  'price': 37.80238180289961},\n",
              " {'_id': {'$oid': '646f6526089726df60df1468'},\n",
              "  'productid': 2,\n",
              "  'category': 'Home',\n",
              "  'price': 96.90152545965559}]"
            ]
          },
          "metadata": {},
          "execution_count": 53
        }
      ]
    }
  ]
}