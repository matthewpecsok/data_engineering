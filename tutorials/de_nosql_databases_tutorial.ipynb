{
  "nbformat": 4,
  "nbformat_minor": 0,
  "metadata": {
    "colab": {
      "provenance": [],
      "authorship_tag": "ABX9TyNs9pAhdRwz55nSpqCB2Yit",
      "include_colab_link": true
    },
    "kernelspec": {
      "name": "python3",
      "display_name": "Python 3"
    },
    "language_info": {
      "name": "python"
    }
  },
  "cells": [
    {
      "cell_type": "markdown",
      "metadata": {
        "id": "view-in-github",
        "colab_type": "text"
      },
      "source": [
        "<a href=\"https://colab.research.google.com/github/matthewpecsok/data_engineering/blob/main/tutorials/de_nosql_databases_tutorial.ipynb\" target=\"_parent\"><img src=\"https://colab.research.google.com/assets/colab-badge.svg\" alt=\"Open In Colab\"/></a>"
      ]
    },
    {
      "cell_type": "markdown",
      "source": [
        "This tutorial will introduce you to  MongoDB a document database. MongoDB deals in data that is effictively a dictionary in Python or JSON data if it's a file. This document-oriented database is very different from the relational database designs we've seen thus far. We'll learn how to populate the database with data, how to query the database for documents we'd like to find, how to extract data for data engineering purposes."
      ],
      "metadata": {
        "id": "J76X04zOiK61"
      }
    },
    {
      "cell_type": "code",
      "source": [
        "!pip install faker\n",
        "!pip install pymongo"
      ],
      "metadata": {
        "id": "IlImf-IoL61o"
      },
      "execution_count": null,
      "outputs": []
    },
    {
      "cell_type": "code",
      "source": [
        "from faker import Faker\n",
        "from pymongo import MongoClient\n",
        "import random\n",
        "import datetime\n",
        "import re"
      ],
      "metadata": {
        "id": "mkYJ0TjXN1ue"
      },
      "execution_count": null,
      "outputs": []
    },
    {
      "cell_type": "markdown",
      "source": [
        "# install MongoDB"
      ],
      "metadata": {
        "id": "S573xnvQa4Lw"
      }
    },
    {
      "cell_type": "code",
      "source": [
        "!apt-get install gnupg curl"
      ],
      "metadata": {
        "id": "fza_3GJ0CiOw"
      },
      "execution_count": null,
      "outputs": []
    },
    {
      "cell_type": "code",
      "source": [
        "!curl -fsSL https://pgp.mongodb.com/server-7.0.asc | \\\n",
        "   sudo gpg -o /usr/share/keyrings/mongodb-server-7.0.gpg \\\n",
        "   --dearmor"
      ],
      "metadata": {
        "id": "LbAAWv_uCj_K"
      },
      "execution_count": null,
      "outputs": []
    },
    {
      "cell_type": "code",
      "source": [
        "!echo \"deb [ arch=amd64,arm64 signed-by=/usr/share/keyrings/mongodb-server-7.0.gpg ] https://repo.mongodb.org/apt/ubuntu jammy/mongodb-org/7.0 multiverse\" | sudo tee /etc/apt/sources.list.d/mongodb-org-7.0.list"
      ],
      "metadata": {
        "id": "hyCh0lXTCfVq"
      },
      "execution_count": null,
      "outputs": []
    },
    {
      "cell_type": "code",
      "source": [
        "!apt-get update"
      ],
      "metadata": {
        "id": "gX-FniUdCmvX"
      },
      "execution_count": null,
      "outputs": []
    },
    {
      "cell_type": "code",
      "source": [
        "!apt-get install -y mongodb-org"
      ],
      "metadata": {
        "id": "UT97RBGUCpd-"
      },
      "execution_count": null,
      "outputs": []
    },
    {
      "cell_type": "code",
      "source": [
        "!mkdir /data\n",
        "!mkdir /data/db"
      ],
      "metadata": {
        "id": "GwN3RxgzDZ_8"
      },
      "execution_count": null,
      "outputs": []
    },
    {
      "cell_type": "code",
      "source": [
        "import subprocess\n",
        "subprocess.Popen([\"mongod\"])"
      ],
      "metadata": {
        "id": "8pZSN7_bCPdB"
      },
      "execution_count": null,
      "outputs": []
    },
    {
      "cell_type": "code",
      "source": [
        "from pymongo import MongoClient\n",
        "client = MongoClient()\n",
        "client.list_database_names() # ['admin', 'local']"
      ],
      "metadata": {
        "id": "E68Zpj-Hyj-O"
      },
      "execution_count": null,
      "outputs": []
    },
    {
      "cell_type": "markdown",
      "source": [
        "## create the db\n",
        "\n",
        "name our database"
      ],
      "metadata": {
        "id": "7ZgIUYCCi8GQ"
      }
    },
    {
      "cell_type": "code",
      "source": [
        "db = client['cloud_purchase_db']"
      ],
      "metadata": {
        "id": "38hNStS5xV1A"
      },
      "execution_count": null,
      "outputs": []
    },
    {
      "cell_type": "markdown",
      "source": [
        "## Set up Collections"
      ],
      "metadata": {
        "id": "pVaWthrNi9Vg"
      }
    },
    {
      "cell_type": "markdown",
      "source": [
        "drop the collections in case they already exist so we don't duplicate data"
      ],
      "metadata": {
        "id": "mkuAVN9UjFPU"
      }
    },
    {
      "cell_type": "code",
      "source": [
        "db.drop_collection('customers')\n",
        "db.drop_collection('products')\n",
        "#db.drop_collection('orders')"
      ],
      "metadata": {
        "id": "4-wKPCwxxXkh"
      },
      "execution_count": null,
      "outputs": []
    },
    {
      "cell_type": "markdown",
      "source": [
        "do we have any collections?"
      ],
      "metadata": {
        "id": "XDOGvMNKjI_H"
      }
    },
    {
      "cell_type": "markdown",
      "source": [
        "## list collections"
      ],
      "metadata": {
        "id": "HakKmGYfjLfk"
      }
    },
    {
      "cell_type": "code",
      "source": [
        "db.list_collection_names()"
      ],
      "metadata": {
        "id": "tAbWgjJ2Okhh"
      },
      "execution_count": null,
      "outputs": []
    },
    {
      "cell_type": "code",
      "source": [
        "# Create Faker instance\n",
        "fake = Faker()"
      ],
      "metadata": {
        "id": "Zu7bYyF5jPry"
      },
      "execution_count": null,
      "outputs": []
    },
    {
      "cell_type": "markdown",
      "source": [
        "# Create the data"
      ],
      "metadata": {
        "id": "8Xl4MJ7zbqxw"
      }
    },
    {
      "cell_type": "markdown",
      "source": [
        "## create customer data\n",
        "\n",
        "create from 1 to 5 orders (randomly)\n",
        "pick a random product id from 1 to 10\n",
        "units between 10 and 100\n",
        "year from 1 year ago to today"
      ],
      "metadata": {
        "id": "zXu6lgeCbzk_"
      }
    },
    {
      "cell_type": "code",
      "source": [
        "# Generate customer orders\n",
        "def gen_orders():\n",
        "\n",
        "  orders = []\n",
        "  for i in range(1,random.randint(1, 5)):\n",
        "\n",
        "      productid = random.randint(1, 10)\n",
        "      units = random.randint(10, 100)\n",
        "      if random.random() < 0.1:\n",
        "          units *= 10\n",
        "      purchase_date = fake.date_between(start_date='-1y', end_date='today')\n",
        "      purchase_date = datetime.datetime.combine(purchase_date, datetime.datetime.min.time())\n",
        "\n",
        "      order = {\n",
        "          'productid': productid,\n",
        "          'units': units,\n",
        "          'purchase_date': purchase_date\n",
        "      }\n",
        "\n",
        "      orders.append(order)\n",
        "\n",
        "  return orders"
      ],
      "metadata": {
        "id": "TTdoT6P5j4_o"
      },
      "execution_count": null,
      "outputs": []
    },
    {
      "cell_type": "code",
      "source": [
        "gen_orders()"
      ],
      "metadata": {
        "id": "uEfqPxjrrGje"
      },
      "execution_count": null,
      "outputs": []
    },
    {
      "cell_type": "markdown",
      "source": [
        "generate 100 customers"
      ],
      "metadata": {
        "id": "9hrgYCJCuk-8"
      }
    },
    {
      "cell_type": "code",
      "source": [
        "# Generate customers\n",
        "customers = []\n",
        "for i in range(100):\n",
        "    customer = {\n",
        "        'customerid': i+1,\n",
        "        'name': fake.name(),\n",
        "        'email': fake.email(),\n",
        "        'phone': [fake.phone_number(),fake.phone_number(),fake.phone_number()],\n",
        "        'orders' : gen_orders() #this is where we generate orders\n",
        "    }\n",
        "    customers.append(customer)"
      ],
      "metadata": {
        "id": "YjkdgXx3jT_i"
      },
      "execution_count": null,
      "outputs": []
    },
    {
      "cell_type": "code",
      "source": [
        "len(customers)"
      ],
      "metadata": {
        "id": "FwR_hqfZumro"
      },
      "execution_count": null,
      "outputs": []
    },
    {
      "cell_type": "code",
      "source": [
        "customers[0:3]"
      ],
      "metadata": {
        "id": "bGwfY6RCwI5K"
      },
      "execution_count": null,
      "outputs": []
    },
    {
      "cell_type": "code",
      "source": [
        "# Insert customers into MongoDB\n",
        "db.customers.insert_many(customers)"
      ],
      "metadata": {
        "id": "y6fmYt1UjVPu"
      },
      "execution_count": null,
      "outputs": []
    },
    {
      "cell_type": "markdown",
      "source": [
        "## create products data"
      ],
      "metadata": {
        "id": "hcaXjvZlb121"
      }
    },
    {
      "cell_type": "code",
      "source": [
        "# Generate products\n",
        "products = []\n",
        "for i in range(10):\n",
        "    product = {\n",
        "        'productid': i+1,\n",
        "        'category': random.choice(['Electronics', 'Clothing', 'Books', 'Home']),\n",
        "        'price': random.randint(1, 100)\n",
        "    }\n",
        "    products.append(product)"
      ],
      "metadata": {
        "id": "CxwNS24fjWgh"
      },
      "execution_count": null,
      "outputs": []
    },
    {
      "cell_type": "code",
      "source": [
        "products[0:3]"
      ],
      "metadata": {
        "id": "03L0kTpZ0clv"
      },
      "execution_count": null,
      "outputs": []
    },
    {
      "cell_type": "markdown",
      "source": [
        "put the 10 products into the database"
      ],
      "metadata": {
        "id": "GqLn4b3S0Ooq"
      }
    },
    {
      "cell_type": "code",
      "source": [
        "# Insert products into MongoDB\n",
        "db.products.insert_many(products)"
      ],
      "metadata": {
        "id": "Rmyiye1HjXee"
      },
      "execution_count": null,
      "outputs": []
    },
    {
      "cell_type": "code",
      "source": [
        "db.list_collection_names() # list collections"
      ],
      "metadata": {
        "id": "pGJp7-xlPBHo"
      },
      "execution_count": null,
      "outputs": []
    },
    {
      "cell_type": "markdown",
      "source": [
        "loop through collections and count the number of documents"
      ],
      "metadata": {
        "id": "Kh7A9GgHcHj-"
      }
    },
    {
      "cell_type": "code",
      "source": [
        "for collection_name in db.list_collection_names():\n",
        "  collection = db.get_collection(collection_name)\n",
        "  print(f'{collection_name}:{collection.count_documents({})}')"
      ],
      "metadata": {
        "id": "HjkD5qDpPBWw"
      },
      "execution_count": null,
      "outputs": []
    },
    {
      "cell_type": "markdown",
      "source": [
        "# Querying\n",
        "\n"
      ],
      "metadata": {
        "id": "T7r6ecU8Zpaj"
      }
    },
    {
      "cell_type": "markdown",
      "source": [
        "## Customers\n",
        "\n",
        "Find all customers."
      ],
      "metadata": {
        "id": "In4J09kQZsH-"
      }
    },
    {
      "cell_type": "code",
      "source": [
        "for document in db.customers.find({}):\n",
        "  print(document)"
      ],
      "metadata": {
        "id": "JYT5n-vEPFDT"
      },
      "execution_count": null,
      "outputs": []
    },
    {
      "cell_type": "markdown",
      "source": [
        "find customerid 76"
      ],
      "metadata": {
        "id": "E3O_CpF2cilt"
      }
    },
    {
      "cell_type": "code",
      "source": [
        "import pprint"
      ],
      "metadata": {
        "id": "IEJyj8pCGGGM"
      },
      "execution_count": null,
      "outputs": []
    },
    {
      "cell_type": "code",
      "source": [
        "for document in db.customers.find({'customerid':76}):\n",
        "  print(pprint.pprint(document))"
      ],
      "metadata": {
        "id": "JU37UrSBSvtn"
      },
      "execution_count": null,
      "outputs": []
    },
    {
      "cell_type": "markdown",
      "source": [
        "## Products\n",
        "\n",
        "find all products"
      ],
      "metadata": {
        "id": "cqtFa0b8Zt13"
      }
    },
    {
      "cell_type": "code",
      "source": [
        "for document in db.products.find({}):\n",
        "  print(document)"
      ],
      "metadata": {
        "id": "k6n9rAQfU3yW"
      },
      "execution_count": null,
      "outputs": []
    },
    {
      "cell_type": "markdown",
      "source": [
        "find all products with prices less than 40"
      ],
      "metadata": {
        "id": "Dox59Ztlc10h"
      }
    },
    {
      "cell_type": "code",
      "source": [
        "for document in db.products.find({'price': {'$lt':40}}):\n",
        "  print(document)"
      ],
      "metadata": {
        "id": "gwBXy1cfTKPh"
      },
      "execution_count": null,
      "outputs": []
    },
    {
      "cell_type": "markdown",
      "source": [
        "find all products with category clothing\n",
        "\n",
        "the find method returns a cursor that lazily loads the result set in batches as we iterate over them."
      ],
      "metadata": {
        "id": "Z7AWze1Dc5QO"
      }
    },
    {
      "cell_type": "code",
      "source": [
        "db.products.find({'category': 'Clothing'})"
      ],
      "metadata": {
        "id": "mui-7zcs5z48"
      },
      "execution_count": null,
      "outputs": []
    },
    {
      "cell_type": "code",
      "source": [
        "for document in db.products.find({'category': 'Clothing'}):\n",
        "  print(document)"
      ],
      "metadata": {
        "id": "b2kBTS4bTbTi"
      },
      "execution_count": null,
      "outputs": []
    },
    {
      "cell_type": "markdown",
      "source": [
        "not equal query"
      ],
      "metadata": {
        "id": "f--nhf8_7wax"
      }
    },
    {
      "cell_type": "code",
      "source": [
        "for document in db.products.find({\"category\": {\"$ne\": \"Clothing\"}}):\n",
        "  print(document)"
      ],
      "metadata": {
        "id": "TAjWpUhn7j1P"
      },
      "execution_count": null,
      "outputs": []
    },
    {
      "cell_type": "markdown",
      "source": [
        "the equivalent of SQL's query `like '%string%'`"
      ],
      "metadata": {
        "id": "j3EbS3Qy-SXv"
      }
    },
    {
      "cell_type": "code",
      "source": [
        "for document in db.products.find({\"category\": re.compile(\"electron\", re.IGNORECASE)}):\n",
        "  print(document)"
      ],
      "metadata": {
        "id": "QuvpugDv9sRE"
      },
      "execution_count": null,
      "outputs": []
    },
    {
      "cell_type": "markdown",
      "source": [
        "find all products with price less than 40 AND category Clothing"
      ],
      "metadata": {
        "id": "z3G2QMqsc73k"
      }
    },
    {
      "cell_type": "code",
      "source": [
        "for document in db.products.find({'price': {'$lt':40},'category': 'Clothing'}):\n",
        "  print(document)"
      ],
      "metadata": {
        "id": "Yksl4SVtU_Bx"
      },
      "execution_count": null,
      "outputs": []
    },
    {
      "cell_type": "markdown",
      "source": [
        "## Orders"
      ],
      "metadata": {
        "id": "o-PyKjH-ZyA_"
      }
    },
    {
      "cell_type": "code",
      "source": [
        "# Calculate the total number of orders\n",
        "pipeline = [\n",
        "    {\n",
        "        '$unwind': '$orders'\n",
        "    },\n",
        "    {\n",
        "        '$group': {\n",
        "            '_id': None,\n",
        "            'total_orders': {'$sum': 1}\n",
        "        }\n",
        "    },\n",
        "    {\n",
        "        '$project': {\n",
        "            '_id': 0,\n",
        "            'total_orders': 1\n",
        "        }\n",
        "    }\n",
        "]\n",
        "\n",
        "result = db.customers.aggregate(pipeline)\n",
        "\n",
        "# Extract the total number of orders\n",
        "total_orders = next(result)['total_orders']\n",
        "\n",
        "# Print the total number of orders\n",
        "print(f\"Total Orders: {total_orders}\")"
      ],
      "metadata": {
        "id": "zbEehhzXHHoI"
      },
      "execution_count": null,
      "outputs": []
    },
    {
      "cell_type": "code",
      "source": [
        "filter_criteria = {\n",
        "    'orders.units': {'$lt': 45000}\n",
        "}\n",
        "\n",
        "# Calculate the total number of orders with units less than 12000\n",
        "pipeline = [\n",
        "    {\n",
        "      '$unwind': '$orders'\n",
        "    },\n",
        "    {\n",
        "      '$match': filter_criteria\n",
        "    },\n",
        "    {\n",
        "        '$group': {\n",
        "            '_id': None,\n",
        "            'total_orders': {'$sum': 1}\n",
        "        }\n",
        "    },\n",
        "    {\n",
        "        '$project': {\n",
        "            '_id': 0,\n",
        "            'total_orders': 1\n",
        "        }\n",
        "    }\n",
        "]\n",
        "\n",
        "result = db.customers.aggregate(pipeline)\n",
        "\n",
        "# Extract the total number of orders\n",
        "total_orders = next(result)['total_orders']\n",
        "\n",
        "# Print the total number of orders\n",
        "print(f\"Total Orders: {total_orders}\")"
      ],
      "metadata": {
        "id": "zCludVJLLIIP"
      },
      "execution_count": null,
      "outputs": []
    },
    {
      "cell_type": "markdown",
      "source": [
        "# Extraction\n"
      ],
      "metadata": {
        "id": "2rCz0PjQdk3d"
      }
    },
    {
      "cell_type": "markdown",
      "source": [
        "## Dump mongodb data to json file."
      ],
      "metadata": {
        "id": "aARmVUWMfry8"
      }
    },
    {
      "cell_type": "markdown",
      "source": [
        "create a JSON file with the filtered data."
      ],
      "metadata": {
        "id": "PW0sAp8Kdptk"
      }
    },
    {
      "cell_type": "code",
      "source": [
        "from bson.json_util import dumps\n",
        "import json"
      ],
      "metadata": {
        "id": "McVys3EohoeQ"
      },
      "execution_count": null,
      "outputs": []
    },
    {
      "cell_type": "markdown",
      "source": [
        "open a file. create a cursor that gets passed to dumps which takes binary json data and converts it serialized json, deseralizes it to python object and then serializes it back to a file.  "
      ],
      "metadata": {
        "id": "76ZvzDUYd65Y"
      }
    },
    {
      "cell_type": "markdown",
      "source": [
        "## dump orders"
      ],
      "metadata": {
        "id": "9QhRK7b9iUbE"
      }
    },
    {
      "cell_type": "markdown",
      "source": [
        "## dump customers\n",
        "\n",
        "(and orders as they are nested)"
      ],
      "metadata": {
        "id": "_sL1H_YPiWem"
      }
    },
    {
      "cell_type": "code",
      "source": [
        "with open('customers.json', 'w') as file:\n",
        "  cursor = db.customers.find({})\n",
        "  file.write(dumps(cursor))"
      ],
      "metadata": {
        "id": "DMPIXxjgg4La"
      },
      "execution_count": null,
      "outputs": []
    },
    {
      "cell_type": "markdown",
      "source": [
        "## dump products"
      ],
      "metadata": {
        "id": "v5Q4VGapiXvC"
      }
    },
    {
      "cell_type": "code",
      "source": [
        "with open('products.json', 'w') as file:\n",
        "  cursor = db.products.find({})\n",
        "  file.write(dumps(cursor))"
      ],
      "metadata": {
        "id": "4B7LAYJRhBke"
      },
      "execution_count": null,
      "outputs": []
    },
    {
      "cell_type": "code",
      "source": [
        "!ls -lh *.json"
      ],
      "metadata": {
        "id": "3MX4SWGdh6n4"
      },
      "execution_count": null,
      "outputs": []
    },
    {
      "cell_type": "markdown",
      "source": [
        "# Reading JSON file data into Python"
      ],
      "metadata": {
        "id": "-K7Ot5B7JO9o"
      }
    },
    {
      "cell_type": "markdown",
      "source": [
        "## JSON into Pandas DataFrame"
      ],
      "metadata": {
        "id": "xJIgvFHFJcH-"
      }
    },
    {
      "cell_type": "code",
      "source": [
        "import pandas as pd"
      ],
      "metadata": {
        "id": "MlJrhVWijy5S"
      },
      "execution_count": null,
      "outputs": []
    },
    {
      "cell_type": "code",
      "source": [
        "customers_df = pd.read_json('customers.json')\n",
        "customers_df.head(2)"
      ],
      "metadata": {
        "id": "EfUKlGYZj0PT"
      },
      "execution_count": null,
      "outputs": []
    },
    {
      "cell_type": "code",
      "source": [
        "products_df = pd.read_json('products.json')\n",
        "products_df.head(2)"
      ],
      "metadata": {
        "id": "TyYwyqmtkEYW"
      },
      "execution_count": null,
      "outputs": []
    },
    {
      "cell_type": "markdown",
      "source": [
        "### Merge DataFrames"
      ],
      "metadata": {
        "id": "xG-DsipBJXwz"
      }
    },
    {
      "cell_type": "code",
      "source": [
        "customers_df.head(4)"
      ],
      "metadata": {
        "id": "EAIF7PkYQ8tz"
      },
      "execution_count": null,
      "outputs": []
    },
    {
      "cell_type": "code",
      "source": [
        "orders_df = customers_df.explode('orders')"
      ],
      "metadata": {
        "id": "mocoF6h2TiF0"
      },
      "execution_count": null,
      "outputs": []
    },
    {
      "cell_type": "code",
      "source": [
        "df_orders_expanded = pd.concat([orders_df.drop(['orders'], axis=1), orders_df['orders'].apply(pd.Series)], axis=1)\n",
        "df_orders_expanded.head(3)\n"
      ],
      "metadata": {
        "id": "KOJCLbp2WMSV"
      },
      "execution_count": null,
      "outputs": []
    },
    {
      "cell_type": "code",
      "source": [
        "customer_product_orders = df_orders_expanded.merge(products_df, on='productid', how='left')\n",
        "customer_product_orders.head(3)"
      ],
      "metadata": {
        "id": "MVmcFZ7FWxo4"
      },
      "execution_count": null,
      "outputs": []
    },
    {
      "cell_type": "code",
      "source": [
        "customer_product_orders['total_sales'] = customer_product_orders['price'] * customer_product_orders['units']"
      ],
      "metadata": {
        "id": "Be_SiSBTXFgn"
      },
      "execution_count": null,
      "outputs": []
    },
    {
      "cell_type": "code",
      "source": [
        "customer_product_orders.groupby(by='category').agg({'total_sales': 'sum'}).sort_values(by='total_sales', ascending=False)"
      ],
      "metadata": {
        "id": "Tiv4-_08KqmP"
      },
      "execution_count": null,
      "outputs": []
    },
    {
      "cell_type": "code",
      "source": [],
      "metadata": {
        "id": "geZdtLyHKs_B"
      },
      "execution_count": null,
      "outputs": []
    },
    {
      "cell_type": "markdown",
      "source": [
        "How to unzip a zip file."
      ],
      "metadata": {
        "id": "ywPAs55233d3"
      }
    },
    {
      "cell_type": "code",
      "source": [
        "!wget -O patient_records.zip https://github.com/matthewpecsok/data_engineering/raw/main/data/patient_records.zip"
      ],
      "metadata": {
        "id": "2ZpYV9IT362N"
      },
      "execution_count": null,
      "outputs": []
    },
    {
      "cell_type": "code",
      "source": [
        "!ls -l"
      ],
      "metadata": {
        "id": "ynsWesjp3-EQ"
      },
      "execution_count": null,
      "outputs": []
    },
    {
      "cell_type": "code",
      "source": [
        "!unzip patient_records.zip"
      ],
      "metadata": {
        "id": "IHwqUhn44BVH"
      },
      "execution_count": null,
      "outputs": []
    },
    {
      "cell_type": "code",
      "source": [
        "!wget -O medication_database.db https://github.com/matthewpecsok/data_engineering/raw/main/data/medication_database.db"
      ],
      "metadata": {
        "id": "WXOFm15_4DU8"
      },
      "execution_count": null,
      "outputs": []
    },
    {
      "cell_type": "code",
      "source": [
        "import sqlite3\n",
        "import pandas as pd"
      ],
      "metadata": {
        "id": "ZsFB1UAe4P6P"
      },
      "execution_count": null,
      "outputs": []
    },
    {
      "cell_type": "code",
      "source": [],
      "metadata": {
        "id": "imvlEhF64mfO"
      },
      "execution_count": null,
      "outputs": []
    },
    {
      "cell_type": "code",
      "source": [
        "medication_con = sqlite3.connect('medication_database.db')\n",
        "\n",
        "pd.read_sql_query('SELECT * FROM sqlite_master', medication_con)"
      ],
      "metadata": {
        "id": "3MlZiZul4SUO"
      },
      "execution_count": null,
      "outputs": []
    },
    {
      "cell_type": "code",
      "source": [
        "pd.read_sql_query('SELECT * FROM medications', medication_con)"
      ],
      "metadata": {
        "id": "dA3SGeHK4aKN"
      },
      "execution_count": null,
      "outputs": []
    },
    {
      "cell_type": "code",
      "source": [
        "import json"
      ],
      "metadata": {
        "id": "YFVYF1S_482K"
      },
      "execution_count": null,
      "outputs": []
    },
    {
      "cell_type": "code",
      "source": [
        "patients_1_batch = json.load(open('patient_records_batch_1.json'))"
      ],
      "metadata": {
        "id": "QS-l7bNP5Z4k"
      },
      "execution_count": null,
      "outputs": []
    },
    {
      "cell_type": "code",
      "source": [
        "len(patients_1_batch)"
      ],
      "metadata": {
        "id": "wU-mskid5au-"
      },
      "execution_count": null,
      "outputs": []
    },
    {
      "cell_type": "code",
      "source": [
        "patients_1_batch[0:20]"
      ],
      "metadata": {
        "id": "7AOWpSzN4juY"
      },
      "execution_count": null,
      "outputs": []
    },
    {
      "cell_type": "code",
      "source": [],
      "metadata": {
        "id": "XU5sdy245Bvw"
      },
      "execution_count": null,
      "outputs": []
    }
  ]
}