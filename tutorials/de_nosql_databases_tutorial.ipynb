{
  "nbformat": 4,
  "nbformat_minor": 0,
  "metadata": {
    "colab": {
      "provenance": [],
      "authorship_tag": "ABX9TyNs9pAhdRwz55nSpqCB2Yit",
      "include_colab_link": true
    },
    "kernelspec": {
      "name": "python3",
      "display_name": "Python 3"
    },
    "language_info": {
      "name": "python"
    }
  },
  "cells": [
    {
      "cell_type": "markdown",
      "metadata": {
        "id": "view-in-github",
        "colab_type": "text"
      },
      "source": [
        "<a href=\"https://colab.research.google.com/github/matthewpecsok/data_engineering/blob/main/tutorials/de_nosql_databases_tutorial.ipynb\" target=\"_parent\"><img src=\"https://colab.research.google.com/assets/colab-badge.svg\" alt=\"Open In Colab\"/></a>"
      ]
    },
    {
      "cell_type": "markdown",
      "source": [
        "This tutorial will introduce you to  MongoDB a document database. MongoDB deals in data that is effictively a dictionary in Python or JSON data if it's a file. This document-oriented database is very different from the relational database designs we've seen thus far. We'll learn how to populate the database with data, how to query the database for documents we'd like to find, how to extract data for data engineering purposes."
      ],
      "metadata": {
        "id": "J76X04zOiK61"
      }
    },
    {
      "cell_type": "code",
      "source": [
        "!pip install faker\n",
        "!pip install pymongo"
      ],
      "metadata": {
        "id": "IlImf-IoL61o",
        "colab": {
          "base_uri": "https://localhost:8080/"
        },
        "outputId": "07d83625-02eb-47ba-d0f1-0736e75f6325"
      },
      "execution_count": 22,
      "outputs": [
        {
          "output_type": "stream",
          "name": "stdout",
          "text": [
            "Collecting faker\n",
            "  Downloading Faker-24.4.0-py3-none-any.whl (1.8 MB)\n",
            "\u001b[2K     \u001b[90m━━━━━━━━━━━━━━━━━━━━━━━━━━━━━━━━━━━━━━━━\u001b[0m \u001b[32m1.8/1.8 MB\u001b[0m \u001b[31m14.8 MB/s\u001b[0m eta \u001b[36m0:00:00\u001b[0m\n",
            "\u001b[?25hRequirement already satisfied: python-dateutil>=2.4 in /usr/local/lib/python3.10/dist-packages (from faker) (2.8.2)\n",
            "Requirement already satisfied: six>=1.5 in /usr/local/lib/python3.10/dist-packages (from python-dateutil>=2.4->faker) (1.16.0)\n",
            "Installing collected packages: faker\n",
            "Successfully installed faker-24.4.0\n",
            "Collecting pymongo\n",
            "  Downloading pymongo-4.6.3-cp310-cp310-manylinux_2_17_x86_64.manylinux2014_x86_64.whl (676 kB)\n",
            "\u001b[2K     \u001b[90m━━━━━━━━━━━━━━━━━━━━━━━━━━━━━━━━━━━━━━━━\u001b[0m \u001b[32m676.9/676.9 kB\u001b[0m \u001b[31m6.5 MB/s\u001b[0m eta \u001b[36m0:00:00\u001b[0m\n",
            "\u001b[?25hCollecting dnspython<3.0.0,>=1.16.0 (from pymongo)\n",
            "  Downloading dnspython-2.6.1-py3-none-any.whl (307 kB)\n",
            "\u001b[2K     \u001b[90m━━━━━━━━━━━━━━━━━━━━━━━━━━━━━━━━━━━━━━━━\u001b[0m \u001b[32m307.7/307.7 kB\u001b[0m \u001b[31m10.0 MB/s\u001b[0m eta \u001b[36m0:00:00\u001b[0m\n",
            "\u001b[?25hInstalling collected packages: dnspython, pymongo\n",
            "Successfully installed dnspython-2.6.1 pymongo-4.6.3\n"
          ]
        }
      ]
    },
    {
      "cell_type": "code",
      "source": [
        "from faker import Faker\n",
        "from pymongo import MongoClient\n",
        "import random\n",
        "import datetime\n",
        "import re"
      ],
      "metadata": {
        "id": "mkYJ0TjXN1ue"
      },
      "execution_count": 23,
      "outputs": []
    },
    {
      "cell_type": "markdown",
      "source": [
        "# install MongoDB"
      ],
      "metadata": {
        "id": "S573xnvQa4Lw"
      }
    },
    {
      "cell_type": "code",
      "source": [
        "!apt-get install gnupg curl"
      ],
      "metadata": {
        "id": "fza_3GJ0CiOw",
        "colab": {
          "base_uri": "https://localhost:8080/"
        },
        "outputId": "8ce10790-461d-4743-c022-7eea2be8b42b"
      },
      "execution_count": 24,
      "outputs": [
        {
          "output_type": "stream",
          "name": "stdout",
          "text": [
            "Reading package lists... Done\n",
            "Building dependency tree... Done\n",
            "Reading state information... Done\n",
            "curl is already the newest version (7.81.0-1ubuntu1.16).\n",
            "gnupg is already the newest version (2.2.27-3ubuntu2.1).\n",
            "gnupg set to manually installed.\n",
            "0 upgraded, 0 newly installed, 0 to remove and 45 not upgraded.\n"
          ]
        }
      ]
    },
    {
      "cell_type": "code",
      "source": [
        "!curl -fsSL https://pgp.mongodb.com/server-7.0.asc | \\\n",
        "   sudo gpg -o /usr/share/keyrings/mongodb-server-7.0.gpg \\\n",
        "   --dearmor"
      ],
      "metadata": {
        "id": "LbAAWv_uCj_K"
      },
      "execution_count": 25,
      "outputs": []
    },
    {
      "cell_type": "code",
      "source": [
        "!echo \"deb [ arch=amd64,arm64 signed-by=/usr/share/keyrings/mongodb-server-7.0.gpg ] https://repo.mongodb.org/apt/ubuntu jammy/mongodb-org/7.0 multiverse\" | sudo tee /etc/apt/sources.list.d/mongodb-org-7.0.list"
      ],
      "metadata": {
        "id": "hyCh0lXTCfVq",
        "colab": {
          "base_uri": "https://localhost:8080/"
        },
        "outputId": "edfedb1c-2439-4529-a7ff-6e56d95d6bc7"
      },
      "execution_count": 26,
      "outputs": [
        {
          "output_type": "stream",
          "name": "stdout",
          "text": [
            "deb [ arch=amd64,arm64 signed-by=/usr/share/keyrings/mongodb-server-7.0.gpg ] https://repo.mongodb.org/apt/ubuntu jammy/mongodb-org/7.0 multiverse\n"
          ]
        }
      ]
    },
    {
      "cell_type": "code",
      "source": [
        "!apt-get update"
      ],
      "metadata": {
        "id": "gX-FniUdCmvX",
        "colab": {
          "base_uri": "https://localhost:8080/"
        },
        "outputId": "9a51fa92-6763-401a-f7a5-48badb64e60f"
      },
      "execution_count": 27,
      "outputs": [
        {
          "output_type": "stream",
          "name": "stdout",
          "text": [
            "\r0% [Working]\r            \rGet:1 https://cloud.r-project.org/bin/linux/ubuntu jammy-cran40/ InRelease [3,626 B]\n",
            "Hit:2 https://developer.download.nvidia.com/compute/cuda/repos/ubuntu2204/x86_64  InRelease\n",
            "Ign:3 https://repo.mongodb.org/apt/ubuntu jammy/mongodb-org/7.0 InRelease\n",
            "Get:4 http://security.ubuntu.com/ubuntu jammy-security InRelease [110 kB]\n",
            "Hit:5 http://archive.ubuntu.com/ubuntu jammy InRelease\n",
            "Get:6 https://repo.mongodb.org/apt/ubuntu jammy/mongodb-org/7.0 Release [2,090 B]\n",
            "Get:7 https://repo.mongodb.org/apt/ubuntu jammy/mongodb-org/7.0 Release.gpg [866 B]\n",
            "Get:8 http://archive.ubuntu.com/ubuntu jammy-updates InRelease [119 kB]\n",
            "Hit:9 https://ppa.launchpadcontent.net/c2d4u.team/c2d4u4.0+/ubuntu jammy InRelease\n",
            "Get:10 https://repo.mongodb.org/apt/ubuntu jammy/mongodb-org/7.0/multiverse amd64 Packages [32.7 kB]\n",
            "Hit:11 https://ppa.launchpadcontent.net/deadsnakes/ppa/ubuntu jammy InRelease\n",
            "Hit:12 https://ppa.launchpadcontent.net/graphics-drivers/ppa/ubuntu jammy InRelease\n",
            "Get:13 https://repo.mongodb.org/apt/ubuntu jammy/mongodb-org/7.0/multiverse arm64 Packages [31.7 kB]\n",
            "Hit:14 http://archive.ubuntu.com/ubuntu jammy-backports InRelease\n",
            "Hit:15 https://ppa.launchpadcontent.net/ubuntugis/ppa/ubuntu jammy InRelease\n",
            "Get:16 http://security.ubuntu.com/ubuntu jammy-security/main amd64 Packages [1,641 kB]\n",
            "Get:17 http://security.ubuntu.com/ubuntu jammy-security/universe amd64 Packages [1,081 kB]\n",
            "Get:18 http://archive.ubuntu.com/ubuntu jammy-updates/restricted amd64 Packages [2,104 kB]\n",
            "Get:19 http://archive.ubuntu.com/ubuntu jammy-updates/main amd64 Packages [1,920 kB]\n",
            "Get:20 http://archive.ubuntu.com/ubuntu jammy-updates/universe amd64 Packages [1,358 kB]\n",
            "Fetched 8,404 kB in 5s (1,631 kB/s)\n",
            "Reading package lists... Done\n"
          ]
        }
      ]
    },
    {
      "cell_type": "code",
      "source": [
        "!apt-get install -y mongodb-org"
      ],
      "metadata": {
        "id": "UT97RBGUCpd-",
        "colab": {
          "base_uri": "https://localhost:8080/"
        },
        "outputId": "53b9d2a4-207e-4620-d1d2-743458042e15"
      },
      "execution_count": 28,
      "outputs": [
        {
          "output_type": "stream",
          "name": "stdout",
          "text": [
            "Reading package lists... Done\n",
            "Building dependency tree... Done\n",
            "Reading state information... Done\n",
            "The following additional packages will be installed:\n",
            "  mongodb-database-tools mongodb-mongosh mongodb-org-database mongodb-org-database-tools-extra\n",
            "  mongodb-org-mongos mongodb-org-server mongodb-org-shell mongodb-org-tools\n",
            "The following NEW packages will be installed:\n",
            "  mongodb-database-tools mongodb-mongosh mongodb-org mongodb-org-database\n",
            "  mongodb-org-database-tools-extra mongodb-org-mongos mongodb-org-server mongodb-org-shell\n",
            "  mongodb-org-tools\n",
            "0 upgraded, 9 newly installed, 0 to remove and 45 not upgraded.\n",
            "Need to get 167 MB of archives.\n",
            "After this operation, 539 MB of additional disk space will be used.\n",
            "Get:1 https://repo.mongodb.org/apt/ubuntu jammy/mongodb-org/7.0/multiverse amd64 mongodb-database-tools amd64 100.9.4 [51.9 MB]\n",
            "Get:2 https://repo.mongodb.org/apt/ubuntu jammy/mongodb-org/7.0/multiverse amd64 mongodb-mongosh amd64 2.2.2 [52.6 MB]\n",
            "Get:3 https://repo.mongodb.org/apt/ubuntu jammy/mongodb-org/7.0/multiverse amd64 mongodb-org-shell amd64 7.0.7 [2,984 B]\n",
            "Get:4 https://repo.mongodb.org/apt/ubuntu jammy/mongodb-org/7.0/multiverse amd64 mongodb-org-server amd64 7.0.7 [36.7 MB]\n",
            "Get:5 https://repo.mongodb.org/apt/ubuntu jammy/mongodb-org/7.0/multiverse amd64 mongodb-org-mongos amd64 7.0.7 [25.6 MB]\n",
            "Get:6 https://repo.mongodb.org/apt/ubuntu jammy/mongodb-org/7.0/multiverse amd64 mongodb-org-database-tools-extra amd64 7.0.7 [7,784 B]\n",
            "Get:7 https://repo.mongodb.org/apt/ubuntu jammy/mongodb-org/7.0/multiverse amd64 mongodb-org-database amd64 7.0.7 [3,424 B]\n",
            "Get:8 https://repo.mongodb.org/apt/ubuntu jammy/mongodb-org/7.0/multiverse amd64 mongodb-org-tools amd64 7.0.7 [2,768 B]\n",
            "Get:9 https://repo.mongodb.org/apt/ubuntu jammy/mongodb-org/7.0/multiverse amd64 mongodb-org amd64 7.0.7 [2,802 B]\n",
            "Fetched 167 MB in 4s (44.6 MB/s)\n",
            "Selecting previously unselected package mongodb-database-tools.\n",
            "(Reading database ... 121753 files and directories currently installed.)\n",
            "Preparing to unpack .../0-mongodb-database-tools_100.9.4_amd64.deb ...\n",
            "Unpacking mongodb-database-tools (100.9.4) ...\n",
            "Selecting previously unselected package mongodb-mongosh.\n",
            "Preparing to unpack .../1-mongodb-mongosh_2.2.2_amd64.deb ...\n",
            "Unpacking mongodb-mongosh (2.2.2) ...\n",
            "Selecting previously unselected package mongodb-org-shell.\n",
            "Preparing to unpack .../2-mongodb-org-shell_7.0.7_amd64.deb ...\n",
            "Unpacking mongodb-org-shell (7.0.7) ...\n",
            "Selecting previously unselected package mongodb-org-server.\n",
            "Preparing to unpack .../3-mongodb-org-server_7.0.7_amd64.deb ...\n",
            "Unpacking mongodb-org-server (7.0.7) ...\n",
            "Selecting previously unselected package mongodb-org-mongos.\n",
            "Preparing to unpack .../4-mongodb-org-mongos_7.0.7_amd64.deb ...\n",
            "Unpacking mongodb-org-mongos (7.0.7) ...\n",
            "Selecting previously unselected package mongodb-org-database-tools-extra.\n",
            "Preparing to unpack .../5-mongodb-org-database-tools-extra_7.0.7_amd64.deb ...\n",
            "Unpacking mongodb-org-database-tools-extra (7.0.7) ...\n",
            "Selecting previously unselected package mongodb-org-database.\n",
            "Preparing to unpack .../6-mongodb-org-database_7.0.7_amd64.deb ...\n",
            "Unpacking mongodb-org-database (7.0.7) ...\n",
            "Selecting previously unselected package mongodb-org-tools.\n",
            "Preparing to unpack .../7-mongodb-org-tools_7.0.7_amd64.deb ...\n",
            "Unpacking mongodb-org-tools (7.0.7) ...\n",
            "Selecting previously unselected package mongodb-org.\n",
            "Preparing to unpack .../8-mongodb-org_7.0.7_amd64.deb ...\n",
            "Unpacking mongodb-org (7.0.7) ...\n",
            "Setting up mongodb-mongosh (2.2.2) ...\n",
            "Setting up mongodb-org-server (7.0.7) ...\n",
            "Adding system user `mongodb' (UID 104) ...\n",
            "Adding new user `mongodb' (UID 104) with group `nogroup' ...\n",
            "Not creating home directory `/home/mongodb'.\n",
            "Adding group `mongodb' (GID 107) ...\n",
            "Done.\n",
            "Adding user `mongodb' to group `mongodb' ...\n",
            "Adding user mongodb to group mongodb\n",
            "Done.\n",
            "System has not been booted with systemd as init system (PID 1). Can't operate.\n",
            "Failed to connect to bus: Host is down\n",
            "Setting up mongodb-org-shell (7.0.7) ...\n",
            "Setting up mongodb-database-tools (100.9.4) ...\n",
            "Setting up mongodb-org-mongos (7.0.7) ...\n",
            "Setting up mongodb-org-database-tools-extra (7.0.7) ...\n",
            "Setting up mongodb-org-database (7.0.7) ...\n",
            "Setting up mongodb-org-tools (7.0.7) ...\n",
            "Setting up mongodb-org (7.0.7) ...\n",
            "Processing triggers for man-db (2.10.2-1) ...\n"
          ]
        }
      ]
    },
    {
      "cell_type": "code",
      "source": [
        "!mkdir /data\n",
        "!mkdir /data/db"
      ],
      "metadata": {
        "id": "GwN3RxgzDZ_8"
      },
      "execution_count": 29,
      "outputs": []
    },
    {
      "cell_type": "code",
      "source": [
        "import subprocess\n",
        "subprocess.Popen([\"mongod\"])"
      ],
      "metadata": {
        "id": "8pZSN7_bCPdB",
        "colab": {
          "base_uri": "https://localhost:8080/"
        },
        "outputId": "b49949fe-b35b-4c4b-a745-7200bf675a12"
      },
      "execution_count": 30,
      "outputs": [
        {
          "output_type": "execute_result",
          "data": {
            "text/plain": [
              "<Popen: returncode: None args: ['mongod']>"
            ]
          },
          "metadata": {},
          "execution_count": 30
        }
      ]
    },
    {
      "cell_type": "code",
      "source": [
        "from pymongo import MongoClient\n",
        "client = MongoClient()\n",
        "client.list_database_names() # ['admin', 'local']"
      ],
      "metadata": {
        "id": "E68Zpj-Hyj-O",
        "colab": {
          "base_uri": "https://localhost:8080/"
        },
        "outputId": "3a355952-299a-4bf8-916e-8e7241c5fa1a"
      },
      "execution_count": 31,
      "outputs": [
        {
          "output_type": "execute_result",
          "data": {
            "text/plain": [
              "['admin', 'config', 'local']"
            ]
          },
          "metadata": {},
          "execution_count": 31
        }
      ]
    },
    {
      "cell_type": "markdown",
      "source": [
        "## create the db\n",
        "\n",
        "name our database"
      ],
      "metadata": {
        "id": "7ZgIUYCCi8GQ"
      }
    },
    {
      "cell_type": "code",
      "source": [
        "db = client['cloud_purchase_db']"
      ],
      "metadata": {
        "id": "38hNStS5xV1A"
      },
      "execution_count": 32,
      "outputs": []
    },
    {
      "cell_type": "markdown",
      "source": [
        "## Set up Collections"
      ],
      "metadata": {
        "id": "pVaWthrNi9Vg"
      }
    },
    {
      "cell_type": "markdown",
      "source": [
        "drop the collections in case they already exist so we don't duplicate data"
      ],
      "metadata": {
        "id": "mkuAVN9UjFPU"
      }
    },
    {
      "cell_type": "code",
      "source": [
        "db.drop_collection('customers')\n",
        "db.drop_collection('products')\n",
        "#db.drop_collection('orders')"
      ],
      "metadata": {
        "id": "4-wKPCwxxXkh",
        "colab": {
          "base_uri": "https://localhost:8080/"
        },
        "outputId": "20764c19-dc51-465c-a998-53ea0cee3d43"
      },
      "execution_count": 33,
      "outputs": [
        {
          "output_type": "execute_result",
          "data": {
            "text/plain": [
              "{'ok': 1.0}"
            ]
          },
          "metadata": {},
          "execution_count": 33
        }
      ]
    },
    {
      "cell_type": "markdown",
      "source": [
        "do we have any collections?"
      ],
      "metadata": {
        "id": "XDOGvMNKjI_H"
      }
    },
    {
      "cell_type": "markdown",
      "source": [
        "## list collections"
      ],
      "metadata": {
        "id": "HakKmGYfjLfk"
      }
    },
    {
      "cell_type": "code",
      "source": [
        "db.list_collection_names()"
      ],
      "metadata": {
        "id": "tAbWgjJ2Okhh",
        "colab": {
          "base_uri": "https://localhost:8080/"
        },
        "outputId": "7be3c040-ed76-4c87-c6e3-837959f3334d"
      },
      "execution_count": 34,
      "outputs": [
        {
          "output_type": "execute_result",
          "data": {
            "text/plain": [
              "[]"
            ]
          },
          "metadata": {},
          "execution_count": 34
        }
      ]
    },
    {
      "cell_type": "code",
      "source": [
        "# Create Faker instance\n",
        "fake = Faker()"
      ],
      "metadata": {
        "id": "Zu7bYyF5jPry"
      },
      "execution_count": 35,
      "outputs": []
    },
    {
      "cell_type": "markdown",
      "source": [
        "# Create the data"
      ],
      "metadata": {
        "id": "8Xl4MJ7zbqxw"
      }
    },
    {
      "cell_type": "markdown",
      "source": [
        "## create customer data\n",
        "\n",
        "create from 1 to 5 orders (randomly)\n",
        "pick a random product id from 1 to 10\n",
        "units between 10 and 100\n",
        "year from 1 year ago to today"
      ],
      "metadata": {
        "id": "zXu6lgeCbzk_"
      }
    },
    {
      "cell_type": "code",
      "source": [
        "# Generate customer orders\n",
        "def gen_orders():\n",
        "\n",
        "  orders = []\n",
        "  for i in range(1,random.randint(1, 5)):\n",
        "\n",
        "      productid = random.randint(1, 10)\n",
        "      units = random.randint(10, 100)\n",
        "      if random.random() < 0.1:\n",
        "          units *= 10\n",
        "      purchase_date = fake.date_between(start_date='-1y', end_date='today')\n",
        "      purchase_date = datetime.datetime.combine(purchase_date, datetime.datetime.min.time())\n",
        "\n",
        "      order = {\n",
        "          'productid': productid,\n",
        "          'units': units,\n",
        "          'purchase_date': purchase_date\n",
        "      }\n",
        "\n",
        "      orders.append(order)\n",
        "\n",
        "  return orders"
      ],
      "metadata": {
        "id": "TTdoT6P5j4_o"
      },
      "execution_count": 36,
      "outputs": []
    },
    {
      "cell_type": "code",
      "source": [
        "gen_orders()"
      ],
      "metadata": {
        "id": "uEfqPxjrrGje",
        "colab": {
          "base_uri": "https://localhost:8080/"
        },
        "outputId": "3bb6fe6b-4593-4188-889b-bce6bf2d5af4"
      },
      "execution_count": 37,
      "outputs": [
        {
          "output_type": "execute_result",
          "data": {
            "text/plain": [
              "[{'productid': 6,\n",
              "  'units': 75,\n",
              "  'purchase_date': datetime.datetime(2024, 1, 21, 0, 0)}]"
            ]
          },
          "metadata": {},
          "execution_count": 37
        }
      ]
    },
    {
      "cell_type": "markdown",
      "source": [
        "generate 100 customers"
      ],
      "metadata": {
        "id": "9hrgYCJCuk-8"
      }
    },
    {
      "cell_type": "code",
      "source": [
        "# Generate customers\n",
        "customers = []\n",
        "for i in range(100):\n",
        "    customer = {\n",
        "        'customerid': i+1,\n",
        "        'name': fake.name(),\n",
        "        'email': fake.email(),\n",
        "        'phone': [fake.phone_number(),fake.phone_number(),fake.phone_number()],\n",
        "        'orders' : gen_orders() #this is where we generate orders\n",
        "    }\n",
        "    customers.append(customer)"
      ],
      "metadata": {
        "id": "YjkdgXx3jT_i"
      },
      "execution_count": 38,
      "outputs": []
    },
    {
      "cell_type": "code",
      "source": [
        "len(customers)"
      ],
      "metadata": {
        "id": "FwR_hqfZumro",
        "colab": {
          "base_uri": "https://localhost:8080/"
        },
        "outputId": "c86ee4de-ab63-44df-a3e4-a6d6116c5b51"
      },
      "execution_count": 39,
      "outputs": [
        {
          "output_type": "execute_result",
          "data": {
            "text/plain": [
              "100"
            ]
          },
          "metadata": {},
          "execution_count": 39
        }
      ]
    },
    {
      "cell_type": "code",
      "source": [
        "customers[0:3]"
      ],
      "metadata": {
        "id": "bGwfY6RCwI5K",
        "colab": {
          "base_uri": "https://localhost:8080/"
        },
        "outputId": "b0ae5aa8-9258-4764-a177-548f80c1d28c"
      },
      "execution_count": 40,
      "outputs": [
        {
          "output_type": "execute_result",
          "data": {
            "text/plain": [
              "[{'customerid': 1,\n",
              "  'name': 'Brian Clark',\n",
              "  'email': 'bsawyer@example.net',\n",
              "  'phone': ['001-579-476-0664x139', '(309)504-3134x92639', '(556)824-2044'],\n",
              "  'orders': [{'productid': 10,\n",
              "    'units': 44,\n",
              "    'purchase_date': datetime.datetime(2023, 9, 7, 0, 0)},\n",
              "   {'productid': 8,\n",
              "    'units': 83,\n",
              "    'purchase_date': datetime.datetime(2023, 8, 18, 0, 0)},\n",
              "   {'productid': 4,\n",
              "    'units': 49,\n",
              "    'purchase_date': datetime.datetime(2023, 5, 20, 0, 0)}]},\n",
              " {'customerid': 2,\n",
              "  'name': 'Chad Smith',\n",
              "  'email': 'scotthenderson@example.org',\n",
              "  'phone': ['975-352-0590', '404-926-6375', '+1-615-936-0115x702'],\n",
              "  'orders': [{'productid': 7,\n",
              "    'units': 660,\n",
              "    'purchase_date': datetime.datetime(2024, 2, 11, 0, 0)},\n",
              "   {'productid': 3,\n",
              "    'units': 92,\n",
              "    'purchase_date': datetime.datetime(2023, 5, 11, 0, 0)},\n",
              "   {'productid': 5,\n",
              "    'units': 76,\n",
              "    'purchase_date': datetime.datetime(2023, 9, 30, 0, 0)}]},\n",
              " {'customerid': 3,\n",
              "  'name': 'Ronald Greene',\n",
              "  'email': 'christopher93@example.org',\n",
              "  'phone': ['(602)620-7683', '(446)691-2662', '001-845-348-1235x188'],\n",
              "  'orders': [{'productid': 9,\n",
              "    'units': 25,\n",
              "    'purchase_date': datetime.datetime(2023, 10, 5, 0, 0)},\n",
              "   {'productid': 9,\n",
              "    'units': 38,\n",
              "    'purchase_date': datetime.datetime(2023, 10, 16, 0, 0)}]}]"
            ]
          },
          "metadata": {},
          "execution_count": 40
        }
      ]
    },
    {
      "cell_type": "code",
      "source": [
        "# Insert customers into MongoDB\n",
        "db.customers.insert_many(customers)"
      ],
      "metadata": {
        "id": "y6fmYt1UjVPu",
        "colab": {
          "base_uri": "https://localhost:8080/"
        },
        "outputId": "b5482ae8-16de-4ef9-97f3-af958fada56a"
      },
      "execution_count": 41,
      "outputs": [
        {
          "output_type": "execute_result",
          "data": {
            "text/plain": [
              "InsertManyResult([ObjectId('660c8b705138676bc12023ca'), ObjectId('660c8b705138676bc12023cb'), ObjectId('660c8b705138676bc12023cc'), ObjectId('660c8b705138676bc12023cd'), ObjectId('660c8b705138676bc12023ce'), ObjectId('660c8b705138676bc12023cf'), ObjectId('660c8b705138676bc12023d0'), ObjectId('660c8b705138676bc12023d1'), ObjectId('660c8b705138676bc12023d2'), ObjectId('660c8b705138676bc12023d3'), ObjectId('660c8b705138676bc12023d4'), ObjectId('660c8b705138676bc12023d5'), ObjectId('660c8b705138676bc12023d6'), ObjectId('660c8b705138676bc12023d7'), ObjectId('660c8b705138676bc12023d8'), ObjectId('660c8b705138676bc12023d9'), ObjectId('660c8b705138676bc12023da'), ObjectId('660c8b705138676bc12023db'), ObjectId('660c8b705138676bc12023dc'), ObjectId('660c8b705138676bc12023dd'), ObjectId('660c8b705138676bc12023de'), ObjectId('660c8b705138676bc12023df'), ObjectId('660c8b705138676bc12023e0'), ObjectId('660c8b705138676bc12023e1'), ObjectId('660c8b705138676bc12023e2'), ObjectId('660c8b705138676bc12023e3'), ObjectId('660c8b705138676bc12023e4'), ObjectId('660c8b705138676bc12023e5'), ObjectId('660c8b705138676bc12023e6'), ObjectId('660c8b705138676bc12023e7'), ObjectId('660c8b705138676bc12023e8'), ObjectId('660c8b705138676bc12023e9'), ObjectId('660c8b705138676bc12023ea'), ObjectId('660c8b705138676bc12023eb'), ObjectId('660c8b705138676bc12023ec'), ObjectId('660c8b705138676bc12023ed'), ObjectId('660c8b705138676bc12023ee'), ObjectId('660c8b705138676bc12023ef'), ObjectId('660c8b705138676bc12023f0'), ObjectId('660c8b705138676bc12023f1'), ObjectId('660c8b705138676bc12023f2'), ObjectId('660c8b705138676bc12023f3'), ObjectId('660c8b705138676bc12023f4'), ObjectId('660c8b705138676bc12023f5'), ObjectId('660c8b705138676bc12023f6'), ObjectId('660c8b705138676bc12023f7'), ObjectId('660c8b705138676bc12023f8'), ObjectId('660c8b705138676bc12023f9'), ObjectId('660c8b705138676bc12023fa'), ObjectId('660c8b705138676bc12023fb'), ObjectId('660c8b705138676bc12023fc'), ObjectId('660c8b705138676bc12023fd'), ObjectId('660c8b705138676bc12023fe'), ObjectId('660c8b705138676bc12023ff'), ObjectId('660c8b705138676bc1202400'), ObjectId('660c8b705138676bc1202401'), ObjectId('660c8b705138676bc1202402'), ObjectId('660c8b705138676bc1202403'), ObjectId('660c8b705138676bc1202404'), ObjectId('660c8b705138676bc1202405'), ObjectId('660c8b705138676bc1202406'), ObjectId('660c8b705138676bc1202407'), ObjectId('660c8b705138676bc1202408'), ObjectId('660c8b705138676bc1202409'), ObjectId('660c8b705138676bc120240a'), ObjectId('660c8b705138676bc120240b'), ObjectId('660c8b705138676bc120240c'), ObjectId('660c8b705138676bc120240d'), ObjectId('660c8b705138676bc120240e'), ObjectId('660c8b705138676bc120240f'), ObjectId('660c8b705138676bc1202410'), ObjectId('660c8b705138676bc1202411'), ObjectId('660c8b705138676bc1202412'), ObjectId('660c8b705138676bc1202413'), ObjectId('660c8b705138676bc1202414'), ObjectId('660c8b705138676bc1202415'), ObjectId('660c8b705138676bc1202416'), ObjectId('660c8b705138676bc1202417'), ObjectId('660c8b705138676bc1202418'), ObjectId('660c8b705138676bc1202419'), ObjectId('660c8b705138676bc120241a'), ObjectId('660c8b705138676bc120241b'), ObjectId('660c8b705138676bc120241c'), ObjectId('660c8b705138676bc120241d'), ObjectId('660c8b705138676bc120241e'), ObjectId('660c8b705138676bc120241f'), ObjectId('660c8b705138676bc1202420'), ObjectId('660c8b705138676bc1202421'), ObjectId('660c8b705138676bc1202422'), ObjectId('660c8b705138676bc1202423'), ObjectId('660c8b705138676bc1202424'), ObjectId('660c8b705138676bc1202425'), ObjectId('660c8b705138676bc1202426'), ObjectId('660c8b705138676bc1202427'), ObjectId('660c8b705138676bc1202428'), ObjectId('660c8b705138676bc1202429'), ObjectId('660c8b705138676bc120242a'), ObjectId('660c8b705138676bc120242b'), ObjectId('660c8b705138676bc120242c'), ObjectId('660c8b705138676bc120242d')], acknowledged=True)"
            ]
          },
          "metadata": {},
          "execution_count": 41
        }
      ]
    },
    {
      "cell_type": "markdown",
      "source": [
        "## create products data"
      ],
      "metadata": {
        "id": "hcaXjvZlb121"
      }
    },
    {
      "cell_type": "code",
      "source": [
        "# Generate products\n",
        "products = []\n",
        "for i in range(10):\n",
        "    product = {\n",
        "        'productid': i+1,\n",
        "        'category': random.choice(['Electronics', 'Clothing', 'Books', 'Home']),\n",
        "        'price': random.randint(1, 100)\n",
        "    }\n",
        "    products.append(product)"
      ],
      "metadata": {
        "id": "CxwNS24fjWgh"
      },
      "execution_count": 42,
      "outputs": []
    },
    {
      "cell_type": "code",
      "source": [
        "products[0:3]"
      ],
      "metadata": {
        "id": "03L0kTpZ0clv",
        "colab": {
          "base_uri": "https://localhost:8080/"
        },
        "outputId": "385b1a8e-ca10-433c-c2fb-83784f867f34"
      },
      "execution_count": 43,
      "outputs": [
        {
          "output_type": "execute_result",
          "data": {
            "text/plain": [
              "[{'productid': 1, 'category': 'Electronics', 'price': 8},\n",
              " {'productid': 2, 'category': 'Home', 'price': 69},\n",
              " {'productid': 3, 'category': 'Home', 'price': 3}]"
            ]
          },
          "metadata": {},
          "execution_count": 43
        }
      ]
    },
    {
      "cell_type": "markdown",
      "source": [
        "put the 10 products into the database"
      ],
      "metadata": {
        "id": "GqLn4b3S0Ooq"
      }
    },
    {
      "cell_type": "code",
      "source": [
        "# Insert products into MongoDB\n",
        "db.products.insert_many(products)"
      ],
      "metadata": {
        "id": "Rmyiye1HjXee",
        "colab": {
          "base_uri": "https://localhost:8080/"
        },
        "outputId": "bda09e27-be07-4013-c07a-206277bfb71d"
      },
      "execution_count": 44,
      "outputs": [
        {
          "output_type": "execute_result",
          "data": {
            "text/plain": [
              "InsertManyResult([ObjectId('660c8b705138676bc120242e'), ObjectId('660c8b705138676bc120242f'), ObjectId('660c8b705138676bc1202430'), ObjectId('660c8b705138676bc1202431'), ObjectId('660c8b705138676bc1202432'), ObjectId('660c8b705138676bc1202433'), ObjectId('660c8b705138676bc1202434'), ObjectId('660c8b705138676bc1202435'), ObjectId('660c8b705138676bc1202436'), ObjectId('660c8b705138676bc1202437')], acknowledged=True)"
            ]
          },
          "metadata": {},
          "execution_count": 44
        }
      ]
    },
    {
      "cell_type": "code",
      "source": [
        "db.list_collection_names() # list collections"
      ],
      "metadata": {
        "id": "pGJp7-xlPBHo",
        "colab": {
          "base_uri": "https://localhost:8080/"
        },
        "outputId": "71851a2f-d35a-4ed5-e3a7-938b8abd189b"
      },
      "execution_count": 45,
      "outputs": [
        {
          "output_type": "execute_result",
          "data": {
            "text/plain": [
              "['products', 'customers']"
            ]
          },
          "metadata": {},
          "execution_count": 45
        }
      ]
    },
    {
      "cell_type": "markdown",
      "source": [
        "loop through collections and count the number of documents"
      ],
      "metadata": {
        "id": "Kh7A9GgHcHj-"
      }
    },
    {
      "cell_type": "code",
      "source": [
        "for collection_name in db.list_collection_names():\n",
        "  collection = db.get_collection(collection_name)\n",
        "  print(f'{collection_name}:{collection.count_documents({})}')"
      ],
      "metadata": {
        "id": "HjkD5qDpPBWw",
        "colab": {
          "base_uri": "https://localhost:8080/"
        },
        "outputId": "4dfc88f3-6380-487f-842f-61bc09f0aff4"
      },
      "execution_count": 46,
      "outputs": [
        {
          "output_type": "stream",
          "name": "stdout",
          "text": [
            "products:10\n",
            "customers:100\n"
          ]
        }
      ]
    },
    {
      "cell_type": "markdown",
      "source": [
        "# Querying\n",
        "\n"
      ],
      "metadata": {
        "id": "T7r6ecU8Zpaj"
      }
    },
    {
      "cell_type": "markdown",
      "source": [
        "## Customers\n",
        "\n",
        "Find all customers."
      ],
      "metadata": {
        "id": "In4J09kQZsH-"
      }
    },
    {
      "cell_type": "code",
      "source": [
        "for document in db.customers.find({}):\n",
        "  print(document)"
      ],
      "metadata": {
        "id": "JYT5n-vEPFDT",
        "colab": {
          "base_uri": "https://localhost:8080/"
        },
        "outputId": "cfb05ecd-f69b-41de-bf2e-7dad3677c568"
      },
      "execution_count": 47,
      "outputs": [
        {
          "output_type": "stream",
          "name": "stdout",
          "text": [
            "{'_id': ObjectId('660c8b705138676bc12023ca'), 'customerid': 1, 'name': 'Brian Clark', 'email': 'bsawyer@example.net', 'phone': ['001-579-476-0664x139', '(309)504-3134x92639', '(556)824-2044'], 'orders': [{'productid': 10, 'units': 44, 'purchase_date': datetime.datetime(2023, 9, 7, 0, 0)}, {'productid': 8, 'units': 83, 'purchase_date': datetime.datetime(2023, 8, 18, 0, 0)}, {'productid': 4, 'units': 49, 'purchase_date': datetime.datetime(2023, 5, 20, 0, 0)}]}\n",
            "{'_id': ObjectId('660c8b705138676bc12023cb'), 'customerid': 2, 'name': 'Chad Smith', 'email': 'scotthenderson@example.org', 'phone': ['975-352-0590', '404-926-6375', '+1-615-936-0115x702'], 'orders': [{'productid': 7, 'units': 660, 'purchase_date': datetime.datetime(2024, 2, 11, 0, 0)}, {'productid': 3, 'units': 92, 'purchase_date': datetime.datetime(2023, 5, 11, 0, 0)}, {'productid': 5, 'units': 76, 'purchase_date': datetime.datetime(2023, 9, 30, 0, 0)}]}\n",
            "{'_id': ObjectId('660c8b705138676bc12023cc'), 'customerid': 3, 'name': 'Ronald Greene', 'email': 'christopher93@example.org', 'phone': ['(602)620-7683', '(446)691-2662', '001-845-348-1235x188'], 'orders': [{'productid': 9, 'units': 25, 'purchase_date': datetime.datetime(2023, 10, 5, 0, 0)}, {'productid': 9, 'units': 38, 'purchase_date': datetime.datetime(2023, 10, 16, 0, 0)}]}\n",
            "{'_id': ObjectId('660c8b705138676bc12023cd'), 'customerid': 4, 'name': 'Mrs. Patricia Green', 'email': 'jeffrey25@example.net', 'phone': ['+1-541-788-8131x09656', '+1-323-867-3305x94155', '517-665-7809x29292'], 'orders': [{'productid': 10, 'units': 57, 'purchase_date': datetime.datetime(2023, 7, 26, 0, 0)}, {'productid': 8, 'units': 74, 'purchase_date': datetime.datetime(2023, 11, 3, 0, 0)}, {'productid': 4, 'units': 330, 'purchase_date': datetime.datetime(2023, 8, 4, 0, 0)}]}\n",
            "{'_id': ObjectId('660c8b705138676bc12023ce'), 'customerid': 5, 'name': 'Matthew Reid', 'email': 'qelliott@example.org', 'phone': ['(772)990-0078', '782-610-6169', '+1-700-224-6512'], 'orders': []}\n",
            "{'_id': ObjectId('660c8b705138676bc12023cf'), 'customerid': 6, 'name': 'Brenda Fowler', 'email': 'davepark@example.com', 'phone': ['(392)754-9831x99527', '+1-454-928-2156x57434', '+1-355-532-6775x2012'], 'orders': [{'productid': 10, 'units': 370, 'purchase_date': datetime.datetime(2023, 6, 30, 0, 0)}, {'productid': 5, 'units': 30, 'purchase_date': datetime.datetime(2023, 10, 13, 0, 0)}, {'productid': 2, 'units': 71, 'purchase_date': datetime.datetime(2023, 8, 3, 0, 0)}]}\n",
            "{'_id': ObjectId('660c8b705138676bc12023d0'), 'customerid': 7, 'name': 'Sarah Duran', 'email': 'tlee@example.net', 'phone': ['892.739.0168x00498', '615.808.4111x8091', '7988305010'], 'orders': []}\n",
            "{'_id': ObjectId('660c8b705138676bc12023d1'), 'customerid': 8, 'name': 'Christopher Wagner', 'email': 'rogerlopez@example.org', 'phone': ['+1-275-237-1780', '+1-614-272-7077', '311.643.1636'], 'orders': [{'productid': 7, 'units': 38, 'purchase_date': datetime.datetime(2024, 3, 18, 0, 0)}, {'productid': 7, 'units': 89, 'purchase_date': datetime.datetime(2023, 8, 10, 0, 0)}, {'productid': 2, 'units': 12, 'purchase_date': datetime.datetime(2023, 5, 9, 0, 0)}, {'productid': 10, 'units': 30, 'purchase_date': datetime.datetime(2023, 10, 8, 0, 0)}]}\n",
            "{'_id': ObjectId('660c8b705138676bc12023d2'), 'customerid': 9, 'name': 'Cody Garcia', 'email': 'patrick36@example.com', 'phone': ['(500)375-3957x717', '+1-250-518-7473x661', '(984)692-8180'], 'orders': [{'productid': 2, 'units': 34, 'purchase_date': datetime.datetime(2024, 3, 13, 0, 0)}, {'productid': 9, 'units': 17, 'purchase_date': datetime.datetime(2023, 12, 27, 0, 0)}]}\n",
            "{'_id': ObjectId('660c8b705138676bc12023d3'), 'customerid': 10, 'name': 'Morgan Stevens', 'email': 'hshelton@example.com', 'phone': ['213-442-4328x53452', '434.736.6382', '4615455651'], 'orders': []}\n",
            "{'_id': ObjectId('660c8b705138676bc12023d4'), 'customerid': 11, 'name': 'David Jones', 'email': 'freemananthony@example.org', 'phone': ['001-581-793-9034', '622.583.0665', '335.844.8055'], 'orders': [{'productid': 6, 'units': 56, 'purchase_date': datetime.datetime(2023, 4, 14, 0, 0)}]}\n",
            "{'_id': ObjectId('660c8b705138676bc12023d5'), 'customerid': 12, 'name': 'Sara Lopez', 'email': 'gmorgan@example.net', 'phone': ['727-437-9921', '251-214-0447x91487', '8578340047'], 'orders': [{'productid': 9, 'units': 30, 'purchase_date': datetime.datetime(2024, 3, 17, 0, 0)}, {'productid': 7, 'units': 51, 'purchase_date': datetime.datetime(2023, 7, 11, 0, 0)}, {'productid': 3, 'units': 43, 'purchase_date': datetime.datetime(2023, 11, 7, 0, 0)}, {'productid': 7, 'units': 81, 'purchase_date': datetime.datetime(2023, 7, 26, 0, 0)}]}\n",
            "{'_id': ObjectId('660c8b705138676bc12023d6'), 'customerid': 13, 'name': 'Daniel Roberts', 'email': 'ryan49@example.org', 'phone': ['536-675-9573x193', '001-209-496-9647x9011', '948.830.2034'], 'orders': []}\n",
            "{'_id': ObjectId('660c8b705138676bc12023d7'), 'customerid': 14, 'name': 'Katie Johnson', 'email': 'mayermichael@example.org', 'phone': ['+1-572-940-7930x991', '710-605-3628x50578', '373-404-8897x6727'], 'orders': [{'productid': 6, 'units': 980, 'purchase_date': datetime.datetime(2024, 2, 11, 0, 0)}, {'productid': 3, 'units': 72, 'purchase_date': datetime.datetime(2023, 6, 1, 0, 0)}, {'productid': 9, 'units': 55, 'purchase_date': datetime.datetime(2023, 5, 24, 0, 0)}, {'productid': 6, 'units': 530, 'purchase_date': datetime.datetime(2023, 7, 12, 0, 0)}]}\n",
            "{'_id': ObjectId('660c8b705138676bc12023d8'), 'customerid': 15, 'name': 'Cynthia Moore', 'email': 'bowmanerika@example.com', 'phone': ['(714)552-5113', '001-603-778-0255x4911', '(330)659-7420x7025'], 'orders': [{'productid': 2, 'units': 99, 'purchase_date': datetime.datetime(2023, 10, 21, 0, 0)}, {'productid': 5, 'units': 87, 'purchase_date': datetime.datetime(2023, 7, 25, 0, 0)}]}\n",
            "{'_id': ObjectId('660c8b705138676bc12023d9'), 'customerid': 16, 'name': 'Thomas Osborn', 'email': 'porterkelly@example.org', 'phone': ['9574028566', '561-815-4324x925', '001-664-729-1468x978'], 'orders': []}\n",
            "{'_id': ObjectId('660c8b705138676bc12023da'), 'customerid': 17, 'name': 'Thomas Carson', 'email': 'amanda79@example.org', 'phone': ['+1-923-819-4544x263', '441-318-1552x438', '001-718-260-3096'], 'orders': [{'productid': 10, 'units': 76, 'purchase_date': datetime.datetime(2023, 11, 10, 0, 0)}, {'productid': 4, 'units': 60, 'purchase_date': datetime.datetime(2023, 6, 13, 0, 0)}, {'productid': 4, 'units': 44, 'purchase_date': datetime.datetime(2023, 4, 3, 0, 0)}]}\n",
            "{'_id': ObjectId('660c8b705138676bc12023db'), 'customerid': 18, 'name': 'Stephen Garrett', 'email': 'slong@example.com', 'phone': ['001-997-965-2783x40627', '(624)471-3588x2588', '642.954.1924'], 'orders': [{'productid': 9, 'units': 12, 'purchase_date': datetime.datetime(2023, 11, 28, 0, 0)}, {'productid': 9, 'units': 52, 'purchase_date': datetime.datetime(2023, 7, 6, 0, 0)}, {'productid': 8, 'units': 96, 'purchase_date': datetime.datetime(2023, 10, 6, 0, 0)}, {'productid': 7, 'units': 99, 'purchase_date': datetime.datetime(2023, 8, 11, 0, 0)}]}\n",
            "{'_id': ObjectId('660c8b705138676bc12023dc'), 'customerid': 19, 'name': 'John Ramos', 'email': 'uvelazquez@example.org', 'phone': ['(238)310-6641', '966.755.1011', '(594)780-5966x58200'], 'orders': [{'productid': 6, 'units': 91, 'purchase_date': datetime.datetime(2023, 6, 6, 0, 0)}]}\n",
            "{'_id': ObjectId('660c8b705138676bc12023dd'), 'customerid': 20, 'name': 'Henry Barnes', 'email': 'trujilloraymond@example.org', 'phone': ['+1-965-797-8679x26877', '7438408787', '(357)858-9909'], 'orders': [{'productid': 10, 'units': 31, 'purchase_date': datetime.datetime(2023, 10, 3, 0, 0)}, {'productid': 9, 'units': 66, 'purchase_date': datetime.datetime(2024, 2, 29, 0, 0)}, {'productid': 6, 'units': 59, 'purchase_date': datetime.datetime(2023, 6, 7, 0, 0)}]}\n",
            "{'_id': ObjectId('660c8b705138676bc12023de'), 'customerid': 21, 'name': 'Dawn Young', 'email': 'kendralowe@example.com', 'phone': ['001-689-670-3842x4111', '+1-379-975-8901', '(628)738-2911x4176'], 'orders': []}\n",
            "{'_id': ObjectId('660c8b705138676bc12023df'), 'customerid': 22, 'name': 'Angela Johnson', 'email': 'floydcassidy@example.org', 'phone': ['493-712-1533x89320', '927-263-2642', '001-508-560-9155x179'], 'orders': [{'productid': 2, 'units': 37, 'purchase_date': datetime.datetime(2024, 2, 7, 0, 0)}, {'productid': 9, 'units': 57, 'purchase_date': datetime.datetime(2023, 6, 27, 0, 0)}]}\n",
            "{'_id': ObjectId('660c8b705138676bc12023e0'), 'customerid': 23, 'name': 'Susan Mendoza', 'email': 'michaelhamilton@example.com', 'phone': ['725.948.4633x049', '001-813-240-2732x02781', '452.287.8037'], 'orders': []}\n",
            "{'_id': ObjectId('660c8b705138676bc12023e1'), 'customerid': 24, 'name': 'Dan Miller', 'email': 'sfletcher@example.com', 'phone': ['293.601.5092', '203.420.9438', '(756)212-1713'], 'orders': []}\n",
            "{'_id': ObjectId('660c8b705138676bc12023e2'), 'customerid': 25, 'name': 'Gary Prince', 'email': 'benjaminwilliams@example.net', 'phone': ['260.414.7471', '333.862.9503x56254', '(785)754-3182x66581'], 'orders': []}\n",
            "{'_id': ObjectId('660c8b705138676bc12023e3'), 'customerid': 26, 'name': 'Cassandra Marks', 'email': 'xhunter@example.org', 'phone': ['(234)818-6565x83307', '928.438.9858', '501.616.1757x711'], 'orders': [{'productid': 7, 'units': 15, 'purchase_date': datetime.datetime(2023, 10, 20, 0, 0)}, {'productid': 4, 'units': 66, 'purchase_date': datetime.datetime(2023, 12, 3, 0, 0)}]}\n",
            "{'_id': ObjectId('660c8b705138676bc12023e4'), 'customerid': 27, 'name': 'Michelle Herrera', 'email': 'adriancontreras@example.net', 'phone': ['242.785.9175', '966-579-8621', '939-780-8388'], 'orders': [{'productid': 2, 'units': 160, 'purchase_date': datetime.datetime(2023, 8, 28, 0, 0)}]}\n",
            "{'_id': ObjectId('660c8b705138676bc12023e5'), 'customerid': 28, 'name': 'Kathleen Donovan', 'email': 'johnsonashley@example.net', 'phone': ['896-993-6577', '(898)251-2008', '523-599-3766x20103'], 'orders': [{'productid': 2, 'units': 86, 'purchase_date': datetime.datetime(2023, 8, 26, 0, 0)}, {'productid': 9, 'units': 970, 'purchase_date': datetime.datetime(2023, 9, 23, 0, 0)}, {'productid': 6, 'units': 66, 'purchase_date': datetime.datetime(2023, 8, 14, 0, 0)}, {'productid': 5, 'units': 14, 'purchase_date': datetime.datetime(2023, 6, 17, 0, 0)}]}\n",
            "{'_id': ObjectId('660c8b705138676bc12023e6'), 'customerid': 29, 'name': 'Carlos Hartman', 'email': 'schmidtcaitlyn@example.net', 'phone': ['446.283.7558x56938', '+1-320-208-4826x833', '001-243-318-2769'], 'orders': [{'productid': 6, 'units': 80, 'purchase_date': datetime.datetime(2023, 12, 11, 0, 0)}, {'productid': 3, 'units': 19, 'purchase_date': datetime.datetime(2023, 7, 5, 0, 0)}]}\n",
            "{'_id': ObjectId('660c8b705138676bc12023e7'), 'customerid': 30, 'name': 'William Gonzales', 'email': 'seanbowen@example.org', 'phone': ['(853)597-0832', '735-986-8251x4318', '(580)202-7910x561'], 'orders': [{'productid': 2, 'units': 60, 'purchase_date': datetime.datetime(2023, 12, 16, 0, 0)}, {'productid': 3, 'units': 540, 'purchase_date': datetime.datetime(2023, 8, 1, 0, 0)}, {'productid': 8, 'units': 86, 'purchase_date': datetime.datetime(2023, 5, 17, 0, 0)}, {'productid': 10, 'units': 190, 'purchase_date': datetime.datetime(2023, 6, 21, 0, 0)}]}\n",
            "{'_id': ObjectId('660c8b705138676bc12023e8'), 'customerid': 31, 'name': 'Tara Moore', 'email': 'barbara55@example.org', 'phone': ['606.481.6586', '301-928-3179x486', '001-452-825-3287x7608'], 'orders': []}\n",
            "{'_id': ObjectId('660c8b705138676bc12023e9'), 'customerid': 32, 'name': 'Theresa Hernandez', 'email': 'ufrancis@example.org', 'phone': ['3145346706', '001-536-222-1263', '895.798.1134x5588'], 'orders': [{'productid': 4, 'units': 17, 'purchase_date': datetime.datetime(2023, 11, 24, 0, 0)}, {'productid': 5, 'units': 18, 'purchase_date': datetime.datetime(2023, 4, 27, 0, 0)}]}\n",
            "{'_id': ObjectId('660c8b705138676bc12023ea'), 'customerid': 33, 'name': 'Andrew Conner', 'email': 'megan16@example.net', 'phone': ['001-558-356-9363x1270', '(516)825-4243x76684', '393.357.4269x6111'], 'orders': [{'productid': 6, 'units': 73, 'purchase_date': datetime.datetime(2023, 11, 7, 0, 0)}, {'productid': 8, 'units': 83, 'purchase_date': datetime.datetime(2023, 6, 14, 0, 0)}]}\n",
            "{'_id': ObjectId('660c8b705138676bc12023eb'), 'customerid': 34, 'name': 'Sonia Charles', 'email': 'willispatricia@example.com', 'phone': ['540.377.8977x723', '6744126101', '816-240-3132x145'], 'orders': [{'productid': 4, 'units': 58, 'purchase_date': datetime.datetime(2023, 9, 3, 0, 0)}, {'productid': 7, 'units': 69, 'purchase_date': datetime.datetime(2023, 4, 3, 0, 0)}, {'productid': 6, 'units': 64, 'purchase_date': datetime.datetime(2023, 10, 30, 0, 0)}]}\n",
            "{'_id': ObjectId('660c8b705138676bc12023ec'), 'customerid': 35, 'name': 'Samantha Thomas', 'email': 'samantha33@example.com', 'phone': ['252.413.7496', '+1-724-846-1831', '(997)394-6894x423'], 'orders': [{'productid': 3, 'units': 33, 'purchase_date': datetime.datetime(2023, 4, 6, 0, 0)}]}\n",
            "{'_id': ObjectId('660c8b705138676bc12023ed'), 'customerid': 36, 'name': 'Jennifer Yoder', 'email': 'jeffreythomas@example.net', 'phone': ['6335187060', '602.457.7286x64681', '001-906-545-0235x64478'], 'orders': []}\n",
            "{'_id': ObjectId('660c8b705138676bc12023ee'), 'customerid': 37, 'name': 'Timothy Martinez', 'email': 'crystal18@example.net', 'phone': ['275.412.0265x1485', '939.714.0870x73473', '001-598-998-6693x081'], 'orders': [{'productid': 3, 'units': 85, 'purchase_date': datetime.datetime(2023, 9, 8, 0, 0)}]}\n",
            "{'_id': ObjectId('660c8b705138676bc12023ef'), 'customerid': 38, 'name': 'Michelle Thomas', 'email': 'lwilliams@example.com', 'phone': ['751-863-3551x083', '387.933.8840', '001-531-693-4622'], 'orders': [{'productid': 3, 'units': 64, 'purchase_date': datetime.datetime(2023, 10, 23, 0, 0)}, {'productid': 9, 'units': 72, 'purchase_date': datetime.datetime(2023, 8, 2, 0, 0)}, {'productid': 9, 'units': 53, 'purchase_date': datetime.datetime(2023, 4, 7, 0, 0)}, {'productid': 2, 'units': 78, 'purchase_date': datetime.datetime(2023, 5, 8, 0, 0)}]}\n",
            "{'_id': ObjectId('660c8b705138676bc12023f0'), 'customerid': 39, 'name': 'Michele Nguyen', 'email': 'sydneymason@example.org', 'phone': ['(458)270-8653x7687', '596-268-9363x076', '325-710-1688'], 'orders': [{'productid': 4, 'units': 61, 'purchase_date': datetime.datetime(2023, 4, 27, 0, 0)}, {'productid': 6, 'units': 57, 'purchase_date': datetime.datetime(2023, 10, 16, 0, 0)}, {'productid': 4, 'units': 68, 'purchase_date': datetime.datetime(2023, 7, 10, 0, 0)}]}\n",
            "{'_id': ObjectId('660c8b705138676bc12023f1'), 'customerid': 40, 'name': 'William Lara MD', 'email': 'keithhopkins@example.org', 'phone': ['413.769.7051x1474', '(582)724-9634x82869', '874-557-2846'], 'orders': [{'productid': 10, 'units': 63, 'purchase_date': datetime.datetime(2023, 10, 10, 0, 0)}, {'productid': 9, 'units': 90, 'purchase_date': datetime.datetime(2023, 7, 5, 0, 0)}]}\n",
            "{'_id': ObjectId('660c8b705138676bc12023f2'), 'customerid': 41, 'name': 'Dean Hawkins', 'email': 'walkerjessica@example.org', 'phone': ['001-204-990-4563x01972', '+1-864-907-5616', '436-528-0490x39008'], 'orders': [{'productid': 2, 'units': 56, 'purchase_date': datetime.datetime(2023, 10, 10, 0, 0)}, {'productid': 3, 'units': 73, 'purchase_date': datetime.datetime(2023, 12, 19, 0, 0)}, {'productid': 7, 'units': 39, 'purchase_date': datetime.datetime(2023, 6, 11, 0, 0)}]}\n",
            "{'_id': ObjectId('660c8b705138676bc12023f3'), 'customerid': 42, 'name': 'Ashley Zhang', 'email': 'pricefelicia@example.net', 'phone': ['(731)227-5597x10805', '466.723.7071x0133', '747-965-0700'], 'orders': [{'productid': 7, 'units': 97, 'purchase_date': datetime.datetime(2023, 4, 30, 0, 0)}, {'productid': 3, 'units': 93, 'purchase_date': datetime.datetime(2023, 11, 2, 0, 0)}, {'productid': 10, 'units': 43, 'purchase_date': datetime.datetime(2024, 2, 15, 0, 0)}, {'productid': 10, 'units': 630, 'purchase_date': datetime.datetime(2023, 4, 14, 0, 0)}]}\n",
            "{'_id': ObjectId('660c8b705138676bc12023f4'), 'customerid': 43, 'name': 'Sherry Hernandez', 'email': 'perezanthony@example.net', 'phone': ['745-891-3383x909', '4177636650', '821-879-2992'], 'orders': []}\n",
            "{'_id': ObjectId('660c8b705138676bc12023f5'), 'customerid': 44, 'name': 'Darlene Williams', 'email': 'karla29@example.net', 'phone': ['(544)589-3305', '652-634-4109x762', '+1-393-778-1284x9559'], 'orders': [{'productid': 8, 'units': 670, 'purchase_date': datetime.datetime(2023, 8, 27, 0, 0)}]}\n",
            "{'_id': ObjectId('660c8b705138676bc12023f6'), 'customerid': 45, 'name': 'Annette Ortiz', 'email': 'whanson@example.net', 'phone': ['+1-912-410-5289', '(790)628-9144', '001-324-395-3447x04437'], 'orders': [{'productid': 10, 'units': 10, 'purchase_date': datetime.datetime(2024, 2, 4, 0, 0)}]}\n",
            "{'_id': ObjectId('660c8b705138676bc12023f7'), 'customerid': 46, 'name': 'Melanie Taylor', 'email': 'bayers@example.org', 'phone': ['(793)694-1390x597', '241.741.8877x88825', '(876)583-0945x595'], 'orders': [{'productid': 1, 'units': 180, 'purchase_date': datetime.datetime(2023, 5, 24, 0, 0)}, {'productid': 7, 'units': 13, 'purchase_date': datetime.datetime(2023, 4, 24, 0, 0)}, {'productid': 5, 'units': 72, 'purchase_date': datetime.datetime(2024, 1, 18, 0, 0)}]}\n",
            "{'_id': ObjectId('660c8b705138676bc12023f8'), 'customerid': 47, 'name': 'Shelley Daniel', 'email': 'hudsonjackson@example.org', 'phone': ['(496)344-8604x76772', '(816)385-5897', '887-490-7249x92659'], 'orders': [{'productid': 1, 'units': 64, 'purchase_date': datetime.datetime(2023, 7, 14, 0, 0)}, {'productid': 9, 'units': 950, 'purchase_date': datetime.datetime(2023, 7, 31, 0, 0)}, {'productid': 10, 'units': 880, 'purchase_date': datetime.datetime(2023, 10, 30, 0, 0)}]}\n",
            "{'_id': ObjectId('660c8b705138676bc12023f9'), 'customerid': 48, 'name': 'Crystal Mata', 'email': 'uhernandez@example.net', 'phone': ['+1-730-282-8660x09509', '9447505157', '001-440-886-2463'], 'orders': [{'productid': 3, 'units': 84, 'purchase_date': datetime.datetime(2024, 3, 1, 0, 0)}, {'productid': 3, 'units': 23, 'purchase_date': datetime.datetime(2024, 2, 12, 0, 0)}, {'productid': 8, 'units': 57, 'purchase_date': datetime.datetime(2023, 7, 31, 0, 0)}, {'productid': 1, 'units': 47, 'purchase_date': datetime.datetime(2023, 7, 7, 0, 0)}]}\n",
            "{'_id': ObjectId('660c8b705138676bc12023fa'), 'customerid': 49, 'name': 'Patricia Simmons', 'email': 'ptaylor@example.com', 'phone': ['+1-653-660-8373x22614', '747-346-3252', '584.791.1753'], 'orders': [{'productid': 7, 'units': 96, 'purchase_date': datetime.datetime(2024, 2, 5, 0, 0)}]}\n",
            "{'_id': ObjectId('660c8b705138676bc12023fb'), 'customerid': 50, 'name': 'Carolyn Murphy', 'email': 'schneiderheather@example.net', 'phone': ['(671)491-2608', '501-801-8613x707', '487.577.7612x899'], 'orders': [{'productid': 8, 'units': 18, 'purchase_date': datetime.datetime(2023, 12, 13, 0, 0)}]}\n",
            "{'_id': ObjectId('660c8b705138676bc12023fc'), 'customerid': 51, 'name': 'Michael Hawkins', 'email': 'jamie50@example.org', 'phone': ['(620)681-4404x3562', '(985)896-4424', '+1-976-711-0447x40249'], 'orders': [{'productid': 9, 'units': 960, 'purchase_date': datetime.datetime(2023, 5, 1, 0, 0)}, {'productid': 6, 'units': 53, 'purchase_date': datetime.datetime(2023, 7, 15, 0, 0)}, {'productid': 5, 'units': 320, 'purchase_date': datetime.datetime(2023, 6, 2, 0, 0)}]}\n",
            "{'_id': ObjectId('660c8b705138676bc12023fd'), 'customerid': 52, 'name': 'Christine Torres', 'email': 'tabithamorrison@example.com', 'phone': ['(689)766-7250', '(875)740-7984x2011', '590-863-1476'], 'orders': [{'productid': 10, 'units': 360, 'purchase_date': datetime.datetime(2023, 9, 14, 0, 0)}]}\n",
            "{'_id': ObjectId('660c8b705138676bc12023fe'), 'customerid': 53, 'name': 'Peter Ellis', 'email': 'brian02@example.org', 'phone': ['(354)741-4050x18396', '407-400-3534x26875', '001-241-568-7758x2686'], 'orders': [{'productid': 4, 'units': 130, 'purchase_date': datetime.datetime(2023, 12, 10, 0, 0)}, {'productid': 4, 'units': 97, 'purchase_date': datetime.datetime(2023, 10, 24, 0, 0)}, {'productid': 8, 'units': 39, 'purchase_date': datetime.datetime(2023, 4, 15, 0, 0)}, {'productid': 8, 'units': 98, 'purchase_date': datetime.datetime(2024, 1, 17, 0, 0)}]}\n",
            "{'_id': ObjectId('660c8b705138676bc12023ff'), 'customerid': 54, 'name': 'Mr. Sean Pearson II', 'email': 'marcia57@example.net', 'phone': ['+1-723-479-2769x26465', '610.710.2282x6906', '(264)528-4370'], 'orders': [{'productid': 7, 'units': 17, 'purchase_date': datetime.datetime(2023, 4, 13, 0, 0)}, {'productid': 9, 'units': 82, 'purchase_date': datetime.datetime(2023, 6, 15, 0, 0)}]}\n",
            "{'_id': ObjectId('660c8b705138676bc1202400'), 'customerid': 55, 'name': 'Michelle Shaw', 'email': 'audrey37@example.com', 'phone': ['9678174378', '001-747-252-9379', '+1-913-642-0833x1057'], 'orders': [{'productid': 9, 'units': 47, 'purchase_date': datetime.datetime(2023, 7, 21, 0, 0)}, {'productid': 10, 'units': 65, 'purchase_date': datetime.datetime(2023, 6, 29, 0, 0)}]}\n",
            "{'_id': ObjectId('660c8b705138676bc1202401'), 'customerid': 56, 'name': 'Robert Payne', 'email': 'ycardenas@example.org', 'phone': ['282-269-2992x15657', '874.406.6797', '001-455-993-1070x46065'], 'orders': [{'productid': 9, 'units': 17, 'purchase_date': datetime.datetime(2023, 12, 5, 0, 0)}, {'productid': 4, 'units': 71, 'purchase_date': datetime.datetime(2023, 4, 18, 0, 0)}, {'productid': 6, 'units': 80, 'purchase_date': datetime.datetime(2023, 9, 2, 0, 0)}]}\n",
            "{'_id': ObjectId('660c8b705138676bc1202402'), 'customerid': 57, 'name': 'Maxwell Allen', 'email': 'joseph34@example.net', 'phone': ['+1-663-313-6901x7235', '753-322-1442', '9694967905'], 'orders': [{'productid': 6, 'units': 32, 'purchase_date': datetime.datetime(2023, 7, 19, 0, 0)}, {'productid': 4, 'units': 37, 'purchase_date': datetime.datetime(2023, 10, 13, 0, 0)}, {'productid': 9, 'units': 33, 'purchase_date': datetime.datetime(2023, 7, 30, 0, 0)}]}\n",
            "{'_id': ObjectId('660c8b705138676bc1202403'), 'customerid': 58, 'name': 'George Stevens', 'email': 'antoniomays@example.com', 'phone': ['+1-602-783-3339', '245-341-2686', '+1-999-538-3846x0456'], 'orders': [{'productid': 4, 'units': 57, 'purchase_date': datetime.datetime(2024, 2, 13, 0, 0)}]}\n",
            "{'_id': ObjectId('660c8b705138676bc1202404'), 'customerid': 59, 'name': 'Richard Montoya', 'email': 'jacksonchristopher@example.com', 'phone': ['666-381-5118x264', '001-720-763-3311', '625.678.6250'], 'orders': [{'productid': 10, 'units': 83, 'purchase_date': datetime.datetime(2023, 8, 21, 0, 0)}]}\n",
            "{'_id': ObjectId('660c8b705138676bc1202405'), 'customerid': 60, 'name': 'Peter Thompson', 'email': 'wholt@example.org', 'phone': ['001-723-866-1969x441', '5408470836', '988.697.6647'], 'orders': [{'productid': 2, 'units': 88, 'purchase_date': datetime.datetime(2023, 10, 21, 0, 0)}, {'productid': 9, 'units': 89, 'purchase_date': datetime.datetime(2023, 5, 28, 0, 0)}, {'productid': 9, 'units': 70, 'purchase_date': datetime.datetime(2023, 9, 28, 0, 0)}]}\n",
            "{'_id': ObjectId('660c8b705138676bc1202406'), 'customerid': 61, 'name': 'Brenda Haynes', 'email': 'kwhite@example.org', 'phone': ['849-502-3980x7842', '+1-830-806-0747x39112', '(375)323-0905x0531'], 'orders': [{'productid': 6, 'units': 810, 'purchase_date': datetime.datetime(2024, 2, 28, 0, 0)}, {'productid': 10, 'units': 29, 'purchase_date': datetime.datetime(2023, 10, 26, 0, 0)}, {'productid': 1, 'units': 21, 'purchase_date': datetime.datetime(2023, 10, 15, 0, 0)}, {'productid': 3, 'units': 14, 'purchase_date': datetime.datetime(2024, 1, 18, 0, 0)}]}\n",
            "{'_id': ObjectId('660c8b705138676bc1202407'), 'customerid': 62, 'name': 'Candice White', 'email': 'julie10@example.org', 'phone': ['001-332-340-5770x527', '(668)461-9609x348', '(388)272-3629x99887'], 'orders': [{'productid': 8, 'units': 96, 'purchase_date': datetime.datetime(2023, 5, 9, 0, 0)}, {'productid': 10, 'units': 16, 'purchase_date': datetime.datetime(2023, 4, 20, 0, 0)}, {'productid': 5, 'units': 95, 'purchase_date': datetime.datetime(2023, 12, 27, 0, 0)}]}\n",
            "{'_id': ObjectId('660c8b705138676bc1202408'), 'customerid': 63, 'name': 'Darryl Lee', 'email': 'opruitt@example.org', 'phone': ['+1-401-811-7022x104', '5884125011', '790-557-9374x9506'], 'orders': []}\n",
            "{'_id': ObjectId('660c8b705138676bc1202409'), 'customerid': 64, 'name': 'Christy Fields', 'email': 'brandon94@example.net', 'phone': ['2804587407', '716.265.2993x655', '+1-242-600-8524x6407'], 'orders': [{'productid': 10, 'units': 71, 'purchase_date': datetime.datetime(2023, 5, 20, 0, 0)}, {'productid': 4, 'units': 22, 'purchase_date': datetime.datetime(2023, 9, 15, 0, 0)}]}\n",
            "{'_id': ObjectId('660c8b705138676bc120240a'), 'customerid': 65, 'name': 'Angela Johnson', 'email': 'btodd@example.com', 'phone': ['001-396-251-3086', '(327)766-0690x44286', '001-751-919-3965x379'], 'orders': [{'productid': 4, 'units': 420, 'purchase_date': datetime.datetime(2024, 1, 16, 0, 0)}]}\n",
            "{'_id': ObjectId('660c8b705138676bc120240b'), 'customerid': 66, 'name': 'Kristen Adkins', 'email': 'zparker@example.net', 'phone': ['(873)883-0918x10816', '931.697.2181x4572', '888.914.6871x204'], 'orders': [{'productid': 3, 'units': 93, 'purchase_date': datetime.datetime(2023, 7, 22, 0, 0)}, {'productid': 5, 'units': 440, 'purchase_date': datetime.datetime(2024, 2, 19, 0, 0)}, {'productid': 2, 'units': 82, 'purchase_date': datetime.datetime(2023, 12, 9, 0, 0)}, {'productid': 7, 'units': 36, 'purchase_date': datetime.datetime(2024, 2, 24, 0, 0)}]}\n",
            "{'_id': ObjectId('660c8b705138676bc120240c'), 'customerid': 67, 'name': 'Ashley Hall', 'email': 'vasquezedward@example.net', 'phone': ['730-513-7842', '832.646.4874', '(541)305-6737'], 'orders': [{'productid': 2, 'units': 57, 'purchase_date': datetime.datetime(2023, 7, 23, 0, 0)}]}\n",
            "{'_id': ObjectId('660c8b705138676bc120240d'), 'customerid': 68, 'name': 'Joseph Martin', 'email': 'joycewilson@example.org', 'phone': ['776.345.9028x2329', '+1-531-659-6892', '762-412-8169x1442'], 'orders': [{'productid': 10, 'units': 49, 'purchase_date': datetime.datetime(2023, 9, 14, 0, 0)}, {'productid': 2, 'units': 570, 'purchase_date': datetime.datetime(2023, 5, 21, 0, 0)}]}\n",
            "{'_id': ObjectId('660c8b705138676bc120240e'), 'customerid': 69, 'name': 'Sarah Johnson', 'email': 'ynguyen@example.org', 'phone': ['001-663-455-1878x804', '9738746825', '473-328-3099x1829'], 'orders': [{'productid': 5, 'units': 23, 'purchase_date': datetime.datetime(2023, 7, 9, 0, 0)}, {'productid': 7, 'units': 700, 'purchase_date': datetime.datetime(2023, 11, 28, 0, 0)}, {'productid': 3, 'units': 58, 'purchase_date': datetime.datetime(2024, 1, 4, 0, 0)}]}\n",
            "{'_id': ObjectId('660c8b705138676bc120240f'), 'customerid': 70, 'name': 'Kristin Mendoza', 'email': 'dfreeman@example.org', 'phone': ['+1-962-667-1085x4332', '+1-235-397-3334x5248', '001-608-314-3269x61015'], 'orders': [{'productid': 9, 'units': 20, 'purchase_date': datetime.datetime(2023, 12, 21, 0, 0)}, {'productid': 3, 'units': 75, 'purchase_date': datetime.datetime(2024, 1, 27, 0, 0)}, {'productid': 5, 'units': 15, 'purchase_date': datetime.datetime(2023, 10, 20, 0, 0)}, {'productid': 8, 'units': 14, 'purchase_date': datetime.datetime(2023, 5, 18, 0, 0)}]}\n",
            "{'_id': ObjectId('660c8b705138676bc1202410'), 'customerid': 71, 'name': 'John Martin', 'email': 'benjamin02@example.com', 'phone': ['338.394.4159x0236', '401-446-8408', '001-896-434-5992x868'], 'orders': [{'productid': 4, 'units': 83, 'purchase_date': datetime.datetime(2024, 2, 28, 0, 0)}]}\n",
            "{'_id': ObjectId('660c8b705138676bc1202411'), 'customerid': 72, 'name': 'Adam Marshall', 'email': 'monicasmall@example.net', 'phone': ['850-881-0017x66367', '+1-597-208-8719x023', '+1-652-328-5397x44061'], 'orders': [{'productid': 9, 'units': 41, 'purchase_date': datetime.datetime(2024, 3, 30, 0, 0)}, {'productid': 2, 'units': 74, 'purchase_date': datetime.datetime(2023, 12, 30, 0, 0)}, {'productid': 10, 'units': 10, 'purchase_date': datetime.datetime(2024, 3, 25, 0, 0)}]}\n",
            "{'_id': ObjectId('660c8b705138676bc1202412'), 'customerid': 73, 'name': 'Amber Jordan', 'email': 'perryhunter@example.net', 'phone': ['(237)664-4902x7104', '342-226-2218x722', '001-319-809-4671x7823'], 'orders': [{'productid': 7, 'units': 64, 'purchase_date': datetime.datetime(2023, 5, 5, 0, 0)}, {'productid': 8, 'units': 710, 'purchase_date': datetime.datetime(2023, 4, 24, 0, 0)}]}\n",
            "{'_id': ObjectId('660c8b705138676bc1202413'), 'customerid': 74, 'name': 'Derek Johnson', 'email': 'grahammary@example.net', 'phone': ['001-868-590-6679', '427-718-0172', '+1-659-413-4904x665'], 'orders': []}\n",
            "{'_id': ObjectId('660c8b705138676bc1202414'), 'customerid': 75, 'name': 'Walter Cooper', 'email': 'robertmeyers@example.net', 'phone': ['961.247.4531', '4504051708', '740.563.9054'], 'orders': [{'productid': 6, 'units': 17, 'purchase_date': datetime.datetime(2023, 10, 1, 0, 0)}, {'productid': 1, 'units': 76, 'purchase_date': datetime.datetime(2023, 12, 24, 0, 0)}]}\n",
            "{'_id': ObjectId('660c8b705138676bc1202415'), 'customerid': 76, 'name': 'Eric Rodriguez', 'email': 'richard53@example.com', 'phone': ['955-286-8938x1837', '(375)892-1632x91392', '4025299349'], 'orders': [{'productid': 3, 'units': 54, 'purchase_date': datetime.datetime(2023, 6, 26, 0, 0)}]}\n",
            "{'_id': ObjectId('660c8b705138676bc1202416'), 'customerid': 77, 'name': 'William Huffman', 'email': 'bishopemily@example.com', 'phone': ['906-968-5835', '+1-481-716-0571x499', '001-781-449-5684x1931'], 'orders': [{'productid': 6, 'units': 75, 'purchase_date': datetime.datetime(2023, 6, 22, 0, 0)}, {'productid': 1, 'units': 74, 'purchase_date': datetime.datetime(2023, 4, 15, 0, 0)}, {'productid': 8, 'units': 43, 'purchase_date': datetime.datetime(2023, 4, 26, 0, 0)}, {'productid': 10, 'units': 54, 'purchase_date': datetime.datetime(2024, 1, 11, 0, 0)}]}\n",
            "{'_id': ObjectId('660c8b705138676bc1202417'), 'customerid': 78, 'name': 'Mary Sims', 'email': 'greg62@example.net', 'phone': ['816-399-7773x169', '(414)389-2337', '(972)992-0434x706'], 'orders': [{'productid': 1, 'units': 240, 'purchase_date': datetime.datetime(2023, 10, 1, 0, 0)}]}\n",
            "{'_id': ObjectId('660c8b705138676bc1202418'), 'customerid': 79, 'name': 'April Powell', 'email': 'cwood@example.org', 'phone': ['001-843-929-3722', '827.485.6780x34372', '+1-833-785-2752x7123'], 'orders': [{'productid': 6, 'units': 60, 'purchase_date': datetime.datetime(2023, 9, 30, 0, 0)}, {'productid': 5, 'units': 220, 'purchase_date': datetime.datetime(2024, 1, 11, 0, 0)}, {'productid': 6, 'units': 37, 'purchase_date': datetime.datetime(2023, 4, 28, 0, 0)}]}\n",
            "{'_id': ObjectId('660c8b705138676bc1202419'), 'customerid': 80, 'name': 'Julia Bradley', 'email': 'ellisrobert@example.com', 'phone': ['+1-768-802-1099', '001-362-538-7457x5360', '001-583-248-9213'], 'orders': [{'productid': 1, 'units': 34, 'purchase_date': datetime.datetime(2024, 2, 25, 0, 0)}]}\n",
            "{'_id': ObjectId('660c8b705138676bc120241a'), 'customerid': 81, 'name': 'Whitney Bender', 'email': 'shuffman@example.com', 'phone': ['+1-273-985-3382', '(754)399-4962', '(992)773-1648x625'], 'orders': []}\n",
            "{'_id': ObjectId('660c8b705138676bc120241b'), 'customerid': 82, 'name': 'John Mitchell', 'email': 'adrianrodgers@example.com', 'phone': ['3837904994', '(870)912-1885x520', '5213453015'], 'orders': [{'productid': 10, 'units': 49, 'purchase_date': datetime.datetime(2023, 6, 12, 0, 0)}]}\n",
            "{'_id': ObjectId('660c8b705138676bc120241c'), 'customerid': 83, 'name': 'Richard Robinson', 'email': 'christianberg@example.org', 'phone': ['741-657-5640x1958', '7883385960', '+1-221-515-9161x1505'], 'orders': []}\n",
            "{'_id': ObjectId('660c8b705138676bc120241d'), 'customerid': 84, 'name': 'David Henderson', 'email': 'khicks@example.net', 'phone': ['001-211-322-9569x1302', '(449)822-0566x252', '778.888.1600'], 'orders': [{'productid': 5, 'units': 470, 'purchase_date': datetime.datetime(2023, 5, 8, 0, 0)}, {'productid': 5, 'units': 50, 'purchase_date': datetime.datetime(2024, 3, 5, 0, 0)}, {'productid': 8, 'units': 41, 'purchase_date': datetime.datetime(2023, 11, 11, 0, 0)}, {'productid': 3, 'units': 65, 'purchase_date': datetime.datetime(2023, 11, 22, 0, 0)}]}\n",
            "{'_id': ObjectId('660c8b705138676bc120241e'), 'customerid': 85, 'name': 'Jonathan Smith', 'email': 'barkerjulie@example.net', 'phone': ['(306)757-0070x9016', '001-726-787-7126x037', '001-729-388-0400x468'], 'orders': [{'productid': 4, 'units': 95, 'purchase_date': datetime.datetime(2024, 2, 13, 0, 0)}, {'productid': 9, 'units': 45, 'purchase_date': datetime.datetime(2024, 3, 25, 0, 0)}, {'productid': 1, 'units': 100, 'purchase_date': datetime.datetime(2023, 4, 23, 0, 0)}, {'productid': 4, 'units': 75, 'purchase_date': datetime.datetime(2023, 4, 3, 0, 0)}]}\n",
            "{'_id': ObjectId('660c8b705138676bc120241f'), 'customerid': 86, 'name': 'Melissa Smith', 'email': 'randall40@example.org', 'phone': ['484-817-3120', '(590)403-4532x561', '231-323-6107x3272'], 'orders': [{'productid': 5, 'units': 38, 'purchase_date': datetime.datetime(2023, 5, 19, 0, 0)}, {'productid': 1, 'units': 33, 'purchase_date': datetime.datetime(2023, 8, 20, 0, 0)}, {'productid': 8, 'units': 57, 'purchase_date': datetime.datetime(2023, 8, 26, 0, 0)}, {'productid': 6, 'units': 70, 'purchase_date': datetime.datetime(2023, 12, 12, 0, 0)}]}\n",
            "{'_id': ObjectId('660c8b705138676bc1202420'), 'customerid': 87, 'name': 'Nicole Robinson', 'email': 'williamsmith@example.net', 'phone': ['(736)900-1348', '438.704.3358x07279', '2677577988'], 'orders': [{'productid': 5, 'units': 54, 'purchase_date': datetime.datetime(2024, 3, 23, 0, 0)}, {'productid': 5, 'units': 26, 'purchase_date': datetime.datetime(2023, 5, 3, 0, 0)}, {'productid': 8, 'units': 58, 'purchase_date': datetime.datetime(2023, 9, 16, 0, 0)}, {'productid': 7, 'units': 61, 'purchase_date': datetime.datetime(2023, 7, 9, 0, 0)}]}\n",
            "{'_id': ObjectId('660c8b705138676bc1202421'), 'customerid': 88, 'name': 'Elizabeth Reyes', 'email': 'douglas42@example.net', 'phone': ['+1-400-860-6175', '9594398743', '(751)789-9381x220'], 'orders': [{'productid': 7, 'units': 94, 'purchase_date': datetime.datetime(2024, 3, 17, 0, 0)}, {'productid': 4, 'units': 98, 'purchase_date': datetime.datetime(2023, 4, 12, 0, 0)}, {'productid': 9, 'units': 54, 'purchase_date': datetime.datetime(2023, 12, 6, 0, 0)}, {'productid': 4, 'units': 820, 'purchase_date': datetime.datetime(2023, 11, 2, 0, 0)}]}\n",
            "{'_id': ObjectId('660c8b705138676bc1202422'), 'customerid': 89, 'name': 'Tanya Morales', 'email': 'areid@example.org', 'phone': ['8869522318', '485-856-6143x27916', '783-768-1925x32346'], 'orders': []}\n",
            "{'_id': ObjectId('660c8b705138676bc1202423'), 'customerid': 90, 'name': 'Drew Williams', 'email': 'espinozarobin@example.net', 'phone': ['699.450.1821', '836.648.7661', '+1-443-494-7275x373'], 'orders': [{'productid': 7, 'units': 30, 'purchase_date': datetime.datetime(2023, 7, 29, 0, 0)}, {'productid': 10, 'units': 41, 'purchase_date': datetime.datetime(2023, 9, 16, 0, 0)}]}\n",
            "{'_id': ObjectId('660c8b705138676bc1202424'), 'customerid': 91, 'name': 'Jenna Alexander MD', 'email': 'jerry40@example.net', 'phone': ['506.543.9378', '367.697.2698', '615.527.1595x300'], 'orders': [{'productid': 4, 'units': 78, 'purchase_date': datetime.datetime(2023, 12, 25, 0, 0)}, {'productid': 6, 'units': 25, 'purchase_date': datetime.datetime(2023, 5, 5, 0, 0)}]}\n",
            "{'_id': ObjectId('660c8b705138676bc1202425'), 'customerid': 92, 'name': 'Jacob Frazier', 'email': 'alyssalynch@example.net', 'phone': ['+1-519-365-4691x748', '(921)466-9224x9884', '300-741-4740x331'], 'orders': []}\n",
            "{'_id': ObjectId('660c8b705138676bc1202426'), 'customerid': 93, 'name': 'Kristin Jacobs', 'email': 'singhmichael@example.com', 'phone': ['+1-794-345-2267x3462', '950.457.5296', '(858)835-9097x4114'], 'orders': [{'productid': 9, 'units': 53, 'purchase_date': datetime.datetime(2023, 6, 2, 0, 0)}]}\n",
            "{'_id': ObjectId('660c8b705138676bc1202427'), 'customerid': 94, 'name': 'Lauren Little', 'email': 'mike98@example.org', 'phone': ['262.412.0743x7587', '+1-781-785-9492x006', '(755)808-6653'], 'orders': []}\n",
            "{'_id': ObjectId('660c8b705138676bc1202428'), 'customerid': 95, 'name': 'Kara Miles', 'email': 'aholland@example.com', 'phone': ['351.408.0678x71981', '001-391-340-5778', '001-814-384-5719x1268'], 'orders': [{'productid': 10, 'units': 59, 'purchase_date': datetime.datetime(2023, 8, 14, 0, 0)}]}\n",
            "{'_id': ObjectId('660c8b705138676bc1202429'), 'customerid': 96, 'name': 'Matthew Williams', 'email': 'fbenjamin@example.org', 'phone': ['663.680.7973x069', '+1-267-792-3346', '728-510-2800x507'], 'orders': [{'productid': 5, 'units': 69, 'purchase_date': datetime.datetime(2024, 2, 16, 0, 0)}, {'productid': 4, 'units': 36, 'purchase_date': datetime.datetime(2023, 9, 26, 0, 0)}, {'productid': 5, 'units': 10, 'purchase_date': datetime.datetime(2023, 8, 21, 0, 0)}]}\n",
            "{'_id': ObjectId('660c8b705138676bc120242a'), 'customerid': 97, 'name': 'Jacqueline Clements', 'email': 'tmartinez@example.com', 'phone': ['630-722-1778x5812', '(759)368-3083x71524', '368-764-1806'], 'orders': [{'productid': 8, 'units': 68, 'purchase_date': datetime.datetime(2023, 10, 23, 0, 0)}]}\n",
            "{'_id': ObjectId('660c8b705138676bc120242b'), 'customerid': 98, 'name': 'Christopher Mays', 'email': 'ericjones@example.org', 'phone': ['001-229-977-2399x579', '(713)272-0010', '698.467.5462x03795'], 'orders': [{'productid': 7, 'units': 62, 'purchase_date': datetime.datetime(2023, 5, 1, 0, 0)}]}\n",
            "{'_id': ObjectId('660c8b705138676bc120242c'), 'customerid': 99, 'name': 'Margaret Mendez', 'email': 'nicoleellis@example.org', 'phone': ['958-911-0728', '902.930.1077x444', '(801)363-1774'], 'orders': [{'productid': 1, 'units': 53, 'purchase_date': datetime.datetime(2023, 7, 8, 0, 0)}, {'productid': 1, 'units': 42, 'purchase_date': datetime.datetime(2023, 6, 5, 0, 0)}, {'productid': 3, 'units': 44, 'purchase_date': datetime.datetime(2024, 3, 2, 0, 0)}]}\n",
            "{'_id': ObjectId('660c8b705138676bc120242d'), 'customerid': 100, 'name': 'Brian Rivers', 'email': 'oharris@example.org', 'phone': ['(389)653-7224x3114', '278.370.5537', '001-798-207-5814x07625'], 'orders': [{'productid': 10, 'units': 78, 'purchase_date': datetime.datetime(2023, 6, 9, 0, 0)}, {'productid': 2, 'units': 25, 'purchase_date': datetime.datetime(2023, 7, 16, 0, 0)}, {'productid': 3, 'units': 38, 'purchase_date': datetime.datetime(2023, 11, 8, 0, 0)}]}\n"
          ]
        }
      ]
    },
    {
      "cell_type": "markdown",
      "source": [
        "find customerid 76"
      ],
      "metadata": {
        "id": "E3O_CpF2cilt"
      }
    },
    {
      "cell_type": "code",
      "source": [
        "import pprint"
      ],
      "metadata": {
        "id": "IEJyj8pCGGGM"
      },
      "execution_count": 48,
      "outputs": []
    },
    {
      "cell_type": "code",
      "source": [
        "for document in db.customers.find({'customerid':76}):\n",
        "  print(pprint.pprint(document))"
      ],
      "metadata": {
        "id": "JU37UrSBSvtn",
        "colab": {
          "base_uri": "https://localhost:8080/"
        },
        "outputId": "7c05656e-ccb1-46b7-ba44-077994e025d2"
      },
      "execution_count": 49,
      "outputs": [
        {
          "output_type": "stream",
          "name": "stdout",
          "text": [
            "{'_id': ObjectId('660c8b705138676bc1202415'),\n",
            " 'customerid': 76,\n",
            " 'email': 'richard53@example.com',\n",
            " 'name': 'Eric Rodriguez',\n",
            " 'orders': [{'productid': 3,\n",
            "             'purchase_date': datetime.datetime(2023, 6, 26, 0, 0),\n",
            "             'units': 54}],\n",
            " 'phone': ['955-286-8938x1837', '(375)892-1632x91392', '4025299349']}\n",
            "None\n"
          ]
        }
      ]
    },
    {
      "cell_type": "markdown",
      "source": [
        "## Products\n",
        "\n",
        "find all products"
      ],
      "metadata": {
        "id": "cqtFa0b8Zt13"
      }
    },
    {
      "cell_type": "code",
      "source": [
        "for document in db.products.find({}):\n",
        "  print(document)"
      ],
      "metadata": {
        "id": "k6n9rAQfU3yW",
        "colab": {
          "base_uri": "https://localhost:8080/"
        },
        "outputId": "debc0e9a-0381-4d71-8463-2542be63ad99"
      },
      "execution_count": 50,
      "outputs": [
        {
          "output_type": "stream",
          "name": "stdout",
          "text": [
            "{'_id': ObjectId('660c8b705138676bc120242e'), 'productid': 1, 'category': 'Electronics', 'price': 8}\n",
            "{'_id': ObjectId('660c8b705138676bc120242f'), 'productid': 2, 'category': 'Home', 'price': 69}\n",
            "{'_id': ObjectId('660c8b705138676bc1202430'), 'productid': 3, 'category': 'Home', 'price': 3}\n",
            "{'_id': ObjectId('660c8b705138676bc1202431'), 'productid': 4, 'category': 'Home', 'price': 23}\n",
            "{'_id': ObjectId('660c8b705138676bc1202432'), 'productid': 5, 'category': 'Electronics', 'price': 58}\n",
            "{'_id': ObjectId('660c8b705138676bc1202433'), 'productid': 6, 'category': 'Books', 'price': 10}\n",
            "{'_id': ObjectId('660c8b705138676bc1202434'), 'productid': 7, 'category': 'Clothing', 'price': 26}\n",
            "{'_id': ObjectId('660c8b705138676bc1202435'), 'productid': 8, 'category': 'Books', 'price': 56}\n",
            "{'_id': ObjectId('660c8b705138676bc1202436'), 'productid': 9, 'category': 'Home', 'price': 51}\n",
            "{'_id': ObjectId('660c8b705138676bc1202437'), 'productid': 10, 'category': 'Electronics', 'price': 36}\n"
          ]
        }
      ]
    },
    {
      "cell_type": "markdown",
      "source": [
        "find all products with prices less than 40"
      ],
      "metadata": {
        "id": "Dox59Ztlc10h"
      }
    },
    {
      "cell_type": "code",
      "source": [
        "for document in db.products.find({'price': {'$lt':40}}):\n",
        "  print(document)"
      ],
      "metadata": {
        "id": "gwBXy1cfTKPh",
        "colab": {
          "base_uri": "https://localhost:8080/"
        },
        "outputId": "983f441b-b49c-4062-ee2d-194c5a12a74e"
      },
      "execution_count": 51,
      "outputs": [
        {
          "output_type": "stream",
          "name": "stdout",
          "text": [
            "{'_id': ObjectId('660c8b705138676bc120242e'), 'productid': 1, 'category': 'Electronics', 'price': 8}\n",
            "{'_id': ObjectId('660c8b705138676bc1202430'), 'productid': 3, 'category': 'Home', 'price': 3}\n",
            "{'_id': ObjectId('660c8b705138676bc1202431'), 'productid': 4, 'category': 'Home', 'price': 23}\n",
            "{'_id': ObjectId('660c8b705138676bc1202433'), 'productid': 6, 'category': 'Books', 'price': 10}\n",
            "{'_id': ObjectId('660c8b705138676bc1202434'), 'productid': 7, 'category': 'Clothing', 'price': 26}\n",
            "{'_id': ObjectId('660c8b705138676bc1202437'), 'productid': 10, 'category': 'Electronics', 'price': 36}\n"
          ]
        }
      ]
    },
    {
      "cell_type": "markdown",
      "source": [
        "find all products with category clothing\n",
        "\n",
        "the find method returns a cursor that lazily loads the result set in batches as we iterate over them."
      ],
      "metadata": {
        "id": "Z7AWze1Dc5QO"
      }
    },
    {
      "cell_type": "code",
      "source": [
        "db.products.find({'category': 'Clothing'})"
      ],
      "metadata": {
        "id": "mui-7zcs5z48",
        "colab": {
          "base_uri": "https://localhost:8080/"
        },
        "outputId": "5a4e9c5d-6de6-441b-e7b5-62aeba79d80c"
      },
      "execution_count": 52,
      "outputs": [
        {
          "output_type": "execute_result",
          "data": {
            "text/plain": [
              "<pymongo.cursor.Cursor at 0x7b024a0fae30>"
            ]
          },
          "metadata": {},
          "execution_count": 52
        }
      ]
    },
    {
      "cell_type": "code",
      "source": [
        "for document in db.products.find({'category': 'Clothing'}):\n",
        "  print(document)"
      ],
      "metadata": {
        "id": "b2kBTS4bTbTi",
        "colab": {
          "base_uri": "https://localhost:8080/"
        },
        "outputId": "c7bc0454-1a35-429f-d652-0638f60b332b"
      },
      "execution_count": 53,
      "outputs": [
        {
          "output_type": "stream",
          "name": "stdout",
          "text": [
            "{'_id': ObjectId('660c8b705138676bc1202434'), 'productid': 7, 'category': 'Clothing', 'price': 26}\n"
          ]
        }
      ]
    },
    {
      "cell_type": "markdown",
      "source": [
        "not equal query"
      ],
      "metadata": {
        "id": "f--nhf8_7wax"
      }
    },
    {
      "cell_type": "code",
      "source": [
        "for document in db.products.find({\"category\": {\"$ne\": \"Clothing\"}}):\n",
        "  print(document)"
      ],
      "metadata": {
        "id": "TAjWpUhn7j1P",
        "colab": {
          "base_uri": "https://localhost:8080/"
        },
        "outputId": "92ea1c05-40eb-4b77-e70f-241048cf6309"
      },
      "execution_count": 54,
      "outputs": [
        {
          "output_type": "stream",
          "name": "stdout",
          "text": [
            "{'_id': ObjectId('660c8b705138676bc120242e'), 'productid': 1, 'category': 'Electronics', 'price': 8}\n",
            "{'_id': ObjectId('660c8b705138676bc120242f'), 'productid': 2, 'category': 'Home', 'price': 69}\n",
            "{'_id': ObjectId('660c8b705138676bc1202430'), 'productid': 3, 'category': 'Home', 'price': 3}\n",
            "{'_id': ObjectId('660c8b705138676bc1202431'), 'productid': 4, 'category': 'Home', 'price': 23}\n",
            "{'_id': ObjectId('660c8b705138676bc1202432'), 'productid': 5, 'category': 'Electronics', 'price': 58}\n",
            "{'_id': ObjectId('660c8b705138676bc1202433'), 'productid': 6, 'category': 'Books', 'price': 10}\n",
            "{'_id': ObjectId('660c8b705138676bc1202435'), 'productid': 8, 'category': 'Books', 'price': 56}\n",
            "{'_id': ObjectId('660c8b705138676bc1202436'), 'productid': 9, 'category': 'Home', 'price': 51}\n",
            "{'_id': ObjectId('660c8b705138676bc1202437'), 'productid': 10, 'category': 'Electronics', 'price': 36}\n"
          ]
        }
      ]
    },
    {
      "cell_type": "markdown",
      "source": [
        "the equivalent of SQL's query `like '%string%'`"
      ],
      "metadata": {
        "id": "j3EbS3Qy-SXv"
      }
    },
    {
      "cell_type": "code",
      "source": [
        "for document in db.products.find({\"category\": re.compile(\"electron\", re.IGNORECASE)}):\n",
        "  print(document)"
      ],
      "metadata": {
        "id": "QuvpugDv9sRE",
        "colab": {
          "base_uri": "https://localhost:8080/"
        },
        "outputId": "de8b7206-4dd1-4956-e93f-af9e9532295b"
      },
      "execution_count": 55,
      "outputs": [
        {
          "output_type": "stream",
          "name": "stdout",
          "text": [
            "{'_id': ObjectId('660c8b705138676bc120242e'), 'productid': 1, 'category': 'Electronics', 'price': 8}\n",
            "{'_id': ObjectId('660c8b705138676bc1202432'), 'productid': 5, 'category': 'Electronics', 'price': 58}\n",
            "{'_id': ObjectId('660c8b705138676bc1202437'), 'productid': 10, 'category': 'Electronics', 'price': 36}\n"
          ]
        }
      ]
    },
    {
      "cell_type": "markdown",
      "source": [
        "find all products with price less than 40 AND category Clothing"
      ],
      "metadata": {
        "id": "z3G2QMqsc73k"
      }
    },
    {
      "cell_type": "code",
      "source": [
        "for document in db.products.find({'price': {'$lt':40},'category': 'Clothing'}):\n",
        "  print(document)"
      ],
      "metadata": {
        "id": "Yksl4SVtU_Bx",
        "colab": {
          "base_uri": "https://localhost:8080/"
        },
        "outputId": "d1540416-d6f1-42a4-8bb3-e84cc0690d85"
      },
      "execution_count": 56,
      "outputs": [
        {
          "output_type": "stream",
          "name": "stdout",
          "text": [
            "{'_id': ObjectId('660c8b705138676bc1202434'), 'productid': 7, 'category': 'Clothing', 'price': 26}\n"
          ]
        }
      ]
    },
    {
      "cell_type": "markdown",
      "source": [
        "## Orders"
      ],
      "metadata": {
        "id": "o-PyKjH-ZyA_"
      }
    },
    {
      "cell_type": "code",
      "source": [
        "# Calculate the total number of orders\n",
        "pipeline = [\n",
        "    {\n",
        "        '$unwind': '$orders'\n",
        "    },\n",
        "    {\n",
        "        '$group': {\n",
        "            '_id': None,\n",
        "            'total_orders': {'$sum': 1}\n",
        "        }\n",
        "    },\n",
        "    {\n",
        "        '$project': {\n",
        "            '_id': 0,\n",
        "            'total_orders': 1\n",
        "        }\n",
        "    }\n",
        "]\n",
        "\n",
        "result = db.customers.aggregate(pipeline)\n",
        "\n",
        "# Extract the total number of orders\n",
        "total_orders = next(result)['total_orders']\n",
        "\n",
        "# Print the total number of orders\n",
        "print(f\"Total Orders: {total_orders}\")"
      ],
      "metadata": {
        "id": "zbEehhzXHHoI",
        "colab": {
          "base_uri": "https://localhost:8080/"
        },
        "outputId": "a63ec0ac-0ca2-4837-96ce-d823d8f3f4e1"
      },
      "execution_count": 57,
      "outputs": [
        {
          "output_type": "stream",
          "name": "stdout",
          "text": [
            "Total Orders: 199\n"
          ]
        }
      ]
    },
    {
      "cell_type": "code",
      "source": [
        "filter_criteria = {\n",
        "    'orders.units': {'$lt': 45000}\n",
        "}\n",
        "\n",
        "# Calculate the total number of orders with units less than 12000\n",
        "pipeline = [\n",
        "    {\n",
        "      '$unwind': '$orders'\n",
        "    },\n",
        "    {\n",
        "      '$match': filter_criteria\n",
        "    },\n",
        "    {\n",
        "        '$group': {\n",
        "            '_id': None,\n",
        "            'total_orders': {'$sum': 1}\n",
        "        }\n",
        "    },\n",
        "    {\n",
        "        '$project': {\n",
        "            '_id': 0,\n",
        "            'total_orders': 1\n",
        "        }\n",
        "    }\n",
        "]\n",
        "\n",
        "result = db.customers.aggregate(pipeline)\n",
        "\n",
        "# Extract the total number of orders\n",
        "total_orders = next(result)['total_orders']\n",
        "\n",
        "# Print the total number of orders\n",
        "print(f\"Total Orders: {total_orders}\")"
      ],
      "metadata": {
        "id": "zCludVJLLIIP",
        "colab": {
          "base_uri": "https://localhost:8080/"
        },
        "outputId": "93245dd6-f946-40dd-afff-a0c9716b33a7"
      },
      "execution_count": 58,
      "outputs": [
        {
          "output_type": "stream",
          "name": "stdout",
          "text": [
            "Total Orders: 199\n"
          ]
        }
      ]
    },
    {
      "cell_type": "markdown",
      "source": [
        "# Extraction\n"
      ],
      "metadata": {
        "id": "2rCz0PjQdk3d"
      }
    },
    {
      "cell_type": "markdown",
      "source": [
        "## Dump mongodb data to json file."
      ],
      "metadata": {
        "id": "aARmVUWMfry8"
      }
    },
    {
      "cell_type": "markdown",
      "source": [
        "create a JSON file with the filtered data."
      ],
      "metadata": {
        "id": "PW0sAp8Kdptk"
      }
    },
    {
      "cell_type": "code",
      "source": [
        "from bson.json_util import dumps\n",
        "import json"
      ],
      "metadata": {
        "id": "McVys3EohoeQ"
      },
      "execution_count": 59,
      "outputs": []
    },
    {
      "cell_type": "markdown",
      "source": [
        "open a file. create a cursor that gets passed to dumps which takes binary json data and converts it serialized json, deseralizes it to python object and then serializes it back to a file.  "
      ],
      "metadata": {
        "id": "76ZvzDUYd65Y"
      }
    },
    {
      "cell_type": "markdown",
      "source": [
        "## dump orders"
      ],
      "metadata": {
        "id": "9QhRK7b9iUbE"
      }
    },
    {
      "cell_type": "markdown",
      "source": [
        "## dump customers\n",
        "\n",
        "(and orders as they are nested)"
      ],
      "metadata": {
        "id": "_sL1H_YPiWem"
      }
    },
    {
      "cell_type": "code",
      "source": [
        "with open('customers.json', 'w') as file:\n",
        "  cursor = db.customers.find({})\n",
        "  file.write(dumps(cursor))"
      ],
      "metadata": {
        "id": "DMPIXxjgg4La"
      },
      "execution_count": 60,
      "outputs": []
    },
    {
      "cell_type": "markdown",
      "source": [
        "## dump products"
      ],
      "metadata": {
        "id": "v5Q4VGapiXvC"
      }
    },
    {
      "cell_type": "code",
      "source": [
        "with open('products.json', 'w') as file:\n",
        "  cursor = db.products.find({})\n",
        "  file.write(dumps(cursor))"
      ],
      "metadata": {
        "id": "4B7LAYJRhBke"
      },
      "execution_count": 61,
      "outputs": []
    },
    {
      "cell_type": "code",
      "source": [
        "!ls -lh *.json"
      ],
      "metadata": {
        "id": "3MX4SWGdh6n4",
        "colab": {
          "base_uri": "https://localhost:8080/"
        },
        "outputId": "1d73f9e8-df6c-4129-f732-d114b8dd85cb"
      },
      "execution_count": 62,
      "outputs": [
        {
          "output_type": "stream",
          "name": "stdout",
          "text": [
            "-rw-r--r-- 1 root root 37K Apr  2 22:49 customers.json\n",
            "-rw-r--r-- 1 root root 16M Feb  8 01:24 patient_records_batch_10.json\n",
            "-rw-r--r-- 1 root root 16M Feb  8 01:22 patient_records_batch_1.json\n",
            "-rw-r--r-- 1 root root 16M Feb  8 01:22 patient_records_batch_2.json\n",
            "-rw-r--r-- 1 root root 16M Feb  8 01:22 patient_records_batch_3.json\n",
            "-rw-r--r-- 1 root root 16M Feb  8 01:22 patient_records_batch_4.json\n",
            "-rw-r--r-- 1 root root 16M Feb  8 01:23 patient_records_batch_5.json\n",
            "-rw-r--r-- 1 root root 16M Feb  8 01:23 patient_records_batch_6.json\n",
            "-rw-r--r-- 1 root root 16M Feb  8 01:23 patient_records_batch_7.json\n",
            "-rw-r--r-- 1 root root 16M Feb  8 01:23 patient_records_batch_8.json\n",
            "-rw-r--r-- 1 root root 16M Feb  8 01:23 patient_records_batch_9.json\n",
            "-rw-r--r-- 1 root root 986 Apr  2 22:49 products.json\n"
          ]
        }
      ]
    },
    {
      "cell_type": "markdown",
      "source": [
        "# Reading JSON file data into Python"
      ],
      "metadata": {
        "id": "-K7Ot5B7JO9o"
      }
    },
    {
      "cell_type": "markdown",
      "source": [
        "## JSON into Pandas DataFrame"
      ],
      "metadata": {
        "id": "xJIgvFHFJcH-"
      }
    },
    {
      "cell_type": "code",
      "source": [
        "import pandas as pd"
      ],
      "metadata": {
        "id": "MlJrhVWijy5S"
      },
      "execution_count": 63,
      "outputs": []
    },
    {
      "cell_type": "code",
      "source": [
        "customers_df = pd.read_json('customers.json')\n",
        "customers_df.head(2)"
      ],
      "metadata": {
        "id": "EfUKlGYZj0PT",
        "colab": {
          "base_uri": "https://localhost:8080/",
          "height": 112
        },
        "outputId": "a1363acc-3a5c-4f0a-c6a1-ff550b98c7d7"
      },
      "execution_count": 64,
      "outputs": [
        {
          "output_type": "execute_result",
          "data": {
            "text/plain": [
              "                                    _id  customerid         name  \\\n",
              "0  {'$oid': '660c8b705138676bc12023ca'}           1  Brian Clark   \n",
              "1  {'$oid': '660c8b705138676bc12023cb'}           2   Chad Smith   \n",
              "\n",
              "                        email  \\\n",
              "0         bsawyer@example.net   \n",
              "1  scotthenderson@example.org   \n",
              "\n",
              "                                               phone  \\\n",
              "0  [001-579-476-0664x139, (309)504-3134x92639, (5...   \n",
              "1  [975-352-0590, 404-926-6375, +1-615-936-0115x702]   \n",
              "\n",
              "                                              orders  \n",
              "0  [{'productid': 10, 'units': 44, 'purchase_date...  \n",
              "1  [{'productid': 7, 'units': 660, 'purchase_date...  "
            ],
            "text/html": [
              "\n",
              "  <div id=\"df-683de511-d490-4570-8610-fdc99faa8f5a\" class=\"colab-df-container\">\n",
              "    <div>\n",
              "<style scoped>\n",
              "    .dataframe tbody tr th:only-of-type {\n",
              "        vertical-align: middle;\n",
              "    }\n",
              "\n",
              "    .dataframe tbody tr th {\n",
              "        vertical-align: top;\n",
              "    }\n",
              "\n",
              "    .dataframe thead th {\n",
              "        text-align: right;\n",
              "    }\n",
              "</style>\n",
              "<table border=\"1\" class=\"dataframe\">\n",
              "  <thead>\n",
              "    <tr style=\"text-align: right;\">\n",
              "      <th></th>\n",
              "      <th>_id</th>\n",
              "      <th>customerid</th>\n",
              "      <th>name</th>\n",
              "      <th>email</th>\n",
              "      <th>phone</th>\n",
              "      <th>orders</th>\n",
              "    </tr>\n",
              "  </thead>\n",
              "  <tbody>\n",
              "    <tr>\n",
              "      <th>0</th>\n",
              "      <td>{'$oid': '660c8b705138676bc12023ca'}</td>\n",
              "      <td>1</td>\n",
              "      <td>Brian Clark</td>\n",
              "      <td>bsawyer@example.net</td>\n",
              "      <td>[001-579-476-0664x139, (309)504-3134x92639, (5...</td>\n",
              "      <td>[{'productid': 10, 'units': 44, 'purchase_date...</td>\n",
              "    </tr>\n",
              "    <tr>\n",
              "      <th>1</th>\n",
              "      <td>{'$oid': '660c8b705138676bc12023cb'}</td>\n",
              "      <td>2</td>\n",
              "      <td>Chad Smith</td>\n",
              "      <td>scotthenderson@example.org</td>\n",
              "      <td>[975-352-0590, 404-926-6375, +1-615-936-0115x702]</td>\n",
              "      <td>[{'productid': 7, 'units': 660, 'purchase_date...</td>\n",
              "    </tr>\n",
              "  </tbody>\n",
              "</table>\n",
              "</div>\n",
              "    <div class=\"colab-df-buttons\">\n",
              "\n",
              "  <div class=\"colab-df-container\">\n",
              "    <button class=\"colab-df-convert\" onclick=\"convertToInteractive('df-683de511-d490-4570-8610-fdc99faa8f5a')\"\n",
              "            title=\"Convert this dataframe to an interactive table.\"\n",
              "            style=\"display:none;\">\n",
              "\n",
              "  <svg xmlns=\"http://www.w3.org/2000/svg\" height=\"24px\" viewBox=\"0 -960 960 960\">\n",
              "    <path d=\"M120-120v-720h720v720H120Zm60-500h600v-160H180v160Zm220 220h160v-160H400v160Zm0 220h160v-160H400v160ZM180-400h160v-160H180v160Zm440 0h160v-160H620v160ZM180-180h160v-160H180v160Zm440 0h160v-160H620v160Z\"/>\n",
              "  </svg>\n",
              "    </button>\n",
              "\n",
              "  <style>\n",
              "    .colab-df-container {\n",
              "      display:flex;\n",
              "      gap: 12px;\n",
              "    }\n",
              "\n",
              "    .colab-df-convert {\n",
              "      background-color: #E8F0FE;\n",
              "      border: none;\n",
              "      border-radius: 50%;\n",
              "      cursor: pointer;\n",
              "      display: none;\n",
              "      fill: #1967D2;\n",
              "      height: 32px;\n",
              "      padding: 0 0 0 0;\n",
              "      width: 32px;\n",
              "    }\n",
              "\n",
              "    .colab-df-convert:hover {\n",
              "      background-color: #E2EBFA;\n",
              "      box-shadow: 0px 1px 2px rgba(60, 64, 67, 0.3), 0px 1px 3px 1px rgba(60, 64, 67, 0.15);\n",
              "      fill: #174EA6;\n",
              "    }\n",
              "\n",
              "    .colab-df-buttons div {\n",
              "      margin-bottom: 4px;\n",
              "    }\n",
              "\n",
              "    [theme=dark] .colab-df-convert {\n",
              "      background-color: #3B4455;\n",
              "      fill: #D2E3FC;\n",
              "    }\n",
              "\n",
              "    [theme=dark] .colab-df-convert:hover {\n",
              "      background-color: #434B5C;\n",
              "      box-shadow: 0px 1px 3px 1px rgba(0, 0, 0, 0.15);\n",
              "      filter: drop-shadow(0px 1px 2px rgba(0, 0, 0, 0.3));\n",
              "      fill: #FFFFFF;\n",
              "    }\n",
              "  </style>\n",
              "\n",
              "    <script>\n",
              "      const buttonEl =\n",
              "        document.querySelector('#df-683de511-d490-4570-8610-fdc99faa8f5a button.colab-df-convert');\n",
              "      buttonEl.style.display =\n",
              "        google.colab.kernel.accessAllowed ? 'block' : 'none';\n",
              "\n",
              "      async function convertToInteractive(key) {\n",
              "        const element = document.querySelector('#df-683de511-d490-4570-8610-fdc99faa8f5a');\n",
              "        const dataTable =\n",
              "          await google.colab.kernel.invokeFunction('convertToInteractive',\n",
              "                                                    [key], {});\n",
              "        if (!dataTable) return;\n",
              "\n",
              "        const docLinkHtml = 'Like what you see? Visit the ' +\n",
              "          '<a target=\"_blank\" href=https://colab.research.google.com/notebooks/data_table.ipynb>data table notebook</a>'\n",
              "          + ' to learn more about interactive tables.';\n",
              "        element.innerHTML = '';\n",
              "        dataTable['output_type'] = 'display_data';\n",
              "        await google.colab.output.renderOutput(dataTable, element);\n",
              "        const docLink = document.createElement('div');\n",
              "        docLink.innerHTML = docLinkHtml;\n",
              "        element.appendChild(docLink);\n",
              "      }\n",
              "    </script>\n",
              "  </div>\n",
              "\n",
              "\n",
              "<div id=\"df-834382b1-e64c-4165-a23a-fda187ba06ca\">\n",
              "  <button class=\"colab-df-quickchart\" onclick=\"quickchart('df-834382b1-e64c-4165-a23a-fda187ba06ca')\"\n",
              "            title=\"Suggest charts\"\n",
              "            style=\"display:none;\">\n",
              "\n",
              "<svg xmlns=\"http://www.w3.org/2000/svg\" height=\"24px\"viewBox=\"0 0 24 24\"\n",
              "     width=\"24px\">\n",
              "    <g>\n",
              "        <path d=\"M19 3H5c-1.1 0-2 .9-2 2v14c0 1.1.9 2 2 2h14c1.1 0 2-.9 2-2V5c0-1.1-.9-2-2-2zM9 17H7v-7h2v7zm4 0h-2V7h2v10zm4 0h-2v-4h2v4z\"/>\n",
              "    </g>\n",
              "</svg>\n",
              "  </button>\n",
              "\n",
              "<style>\n",
              "  .colab-df-quickchart {\n",
              "      --bg-color: #E8F0FE;\n",
              "      --fill-color: #1967D2;\n",
              "      --hover-bg-color: #E2EBFA;\n",
              "      --hover-fill-color: #174EA6;\n",
              "      --disabled-fill-color: #AAA;\n",
              "      --disabled-bg-color: #DDD;\n",
              "  }\n",
              "\n",
              "  [theme=dark] .colab-df-quickchart {\n",
              "      --bg-color: #3B4455;\n",
              "      --fill-color: #D2E3FC;\n",
              "      --hover-bg-color: #434B5C;\n",
              "      --hover-fill-color: #FFFFFF;\n",
              "      --disabled-bg-color: #3B4455;\n",
              "      --disabled-fill-color: #666;\n",
              "  }\n",
              "\n",
              "  .colab-df-quickchart {\n",
              "    background-color: var(--bg-color);\n",
              "    border: none;\n",
              "    border-radius: 50%;\n",
              "    cursor: pointer;\n",
              "    display: none;\n",
              "    fill: var(--fill-color);\n",
              "    height: 32px;\n",
              "    padding: 0;\n",
              "    width: 32px;\n",
              "  }\n",
              "\n",
              "  .colab-df-quickchart:hover {\n",
              "    background-color: var(--hover-bg-color);\n",
              "    box-shadow: 0 1px 2px rgba(60, 64, 67, 0.3), 0 1px 3px 1px rgba(60, 64, 67, 0.15);\n",
              "    fill: var(--button-hover-fill-color);\n",
              "  }\n",
              "\n",
              "  .colab-df-quickchart-complete:disabled,\n",
              "  .colab-df-quickchart-complete:disabled:hover {\n",
              "    background-color: var(--disabled-bg-color);\n",
              "    fill: var(--disabled-fill-color);\n",
              "    box-shadow: none;\n",
              "  }\n",
              "\n",
              "  .colab-df-spinner {\n",
              "    border: 2px solid var(--fill-color);\n",
              "    border-color: transparent;\n",
              "    border-bottom-color: var(--fill-color);\n",
              "    animation:\n",
              "      spin 1s steps(1) infinite;\n",
              "  }\n",
              "\n",
              "  @keyframes spin {\n",
              "    0% {\n",
              "      border-color: transparent;\n",
              "      border-bottom-color: var(--fill-color);\n",
              "      border-left-color: var(--fill-color);\n",
              "    }\n",
              "    20% {\n",
              "      border-color: transparent;\n",
              "      border-left-color: var(--fill-color);\n",
              "      border-top-color: var(--fill-color);\n",
              "    }\n",
              "    30% {\n",
              "      border-color: transparent;\n",
              "      border-left-color: var(--fill-color);\n",
              "      border-top-color: var(--fill-color);\n",
              "      border-right-color: var(--fill-color);\n",
              "    }\n",
              "    40% {\n",
              "      border-color: transparent;\n",
              "      border-right-color: var(--fill-color);\n",
              "      border-top-color: var(--fill-color);\n",
              "    }\n",
              "    60% {\n",
              "      border-color: transparent;\n",
              "      border-right-color: var(--fill-color);\n",
              "    }\n",
              "    80% {\n",
              "      border-color: transparent;\n",
              "      border-right-color: var(--fill-color);\n",
              "      border-bottom-color: var(--fill-color);\n",
              "    }\n",
              "    90% {\n",
              "      border-color: transparent;\n",
              "      border-bottom-color: var(--fill-color);\n",
              "    }\n",
              "  }\n",
              "</style>\n",
              "\n",
              "  <script>\n",
              "    async function quickchart(key) {\n",
              "      const quickchartButtonEl =\n",
              "        document.querySelector('#' + key + ' button');\n",
              "      quickchartButtonEl.disabled = true;  // To prevent multiple clicks.\n",
              "      quickchartButtonEl.classList.add('colab-df-spinner');\n",
              "      try {\n",
              "        const charts = await google.colab.kernel.invokeFunction(\n",
              "            'suggestCharts', [key], {});\n",
              "      } catch (error) {\n",
              "        console.error('Error during call to suggestCharts:', error);\n",
              "      }\n",
              "      quickchartButtonEl.classList.remove('colab-df-spinner');\n",
              "      quickchartButtonEl.classList.add('colab-df-quickchart-complete');\n",
              "    }\n",
              "    (() => {\n",
              "      let quickchartButtonEl =\n",
              "        document.querySelector('#df-834382b1-e64c-4165-a23a-fda187ba06ca button');\n",
              "      quickchartButtonEl.style.display =\n",
              "        google.colab.kernel.accessAllowed ? 'block' : 'none';\n",
              "    })();\n",
              "  </script>\n",
              "</div>\n",
              "\n",
              "    </div>\n",
              "  </div>\n"
            ],
            "application/vnd.google.colaboratory.intrinsic+json": {
              "type": "dataframe",
              "variable_name": "customers_df",
              "summary": "{\n  \"name\": \"customers_df\",\n  \"rows\": 100,\n  \"fields\": [\n    {\n      \"column\": \"_id\",\n      \"properties\": {\n        \"dtype\": \"object\",\n        \"semantic_type\": \"\",\n        \"description\": \"\"\n      }\n    },\n    {\n      \"column\": \"customerid\",\n      \"properties\": {\n        \"dtype\": \"number\",\n        \"std\": 29,\n        \"min\": 1,\n        \"max\": 100,\n        \"num_unique_values\": 100,\n        \"samples\": [\n          84,\n          54,\n          71\n        ],\n        \"semantic_type\": \"\",\n        \"description\": \"\"\n      }\n    },\n    {\n      \"column\": \"name\",\n      \"properties\": {\n        \"dtype\": \"string\",\n        \"num_unique_values\": 99,\n        \"samples\": [\n          \"Darryl Lee\",\n          \"Dean Hawkins\",\n          \"Jacqueline Clements\"\n        ],\n        \"semantic_type\": \"\",\n        \"description\": \"\"\n      }\n    },\n    {\n      \"column\": \"email\",\n      \"properties\": {\n        \"dtype\": \"string\",\n        \"num_unique_values\": 100,\n        \"samples\": [\n          \"khicks@example.net\",\n          \"marcia57@example.net\",\n          \"benjamin02@example.com\"\n        ],\n        \"semantic_type\": \"\",\n        \"description\": \"\"\n      }\n    },\n    {\n      \"column\": \"phone\",\n      \"properties\": {\n        \"dtype\": \"object\",\n        \"semantic_type\": \"\",\n        \"description\": \"\"\n      }\n    },\n    {\n      \"column\": \"orders\",\n      \"properties\": {\n        \"dtype\": \"object\",\n        \"semantic_type\": \"\",\n        \"description\": \"\"\n      }\n    }\n  ]\n}"
            }
          },
          "metadata": {},
          "execution_count": 64
        }
      ]
    },
    {
      "cell_type": "code",
      "source": [
        "products_df = pd.read_json('products.json')\n",
        "products_df.head(2)"
      ],
      "metadata": {
        "id": "TyYwyqmtkEYW",
        "colab": {
          "base_uri": "https://localhost:8080/",
          "height": 112
        },
        "outputId": "6cd2bd30-ee18-4555-be05-7616f5e5e1c0"
      },
      "execution_count": 65,
      "outputs": [
        {
          "output_type": "execute_result",
          "data": {
            "text/plain": [
              "                                    _id  productid     category  price\n",
              "0  {'$oid': '660c8b705138676bc120242e'}          1  Electronics      8\n",
              "1  {'$oid': '660c8b705138676bc120242f'}          2         Home     69"
            ],
            "text/html": [
              "\n",
              "  <div id=\"df-6de961d9-5f2d-435a-80cf-0f0cacf053b8\" class=\"colab-df-container\">\n",
              "    <div>\n",
              "<style scoped>\n",
              "    .dataframe tbody tr th:only-of-type {\n",
              "        vertical-align: middle;\n",
              "    }\n",
              "\n",
              "    .dataframe tbody tr th {\n",
              "        vertical-align: top;\n",
              "    }\n",
              "\n",
              "    .dataframe thead th {\n",
              "        text-align: right;\n",
              "    }\n",
              "</style>\n",
              "<table border=\"1\" class=\"dataframe\">\n",
              "  <thead>\n",
              "    <tr style=\"text-align: right;\">\n",
              "      <th></th>\n",
              "      <th>_id</th>\n",
              "      <th>productid</th>\n",
              "      <th>category</th>\n",
              "      <th>price</th>\n",
              "    </tr>\n",
              "  </thead>\n",
              "  <tbody>\n",
              "    <tr>\n",
              "      <th>0</th>\n",
              "      <td>{'$oid': '660c8b705138676bc120242e'}</td>\n",
              "      <td>1</td>\n",
              "      <td>Electronics</td>\n",
              "      <td>8</td>\n",
              "    </tr>\n",
              "    <tr>\n",
              "      <th>1</th>\n",
              "      <td>{'$oid': '660c8b705138676bc120242f'}</td>\n",
              "      <td>2</td>\n",
              "      <td>Home</td>\n",
              "      <td>69</td>\n",
              "    </tr>\n",
              "  </tbody>\n",
              "</table>\n",
              "</div>\n",
              "    <div class=\"colab-df-buttons\">\n",
              "\n",
              "  <div class=\"colab-df-container\">\n",
              "    <button class=\"colab-df-convert\" onclick=\"convertToInteractive('df-6de961d9-5f2d-435a-80cf-0f0cacf053b8')\"\n",
              "            title=\"Convert this dataframe to an interactive table.\"\n",
              "            style=\"display:none;\">\n",
              "\n",
              "  <svg xmlns=\"http://www.w3.org/2000/svg\" height=\"24px\" viewBox=\"0 -960 960 960\">\n",
              "    <path d=\"M120-120v-720h720v720H120Zm60-500h600v-160H180v160Zm220 220h160v-160H400v160Zm0 220h160v-160H400v160ZM180-400h160v-160H180v160Zm440 0h160v-160H620v160ZM180-180h160v-160H180v160Zm440 0h160v-160H620v160Z\"/>\n",
              "  </svg>\n",
              "    </button>\n",
              "\n",
              "  <style>\n",
              "    .colab-df-container {\n",
              "      display:flex;\n",
              "      gap: 12px;\n",
              "    }\n",
              "\n",
              "    .colab-df-convert {\n",
              "      background-color: #E8F0FE;\n",
              "      border: none;\n",
              "      border-radius: 50%;\n",
              "      cursor: pointer;\n",
              "      display: none;\n",
              "      fill: #1967D2;\n",
              "      height: 32px;\n",
              "      padding: 0 0 0 0;\n",
              "      width: 32px;\n",
              "    }\n",
              "\n",
              "    .colab-df-convert:hover {\n",
              "      background-color: #E2EBFA;\n",
              "      box-shadow: 0px 1px 2px rgba(60, 64, 67, 0.3), 0px 1px 3px 1px rgba(60, 64, 67, 0.15);\n",
              "      fill: #174EA6;\n",
              "    }\n",
              "\n",
              "    .colab-df-buttons div {\n",
              "      margin-bottom: 4px;\n",
              "    }\n",
              "\n",
              "    [theme=dark] .colab-df-convert {\n",
              "      background-color: #3B4455;\n",
              "      fill: #D2E3FC;\n",
              "    }\n",
              "\n",
              "    [theme=dark] .colab-df-convert:hover {\n",
              "      background-color: #434B5C;\n",
              "      box-shadow: 0px 1px 3px 1px rgba(0, 0, 0, 0.15);\n",
              "      filter: drop-shadow(0px 1px 2px rgba(0, 0, 0, 0.3));\n",
              "      fill: #FFFFFF;\n",
              "    }\n",
              "  </style>\n",
              "\n",
              "    <script>\n",
              "      const buttonEl =\n",
              "        document.querySelector('#df-6de961d9-5f2d-435a-80cf-0f0cacf053b8 button.colab-df-convert');\n",
              "      buttonEl.style.display =\n",
              "        google.colab.kernel.accessAllowed ? 'block' : 'none';\n",
              "\n",
              "      async function convertToInteractive(key) {\n",
              "        const element = document.querySelector('#df-6de961d9-5f2d-435a-80cf-0f0cacf053b8');\n",
              "        const dataTable =\n",
              "          await google.colab.kernel.invokeFunction('convertToInteractive',\n",
              "                                                    [key], {});\n",
              "        if (!dataTable) return;\n",
              "\n",
              "        const docLinkHtml = 'Like what you see? Visit the ' +\n",
              "          '<a target=\"_blank\" href=https://colab.research.google.com/notebooks/data_table.ipynb>data table notebook</a>'\n",
              "          + ' to learn more about interactive tables.';\n",
              "        element.innerHTML = '';\n",
              "        dataTable['output_type'] = 'display_data';\n",
              "        await google.colab.output.renderOutput(dataTable, element);\n",
              "        const docLink = document.createElement('div');\n",
              "        docLink.innerHTML = docLinkHtml;\n",
              "        element.appendChild(docLink);\n",
              "      }\n",
              "    </script>\n",
              "  </div>\n",
              "\n",
              "\n",
              "<div id=\"df-66ab1b15-7b90-45d8-8095-1f8a91b46310\">\n",
              "  <button class=\"colab-df-quickchart\" onclick=\"quickchart('df-66ab1b15-7b90-45d8-8095-1f8a91b46310')\"\n",
              "            title=\"Suggest charts\"\n",
              "            style=\"display:none;\">\n",
              "\n",
              "<svg xmlns=\"http://www.w3.org/2000/svg\" height=\"24px\"viewBox=\"0 0 24 24\"\n",
              "     width=\"24px\">\n",
              "    <g>\n",
              "        <path d=\"M19 3H5c-1.1 0-2 .9-2 2v14c0 1.1.9 2 2 2h14c1.1 0 2-.9 2-2V5c0-1.1-.9-2-2-2zM9 17H7v-7h2v7zm4 0h-2V7h2v10zm4 0h-2v-4h2v4z\"/>\n",
              "    </g>\n",
              "</svg>\n",
              "  </button>\n",
              "\n",
              "<style>\n",
              "  .colab-df-quickchart {\n",
              "      --bg-color: #E8F0FE;\n",
              "      --fill-color: #1967D2;\n",
              "      --hover-bg-color: #E2EBFA;\n",
              "      --hover-fill-color: #174EA6;\n",
              "      --disabled-fill-color: #AAA;\n",
              "      --disabled-bg-color: #DDD;\n",
              "  }\n",
              "\n",
              "  [theme=dark] .colab-df-quickchart {\n",
              "      --bg-color: #3B4455;\n",
              "      --fill-color: #D2E3FC;\n",
              "      --hover-bg-color: #434B5C;\n",
              "      --hover-fill-color: #FFFFFF;\n",
              "      --disabled-bg-color: #3B4455;\n",
              "      --disabled-fill-color: #666;\n",
              "  }\n",
              "\n",
              "  .colab-df-quickchart {\n",
              "    background-color: var(--bg-color);\n",
              "    border: none;\n",
              "    border-radius: 50%;\n",
              "    cursor: pointer;\n",
              "    display: none;\n",
              "    fill: var(--fill-color);\n",
              "    height: 32px;\n",
              "    padding: 0;\n",
              "    width: 32px;\n",
              "  }\n",
              "\n",
              "  .colab-df-quickchart:hover {\n",
              "    background-color: var(--hover-bg-color);\n",
              "    box-shadow: 0 1px 2px rgba(60, 64, 67, 0.3), 0 1px 3px 1px rgba(60, 64, 67, 0.15);\n",
              "    fill: var(--button-hover-fill-color);\n",
              "  }\n",
              "\n",
              "  .colab-df-quickchart-complete:disabled,\n",
              "  .colab-df-quickchart-complete:disabled:hover {\n",
              "    background-color: var(--disabled-bg-color);\n",
              "    fill: var(--disabled-fill-color);\n",
              "    box-shadow: none;\n",
              "  }\n",
              "\n",
              "  .colab-df-spinner {\n",
              "    border: 2px solid var(--fill-color);\n",
              "    border-color: transparent;\n",
              "    border-bottom-color: var(--fill-color);\n",
              "    animation:\n",
              "      spin 1s steps(1) infinite;\n",
              "  }\n",
              "\n",
              "  @keyframes spin {\n",
              "    0% {\n",
              "      border-color: transparent;\n",
              "      border-bottom-color: var(--fill-color);\n",
              "      border-left-color: var(--fill-color);\n",
              "    }\n",
              "    20% {\n",
              "      border-color: transparent;\n",
              "      border-left-color: var(--fill-color);\n",
              "      border-top-color: var(--fill-color);\n",
              "    }\n",
              "    30% {\n",
              "      border-color: transparent;\n",
              "      border-left-color: var(--fill-color);\n",
              "      border-top-color: var(--fill-color);\n",
              "      border-right-color: var(--fill-color);\n",
              "    }\n",
              "    40% {\n",
              "      border-color: transparent;\n",
              "      border-right-color: var(--fill-color);\n",
              "      border-top-color: var(--fill-color);\n",
              "    }\n",
              "    60% {\n",
              "      border-color: transparent;\n",
              "      border-right-color: var(--fill-color);\n",
              "    }\n",
              "    80% {\n",
              "      border-color: transparent;\n",
              "      border-right-color: var(--fill-color);\n",
              "      border-bottom-color: var(--fill-color);\n",
              "    }\n",
              "    90% {\n",
              "      border-color: transparent;\n",
              "      border-bottom-color: var(--fill-color);\n",
              "    }\n",
              "  }\n",
              "</style>\n",
              "\n",
              "  <script>\n",
              "    async function quickchart(key) {\n",
              "      const quickchartButtonEl =\n",
              "        document.querySelector('#' + key + ' button');\n",
              "      quickchartButtonEl.disabled = true;  // To prevent multiple clicks.\n",
              "      quickchartButtonEl.classList.add('colab-df-spinner');\n",
              "      try {\n",
              "        const charts = await google.colab.kernel.invokeFunction(\n",
              "            'suggestCharts', [key], {});\n",
              "      } catch (error) {\n",
              "        console.error('Error during call to suggestCharts:', error);\n",
              "      }\n",
              "      quickchartButtonEl.classList.remove('colab-df-spinner');\n",
              "      quickchartButtonEl.classList.add('colab-df-quickchart-complete');\n",
              "    }\n",
              "    (() => {\n",
              "      let quickchartButtonEl =\n",
              "        document.querySelector('#df-66ab1b15-7b90-45d8-8095-1f8a91b46310 button');\n",
              "      quickchartButtonEl.style.display =\n",
              "        google.colab.kernel.accessAllowed ? 'block' : 'none';\n",
              "    })();\n",
              "  </script>\n",
              "</div>\n",
              "\n",
              "    </div>\n",
              "  </div>\n"
            ],
            "application/vnd.google.colaboratory.intrinsic+json": {
              "type": "dataframe",
              "variable_name": "products_df",
              "summary": "{\n  \"name\": \"products_df\",\n  \"rows\": 10,\n  \"fields\": [\n    {\n      \"column\": \"_id\",\n      \"properties\": {\n        \"dtype\": \"object\",\n        \"semantic_type\": \"\",\n        \"description\": \"\"\n      }\n    },\n    {\n      \"column\": \"productid\",\n      \"properties\": {\n        \"dtype\": \"number\",\n        \"std\": 3,\n        \"min\": 1,\n        \"max\": 10,\n        \"num_unique_values\": 10,\n        \"samples\": [\n          9,\n          2,\n          6\n        ],\n        \"semantic_type\": \"\",\n        \"description\": \"\"\n      }\n    },\n    {\n      \"column\": \"category\",\n      \"properties\": {\n        \"dtype\": \"category\",\n        \"num_unique_values\": 4,\n        \"samples\": [\n          \"Home\",\n          \"Clothing\",\n          \"Electronics\"\n        ],\n        \"semantic_type\": \"\",\n        \"description\": \"\"\n      }\n    },\n    {\n      \"column\": \"price\",\n      \"properties\": {\n        \"dtype\": \"number\",\n        \"std\": 23,\n        \"min\": 3,\n        \"max\": 69,\n        \"num_unique_values\": 10,\n        \"samples\": [\n          51,\n          69,\n          10\n        ],\n        \"semantic_type\": \"\",\n        \"description\": \"\"\n      }\n    }\n  ]\n}"
            }
          },
          "metadata": {},
          "execution_count": 65
        }
      ]
    },
    {
      "cell_type": "markdown",
      "source": [
        "### Merge DataFrames"
      ],
      "metadata": {
        "id": "xG-DsipBJXwz"
      }
    },
    {
      "cell_type": "code",
      "source": [
        "customers_df.head(4)"
      ],
      "metadata": {
        "id": "EAIF7PkYQ8tz",
        "colab": {
          "base_uri": "https://localhost:8080/",
          "height": 175
        },
        "outputId": "86b6a0ec-d515-4c3e-a8b1-4bfc059f21d2"
      },
      "execution_count": 66,
      "outputs": [
        {
          "output_type": "execute_result",
          "data": {
            "text/plain": [
              "                                    _id  customerid                 name  \\\n",
              "0  {'$oid': '660c8b705138676bc12023ca'}           1          Brian Clark   \n",
              "1  {'$oid': '660c8b705138676bc12023cb'}           2           Chad Smith   \n",
              "2  {'$oid': '660c8b705138676bc12023cc'}           3        Ronald Greene   \n",
              "3  {'$oid': '660c8b705138676bc12023cd'}           4  Mrs. Patricia Green   \n",
              "\n",
              "                        email  \\\n",
              "0         bsawyer@example.net   \n",
              "1  scotthenderson@example.org   \n",
              "2   christopher93@example.org   \n",
              "3       jeffrey25@example.net   \n",
              "\n",
              "                                               phone  \\\n",
              "0  [001-579-476-0664x139, (309)504-3134x92639, (5...   \n",
              "1  [975-352-0590, 404-926-6375, +1-615-936-0115x702]   \n",
              "2  [(602)620-7683, (446)691-2662, 001-845-348-123...   \n",
              "3  [+1-541-788-8131x09656, +1-323-867-3305x94155,...   \n",
              "\n",
              "                                              orders  \n",
              "0  [{'productid': 10, 'units': 44, 'purchase_date...  \n",
              "1  [{'productid': 7, 'units': 660, 'purchase_date...  \n",
              "2  [{'productid': 9, 'units': 25, 'purchase_date'...  \n",
              "3  [{'productid': 10, 'units': 57, 'purchase_date...  "
            ],
            "text/html": [
              "\n",
              "  <div id=\"df-e2e529db-2323-4cbe-8eea-423ea0ac396b\" class=\"colab-df-container\">\n",
              "    <div>\n",
              "<style scoped>\n",
              "    .dataframe tbody tr th:only-of-type {\n",
              "        vertical-align: middle;\n",
              "    }\n",
              "\n",
              "    .dataframe tbody tr th {\n",
              "        vertical-align: top;\n",
              "    }\n",
              "\n",
              "    .dataframe thead th {\n",
              "        text-align: right;\n",
              "    }\n",
              "</style>\n",
              "<table border=\"1\" class=\"dataframe\">\n",
              "  <thead>\n",
              "    <tr style=\"text-align: right;\">\n",
              "      <th></th>\n",
              "      <th>_id</th>\n",
              "      <th>customerid</th>\n",
              "      <th>name</th>\n",
              "      <th>email</th>\n",
              "      <th>phone</th>\n",
              "      <th>orders</th>\n",
              "    </tr>\n",
              "  </thead>\n",
              "  <tbody>\n",
              "    <tr>\n",
              "      <th>0</th>\n",
              "      <td>{'$oid': '660c8b705138676bc12023ca'}</td>\n",
              "      <td>1</td>\n",
              "      <td>Brian Clark</td>\n",
              "      <td>bsawyer@example.net</td>\n",
              "      <td>[001-579-476-0664x139, (309)504-3134x92639, (5...</td>\n",
              "      <td>[{'productid': 10, 'units': 44, 'purchase_date...</td>\n",
              "    </tr>\n",
              "    <tr>\n",
              "      <th>1</th>\n",
              "      <td>{'$oid': '660c8b705138676bc12023cb'}</td>\n",
              "      <td>2</td>\n",
              "      <td>Chad Smith</td>\n",
              "      <td>scotthenderson@example.org</td>\n",
              "      <td>[975-352-0590, 404-926-6375, +1-615-936-0115x702]</td>\n",
              "      <td>[{'productid': 7, 'units': 660, 'purchase_date...</td>\n",
              "    </tr>\n",
              "    <tr>\n",
              "      <th>2</th>\n",
              "      <td>{'$oid': '660c8b705138676bc12023cc'}</td>\n",
              "      <td>3</td>\n",
              "      <td>Ronald Greene</td>\n",
              "      <td>christopher93@example.org</td>\n",
              "      <td>[(602)620-7683, (446)691-2662, 001-845-348-123...</td>\n",
              "      <td>[{'productid': 9, 'units': 25, 'purchase_date'...</td>\n",
              "    </tr>\n",
              "    <tr>\n",
              "      <th>3</th>\n",
              "      <td>{'$oid': '660c8b705138676bc12023cd'}</td>\n",
              "      <td>4</td>\n",
              "      <td>Mrs. Patricia Green</td>\n",
              "      <td>jeffrey25@example.net</td>\n",
              "      <td>[+1-541-788-8131x09656, +1-323-867-3305x94155,...</td>\n",
              "      <td>[{'productid': 10, 'units': 57, 'purchase_date...</td>\n",
              "    </tr>\n",
              "  </tbody>\n",
              "</table>\n",
              "</div>\n",
              "    <div class=\"colab-df-buttons\">\n",
              "\n",
              "  <div class=\"colab-df-container\">\n",
              "    <button class=\"colab-df-convert\" onclick=\"convertToInteractive('df-e2e529db-2323-4cbe-8eea-423ea0ac396b')\"\n",
              "            title=\"Convert this dataframe to an interactive table.\"\n",
              "            style=\"display:none;\">\n",
              "\n",
              "  <svg xmlns=\"http://www.w3.org/2000/svg\" height=\"24px\" viewBox=\"0 -960 960 960\">\n",
              "    <path d=\"M120-120v-720h720v720H120Zm60-500h600v-160H180v160Zm220 220h160v-160H400v160Zm0 220h160v-160H400v160ZM180-400h160v-160H180v160Zm440 0h160v-160H620v160ZM180-180h160v-160H180v160Zm440 0h160v-160H620v160Z\"/>\n",
              "  </svg>\n",
              "    </button>\n",
              "\n",
              "  <style>\n",
              "    .colab-df-container {\n",
              "      display:flex;\n",
              "      gap: 12px;\n",
              "    }\n",
              "\n",
              "    .colab-df-convert {\n",
              "      background-color: #E8F0FE;\n",
              "      border: none;\n",
              "      border-radius: 50%;\n",
              "      cursor: pointer;\n",
              "      display: none;\n",
              "      fill: #1967D2;\n",
              "      height: 32px;\n",
              "      padding: 0 0 0 0;\n",
              "      width: 32px;\n",
              "    }\n",
              "\n",
              "    .colab-df-convert:hover {\n",
              "      background-color: #E2EBFA;\n",
              "      box-shadow: 0px 1px 2px rgba(60, 64, 67, 0.3), 0px 1px 3px 1px rgba(60, 64, 67, 0.15);\n",
              "      fill: #174EA6;\n",
              "    }\n",
              "\n",
              "    .colab-df-buttons div {\n",
              "      margin-bottom: 4px;\n",
              "    }\n",
              "\n",
              "    [theme=dark] .colab-df-convert {\n",
              "      background-color: #3B4455;\n",
              "      fill: #D2E3FC;\n",
              "    }\n",
              "\n",
              "    [theme=dark] .colab-df-convert:hover {\n",
              "      background-color: #434B5C;\n",
              "      box-shadow: 0px 1px 3px 1px rgba(0, 0, 0, 0.15);\n",
              "      filter: drop-shadow(0px 1px 2px rgba(0, 0, 0, 0.3));\n",
              "      fill: #FFFFFF;\n",
              "    }\n",
              "  </style>\n",
              "\n",
              "    <script>\n",
              "      const buttonEl =\n",
              "        document.querySelector('#df-e2e529db-2323-4cbe-8eea-423ea0ac396b button.colab-df-convert');\n",
              "      buttonEl.style.display =\n",
              "        google.colab.kernel.accessAllowed ? 'block' : 'none';\n",
              "\n",
              "      async function convertToInteractive(key) {\n",
              "        const element = document.querySelector('#df-e2e529db-2323-4cbe-8eea-423ea0ac396b');\n",
              "        const dataTable =\n",
              "          await google.colab.kernel.invokeFunction('convertToInteractive',\n",
              "                                                    [key], {});\n",
              "        if (!dataTable) return;\n",
              "\n",
              "        const docLinkHtml = 'Like what you see? Visit the ' +\n",
              "          '<a target=\"_blank\" href=https://colab.research.google.com/notebooks/data_table.ipynb>data table notebook</a>'\n",
              "          + ' to learn more about interactive tables.';\n",
              "        element.innerHTML = '';\n",
              "        dataTable['output_type'] = 'display_data';\n",
              "        await google.colab.output.renderOutput(dataTable, element);\n",
              "        const docLink = document.createElement('div');\n",
              "        docLink.innerHTML = docLinkHtml;\n",
              "        element.appendChild(docLink);\n",
              "      }\n",
              "    </script>\n",
              "  </div>\n",
              "\n",
              "\n",
              "<div id=\"df-b4092d4a-f3f2-4149-8efd-117a0dc6f99c\">\n",
              "  <button class=\"colab-df-quickchart\" onclick=\"quickchart('df-b4092d4a-f3f2-4149-8efd-117a0dc6f99c')\"\n",
              "            title=\"Suggest charts\"\n",
              "            style=\"display:none;\">\n",
              "\n",
              "<svg xmlns=\"http://www.w3.org/2000/svg\" height=\"24px\"viewBox=\"0 0 24 24\"\n",
              "     width=\"24px\">\n",
              "    <g>\n",
              "        <path d=\"M19 3H5c-1.1 0-2 .9-2 2v14c0 1.1.9 2 2 2h14c1.1 0 2-.9 2-2V5c0-1.1-.9-2-2-2zM9 17H7v-7h2v7zm4 0h-2V7h2v10zm4 0h-2v-4h2v4z\"/>\n",
              "    </g>\n",
              "</svg>\n",
              "  </button>\n",
              "\n",
              "<style>\n",
              "  .colab-df-quickchart {\n",
              "      --bg-color: #E8F0FE;\n",
              "      --fill-color: #1967D2;\n",
              "      --hover-bg-color: #E2EBFA;\n",
              "      --hover-fill-color: #174EA6;\n",
              "      --disabled-fill-color: #AAA;\n",
              "      --disabled-bg-color: #DDD;\n",
              "  }\n",
              "\n",
              "  [theme=dark] .colab-df-quickchart {\n",
              "      --bg-color: #3B4455;\n",
              "      --fill-color: #D2E3FC;\n",
              "      --hover-bg-color: #434B5C;\n",
              "      --hover-fill-color: #FFFFFF;\n",
              "      --disabled-bg-color: #3B4455;\n",
              "      --disabled-fill-color: #666;\n",
              "  }\n",
              "\n",
              "  .colab-df-quickchart {\n",
              "    background-color: var(--bg-color);\n",
              "    border: none;\n",
              "    border-radius: 50%;\n",
              "    cursor: pointer;\n",
              "    display: none;\n",
              "    fill: var(--fill-color);\n",
              "    height: 32px;\n",
              "    padding: 0;\n",
              "    width: 32px;\n",
              "  }\n",
              "\n",
              "  .colab-df-quickchart:hover {\n",
              "    background-color: var(--hover-bg-color);\n",
              "    box-shadow: 0 1px 2px rgba(60, 64, 67, 0.3), 0 1px 3px 1px rgba(60, 64, 67, 0.15);\n",
              "    fill: var(--button-hover-fill-color);\n",
              "  }\n",
              "\n",
              "  .colab-df-quickchart-complete:disabled,\n",
              "  .colab-df-quickchart-complete:disabled:hover {\n",
              "    background-color: var(--disabled-bg-color);\n",
              "    fill: var(--disabled-fill-color);\n",
              "    box-shadow: none;\n",
              "  }\n",
              "\n",
              "  .colab-df-spinner {\n",
              "    border: 2px solid var(--fill-color);\n",
              "    border-color: transparent;\n",
              "    border-bottom-color: var(--fill-color);\n",
              "    animation:\n",
              "      spin 1s steps(1) infinite;\n",
              "  }\n",
              "\n",
              "  @keyframes spin {\n",
              "    0% {\n",
              "      border-color: transparent;\n",
              "      border-bottom-color: var(--fill-color);\n",
              "      border-left-color: var(--fill-color);\n",
              "    }\n",
              "    20% {\n",
              "      border-color: transparent;\n",
              "      border-left-color: var(--fill-color);\n",
              "      border-top-color: var(--fill-color);\n",
              "    }\n",
              "    30% {\n",
              "      border-color: transparent;\n",
              "      border-left-color: var(--fill-color);\n",
              "      border-top-color: var(--fill-color);\n",
              "      border-right-color: var(--fill-color);\n",
              "    }\n",
              "    40% {\n",
              "      border-color: transparent;\n",
              "      border-right-color: var(--fill-color);\n",
              "      border-top-color: var(--fill-color);\n",
              "    }\n",
              "    60% {\n",
              "      border-color: transparent;\n",
              "      border-right-color: var(--fill-color);\n",
              "    }\n",
              "    80% {\n",
              "      border-color: transparent;\n",
              "      border-right-color: var(--fill-color);\n",
              "      border-bottom-color: var(--fill-color);\n",
              "    }\n",
              "    90% {\n",
              "      border-color: transparent;\n",
              "      border-bottom-color: var(--fill-color);\n",
              "    }\n",
              "  }\n",
              "</style>\n",
              "\n",
              "  <script>\n",
              "    async function quickchart(key) {\n",
              "      const quickchartButtonEl =\n",
              "        document.querySelector('#' + key + ' button');\n",
              "      quickchartButtonEl.disabled = true;  // To prevent multiple clicks.\n",
              "      quickchartButtonEl.classList.add('colab-df-spinner');\n",
              "      try {\n",
              "        const charts = await google.colab.kernel.invokeFunction(\n",
              "            'suggestCharts', [key], {});\n",
              "      } catch (error) {\n",
              "        console.error('Error during call to suggestCharts:', error);\n",
              "      }\n",
              "      quickchartButtonEl.classList.remove('colab-df-spinner');\n",
              "      quickchartButtonEl.classList.add('colab-df-quickchart-complete');\n",
              "    }\n",
              "    (() => {\n",
              "      let quickchartButtonEl =\n",
              "        document.querySelector('#df-b4092d4a-f3f2-4149-8efd-117a0dc6f99c button');\n",
              "      quickchartButtonEl.style.display =\n",
              "        google.colab.kernel.accessAllowed ? 'block' : 'none';\n",
              "    })();\n",
              "  </script>\n",
              "</div>\n",
              "\n",
              "    </div>\n",
              "  </div>\n"
            ],
            "application/vnd.google.colaboratory.intrinsic+json": {
              "type": "dataframe",
              "variable_name": "customers_df",
              "summary": "{\n  \"name\": \"customers_df\",\n  \"rows\": 100,\n  \"fields\": [\n    {\n      \"column\": \"_id\",\n      \"properties\": {\n        \"dtype\": \"object\",\n        \"semantic_type\": \"\",\n        \"description\": \"\"\n      }\n    },\n    {\n      \"column\": \"customerid\",\n      \"properties\": {\n        \"dtype\": \"number\",\n        \"std\": 29,\n        \"min\": 1,\n        \"max\": 100,\n        \"num_unique_values\": 100,\n        \"samples\": [\n          84,\n          54,\n          71\n        ],\n        \"semantic_type\": \"\",\n        \"description\": \"\"\n      }\n    },\n    {\n      \"column\": \"name\",\n      \"properties\": {\n        \"dtype\": \"string\",\n        \"num_unique_values\": 99,\n        \"samples\": [\n          \"Darryl Lee\",\n          \"Dean Hawkins\",\n          \"Jacqueline Clements\"\n        ],\n        \"semantic_type\": \"\",\n        \"description\": \"\"\n      }\n    },\n    {\n      \"column\": \"email\",\n      \"properties\": {\n        \"dtype\": \"string\",\n        \"num_unique_values\": 100,\n        \"samples\": [\n          \"khicks@example.net\",\n          \"marcia57@example.net\",\n          \"benjamin02@example.com\"\n        ],\n        \"semantic_type\": \"\",\n        \"description\": \"\"\n      }\n    },\n    {\n      \"column\": \"phone\",\n      \"properties\": {\n        \"dtype\": \"object\",\n        \"semantic_type\": \"\",\n        \"description\": \"\"\n      }\n    },\n    {\n      \"column\": \"orders\",\n      \"properties\": {\n        \"dtype\": \"object\",\n        \"semantic_type\": \"\",\n        \"description\": \"\"\n      }\n    }\n  ]\n}"
            }
          },
          "metadata": {},
          "execution_count": 66
        }
      ]
    },
    {
      "cell_type": "code",
      "source": [
        "orders_df = customers_df.explode('orders')"
      ],
      "metadata": {
        "id": "mocoF6h2TiF0"
      },
      "execution_count": 67,
      "outputs": []
    },
    {
      "cell_type": "code",
      "source": [
        "df_orders_expanded = pd.concat([orders_df.drop(['orders'], axis=1), orders_df['orders'].apply(pd.Series)], axis=1)\n",
        "df_orders_expanded.head(3)\n"
      ],
      "metadata": {
        "id": "KOJCLbp2WMSV",
        "colab": {
          "base_uri": "https://localhost:8080/",
          "height": 143
        },
        "outputId": "6263d198-e397-411a-c927-d18196c0b324"
      },
      "execution_count": 68,
      "outputs": [
        {
          "output_type": "execute_result",
          "data": {
            "text/plain": [
              "                                    _id  customerid         name  \\\n",
              "0  {'$oid': '660c8b705138676bc12023ca'}           1  Brian Clark   \n",
              "0  {'$oid': '660c8b705138676bc12023ca'}           1  Brian Clark   \n",
              "0  {'$oid': '660c8b705138676bc12023ca'}           1  Brian Clark   \n",
              "\n",
              "                 email                                              phone  \\\n",
              "0  bsawyer@example.net  [001-579-476-0664x139, (309)504-3134x92639, (5...   \n",
              "0  bsawyer@example.net  [001-579-476-0664x139, (309)504-3134x92639, (5...   \n",
              "0  bsawyer@example.net  [001-579-476-0664x139, (309)504-3134x92639, (5...   \n",
              "\n",
              "   productid  units                      purchase_date   0  \n",
              "0       10.0   44.0  {'$date': '2023-09-07T00:00:00Z'} NaN  \n",
              "0        8.0   83.0  {'$date': '2023-08-18T00:00:00Z'} NaN  \n",
              "0        4.0   49.0  {'$date': '2023-05-20T00:00:00Z'} NaN  "
            ],
            "text/html": [
              "\n",
              "  <div id=\"df-44181be2-811e-4289-8240-d024307e5541\" class=\"colab-df-container\">\n",
              "    <div>\n",
              "<style scoped>\n",
              "    .dataframe tbody tr th:only-of-type {\n",
              "        vertical-align: middle;\n",
              "    }\n",
              "\n",
              "    .dataframe tbody tr th {\n",
              "        vertical-align: top;\n",
              "    }\n",
              "\n",
              "    .dataframe thead th {\n",
              "        text-align: right;\n",
              "    }\n",
              "</style>\n",
              "<table border=\"1\" class=\"dataframe\">\n",
              "  <thead>\n",
              "    <tr style=\"text-align: right;\">\n",
              "      <th></th>\n",
              "      <th>_id</th>\n",
              "      <th>customerid</th>\n",
              "      <th>name</th>\n",
              "      <th>email</th>\n",
              "      <th>phone</th>\n",
              "      <th>productid</th>\n",
              "      <th>units</th>\n",
              "      <th>purchase_date</th>\n",
              "      <th>0</th>\n",
              "    </tr>\n",
              "  </thead>\n",
              "  <tbody>\n",
              "    <tr>\n",
              "      <th>0</th>\n",
              "      <td>{'$oid': '660c8b705138676bc12023ca'}</td>\n",
              "      <td>1</td>\n",
              "      <td>Brian Clark</td>\n",
              "      <td>bsawyer@example.net</td>\n",
              "      <td>[001-579-476-0664x139, (309)504-3134x92639, (5...</td>\n",
              "      <td>10.0</td>\n",
              "      <td>44.0</td>\n",
              "      <td>{'$date': '2023-09-07T00:00:00Z'}</td>\n",
              "      <td>NaN</td>\n",
              "    </tr>\n",
              "    <tr>\n",
              "      <th>0</th>\n",
              "      <td>{'$oid': '660c8b705138676bc12023ca'}</td>\n",
              "      <td>1</td>\n",
              "      <td>Brian Clark</td>\n",
              "      <td>bsawyer@example.net</td>\n",
              "      <td>[001-579-476-0664x139, (309)504-3134x92639, (5...</td>\n",
              "      <td>8.0</td>\n",
              "      <td>83.0</td>\n",
              "      <td>{'$date': '2023-08-18T00:00:00Z'}</td>\n",
              "      <td>NaN</td>\n",
              "    </tr>\n",
              "    <tr>\n",
              "      <th>0</th>\n",
              "      <td>{'$oid': '660c8b705138676bc12023ca'}</td>\n",
              "      <td>1</td>\n",
              "      <td>Brian Clark</td>\n",
              "      <td>bsawyer@example.net</td>\n",
              "      <td>[001-579-476-0664x139, (309)504-3134x92639, (5...</td>\n",
              "      <td>4.0</td>\n",
              "      <td>49.0</td>\n",
              "      <td>{'$date': '2023-05-20T00:00:00Z'}</td>\n",
              "      <td>NaN</td>\n",
              "    </tr>\n",
              "  </tbody>\n",
              "</table>\n",
              "</div>\n",
              "    <div class=\"colab-df-buttons\">\n",
              "\n",
              "  <div class=\"colab-df-container\">\n",
              "    <button class=\"colab-df-convert\" onclick=\"convertToInteractive('df-44181be2-811e-4289-8240-d024307e5541')\"\n",
              "            title=\"Convert this dataframe to an interactive table.\"\n",
              "            style=\"display:none;\">\n",
              "\n",
              "  <svg xmlns=\"http://www.w3.org/2000/svg\" height=\"24px\" viewBox=\"0 -960 960 960\">\n",
              "    <path d=\"M120-120v-720h720v720H120Zm60-500h600v-160H180v160Zm220 220h160v-160H400v160Zm0 220h160v-160H400v160ZM180-400h160v-160H180v160Zm440 0h160v-160H620v160ZM180-180h160v-160H180v160Zm440 0h160v-160H620v160Z\"/>\n",
              "  </svg>\n",
              "    </button>\n",
              "\n",
              "  <style>\n",
              "    .colab-df-container {\n",
              "      display:flex;\n",
              "      gap: 12px;\n",
              "    }\n",
              "\n",
              "    .colab-df-convert {\n",
              "      background-color: #E8F0FE;\n",
              "      border: none;\n",
              "      border-radius: 50%;\n",
              "      cursor: pointer;\n",
              "      display: none;\n",
              "      fill: #1967D2;\n",
              "      height: 32px;\n",
              "      padding: 0 0 0 0;\n",
              "      width: 32px;\n",
              "    }\n",
              "\n",
              "    .colab-df-convert:hover {\n",
              "      background-color: #E2EBFA;\n",
              "      box-shadow: 0px 1px 2px rgba(60, 64, 67, 0.3), 0px 1px 3px 1px rgba(60, 64, 67, 0.15);\n",
              "      fill: #174EA6;\n",
              "    }\n",
              "\n",
              "    .colab-df-buttons div {\n",
              "      margin-bottom: 4px;\n",
              "    }\n",
              "\n",
              "    [theme=dark] .colab-df-convert {\n",
              "      background-color: #3B4455;\n",
              "      fill: #D2E3FC;\n",
              "    }\n",
              "\n",
              "    [theme=dark] .colab-df-convert:hover {\n",
              "      background-color: #434B5C;\n",
              "      box-shadow: 0px 1px 3px 1px rgba(0, 0, 0, 0.15);\n",
              "      filter: drop-shadow(0px 1px 2px rgba(0, 0, 0, 0.3));\n",
              "      fill: #FFFFFF;\n",
              "    }\n",
              "  </style>\n",
              "\n",
              "    <script>\n",
              "      const buttonEl =\n",
              "        document.querySelector('#df-44181be2-811e-4289-8240-d024307e5541 button.colab-df-convert');\n",
              "      buttonEl.style.display =\n",
              "        google.colab.kernel.accessAllowed ? 'block' : 'none';\n",
              "\n",
              "      async function convertToInteractive(key) {\n",
              "        const element = document.querySelector('#df-44181be2-811e-4289-8240-d024307e5541');\n",
              "        const dataTable =\n",
              "          await google.colab.kernel.invokeFunction('convertToInteractive',\n",
              "                                                    [key], {});\n",
              "        if (!dataTable) return;\n",
              "\n",
              "        const docLinkHtml = 'Like what you see? Visit the ' +\n",
              "          '<a target=\"_blank\" href=https://colab.research.google.com/notebooks/data_table.ipynb>data table notebook</a>'\n",
              "          + ' to learn more about interactive tables.';\n",
              "        element.innerHTML = '';\n",
              "        dataTable['output_type'] = 'display_data';\n",
              "        await google.colab.output.renderOutput(dataTable, element);\n",
              "        const docLink = document.createElement('div');\n",
              "        docLink.innerHTML = docLinkHtml;\n",
              "        element.appendChild(docLink);\n",
              "      }\n",
              "    </script>\n",
              "  </div>\n",
              "\n",
              "\n",
              "<div id=\"df-33157e3c-56f8-4d90-a41a-1d750b38a8c3\">\n",
              "  <button class=\"colab-df-quickchart\" onclick=\"quickchart('df-33157e3c-56f8-4d90-a41a-1d750b38a8c3')\"\n",
              "            title=\"Suggest charts\"\n",
              "            style=\"display:none;\">\n",
              "\n",
              "<svg xmlns=\"http://www.w3.org/2000/svg\" height=\"24px\"viewBox=\"0 0 24 24\"\n",
              "     width=\"24px\">\n",
              "    <g>\n",
              "        <path d=\"M19 3H5c-1.1 0-2 .9-2 2v14c0 1.1.9 2 2 2h14c1.1 0 2-.9 2-2V5c0-1.1-.9-2-2-2zM9 17H7v-7h2v7zm4 0h-2V7h2v10zm4 0h-2v-4h2v4z\"/>\n",
              "    </g>\n",
              "</svg>\n",
              "  </button>\n",
              "\n",
              "<style>\n",
              "  .colab-df-quickchart {\n",
              "      --bg-color: #E8F0FE;\n",
              "      --fill-color: #1967D2;\n",
              "      --hover-bg-color: #E2EBFA;\n",
              "      --hover-fill-color: #174EA6;\n",
              "      --disabled-fill-color: #AAA;\n",
              "      --disabled-bg-color: #DDD;\n",
              "  }\n",
              "\n",
              "  [theme=dark] .colab-df-quickchart {\n",
              "      --bg-color: #3B4455;\n",
              "      --fill-color: #D2E3FC;\n",
              "      --hover-bg-color: #434B5C;\n",
              "      --hover-fill-color: #FFFFFF;\n",
              "      --disabled-bg-color: #3B4455;\n",
              "      --disabled-fill-color: #666;\n",
              "  }\n",
              "\n",
              "  .colab-df-quickchart {\n",
              "    background-color: var(--bg-color);\n",
              "    border: none;\n",
              "    border-radius: 50%;\n",
              "    cursor: pointer;\n",
              "    display: none;\n",
              "    fill: var(--fill-color);\n",
              "    height: 32px;\n",
              "    padding: 0;\n",
              "    width: 32px;\n",
              "  }\n",
              "\n",
              "  .colab-df-quickchart:hover {\n",
              "    background-color: var(--hover-bg-color);\n",
              "    box-shadow: 0 1px 2px rgba(60, 64, 67, 0.3), 0 1px 3px 1px rgba(60, 64, 67, 0.15);\n",
              "    fill: var(--button-hover-fill-color);\n",
              "  }\n",
              "\n",
              "  .colab-df-quickchart-complete:disabled,\n",
              "  .colab-df-quickchart-complete:disabled:hover {\n",
              "    background-color: var(--disabled-bg-color);\n",
              "    fill: var(--disabled-fill-color);\n",
              "    box-shadow: none;\n",
              "  }\n",
              "\n",
              "  .colab-df-spinner {\n",
              "    border: 2px solid var(--fill-color);\n",
              "    border-color: transparent;\n",
              "    border-bottom-color: var(--fill-color);\n",
              "    animation:\n",
              "      spin 1s steps(1) infinite;\n",
              "  }\n",
              "\n",
              "  @keyframes spin {\n",
              "    0% {\n",
              "      border-color: transparent;\n",
              "      border-bottom-color: var(--fill-color);\n",
              "      border-left-color: var(--fill-color);\n",
              "    }\n",
              "    20% {\n",
              "      border-color: transparent;\n",
              "      border-left-color: var(--fill-color);\n",
              "      border-top-color: var(--fill-color);\n",
              "    }\n",
              "    30% {\n",
              "      border-color: transparent;\n",
              "      border-left-color: var(--fill-color);\n",
              "      border-top-color: var(--fill-color);\n",
              "      border-right-color: var(--fill-color);\n",
              "    }\n",
              "    40% {\n",
              "      border-color: transparent;\n",
              "      border-right-color: var(--fill-color);\n",
              "      border-top-color: var(--fill-color);\n",
              "    }\n",
              "    60% {\n",
              "      border-color: transparent;\n",
              "      border-right-color: var(--fill-color);\n",
              "    }\n",
              "    80% {\n",
              "      border-color: transparent;\n",
              "      border-right-color: var(--fill-color);\n",
              "      border-bottom-color: var(--fill-color);\n",
              "    }\n",
              "    90% {\n",
              "      border-color: transparent;\n",
              "      border-bottom-color: var(--fill-color);\n",
              "    }\n",
              "  }\n",
              "</style>\n",
              "\n",
              "  <script>\n",
              "    async function quickchart(key) {\n",
              "      const quickchartButtonEl =\n",
              "        document.querySelector('#' + key + ' button');\n",
              "      quickchartButtonEl.disabled = true;  // To prevent multiple clicks.\n",
              "      quickchartButtonEl.classList.add('colab-df-spinner');\n",
              "      try {\n",
              "        const charts = await google.colab.kernel.invokeFunction(\n",
              "            'suggestCharts', [key], {});\n",
              "      } catch (error) {\n",
              "        console.error('Error during call to suggestCharts:', error);\n",
              "      }\n",
              "      quickchartButtonEl.classList.remove('colab-df-spinner');\n",
              "      quickchartButtonEl.classList.add('colab-df-quickchart-complete');\n",
              "    }\n",
              "    (() => {\n",
              "      let quickchartButtonEl =\n",
              "        document.querySelector('#df-33157e3c-56f8-4d90-a41a-1d750b38a8c3 button');\n",
              "      quickchartButtonEl.style.display =\n",
              "        google.colab.kernel.accessAllowed ? 'block' : 'none';\n",
              "    })();\n",
              "  </script>\n",
              "</div>\n",
              "\n",
              "    </div>\n",
              "  </div>\n"
            ],
            "application/vnd.google.colaboratory.intrinsic+json": {
              "type": "dataframe",
              "variable_name": "df_orders_expanded",
              "summary": "{\n  \"name\": \"df_orders_expanded\",\n  \"rows\": 218,\n  \"fields\": [\n    {\n      \"column\": \"_id\",\n      \"properties\": {\n        \"dtype\": \"object\",\n        \"semantic_type\": \"\",\n        \"description\": \"\"\n      }\n    },\n    {\n      \"column\": \"customerid\",\n      \"properties\": {\n        \"dtype\": \"number\",\n        \"std\": 28,\n        \"min\": 1,\n        \"max\": 100,\n        \"num_unique_values\": 100,\n        \"samples\": [\n          84,\n          54,\n          71\n        ],\n        \"semantic_type\": \"\",\n        \"description\": \"\"\n      }\n    },\n    {\n      \"column\": \"name\",\n      \"properties\": {\n        \"dtype\": \"category\",\n        \"num_unique_values\": 99,\n        \"samples\": [\n          \"Darryl Lee\",\n          \"Dean Hawkins\",\n          \"Jacqueline Clements\"\n        ],\n        \"semantic_type\": \"\",\n        \"description\": \"\"\n      }\n    },\n    {\n      \"column\": \"email\",\n      \"properties\": {\n        \"dtype\": \"category\",\n        \"num_unique_values\": 100,\n        \"samples\": [\n          \"khicks@example.net\",\n          \"marcia57@example.net\",\n          \"benjamin02@example.com\"\n        ],\n        \"semantic_type\": \"\",\n        \"description\": \"\"\n      }\n    },\n    {\n      \"column\": \"phone\",\n      \"properties\": {\n        \"dtype\": \"object\",\n        \"semantic_type\": \"\",\n        \"description\": \"\"\n      }\n    },\n    {\n      \"column\": \"productid\",\n      \"properties\": {\n        \"dtype\": \"number\",\n        \"std\": 2.8175759216767284,\n        \"min\": 1.0,\n        \"max\": 10.0,\n        \"num_unique_values\": 10,\n        \"samples\": [\n          6.0,\n          8.0,\n          5.0\n        ],\n        \"semantic_type\": \"\",\n        \"description\": \"\"\n      }\n    },\n    {\n      \"column\": \"units\",\n      \"properties\": {\n        \"dtype\": \"number\",\n        \"std\": 199.15362012250262,\n        \"min\": 10.0,\n        \"max\": 980.0,\n        \"num_unique_values\": 108,\n        \"samples\": [\n          65.0,\n          330.0,\n          92.0\n        ],\n        \"semantic_type\": \"\",\n        \"description\": \"\"\n      }\n    },\n    {\n      \"column\": \"purchase_date\",\n      \"properties\": {\n        \"dtype\": \"object\",\n        \"semantic_type\": \"\",\n        \"description\": \"\"\n      }\n    },\n    {\n      \"column\": 0,\n      \"properties\": {\n        \"dtype\": \"number\",\n        \"std\": null,\n        \"min\": null,\n        \"max\": null,\n        \"num_unique_values\": 0,\n        \"samples\": [],\n        \"semantic_type\": \"\",\n        \"description\": \"\"\n      }\n    }\n  ]\n}"
            }
          },
          "metadata": {},
          "execution_count": 68
        }
      ]
    },
    {
      "cell_type": "code",
      "source": [
        "customer_product_orders = df_orders_expanded.merge(products_df, on='productid', how='left')\n",
        "customer_product_orders.head(3)"
      ],
      "metadata": {
        "id": "MVmcFZ7FWxo4",
        "colab": {
          "base_uri": "https://localhost:8080/",
          "height": 195
        },
        "outputId": "20bd5e91-79cf-4f53-9125-64e10610a1fe"
      },
      "execution_count": 69,
      "outputs": [
        {
          "output_type": "execute_result",
          "data": {
            "text/plain": [
              "                                  _id_x  customerid         name  \\\n",
              "0  {'$oid': '660c8b705138676bc12023ca'}           1  Brian Clark   \n",
              "1  {'$oid': '660c8b705138676bc12023ca'}           1  Brian Clark   \n",
              "2  {'$oid': '660c8b705138676bc12023ca'}           1  Brian Clark   \n",
              "\n",
              "                 email                                              phone  \\\n",
              "0  bsawyer@example.net  [001-579-476-0664x139, (309)504-3134x92639, (5...   \n",
              "1  bsawyer@example.net  [001-579-476-0664x139, (309)504-3134x92639, (5...   \n",
              "2  bsawyer@example.net  [001-579-476-0664x139, (309)504-3134x92639, (5...   \n",
              "\n",
              "   productid  units                      purchase_date   0  \\\n",
              "0       10.0   44.0  {'$date': '2023-09-07T00:00:00Z'} NaN   \n",
              "1        8.0   83.0  {'$date': '2023-08-18T00:00:00Z'} NaN   \n",
              "2        4.0   49.0  {'$date': '2023-05-20T00:00:00Z'} NaN   \n",
              "\n",
              "                                  _id_y     category  price  \n",
              "0  {'$oid': '660c8b705138676bc1202437'}  Electronics   36.0  \n",
              "1  {'$oid': '660c8b705138676bc1202435'}        Books   56.0  \n",
              "2  {'$oid': '660c8b705138676bc1202431'}         Home   23.0  "
            ],
            "text/html": [
              "\n",
              "  <div id=\"df-1fba5f4a-d6e8-4a4e-8956-0343fa552e3a\" class=\"colab-df-container\">\n",
              "    <div>\n",
              "<style scoped>\n",
              "    .dataframe tbody tr th:only-of-type {\n",
              "        vertical-align: middle;\n",
              "    }\n",
              "\n",
              "    .dataframe tbody tr th {\n",
              "        vertical-align: top;\n",
              "    }\n",
              "\n",
              "    .dataframe thead th {\n",
              "        text-align: right;\n",
              "    }\n",
              "</style>\n",
              "<table border=\"1\" class=\"dataframe\">\n",
              "  <thead>\n",
              "    <tr style=\"text-align: right;\">\n",
              "      <th></th>\n",
              "      <th>_id_x</th>\n",
              "      <th>customerid</th>\n",
              "      <th>name</th>\n",
              "      <th>email</th>\n",
              "      <th>phone</th>\n",
              "      <th>productid</th>\n",
              "      <th>units</th>\n",
              "      <th>purchase_date</th>\n",
              "      <th>0</th>\n",
              "      <th>_id_y</th>\n",
              "      <th>category</th>\n",
              "      <th>price</th>\n",
              "    </tr>\n",
              "  </thead>\n",
              "  <tbody>\n",
              "    <tr>\n",
              "      <th>0</th>\n",
              "      <td>{'$oid': '660c8b705138676bc12023ca'}</td>\n",
              "      <td>1</td>\n",
              "      <td>Brian Clark</td>\n",
              "      <td>bsawyer@example.net</td>\n",
              "      <td>[001-579-476-0664x139, (309)504-3134x92639, (5...</td>\n",
              "      <td>10.0</td>\n",
              "      <td>44.0</td>\n",
              "      <td>{'$date': '2023-09-07T00:00:00Z'}</td>\n",
              "      <td>NaN</td>\n",
              "      <td>{'$oid': '660c8b705138676bc1202437'}</td>\n",
              "      <td>Electronics</td>\n",
              "      <td>36.0</td>\n",
              "    </tr>\n",
              "    <tr>\n",
              "      <th>1</th>\n",
              "      <td>{'$oid': '660c8b705138676bc12023ca'}</td>\n",
              "      <td>1</td>\n",
              "      <td>Brian Clark</td>\n",
              "      <td>bsawyer@example.net</td>\n",
              "      <td>[001-579-476-0664x139, (309)504-3134x92639, (5...</td>\n",
              "      <td>8.0</td>\n",
              "      <td>83.0</td>\n",
              "      <td>{'$date': '2023-08-18T00:00:00Z'}</td>\n",
              "      <td>NaN</td>\n",
              "      <td>{'$oid': '660c8b705138676bc1202435'}</td>\n",
              "      <td>Books</td>\n",
              "      <td>56.0</td>\n",
              "    </tr>\n",
              "    <tr>\n",
              "      <th>2</th>\n",
              "      <td>{'$oid': '660c8b705138676bc12023ca'}</td>\n",
              "      <td>1</td>\n",
              "      <td>Brian Clark</td>\n",
              "      <td>bsawyer@example.net</td>\n",
              "      <td>[001-579-476-0664x139, (309)504-3134x92639, (5...</td>\n",
              "      <td>4.0</td>\n",
              "      <td>49.0</td>\n",
              "      <td>{'$date': '2023-05-20T00:00:00Z'}</td>\n",
              "      <td>NaN</td>\n",
              "      <td>{'$oid': '660c8b705138676bc1202431'}</td>\n",
              "      <td>Home</td>\n",
              "      <td>23.0</td>\n",
              "    </tr>\n",
              "  </tbody>\n",
              "</table>\n",
              "</div>\n",
              "    <div class=\"colab-df-buttons\">\n",
              "\n",
              "  <div class=\"colab-df-container\">\n",
              "    <button class=\"colab-df-convert\" onclick=\"convertToInteractive('df-1fba5f4a-d6e8-4a4e-8956-0343fa552e3a')\"\n",
              "            title=\"Convert this dataframe to an interactive table.\"\n",
              "            style=\"display:none;\">\n",
              "\n",
              "  <svg xmlns=\"http://www.w3.org/2000/svg\" height=\"24px\" viewBox=\"0 -960 960 960\">\n",
              "    <path d=\"M120-120v-720h720v720H120Zm60-500h600v-160H180v160Zm220 220h160v-160H400v160Zm0 220h160v-160H400v160ZM180-400h160v-160H180v160Zm440 0h160v-160H620v160ZM180-180h160v-160H180v160Zm440 0h160v-160H620v160Z\"/>\n",
              "  </svg>\n",
              "    </button>\n",
              "\n",
              "  <style>\n",
              "    .colab-df-container {\n",
              "      display:flex;\n",
              "      gap: 12px;\n",
              "    }\n",
              "\n",
              "    .colab-df-convert {\n",
              "      background-color: #E8F0FE;\n",
              "      border: none;\n",
              "      border-radius: 50%;\n",
              "      cursor: pointer;\n",
              "      display: none;\n",
              "      fill: #1967D2;\n",
              "      height: 32px;\n",
              "      padding: 0 0 0 0;\n",
              "      width: 32px;\n",
              "    }\n",
              "\n",
              "    .colab-df-convert:hover {\n",
              "      background-color: #E2EBFA;\n",
              "      box-shadow: 0px 1px 2px rgba(60, 64, 67, 0.3), 0px 1px 3px 1px rgba(60, 64, 67, 0.15);\n",
              "      fill: #174EA6;\n",
              "    }\n",
              "\n",
              "    .colab-df-buttons div {\n",
              "      margin-bottom: 4px;\n",
              "    }\n",
              "\n",
              "    [theme=dark] .colab-df-convert {\n",
              "      background-color: #3B4455;\n",
              "      fill: #D2E3FC;\n",
              "    }\n",
              "\n",
              "    [theme=dark] .colab-df-convert:hover {\n",
              "      background-color: #434B5C;\n",
              "      box-shadow: 0px 1px 3px 1px rgba(0, 0, 0, 0.15);\n",
              "      filter: drop-shadow(0px 1px 2px rgba(0, 0, 0, 0.3));\n",
              "      fill: #FFFFFF;\n",
              "    }\n",
              "  </style>\n",
              "\n",
              "    <script>\n",
              "      const buttonEl =\n",
              "        document.querySelector('#df-1fba5f4a-d6e8-4a4e-8956-0343fa552e3a button.colab-df-convert');\n",
              "      buttonEl.style.display =\n",
              "        google.colab.kernel.accessAllowed ? 'block' : 'none';\n",
              "\n",
              "      async function convertToInteractive(key) {\n",
              "        const element = document.querySelector('#df-1fba5f4a-d6e8-4a4e-8956-0343fa552e3a');\n",
              "        const dataTable =\n",
              "          await google.colab.kernel.invokeFunction('convertToInteractive',\n",
              "                                                    [key], {});\n",
              "        if (!dataTable) return;\n",
              "\n",
              "        const docLinkHtml = 'Like what you see? Visit the ' +\n",
              "          '<a target=\"_blank\" href=https://colab.research.google.com/notebooks/data_table.ipynb>data table notebook</a>'\n",
              "          + ' to learn more about interactive tables.';\n",
              "        element.innerHTML = '';\n",
              "        dataTable['output_type'] = 'display_data';\n",
              "        await google.colab.output.renderOutput(dataTable, element);\n",
              "        const docLink = document.createElement('div');\n",
              "        docLink.innerHTML = docLinkHtml;\n",
              "        element.appendChild(docLink);\n",
              "      }\n",
              "    </script>\n",
              "  </div>\n",
              "\n",
              "\n",
              "<div id=\"df-18e39284-b547-4fb8-b5a4-a3aa50309e78\">\n",
              "  <button class=\"colab-df-quickchart\" onclick=\"quickchart('df-18e39284-b547-4fb8-b5a4-a3aa50309e78')\"\n",
              "            title=\"Suggest charts\"\n",
              "            style=\"display:none;\">\n",
              "\n",
              "<svg xmlns=\"http://www.w3.org/2000/svg\" height=\"24px\"viewBox=\"0 0 24 24\"\n",
              "     width=\"24px\">\n",
              "    <g>\n",
              "        <path d=\"M19 3H5c-1.1 0-2 .9-2 2v14c0 1.1.9 2 2 2h14c1.1 0 2-.9 2-2V5c0-1.1-.9-2-2-2zM9 17H7v-7h2v7zm4 0h-2V7h2v10zm4 0h-2v-4h2v4z\"/>\n",
              "    </g>\n",
              "</svg>\n",
              "  </button>\n",
              "\n",
              "<style>\n",
              "  .colab-df-quickchart {\n",
              "      --bg-color: #E8F0FE;\n",
              "      --fill-color: #1967D2;\n",
              "      --hover-bg-color: #E2EBFA;\n",
              "      --hover-fill-color: #174EA6;\n",
              "      --disabled-fill-color: #AAA;\n",
              "      --disabled-bg-color: #DDD;\n",
              "  }\n",
              "\n",
              "  [theme=dark] .colab-df-quickchart {\n",
              "      --bg-color: #3B4455;\n",
              "      --fill-color: #D2E3FC;\n",
              "      --hover-bg-color: #434B5C;\n",
              "      --hover-fill-color: #FFFFFF;\n",
              "      --disabled-bg-color: #3B4455;\n",
              "      --disabled-fill-color: #666;\n",
              "  }\n",
              "\n",
              "  .colab-df-quickchart {\n",
              "    background-color: var(--bg-color);\n",
              "    border: none;\n",
              "    border-radius: 50%;\n",
              "    cursor: pointer;\n",
              "    display: none;\n",
              "    fill: var(--fill-color);\n",
              "    height: 32px;\n",
              "    padding: 0;\n",
              "    width: 32px;\n",
              "  }\n",
              "\n",
              "  .colab-df-quickchart:hover {\n",
              "    background-color: var(--hover-bg-color);\n",
              "    box-shadow: 0 1px 2px rgba(60, 64, 67, 0.3), 0 1px 3px 1px rgba(60, 64, 67, 0.15);\n",
              "    fill: var(--button-hover-fill-color);\n",
              "  }\n",
              "\n",
              "  .colab-df-quickchart-complete:disabled,\n",
              "  .colab-df-quickchart-complete:disabled:hover {\n",
              "    background-color: var(--disabled-bg-color);\n",
              "    fill: var(--disabled-fill-color);\n",
              "    box-shadow: none;\n",
              "  }\n",
              "\n",
              "  .colab-df-spinner {\n",
              "    border: 2px solid var(--fill-color);\n",
              "    border-color: transparent;\n",
              "    border-bottom-color: var(--fill-color);\n",
              "    animation:\n",
              "      spin 1s steps(1) infinite;\n",
              "  }\n",
              "\n",
              "  @keyframes spin {\n",
              "    0% {\n",
              "      border-color: transparent;\n",
              "      border-bottom-color: var(--fill-color);\n",
              "      border-left-color: var(--fill-color);\n",
              "    }\n",
              "    20% {\n",
              "      border-color: transparent;\n",
              "      border-left-color: var(--fill-color);\n",
              "      border-top-color: var(--fill-color);\n",
              "    }\n",
              "    30% {\n",
              "      border-color: transparent;\n",
              "      border-left-color: var(--fill-color);\n",
              "      border-top-color: var(--fill-color);\n",
              "      border-right-color: var(--fill-color);\n",
              "    }\n",
              "    40% {\n",
              "      border-color: transparent;\n",
              "      border-right-color: var(--fill-color);\n",
              "      border-top-color: var(--fill-color);\n",
              "    }\n",
              "    60% {\n",
              "      border-color: transparent;\n",
              "      border-right-color: var(--fill-color);\n",
              "    }\n",
              "    80% {\n",
              "      border-color: transparent;\n",
              "      border-right-color: var(--fill-color);\n",
              "      border-bottom-color: var(--fill-color);\n",
              "    }\n",
              "    90% {\n",
              "      border-color: transparent;\n",
              "      border-bottom-color: var(--fill-color);\n",
              "    }\n",
              "  }\n",
              "</style>\n",
              "\n",
              "  <script>\n",
              "    async function quickchart(key) {\n",
              "      const quickchartButtonEl =\n",
              "        document.querySelector('#' + key + ' button');\n",
              "      quickchartButtonEl.disabled = true;  // To prevent multiple clicks.\n",
              "      quickchartButtonEl.classList.add('colab-df-spinner');\n",
              "      try {\n",
              "        const charts = await google.colab.kernel.invokeFunction(\n",
              "            'suggestCharts', [key], {});\n",
              "      } catch (error) {\n",
              "        console.error('Error during call to suggestCharts:', error);\n",
              "      }\n",
              "      quickchartButtonEl.classList.remove('colab-df-spinner');\n",
              "      quickchartButtonEl.classList.add('colab-df-quickchart-complete');\n",
              "    }\n",
              "    (() => {\n",
              "      let quickchartButtonEl =\n",
              "        document.querySelector('#df-18e39284-b547-4fb8-b5a4-a3aa50309e78 button');\n",
              "      quickchartButtonEl.style.display =\n",
              "        google.colab.kernel.accessAllowed ? 'block' : 'none';\n",
              "    })();\n",
              "  </script>\n",
              "</div>\n",
              "\n",
              "    </div>\n",
              "  </div>\n"
            ],
            "application/vnd.google.colaboratory.intrinsic+json": {
              "type": "dataframe",
              "variable_name": "customer_product_orders",
              "summary": "{\n  \"name\": \"customer_product_orders\",\n  \"rows\": 218,\n  \"fields\": [\n    {\n      \"column\": \"_id_x\",\n      \"properties\": {\n        \"dtype\": \"object\",\n        \"semantic_type\": \"\",\n        \"description\": \"\"\n      }\n    },\n    {\n      \"column\": \"customerid\",\n      \"properties\": {\n        \"dtype\": \"number\",\n        \"std\": 28,\n        \"min\": 1,\n        \"max\": 100,\n        \"num_unique_values\": 100,\n        \"samples\": [\n          84,\n          54,\n          71\n        ],\n        \"semantic_type\": \"\",\n        \"description\": \"\"\n      }\n    },\n    {\n      \"column\": \"name\",\n      \"properties\": {\n        \"dtype\": \"category\",\n        \"num_unique_values\": 99,\n        \"samples\": [\n          \"Darryl Lee\",\n          \"Dean Hawkins\",\n          \"Jacqueline Clements\"\n        ],\n        \"semantic_type\": \"\",\n        \"description\": \"\"\n      }\n    },\n    {\n      \"column\": \"email\",\n      \"properties\": {\n        \"dtype\": \"category\",\n        \"num_unique_values\": 100,\n        \"samples\": [\n          \"khicks@example.net\",\n          \"marcia57@example.net\",\n          \"benjamin02@example.com\"\n        ],\n        \"semantic_type\": \"\",\n        \"description\": \"\"\n      }\n    },\n    {\n      \"column\": \"phone\",\n      \"properties\": {\n        \"dtype\": \"object\",\n        \"semantic_type\": \"\",\n        \"description\": \"\"\n      }\n    },\n    {\n      \"column\": \"productid\",\n      \"properties\": {\n        \"dtype\": \"number\",\n        \"std\": 2.8175759216767284,\n        \"min\": 1.0,\n        \"max\": 10.0,\n        \"num_unique_values\": 10,\n        \"samples\": [\n          6.0,\n          8.0,\n          5.0\n        ],\n        \"semantic_type\": \"\",\n        \"description\": \"\"\n      }\n    },\n    {\n      \"column\": \"units\",\n      \"properties\": {\n        \"dtype\": \"number\",\n        \"std\": 199.15362012250262,\n        \"min\": 10.0,\n        \"max\": 980.0,\n        \"num_unique_values\": 108,\n        \"samples\": [\n          65.0,\n          330.0,\n          92.0\n        ],\n        \"semantic_type\": \"\",\n        \"description\": \"\"\n      }\n    },\n    {\n      \"column\": \"purchase_date\",\n      \"properties\": {\n        \"dtype\": \"object\",\n        \"semantic_type\": \"\",\n        \"description\": \"\"\n      }\n    },\n    {\n      \"column\": 0,\n      \"properties\": {\n        \"dtype\": \"number\",\n        \"std\": null,\n        \"min\": null,\n        \"max\": null,\n        \"num_unique_values\": 0,\n        \"samples\": [],\n        \"semantic_type\": \"\",\n        \"description\": \"\"\n      }\n    },\n    {\n      \"column\": \"_id_y\",\n      \"properties\": {\n        \"dtype\": \"object\",\n        \"semantic_type\": \"\",\n        \"description\": \"\"\n      }\n    },\n    {\n      \"column\": \"category\",\n      \"properties\": {\n        \"dtype\": \"category\",\n        \"num_unique_values\": 4,\n        \"samples\": [],\n        \"semantic_type\": \"\",\n        \"description\": \"\"\n      }\n    },\n    {\n      \"column\": \"price\",\n      \"properties\": {\n        \"dtype\": \"number\",\n        \"std\": 21.290871353343434,\n        \"min\": 3.0,\n        \"max\": 69.0,\n        \"num_unique_values\": 10,\n        \"samples\": [],\n        \"semantic_type\": \"\",\n        \"description\": \"\"\n      }\n    }\n  ]\n}"
            }
          },
          "metadata": {},
          "execution_count": 69
        }
      ]
    },
    {
      "cell_type": "code",
      "source": [
        "customer_product_orders['total_sales'] = customer_product_orders['price'] * customer_product_orders['units']"
      ],
      "metadata": {
        "id": "Be_SiSBTXFgn"
      },
      "execution_count": 70,
      "outputs": []
    },
    {
      "cell_type": "code",
      "source": [
        "customer_product_orders.groupby(by='category').agg({'total_sales': 'sum'}).sort_values(by='total_sales', ascending=False)"
      ],
      "metadata": {
        "id": "Tiv4-_08KqmP",
        "colab": {
          "base_uri": "https://localhost:8080/",
          "height": 206
        },
        "outputId": "304d42a2-e6e5-4256-f1bd-1c72f5dcc306"
      },
      "execution_count": 71,
      "outputs": [
        {
          "output_type": "execute_result",
          "data": {
            "text/plain": [
              "             total_sales\n",
              "category                \n",
              "Home            384581.0\n",
              "Electronics     253046.0\n",
              "Books           167046.0\n",
              "Clothing         62686.0"
            ],
            "text/html": [
              "\n",
              "  <div id=\"df-507f1e10-b862-4a32-93e8-ec12c1b03942\" class=\"colab-df-container\">\n",
              "    <div>\n",
              "<style scoped>\n",
              "    .dataframe tbody tr th:only-of-type {\n",
              "        vertical-align: middle;\n",
              "    }\n",
              "\n",
              "    .dataframe tbody tr th {\n",
              "        vertical-align: top;\n",
              "    }\n",
              "\n",
              "    .dataframe thead th {\n",
              "        text-align: right;\n",
              "    }\n",
              "</style>\n",
              "<table border=\"1\" class=\"dataframe\">\n",
              "  <thead>\n",
              "    <tr style=\"text-align: right;\">\n",
              "      <th></th>\n",
              "      <th>total_sales</th>\n",
              "    </tr>\n",
              "    <tr>\n",
              "      <th>category</th>\n",
              "      <th></th>\n",
              "    </tr>\n",
              "  </thead>\n",
              "  <tbody>\n",
              "    <tr>\n",
              "      <th>Home</th>\n",
              "      <td>384581.0</td>\n",
              "    </tr>\n",
              "    <tr>\n",
              "      <th>Electronics</th>\n",
              "      <td>253046.0</td>\n",
              "    </tr>\n",
              "    <tr>\n",
              "      <th>Books</th>\n",
              "      <td>167046.0</td>\n",
              "    </tr>\n",
              "    <tr>\n",
              "      <th>Clothing</th>\n",
              "      <td>62686.0</td>\n",
              "    </tr>\n",
              "  </tbody>\n",
              "</table>\n",
              "</div>\n",
              "    <div class=\"colab-df-buttons\">\n",
              "\n",
              "  <div class=\"colab-df-container\">\n",
              "    <button class=\"colab-df-convert\" onclick=\"convertToInteractive('df-507f1e10-b862-4a32-93e8-ec12c1b03942')\"\n",
              "            title=\"Convert this dataframe to an interactive table.\"\n",
              "            style=\"display:none;\">\n",
              "\n",
              "  <svg xmlns=\"http://www.w3.org/2000/svg\" height=\"24px\" viewBox=\"0 -960 960 960\">\n",
              "    <path d=\"M120-120v-720h720v720H120Zm60-500h600v-160H180v160Zm220 220h160v-160H400v160Zm0 220h160v-160H400v160ZM180-400h160v-160H180v160Zm440 0h160v-160H620v160ZM180-180h160v-160H180v160Zm440 0h160v-160H620v160Z\"/>\n",
              "  </svg>\n",
              "    </button>\n",
              "\n",
              "  <style>\n",
              "    .colab-df-container {\n",
              "      display:flex;\n",
              "      gap: 12px;\n",
              "    }\n",
              "\n",
              "    .colab-df-convert {\n",
              "      background-color: #E8F0FE;\n",
              "      border: none;\n",
              "      border-radius: 50%;\n",
              "      cursor: pointer;\n",
              "      display: none;\n",
              "      fill: #1967D2;\n",
              "      height: 32px;\n",
              "      padding: 0 0 0 0;\n",
              "      width: 32px;\n",
              "    }\n",
              "\n",
              "    .colab-df-convert:hover {\n",
              "      background-color: #E2EBFA;\n",
              "      box-shadow: 0px 1px 2px rgba(60, 64, 67, 0.3), 0px 1px 3px 1px rgba(60, 64, 67, 0.15);\n",
              "      fill: #174EA6;\n",
              "    }\n",
              "\n",
              "    .colab-df-buttons div {\n",
              "      margin-bottom: 4px;\n",
              "    }\n",
              "\n",
              "    [theme=dark] .colab-df-convert {\n",
              "      background-color: #3B4455;\n",
              "      fill: #D2E3FC;\n",
              "    }\n",
              "\n",
              "    [theme=dark] .colab-df-convert:hover {\n",
              "      background-color: #434B5C;\n",
              "      box-shadow: 0px 1px 3px 1px rgba(0, 0, 0, 0.15);\n",
              "      filter: drop-shadow(0px 1px 2px rgba(0, 0, 0, 0.3));\n",
              "      fill: #FFFFFF;\n",
              "    }\n",
              "  </style>\n",
              "\n",
              "    <script>\n",
              "      const buttonEl =\n",
              "        document.querySelector('#df-507f1e10-b862-4a32-93e8-ec12c1b03942 button.colab-df-convert');\n",
              "      buttonEl.style.display =\n",
              "        google.colab.kernel.accessAllowed ? 'block' : 'none';\n",
              "\n",
              "      async function convertToInteractive(key) {\n",
              "        const element = document.querySelector('#df-507f1e10-b862-4a32-93e8-ec12c1b03942');\n",
              "        const dataTable =\n",
              "          await google.colab.kernel.invokeFunction('convertToInteractive',\n",
              "                                                    [key], {});\n",
              "        if (!dataTable) return;\n",
              "\n",
              "        const docLinkHtml = 'Like what you see? Visit the ' +\n",
              "          '<a target=\"_blank\" href=https://colab.research.google.com/notebooks/data_table.ipynb>data table notebook</a>'\n",
              "          + ' to learn more about interactive tables.';\n",
              "        element.innerHTML = '';\n",
              "        dataTable['output_type'] = 'display_data';\n",
              "        await google.colab.output.renderOutput(dataTable, element);\n",
              "        const docLink = document.createElement('div');\n",
              "        docLink.innerHTML = docLinkHtml;\n",
              "        element.appendChild(docLink);\n",
              "      }\n",
              "    </script>\n",
              "  </div>\n",
              "\n",
              "\n",
              "<div id=\"df-57eced47-0a4f-44d3-b881-31f8127fecb8\">\n",
              "  <button class=\"colab-df-quickchart\" onclick=\"quickchart('df-57eced47-0a4f-44d3-b881-31f8127fecb8')\"\n",
              "            title=\"Suggest charts\"\n",
              "            style=\"display:none;\">\n",
              "\n",
              "<svg xmlns=\"http://www.w3.org/2000/svg\" height=\"24px\"viewBox=\"0 0 24 24\"\n",
              "     width=\"24px\">\n",
              "    <g>\n",
              "        <path d=\"M19 3H5c-1.1 0-2 .9-2 2v14c0 1.1.9 2 2 2h14c1.1 0 2-.9 2-2V5c0-1.1-.9-2-2-2zM9 17H7v-7h2v7zm4 0h-2V7h2v10zm4 0h-2v-4h2v4z\"/>\n",
              "    </g>\n",
              "</svg>\n",
              "  </button>\n",
              "\n",
              "<style>\n",
              "  .colab-df-quickchart {\n",
              "      --bg-color: #E8F0FE;\n",
              "      --fill-color: #1967D2;\n",
              "      --hover-bg-color: #E2EBFA;\n",
              "      --hover-fill-color: #174EA6;\n",
              "      --disabled-fill-color: #AAA;\n",
              "      --disabled-bg-color: #DDD;\n",
              "  }\n",
              "\n",
              "  [theme=dark] .colab-df-quickchart {\n",
              "      --bg-color: #3B4455;\n",
              "      --fill-color: #D2E3FC;\n",
              "      --hover-bg-color: #434B5C;\n",
              "      --hover-fill-color: #FFFFFF;\n",
              "      --disabled-bg-color: #3B4455;\n",
              "      --disabled-fill-color: #666;\n",
              "  }\n",
              "\n",
              "  .colab-df-quickchart {\n",
              "    background-color: var(--bg-color);\n",
              "    border: none;\n",
              "    border-radius: 50%;\n",
              "    cursor: pointer;\n",
              "    display: none;\n",
              "    fill: var(--fill-color);\n",
              "    height: 32px;\n",
              "    padding: 0;\n",
              "    width: 32px;\n",
              "  }\n",
              "\n",
              "  .colab-df-quickchart:hover {\n",
              "    background-color: var(--hover-bg-color);\n",
              "    box-shadow: 0 1px 2px rgba(60, 64, 67, 0.3), 0 1px 3px 1px rgba(60, 64, 67, 0.15);\n",
              "    fill: var(--button-hover-fill-color);\n",
              "  }\n",
              "\n",
              "  .colab-df-quickchart-complete:disabled,\n",
              "  .colab-df-quickchart-complete:disabled:hover {\n",
              "    background-color: var(--disabled-bg-color);\n",
              "    fill: var(--disabled-fill-color);\n",
              "    box-shadow: none;\n",
              "  }\n",
              "\n",
              "  .colab-df-spinner {\n",
              "    border: 2px solid var(--fill-color);\n",
              "    border-color: transparent;\n",
              "    border-bottom-color: var(--fill-color);\n",
              "    animation:\n",
              "      spin 1s steps(1) infinite;\n",
              "  }\n",
              "\n",
              "  @keyframes spin {\n",
              "    0% {\n",
              "      border-color: transparent;\n",
              "      border-bottom-color: var(--fill-color);\n",
              "      border-left-color: var(--fill-color);\n",
              "    }\n",
              "    20% {\n",
              "      border-color: transparent;\n",
              "      border-left-color: var(--fill-color);\n",
              "      border-top-color: var(--fill-color);\n",
              "    }\n",
              "    30% {\n",
              "      border-color: transparent;\n",
              "      border-left-color: var(--fill-color);\n",
              "      border-top-color: var(--fill-color);\n",
              "      border-right-color: var(--fill-color);\n",
              "    }\n",
              "    40% {\n",
              "      border-color: transparent;\n",
              "      border-right-color: var(--fill-color);\n",
              "      border-top-color: var(--fill-color);\n",
              "    }\n",
              "    60% {\n",
              "      border-color: transparent;\n",
              "      border-right-color: var(--fill-color);\n",
              "    }\n",
              "    80% {\n",
              "      border-color: transparent;\n",
              "      border-right-color: var(--fill-color);\n",
              "      border-bottom-color: var(--fill-color);\n",
              "    }\n",
              "    90% {\n",
              "      border-color: transparent;\n",
              "      border-bottom-color: var(--fill-color);\n",
              "    }\n",
              "  }\n",
              "</style>\n",
              "\n",
              "  <script>\n",
              "    async function quickchart(key) {\n",
              "      const quickchartButtonEl =\n",
              "        document.querySelector('#' + key + ' button');\n",
              "      quickchartButtonEl.disabled = true;  // To prevent multiple clicks.\n",
              "      quickchartButtonEl.classList.add('colab-df-spinner');\n",
              "      try {\n",
              "        const charts = await google.colab.kernel.invokeFunction(\n",
              "            'suggestCharts', [key], {});\n",
              "      } catch (error) {\n",
              "        console.error('Error during call to suggestCharts:', error);\n",
              "      }\n",
              "      quickchartButtonEl.classList.remove('colab-df-spinner');\n",
              "      quickchartButtonEl.classList.add('colab-df-quickchart-complete');\n",
              "    }\n",
              "    (() => {\n",
              "      let quickchartButtonEl =\n",
              "        document.querySelector('#df-57eced47-0a4f-44d3-b881-31f8127fecb8 button');\n",
              "      quickchartButtonEl.style.display =\n",
              "        google.colab.kernel.accessAllowed ? 'block' : 'none';\n",
              "    })();\n",
              "  </script>\n",
              "</div>\n",
              "\n",
              "    </div>\n",
              "  </div>\n"
            ],
            "application/vnd.google.colaboratory.intrinsic+json": {
              "type": "dataframe",
              "summary": "{\n  \"name\": \"customer_product_orders\",\n  \"rows\": 4,\n  \"fields\": [\n    {\n      \"column\": \"category\",\n      \"properties\": {\n        \"dtype\": \"string\",\n        \"num_unique_values\": 4,\n        \"samples\": [\n          \"Electronics\",\n          \"Clothing\",\n          \"Home\"\n        ],\n        \"semantic_type\": \"\",\n        \"description\": \"\"\n      }\n    },\n    {\n      \"column\": \"total_sales\",\n      \"properties\": {\n        \"dtype\": \"number\",\n        \"std\": 136248.32190862633,\n        \"min\": 62686.0,\n        \"max\": 384581.0,\n        \"num_unique_values\": 4,\n        \"samples\": [\n          253046.0,\n          62686.0,\n          384581.0\n        ],\n        \"semantic_type\": \"\",\n        \"description\": \"\"\n      }\n    }\n  ]\n}"
            }
          },
          "metadata": {},
          "execution_count": 71
        }
      ]
    },
    {
      "cell_type": "code",
      "source": [],
      "metadata": {
        "id": "geZdtLyHKs_B"
      },
      "execution_count": 71,
      "outputs": []
    },
    {
      "cell_type": "markdown",
      "source": [
        "How to unzip a zip file."
      ],
      "metadata": {
        "id": "ywPAs55233d3"
      }
    },
    {
      "cell_type": "code",
      "source": [
        "!wget -O patient_records.zip https://github.com/matthewpecsok/data_engineering/raw/main/data/patient_records.zip"
      ],
      "metadata": {
        "colab": {
          "base_uri": "https://localhost:8080/"
        },
        "id": "2ZpYV9IT362N",
        "outputId": "2b212bbd-5ddd-4bf3-948c-b854865cf49c"
      },
      "execution_count": 72,
      "outputs": [
        {
          "output_type": "stream",
          "name": "stdout",
          "text": [
            "--2024-04-02 22:49:21--  https://github.com/matthewpecsok/data_engineering/raw/main/data/patient_records.zip\n",
            "Resolving github.com (github.com)... 140.82.114.4\n",
            "Connecting to github.com (github.com)|140.82.114.4|:443... connected.\n",
            "HTTP request sent, awaiting response... 302 Found\n",
            "Location: https://raw.githubusercontent.com/matthewpecsok/data_engineering/main/data/patient_records.zip [following]\n",
            "--2024-04-02 22:49:22--  https://raw.githubusercontent.com/matthewpecsok/data_engineering/main/data/patient_records.zip\n",
            "Resolving raw.githubusercontent.com (raw.githubusercontent.com)... 185.199.111.133, 185.199.109.133, 185.199.108.133, ...\n",
            "Connecting to raw.githubusercontent.com (raw.githubusercontent.com)|185.199.111.133|:443... connected.\n",
            "HTTP request sent, awaiting response... 200 OK\n",
            "Length: 25417183 (24M) [application/zip]\n",
            "Saving to: ‘patient_records.zip’\n",
            "\n",
            "patient_records.zip 100%[===================>]  24.24M   108MB/s    in 0.2s    \n",
            "\n",
            "2024-04-02 22:49:22 (108 MB/s) - ‘patient_records.zip’ saved [25417183/25417183]\n",
            "\n"
          ]
        }
      ]
    },
    {
      "cell_type": "code",
      "source": [
        "!ls -l"
      ],
      "metadata": {
        "colab": {
          "base_uri": "https://localhost:8080/"
        },
        "id": "ynsWesjp3-EQ",
        "outputId": "32960480-b182-41f4-ab5e-fec44a883327"
      },
      "execution_count": 73,
      "outputs": [
        {
          "output_type": "stream",
          "name": "stdout",
          "text": [
            "total 194752\n",
            "-rw-r--r-- 1 root root    37420 Apr  2 22:49 customers.json\n",
            "-rw-r--r-- 1 root root 11673600 Apr  2 22:14 medication_database.db\n",
            "-rw-r--r-- 1 root root 16002564 Feb  8 01:24 patient_records_batch_10.json\n",
            "-rw-r--r-- 1 root root 16183594 Feb  8 01:22 patient_records_batch_1.json\n",
            "-rw-r--r-- 1 root root 16257996 Feb  8 01:22 patient_records_batch_2.json\n",
            "-rw-r--r-- 1 root root 16138041 Feb  8 01:22 patient_records_batch_3.json\n",
            "-rw-r--r-- 1 root root 16157479 Feb  8 01:22 patient_records_batch_4.json\n",
            "-rw-r--r-- 1 root root 16309649 Feb  8 01:23 patient_records_batch_5.json\n",
            "-rw-r--r-- 1 root root 16271092 Feb  8 01:23 patient_records_batch_6.json\n",
            "-rw-r--r-- 1 root root 16186389 Feb  8 01:23 patient_records_batch_7.json\n",
            "-rw-r--r-- 1 root root 16367684 Feb  8 01:23 patient_records_batch_8.json\n",
            "-rw-r--r-- 1 root root 16389066 Feb  8 01:23 patient_records_batch_9.json\n",
            "-rw-r--r-- 1 root root 25417183 Apr  2 22:49 patient_records.zip\n",
            "-rw-r--r-- 1 root root      986 Apr  2 22:49 products.json\n",
            "drwxr-xr-x 1 root root     4096 Apr  1 13:24 sample_data\n"
          ]
        }
      ]
    },
    {
      "cell_type": "code",
      "source": [
        "!unzip patient_records.zip"
      ],
      "metadata": {
        "colab": {
          "base_uri": "https://localhost:8080/"
        },
        "id": "IHwqUhn44BVH",
        "outputId": "eaa0b181-af84-4e0f-fea2-57d0b2fb947e"
      },
      "execution_count": null,
      "outputs": [
        {
          "output_type": "stream",
          "name": "stdout",
          "text": [
            "Archive:  patient_records.zip\n",
            "replace patient_records_batch_7.json? [y]es, [n]o, [A]ll, [N]one, [r]ename: "
          ]
        }
      ]
    },
    {
      "cell_type": "code",
      "source": [
        "!wget -O medication_database.db https://github.com/matthewpecsok/data_engineering/raw/main/data/medication_database.db"
      ],
      "metadata": {
        "id": "WXOFm15_4DU8"
      },
      "execution_count": null,
      "outputs": []
    },
    {
      "cell_type": "code",
      "source": [
        "import sqlite3\n",
        "import pandas as pd"
      ],
      "metadata": {
        "id": "ZsFB1UAe4P6P"
      },
      "execution_count": null,
      "outputs": []
    },
    {
      "cell_type": "code",
      "source": [],
      "metadata": {
        "id": "imvlEhF64mfO"
      },
      "execution_count": null,
      "outputs": []
    },
    {
      "cell_type": "code",
      "source": [
        "medication_con = sqlite3.connect('medication_database.db')\n",
        "\n",
        "pd.read_sql_query('SELECT * FROM sqlite_master', medication_con)"
      ],
      "metadata": {
        "id": "3MlZiZul4SUO"
      },
      "execution_count": null,
      "outputs": []
    },
    {
      "cell_type": "code",
      "source": [
        "pd.read_sql_query('SELECT * FROM medications', medication_con)"
      ],
      "metadata": {
        "id": "dA3SGeHK4aKN"
      },
      "execution_count": null,
      "outputs": []
    },
    {
      "cell_type": "code",
      "source": [
        "import json"
      ],
      "metadata": {
        "id": "YFVYF1S_482K"
      },
      "execution_count": null,
      "outputs": []
    },
    {
      "cell_type": "code",
      "source": [
        "patients_1_batch = json.load(open('patient_records_batch_1.json'))"
      ],
      "metadata": {
        "id": "QS-l7bNP5Z4k"
      },
      "execution_count": null,
      "outputs": []
    },
    {
      "cell_type": "code",
      "source": [
        "len(patients_1_batch)"
      ],
      "metadata": {
        "id": "wU-mskid5au-"
      },
      "execution_count": null,
      "outputs": []
    },
    {
      "cell_type": "code",
      "source": [
        "patients_1_batch[0:20]"
      ],
      "metadata": {
        "id": "7AOWpSzN4juY"
      },
      "execution_count": null,
      "outputs": []
    },
    {
      "cell_type": "code",
      "source": [],
      "metadata": {
        "id": "XU5sdy245Bvw"
      },
      "execution_count": null,
      "outputs": []
    }
  ]
}