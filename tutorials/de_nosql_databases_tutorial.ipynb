{
  "nbformat": 4,
  "nbformat_minor": 0,
  "metadata": {
    "colab": {
      "provenance": [],
      "authorship_tag": "ABX9TyPo9oMRVPRNjig9pKqR2l3Y",
      "include_colab_link": true
    },
    "kernelspec": {
      "name": "python3",
      "display_name": "Python 3"
    },
    "language_info": {
      "name": "python"
    }
  },
  "cells": [
    {
      "cell_type": "markdown",
      "metadata": {
        "id": "view-in-github",
        "colab_type": "text"
      },
      "source": [
        "<a href=\"https://colab.research.google.com/github/matthewpecsok/data_engineering/blob/main/tutorials/de_nosql_databases_tutorial.ipynb\" target=\"_parent\"><img src=\"https://colab.research.google.com/assets/colab-badge.svg\" alt=\"Open In Colab\"/></a>"
      ]
    },
    {
      "cell_type": "markdown",
      "source": [
        "This tutorial will introduce you to  MongoDB a document database. MongoDB deals in data that is effictively a dictionary in Python or JSON data if it's a file. This document-oriented database is very different from the relational database designs we've seen thus far. We'll learn how to populate the database with data, how to query the database for documents we'd like to find, how to extract data for data engineering purposes."
      ],
      "metadata": {
        "id": "J76X04zOiK61"
      }
    },
    {
      "cell_type": "code",
      "source": [
        "!pip install faker\n",
        "!pip install pymongo"
      ],
      "metadata": {
        "colab": {
          "base_uri": "https://localhost:8080/"
        },
        "id": "IlImf-IoL61o",
        "outputId": "9ba36896-3448-4cbb-a0f2-205aa9e99ae1"
      },
      "execution_count": 1,
      "outputs": [
        {
          "output_type": "stream",
          "name": "stdout",
          "text": [
            "Collecting faker\n",
            "  Downloading Faker-22.2.0-py3-none-any.whl (1.7 MB)\n",
            "\u001b[2K     \u001b[90m━━━━━━━━━━━━━━━━━━━━━━━━━━━━━━━━━━━━━━━━\u001b[0m \u001b[32m1.7/1.7 MB\u001b[0m \u001b[31m13.8 MB/s\u001b[0m eta \u001b[36m0:00:00\u001b[0m\n",
            "\u001b[?25hRequirement already satisfied: python-dateutil>=2.4 in /usr/local/lib/python3.10/dist-packages (from faker) (2.8.2)\n",
            "Requirement already satisfied: six>=1.5 in /usr/local/lib/python3.10/dist-packages (from python-dateutil>=2.4->faker) (1.16.0)\n",
            "Installing collected packages: faker\n",
            "Successfully installed faker-22.2.0\n",
            "Collecting pymongo\n",
            "  Downloading pymongo-4.6.1-cp310-cp310-manylinux_2_17_x86_64.manylinux2014_x86_64.whl (677 kB)\n",
            "\u001b[2K     \u001b[90m━━━━━━━━━━━━━━━━━━━━━━━━━━━━━━━━━━━━━━━━\u001b[0m \u001b[32m677.1/677.1 kB\u001b[0m \u001b[31m3.9 MB/s\u001b[0m eta \u001b[36m0:00:00\u001b[0m\n",
            "\u001b[?25hCollecting dnspython<3.0.0,>=1.16.0 (from pymongo)\n",
            "  Downloading dnspython-2.4.2-py3-none-any.whl (300 kB)\n",
            "\u001b[2K     \u001b[90m━━━━━━━━━━━━━━━━━━━━━━━━━━━━━━━━━━━━━━━━\u001b[0m \u001b[32m300.4/300.4 kB\u001b[0m \u001b[31m8.6 MB/s\u001b[0m eta \u001b[36m0:00:00\u001b[0m\n",
            "\u001b[?25hInstalling collected packages: dnspython, pymongo\n",
            "Successfully installed dnspython-2.4.2 pymongo-4.6.1\n"
          ]
        }
      ]
    },
    {
      "cell_type": "code",
      "source": [
        "from faker import Faker\n",
        "from pymongo import MongoClient\n",
        "import random\n",
        "import datetime"
      ],
      "metadata": {
        "id": "mkYJ0TjXN1ue"
      },
      "execution_count": 2,
      "outputs": []
    },
    {
      "cell_type": "markdown",
      "source": [
        "# install MongoDB"
      ],
      "metadata": {
        "id": "S573xnvQa4Lw"
      }
    },
    {
      "cell_type": "code",
      "source": [
        "!apt-get install gnupg curl"
      ],
      "metadata": {
        "colab": {
          "base_uri": "https://localhost:8080/"
        },
        "id": "fza_3GJ0CiOw",
        "outputId": "148d2a88-de74-4d78-8a2c-3192be02f104"
      },
      "execution_count": 3,
      "outputs": [
        {
          "output_type": "stream",
          "name": "stdout",
          "text": [
            "Reading package lists... Done\n",
            "Building dependency tree... Done\n",
            "Reading state information... Done\n",
            "curl is already the newest version (7.81.0-1ubuntu1.15).\n",
            "gnupg is already the newest version (2.2.27-3ubuntu2.1).\n",
            "gnupg set to manually installed.\n",
            "0 upgraded, 0 newly installed, 0 to remove and 24 not upgraded.\n"
          ]
        }
      ]
    },
    {
      "cell_type": "code",
      "source": [
        "!curl -fsSL https://pgp.mongodb.com/server-7.0.asc | \\\n",
        "   sudo gpg -o /usr/share/keyrings/mongodb-server-7.0.gpg \\\n",
        "   --dearmor"
      ],
      "metadata": {
        "id": "LbAAWv_uCj_K"
      },
      "execution_count": 4,
      "outputs": []
    },
    {
      "cell_type": "code",
      "source": [
        "!echo \"deb [ arch=amd64,arm64 signed-by=/usr/share/keyrings/mongodb-server-7.0.gpg ] https://repo.mongodb.org/apt/ubuntu jammy/mongodb-org/7.0 multiverse\" | sudo tee /etc/apt/sources.list.d/mongodb-org-7.0.list"
      ],
      "metadata": {
        "colab": {
          "base_uri": "https://localhost:8080/"
        },
        "id": "hyCh0lXTCfVq",
        "outputId": "e1d6b33a-813a-4b0c-bf05-9a542678ee65"
      },
      "execution_count": 5,
      "outputs": [
        {
          "output_type": "stream",
          "name": "stdout",
          "text": [
            "deb [ arch=amd64,arm64 signed-by=/usr/share/keyrings/mongodb-server-7.0.gpg ] https://repo.mongodb.org/apt/ubuntu jammy/mongodb-org/7.0 multiverse\n"
          ]
        }
      ]
    },
    {
      "cell_type": "code",
      "source": [
        "!apt-get update"
      ],
      "metadata": {
        "colab": {
          "base_uri": "https://localhost:8080/"
        },
        "id": "gX-FniUdCmvX",
        "outputId": "44ab61d3-f894-47c5-9238-1e2cd54fe2f9"
      },
      "execution_count": 6,
      "outputs": [
        {
          "output_type": "stream",
          "name": "stdout",
          "text": [
            "\r0% [Working]\r            \rGet:1 https://cloud.r-project.org/bin/linux/ubuntu jammy-cran40/ InRelease [3,626 B]\n",
            "Hit:2 https://developer.download.nvidia.com/compute/cuda/repos/ubuntu2204/x86_64  InRelease\n",
            "Hit:3 http://archive.ubuntu.com/ubuntu jammy InRelease\n",
            "Ign:4 https://repo.mongodb.org/apt/ubuntu jammy/mongodb-org/7.0 InRelease\n",
            "Get:5 http://security.ubuntu.com/ubuntu jammy-security InRelease [110 kB]\n",
            "Get:6 http://archive.ubuntu.com/ubuntu jammy-updates InRelease [119 kB]\n",
            "Get:7 https://repo.mongodb.org/apt/ubuntu jammy/mongodb-org/7.0 Release [2,090 B]\n",
            "Get:8 https://repo.mongodb.org/apt/ubuntu jammy/mongodb-org/7.0 Release.gpg [866 B]\n",
            "Get:9 https://repo.mongodb.org/apt/ubuntu jammy/mongodb-org/7.0/multiverse amd64 Packages [22.9 kB]\n",
            "Hit:10 http://archive.ubuntu.com/ubuntu jammy-backports InRelease\n",
            "Get:11 http://archive.ubuntu.com/ubuntu jammy-updates/main amd64 Packages [1,617 kB]\n",
            "Hit:12 https://ppa.launchpadcontent.net/c2d4u.team/c2d4u4.0+/ubuntu jammy InRelease\n",
            "Get:13 https://repo.mongodb.org/apt/ubuntu jammy/mongodb-org/7.0/multiverse arm64 Packages [21.9 kB]\n",
            "Hit:14 https://ppa.launchpadcontent.net/deadsnakes/ppa/ubuntu jammy InRelease\n",
            "Hit:15 https://ppa.launchpadcontent.net/graphics-drivers/ppa/ubuntu jammy InRelease\n",
            "Hit:16 https://ppa.launchpadcontent.net/ubuntugis/ppa/ubuntu jammy InRelease\n",
            "Get:17 http://archive.ubuntu.com/ubuntu jammy-updates/universe amd64 Packages [1,309 kB]\n",
            "Fetched 3,207 kB in 3s (1,131 kB/s)\n",
            "Reading package lists... Done\n"
          ]
        }
      ]
    },
    {
      "cell_type": "code",
      "source": [
        "!apt-get install -y mongodb-org"
      ],
      "metadata": {
        "colab": {
          "base_uri": "https://localhost:8080/"
        },
        "id": "UT97RBGUCpd-",
        "outputId": "91182e92-591c-4383-8b32-bb4ff74f6af6"
      },
      "execution_count": 7,
      "outputs": [
        {
          "output_type": "stream",
          "name": "stdout",
          "text": [
            "Reading package lists... Done\n",
            "Building dependency tree... Done\n",
            "Reading state information... Done\n",
            "The following additional packages will be installed:\n",
            "  mongodb-database-tools mongodb-mongosh mongodb-org-database mongodb-org-database-tools-extra\n",
            "  mongodb-org-mongos mongodb-org-server mongodb-org-shell mongodb-org-tools\n",
            "The following NEW packages will be installed:\n",
            "  mongodb-database-tools mongodb-mongosh mongodb-org mongodb-org-database\n",
            "  mongodb-org-database-tools-extra mongodb-org-mongos mongodb-org-server mongodb-org-shell\n",
            "  mongodb-org-tools\n",
            "0 upgraded, 9 newly installed, 0 to remove and 24 not upgraded.\n",
            "Need to get 162 MB of archives.\n",
            "After this operation, 530 MB of additional disk space will be used.\n",
            "Get:1 https://repo.mongodb.org/apt/ubuntu jammy/mongodb-org/7.0/multiverse amd64 mongodb-database-tools amd64 100.9.4 [51.9 MB]\n",
            "Get:2 https://repo.mongodb.org/apt/ubuntu jammy/mongodb-org/7.0/multiverse amd64 mongodb-mongosh amd64 2.1.1 [47.9 MB]\n",
            "Get:3 https://repo.mongodb.org/apt/ubuntu jammy/mongodb-org/7.0/multiverse amd64 mongodb-org-shell amd64 7.0.5 [2,982 B]\n",
            "Get:4 https://repo.mongodb.org/apt/ubuntu jammy/mongodb-org/7.0/multiverse amd64 mongodb-org-server amd64 7.0.5 [36.5 MB]\n",
            "Get:5 https://repo.mongodb.org/apt/ubuntu jammy/mongodb-org/7.0/multiverse amd64 mongodb-org-mongos amd64 7.0.5 [25.4 MB]\n",
            "Get:6 https://repo.mongodb.org/apt/ubuntu jammy/mongodb-org/7.0/multiverse amd64 mongodb-org-database-tools-extra amd64 7.0.5 [7,762 B]\n",
            "Get:7 https://repo.mongodb.org/apt/ubuntu jammy/mongodb-org/7.0/multiverse amd64 mongodb-org-database amd64 7.0.5 [3,424 B]\n",
            "Get:8 https://repo.mongodb.org/apt/ubuntu jammy/mongodb-org/7.0/multiverse amd64 mongodb-org-tools amd64 7.0.5 [2,766 B]\n",
            "Get:9 https://repo.mongodb.org/apt/ubuntu jammy/mongodb-org/7.0/multiverse amd64 mongodb-org amd64 7.0.5 [2,800 B]\n",
            "Fetched 162 MB in 11s (15.4 MB/s)\n",
            "Selecting previously unselected package mongodb-database-tools.\n",
            "(Reading database ... 121654 files and directories currently installed.)\n",
            "Preparing to unpack .../0-mongodb-database-tools_100.9.4_amd64.deb ...\n",
            "Unpacking mongodb-database-tools (100.9.4) ...\n",
            "Selecting previously unselected package mongodb-mongosh.\n",
            "Preparing to unpack .../1-mongodb-mongosh_2.1.1_amd64.deb ...\n",
            "Unpacking mongodb-mongosh (2.1.1) ...\n",
            "Selecting previously unselected package mongodb-org-shell.\n",
            "Preparing to unpack .../2-mongodb-org-shell_7.0.5_amd64.deb ...\n",
            "Unpacking mongodb-org-shell (7.0.5) ...\n",
            "Selecting previously unselected package mongodb-org-server.\n",
            "Preparing to unpack .../3-mongodb-org-server_7.0.5_amd64.deb ...\n",
            "Unpacking mongodb-org-server (7.0.5) ...\n",
            "Selecting previously unselected package mongodb-org-mongos.\n",
            "Preparing to unpack .../4-mongodb-org-mongos_7.0.5_amd64.deb ...\n",
            "Unpacking mongodb-org-mongos (7.0.5) ...\n",
            "Selecting previously unselected package mongodb-org-database-tools-extra.\n",
            "Preparing to unpack .../5-mongodb-org-database-tools-extra_7.0.5_amd64.deb ...\n",
            "Unpacking mongodb-org-database-tools-extra (7.0.5) ...\n",
            "Selecting previously unselected package mongodb-org-database.\n",
            "Preparing to unpack .../6-mongodb-org-database_7.0.5_amd64.deb ...\n",
            "Unpacking mongodb-org-database (7.0.5) ...\n",
            "Selecting previously unselected package mongodb-org-tools.\n",
            "Preparing to unpack .../7-mongodb-org-tools_7.0.5_amd64.deb ...\n",
            "Unpacking mongodb-org-tools (7.0.5) ...\n",
            "Selecting previously unselected package mongodb-org.\n",
            "Preparing to unpack .../8-mongodb-org_7.0.5_amd64.deb ...\n",
            "Unpacking mongodb-org (7.0.5) ...\n",
            "Setting up mongodb-mongosh (2.1.1) ...\n",
            "Setting up mongodb-org-server (7.0.5) ...\n",
            "Adding system user `mongodb' (UID 104) ...\n",
            "Adding new user `mongodb' (UID 104) with group `nogroup' ...\n",
            "Not creating home directory `/home/mongodb'.\n",
            "Adding group `mongodb' (GID 107) ...\n",
            "Done.\n",
            "Adding user `mongodb' to group `mongodb' ...\n",
            "Adding user mongodb to group mongodb\n",
            "Done.\n",
            "System has not been booted with systemd as init system (PID 1). Can't operate.\n",
            "Failed to connect to bus: Host is down\n",
            "Setting up mongodb-org-shell (7.0.5) ...\n",
            "Setting up mongodb-database-tools (100.9.4) ...\n",
            "Setting up mongodb-org-mongos (7.0.5) ...\n",
            "Setting up mongodb-org-database-tools-extra (7.0.5) ...\n",
            "Setting up mongodb-org-database (7.0.5) ...\n",
            "Setting up mongodb-org-tools (7.0.5) ...\n",
            "Setting up mongodb-org (7.0.5) ...\n",
            "Processing triggers for man-db (2.10.2-1) ...\n"
          ]
        }
      ]
    },
    {
      "cell_type": "code",
      "source": [
        "!mkdir /data\n",
        "!mkdir /data/db"
      ],
      "metadata": {
        "id": "GwN3RxgzDZ_8"
      },
      "execution_count": 11,
      "outputs": []
    },
    {
      "cell_type": "code",
      "source": [
        "import subprocess\n",
        "subprocess.Popen([\"mongod\"])"
      ],
      "metadata": {
        "colab": {
          "base_uri": "https://localhost:8080/"
        },
        "id": "8pZSN7_bCPdB",
        "outputId": "a78fee9f-5588-4412-fc7d-4107acbf50d9"
      },
      "execution_count": 12,
      "outputs": [
        {
          "output_type": "execute_result",
          "data": {
            "text/plain": [
              "<Popen: returncode: None args: ['mongod']>"
            ]
          },
          "metadata": {},
          "execution_count": 12
        }
      ]
    },
    {
      "cell_type": "code",
      "source": [
        "from pymongo import MongoClient\n",
        "client = MongoClient()\n",
        "client.list_database_names() # ['admin', 'local']"
      ],
      "metadata": {
        "colab": {
          "base_uri": "https://localhost:8080/"
        },
        "id": "E68Zpj-Hyj-O",
        "outputId": "7389b548-1f79-4bae-f022-5c176b94740f"
      },
      "execution_count": 242,
      "outputs": [
        {
          "output_type": "execute_result",
          "data": {
            "text/plain": [
              "['admin', 'cloud_purchase_db', 'config', 'local']"
            ]
          },
          "metadata": {},
          "execution_count": 242
        }
      ]
    },
    {
      "cell_type": "markdown",
      "source": [
        "## create the db\n",
        "\n",
        "name our database"
      ],
      "metadata": {
        "id": "7ZgIUYCCi8GQ"
      }
    },
    {
      "cell_type": "code",
      "source": [
        "db = client['cloud_purchase_db']"
      ],
      "metadata": {
        "id": "38hNStS5xV1A"
      },
      "execution_count": 281,
      "outputs": []
    },
    {
      "cell_type": "markdown",
      "source": [
        "## Set up Collections"
      ],
      "metadata": {
        "id": "pVaWthrNi9Vg"
      }
    },
    {
      "cell_type": "markdown",
      "source": [
        "drop the collections in case they already exist so we don't duplicate data"
      ],
      "metadata": {
        "id": "mkuAVN9UjFPU"
      }
    },
    {
      "cell_type": "code",
      "source": [
        "db.drop_collection('customers')\n",
        "db.drop_collection('products')\n",
        "#db.drop_collection('orders')"
      ],
      "metadata": {
        "colab": {
          "base_uri": "https://localhost:8080/"
        },
        "id": "4-wKPCwxxXkh",
        "outputId": "419f643e-a40b-4f56-ad94-8f2e909c8bf9"
      },
      "execution_count": 282,
      "outputs": [
        {
          "output_type": "execute_result",
          "data": {
            "text/plain": [
              "{'nIndexesWas': 1, 'ns': 'cloud_purchase_db.products', 'ok': 1.0}"
            ]
          },
          "metadata": {},
          "execution_count": 282
        }
      ]
    },
    {
      "cell_type": "markdown",
      "source": [
        "do we have any collections?"
      ],
      "metadata": {
        "id": "XDOGvMNKjI_H"
      }
    },
    {
      "cell_type": "markdown",
      "source": [
        "## list collections"
      ],
      "metadata": {
        "id": "HakKmGYfjLfk"
      }
    },
    {
      "cell_type": "code",
      "source": [
        "db.list_collection_names()"
      ],
      "metadata": {
        "colab": {
          "base_uri": "https://localhost:8080/"
        },
        "id": "tAbWgjJ2Okhh",
        "outputId": "2b4b69da-3a08-406b-beeb-e87238c27de2"
      },
      "execution_count": 283,
      "outputs": [
        {
          "output_type": "execute_result",
          "data": {
            "text/plain": [
              "[]"
            ]
          },
          "metadata": {},
          "execution_count": 283
        }
      ]
    },
    {
      "cell_type": "code",
      "source": [
        "# Create Faker instance\n",
        "fake = Faker()"
      ],
      "metadata": {
        "id": "Zu7bYyF5jPry"
      },
      "execution_count": 284,
      "outputs": []
    },
    {
      "cell_type": "markdown",
      "source": [
        "# Create the data"
      ],
      "metadata": {
        "id": "8Xl4MJ7zbqxw"
      }
    },
    {
      "cell_type": "markdown",
      "source": [
        "## create customer data"
      ],
      "metadata": {
        "id": "zXu6lgeCbzk_"
      }
    },
    {
      "cell_type": "code",
      "source": [
        "# Generate customer orders\n",
        "def gen_orders():\n",
        "\n",
        "  orders = []\n",
        "  for i in range(1,random.randint(1, 5)):\n",
        "\n",
        "      productid = random.randint(1, 10)\n",
        "      units = random.randint(10, 100)\n",
        "      if random.random() < 0.1:\n",
        "          units *= 10\n",
        "      purchase_date = fake.date_between(start_date='-1y', end_date='today')\n",
        "      purchase_date = datetime.datetime.combine(purchase_date, datetime.datetime.min.time())\n",
        "\n",
        "      order = {\n",
        "          'productid': productid,\n",
        "          'units': units,\n",
        "          'purchase_date': purchase_date\n",
        "      }\n",
        "\n",
        "      orders.append(order)\n",
        "\n",
        "  return orders"
      ],
      "metadata": {
        "id": "TTdoT6P5j4_o"
      },
      "execution_count": 285,
      "outputs": []
    },
    {
      "cell_type": "code",
      "source": [
        "# Generate customers\n",
        "customers = []\n",
        "for i in range(100):\n",
        "    customer = {\n",
        "        'customerid': i+1,\n",
        "        'name': fake.name(),\n",
        "        'email': fake.email(),\n",
        "        'phone': [fake.phone_number(),fake.phone_number(),fake.phone_number()],\n",
        "        'orders' : gen_orders()\n",
        "    }\n",
        "    customers.append(customer)"
      ],
      "metadata": {
        "id": "YjkdgXx3jT_i"
      },
      "execution_count": 286,
      "outputs": []
    },
    {
      "cell_type": "code",
      "source": [
        "customers[0:3]"
      ],
      "metadata": {
        "colab": {
          "base_uri": "https://localhost:8080/"
        },
        "id": "8fFGvhxqFLHq",
        "outputId": "7beeaf96-520c-4e5b-b1e5-9638db4ade61"
      },
      "execution_count": 287,
      "outputs": [
        {
          "output_type": "execute_result",
          "data": {
            "text/plain": [
              "[{'customerid': 1,\n",
              "  'name': 'Tiffany Curtis',\n",
              "  'email': 'martinezgabriel@example.com',\n",
              "  'phone': ['+1-307-692-0397', '(283)470-1635x784', '299.225.0915x1132'],\n",
              "  'orders': [{'productid': 8,\n",
              "    'units': 55,\n",
              "    'purchase_date': datetime.datetime(2023, 3, 21, 0, 0)},\n",
              "   {'productid': 8,\n",
              "    'units': 37,\n",
              "    'purchase_date': datetime.datetime(2023, 4, 14, 0, 0)},\n",
              "   {'productid': 2,\n",
              "    'units': 26,\n",
              "    'purchase_date': datetime.datetime(2023, 2, 23, 0, 0)},\n",
              "   {'productid': 10,\n",
              "    'units': 46,\n",
              "    'purchase_date': datetime.datetime(2023, 9, 3, 0, 0)}]},\n",
              " {'customerid': 2,\n",
              "  'name': 'Patrick Cameron',\n",
              "  'email': 'rebeccasutton@example.net',\n",
              "  'phone': ['789-276-9551', '558.799.9446x79008', '+1-622-462-1365x24082'],\n",
              "  'orders': [{'productid': 7,\n",
              "    'units': 390,\n",
              "    'purchase_date': datetime.datetime(2023, 10, 15, 0, 0)},\n",
              "   {'productid': 8,\n",
              "    'units': 91,\n",
              "    'purchase_date': datetime.datetime(2023, 2, 12, 0, 0)},\n",
              "   {'productid': 6,\n",
              "    'units': 37,\n",
              "    'purchase_date': datetime.datetime(2023, 7, 21, 0, 0)},\n",
              "   {'productid': 7,\n",
              "    'units': 12,\n",
              "    'purchase_date': datetime.datetime(2024, 1, 10, 0, 0)}]},\n",
              " {'customerid': 3,\n",
              "  'name': 'Wesley Schroeder',\n",
              "  'email': 'alexisgreen@example.org',\n",
              "  'phone': ['239-429-9960x246', '793.805.2356', '001-794-937-5034x553'],\n",
              "  'orders': [{'productid': 1,\n",
              "    'units': 21,\n",
              "    'purchase_date': datetime.datetime(2023, 8, 30, 0, 0)},\n",
              "   {'productid': 10,\n",
              "    'units': 14,\n",
              "    'purchase_date': datetime.datetime(2023, 4, 7, 0, 0)}]}]"
            ]
          },
          "metadata": {},
          "execution_count": 287
        }
      ]
    },
    {
      "cell_type": "code",
      "source": [
        "# Insert customers into MongoDB\n",
        "db.customers.insert_many(customers)"
      ],
      "metadata": {
        "colab": {
          "base_uri": "https://localhost:8080/"
        },
        "id": "y6fmYt1UjVPu",
        "outputId": "1e328236-1a6c-4b34-f30b-0afac070580e"
      },
      "execution_count": 288,
      "outputs": [
        {
          "output_type": "execute_result",
          "data": {
            "text/plain": [
              "InsertManyResult([ObjectId('65a1e3db4de10d2f8cecb604'), ObjectId('65a1e3db4de10d2f8cecb605'), ObjectId('65a1e3db4de10d2f8cecb606'), ObjectId('65a1e3db4de10d2f8cecb607'), ObjectId('65a1e3db4de10d2f8cecb608'), ObjectId('65a1e3db4de10d2f8cecb609'), ObjectId('65a1e3db4de10d2f8cecb60a'), ObjectId('65a1e3db4de10d2f8cecb60b'), ObjectId('65a1e3db4de10d2f8cecb60c'), ObjectId('65a1e3db4de10d2f8cecb60d'), ObjectId('65a1e3db4de10d2f8cecb60e'), ObjectId('65a1e3db4de10d2f8cecb60f'), ObjectId('65a1e3db4de10d2f8cecb610'), ObjectId('65a1e3db4de10d2f8cecb611'), ObjectId('65a1e3db4de10d2f8cecb612'), ObjectId('65a1e3db4de10d2f8cecb613'), ObjectId('65a1e3db4de10d2f8cecb614'), ObjectId('65a1e3db4de10d2f8cecb615'), ObjectId('65a1e3db4de10d2f8cecb616'), ObjectId('65a1e3db4de10d2f8cecb617'), ObjectId('65a1e3db4de10d2f8cecb618'), ObjectId('65a1e3db4de10d2f8cecb619'), ObjectId('65a1e3db4de10d2f8cecb61a'), ObjectId('65a1e3db4de10d2f8cecb61b'), ObjectId('65a1e3db4de10d2f8cecb61c'), ObjectId('65a1e3db4de10d2f8cecb61d'), ObjectId('65a1e3db4de10d2f8cecb61e'), ObjectId('65a1e3db4de10d2f8cecb61f'), ObjectId('65a1e3db4de10d2f8cecb620'), ObjectId('65a1e3db4de10d2f8cecb621'), ObjectId('65a1e3db4de10d2f8cecb622'), ObjectId('65a1e3db4de10d2f8cecb623'), ObjectId('65a1e3db4de10d2f8cecb624'), ObjectId('65a1e3db4de10d2f8cecb625'), ObjectId('65a1e3db4de10d2f8cecb626'), ObjectId('65a1e3db4de10d2f8cecb627'), ObjectId('65a1e3db4de10d2f8cecb628'), ObjectId('65a1e3db4de10d2f8cecb629'), ObjectId('65a1e3db4de10d2f8cecb62a'), ObjectId('65a1e3db4de10d2f8cecb62b'), ObjectId('65a1e3db4de10d2f8cecb62c'), ObjectId('65a1e3db4de10d2f8cecb62d'), ObjectId('65a1e3db4de10d2f8cecb62e'), ObjectId('65a1e3db4de10d2f8cecb62f'), ObjectId('65a1e3db4de10d2f8cecb630'), ObjectId('65a1e3db4de10d2f8cecb631'), ObjectId('65a1e3db4de10d2f8cecb632'), ObjectId('65a1e3db4de10d2f8cecb633'), ObjectId('65a1e3db4de10d2f8cecb634'), ObjectId('65a1e3db4de10d2f8cecb635'), ObjectId('65a1e3db4de10d2f8cecb636'), ObjectId('65a1e3db4de10d2f8cecb637'), ObjectId('65a1e3db4de10d2f8cecb638'), ObjectId('65a1e3db4de10d2f8cecb639'), ObjectId('65a1e3db4de10d2f8cecb63a'), ObjectId('65a1e3db4de10d2f8cecb63b'), ObjectId('65a1e3db4de10d2f8cecb63c'), ObjectId('65a1e3db4de10d2f8cecb63d'), ObjectId('65a1e3db4de10d2f8cecb63e'), ObjectId('65a1e3db4de10d2f8cecb63f'), ObjectId('65a1e3db4de10d2f8cecb640'), ObjectId('65a1e3db4de10d2f8cecb641'), ObjectId('65a1e3db4de10d2f8cecb642'), ObjectId('65a1e3db4de10d2f8cecb643'), ObjectId('65a1e3db4de10d2f8cecb644'), ObjectId('65a1e3db4de10d2f8cecb645'), ObjectId('65a1e3db4de10d2f8cecb646'), ObjectId('65a1e3db4de10d2f8cecb647'), ObjectId('65a1e3db4de10d2f8cecb648'), ObjectId('65a1e3db4de10d2f8cecb649'), ObjectId('65a1e3db4de10d2f8cecb64a'), ObjectId('65a1e3db4de10d2f8cecb64b'), ObjectId('65a1e3db4de10d2f8cecb64c'), ObjectId('65a1e3db4de10d2f8cecb64d'), ObjectId('65a1e3db4de10d2f8cecb64e'), ObjectId('65a1e3db4de10d2f8cecb64f'), ObjectId('65a1e3db4de10d2f8cecb650'), ObjectId('65a1e3db4de10d2f8cecb651'), ObjectId('65a1e3db4de10d2f8cecb652'), ObjectId('65a1e3db4de10d2f8cecb653'), ObjectId('65a1e3db4de10d2f8cecb654'), ObjectId('65a1e3db4de10d2f8cecb655'), ObjectId('65a1e3db4de10d2f8cecb656'), ObjectId('65a1e3db4de10d2f8cecb657'), ObjectId('65a1e3db4de10d2f8cecb658'), ObjectId('65a1e3db4de10d2f8cecb659'), ObjectId('65a1e3db4de10d2f8cecb65a'), ObjectId('65a1e3db4de10d2f8cecb65b'), ObjectId('65a1e3db4de10d2f8cecb65c'), ObjectId('65a1e3db4de10d2f8cecb65d'), ObjectId('65a1e3db4de10d2f8cecb65e'), ObjectId('65a1e3db4de10d2f8cecb65f'), ObjectId('65a1e3db4de10d2f8cecb660'), ObjectId('65a1e3db4de10d2f8cecb661'), ObjectId('65a1e3db4de10d2f8cecb662'), ObjectId('65a1e3db4de10d2f8cecb663'), ObjectId('65a1e3db4de10d2f8cecb664'), ObjectId('65a1e3db4de10d2f8cecb665'), ObjectId('65a1e3db4de10d2f8cecb666'), ObjectId('65a1e3db4de10d2f8cecb667')], acknowledged=True)"
            ]
          },
          "metadata": {},
          "execution_count": 288
        }
      ]
    },
    {
      "cell_type": "markdown",
      "source": [
        "## create products data"
      ],
      "metadata": {
        "id": "hcaXjvZlb121"
      }
    },
    {
      "cell_type": "code",
      "source": [
        "# Generate products\n",
        "products = []\n",
        "for i in range(10):\n",
        "    product = {\n",
        "        'productid': i+1,\n",
        "        'category': random.choice(['Electronics', 'Clothing', 'Books', 'Home']),\n",
        "        'price': random.randint(1, 100)\n",
        "    }\n",
        "    products.append(product)"
      ],
      "metadata": {
        "id": "CxwNS24fjWgh"
      },
      "execution_count": 289,
      "outputs": []
    },
    {
      "cell_type": "code",
      "source": [
        "# Insert products into MongoDB\n",
        "db.products.insert_many(products)"
      ],
      "metadata": {
        "colab": {
          "base_uri": "https://localhost:8080/"
        },
        "id": "Rmyiye1HjXee",
        "outputId": "c1fb1950-c9f5-4d4e-f82c-8075c2cc2fd6"
      },
      "execution_count": 290,
      "outputs": [
        {
          "output_type": "execute_result",
          "data": {
            "text/plain": [
              "InsertManyResult([ObjectId('65a1e3db4de10d2f8cecb668'), ObjectId('65a1e3db4de10d2f8cecb669'), ObjectId('65a1e3db4de10d2f8cecb66a'), ObjectId('65a1e3db4de10d2f8cecb66b'), ObjectId('65a1e3db4de10d2f8cecb66c'), ObjectId('65a1e3db4de10d2f8cecb66d'), ObjectId('65a1e3db4de10d2f8cecb66e'), ObjectId('65a1e3db4de10d2f8cecb66f'), ObjectId('65a1e3db4de10d2f8cecb670'), ObjectId('65a1e3db4de10d2f8cecb671')], acknowledged=True)"
            ]
          },
          "metadata": {},
          "execution_count": 290
        }
      ]
    },
    {
      "cell_type": "code",
      "source": [
        "db.list_collection_names() # list collections"
      ],
      "metadata": {
        "colab": {
          "base_uri": "https://localhost:8080/"
        },
        "id": "pGJp7-xlPBHo",
        "outputId": "4a954f4e-13e1-47ba-f90a-40b4ca24be34"
      },
      "execution_count": 291,
      "outputs": [
        {
          "output_type": "execute_result",
          "data": {
            "text/plain": [
              "['customers', 'products']"
            ]
          },
          "metadata": {},
          "execution_count": 291
        }
      ]
    },
    {
      "cell_type": "markdown",
      "source": [
        "loop through collections and count the number of documents"
      ],
      "metadata": {
        "id": "Kh7A9GgHcHj-"
      }
    },
    {
      "cell_type": "code",
      "source": [
        "for collection_name in db.list_collection_names():\n",
        "  collection = db.get_collection(collection_name)\n",
        "  print(f'{collection_name}:{collection.count_documents({})}')"
      ],
      "metadata": {
        "colab": {
          "base_uri": "https://localhost:8080/"
        },
        "id": "HjkD5qDpPBWw",
        "outputId": "44d36e34-a31b-4fee-d214-77e50f640b02"
      },
      "execution_count": 292,
      "outputs": [
        {
          "output_type": "stream",
          "name": "stdout",
          "text": [
            "customers:100\n",
            "products:10\n"
          ]
        }
      ]
    },
    {
      "cell_type": "markdown",
      "source": [
        "# Querying\n",
        "\n"
      ],
      "metadata": {
        "id": "T7r6ecU8Zpaj"
      }
    },
    {
      "cell_type": "markdown",
      "source": [
        "## Customers\n",
        "\n",
        "Find all customers."
      ],
      "metadata": {
        "id": "In4J09kQZsH-"
      }
    },
    {
      "cell_type": "code",
      "source": [
        "for document in db.customers.find({}):\n",
        "  print(document)"
      ],
      "metadata": {
        "colab": {
          "base_uri": "https://localhost:8080/"
        },
        "id": "JYT5n-vEPFDT",
        "outputId": "58ac17c1-55d0-492c-bc2f-fb327dc5ef80"
      },
      "execution_count": 293,
      "outputs": [
        {
          "output_type": "stream",
          "name": "stdout",
          "text": [
            "{'_id': ObjectId('65a1e3db4de10d2f8cecb604'), 'customerid': 1, 'name': 'Tiffany Curtis', 'email': 'martinezgabriel@example.com', 'phone': ['+1-307-692-0397', '(283)470-1635x784', '299.225.0915x1132'], 'orders': [{'productid': 8, 'units': 55, 'purchase_date': datetime.datetime(2023, 3, 21, 0, 0)}, {'productid': 8, 'units': 37, 'purchase_date': datetime.datetime(2023, 4, 14, 0, 0)}, {'productid': 2, 'units': 26, 'purchase_date': datetime.datetime(2023, 2, 23, 0, 0)}, {'productid': 10, 'units': 46, 'purchase_date': datetime.datetime(2023, 9, 3, 0, 0)}]}\n",
            "{'_id': ObjectId('65a1e3db4de10d2f8cecb605'), 'customerid': 2, 'name': 'Patrick Cameron', 'email': 'rebeccasutton@example.net', 'phone': ['789-276-9551', '558.799.9446x79008', '+1-622-462-1365x24082'], 'orders': [{'productid': 7, 'units': 390, 'purchase_date': datetime.datetime(2023, 10, 15, 0, 0)}, {'productid': 8, 'units': 91, 'purchase_date': datetime.datetime(2023, 2, 12, 0, 0)}, {'productid': 6, 'units': 37, 'purchase_date': datetime.datetime(2023, 7, 21, 0, 0)}, {'productid': 7, 'units': 12, 'purchase_date': datetime.datetime(2024, 1, 10, 0, 0)}]}\n",
            "{'_id': ObjectId('65a1e3db4de10d2f8cecb606'), 'customerid': 3, 'name': 'Wesley Schroeder', 'email': 'alexisgreen@example.org', 'phone': ['239-429-9960x246', '793.805.2356', '001-794-937-5034x553'], 'orders': [{'productid': 1, 'units': 21, 'purchase_date': datetime.datetime(2023, 8, 30, 0, 0)}, {'productid': 10, 'units': 14, 'purchase_date': datetime.datetime(2023, 4, 7, 0, 0)}]}\n",
            "{'_id': ObjectId('65a1e3db4de10d2f8cecb607'), 'customerid': 4, 'name': 'Aaron Mendez', 'email': 'masonjamie@example.com', 'phone': ['535.526.2613x3518', '(501)717-5312', '332.558.3854'], 'orders': [{'productid': 1, 'units': 14, 'purchase_date': datetime.datetime(2023, 2, 4, 0, 0)}]}\n",
            "{'_id': ObjectId('65a1e3db4de10d2f8cecb608'), 'customerid': 5, 'name': 'Jenny Chung', 'email': 'bbishop@example.org', 'phone': ['486.417.9005x1068', '(447)912-9986x12413', '(837)643-9600'], 'orders': [{'productid': 9, 'units': 17, 'purchase_date': datetime.datetime(2023, 1, 30, 0, 0)}, {'productid': 2, 'units': 41, 'purchase_date': datetime.datetime(2023, 1, 23, 0, 0)}, {'productid': 4, 'units': 950, 'purchase_date': datetime.datetime(2023, 11, 26, 0, 0)}]}\n",
            "{'_id': ObjectId('65a1e3db4de10d2f8cecb609'), 'customerid': 6, 'name': 'Samuel Lee', 'email': 'krausemark@example.net', 'phone': ['+1-972-456-4488x04276', '638-305-1374x90328', '+1-958-889-0806x0928'], 'orders': [{'productid': 10, 'units': 98, 'purchase_date': datetime.datetime(2023, 10, 13, 0, 0)}, {'productid': 10, 'units': 46, 'purchase_date': datetime.datetime(2023, 3, 9, 0, 0)}, {'productid': 2, 'units': 33, 'purchase_date': datetime.datetime(2023, 10, 9, 0, 0)}]}\n",
            "{'_id': ObjectId('65a1e3db4de10d2f8cecb60a'), 'customerid': 7, 'name': 'Jeremy Johnson', 'email': 'benjaminwalker@example.net', 'phone': ['220-968-5418x9149', '(592)472-3247x634', '873.608.2223x0689'], 'orders': [{'productid': 4, 'units': 410, 'purchase_date': datetime.datetime(2023, 8, 17, 0, 0)}, {'productid': 10, 'units': 16, 'purchase_date': datetime.datetime(2023, 9, 15, 0, 0)}, {'productid': 4, 'units': 86, 'purchase_date': datetime.datetime(2023, 12, 7, 0, 0)}, {'productid': 3, 'units': 37, 'purchase_date': datetime.datetime(2023, 2, 4, 0, 0)}]}\n",
            "{'_id': ObjectId('65a1e3db4de10d2f8cecb60b'), 'customerid': 8, 'name': 'Robert Miller', 'email': 'peter96@example.com', 'phone': ['(570)865-6098', '853.623.7935', '(220)494-7318x76304'], 'orders': []}\n",
            "{'_id': ObjectId('65a1e3db4de10d2f8cecb60c'), 'customerid': 9, 'name': 'Maria Osborn', 'email': 'schmidtkrystal@example.net', 'phone': ['878.813.8832x3022', '+1-970-218-9474x69983', '(811)770-8050x7887'], 'orders': []}\n",
            "{'_id': ObjectId('65a1e3db4de10d2f8cecb60d'), 'customerid': 10, 'name': 'Jocelyn Fowler', 'email': 'uporter@example.com', 'phone': ['(490)475-9801x598', '001-509-945-2118x040', '001-295-805-1047'], 'orders': [{'productid': 9, 'units': 44, 'purchase_date': datetime.datetime(2023, 9, 24, 0, 0)}, {'productid': 4, 'units': 53, 'purchase_date': datetime.datetime(2023, 1, 12, 0, 0)}, {'productid': 1, 'units': 48, 'purchase_date': datetime.datetime(2023, 5, 8, 0, 0)}]}\n",
            "{'_id': ObjectId('65a1e3db4de10d2f8cecb60e'), 'customerid': 11, 'name': 'Samuel Clark', 'email': 'mvaughn@example.org', 'phone': ['+1-279-260-2990x4081', '001-554-678-0215x433', '+1-494-347-6952x873'], 'orders': [{'productid': 9, 'units': 27, 'purchase_date': datetime.datetime(2024, 1, 11, 0, 0)}]}\n",
            "{'_id': ObjectId('65a1e3db4de10d2f8cecb60f'), 'customerid': 12, 'name': 'Jason Fritz III', 'email': 'jackiewallace@example.com', 'phone': ['(315)439-6337x5914', '001-583-455-2834', '(349)357-7134x40364'], 'orders': [{'productid': 10, 'units': 80, 'purchase_date': datetime.datetime(2023, 4, 26, 0, 0)}, {'productid': 4, 'units': 40, 'purchase_date': datetime.datetime(2023, 10, 22, 0, 0)}]}\n",
            "{'_id': ObjectId('65a1e3db4de10d2f8cecb610'), 'customerid': 13, 'name': 'Theresa Shannon', 'email': 'ckeller@example.org', 'phone': ['343-899-3794', '001-784-561-1966x74270', '472.795.2308x39007'], 'orders': [{'productid': 9, 'units': 480, 'purchase_date': datetime.datetime(2023, 6, 30, 0, 0)}, {'productid': 9, 'units': 74, 'purchase_date': datetime.datetime(2023, 4, 10, 0, 0)}, {'productid': 1, 'units': 89, 'purchase_date': datetime.datetime(2023, 2, 1, 0, 0)}, {'productid': 2, 'units': 1000, 'purchase_date': datetime.datetime(2023, 9, 10, 0, 0)}]}\n",
            "{'_id': ObjectId('65a1e3db4de10d2f8cecb611'), 'customerid': 14, 'name': 'Jared Fry', 'email': 'katherine73@example.com', 'phone': ['999-384-5262x48285', '(254)474-8581x311', '001-444-487-3133'], 'orders': [{'productid': 8, 'units': 10, 'purchase_date': datetime.datetime(2023, 12, 21, 0, 0)}, {'productid': 8, 'units': 81, 'purchase_date': datetime.datetime(2023, 11, 26, 0, 0)}, {'productid': 8, 'units': 27, 'purchase_date': datetime.datetime(2024, 1, 2, 0, 0)}, {'productid': 8, 'units': 31, 'purchase_date': datetime.datetime(2023, 5, 6, 0, 0)}]}\n",
            "{'_id': ObjectId('65a1e3db4de10d2f8cecb612'), 'customerid': 15, 'name': 'Valerie Santiago', 'email': 'cpage@example.com', 'phone': ['5465855744', '578.583.2135', '001-993-672-0577x05416'], 'orders': [{'productid': 6, 'units': 92, 'purchase_date': datetime.datetime(2023, 3, 15, 0, 0)}, {'productid': 10, 'units': 28, 'purchase_date': datetime.datetime(2023, 10, 22, 0, 0)}, {'productid': 6, 'units': 83, 'purchase_date': datetime.datetime(2023, 7, 10, 0, 0)}]}\n",
            "{'_id': ObjectId('65a1e3db4de10d2f8cecb613'), 'customerid': 16, 'name': 'Kevin Calhoun', 'email': 'nwilliams@example.net', 'phone': ['711-821-3108x71175', '462.471.0124', '405.882.9758x894'], 'orders': []}\n",
            "{'_id': ObjectId('65a1e3db4de10d2f8cecb614'), 'customerid': 17, 'name': 'Maria Christensen', 'email': 'laneteresa@example.com', 'phone': ['001-448-896-3151x7052', '001-925-711-3978', '001-371-825-1673x0100'], 'orders': [{'productid': 7, 'units': 220, 'purchase_date': datetime.datetime(2023, 12, 3, 0, 0)}, {'productid': 8, 'units': 960, 'purchase_date': datetime.datetime(2023, 4, 9, 0, 0)}, {'productid': 9, 'units': 57, 'purchase_date': datetime.datetime(2023, 3, 23, 0, 0)}]}\n",
            "{'_id': ObjectId('65a1e3db4de10d2f8cecb615'), 'customerid': 18, 'name': 'Kathleen Hoffman', 'email': 'brownelizabeth@example.com', 'phone': ['654.450.1251', '875-556-0114x55939', '+1-827-743-5589x20695'], 'orders': [{'productid': 3, 'units': 54, 'purchase_date': datetime.datetime(2023, 5, 5, 0, 0)}, {'productid': 3, 'units': 33, 'purchase_date': datetime.datetime(2023, 10, 26, 0, 0)}, {'productid': 8, 'units': 38, 'purchase_date': datetime.datetime(2023, 12, 7, 0, 0)}, {'productid': 3, 'units': 51, 'purchase_date': datetime.datetime(2023, 8, 9, 0, 0)}]}\n",
            "{'_id': ObjectId('65a1e3db4de10d2f8cecb616'), 'customerid': 19, 'name': 'Stacey Baker', 'email': 'bryantjeremy@example.org', 'phone': ['270.854.9944', '(791)409-5913x37580', '+1-315-770-8571x582'], 'orders': []}\n",
            "{'_id': ObjectId('65a1e3db4de10d2f8cecb617'), 'customerid': 20, 'name': 'Amanda Hill', 'email': 'nicole36@example.com', 'phone': ['825-768-1349x2657', '358-399-6299', '763.727.6566x54566'], 'orders': [{'productid': 1, 'units': 45, 'purchase_date': datetime.datetime(2023, 7, 12, 0, 0)}]}\n",
            "{'_id': ObjectId('65a1e3db4de10d2f8cecb618'), 'customerid': 21, 'name': 'Jeffrey Johnson', 'email': 'hernandezjohn@example.com', 'phone': ['5817502615', '6905931031', '001-357-467-3772x302'], 'orders': [{'productid': 5, 'units': 97, 'purchase_date': datetime.datetime(2023, 4, 1, 0, 0)}, {'productid': 6, 'units': 19, 'purchase_date': datetime.datetime(2023, 8, 19, 0, 0)}, {'productid': 6, 'units': 400, 'purchase_date': datetime.datetime(2023, 6, 8, 0, 0)}]}\n",
            "{'_id': ObjectId('65a1e3db4de10d2f8cecb619'), 'customerid': 22, 'name': 'Monica Howard', 'email': 'zsawyer@example.net', 'phone': ['471.592.7214x260', '993.554.5204', '(515)407-8557'], 'orders': [{'productid': 6, 'units': 49, 'purchase_date': datetime.datetime(2023, 4, 21, 0, 0)}, {'productid': 3, 'units': 87, 'purchase_date': datetime.datetime(2023, 7, 12, 0, 0)}]}\n",
            "{'_id': ObjectId('65a1e3db4de10d2f8cecb61a'), 'customerid': 23, 'name': 'Steven Jones', 'email': 'caroline93@example.net', 'phone': ['(948)868-0723', '673-580-8497', '001-301-986-0101'], 'orders': [{'productid': 3, 'units': 60, 'purchase_date': datetime.datetime(2023, 7, 5, 0, 0)}, {'productid': 7, 'units': 73, 'purchase_date': datetime.datetime(2023, 8, 22, 0, 0)}, {'productid': 6, 'units': 30, 'purchase_date': datetime.datetime(2023, 9, 26, 0, 0)}]}\n",
            "{'_id': ObjectId('65a1e3db4de10d2f8cecb61b'), 'customerid': 24, 'name': 'Joel Jackson', 'email': 'rodneykelly@example.org', 'phone': ['(236)613-7740', '(322)282-5084', '001-721-671-0496'], 'orders': [{'productid': 5, 'units': 87, 'purchase_date': datetime.datetime(2023, 6, 10, 0, 0)}]}\n",
            "{'_id': ObjectId('65a1e3db4de10d2f8cecb61c'), 'customerid': 25, 'name': 'Michael Clark', 'email': 'beasleytraci@example.org', 'phone': ['760-998-0779x715', '+1-781-368-5754x5507', '520-856-5188'], 'orders': []}\n",
            "{'_id': ObjectId('65a1e3db4de10d2f8cecb61d'), 'customerid': 26, 'name': 'Pamela Mcintosh', 'email': 'christopher45@example.org', 'phone': ['(878)568-6604', '505-367-8712x7103', '630-522-5620x320'], 'orders': [{'productid': 9, 'units': 40, 'purchase_date': datetime.datetime(2023, 1, 18, 0, 0)}, {'productid': 2, 'units': 410, 'purchase_date': datetime.datetime(2023, 12, 23, 0, 0)}]}\n",
            "{'_id': ObjectId('65a1e3db4de10d2f8cecb61e'), 'customerid': 27, 'name': 'Tammy Potter', 'email': 'jennifer76@example.org', 'phone': ['724-986-0445x9102', '+1-288-895-7432x96259', '001-580-717-9419x80852'], 'orders': [{'productid': 8, 'units': 600, 'purchase_date': datetime.datetime(2023, 4, 11, 0, 0)}, {'productid': 10, 'units': 68, 'purchase_date': datetime.datetime(2023, 3, 26, 0, 0)}, {'productid': 10, 'units': 59, 'purchase_date': datetime.datetime(2023, 3, 10, 0, 0)}]}\n",
            "{'_id': ObjectId('65a1e3db4de10d2f8cecb61f'), 'customerid': 28, 'name': 'Mary Williams', 'email': 'morenobobby@example.org', 'phone': ['001-253-477-6192', '(518)568-8236x91085', '705-685-4179'], 'orders': [{'productid': 4, 'units': 64, 'purchase_date': datetime.datetime(2023, 2, 14, 0, 0)}, {'productid': 10, 'units': 49, 'purchase_date': datetime.datetime(2023, 9, 6, 0, 0)}, {'productid': 10, 'units': 35, 'purchase_date': datetime.datetime(2024, 1, 6, 0, 0)}]}\n",
            "{'_id': ObjectId('65a1e3db4de10d2f8cecb620'), 'customerid': 29, 'name': 'Christian Carroll', 'email': 'maldonadocole@example.net', 'phone': ['(767)341-6350x615', '707-371-6078x9543', '306-274-7484x5725'], 'orders': [{'productid': 6, 'units': 940, 'purchase_date': datetime.datetime(2023, 7, 10, 0, 0)}, {'productid': 8, 'units': 85, 'purchase_date': datetime.datetime(2023, 6, 9, 0, 0)}]}\n",
            "{'_id': ObjectId('65a1e3db4de10d2f8cecb621'), 'customerid': 30, 'name': 'Emily Peters', 'email': 'victoria09@example.net', 'phone': ['(644)986-2419x0705', '344-416-1946x672', '629.231.4243x48086'], 'orders': []}\n",
            "{'_id': ObjectId('65a1e3db4de10d2f8cecb622'), 'customerid': 31, 'name': 'Julie Gray', 'email': 'jessica75@example.com', 'phone': ['001-441-480-8657', '+1-713-755-4122x079', '702-812-9640x03215'], 'orders': [{'productid': 6, 'units': 25, 'purchase_date': datetime.datetime(2023, 11, 12, 0, 0)}, {'productid': 1, 'units': 87, 'purchase_date': datetime.datetime(2023, 2, 18, 0, 0)}, {'productid': 1, 'units': 65, 'purchase_date': datetime.datetime(2023, 11, 3, 0, 0)}]}\n",
            "{'_id': ObjectId('65a1e3db4de10d2f8cecb623'), 'customerid': 32, 'name': 'Jonathon Miller', 'email': 'brownamy@example.org', 'phone': ['001-945-954-0876x40664', '9643277436', '001-314-950-0457x8475'], 'orders': []}\n",
            "{'_id': ObjectId('65a1e3db4de10d2f8cecb624'), 'customerid': 33, 'name': 'Mark Rosales', 'email': 'kimberly73@example.com', 'phone': ['2313334500', '+1-588-268-1905x3014', '(916)664-4060x0793'], 'orders': [{'productid': 6, 'units': 30, 'purchase_date': datetime.datetime(2023, 6, 30, 0, 0)}, {'productid': 8, 'units': 76, 'purchase_date': datetime.datetime(2023, 5, 24, 0, 0)}]}\n",
            "{'_id': ObjectId('65a1e3db4de10d2f8cecb625'), 'customerid': 34, 'name': 'Angela Brewer', 'email': 'rachel13@example.com', 'phone': ['352.368.3235x6714', '6096739902', '768-308-5293'], 'orders': [{'productid': 3, 'units': 94, 'purchase_date': datetime.datetime(2023, 4, 14, 0, 0)}, {'productid': 5, 'units': 52, 'purchase_date': datetime.datetime(2023, 7, 9, 0, 0)}, {'productid': 6, 'units': 41, 'purchase_date': datetime.datetime(2023, 6, 24, 0, 0)}]}\n",
            "{'_id': ObjectId('65a1e3db4de10d2f8cecb626'), 'customerid': 35, 'name': 'Kelly Herrera', 'email': 'yhill@example.com', 'phone': ['222.829.3774', '3526203120', '+1-439-596-1490x286'], 'orders': [{'productid': 9, 'units': 39, 'purchase_date': datetime.datetime(2023, 8, 17, 0, 0)}]}\n",
            "{'_id': ObjectId('65a1e3db4de10d2f8cecb627'), 'customerid': 36, 'name': 'Edward Robertson', 'email': 'ashley26@example.net', 'phone': ['212.849.5147x396', '(539)374-8977', '335.563.7049x30248'], 'orders': [{'productid': 1, 'units': 33, 'purchase_date': datetime.datetime(2023, 10, 4, 0, 0)}, {'productid': 8, 'units': 16, 'purchase_date': datetime.datetime(2023, 10, 4, 0, 0)}]}\n",
            "{'_id': ObjectId('65a1e3db4de10d2f8cecb628'), 'customerid': 37, 'name': 'Anna Cole', 'email': 'bcummings@example.com', 'phone': ['891.310.7503x7385', '+1-607-420-7643', '705.407.7963'], 'orders': []}\n",
            "{'_id': ObjectId('65a1e3db4de10d2f8cecb629'), 'customerid': 38, 'name': 'Madison Gonzales', 'email': 'ramirezkatherine@example.org', 'phone': ['001-265-656-4443x59341', '522.955.8330', '001-464-622-2366x60999'], 'orders': [{'productid': 6, 'units': 97, 'purchase_date': datetime.datetime(2023, 2, 28, 0, 0)}]}\n",
            "{'_id': ObjectId('65a1e3db4de10d2f8cecb62a'), 'customerid': 39, 'name': 'Lauren Kirk', 'email': 'bmiller@example.org', 'phone': ['(824)678-5169x7226', '001-389-896-4596x6855', '+1-691-326-4812x58693'], 'orders': [{'productid': 10, 'units': 82, 'purchase_date': datetime.datetime(2023, 7, 19, 0, 0)}, {'productid': 4, 'units': 83, 'purchase_date': datetime.datetime(2023, 7, 24, 0, 0)}, {'productid': 7, 'units': 66, 'purchase_date': datetime.datetime(2023, 5, 7, 0, 0)}]}\n",
            "{'_id': ObjectId('65a1e3db4de10d2f8cecb62b'), 'customerid': 40, 'name': 'Brian Ryan', 'email': 'chavezandrew@example.net', 'phone': ['001-700-314-5086x36672', '348-910-9129x866', '(982)646-9801x1272'], 'orders': [{'productid': 5, 'units': 590, 'purchase_date': datetime.datetime(2023, 4, 18, 0, 0)}, {'productid': 10, 'units': 40, 'purchase_date': datetime.datetime(2023, 1, 29, 0, 0)}, {'productid': 4, 'units': 220, 'purchase_date': datetime.datetime(2023, 12, 16, 0, 0)}]}\n",
            "{'_id': ObjectId('65a1e3db4de10d2f8cecb62c'), 'customerid': 41, 'name': 'Amber Haynes', 'email': 'smithbrandon@example.net', 'phone': ['272.937.4766', '304.908.5180', '+1-719-799-0475'], 'orders': [{'productid': 3, 'units': 99, 'purchase_date': datetime.datetime(2023, 4, 12, 0, 0)}, {'productid': 9, 'units': 67, 'purchase_date': datetime.datetime(2024, 1, 11, 0, 0)}]}\n",
            "{'_id': ObjectId('65a1e3db4de10d2f8cecb62d'), 'customerid': 42, 'name': 'Robert Kemp', 'email': 'gibbsemily@example.org', 'phone': ['808-215-0673x5743', '001-624-687-2431x08905', '793.492.2753'], 'orders': [{'productid': 7, 'units': 47, 'purchase_date': datetime.datetime(2023, 1, 28, 0, 0)}, {'productid': 8, 'units': 39, 'purchase_date': datetime.datetime(2023, 5, 20, 0, 0)}, {'productid': 4, 'units': 49, 'purchase_date': datetime.datetime(2023, 5, 19, 0, 0)}, {'productid': 3, 'units': 70, 'purchase_date': datetime.datetime(2024, 1, 12, 0, 0)}]}\n",
            "{'_id': ObjectId('65a1e3db4de10d2f8cecb62e'), 'customerid': 43, 'name': 'Dakota Weber', 'email': 'becknancy@example.com', 'phone': ['534.562.0751', '+1-525-972-1343x4531', '989.820.2612x18502'], 'orders': [{'productid': 10, 'units': 84, 'purchase_date': datetime.datetime(2023, 11, 23, 0, 0)}]}\n",
            "{'_id': ObjectId('65a1e3db4de10d2f8cecb62f'), 'customerid': 44, 'name': 'Scott Henson', 'email': 'megan12@example.org', 'phone': ['(219)833-4187x005', '+1-398-385-8146x305', '(332)620-5725x811'], 'orders': [{'productid': 7, 'units': 83, 'purchase_date': datetime.datetime(2023, 8, 11, 0, 0)}, {'productid': 2, 'units': 70, 'purchase_date': datetime.datetime(2023, 3, 16, 0, 0)}, {'productid': 6, 'units': 51, 'purchase_date': datetime.datetime(2023, 12, 28, 0, 0)}, {'productid': 6, 'units': 53, 'purchase_date': datetime.datetime(2023, 11, 12, 0, 0)}]}\n",
            "{'_id': ObjectId('65a1e3db4de10d2f8cecb630'), 'customerid': 45, 'name': 'Christopher Arnold', 'email': 'michaelmorales@example.com', 'phone': ['5547457838', '001-405-680-3182x4103', '935-521-8907x2592'], 'orders': [{'productid': 2, 'units': 79, 'purchase_date': datetime.datetime(2023, 10, 31, 0, 0)}, {'productid': 3, 'units': 57, 'purchase_date': datetime.datetime(2023, 6, 16, 0, 0)}, {'productid': 8, 'units': 93, 'purchase_date': datetime.datetime(2023, 3, 24, 0, 0)}, {'productid': 1, 'units': 95, 'purchase_date': datetime.datetime(2023, 7, 17, 0, 0)}]}\n",
            "{'_id': ObjectId('65a1e3db4de10d2f8cecb631'), 'customerid': 46, 'name': 'Cassandra Jackson', 'email': 'christinahowell@example.net', 'phone': ['(269)809-2987x8744', '(343)871-8598', '867-791-2951x98561'], 'orders': [{'productid': 7, 'units': 39, 'purchase_date': datetime.datetime(2023, 9, 21, 0, 0)}, {'productid': 4, 'units': 90, 'purchase_date': datetime.datetime(2023, 2, 20, 0, 0)}]}\n",
            "{'_id': ObjectId('65a1e3db4de10d2f8cecb632'), 'customerid': 47, 'name': 'Julie Jackson', 'email': 'davidyoung@example.net', 'phone': ['601.744.9899x2341', '+1-241-425-6218x234', '(677)887-1176'], 'orders': [{'productid': 10, 'units': 250, 'purchase_date': datetime.datetime(2023, 7, 7, 0, 0)}]}\n",
            "{'_id': ObjectId('65a1e3db4de10d2f8cecb633'), 'customerid': 48, 'name': 'Rebecca Zimmerman', 'email': 'tdavila@example.com', 'phone': ['696.601.6206x2323', '+1-455-343-6725', '+1-577-997-5520x1090'], 'orders': [{'productid': 4, 'units': 10, 'purchase_date': datetime.datetime(2023, 9, 22, 0, 0)}, {'productid': 8, 'units': 33, 'purchase_date': datetime.datetime(2023, 8, 20, 0, 0)}, {'productid': 4, 'units': 10, 'purchase_date': datetime.datetime(2023, 7, 12, 0, 0)}]}\n",
            "{'_id': ObjectId('65a1e3db4de10d2f8cecb634'), 'customerid': 49, 'name': 'Anne Miller', 'email': 'austin33@example.org', 'phone': ['905.618.5529x1786', '001-859-226-4587', '+1-236-424-3367x6072'], 'orders': [{'productid': 7, 'units': 76, 'purchase_date': datetime.datetime(2023, 3, 25, 0, 0)}]}\n",
            "{'_id': ObjectId('65a1e3db4de10d2f8cecb635'), 'customerid': 50, 'name': 'Madison Rodriguez', 'email': 'raymondbrent@example.org', 'phone': ['739-997-2183', '384-518-2480', '906.943.1351'], 'orders': [{'productid': 10, 'units': 42, 'purchase_date': datetime.datetime(2023, 7, 3, 0, 0)}, {'productid': 2, 'units': 25, 'purchase_date': datetime.datetime(2023, 9, 4, 0, 0)}]}\n",
            "{'_id': ObjectId('65a1e3db4de10d2f8cecb636'), 'customerid': 51, 'name': 'Evelyn Johnson', 'email': 'dylan16@example.net', 'phone': ['6627971845', '771.534.4771', '001-223-233-0422x97575'], 'orders': []}\n",
            "{'_id': ObjectId('65a1e3db4de10d2f8cecb637'), 'customerid': 52, 'name': 'Sean Krueger', 'email': 'kholmes@example.net', 'phone': ['001-340-607-9543x4794', '(346)840-8390x55930', '9964753760'], 'orders': [{'productid': 7, 'units': 730, 'purchase_date': datetime.datetime(2023, 3, 1, 0, 0)}, {'productid': 8, 'units': 15, 'purchase_date': datetime.datetime(2023, 12, 10, 0, 0)}]}\n",
            "{'_id': ObjectId('65a1e3db4de10d2f8cecb638'), 'customerid': 53, 'name': 'Matthew Rose', 'email': 'cartererica@example.org', 'phone': ['997.947.9309', '(759)298-2471x283', '+1-781-804-3259x61611'], 'orders': [{'productid': 3, 'units': 18, 'purchase_date': datetime.datetime(2023, 3, 30, 0, 0)}, {'productid': 10, 'units': 55, 'purchase_date': datetime.datetime(2023, 8, 28, 0, 0)}, {'productid': 10, 'units': 66, 'purchase_date': datetime.datetime(2023, 4, 1, 0, 0)}]}\n",
            "{'_id': ObjectId('65a1e3db4de10d2f8cecb639'), 'customerid': 54, 'name': 'Matthew Stafford', 'email': 'angelaperez@example.net', 'phone': ['677.989.5899', '695-786-7591x934', '239-660-6956'], 'orders': [{'productid': 8, 'units': 85, 'purchase_date': datetime.datetime(2023, 1, 20, 0, 0)}]}\n",
            "{'_id': ObjectId('65a1e3db4de10d2f8cecb63a'), 'customerid': 55, 'name': 'Jerry Williams', 'email': 'jfoster@example.com', 'phone': ['410.219.6583x08652', '(525)512-5477x2096', '385.644.5436x8157'], 'orders': [{'productid': 9, 'units': 71, 'purchase_date': datetime.datetime(2023, 2, 21, 0, 0)}, {'productid': 10, 'units': 81, 'purchase_date': datetime.datetime(2023, 9, 19, 0, 0)}]}\n",
            "{'_id': ObjectId('65a1e3db4de10d2f8cecb63b'), 'customerid': 56, 'name': 'James Rice', 'email': 'vrobinson@example.net', 'phone': ['(446)203-6584', '001-940-826-0052x613', '(640)685-2931x0827'], 'orders': []}\n",
            "{'_id': ObjectId('65a1e3db4de10d2f8cecb63c'), 'customerid': 57, 'name': 'Joseph Aguilar', 'email': 'baldwinoscar@example.com', 'phone': ['+1-625-907-2107x27227', '001-941-432-7192x279', '+1-793-842-9195x455'], 'orders': [{'productid': 3, 'units': 400, 'purchase_date': datetime.datetime(2023, 3, 25, 0, 0)}]}\n",
            "{'_id': ObjectId('65a1e3db4de10d2f8cecb63d'), 'customerid': 58, 'name': 'Latoya Harris DDS', 'email': 'timothybrown@example.net', 'phone': ['(811)780-2649x713', '362.301.4254x6982', '(545)281-3787x256'], 'orders': [{'productid': 9, 'units': 28, 'purchase_date': datetime.datetime(2023, 1, 25, 0, 0)}]}\n",
            "{'_id': ObjectId('65a1e3db4de10d2f8cecb63e'), 'customerid': 59, 'name': 'Michael Beasley', 'email': 'kjohnson@example.com', 'phone': ['+1-537-798-6131x505', '236-315-3154', '001-917-266-6740x8163'], 'orders': [{'productid': 5, 'units': 96, 'purchase_date': datetime.datetime(2024, 1, 5, 0, 0)}, {'productid': 4, 'units': 68, 'purchase_date': datetime.datetime(2023, 7, 25, 0, 0)}]}\n",
            "{'_id': ObjectId('65a1e3db4de10d2f8cecb63f'), 'customerid': 60, 'name': 'Mrs. Lindsay Mejia', 'email': 'howellpatricia@example.com', 'phone': ['431-740-9435x681', '4179006734', '(464)541-9020x50765'], 'orders': [{'productid': 7, 'units': 810, 'purchase_date': datetime.datetime(2023, 8, 11, 0, 0)}]}\n",
            "{'_id': ObjectId('65a1e3db4de10d2f8cecb640'), 'customerid': 61, 'name': 'Johnathan Edwards', 'email': 'william78@example.com', 'phone': ['220.707.5267', '+1-263-280-5537x943', '712.882.2172x053'], 'orders': [{'productid': 9, 'units': 45, 'purchase_date': datetime.datetime(2023, 9, 29, 0, 0)}]}\n",
            "{'_id': ObjectId('65a1e3db4de10d2f8cecb641'), 'customerid': 62, 'name': 'Steven Church', 'email': 'parkashley@example.com', 'phone': ['+1-828-681-8010x1188', '3137684762', '457-509-3850x38228'], 'orders': [{'productid': 2, 'units': 430, 'purchase_date': datetime.datetime(2023, 5, 3, 0, 0)}, {'productid': 9, 'units': 85, 'purchase_date': datetime.datetime(2023, 12, 29, 0, 0)}, {'productid': 9, 'units': 91, 'purchase_date': datetime.datetime(2023, 11, 1, 0, 0)}, {'productid': 10, 'units': 980, 'purchase_date': datetime.datetime(2023, 11, 12, 0, 0)}]}\n",
            "{'_id': ObjectId('65a1e3db4de10d2f8cecb642'), 'customerid': 63, 'name': 'Chad Jones', 'email': 'scott06@example.net', 'phone': ['+1-913-653-5579x80610', '311.937.0125x58535', '275.249.5032x8897'], 'orders': [{'productid': 9, 'units': 24, 'purchase_date': datetime.datetime(2023, 7, 14, 0, 0)}, {'productid': 7, 'units': 71, 'purchase_date': datetime.datetime(2023, 3, 29, 0, 0)}, {'productid': 6, 'units': 670, 'purchase_date': datetime.datetime(2023, 4, 7, 0, 0)}]}\n",
            "{'_id': ObjectId('65a1e3db4de10d2f8cecb643'), 'customerid': 64, 'name': 'Dr. Jennifer Brown DDS', 'email': 'stricklandanna@example.org', 'phone': ['001-450-894-4400x24230', '831.268.0021x0462', '3565767965'], 'orders': [{'productid': 8, 'units': 98, 'purchase_date': datetime.datetime(2023, 2, 12, 0, 0)}, {'productid': 4, 'units': 81, 'purchase_date': datetime.datetime(2023, 3, 22, 0, 0)}, {'productid': 9, 'units': 88, 'purchase_date': datetime.datetime(2023, 5, 10, 0, 0)}, {'productid': 8, 'units': 46, 'purchase_date': datetime.datetime(2023, 5, 6, 0, 0)}]}\n",
            "{'_id': ObjectId('65a1e3db4de10d2f8cecb644'), 'customerid': 65, 'name': 'Karen Jimenez', 'email': 'michael61@example.com', 'phone': ['739-916-7687', '219.788.0500', '(862)210-3294'], 'orders': [{'productid': 4, 'units': 63, 'purchase_date': datetime.datetime(2023, 9, 23, 0, 0)}, {'productid': 1, 'units': 19, 'purchase_date': datetime.datetime(2023, 12, 23, 0, 0)}, {'productid': 2, 'units': 98, 'purchase_date': datetime.datetime(2023, 11, 14, 0, 0)}]}\n",
            "{'_id': ObjectId('65a1e3db4de10d2f8cecb645'), 'customerid': 66, 'name': 'Gregg Kemp', 'email': 'sarahvaldez@example.net', 'phone': ['(761)492-7710', '839.346.0705', '(854)958-9516'], 'orders': [{'productid': 1, 'units': 63, 'purchase_date': datetime.datetime(2023, 7, 14, 0, 0)}, {'productid': 9, 'units': 92, 'purchase_date': datetime.datetime(2023, 8, 17, 0, 0)}]}\n",
            "{'_id': ObjectId('65a1e3db4de10d2f8cecb646'), 'customerid': 67, 'name': 'Michael Wilson', 'email': 'mharper@example.net', 'phone': ['+1-744-359-4845x5998', '001-776-744-2027x6797', '(794)525-7582x7766'], 'orders': []}\n",
            "{'_id': ObjectId('65a1e3db4de10d2f8cecb647'), 'customerid': 68, 'name': 'Robert Chaney', 'email': 'bmeza@example.com', 'phone': ['496.357.7215', '756-333-1285x6714', '7616924721'], 'orders': []}\n",
            "{'_id': ObjectId('65a1e3db4de10d2f8cecb648'), 'customerid': 69, 'name': 'Michele Rubio', 'email': 'dhopkins@example.org', 'phone': ['857-625-2330x843', '716.230.3725', '(411)653-3834x55464'], 'orders': [{'productid': 9, 'units': 39, 'purchase_date': datetime.datetime(2023, 12, 24, 0, 0)}, {'productid': 3, 'units': 21, 'purchase_date': datetime.datetime(2023, 5, 7, 0, 0)}, {'productid': 3, 'units': 64, 'purchase_date': datetime.datetime(2023, 3, 20, 0, 0)}, {'productid': 9, 'units': 93, 'purchase_date': datetime.datetime(2023, 8, 5, 0, 0)}]}\n",
            "{'_id': ObjectId('65a1e3db4de10d2f8cecb649'), 'customerid': 70, 'name': 'Alexandra White', 'email': 'patriciasparks@example.org', 'phone': ['859.953.3812x379', '214.468.4340x10919', '001-531-496-6397x694'], 'orders': []}\n",
            "{'_id': ObjectId('65a1e3db4de10d2f8cecb64a'), 'customerid': 71, 'name': 'Misty Crawford', 'email': 'staffordshelley@example.org', 'phone': ['(818)799-2120x7466', '+1-565-724-6615x79346', '4795255430'], 'orders': [{'productid': 2, 'units': 75, 'purchase_date': datetime.datetime(2023, 8, 15, 0, 0)}]}\n",
            "{'_id': ObjectId('65a1e3db4de10d2f8cecb64b'), 'customerid': 72, 'name': 'Philip Vasquez', 'email': 'baileymary@example.org', 'phone': ['972-640-9161x0058', '528.830.4143x6898', '355.990.2901x425'], 'orders': []}\n",
            "{'_id': ObjectId('65a1e3db4de10d2f8cecb64c'), 'customerid': 73, 'name': 'Michael Gould', 'email': 'alvarezderrick@example.com', 'phone': ['676-281-9271x18826', '278-485-6089x2902', '2102784123'], 'orders': [{'productid': 1, 'units': 100, 'purchase_date': datetime.datetime(2023, 4, 21, 0, 0)}]}\n",
            "{'_id': ObjectId('65a1e3db4de10d2f8cecb64d'), 'customerid': 74, 'name': 'Taylor Ramirez', 'email': 'tylernelson@example.org', 'phone': ['420-385-0817', '001-885-529-1762x8288', '216-757-5112x771'], 'orders': [{'productid': 4, 'units': 49, 'purchase_date': datetime.datetime(2023, 9, 24, 0, 0)}, {'productid': 3, 'units': 540, 'purchase_date': datetime.datetime(2023, 5, 20, 0, 0)}]}\n",
            "{'_id': ObjectId('65a1e3db4de10d2f8cecb64e'), 'customerid': 75, 'name': 'Michele Marquez', 'email': 'melissajackson@example.org', 'phone': ['(497)507-7081', '7665485646', '625.683.9304'], 'orders': []}\n",
            "{'_id': ObjectId('65a1e3db4de10d2f8cecb64f'), 'customerid': 76, 'name': 'Sabrina Cook', 'email': 'bswanson@example.com', 'phone': ['(679)597-9892x964', '317-647-5953', '(667)587-8665x30494'], 'orders': [{'productid': 7, 'units': 95, 'purchase_date': datetime.datetime(2023, 4, 7, 0, 0)}, {'productid': 4, 'units': 540, 'purchase_date': datetime.datetime(2023, 5, 16, 0, 0)}]}\n",
            "{'_id': ObjectId('65a1e3db4de10d2f8cecb650'), 'customerid': 77, 'name': 'Yvonne Thomas', 'email': 'kevin48@example.org', 'phone': ['+1-954-211-9261x7863', '+1-784-810-9451x248', '942-629-3654x963'], 'orders': [{'productid': 3, 'units': 82, 'purchase_date': datetime.datetime(2023, 10, 3, 0, 0)}, {'productid': 2, 'units': 42, 'purchase_date': datetime.datetime(2023, 8, 30, 0, 0)}]}\n",
            "{'_id': ObjectId('65a1e3db4de10d2f8cecb651'), 'customerid': 78, 'name': 'Kathryn Murphy', 'email': 'phillipnguyen@example.org', 'phone': ['(233)679-6329x1442', '001-738-231-7832x455', '2052671486'], 'orders': []}\n",
            "{'_id': ObjectId('65a1e3db4de10d2f8cecb652'), 'customerid': 79, 'name': 'Theresa Sullivan', 'email': 'brendaburton@example.net', 'phone': ['564-648-5239', '001-348-672-0114x9568', '351.825.1906x466'], 'orders': [{'productid': 2, 'units': 16, 'purchase_date': datetime.datetime(2023, 4, 27, 0, 0)}]}\n",
            "{'_id': ObjectId('65a1e3db4de10d2f8cecb653'), 'customerid': 80, 'name': 'George Miller', 'email': 'danderson@example.net', 'phone': ['530-317-0664', '909-781-2945', '001-686-542-7691x02332'], 'orders': [{'productid': 9, 'units': 100, 'purchase_date': datetime.datetime(2023, 10, 11, 0, 0)}, {'productid': 7, 'units': 100, 'purchase_date': datetime.datetime(2023, 3, 2, 0, 0)}, {'productid': 10, 'units': 59, 'purchase_date': datetime.datetime(2023, 12, 24, 0, 0)}, {'productid': 7, 'units': 11, 'purchase_date': datetime.datetime(2023, 12, 12, 0, 0)}]}\n",
            "{'_id': ObjectId('65a1e3db4de10d2f8cecb654'), 'customerid': 81, 'name': 'Michael Taylor', 'email': 'daniellemoore@example.org', 'phone': ['(898)542-1974x852', '925.383.1997x99276', '(621)767-8314x1997'], 'orders': [{'productid': 3, 'units': 34, 'purchase_date': datetime.datetime(2023, 12, 22, 0, 0)}, {'productid': 10, 'units': 58, 'purchase_date': datetime.datetime(2023, 9, 25, 0, 0)}, {'productid': 7, 'units': 28, 'purchase_date': datetime.datetime(2023, 6, 11, 0, 0)}]}\n",
            "{'_id': ObjectId('65a1e3db4de10d2f8cecb655'), 'customerid': 82, 'name': 'Ian Campbell', 'email': 'aschultz@example.org', 'phone': ['688.570.6647x115', '204.546.7557', '591-816-5521x7977'], 'orders': [{'productid': 6, 'units': 67, 'purchase_date': datetime.datetime(2023, 9, 6, 0, 0)}]}\n",
            "{'_id': ObjectId('65a1e3db4de10d2f8cecb656'), 'customerid': 83, 'name': 'Brittney Figueroa', 'email': 'joseph09@example.net', 'phone': ['001-390-831-2242x13963', '001-456-943-8119', '738-688-2554x5502'], 'orders': [{'productid': 3, 'units': 45, 'purchase_date': datetime.datetime(2023, 12, 4, 0, 0)}]}\n",
            "{'_id': ObjectId('65a1e3db4de10d2f8cecb657'), 'customerid': 84, 'name': 'Justin Cordova', 'email': 'rrichards@example.net', 'phone': ['4083526842', '+1-706-740-9221', '+1-507-840-1778'], 'orders': [{'productid': 1, 'units': 34, 'purchase_date': datetime.datetime(2023, 10, 8, 0, 0)}, {'productid': 4, 'units': 63, 'purchase_date': datetime.datetime(2023, 8, 26, 0, 0)}, {'productid': 5, 'units': 1000, 'purchase_date': datetime.datetime(2023, 1, 29, 0, 0)}, {'productid': 4, 'units': 130, 'purchase_date': datetime.datetime(2023, 10, 31, 0, 0)}]}\n",
            "{'_id': ObjectId('65a1e3db4de10d2f8cecb658'), 'customerid': 85, 'name': 'Amanda Ramirez', 'email': 'lmills@example.org', 'phone': ['+1-742-848-0948x334', '306.615.6227', '(239)708-6742x233'], 'orders': [{'productid': 8, 'units': 55, 'purchase_date': datetime.datetime(2023, 6, 16, 0, 0)}, {'productid': 6, 'units': 16, 'purchase_date': datetime.datetime(2023, 4, 14, 0, 0)}]}\n",
            "{'_id': ObjectId('65a1e3db4de10d2f8cecb659'), 'customerid': 86, 'name': 'Jennifer Davis', 'email': 'natasha28@example.net', 'phone': ['+1-333-958-3050', '412.633.5499', '001-308-682-5170x5849'], 'orders': [{'productid': 1, 'units': 860, 'purchase_date': datetime.datetime(2023, 6, 8, 0, 0)}, {'productid': 7, 'units': 12, 'purchase_date': datetime.datetime(2023, 11, 27, 0, 0)}, {'productid': 10, 'units': 360, 'purchase_date': datetime.datetime(2023, 3, 3, 0, 0)}]}\n",
            "{'_id': ObjectId('65a1e3db4de10d2f8cecb65a'), 'customerid': 87, 'name': 'Dr. Dawn Gaines', 'email': 'nbrown@example.com', 'phone': ['990.840.3632', '(324)442-0574', '331.617.0094x70126'], 'orders': []}\n",
            "{'_id': ObjectId('65a1e3db4de10d2f8cecb65b'), 'customerid': 88, 'name': 'Lori Barnett', 'email': 'eparker@example.com', 'phone': ['+1-510-436-8111', '999.865.1697', '001-974-512-1806x558'], 'orders': [{'productid': 10, 'units': 290, 'purchase_date': datetime.datetime(2023, 10, 22, 0, 0)}, {'productid': 4, 'units': 82, 'purchase_date': datetime.datetime(2023, 2, 16, 0, 0)}]}\n",
            "{'_id': ObjectId('65a1e3db4de10d2f8cecb65c'), 'customerid': 89, 'name': 'David Price', 'email': 'joshuakline@example.com', 'phone': ['771.410.3592', '278.379.6072', '001-677-638-6327x75601'], 'orders': [{'productid': 6, 'units': 120, 'purchase_date': datetime.datetime(2023, 10, 5, 0, 0)}]}\n",
            "{'_id': ObjectId('65a1e3db4de10d2f8cecb65d'), 'customerid': 90, 'name': 'Matthew Hamilton', 'email': 'katherine08@example.net', 'phone': ['001-427-544-3635x86967', '(479)419-3063x0011', '001-863-520-1319x2525'], 'orders': []}\n",
            "{'_id': ObjectId('65a1e3db4de10d2f8cecb65e'), 'customerid': 91, 'name': 'Jennifer Mathews', 'email': 'victoriajones@example.net', 'phone': ['+1-771-507-7683x563', '(311)886-1324', '5899246323'], 'orders': [{'productid': 7, 'units': 40, 'purchase_date': datetime.datetime(2023, 5, 3, 0, 0)}]}\n",
            "{'_id': ObjectId('65a1e3db4de10d2f8cecb65f'), 'customerid': 92, 'name': 'William Dougherty', 'email': 'sandersdawn@example.com', 'phone': ['5636394792', '993.673.1672x6859', '+1-589-588-4882x22568'], 'orders': []}\n",
            "{'_id': ObjectId('65a1e3db4de10d2f8cecb660'), 'customerid': 93, 'name': 'Paul Lewis', 'email': 'kaitlyn32@example.net', 'phone': ['673-642-1950x1449', '+1-297-212-6341x41085', '962.495.6481x097'], 'orders': [{'productid': 8, 'units': 24, 'purchase_date': datetime.datetime(2023, 5, 15, 0, 0)}, {'productid': 3, 'units': 65, 'purchase_date': datetime.datetime(2023, 3, 16, 0, 0)}]}\n",
            "{'_id': ObjectId('65a1e3db4de10d2f8cecb661'), 'customerid': 94, 'name': 'Jamie Walton', 'email': 'charles89@example.org', 'phone': ['6824650062', '531.783.5065', '001-303-661-8358x24557'], 'orders': [{'productid': 9, 'units': 51, 'purchase_date': datetime.datetime(2023, 5, 3, 0, 0)}, {'productid': 10, 'units': 58, 'purchase_date': datetime.datetime(2023, 7, 24, 0, 0)}, {'productid': 1, 'units': 62, 'purchase_date': datetime.datetime(2023, 8, 26, 0, 0)}, {'productid': 1, 'units': 57, 'purchase_date': datetime.datetime(2023, 8, 20, 0, 0)}]}\n",
            "{'_id': ObjectId('65a1e3db4de10d2f8cecb662'), 'customerid': 95, 'name': 'Nancy Swanson', 'email': 'kyleoliver@example.net', 'phone': ['+1-563-880-2226x835', '001-644-498-4864x7015', '887.487.4285x735'], 'orders': [{'productid': 7, 'units': 97, 'purchase_date': datetime.datetime(2023, 3, 23, 0, 0)}, {'productid': 10, 'units': 250, 'purchase_date': datetime.datetime(2023, 11, 18, 0, 0)}, {'productid': 7, 'units': 96, 'purchase_date': datetime.datetime(2023, 5, 10, 0, 0)}]}\n",
            "{'_id': ObjectId('65a1e3db4de10d2f8cecb663'), 'customerid': 96, 'name': 'Mary Hudson', 'email': 'eroach@example.org', 'phone': ['001-937-936-4314x279', '794-609-5237x847', '(804)842-8038'], 'orders': [{'productid': 9, 'units': 34, 'purchase_date': datetime.datetime(2023, 6, 25, 0, 0)}, {'productid': 2, 'units': 33, 'purchase_date': datetime.datetime(2023, 3, 20, 0, 0)}, {'productid': 8, 'units': 20, 'purchase_date': datetime.datetime(2023, 7, 18, 0, 0)}]}\n",
            "{'_id': ObjectId('65a1e3db4de10d2f8cecb664'), 'customerid': 97, 'name': 'Jennifer Scott', 'email': 'antoniomason@example.org', 'phone': ['833-463-2154x920', '669.856.8119x992', '865.547.3478'], 'orders': [{'productid': 3, 'units': 38, 'purchase_date': datetime.datetime(2023, 3, 19, 0, 0)}]}\n",
            "{'_id': ObjectId('65a1e3db4de10d2f8cecb665'), 'customerid': 98, 'name': 'George Short', 'email': 'lukeduncan@example.com', 'phone': ['(900)289-2341x2372', '3005441405', '(771)583-2639'], 'orders': [{'productid': 4, 'units': 91, 'purchase_date': datetime.datetime(2023, 12, 11, 0, 0)}]}\n",
            "{'_id': ObjectId('65a1e3db4de10d2f8cecb666'), 'customerid': 99, 'name': 'Rachel Romero', 'email': 'hedwards@example.org', 'phone': ['(518)460-5264', '657-516-6625x38140', '4403414431'], 'orders': []}\n",
            "{'_id': ObjectId('65a1e3db4de10d2f8cecb667'), 'customerid': 100, 'name': 'Dan Bryan', 'email': 'lhernandez@example.com', 'phone': ['7574195116', '001-402-980-0152x3358', '001-294-692-8454'], 'orders': [{'productid': 3, 'units': 25, 'purchase_date': datetime.datetime(2023, 10, 21, 0, 0)}, {'productid': 8, 'units': 78, 'purchase_date': datetime.datetime(2023, 12, 1, 0, 0)}, {'productid': 7, 'units': 86, 'purchase_date': datetime.datetime(2023, 1, 21, 0, 0)}, {'productid': 5, 'units': 56, 'purchase_date': datetime.datetime(2023, 12, 5, 0, 0)}]}\n"
          ]
        }
      ]
    },
    {
      "cell_type": "markdown",
      "source": [
        "find customerid 76"
      ],
      "metadata": {
        "id": "E3O_CpF2cilt"
      }
    },
    {
      "cell_type": "code",
      "source": [
        "import pprint"
      ],
      "metadata": {
        "id": "IEJyj8pCGGGM"
      },
      "execution_count": 294,
      "outputs": []
    },
    {
      "cell_type": "code",
      "source": [
        "for document in db.customers.find({'customerid':76}):\n",
        "  print(pprint.pprint(document))"
      ],
      "metadata": {
        "colab": {
          "base_uri": "https://localhost:8080/"
        },
        "id": "JU37UrSBSvtn",
        "outputId": "89a58696-bdad-474b-ba6b-f584111b5aab"
      },
      "execution_count": 295,
      "outputs": [
        {
          "output_type": "stream",
          "name": "stdout",
          "text": [
            "{'_id': ObjectId('65a1e3db4de10d2f8cecb64f'),\n",
            " 'customerid': 76,\n",
            " 'email': 'bswanson@example.com',\n",
            " 'name': 'Sabrina Cook',\n",
            " 'orders': [{'productid': 7,\n",
            "             'purchase_date': datetime.datetime(2023, 4, 7, 0, 0),\n",
            "             'units': 95},\n",
            "            {'productid': 4,\n",
            "             'purchase_date': datetime.datetime(2023, 5, 16, 0, 0),\n",
            "             'units': 540}],\n",
            " 'phone': ['(679)597-9892x964', '317-647-5953', '(667)587-8665x30494']}\n",
            "None\n"
          ]
        }
      ]
    },
    {
      "cell_type": "markdown",
      "source": [
        "## Products\n",
        "\n",
        "find all products"
      ],
      "metadata": {
        "id": "cqtFa0b8Zt13"
      }
    },
    {
      "cell_type": "code",
      "source": [
        "for document in db.products.find({}):\n",
        "  print(document)"
      ],
      "metadata": {
        "colab": {
          "base_uri": "https://localhost:8080/"
        },
        "id": "k6n9rAQfU3yW",
        "outputId": "b558ce01-6b83-42f1-eb7a-61e735b97929"
      },
      "execution_count": 296,
      "outputs": [
        {
          "output_type": "stream",
          "name": "stdout",
          "text": [
            "{'_id': ObjectId('65a1e3db4de10d2f8cecb668'), 'productid': 1, 'category': 'Home', 'price': 58}\n",
            "{'_id': ObjectId('65a1e3db4de10d2f8cecb669'), 'productid': 2, 'category': 'Electronics', 'price': 2}\n",
            "{'_id': ObjectId('65a1e3db4de10d2f8cecb66a'), 'productid': 3, 'category': 'Home', 'price': 80}\n",
            "{'_id': ObjectId('65a1e3db4de10d2f8cecb66b'), 'productid': 4, 'category': 'Electronics', 'price': 32}\n",
            "{'_id': ObjectId('65a1e3db4de10d2f8cecb66c'), 'productid': 5, 'category': 'Clothing', 'price': 75}\n",
            "{'_id': ObjectId('65a1e3db4de10d2f8cecb66d'), 'productid': 6, 'category': 'Electronics', 'price': 32}\n",
            "{'_id': ObjectId('65a1e3db4de10d2f8cecb66e'), 'productid': 7, 'category': 'Books', 'price': 98}\n",
            "{'_id': ObjectId('65a1e3db4de10d2f8cecb66f'), 'productid': 8, 'category': 'Books', 'price': 63}\n",
            "{'_id': ObjectId('65a1e3db4de10d2f8cecb670'), 'productid': 9, 'category': 'Home', 'price': 30}\n",
            "{'_id': ObjectId('65a1e3db4de10d2f8cecb671'), 'productid': 10, 'category': 'Home', 'price': 76}\n"
          ]
        }
      ]
    },
    {
      "cell_type": "markdown",
      "source": [
        "find all products with prices less than 40"
      ],
      "metadata": {
        "id": "Dox59Ztlc10h"
      }
    },
    {
      "cell_type": "code",
      "source": [
        "for document in db.products.find({'price': {'$lt':40}}):\n",
        "  print(document)"
      ],
      "metadata": {
        "colab": {
          "base_uri": "https://localhost:8080/"
        },
        "id": "gwBXy1cfTKPh",
        "outputId": "427ebaea-a92b-44c7-827c-624d9dc204b7"
      },
      "execution_count": 297,
      "outputs": [
        {
          "output_type": "stream",
          "name": "stdout",
          "text": [
            "{'_id': ObjectId('65a1e3db4de10d2f8cecb669'), 'productid': 2, 'category': 'Electronics', 'price': 2}\n",
            "{'_id': ObjectId('65a1e3db4de10d2f8cecb66b'), 'productid': 4, 'category': 'Electronics', 'price': 32}\n",
            "{'_id': ObjectId('65a1e3db4de10d2f8cecb66d'), 'productid': 6, 'category': 'Electronics', 'price': 32}\n",
            "{'_id': ObjectId('65a1e3db4de10d2f8cecb670'), 'productid': 9, 'category': 'Home', 'price': 30}\n"
          ]
        }
      ]
    },
    {
      "cell_type": "markdown",
      "source": [
        "find all products with category clothing"
      ],
      "metadata": {
        "id": "Z7AWze1Dc5QO"
      }
    },
    {
      "cell_type": "code",
      "source": [
        "for document in db.products.find({'category': 'Clothing'}):\n",
        "  print(document)"
      ],
      "metadata": {
        "colab": {
          "base_uri": "https://localhost:8080/"
        },
        "id": "b2kBTS4bTbTi",
        "outputId": "ecba720d-b98a-4c0f-90d0-b1dc84e88081"
      },
      "execution_count": 298,
      "outputs": [
        {
          "output_type": "stream",
          "name": "stdout",
          "text": [
            "{'_id': ObjectId('65a1e3db4de10d2f8cecb66c'), 'productid': 5, 'category': 'Clothing', 'price': 75}\n"
          ]
        }
      ]
    },
    {
      "cell_type": "markdown",
      "source": [
        "find all products with price less than 40 AND category Clothing"
      ],
      "metadata": {
        "id": "z3G2QMqsc73k"
      }
    },
    {
      "cell_type": "code",
      "source": [
        "for document in db.products.find({'price': {'$lt':40},'category': 'Clothing'}):\n",
        "  print(document)"
      ],
      "metadata": {
        "id": "Yksl4SVtU_Bx"
      },
      "execution_count": 299,
      "outputs": []
    },
    {
      "cell_type": "markdown",
      "source": [
        "## Orders"
      ],
      "metadata": {
        "id": "o-PyKjH-ZyA_"
      }
    },
    {
      "cell_type": "code",
      "source": [
        "# Calculate the total number of orders\n",
        "pipeline = [\n",
        "    {\n",
        "        '$unwind': '$orders'\n",
        "    },\n",
        "    {\n",
        "        '$group': {\n",
        "            '_id': None,\n",
        "            'total_orders': {'$sum': 1}\n",
        "        }\n",
        "    },\n",
        "    {\n",
        "        '$project': {\n",
        "            '_id': 0,\n",
        "            'total_orders': 1\n",
        "        }\n",
        "    }\n",
        "]\n",
        "\n",
        "result = db.customers.aggregate(pipeline)\n",
        "\n",
        "# Extract the total number of orders\n",
        "total_orders = next(result)['total_orders']\n",
        "\n",
        "# Print the total number of orders\n",
        "print(f\"Total Orders: {total_orders}\")"
      ],
      "metadata": {
        "colab": {
          "base_uri": "https://localhost:8080/"
        },
        "id": "zbEehhzXHHoI",
        "outputId": "1c6e6c4d-52d4-463f-f864-6aec8165a195"
      },
      "execution_count": 300,
      "outputs": [
        {
          "output_type": "stream",
          "name": "stdout",
          "text": [
            "Total Orders: 190\n"
          ]
        }
      ]
    },
    {
      "cell_type": "code",
      "source": [
        "filter_criteria = {\n",
        "    'orders.units': {'$lt': 45000}\n",
        "}\n",
        "\n",
        "# Calculate the total number of orders with units less than 12000\n",
        "pipeline = [\n",
        "    {\n",
        "      '$unwind': '$orders'\n",
        "    },\n",
        "    {\n",
        "      '$match': filter_criteria\n",
        "    },\n",
        "    {\n",
        "        '$group': {\n",
        "            '_id': None,\n",
        "            'total_orders': {'$sum': 1}\n",
        "        }\n",
        "    },\n",
        "    {\n",
        "        '$project': {\n",
        "            '_id': 0,\n",
        "            'total_orders': 1\n",
        "        }\n",
        "    }\n",
        "]\n",
        "\n",
        "result = db.customers.aggregate(pipeline)\n",
        "\n",
        "# Extract the total number of orders\n",
        "total_orders = next(result)['total_orders']\n",
        "\n",
        "# Print the total number of orders\n",
        "print(f\"Total Orders: {total_orders}\")"
      ],
      "metadata": {
        "colab": {
          "base_uri": "https://localhost:8080/"
        },
        "id": "zCludVJLLIIP",
        "outputId": "2bff96d7-1c80-4d84-e256-b12acdfd9e4f"
      },
      "execution_count": 301,
      "outputs": [
        {
          "output_type": "stream",
          "name": "stdout",
          "text": [
            "Total Orders: 190\n"
          ]
        }
      ]
    },
    {
      "cell_type": "markdown",
      "source": [
        "# Extraction\n"
      ],
      "metadata": {
        "id": "2rCz0PjQdk3d"
      }
    },
    {
      "cell_type": "markdown",
      "source": [
        "## Dump mongodb data to json file."
      ],
      "metadata": {
        "id": "aARmVUWMfry8"
      }
    },
    {
      "cell_type": "markdown",
      "source": [
        "create a JSON file with the filtered data."
      ],
      "metadata": {
        "id": "PW0sAp8Kdptk"
      }
    },
    {
      "cell_type": "code",
      "source": [
        "from bson.json_util import dumps\n",
        "import json"
      ],
      "metadata": {
        "id": "McVys3EohoeQ"
      },
      "execution_count": 302,
      "outputs": []
    },
    {
      "cell_type": "markdown",
      "source": [
        "open a file. create a cursor that gets passed to dumps which takes binary json data and converts it serialized json, deseralizes it to python object and then serializes it back to a file.  "
      ],
      "metadata": {
        "id": "76ZvzDUYd65Y"
      }
    },
    {
      "cell_type": "markdown",
      "source": [
        "## dump orders"
      ],
      "metadata": {
        "id": "9QhRK7b9iUbE"
      }
    },
    {
      "cell_type": "markdown",
      "source": [
        "## dump customers\n",
        "\n",
        "(and orders as they are nested)"
      ],
      "metadata": {
        "id": "_sL1H_YPiWem"
      }
    },
    {
      "cell_type": "code",
      "source": [
        "with open('customers.json', 'w') as file:\n",
        "  cursor = db.customers.find({})\n",
        "  file.write(dumps(cursor))"
      ],
      "metadata": {
        "id": "DMPIXxjgg4La"
      },
      "execution_count": 303,
      "outputs": []
    },
    {
      "cell_type": "markdown",
      "source": [
        "## dump products"
      ],
      "metadata": {
        "id": "v5Q4VGapiXvC"
      }
    },
    {
      "cell_type": "code",
      "source": [
        "with open('products.json', 'w') as file:\n",
        "  cursor = db.products.find({})\n",
        "  file.write(dumps(cursor))"
      ],
      "metadata": {
        "id": "4B7LAYJRhBke"
      },
      "execution_count": 304,
      "outputs": []
    },
    {
      "cell_type": "code",
      "source": [
        "!ls -lh *.json"
      ],
      "metadata": {
        "colab": {
          "base_uri": "https://localhost:8080/"
        },
        "id": "3MX4SWGdh6n4",
        "outputId": "6f17c86b-30cc-4629-e7b8-55850c3969e0"
      },
      "execution_count": 305,
      "outputs": [
        {
          "output_type": "stream",
          "name": "stdout",
          "text": [
            "-rw-r--r-- 1 root root 36K Jan 13 01:14 customers.json\n",
            "-rw-r--r-- 1 root root 987 Jan 13 01:14 products.json\n"
          ]
        }
      ]
    },
    {
      "cell_type": "markdown",
      "source": [
        "# Reading JSON file data into Python"
      ],
      "metadata": {
        "id": "-K7Ot5B7JO9o"
      }
    },
    {
      "cell_type": "markdown",
      "source": [
        "## JSON into Pandas DataFrame"
      ],
      "metadata": {
        "id": "xJIgvFHFJcH-"
      }
    },
    {
      "cell_type": "code",
      "source": [
        "import pandas as pd"
      ],
      "metadata": {
        "id": "MlJrhVWijy5S"
      },
      "execution_count": 306,
      "outputs": []
    },
    {
      "cell_type": "code",
      "source": [
        "customers_df = pd.read_json('customers.json')\n",
        "customers_df.head(2)"
      ],
      "metadata": {
        "colab": {
          "base_uri": "https://localhost:8080/",
          "height": 201
        },
        "id": "EfUKlGYZj0PT",
        "outputId": "902b5151-f572-4315-c538-233df9ff6a31"
      },
      "execution_count": 307,
      "outputs": [
        {
          "output_type": "execute_result",
          "data": {
            "text/plain": [
              "                                    _id  customerid             name  \\\n",
              "0  {'$oid': '65a1e3db4de10d2f8cecb604'}           1   Tiffany Curtis   \n",
              "1  {'$oid': '65a1e3db4de10d2f8cecb605'}           2  Patrick Cameron   \n",
              "\n",
              "                         email  \\\n",
              "0  martinezgabriel@example.com   \n",
              "1    rebeccasutton@example.net   \n",
              "\n",
              "                                               phone  \\\n",
              "0  [+1-307-692-0397, (283)470-1635x784, 299.225.0...   \n",
              "1  [789-276-9551, 558.799.9446x79008, +1-622-462-...   \n",
              "\n",
              "                                              orders  \n",
              "0  [{'productid': 8, 'units': 55, 'purchase_date'...  \n",
              "1  [{'productid': 7, 'units': 390, 'purchase_date...  "
            ],
            "text/html": [
              "\n",
              "  <div id=\"df-e8b17dd9-689a-416b-98cd-1347c86d2706\" class=\"colab-df-container\">\n",
              "    <div>\n",
              "<style scoped>\n",
              "    .dataframe tbody tr th:only-of-type {\n",
              "        vertical-align: middle;\n",
              "    }\n",
              "\n",
              "    .dataframe tbody tr th {\n",
              "        vertical-align: top;\n",
              "    }\n",
              "\n",
              "    .dataframe thead th {\n",
              "        text-align: right;\n",
              "    }\n",
              "</style>\n",
              "<table border=\"1\" class=\"dataframe\">\n",
              "  <thead>\n",
              "    <tr style=\"text-align: right;\">\n",
              "      <th></th>\n",
              "      <th>_id</th>\n",
              "      <th>customerid</th>\n",
              "      <th>name</th>\n",
              "      <th>email</th>\n",
              "      <th>phone</th>\n",
              "      <th>orders</th>\n",
              "    </tr>\n",
              "  </thead>\n",
              "  <tbody>\n",
              "    <tr>\n",
              "      <th>0</th>\n",
              "      <td>{'$oid': '65a1e3db4de10d2f8cecb604'}</td>\n",
              "      <td>1</td>\n",
              "      <td>Tiffany Curtis</td>\n",
              "      <td>martinezgabriel@example.com</td>\n",
              "      <td>[+1-307-692-0397, (283)470-1635x784, 299.225.0...</td>\n",
              "      <td>[{'productid': 8, 'units': 55, 'purchase_date'...</td>\n",
              "    </tr>\n",
              "    <tr>\n",
              "      <th>1</th>\n",
              "      <td>{'$oid': '65a1e3db4de10d2f8cecb605'}</td>\n",
              "      <td>2</td>\n",
              "      <td>Patrick Cameron</td>\n",
              "      <td>rebeccasutton@example.net</td>\n",
              "      <td>[789-276-9551, 558.799.9446x79008, +1-622-462-...</td>\n",
              "      <td>[{'productid': 7, 'units': 390, 'purchase_date...</td>\n",
              "    </tr>\n",
              "  </tbody>\n",
              "</table>\n",
              "</div>\n",
              "    <div class=\"colab-df-buttons\">\n",
              "\n",
              "  <div class=\"colab-df-container\">\n",
              "    <button class=\"colab-df-convert\" onclick=\"convertToInteractive('df-e8b17dd9-689a-416b-98cd-1347c86d2706')\"\n",
              "            title=\"Convert this dataframe to an interactive table.\"\n",
              "            style=\"display:none;\">\n",
              "\n",
              "  <svg xmlns=\"http://www.w3.org/2000/svg\" height=\"24px\" viewBox=\"0 -960 960 960\">\n",
              "    <path d=\"M120-120v-720h720v720H120Zm60-500h600v-160H180v160Zm220 220h160v-160H400v160Zm0 220h160v-160H400v160ZM180-400h160v-160H180v160Zm440 0h160v-160H620v160ZM180-180h160v-160H180v160Zm440 0h160v-160H620v160Z\"/>\n",
              "  </svg>\n",
              "    </button>\n",
              "\n",
              "  <style>\n",
              "    .colab-df-container {\n",
              "      display:flex;\n",
              "      gap: 12px;\n",
              "    }\n",
              "\n",
              "    .colab-df-convert {\n",
              "      background-color: #E8F0FE;\n",
              "      border: none;\n",
              "      border-radius: 50%;\n",
              "      cursor: pointer;\n",
              "      display: none;\n",
              "      fill: #1967D2;\n",
              "      height: 32px;\n",
              "      padding: 0 0 0 0;\n",
              "      width: 32px;\n",
              "    }\n",
              "\n",
              "    .colab-df-convert:hover {\n",
              "      background-color: #E2EBFA;\n",
              "      box-shadow: 0px 1px 2px rgba(60, 64, 67, 0.3), 0px 1px 3px 1px rgba(60, 64, 67, 0.15);\n",
              "      fill: #174EA6;\n",
              "    }\n",
              "\n",
              "    .colab-df-buttons div {\n",
              "      margin-bottom: 4px;\n",
              "    }\n",
              "\n",
              "    [theme=dark] .colab-df-convert {\n",
              "      background-color: #3B4455;\n",
              "      fill: #D2E3FC;\n",
              "    }\n",
              "\n",
              "    [theme=dark] .colab-df-convert:hover {\n",
              "      background-color: #434B5C;\n",
              "      box-shadow: 0px 1px 3px 1px rgba(0, 0, 0, 0.15);\n",
              "      filter: drop-shadow(0px 1px 2px rgba(0, 0, 0, 0.3));\n",
              "      fill: #FFFFFF;\n",
              "    }\n",
              "  </style>\n",
              "\n",
              "    <script>\n",
              "      const buttonEl =\n",
              "        document.querySelector('#df-e8b17dd9-689a-416b-98cd-1347c86d2706 button.colab-df-convert');\n",
              "      buttonEl.style.display =\n",
              "        google.colab.kernel.accessAllowed ? 'block' : 'none';\n",
              "\n",
              "      async function convertToInteractive(key) {\n",
              "        const element = document.querySelector('#df-e8b17dd9-689a-416b-98cd-1347c86d2706');\n",
              "        const dataTable =\n",
              "          await google.colab.kernel.invokeFunction('convertToInteractive',\n",
              "                                                    [key], {});\n",
              "        if (!dataTable) return;\n",
              "\n",
              "        const docLinkHtml = 'Like what you see? Visit the ' +\n",
              "          '<a target=\"_blank\" href=https://colab.research.google.com/notebooks/data_table.ipynb>data table notebook</a>'\n",
              "          + ' to learn more about interactive tables.';\n",
              "        element.innerHTML = '';\n",
              "        dataTable['output_type'] = 'display_data';\n",
              "        await google.colab.output.renderOutput(dataTable, element);\n",
              "        const docLink = document.createElement('div');\n",
              "        docLink.innerHTML = docLinkHtml;\n",
              "        element.appendChild(docLink);\n",
              "      }\n",
              "    </script>\n",
              "  </div>\n",
              "\n",
              "\n",
              "<div id=\"df-4d4b4dff-16b1-40d3-aff8-ff45e53a45f5\">\n",
              "  <button class=\"colab-df-quickchart\" onclick=\"quickchart('df-4d4b4dff-16b1-40d3-aff8-ff45e53a45f5')\"\n",
              "            title=\"Suggest charts\"\n",
              "            style=\"display:none;\">\n",
              "\n",
              "<svg xmlns=\"http://www.w3.org/2000/svg\" height=\"24px\"viewBox=\"0 0 24 24\"\n",
              "     width=\"24px\">\n",
              "    <g>\n",
              "        <path d=\"M19 3H5c-1.1 0-2 .9-2 2v14c0 1.1.9 2 2 2h14c1.1 0 2-.9 2-2V5c0-1.1-.9-2-2-2zM9 17H7v-7h2v7zm4 0h-2V7h2v10zm4 0h-2v-4h2v4z\"/>\n",
              "    </g>\n",
              "</svg>\n",
              "  </button>\n",
              "\n",
              "<style>\n",
              "  .colab-df-quickchart {\n",
              "      --bg-color: #E8F0FE;\n",
              "      --fill-color: #1967D2;\n",
              "      --hover-bg-color: #E2EBFA;\n",
              "      --hover-fill-color: #174EA6;\n",
              "      --disabled-fill-color: #AAA;\n",
              "      --disabled-bg-color: #DDD;\n",
              "  }\n",
              "\n",
              "  [theme=dark] .colab-df-quickchart {\n",
              "      --bg-color: #3B4455;\n",
              "      --fill-color: #D2E3FC;\n",
              "      --hover-bg-color: #434B5C;\n",
              "      --hover-fill-color: #FFFFFF;\n",
              "      --disabled-bg-color: #3B4455;\n",
              "      --disabled-fill-color: #666;\n",
              "  }\n",
              "\n",
              "  .colab-df-quickchart {\n",
              "    background-color: var(--bg-color);\n",
              "    border: none;\n",
              "    border-radius: 50%;\n",
              "    cursor: pointer;\n",
              "    display: none;\n",
              "    fill: var(--fill-color);\n",
              "    height: 32px;\n",
              "    padding: 0;\n",
              "    width: 32px;\n",
              "  }\n",
              "\n",
              "  .colab-df-quickchart:hover {\n",
              "    background-color: var(--hover-bg-color);\n",
              "    box-shadow: 0 1px 2px rgba(60, 64, 67, 0.3), 0 1px 3px 1px rgba(60, 64, 67, 0.15);\n",
              "    fill: var(--button-hover-fill-color);\n",
              "  }\n",
              "\n",
              "  .colab-df-quickchart-complete:disabled,\n",
              "  .colab-df-quickchart-complete:disabled:hover {\n",
              "    background-color: var(--disabled-bg-color);\n",
              "    fill: var(--disabled-fill-color);\n",
              "    box-shadow: none;\n",
              "  }\n",
              "\n",
              "  .colab-df-spinner {\n",
              "    border: 2px solid var(--fill-color);\n",
              "    border-color: transparent;\n",
              "    border-bottom-color: var(--fill-color);\n",
              "    animation:\n",
              "      spin 1s steps(1) infinite;\n",
              "  }\n",
              "\n",
              "  @keyframes spin {\n",
              "    0% {\n",
              "      border-color: transparent;\n",
              "      border-bottom-color: var(--fill-color);\n",
              "      border-left-color: var(--fill-color);\n",
              "    }\n",
              "    20% {\n",
              "      border-color: transparent;\n",
              "      border-left-color: var(--fill-color);\n",
              "      border-top-color: var(--fill-color);\n",
              "    }\n",
              "    30% {\n",
              "      border-color: transparent;\n",
              "      border-left-color: var(--fill-color);\n",
              "      border-top-color: var(--fill-color);\n",
              "      border-right-color: var(--fill-color);\n",
              "    }\n",
              "    40% {\n",
              "      border-color: transparent;\n",
              "      border-right-color: var(--fill-color);\n",
              "      border-top-color: var(--fill-color);\n",
              "    }\n",
              "    60% {\n",
              "      border-color: transparent;\n",
              "      border-right-color: var(--fill-color);\n",
              "    }\n",
              "    80% {\n",
              "      border-color: transparent;\n",
              "      border-right-color: var(--fill-color);\n",
              "      border-bottom-color: var(--fill-color);\n",
              "    }\n",
              "    90% {\n",
              "      border-color: transparent;\n",
              "      border-bottom-color: var(--fill-color);\n",
              "    }\n",
              "  }\n",
              "</style>\n",
              "\n",
              "  <script>\n",
              "    async function quickchart(key) {\n",
              "      const quickchartButtonEl =\n",
              "        document.querySelector('#' + key + ' button');\n",
              "      quickchartButtonEl.disabled = true;  // To prevent multiple clicks.\n",
              "      quickchartButtonEl.classList.add('colab-df-spinner');\n",
              "      try {\n",
              "        const charts = await google.colab.kernel.invokeFunction(\n",
              "            'suggestCharts', [key], {});\n",
              "      } catch (error) {\n",
              "        console.error('Error during call to suggestCharts:', error);\n",
              "      }\n",
              "      quickchartButtonEl.classList.remove('colab-df-spinner');\n",
              "      quickchartButtonEl.classList.add('colab-df-quickchart-complete');\n",
              "    }\n",
              "    (() => {\n",
              "      let quickchartButtonEl =\n",
              "        document.querySelector('#df-4d4b4dff-16b1-40d3-aff8-ff45e53a45f5 button');\n",
              "      quickchartButtonEl.style.display =\n",
              "        google.colab.kernel.accessAllowed ? 'block' : 'none';\n",
              "    })();\n",
              "  </script>\n",
              "</div>\n",
              "\n",
              "    </div>\n",
              "  </div>\n"
            ]
          },
          "metadata": {},
          "execution_count": 307
        }
      ]
    },
    {
      "cell_type": "code",
      "source": [
        "products_df = pd.read_json('products.json')\n",
        "products_df.head(2)"
      ],
      "metadata": {
        "colab": {
          "base_uri": "https://localhost:8080/",
          "height": 112
        },
        "id": "TyYwyqmtkEYW",
        "outputId": "3c2930be-c495-4fff-a246-1bb806c587b3"
      },
      "execution_count": 308,
      "outputs": [
        {
          "output_type": "execute_result",
          "data": {
            "text/plain": [
              "                                    _id  productid     category  price\n",
              "0  {'$oid': '65a1e3db4de10d2f8cecb668'}          1         Home     58\n",
              "1  {'$oid': '65a1e3db4de10d2f8cecb669'}          2  Electronics      2"
            ],
            "text/html": [
              "\n",
              "  <div id=\"df-a80a88ce-dbdd-4ee8-b1d8-57b322b97626\" class=\"colab-df-container\">\n",
              "    <div>\n",
              "<style scoped>\n",
              "    .dataframe tbody tr th:only-of-type {\n",
              "        vertical-align: middle;\n",
              "    }\n",
              "\n",
              "    .dataframe tbody tr th {\n",
              "        vertical-align: top;\n",
              "    }\n",
              "\n",
              "    .dataframe thead th {\n",
              "        text-align: right;\n",
              "    }\n",
              "</style>\n",
              "<table border=\"1\" class=\"dataframe\">\n",
              "  <thead>\n",
              "    <tr style=\"text-align: right;\">\n",
              "      <th></th>\n",
              "      <th>_id</th>\n",
              "      <th>productid</th>\n",
              "      <th>category</th>\n",
              "      <th>price</th>\n",
              "    </tr>\n",
              "  </thead>\n",
              "  <tbody>\n",
              "    <tr>\n",
              "      <th>0</th>\n",
              "      <td>{'$oid': '65a1e3db4de10d2f8cecb668'}</td>\n",
              "      <td>1</td>\n",
              "      <td>Home</td>\n",
              "      <td>58</td>\n",
              "    </tr>\n",
              "    <tr>\n",
              "      <th>1</th>\n",
              "      <td>{'$oid': '65a1e3db4de10d2f8cecb669'}</td>\n",
              "      <td>2</td>\n",
              "      <td>Electronics</td>\n",
              "      <td>2</td>\n",
              "    </tr>\n",
              "  </tbody>\n",
              "</table>\n",
              "</div>\n",
              "    <div class=\"colab-df-buttons\">\n",
              "\n",
              "  <div class=\"colab-df-container\">\n",
              "    <button class=\"colab-df-convert\" onclick=\"convertToInteractive('df-a80a88ce-dbdd-4ee8-b1d8-57b322b97626')\"\n",
              "            title=\"Convert this dataframe to an interactive table.\"\n",
              "            style=\"display:none;\">\n",
              "\n",
              "  <svg xmlns=\"http://www.w3.org/2000/svg\" height=\"24px\" viewBox=\"0 -960 960 960\">\n",
              "    <path d=\"M120-120v-720h720v720H120Zm60-500h600v-160H180v160Zm220 220h160v-160H400v160Zm0 220h160v-160H400v160ZM180-400h160v-160H180v160Zm440 0h160v-160H620v160ZM180-180h160v-160H180v160Zm440 0h160v-160H620v160Z\"/>\n",
              "  </svg>\n",
              "    </button>\n",
              "\n",
              "  <style>\n",
              "    .colab-df-container {\n",
              "      display:flex;\n",
              "      gap: 12px;\n",
              "    }\n",
              "\n",
              "    .colab-df-convert {\n",
              "      background-color: #E8F0FE;\n",
              "      border: none;\n",
              "      border-radius: 50%;\n",
              "      cursor: pointer;\n",
              "      display: none;\n",
              "      fill: #1967D2;\n",
              "      height: 32px;\n",
              "      padding: 0 0 0 0;\n",
              "      width: 32px;\n",
              "    }\n",
              "\n",
              "    .colab-df-convert:hover {\n",
              "      background-color: #E2EBFA;\n",
              "      box-shadow: 0px 1px 2px rgba(60, 64, 67, 0.3), 0px 1px 3px 1px rgba(60, 64, 67, 0.15);\n",
              "      fill: #174EA6;\n",
              "    }\n",
              "\n",
              "    .colab-df-buttons div {\n",
              "      margin-bottom: 4px;\n",
              "    }\n",
              "\n",
              "    [theme=dark] .colab-df-convert {\n",
              "      background-color: #3B4455;\n",
              "      fill: #D2E3FC;\n",
              "    }\n",
              "\n",
              "    [theme=dark] .colab-df-convert:hover {\n",
              "      background-color: #434B5C;\n",
              "      box-shadow: 0px 1px 3px 1px rgba(0, 0, 0, 0.15);\n",
              "      filter: drop-shadow(0px 1px 2px rgba(0, 0, 0, 0.3));\n",
              "      fill: #FFFFFF;\n",
              "    }\n",
              "  </style>\n",
              "\n",
              "    <script>\n",
              "      const buttonEl =\n",
              "        document.querySelector('#df-a80a88ce-dbdd-4ee8-b1d8-57b322b97626 button.colab-df-convert');\n",
              "      buttonEl.style.display =\n",
              "        google.colab.kernel.accessAllowed ? 'block' : 'none';\n",
              "\n",
              "      async function convertToInteractive(key) {\n",
              "        const element = document.querySelector('#df-a80a88ce-dbdd-4ee8-b1d8-57b322b97626');\n",
              "        const dataTable =\n",
              "          await google.colab.kernel.invokeFunction('convertToInteractive',\n",
              "                                                    [key], {});\n",
              "        if (!dataTable) return;\n",
              "\n",
              "        const docLinkHtml = 'Like what you see? Visit the ' +\n",
              "          '<a target=\"_blank\" href=https://colab.research.google.com/notebooks/data_table.ipynb>data table notebook</a>'\n",
              "          + ' to learn more about interactive tables.';\n",
              "        element.innerHTML = '';\n",
              "        dataTable['output_type'] = 'display_data';\n",
              "        await google.colab.output.renderOutput(dataTable, element);\n",
              "        const docLink = document.createElement('div');\n",
              "        docLink.innerHTML = docLinkHtml;\n",
              "        element.appendChild(docLink);\n",
              "      }\n",
              "    </script>\n",
              "  </div>\n",
              "\n",
              "\n",
              "<div id=\"df-d4611938-c098-4b8c-a91b-9af4cff94b23\">\n",
              "  <button class=\"colab-df-quickchart\" onclick=\"quickchart('df-d4611938-c098-4b8c-a91b-9af4cff94b23')\"\n",
              "            title=\"Suggest charts\"\n",
              "            style=\"display:none;\">\n",
              "\n",
              "<svg xmlns=\"http://www.w3.org/2000/svg\" height=\"24px\"viewBox=\"0 0 24 24\"\n",
              "     width=\"24px\">\n",
              "    <g>\n",
              "        <path d=\"M19 3H5c-1.1 0-2 .9-2 2v14c0 1.1.9 2 2 2h14c1.1 0 2-.9 2-2V5c0-1.1-.9-2-2-2zM9 17H7v-7h2v7zm4 0h-2V7h2v10zm4 0h-2v-4h2v4z\"/>\n",
              "    </g>\n",
              "</svg>\n",
              "  </button>\n",
              "\n",
              "<style>\n",
              "  .colab-df-quickchart {\n",
              "      --bg-color: #E8F0FE;\n",
              "      --fill-color: #1967D2;\n",
              "      --hover-bg-color: #E2EBFA;\n",
              "      --hover-fill-color: #174EA6;\n",
              "      --disabled-fill-color: #AAA;\n",
              "      --disabled-bg-color: #DDD;\n",
              "  }\n",
              "\n",
              "  [theme=dark] .colab-df-quickchart {\n",
              "      --bg-color: #3B4455;\n",
              "      --fill-color: #D2E3FC;\n",
              "      --hover-bg-color: #434B5C;\n",
              "      --hover-fill-color: #FFFFFF;\n",
              "      --disabled-bg-color: #3B4455;\n",
              "      --disabled-fill-color: #666;\n",
              "  }\n",
              "\n",
              "  .colab-df-quickchart {\n",
              "    background-color: var(--bg-color);\n",
              "    border: none;\n",
              "    border-radius: 50%;\n",
              "    cursor: pointer;\n",
              "    display: none;\n",
              "    fill: var(--fill-color);\n",
              "    height: 32px;\n",
              "    padding: 0;\n",
              "    width: 32px;\n",
              "  }\n",
              "\n",
              "  .colab-df-quickchart:hover {\n",
              "    background-color: var(--hover-bg-color);\n",
              "    box-shadow: 0 1px 2px rgba(60, 64, 67, 0.3), 0 1px 3px 1px rgba(60, 64, 67, 0.15);\n",
              "    fill: var(--button-hover-fill-color);\n",
              "  }\n",
              "\n",
              "  .colab-df-quickchart-complete:disabled,\n",
              "  .colab-df-quickchart-complete:disabled:hover {\n",
              "    background-color: var(--disabled-bg-color);\n",
              "    fill: var(--disabled-fill-color);\n",
              "    box-shadow: none;\n",
              "  }\n",
              "\n",
              "  .colab-df-spinner {\n",
              "    border: 2px solid var(--fill-color);\n",
              "    border-color: transparent;\n",
              "    border-bottom-color: var(--fill-color);\n",
              "    animation:\n",
              "      spin 1s steps(1) infinite;\n",
              "  }\n",
              "\n",
              "  @keyframes spin {\n",
              "    0% {\n",
              "      border-color: transparent;\n",
              "      border-bottom-color: var(--fill-color);\n",
              "      border-left-color: var(--fill-color);\n",
              "    }\n",
              "    20% {\n",
              "      border-color: transparent;\n",
              "      border-left-color: var(--fill-color);\n",
              "      border-top-color: var(--fill-color);\n",
              "    }\n",
              "    30% {\n",
              "      border-color: transparent;\n",
              "      border-left-color: var(--fill-color);\n",
              "      border-top-color: var(--fill-color);\n",
              "      border-right-color: var(--fill-color);\n",
              "    }\n",
              "    40% {\n",
              "      border-color: transparent;\n",
              "      border-right-color: var(--fill-color);\n",
              "      border-top-color: var(--fill-color);\n",
              "    }\n",
              "    60% {\n",
              "      border-color: transparent;\n",
              "      border-right-color: var(--fill-color);\n",
              "    }\n",
              "    80% {\n",
              "      border-color: transparent;\n",
              "      border-right-color: var(--fill-color);\n",
              "      border-bottom-color: var(--fill-color);\n",
              "    }\n",
              "    90% {\n",
              "      border-color: transparent;\n",
              "      border-bottom-color: var(--fill-color);\n",
              "    }\n",
              "  }\n",
              "</style>\n",
              "\n",
              "  <script>\n",
              "    async function quickchart(key) {\n",
              "      const quickchartButtonEl =\n",
              "        document.querySelector('#' + key + ' button');\n",
              "      quickchartButtonEl.disabled = true;  // To prevent multiple clicks.\n",
              "      quickchartButtonEl.classList.add('colab-df-spinner');\n",
              "      try {\n",
              "        const charts = await google.colab.kernel.invokeFunction(\n",
              "            'suggestCharts', [key], {});\n",
              "      } catch (error) {\n",
              "        console.error('Error during call to suggestCharts:', error);\n",
              "      }\n",
              "      quickchartButtonEl.classList.remove('colab-df-spinner');\n",
              "      quickchartButtonEl.classList.add('colab-df-quickchart-complete');\n",
              "    }\n",
              "    (() => {\n",
              "      let quickchartButtonEl =\n",
              "        document.querySelector('#df-d4611938-c098-4b8c-a91b-9af4cff94b23 button');\n",
              "      quickchartButtonEl.style.display =\n",
              "        google.colab.kernel.accessAllowed ? 'block' : 'none';\n",
              "    })();\n",
              "  </script>\n",
              "</div>\n",
              "\n",
              "    </div>\n",
              "  </div>\n"
            ]
          },
          "metadata": {},
          "execution_count": 308
        }
      ]
    },
    {
      "cell_type": "markdown",
      "source": [
        "### Merge DataFrames"
      ],
      "metadata": {
        "id": "xG-DsipBJXwz"
      }
    },
    {
      "cell_type": "code",
      "source": [
        "customers_df.head(4)"
      ],
      "metadata": {
        "colab": {
          "base_uri": "https://localhost:8080/",
          "height": 333
        },
        "id": "EAIF7PkYQ8tz",
        "outputId": "8b408c9a-cd3e-4b96-d33d-49aeb401d608"
      },
      "execution_count": 309,
      "outputs": [
        {
          "output_type": "execute_result",
          "data": {
            "text/plain": [
              "                                    _id  customerid              name  \\\n",
              "0  {'$oid': '65a1e3db4de10d2f8cecb604'}           1    Tiffany Curtis   \n",
              "1  {'$oid': '65a1e3db4de10d2f8cecb605'}           2   Patrick Cameron   \n",
              "2  {'$oid': '65a1e3db4de10d2f8cecb606'}           3  Wesley Schroeder   \n",
              "3  {'$oid': '65a1e3db4de10d2f8cecb607'}           4      Aaron Mendez   \n",
              "\n",
              "                         email  \\\n",
              "0  martinezgabriel@example.com   \n",
              "1    rebeccasutton@example.net   \n",
              "2      alexisgreen@example.org   \n",
              "3       masonjamie@example.com   \n",
              "\n",
              "                                               phone  \\\n",
              "0  [+1-307-692-0397, (283)470-1635x784, 299.225.0...   \n",
              "1  [789-276-9551, 558.799.9446x79008, +1-622-462-...   \n",
              "2  [239-429-9960x246, 793.805.2356, 001-794-937-5...   \n",
              "3   [535.526.2613x3518, (501)717-5312, 332.558.3854]   \n",
              "\n",
              "                                              orders  \n",
              "0  [{'productid': 8, 'units': 55, 'purchase_date'...  \n",
              "1  [{'productid': 7, 'units': 390, 'purchase_date...  \n",
              "2  [{'productid': 1, 'units': 21, 'purchase_date'...  \n",
              "3  [{'productid': 1, 'units': 14, 'purchase_date'...  "
            ],
            "text/html": [
              "\n",
              "  <div id=\"df-93f3066e-7fc1-44cc-ae41-4414bd74b3ca\" class=\"colab-df-container\">\n",
              "    <div>\n",
              "<style scoped>\n",
              "    .dataframe tbody tr th:only-of-type {\n",
              "        vertical-align: middle;\n",
              "    }\n",
              "\n",
              "    .dataframe tbody tr th {\n",
              "        vertical-align: top;\n",
              "    }\n",
              "\n",
              "    .dataframe thead th {\n",
              "        text-align: right;\n",
              "    }\n",
              "</style>\n",
              "<table border=\"1\" class=\"dataframe\">\n",
              "  <thead>\n",
              "    <tr style=\"text-align: right;\">\n",
              "      <th></th>\n",
              "      <th>_id</th>\n",
              "      <th>customerid</th>\n",
              "      <th>name</th>\n",
              "      <th>email</th>\n",
              "      <th>phone</th>\n",
              "      <th>orders</th>\n",
              "    </tr>\n",
              "  </thead>\n",
              "  <tbody>\n",
              "    <tr>\n",
              "      <th>0</th>\n",
              "      <td>{'$oid': '65a1e3db4de10d2f8cecb604'}</td>\n",
              "      <td>1</td>\n",
              "      <td>Tiffany Curtis</td>\n",
              "      <td>martinezgabriel@example.com</td>\n",
              "      <td>[+1-307-692-0397, (283)470-1635x784, 299.225.0...</td>\n",
              "      <td>[{'productid': 8, 'units': 55, 'purchase_date'...</td>\n",
              "    </tr>\n",
              "    <tr>\n",
              "      <th>1</th>\n",
              "      <td>{'$oid': '65a1e3db4de10d2f8cecb605'}</td>\n",
              "      <td>2</td>\n",
              "      <td>Patrick Cameron</td>\n",
              "      <td>rebeccasutton@example.net</td>\n",
              "      <td>[789-276-9551, 558.799.9446x79008, +1-622-462-...</td>\n",
              "      <td>[{'productid': 7, 'units': 390, 'purchase_date...</td>\n",
              "    </tr>\n",
              "    <tr>\n",
              "      <th>2</th>\n",
              "      <td>{'$oid': '65a1e3db4de10d2f8cecb606'}</td>\n",
              "      <td>3</td>\n",
              "      <td>Wesley Schroeder</td>\n",
              "      <td>alexisgreen@example.org</td>\n",
              "      <td>[239-429-9960x246, 793.805.2356, 001-794-937-5...</td>\n",
              "      <td>[{'productid': 1, 'units': 21, 'purchase_date'...</td>\n",
              "    </tr>\n",
              "    <tr>\n",
              "      <th>3</th>\n",
              "      <td>{'$oid': '65a1e3db4de10d2f8cecb607'}</td>\n",
              "      <td>4</td>\n",
              "      <td>Aaron Mendez</td>\n",
              "      <td>masonjamie@example.com</td>\n",
              "      <td>[535.526.2613x3518, (501)717-5312, 332.558.3854]</td>\n",
              "      <td>[{'productid': 1, 'units': 14, 'purchase_date'...</td>\n",
              "    </tr>\n",
              "  </tbody>\n",
              "</table>\n",
              "</div>\n",
              "    <div class=\"colab-df-buttons\">\n",
              "\n",
              "  <div class=\"colab-df-container\">\n",
              "    <button class=\"colab-df-convert\" onclick=\"convertToInteractive('df-93f3066e-7fc1-44cc-ae41-4414bd74b3ca')\"\n",
              "            title=\"Convert this dataframe to an interactive table.\"\n",
              "            style=\"display:none;\">\n",
              "\n",
              "  <svg xmlns=\"http://www.w3.org/2000/svg\" height=\"24px\" viewBox=\"0 -960 960 960\">\n",
              "    <path d=\"M120-120v-720h720v720H120Zm60-500h600v-160H180v160Zm220 220h160v-160H400v160Zm0 220h160v-160H400v160ZM180-400h160v-160H180v160Zm440 0h160v-160H620v160ZM180-180h160v-160H180v160Zm440 0h160v-160H620v160Z\"/>\n",
              "  </svg>\n",
              "    </button>\n",
              "\n",
              "  <style>\n",
              "    .colab-df-container {\n",
              "      display:flex;\n",
              "      gap: 12px;\n",
              "    }\n",
              "\n",
              "    .colab-df-convert {\n",
              "      background-color: #E8F0FE;\n",
              "      border: none;\n",
              "      border-radius: 50%;\n",
              "      cursor: pointer;\n",
              "      display: none;\n",
              "      fill: #1967D2;\n",
              "      height: 32px;\n",
              "      padding: 0 0 0 0;\n",
              "      width: 32px;\n",
              "    }\n",
              "\n",
              "    .colab-df-convert:hover {\n",
              "      background-color: #E2EBFA;\n",
              "      box-shadow: 0px 1px 2px rgba(60, 64, 67, 0.3), 0px 1px 3px 1px rgba(60, 64, 67, 0.15);\n",
              "      fill: #174EA6;\n",
              "    }\n",
              "\n",
              "    .colab-df-buttons div {\n",
              "      margin-bottom: 4px;\n",
              "    }\n",
              "\n",
              "    [theme=dark] .colab-df-convert {\n",
              "      background-color: #3B4455;\n",
              "      fill: #D2E3FC;\n",
              "    }\n",
              "\n",
              "    [theme=dark] .colab-df-convert:hover {\n",
              "      background-color: #434B5C;\n",
              "      box-shadow: 0px 1px 3px 1px rgba(0, 0, 0, 0.15);\n",
              "      filter: drop-shadow(0px 1px 2px rgba(0, 0, 0, 0.3));\n",
              "      fill: #FFFFFF;\n",
              "    }\n",
              "  </style>\n",
              "\n",
              "    <script>\n",
              "      const buttonEl =\n",
              "        document.querySelector('#df-93f3066e-7fc1-44cc-ae41-4414bd74b3ca button.colab-df-convert');\n",
              "      buttonEl.style.display =\n",
              "        google.colab.kernel.accessAllowed ? 'block' : 'none';\n",
              "\n",
              "      async function convertToInteractive(key) {\n",
              "        const element = document.querySelector('#df-93f3066e-7fc1-44cc-ae41-4414bd74b3ca');\n",
              "        const dataTable =\n",
              "          await google.colab.kernel.invokeFunction('convertToInteractive',\n",
              "                                                    [key], {});\n",
              "        if (!dataTable) return;\n",
              "\n",
              "        const docLinkHtml = 'Like what you see? Visit the ' +\n",
              "          '<a target=\"_blank\" href=https://colab.research.google.com/notebooks/data_table.ipynb>data table notebook</a>'\n",
              "          + ' to learn more about interactive tables.';\n",
              "        element.innerHTML = '';\n",
              "        dataTable['output_type'] = 'display_data';\n",
              "        await google.colab.output.renderOutput(dataTable, element);\n",
              "        const docLink = document.createElement('div');\n",
              "        docLink.innerHTML = docLinkHtml;\n",
              "        element.appendChild(docLink);\n",
              "      }\n",
              "    </script>\n",
              "  </div>\n",
              "\n",
              "\n",
              "<div id=\"df-7215aacc-2b8d-4581-b848-a5d50ba19ade\">\n",
              "  <button class=\"colab-df-quickchart\" onclick=\"quickchart('df-7215aacc-2b8d-4581-b848-a5d50ba19ade')\"\n",
              "            title=\"Suggest charts\"\n",
              "            style=\"display:none;\">\n",
              "\n",
              "<svg xmlns=\"http://www.w3.org/2000/svg\" height=\"24px\"viewBox=\"0 0 24 24\"\n",
              "     width=\"24px\">\n",
              "    <g>\n",
              "        <path d=\"M19 3H5c-1.1 0-2 .9-2 2v14c0 1.1.9 2 2 2h14c1.1 0 2-.9 2-2V5c0-1.1-.9-2-2-2zM9 17H7v-7h2v7zm4 0h-2V7h2v10zm4 0h-2v-4h2v4z\"/>\n",
              "    </g>\n",
              "</svg>\n",
              "  </button>\n",
              "\n",
              "<style>\n",
              "  .colab-df-quickchart {\n",
              "      --bg-color: #E8F0FE;\n",
              "      --fill-color: #1967D2;\n",
              "      --hover-bg-color: #E2EBFA;\n",
              "      --hover-fill-color: #174EA6;\n",
              "      --disabled-fill-color: #AAA;\n",
              "      --disabled-bg-color: #DDD;\n",
              "  }\n",
              "\n",
              "  [theme=dark] .colab-df-quickchart {\n",
              "      --bg-color: #3B4455;\n",
              "      --fill-color: #D2E3FC;\n",
              "      --hover-bg-color: #434B5C;\n",
              "      --hover-fill-color: #FFFFFF;\n",
              "      --disabled-bg-color: #3B4455;\n",
              "      --disabled-fill-color: #666;\n",
              "  }\n",
              "\n",
              "  .colab-df-quickchart {\n",
              "    background-color: var(--bg-color);\n",
              "    border: none;\n",
              "    border-radius: 50%;\n",
              "    cursor: pointer;\n",
              "    display: none;\n",
              "    fill: var(--fill-color);\n",
              "    height: 32px;\n",
              "    padding: 0;\n",
              "    width: 32px;\n",
              "  }\n",
              "\n",
              "  .colab-df-quickchart:hover {\n",
              "    background-color: var(--hover-bg-color);\n",
              "    box-shadow: 0 1px 2px rgba(60, 64, 67, 0.3), 0 1px 3px 1px rgba(60, 64, 67, 0.15);\n",
              "    fill: var(--button-hover-fill-color);\n",
              "  }\n",
              "\n",
              "  .colab-df-quickchart-complete:disabled,\n",
              "  .colab-df-quickchart-complete:disabled:hover {\n",
              "    background-color: var(--disabled-bg-color);\n",
              "    fill: var(--disabled-fill-color);\n",
              "    box-shadow: none;\n",
              "  }\n",
              "\n",
              "  .colab-df-spinner {\n",
              "    border: 2px solid var(--fill-color);\n",
              "    border-color: transparent;\n",
              "    border-bottom-color: var(--fill-color);\n",
              "    animation:\n",
              "      spin 1s steps(1) infinite;\n",
              "  }\n",
              "\n",
              "  @keyframes spin {\n",
              "    0% {\n",
              "      border-color: transparent;\n",
              "      border-bottom-color: var(--fill-color);\n",
              "      border-left-color: var(--fill-color);\n",
              "    }\n",
              "    20% {\n",
              "      border-color: transparent;\n",
              "      border-left-color: var(--fill-color);\n",
              "      border-top-color: var(--fill-color);\n",
              "    }\n",
              "    30% {\n",
              "      border-color: transparent;\n",
              "      border-left-color: var(--fill-color);\n",
              "      border-top-color: var(--fill-color);\n",
              "      border-right-color: var(--fill-color);\n",
              "    }\n",
              "    40% {\n",
              "      border-color: transparent;\n",
              "      border-right-color: var(--fill-color);\n",
              "      border-top-color: var(--fill-color);\n",
              "    }\n",
              "    60% {\n",
              "      border-color: transparent;\n",
              "      border-right-color: var(--fill-color);\n",
              "    }\n",
              "    80% {\n",
              "      border-color: transparent;\n",
              "      border-right-color: var(--fill-color);\n",
              "      border-bottom-color: var(--fill-color);\n",
              "    }\n",
              "    90% {\n",
              "      border-color: transparent;\n",
              "      border-bottom-color: var(--fill-color);\n",
              "    }\n",
              "  }\n",
              "</style>\n",
              "\n",
              "  <script>\n",
              "    async function quickchart(key) {\n",
              "      const quickchartButtonEl =\n",
              "        document.querySelector('#' + key + ' button');\n",
              "      quickchartButtonEl.disabled = true;  // To prevent multiple clicks.\n",
              "      quickchartButtonEl.classList.add('colab-df-spinner');\n",
              "      try {\n",
              "        const charts = await google.colab.kernel.invokeFunction(\n",
              "            'suggestCharts', [key], {});\n",
              "      } catch (error) {\n",
              "        console.error('Error during call to suggestCharts:', error);\n",
              "      }\n",
              "      quickchartButtonEl.classList.remove('colab-df-spinner');\n",
              "      quickchartButtonEl.classList.add('colab-df-quickchart-complete');\n",
              "    }\n",
              "    (() => {\n",
              "      let quickchartButtonEl =\n",
              "        document.querySelector('#df-7215aacc-2b8d-4581-b848-a5d50ba19ade button');\n",
              "      quickchartButtonEl.style.display =\n",
              "        google.colab.kernel.accessAllowed ? 'block' : 'none';\n",
              "    })();\n",
              "  </script>\n",
              "</div>\n",
              "\n",
              "    </div>\n",
              "  </div>\n"
            ]
          },
          "metadata": {},
          "execution_count": 309
        }
      ]
    },
    {
      "cell_type": "code",
      "source": [
        "orders_df = customers_df.explode('orders')"
      ],
      "metadata": {
        "id": "mocoF6h2TiF0"
      },
      "execution_count": 310,
      "outputs": []
    },
    {
      "cell_type": "code",
      "source": [
        "df_orders_expanded = pd.concat([orders_df.drop(['orders'], axis=1), orders_df['orders'].apply(pd.Series)], axis=1)\n",
        "df_orders_expanded.head(3)\n"
      ],
      "metadata": {
        "colab": {
          "base_uri": "https://localhost:8080/",
          "height": 371
        },
        "id": "KOJCLbp2WMSV",
        "outputId": "45161531-78f5-4d4d-ab1d-936ee4eacba4"
      },
      "execution_count": 311,
      "outputs": [
        {
          "output_type": "execute_result",
          "data": {
            "text/plain": [
              "                                    _id  customerid            name  \\\n",
              "0  {'$oid': '65a1e3db4de10d2f8cecb604'}           1  Tiffany Curtis   \n",
              "0  {'$oid': '65a1e3db4de10d2f8cecb604'}           1  Tiffany Curtis   \n",
              "0  {'$oid': '65a1e3db4de10d2f8cecb604'}           1  Tiffany Curtis   \n",
              "\n",
              "                         email  \\\n",
              "0  martinezgabriel@example.com   \n",
              "0  martinezgabriel@example.com   \n",
              "0  martinezgabriel@example.com   \n",
              "\n",
              "                                               phone  productid  units  \\\n",
              "0  [+1-307-692-0397, (283)470-1635x784, 299.225.0...        8.0   55.0   \n",
              "0  [+1-307-692-0397, (283)470-1635x784, 299.225.0...        8.0   37.0   \n",
              "0  [+1-307-692-0397, (283)470-1635x784, 299.225.0...        2.0   26.0   \n",
              "\n",
              "                       purchase_date   0  \n",
              "0  {'$date': '2023-03-21T00:00:00Z'} NaN  \n",
              "0  {'$date': '2023-04-14T00:00:00Z'} NaN  \n",
              "0  {'$date': '2023-02-23T00:00:00Z'} NaN  "
            ],
            "text/html": [
              "\n",
              "  <div id=\"df-ffc36b66-ef57-4844-bb86-bca597d1aa6e\" class=\"colab-df-container\">\n",
              "    <div>\n",
              "<style scoped>\n",
              "    .dataframe tbody tr th:only-of-type {\n",
              "        vertical-align: middle;\n",
              "    }\n",
              "\n",
              "    .dataframe tbody tr th {\n",
              "        vertical-align: top;\n",
              "    }\n",
              "\n",
              "    .dataframe thead th {\n",
              "        text-align: right;\n",
              "    }\n",
              "</style>\n",
              "<table border=\"1\" class=\"dataframe\">\n",
              "  <thead>\n",
              "    <tr style=\"text-align: right;\">\n",
              "      <th></th>\n",
              "      <th>_id</th>\n",
              "      <th>customerid</th>\n",
              "      <th>name</th>\n",
              "      <th>email</th>\n",
              "      <th>phone</th>\n",
              "      <th>productid</th>\n",
              "      <th>units</th>\n",
              "      <th>purchase_date</th>\n",
              "      <th>0</th>\n",
              "    </tr>\n",
              "  </thead>\n",
              "  <tbody>\n",
              "    <tr>\n",
              "      <th>0</th>\n",
              "      <td>{'$oid': '65a1e3db4de10d2f8cecb604'}</td>\n",
              "      <td>1</td>\n",
              "      <td>Tiffany Curtis</td>\n",
              "      <td>martinezgabriel@example.com</td>\n",
              "      <td>[+1-307-692-0397, (283)470-1635x784, 299.225.0...</td>\n",
              "      <td>8.0</td>\n",
              "      <td>55.0</td>\n",
              "      <td>{'$date': '2023-03-21T00:00:00Z'}</td>\n",
              "      <td>NaN</td>\n",
              "    </tr>\n",
              "    <tr>\n",
              "      <th>0</th>\n",
              "      <td>{'$oid': '65a1e3db4de10d2f8cecb604'}</td>\n",
              "      <td>1</td>\n",
              "      <td>Tiffany Curtis</td>\n",
              "      <td>martinezgabriel@example.com</td>\n",
              "      <td>[+1-307-692-0397, (283)470-1635x784, 299.225.0...</td>\n",
              "      <td>8.0</td>\n",
              "      <td>37.0</td>\n",
              "      <td>{'$date': '2023-04-14T00:00:00Z'}</td>\n",
              "      <td>NaN</td>\n",
              "    </tr>\n",
              "    <tr>\n",
              "      <th>0</th>\n",
              "      <td>{'$oid': '65a1e3db4de10d2f8cecb604'}</td>\n",
              "      <td>1</td>\n",
              "      <td>Tiffany Curtis</td>\n",
              "      <td>martinezgabriel@example.com</td>\n",
              "      <td>[+1-307-692-0397, (283)470-1635x784, 299.225.0...</td>\n",
              "      <td>2.0</td>\n",
              "      <td>26.0</td>\n",
              "      <td>{'$date': '2023-02-23T00:00:00Z'}</td>\n",
              "      <td>NaN</td>\n",
              "    </tr>\n",
              "  </tbody>\n",
              "</table>\n",
              "</div>\n",
              "    <div class=\"colab-df-buttons\">\n",
              "\n",
              "  <div class=\"colab-df-container\">\n",
              "    <button class=\"colab-df-convert\" onclick=\"convertToInteractive('df-ffc36b66-ef57-4844-bb86-bca597d1aa6e')\"\n",
              "            title=\"Convert this dataframe to an interactive table.\"\n",
              "            style=\"display:none;\">\n",
              "\n",
              "  <svg xmlns=\"http://www.w3.org/2000/svg\" height=\"24px\" viewBox=\"0 -960 960 960\">\n",
              "    <path d=\"M120-120v-720h720v720H120Zm60-500h600v-160H180v160Zm220 220h160v-160H400v160Zm0 220h160v-160H400v160ZM180-400h160v-160H180v160Zm440 0h160v-160H620v160ZM180-180h160v-160H180v160Zm440 0h160v-160H620v160Z\"/>\n",
              "  </svg>\n",
              "    </button>\n",
              "\n",
              "  <style>\n",
              "    .colab-df-container {\n",
              "      display:flex;\n",
              "      gap: 12px;\n",
              "    }\n",
              "\n",
              "    .colab-df-convert {\n",
              "      background-color: #E8F0FE;\n",
              "      border: none;\n",
              "      border-radius: 50%;\n",
              "      cursor: pointer;\n",
              "      display: none;\n",
              "      fill: #1967D2;\n",
              "      height: 32px;\n",
              "      padding: 0 0 0 0;\n",
              "      width: 32px;\n",
              "    }\n",
              "\n",
              "    .colab-df-convert:hover {\n",
              "      background-color: #E2EBFA;\n",
              "      box-shadow: 0px 1px 2px rgba(60, 64, 67, 0.3), 0px 1px 3px 1px rgba(60, 64, 67, 0.15);\n",
              "      fill: #174EA6;\n",
              "    }\n",
              "\n",
              "    .colab-df-buttons div {\n",
              "      margin-bottom: 4px;\n",
              "    }\n",
              "\n",
              "    [theme=dark] .colab-df-convert {\n",
              "      background-color: #3B4455;\n",
              "      fill: #D2E3FC;\n",
              "    }\n",
              "\n",
              "    [theme=dark] .colab-df-convert:hover {\n",
              "      background-color: #434B5C;\n",
              "      box-shadow: 0px 1px 3px 1px rgba(0, 0, 0, 0.15);\n",
              "      filter: drop-shadow(0px 1px 2px rgba(0, 0, 0, 0.3));\n",
              "      fill: #FFFFFF;\n",
              "    }\n",
              "  </style>\n",
              "\n",
              "    <script>\n",
              "      const buttonEl =\n",
              "        document.querySelector('#df-ffc36b66-ef57-4844-bb86-bca597d1aa6e button.colab-df-convert');\n",
              "      buttonEl.style.display =\n",
              "        google.colab.kernel.accessAllowed ? 'block' : 'none';\n",
              "\n",
              "      async function convertToInteractive(key) {\n",
              "        const element = document.querySelector('#df-ffc36b66-ef57-4844-bb86-bca597d1aa6e');\n",
              "        const dataTable =\n",
              "          await google.colab.kernel.invokeFunction('convertToInteractive',\n",
              "                                                    [key], {});\n",
              "        if (!dataTable) return;\n",
              "\n",
              "        const docLinkHtml = 'Like what you see? Visit the ' +\n",
              "          '<a target=\"_blank\" href=https://colab.research.google.com/notebooks/data_table.ipynb>data table notebook</a>'\n",
              "          + ' to learn more about interactive tables.';\n",
              "        element.innerHTML = '';\n",
              "        dataTable['output_type'] = 'display_data';\n",
              "        await google.colab.output.renderOutput(dataTable, element);\n",
              "        const docLink = document.createElement('div');\n",
              "        docLink.innerHTML = docLinkHtml;\n",
              "        element.appendChild(docLink);\n",
              "      }\n",
              "    </script>\n",
              "  </div>\n",
              "\n",
              "\n",
              "<div id=\"df-62e2edb1-81a8-4aa2-b3cc-89943a529037\">\n",
              "  <button class=\"colab-df-quickchart\" onclick=\"quickchart('df-62e2edb1-81a8-4aa2-b3cc-89943a529037')\"\n",
              "            title=\"Suggest charts\"\n",
              "            style=\"display:none;\">\n",
              "\n",
              "<svg xmlns=\"http://www.w3.org/2000/svg\" height=\"24px\"viewBox=\"0 0 24 24\"\n",
              "     width=\"24px\">\n",
              "    <g>\n",
              "        <path d=\"M19 3H5c-1.1 0-2 .9-2 2v14c0 1.1.9 2 2 2h14c1.1 0 2-.9 2-2V5c0-1.1-.9-2-2-2zM9 17H7v-7h2v7zm4 0h-2V7h2v10zm4 0h-2v-4h2v4z\"/>\n",
              "    </g>\n",
              "</svg>\n",
              "  </button>\n",
              "\n",
              "<style>\n",
              "  .colab-df-quickchart {\n",
              "      --bg-color: #E8F0FE;\n",
              "      --fill-color: #1967D2;\n",
              "      --hover-bg-color: #E2EBFA;\n",
              "      --hover-fill-color: #174EA6;\n",
              "      --disabled-fill-color: #AAA;\n",
              "      --disabled-bg-color: #DDD;\n",
              "  }\n",
              "\n",
              "  [theme=dark] .colab-df-quickchart {\n",
              "      --bg-color: #3B4455;\n",
              "      --fill-color: #D2E3FC;\n",
              "      --hover-bg-color: #434B5C;\n",
              "      --hover-fill-color: #FFFFFF;\n",
              "      --disabled-bg-color: #3B4455;\n",
              "      --disabled-fill-color: #666;\n",
              "  }\n",
              "\n",
              "  .colab-df-quickchart {\n",
              "    background-color: var(--bg-color);\n",
              "    border: none;\n",
              "    border-radius: 50%;\n",
              "    cursor: pointer;\n",
              "    display: none;\n",
              "    fill: var(--fill-color);\n",
              "    height: 32px;\n",
              "    padding: 0;\n",
              "    width: 32px;\n",
              "  }\n",
              "\n",
              "  .colab-df-quickchart:hover {\n",
              "    background-color: var(--hover-bg-color);\n",
              "    box-shadow: 0 1px 2px rgba(60, 64, 67, 0.3), 0 1px 3px 1px rgba(60, 64, 67, 0.15);\n",
              "    fill: var(--button-hover-fill-color);\n",
              "  }\n",
              "\n",
              "  .colab-df-quickchart-complete:disabled,\n",
              "  .colab-df-quickchart-complete:disabled:hover {\n",
              "    background-color: var(--disabled-bg-color);\n",
              "    fill: var(--disabled-fill-color);\n",
              "    box-shadow: none;\n",
              "  }\n",
              "\n",
              "  .colab-df-spinner {\n",
              "    border: 2px solid var(--fill-color);\n",
              "    border-color: transparent;\n",
              "    border-bottom-color: var(--fill-color);\n",
              "    animation:\n",
              "      spin 1s steps(1) infinite;\n",
              "  }\n",
              "\n",
              "  @keyframes spin {\n",
              "    0% {\n",
              "      border-color: transparent;\n",
              "      border-bottom-color: var(--fill-color);\n",
              "      border-left-color: var(--fill-color);\n",
              "    }\n",
              "    20% {\n",
              "      border-color: transparent;\n",
              "      border-left-color: var(--fill-color);\n",
              "      border-top-color: var(--fill-color);\n",
              "    }\n",
              "    30% {\n",
              "      border-color: transparent;\n",
              "      border-left-color: var(--fill-color);\n",
              "      border-top-color: var(--fill-color);\n",
              "      border-right-color: var(--fill-color);\n",
              "    }\n",
              "    40% {\n",
              "      border-color: transparent;\n",
              "      border-right-color: var(--fill-color);\n",
              "      border-top-color: var(--fill-color);\n",
              "    }\n",
              "    60% {\n",
              "      border-color: transparent;\n",
              "      border-right-color: var(--fill-color);\n",
              "    }\n",
              "    80% {\n",
              "      border-color: transparent;\n",
              "      border-right-color: var(--fill-color);\n",
              "      border-bottom-color: var(--fill-color);\n",
              "    }\n",
              "    90% {\n",
              "      border-color: transparent;\n",
              "      border-bottom-color: var(--fill-color);\n",
              "    }\n",
              "  }\n",
              "</style>\n",
              "\n",
              "  <script>\n",
              "    async function quickchart(key) {\n",
              "      const quickchartButtonEl =\n",
              "        document.querySelector('#' + key + ' button');\n",
              "      quickchartButtonEl.disabled = true;  // To prevent multiple clicks.\n",
              "      quickchartButtonEl.classList.add('colab-df-spinner');\n",
              "      try {\n",
              "        const charts = await google.colab.kernel.invokeFunction(\n",
              "            'suggestCharts', [key], {});\n",
              "      } catch (error) {\n",
              "        console.error('Error during call to suggestCharts:', error);\n",
              "      }\n",
              "      quickchartButtonEl.classList.remove('colab-df-spinner');\n",
              "      quickchartButtonEl.classList.add('colab-df-quickchart-complete');\n",
              "    }\n",
              "    (() => {\n",
              "      let quickchartButtonEl =\n",
              "        document.querySelector('#df-62e2edb1-81a8-4aa2-b3cc-89943a529037 button');\n",
              "      quickchartButtonEl.style.display =\n",
              "        google.colab.kernel.accessAllowed ? 'block' : 'none';\n",
              "    })();\n",
              "  </script>\n",
              "</div>\n",
              "\n",
              "    </div>\n",
              "  </div>\n"
            ]
          },
          "metadata": {},
          "execution_count": 311
        }
      ]
    },
    {
      "cell_type": "code",
      "source": [
        "customer_product_orders = df_orders_expanded.merge(products_df, on='productid', how='left')\n",
        "customer_product_orders.head(3)"
      ],
      "metadata": {
        "colab": {
          "base_uri": "https://localhost:8080/",
          "height": 371
        },
        "id": "MVmcFZ7FWxo4",
        "outputId": "dc49d53a-5f66-457d-c4f2-9717987c56ba"
      },
      "execution_count": 312,
      "outputs": [
        {
          "output_type": "execute_result",
          "data": {
            "text/plain": [
              "                                  _id_x  customerid            name  \\\n",
              "0  {'$oid': '65a1e3db4de10d2f8cecb604'}           1  Tiffany Curtis   \n",
              "1  {'$oid': '65a1e3db4de10d2f8cecb604'}           1  Tiffany Curtis   \n",
              "2  {'$oid': '65a1e3db4de10d2f8cecb604'}           1  Tiffany Curtis   \n",
              "\n",
              "                         email  \\\n",
              "0  martinezgabriel@example.com   \n",
              "1  martinezgabriel@example.com   \n",
              "2  martinezgabriel@example.com   \n",
              "\n",
              "                                               phone  productid  units  \\\n",
              "0  [+1-307-692-0397, (283)470-1635x784, 299.225.0...        8.0   55.0   \n",
              "1  [+1-307-692-0397, (283)470-1635x784, 299.225.0...        8.0   37.0   \n",
              "2  [+1-307-692-0397, (283)470-1635x784, 299.225.0...        2.0   26.0   \n",
              "\n",
              "                       purchase_date   0  \\\n",
              "0  {'$date': '2023-03-21T00:00:00Z'} NaN   \n",
              "1  {'$date': '2023-04-14T00:00:00Z'} NaN   \n",
              "2  {'$date': '2023-02-23T00:00:00Z'} NaN   \n",
              "\n",
              "                                  _id_y     category  price  \n",
              "0  {'$oid': '65a1e3db4de10d2f8cecb66f'}        Books   63.0  \n",
              "1  {'$oid': '65a1e3db4de10d2f8cecb66f'}        Books   63.0  \n",
              "2  {'$oid': '65a1e3db4de10d2f8cecb669'}  Electronics    2.0  "
            ],
            "text/html": [
              "\n",
              "  <div id=\"df-d7d1ef10-21ba-4874-8fbb-df126f441e2a\" class=\"colab-df-container\">\n",
              "    <div>\n",
              "<style scoped>\n",
              "    .dataframe tbody tr th:only-of-type {\n",
              "        vertical-align: middle;\n",
              "    }\n",
              "\n",
              "    .dataframe tbody tr th {\n",
              "        vertical-align: top;\n",
              "    }\n",
              "\n",
              "    .dataframe thead th {\n",
              "        text-align: right;\n",
              "    }\n",
              "</style>\n",
              "<table border=\"1\" class=\"dataframe\">\n",
              "  <thead>\n",
              "    <tr style=\"text-align: right;\">\n",
              "      <th></th>\n",
              "      <th>_id_x</th>\n",
              "      <th>customerid</th>\n",
              "      <th>name</th>\n",
              "      <th>email</th>\n",
              "      <th>phone</th>\n",
              "      <th>productid</th>\n",
              "      <th>units</th>\n",
              "      <th>purchase_date</th>\n",
              "      <th>0</th>\n",
              "      <th>_id_y</th>\n",
              "      <th>category</th>\n",
              "      <th>price</th>\n",
              "    </tr>\n",
              "  </thead>\n",
              "  <tbody>\n",
              "    <tr>\n",
              "      <th>0</th>\n",
              "      <td>{'$oid': '65a1e3db4de10d2f8cecb604'}</td>\n",
              "      <td>1</td>\n",
              "      <td>Tiffany Curtis</td>\n",
              "      <td>martinezgabriel@example.com</td>\n",
              "      <td>[+1-307-692-0397, (283)470-1635x784, 299.225.0...</td>\n",
              "      <td>8.0</td>\n",
              "      <td>55.0</td>\n",
              "      <td>{'$date': '2023-03-21T00:00:00Z'}</td>\n",
              "      <td>NaN</td>\n",
              "      <td>{'$oid': '65a1e3db4de10d2f8cecb66f'}</td>\n",
              "      <td>Books</td>\n",
              "      <td>63.0</td>\n",
              "    </tr>\n",
              "    <tr>\n",
              "      <th>1</th>\n",
              "      <td>{'$oid': '65a1e3db4de10d2f8cecb604'}</td>\n",
              "      <td>1</td>\n",
              "      <td>Tiffany Curtis</td>\n",
              "      <td>martinezgabriel@example.com</td>\n",
              "      <td>[+1-307-692-0397, (283)470-1635x784, 299.225.0...</td>\n",
              "      <td>8.0</td>\n",
              "      <td>37.0</td>\n",
              "      <td>{'$date': '2023-04-14T00:00:00Z'}</td>\n",
              "      <td>NaN</td>\n",
              "      <td>{'$oid': '65a1e3db4de10d2f8cecb66f'}</td>\n",
              "      <td>Books</td>\n",
              "      <td>63.0</td>\n",
              "    </tr>\n",
              "    <tr>\n",
              "      <th>2</th>\n",
              "      <td>{'$oid': '65a1e3db4de10d2f8cecb604'}</td>\n",
              "      <td>1</td>\n",
              "      <td>Tiffany Curtis</td>\n",
              "      <td>martinezgabriel@example.com</td>\n",
              "      <td>[+1-307-692-0397, (283)470-1635x784, 299.225.0...</td>\n",
              "      <td>2.0</td>\n",
              "      <td>26.0</td>\n",
              "      <td>{'$date': '2023-02-23T00:00:00Z'}</td>\n",
              "      <td>NaN</td>\n",
              "      <td>{'$oid': '65a1e3db4de10d2f8cecb669'}</td>\n",
              "      <td>Electronics</td>\n",
              "      <td>2.0</td>\n",
              "    </tr>\n",
              "  </tbody>\n",
              "</table>\n",
              "</div>\n",
              "    <div class=\"colab-df-buttons\">\n",
              "\n",
              "  <div class=\"colab-df-container\">\n",
              "    <button class=\"colab-df-convert\" onclick=\"convertToInteractive('df-d7d1ef10-21ba-4874-8fbb-df126f441e2a')\"\n",
              "            title=\"Convert this dataframe to an interactive table.\"\n",
              "            style=\"display:none;\">\n",
              "\n",
              "  <svg xmlns=\"http://www.w3.org/2000/svg\" height=\"24px\" viewBox=\"0 -960 960 960\">\n",
              "    <path d=\"M120-120v-720h720v720H120Zm60-500h600v-160H180v160Zm220 220h160v-160H400v160Zm0 220h160v-160H400v160ZM180-400h160v-160H180v160Zm440 0h160v-160H620v160ZM180-180h160v-160H180v160Zm440 0h160v-160H620v160Z\"/>\n",
              "  </svg>\n",
              "    </button>\n",
              "\n",
              "  <style>\n",
              "    .colab-df-container {\n",
              "      display:flex;\n",
              "      gap: 12px;\n",
              "    }\n",
              "\n",
              "    .colab-df-convert {\n",
              "      background-color: #E8F0FE;\n",
              "      border: none;\n",
              "      border-radius: 50%;\n",
              "      cursor: pointer;\n",
              "      display: none;\n",
              "      fill: #1967D2;\n",
              "      height: 32px;\n",
              "      padding: 0 0 0 0;\n",
              "      width: 32px;\n",
              "    }\n",
              "\n",
              "    .colab-df-convert:hover {\n",
              "      background-color: #E2EBFA;\n",
              "      box-shadow: 0px 1px 2px rgba(60, 64, 67, 0.3), 0px 1px 3px 1px rgba(60, 64, 67, 0.15);\n",
              "      fill: #174EA6;\n",
              "    }\n",
              "\n",
              "    .colab-df-buttons div {\n",
              "      margin-bottom: 4px;\n",
              "    }\n",
              "\n",
              "    [theme=dark] .colab-df-convert {\n",
              "      background-color: #3B4455;\n",
              "      fill: #D2E3FC;\n",
              "    }\n",
              "\n",
              "    [theme=dark] .colab-df-convert:hover {\n",
              "      background-color: #434B5C;\n",
              "      box-shadow: 0px 1px 3px 1px rgba(0, 0, 0, 0.15);\n",
              "      filter: drop-shadow(0px 1px 2px rgba(0, 0, 0, 0.3));\n",
              "      fill: #FFFFFF;\n",
              "    }\n",
              "  </style>\n",
              "\n",
              "    <script>\n",
              "      const buttonEl =\n",
              "        document.querySelector('#df-d7d1ef10-21ba-4874-8fbb-df126f441e2a button.colab-df-convert');\n",
              "      buttonEl.style.display =\n",
              "        google.colab.kernel.accessAllowed ? 'block' : 'none';\n",
              "\n",
              "      async function convertToInteractive(key) {\n",
              "        const element = document.querySelector('#df-d7d1ef10-21ba-4874-8fbb-df126f441e2a');\n",
              "        const dataTable =\n",
              "          await google.colab.kernel.invokeFunction('convertToInteractive',\n",
              "                                                    [key], {});\n",
              "        if (!dataTable) return;\n",
              "\n",
              "        const docLinkHtml = 'Like what you see? Visit the ' +\n",
              "          '<a target=\"_blank\" href=https://colab.research.google.com/notebooks/data_table.ipynb>data table notebook</a>'\n",
              "          + ' to learn more about interactive tables.';\n",
              "        element.innerHTML = '';\n",
              "        dataTable['output_type'] = 'display_data';\n",
              "        await google.colab.output.renderOutput(dataTable, element);\n",
              "        const docLink = document.createElement('div');\n",
              "        docLink.innerHTML = docLinkHtml;\n",
              "        element.appendChild(docLink);\n",
              "      }\n",
              "    </script>\n",
              "  </div>\n",
              "\n",
              "\n",
              "<div id=\"df-c0c84a60-08a6-4d89-ae54-378de77f9828\">\n",
              "  <button class=\"colab-df-quickchart\" onclick=\"quickchart('df-c0c84a60-08a6-4d89-ae54-378de77f9828')\"\n",
              "            title=\"Suggest charts\"\n",
              "            style=\"display:none;\">\n",
              "\n",
              "<svg xmlns=\"http://www.w3.org/2000/svg\" height=\"24px\"viewBox=\"0 0 24 24\"\n",
              "     width=\"24px\">\n",
              "    <g>\n",
              "        <path d=\"M19 3H5c-1.1 0-2 .9-2 2v14c0 1.1.9 2 2 2h14c1.1 0 2-.9 2-2V5c0-1.1-.9-2-2-2zM9 17H7v-7h2v7zm4 0h-2V7h2v10zm4 0h-2v-4h2v4z\"/>\n",
              "    </g>\n",
              "</svg>\n",
              "  </button>\n",
              "\n",
              "<style>\n",
              "  .colab-df-quickchart {\n",
              "      --bg-color: #E8F0FE;\n",
              "      --fill-color: #1967D2;\n",
              "      --hover-bg-color: #E2EBFA;\n",
              "      --hover-fill-color: #174EA6;\n",
              "      --disabled-fill-color: #AAA;\n",
              "      --disabled-bg-color: #DDD;\n",
              "  }\n",
              "\n",
              "  [theme=dark] .colab-df-quickchart {\n",
              "      --bg-color: #3B4455;\n",
              "      --fill-color: #D2E3FC;\n",
              "      --hover-bg-color: #434B5C;\n",
              "      --hover-fill-color: #FFFFFF;\n",
              "      --disabled-bg-color: #3B4455;\n",
              "      --disabled-fill-color: #666;\n",
              "  }\n",
              "\n",
              "  .colab-df-quickchart {\n",
              "    background-color: var(--bg-color);\n",
              "    border: none;\n",
              "    border-radius: 50%;\n",
              "    cursor: pointer;\n",
              "    display: none;\n",
              "    fill: var(--fill-color);\n",
              "    height: 32px;\n",
              "    padding: 0;\n",
              "    width: 32px;\n",
              "  }\n",
              "\n",
              "  .colab-df-quickchart:hover {\n",
              "    background-color: var(--hover-bg-color);\n",
              "    box-shadow: 0 1px 2px rgba(60, 64, 67, 0.3), 0 1px 3px 1px rgba(60, 64, 67, 0.15);\n",
              "    fill: var(--button-hover-fill-color);\n",
              "  }\n",
              "\n",
              "  .colab-df-quickchart-complete:disabled,\n",
              "  .colab-df-quickchart-complete:disabled:hover {\n",
              "    background-color: var(--disabled-bg-color);\n",
              "    fill: var(--disabled-fill-color);\n",
              "    box-shadow: none;\n",
              "  }\n",
              "\n",
              "  .colab-df-spinner {\n",
              "    border: 2px solid var(--fill-color);\n",
              "    border-color: transparent;\n",
              "    border-bottom-color: var(--fill-color);\n",
              "    animation:\n",
              "      spin 1s steps(1) infinite;\n",
              "  }\n",
              "\n",
              "  @keyframes spin {\n",
              "    0% {\n",
              "      border-color: transparent;\n",
              "      border-bottom-color: var(--fill-color);\n",
              "      border-left-color: var(--fill-color);\n",
              "    }\n",
              "    20% {\n",
              "      border-color: transparent;\n",
              "      border-left-color: var(--fill-color);\n",
              "      border-top-color: var(--fill-color);\n",
              "    }\n",
              "    30% {\n",
              "      border-color: transparent;\n",
              "      border-left-color: var(--fill-color);\n",
              "      border-top-color: var(--fill-color);\n",
              "      border-right-color: var(--fill-color);\n",
              "    }\n",
              "    40% {\n",
              "      border-color: transparent;\n",
              "      border-right-color: var(--fill-color);\n",
              "      border-top-color: var(--fill-color);\n",
              "    }\n",
              "    60% {\n",
              "      border-color: transparent;\n",
              "      border-right-color: var(--fill-color);\n",
              "    }\n",
              "    80% {\n",
              "      border-color: transparent;\n",
              "      border-right-color: var(--fill-color);\n",
              "      border-bottom-color: var(--fill-color);\n",
              "    }\n",
              "    90% {\n",
              "      border-color: transparent;\n",
              "      border-bottom-color: var(--fill-color);\n",
              "    }\n",
              "  }\n",
              "</style>\n",
              "\n",
              "  <script>\n",
              "    async function quickchart(key) {\n",
              "      const quickchartButtonEl =\n",
              "        document.querySelector('#' + key + ' button');\n",
              "      quickchartButtonEl.disabled = true;  // To prevent multiple clicks.\n",
              "      quickchartButtonEl.classList.add('colab-df-spinner');\n",
              "      try {\n",
              "        const charts = await google.colab.kernel.invokeFunction(\n",
              "            'suggestCharts', [key], {});\n",
              "      } catch (error) {\n",
              "        console.error('Error during call to suggestCharts:', error);\n",
              "      }\n",
              "      quickchartButtonEl.classList.remove('colab-df-spinner');\n",
              "      quickchartButtonEl.classList.add('colab-df-quickchart-complete');\n",
              "    }\n",
              "    (() => {\n",
              "      let quickchartButtonEl =\n",
              "        document.querySelector('#df-c0c84a60-08a6-4d89-ae54-378de77f9828 button');\n",
              "      quickchartButtonEl.style.display =\n",
              "        google.colab.kernel.accessAllowed ? 'block' : 'none';\n",
              "    })();\n",
              "  </script>\n",
              "</div>\n",
              "\n",
              "    </div>\n",
              "  </div>\n"
            ]
          },
          "metadata": {},
          "execution_count": 312
        }
      ]
    },
    {
      "cell_type": "code",
      "source": [
        "customer_product_orders['total_sales'] = customer_product_orders['price'] * customer_product_orders['units']"
      ],
      "metadata": {
        "id": "Be_SiSBTXFgn"
      },
      "execution_count": 313,
      "outputs": []
    },
    {
      "cell_type": "code",
      "source": [
        "customer_product_orders.groupby(by='category').agg({'total_sales': 'sum'}).sort_values(by='total_sales', ascending=False)"
      ],
      "metadata": {
        "colab": {
          "base_uri": "https://localhost:8080/",
          "height": 206
        },
        "id": "Tiv4-_08KqmP",
        "outputId": "9c30d3a5-1688-4414-b248-b605d2b2f4dd"
      },
      "execution_count": 314,
      "outputs": [
        {
          "output_type": "execute_result",
          "data": {
            "text/plain": [
              "             total_sales\n",
              "category                \n",
              "Home            556980.0\n",
              "Books           481495.0\n",
              "Electronics     198420.0\n",
              "Clothing        148350.0"
            ],
            "text/html": [
              "\n",
              "  <div id=\"df-2c914bbf-2768-401f-9bb3-a629f3673b92\" class=\"colab-df-container\">\n",
              "    <div>\n",
              "<style scoped>\n",
              "    .dataframe tbody tr th:only-of-type {\n",
              "        vertical-align: middle;\n",
              "    }\n",
              "\n",
              "    .dataframe tbody tr th {\n",
              "        vertical-align: top;\n",
              "    }\n",
              "\n",
              "    .dataframe thead th {\n",
              "        text-align: right;\n",
              "    }\n",
              "</style>\n",
              "<table border=\"1\" class=\"dataframe\">\n",
              "  <thead>\n",
              "    <tr style=\"text-align: right;\">\n",
              "      <th></th>\n",
              "      <th>total_sales</th>\n",
              "    </tr>\n",
              "    <tr>\n",
              "      <th>category</th>\n",
              "      <th></th>\n",
              "    </tr>\n",
              "  </thead>\n",
              "  <tbody>\n",
              "    <tr>\n",
              "      <th>Home</th>\n",
              "      <td>556980.0</td>\n",
              "    </tr>\n",
              "    <tr>\n",
              "      <th>Books</th>\n",
              "      <td>481495.0</td>\n",
              "    </tr>\n",
              "    <tr>\n",
              "      <th>Electronics</th>\n",
              "      <td>198420.0</td>\n",
              "    </tr>\n",
              "    <tr>\n",
              "      <th>Clothing</th>\n",
              "      <td>148350.0</td>\n",
              "    </tr>\n",
              "  </tbody>\n",
              "</table>\n",
              "</div>\n",
              "    <div class=\"colab-df-buttons\">\n",
              "\n",
              "  <div class=\"colab-df-container\">\n",
              "    <button class=\"colab-df-convert\" onclick=\"convertToInteractive('df-2c914bbf-2768-401f-9bb3-a629f3673b92')\"\n",
              "            title=\"Convert this dataframe to an interactive table.\"\n",
              "            style=\"display:none;\">\n",
              "\n",
              "  <svg xmlns=\"http://www.w3.org/2000/svg\" height=\"24px\" viewBox=\"0 -960 960 960\">\n",
              "    <path d=\"M120-120v-720h720v720H120Zm60-500h600v-160H180v160Zm220 220h160v-160H400v160Zm0 220h160v-160H400v160ZM180-400h160v-160H180v160Zm440 0h160v-160H620v160ZM180-180h160v-160H180v160Zm440 0h160v-160H620v160Z\"/>\n",
              "  </svg>\n",
              "    </button>\n",
              "\n",
              "  <style>\n",
              "    .colab-df-container {\n",
              "      display:flex;\n",
              "      gap: 12px;\n",
              "    }\n",
              "\n",
              "    .colab-df-convert {\n",
              "      background-color: #E8F0FE;\n",
              "      border: none;\n",
              "      border-radius: 50%;\n",
              "      cursor: pointer;\n",
              "      display: none;\n",
              "      fill: #1967D2;\n",
              "      height: 32px;\n",
              "      padding: 0 0 0 0;\n",
              "      width: 32px;\n",
              "    }\n",
              "\n",
              "    .colab-df-convert:hover {\n",
              "      background-color: #E2EBFA;\n",
              "      box-shadow: 0px 1px 2px rgba(60, 64, 67, 0.3), 0px 1px 3px 1px rgba(60, 64, 67, 0.15);\n",
              "      fill: #174EA6;\n",
              "    }\n",
              "\n",
              "    .colab-df-buttons div {\n",
              "      margin-bottom: 4px;\n",
              "    }\n",
              "\n",
              "    [theme=dark] .colab-df-convert {\n",
              "      background-color: #3B4455;\n",
              "      fill: #D2E3FC;\n",
              "    }\n",
              "\n",
              "    [theme=dark] .colab-df-convert:hover {\n",
              "      background-color: #434B5C;\n",
              "      box-shadow: 0px 1px 3px 1px rgba(0, 0, 0, 0.15);\n",
              "      filter: drop-shadow(0px 1px 2px rgba(0, 0, 0, 0.3));\n",
              "      fill: #FFFFFF;\n",
              "    }\n",
              "  </style>\n",
              "\n",
              "    <script>\n",
              "      const buttonEl =\n",
              "        document.querySelector('#df-2c914bbf-2768-401f-9bb3-a629f3673b92 button.colab-df-convert');\n",
              "      buttonEl.style.display =\n",
              "        google.colab.kernel.accessAllowed ? 'block' : 'none';\n",
              "\n",
              "      async function convertToInteractive(key) {\n",
              "        const element = document.querySelector('#df-2c914bbf-2768-401f-9bb3-a629f3673b92');\n",
              "        const dataTable =\n",
              "          await google.colab.kernel.invokeFunction('convertToInteractive',\n",
              "                                                    [key], {});\n",
              "        if (!dataTable) return;\n",
              "\n",
              "        const docLinkHtml = 'Like what you see? Visit the ' +\n",
              "          '<a target=\"_blank\" href=https://colab.research.google.com/notebooks/data_table.ipynb>data table notebook</a>'\n",
              "          + ' to learn more about interactive tables.';\n",
              "        element.innerHTML = '';\n",
              "        dataTable['output_type'] = 'display_data';\n",
              "        await google.colab.output.renderOutput(dataTable, element);\n",
              "        const docLink = document.createElement('div');\n",
              "        docLink.innerHTML = docLinkHtml;\n",
              "        element.appendChild(docLink);\n",
              "      }\n",
              "    </script>\n",
              "  </div>\n",
              "\n",
              "\n",
              "<div id=\"df-19b30fa9-19eb-4d15-a9d2-cac1e9ce1e26\">\n",
              "  <button class=\"colab-df-quickchart\" onclick=\"quickchart('df-19b30fa9-19eb-4d15-a9d2-cac1e9ce1e26')\"\n",
              "            title=\"Suggest charts\"\n",
              "            style=\"display:none;\">\n",
              "\n",
              "<svg xmlns=\"http://www.w3.org/2000/svg\" height=\"24px\"viewBox=\"0 0 24 24\"\n",
              "     width=\"24px\">\n",
              "    <g>\n",
              "        <path d=\"M19 3H5c-1.1 0-2 .9-2 2v14c0 1.1.9 2 2 2h14c1.1 0 2-.9 2-2V5c0-1.1-.9-2-2-2zM9 17H7v-7h2v7zm4 0h-2V7h2v10zm4 0h-2v-4h2v4z\"/>\n",
              "    </g>\n",
              "</svg>\n",
              "  </button>\n",
              "\n",
              "<style>\n",
              "  .colab-df-quickchart {\n",
              "      --bg-color: #E8F0FE;\n",
              "      --fill-color: #1967D2;\n",
              "      --hover-bg-color: #E2EBFA;\n",
              "      --hover-fill-color: #174EA6;\n",
              "      --disabled-fill-color: #AAA;\n",
              "      --disabled-bg-color: #DDD;\n",
              "  }\n",
              "\n",
              "  [theme=dark] .colab-df-quickchart {\n",
              "      --bg-color: #3B4455;\n",
              "      --fill-color: #D2E3FC;\n",
              "      --hover-bg-color: #434B5C;\n",
              "      --hover-fill-color: #FFFFFF;\n",
              "      --disabled-bg-color: #3B4455;\n",
              "      --disabled-fill-color: #666;\n",
              "  }\n",
              "\n",
              "  .colab-df-quickchart {\n",
              "    background-color: var(--bg-color);\n",
              "    border: none;\n",
              "    border-radius: 50%;\n",
              "    cursor: pointer;\n",
              "    display: none;\n",
              "    fill: var(--fill-color);\n",
              "    height: 32px;\n",
              "    padding: 0;\n",
              "    width: 32px;\n",
              "  }\n",
              "\n",
              "  .colab-df-quickchart:hover {\n",
              "    background-color: var(--hover-bg-color);\n",
              "    box-shadow: 0 1px 2px rgba(60, 64, 67, 0.3), 0 1px 3px 1px rgba(60, 64, 67, 0.15);\n",
              "    fill: var(--button-hover-fill-color);\n",
              "  }\n",
              "\n",
              "  .colab-df-quickchart-complete:disabled,\n",
              "  .colab-df-quickchart-complete:disabled:hover {\n",
              "    background-color: var(--disabled-bg-color);\n",
              "    fill: var(--disabled-fill-color);\n",
              "    box-shadow: none;\n",
              "  }\n",
              "\n",
              "  .colab-df-spinner {\n",
              "    border: 2px solid var(--fill-color);\n",
              "    border-color: transparent;\n",
              "    border-bottom-color: var(--fill-color);\n",
              "    animation:\n",
              "      spin 1s steps(1) infinite;\n",
              "  }\n",
              "\n",
              "  @keyframes spin {\n",
              "    0% {\n",
              "      border-color: transparent;\n",
              "      border-bottom-color: var(--fill-color);\n",
              "      border-left-color: var(--fill-color);\n",
              "    }\n",
              "    20% {\n",
              "      border-color: transparent;\n",
              "      border-left-color: var(--fill-color);\n",
              "      border-top-color: var(--fill-color);\n",
              "    }\n",
              "    30% {\n",
              "      border-color: transparent;\n",
              "      border-left-color: var(--fill-color);\n",
              "      border-top-color: var(--fill-color);\n",
              "      border-right-color: var(--fill-color);\n",
              "    }\n",
              "    40% {\n",
              "      border-color: transparent;\n",
              "      border-right-color: var(--fill-color);\n",
              "      border-top-color: var(--fill-color);\n",
              "    }\n",
              "    60% {\n",
              "      border-color: transparent;\n",
              "      border-right-color: var(--fill-color);\n",
              "    }\n",
              "    80% {\n",
              "      border-color: transparent;\n",
              "      border-right-color: var(--fill-color);\n",
              "      border-bottom-color: var(--fill-color);\n",
              "    }\n",
              "    90% {\n",
              "      border-color: transparent;\n",
              "      border-bottom-color: var(--fill-color);\n",
              "    }\n",
              "  }\n",
              "</style>\n",
              "\n",
              "  <script>\n",
              "    async function quickchart(key) {\n",
              "      const quickchartButtonEl =\n",
              "        document.querySelector('#' + key + ' button');\n",
              "      quickchartButtonEl.disabled = true;  // To prevent multiple clicks.\n",
              "      quickchartButtonEl.classList.add('colab-df-spinner');\n",
              "      try {\n",
              "        const charts = await google.colab.kernel.invokeFunction(\n",
              "            'suggestCharts', [key], {});\n",
              "      } catch (error) {\n",
              "        console.error('Error during call to suggestCharts:', error);\n",
              "      }\n",
              "      quickchartButtonEl.classList.remove('colab-df-spinner');\n",
              "      quickchartButtonEl.classList.add('colab-df-quickchart-complete');\n",
              "    }\n",
              "    (() => {\n",
              "      let quickchartButtonEl =\n",
              "        document.querySelector('#df-19b30fa9-19eb-4d15-a9d2-cac1e9ce1e26 button');\n",
              "      quickchartButtonEl.style.display =\n",
              "        google.colab.kernel.accessAllowed ? 'block' : 'none';\n",
              "    })();\n",
              "  </script>\n",
              "</div>\n",
              "\n",
              "    </div>\n",
              "  </div>\n"
            ]
          },
          "metadata": {},
          "execution_count": 314
        }
      ]
    },
    {
      "cell_type": "code",
      "source": [],
      "metadata": {
        "id": "geZdtLyHKs_B"
      },
      "execution_count": 314,
      "outputs": []
    }
  ]
}