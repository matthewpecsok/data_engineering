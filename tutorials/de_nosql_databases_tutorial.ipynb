{
  "nbformat": 4,
  "nbformat_minor": 0,
  "metadata": {
    "colab": {
      "provenance": [],
      "authorship_tag": "ABX9TyNzIoJAAKRd5JsRNTnKM3Vg",
      "include_colab_link": true
    },
    "kernelspec": {
      "name": "python3",
      "display_name": "Python 3"
    },
    "language_info": {
      "name": "python"
    }
  },
  "cells": [
    {
      "cell_type": "markdown",
      "metadata": {
        "id": "view-in-github",
        "colab_type": "text"
      },
      "source": [
        "<a href=\"https://colab.research.google.com/github/matthewpecsok/data_engineering/blob/main/tutorials/de_nosql_databases_tutorial.ipynb\" target=\"_parent\"><img src=\"https://colab.research.google.com/assets/colab-badge.svg\" alt=\"Open In Colab\"/></a>"
      ]
    },
    {
      "cell_type": "markdown",
      "source": [
        "This tutorial will introduce you to  MongoDB a document database. MongoDB deals in data that is effictively a dictionary in Python or JSON data if it's a file. This document-oriented database is very different from the relational database designs we've seen thus far. We'll learn how to populate the database with data, how to query the database for documents we'd like to find, how to extract data for data engineering purposes."
      ],
      "metadata": {
        "id": "J76X04zOiK61"
      }
    },
    {
      "cell_type": "code",
      "source": [
        "!pip install faker\n",
        "!pip install pymongo"
      ],
      "metadata": {
        "colab": {
          "base_uri": "https://localhost:8080/"
        },
        "id": "IlImf-IoL61o",
        "outputId": "9ba36896-3448-4cbb-a0f2-205aa9e99ae1"
      },
      "execution_count": 1,
      "outputs": [
        {
          "output_type": "stream",
          "name": "stdout",
          "text": [
            "Collecting faker\n",
            "  Downloading Faker-22.2.0-py3-none-any.whl (1.7 MB)\n",
            "\u001b[2K     \u001b[90m━━━━━━━━━━━━━━━━━━━━━━━━━━━━━━━━━━━━━━━━\u001b[0m \u001b[32m1.7/1.7 MB\u001b[0m \u001b[31m13.8 MB/s\u001b[0m eta \u001b[36m0:00:00\u001b[0m\n",
            "\u001b[?25hRequirement already satisfied: python-dateutil>=2.4 in /usr/local/lib/python3.10/dist-packages (from faker) (2.8.2)\n",
            "Requirement already satisfied: six>=1.5 in /usr/local/lib/python3.10/dist-packages (from python-dateutil>=2.4->faker) (1.16.0)\n",
            "Installing collected packages: faker\n",
            "Successfully installed faker-22.2.0\n",
            "Collecting pymongo\n",
            "  Downloading pymongo-4.6.1-cp310-cp310-manylinux_2_17_x86_64.manylinux2014_x86_64.whl (677 kB)\n",
            "\u001b[2K     \u001b[90m━━━━━━━━━━━━━━━━━━━━━━━━━━━━━━━━━━━━━━━━\u001b[0m \u001b[32m677.1/677.1 kB\u001b[0m \u001b[31m3.9 MB/s\u001b[0m eta \u001b[36m0:00:00\u001b[0m\n",
            "\u001b[?25hCollecting dnspython<3.0.0,>=1.16.0 (from pymongo)\n",
            "  Downloading dnspython-2.4.2-py3-none-any.whl (300 kB)\n",
            "\u001b[2K     \u001b[90m━━━━━━━━━━━━━━━━━━━━━━━━━━━━━━━━━━━━━━━━\u001b[0m \u001b[32m300.4/300.4 kB\u001b[0m \u001b[31m8.6 MB/s\u001b[0m eta \u001b[36m0:00:00\u001b[0m\n",
            "\u001b[?25hInstalling collected packages: dnspython, pymongo\n",
            "Successfully installed dnspython-2.4.2 pymongo-4.6.1\n"
          ]
        }
      ]
    },
    {
      "cell_type": "code",
      "source": [
        "from faker import Faker\n",
        "from pymongo import MongoClient\n",
        "import random\n",
        "import datetime\n",
        "import json"
      ],
      "metadata": {
        "id": "mkYJ0TjXN1ue"
      },
      "execution_count": 320,
      "outputs": []
    },
    {
      "cell_type": "markdown",
      "source": [
        "# install MongoDB"
      ],
      "metadata": {
        "id": "S573xnvQa4Lw"
      }
    },
    {
      "cell_type": "code",
      "source": [
        "!apt-get install gnupg curl"
      ],
      "metadata": {
        "colab": {
          "base_uri": "https://localhost:8080/"
        },
        "id": "fza_3GJ0CiOw",
        "outputId": "148d2a88-de74-4d78-8a2c-3192be02f104"
      },
      "execution_count": 3,
      "outputs": [
        {
          "output_type": "stream",
          "name": "stdout",
          "text": [
            "Reading package lists... Done\n",
            "Building dependency tree... Done\n",
            "Reading state information... Done\n",
            "curl is already the newest version (7.81.0-1ubuntu1.15).\n",
            "gnupg is already the newest version (2.2.27-3ubuntu2.1).\n",
            "gnupg set to manually installed.\n",
            "0 upgraded, 0 newly installed, 0 to remove and 24 not upgraded.\n"
          ]
        }
      ]
    },
    {
      "cell_type": "code",
      "source": [
        "!curl -fsSL https://pgp.mongodb.com/server-7.0.asc | \\\n",
        "   sudo gpg -o /usr/share/keyrings/mongodb-server-7.0.gpg \\\n",
        "   --dearmor"
      ],
      "metadata": {
        "id": "LbAAWv_uCj_K"
      },
      "execution_count": 4,
      "outputs": []
    },
    {
      "cell_type": "code",
      "source": [
        "!echo \"deb [ arch=amd64,arm64 signed-by=/usr/share/keyrings/mongodb-server-7.0.gpg ] https://repo.mongodb.org/apt/ubuntu jammy/mongodb-org/7.0 multiverse\" | sudo tee /etc/apt/sources.list.d/mongodb-org-7.0.list"
      ],
      "metadata": {
        "colab": {
          "base_uri": "https://localhost:8080/"
        },
        "id": "hyCh0lXTCfVq",
        "outputId": "e1d6b33a-813a-4b0c-bf05-9a542678ee65"
      },
      "execution_count": 5,
      "outputs": [
        {
          "output_type": "stream",
          "name": "stdout",
          "text": [
            "deb [ arch=amd64,arm64 signed-by=/usr/share/keyrings/mongodb-server-7.0.gpg ] https://repo.mongodb.org/apt/ubuntu jammy/mongodb-org/7.0 multiverse\n"
          ]
        }
      ]
    },
    {
      "cell_type": "code",
      "source": [
        "!apt-get update"
      ],
      "metadata": {
        "colab": {
          "base_uri": "https://localhost:8080/"
        },
        "id": "gX-FniUdCmvX",
        "outputId": "44ab61d3-f894-47c5-9238-1e2cd54fe2f9"
      },
      "execution_count": 6,
      "outputs": [
        {
          "output_type": "stream",
          "name": "stdout",
          "text": [
            "\r0% [Working]\r            \rGet:1 https://cloud.r-project.org/bin/linux/ubuntu jammy-cran40/ InRelease [3,626 B]\n",
            "Hit:2 https://developer.download.nvidia.com/compute/cuda/repos/ubuntu2204/x86_64  InRelease\n",
            "Hit:3 http://archive.ubuntu.com/ubuntu jammy InRelease\n",
            "Ign:4 https://repo.mongodb.org/apt/ubuntu jammy/mongodb-org/7.0 InRelease\n",
            "Get:5 http://security.ubuntu.com/ubuntu jammy-security InRelease [110 kB]\n",
            "Get:6 http://archive.ubuntu.com/ubuntu jammy-updates InRelease [119 kB]\n",
            "Get:7 https://repo.mongodb.org/apt/ubuntu jammy/mongodb-org/7.0 Release [2,090 B]\n",
            "Get:8 https://repo.mongodb.org/apt/ubuntu jammy/mongodb-org/7.0 Release.gpg [866 B]\n",
            "Get:9 https://repo.mongodb.org/apt/ubuntu jammy/mongodb-org/7.0/multiverse amd64 Packages [22.9 kB]\n",
            "Hit:10 http://archive.ubuntu.com/ubuntu jammy-backports InRelease\n",
            "Get:11 http://archive.ubuntu.com/ubuntu jammy-updates/main amd64 Packages [1,617 kB]\n",
            "Hit:12 https://ppa.launchpadcontent.net/c2d4u.team/c2d4u4.0+/ubuntu jammy InRelease\n",
            "Get:13 https://repo.mongodb.org/apt/ubuntu jammy/mongodb-org/7.0/multiverse arm64 Packages [21.9 kB]\n",
            "Hit:14 https://ppa.launchpadcontent.net/deadsnakes/ppa/ubuntu jammy InRelease\n",
            "Hit:15 https://ppa.launchpadcontent.net/graphics-drivers/ppa/ubuntu jammy InRelease\n",
            "Hit:16 https://ppa.launchpadcontent.net/ubuntugis/ppa/ubuntu jammy InRelease\n",
            "Get:17 http://archive.ubuntu.com/ubuntu jammy-updates/universe amd64 Packages [1,309 kB]\n",
            "Fetched 3,207 kB in 3s (1,131 kB/s)\n",
            "Reading package lists... Done\n"
          ]
        }
      ]
    },
    {
      "cell_type": "code",
      "source": [
        "!apt-get install -y mongodb-org"
      ],
      "metadata": {
        "colab": {
          "base_uri": "https://localhost:8080/"
        },
        "id": "UT97RBGUCpd-",
        "outputId": "91182e92-591c-4383-8b32-bb4ff74f6af6"
      },
      "execution_count": 7,
      "outputs": [
        {
          "output_type": "stream",
          "name": "stdout",
          "text": [
            "Reading package lists... Done\n",
            "Building dependency tree... Done\n",
            "Reading state information... Done\n",
            "The following additional packages will be installed:\n",
            "  mongodb-database-tools mongodb-mongosh mongodb-org-database mongodb-org-database-tools-extra\n",
            "  mongodb-org-mongos mongodb-org-server mongodb-org-shell mongodb-org-tools\n",
            "The following NEW packages will be installed:\n",
            "  mongodb-database-tools mongodb-mongosh mongodb-org mongodb-org-database\n",
            "  mongodb-org-database-tools-extra mongodb-org-mongos mongodb-org-server mongodb-org-shell\n",
            "  mongodb-org-tools\n",
            "0 upgraded, 9 newly installed, 0 to remove and 24 not upgraded.\n",
            "Need to get 162 MB of archives.\n",
            "After this operation, 530 MB of additional disk space will be used.\n",
            "Get:1 https://repo.mongodb.org/apt/ubuntu jammy/mongodb-org/7.0/multiverse amd64 mongodb-database-tools amd64 100.9.4 [51.9 MB]\n",
            "Get:2 https://repo.mongodb.org/apt/ubuntu jammy/mongodb-org/7.0/multiverse amd64 mongodb-mongosh amd64 2.1.1 [47.9 MB]\n",
            "Get:3 https://repo.mongodb.org/apt/ubuntu jammy/mongodb-org/7.0/multiverse amd64 mongodb-org-shell amd64 7.0.5 [2,982 B]\n",
            "Get:4 https://repo.mongodb.org/apt/ubuntu jammy/mongodb-org/7.0/multiverse amd64 mongodb-org-server amd64 7.0.5 [36.5 MB]\n",
            "Get:5 https://repo.mongodb.org/apt/ubuntu jammy/mongodb-org/7.0/multiverse amd64 mongodb-org-mongos amd64 7.0.5 [25.4 MB]\n",
            "Get:6 https://repo.mongodb.org/apt/ubuntu jammy/mongodb-org/7.0/multiverse amd64 mongodb-org-database-tools-extra amd64 7.0.5 [7,762 B]\n",
            "Get:7 https://repo.mongodb.org/apt/ubuntu jammy/mongodb-org/7.0/multiverse amd64 mongodb-org-database amd64 7.0.5 [3,424 B]\n",
            "Get:8 https://repo.mongodb.org/apt/ubuntu jammy/mongodb-org/7.0/multiverse amd64 mongodb-org-tools amd64 7.0.5 [2,766 B]\n",
            "Get:9 https://repo.mongodb.org/apt/ubuntu jammy/mongodb-org/7.0/multiverse amd64 mongodb-org amd64 7.0.5 [2,800 B]\n",
            "Fetched 162 MB in 11s (15.4 MB/s)\n",
            "Selecting previously unselected package mongodb-database-tools.\n",
            "(Reading database ... 121654 files and directories currently installed.)\n",
            "Preparing to unpack .../0-mongodb-database-tools_100.9.4_amd64.deb ...\n",
            "Unpacking mongodb-database-tools (100.9.4) ...\n",
            "Selecting previously unselected package mongodb-mongosh.\n",
            "Preparing to unpack .../1-mongodb-mongosh_2.1.1_amd64.deb ...\n",
            "Unpacking mongodb-mongosh (2.1.1) ...\n",
            "Selecting previously unselected package mongodb-org-shell.\n",
            "Preparing to unpack .../2-mongodb-org-shell_7.0.5_amd64.deb ...\n",
            "Unpacking mongodb-org-shell (7.0.5) ...\n",
            "Selecting previously unselected package mongodb-org-server.\n",
            "Preparing to unpack .../3-mongodb-org-server_7.0.5_amd64.deb ...\n",
            "Unpacking mongodb-org-server (7.0.5) ...\n",
            "Selecting previously unselected package mongodb-org-mongos.\n",
            "Preparing to unpack .../4-mongodb-org-mongos_7.0.5_amd64.deb ...\n",
            "Unpacking mongodb-org-mongos (7.0.5) ...\n",
            "Selecting previously unselected package mongodb-org-database-tools-extra.\n",
            "Preparing to unpack .../5-mongodb-org-database-tools-extra_7.0.5_amd64.deb ...\n",
            "Unpacking mongodb-org-database-tools-extra (7.0.5) ...\n",
            "Selecting previously unselected package mongodb-org-database.\n",
            "Preparing to unpack .../6-mongodb-org-database_7.0.5_amd64.deb ...\n",
            "Unpacking mongodb-org-database (7.0.5) ...\n",
            "Selecting previously unselected package mongodb-org-tools.\n",
            "Preparing to unpack .../7-mongodb-org-tools_7.0.5_amd64.deb ...\n",
            "Unpacking mongodb-org-tools (7.0.5) ...\n",
            "Selecting previously unselected package mongodb-org.\n",
            "Preparing to unpack .../8-mongodb-org_7.0.5_amd64.deb ...\n",
            "Unpacking mongodb-org (7.0.5) ...\n",
            "Setting up mongodb-mongosh (2.1.1) ...\n",
            "Setting up mongodb-org-server (7.0.5) ...\n",
            "Adding system user `mongodb' (UID 104) ...\n",
            "Adding new user `mongodb' (UID 104) with group `nogroup' ...\n",
            "Not creating home directory `/home/mongodb'.\n",
            "Adding group `mongodb' (GID 107) ...\n",
            "Done.\n",
            "Adding user `mongodb' to group `mongodb' ...\n",
            "Adding user mongodb to group mongodb\n",
            "Done.\n",
            "System has not been booted with systemd as init system (PID 1). Can't operate.\n",
            "Failed to connect to bus: Host is down\n",
            "Setting up mongodb-org-shell (7.0.5) ...\n",
            "Setting up mongodb-database-tools (100.9.4) ...\n",
            "Setting up mongodb-org-mongos (7.0.5) ...\n",
            "Setting up mongodb-org-database-tools-extra (7.0.5) ...\n",
            "Setting up mongodb-org-database (7.0.5) ...\n",
            "Setting up mongodb-org-tools (7.0.5) ...\n",
            "Setting up mongodb-org (7.0.5) ...\n",
            "Processing triggers for man-db (2.10.2-1) ...\n"
          ]
        }
      ]
    },
    {
      "cell_type": "code",
      "source": [
        "!mkdir /data\n",
        "!mkdir /data/db"
      ],
      "metadata": {
        "id": "GwN3RxgzDZ_8"
      },
      "execution_count": 11,
      "outputs": []
    },
    {
      "cell_type": "code",
      "source": [
        "import subprocess\n",
        "subprocess.Popen([\"mongod\"])"
      ],
      "metadata": {
        "colab": {
          "base_uri": "https://localhost:8080/"
        },
        "id": "8pZSN7_bCPdB",
        "outputId": "a78fee9f-5588-4412-fc7d-4107acbf50d9"
      },
      "execution_count": 12,
      "outputs": [
        {
          "output_type": "execute_result",
          "data": {
            "text/plain": [
              "<Popen: returncode: None args: ['mongod']>"
            ]
          },
          "metadata": {},
          "execution_count": 12
        }
      ]
    },
    {
      "cell_type": "code",
      "source": [
        "from pymongo import MongoClient\n",
        "client = MongoClient()\n",
        "client.list_database_names() # ['admin', 'local']"
      ],
      "metadata": {
        "colab": {
          "base_uri": "https://localhost:8080/"
        },
        "id": "E68Zpj-Hyj-O",
        "outputId": "3f082945-163b-4034-e272-bc1a10050f97"
      },
      "execution_count": 326,
      "outputs": [
        {
          "output_type": "execute_result",
          "data": {
            "text/plain": [
              "['admin', 'cloud_purchase_db', 'config', 'local']"
            ]
          },
          "metadata": {},
          "execution_count": 326
        }
      ]
    },
    {
      "cell_type": "markdown",
      "source": [
        "## create the db\n",
        "\n",
        "name our database"
      ],
      "metadata": {
        "id": "7ZgIUYCCi8GQ"
      }
    },
    {
      "cell_type": "code",
      "source": [
        "db = client['cloud_purchase_db']"
      ],
      "metadata": {
        "id": "38hNStS5xV1A"
      },
      "execution_count": 327,
      "outputs": []
    },
    {
      "cell_type": "markdown",
      "source": [
        "## Set up Collections"
      ],
      "metadata": {
        "id": "pVaWthrNi9Vg"
      }
    },
    {
      "cell_type": "markdown",
      "source": [
        "drop the collections in case they already exist so we don't duplicate data"
      ],
      "metadata": {
        "id": "mkuAVN9UjFPU"
      }
    },
    {
      "cell_type": "code",
      "source": [
        "db.drop_collection('customers')\n",
        "db.drop_collection('products')\n",
        "#db.drop_collection('orders')"
      ],
      "metadata": {
        "colab": {
          "base_uri": "https://localhost:8080/"
        },
        "id": "4-wKPCwxxXkh",
        "outputId": "f592a58b-5fd4-444d-bf4a-85652a28019a"
      },
      "execution_count": 328,
      "outputs": [
        {
          "output_type": "execute_result",
          "data": {
            "text/plain": [
              "{'nIndexesWas': 1, 'ns': 'cloud_purchase_db.products', 'ok': 1.0}"
            ]
          },
          "metadata": {},
          "execution_count": 328
        }
      ]
    },
    {
      "cell_type": "markdown",
      "source": [
        "do we have any collections?"
      ],
      "metadata": {
        "id": "XDOGvMNKjI_H"
      }
    },
    {
      "cell_type": "markdown",
      "source": [
        "## list collections"
      ],
      "metadata": {
        "id": "HakKmGYfjLfk"
      }
    },
    {
      "cell_type": "code",
      "source": [
        "db.list_collection_names()"
      ],
      "metadata": {
        "colab": {
          "base_uri": "https://localhost:8080/"
        },
        "id": "tAbWgjJ2Okhh",
        "outputId": "f8f30937-fcdd-4fc4-f7b3-38fb923c57a7"
      },
      "execution_count": 329,
      "outputs": [
        {
          "output_type": "execute_result",
          "data": {
            "text/plain": [
              "[]"
            ]
          },
          "metadata": {},
          "execution_count": 329
        }
      ]
    },
    {
      "cell_type": "code",
      "source": [
        "# Create Faker instance\n",
        "fake = Faker()"
      ],
      "metadata": {
        "id": "Zu7bYyF5jPry"
      },
      "execution_count": 330,
      "outputs": []
    },
    {
      "cell_type": "markdown",
      "source": [
        "# Create the data"
      ],
      "metadata": {
        "id": "8Xl4MJ7zbqxw"
      }
    },
    {
      "cell_type": "markdown",
      "source": [
        "## create customer data\n",
        "\n",
        "create from 1 to 5 orders (randomly)\n",
        "pick a random product id from 1 to 10\n",
        "units between 10 and 100\n",
        "year from 1 year ago to today"
      ],
      "metadata": {
        "id": "zXu6lgeCbzk_"
      }
    },
    {
      "cell_type": "code",
      "source": [
        "# Generate customer orders\n",
        "def gen_orders():\n",
        "\n",
        "  orders = []\n",
        "  for i in range(1,random.randint(1, 5)):\n",
        "\n",
        "      productid = random.randint(1, 10)\n",
        "      units = random.randint(10, 100)\n",
        "      if random.random() < 0.1:\n",
        "          units *= 10\n",
        "      purchase_date = fake.date_between(start_date='-1y', end_date='today')\n",
        "      purchase_date = datetime.datetime.combine(purchase_date, datetime.datetime.min.time())\n",
        "\n",
        "      order = {\n",
        "          'productid': productid,\n",
        "          'units': units,\n",
        "          'purchase_date': purchase_date\n",
        "      }\n",
        "\n",
        "      orders.append(order)\n",
        "\n",
        "  return orders"
      ],
      "metadata": {
        "id": "TTdoT6P5j4_o"
      },
      "execution_count": 331,
      "outputs": []
    },
    {
      "cell_type": "code",
      "source": [
        "gen_orders()"
      ],
      "metadata": {
        "colab": {
          "base_uri": "https://localhost:8080/"
        },
        "id": "uEfqPxjrrGje",
        "outputId": "462eca32-0a08-4f7c-e40b-877879bf2de1"
      },
      "execution_count": 332,
      "outputs": [
        {
          "output_type": "execute_result",
          "data": {
            "text/plain": [
              "[{'productid': 5,\n",
              "  'units': 22,\n",
              "  'purchase_date': datetime.datetime(2023, 6, 8, 0, 0)}]"
            ]
          },
          "metadata": {},
          "execution_count": 332
        }
      ]
    },
    {
      "cell_type": "markdown",
      "source": [
        "generate 100 customers"
      ],
      "metadata": {
        "id": "9hrgYCJCuk-8"
      }
    },
    {
      "cell_type": "code",
      "source": [
        "# Generate customers\n",
        "customers = []\n",
        "for i in range(100):\n",
        "    customer = {\n",
        "        'customerid': i+1,\n",
        "        'name': fake.name(),\n",
        "        'email': fake.email(),\n",
        "        'phone': [fake.phone_number(),fake.phone_number(),fake.phone_number()],\n",
        "        'orders' : gen_orders() #this is where we generate orders\n",
        "    }\n",
        "    customers.append(customer)"
      ],
      "metadata": {
        "id": "YjkdgXx3jT_i"
      },
      "execution_count": 333,
      "outputs": []
    },
    {
      "cell_type": "code",
      "source": [
        "len(customers)"
      ],
      "metadata": {
        "colab": {
          "base_uri": "https://localhost:8080/"
        },
        "id": "FwR_hqfZumro",
        "outputId": "7b976b28-709a-4897-feb2-fef4a2c40bf0"
      },
      "execution_count": 334,
      "outputs": [
        {
          "output_type": "execute_result",
          "data": {
            "text/plain": [
              "100"
            ]
          },
          "metadata": {},
          "execution_count": 334
        }
      ]
    },
    {
      "cell_type": "code",
      "source": [
        "customers[0:3]"
      ],
      "metadata": {
        "colab": {
          "base_uri": "https://localhost:8080/"
        },
        "id": "bGwfY6RCwI5K",
        "outputId": "0c85085c-f3d5-40a8-f452-adb93afa4c29"
      },
      "execution_count": 335,
      "outputs": [
        {
          "output_type": "execute_result",
          "data": {
            "text/plain": [
              "[{'customerid': 1,\n",
              "  'name': 'Michael Garcia',\n",
              "  'email': 'plove@example.net',\n",
              "  'phone': ['233-642-9599', '(777)557-9252x39540', '954.766.9840x6835'],\n",
              "  'orders': [{'productid': 2,\n",
              "    'units': 68,\n",
              "    'purchase_date': datetime.datetime(2023, 1, 16, 0, 0)},\n",
              "   {'productid': 9,\n",
              "    'units': 41,\n",
              "    'purchase_date': datetime.datetime(2023, 5, 2, 0, 0)},\n",
              "   {'productid': 2,\n",
              "    'units': 96,\n",
              "    'purchase_date': datetime.datetime(2023, 9, 9, 0, 0)},\n",
              "   {'productid': 2,\n",
              "    'units': 34,\n",
              "    'purchase_date': datetime.datetime(2023, 10, 13, 0, 0)}]},\n",
              " {'customerid': 2,\n",
              "  'name': 'Karen Bridges',\n",
              "  'email': 'andrewmcconnell@example.com',\n",
              "  'phone': ['001-457-474-1212x1260',\n",
              "   '+1-663-483-6068x68501',\n",
              "   '+1-313-550-7481x5221'],\n",
              "  'orders': [{'productid': 7,\n",
              "    'units': 53,\n",
              "    'purchase_date': datetime.datetime(2023, 8, 24, 0, 0)},\n",
              "   {'productid': 9,\n",
              "    'units': 95,\n",
              "    'purchase_date': datetime.datetime(2023, 1, 17, 0, 0)},\n",
              "   {'productid': 1,\n",
              "    'units': 56,\n",
              "    'purchase_date': datetime.datetime(2023, 11, 29, 0, 0)}]},\n",
              " {'customerid': 3,\n",
              "  'name': 'April Acevedo',\n",
              "  'email': 'elizabethbarrera@example.net',\n",
              "  'phone': ['(535)545-4553', '001-404-429-5749x1377', '525-822-9087x89708'],\n",
              "  'orders': [{'productid': 8,\n",
              "    'units': 970,\n",
              "    'purchase_date': datetime.datetime(2023, 12, 10, 0, 0)},\n",
              "   {'productid': 3,\n",
              "    'units': 30,\n",
              "    'purchase_date': datetime.datetime(2023, 5, 19, 0, 0)},\n",
              "   {'productid': 9,\n",
              "    'units': 270,\n",
              "    'purchase_date': datetime.datetime(2023, 2, 15, 0, 0)},\n",
              "   {'productid': 6,\n",
              "    'units': 92,\n",
              "    'purchase_date': datetime.datetime(2023, 5, 18, 0, 0)}]}]"
            ]
          },
          "metadata": {},
          "execution_count": 335
        }
      ]
    },
    {
      "cell_type": "code",
      "source": [
        "# Insert customers into MongoDB\n",
        "db.customers.insert_many(customers)"
      ],
      "metadata": {
        "colab": {
          "base_uri": "https://localhost:8080/"
        },
        "id": "y6fmYt1UjVPu",
        "outputId": "be15f0fe-b4f8-4442-91d7-820d244399d5"
      },
      "execution_count": 336,
      "outputs": [
        {
          "output_type": "execute_result",
          "data": {
            "text/plain": [
              "InsertManyResult([ObjectId('65a2015d4de10d2f8cecb673'), ObjectId('65a2015d4de10d2f8cecb674'), ObjectId('65a2015d4de10d2f8cecb675'), ObjectId('65a2015d4de10d2f8cecb676'), ObjectId('65a2015d4de10d2f8cecb677'), ObjectId('65a2015d4de10d2f8cecb678'), ObjectId('65a2015d4de10d2f8cecb679'), ObjectId('65a2015d4de10d2f8cecb67a'), ObjectId('65a2015d4de10d2f8cecb67b'), ObjectId('65a2015d4de10d2f8cecb67c'), ObjectId('65a2015d4de10d2f8cecb67d'), ObjectId('65a2015d4de10d2f8cecb67e'), ObjectId('65a2015d4de10d2f8cecb67f'), ObjectId('65a2015d4de10d2f8cecb680'), ObjectId('65a2015d4de10d2f8cecb681'), ObjectId('65a2015d4de10d2f8cecb682'), ObjectId('65a2015d4de10d2f8cecb683'), ObjectId('65a2015d4de10d2f8cecb684'), ObjectId('65a2015d4de10d2f8cecb685'), ObjectId('65a2015d4de10d2f8cecb686'), ObjectId('65a2015d4de10d2f8cecb687'), ObjectId('65a2015d4de10d2f8cecb688'), ObjectId('65a2015d4de10d2f8cecb689'), ObjectId('65a2015d4de10d2f8cecb68a'), ObjectId('65a2015d4de10d2f8cecb68b'), ObjectId('65a2015d4de10d2f8cecb68c'), ObjectId('65a2015d4de10d2f8cecb68d'), ObjectId('65a2015d4de10d2f8cecb68e'), ObjectId('65a2015d4de10d2f8cecb68f'), ObjectId('65a2015d4de10d2f8cecb690'), ObjectId('65a2015d4de10d2f8cecb691'), ObjectId('65a2015d4de10d2f8cecb692'), ObjectId('65a2015d4de10d2f8cecb693'), ObjectId('65a2015d4de10d2f8cecb694'), ObjectId('65a2015d4de10d2f8cecb695'), ObjectId('65a2015d4de10d2f8cecb696'), ObjectId('65a2015d4de10d2f8cecb697'), ObjectId('65a2015d4de10d2f8cecb698'), ObjectId('65a2015d4de10d2f8cecb699'), ObjectId('65a2015d4de10d2f8cecb69a'), ObjectId('65a2015d4de10d2f8cecb69b'), ObjectId('65a2015d4de10d2f8cecb69c'), ObjectId('65a2015d4de10d2f8cecb69d'), ObjectId('65a2015d4de10d2f8cecb69e'), ObjectId('65a2015d4de10d2f8cecb69f'), ObjectId('65a2015d4de10d2f8cecb6a0'), ObjectId('65a2015d4de10d2f8cecb6a1'), ObjectId('65a2015d4de10d2f8cecb6a2'), ObjectId('65a2015d4de10d2f8cecb6a3'), ObjectId('65a2015d4de10d2f8cecb6a4'), ObjectId('65a2015d4de10d2f8cecb6a5'), ObjectId('65a2015d4de10d2f8cecb6a6'), ObjectId('65a2015d4de10d2f8cecb6a7'), ObjectId('65a2015d4de10d2f8cecb6a8'), ObjectId('65a2015d4de10d2f8cecb6a9'), ObjectId('65a2015d4de10d2f8cecb6aa'), ObjectId('65a2015d4de10d2f8cecb6ab'), ObjectId('65a2015d4de10d2f8cecb6ac'), ObjectId('65a2015d4de10d2f8cecb6ad'), ObjectId('65a2015d4de10d2f8cecb6ae'), ObjectId('65a2015d4de10d2f8cecb6af'), ObjectId('65a2015d4de10d2f8cecb6b0'), ObjectId('65a2015d4de10d2f8cecb6b1'), ObjectId('65a2015d4de10d2f8cecb6b2'), ObjectId('65a2015d4de10d2f8cecb6b3'), ObjectId('65a2015d4de10d2f8cecb6b4'), ObjectId('65a2015d4de10d2f8cecb6b5'), ObjectId('65a2015d4de10d2f8cecb6b6'), ObjectId('65a2015d4de10d2f8cecb6b7'), ObjectId('65a2015d4de10d2f8cecb6b8'), ObjectId('65a2015d4de10d2f8cecb6b9'), ObjectId('65a2015d4de10d2f8cecb6ba'), ObjectId('65a2015d4de10d2f8cecb6bb'), ObjectId('65a2015d4de10d2f8cecb6bc'), ObjectId('65a2015d4de10d2f8cecb6bd'), ObjectId('65a2015d4de10d2f8cecb6be'), ObjectId('65a2015d4de10d2f8cecb6bf'), ObjectId('65a2015d4de10d2f8cecb6c0'), ObjectId('65a2015d4de10d2f8cecb6c1'), ObjectId('65a2015d4de10d2f8cecb6c2'), ObjectId('65a2015d4de10d2f8cecb6c3'), ObjectId('65a2015d4de10d2f8cecb6c4'), ObjectId('65a2015d4de10d2f8cecb6c5'), ObjectId('65a2015d4de10d2f8cecb6c6'), ObjectId('65a2015d4de10d2f8cecb6c7'), ObjectId('65a2015d4de10d2f8cecb6c8'), ObjectId('65a2015d4de10d2f8cecb6c9'), ObjectId('65a2015d4de10d2f8cecb6ca'), ObjectId('65a2015d4de10d2f8cecb6cb'), ObjectId('65a2015d4de10d2f8cecb6cc'), ObjectId('65a2015d4de10d2f8cecb6cd'), ObjectId('65a2015d4de10d2f8cecb6ce'), ObjectId('65a2015d4de10d2f8cecb6cf'), ObjectId('65a2015d4de10d2f8cecb6d0'), ObjectId('65a2015d4de10d2f8cecb6d1'), ObjectId('65a2015d4de10d2f8cecb6d2'), ObjectId('65a2015d4de10d2f8cecb6d3'), ObjectId('65a2015d4de10d2f8cecb6d4'), ObjectId('65a2015d4de10d2f8cecb6d5'), ObjectId('65a2015d4de10d2f8cecb6d6')], acknowledged=True)"
            ]
          },
          "metadata": {},
          "execution_count": 336
        }
      ]
    },
    {
      "cell_type": "markdown",
      "source": [
        "## create products data"
      ],
      "metadata": {
        "id": "hcaXjvZlb121"
      }
    },
    {
      "cell_type": "code",
      "source": [
        "# Generate products\n",
        "products = []\n",
        "for i in range(10):\n",
        "    product = {\n",
        "        'productid': i+1,\n",
        "        'category': random.choice(['Electronics', 'Clothing', 'Books', 'Home']),\n",
        "        'price': random.randint(1, 100)\n",
        "    }\n",
        "    products.append(product)"
      ],
      "metadata": {
        "id": "CxwNS24fjWgh"
      },
      "execution_count": 337,
      "outputs": []
    },
    {
      "cell_type": "code",
      "source": [
        "products[0:3]"
      ],
      "metadata": {
        "colab": {
          "base_uri": "https://localhost:8080/"
        },
        "id": "03L0kTpZ0clv",
        "outputId": "7459b9d7-74af-4058-f6b9-f169f86b2173"
      },
      "execution_count": 338,
      "outputs": [
        {
          "output_type": "execute_result",
          "data": {
            "text/plain": [
              "[{'productid': 1, 'category': 'Electronics', 'price': 66},\n",
              " {'productid': 2, 'category': 'Clothing', 'price': 4},\n",
              " {'productid': 3, 'category': 'Electronics', 'price': 78}]"
            ]
          },
          "metadata": {},
          "execution_count": 338
        }
      ]
    },
    {
      "cell_type": "markdown",
      "source": [
        "put the 10 products into the database"
      ],
      "metadata": {
        "id": "GqLn4b3S0Ooq"
      }
    },
    {
      "cell_type": "code",
      "source": [
        "# Insert products into MongoDB\n",
        "db.products.insert_many(products)"
      ],
      "metadata": {
        "colab": {
          "base_uri": "https://localhost:8080/"
        },
        "id": "Rmyiye1HjXee",
        "outputId": "a95c05a8-627c-48b6-fa5c-3f1a20abf3f2"
      },
      "execution_count": 339,
      "outputs": [
        {
          "output_type": "execute_result",
          "data": {
            "text/plain": [
              "InsertManyResult([ObjectId('65a2015d4de10d2f8cecb6d7'), ObjectId('65a2015d4de10d2f8cecb6d8'), ObjectId('65a2015d4de10d2f8cecb6d9'), ObjectId('65a2015d4de10d2f8cecb6da'), ObjectId('65a2015d4de10d2f8cecb6db'), ObjectId('65a2015d4de10d2f8cecb6dc'), ObjectId('65a2015d4de10d2f8cecb6dd'), ObjectId('65a2015d4de10d2f8cecb6de'), ObjectId('65a2015d4de10d2f8cecb6df'), ObjectId('65a2015d4de10d2f8cecb6e0')], acknowledged=True)"
            ]
          },
          "metadata": {},
          "execution_count": 339
        }
      ]
    },
    {
      "cell_type": "code",
      "source": [
        "db.list_collection_names() # list collections"
      ],
      "metadata": {
        "colab": {
          "base_uri": "https://localhost:8080/"
        },
        "id": "pGJp7-xlPBHo",
        "outputId": "b2eab9e1-a78b-4549-9d97-900961d3c2f7"
      },
      "execution_count": 340,
      "outputs": [
        {
          "output_type": "execute_result",
          "data": {
            "text/plain": [
              "['products', 'customers']"
            ]
          },
          "metadata": {},
          "execution_count": 340
        }
      ]
    },
    {
      "cell_type": "markdown",
      "source": [
        "loop through collections and count the number of documents"
      ],
      "metadata": {
        "id": "Kh7A9GgHcHj-"
      }
    },
    {
      "cell_type": "code",
      "source": [
        "for collection_name in db.list_collection_names():\n",
        "  collection = db.get_collection(collection_name)\n",
        "  print(f'{collection_name}:{collection.count_documents({})}')"
      ],
      "metadata": {
        "colab": {
          "base_uri": "https://localhost:8080/"
        },
        "id": "HjkD5qDpPBWw",
        "outputId": "085a152f-9cfb-44d7-c486-446bab816635"
      },
      "execution_count": 341,
      "outputs": [
        {
          "output_type": "stream",
          "name": "stdout",
          "text": [
            "products:10\n",
            "customers:100\n"
          ]
        }
      ]
    },
    {
      "cell_type": "markdown",
      "source": [
        "# Querying\n",
        "\n"
      ],
      "metadata": {
        "id": "T7r6ecU8Zpaj"
      }
    },
    {
      "cell_type": "markdown",
      "source": [
        "## Customers\n",
        "\n",
        "Find all customers."
      ],
      "metadata": {
        "id": "In4J09kQZsH-"
      }
    },
    {
      "cell_type": "code",
      "source": [
        "for document in db.customers.find({}):\n",
        "  print(document)"
      ],
      "metadata": {
        "colab": {
          "base_uri": "https://localhost:8080/"
        },
        "id": "JYT5n-vEPFDT",
        "outputId": "c3d2f149-dcdd-4c5e-fcbe-db39b41c7301"
      },
      "execution_count": 342,
      "outputs": [
        {
          "output_type": "stream",
          "name": "stdout",
          "text": [
            "{'_id': ObjectId('65a2015d4de10d2f8cecb673'), 'customerid': 1, 'name': 'Michael Garcia', 'email': 'plove@example.net', 'phone': ['233-642-9599', '(777)557-9252x39540', '954.766.9840x6835'], 'orders': [{'productid': 2, 'units': 68, 'purchase_date': datetime.datetime(2023, 1, 16, 0, 0)}, {'productid': 9, 'units': 41, 'purchase_date': datetime.datetime(2023, 5, 2, 0, 0)}, {'productid': 2, 'units': 96, 'purchase_date': datetime.datetime(2023, 9, 9, 0, 0)}, {'productid': 2, 'units': 34, 'purchase_date': datetime.datetime(2023, 10, 13, 0, 0)}]}\n",
            "{'_id': ObjectId('65a2015d4de10d2f8cecb674'), 'customerid': 2, 'name': 'Karen Bridges', 'email': 'andrewmcconnell@example.com', 'phone': ['001-457-474-1212x1260', '+1-663-483-6068x68501', '+1-313-550-7481x5221'], 'orders': [{'productid': 7, 'units': 53, 'purchase_date': datetime.datetime(2023, 8, 24, 0, 0)}, {'productid': 9, 'units': 95, 'purchase_date': datetime.datetime(2023, 1, 17, 0, 0)}, {'productid': 1, 'units': 56, 'purchase_date': datetime.datetime(2023, 11, 29, 0, 0)}]}\n",
            "{'_id': ObjectId('65a2015d4de10d2f8cecb675'), 'customerid': 3, 'name': 'April Acevedo', 'email': 'elizabethbarrera@example.net', 'phone': ['(535)545-4553', '001-404-429-5749x1377', '525-822-9087x89708'], 'orders': [{'productid': 8, 'units': 970, 'purchase_date': datetime.datetime(2023, 12, 10, 0, 0)}, {'productid': 3, 'units': 30, 'purchase_date': datetime.datetime(2023, 5, 19, 0, 0)}, {'productid': 9, 'units': 270, 'purchase_date': datetime.datetime(2023, 2, 15, 0, 0)}, {'productid': 6, 'units': 92, 'purchase_date': datetime.datetime(2023, 5, 18, 0, 0)}]}\n",
            "{'_id': ObjectId('65a2015d4de10d2f8cecb676'), 'customerid': 4, 'name': 'Taylor Watts', 'email': 'jmiller@example.com', 'phone': ['5299700959', '560.262.6289', '(987)910-1259x32587'], 'orders': [{'productid': 1, 'units': 81, 'purchase_date': datetime.datetime(2023, 11, 23, 0, 0)}]}\n",
            "{'_id': ObjectId('65a2015d4de10d2f8cecb677'), 'customerid': 5, 'name': 'Kyle Vasquez', 'email': 'aaron62@example.com', 'phone': ['001-768-250-5792x067', '618-546-4104x4354', '4942362339'], 'orders': [{'productid': 10, 'units': 16, 'purchase_date': datetime.datetime(2023, 11, 9, 0, 0)}, {'productid': 4, 'units': 100, 'purchase_date': datetime.datetime(2023, 4, 1, 0, 0)}]}\n",
            "{'_id': ObjectId('65a2015d4de10d2f8cecb678'), 'customerid': 6, 'name': 'Robert Levy', 'email': 'gdavis@example.org', 'phone': ['(487)403-9828', '251.536.2109x911', '561.373.8876'], 'orders': [{'productid': 10, 'units': 85, 'purchase_date': datetime.datetime(2023, 3, 13, 0, 0)}, {'productid': 8, 'units': 47, 'purchase_date': datetime.datetime(2023, 4, 26, 0, 0)}]}\n",
            "{'_id': ObjectId('65a2015d4de10d2f8cecb679'), 'customerid': 7, 'name': 'Christopher Wright', 'email': 'ginajohnson@example.com', 'phone': ['3169498997', '991.286.2102x879', '605-220-3099'], 'orders': [{'productid': 2, 'units': 89, 'purchase_date': datetime.datetime(2023, 6, 14, 0, 0)}, {'productid': 8, 'units': 36, 'purchase_date': datetime.datetime(2023, 12, 21, 0, 0)}, {'productid': 5, 'units': 350, 'purchase_date': datetime.datetime(2023, 9, 7, 0, 0)}]}\n",
            "{'_id': ObjectId('65a2015d4de10d2f8cecb67a'), 'customerid': 8, 'name': 'Julia Gilbert', 'email': 'charles65@example.org', 'phone': ['605.565.2557x19110', '(630)399-0451', '(657)518-0895x618'], 'orders': [{'productid': 5, 'units': 39, 'purchase_date': datetime.datetime(2023, 8, 18, 0, 0)}]}\n",
            "{'_id': ObjectId('65a2015d4de10d2f8cecb67b'), 'customerid': 9, 'name': 'Jermaine Welch', 'email': 'daniel97@example.com', 'phone': ['(424)281-5812', '001-406-203-4867x782', '798.853.3413'], 'orders': [{'productid': 8, 'units': 82, 'purchase_date': datetime.datetime(2023, 10, 29, 0, 0)}, {'productid': 10, 'units': 86, 'purchase_date': datetime.datetime(2023, 9, 25, 0, 0)}, {'productid': 8, 'units': 65, 'purchase_date': datetime.datetime(2023, 10, 7, 0, 0)}]}\n",
            "{'_id': ObjectId('65a2015d4de10d2f8cecb67c'), 'customerid': 10, 'name': 'Tami Smith', 'email': 'jimmy17@example.net', 'phone': ['001-283-513-0027', '(879)599-1256x9287', '001-473-223-1627'], 'orders': [{'productid': 6, 'units': 98, 'purchase_date': datetime.datetime(2023, 8, 31, 0, 0)}, {'productid': 6, 'units': 30, 'purchase_date': datetime.datetime(2023, 3, 17, 0, 0)}]}\n",
            "{'_id': ObjectId('65a2015d4de10d2f8cecb67d'), 'customerid': 11, 'name': 'Karen Davis', 'email': 'christopheravila@example.com', 'phone': ['981-616-1208x566', '2565903924', '(204)347-3291x6821'], 'orders': []}\n",
            "{'_id': ObjectId('65a2015d4de10d2f8cecb67e'), 'customerid': 12, 'name': 'Courtney Dennis', 'email': 'johnsonmatthew@example.org', 'phone': ['+1-984-930-8088x6709', '(270)639-0730x41075', '001-717-995-3571x576'], 'orders': [{'productid': 3, 'units': 79, 'purchase_date': datetime.datetime(2023, 6, 18, 0, 0)}]}\n",
            "{'_id': ObjectId('65a2015d4de10d2f8cecb67f'), 'customerid': 13, 'name': 'Kerri Nicholson', 'email': 'sarahvang@example.org', 'phone': ['826.865.6592', '500.468.6099', '876-644-8743x5990'], 'orders': [{'productid': 6, 'units': 63, 'purchase_date': datetime.datetime(2023, 8, 22, 0, 0)}]}\n",
            "{'_id': ObjectId('65a2015d4de10d2f8cecb680'), 'customerid': 14, 'name': 'Andrea Perez', 'email': 'cjones@example.net', 'phone': ['(709)379-7061x99085', '327.229.2610x18121', '001-755-666-0337'], 'orders': [{'productid': 1, 'units': 26, 'purchase_date': datetime.datetime(2023, 3, 21, 0, 0)}, {'productid': 7, 'units': 49, 'purchase_date': datetime.datetime(2023, 8, 23, 0, 0)}, {'productid': 6, 'units': 65, 'purchase_date': datetime.datetime(2023, 12, 4, 0, 0)}]}\n",
            "{'_id': ObjectId('65a2015d4de10d2f8cecb681'), 'customerid': 15, 'name': 'Dean Smith', 'email': 'dennislawson@example.com', 'phone': ['001-362-717-8002x552', '879.532.5666x73910', '930.346.1087'], 'orders': [{'productid': 1, 'units': 75, 'purchase_date': datetime.datetime(2023, 1, 27, 0, 0)}, {'productid': 5, 'units': 640, 'purchase_date': datetime.datetime(2023, 5, 22, 0, 0)}, {'productid': 4, 'units': 99, 'purchase_date': datetime.datetime(2023, 9, 3, 0, 0)}, {'productid': 8, 'units': 40, 'purchase_date': datetime.datetime(2023, 12, 24, 0, 0)}]}\n",
            "{'_id': ObjectId('65a2015d4de10d2f8cecb682'), 'customerid': 16, 'name': 'Stacey Hendricks', 'email': 'samuel00@example.com', 'phone': ['323.698.4715x5529', '(996)212-2527x1850', '+1-860-902-5547x63701'], 'orders': [{'productid': 1, 'units': 96, 'purchase_date': datetime.datetime(2023, 5, 27, 0, 0)}, {'productid': 3, 'units': 600, 'purchase_date': datetime.datetime(2023, 7, 7, 0, 0)}]}\n",
            "{'_id': ObjectId('65a2015d4de10d2f8cecb683'), 'customerid': 17, 'name': 'Lisa Hart', 'email': 'douglas72@example.net', 'phone': ['266-578-9863', '(222)490-6780x9794', '955.335.8486x2332'], 'orders': [{'productid': 9, 'units': 87, 'purchase_date': datetime.datetime(2023, 5, 2, 0, 0)}, {'productid': 4, 'units': 66, 'purchase_date': datetime.datetime(2023, 7, 20, 0, 0)}, {'productid': 10, 'units': 26, 'purchase_date': datetime.datetime(2023, 9, 14, 0, 0)}, {'productid': 4, 'units': 50, 'purchase_date': datetime.datetime(2023, 8, 23, 0, 0)}]}\n",
            "{'_id': ObjectId('65a2015d4de10d2f8cecb684'), 'customerid': 18, 'name': 'Michael Kim', 'email': 'cbennett@example.org', 'phone': ['+1-537-202-6141x1777', '398-740-7552x29923', '(228)331-5365x8418'], 'orders': [{'productid': 6, 'units': 460, 'purchase_date': datetime.datetime(2023, 8, 8, 0, 0)}, {'productid': 10, 'units': 21, 'purchase_date': datetime.datetime(2023, 2, 10, 0, 0)}]}\n",
            "{'_id': ObjectId('65a2015d4de10d2f8cecb685'), 'customerid': 19, 'name': 'Erica Williams', 'email': 'lawrencerivera@example.org', 'phone': ['+1-557-405-7134', '(405)598-4328', '2295343239'], 'orders': [{'productid': 6, 'units': 36, 'purchase_date': datetime.datetime(2023, 4, 20, 0, 0)}, {'productid': 8, 'units': 63, 'purchase_date': datetime.datetime(2023, 1, 12, 0, 0)}, {'productid': 7, 'units': 22, 'purchase_date': datetime.datetime(2023, 2, 14, 0, 0)}]}\n",
            "{'_id': ObjectId('65a2015d4de10d2f8cecb686'), 'customerid': 20, 'name': 'Kathleen Smith', 'email': 'hunterjared@example.org', 'phone': ['(930)354-5884x5179', '985-610-8495x04145', '613-451-9436x19053'], 'orders': [{'productid': 3, 'units': 23, 'purchase_date': datetime.datetime(2023, 7, 5, 0, 0)}]}\n",
            "{'_id': ObjectId('65a2015d4de10d2f8cecb687'), 'customerid': 21, 'name': 'Ms. Margaret Sanchez', 'email': 'adamclark@example.org', 'phone': ['001-895-987-1977x71303', '(403)598-7417x2797', '001-591-910-7582'], 'orders': []}\n",
            "{'_id': ObjectId('65a2015d4de10d2f8cecb688'), 'customerid': 22, 'name': 'Abigail Buck', 'email': 'kellydaniel@example.net', 'phone': ['6617071139', '6306842270', '863.314.4111'], 'orders': []}\n",
            "{'_id': ObjectId('65a2015d4de10d2f8cecb689'), 'customerid': 23, 'name': 'Megan Melton', 'email': 'ycampbell@example.net', 'phone': ['985-464-4838x3535', '6136164095', '4395062941'], 'orders': [{'productid': 8, 'units': 78, 'purchase_date': datetime.datetime(2023, 7, 11, 0, 0)}, {'productid': 6, 'units': 35, 'purchase_date': datetime.datetime(2023, 7, 17, 0, 0)}, {'productid': 5, 'units': 55, 'purchase_date': datetime.datetime(2023, 4, 10, 0, 0)}, {'productid': 2, 'units': 15, 'purchase_date': datetime.datetime(2023, 10, 20, 0, 0)}]}\n",
            "{'_id': ObjectId('65a2015d4de10d2f8cecb68a'), 'customerid': 24, 'name': 'Zachary Joseph', 'email': 'blackdavid@example.com', 'phone': ['876-804-9830x134', '588-209-4848x936', '001-567-823-5528'], 'orders': [{'productid': 8, 'units': 93, 'purchase_date': datetime.datetime(2023, 3, 29, 0, 0)}]}\n",
            "{'_id': ObjectId('65a2015d4de10d2f8cecb68b'), 'customerid': 25, 'name': 'Gary Aguilar', 'email': 'taylorkristin@example.org', 'phone': ['581.415.4325x6418', '5292073749', '(621)553-8025'], 'orders': [{'productid': 3, 'units': 650, 'purchase_date': datetime.datetime(2023, 1, 22, 0, 0)}]}\n",
            "{'_id': ObjectId('65a2015d4de10d2f8cecb68c'), 'customerid': 26, 'name': 'Karen Allen', 'email': 'martinezmichael@example.com', 'phone': ['(712)584-9347', '001-343-362-1377', '001-227-483-4212x4772'], 'orders': [{'productid': 3, 'units': 39, 'purchase_date': datetime.datetime(2023, 10, 21, 0, 0)}, {'productid': 10, 'units': 56, 'purchase_date': datetime.datetime(2023, 3, 5, 0, 0)}, {'productid': 8, 'units': 19, 'purchase_date': datetime.datetime(2023, 12, 21, 0, 0)}]}\n",
            "{'_id': ObjectId('65a2015d4de10d2f8cecb68d'), 'customerid': 27, 'name': 'Andrea Miller', 'email': 'sbrown@example.org', 'phone': ['630.523.5928x257', '(561)945-8703x08798', '+1-302-696-5865'], 'orders': [{'productid': 9, 'units': 93, 'purchase_date': datetime.datetime(2023, 7, 1, 0, 0)}]}\n",
            "{'_id': ObjectId('65a2015d4de10d2f8cecb68e'), 'customerid': 28, 'name': 'Sheila Adams', 'email': 'brianwallace@example.org', 'phone': ['(507)611-8276', '001-229-813-8191x2254', '+1-767-750-8579'], 'orders': [{'productid': 4, 'units': 14, 'purchase_date': datetime.datetime(2023, 9, 8, 0, 0)}, {'productid': 2, 'units': 56, 'purchase_date': datetime.datetime(2023, 10, 23, 0, 0)}, {'productid': 7, 'units': 27, 'purchase_date': datetime.datetime(2023, 5, 3, 0, 0)}]}\n",
            "{'_id': ObjectId('65a2015d4de10d2f8cecb68f'), 'customerid': 29, 'name': 'Michael Graham', 'email': 'martinezmaria@example.com', 'phone': ['844.638.2648', '665.515.4978', '001-548-877-9111x291'], 'orders': [{'productid': 5, 'units': 69, 'purchase_date': datetime.datetime(2023, 3, 31, 0, 0)}, {'productid': 4, 'units': 38, 'purchase_date': datetime.datetime(2023, 10, 1, 0, 0)}, {'productid': 9, 'units': 45, 'purchase_date': datetime.datetime(2023, 5, 2, 0, 0)}, {'productid': 3, 'units': 83, 'purchase_date': datetime.datetime(2023, 4, 15, 0, 0)}]}\n",
            "{'_id': ObjectId('65a2015d4de10d2f8cecb690'), 'customerid': 30, 'name': 'William Pineda', 'email': 'qchristensen@example.com', 'phone': ['001-507-996-9518x22033', '791-822-2746', '548.376.2622'], 'orders': []}\n",
            "{'_id': ObjectId('65a2015d4de10d2f8cecb691'), 'customerid': 31, 'name': 'Michael Armstrong', 'email': 'bryce43@example.net', 'phone': ['(376)606-2039x2278', '528-309-5935x036', '3165193527'], 'orders': []}\n",
            "{'_id': ObjectId('65a2015d4de10d2f8cecb692'), 'customerid': 32, 'name': 'Karen Adams', 'email': 'nmoore@example.net', 'phone': ['(446)640-7721x87813', '001-792-567-8733x357', '001-569-390-7346x96081'], 'orders': [{'productid': 10, 'units': 290, 'purchase_date': datetime.datetime(2023, 6, 25, 0, 0)}]}\n",
            "{'_id': ObjectId('65a2015d4de10d2f8cecb693'), 'customerid': 33, 'name': 'Brooke Thompson', 'email': 'karencrosby@example.net', 'phone': ['(310)613-3000x742', '+1-873-814-8298x9228', '001-856-283-6811x2251'], 'orders': [{'productid': 8, 'units': 93, 'purchase_date': datetime.datetime(2023, 8, 16, 0, 0)}, {'productid': 3, 'units': 21, 'purchase_date': datetime.datetime(2023, 10, 3, 0, 0)}, {'productid': 2, 'units': 50, 'purchase_date': datetime.datetime(2023, 3, 7, 0, 0)}, {'productid': 1, 'units': 55, 'purchase_date': datetime.datetime(2023, 4, 30, 0, 0)}]}\n",
            "{'_id': ObjectId('65a2015d4de10d2f8cecb694'), 'customerid': 34, 'name': 'Chelsey Parker', 'email': 'laurienunez@example.com', 'phone': ['(779)386-6193', '2905767035', '970.919.1931x04718'], 'orders': [{'productid': 8, 'units': 14, 'purchase_date': datetime.datetime(2023, 3, 13, 0, 0)}, {'productid': 9, 'units': 92, 'purchase_date': datetime.datetime(2023, 4, 18, 0, 0)}, {'productid': 6, 'units': 88, 'purchase_date': datetime.datetime(2023, 12, 4, 0, 0)}]}\n",
            "{'_id': ObjectId('65a2015d4de10d2f8cecb695'), 'customerid': 35, 'name': 'Troy Daugherty', 'email': 'evanfreeman@example.net', 'phone': ['(333)989-6026x04672', '397.691.4365x879', '(352)512-3164'], 'orders': [{'productid': 8, 'units': 48, 'purchase_date': datetime.datetime(2023, 9, 24, 0, 0)}]}\n",
            "{'_id': ObjectId('65a2015d4de10d2f8cecb696'), 'customerid': 36, 'name': 'Gabrielle Mccoy', 'email': 'ellischristopher@example.org', 'phone': ['(566)477-0031x984', '001-783-974-4804x007', '(437)626-8781x4133'], 'orders': [{'productid': 10, 'units': 610, 'purchase_date': datetime.datetime(2023, 11, 9, 0, 0)}, {'productid': 6, 'units': 75, 'purchase_date': datetime.datetime(2023, 1, 14, 0, 0)}]}\n",
            "{'_id': ObjectId('65a2015d4de10d2f8cecb697'), 'customerid': 37, 'name': 'Marvin Evans', 'email': 'gsalazar@example.net', 'phone': ['001-647-372-9090x24630', '782-967-2912', '(691)644-8158x17128'], 'orders': [{'productid': 9, 'units': 50, 'purchase_date': datetime.datetime(2023, 7, 21, 0, 0)}, {'productid': 2, 'units': 70, 'purchase_date': datetime.datetime(2023, 12, 8, 0, 0)}, {'productid': 1, 'units': 59, 'purchase_date': datetime.datetime(2023, 5, 28, 0, 0)}, {'productid': 3, 'units': 95, 'purchase_date': datetime.datetime(2023, 3, 16, 0, 0)}]}\n",
            "{'_id': ObjectId('65a2015d4de10d2f8cecb698'), 'customerid': 38, 'name': 'Pamela Baldwin', 'email': 'angela54@example.com', 'phone': ['+1-679-267-2069x321', '467.299.3866x82018', '+1-375-541-2077x21443'], 'orders': []}\n",
            "{'_id': ObjectId('65a2015d4de10d2f8cecb699'), 'customerid': 39, 'name': 'Joshua Crawford', 'email': 'wolfsteven@example.net', 'phone': ['001-432-379-3366x8369', '839-965-4751', '448.792.3168x46081'], 'orders': [{'productid': 3, 'units': 60, 'purchase_date': datetime.datetime(2023, 5, 15, 0, 0)}, {'productid': 5, 'units': 89, 'purchase_date': datetime.datetime(2023, 11, 5, 0, 0)}, {'productid': 7, 'units': 96, 'purchase_date': datetime.datetime(2023, 8, 22, 0, 0)}, {'productid': 3, 'units': 69, 'purchase_date': datetime.datetime(2023, 2, 14, 0, 0)}]}\n",
            "{'_id': ObjectId('65a2015d4de10d2f8cecb69a'), 'customerid': 40, 'name': 'Christina Hanson', 'email': 'zchristensen@example.net', 'phone': ['646.756.5965x006', '001-745-682-6550x293', '732.661.2190'], 'orders': [{'productid': 9, 'units': 83, 'purchase_date': datetime.datetime(2023, 2, 14, 0, 0)}, {'productid': 8, 'units': 92, 'purchase_date': datetime.datetime(2023, 7, 12, 0, 0)}]}\n",
            "{'_id': ObjectId('65a2015d4de10d2f8cecb69b'), 'customerid': 41, 'name': 'Elizabeth Walker', 'email': 'dianajones@example.com', 'phone': ['(704)547-0574x31812', '7924061104', '001-206-316-3468x227'], 'orders': [{'productid': 2, 'units': 89, 'purchase_date': datetime.datetime(2024, 1, 2, 0, 0)}, {'productid': 5, 'units': 45, 'purchase_date': datetime.datetime(2023, 5, 11, 0, 0)}, {'productid': 3, 'units': 14, 'purchase_date': datetime.datetime(2023, 6, 4, 0, 0)}, {'productid': 5, 'units': 41, 'purchase_date': datetime.datetime(2023, 7, 14, 0, 0)}]}\n",
            "{'_id': ObjectId('65a2015d4de10d2f8cecb69c'), 'customerid': 42, 'name': 'Kari Austin', 'email': 'christopher21@example.net', 'phone': ['506-257-5560', '713-826-3669x17827', '783-468-9734x17992'], 'orders': []}\n",
            "{'_id': ObjectId('65a2015d4de10d2f8cecb69d'), 'customerid': 43, 'name': 'Justin Welch', 'email': 'joshuafranco@example.com', 'phone': ['001-803-239-5986x911', '5746785013', '216-565-1579x2384'], 'orders': [{'productid': 7, 'units': 34, 'purchase_date': datetime.datetime(2023, 6, 9, 0, 0)}, {'productid': 4, 'units': 51, 'purchase_date': datetime.datetime(2023, 9, 26, 0, 0)}, {'productid': 1, 'units': 79, 'purchase_date': datetime.datetime(2023, 1, 16, 0, 0)}, {'productid': 5, 'units': 63, 'purchase_date': datetime.datetime(2023, 2, 19, 0, 0)}]}\n",
            "{'_id': ObjectId('65a2015d4de10d2f8cecb69e'), 'customerid': 44, 'name': 'Jordan Macdonald', 'email': 'bhoward@example.net', 'phone': ['974.208.1132', '(529)948-0371', '662-532-6057'], 'orders': [{'productid': 8, 'units': 64, 'purchase_date': datetime.datetime(2023, 4, 21, 0, 0)}, {'productid': 10, 'units': 18, 'purchase_date': datetime.datetime(2023, 4, 7, 0, 0)}, {'productid': 10, 'units': 32, 'purchase_date': datetime.datetime(2023, 11, 27, 0, 0)}, {'productid': 2, 'units': 58, 'purchase_date': datetime.datetime(2023, 9, 8, 0, 0)}]}\n",
            "{'_id': ObjectId('65a2015d4de10d2f8cecb69f'), 'customerid': 45, 'name': 'Amanda Hill', 'email': 'jlopez@example.org', 'phone': ['001-489-221-8965x7910', '001-880-253-3830x25187', '+1-787-292-9700x2538'], 'orders': [{'productid': 5, 'units': 55, 'purchase_date': datetime.datetime(2023, 4, 5, 0, 0)}, {'productid': 7, 'units': 47, 'purchase_date': datetime.datetime(2023, 2, 26, 0, 0)}, {'productid': 3, 'units': 91, 'purchase_date': datetime.datetime(2023, 10, 14, 0, 0)}]}\n",
            "{'_id': ObjectId('65a2015d4de10d2f8cecb6a0'), 'customerid': 46, 'name': 'Melissa Johnson', 'email': 'craig43@example.org', 'phone': ['2248064133', '674-373-3778x8596', '796-241-6327x08308'], 'orders': []}\n",
            "{'_id': ObjectId('65a2015d4de10d2f8cecb6a1'), 'customerid': 47, 'name': 'Julie Martin', 'email': 'julie75@example.net', 'phone': ['792.953.8627', '001-921-871-4005x737', '(214)630-7329x512'], 'orders': [{'productid': 3, 'units': 60, 'purchase_date': datetime.datetime(2023, 8, 15, 0, 0)}, {'productid': 9, 'units': 11, 'purchase_date': datetime.datetime(2023, 9, 7, 0, 0)}]}\n",
            "{'_id': ObjectId('65a2015d4de10d2f8cecb6a2'), 'customerid': 48, 'name': 'Lauren Cochran', 'email': 'vanessastewart@example.net', 'phone': ['001-239-722-0963', '(608)301-7214x28315', '001-494-441-6342'], 'orders': [{'productid': 6, 'units': 13, 'purchase_date': datetime.datetime(2023, 7, 25, 0, 0)}, {'productid': 5, 'units': 62, 'purchase_date': datetime.datetime(2023, 4, 9, 0, 0)}]}\n",
            "{'_id': ObjectId('65a2015d4de10d2f8cecb6a3'), 'customerid': 49, 'name': 'Shannon Price', 'email': 'rperry@example.com', 'phone': ['307-422-4682', '(834)917-2952x190', '530-942-8980x1929'], 'orders': [{'productid': 2, 'units': 32, 'purchase_date': datetime.datetime(2023, 7, 2, 0, 0)}]}\n",
            "{'_id': ObjectId('65a2015d4de10d2f8cecb6a4'), 'customerid': 50, 'name': 'Kenneth Powell', 'email': 'asoto@example.org', 'phone': ['463-980-3918x713', '992-750-5989', '992.291.2535x64350'], 'orders': [{'productid': 7, 'units': 33, 'purchase_date': datetime.datetime(2023, 9, 25, 0, 0)}, {'productid': 5, 'units': 30, 'purchase_date': datetime.datetime(2023, 11, 18, 0, 0)}]}\n",
            "{'_id': ObjectId('65a2015d4de10d2f8cecb6a5'), 'customerid': 51, 'name': 'Amanda Henderson', 'email': 'codom@example.net', 'phone': ['(318)973-9604x512', '+1-359-240-0765', '740.963.8845'], 'orders': [{'productid': 5, 'units': 93, 'purchase_date': datetime.datetime(2024, 1, 7, 0, 0)}, {'productid': 1, 'units': 60, 'purchase_date': datetime.datetime(2023, 11, 2, 0, 0)}]}\n",
            "{'_id': ObjectId('65a2015d4de10d2f8cecb6a6'), 'customerid': 52, 'name': 'Brandon Randall', 'email': 'fshaffer@example.org', 'phone': ['001-533-975-8924', '(334)929-4150x81482', '(618)316-7688x1037'], 'orders': [{'productid': 4, 'units': 79, 'purchase_date': datetime.datetime(2023, 7, 18, 0, 0)}, {'productid': 9, 'units': 100, 'purchase_date': datetime.datetime(2023, 11, 7, 0, 0)}]}\n",
            "{'_id': ObjectId('65a2015d4de10d2f8cecb6a7'), 'customerid': 53, 'name': 'Eric Ball', 'email': 'samueledwards@example.net', 'phone': ['+1-953-649-2180x1649', '443-664-3247', '+1-792-857-5661x05728'], 'orders': [{'productid': 6, 'units': 91, 'purchase_date': datetime.datetime(2023, 10, 2, 0, 0)}, {'productid': 6, 'units': 74, 'purchase_date': datetime.datetime(2023, 1, 22, 0, 0)}]}\n",
            "{'_id': ObjectId('65a2015d4de10d2f8cecb6a8'), 'customerid': 54, 'name': 'Bryan Jones', 'email': 'billy47@example.net', 'phone': ['001-540-446-4376x5198', '(518)469-6446x6796', '667.276.1669'], 'orders': [{'productid': 10, 'units': 93, 'purchase_date': datetime.datetime(2023, 8, 26, 0, 0)}, {'productid': 7, 'units': 52, 'purchase_date': datetime.datetime(2023, 12, 24, 0, 0)}]}\n",
            "{'_id': ObjectId('65a2015d4de10d2f8cecb6a9'), 'customerid': 55, 'name': 'Anna Payne', 'email': 'anthony44@example.net', 'phone': ['(872)621-3924x27299', '444.819.4481x882', '950.645.0095x00755'], 'orders': [{'productid': 9, 'units': 62, 'purchase_date': datetime.datetime(2023, 4, 25, 0, 0)}, {'productid': 7, 'units': 61, 'purchase_date': datetime.datetime(2023, 5, 29, 0, 0)}]}\n",
            "{'_id': ObjectId('65a2015d4de10d2f8cecb6aa'), 'customerid': 56, 'name': 'Maria Knapp', 'email': 'elizabethskinner@example.org', 'phone': ['498.359.0798x579', '572-629-9614x501', '920.462.9141'], 'orders': [{'productid': 3, 'units': 56, 'purchase_date': datetime.datetime(2023, 7, 22, 0, 0)}]}\n",
            "{'_id': ObjectId('65a2015d4de10d2f8cecb6ab'), 'customerid': 57, 'name': 'Matthew Dixon', 'email': 'erika24@example.com', 'phone': ['+1-973-230-8562x5846', '830.679.2736x5791', '001-846-962-8558x79540'], 'orders': [{'productid': 4, 'units': 33, 'purchase_date': datetime.datetime(2023, 5, 19, 0, 0)}, {'productid': 3, 'units': 44, 'purchase_date': datetime.datetime(2023, 11, 13, 0, 0)}, {'productid': 5, 'units': 30, 'purchase_date': datetime.datetime(2023, 9, 3, 0, 0)}]}\n",
            "{'_id': ObjectId('65a2015d4de10d2f8cecb6ac'), 'customerid': 58, 'name': 'Matthew Hudson', 'email': 'snyderjoshua@example.com', 'phone': ['(565)814-4087', '001-559-435-2792x98112', '(497)778-5568'], 'orders': []}\n",
            "{'_id': ObjectId('65a2015d4de10d2f8cecb6ad'), 'customerid': 59, 'name': 'Ana Newton', 'email': 'paul05@example.com', 'phone': ['500.941.5185', '+1-355-841-9908x5107', '380.453.9147'], 'orders': [{'productid': 6, 'units': 67, 'purchase_date': datetime.datetime(2023, 3, 22, 0, 0)}, {'productid': 7, 'units': 56, 'purchase_date': datetime.datetime(2023, 12, 19, 0, 0)}, {'productid': 8, 'units': 94, 'purchase_date': datetime.datetime(2024, 1, 4, 0, 0)}, {'productid': 7, 'units': 62, 'purchase_date': datetime.datetime(2023, 9, 7, 0, 0)}]}\n",
            "{'_id': ObjectId('65a2015d4de10d2f8cecb6ae'), 'customerid': 60, 'name': 'Joseph Long', 'email': 'stewartstacey@example.org', 'phone': ['(474)400-9020x429', '415-601-5107x3425', '947-887-5829x9407'], 'orders': []}\n",
            "{'_id': ObjectId('65a2015d4de10d2f8cecb6af'), 'customerid': 61, 'name': 'Jack Lawson', 'email': 'dwilliams@example.net', 'phone': ['+1-280-476-5359', '(223)385-8824x28730', '887-818-8288x9268'], 'orders': [{'productid': 10, 'units': 350, 'purchase_date': datetime.datetime(2023, 11, 27, 0, 0)}, {'productid': 5, 'units': 86, 'purchase_date': datetime.datetime(2023, 7, 9, 0, 0)}, {'productid': 1, 'units': 64, 'purchase_date': datetime.datetime(2023, 11, 27, 0, 0)}, {'productid': 1, 'units': 62, 'purchase_date': datetime.datetime(2023, 11, 24, 0, 0)}]}\n",
            "{'_id': ObjectId('65a2015d4de10d2f8cecb6b0'), 'customerid': 62, 'name': 'Justin Campos', 'email': 'qschultz@example.net', 'phone': ['283-935-3618', '9979291298', '(944)203-5888x83432'], 'orders': [{'productid': 2, 'units': 15, 'purchase_date': datetime.datetime(2023, 8, 1, 0, 0)}, {'productid': 8, 'units': 61, 'purchase_date': datetime.datetime(2023, 11, 18, 0, 0)}, {'productid': 2, 'units': 51, 'purchase_date': datetime.datetime(2023, 8, 12, 0, 0)}, {'productid': 4, 'units': 38, 'purchase_date': datetime.datetime(2023, 9, 28, 0, 0)}]}\n",
            "{'_id': ObjectId('65a2015d4de10d2f8cecb6b1'), 'customerid': 63, 'name': 'Carmen Marshall', 'email': 'brownjennifer@example.com', 'phone': ['727-233-1499', '001-942-922-3440x6148', '4857167852'], 'orders': [{'productid': 1, 'units': 88, 'purchase_date': datetime.datetime(2023, 6, 9, 0, 0)}, {'productid': 9, 'units': 93, 'purchase_date': datetime.datetime(2023, 6, 9, 0, 0)}, {'productid': 7, 'units': 66, 'purchase_date': datetime.datetime(2023, 7, 1, 0, 0)}, {'productid': 8, 'units': 710, 'purchase_date': datetime.datetime(2023, 3, 8, 0, 0)}]}\n",
            "{'_id': ObjectId('65a2015d4de10d2f8cecb6b2'), 'customerid': 64, 'name': 'Amanda Griffin', 'email': 'pittmanryan@example.net', 'phone': ['221-476-3438x13248', '(223)566-5367x2313', '537.575.3364x214'], 'orders': [{'productid': 10, 'units': 67, 'purchase_date': datetime.datetime(2023, 10, 17, 0, 0)}, {'productid': 2, 'units': 54, 'purchase_date': datetime.datetime(2023, 6, 18, 0, 0)}, {'productid': 1, 'units': 42, 'purchase_date': datetime.datetime(2023, 12, 12, 0, 0)}, {'productid': 8, 'units': 48, 'purchase_date': datetime.datetime(2023, 12, 18, 0, 0)}]}\n",
            "{'_id': ObjectId('65a2015d4de10d2f8cecb6b3'), 'customerid': 65, 'name': 'George Hammond', 'email': 'james00@example.org', 'phone': ['(813)843-0446x83951', '+1-788-787-2491', '754.634.1194'], 'orders': [{'productid': 10, 'units': 24, 'purchase_date': datetime.datetime(2023, 7, 7, 0, 0)}, {'productid': 9, 'units': 56, 'purchase_date': datetime.datetime(2023, 11, 29, 0, 0)}, {'productid': 5, 'units': 77, 'purchase_date': datetime.datetime(2023, 10, 25, 0, 0)}, {'productid': 2, 'units': 96, 'purchase_date': datetime.datetime(2023, 5, 29, 0, 0)}]}\n",
            "{'_id': ObjectId('65a2015d4de10d2f8cecb6b4'), 'customerid': 66, 'name': 'Vincent Banks', 'email': 'kimberlyhardy@example.org', 'phone': ['293-667-1154', '238-877-4099x11643', '(526)699-4477'], 'orders': [{'productid': 9, 'units': 14, 'purchase_date': datetime.datetime(2023, 10, 2, 0, 0)}, {'productid': 8, 'units': 38, 'purchase_date': datetime.datetime(2023, 4, 29, 0, 0)}, {'productid': 8, 'units': 95, 'purchase_date': datetime.datetime(2023, 11, 23, 0, 0)}, {'productid': 6, 'units': 71, 'purchase_date': datetime.datetime(2023, 3, 2, 0, 0)}]}\n",
            "{'_id': ObjectId('65a2015d4de10d2f8cecb6b5'), 'customerid': 67, 'name': 'Paul Gould', 'email': 'gregrichmond@example.com', 'phone': ['(299)439-6097x606', '369.833.9940', '670.898.5109'], 'orders': [{'productid': 10, 'units': 91, 'purchase_date': datetime.datetime(2023, 12, 19, 0, 0)}, {'productid': 7, 'units': 75, 'purchase_date': datetime.datetime(2023, 11, 28, 0, 0)}, {'productid': 4, 'units': 48, 'purchase_date': datetime.datetime(2024, 1, 3, 0, 0)}, {'productid': 10, 'units': 32, 'purchase_date': datetime.datetime(2023, 10, 10, 0, 0)}]}\n",
            "{'_id': ObjectId('65a2015d4de10d2f8cecb6b6'), 'customerid': 68, 'name': 'Zachary White', 'email': 'mcknightfrank@example.org', 'phone': ['738.790.3847x80676', '2827856944', '709.326.2835x72356'], 'orders': [{'productid': 6, 'units': 45, 'purchase_date': datetime.datetime(2023, 5, 4, 0, 0)}]}\n",
            "{'_id': ObjectId('65a2015d4de10d2f8cecb6b7'), 'customerid': 69, 'name': 'Victor Nelson', 'email': 'steven50@example.org', 'phone': ['747.736.2040x402', '539-337-6024x17636', '353.527.7989'], 'orders': [{'productid': 8, 'units': 85, 'purchase_date': datetime.datetime(2023, 3, 13, 0, 0)}]}\n",
            "{'_id': ObjectId('65a2015d4de10d2f8cecb6b8'), 'customerid': 70, 'name': 'Mercedes Wong', 'email': 'loretta14@example.org', 'phone': ['397.534.4825x53446', '(270)438-5939x9565', '(503)953-4083'], 'orders': []}\n",
            "{'_id': ObjectId('65a2015d4de10d2f8cecb6b9'), 'customerid': 71, 'name': 'Jeffery Guzman', 'email': 'scottbridget@example.net', 'phone': ['+1-488-594-7828x3969', '728-518-4531x7323', '(751)433-6894x35044'], 'orders': [{'productid': 2, 'units': 32, 'purchase_date': datetime.datetime(2023, 7, 22, 0, 0)}, {'productid': 10, 'units': 35, 'purchase_date': datetime.datetime(2023, 7, 22, 0, 0)}]}\n",
            "{'_id': ObjectId('65a2015d4de10d2f8cecb6ba'), 'customerid': 72, 'name': 'William Boyer', 'email': 'william33@example.org', 'phone': ['550-504-5248', '279.746.7530x12584', '001-426-366-3279x830'], 'orders': [{'productid': 9, 'units': 80, 'purchase_date': datetime.datetime(2023, 6, 27, 0, 0)}]}\n",
            "{'_id': ObjectId('65a2015d4de10d2f8cecb6bb'), 'customerid': 73, 'name': 'Andrew Gonzales', 'email': 'franklincarrie@example.net', 'phone': ['001-858-261-8544x02901', '210.803.3389x8396', '001-384-635-3021x76695'], 'orders': [{'productid': 4, 'units': 41, 'purchase_date': datetime.datetime(2023, 6, 4, 0, 0)}, {'productid': 7, 'units': 26, 'purchase_date': datetime.datetime(2023, 3, 11, 0, 0)}, {'productid': 4, 'units': 77, 'purchase_date': datetime.datetime(2023, 12, 11, 0, 0)}, {'productid': 2, 'units': 550, 'purchase_date': datetime.datetime(2023, 6, 16, 0, 0)}]}\n",
            "{'_id': ObjectId('65a2015d4de10d2f8cecb6bc'), 'customerid': 74, 'name': 'Ashley Cooley', 'email': 'kristinaarcher@example.org', 'phone': ['001-998-729-3534', '(307)714-8593x23293', '645-410-9778'], 'orders': [{'productid': 6, 'units': 10, 'purchase_date': datetime.datetime(2023, 3, 9, 0, 0)}, {'productid': 8, 'units': 63, 'purchase_date': datetime.datetime(2023, 11, 2, 0, 0)}]}\n",
            "{'_id': ObjectId('65a2015d4de10d2f8cecb6bd'), 'customerid': 75, 'name': 'George Camacho', 'email': 'osbornesarah@example.org', 'phone': ['388-774-2506x60967', '711.437.7750', '661.373.3844x4826'], 'orders': [{'productid': 1, 'units': 26, 'purchase_date': datetime.datetime(2023, 8, 13, 0, 0)}]}\n",
            "{'_id': ObjectId('65a2015d4de10d2f8cecb6be'), 'customerid': 76, 'name': 'Heather Wallace', 'email': 'patrick44@example.net', 'phone': ['+1-949-234-9451x0498', '2204570836', '001-856-669-6052x032'], 'orders': [{'productid': 1, 'units': 890, 'purchase_date': datetime.datetime(2023, 11, 14, 0, 0)}, {'productid': 3, 'units': 96, 'purchase_date': datetime.datetime(2023, 12, 14, 0, 0)}, {'productid': 5, 'units': 610, 'purchase_date': datetime.datetime(2023, 5, 27, 0, 0)}]}\n",
            "{'_id': ObjectId('65a2015d4de10d2f8cecb6bf'), 'customerid': 77, 'name': 'Steven Wilson', 'email': 'lisaking@example.net', 'phone': ['(991)365-3654x21403', '+1-912-208-2401x2161', '(698)662-1149'], 'orders': [{'productid': 7, 'units': 80, 'purchase_date': datetime.datetime(2023, 6, 11, 0, 0)}]}\n",
            "{'_id': ObjectId('65a2015d4de10d2f8cecb6c0'), 'customerid': 78, 'name': 'Monica Hodge', 'email': 'patricia29@example.org', 'phone': ['(509)879-4158', '(460)507-2118', '001-475-827-5687x7921'], 'orders': []}\n",
            "{'_id': ObjectId('65a2015d4de10d2f8cecb6c1'), 'customerid': 79, 'name': 'Melanie Sloan', 'email': 'smorales@example.org', 'phone': ['878-638-6056', '001-259-751-4703x5723', '(785)262-1109'], 'orders': [{'productid': 8, 'units': 14, 'purchase_date': datetime.datetime(2023, 11, 9, 0, 0)}, {'productid': 3, 'units': 44, 'purchase_date': datetime.datetime(2023, 3, 25, 0, 0)}, {'productid': 7, 'units': 77, 'purchase_date': datetime.datetime(2023, 5, 2, 0, 0)}]}\n",
            "{'_id': ObjectId('65a2015d4de10d2f8cecb6c2'), 'customerid': 80, 'name': 'William Navarro', 'email': 'bbailey@example.net', 'phone': ['+1-674-455-3604x858', '(886)206-2758x517', '(748)407-6617x8843'], 'orders': [{'productid': 2, 'units': 24, 'purchase_date': datetime.datetime(2023, 8, 7, 0, 0)}, {'productid': 9, 'units': 19, 'purchase_date': datetime.datetime(2023, 4, 12, 0, 0)}, {'productid': 4, 'units': 19, 'purchase_date': datetime.datetime(2023, 8, 1, 0, 0)}]}\n",
            "{'_id': ObjectId('65a2015d4de10d2f8cecb6c3'), 'customerid': 81, 'name': 'Lisa Montgomery', 'email': 'evansjoshua@example.com', 'phone': ['(970)265-0847', '(767)323-9820x63183', '330.552.3782x70573'], 'orders': [{'productid': 9, 'units': 72, 'purchase_date': datetime.datetime(2023, 12, 1, 0, 0)}]}\n",
            "{'_id': ObjectId('65a2015d4de10d2f8cecb6c4'), 'customerid': 82, 'name': 'Edwin Ellis', 'email': 'jennifer27@example.com', 'phone': ['306.678.2568x826', '+1-398-369-0368', '869-910-5922'], 'orders': [{'productid': 10, 'units': 22, 'purchase_date': datetime.datetime(2023, 10, 12, 0, 0)}]}\n",
            "{'_id': ObjectId('65a2015d4de10d2f8cecb6c5'), 'customerid': 83, 'name': 'Jonathan Burke', 'email': 'raymond73@example.net', 'phone': ['(278)900-9505x098', '001-990-899-3081x85593', '9752615055'], 'orders': [{'productid': 5, 'units': 53, 'purchase_date': datetime.datetime(2023, 5, 6, 0, 0)}]}\n",
            "{'_id': ObjectId('65a2015d4de10d2f8cecb6c6'), 'customerid': 84, 'name': 'Betty Humphrey', 'email': 'simpsonsheri@example.com', 'phone': ['(560)582-1863x6283', '723-329-4925x825', '001-849-451-4368'], 'orders': [{'productid': 9, 'units': 57, 'purchase_date': datetime.datetime(2023, 10, 24, 0, 0)}, {'productid': 8, 'units': 88, 'purchase_date': datetime.datetime(2023, 2, 20, 0, 0)}, {'productid': 3, 'units': 49, 'purchase_date': datetime.datetime(2023, 7, 1, 0, 0)}]}\n",
            "{'_id': ObjectId('65a2015d4de10d2f8cecb6c7'), 'customerid': 85, 'name': 'David Graham', 'email': 'greg94@example.com', 'phone': ['+1-584-560-9730x761', '001-645-683-6351x626', '563.559.0850x8252'], 'orders': [{'productid': 8, 'units': 87, 'purchase_date': datetime.datetime(2023, 4, 8, 0, 0)}, {'productid': 10, 'units': 59, 'purchase_date': datetime.datetime(2023, 4, 2, 0, 0)}, {'productid': 2, 'units': 89, 'purchase_date': datetime.datetime(2023, 5, 20, 0, 0)}, {'productid': 7, 'units': 43, 'purchase_date': datetime.datetime(2023, 1, 30, 0, 0)}]}\n",
            "{'_id': ObjectId('65a2015d4de10d2f8cecb6c8'), 'customerid': 86, 'name': 'Lindsay Cross', 'email': 'yroberts@example.net', 'phone': ['352.731.2679x94624', '001-498-670-8791x989', '001-755-527-0678x7783'], 'orders': []}\n",
            "{'_id': ObjectId('65a2015d4de10d2f8cecb6c9'), 'customerid': 87, 'name': 'Shannon Stein', 'email': 'vgolden@example.net', 'phone': ['8985053946', '(838)557-8135x90646', '+1-340-723-9910'], 'orders': [{'productid': 2, 'units': 34, 'purchase_date': datetime.datetime(2023, 12, 8, 0, 0)}]}\n",
            "{'_id': ObjectId('65a2015d4de10d2f8cecb6ca'), 'customerid': 88, 'name': 'Darrell Brock', 'email': 'faulknerchristopher@example.com', 'phone': ['001-706-620-1276', '491-494-8403x2870', '448-400-8327'], 'orders': []}\n",
            "{'_id': ObjectId('65a2015d4de10d2f8cecb6cb'), 'customerid': 89, 'name': 'Angela Moreno', 'email': 'lisaowens@example.org', 'phone': ['001-963-352-2278x2127', '513-406-7090x1887', '563-756-7652'], 'orders': []}\n",
            "{'_id': ObjectId('65a2015d4de10d2f8cecb6cc'), 'customerid': 90, 'name': 'Dr. Sharon Martinez DDS', 'email': 'jfleming@example.org', 'phone': ['(361)577-7508x1035', '001-350-408-8970', '(676)296-1299x3502'], 'orders': [{'productid': 10, 'units': 60, 'purchase_date': datetime.datetime(2023, 7, 9, 0, 0)}, {'productid': 6, 'units': 59, 'purchase_date': datetime.datetime(2023, 12, 1, 0, 0)}]}\n",
            "{'_id': ObjectId('65a2015d4de10d2f8cecb6cd'), 'customerid': 91, 'name': 'Thomas Walker', 'email': 'michael19@example.net', 'phone': ['829-731-8598x333', '001-956-873-2249x7398', '+1-932-223-7722x2105'], 'orders': [{'productid': 9, 'units': 75, 'purchase_date': datetime.datetime(2023, 12, 25, 0, 0)}]}\n",
            "{'_id': ObjectId('65a2015d4de10d2f8cecb6ce'), 'customerid': 92, 'name': 'Angela Joseph', 'email': 'jperez@example.com', 'phone': ['(246)655-4749x68317', '(453)969-2094x240', '559-406-8542'], 'orders': [{'productid': 10, 'units': 74, 'purchase_date': datetime.datetime(2023, 3, 10, 0, 0)}, {'productid': 10, 'units': 13, 'purchase_date': datetime.datetime(2023, 8, 6, 0, 0)}]}\n",
            "{'_id': ObjectId('65a2015d4de10d2f8cecb6cf'), 'customerid': 93, 'name': 'Jennifer Hensley', 'email': 'cristianholmes@example.com', 'phone': ['+1-643-625-2373', '001-607-973-4100x8117', '(512)750-0378x0119'], 'orders': []}\n",
            "{'_id': ObjectId('65a2015d4de10d2f8cecb6d0'), 'customerid': 94, 'name': 'Nicole Thompson PhD', 'email': 'lancejones@example.org', 'phone': ['301-610-6542', '897.326.2165', '7593177648'], 'orders': [{'productid': 1, 'units': 14, 'purchase_date': datetime.datetime(2023, 8, 23, 0, 0)}, {'productid': 4, 'units': 12, 'purchase_date': datetime.datetime(2023, 9, 7, 0, 0)}, {'productid': 2, 'units': 92, 'purchase_date': datetime.datetime(2023, 8, 5, 0, 0)}]}\n",
            "{'_id': ObjectId('65a2015d4de10d2f8cecb6d1'), 'customerid': 95, 'name': 'Shelly Alvarez', 'email': 'rcarson@example.org', 'phone': ['551-819-1831', '730.394.9862x06465', '+1-469-296-2127'], 'orders': []}\n",
            "{'_id': ObjectId('65a2015d4de10d2f8cecb6d2'), 'customerid': 96, 'name': 'Robert Lawson', 'email': 'jenniferreyes@example.com', 'phone': ['+1-885-844-4490x95070', '473.792.4223x8407', '577.297.6453'], 'orders': [{'productid': 5, 'units': 36, 'purchase_date': datetime.datetime(2023, 6, 4, 0, 0)}, {'productid': 1, 'units': 380, 'purchase_date': datetime.datetime(2023, 8, 10, 0, 0)}, {'productid': 4, 'units': 65, 'purchase_date': datetime.datetime(2023, 3, 2, 0, 0)}]}\n",
            "{'_id': ObjectId('65a2015d4de10d2f8cecb6d3'), 'customerid': 97, 'name': 'Cynthia Mayer', 'email': 'silvarobert@example.net', 'phone': ['+1-580-455-6783x859', '+1-581-414-0471', '497.276.4579x469'], 'orders': [{'productid': 10, 'units': 75, 'purchase_date': datetime.datetime(2023, 10, 10, 0, 0)}, {'productid': 3, 'units': 99, 'purchase_date': datetime.datetime(2023, 7, 16, 0, 0)}, {'productid': 10, 'units': 12, 'purchase_date': datetime.datetime(2023, 12, 8, 0, 0)}]}\n",
            "{'_id': ObjectId('65a2015d4de10d2f8cecb6d4'), 'customerid': 98, 'name': 'Julie Castillo', 'email': 'rebeccascott@example.com', 'phone': ['001-433-922-0945x52120', '417.765.0669x51101', '611-615-6220x84810'], 'orders': [{'productid': 1, 'units': 51, 'purchase_date': datetime.datetime(2024, 1, 3, 0, 0)}, {'productid': 6, 'units': 13, 'purchase_date': datetime.datetime(2023, 12, 6, 0, 0)}]}\n",
            "{'_id': ObjectId('65a2015d4de10d2f8cecb6d5'), 'customerid': 99, 'name': 'Michael Walton', 'email': 'yjacobs@example.com', 'phone': ['+1-633-653-6681', '001-445-248-4010x102', '+1-792-668-3691x3528'], 'orders': [{'productid': 4, 'units': 93, 'purchase_date': datetime.datetime(2023, 4, 23, 0, 0)}, {'productid': 1, 'units': 52, 'purchase_date': datetime.datetime(2023, 10, 29, 0, 0)}, {'productid': 2, 'units': 78, 'purchase_date': datetime.datetime(2023, 6, 28, 0, 0)}]}\n",
            "{'_id': ObjectId('65a2015d4de10d2f8cecb6d6'), 'customerid': 100, 'name': 'Beth Fisher', 'email': 'orrjose@example.com', 'phone': ['5869063030', '825-358-5237', '7917022934'], 'orders': [{'productid': 3, 'units': 23, 'purchase_date': datetime.datetime(2023, 12, 28, 0, 0)}]}\n"
          ]
        }
      ]
    },
    {
      "cell_type": "markdown",
      "source": [
        "find customerid 76"
      ],
      "metadata": {
        "id": "E3O_CpF2cilt"
      }
    },
    {
      "cell_type": "code",
      "source": [
        "import pprint"
      ],
      "metadata": {
        "id": "IEJyj8pCGGGM"
      },
      "execution_count": 343,
      "outputs": []
    },
    {
      "cell_type": "code",
      "source": [
        "for document in db.customers.find({'customerid':76}):\n",
        "  print(pprint.pprint(document))"
      ],
      "metadata": {
        "colab": {
          "base_uri": "https://localhost:8080/"
        },
        "id": "JU37UrSBSvtn",
        "outputId": "34f65e37-7566-4ff1-8f1f-9006f6ef74fc"
      },
      "execution_count": 344,
      "outputs": [
        {
          "output_type": "stream",
          "name": "stdout",
          "text": [
            "{'_id': ObjectId('65a2015d4de10d2f8cecb6be'),\n",
            " 'customerid': 76,\n",
            " 'email': 'patrick44@example.net',\n",
            " 'name': 'Heather Wallace',\n",
            " 'orders': [{'productid': 1,\n",
            "             'purchase_date': datetime.datetime(2023, 11, 14, 0, 0),\n",
            "             'units': 890},\n",
            "            {'productid': 3,\n",
            "             'purchase_date': datetime.datetime(2023, 12, 14, 0, 0),\n",
            "             'units': 96},\n",
            "            {'productid': 5,\n",
            "             'purchase_date': datetime.datetime(2023, 5, 27, 0, 0),\n",
            "             'units': 610}],\n",
            " 'phone': ['+1-949-234-9451x0498', '2204570836', '001-856-669-6052x032']}\n",
            "None\n"
          ]
        }
      ]
    },
    {
      "cell_type": "markdown",
      "source": [
        "## Products\n",
        "\n",
        "find all products"
      ],
      "metadata": {
        "id": "cqtFa0b8Zt13"
      }
    },
    {
      "cell_type": "code",
      "source": [
        "for document in db.products.find({}):\n",
        "  print(document)"
      ],
      "metadata": {
        "colab": {
          "base_uri": "https://localhost:8080/"
        },
        "id": "k6n9rAQfU3yW",
        "outputId": "69323ad9-bcac-4f41-8b1b-830f13614755"
      },
      "execution_count": 345,
      "outputs": [
        {
          "output_type": "stream",
          "name": "stdout",
          "text": [
            "{'_id': ObjectId('65a2015d4de10d2f8cecb6d7'), 'productid': 1, 'category': 'Electronics', 'price': 66}\n",
            "{'_id': ObjectId('65a2015d4de10d2f8cecb6d8'), 'productid': 2, 'category': 'Clothing', 'price': 4}\n",
            "{'_id': ObjectId('65a2015d4de10d2f8cecb6d9'), 'productid': 3, 'category': 'Electronics', 'price': 78}\n",
            "{'_id': ObjectId('65a2015d4de10d2f8cecb6da'), 'productid': 4, 'category': 'Books', 'price': 16}\n",
            "{'_id': ObjectId('65a2015d4de10d2f8cecb6db'), 'productid': 5, 'category': 'Electronics', 'price': 11}\n",
            "{'_id': ObjectId('65a2015d4de10d2f8cecb6dc'), 'productid': 6, 'category': 'Books', 'price': 16}\n",
            "{'_id': ObjectId('65a2015d4de10d2f8cecb6dd'), 'productid': 7, 'category': 'Clothing', 'price': 46}\n",
            "{'_id': ObjectId('65a2015d4de10d2f8cecb6de'), 'productid': 8, 'category': 'Clothing', 'price': 79}\n",
            "{'_id': ObjectId('65a2015d4de10d2f8cecb6df'), 'productid': 9, 'category': 'Electronics', 'price': 38}\n",
            "{'_id': ObjectId('65a2015d4de10d2f8cecb6e0'), 'productid': 10, 'category': 'Home', 'price': 50}\n"
          ]
        }
      ]
    },
    {
      "cell_type": "markdown",
      "source": [
        "find all products with prices less than 40"
      ],
      "metadata": {
        "id": "Dox59Ztlc10h"
      }
    },
    {
      "cell_type": "code",
      "source": [
        "for document in db.products.find({'price': {'$lt':40}}):\n",
        "  print(document)"
      ],
      "metadata": {
        "colab": {
          "base_uri": "https://localhost:8080/"
        },
        "id": "gwBXy1cfTKPh",
        "outputId": "e335b4b2-51d1-468d-ba06-8addd25999b5"
      },
      "execution_count": 346,
      "outputs": [
        {
          "output_type": "stream",
          "name": "stdout",
          "text": [
            "{'_id': ObjectId('65a2015d4de10d2f8cecb6d8'), 'productid': 2, 'category': 'Clothing', 'price': 4}\n",
            "{'_id': ObjectId('65a2015d4de10d2f8cecb6da'), 'productid': 4, 'category': 'Books', 'price': 16}\n",
            "{'_id': ObjectId('65a2015d4de10d2f8cecb6db'), 'productid': 5, 'category': 'Electronics', 'price': 11}\n",
            "{'_id': ObjectId('65a2015d4de10d2f8cecb6dc'), 'productid': 6, 'category': 'Books', 'price': 16}\n",
            "{'_id': ObjectId('65a2015d4de10d2f8cecb6df'), 'productid': 9, 'category': 'Electronics', 'price': 38}\n"
          ]
        }
      ]
    },
    {
      "cell_type": "markdown",
      "source": [
        "find all products with category clothing"
      ],
      "metadata": {
        "id": "Z7AWze1Dc5QO"
      }
    },
    {
      "cell_type": "code",
      "source": [
        "for document in db.products.find({'category': 'Clothing'}):\n",
        "  print(document)"
      ],
      "metadata": {
        "colab": {
          "base_uri": "https://localhost:8080/"
        },
        "id": "b2kBTS4bTbTi",
        "outputId": "a40f89d8-0de4-4646-8901-ea0252a01597"
      },
      "execution_count": 347,
      "outputs": [
        {
          "output_type": "stream",
          "name": "stdout",
          "text": [
            "{'_id': ObjectId('65a2015d4de10d2f8cecb6d8'), 'productid': 2, 'category': 'Clothing', 'price': 4}\n",
            "{'_id': ObjectId('65a2015d4de10d2f8cecb6dd'), 'productid': 7, 'category': 'Clothing', 'price': 46}\n",
            "{'_id': ObjectId('65a2015d4de10d2f8cecb6de'), 'productid': 8, 'category': 'Clothing', 'price': 79}\n"
          ]
        }
      ]
    },
    {
      "cell_type": "markdown",
      "source": [
        "find all products with price less than 40 AND category Clothing"
      ],
      "metadata": {
        "id": "z3G2QMqsc73k"
      }
    },
    {
      "cell_type": "code",
      "source": [
        "for document in db.products.find({'price': {'$lt':40},'category': 'Clothing'}):\n",
        "  print(document)"
      ],
      "metadata": {
        "colab": {
          "base_uri": "https://localhost:8080/"
        },
        "id": "Yksl4SVtU_Bx",
        "outputId": "0698564b-a627-4055-f13f-2376f66bf9ea"
      },
      "execution_count": 348,
      "outputs": [
        {
          "output_type": "stream",
          "name": "stdout",
          "text": [
            "{'_id': ObjectId('65a2015d4de10d2f8cecb6d8'), 'productid': 2, 'category': 'Clothing', 'price': 4}\n"
          ]
        }
      ]
    },
    {
      "cell_type": "markdown",
      "source": [
        "## Orders"
      ],
      "metadata": {
        "id": "o-PyKjH-ZyA_"
      }
    },
    {
      "cell_type": "code",
      "source": [
        "# Calculate the total number of orders\n",
        "pipeline = [\n",
        "    {\n",
        "        '$unwind': '$orders'\n",
        "    },\n",
        "    {\n",
        "        '$group': {\n",
        "            '_id': None,\n",
        "            'total_orders': {'$sum': 1}\n",
        "        }\n",
        "    },\n",
        "    {\n",
        "        '$project': {\n",
        "            '_id': 0,\n",
        "            'total_orders': 1\n",
        "        }\n",
        "    }\n",
        "]\n",
        "\n",
        "result = db.customers.aggregate(pipeline)\n",
        "\n",
        "# Extract the total number of orders\n",
        "total_orders = next(result)['total_orders']\n",
        "\n",
        "# Print the total number of orders\n",
        "print(f\"Total Orders: {total_orders}\")"
      ],
      "metadata": {
        "colab": {
          "base_uri": "https://localhost:8080/"
        },
        "id": "zbEehhzXHHoI",
        "outputId": "8f070a17-d15d-4afe-e91f-1ee6c5fa97b2"
      },
      "execution_count": 349,
      "outputs": [
        {
          "output_type": "stream",
          "name": "stdout",
          "text": [
            "Total Orders: 205\n"
          ]
        }
      ]
    },
    {
      "cell_type": "code",
      "source": [
        "filter_criteria = {\n",
        "    'orders.units': {'$lt': 45000}\n",
        "}\n",
        "\n",
        "# Calculate the total number of orders with units less than 12000\n",
        "pipeline = [\n",
        "    {\n",
        "      '$unwind': '$orders'\n",
        "    },\n",
        "    {\n",
        "      '$match': filter_criteria\n",
        "    },\n",
        "    {\n",
        "        '$group': {\n",
        "            '_id': None,\n",
        "            'total_orders': {'$sum': 1}\n",
        "        }\n",
        "    },\n",
        "    {\n",
        "        '$project': {\n",
        "            '_id': 0,\n",
        "            'total_orders': 1\n",
        "        }\n",
        "    }\n",
        "]\n",
        "\n",
        "result = db.customers.aggregate(pipeline)\n",
        "\n",
        "# Extract the total number of orders\n",
        "total_orders = next(result)['total_orders']\n",
        "\n",
        "# Print the total number of orders\n",
        "print(f\"Total Orders: {total_orders}\")"
      ],
      "metadata": {
        "colab": {
          "base_uri": "https://localhost:8080/"
        },
        "id": "zCludVJLLIIP",
        "outputId": "ee23a11e-2d04-4f21-ba0b-7cdc9c55dfc5"
      },
      "execution_count": 350,
      "outputs": [
        {
          "output_type": "stream",
          "name": "stdout",
          "text": [
            "Total Orders: 205\n"
          ]
        }
      ]
    },
    {
      "cell_type": "markdown",
      "source": [
        "# Extraction\n"
      ],
      "metadata": {
        "id": "2rCz0PjQdk3d"
      }
    },
    {
      "cell_type": "markdown",
      "source": [
        "## Dump mongodb data to json file."
      ],
      "metadata": {
        "id": "aARmVUWMfry8"
      }
    },
    {
      "cell_type": "markdown",
      "source": [
        "create a JSON file with the filtered data."
      ],
      "metadata": {
        "id": "PW0sAp8Kdptk"
      }
    },
    {
      "cell_type": "code",
      "source": [
        "from bson.json_util import dumps\n",
        "import json"
      ],
      "metadata": {
        "id": "McVys3EohoeQ"
      },
      "execution_count": 351,
      "outputs": []
    },
    {
      "cell_type": "markdown",
      "source": [
        "open a file. create a cursor that gets passed to dumps which takes binary json data and converts it serialized json, deseralizes it to python object and then serializes it back to a file.  "
      ],
      "metadata": {
        "id": "76ZvzDUYd65Y"
      }
    },
    {
      "cell_type": "markdown",
      "source": [
        "## dump orders"
      ],
      "metadata": {
        "id": "9QhRK7b9iUbE"
      }
    },
    {
      "cell_type": "markdown",
      "source": [
        "## dump customers\n",
        "\n",
        "(and orders as they are nested)"
      ],
      "metadata": {
        "id": "_sL1H_YPiWem"
      }
    },
    {
      "cell_type": "code",
      "source": [
        "with open('customers.json', 'w') as file:\n",
        "  cursor = db.customers.find({})\n",
        "  file.write(dumps(cursor))"
      ],
      "metadata": {
        "id": "DMPIXxjgg4La"
      },
      "execution_count": 352,
      "outputs": []
    },
    {
      "cell_type": "markdown",
      "source": [
        "## dump products"
      ],
      "metadata": {
        "id": "v5Q4VGapiXvC"
      }
    },
    {
      "cell_type": "code",
      "source": [
        "with open('products.json', 'w') as file:\n",
        "  cursor = db.products.find({})\n",
        "  file.write(dumps(cursor))"
      ],
      "metadata": {
        "id": "4B7LAYJRhBke"
      },
      "execution_count": 353,
      "outputs": []
    },
    {
      "cell_type": "code",
      "source": [
        "!ls -lh *.json"
      ],
      "metadata": {
        "colab": {
          "base_uri": "https://localhost:8080/"
        },
        "id": "3MX4SWGdh6n4",
        "outputId": "1f51e4d7-8c2e-4caa-e428-624d99a4e8c9"
      },
      "execution_count": 354,
      "outputs": [
        {
          "output_type": "stream",
          "name": "stdout",
          "text": [
            "-rw-r--r-- 1 root root  38K Jan 13 03:19 customers.json\n",
            "-rw-r--r-- 1 root root 1002 Jan 13 03:19 products.json\n"
          ]
        }
      ]
    },
    {
      "cell_type": "markdown",
      "source": [
        "# Reading JSON file data into Python"
      ],
      "metadata": {
        "id": "-K7Ot5B7JO9o"
      }
    },
    {
      "cell_type": "markdown",
      "source": [
        "## JSON into Pandas DataFrame"
      ],
      "metadata": {
        "id": "xJIgvFHFJcH-"
      }
    },
    {
      "cell_type": "code",
      "source": [
        "import pandas as pd"
      ],
      "metadata": {
        "id": "MlJrhVWijy5S"
      },
      "execution_count": 355,
      "outputs": []
    },
    {
      "cell_type": "code",
      "source": [
        "customers_df = pd.read_json('customers.json')\n",
        "customers_df.head(2)"
      ],
      "metadata": {
        "colab": {
          "base_uri": "https://localhost:8080/",
          "height": 253
        },
        "id": "EfUKlGYZj0PT",
        "outputId": "ce0a1f41-f082-470d-b7c2-5b32b1de92ba"
      },
      "execution_count": 356,
      "outputs": [
        {
          "output_type": "execute_result",
          "data": {
            "text/plain": [
              "                                    _id  customerid            name  \\\n",
              "0  {'$oid': '65a2015d4de10d2f8cecb673'}           1  Michael Garcia   \n",
              "1  {'$oid': '65a2015d4de10d2f8cecb674'}           2   Karen Bridges   \n",
              "\n",
              "                         email  \\\n",
              "0            plove@example.net   \n",
              "1  andrewmcconnell@example.com   \n",
              "\n",
              "                                               phone  \\\n",
              "0  [233-642-9599, (777)557-9252x39540, 954.766.98...   \n",
              "1  [001-457-474-1212x1260, +1-663-483-6068x68501,...   \n",
              "\n",
              "                                              orders  \n",
              "0  [{'productid': 2, 'units': 68, 'purchase_date'...  \n",
              "1  [{'productid': 7, 'units': 53, 'purchase_date'...  "
            ],
            "text/html": [
              "\n",
              "  <div id=\"df-6be7f2b9-171b-4d7d-9c08-3ea74bd4eb01\" class=\"colab-df-container\">\n",
              "    <div>\n",
              "<style scoped>\n",
              "    .dataframe tbody tr th:only-of-type {\n",
              "        vertical-align: middle;\n",
              "    }\n",
              "\n",
              "    .dataframe tbody tr th {\n",
              "        vertical-align: top;\n",
              "    }\n",
              "\n",
              "    .dataframe thead th {\n",
              "        text-align: right;\n",
              "    }\n",
              "</style>\n",
              "<table border=\"1\" class=\"dataframe\">\n",
              "  <thead>\n",
              "    <tr style=\"text-align: right;\">\n",
              "      <th></th>\n",
              "      <th>_id</th>\n",
              "      <th>customerid</th>\n",
              "      <th>name</th>\n",
              "      <th>email</th>\n",
              "      <th>phone</th>\n",
              "      <th>orders</th>\n",
              "    </tr>\n",
              "  </thead>\n",
              "  <tbody>\n",
              "    <tr>\n",
              "      <th>0</th>\n",
              "      <td>{'$oid': '65a2015d4de10d2f8cecb673'}</td>\n",
              "      <td>1</td>\n",
              "      <td>Michael Garcia</td>\n",
              "      <td>plove@example.net</td>\n",
              "      <td>[233-642-9599, (777)557-9252x39540, 954.766.98...</td>\n",
              "      <td>[{'productid': 2, 'units': 68, 'purchase_date'...</td>\n",
              "    </tr>\n",
              "    <tr>\n",
              "      <th>1</th>\n",
              "      <td>{'$oid': '65a2015d4de10d2f8cecb674'}</td>\n",
              "      <td>2</td>\n",
              "      <td>Karen Bridges</td>\n",
              "      <td>andrewmcconnell@example.com</td>\n",
              "      <td>[001-457-474-1212x1260, +1-663-483-6068x68501,...</td>\n",
              "      <td>[{'productid': 7, 'units': 53, 'purchase_date'...</td>\n",
              "    </tr>\n",
              "  </tbody>\n",
              "</table>\n",
              "</div>\n",
              "    <div class=\"colab-df-buttons\">\n",
              "\n",
              "  <div class=\"colab-df-container\">\n",
              "    <button class=\"colab-df-convert\" onclick=\"convertToInteractive('df-6be7f2b9-171b-4d7d-9c08-3ea74bd4eb01')\"\n",
              "            title=\"Convert this dataframe to an interactive table.\"\n",
              "            style=\"display:none;\">\n",
              "\n",
              "  <svg xmlns=\"http://www.w3.org/2000/svg\" height=\"24px\" viewBox=\"0 -960 960 960\">\n",
              "    <path d=\"M120-120v-720h720v720H120Zm60-500h600v-160H180v160Zm220 220h160v-160H400v160Zm0 220h160v-160H400v160ZM180-400h160v-160H180v160Zm440 0h160v-160H620v160ZM180-180h160v-160H180v160Zm440 0h160v-160H620v160Z\"/>\n",
              "  </svg>\n",
              "    </button>\n",
              "\n",
              "  <style>\n",
              "    .colab-df-container {\n",
              "      display:flex;\n",
              "      gap: 12px;\n",
              "    }\n",
              "\n",
              "    .colab-df-convert {\n",
              "      background-color: #E8F0FE;\n",
              "      border: none;\n",
              "      border-radius: 50%;\n",
              "      cursor: pointer;\n",
              "      display: none;\n",
              "      fill: #1967D2;\n",
              "      height: 32px;\n",
              "      padding: 0 0 0 0;\n",
              "      width: 32px;\n",
              "    }\n",
              "\n",
              "    .colab-df-convert:hover {\n",
              "      background-color: #E2EBFA;\n",
              "      box-shadow: 0px 1px 2px rgba(60, 64, 67, 0.3), 0px 1px 3px 1px rgba(60, 64, 67, 0.15);\n",
              "      fill: #174EA6;\n",
              "    }\n",
              "\n",
              "    .colab-df-buttons div {\n",
              "      margin-bottom: 4px;\n",
              "    }\n",
              "\n",
              "    [theme=dark] .colab-df-convert {\n",
              "      background-color: #3B4455;\n",
              "      fill: #D2E3FC;\n",
              "    }\n",
              "\n",
              "    [theme=dark] .colab-df-convert:hover {\n",
              "      background-color: #434B5C;\n",
              "      box-shadow: 0px 1px 3px 1px rgba(0, 0, 0, 0.15);\n",
              "      filter: drop-shadow(0px 1px 2px rgba(0, 0, 0, 0.3));\n",
              "      fill: #FFFFFF;\n",
              "    }\n",
              "  </style>\n",
              "\n",
              "    <script>\n",
              "      const buttonEl =\n",
              "        document.querySelector('#df-6be7f2b9-171b-4d7d-9c08-3ea74bd4eb01 button.colab-df-convert');\n",
              "      buttonEl.style.display =\n",
              "        google.colab.kernel.accessAllowed ? 'block' : 'none';\n",
              "\n",
              "      async function convertToInteractive(key) {\n",
              "        const element = document.querySelector('#df-6be7f2b9-171b-4d7d-9c08-3ea74bd4eb01');\n",
              "        const dataTable =\n",
              "          await google.colab.kernel.invokeFunction('convertToInteractive',\n",
              "                                                    [key], {});\n",
              "        if (!dataTable) return;\n",
              "\n",
              "        const docLinkHtml = 'Like what you see? Visit the ' +\n",
              "          '<a target=\"_blank\" href=https://colab.research.google.com/notebooks/data_table.ipynb>data table notebook</a>'\n",
              "          + ' to learn more about interactive tables.';\n",
              "        element.innerHTML = '';\n",
              "        dataTable['output_type'] = 'display_data';\n",
              "        await google.colab.output.renderOutput(dataTable, element);\n",
              "        const docLink = document.createElement('div');\n",
              "        docLink.innerHTML = docLinkHtml;\n",
              "        element.appendChild(docLink);\n",
              "      }\n",
              "    </script>\n",
              "  </div>\n",
              "\n",
              "\n",
              "<div id=\"df-e73bd419-8523-45ee-bdee-e886a905ca4e\">\n",
              "  <button class=\"colab-df-quickchart\" onclick=\"quickchart('df-e73bd419-8523-45ee-bdee-e886a905ca4e')\"\n",
              "            title=\"Suggest charts\"\n",
              "            style=\"display:none;\">\n",
              "\n",
              "<svg xmlns=\"http://www.w3.org/2000/svg\" height=\"24px\"viewBox=\"0 0 24 24\"\n",
              "     width=\"24px\">\n",
              "    <g>\n",
              "        <path d=\"M19 3H5c-1.1 0-2 .9-2 2v14c0 1.1.9 2 2 2h14c1.1 0 2-.9 2-2V5c0-1.1-.9-2-2-2zM9 17H7v-7h2v7zm4 0h-2V7h2v10zm4 0h-2v-4h2v4z\"/>\n",
              "    </g>\n",
              "</svg>\n",
              "  </button>\n",
              "\n",
              "<style>\n",
              "  .colab-df-quickchart {\n",
              "      --bg-color: #E8F0FE;\n",
              "      --fill-color: #1967D2;\n",
              "      --hover-bg-color: #E2EBFA;\n",
              "      --hover-fill-color: #174EA6;\n",
              "      --disabled-fill-color: #AAA;\n",
              "      --disabled-bg-color: #DDD;\n",
              "  }\n",
              "\n",
              "  [theme=dark] .colab-df-quickchart {\n",
              "      --bg-color: #3B4455;\n",
              "      --fill-color: #D2E3FC;\n",
              "      --hover-bg-color: #434B5C;\n",
              "      --hover-fill-color: #FFFFFF;\n",
              "      --disabled-bg-color: #3B4455;\n",
              "      --disabled-fill-color: #666;\n",
              "  }\n",
              "\n",
              "  .colab-df-quickchart {\n",
              "    background-color: var(--bg-color);\n",
              "    border: none;\n",
              "    border-radius: 50%;\n",
              "    cursor: pointer;\n",
              "    display: none;\n",
              "    fill: var(--fill-color);\n",
              "    height: 32px;\n",
              "    padding: 0;\n",
              "    width: 32px;\n",
              "  }\n",
              "\n",
              "  .colab-df-quickchart:hover {\n",
              "    background-color: var(--hover-bg-color);\n",
              "    box-shadow: 0 1px 2px rgba(60, 64, 67, 0.3), 0 1px 3px 1px rgba(60, 64, 67, 0.15);\n",
              "    fill: var(--button-hover-fill-color);\n",
              "  }\n",
              "\n",
              "  .colab-df-quickchart-complete:disabled,\n",
              "  .colab-df-quickchart-complete:disabled:hover {\n",
              "    background-color: var(--disabled-bg-color);\n",
              "    fill: var(--disabled-fill-color);\n",
              "    box-shadow: none;\n",
              "  }\n",
              "\n",
              "  .colab-df-spinner {\n",
              "    border: 2px solid var(--fill-color);\n",
              "    border-color: transparent;\n",
              "    border-bottom-color: var(--fill-color);\n",
              "    animation:\n",
              "      spin 1s steps(1) infinite;\n",
              "  }\n",
              "\n",
              "  @keyframes spin {\n",
              "    0% {\n",
              "      border-color: transparent;\n",
              "      border-bottom-color: var(--fill-color);\n",
              "      border-left-color: var(--fill-color);\n",
              "    }\n",
              "    20% {\n",
              "      border-color: transparent;\n",
              "      border-left-color: var(--fill-color);\n",
              "      border-top-color: var(--fill-color);\n",
              "    }\n",
              "    30% {\n",
              "      border-color: transparent;\n",
              "      border-left-color: var(--fill-color);\n",
              "      border-top-color: var(--fill-color);\n",
              "      border-right-color: var(--fill-color);\n",
              "    }\n",
              "    40% {\n",
              "      border-color: transparent;\n",
              "      border-right-color: var(--fill-color);\n",
              "      border-top-color: var(--fill-color);\n",
              "    }\n",
              "    60% {\n",
              "      border-color: transparent;\n",
              "      border-right-color: var(--fill-color);\n",
              "    }\n",
              "    80% {\n",
              "      border-color: transparent;\n",
              "      border-right-color: var(--fill-color);\n",
              "      border-bottom-color: var(--fill-color);\n",
              "    }\n",
              "    90% {\n",
              "      border-color: transparent;\n",
              "      border-bottom-color: var(--fill-color);\n",
              "    }\n",
              "  }\n",
              "</style>\n",
              "\n",
              "  <script>\n",
              "    async function quickchart(key) {\n",
              "      const quickchartButtonEl =\n",
              "        document.querySelector('#' + key + ' button');\n",
              "      quickchartButtonEl.disabled = true;  // To prevent multiple clicks.\n",
              "      quickchartButtonEl.classList.add('colab-df-spinner');\n",
              "      try {\n",
              "        const charts = await google.colab.kernel.invokeFunction(\n",
              "            'suggestCharts', [key], {});\n",
              "      } catch (error) {\n",
              "        console.error('Error during call to suggestCharts:', error);\n",
              "      }\n",
              "      quickchartButtonEl.classList.remove('colab-df-spinner');\n",
              "      quickchartButtonEl.classList.add('colab-df-quickchart-complete');\n",
              "    }\n",
              "    (() => {\n",
              "      let quickchartButtonEl =\n",
              "        document.querySelector('#df-e73bd419-8523-45ee-bdee-e886a905ca4e button');\n",
              "      quickchartButtonEl.style.display =\n",
              "        google.colab.kernel.accessAllowed ? 'block' : 'none';\n",
              "    })();\n",
              "  </script>\n",
              "</div>\n",
              "\n",
              "    </div>\n",
              "  </div>\n"
            ]
          },
          "metadata": {},
          "execution_count": 356
        }
      ]
    },
    {
      "cell_type": "code",
      "source": [
        "products_df = pd.read_json('products.json')\n",
        "products_df.head(2)"
      ],
      "metadata": {
        "colab": {
          "base_uri": "https://localhost:8080/",
          "height": 112
        },
        "id": "TyYwyqmtkEYW",
        "outputId": "953b5087-a491-450b-a937-c39cb7664ed9"
      },
      "execution_count": 357,
      "outputs": [
        {
          "output_type": "execute_result",
          "data": {
            "text/plain": [
              "                                    _id  productid     category  price\n",
              "0  {'$oid': '65a2015d4de10d2f8cecb6d7'}          1  Electronics     66\n",
              "1  {'$oid': '65a2015d4de10d2f8cecb6d8'}          2     Clothing      4"
            ],
            "text/html": [
              "\n",
              "  <div id=\"df-97c4f43f-4008-4bb7-8ac7-3a2efef987e8\" class=\"colab-df-container\">\n",
              "    <div>\n",
              "<style scoped>\n",
              "    .dataframe tbody tr th:only-of-type {\n",
              "        vertical-align: middle;\n",
              "    }\n",
              "\n",
              "    .dataframe tbody tr th {\n",
              "        vertical-align: top;\n",
              "    }\n",
              "\n",
              "    .dataframe thead th {\n",
              "        text-align: right;\n",
              "    }\n",
              "</style>\n",
              "<table border=\"1\" class=\"dataframe\">\n",
              "  <thead>\n",
              "    <tr style=\"text-align: right;\">\n",
              "      <th></th>\n",
              "      <th>_id</th>\n",
              "      <th>productid</th>\n",
              "      <th>category</th>\n",
              "      <th>price</th>\n",
              "    </tr>\n",
              "  </thead>\n",
              "  <tbody>\n",
              "    <tr>\n",
              "      <th>0</th>\n",
              "      <td>{'$oid': '65a2015d4de10d2f8cecb6d7'}</td>\n",
              "      <td>1</td>\n",
              "      <td>Electronics</td>\n",
              "      <td>66</td>\n",
              "    </tr>\n",
              "    <tr>\n",
              "      <th>1</th>\n",
              "      <td>{'$oid': '65a2015d4de10d2f8cecb6d8'}</td>\n",
              "      <td>2</td>\n",
              "      <td>Clothing</td>\n",
              "      <td>4</td>\n",
              "    </tr>\n",
              "  </tbody>\n",
              "</table>\n",
              "</div>\n",
              "    <div class=\"colab-df-buttons\">\n",
              "\n",
              "  <div class=\"colab-df-container\">\n",
              "    <button class=\"colab-df-convert\" onclick=\"convertToInteractive('df-97c4f43f-4008-4bb7-8ac7-3a2efef987e8')\"\n",
              "            title=\"Convert this dataframe to an interactive table.\"\n",
              "            style=\"display:none;\">\n",
              "\n",
              "  <svg xmlns=\"http://www.w3.org/2000/svg\" height=\"24px\" viewBox=\"0 -960 960 960\">\n",
              "    <path d=\"M120-120v-720h720v720H120Zm60-500h600v-160H180v160Zm220 220h160v-160H400v160Zm0 220h160v-160H400v160ZM180-400h160v-160H180v160Zm440 0h160v-160H620v160ZM180-180h160v-160H180v160Zm440 0h160v-160H620v160Z\"/>\n",
              "  </svg>\n",
              "    </button>\n",
              "\n",
              "  <style>\n",
              "    .colab-df-container {\n",
              "      display:flex;\n",
              "      gap: 12px;\n",
              "    }\n",
              "\n",
              "    .colab-df-convert {\n",
              "      background-color: #E8F0FE;\n",
              "      border: none;\n",
              "      border-radius: 50%;\n",
              "      cursor: pointer;\n",
              "      display: none;\n",
              "      fill: #1967D2;\n",
              "      height: 32px;\n",
              "      padding: 0 0 0 0;\n",
              "      width: 32px;\n",
              "    }\n",
              "\n",
              "    .colab-df-convert:hover {\n",
              "      background-color: #E2EBFA;\n",
              "      box-shadow: 0px 1px 2px rgba(60, 64, 67, 0.3), 0px 1px 3px 1px rgba(60, 64, 67, 0.15);\n",
              "      fill: #174EA6;\n",
              "    }\n",
              "\n",
              "    .colab-df-buttons div {\n",
              "      margin-bottom: 4px;\n",
              "    }\n",
              "\n",
              "    [theme=dark] .colab-df-convert {\n",
              "      background-color: #3B4455;\n",
              "      fill: #D2E3FC;\n",
              "    }\n",
              "\n",
              "    [theme=dark] .colab-df-convert:hover {\n",
              "      background-color: #434B5C;\n",
              "      box-shadow: 0px 1px 3px 1px rgba(0, 0, 0, 0.15);\n",
              "      filter: drop-shadow(0px 1px 2px rgba(0, 0, 0, 0.3));\n",
              "      fill: #FFFFFF;\n",
              "    }\n",
              "  </style>\n",
              "\n",
              "    <script>\n",
              "      const buttonEl =\n",
              "        document.querySelector('#df-97c4f43f-4008-4bb7-8ac7-3a2efef987e8 button.colab-df-convert');\n",
              "      buttonEl.style.display =\n",
              "        google.colab.kernel.accessAllowed ? 'block' : 'none';\n",
              "\n",
              "      async function convertToInteractive(key) {\n",
              "        const element = document.querySelector('#df-97c4f43f-4008-4bb7-8ac7-3a2efef987e8');\n",
              "        const dataTable =\n",
              "          await google.colab.kernel.invokeFunction('convertToInteractive',\n",
              "                                                    [key], {});\n",
              "        if (!dataTable) return;\n",
              "\n",
              "        const docLinkHtml = 'Like what you see? Visit the ' +\n",
              "          '<a target=\"_blank\" href=https://colab.research.google.com/notebooks/data_table.ipynb>data table notebook</a>'\n",
              "          + ' to learn more about interactive tables.';\n",
              "        element.innerHTML = '';\n",
              "        dataTable['output_type'] = 'display_data';\n",
              "        await google.colab.output.renderOutput(dataTable, element);\n",
              "        const docLink = document.createElement('div');\n",
              "        docLink.innerHTML = docLinkHtml;\n",
              "        element.appendChild(docLink);\n",
              "      }\n",
              "    </script>\n",
              "  </div>\n",
              "\n",
              "\n",
              "<div id=\"df-471fd9ee-526f-4d00-82c8-3071b8a2d7e5\">\n",
              "  <button class=\"colab-df-quickchart\" onclick=\"quickchart('df-471fd9ee-526f-4d00-82c8-3071b8a2d7e5')\"\n",
              "            title=\"Suggest charts\"\n",
              "            style=\"display:none;\">\n",
              "\n",
              "<svg xmlns=\"http://www.w3.org/2000/svg\" height=\"24px\"viewBox=\"0 0 24 24\"\n",
              "     width=\"24px\">\n",
              "    <g>\n",
              "        <path d=\"M19 3H5c-1.1 0-2 .9-2 2v14c0 1.1.9 2 2 2h14c1.1 0 2-.9 2-2V5c0-1.1-.9-2-2-2zM9 17H7v-7h2v7zm4 0h-2V7h2v10zm4 0h-2v-4h2v4z\"/>\n",
              "    </g>\n",
              "</svg>\n",
              "  </button>\n",
              "\n",
              "<style>\n",
              "  .colab-df-quickchart {\n",
              "      --bg-color: #E8F0FE;\n",
              "      --fill-color: #1967D2;\n",
              "      --hover-bg-color: #E2EBFA;\n",
              "      --hover-fill-color: #174EA6;\n",
              "      --disabled-fill-color: #AAA;\n",
              "      --disabled-bg-color: #DDD;\n",
              "  }\n",
              "\n",
              "  [theme=dark] .colab-df-quickchart {\n",
              "      --bg-color: #3B4455;\n",
              "      --fill-color: #D2E3FC;\n",
              "      --hover-bg-color: #434B5C;\n",
              "      --hover-fill-color: #FFFFFF;\n",
              "      --disabled-bg-color: #3B4455;\n",
              "      --disabled-fill-color: #666;\n",
              "  }\n",
              "\n",
              "  .colab-df-quickchart {\n",
              "    background-color: var(--bg-color);\n",
              "    border: none;\n",
              "    border-radius: 50%;\n",
              "    cursor: pointer;\n",
              "    display: none;\n",
              "    fill: var(--fill-color);\n",
              "    height: 32px;\n",
              "    padding: 0;\n",
              "    width: 32px;\n",
              "  }\n",
              "\n",
              "  .colab-df-quickchart:hover {\n",
              "    background-color: var(--hover-bg-color);\n",
              "    box-shadow: 0 1px 2px rgba(60, 64, 67, 0.3), 0 1px 3px 1px rgba(60, 64, 67, 0.15);\n",
              "    fill: var(--button-hover-fill-color);\n",
              "  }\n",
              "\n",
              "  .colab-df-quickchart-complete:disabled,\n",
              "  .colab-df-quickchart-complete:disabled:hover {\n",
              "    background-color: var(--disabled-bg-color);\n",
              "    fill: var(--disabled-fill-color);\n",
              "    box-shadow: none;\n",
              "  }\n",
              "\n",
              "  .colab-df-spinner {\n",
              "    border: 2px solid var(--fill-color);\n",
              "    border-color: transparent;\n",
              "    border-bottom-color: var(--fill-color);\n",
              "    animation:\n",
              "      spin 1s steps(1) infinite;\n",
              "  }\n",
              "\n",
              "  @keyframes spin {\n",
              "    0% {\n",
              "      border-color: transparent;\n",
              "      border-bottom-color: var(--fill-color);\n",
              "      border-left-color: var(--fill-color);\n",
              "    }\n",
              "    20% {\n",
              "      border-color: transparent;\n",
              "      border-left-color: var(--fill-color);\n",
              "      border-top-color: var(--fill-color);\n",
              "    }\n",
              "    30% {\n",
              "      border-color: transparent;\n",
              "      border-left-color: var(--fill-color);\n",
              "      border-top-color: var(--fill-color);\n",
              "      border-right-color: var(--fill-color);\n",
              "    }\n",
              "    40% {\n",
              "      border-color: transparent;\n",
              "      border-right-color: var(--fill-color);\n",
              "      border-top-color: var(--fill-color);\n",
              "    }\n",
              "    60% {\n",
              "      border-color: transparent;\n",
              "      border-right-color: var(--fill-color);\n",
              "    }\n",
              "    80% {\n",
              "      border-color: transparent;\n",
              "      border-right-color: var(--fill-color);\n",
              "      border-bottom-color: var(--fill-color);\n",
              "    }\n",
              "    90% {\n",
              "      border-color: transparent;\n",
              "      border-bottom-color: var(--fill-color);\n",
              "    }\n",
              "  }\n",
              "</style>\n",
              "\n",
              "  <script>\n",
              "    async function quickchart(key) {\n",
              "      const quickchartButtonEl =\n",
              "        document.querySelector('#' + key + ' button');\n",
              "      quickchartButtonEl.disabled = true;  // To prevent multiple clicks.\n",
              "      quickchartButtonEl.classList.add('colab-df-spinner');\n",
              "      try {\n",
              "        const charts = await google.colab.kernel.invokeFunction(\n",
              "            'suggestCharts', [key], {});\n",
              "      } catch (error) {\n",
              "        console.error('Error during call to suggestCharts:', error);\n",
              "      }\n",
              "      quickchartButtonEl.classList.remove('colab-df-spinner');\n",
              "      quickchartButtonEl.classList.add('colab-df-quickchart-complete');\n",
              "    }\n",
              "    (() => {\n",
              "      let quickchartButtonEl =\n",
              "        document.querySelector('#df-471fd9ee-526f-4d00-82c8-3071b8a2d7e5 button');\n",
              "      quickchartButtonEl.style.display =\n",
              "        google.colab.kernel.accessAllowed ? 'block' : 'none';\n",
              "    })();\n",
              "  </script>\n",
              "</div>\n",
              "\n",
              "    </div>\n",
              "  </div>\n"
            ]
          },
          "metadata": {},
          "execution_count": 357
        }
      ]
    },
    {
      "cell_type": "markdown",
      "source": [
        "### Merge DataFrames"
      ],
      "metadata": {
        "id": "xG-DsipBJXwz"
      }
    },
    {
      "cell_type": "code",
      "source": [
        "customers_df.head(4)"
      ],
      "metadata": {
        "colab": {
          "base_uri": "https://localhost:8080/",
          "height": 438
        },
        "id": "EAIF7PkYQ8tz",
        "outputId": "5305078b-a40c-40b2-896f-91cc4d78e301"
      },
      "execution_count": 358,
      "outputs": [
        {
          "output_type": "execute_result",
          "data": {
            "text/plain": [
              "                                    _id  customerid            name  \\\n",
              "0  {'$oid': '65a2015d4de10d2f8cecb673'}           1  Michael Garcia   \n",
              "1  {'$oid': '65a2015d4de10d2f8cecb674'}           2   Karen Bridges   \n",
              "2  {'$oid': '65a2015d4de10d2f8cecb675'}           3   April Acevedo   \n",
              "3  {'$oid': '65a2015d4de10d2f8cecb676'}           4    Taylor Watts   \n",
              "\n",
              "                          email  \\\n",
              "0             plove@example.net   \n",
              "1   andrewmcconnell@example.com   \n",
              "2  elizabethbarrera@example.net   \n",
              "3           jmiller@example.com   \n",
              "\n",
              "                                               phone  \\\n",
              "0  [233-642-9599, (777)557-9252x39540, 954.766.98...   \n",
              "1  [001-457-474-1212x1260, +1-663-483-6068x68501,...   \n",
              "2  [(535)545-4553, 001-404-429-5749x1377, 525-822...   \n",
              "3    [5299700959, 560.262.6289, (987)910-1259x32587]   \n",
              "\n",
              "                                              orders  \n",
              "0  [{'productid': 2, 'units': 68, 'purchase_date'...  \n",
              "1  [{'productid': 7, 'units': 53, 'purchase_date'...  \n",
              "2  [{'productid': 8, 'units': 970, 'purchase_date...  \n",
              "3  [{'productid': 1, 'units': 81, 'purchase_date'...  "
            ],
            "text/html": [
              "\n",
              "  <div id=\"df-c132790b-ed09-42be-a791-8e158e0b38c1\" class=\"colab-df-container\">\n",
              "    <div>\n",
              "<style scoped>\n",
              "    .dataframe tbody tr th:only-of-type {\n",
              "        vertical-align: middle;\n",
              "    }\n",
              "\n",
              "    .dataframe tbody tr th {\n",
              "        vertical-align: top;\n",
              "    }\n",
              "\n",
              "    .dataframe thead th {\n",
              "        text-align: right;\n",
              "    }\n",
              "</style>\n",
              "<table border=\"1\" class=\"dataframe\">\n",
              "  <thead>\n",
              "    <tr style=\"text-align: right;\">\n",
              "      <th></th>\n",
              "      <th>_id</th>\n",
              "      <th>customerid</th>\n",
              "      <th>name</th>\n",
              "      <th>email</th>\n",
              "      <th>phone</th>\n",
              "      <th>orders</th>\n",
              "    </tr>\n",
              "  </thead>\n",
              "  <tbody>\n",
              "    <tr>\n",
              "      <th>0</th>\n",
              "      <td>{'$oid': '65a2015d4de10d2f8cecb673'}</td>\n",
              "      <td>1</td>\n",
              "      <td>Michael Garcia</td>\n",
              "      <td>plove@example.net</td>\n",
              "      <td>[233-642-9599, (777)557-9252x39540, 954.766.98...</td>\n",
              "      <td>[{'productid': 2, 'units': 68, 'purchase_date'...</td>\n",
              "    </tr>\n",
              "    <tr>\n",
              "      <th>1</th>\n",
              "      <td>{'$oid': '65a2015d4de10d2f8cecb674'}</td>\n",
              "      <td>2</td>\n",
              "      <td>Karen Bridges</td>\n",
              "      <td>andrewmcconnell@example.com</td>\n",
              "      <td>[001-457-474-1212x1260, +1-663-483-6068x68501,...</td>\n",
              "      <td>[{'productid': 7, 'units': 53, 'purchase_date'...</td>\n",
              "    </tr>\n",
              "    <tr>\n",
              "      <th>2</th>\n",
              "      <td>{'$oid': '65a2015d4de10d2f8cecb675'}</td>\n",
              "      <td>3</td>\n",
              "      <td>April Acevedo</td>\n",
              "      <td>elizabethbarrera@example.net</td>\n",
              "      <td>[(535)545-4553, 001-404-429-5749x1377, 525-822...</td>\n",
              "      <td>[{'productid': 8, 'units': 970, 'purchase_date...</td>\n",
              "    </tr>\n",
              "    <tr>\n",
              "      <th>3</th>\n",
              "      <td>{'$oid': '65a2015d4de10d2f8cecb676'}</td>\n",
              "      <td>4</td>\n",
              "      <td>Taylor Watts</td>\n",
              "      <td>jmiller@example.com</td>\n",
              "      <td>[5299700959, 560.262.6289, (987)910-1259x32587]</td>\n",
              "      <td>[{'productid': 1, 'units': 81, 'purchase_date'...</td>\n",
              "    </tr>\n",
              "  </tbody>\n",
              "</table>\n",
              "</div>\n",
              "    <div class=\"colab-df-buttons\">\n",
              "\n",
              "  <div class=\"colab-df-container\">\n",
              "    <button class=\"colab-df-convert\" onclick=\"convertToInteractive('df-c132790b-ed09-42be-a791-8e158e0b38c1')\"\n",
              "            title=\"Convert this dataframe to an interactive table.\"\n",
              "            style=\"display:none;\">\n",
              "\n",
              "  <svg xmlns=\"http://www.w3.org/2000/svg\" height=\"24px\" viewBox=\"0 -960 960 960\">\n",
              "    <path d=\"M120-120v-720h720v720H120Zm60-500h600v-160H180v160Zm220 220h160v-160H400v160Zm0 220h160v-160H400v160ZM180-400h160v-160H180v160Zm440 0h160v-160H620v160ZM180-180h160v-160H180v160Zm440 0h160v-160H620v160Z\"/>\n",
              "  </svg>\n",
              "    </button>\n",
              "\n",
              "  <style>\n",
              "    .colab-df-container {\n",
              "      display:flex;\n",
              "      gap: 12px;\n",
              "    }\n",
              "\n",
              "    .colab-df-convert {\n",
              "      background-color: #E8F0FE;\n",
              "      border: none;\n",
              "      border-radius: 50%;\n",
              "      cursor: pointer;\n",
              "      display: none;\n",
              "      fill: #1967D2;\n",
              "      height: 32px;\n",
              "      padding: 0 0 0 0;\n",
              "      width: 32px;\n",
              "    }\n",
              "\n",
              "    .colab-df-convert:hover {\n",
              "      background-color: #E2EBFA;\n",
              "      box-shadow: 0px 1px 2px rgba(60, 64, 67, 0.3), 0px 1px 3px 1px rgba(60, 64, 67, 0.15);\n",
              "      fill: #174EA6;\n",
              "    }\n",
              "\n",
              "    .colab-df-buttons div {\n",
              "      margin-bottom: 4px;\n",
              "    }\n",
              "\n",
              "    [theme=dark] .colab-df-convert {\n",
              "      background-color: #3B4455;\n",
              "      fill: #D2E3FC;\n",
              "    }\n",
              "\n",
              "    [theme=dark] .colab-df-convert:hover {\n",
              "      background-color: #434B5C;\n",
              "      box-shadow: 0px 1px 3px 1px rgba(0, 0, 0, 0.15);\n",
              "      filter: drop-shadow(0px 1px 2px rgba(0, 0, 0, 0.3));\n",
              "      fill: #FFFFFF;\n",
              "    }\n",
              "  </style>\n",
              "\n",
              "    <script>\n",
              "      const buttonEl =\n",
              "        document.querySelector('#df-c132790b-ed09-42be-a791-8e158e0b38c1 button.colab-df-convert');\n",
              "      buttonEl.style.display =\n",
              "        google.colab.kernel.accessAllowed ? 'block' : 'none';\n",
              "\n",
              "      async function convertToInteractive(key) {\n",
              "        const element = document.querySelector('#df-c132790b-ed09-42be-a791-8e158e0b38c1');\n",
              "        const dataTable =\n",
              "          await google.colab.kernel.invokeFunction('convertToInteractive',\n",
              "                                                    [key], {});\n",
              "        if (!dataTable) return;\n",
              "\n",
              "        const docLinkHtml = 'Like what you see? Visit the ' +\n",
              "          '<a target=\"_blank\" href=https://colab.research.google.com/notebooks/data_table.ipynb>data table notebook</a>'\n",
              "          + ' to learn more about interactive tables.';\n",
              "        element.innerHTML = '';\n",
              "        dataTable['output_type'] = 'display_data';\n",
              "        await google.colab.output.renderOutput(dataTable, element);\n",
              "        const docLink = document.createElement('div');\n",
              "        docLink.innerHTML = docLinkHtml;\n",
              "        element.appendChild(docLink);\n",
              "      }\n",
              "    </script>\n",
              "  </div>\n",
              "\n",
              "\n",
              "<div id=\"df-50145f51-3bc2-4ed6-aa93-d1dda48957b8\">\n",
              "  <button class=\"colab-df-quickchart\" onclick=\"quickchart('df-50145f51-3bc2-4ed6-aa93-d1dda48957b8')\"\n",
              "            title=\"Suggest charts\"\n",
              "            style=\"display:none;\">\n",
              "\n",
              "<svg xmlns=\"http://www.w3.org/2000/svg\" height=\"24px\"viewBox=\"0 0 24 24\"\n",
              "     width=\"24px\">\n",
              "    <g>\n",
              "        <path d=\"M19 3H5c-1.1 0-2 .9-2 2v14c0 1.1.9 2 2 2h14c1.1 0 2-.9 2-2V5c0-1.1-.9-2-2-2zM9 17H7v-7h2v7zm4 0h-2V7h2v10zm4 0h-2v-4h2v4z\"/>\n",
              "    </g>\n",
              "</svg>\n",
              "  </button>\n",
              "\n",
              "<style>\n",
              "  .colab-df-quickchart {\n",
              "      --bg-color: #E8F0FE;\n",
              "      --fill-color: #1967D2;\n",
              "      --hover-bg-color: #E2EBFA;\n",
              "      --hover-fill-color: #174EA6;\n",
              "      --disabled-fill-color: #AAA;\n",
              "      --disabled-bg-color: #DDD;\n",
              "  }\n",
              "\n",
              "  [theme=dark] .colab-df-quickchart {\n",
              "      --bg-color: #3B4455;\n",
              "      --fill-color: #D2E3FC;\n",
              "      --hover-bg-color: #434B5C;\n",
              "      --hover-fill-color: #FFFFFF;\n",
              "      --disabled-bg-color: #3B4455;\n",
              "      --disabled-fill-color: #666;\n",
              "  }\n",
              "\n",
              "  .colab-df-quickchart {\n",
              "    background-color: var(--bg-color);\n",
              "    border: none;\n",
              "    border-radius: 50%;\n",
              "    cursor: pointer;\n",
              "    display: none;\n",
              "    fill: var(--fill-color);\n",
              "    height: 32px;\n",
              "    padding: 0;\n",
              "    width: 32px;\n",
              "  }\n",
              "\n",
              "  .colab-df-quickchart:hover {\n",
              "    background-color: var(--hover-bg-color);\n",
              "    box-shadow: 0 1px 2px rgba(60, 64, 67, 0.3), 0 1px 3px 1px rgba(60, 64, 67, 0.15);\n",
              "    fill: var(--button-hover-fill-color);\n",
              "  }\n",
              "\n",
              "  .colab-df-quickchart-complete:disabled,\n",
              "  .colab-df-quickchart-complete:disabled:hover {\n",
              "    background-color: var(--disabled-bg-color);\n",
              "    fill: var(--disabled-fill-color);\n",
              "    box-shadow: none;\n",
              "  }\n",
              "\n",
              "  .colab-df-spinner {\n",
              "    border: 2px solid var(--fill-color);\n",
              "    border-color: transparent;\n",
              "    border-bottom-color: var(--fill-color);\n",
              "    animation:\n",
              "      spin 1s steps(1) infinite;\n",
              "  }\n",
              "\n",
              "  @keyframes spin {\n",
              "    0% {\n",
              "      border-color: transparent;\n",
              "      border-bottom-color: var(--fill-color);\n",
              "      border-left-color: var(--fill-color);\n",
              "    }\n",
              "    20% {\n",
              "      border-color: transparent;\n",
              "      border-left-color: var(--fill-color);\n",
              "      border-top-color: var(--fill-color);\n",
              "    }\n",
              "    30% {\n",
              "      border-color: transparent;\n",
              "      border-left-color: var(--fill-color);\n",
              "      border-top-color: var(--fill-color);\n",
              "      border-right-color: var(--fill-color);\n",
              "    }\n",
              "    40% {\n",
              "      border-color: transparent;\n",
              "      border-right-color: var(--fill-color);\n",
              "      border-top-color: var(--fill-color);\n",
              "    }\n",
              "    60% {\n",
              "      border-color: transparent;\n",
              "      border-right-color: var(--fill-color);\n",
              "    }\n",
              "    80% {\n",
              "      border-color: transparent;\n",
              "      border-right-color: var(--fill-color);\n",
              "      border-bottom-color: var(--fill-color);\n",
              "    }\n",
              "    90% {\n",
              "      border-color: transparent;\n",
              "      border-bottom-color: var(--fill-color);\n",
              "    }\n",
              "  }\n",
              "</style>\n",
              "\n",
              "  <script>\n",
              "    async function quickchart(key) {\n",
              "      const quickchartButtonEl =\n",
              "        document.querySelector('#' + key + ' button');\n",
              "      quickchartButtonEl.disabled = true;  // To prevent multiple clicks.\n",
              "      quickchartButtonEl.classList.add('colab-df-spinner');\n",
              "      try {\n",
              "        const charts = await google.colab.kernel.invokeFunction(\n",
              "            'suggestCharts', [key], {});\n",
              "      } catch (error) {\n",
              "        console.error('Error during call to suggestCharts:', error);\n",
              "      }\n",
              "      quickchartButtonEl.classList.remove('colab-df-spinner');\n",
              "      quickchartButtonEl.classList.add('colab-df-quickchart-complete');\n",
              "    }\n",
              "    (() => {\n",
              "      let quickchartButtonEl =\n",
              "        document.querySelector('#df-50145f51-3bc2-4ed6-aa93-d1dda48957b8 button');\n",
              "      quickchartButtonEl.style.display =\n",
              "        google.colab.kernel.accessAllowed ? 'block' : 'none';\n",
              "    })();\n",
              "  </script>\n",
              "</div>\n",
              "\n",
              "    </div>\n",
              "  </div>\n"
            ]
          },
          "metadata": {},
          "execution_count": 358
        }
      ]
    },
    {
      "cell_type": "code",
      "source": [
        "orders_df = customers_df.explode('orders')"
      ],
      "metadata": {
        "id": "mocoF6h2TiF0"
      },
      "execution_count": 359,
      "outputs": []
    },
    {
      "cell_type": "code",
      "source": [
        "df_orders_expanded = pd.concat([orders_df.drop(['orders'], axis=1), orders_df['orders'].apply(pd.Series)], axis=1)\n",
        "df_orders_expanded.head(3)\n"
      ],
      "metadata": {
        "colab": {
          "base_uri": "https://localhost:8080/",
          "height": 372
        },
        "id": "KOJCLbp2WMSV",
        "outputId": "de1bdbbb-226c-4356-b9d0-ef4254bb4210"
      },
      "execution_count": 360,
      "outputs": [
        {
          "output_type": "execute_result",
          "data": {
            "text/plain": [
              "                                    _id  customerid            name  \\\n",
              "0  {'$oid': '65a2015d4de10d2f8cecb673'}           1  Michael Garcia   \n",
              "0  {'$oid': '65a2015d4de10d2f8cecb673'}           1  Michael Garcia   \n",
              "0  {'$oid': '65a2015d4de10d2f8cecb673'}           1  Michael Garcia   \n",
              "\n",
              "               email                                              phone  \\\n",
              "0  plove@example.net  [233-642-9599, (777)557-9252x39540, 954.766.98...   \n",
              "0  plove@example.net  [233-642-9599, (777)557-9252x39540, 954.766.98...   \n",
              "0  plove@example.net  [233-642-9599, (777)557-9252x39540, 954.766.98...   \n",
              "\n",
              "   productid  units                      purchase_date   0  \n",
              "0        2.0   68.0  {'$date': '2023-01-16T00:00:00Z'} NaN  \n",
              "0        9.0   41.0  {'$date': '2023-05-02T00:00:00Z'} NaN  \n",
              "0        2.0   96.0  {'$date': '2023-09-09T00:00:00Z'} NaN  "
            ],
            "text/html": [
              "\n",
              "  <div id=\"df-1c48d93f-6ccc-4492-aae8-450d72e5bbe8\" class=\"colab-df-container\">\n",
              "    <div>\n",
              "<style scoped>\n",
              "    .dataframe tbody tr th:only-of-type {\n",
              "        vertical-align: middle;\n",
              "    }\n",
              "\n",
              "    .dataframe tbody tr th {\n",
              "        vertical-align: top;\n",
              "    }\n",
              "\n",
              "    .dataframe thead th {\n",
              "        text-align: right;\n",
              "    }\n",
              "</style>\n",
              "<table border=\"1\" class=\"dataframe\">\n",
              "  <thead>\n",
              "    <tr style=\"text-align: right;\">\n",
              "      <th></th>\n",
              "      <th>_id</th>\n",
              "      <th>customerid</th>\n",
              "      <th>name</th>\n",
              "      <th>email</th>\n",
              "      <th>phone</th>\n",
              "      <th>productid</th>\n",
              "      <th>units</th>\n",
              "      <th>purchase_date</th>\n",
              "      <th>0</th>\n",
              "    </tr>\n",
              "  </thead>\n",
              "  <tbody>\n",
              "    <tr>\n",
              "      <th>0</th>\n",
              "      <td>{'$oid': '65a2015d4de10d2f8cecb673'}</td>\n",
              "      <td>1</td>\n",
              "      <td>Michael Garcia</td>\n",
              "      <td>plove@example.net</td>\n",
              "      <td>[233-642-9599, (777)557-9252x39540, 954.766.98...</td>\n",
              "      <td>2.0</td>\n",
              "      <td>68.0</td>\n",
              "      <td>{'$date': '2023-01-16T00:00:00Z'}</td>\n",
              "      <td>NaN</td>\n",
              "    </tr>\n",
              "    <tr>\n",
              "      <th>0</th>\n",
              "      <td>{'$oid': '65a2015d4de10d2f8cecb673'}</td>\n",
              "      <td>1</td>\n",
              "      <td>Michael Garcia</td>\n",
              "      <td>plove@example.net</td>\n",
              "      <td>[233-642-9599, (777)557-9252x39540, 954.766.98...</td>\n",
              "      <td>9.0</td>\n",
              "      <td>41.0</td>\n",
              "      <td>{'$date': '2023-05-02T00:00:00Z'}</td>\n",
              "      <td>NaN</td>\n",
              "    </tr>\n",
              "    <tr>\n",
              "      <th>0</th>\n",
              "      <td>{'$oid': '65a2015d4de10d2f8cecb673'}</td>\n",
              "      <td>1</td>\n",
              "      <td>Michael Garcia</td>\n",
              "      <td>plove@example.net</td>\n",
              "      <td>[233-642-9599, (777)557-9252x39540, 954.766.98...</td>\n",
              "      <td>2.0</td>\n",
              "      <td>96.0</td>\n",
              "      <td>{'$date': '2023-09-09T00:00:00Z'}</td>\n",
              "      <td>NaN</td>\n",
              "    </tr>\n",
              "  </tbody>\n",
              "</table>\n",
              "</div>\n",
              "    <div class=\"colab-df-buttons\">\n",
              "\n",
              "  <div class=\"colab-df-container\">\n",
              "    <button class=\"colab-df-convert\" onclick=\"convertToInteractive('df-1c48d93f-6ccc-4492-aae8-450d72e5bbe8')\"\n",
              "            title=\"Convert this dataframe to an interactive table.\"\n",
              "            style=\"display:none;\">\n",
              "\n",
              "  <svg xmlns=\"http://www.w3.org/2000/svg\" height=\"24px\" viewBox=\"0 -960 960 960\">\n",
              "    <path d=\"M120-120v-720h720v720H120Zm60-500h600v-160H180v160Zm220 220h160v-160H400v160Zm0 220h160v-160H400v160ZM180-400h160v-160H180v160Zm440 0h160v-160H620v160ZM180-180h160v-160H180v160Zm440 0h160v-160H620v160Z\"/>\n",
              "  </svg>\n",
              "    </button>\n",
              "\n",
              "  <style>\n",
              "    .colab-df-container {\n",
              "      display:flex;\n",
              "      gap: 12px;\n",
              "    }\n",
              "\n",
              "    .colab-df-convert {\n",
              "      background-color: #E8F0FE;\n",
              "      border: none;\n",
              "      border-radius: 50%;\n",
              "      cursor: pointer;\n",
              "      display: none;\n",
              "      fill: #1967D2;\n",
              "      height: 32px;\n",
              "      padding: 0 0 0 0;\n",
              "      width: 32px;\n",
              "    }\n",
              "\n",
              "    .colab-df-convert:hover {\n",
              "      background-color: #E2EBFA;\n",
              "      box-shadow: 0px 1px 2px rgba(60, 64, 67, 0.3), 0px 1px 3px 1px rgba(60, 64, 67, 0.15);\n",
              "      fill: #174EA6;\n",
              "    }\n",
              "\n",
              "    .colab-df-buttons div {\n",
              "      margin-bottom: 4px;\n",
              "    }\n",
              "\n",
              "    [theme=dark] .colab-df-convert {\n",
              "      background-color: #3B4455;\n",
              "      fill: #D2E3FC;\n",
              "    }\n",
              "\n",
              "    [theme=dark] .colab-df-convert:hover {\n",
              "      background-color: #434B5C;\n",
              "      box-shadow: 0px 1px 3px 1px rgba(0, 0, 0, 0.15);\n",
              "      filter: drop-shadow(0px 1px 2px rgba(0, 0, 0, 0.3));\n",
              "      fill: #FFFFFF;\n",
              "    }\n",
              "  </style>\n",
              "\n",
              "    <script>\n",
              "      const buttonEl =\n",
              "        document.querySelector('#df-1c48d93f-6ccc-4492-aae8-450d72e5bbe8 button.colab-df-convert');\n",
              "      buttonEl.style.display =\n",
              "        google.colab.kernel.accessAllowed ? 'block' : 'none';\n",
              "\n",
              "      async function convertToInteractive(key) {\n",
              "        const element = document.querySelector('#df-1c48d93f-6ccc-4492-aae8-450d72e5bbe8');\n",
              "        const dataTable =\n",
              "          await google.colab.kernel.invokeFunction('convertToInteractive',\n",
              "                                                    [key], {});\n",
              "        if (!dataTable) return;\n",
              "\n",
              "        const docLinkHtml = 'Like what you see? Visit the ' +\n",
              "          '<a target=\"_blank\" href=https://colab.research.google.com/notebooks/data_table.ipynb>data table notebook</a>'\n",
              "          + ' to learn more about interactive tables.';\n",
              "        element.innerHTML = '';\n",
              "        dataTable['output_type'] = 'display_data';\n",
              "        await google.colab.output.renderOutput(dataTable, element);\n",
              "        const docLink = document.createElement('div');\n",
              "        docLink.innerHTML = docLinkHtml;\n",
              "        element.appendChild(docLink);\n",
              "      }\n",
              "    </script>\n",
              "  </div>\n",
              "\n",
              "\n",
              "<div id=\"df-0b5ce8f1-ed00-4b16-992a-573e431f40c1\">\n",
              "  <button class=\"colab-df-quickchart\" onclick=\"quickchart('df-0b5ce8f1-ed00-4b16-992a-573e431f40c1')\"\n",
              "            title=\"Suggest charts\"\n",
              "            style=\"display:none;\">\n",
              "\n",
              "<svg xmlns=\"http://www.w3.org/2000/svg\" height=\"24px\"viewBox=\"0 0 24 24\"\n",
              "     width=\"24px\">\n",
              "    <g>\n",
              "        <path d=\"M19 3H5c-1.1 0-2 .9-2 2v14c0 1.1.9 2 2 2h14c1.1 0 2-.9 2-2V5c0-1.1-.9-2-2-2zM9 17H7v-7h2v7zm4 0h-2V7h2v10zm4 0h-2v-4h2v4z\"/>\n",
              "    </g>\n",
              "</svg>\n",
              "  </button>\n",
              "\n",
              "<style>\n",
              "  .colab-df-quickchart {\n",
              "      --bg-color: #E8F0FE;\n",
              "      --fill-color: #1967D2;\n",
              "      --hover-bg-color: #E2EBFA;\n",
              "      --hover-fill-color: #174EA6;\n",
              "      --disabled-fill-color: #AAA;\n",
              "      --disabled-bg-color: #DDD;\n",
              "  }\n",
              "\n",
              "  [theme=dark] .colab-df-quickchart {\n",
              "      --bg-color: #3B4455;\n",
              "      --fill-color: #D2E3FC;\n",
              "      --hover-bg-color: #434B5C;\n",
              "      --hover-fill-color: #FFFFFF;\n",
              "      --disabled-bg-color: #3B4455;\n",
              "      --disabled-fill-color: #666;\n",
              "  }\n",
              "\n",
              "  .colab-df-quickchart {\n",
              "    background-color: var(--bg-color);\n",
              "    border: none;\n",
              "    border-radius: 50%;\n",
              "    cursor: pointer;\n",
              "    display: none;\n",
              "    fill: var(--fill-color);\n",
              "    height: 32px;\n",
              "    padding: 0;\n",
              "    width: 32px;\n",
              "  }\n",
              "\n",
              "  .colab-df-quickchart:hover {\n",
              "    background-color: var(--hover-bg-color);\n",
              "    box-shadow: 0 1px 2px rgba(60, 64, 67, 0.3), 0 1px 3px 1px rgba(60, 64, 67, 0.15);\n",
              "    fill: var(--button-hover-fill-color);\n",
              "  }\n",
              "\n",
              "  .colab-df-quickchart-complete:disabled,\n",
              "  .colab-df-quickchart-complete:disabled:hover {\n",
              "    background-color: var(--disabled-bg-color);\n",
              "    fill: var(--disabled-fill-color);\n",
              "    box-shadow: none;\n",
              "  }\n",
              "\n",
              "  .colab-df-spinner {\n",
              "    border: 2px solid var(--fill-color);\n",
              "    border-color: transparent;\n",
              "    border-bottom-color: var(--fill-color);\n",
              "    animation:\n",
              "      spin 1s steps(1) infinite;\n",
              "  }\n",
              "\n",
              "  @keyframes spin {\n",
              "    0% {\n",
              "      border-color: transparent;\n",
              "      border-bottom-color: var(--fill-color);\n",
              "      border-left-color: var(--fill-color);\n",
              "    }\n",
              "    20% {\n",
              "      border-color: transparent;\n",
              "      border-left-color: var(--fill-color);\n",
              "      border-top-color: var(--fill-color);\n",
              "    }\n",
              "    30% {\n",
              "      border-color: transparent;\n",
              "      border-left-color: var(--fill-color);\n",
              "      border-top-color: var(--fill-color);\n",
              "      border-right-color: var(--fill-color);\n",
              "    }\n",
              "    40% {\n",
              "      border-color: transparent;\n",
              "      border-right-color: var(--fill-color);\n",
              "      border-top-color: var(--fill-color);\n",
              "    }\n",
              "    60% {\n",
              "      border-color: transparent;\n",
              "      border-right-color: var(--fill-color);\n",
              "    }\n",
              "    80% {\n",
              "      border-color: transparent;\n",
              "      border-right-color: var(--fill-color);\n",
              "      border-bottom-color: var(--fill-color);\n",
              "    }\n",
              "    90% {\n",
              "      border-color: transparent;\n",
              "      border-bottom-color: var(--fill-color);\n",
              "    }\n",
              "  }\n",
              "</style>\n",
              "\n",
              "  <script>\n",
              "    async function quickchart(key) {\n",
              "      const quickchartButtonEl =\n",
              "        document.querySelector('#' + key + ' button');\n",
              "      quickchartButtonEl.disabled = true;  // To prevent multiple clicks.\n",
              "      quickchartButtonEl.classList.add('colab-df-spinner');\n",
              "      try {\n",
              "        const charts = await google.colab.kernel.invokeFunction(\n",
              "            'suggestCharts', [key], {});\n",
              "      } catch (error) {\n",
              "        console.error('Error during call to suggestCharts:', error);\n",
              "      }\n",
              "      quickchartButtonEl.classList.remove('colab-df-spinner');\n",
              "      quickchartButtonEl.classList.add('colab-df-quickchart-complete');\n",
              "    }\n",
              "    (() => {\n",
              "      let quickchartButtonEl =\n",
              "        document.querySelector('#df-0b5ce8f1-ed00-4b16-992a-573e431f40c1 button');\n",
              "      quickchartButtonEl.style.display =\n",
              "        google.colab.kernel.accessAllowed ? 'block' : 'none';\n",
              "    })();\n",
              "  </script>\n",
              "</div>\n",
              "\n",
              "    </div>\n",
              "  </div>\n"
            ]
          },
          "metadata": {},
          "execution_count": 360
        }
      ]
    },
    {
      "cell_type": "code",
      "source": [
        "customer_product_orders = df_orders_expanded.merge(products_df, on='productid', how='left')\n",
        "customer_product_orders.head(3)"
      ],
      "metadata": {
        "colab": {
          "base_uri": "https://localhost:8080/",
          "height": 372
        },
        "id": "MVmcFZ7FWxo4",
        "outputId": "9b85610e-ee6c-4891-f767-0708a7cd951f"
      },
      "execution_count": 361,
      "outputs": [
        {
          "output_type": "execute_result",
          "data": {
            "text/plain": [
              "                                  _id_x  customerid            name  \\\n",
              "0  {'$oid': '65a2015d4de10d2f8cecb673'}           1  Michael Garcia   \n",
              "1  {'$oid': '65a2015d4de10d2f8cecb673'}           1  Michael Garcia   \n",
              "2  {'$oid': '65a2015d4de10d2f8cecb673'}           1  Michael Garcia   \n",
              "\n",
              "               email                                              phone  \\\n",
              "0  plove@example.net  [233-642-9599, (777)557-9252x39540, 954.766.98...   \n",
              "1  plove@example.net  [233-642-9599, (777)557-9252x39540, 954.766.98...   \n",
              "2  plove@example.net  [233-642-9599, (777)557-9252x39540, 954.766.98...   \n",
              "\n",
              "   productid  units                      purchase_date   0  \\\n",
              "0        2.0   68.0  {'$date': '2023-01-16T00:00:00Z'} NaN   \n",
              "1        9.0   41.0  {'$date': '2023-05-02T00:00:00Z'} NaN   \n",
              "2        2.0   96.0  {'$date': '2023-09-09T00:00:00Z'} NaN   \n",
              "\n",
              "                                  _id_y     category  price  \n",
              "0  {'$oid': '65a2015d4de10d2f8cecb6d8'}     Clothing    4.0  \n",
              "1  {'$oid': '65a2015d4de10d2f8cecb6df'}  Electronics   38.0  \n",
              "2  {'$oid': '65a2015d4de10d2f8cecb6d8'}     Clothing    4.0  "
            ],
            "text/html": [
              "\n",
              "  <div id=\"df-e90d84eb-11e8-45ad-aa61-678a1dee3b90\" class=\"colab-df-container\">\n",
              "    <div>\n",
              "<style scoped>\n",
              "    .dataframe tbody tr th:only-of-type {\n",
              "        vertical-align: middle;\n",
              "    }\n",
              "\n",
              "    .dataframe tbody tr th {\n",
              "        vertical-align: top;\n",
              "    }\n",
              "\n",
              "    .dataframe thead th {\n",
              "        text-align: right;\n",
              "    }\n",
              "</style>\n",
              "<table border=\"1\" class=\"dataframe\">\n",
              "  <thead>\n",
              "    <tr style=\"text-align: right;\">\n",
              "      <th></th>\n",
              "      <th>_id_x</th>\n",
              "      <th>customerid</th>\n",
              "      <th>name</th>\n",
              "      <th>email</th>\n",
              "      <th>phone</th>\n",
              "      <th>productid</th>\n",
              "      <th>units</th>\n",
              "      <th>purchase_date</th>\n",
              "      <th>0</th>\n",
              "      <th>_id_y</th>\n",
              "      <th>category</th>\n",
              "      <th>price</th>\n",
              "    </tr>\n",
              "  </thead>\n",
              "  <tbody>\n",
              "    <tr>\n",
              "      <th>0</th>\n",
              "      <td>{'$oid': '65a2015d4de10d2f8cecb673'}</td>\n",
              "      <td>1</td>\n",
              "      <td>Michael Garcia</td>\n",
              "      <td>plove@example.net</td>\n",
              "      <td>[233-642-9599, (777)557-9252x39540, 954.766.98...</td>\n",
              "      <td>2.0</td>\n",
              "      <td>68.0</td>\n",
              "      <td>{'$date': '2023-01-16T00:00:00Z'}</td>\n",
              "      <td>NaN</td>\n",
              "      <td>{'$oid': '65a2015d4de10d2f8cecb6d8'}</td>\n",
              "      <td>Clothing</td>\n",
              "      <td>4.0</td>\n",
              "    </tr>\n",
              "    <tr>\n",
              "      <th>1</th>\n",
              "      <td>{'$oid': '65a2015d4de10d2f8cecb673'}</td>\n",
              "      <td>1</td>\n",
              "      <td>Michael Garcia</td>\n",
              "      <td>plove@example.net</td>\n",
              "      <td>[233-642-9599, (777)557-9252x39540, 954.766.98...</td>\n",
              "      <td>9.0</td>\n",
              "      <td>41.0</td>\n",
              "      <td>{'$date': '2023-05-02T00:00:00Z'}</td>\n",
              "      <td>NaN</td>\n",
              "      <td>{'$oid': '65a2015d4de10d2f8cecb6df'}</td>\n",
              "      <td>Electronics</td>\n",
              "      <td>38.0</td>\n",
              "    </tr>\n",
              "    <tr>\n",
              "      <th>2</th>\n",
              "      <td>{'$oid': '65a2015d4de10d2f8cecb673'}</td>\n",
              "      <td>1</td>\n",
              "      <td>Michael Garcia</td>\n",
              "      <td>plove@example.net</td>\n",
              "      <td>[233-642-9599, (777)557-9252x39540, 954.766.98...</td>\n",
              "      <td>2.0</td>\n",
              "      <td>96.0</td>\n",
              "      <td>{'$date': '2023-09-09T00:00:00Z'}</td>\n",
              "      <td>NaN</td>\n",
              "      <td>{'$oid': '65a2015d4de10d2f8cecb6d8'}</td>\n",
              "      <td>Clothing</td>\n",
              "      <td>4.0</td>\n",
              "    </tr>\n",
              "  </tbody>\n",
              "</table>\n",
              "</div>\n",
              "    <div class=\"colab-df-buttons\">\n",
              "\n",
              "  <div class=\"colab-df-container\">\n",
              "    <button class=\"colab-df-convert\" onclick=\"convertToInteractive('df-e90d84eb-11e8-45ad-aa61-678a1dee3b90')\"\n",
              "            title=\"Convert this dataframe to an interactive table.\"\n",
              "            style=\"display:none;\">\n",
              "\n",
              "  <svg xmlns=\"http://www.w3.org/2000/svg\" height=\"24px\" viewBox=\"0 -960 960 960\">\n",
              "    <path d=\"M120-120v-720h720v720H120Zm60-500h600v-160H180v160Zm220 220h160v-160H400v160Zm0 220h160v-160H400v160ZM180-400h160v-160H180v160Zm440 0h160v-160H620v160ZM180-180h160v-160H180v160Zm440 0h160v-160H620v160Z\"/>\n",
              "  </svg>\n",
              "    </button>\n",
              "\n",
              "  <style>\n",
              "    .colab-df-container {\n",
              "      display:flex;\n",
              "      gap: 12px;\n",
              "    }\n",
              "\n",
              "    .colab-df-convert {\n",
              "      background-color: #E8F0FE;\n",
              "      border: none;\n",
              "      border-radius: 50%;\n",
              "      cursor: pointer;\n",
              "      display: none;\n",
              "      fill: #1967D2;\n",
              "      height: 32px;\n",
              "      padding: 0 0 0 0;\n",
              "      width: 32px;\n",
              "    }\n",
              "\n",
              "    .colab-df-convert:hover {\n",
              "      background-color: #E2EBFA;\n",
              "      box-shadow: 0px 1px 2px rgba(60, 64, 67, 0.3), 0px 1px 3px 1px rgba(60, 64, 67, 0.15);\n",
              "      fill: #174EA6;\n",
              "    }\n",
              "\n",
              "    .colab-df-buttons div {\n",
              "      margin-bottom: 4px;\n",
              "    }\n",
              "\n",
              "    [theme=dark] .colab-df-convert {\n",
              "      background-color: #3B4455;\n",
              "      fill: #D2E3FC;\n",
              "    }\n",
              "\n",
              "    [theme=dark] .colab-df-convert:hover {\n",
              "      background-color: #434B5C;\n",
              "      box-shadow: 0px 1px 3px 1px rgba(0, 0, 0, 0.15);\n",
              "      filter: drop-shadow(0px 1px 2px rgba(0, 0, 0, 0.3));\n",
              "      fill: #FFFFFF;\n",
              "    }\n",
              "  </style>\n",
              "\n",
              "    <script>\n",
              "      const buttonEl =\n",
              "        document.querySelector('#df-e90d84eb-11e8-45ad-aa61-678a1dee3b90 button.colab-df-convert');\n",
              "      buttonEl.style.display =\n",
              "        google.colab.kernel.accessAllowed ? 'block' : 'none';\n",
              "\n",
              "      async function convertToInteractive(key) {\n",
              "        const element = document.querySelector('#df-e90d84eb-11e8-45ad-aa61-678a1dee3b90');\n",
              "        const dataTable =\n",
              "          await google.colab.kernel.invokeFunction('convertToInteractive',\n",
              "                                                    [key], {});\n",
              "        if (!dataTable) return;\n",
              "\n",
              "        const docLinkHtml = 'Like what you see? Visit the ' +\n",
              "          '<a target=\"_blank\" href=https://colab.research.google.com/notebooks/data_table.ipynb>data table notebook</a>'\n",
              "          + ' to learn more about interactive tables.';\n",
              "        element.innerHTML = '';\n",
              "        dataTable['output_type'] = 'display_data';\n",
              "        await google.colab.output.renderOutput(dataTable, element);\n",
              "        const docLink = document.createElement('div');\n",
              "        docLink.innerHTML = docLinkHtml;\n",
              "        element.appendChild(docLink);\n",
              "      }\n",
              "    </script>\n",
              "  </div>\n",
              "\n",
              "\n",
              "<div id=\"df-b2b3ed97-271f-4271-b672-bbe4e425430d\">\n",
              "  <button class=\"colab-df-quickchart\" onclick=\"quickchart('df-b2b3ed97-271f-4271-b672-bbe4e425430d')\"\n",
              "            title=\"Suggest charts\"\n",
              "            style=\"display:none;\">\n",
              "\n",
              "<svg xmlns=\"http://www.w3.org/2000/svg\" height=\"24px\"viewBox=\"0 0 24 24\"\n",
              "     width=\"24px\">\n",
              "    <g>\n",
              "        <path d=\"M19 3H5c-1.1 0-2 .9-2 2v14c0 1.1.9 2 2 2h14c1.1 0 2-.9 2-2V5c0-1.1-.9-2-2-2zM9 17H7v-7h2v7zm4 0h-2V7h2v10zm4 0h-2v-4h2v4z\"/>\n",
              "    </g>\n",
              "</svg>\n",
              "  </button>\n",
              "\n",
              "<style>\n",
              "  .colab-df-quickchart {\n",
              "      --bg-color: #E8F0FE;\n",
              "      --fill-color: #1967D2;\n",
              "      --hover-bg-color: #E2EBFA;\n",
              "      --hover-fill-color: #174EA6;\n",
              "      --disabled-fill-color: #AAA;\n",
              "      --disabled-bg-color: #DDD;\n",
              "  }\n",
              "\n",
              "  [theme=dark] .colab-df-quickchart {\n",
              "      --bg-color: #3B4455;\n",
              "      --fill-color: #D2E3FC;\n",
              "      --hover-bg-color: #434B5C;\n",
              "      --hover-fill-color: #FFFFFF;\n",
              "      --disabled-bg-color: #3B4455;\n",
              "      --disabled-fill-color: #666;\n",
              "  }\n",
              "\n",
              "  .colab-df-quickchart {\n",
              "    background-color: var(--bg-color);\n",
              "    border: none;\n",
              "    border-radius: 50%;\n",
              "    cursor: pointer;\n",
              "    display: none;\n",
              "    fill: var(--fill-color);\n",
              "    height: 32px;\n",
              "    padding: 0;\n",
              "    width: 32px;\n",
              "  }\n",
              "\n",
              "  .colab-df-quickchart:hover {\n",
              "    background-color: var(--hover-bg-color);\n",
              "    box-shadow: 0 1px 2px rgba(60, 64, 67, 0.3), 0 1px 3px 1px rgba(60, 64, 67, 0.15);\n",
              "    fill: var(--button-hover-fill-color);\n",
              "  }\n",
              "\n",
              "  .colab-df-quickchart-complete:disabled,\n",
              "  .colab-df-quickchart-complete:disabled:hover {\n",
              "    background-color: var(--disabled-bg-color);\n",
              "    fill: var(--disabled-fill-color);\n",
              "    box-shadow: none;\n",
              "  }\n",
              "\n",
              "  .colab-df-spinner {\n",
              "    border: 2px solid var(--fill-color);\n",
              "    border-color: transparent;\n",
              "    border-bottom-color: var(--fill-color);\n",
              "    animation:\n",
              "      spin 1s steps(1) infinite;\n",
              "  }\n",
              "\n",
              "  @keyframes spin {\n",
              "    0% {\n",
              "      border-color: transparent;\n",
              "      border-bottom-color: var(--fill-color);\n",
              "      border-left-color: var(--fill-color);\n",
              "    }\n",
              "    20% {\n",
              "      border-color: transparent;\n",
              "      border-left-color: var(--fill-color);\n",
              "      border-top-color: var(--fill-color);\n",
              "    }\n",
              "    30% {\n",
              "      border-color: transparent;\n",
              "      border-left-color: var(--fill-color);\n",
              "      border-top-color: var(--fill-color);\n",
              "      border-right-color: var(--fill-color);\n",
              "    }\n",
              "    40% {\n",
              "      border-color: transparent;\n",
              "      border-right-color: var(--fill-color);\n",
              "      border-top-color: var(--fill-color);\n",
              "    }\n",
              "    60% {\n",
              "      border-color: transparent;\n",
              "      border-right-color: var(--fill-color);\n",
              "    }\n",
              "    80% {\n",
              "      border-color: transparent;\n",
              "      border-right-color: var(--fill-color);\n",
              "      border-bottom-color: var(--fill-color);\n",
              "    }\n",
              "    90% {\n",
              "      border-color: transparent;\n",
              "      border-bottom-color: var(--fill-color);\n",
              "    }\n",
              "  }\n",
              "</style>\n",
              "\n",
              "  <script>\n",
              "    async function quickchart(key) {\n",
              "      const quickchartButtonEl =\n",
              "        document.querySelector('#' + key + ' button');\n",
              "      quickchartButtonEl.disabled = true;  // To prevent multiple clicks.\n",
              "      quickchartButtonEl.classList.add('colab-df-spinner');\n",
              "      try {\n",
              "        const charts = await google.colab.kernel.invokeFunction(\n",
              "            'suggestCharts', [key], {});\n",
              "      } catch (error) {\n",
              "        console.error('Error during call to suggestCharts:', error);\n",
              "      }\n",
              "      quickchartButtonEl.classList.remove('colab-df-spinner');\n",
              "      quickchartButtonEl.classList.add('colab-df-quickchart-complete');\n",
              "    }\n",
              "    (() => {\n",
              "      let quickchartButtonEl =\n",
              "        document.querySelector('#df-b2b3ed97-271f-4271-b672-bbe4e425430d button');\n",
              "      quickchartButtonEl.style.display =\n",
              "        google.colab.kernel.accessAllowed ? 'block' : 'none';\n",
              "    })();\n",
              "  </script>\n",
              "</div>\n",
              "\n",
              "    </div>\n",
              "  </div>\n"
            ]
          },
          "metadata": {},
          "execution_count": 361
        }
      ]
    },
    {
      "cell_type": "code",
      "source": [
        "customer_product_orders['total_sales'] = customer_product_orders['price'] * customer_product_orders['units']"
      ],
      "metadata": {
        "id": "Be_SiSBTXFgn"
      },
      "execution_count": 362,
      "outputs": []
    },
    {
      "cell_type": "code",
      "source": [
        "customer_product_orders.groupby(by='category').agg({'total_sales': 'sum'}).sort_values(by='total_sales', ascending=False)"
      ],
      "metadata": {
        "colab": {
          "base_uri": "https://localhost:8080/",
          "height": 206
        },
        "id": "Tiv4-_08KqmP",
        "outputId": "fe641385-0d63-432d-c2db-22c390948b32"
      },
      "execution_count": 363,
      "outputs": [
        {
          "output_type": "execute_result",
          "data": {
            "text/plain": [
              "             total_sales\n",
              "category                \n",
              "Electronics     414809.0\n",
              "Clothing        302975.0\n",
              "Home            112350.0\n",
              "Books            38528.0"
            ],
            "text/html": [
              "\n",
              "  <div id=\"df-19bf631c-5837-4652-add5-dfe7e8bbb046\" class=\"colab-df-container\">\n",
              "    <div>\n",
              "<style scoped>\n",
              "    .dataframe tbody tr th:only-of-type {\n",
              "        vertical-align: middle;\n",
              "    }\n",
              "\n",
              "    .dataframe tbody tr th {\n",
              "        vertical-align: top;\n",
              "    }\n",
              "\n",
              "    .dataframe thead th {\n",
              "        text-align: right;\n",
              "    }\n",
              "</style>\n",
              "<table border=\"1\" class=\"dataframe\">\n",
              "  <thead>\n",
              "    <tr style=\"text-align: right;\">\n",
              "      <th></th>\n",
              "      <th>total_sales</th>\n",
              "    </tr>\n",
              "    <tr>\n",
              "      <th>category</th>\n",
              "      <th></th>\n",
              "    </tr>\n",
              "  </thead>\n",
              "  <tbody>\n",
              "    <tr>\n",
              "      <th>Electronics</th>\n",
              "      <td>414809.0</td>\n",
              "    </tr>\n",
              "    <tr>\n",
              "      <th>Clothing</th>\n",
              "      <td>302975.0</td>\n",
              "    </tr>\n",
              "    <tr>\n",
              "      <th>Home</th>\n",
              "      <td>112350.0</td>\n",
              "    </tr>\n",
              "    <tr>\n",
              "      <th>Books</th>\n",
              "      <td>38528.0</td>\n",
              "    </tr>\n",
              "  </tbody>\n",
              "</table>\n",
              "</div>\n",
              "    <div class=\"colab-df-buttons\">\n",
              "\n",
              "  <div class=\"colab-df-container\">\n",
              "    <button class=\"colab-df-convert\" onclick=\"convertToInteractive('df-19bf631c-5837-4652-add5-dfe7e8bbb046')\"\n",
              "            title=\"Convert this dataframe to an interactive table.\"\n",
              "            style=\"display:none;\">\n",
              "\n",
              "  <svg xmlns=\"http://www.w3.org/2000/svg\" height=\"24px\" viewBox=\"0 -960 960 960\">\n",
              "    <path d=\"M120-120v-720h720v720H120Zm60-500h600v-160H180v160Zm220 220h160v-160H400v160Zm0 220h160v-160H400v160ZM180-400h160v-160H180v160Zm440 0h160v-160H620v160ZM180-180h160v-160H180v160Zm440 0h160v-160H620v160Z\"/>\n",
              "  </svg>\n",
              "    </button>\n",
              "\n",
              "  <style>\n",
              "    .colab-df-container {\n",
              "      display:flex;\n",
              "      gap: 12px;\n",
              "    }\n",
              "\n",
              "    .colab-df-convert {\n",
              "      background-color: #E8F0FE;\n",
              "      border: none;\n",
              "      border-radius: 50%;\n",
              "      cursor: pointer;\n",
              "      display: none;\n",
              "      fill: #1967D2;\n",
              "      height: 32px;\n",
              "      padding: 0 0 0 0;\n",
              "      width: 32px;\n",
              "    }\n",
              "\n",
              "    .colab-df-convert:hover {\n",
              "      background-color: #E2EBFA;\n",
              "      box-shadow: 0px 1px 2px rgba(60, 64, 67, 0.3), 0px 1px 3px 1px rgba(60, 64, 67, 0.15);\n",
              "      fill: #174EA6;\n",
              "    }\n",
              "\n",
              "    .colab-df-buttons div {\n",
              "      margin-bottom: 4px;\n",
              "    }\n",
              "\n",
              "    [theme=dark] .colab-df-convert {\n",
              "      background-color: #3B4455;\n",
              "      fill: #D2E3FC;\n",
              "    }\n",
              "\n",
              "    [theme=dark] .colab-df-convert:hover {\n",
              "      background-color: #434B5C;\n",
              "      box-shadow: 0px 1px 3px 1px rgba(0, 0, 0, 0.15);\n",
              "      filter: drop-shadow(0px 1px 2px rgba(0, 0, 0, 0.3));\n",
              "      fill: #FFFFFF;\n",
              "    }\n",
              "  </style>\n",
              "\n",
              "    <script>\n",
              "      const buttonEl =\n",
              "        document.querySelector('#df-19bf631c-5837-4652-add5-dfe7e8bbb046 button.colab-df-convert');\n",
              "      buttonEl.style.display =\n",
              "        google.colab.kernel.accessAllowed ? 'block' : 'none';\n",
              "\n",
              "      async function convertToInteractive(key) {\n",
              "        const element = document.querySelector('#df-19bf631c-5837-4652-add5-dfe7e8bbb046');\n",
              "        const dataTable =\n",
              "          await google.colab.kernel.invokeFunction('convertToInteractive',\n",
              "                                                    [key], {});\n",
              "        if (!dataTable) return;\n",
              "\n",
              "        const docLinkHtml = 'Like what you see? Visit the ' +\n",
              "          '<a target=\"_blank\" href=https://colab.research.google.com/notebooks/data_table.ipynb>data table notebook</a>'\n",
              "          + ' to learn more about interactive tables.';\n",
              "        element.innerHTML = '';\n",
              "        dataTable['output_type'] = 'display_data';\n",
              "        await google.colab.output.renderOutput(dataTable, element);\n",
              "        const docLink = document.createElement('div');\n",
              "        docLink.innerHTML = docLinkHtml;\n",
              "        element.appendChild(docLink);\n",
              "      }\n",
              "    </script>\n",
              "  </div>\n",
              "\n",
              "\n",
              "<div id=\"df-2d2d36af-803c-4f6c-9900-6f771c5fd62c\">\n",
              "  <button class=\"colab-df-quickchart\" onclick=\"quickchart('df-2d2d36af-803c-4f6c-9900-6f771c5fd62c')\"\n",
              "            title=\"Suggest charts\"\n",
              "            style=\"display:none;\">\n",
              "\n",
              "<svg xmlns=\"http://www.w3.org/2000/svg\" height=\"24px\"viewBox=\"0 0 24 24\"\n",
              "     width=\"24px\">\n",
              "    <g>\n",
              "        <path d=\"M19 3H5c-1.1 0-2 .9-2 2v14c0 1.1.9 2 2 2h14c1.1 0 2-.9 2-2V5c0-1.1-.9-2-2-2zM9 17H7v-7h2v7zm4 0h-2V7h2v10zm4 0h-2v-4h2v4z\"/>\n",
              "    </g>\n",
              "</svg>\n",
              "  </button>\n",
              "\n",
              "<style>\n",
              "  .colab-df-quickchart {\n",
              "      --bg-color: #E8F0FE;\n",
              "      --fill-color: #1967D2;\n",
              "      --hover-bg-color: #E2EBFA;\n",
              "      --hover-fill-color: #174EA6;\n",
              "      --disabled-fill-color: #AAA;\n",
              "      --disabled-bg-color: #DDD;\n",
              "  }\n",
              "\n",
              "  [theme=dark] .colab-df-quickchart {\n",
              "      --bg-color: #3B4455;\n",
              "      --fill-color: #D2E3FC;\n",
              "      --hover-bg-color: #434B5C;\n",
              "      --hover-fill-color: #FFFFFF;\n",
              "      --disabled-bg-color: #3B4455;\n",
              "      --disabled-fill-color: #666;\n",
              "  }\n",
              "\n",
              "  .colab-df-quickchart {\n",
              "    background-color: var(--bg-color);\n",
              "    border: none;\n",
              "    border-radius: 50%;\n",
              "    cursor: pointer;\n",
              "    display: none;\n",
              "    fill: var(--fill-color);\n",
              "    height: 32px;\n",
              "    padding: 0;\n",
              "    width: 32px;\n",
              "  }\n",
              "\n",
              "  .colab-df-quickchart:hover {\n",
              "    background-color: var(--hover-bg-color);\n",
              "    box-shadow: 0 1px 2px rgba(60, 64, 67, 0.3), 0 1px 3px 1px rgba(60, 64, 67, 0.15);\n",
              "    fill: var(--button-hover-fill-color);\n",
              "  }\n",
              "\n",
              "  .colab-df-quickchart-complete:disabled,\n",
              "  .colab-df-quickchart-complete:disabled:hover {\n",
              "    background-color: var(--disabled-bg-color);\n",
              "    fill: var(--disabled-fill-color);\n",
              "    box-shadow: none;\n",
              "  }\n",
              "\n",
              "  .colab-df-spinner {\n",
              "    border: 2px solid var(--fill-color);\n",
              "    border-color: transparent;\n",
              "    border-bottom-color: var(--fill-color);\n",
              "    animation:\n",
              "      spin 1s steps(1) infinite;\n",
              "  }\n",
              "\n",
              "  @keyframes spin {\n",
              "    0% {\n",
              "      border-color: transparent;\n",
              "      border-bottom-color: var(--fill-color);\n",
              "      border-left-color: var(--fill-color);\n",
              "    }\n",
              "    20% {\n",
              "      border-color: transparent;\n",
              "      border-left-color: var(--fill-color);\n",
              "      border-top-color: var(--fill-color);\n",
              "    }\n",
              "    30% {\n",
              "      border-color: transparent;\n",
              "      border-left-color: var(--fill-color);\n",
              "      border-top-color: var(--fill-color);\n",
              "      border-right-color: var(--fill-color);\n",
              "    }\n",
              "    40% {\n",
              "      border-color: transparent;\n",
              "      border-right-color: var(--fill-color);\n",
              "      border-top-color: var(--fill-color);\n",
              "    }\n",
              "    60% {\n",
              "      border-color: transparent;\n",
              "      border-right-color: var(--fill-color);\n",
              "    }\n",
              "    80% {\n",
              "      border-color: transparent;\n",
              "      border-right-color: var(--fill-color);\n",
              "      border-bottom-color: var(--fill-color);\n",
              "    }\n",
              "    90% {\n",
              "      border-color: transparent;\n",
              "      border-bottom-color: var(--fill-color);\n",
              "    }\n",
              "  }\n",
              "</style>\n",
              "\n",
              "  <script>\n",
              "    async function quickchart(key) {\n",
              "      const quickchartButtonEl =\n",
              "        document.querySelector('#' + key + ' button');\n",
              "      quickchartButtonEl.disabled = true;  // To prevent multiple clicks.\n",
              "      quickchartButtonEl.classList.add('colab-df-spinner');\n",
              "      try {\n",
              "        const charts = await google.colab.kernel.invokeFunction(\n",
              "            'suggestCharts', [key], {});\n",
              "      } catch (error) {\n",
              "        console.error('Error during call to suggestCharts:', error);\n",
              "      }\n",
              "      quickchartButtonEl.classList.remove('colab-df-spinner');\n",
              "      quickchartButtonEl.classList.add('colab-df-quickchart-complete');\n",
              "    }\n",
              "    (() => {\n",
              "      let quickchartButtonEl =\n",
              "        document.querySelector('#df-2d2d36af-803c-4f6c-9900-6f771c5fd62c button');\n",
              "      quickchartButtonEl.style.display =\n",
              "        google.colab.kernel.accessAllowed ? 'block' : 'none';\n",
              "    })();\n",
              "  </script>\n",
              "</div>\n",
              "\n",
              "    </div>\n",
              "  </div>\n"
            ]
          },
          "metadata": {},
          "execution_count": 363
        }
      ]
    },
    {
      "cell_type": "code",
      "source": [],
      "metadata": {
        "id": "geZdtLyHKs_B"
      },
      "execution_count": 363,
      "outputs": []
    }
  ]
}