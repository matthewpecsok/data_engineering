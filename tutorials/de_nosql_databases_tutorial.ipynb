{
  "nbformat": 4,
  "nbformat_minor": 0,
  "metadata": {
    "colab": {
      "provenance": [],
      "authorship_tag": "ABX9TyNiZCdS0Sxwax7EebNpaQ2q",
      "include_colab_link": true
    },
    "kernelspec": {
      "name": "python3",
      "display_name": "Python 3"
    },
    "language_info": {
      "name": "python"
    }
  },
  "cells": [
    {
      "cell_type": "markdown",
      "metadata": {
        "id": "view-in-github",
        "colab_type": "text"
      },
      "source": [
        "<a href=\"https://colab.research.google.com/github/matthewpecsok/data_engineering/blob/main/tutorials/de_nosql_databases_tutorial.ipynb\" target=\"_parent\"><img src=\"https://colab.research.google.com/assets/colab-badge.svg\" alt=\"Open In Colab\"/></a>"
      ]
    },
    {
      "cell_type": "markdown",
      "source": [
        "This tutorial will introduce you to  MongoDB a document database. MongoDB deals in data that is effictively a dictionary in Python or JSON data if it's a file. This document-oriented database is very different from the relational database designs we've seen thus far. We'll learn how to populate the database with data, how to query the database for documents we'd like to find, how to extract data for data engineering purposes."
      ],
      "metadata": {
        "id": "J76X04zOiK61"
      }
    },
    {
      "cell_type": "code",
      "source": [
        "!pip install faker\n",
        "!pip install pymongo"
      ],
      "metadata": {
        "colab": {
          "base_uri": "https://localhost:8080/"
        },
        "id": "IlImf-IoL61o",
        "outputId": "9ba36896-3448-4cbb-a0f2-205aa9e99ae1"
      },
      "execution_count": 1,
      "outputs": [
        {
          "output_type": "stream",
          "name": "stdout",
          "text": [
            "Collecting faker\n",
            "  Downloading Faker-22.2.0-py3-none-any.whl (1.7 MB)\n",
            "\u001b[2K     \u001b[90m━━━━━━━━━━━━━━━━━━━━━━━━━━━━━━━━━━━━━━━━\u001b[0m \u001b[32m1.7/1.7 MB\u001b[0m \u001b[31m13.8 MB/s\u001b[0m eta \u001b[36m0:00:00\u001b[0m\n",
            "\u001b[?25hRequirement already satisfied: python-dateutil>=2.4 in /usr/local/lib/python3.10/dist-packages (from faker) (2.8.2)\n",
            "Requirement already satisfied: six>=1.5 in /usr/local/lib/python3.10/dist-packages (from python-dateutil>=2.4->faker) (1.16.0)\n",
            "Installing collected packages: faker\n",
            "Successfully installed faker-22.2.0\n",
            "Collecting pymongo\n",
            "  Downloading pymongo-4.6.1-cp310-cp310-manylinux_2_17_x86_64.manylinux2014_x86_64.whl (677 kB)\n",
            "\u001b[2K     \u001b[90m━━━━━━━━━━━━━━━━━━━━━━━━━━━━━━━━━━━━━━━━\u001b[0m \u001b[32m677.1/677.1 kB\u001b[0m \u001b[31m3.9 MB/s\u001b[0m eta \u001b[36m0:00:00\u001b[0m\n",
            "\u001b[?25hCollecting dnspython<3.0.0,>=1.16.0 (from pymongo)\n",
            "  Downloading dnspython-2.4.2-py3-none-any.whl (300 kB)\n",
            "\u001b[2K     \u001b[90m━━━━━━━━━━━━━━━━━━━━━━━━━━━━━━━━━━━━━━━━\u001b[0m \u001b[32m300.4/300.4 kB\u001b[0m \u001b[31m8.6 MB/s\u001b[0m eta \u001b[36m0:00:00\u001b[0m\n",
            "\u001b[?25hInstalling collected packages: dnspython, pymongo\n",
            "Successfully installed dnspython-2.4.2 pymongo-4.6.1\n"
          ]
        }
      ]
    },
    {
      "cell_type": "code",
      "source": [
        "from faker import Faker\n",
        "from pymongo import MongoClient\n",
        "import random\n",
        "import datetime"
      ],
      "metadata": {
        "id": "mkYJ0TjXN1ue"
      },
      "execution_count": 2,
      "outputs": []
    },
    {
      "cell_type": "markdown",
      "source": [
        "# install MongoDB"
      ],
      "metadata": {
        "id": "S573xnvQa4Lw"
      }
    },
    {
      "cell_type": "code",
      "source": [
        "!apt-get install gnupg curl"
      ],
      "metadata": {
        "colab": {
          "base_uri": "https://localhost:8080/"
        },
        "id": "fza_3GJ0CiOw",
        "outputId": "148d2a88-de74-4d78-8a2c-3192be02f104"
      },
      "execution_count": 3,
      "outputs": [
        {
          "output_type": "stream",
          "name": "stdout",
          "text": [
            "Reading package lists... Done\n",
            "Building dependency tree... Done\n",
            "Reading state information... Done\n",
            "curl is already the newest version (7.81.0-1ubuntu1.15).\n",
            "gnupg is already the newest version (2.2.27-3ubuntu2.1).\n",
            "gnupg set to manually installed.\n",
            "0 upgraded, 0 newly installed, 0 to remove and 24 not upgraded.\n"
          ]
        }
      ]
    },
    {
      "cell_type": "code",
      "source": [
        "!curl -fsSL https://pgp.mongodb.com/server-7.0.asc | \\\n",
        "   sudo gpg -o /usr/share/keyrings/mongodb-server-7.0.gpg \\\n",
        "   --dearmor"
      ],
      "metadata": {
        "id": "LbAAWv_uCj_K"
      },
      "execution_count": 4,
      "outputs": []
    },
    {
      "cell_type": "code",
      "source": [
        "!echo \"deb [ arch=amd64,arm64 signed-by=/usr/share/keyrings/mongodb-server-7.0.gpg ] https://repo.mongodb.org/apt/ubuntu jammy/mongodb-org/7.0 multiverse\" | sudo tee /etc/apt/sources.list.d/mongodb-org-7.0.list"
      ],
      "metadata": {
        "colab": {
          "base_uri": "https://localhost:8080/"
        },
        "id": "hyCh0lXTCfVq",
        "outputId": "e1d6b33a-813a-4b0c-bf05-9a542678ee65"
      },
      "execution_count": 5,
      "outputs": [
        {
          "output_type": "stream",
          "name": "stdout",
          "text": [
            "deb [ arch=amd64,arm64 signed-by=/usr/share/keyrings/mongodb-server-7.0.gpg ] https://repo.mongodb.org/apt/ubuntu jammy/mongodb-org/7.0 multiverse\n"
          ]
        }
      ]
    },
    {
      "cell_type": "code",
      "source": [
        "!apt-get update"
      ],
      "metadata": {
        "colab": {
          "base_uri": "https://localhost:8080/"
        },
        "id": "gX-FniUdCmvX",
        "outputId": "44ab61d3-f894-47c5-9238-1e2cd54fe2f9"
      },
      "execution_count": 6,
      "outputs": [
        {
          "output_type": "stream",
          "name": "stdout",
          "text": [
            "\r0% [Working]\r            \rGet:1 https://cloud.r-project.org/bin/linux/ubuntu jammy-cran40/ InRelease [3,626 B]\n",
            "Hit:2 https://developer.download.nvidia.com/compute/cuda/repos/ubuntu2204/x86_64  InRelease\n",
            "Hit:3 http://archive.ubuntu.com/ubuntu jammy InRelease\n",
            "Ign:4 https://repo.mongodb.org/apt/ubuntu jammy/mongodb-org/7.0 InRelease\n",
            "Get:5 http://security.ubuntu.com/ubuntu jammy-security InRelease [110 kB]\n",
            "Get:6 http://archive.ubuntu.com/ubuntu jammy-updates InRelease [119 kB]\n",
            "Get:7 https://repo.mongodb.org/apt/ubuntu jammy/mongodb-org/7.0 Release [2,090 B]\n",
            "Get:8 https://repo.mongodb.org/apt/ubuntu jammy/mongodb-org/7.0 Release.gpg [866 B]\n",
            "Get:9 https://repo.mongodb.org/apt/ubuntu jammy/mongodb-org/7.0/multiverse amd64 Packages [22.9 kB]\n",
            "Hit:10 http://archive.ubuntu.com/ubuntu jammy-backports InRelease\n",
            "Get:11 http://archive.ubuntu.com/ubuntu jammy-updates/main amd64 Packages [1,617 kB]\n",
            "Hit:12 https://ppa.launchpadcontent.net/c2d4u.team/c2d4u4.0+/ubuntu jammy InRelease\n",
            "Get:13 https://repo.mongodb.org/apt/ubuntu jammy/mongodb-org/7.0/multiverse arm64 Packages [21.9 kB]\n",
            "Hit:14 https://ppa.launchpadcontent.net/deadsnakes/ppa/ubuntu jammy InRelease\n",
            "Hit:15 https://ppa.launchpadcontent.net/graphics-drivers/ppa/ubuntu jammy InRelease\n",
            "Hit:16 https://ppa.launchpadcontent.net/ubuntugis/ppa/ubuntu jammy InRelease\n",
            "Get:17 http://archive.ubuntu.com/ubuntu jammy-updates/universe amd64 Packages [1,309 kB]\n",
            "Fetched 3,207 kB in 3s (1,131 kB/s)\n",
            "Reading package lists... Done\n"
          ]
        }
      ]
    },
    {
      "cell_type": "code",
      "source": [
        "!apt-get install -y mongodb-org"
      ],
      "metadata": {
        "colab": {
          "base_uri": "https://localhost:8080/"
        },
        "id": "UT97RBGUCpd-",
        "outputId": "91182e92-591c-4383-8b32-bb4ff74f6af6"
      },
      "execution_count": 7,
      "outputs": [
        {
          "output_type": "stream",
          "name": "stdout",
          "text": [
            "Reading package lists... Done\n",
            "Building dependency tree... Done\n",
            "Reading state information... Done\n",
            "The following additional packages will be installed:\n",
            "  mongodb-database-tools mongodb-mongosh mongodb-org-database mongodb-org-database-tools-extra\n",
            "  mongodb-org-mongos mongodb-org-server mongodb-org-shell mongodb-org-tools\n",
            "The following NEW packages will be installed:\n",
            "  mongodb-database-tools mongodb-mongosh mongodb-org mongodb-org-database\n",
            "  mongodb-org-database-tools-extra mongodb-org-mongos mongodb-org-server mongodb-org-shell\n",
            "  mongodb-org-tools\n",
            "0 upgraded, 9 newly installed, 0 to remove and 24 not upgraded.\n",
            "Need to get 162 MB of archives.\n",
            "After this operation, 530 MB of additional disk space will be used.\n",
            "Get:1 https://repo.mongodb.org/apt/ubuntu jammy/mongodb-org/7.0/multiverse amd64 mongodb-database-tools amd64 100.9.4 [51.9 MB]\n",
            "Get:2 https://repo.mongodb.org/apt/ubuntu jammy/mongodb-org/7.0/multiverse amd64 mongodb-mongosh amd64 2.1.1 [47.9 MB]\n",
            "Get:3 https://repo.mongodb.org/apt/ubuntu jammy/mongodb-org/7.0/multiverse amd64 mongodb-org-shell amd64 7.0.5 [2,982 B]\n",
            "Get:4 https://repo.mongodb.org/apt/ubuntu jammy/mongodb-org/7.0/multiverse amd64 mongodb-org-server amd64 7.0.5 [36.5 MB]\n",
            "Get:5 https://repo.mongodb.org/apt/ubuntu jammy/mongodb-org/7.0/multiverse amd64 mongodb-org-mongos amd64 7.0.5 [25.4 MB]\n",
            "Get:6 https://repo.mongodb.org/apt/ubuntu jammy/mongodb-org/7.0/multiverse amd64 mongodb-org-database-tools-extra amd64 7.0.5 [7,762 B]\n",
            "Get:7 https://repo.mongodb.org/apt/ubuntu jammy/mongodb-org/7.0/multiverse amd64 mongodb-org-database amd64 7.0.5 [3,424 B]\n",
            "Get:8 https://repo.mongodb.org/apt/ubuntu jammy/mongodb-org/7.0/multiverse amd64 mongodb-org-tools amd64 7.0.5 [2,766 B]\n",
            "Get:9 https://repo.mongodb.org/apt/ubuntu jammy/mongodb-org/7.0/multiverse amd64 mongodb-org amd64 7.0.5 [2,800 B]\n",
            "Fetched 162 MB in 11s (15.4 MB/s)\n",
            "Selecting previously unselected package mongodb-database-tools.\n",
            "(Reading database ... 121654 files and directories currently installed.)\n",
            "Preparing to unpack .../0-mongodb-database-tools_100.9.4_amd64.deb ...\n",
            "Unpacking mongodb-database-tools (100.9.4) ...\n",
            "Selecting previously unselected package mongodb-mongosh.\n",
            "Preparing to unpack .../1-mongodb-mongosh_2.1.1_amd64.deb ...\n",
            "Unpacking mongodb-mongosh (2.1.1) ...\n",
            "Selecting previously unselected package mongodb-org-shell.\n",
            "Preparing to unpack .../2-mongodb-org-shell_7.0.5_amd64.deb ...\n",
            "Unpacking mongodb-org-shell (7.0.5) ...\n",
            "Selecting previously unselected package mongodb-org-server.\n",
            "Preparing to unpack .../3-mongodb-org-server_7.0.5_amd64.deb ...\n",
            "Unpacking mongodb-org-server (7.0.5) ...\n",
            "Selecting previously unselected package mongodb-org-mongos.\n",
            "Preparing to unpack .../4-mongodb-org-mongos_7.0.5_amd64.deb ...\n",
            "Unpacking mongodb-org-mongos (7.0.5) ...\n",
            "Selecting previously unselected package mongodb-org-database-tools-extra.\n",
            "Preparing to unpack .../5-mongodb-org-database-tools-extra_7.0.5_amd64.deb ...\n",
            "Unpacking mongodb-org-database-tools-extra (7.0.5) ...\n",
            "Selecting previously unselected package mongodb-org-database.\n",
            "Preparing to unpack .../6-mongodb-org-database_7.0.5_amd64.deb ...\n",
            "Unpacking mongodb-org-database (7.0.5) ...\n",
            "Selecting previously unselected package mongodb-org-tools.\n",
            "Preparing to unpack .../7-mongodb-org-tools_7.0.5_amd64.deb ...\n",
            "Unpacking mongodb-org-tools (7.0.5) ...\n",
            "Selecting previously unselected package mongodb-org.\n",
            "Preparing to unpack .../8-mongodb-org_7.0.5_amd64.deb ...\n",
            "Unpacking mongodb-org (7.0.5) ...\n",
            "Setting up mongodb-mongosh (2.1.1) ...\n",
            "Setting up mongodb-org-server (7.0.5) ...\n",
            "Adding system user `mongodb' (UID 104) ...\n",
            "Adding new user `mongodb' (UID 104) with group `nogroup' ...\n",
            "Not creating home directory `/home/mongodb'.\n",
            "Adding group `mongodb' (GID 107) ...\n",
            "Done.\n",
            "Adding user `mongodb' to group `mongodb' ...\n",
            "Adding user mongodb to group mongodb\n",
            "Done.\n",
            "System has not been booted with systemd as init system (PID 1). Can't operate.\n",
            "Failed to connect to bus: Host is down\n",
            "Setting up mongodb-org-shell (7.0.5) ...\n",
            "Setting up mongodb-database-tools (100.9.4) ...\n",
            "Setting up mongodb-org-mongos (7.0.5) ...\n",
            "Setting up mongodb-org-database-tools-extra (7.0.5) ...\n",
            "Setting up mongodb-org-database (7.0.5) ...\n",
            "Setting up mongodb-org-tools (7.0.5) ...\n",
            "Setting up mongodb-org (7.0.5) ...\n",
            "Processing triggers for man-db (2.10.2-1) ...\n"
          ]
        }
      ]
    },
    {
      "cell_type": "code",
      "source": [
        "!mkdir /data\n",
        "!mkdir /data/db"
      ],
      "metadata": {
        "id": "GwN3RxgzDZ_8"
      },
      "execution_count": 11,
      "outputs": []
    },
    {
      "cell_type": "code",
      "source": [
        "import subprocess\n",
        "subprocess.Popen([\"mongod\"])"
      ],
      "metadata": {
        "colab": {
          "base_uri": "https://localhost:8080/"
        },
        "id": "8pZSN7_bCPdB",
        "outputId": "a78fee9f-5588-4412-fc7d-4107acbf50d9"
      },
      "execution_count": 12,
      "outputs": [
        {
          "output_type": "execute_result",
          "data": {
            "text/plain": [
              "<Popen: returncode: None args: ['mongod']>"
            ]
          },
          "metadata": {},
          "execution_count": 12
        }
      ]
    },
    {
      "cell_type": "code",
      "source": [
        "from pymongo import MongoClient\n",
        "client = MongoClient()\n",
        "client.list_database_names() # ['admin', 'local']"
      ],
      "metadata": {
        "colab": {
          "base_uri": "https://localhost:8080/"
        },
        "id": "E68Zpj-Hyj-O",
        "outputId": "048ae67e-63b3-45cb-ef65-4a99387df7f8"
      },
      "execution_count": 13,
      "outputs": [
        {
          "output_type": "execute_result",
          "data": {
            "text/plain": [
              "['admin', 'config', 'local']"
            ]
          },
          "metadata": {},
          "execution_count": 13
        }
      ]
    },
    {
      "cell_type": "markdown",
      "source": [
        "## create the db\n",
        "\n",
        "name our database"
      ],
      "metadata": {
        "id": "7ZgIUYCCi8GQ"
      }
    },
    {
      "cell_type": "code",
      "source": [
        "# Access a specific database (replace 'your_database' with the desired database name)\n",
        "db = client['cloud_purchase_db']"
      ],
      "metadata": {
        "id": "38hNStS5xV1A"
      },
      "execution_count": 14,
      "outputs": []
    },
    {
      "cell_type": "markdown",
      "source": [
        "## Set up Collections"
      ],
      "metadata": {
        "id": "pVaWthrNi9Vg"
      }
    },
    {
      "cell_type": "markdown",
      "source": [
        "drop the collections in case they already exist so we don't duplicate data"
      ],
      "metadata": {
        "id": "mkuAVN9UjFPU"
      }
    },
    {
      "cell_type": "code",
      "source": [
        "db.drop_collection('customers')\n",
        "db.drop_collection('products')\n",
        "db.drop_collection('orders')"
      ],
      "metadata": {
        "colab": {
          "base_uri": "https://localhost:8080/"
        },
        "id": "4-wKPCwxxXkh",
        "outputId": "3e25f0f7-bcfb-474c-9798-8578ac267004"
      },
      "execution_count": 15,
      "outputs": [
        {
          "output_type": "execute_result",
          "data": {
            "text/plain": [
              "{'ok': 1.0}"
            ]
          },
          "metadata": {},
          "execution_count": 15
        }
      ]
    },
    {
      "cell_type": "markdown",
      "source": [
        "do we have any collections?"
      ],
      "metadata": {
        "id": "XDOGvMNKjI_H"
      }
    },
    {
      "cell_type": "markdown",
      "source": [
        "## list collections"
      ],
      "metadata": {
        "id": "HakKmGYfjLfk"
      }
    },
    {
      "cell_type": "code",
      "source": [
        "db.list_collection_names()"
      ],
      "metadata": {
        "colab": {
          "base_uri": "https://localhost:8080/"
        },
        "id": "tAbWgjJ2Okhh",
        "outputId": "8b884bd8-8298-4ee4-8359-5bda20952cae"
      },
      "execution_count": 16,
      "outputs": [
        {
          "output_type": "execute_result",
          "data": {
            "text/plain": [
              "[]"
            ]
          },
          "metadata": {},
          "execution_count": 16
        }
      ]
    },
    {
      "cell_type": "code",
      "source": [
        "# Create Faker instance\n",
        "fake = Faker()"
      ],
      "metadata": {
        "id": "Zu7bYyF5jPry"
      },
      "execution_count": 17,
      "outputs": []
    },
    {
      "cell_type": "markdown",
      "source": [
        "# Create the data"
      ],
      "metadata": {
        "id": "8Xl4MJ7zbqxw"
      }
    },
    {
      "cell_type": "markdown",
      "source": [
        "## create customer data"
      ],
      "metadata": {
        "id": "zXu6lgeCbzk_"
      }
    },
    {
      "cell_type": "code",
      "source": [
        "# Generate customer orders\n",
        "def gen_orders():\n",
        "\n",
        "  orders = []\n",
        "  for i in range(1,random.randint(1, 5)):\n",
        "\n",
        "      productid = random.randint(1, 10)\n",
        "      units = random.randint(10000, 1000000)\n",
        "      if random.random() < 0.1:\n",
        "          units *= 1000\n",
        "      purchase_date = fake.date_between(start_date='-1y', end_date='today')\n",
        "      purchase_date = datetime.datetime.combine(purchase_date, datetime.datetime.min.time())\n",
        "\n",
        "      order = {\n",
        "          'productid': productid,\n",
        "          'units': units,\n",
        "          'purchase_date': purchase_date\n",
        "      }\n",
        "\n",
        "      orders.append(order)\n",
        "\n",
        "  return orders"
      ],
      "metadata": {
        "id": "TTdoT6P5j4_o"
      },
      "execution_count": 18,
      "outputs": []
    },
    {
      "cell_type": "code",
      "source": [
        "# Generate customers\n",
        "customers = []\n",
        "for i in range(100):\n",
        "    customer = {\n",
        "        'customerid': i+1,\n",
        "        'name': fake.name(),\n",
        "        'email': fake.email(),\n",
        "        'phone': [fake.phone_number(),fake.phone_number(),fake.phone_number()],\n",
        "        'orders' : gen_orders()\n",
        "    }\n",
        "    customers.append(customer)"
      ],
      "metadata": {
        "id": "YjkdgXx3jT_i"
      },
      "execution_count": 19,
      "outputs": []
    },
    {
      "cell_type": "code",
      "source": [
        "customers[0:3]"
      ],
      "metadata": {
        "colab": {
          "base_uri": "https://localhost:8080/"
        },
        "id": "8fFGvhxqFLHq",
        "outputId": "1ab77ac1-f124-4d1f-8bc5-be22f83f83a6"
      },
      "execution_count": 20,
      "outputs": [
        {
          "output_type": "execute_result",
          "data": {
            "text/plain": [
              "[{'customerid': 1,\n",
              "  'name': 'Rhonda Fox',\n",
              "  'email': 'megangarcia@example.net',\n",
              "  'phone': ['898-529-5735x4517', '432-289-0539x82060', '225.976.0238x3825'],\n",
              "  'orders': [{'productid': 4,\n",
              "    'units': 409452,\n",
              "    'purchase_date': datetime.datetime(2023, 12, 19, 0, 0)},\n",
              "   {'productid': 10,\n",
              "    'units': 11528,\n",
              "    'purchase_date': datetime.datetime(2023, 10, 22, 0, 0)}]},\n",
              " {'customerid': 2,\n",
              "  'name': 'Jill Moore',\n",
              "  'email': 'tammy52@example.org',\n",
              "  'phone': ['309.224.5458', '918-741-9946x793', '4567089928'],\n",
              "  'orders': [{'productid': 3,\n",
              "    'units': 521791000,\n",
              "    'purchase_date': datetime.datetime(2023, 8, 11, 0, 0)}]},\n",
              " {'customerid': 3,\n",
              "  'name': 'Margaret Mccoy',\n",
              "  'email': 'kathy84@example.net',\n",
              "  'phone': ['(926)614-6532x7747', '(597)509-0033', '863.615.4098x3859'],\n",
              "  'orders': [{'productid': 9,\n",
              "    'units': 377528,\n",
              "    'purchase_date': datetime.datetime(2023, 11, 30, 0, 0)},\n",
              "   {'productid': 6,\n",
              "    'units': 440201,\n",
              "    'purchase_date': datetime.datetime(2023, 5, 29, 0, 0)}]}]"
            ]
          },
          "metadata": {},
          "execution_count": 20
        }
      ]
    },
    {
      "cell_type": "code",
      "source": [
        "# Insert customers into MongoDB\n",
        "db.customers.insert_many(customers)"
      ],
      "metadata": {
        "colab": {
          "base_uri": "https://localhost:8080/"
        },
        "id": "y6fmYt1UjVPu",
        "outputId": "d9d82c15-d581-483a-e175-7641941081c6"
      },
      "execution_count": 21,
      "outputs": [
        {
          "output_type": "execute_result",
          "data": {
            "text/plain": [
              "InsertManyResult([ObjectId('65a1ce664de10d2f8cecb3dc'), ObjectId('65a1ce664de10d2f8cecb3dd'), ObjectId('65a1ce664de10d2f8cecb3de'), ObjectId('65a1ce664de10d2f8cecb3df'), ObjectId('65a1ce664de10d2f8cecb3e0'), ObjectId('65a1ce664de10d2f8cecb3e1'), ObjectId('65a1ce664de10d2f8cecb3e2'), ObjectId('65a1ce664de10d2f8cecb3e3'), ObjectId('65a1ce664de10d2f8cecb3e4'), ObjectId('65a1ce664de10d2f8cecb3e5'), ObjectId('65a1ce664de10d2f8cecb3e6'), ObjectId('65a1ce664de10d2f8cecb3e7'), ObjectId('65a1ce664de10d2f8cecb3e8'), ObjectId('65a1ce664de10d2f8cecb3e9'), ObjectId('65a1ce664de10d2f8cecb3ea'), ObjectId('65a1ce664de10d2f8cecb3eb'), ObjectId('65a1ce664de10d2f8cecb3ec'), ObjectId('65a1ce664de10d2f8cecb3ed'), ObjectId('65a1ce664de10d2f8cecb3ee'), ObjectId('65a1ce664de10d2f8cecb3ef'), ObjectId('65a1ce664de10d2f8cecb3f0'), ObjectId('65a1ce664de10d2f8cecb3f1'), ObjectId('65a1ce664de10d2f8cecb3f2'), ObjectId('65a1ce664de10d2f8cecb3f3'), ObjectId('65a1ce664de10d2f8cecb3f4'), ObjectId('65a1ce664de10d2f8cecb3f5'), ObjectId('65a1ce664de10d2f8cecb3f6'), ObjectId('65a1ce664de10d2f8cecb3f7'), ObjectId('65a1ce664de10d2f8cecb3f8'), ObjectId('65a1ce664de10d2f8cecb3f9'), ObjectId('65a1ce664de10d2f8cecb3fa'), ObjectId('65a1ce664de10d2f8cecb3fb'), ObjectId('65a1ce664de10d2f8cecb3fc'), ObjectId('65a1ce664de10d2f8cecb3fd'), ObjectId('65a1ce664de10d2f8cecb3fe'), ObjectId('65a1ce664de10d2f8cecb3ff'), ObjectId('65a1ce664de10d2f8cecb400'), ObjectId('65a1ce664de10d2f8cecb401'), ObjectId('65a1ce664de10d2f8cecb402'), ObjectId('65a1ce664de10d2f8cecb403'), ObjectId('65a1ce664de10d2f8cecb404'), ObjectId('65a1ce664de10d2f8cecb405'), ObjectId('65a1ce664de10d2f8cecb406'), ObjectId('65a1ce664de10d2f8cecb407'), ObjectId('65a1ce664de10d2f8cecb408'), ObjectId('65a1ce664de10d2f8cecb409'), ObjectId('65a1ce664de10d2f8cecb40a'), ObjectId('65a1ce664de10d2f8cecb40b'), ObjectId('65a1ce664de10d2f8cecb40c'), ObjectId('65a1ce664de10d2f8cecb40d'), ObjectId('65a1ce664de10d2f8cecb40e'), ObjectId('65a1ce664de10d2f8cecb40f'), ObjectId('65a1ce664de10d2f8cecb410'), ObjectId('65a1ce664de10d2f8cecb411'), ObjectId('65a1ce664de10d2f8cecb412'), ObjectId('65a1ce664de10d2f8cecb413'), ObjectId('65a1ce664de10d2f8cecb414'), ObjectId('65a1ce664de10d2f8cecb415'), ObjectId('65a1ce664de10d2f8cecb416'), ObjectId('65a1ce664de10d2f8cecb417'), ObjectId('65a1ce664de10d2f8cecb418'), ObjectId('65a1ce664de10d2f8cecb419'), ObjectId('65a1ce664de10d2f8cecb41a'), ObjectId('65a1ce664de10d2f8cecb41b'), ObjectId('65a1ce664de10d2f8cecb41c'), ObjectId('65a1ce664de10d2f8cecb41d'), ObjectId('65a1ce664de10d2f8cecb41e'), ObjectId('65a1ce664de10d2f8cecb41f'), ObjectId('65a1ce664de10d2f8cecb420'), ObjectId('65a1ce664de10d2f8cecb421'), ObjectId('65a1ce664de10d2f8cecb422'), ObjectId('65a1ce664de10d2f8cecb423'), ObjectId('65a1ce664de10d2f8cecb424'), ObjectId('65a1ce664de10d2f8cecb425'), ObjectId('65a1ce664de10d2f8cecb426'), ObjectId('65a1ce664de10d2f8cecb427'), ObjectId('65a1ce664de10d2f8cecb428'), ObjectId('65a1ce664de10d2f8cecb429'), ObjectId('65a1ce664de10d2f8cecb42a'), ObjectId('65a1ce664de10d2f8cecb42b'), ObjectId('65a1ce664de10d2f8cecb42c'), ObjectId('65a1ce664de10d2f8cecb42d'), ObjectId('65a1ce664de10d2f8cecb42e'), ObjectId('65a1ce664de10d2f8cecb42f'), ObjectId('65a1ce664de10d2f8cecb430'), ObjectId('65a1ce664de10d2f8cecb431'), ObjectId('65a1ce664de10d2f8cecb432'), ObjectId('65a1ce664de10d2f8cecb433'), ObjectId('65a1ce664de10d2f8cecb434'), ObjectId('65a1ce664de10d2f8cecb435'), ObjectId('65a1ce664de10d2f8cecb436'), ObjectId('65a1ce664de10d2f8cecb437'), ObjectId('65a1ce664de10d2f8cecb438'), ObjectId('65a1ce664de10d2f8cecb439'), ObjectId('65a1ce664de10d2f8cecb43a'), ObjectId('65a1ce664de10d2f8cecb43b'), ObjectId('65a1ce664de10d2f8cecb43c'), ObjectId('65a1ce664de10d2f8cecb43d'), ObjectId('65a1ce664de10d2f8cecb43e'), ObjectId('65a1ce664de10d2f8cecb43f')], acknowledged=True)"
            ]
          },
          "metadata": {},
          "execution_count": 21
        }
      ]
    },
    {
      "cell_type": "markdown",
      "source": [
        "## create products data"
      ],
      "metadata": {
        "id": "hcaXjvZlb121"
      }
    },
    {
      "cell_type": "code",
      "source": [
        "# Generate products\n",
        "products = []\n",
        "for i in range(10):\n",
        "    product = {\n",
        "        'productid': i+1,\n",
        "        'category': random.choice(['Electronics', 'Clothing', 'Books', 'Home']),\n",
        "        'price': random.randint(1, 100)\n",
        "    }\n",
        "    products.append(product)"
      ],
      "metadata": {
        "id": "CxwNS24fjWgh"
      },
      "execution_count": 22,
      "outputs": []
    },
    {
      "cell_type": "code",
      "source": [
        "# Insert products into MongoDB\n",
        "db.products.insert_many(products)"
      ],
      "metadata": {
        "colab": {
          "base_uri": "https://localhost:8080/"
        },
        "id": "Rmyiye1HjXee",
        "outputId": "29037677-cd8d-4906-c35a-987a41b83237"
      },
      "execution_count": 23,
      "outputs": [
        {
          "output_type": "execute_result",
          "data": {
            "text/plain": [
              "InsertManyResult([ObjectId('65a1ce6a4de10d2f8cecb440'), ObjectId('65a1ce6a4de10d2f8cecb441'), ObjectId('65a1ce6a4de10d2f8cecb442'), ObjectId('65a1ce6a4de10d2f8cecb443'), ObjectId('65a1ce6a4de10d2f8cecb444'), ObjectId('65a1ce6a4de10d2f8cecb445'), ObjectId('65a1ce6a4de10d2f8cecb446'), ObjectId('65a1ce6a4de10d2f8cecb447'), ObjectId('65a1ce6a4de10d2f8cecb448'), ObjectId('65a1ce6a4de10d2f8cecb449')], acknowledged=True)"
            ]
          },
          "metadata": {},
          "execution_count": 23
        }
      ]
    },
    {
      "cell_type": "code",
      "source": [
        "db.list_collection_names() # list collections"
      ],
      "metadata": {
        "colab": {
          "base_uri": "https://localhost:8080/"
        },
        "id": "pGJp7-xlPBHo",
        "outputId": "0c55587e-d990-4d8d-ee3d-1fecb5605824"
      },
      "execution_count": 24,
      "outputs": [
        {
          "output_type": "execute_result",
          "data": {
            "text/plain": [
              "['products', 'customers']"
            ]
          },
          "metadata": {},
          "execution_count": 24
        }
      ]
    },
    {
      "cell_type": "markdown",
      "source": [
        "loop through collections and count the number of documents"
      ],
      "metadata": {
        "id": "Kh7A9GgHcHj-"
      }
    },
    {
      "cell_type": "code",
      "source": [
        "for collection_name in db.list_collection_names():\n",
        "  collection = db.get_collection(collection_name)\n",
        "  print(f'{collection_name}:{collection.count_documents({})}')"
      ],
      "metadata": {
        "colab": {
          "base_uri": "https://localhost:8080/"
        },
        "id": "HjkD5qDpPBWw",
        "outputId": "7eda4d97-8678-4eb6-9517-f5eb84a30ead"
      },
      "execution_count": 25,
      "outputs": [
        {
          "output_type": "stream",
          "name": "stdout",
          "text": [
            "products:10\n",
            "customers:100\n"
          ]
        }
      ]
    },
    {
      "cell_type": "markdown",
      "source": [
        "# Querying\n",
        "\n"
      ],
      "metadata": {
        "id": "T7r6ecU8Zpaj"
      }
    },
    {
      "cell_type": "markdown",
      "source": [
        "## Customers\n",
        "\n",
        "Find all customers."
      ],
      "metadata": {
        "id": "In4J09kQZsH-"
      }
    },
    {
      "cell_type": "code",
      "source": [
        "for document in db.customers.find({}):\n",
        "  print(document)"
      ],
      "metadata": {
        "colab": {
          "base_uri": "https://localhost:8080/"
        },
        "id": "JYT5n-vEPFDT",
        "outputId": "495c8946-d4cf-4add-dbf2-f30b181f8d9f"
      },
      "execution_count": 26,
      "outputs": [
        {
          "output_type": "stream",
          "name": "stdout",
          "text": [
            "{'_id': ObjectId('65a1ce664de10d2f8cecb3dc'), 'customerid': 1, 'name': 'Rhonda Fox', 'email': 'megangarcia@example.net', 'phone': ['898-529-5735x4517', '432-289-0539x82060', '225.976.0238x3825'], 'orders': [{'productid': 4, 'units': 409452, 'purchase_date': datetime.datetime(2023, 12, 19, 0, 0)}, {'productid': 10, 'units': 11528, 'purchase_date': datetime.datetime(2023, 10, 22, 0, 0)}]}\n",
            "{'_id': ObjectId('65a1ce664de10d2f8cecb3dd'), 'customerid': 2, 'name': 'Jill Moore', 'email': 'tammy52@example.org', 'phone': ['309.224.5458', '918-741-9946x793', '4567089928'], 'orders': [{'productid': 3, 'units': 521791000, 'purchase_date': datetime.datetime(2023, 8, 11, 0, 0)}]}\n",
            "{'_id': ObjectId('65a1ce664de10d2f8cecb3de'), 'customerid': 3, 'name': 'Margaret Mccoy', 'email': 'kathy84@example.net', 'phone': ['(926)614-6532x7747', '(597)509-0033', '863.615.4098x3859'], 'orders': [{'productid': 9, 'units': 377528, 'purchase_date': datetime.datetime(2023, 11, 30, 0, 0)}, {'productid': 6, 'units': 440201, 'purchase_date': datetime.datetime(2023, 5, 29, 0, 0)}]}\n",
            "{'_id': ObjectId('65a1ce664de10d2f8cecb3df'), 'customerid': 4, 'name': 'Jordan Miller', 'email': 'leahdavis@example.com', 'phone': ['+1-631-634-4223x41614', '4113749650', '001-756-691-1886x966'], 'orders': [{'productid': 9, 'units': 127361, 'purchase_date': datetime.datetime(2023, 5, 29, 0, 0)}, {'productid': 5, 'units': 285187, 'purchase_date': datetime.datetime(2023, 9, 9, 0, 0)}, {'productid': 5, 'units': 600035, 'purchase_date': datetime.datetime(2023, 11, 3, 0, 0)}]}\n",
            "{'_id': ObjectId('65a1ce664de10d2f8cecb3e0'), 'customerid': 5, 'name': 'Ryan Flores', 'email': 'neil13@example.com', 'phone': ['401.366.0477', '467.211.4804x9941', '+1-712-423-6618x7212'], 'orders': []}\n",
            "{'_id': ObjectId('65a1ce664de10d2f8cecb3e1'), 'customerid': 6, 'name': 'Blake Johnson', 'email': 'leonard08@example.com', 'phone': ['(739)801-3267', '258.710.9197x601', '001-768-648-8306x55901'], 'orders': [{'productid': 4, 'units': 207800, 'purchase_date': datetime.datetime(2023, 4, 26, 0, 0)}, {'productid': 6, 'units': 429340, 'purchase_date': datetime.datetime(2023, 1, 14, 0, 0)}, {'productid': 2, 'units': 372743, 'purchase_date': datetime.datetime(2023, 3, 25, 0, 0)}, {'productid': 5, 'units': 781216, 'purchase_date': datetime.datetime(2023, 12, 18, 0, 0)}]}\n",
            "{'_id': ObjectId('65a1ce664de10d2f8cecb3e2'), 'customerid': 7, 'name': 'Dustin Barnes', 'email': 'vdavidson@example.com', 'phone': ['856.613.5882', '7157780893', '466-433-7290x51295'], 'orders': [{'productid': 4, 'units': 217438, 'purchase_date': datetime.datetime(2024, 1, 11, 0, 0)}, {'productid': 7, 'units': 293000, 'purchase_date': datetime.datetime(2023, 11, 10, 0, 0)}]}\n",
            "{'_id': ObjectId('65a1ce664de10d2f8cecb3e3'), 'customerid': 8, 'name': 'James Kim', 'email': 'dannyjohnson@example.org', 'phone': ['001-487-491-5197x35093', '880-263-7247x84549', '(810)424-5384x107'], 'orders': [{'productid': 4, 'units': 716777, 'purchase_date': datetime.datetime(2023, 8, 16, 0, 0)}]}\n",
            "{'_id': ObjectId('65a1ce664de10d2f8cecb3e4'), 'customerid': 9, 'name': 'Jason Carrillo', 'email': 'rcannon@example.com', 'phone': ['+1-916-295-6896x304', '971-969-9860x72956', '(806)886-7050'], 'orders': []}\n",
            "{'_id': ObjectId('65a1ce664de10d2f8cecb3e5'), 'customerid': 10, 'name': 'Rhonda Dyer', 'email': 'browngerald@example.com', 'phone': ['(505)931-0589x88873', '740-826-9581', '9714241334'], 'orders': []}\n",
            "{'_id': ObjectId('65a1ce664de10d2f8cecb3e6'), 'customerid': 11, 'name': 'Joseph Lamb', 'email': 'harriscandice@example.net', 'phone': ['001-254-501-5638x235', '875-665-6973x918', '+1-990-251-1952'], 'orders': [{'productid': 10, 'units': 507440, 'purchase_date': datetime.datetime(2023, 9, 3, 0, 0)}]}\n",
            "{'_id': ObjectId('65a1ce664de10d2f8cecb3e7'), 'customerid': 12, 'name': 'Kristy Bradley', 'email': 'stacey28@example.org', 'phone': ['899-522-4316x993', '001-395-942-4100x275', '926-607-9852'], 'orders': [{'productid': 8, 'units': 95600, 'purchase_date': datetime.datetime(2023, 7, 6, 0, 0)}, {'productid': 5, 'units': 803295, 'purchase_date': datetime.datetime(2023, 12, 30, 0, 0)}, {'productid': 8, 'units': 699919, 'purchase_date': datetime.datetime(2023, 1, 14, 0, 0)}]}\n",
            "{'_id': ObjectId('65a1ce664de10d2f8cecb3e8'), 'customerid': 13, 'name': 'Spencer Olson Jr.', 'email': 'bjimenez@example.net', 'phone': ['605.299.9230x2217', '001-600-205-5387x11760', '(663)789-8026x406'], 'orders': [{'productid': 7, 'units': 493457, 'purchase_date': datetime.datetime(2023, 11, 14, 0, 0)}, {'productid': 5, 'units': 347267000, 'purchase_date': datetime.datetime(2023, 7, 7, 0, 0)}]}\n",
            "{'_id': ObjectId('65a1ce664de10d2f8cecb3e9'), 'customerid': 14, 'name': 'Shawn Fisher', 'email': 'hernandezbrandon@example.org', 'phone': ['3956241087', '556-510-3231x15580', '647-326-7087'], 'orders': [{'productid': 10, 'units': 832751000, 'purchase_date': datetime.datetime(2023, 12, 31, 0, 0)}, {'productid': 5, 'units': 467953, 'purchase_date': datetime.datetime(2023, 5, 22, 0, 0)}, {'productid': 8, 'units': 929137, 'purchase_date': datetime.datetime(2023, 7, 8, 0, 0)}]}\n",
            "{'_id': ObjectId('65a1ce664de10d2f8cecb3ea'), 'customerid': 15, 'name': 'Sharon Obrien', 'email': 'gregory42@example.net', 'phone': ['456-697-2440x4261', '862.651.5283x1174', '001-427-264-5058'], 'orders': [{'productid': 8, 'units': 847771, 'purchase_date': datetime.datetime(2023, 7, 3, 0, 0)}, {'productid': 1, 'units': 848835, 'purchase_date': datetime.datetime(2023, 2, 10, 0, 0)}, {'productid': 2, 'units': 516620, 'purchase_date': datetime.datetime(2023, 4, 9, 0, 0)}]}\n",
            "{'_id': ObjectId('65a1ce664de10d2f8cecb3eb'), 'customerid': 16, 'name': 'Cody Henderson', 'email': 'gregoryblackwell@example.net', 'phone': ['(872)801-7664x2583', '951-921-5610', '(624)616-2221'], 'orders': [{'productid': 10, 'units': 843791, 'purchase_date': datetime.datetime(2023, 4, 5, 0, 0)}, {'productid': 7, 'units': 698559, 'purchase_date': datetime.datetime(2023, 8, 20, 0, 0)}, {'productid': 7, 'units': 889756, 'purchase_date': datetime.datetime(2023, 7, 11, 0, 0)}]}\n",
            "{'_id': ObjectId('65a1ce664de10d2f8cecb3ec'), 'customerid': 17, 'name': 'Charles Wright', 'email': 'xjones@example.org', 'phone': ['(640)575-9457x50698', '920.703.9981', '(237)629-4748x5198'], 'orders': [{'productid': 9, 'units': 804158000, 'purchase_date': datetime.datetime(2023, 8, 5, 0, 0)}, {'productid': 9, 'units': 719333, 'purchase_date': datetime.datetime(2023, 6, 26, 0, 0)}, {'productid': 9, 'units': 109165, 'purchase_date': datetime.datetime(2023, 10, 8, 0, 0)}]}\n",
            "{'_id': ObjectId('65a1ce664de10d2f8cecb3ed'), 'customerid': 18, 'name': 'Jack Pham', 'email': 'amueller@example.org', 'phone': ['733.744.8955', '816-412-6604x748', '811-944-2669x236'], 'orders': []}\n",
            "{'_id': ObjectId('65a1ce664de10d2f8cecb3ee'), 'customerid': 19, 'name': 'Tabitha Wilson', 'email': 'jeremygonzalez@example.org', 'phone': ['(273)976-2858', '+1-352-756-6179x48491', '500.582.7899x761'], 'orders': []}\n",
            "{'_id': ObjectId('65a1ce664de10d2f8cecb3ef'), 'customerid': 20, 'name': 'Terry Lee', 'email': 'danielmartin@example.org', 'phone': ['403-645-3176', '716-295-2489', '+1-433-562-3827x88773'], 'orders': [{'productid': 4, 'units': 415836, 'purchase_date': datetime.datetime(2023, 7, 26, 0, 0)}, {'productid': 2, 'units': 537610, 'purchase_date': datetime.datetime(2023, 11, 23, 0, 0)}]}\n",
            "{'_id': ObjectId('65a1ce664de10d2f8cecb3f0'), 'customerid': 21, 'name': 'Jamie Jackson', 'email': 'cnelson@example.net', 'phone': ['3756105405', '(854)805-4528', '001-845-738-4550x65615'], 'orders': []}\n",
            "{'_id': ObjectId('65a1ce664de10d2f8cecb3f1'), 'customerid': 22, 'name': 'Jenna Warner', 'email': 'lthompson@example.com', 'phone': ['001-919-814-1725x314', '(751)948-1405x246', '340-203-9736x8302'], 'orders': [{'productid': 1, 'units': 498466, 'purchase_date': datetime.datetime(2023, 8, 6, 0, 0)}]}\n",
            "{'_id': ObjectId('65a1ce664de10d2f8cecb3f2'), 'customerid': 23, 'name': 'Christopher Patel', 'email': 'stephen70@example.net', 'phone': ['379-791-2891', '+1-392-931-2871x6320', '891-405-0573x154'], 'orders': [{'productid': 9, 'units': 70346, 'purchase_date': datetime.datetime(2023, 3, 11, 0, 0)}, {'productid': 6, 'units': 218357, 'purchase_date': datetime.datetime(2023, 11, 12, 0, 0)}, {'productid': 4, 'units': 952731, 'purchase_date': datetime.datetime(2023, 5, 1, 0, 0)}, {'productid': 7, 'units': 604032000, 'purchase_date': datetime.datetime(2023, 8, 16, 0, 0)}]}\n",
            "{'_id': ObjectId('65a1ce664de10d2f8cecb3f3'), 'customerid': 24, 'name': 'Jennifer Martin', 'email': 'frankmark@example.net', 'phone': ['(799)830-4308x505', '+1-500-536-9762', '803.705.7721x300'], 'orders': [{'productid': 2, 'units': 432465, 'purchase_date': datetime.datetime(2023, 5, 29, 0, 0)}, {'productid': 7, 'units': 299439, 'purchase_date': datetime.datetime(2023, 7, 24, 0, 0)}, {'productid': 8, 'units': 766140, 'purchase_date': datetime.datetime(2023, 11, 6, 0, 0)}, {'productid': 9, 'units': 528126000, 'purchase_date': datetime.datetime(2023, 4, 22, 0, 0)}]}\n",
            "{'_id': ObjectId('65a1ce664de10d2f8cecb3f4'), 'customerid': 25, 'name': 'Donna Myers', 'email': 'michael22@example.org', 'phone': ['(394)646-6439x4218', '001-347-675-9117', '(652)522-0091x5198'], 'orders': [{'productid': 9, 'units': 436562, 'purchase_date': datetime.datetime(2023, 1, 15, 0, 0)}, {'productid': 6, 'units': 710133000, 'purchase_date': datetime.datetime(2023, 3, 5, 0, 0)}]}\n",
            "{'_id': ObjectId('65a1ce664de10d2f8cecb3f5'), 'customerid': 26, 'name': 'Jessica Johnson', 'email': 'khickman@example.org', 'phone': ['001-801-216-1825', '2546016040', '001-905-405-1722x891'], 'orders': []}\n",
            "{'_id': ObjectId('65a1ce664de10d2f8cecb3f6'), 'customerid': 27, 'name': 'Alexander Tucker', 'email': 'emilyflynn@example.com', 'phone': ['358.916.8115x7179', '001-376-205-1530x204', '+1-396-446-1951x188'], 'orders': [{'productid': 9, 'units': 10298, 'purchase_date': datetime.datetime(2023, 9, 30, 0, 0)}, {'productid': 2, 'units': 379573, 'purchase_date': datetime.datetime(2023, 5, 16, 0, 0)}, {'productid': 8, 'units': 752509, 'purchase_date': datetime.datetime(2023, 3, 8, 0, 0)}, {'productid': 7, 'units': 104020000, 'purchase_date': datetime.datetime(2023, 5, 13, 0, 0)}]}\n",
            "{'_id': ObjectId('65a1ce664de10d2f8cecb3f7'), 'customerid': 28, 'name': 'Travis Alexander', 'email': 'shane93@example.net', 'phone': ['+1-437-684-7127x1721', '(236)868-2162x23624', '+1-210-431-3207x326'], 'orders': []}\n",
            "{'_id': ObjectId('65a1ce664de10d2f8cecb3f8'), 'customerid': 29, 'name': 'Amber Mcdonald', 'email': 'amitchell@example.com', 'phone': ['2965525731', '882.540.6431', '787-463-2832'], 'orders': [{'productid': 1, 'units': 633280, 'purchase_date': datetime.datetime(2023, 9, 25, 0, 0)}, {'productid': 10, 'units': 751244, 'purchase_date': datetime.datetime(2023, 3, 5, 0, 0)}, {'productid': 6, 'units': 478368, 'purchase_date': datetime.datetime(2023, 8, 11, 0, 0)}, {'productid': 6, 'units': 921475, 'purchase_date': datetime.datetime(2023, 1, 19, 0, 0)}]}\n",
            "{'_id': ObjectId('65a1ce664de10d2f8cecb3f9'), 'customerid': 30, 'name': 'Walter Carter', 'email': 'kevinphillips@example.org', 'phone': ['(414)374-0969', '+1-475-638-3269', '(357)756-3395x882'], 'orders': [{'productid': 5, 'units': 261068, 'purchase_date': datetime.datetime(2023, 3, 5, 0, 0)}, {'productid': 2, 'units': 99524, 'purchase_date': datetime.datetime(2023, 8, 17, 0, 0)}, {'productid': 4, 'units': 492509, 'purchase_date': datetime.datetime(2023, 5, 1, 0, 0)}]}\n",
            "{'_id': ObjectId('65a1ce664de10d2f8cecb3fa'), 'customerid': 31, 'name': 'Steven Hurst', 'email': 'mhuber@example.com', 'phone': ['587.599.2308x47909', '(959)566-4400x4237', '(606)573-2250'], 'orders': []}\n",
            "{'_id': ObjectId('65a1ce664de10d2f8cecb3fb'), 'customerid': 32, 'name': 'Kimberly Garrison', 'email': 'bpittman@example.net', 'phone': ['(651)455-4338', '273.826.0245x81158', '(945)853-8606x22093'], 'orders': [{'productid': 2, 'units': 246672000, 'purchase_date': datetime.datetime(2023, 3, 6, 0, 0)}]}\n",
            "{'_id': ObjectId('65a1ce664de10d2f8cecb3fc'), 'customerid': 33, 'name': 'Selena Boyd', 'email': 'keithrachel@example.org', 'phone': ['001-648-818-5166x390', '533-458-2893', '875-770-0352x475'], 'orders': [{'productid': 5, 'units': 161737, 'purchase_date': datetime.datetime(2023, 2, 9, 0, 0)}, {'productid': 8, 'units': 164288, 'purchase_date': datetime.datetime(2023, 7, 27, 0, 0)}, {'productid': 7, 'units': 965933, 'purchase_date': datetime.datetime(2023, 4, 6, 0, 0)}]}\n",
            "{'_id': ObjectId('65a1ce664de10d2f8cecb3fd'), 'customerid': 34, 'name': 'Jacqueline Wiley', 'email': 'stacyphillips@example.org', 'phone': ['907.977.7824', '(682)389-0848x5031', '829.307.2612'], 'orders': []}\n",
            "{'_id': ObjectId('65a1ce664de10d2f8cecb3fe'), 'customerid': 35, 'name': 'Ruth Barr', 'email': 'brandiruiz@example.com', 'phone': ['(818)301-6417x35944', '(947)496-2490x1760', '001-789-574-3366x16569'], 'orders': [{'productid': 10, 'units': 519410, 'purchase_date': datetime.datetime(2023, 5, 21, 0, 0)}, {'productid': 5, 'units': 247587, 'purchase_date': datetime.datetime(2023, 10, 19, 0, 0)}, {'productid': 2, 'units': 366275, 'purchase_date': datetime.datetime(2023, 4, 6, 0, 0)}]}\n",
            "{'_id': ObjectId('65a1ce664de10d2f8cecb3ff'), 'customerid': 36, 'name': 'Christopher Guzman', 'email': 'jamessabrina@example.net', 'phone': ['219-578-0580x062', '214-773-9592x5453', '(666)689-2162'], 'orders': [{'productid': 4, 'units': 156964, 'purchase_date': datetime.datetime(2024, 1, 3, 0, 0)}, {'productid': 2, 'units': 856816, 'purchase_date': datetime.datetime(2024, 1, 11, 0, 0)}, {'productid': 5, 'units': 713317, 'purchase_date': datetime.datetime(2023, 10, 15, 0, 0)}, {'productid': 9, 'units': 116449, 'purchase_date': datetime.datetime(2023, 9, 17, 0, 0)}]}\n",
            "{'_id': ObjectId('65a1ce664de10d2f8cecb400'), 'customerid': 37, 'name': 'Bryce Crawford', 'email': 'joanna95@example.com', 'phone': ['214-681-4296x61300', '001-518-638-8952', '(312)229-2079x363'], 'orders': [{'productid': 2, 'units': 52350, 'purchase_date': datetime.datetime(2023, 5, 29, 0, 0)}]}\n",
            "{'_id': ObjectId('65a1ce664de10d2f8cecb401'), 'customerid': 38, 'name': 'Kellie Sanders', 'email': 'thompsoncorey@example.org', 'phone': ['+1-305-431-5871x0627', '548-251-9454', '548.432.3078'], 'orders': []}\n",
            "{'_id': ObjectId('65a1ce664de10d2f8cecb402'), 'customerid': 39, 'name': 'Raymond Dawson', 'email': 'samantharobinson@example.net', 'phone': ['2392125447', '745-412-4738', '5879745920'], 'orders': [{'productid': 2, 'units': 858467, 'purchase_date': datetime.datetime(2023, 2, 22, 0, 0)}, {'productid': 5, 'units': 42041, 'purchase_date': datetime.datetime(2023, 5, 31, 0, 0)}, {'productid': 3, 'units': 217538000, 'purchase_date': datetime.datetime(2023, 4, 1, 0, 0)}, {'productid': 9, 'units': 283846, 'purchase_date': datetime.datetime(2023, 7, 26, 0, 0)}]}\n",
            "{'_id': ObjectId('65a1ce664de10d2f8cecb403'), 'customerid': 40, 'name': 'Christopher Harris', 'email': 'jdiaz@example.com', 'phone': ['725-722-4556x965', '294-868-2092x77941', '679-530-2254x3948'], 'orders': [{'productid': 3, 'units': 458405, 'purchase_date': datetime.datetime(2023, 11, 9, 0, 0)}, {'productid': 8, 'units': 500163, 'purchase_date': datetime.datetime(2023, 2, 27, 0, 0)}, {'productid': 7, 'units': 20450, 'purchase_date': datetime.datetime(2023, 12, 15, 0, 0)}]}\n",
            "{'_id': ObjectId('65a1ce664de10d2f8cecb404'), 'customerid': 41, 'name': 'Jonathan Tran', 'email': 'richardchristensen@example.com', 'phone': ['+1-485-921-7061x9199', '001-918-799-7814x01721', '(511)516-1840x35385'], 'orders': []}\n",
            "{'_id': ObjectId('65a1ce664de10d2f8cecb405'), 'customerid': 42, 'name': 'Kristen Cohen', 'email': 'hintonwayne@example.net', 'phone': ['+1-227-991-3616x965', '+1-539-992-2513x72053', '001-503-728-5409x24069'], 'orders': []}\n",
            "{'_id': ObjectId('65a1ce664de10d2f8cecb406'), 'customerid': 43, 'name': 'Julie Pierce', 'email': 'dianascott@example.net', 'phone': ['+1-967-498-3208x8627', '633-814-6266', '+1-483-941-0565x5037'], 'orders': [{'productid': 1, 'units': 719038, 'purchase_date': datetime.datetime(2024, 1, 6, 0, 0)}]}\n",
            "{'_id': ObjectId('65a1ce664de10d2f8cecb407'), 'customerid': 44, 'name': 'Kelsey King', 'email': 'jessica93@example.org', 'phone': ['6756406320', '457-477-2656x410', '+1-419-422-1131x8162'], 'orders': [{'productid': 5, 'units': 887710, 'purchase_date': datetime.datetime(2023, 9, 17, 0, 0)}, {'productid': 9, 'units': 433680, 'purchase_date': datetime.datetime(2023, 7, 12, 0, 0)}, {'productid': 4, 'units': 351641, 'purchase_date': datetime.datetime(2023, 3, 31, 0, 0)}, {'productid': 4, 'units': 862758, 'purchase_date': datetime.datetime(2023, 5, 3, 0, 0)}]}\n",
            "{'_id': ObjectId('65a1ce664de10d2f8cecb408'), 'customerid': 45, 'name': 'Nicholas Jones', 'email': 'sandrarobbins@example.org', 'phone': ['+1-664-914-5604x653', '(889)281-7136x99098', '4363557067'], 'orders': []}\n",
            "{'_id': ObjectId('65a1ce664de10d2f8cecb409'), 'customerid': 46, 'name': 'Kristina Campbell', 'email': 'ryanclark@example.net', 'phone': ['990.369.1036', '332.509.4831x77467', '863-414-5369x411'], 'orders': [{'productid': 2, 'units': 286153, 'purchase_date': datetime.datetime(2023, 10, 30, 0, 0)}]}\n",
            "{'_id': ObjectId('65a1ce664de10d2f8cecb40a'), 'customerid': 47, 'name': 'Micheal Garcia', 'email': 'fernando67@example.net', 'phone': ['7625336150', '001-764-312-9041x5254', '829-210-7521x757'], 'orders': []}\n",
            "{'_id': ObjectId('65a1ce664de10d2f8cecb40b'), 'customerid': 48, 'name': 'Daniel Butler', 'email': 'andersonalexis@example.net', 'phone': ['598.283.1177x4046', '966.213.3163x364', '439.501.3705'], 'orders': [{'productid': 6, 'units': 278781000, 'purchase_date': datetime.datetime(2023, 6, 29, 0, 0)}]}\n",
            "{'_id': ObjectId('65a1ce664de10d2f8cecb40c'), 'customerid': 49, 'name': 'Kevin Mcgee', 'email': 'tmccarty@example.com', 'phone': ['225-949-3102', '793.220.2082x04662', '8073623935'], 'orders': [{'productid': 8, 'units': 260387, 'purchase_date': datetime.datetime(2023, 8, 7, 0, 0)}, {'productid': 4, 'units': 203765, 'purchase_date': datetime.datetime(2023, 4, 18, 0, 0)}, {'productid': 4, 'units': 524655, 'purchase_date': datetime.datetime(2023, 6, 29, 0, 0)}]}\n",
            "{'_id': ObjectId('65a1ce664de10d2f8cecb40d'), 'customerid': 50, 'name': 'Mary Berry', 'email': 'usmith@example.org', 'phone': ['001-613-496-6552', '(329)390-4747', '(900)491-6155x762'], 'orders': [{'productid': 3, 'units': 416958, 'purchase_date': datetime.datetime(2023, 3, 31, 0, 0)}]}\n",
            "{'_id': ObjectId('65a1ce664de10d2f8cecb40e'), 'customerid': 51, 'name': 'Antonio Mcclure', 'email': 'goodmanbianca@example.net', 'phone': ['001-643-830-3743x1283', '398.565.2399x808', '+1-963-677-4875x91545'], 'orders': [{'productid': 10, 'units': 400389, 'purchase_date': datetime.datetime(2023, 12, 6, 0, 0)}, {'productid': 4, 'units': 890760, 'purchase_date': datetime.datetime(2023, 4, 14, 0, 0)}, {'productid': 4, 'units': 67809, 'purchase_date': datetime.datetime(2023, 12, 9, 0, 0)}, {'productid': 1, 'units': 768389, 'purchase_date': datetime.datetime(2023, 6, 12, 0, 0)}]}\n",
            "{'_id': ObjectId('65a1ce664de10d2f8cecb40f'), 'customerid': 52, 'name': 'Matthew Bennett', 'email': 'emartin@example.org', 'phone': ['001-944-922-8723', '+1-807-220-1705x21833', '001-412-375-8417x0149'], 'orders': [{'productid': 3, 'units': 68212, 'purchase_date': datetime.datetime(2023, 9, 16, 0, 0)}]}\n",
            "{'_id': ObjectId('65a1ce664de10d2f8cecb410'), 'customerid': 53, 'name': 'Stefanie Roberts', 'email': 'justin38@example.net', 'phone': ['528-867-7113', '001-495-460-3584x590', '001-585-299-6903x2744'], 'orders': [{'productid': 8, 'units': 207932, 'purchase_date': datetime.datetime(2023, 8, 24, 0, 0)}, {'productid': 7, 'units': 797551, 'purchase_date': datetime.datetime(2023, 8, 27, 0, 0)}]}\n",
            "{'_id': ObjectId('65a1ce664de10d2f8cecb411'), 'customerid': 54, 'name': 'Gregory Castro', 'email': 'jessicadiaz@example.org', 'phone': ['268-723-8310x790', '956-525-0498x7256', '(510)692-8914x50583'], 'orders': [{'productid': 5, 'units': 500784, 'purchase_date': datetime.datetime(2023, 2, 21, 0, 0)}]}\n",
            "{'_id': ObjectId('65a1ce664de10d2f8cecb412'), 'customerid': 55, 'name': 'Anthony Larson', 'email': 'katherine35@example.org', 'phone': ['258-666-1568', '5183063567', '617.833.3905x35969'], 'orders': [{'productid': 7, 'units': 689000, 'purchase_date': datetime.datetime(2023, 6, 6, 0, 0)}, {'productid': 10, 'units': 843655, 'purchase_date': datetime.datetime(2023, 9, 18, 0, 0)}, {'productid': 2, 'units': 652063, 'purchase_date': datetime.datetime(2023, 5, 2, 0, 0)}, {'productid': 1, 'units': 552729, 'purchase_date': datetime.datetime(2023, 11, 9, 0, 0)}]}\n",
            "{'_id': ObjectId('65a1ce664de10d2f8cecb413'), 'customerid': 56, 'name': 'Michelle Huffman', 'email': 'martinjeffrey@example.net', 'phone': ['(550)327-7899', '001-939-273-7531x201', '9988913231'], 'orders': [{'productid': 8, 'units': 221043, 'purchase_date': datetime.datetime(2023, 12, 24, 0, 0)}, {'productid': 4, 'units': 330100, 'purchase_date': datetime.datetime(2023, 7, 12, 0, 0)}, {'productid': 6, 'units': 848184, 'purchase_date': datetime.datetime(2023, 11, 26, 0, 0)}, {'productid': 1, 'units': 201352000, 'purchase_date': datetime.datetime(2023, 9, 6, 0, 0)}]}\n",
            "{'_id': ObjectId('65a1ce664de10d2f8cecb414'), 'customerid': 57, 'name': 'Patricia Rowe', 'email': 'cchoi@example.com', 'phone': ['(749)601-7871x380', '629.572.1185x9879', '001-487-571-0936'], 'orders': [{'productid': 10, 'units': 948681, 'purchase_date': datetime.datetime(2023, 3, 18, 0, 0)}]}\n",
            "{'_id': ObjectId('65a1ce664de10d2f8cecb415'), 'customerid': 58, 'name': 'Scott Allen', 'email': 'smithmartin@example.net', 'phone': ['(278)962-2693', '(402)868-0241x4283', '511.369.3277'], 'orders': [{'productid': 1, 'units': 368107, 'purchase_date': datetime.datetime(2023, 8, 17, 0, 0)}]}\n",
            "{'_id': ObjectId('65a1ce664de10d2f8cecb416'), 'customerid': 59, 'name': 'Thomas Lee', 'email': 'dbecker@example.org', 'phone': ['967.360.0023x72389', '001-476-473-4251x025', '274-393-4045x464'], 'orders': []}\n",
            "{'_id': ObjectId('65a1ce664de10d2f8cecb417'), 'customerid': 60, 'name': 'Tyler Shelton', 'email': 'robert74@example.net', 'phone': ['001-481-742-4451x7925', '754-766-0565', '001-534-356-4820'], 'orders': [{'productid': 3, 'units': 807104, 'purchase_date': datetime.datetime(2023, 6, 8, 0, 0)}, {'productid': 1, 'units': 209921, 'purchase_date': datetime.datetime(2023, 11, 30, 0, 0)}, {'productid': 2, 'units': 284867, 'purchase_date': datetime.datetime(2023, 2, 18, 0, 0)}]}\n",
            "{'_id': ObjectId('65a1ce664de10d2f8cecb418'), 'customerid': 61, 'name': 'David Smith', 'email': 'christopher91@example.net', 'phone': ['001-499-794-4970x985', '692.324.4358', '+1-795-483-3306x13804'], 'orders': [{'productid': 6, 'units': 33673, 'purchase_date': datetime.datetime(2023, 5, 30, 0, 0)}, {'productid': 10, 'units': 723368, 'purchase_date': datetime.datetime(2023, 10, 1, 0, 0)}]}\n",
            "{'_id': ObjectId('65a1ce664de10d2f8cecb419'), 'customerid': 62, 'name': 'Jacqueline Torres', 'email': 'bgomez@example.com', 'phone': ['(210)585-4192x735', '(231)398-6873', '(578)433-4860x524'], 'orders': []}\n",
            "{'_id': ObjectId('65a1ce664de10d2f8cecb41a'), 'customerid': 63, 'name': 'Samantha Nelson', 'email': 'james37@example.com', 'phone': ['7136745259', '867-681-7584x61499', '(614)685-7322'], 'orders': [{'productid': 1, 'units': 439208, 'purchase_date': datetime.datetime(2023, 1, 22, 0, 0)}]}\n",
            "{'_id': ObjectId('65a1ce664de10d2f8cecb41b'), 'customerid': 64, 'name': 'Debra Johnson', 'email': 'tracyvance@example.org', 'phone': ['+1-813-746-7107x532', '001-532-211-9573', '001-210-647-0098x445'], 'orders': []}\n",
            "{'_id': ObjectId('65a1ce664de10d2f8cecb41c'), 'customerid': 65, 'name': 'Stephanie Roth', 'email': 'ckelly@example.com', 'phone': ['+1-892-417-5669x397', '857-736-6123x514', '576.715.4498'], 'orders': [{'productid': 2, 'units': 370071, 'purchase_date': datetime.datetime(2023, 5, 13, 0, 0)}, {'productid': 8, 'units': 667058, 'purchase_date': datetime.datetime(2023, 4, 4, 0, 0)}, {'productid': 6, 'units': 344707, 'purchase_date': datetime.datetime(2023, 10, 3, 0, 0)}]}\n",
            "{'_id': ObjectId('65a1ce664de10d2f8cecb41d'), 'customerid': 66, 'name': 'Michael Duffy', 'email': 'ssandoval@example.net', 'phone': ['668-315-2452', '672.872.8449', '555-874-2190'], 'orders': [{'productid': 3, 'units': 827959, 'purchase_date': datetime.datetime(2023, 5, 30, 0, 0)}, {'productid': 7, 'units': 507519, 'purchase_date': datetime.datetime(2023, 6, 23, 0, 0)}]}\n",
            "{'_id': ObjectId('65a1ce664de10d2f8cecb41e'), 'customerid': 67, 'name': 'Melanie Thompson', 'email': 'gregorydaniel@example.net', 'phone': ['508-444-3654', '001-498-866-3250x836', '+1-613-632-1978x43785'], 'orders': []}\n",
            "{'_id': ObjectId('65a1ce664de10d2f8cecb41f'), 'customerid': 68, 'name': 'David Brown', 'email': 'fcole@example.org', 'phone': ['+1-450-735-1018', '001-253-426-7607', '782-943-1338x8261'], 'orders': [{'productid': 10, 'units': 208305, 'purchase_date': datetime.datetime(2023, 4, 18, 0, 0)}, {'productid': 1, 'units': 343882, 'purchase_date': datetime.datetime(2023, 11, 3, 0, 0)}, {'productid': 1, 'units': 178825, 'purchase_date': datetime.datetime(2023, 8, 14, 0, 0)}]}\n",
            "{'_id': ObjectId('65a1ce664de10d2f8cecb420'), 'customerid': 69, 'name': 'Alvin Harris', 'email': 'wangamanda@example.com', 'phone': ['750-971-6158x3102', '270.478.5792x77461', '+1-677-271-4108x297'], 'orders': [{'productid': 6, 'units': 988553, 'purchase_date': datetime.datetime(2023, 12, 25, 0, 0)}, {'productid': 2, 'units': 811848, 'purchase_date': datetime.datetime(2023, 6, 2, 0, 0)}, {'productid': 1, 'units': 430407, 'purchase_date': datetime.datetime(2023, 3, 24, 0, 0)}]}\n",
            "{'_id': ObjectId('65a1ce664de10d2f8cecb421'), 'customerid': 70, 'name': 'Samantha Thompson', 'email': 'lcook@example.net', 'phone': ['(659)787-3220', '001-826-309-3655x997', '580-625-7821x8276'], 'orders': [{'productid': 6, 'units': 407894, 'purchase_date': datetime.datetime(2023, 6, 8, 0, 0)}, {'productid': 8, 'units': 433826, 'purchase_date': datetime.datetime(2023, 7, 13, 0, 0)}, {'productid': 2, 'units': 613774, 'purchase_date': datetime.datetime(2023, 5, 17, 0, 0)}]}\n",
            "{'_id': ObjectId('65a1ce664de10d2f8cecb422'), 'customerid': 71, 'name': 'Anthony Wilcox', 'email': 'kellermeredith@example.net', 'phone': ['605-938-4303x15548', '001-428-554-3026x218', '381-353-2904'], 'orders': []}\n",
            "{'_id': ObjectId('65a1ce664de10d2f8cecb423'), 'customerid': 72, 'name': 'Eric Roberts', 'email': 'williscody@example.com', 'phone': ['3978962544', '+1-212-791-6015x630', '(841)548-2437x22277'], 'orders': [{'productid': 8, 'units': 748812, 'purchase_date': datetime.datetime(2023, 11, 4, 0, 0)}, {'productid': 8, 'units': 689837, 'purchase_date': datetime.datetime(2023, 9, 27, 0, 0)}, {'productid': 4, 'units': 431839, 'purchase_date': datetime.datetime(2023, 9, 2, 0, 0)}]}\n",
            "{'_id': ObjectId('65a1ce664de10d2f8cecb424'), 'customerid': 73, 'name': 'Benjamin Adams', 'email': 'katiewalker@example.com', 'phone': ['+1-530-499-5141x636', '001-600-950-4669x22219', '661-905-6454x10644'], 'orders': []}\n",
            "{'_id': ObjectId('65a1ce664de10d2f8cecb425'), 'customerid': 74, 'name': 'Luke Davis', 'email': 'robinsonderek@example.com', 'phone': ['001-802-518-6145', '(335)959-4139x843', '001-630-434-9070'], 'orders': [{'productid': 4, 'units': 702053, 'purchase_date': datetime.datetime(2023, 12, 26, 0, 0)}]}\n",
            "{'_id': ObjectId('65a1ce664de10d2f8cecb426'), 'customerid': 75, 'name': 'Kathleen Rangel', 'email': 'erin57@example.net', 'phone': ['890.548.0386x57130', '4579660838', '001-306-702-4450x33831'], 'orders': [{'productid': 9, 'units': 482360, 'purchase_date': datetime.datetime(2023, 4, 20, 0, 0)}, {'productid': 5, 'units': 25098, 'purchase_date': datetime.datetime(2023, 2, 16, 0, 0)}]}\n",
            "{'_id': ObjectId('65a1ce664de10d2f8cecb427'), 'customerid': 76, 'name': 'Jeffrey Stephenson', 'email': 'thiggins@example.com', 'phone': ['450.574.4356x80055', '001-496-766-6080x9324', '300-968-4851x27506'], 'orders': [{'productid': 8, 'units': 586432, 'purchase_date': datetime.datetime(2023, 3, 31, 0, 0)}]}\n",
            "{'_id': ObjectId('65a1ce664de10d2f8cecb428'), 'customerid': 77, 'name': 'Jennifer Sanchez', 'email': 'joshuaboyer@example.org', 'phone': ['827-685-5104', '+1-419-872-4188x626', '961.817.0144x2040'], 'orders': []}\n",
            "{'_id': ObjectId('65a1ce664de10d2f8cecb429'), 'customerid': 78, 'name': 'Tracie Daniel', 'email': 'debbiejackson@example.org', 'phone': ['+1-323-412-2670x878', '493-560-4313x6662', '(446)992-2325'], 'orders': []}\n",
            "{'_id': ObjectId('65a1ce664de10d2f8cecb42a'), 'customerid': 79, 'name': 'Karen Davidson', 'email': 'dhunt@example.org', 'phone': ['265-706-9249', '001-500-687-2926', '572.766.4477'], 'orders': [{'productid': 10, 'units': 354613, 'purchase_date': datetime.datetime(2023, 9, 25, 0, 0)}, {'productid': 5, 'units': 451775, 'purchase_date': datetime.datetime(2023, 8, 16, 0, 0)}]}\n",
            "{'_id': ObjectId('65a1ce664de10d2f8cecb42b'), 'customerid': 80, 'name': 'Ashley Macdonald', 'email': 'angelica11@example.org', 'phone': ['5837837785', '+1-664-939-4437x19399', '(461)883-2359'], 'orders': [{'productid': 2, 'units': 13931, 'purchase_date': datetime.datetime(2023, 2, 28, 0, 0)}, {'productid': 1, 'units': 206924, 'purchase_date': datetime.datetime(2023, 7, 1, 0, 0)}, {'productid': 8, 'units': 955855, 'purchase_date': datetime.datetime(2023, 4, 19, 0, 0)}]}\n",
            "{'_id': ObjectId('65a1ce664de10d2f8cecb42c'), 'customerid': 81, 'name': 'Cynthia Thompson', 'email': 'hbrown@example.org', 'phone': ['609-670-1412x669', '001-822-339-3964', '821.642.7771x84126'], 'orders': []}\n",
            "{'_id': ObjectId('65a1ce664de10d2f8cecb42d'), 'customerid': 82, 'name': 'Mary Copeland', 'email': 'tommy85@example.org', 'phone': ['271.442.7408x560', '001-382-619-2913x148', '994.405.8480x624'], 'orders': []}\n",
            "{'_id': ObjectId('65a1ce664de10d2f8cecb42e'), 'customerid': 83, 'name': 'Alan Smith', 'email': 'royjose@example.net', 'phone': ['+1-207-715-1311x8936', '(923)605-7186', '9592071606'], 'orders': [{'productid': 7, 'units': 768280, 'purchase_date': datetime.datetime(2023, 7, 23, 0, 0)}, {'productid': 5, 'units': 236255, 'purchase_date': datetime.datetime(2023, 6, 11, 0, 0)}, {'productid': 9, 'units': 405228, 'purchase_date': datetime.datetime(2023, 10, 12, 0, 0)}]}\n",
            "{'_id': ObjectId('65a1ce664de10d2f8cecb42f'), 'customerid': 84, 'name': 'Christopher Williams', 'email': 'leahlee@example.net', 'phone': ['497.642.5942', '001-766-655-0127x99392', '327-659-2267'], 'orders': [{'productid': 9, 'units': 932340000, 'purchase_date': datetime.datetime(2023, 9, 1, 0, 0)}, {'productid': 3, 'units': 499744, 'purchase_date': datetime.datetime(2023, 7, 21, 0, 0)}]}\n",
            "{'_id': ObjectId('65a1ce664de10d2f8cecb430'), 'customerid': 85, 'name': 'Spencer Reid', 'email': 'smallryan@example.net', 'phone': ['993-993-4512', '(831)917-8621', '(868)483-0904x0779'], 'orders': [{'productid': 8, 'units': 754953000, 'purchase_date': datetime.datetime(2023, 6, 15, 0, 0)}, {'productid': 10, 'units': 707936000, 'purchase_date': datetime.datetime(2023, 11, 21, 0, 0)}, {'productid': 8, 'units': 744168, 'purchase_date': datetime.datetime(2023, 12, 1, 0, 0)}, {'productid': 2, 'units': 770111000, 'purchase_date': datetime.datetime(2023, 9, 17, 0, 0)}]}\n",
            "{'_id': ObjectId('65a1ce664de10d2f8cecb431'), 'customerid': 86, 'name': 'Daniel Harris', 'email': 'jimsilva@example.org', 'phone': ['612.437.8902x001', '423.358.3013x6758', '345.312.5601'], 'orders': [{'productid': 4, 'units': 479788, 'purchase_date': datetime.datetime(2024, 1, 8, 0, 0)}, {'productid': 10, 'units': 207223000, 'purchase_date': datetime.datetime(2023, 10, 14, 0, 0)}]}\n",
            "{'_id': ObjectId('65a1ce664de10d2f8cecb432'), 'customerid': 87, 'name': 'Amanda Nguyen', 'email': 'andrewwilcox@example.net', 'phone': ['(999)526-1001', '001-982-435-9459', '+1-440-505-2064x169'], 'orders': []}\n",
            "{'_id': ObjectId('65a1ce664de10d2f8cecb433'), 'customerid': 88, 'name': 'Kathleen Smith', 'email': 'delgadobrooke@example.com', 'phone': ['001-350-408-9478x42123', '001-285-987-9609x73284', '678-751-4149'], 'orders': [{'productid': 10, 'units': 223808000, 'purchase_date': datetime.datetime(2023, 11, 17, 0, 0)}]}\n",
            "{'_id': ObjectId('65a1ce664de10d2f8cecb434'), 'customerid': 89, 'name': 'Jermaine Evans', 'email': 'renee43@example.org', 'phone': ['(324)367-2490x84863', '(677)256-9195x24492', '(862)969-8285'], 'orders': [{'productid': 2, 'units': 78469, 'purchase_date': datetime.datetime(2023, 12, 30, 0, 0)}]}\n",
            "{'_id': ObjectId('65a1ce664de10d2f8cecb435'), 'customerid': 90, 'name': 'Tammy Mann', 'email': 'pclements@example.com', 'phone': ['+1-562-452-0343', '001-867-750-9289x5525', '791-601-1064'], 'orders': []}\n",
            "{'_id': ObjectId('65a1ce664de10d2f8cecb436'), 'customerid': 91, 'name': 'Janice Gonzalez', 'email': 'qmarsh@example.org', 'phone': ['297.313.5266x94178', '(653)741-2326', '432.821.8691x00048'], 'orders': []}\n",
            "{'_id': ObjectId('65a1ce664de10d2f8cecb437'), 'customerid': 92, 'name': 'Joel Petty', 'email': 'lancejackson@example.net', 'phone': ['(279)964-0755x8656', '804-976-9358x383', '576.959.7195'], 'orders': []}\n",
            "{'_id': ObjectId('65a1ce664de10d2f8cecb438'), 'customerid': 93, 'name': 'Ashley Wheeler', 'email': 'carol96@example.com', 'phone': ['4509198282', '001-234-204-7550', '+1-530-486-1340'], 'orders': [{'productid': 3, 'units': 677800, 'purchase_date': datetime.datetime(2023, 10, 22, 0, 0)}]}\n",
            "{'_id': ObjectId('65a1ce664de10d2f8cecb439'), 'customerid': 94, 'name': 'Danielle Meyers', 'email': 'javierjohnson@example.net', 'phone': ['+1-381-998-2656x6730', '319.706.1418', '399.482.5700'], 'orders': [{'productid': 6, 'units': 688855, 'purchase_date': datetime.datetime(2023, 12, 5, 0, 0)}, {'productid': 1, 'units': 953726, 'purchase_date': datetime.datetime(2023, 8, 16, 0, 0)}, {'productid': 9, 'units': 429959, 'purchase_date': datetime.datetime(2023, 4, 10, 0, 0)}]}\n",
            "{'_id': ObjectId('65a1ce664de10d2f8cecb43a'), 'customerid': 95, 'name': 'John Mckenzie', 'email': 'qwilson@example.net', 'phone': ['4666611428', '384.913.3645x3096', '+1-322-300-9672x708'], 'orders': [{'productid': 4, 'units': 173334, 'purchase_date': datetime.datetime(2024, 1, 2, 0, 0)}, {'productid': 4, 'units': 449572, 'purchase_date': datetime.datetime(2023, 12, 4, 0, 0)}, {'productid': 5, 'units': 747262, 'purchase_date': datetime.datetime(2023, 12, 12, 0, 0)}]}\n",
            "{'_id': ObjectId('65a1ce664de10d2f8cecb43b'), 'customerid': 96, 'name': 'Erik Barrett', 'email': 'pwhite@example.org', 'phone': ['853-764-9646', '001-940-857-9884x154', '+1-511-690-8801'], 'orders': [{'productid': 5, 'units': 519700, 'purchase_date': datetime.datetime(2023, 10, 2, 0, 0)}]}\n",
            "{'_id': ObjectId('65a1ce664de10d2f8cecb43c'), 'customerid': 97, 'name': 'David Merritt', 'email': 'zblack@example.net', 'phone': ['+1-514-210-4389', '(712)925-1961x8283', '5189062628'], 'orders': [{'productid': 7, 'units': 911398, 'purchase_date': datetime.datetime(2023, 8, 14, 0, 0)}, {'productid': 5, 'units': 864562, 'purchase_date': datetime.datetime(2023, 5, 21, 0, 0)}, {'productid': 9, 'units': 694848, 'purchase_date': datetime.datetime(2023, 10, 22, 0, 0)}]}\n",
            "{'_id': ObjectId('65a1ce664de10d2f8cecb43d'), 'customerid': 98, 'name': 'Keith Johnson', 'email': 'robinsonphilip@example.net', 'phone': ['001-658-743-2135x812', '001-644-213-8400x565', '001-206-815-3175x3855'], 'orders': [{'productid': 10, 'units': 278003, 'purchase_date': datetime.datetime(2023, 11, 9, 0, 0)}, {'productid': 5, 'units': 364074, 'purchase_date': datetime.datetime(2023, 4, 7, 0, 0)}, {'productid': 2, 'units': 859480, 'purchase_date': datetime.datetime(2023, 8, 3, 0, 0)}, {'productid': 5, 'units': 184782, 'purchase_date': datetime.datetime(2023, 3, 18, 0, 0)}]}\n",
            "{'_id': ObjectId('65a1ce664de10d2f8cecb43e'), 'customerid': 99, 'name': 'David Rodriguez', 'email': 'bennettshawn@example.com', 'phone': ['(611)868-5833x9912', '6977892725', '609-688-6603'], 'orders': [{'productid': 2, 'units': 989988, 'purchase_date': datetime.datetime(2023, 10, 1, 0, 0)}, {'productid': 2, 'units': 53559, 'purchase_date': datetime.datetime(2023, 6, 7, 0, 0)}, {'productid': 10, 'units': 430096, 'purchase_date': datetime.datetime(2023, 10, 28, 0, 0)}, {'productid': 6, 'units': 537404, 'purchase_date': datetime.datetime(2023, 8, 6, 0, 0)}]}\n",
            "{'_id': ObjectId('65a1ce664de10d2f8cecb43f'), 'customerid': 100, 'name': 'David Swanson', 'email': 'ofranklin@example.net', 'phone': ['708.495.9069x019', '001-966-271-4394x7796', '811.494.2526'], 'orders': []}\n"
          ]
        }
      ]
    },
    {
      "cell_type": "markdown",
      "source": [
        "find customerid 76"
      ],
      "metadata": {
        "id": "E3O_CpF2cilt"
      }
    },
    {
      "cell_type": "code",
      "source": [
        "import pprint"
      ],
      "metadata": {
        "id": "IEJyj8pCGGGM"
      },
      "execution_count": 29,
      "outputs": []
    },
    {
      "cell_type": "code",
      "source": [
        "for document in db.customers.find({'customerid':76}):\n",
        "  print(pprint.pprint(document))"
      ],
      "metadata": {
        "colab": {
          "base_uri": "https://localhost:8080/"
        },
        "id": "JU37UrSBSvtn",
        "outputId": "81038269-447b-4255-8109-31f7fe19c61c"
      },
      "execution_count": 30,
      "outputs": [
        {
          "output_type": "stream",
          "name": "stdout",
          "text": [
            "{'_id': ObjectId('65a1ccab1449f39f493c53ae'),\n",
            " 'customerid': 76,\n",
            " 'email': 'wayne36@example.net',\n",
            " 'name': 'Marcus Gomez',\n",
            " 'orders': [{'productid': 7,\n",
            "             'purchase_date': datetime.datetime(2023, 12, 27, 0, 0),\n",
            "             'units': 151589},\n",
            "            {'productid': 8,\n",
            "             'purchase_date': datetime.datetime(2023, 4, 20, 0, 0),\n",
            "             'units': 752215}],\n",
            " 'phone': ['001-833-547-7166x7413', '(298)987-2856x14677', '734.689.9357']}\n",
            "None\n"
          ]
        }
      ]
    },
    {
      "cell_type": "markdown",
      "source": [
        "## Products\n",
        "\n",
        "find all products"
      ],
      "metadata": {
        "id": "cqtFa0b8Zt13"
      }
    },
    {
      "cell_type": "code",
      "source": [
        "for document in db.products.find({}):\n",
        "  print(document)"
      ],
      "metadata": {
        "colab": {
          "base_uri": "https://localhost:8080/"
        },
        "id": "k6n9rAQfU3yW",
        "outputId": "f210fda7-e773-41a5-e147-5672a94400b3"
      },
      "execution_count": 31,
      "outputs": [
        {
          "output_type": "stream",
          "name": "stdout",
          "text": [
            "{'_id': ObjectId('65a1ccb11449f39f493c53c7'), 'productid': 1, 'category': 'Electronics', 'price': 69}\n",
            "{'_id': ObjectId('65a1ccb11449f39f493c53c8'), 'productid': 2, 'category': 'Clothing', 'price': 39}\n",
            "{'_id': ObjectId('65a1ccb11449f39f493c53c9'), 'productid': 3, 'category': 'Home', 'price': 2}\n",
            "{'_id': ObjectId('65a1ccb11449f39f493c53ca'), 'productid': 4, 'category': 'Clothing', 'price': 81}\n",
            "{'_id': ObjectId('65a1ccb11449f39f493c53cb'), 'productid': 5, 'category': 'Clothing', 'price': 58}\n",
            "{'_id': ObjectId('65a1ccb11449f39f493c53cc'), 'productid': 6, 'category': 'Electronics', 'price': 12}\n",
            "{'_id': ObjectId('65a1ccb11449f39f493c53cd'), 'productid': 7, 'category': 'Books', 'price': 15}\n",
            "{'_id': ObjectId('65a1ccb11449f39f493c53ce'), 'productid': 8, 'category': 'Clothing', 'price': 92}\n",
            "{'_id': ObjectId('65a1ccb11449f39f493c53cf'), 'productid': 9, 'category': 'Books', 'price': 80}\n",
            "{'_id': ObjectId('65a1ccb11449f39f493c53d0'), 'productid': 10, 'category': 'Clothing', 'price': 15}\n"
          ]
        }
      ]
    },
    {
      "cell_type": "markdown",
      "source": [
        "find all products with prices less than 40"
      ],
      "metadata": {
        "id": "Dox59Ztlc10h"
      }
    },
    {
      "cell_type": "code",
      "source": [
        "for document in db.products.find({'price': {'$lt':40}}):\n",
        "  print(document)"
      ],
      "metadata": {
        "colab": {
          "base_uri": "https://localhost:8080/"
        },
        "id": "gwBXy1cfTKPh",
        "outputId": "cd27116b-6c41-4dc9-bd2b-0636a793f048"
      },
      "execution_count": null,
      "outputs": [
        {
          "output_type": "stream",
          "name": "stdout",
          "text": [
            "{'_id': ObjectId('646fad92f2e8345bc9a7dea6'), 'productid': 5, 'category': 'Clothing', 'price': 1}\n"
          ]
        }
      ]
    },
    {
      "cell_type": "markdown",
      "source": [
        "find all products with category clothing"
      ],
      "metadata": {
        "id": "Z7AWze1Dc5QO"
      }
    },
    {
      "cell_type": "code",
      "source": [
        "for document in db.products.find({'category': 'Clothing'}):\n",
        "  print(document)"
      ],
      "metadata": {
        "colab": {
          "base_uri": "https://localhost:8080/"
        },
        "id": "b2kBTS4bTbTi",
        "outputId": "3266fa7c-88d6-459e-b583-55d8cbd6a2cc"
      },
      "execution_count": null,
      "outputs": [
        {
          "output_type": "stream",
          "name": "stdout",
          "text": [
            "{'_id': ObjectId('646fad92f2e8345bc9a7dea2'), 'productid': 1, 'category': 'Clothing', 'price': 51}\n",
            "{'_id': ObjectId('646fad92f2e8345bc9a7dea3'), 'productid': 2, 'category': 'Clothing', 'price': 90}\n",
            "{'_id': ObjectId('646fad92f2e8345bc9a7dea6'), 'productid': 5, 'category': 'Clothing', 'price': 1}\n",
            "{'_id': ObjectId('646fad92f2e8345bc9a7dea8'), 'productid': 7, 'category': 'Clothing', 'price': 65}\n",
            "{'_id': ObjectId('646fad92f2e8345bc9a7deab'), 'productid': 10, 'category': 'Clothing', 'price': 57}\n"
          ]
        }
      ]
    },
    {
      "cell_type": "markdown",
      "source": [
        "find all products with price less than 40 AND category Clothing"
      ],
      "metadata": {
        "id": "z3G2QMqsc73k"
      }
    },
    {
      "cell_type": "code",
      "source": [
        "for document in db.products.find({'price': {'$lt':40},'category': 'Clothing'}):\n",
        "  print(document)"
      ],
      "metadata": {
        "colab": {
          "base_uri": "https://localhost:8080/"
        },
        "id": "Yksl4SVtU_Bx",
        "outputId": "c188f8d5-1cc8-4649-f051-16c6547d6398"
      },
      "execution_count": 34,
      "outputs": [
        {
          "output_type": "stream",
          "name": "stdout",
          "text": [
            "{'_id': ObjectId('65a1ccb11449f39f493c53c8'), 'productid': 2, 'category': 'Clothing', 'price': 39}\n",
            "{'_id': ObjectId('65a1ccb11449f39f493c53d0'), 'productid': 10, 'category': 'Clothing', 'price': 15}\n"
          ]
        }
      ]
    },
    {
      "cell_type": "markdown",
      "source": [
        "## Orders"
      ],
      "metadata": {
        "id": "o-PyKjH-ZyA_"
      }
    },
    {
      "cell_type": "code",
      "source": [
        "# Calculate the total number of orders\n",
        "pipeline = [\n",
        "    {\n",
        "        '$unwind': '$orders'\n",
        "    },\n",
        "    {\n",
        "        '$group': {\n",
        "            '_id': None,\n",
        "            'total_orders': {'$sum': 1}\n",
        "        }\n",
        "    },\n",
        "    {\n",
        "        '$project': {\n",
        "            '_id': 0,\n",
        "            'total_orders': 1\n",
        "        }\n",
        "    }\n",
        "]\n",
        "\n",
        "result = db.customers.aggregate(pipeline)\n",
        "\n",
        "# Extract the total number of orders\n",
        "total_orders = next(result)['total_orders']\n",
        "\n",
        "# Print the total number of orders\n",
        "print(f\"Total Orders: {total_orders}\")"
      ],
      "metadata": {
        "colab": {
          "base_uri": "https://localhost:8080/"
        },
        "id": "zbEehhzXHHoI",
        "outputId": "fa753186-022b-4fba-8357-8b9ea31fb06a"
      },
      "execution_count": null,
      "outputs": [
        {
          "output_type": "stream",
          "name": "stdout",
          "text": [
            "Total Orders: 182\n"
          ]
        }
      ]
    },
    {
      "cell_type": "code",
      "source": [
        "filter_criteria = {\n",
        "    'orders.units': {'$lt': 45000}\n",
        "}\n",
        "\n",
        "# Calculate the total number of orders with units less than 12000\n",
        "pipeline = [\n",
        "    {\n",
        "      '$unwind': '$orders'\n",
        "    },\n",
        "    {\n",
        "      '$match': filter_criteria\n",
        "    },\n",
        "    {\n",
        "        '$group': {\n",
        "            '_id': None,\n",
        "            'total_orders': {'$sum': 1}\n",
        "        }\n",
        "    },\n",
        "    {\n",
        "        '$project': {\n",
        "            '_id': 0,\n",
        "            'total_orders': 1\n",
        "        }\n",
        "    }\n",
        "]\n",
        "\n",
        "result = db.customers.aggregate(pipeline)\n",
        "\n",
        "# Extract the total number of orders\n",
        "total_orders = next(result)['total_orders']\n",
        "\n",
        "# Print the total number of orders\n",
        "print(f\"Total Orders: {total_orders}\")"
      ],
      "metadata": {
        "colab": {
          "base_uri": "https://localhost:8080/"
        },
        "id": "zCludVJLLIIP",
        "outputId": "34d00dd1-f172-496e-9414-f294b437e019"
      },
      "execution_count": null,
      "outputs": [
        {
          "output_type": "stream",
          "name": "stdout",
          "text": [
            "Total Orders: 7\n"
          ]
        }
      ]
    },
    {
      "cell_type": "markdown",
      "source": [
        "# Extraction\n"
      ],
      "metadata": {
        "id": "2rCz0PjQdk3d"
      }
    },
    {
      "cell_type": "markdown",
      "source": [
        "## Dump mongodb data to json file."
      ],
      "metadata": {
        "id": "aARmVUWMfry8"
      }
    },
    {
      "cell_type": "markdown",
      "source": [
        "create a JSON file with the filtered data."
      ],
      "metadata": {
        "id": "PW0sAp8Kdptk"
      }
    },
    {
      "cell_type": "code",
      "source": [
        "from bson.json_util import dumps\n",
        "import json"
      ],
      "metadata": {
        "id": "McVys3EohoeQ"
      },
      "execution_count": null,
      "outputs": []
    },
    {
      "cell_type": "markdown",
      "source": [
        "open a file. create a cursor that gets passed to dumps which takes binary json data and converts it serialized json, deseralizes it to python object and then serializes it back to a file.  "
      ],
      "metadata": {
        "id": "76ZvzDUYd65Y"
      }
    },
    {
      "cell_type": "markdown",
      "source": [
        "## dump orders"
      ],
      "metadata": {
        "id": "9QhRK7b9iUbE"
      }
    },
    {
      "cell_type": "markdown",
      "source": [
        "## dump customers\n",
        "\n",
        "(and orders as they are nested)"
      ],
      "metadata": {
        "id": "_sL1H_YPiWem"
      }
    },
    {
      "cell_type": "code",
      "source": [
        "with open('customers.json', 'w') as file:\n",
        "  cursor = db.customers.find({})\n",
        "  file.write(dumps(cursor))"
      ],
      "metadata": {
        "id": "DMPIXxjgg4La"
      },
      "execution_count": null,
      "outputs": []
    },
    {
      "cell_type": "markdown",
      "source": [
        "## dump products"
      ],
      "metadata": {
        "id": "v5Q4VGapiXvC"
      }
    },
    {
      "cell_type": "code",
      "source": [
        "with open('products.json', 'w') as file:\n",
        "  cursor = db.products.find({})\n",
        "  file.write(dumps(cursor))"
      ],
      "metadata": {
        "id": "4B7LAYJRhBke"
      },
      "execution_count": null,
      "outputs": []
    },
    {
      "cell_type": "code",
      "source": [
        "!ls -lh *.json"
      ],
      "metadata": {
        "colab": {
          "base_uri": "https://localhost:8080/"
        },
        "id": "3MX4SWGdh6n4",
        "outputId": "d02a0744-9868-4a19-e1d2-d52da59306ae"
      },
      "execution_count": null,
      "outputs": [
        {
          "output_type": "stream",
          "name": "stdout",
          "text": [
            "-rw-r--r-- 1 root root  36K May 25 18:48 customers.json\n",
            "-rw-r--r-- 1 root root 1002 May 25 18:48 products.json\n"
          ]
        }
      ]
    },
    {
      "cell_type": "code",
      "source": [
        "!cat orders_gt_2023_5_15.json"
      ],
      "metadata": {
        "colab": {
          "base_uri": "https://localhost:8080/"
        },
        "id": "U5YH3Jsrh-Eb",
        "outputId": "adaa3319-9e20-4708-9a29-cdfc37524314"
      },
      "execution_count": null,
      "outputs": [
        {
          "output_type": "stream",
          "name": "stdout",
          "text": [
            "cat: orders_gt_2023_5_15.json: No such file or directory\n"
          ]
        }
      ]
    },
    {
      "cell_type": "markdown",
      "source": [
        "# Reading JSON file data into Python"
      ],
      "metadata": {
        "id": "-K7Ot5B7JO9o"
      }
    },
    {
      "cell_type": "markdown",
      "source": [
        "## JSON into Pandas DataFrame"
      ],
      "metadata": {
        "id": "xJIgvFHFJcH-"
      }
    },
    {
      "cell_type": "code",
      "source": [
        "import pandas as pd"
      ],
      "metadata": {
        "id": "MlJrhVWijy5S"
      },
      "execution_count": null,
      "outputs": []
    },
    {
      "cell_type": "code",
      "source": [
        "customers_df = pd.read_json('customers.json')\n",
        "customers_df.head(2)"
      ],
      "metadata": {
        "colab": {
          "base_uri": "https://localhost:8080/",
          "height": 156
        },
        "id": "EfUKlGYZj0PT",
        "outputId": "5bf61558-be8a-4aa8-a9dd-87869d67554a"
      },
      "execution_count": null,
      "outputs": [
        {
          "output_type": "execute_result",
          "data": {
            "text/plain": [
              "                                    _id  customerid             name  \\\n",
              "0  {'$oid': '646fad92f2e8345bc9a7de3e'}           1  Samantha Morris   \n",
              "1  {'$oid': '646fad92f2e8345bc9a7de3f'}           2     Steven Boyle   \n",
              "\n",
              "                       email  \\\n",
              "0  bradleythomas@example.org   \n",
              "1  bowersjeffrey@example.org   \n",
              "\n",
              "                                               phone  \\\n",
              "0  [+1-069-970-8404x5473, 001-151-571-8094, 001-9...   \n",
              "1  [484-855-8172, (993)169-9728x2920, 001-928-880...   \n",
              "\n",
              "                                              orders  \n",
              "0                                                 []  \n",
              "1  [{'productid': 2, 'units': 481319, 'purchase_d...  "
            ],
            "text/html": [
              "\n",
              "  <div id=\"df-0d4de130-695e-439c-9339-78af3b969b09\">\n",
              "    <div class=\"colab-df-container\">\n",
              "      <div>\n",
              "<style scoped>\n",
              "    .dataframe tbody tr th:only-of-type {\n",
              "        vertical-align: middle;\n",
              "    }\n",
              "\n",
              "    .dataframe tbody tr th {\n",
              "        vertical-align: top;\n",
              "    }\n",
              "\n",
              "    .dataframe thead th {\n",
              "        text-align: right;\n",
              "    }\n",
              "</style>\n",
              "<table border=\"1\" class=\"dataframe\">\n",
              "  <thead>\n",
              "    <tr style=\"text-align: right;\">\n",
              "      <th></th>\n",
              "      <th>_id</th>\n",
              "      <th>customerid</th>\n",
              "      <th>name</th>\n",
              "      <th>email</th>\n",
              "      <th>phone</th>\n",
              "      <th>orders</th>\n",
              "    </tr>\n",
              "  </thead>\n",
              "  <tbody>\n",
              "    <tr>\n",
              "      <th>0</th>\n",
              "      <td>{'$oid': '646fad92f2e8345bc9a7de3e'}</td>\n",
              "      <td>1</td>\n",
              "      <td>Samantha Morris</td>\n",
              "      <td>bradleythomas@example.org</td>\n",
              "      <td>[+1-069-970-8404x5473, 001-151-571-8094, 001-9...</td>\n",
              "      <td>[]</td>\n",
              "    </tr>\n",
              "    <tr>\n",
              "      <th>1</th>\n",
              "      <td>{'$oid': '646fad92f2e8345bc9a7de3f'}</td>\n",
              "      <td>2</td>\n",
              "      <td>Steven Boyle</td>\n",
              "      <td>bowersjeffrey@example.org</td>\n",
              "      <td>[484-855-8172, (993)169-9728x2920, 001-928-880...</td>\n",
              "      <td>[{'productid': 2, 'units': 481319, 'purchase_d...</td>\n",
              "    </tr>\n",
              "  </tbody>\n",
              "</table>\n",
              "</div>\n",
              "      <button class=\"colab-df-convert\" onclick=\"convertToInteractive('df-0d4de130-695e-439c-9339-78af3b969b09')\"\n",
              "              title=\"Convert this dataframe to an interactive table.\"\n",
              "              style=\"display:none;\">\n",
              "        \n",
              "  <svg xmlns=\"http://www.w3.org/2000/svg\" height=\"24px\"viewBox=\"0 0 24 24\"\n",
              "       width=\"24px\">\n",
              "    <path d=\"M0 0h24v24H0V0z\" fill=\"none\"/>\n",
              "    <path d=\"M18.56 5.44l.94 2.06.94-2.06 2.06-.94-2.06-.94-.94-2.06-.94 2.06-2.06.94zm-11 1L8.5 8.5l.94-2.06 2.06-.94-2.06-.94L8.5 2.5l-.94 2.06-2.06.94zm10 10l.94 2.06.94-2.06 2.06-.94-2.06-.94-.94-2.06-.94 2.06-2.06.94z\"/><path d=\"M17.41 7.96l-1.37-1.37c-.4-.4-.92-.59-1.43-.59-.52 0-1.04.2-1.43.59L10.3 9.45l-7.72 7.72c-.78.78-.78 2.05 0 2.83L4 21.41c.39.39.9.59 1.41.59.51 0 1.02-.2 1.41-.59l7.78-7.78 2.81-2.81c.8-.78.8-2.07 0-2.86zM5.41 20L4 18.59l7.72-7.72 1.47 1.35L5.41 20z\"/>\n",
              "  </svg>\n",
              "      </button>\n",
              "      \n",
              "  <style>\n",
              "    .colab-df-container {\n",
              "      display:flex;\n",
              "      flex-wrap:wrap;\n",
              "      gap: 12px;\n",
              "    }\n",
              "\n",
              "    .colab-df-convert {\n",
              "      background-color: #E8F0FE;\n",
              "      border: none;\n",
              "      border-radius: 50%;\n",
              "      cursor: pointer;\n",
              "      display: none;\n",
              "      fill: #1967D2;\n",
              "      height: 32px;\n",
              "      padding: 0 0 0 0;\n",
              "      width: 32px;\n",
              "    }\n",
              "\n",
              "    .colab-df-convert:hover {\n",
              "      background-color: #E2EBFA;\n",
              "      box-shadow: 0px 1px 2px rgba(60, 64, 67, 0.3), 0px 1px 3px 1px rgba(60, 64, 67, 0.15);\n",
              "      fill: #174EA6;\n",
              "    }\n",
              "\n",
              "    [theme=dark] .colab-df-convert {\n",
              "      background-color: #3B4455;\n",
              "      fill: #D2E3FC;\n",
              "    }\n",
              "\n",
              "    [theme=dark] .colab-df-convert:hover {\n",
              "      background-color: #434B5C;\n",
              "      box-shadow: 0px 1px 3px 1px rgba(0, 0, 0, 0.15);\n",
              "      filter: drop-shadow(0px 1px 2px rgba(0, 0, 0, 0.3));\n",
              "      fill: #FFFFFF;\n",
              "    }\n",
              "  </style>\n",
              "\n",
              "      <script>\n",
              "        const buttonEl =\n",
              "          document.querySelector('#df-0d4de130-695e-439c-9339-78af3b969b09 button.colab-df-convert');\n",
              "        buttonEl.style.display =\n",
              "          google.colab.kernel.accessAllowed ? 'block' : 'none';\n",
              "\n",
              "        async function convertToInteractive(key) {\n",
              "          const element = document.querySelector('#df-0d4de130-695e-439c-9339-78af3b969b09');\n",
              "          const dataTable =\n",
              "            await google.colab.kernel.invokeFunction('convertToInteractive',\n",
              "                                                     [key], {});\n",
              "          if (!dataTable) return;\n",
              "\n",
              "          const docLinkHtml = 'Like what you see? Visit the ' +\n",
              "            '<a target=\"_blank\" href=https://colab.research.google.com/notebooks/data_table.ipynb>data table notebook</a>'\n",
              "            + ' to learn more about interactive tables.';\n",
              "          element.innerHTML = '';\n",
              "          dataTable['output_type'] = 'display_data';\n",
              "          await google.colab.output.renderOutput(dataTable, element);\n",
              "          const docLink = document.createElement('div');\n",
              "          docLink.innerHTML = docLinkHtml;\n",
              "          element.appendChild(docLink);\n",
              "        }\n",
              "      </script>\n",
              "    </div>\n",
              "  </div>\n",
              "  "
            ]
          },
          "metadata": {},
          "execution_count": 125
        }
      ]
    },
    {
      "cell_type": "code",
      "source": [
        "products_df = pd.read_json('products.json')\n",
        "products_df.head(2)"
      ],
      "metadata": {
        "colab": {
          "base_uri": "https://localhost:8080/",
          "height": 112
        },
        "id": "TyYwyqmtkEYW",
        "outputId": "44745571-9c89-4415-cf2f-9a7ad13e2ab7"
      },
      "execution_count": null,
      "outputs": [
        {
          "output_type": "execute_result",
          "data": {
            "text/plain": [
              "                                    _id  productid  category  price\n",
              "0  {'$oid': '646fad92f2e8345bc9a7dea2'}          1  Clothing     51\n",
              "1  {'$oid': '646fad92f2e8345bc9a7dea3'}          2  Clothing     90"
            ],
            "text/html": [
              "\n",
              "  <div id=\"df-c92cf789-add2-4b97-b49b-0196643dff2d\">\n",
              "    <div class=\"colab-df-container\">\n",
              "      <div>\n",
              "<style scoped>\n",
              "    .dataframe tbody tr th:only-of-type {\n",
              "        vertical-align: middle;\n",
              "    }\n",
              "\n",
              "    .dataframe tbody tr th {\n",
              "        vertical-align: top;\n",
              "    }\n",
              "\n",
              "    .dataframe thead th {\n",
              "        text-align: right;\n",
              "    }\n",
              "</style>\n",
              "<table border=\"1\" class=\"dataframe\">\n",
              "  <thead>\n",
              "    <tr style=\"text-align: right;\">\n",
              "      <th></th>\n",
              "      <th>_id</th>\n",
              "      <th>productid</th>\n",
              "      <th>category</th>\n",
              "      <th>price</th>\n",
              "    </tr>\n",
              "  </thead>\n",
              "  <tbody>\n",
              "    <tr>\n",
              "      <th>0</th>\n",
              "      <td>{'$oid': '646fad92f2e8345bc9a7dea2'}</td>\n",
              "      <td>1</td>\n",
              "      <td>Clothing</td>\n",
              "      <td>51</td>\n",
              "    </tr>\n",
              "    <tr>\n",
              "      <th>1</th>\n",
              "      <td>{'$oid': '646fad92f2e8345bc9a7dea3'}</td>\n",
              "      <td>2</td>\n",
              "      <td>Clothing</td>\n",
              "      <td>90</td>\n",
              "    </tr>\n",
              "  </tbody>\n",
              "</table>\n",
              "</div>\n",
              "      <button class=\"colab-df-convert\" onclick=\"convertToInteractive('df-c92cf789-add2-4b97-b49b-0196643dff2d')\"\n",
              "              title=\"Convert this dataframe to an interactive table.\"\n",
              "              style=\"display:none;\">\n",
              "        \n",
              "  <svg xmlns=\"http://www.w3.org/2000/svg\" height=\"24px\"viewBox=\"0 0 24 24\"\n",
              "       width=\"24px\">\n",
              "    <path d=\"M0 0h24v24H0V0z\" fill=\"none\"/>\n",
              "    <path d=\"M18.56 5.44l.94 2.06.94-2.06 2.06-.94-2.06-.94-.94-2.06-.94 2.06-2.06.94zm-11 1L8.5 8.5l.94-2.06 2.06-.94-2.06-.94L8.5 2.5l-.94 2.06-2.06.94zm10 10l.94 2.06.94-2.06 2.06-.94-2.06-.94-.94-2.06-.94 2.06-2.06.94z\"/><path d=\"M17.41 7.96l-1.37-1.37c-.4-.4-.92-.59-1.43-.59-.52 0-1.04.2-1.43.59L10.3 9.45l-7.72 7.72c-.78.78-.78 2.05 0 2.83L4 21.41c.39.39.9.59 1.41.59.51 0 1.02-.2 1.41-.59l7.78-7.78 2.81-2.81c.8-.78.8-2.07 0-2.86zM5.41 20L4 18.59l7.72-7.72 1.47 1.35L5.41 20z\"/>\n",
              "  </svg>\n",
              "      </button>\n",
              "      \n",
              "  <style>\n",
              "    .colab-df-container {\n",
              "      display:flex;\n",
              "      flex-wrap:wrap;\n",
              "      gap: 12px;\n",
              "    }\n",
              "\n",
              "    .colab-df-convert {\n",
              "      background-color: #E8F0FE;\n",
              "      border: none;\n",
              "      border-radius: 50%;\n",
              "      cursor: pointer;\n",
              "      display: none;\n",
              "      fill: #1967D2;\n",
              "      height: 32px;\n",
              "      padding: 0 0 0 0;\n",
              "      width: 32px;\n",
              "    }\n",
              "\n",
              "    .colab-df-convert:hover {\n",
              "      background-color: #E2EBFA;\n",
              "      box-shadow: 0px 1px 2px rgba(60, 64, 67, 0.3), 0px 1px 3px 1px rgba(60, 64, 67, 0.15);\n",
              "      fill: #174EA6;\n",
              "    }\n",
              "\n",
              "    [theme=dark] .colab-df-convert {\n",
              "      background-color: #3B4455;\n",
              "      fill: #D2E3FC;\n",
              "    }\n",
              "\n",
              "    [theme=dark] .colab-df-convert:hover {\n",
              "      background-color: #434B5C;\n",
              "      box-shadow: 0px 1px 3px 1px rgba(0, 0, 0, 0.15);\n",
              "      filter: drop-shadow(0px 1px 2px rgba(0, 0, 0, 0.3));\n",
              "      fill: #FFFFFF;\n",
              "    }\n",
              "  </style>\n",
              "\n",
              "      <script>\n",
              "        const buttonEl =\n",
              "          document.querySelector('#df-c92cf789-add2-4b97-b49b-0196643dff2d button.colab-df-convert');\n",
              "        buttonEl.style.display =\n",
              "          google.colab.kernel.accessAllowed ? 'block' : 'none';\n",
              "\n",
              "        async function convertToInteractive(key) {\n",
              "          const element = document.querySelector('#df-c92cf789-add2-4b97-b49b-0196643dff2d');\n",
              "          const dataTable =\n",
              "            await google.colab.kernel.invokeFunction('convertToInteractive',\n",
              "                                                     [key], {});\n",
              "          if (!dataTable) return;\n",
              "\n",
              "          const docLinkHtml = 'Like what you see? Visit the ' +\n",
              "            '<a target=\"_blank\" href=https://colab.research.google.com/notebooks/data_table.ipynb>data table notebook</a>'\n",
              "            + ' to learn more about interactive tables.';\n",
              "          element.innerHTML = '';\n",
              "          dataTable['output_type'] = 'display_data';\n",
              "          await google.colab.output.renderOutput(dataTable, element);\n",
              "          const docLink = document.createElement('div');\n",
              "          docLink.innerHTML = docLinkHtml;\n",
              "          element.appendChild(docLink);\n",
              "        }\n",
              "      </script>\n",
              "    </div>\n",
              "  </div>\n",
              "  "
            ]
          },
          "metadata": {},
          "execution_count": 126
        }
      ]
    },
    {
      "cell_type": "markdown",
      "source": [
        "### Merge DataFrames"
      ],
      "metadata": {
        "id": "xG-DsipBJXwz"
      }
    },
    {
      "cell_type": "code",
      "source": [
        "customers_df.head(4)"
      ],
      "metadata": {
        "colab": {
          "base_uri": "https://localhost:8080/",
          "height": 288
        },
        "id": "EAIF7PkYQ8tz",
        "outputId": "3865b9e2-21a6-4463-95e4-0e8bf369edfd"
      },
      "execution_count": null,
      "outputs": [
        {
          "output_type": "execute_result",
          "data": {
            "text/plain": [
              "                                    _id  customerid                name  \\\n",
              "0  {'$oid': '646fad92f2e8345bc9a7de3e'}           1     Samantha Morris   \n",
              "1  {'$oid': '646fad92f2e8345bc9a7de3f'}           2        Steven Boyle   \n",
              "2  {'$oid': '646fad92f2e8345bc9a7de40'}           3     Francisco Davis   \n",
              "3  {'$oid': '646fad92f2e8345bc9a7de41'}           4  Mrs. April Maynard   \n",
              "\n",
              "                       email  \\\n",
              "0  bradleythomas@example.org   \n",
              "1  bowersjeffrey@example.org   \n",
              "2    marcussmith@example.org   \n",
              "3  dianagonzalez@example.net   \n",
              "\n",
              "                                               phone  \\\n",
              "0  [+1-069-970-8404x5473, 001-151-571-8094, 001-9...   \n",
              "1  [484-855-8172, (993)169-9728x2920, 001-928-880...   \n",
              "2      [533-742-3054, 707.447.4667, +1-520-673-8349]   \n",
              "3  [(314)763-7166x9472, 001-861-083-9634x0712, 40...   \n",
              "\n",
              "                                              orders  \n",
              "0                                                 []  \n",
              "1  [{'productid': 2, 'units': 481319, 'purchase_d...  \n",
              "2  [{'productid': 9, 'units': 988209, 'purchase_d...  \n",
              "3  [{'productid': 3, 'units': 304654, 'purchase_d...  "
            ],
            "text/html": [
              "\n",
              "  <div id=\"df-27700a60-9b1c-473e-97a2-cba37f4cffea\">\n",
              "    <div class=\"colab-df-container\">\n",
              "      <div>\n",
              "<style scoped>\n",
              "    .dataframe tbody tr th:only-of-type {\n",
              "        vertical-align: middle;\n",
              "    }\n",
              "\n",
              "    .dataframe tbody tr th {\n",
              "        vertical-align: top;\n",
              "    }\n",
              "\n",
              "    .dataframe thead th {\n",
              "        text-align: right;\n",
              "    }\n",
              "</style>\n",
              "<table border=\"1\" class=\"dataframe\">\n",
              "  <thead>\n",
              "    <tr style=\"text-align: right;\">\n",
              "      <th></th>\n",
              "      <th>_id</th>\n",
              "      <th>customerid</th>\n",
              "      <th>name</th>\n",
              "      <th>email</th>\n",
              "      <th>phone</th>\n",
              "      <th>orders</th>\n",
              "    </tr>\n",
              "  </thead>\n",
              "  <tbody>\n",
              "    <tr>\n",
              "      <th>0</th>\n",
              "      <td>{'$oid': '646fad92f2e8345bc9a7de3e'}</td>\n",
              "      <td>1</td>\n",
              "      <td>Samantha Morris</td>\n",
              "      <td>bradleythomas@example.org</td>\n",
              "      <td>[+1-069-970-8404x5473, 001-151-571-8094, 001-9...</td>\n",
              "      <td>[]</td>\n",
              "    </tr>\n",
              "    <tr>\n",
              "      <th>1</th>\n",
              "      <td>{'$oid': '646fad92f2e8345bc9a7de3f'}</td>\n",
              "      <td>2</td>\n",
              "      <td>Steven Boyle</td>\n",
              "      <td>bowersjeffrey@example.org</td>\n",
              "      <td>[484-855-8172, (993)169-9728x2920, 001-928-880...</td>\n",
              "      <td>[{'productid': 2, 'units': 481319, 'purchase_d...</td>\n",
              "    </tr>\n",
              "    <tr>\n",
              "      <th>2</th>\n",
              "      <td>{'$oid': '646fad92f2e8345bc9a7de40'}</td>\n",
              "      <td>3</td>\n",
              "      <td>Francisco Davis</td>\n",
              "      <td>marcussmith@example.org</td>\n",
              "      <td>[533-742-3054, 707.447.4667, +1-520-673-8349]</td>\n",
              "      <td>[{'productid': 9, 'units': 988209, 'purchase_d...</td>\n",
              "    </tr>\n",
              "    <tr>\n",
              "      <th>3</th>\n",
              "      <td>{'$oid': '646fad92f2e8345bc9a7de41'}</td>\n",
              "      <td>4</td>\n",
              "      <td>Mrs. April Maynard</td>\n",
              "      <td>dianagonzalez@example.net</td>\n",
              "      <td>[(314)763-7166x9472, 001-861-083-9634x0712, 40...</td>\n",
              "      <td>[{'productid': 3, 'units': 304654, 'purchase_d...</td>\n",
              "    </tr>\n",
              "  </tbody>\n",
              "</table>\n",
              "</div>\n",
              "      <button class=\"colab-df-convert\" onclick=\"convertToInteractive('df-27700a60-9b1c-473e-97a2-cba37f4cffea')\"\n",
              "              title=\"Convert this dataframe to an interactive table.\"\n",
              "              style=\"display:none;\">\n",
              "        \n",
              "  <svg xmlns=\"http://www.w3.org/2000/svg\" height=\"24px\"viewBox=\"0 0 24 24\"\n",
              "       width=\"24px\">\n",
              "    <path d=\"M0 0h24v24H0V0z\" fill=\"none\"/>\n",
              "    <path d=\"M18.56 5.44l.94 2.06.94-2.06 2.06-.94-2.06-.94-.94-2.06-.94 2.06-2.06.94zm-11 1L8.5 8.5l.94-2.06 2.06-.94-2.06-.94L8.5 2.5l-.94 2.06-2.06.94zm10 10l.94 2.06.94-2.06 2.06-.94-2.06-.94-.94-2.06-.94 2.06-2.06.94z\"/><path d=\"M17.41 7.96l-1.37-1.37c-.4-.4-.92-.59-1.43-.59-.52 0-1.04.2-1.43.59L10.3 9.45l-7.72 7.72c-.78.78-.78 2.05 0 2.83L4 21.41c.39.39.9.59 1.41.59.51 0 1.02-.2 1.41-.59l7.78-7.78 2.81-2.81c.8-.78.8-2.07 0-2.86zM5.41 20L4 18.59l7.72-7.72 1.47 1.35L5.41 20z\"/>\n",
              "  </svg>\n",
              "      </button>\n",
              "      \n",
              "  <style>\n",
              "    .colab-df-container {\n",
              "      display:flex;\n",
              "      flex-wrap:wrap;\n",
              "      gap: 12px;\n",
              "    }\n",
              "\n",
              "    .colab-df-convert {\n",
              "      background-color: #E8F0FE;\n",
              "      border: none;\n",
              "      border-radius: 50%;\n",
              "      cursor: pointer;\n",
              "      display: none;\n",
              "      fill: #1967D2;\n",
              "      height: 32px;\n",
              "      padding: 0 0 0 0;\n",
              "      width: 32px;\n",
              "    }\n",
              "\n",
              "    .colab-df-convert:hover {\n",
              "      background-color: #E2EBFA;\n",
              "      box-shadow: 0px 1px 2px rgba(60, 64, 67, 0.3), 0px 1px 3px 1px rgba(60, 64, 67, 0.15);\n",
              "      fill: #174EA6;\n",
              "    }\n",
              "\n",
              "    [theme=dark] .colab-df-convert {\n",
              "      background-color: #3B4455;\n",
              "      fill: #D2E3FC;\n",
              "    }\n",
              "\n",
              "    [theme=dark] .colab-df-convert:hover {\n",
              "      background-color: #434B5C;\n",
              "      box-shadow: 0px 1px 3px 1px rgba(0, 0, 0, 0.15);\n",
              "      filter: drop-shadow(0px 1px 2px rgba(0, 0, 0, 0.3));\n",
              "      fill: #FFFFFF;\n",
              "    }\n",
              "  </style>\n",
              "\n",
              "      <script>\n",
              "        const buttonEl =\n",
              "          document.querySelector('#df-27700a60-9b1c-473e-97a2-cba37f4cffea button.colab-df-convert');\n",
              "        buttonEl.style.display =\n",
              "          google.colab.kernel.accessAllowed ? 'block' : 'none';\n",
              "\n",
              "        async function convertToInteractive(key) {\n",
              "          const element = document.querySelector('#df-27700a60-9b1c-473e-97a2-cba37f4cffea');\n",
              "          const dataTable =\n",
              "            await google.colab.kernel.invokeFunction('convertToInteractive',\n",
              "                                                     [key], {});\n",
              "          if (!dataTable) return;\n",
              "\n",
              "          const docLinkHtml = 'Like what you see? Visit the ' +\n",
              "            '<a target=\"_blank\" href=https://colab.research.google.com/notebooks/data_table.ipynb>data table notebook</a>'\n",
              "            + ' to learn more about interactive tables.';\n",
              "          element.innerHTML = '';\n",
              "          dataTable['output_type'] = 'display_data';\n",
              "          await google.colab.output.renderOutput(dataTable, element);\n",
              "          const docLink = document.createElement('div');\n",
              "          docLink.innerHTML = docLinkHtml;\n",
              "          element.appendChild(docLink);\n",
              "        }\n",
              "      </script>\n",
              "    </div>\n",
              "  </div>\n",
              "  "
            ]
          },
          "metadata": {},
          "execution_count": 133
        }
      ]
    },
    {
      "cell_type": "code",
      "source": [
        "customers_df.explode('orders').head(4)"
      ],
      "metadata": {
        "colab": {
          "base_uri": "https://localhost:8080/",
          "height": 219
        },
        "id": "isHzUvYSQxT2",
        "outputId": "18c8928b-4dff-4fd3-884a-241d03789c52"
      },
      "execution_count": null,
      "outputs": [
        {
          "output_type": "execute_result",
          "data": {
            "text/plain": [
              "                                    _id  customerid             name  \\\n",
              "0  {'$oid': '646fad92f2e8345bc9a7de3e'}           1  Samantha Morris   \n",
              "1  {'$oid': '646fad92f2e8345bc9a7de3f'}           2     Steven Boyle   \n",
              "1  {'$oid': '646fad92f2e8345bc9a7de3f'}           2     Steven Boyle   \n",
              "2  {'$oid': '646fad92f2e8345bc9a7de40'}           3  Francisco Davis   \n",
              "\n",
              "                       email  \\\n",
              "0  bradleythomas@example.org   \n",
              "1  bowersjeffrey@example.org   \n",
              "1  bowersjeffrey@example.org   \n",
              "2    marcussmith@example.org   \n",
              "\n",
              "                                               phone  \\\n",
              "0  [+1-069-970-8404x5473, 001-151-571-8094, 001-9...   \n",
              "1  [484-855-8172, (993)169-9728x2920, 001-928-880...   \n",
              "1  [484-855-8172, (993)169-9728x2920, 001-928-880...   \n",
              "2      [533-742-3054, 707.447.4667, +1-520-673-8349]   \n",
              "\n",
              "                                              orders  \n",
              "0                                                NaN  \n",
              "1  {'productid': 2, 'units': 481319, 'purchase_da...  \n",
              "1  {'productid': 5, 'units': 302015, 'purchase_da...  \n",
              "2  {'productid': 9, 'units': 988209, 'purchase_da...  "
            ],
            "text/html": [
              "\n",
              "  <div id=\"df-b1243e11-392a-4d15-a098-860c6f2a3735\">\n",
              "    <div class=\"colab-df-container\">\n",
              "      <div>\n",
              "<style scoped>\n",
              "    .dataframe tbody tr th:only-of-type {\n",
              "        vertical-align: middle;\n",
              "    }\n",
              "\n",
              "    .dataframe tbody tr th {\n",
              "        vertical-align: top;\n",
              "    }\n",
              "\n",
              "    .dataframe thead th {\n",
              "        text-align: right;\n",
              "    }\n",
              "</style>\n",
              "<table border=\"1\" class=\"dataframe\">\n",
              "  <thead>\n",
              "    <tr style=\"text-align: right;\">\n",
              "      <th></th>\n",
              "      <th>_id</th>\n",
              "      <th>customerid</th>\n",
              "      <th>name</th>\n",
              "      <th>email</th>\n",
              "      <th>phone</th>\n",
              "      <th>orders</th>\n",
              "    </tr>\n",
              "  </thead>\n",
              "  <tbody>\n",
              "    <tr>\n",
              "      <th>0</th>\n",
              "      <td>{'$oid': '646fad92f2e8345bc9a7de3e'}</td>\n",
              "      <td>1</td>\n",
              "      <td>Samantha Morris</td>\n",
              "      <td>bradleythomas@example.org</td>\n",
              "      <td>[+1-069-970-8404x5473, 001-151-571-8094, 001-9...</td>\n",
              "      <td>NaN</td>\n",
              "    </tr>\n",
              "    <tr>\n",
              "      <th>1</th>\n",
              "      <td>{'$oid': '646fad92f2e8345bc9a7de3f'}</td>\n",
              "      <td>2</td>\n",
              "      <td>Steven Boyle</td>\n",
              "      <td>bowersjeffrey@example.org</td>\n",
              "      <td>[484-855-8172, (993)169-9728x2920, 001-928-880...</td>\n",
              "      <td>{'productid': 2, 'units': 481319, 'purchase_da...</td>\n",
              "    </tr>\n",
              "    <tr>\n",
              "      <th>1</th>\n",
              "      <td>{'$oid': '646fad92f2e8345bc9a7de3f'}</td>\n",
              "      <td>2</td>\n",
              "      <td>Steven Boyle</td>\n",
              "      <td>bowersjeffrey@example.org</td>\n",
              "      <td>[484-855-8172, (993)169-9728x2920, 001-928-880...</td>\n",
              "      <td>{'productid': 5, 'units': 302015, 'purchase_da...</td>\n",
              "    </tr>\n",
              "    <tr>\n",
              "      <th>2</th>\n",
              "      <td>{'$oid': '646fad92f2e8345bc9a7de40'}</td>\n",
              "      <td>3</td>\n",
              "      <td>Francisco Davis</td>\n",
              "      <td>marcussmith@example.org</td>\n",
              "      <td>[533-742-3054, 707.447.4667, +1-520-673-8349]</td>\n",
              "      <td>{'productid': 9, 'units': 988209, 'purchase_da...</td>\n",
              "    </tr>\n",
              "  </tbody>\n",
              "</table>\n",
              "</div>\n",
              "      <button class=\"colab-df-convert\" onclick=\"convertToInteractive('df-b1243e11-392a-4d15-a098-860c6f2a3735')\"\n",
              "              title=\"Convert this dataframe to an interactive table.\"\n",
              "              style=\"display:none;\">\n",
              "        \n",
              "  <svg xmlns=\"http://www.w3.org/2000/svg\" height=\"24px\"viewBox=\"0 0 24 24\"\n",
              "       width=\"24px\">\n",
              "    <path d=\"M0 0h24v24H0V0z\" fill=\"none\"/>\n",
              "    <path d=\"M18.56 5.44l.94 2.06.94-2.06 2.06-.94-2.06-.94-.94-2.06-.94 2.06-2.06.94zm-11 1L8.5 8.5l.94-2.06 2.06-.94-2.06-.94L8.5 2.5l-.94 2.06-2.06.94zm10 10l.94 2.06.94-2.06 2.06-.94-2.06-.94-.94-2.06-.94 2.06-2.06.94z\"/><path d=\"M17.41 7.96l-1.37-1.37c-.4-.4-.92-.59-1.43-.59-.52 0-1.04.2-1.43.59L10.3 9.45l-7.72 7.72c-.78.78-.78 2.05 0 2.83L4 21.41c.39.39.9.59 1.41.59.51 0 1.02-.2 1.41-.59l7.78-7.78 2.81-2.81c.8-.78.8-2.07 0-2.86zM5.41 20L4 18.59l7.72-7.72 1.47 1.35L5.41 20z\"/>\n",
              "  </svg>\n",
              "      </button>\n",
              "      \n",
              "  <style>\n",
              "    .colab-df-container {\n",
              "      display:flex;\n",
              "      flex-wrap:wrap;\n",
              "      gap: 12px;\n",
              "    }\n",
              "\n",
              "    .colab-df-convert {\n",
              "      background-color: #E8F0FE;\n",
              "      border: none;\n",
              "      border-radius: 50%;\n",
              "      cursor: pointer;\n",
              "      display: none;\n",
              "      fill: #1967D2;\n",
              "      height: 32px;\n",
              "      padding: 0 0 0 0;\n",
              "      width: 32px;\n",
              "    }\n",
              "\n",
              "    .colab-df-convert:hover {\n",
              "      background-color: #E2EBFA;\n",
              "      box-shadow: 0px 1px 2px rgba(60, 64, 67, 0.3), 0px 1px 3px 1px rgba(60, 64, 67, 0.15);\n",
              "      fill: #174EA6;\n",
              "    }\n",
              "\n",
              "    [theme=dark] .colab-df-convert {\n",
              "      background-color: #3B4455;\n",
              "      fill: #D2E3FC;\n",
              "    }\n",
              "\n",
              "    [theme=dark] .colab-df-convert:hover {\n",
              "      background-color: #434B5C;\n",
              "      box-shadow: 0px 1px 3px 1px rgba(0, 0, 0, 0.15);\n",
              "      filter: drop-shadow(0px 1px 2px rgba(0, 0, 0, 0.3));\n",
              "      fill: #FFFFFF;\n",
              "    }\n",
              "  </style>\n",
              "\n",
              "      <script>\n",
              "        const buttonEl =\n",
              "          document.querySelector('#df-b1243e11-392a-4d15-a098-860c6f2a3735 button.colab-df-convert');\n",
              "        buttonEl.style.display =\n",
              "          google.colab.kernel.accessAllowed ? 'block' : 'none';\n",
              "\n",
              "        async function convertToInteractive(key) {\n",
              "          const element = document.querySelector('#df-b1243e11-392a-4d15-a098-860c6f2a3735');\n",
              "          const dataTable =\n",
              "            await google.colab.kernel.invokeFunction('convertToInteractive',\n",
              "                                                     [key], {});\n",
              "          if (!dataTable) return;\n",
              "\n",
              "          const docLinkHtml = 'Like what you see? Visit the ' +\n",
              "            '<a target=\"_blank\" href=https://colab.research.google.com/notebooks/data_table.ipynb>data table notebook</a>'\n",
              "            + ' to learn more about interactive tables.';\n",
              "          element.innerHTML = '';\n",
              "          dataTable['output_type'] = 'display_data';\n",
              "          await google.colab.output.renderOutput(dataTable, element);\n",
              "          const docLink = document.createElement('div');\n",
              "          docLink.innerHTML = docLinkHtml;\n",
              "          element.appendChild(docLink);\n",
              "        }\n",
              "      </script>\n",
              "    </div>\n",
              "  </div>\n",
              "  "
            ]
          },
          "metadata": {},
          "execution_count": 132
        }
      ]
    },
    {
      "cell_type": "code",
      "source": [
        "pd.json_normalize(customers_df.explode('orders')['orders'])"
      ],
      "metadata": {
        "id": "3jTV5TR6SZHy",
        "outputId": "ab6d77f7-7963-4b51-d6bc-246b925aec45",
        "colab": {
          "base_uri": "https://localhost:8080/",
          "height": 423
        }
      },
      "execution_count": null,
      "outputs": [
        {
          "output_type": "execute_result",
          "data": {
            "text/plain": [
              "     productid        units   purchase_date.$date\n",
              "0          NaN          NaN                   NaN\n",
              "1          2.0     481319.0  2023-01-26T00:00:00Z\n",
              "2          5.0     302015.0  2023-01-27T00:00:00Z\n",
              "3          9.0     988209.0  2022-06-13T00:00:00Z\n",
              "4          8.0     863970.0  2023-03-15T00:00:00Z\n",
              "..         ...          ...                   ...\n",
              "202        7.0     986202.0  2022-10-01T00:00:00Z\n",
              "203        9.0  716146000.0  2023-01-29T00:00:00Z\n",
              "204        3.0     642181.0  2023-05-16T00:00:00Z\n",
              "205        8.0  167524000.0  2022-06-17T00:00:00Z\n",
              "206        3.0     577200.0  2023-02-25T00:00:00Z\n",
              "\n",
              "[207 rows x 3 columns]"
            ],
            "text/html": [
              "\n",
              "  <div id=\"df-26421271-83df-4070-b79a-729a9b87d954\">\n",
              "    <div class=\"colab-df-container\">\n",
              "      <div>\n",
              "<style scoped>\n",
              "    .dataframe tbody tr th:only-of-type {\n",
              "        vertical-align: middle;\n",
              "    }\n",
              "\n",
              "    .dataframe tbody tr th {\n",
              "        vertical-align: top;\n",
              "    }\n",
              "\n",
              "    .dataframe thead th {\n",
              "        text-align: right;\n",
              "    }\n",
              "</style>\n",
              "<table border=\"1\" class=\"dataframe\">\n",
              "  <thead>\n",
              "    <tr style=\"text-align: right;\">\n",
              "      <th></th>\n",
              "      <th>productid</th>\n",
              "      <th>units</th>\n",
              "      <th>purchase_date.$date</th>\n",
              "    </tr>\n",
              "  </thead>\n",
              "  <tbody>\n",
              "    <tr>\n",
              "      <th>0</th>\n",
              "      <td>NaN</td>\n",
              "      <td>NaN</td>\n",
              "      <td>NaN</td>\n",
              "    </tr>\n",
              "    <tr>\n",
              "      <th>1</th>\n",
              "      <td>2.0</td>\n",
              "      <td>481319.0</td>\n",
              "      <td>2023-01-26T00:00:00Z</td>\n",
              "    </tr>\n",
              "    <tr>\n",
              "      <th>2</th>\n",
              "      <td>5.0</td>\n",
              "      <td>302015.0</td>\n",
              "      <td>2023-01-27T00:00:00Z</td>\n",
              "    </tr>\n",
              "    <tr>\n",
              "      <th>3</th>\n",
              "      <td>9.0</td>\n",
              "      <td>988209.0</td>\n",
              "      <td>2022-06-13T00:00:00Z</td>\n",
              "    </tr>\n",
              "    <tr>\n",
              "      <th>4</th>\n",
              "      <td>8.0</td>\n",
              "      <td>863970.0</td>\n",
              "      <td>2023-03-15T00:00:00Z</td>\n",
              "    </tr>\n",
              "    <tr>\n",
              "      <th>...</th>\n",
              "      <td>...</td>\n",
              "      <td>...</td>\n",
              "      <td>...</td>\n",
              "    </tr>\n",
              "    <tr>\n",
              "      <th>202</th>\n",
              "      <td>7.0</td>\n",
              "      <td>986202.0</td>\n",
              "      <td>2022-10-01T00:00:00Z</td>\n",
              "    </tr>\n",
              "    <tr>\n",
              "      <th>203</th>\n",
              "      <td>9.0</td>\n",
              "      <td>716146000.0</td>\n",
              "      <td>2023-01-29T00:00:00Z</td>\n",
              "    </tr>\n",
              "    <tr>\n",
              "      <th>204</th>\n",
              "      <td>3.0</td>\n",
              "      <td>642181.0</td>\n",
              "      <td>2023-05-16T00:00:00Z</td>\n",
              "    </tr>\n",
              "    <tr>\n",
              "      <th>205</th>\n",
              "      <td>8.0</td>\n",
              "      <td>167524000.0</td>\n",
              "      <td>2022-06-17T00:00:00Z</td>\n",
              "    </tr>\n",
              "    <tr>\n",
              "      <th>206</th>\n",
              "      <td>3.0</td>\n",
              "      <td>577200.0</td>\n",
              "      <td>2023-02-25T00:00:00Z</td>\n",
              "    </tr>\n",
              "  </tbody>\n",
              "</table>\n",
              "<p>207 rows × 3 columns</p>\n",
              "</div>\n",
              "      <button class=\"colab-df-convert\" onclick=\"convertToInteractive('df-26421271-83df-4070-b79a-729a9b87d954')\"\n",
              "              title=\"Convert this dataframe to an interactive table.\"\n",
              "              style=\"display:none;\">\n",
              "        \n",
              "  <svg xmlns=\"http://www.w3.org/2000/svg\" height=\"24px\"viewBox=\"0 0 24 24\"\n",
              "       width=\"24px\">\n",
              "    <path d=\"M0 0h24v24H0V0z\" fill=\"none\"/>\n",
              "    <path d=\"M18.56 5.44l.94 2.06.94-2.06 2.06-.94-2.06-.94-.94-2.06-.94 2.06-2.06.94zm-11 1L8.5 8.5l.94-2.06 2.06-.94-2.06-.94L8.5 2.5l-.94 2.06-2.06.94zm10 10l.94 2.06.94-2.06 2.06-.94-2.06-.94-.94-2.06-.94 2.06-2.06.94z\"/><path d=\"M17.41 7.96l-1.37-1.37c-.4-.4-.92-.59-1.43-.59-.52 0-1.04.2-1.43.59L10.3 9.45l-7.72 7.72c-.78.78-.78 2.05 0 2.83L4 21.41c.39.39.9.59 1.41.59.51 0 1.02-.2 1.41-.59l7.78-7.78 2.81-2.81c.8-.78.8-2.07 0-2.86zM5.41 20L4 18.59l7.72-7.72 1.47 1.35L5.41 20z\"/>\n",
              "  </svg>\n",
              "      </button>\n",
              "      \n",
              "  <style>\n",
              "    .colab-df-container {\n",
              "      display:flex;\n",
              "      flex-wrap:wrap;\n",
              "      gap: 12px;\n",
              "    }\n",
              "\n",
              "    .colab-df-convert {\n",
              "      background-color: #E8F0FE;\n",
              "      border: none;\n",
              "      border-radius: 50%;\n",
              "      cursor: pointer;\n",
              "      display: none;\n",
              "      fill: #1967D2;\n",
              "      height: 32px;\n",
              "      padding: 0 0 0 0;\n",
              "      width: 32px;\n",
              "    }\n",
              "\n",
              "    .colab-df-convert:hover {\n",
              "      background-color: #E2EBFA;\n",
              "      box-shadow: 0px 1px 2px rgba(60, 64, 67, 0.3), 0px 1px 3px 1px rgba(60, 64, 67, 0.15);\n",
              "      fill: #174EA6;\n",
              "    }\n",
              "\n",
              "    [theme=dark] .colab-df-convert {\n",
              "      background-color: #3B4455;\n",
              "      fill: #D2E3FC;\n",
              "    }\n",
              "\n",
              "    [theme=dark] .colab-df-convert:hover {\n",
              "      background-color: #434B5C;\n",
              "      box-shadow: 0px 1px 3px 1px rgba(0, 0, 0, 0.15);\n",
              "      filter: drop-shadow(0px 1px 2px rgba(0, 0, 0, 0.3));\n",
              "      fill: #FFFFFF;\n",
              "    }\n",
              "  </style>\n",
              "\n",
              "      <script>\n",
              "        const buttonEl =\n",
              "          document.querySelector('#df-26421271-83df-4070-b79a-729a9b87d954 button.colab-df-convert');\n",
              "        buttonEl.style.display =\n",
              "          google.colab.kernel.accessAllowed ? 'block' : 'none';\n",
              "\n",
              "        async function convertToInteractive(key) {\n",
              "          const element = document.querySelector('#df-26421271-83df-4070-b79a-729a9b87d954');\n",
              "          const dataTable =\n",
              "            await google.colab.kernel.invokeFunction('convertToInteractive',\n",
              "                                                     [key], {});\n",
              "          if (!dataTable) return;\n",
              "\n",
              "          const docLinkHtml = 'Like what you see? Visit the ' +\n",
              "            '<a target=\"_blank\" href=https://colab.research.google.com/notebooks/data_table.ipynb>data table notebook</a>'\n",
              "            + ' to learn more about interactive tables.';\n",
              "          element.innerHTML = '';\n",
              "          dataTable['output_type'] = 'display_data';\n",
              "          await google.colab.output.renderOutput(dataTable, element);\n",
              "          const docLink = document.createElement('div');\n",
              "          docLink.innerHTML = docLinkHtml;\n",
              "          element.appendChild(docLink);\n",
              "        }\n",
              "      </script>\n",
              "    </div>\n",
              "  </div>\n",
              "  "
            ]
          },
          "metadata": {},
          "execution_count": 134
        }
      ]
    },
    {
      "cell_type": "code",
      "source": [
        "cust_ord_prods_df = customers_df.merge(products_df, left_on='productid', right_on='productid')\n",
        "cust_ord_prods_df.head(3)"
      ],
      "metadata": {
        "colab": {
          "base_uri": "https://localhost:8080/",
          "height": 341
        },
        "id": "0sDVIswjJpOa",
        "outputId": "10f04cef-0937-4682-dbcb-6f7239dd9c9e"
      },
      "execution_count": null,
      "outputs": [
        {
          "output_type": "error",
          "ename": "KeyError",
          "evalue": "ignored",
          "traceback": [
            "\u001b[0;31m---------------------------------------------------------------------------\u001b[0m",
            "\u001b[0;31mKeyError\u001b[0m                                  Traceback (most recent call last)",
            "\u001b[0;32m<ipython-input-128-9de5ae884e2f>\u001b[0m in \u001b[0;36m<cell line: 1>\u001b[0;34m()\u001b[0m\n\u001b[0;32m----> 1\u001b[0;31m \u001b[0mcust_ord_prods_df\u001b[0m \u001b[0;34m=\u001b[0m \u001b[0mcustomers_df\u001b[0m\u001b[0;34m.\u001b[0m\u001b[0mmerge\u001b[0m\u001b[0;34m(\u001b[0m\u001b[0mproducts_df\u001b[0m\u001b[0;34m,\u001b[0m \u001b[0mleft_on\u001b[0m\u001b[0;34m=\u001b[0m\u001b[0;34m'productid'\u001b[0m\u001b[0;34m,\u001b[0m \u001b[0mright_on\u001b[0m\u001b[0;34m=\u001b[0m\u001b[0;34m'productid'\u001b[0m\u001b[0;34m)\u001b[0m\u001b[0;34m\u001b[0m\u001b[0;34m\u001b[0m\u001b[0m\n\u001b[0m\u001b[1;32m      2\u001b[0m \u001b[0mcust_ord_prods_df\u001b[0m\u001b[0;34m.\u001b[0m\u001b[0mhead\u001b[0m\u001b[0;34m(\u001b[0m\u001b[0;36m3\u001b[0m\u001b[0;34m)\u001b[0m\u001b[0;34m\u001b[0m\u001b[0;34m\u001b[0m\u001b[0m\n",
            "\u001b[0;32m/usr/local/lib/python3.10/dist-packages/pandas/core/frame.py\u001b[0m in \u001b[0;36mmerge\u001b[0;34m(self, right, how, on, left_on, right_on, left_index, right_index, sort, suffixes, copy, indicator, validate)\u001b[0m\n\u001b[1;32m  10091\u001b[0m         \u001b[0;32mfrom\u001b[0m \u001b[0mpandas\u001b[0m\u001b[0;34m.\u001b[0m\u001b[0mcore\u001b[0m\u001b[0;34m.\u001b[0m\u001b[0mreshape\u001b[0m\u001b[0;34m.\u001b[0m\u001b[0mmerge\u001b[0m \u001b[0;32mimport\u001b[0m \u001b[0mmerge\u001b[0m\u001b[0;34m\u001b[0m\u001b[0;34m\u001b[0m\u001b[0m\n\u001b[1;32m  10092\u001b[0m \u001b[0;34m\u001b[0m\u001b[0m\n\u001b[0;32m> 10093\u001b[0;31m         return merge(\n\u001b[0m\u001b[1;32m  10094\u001b[0m             \u001b[0mself\u001b[0m\u001b[0;34m,\u001b[0m\u001b[0;34m\u001b[0m\u001b[0;34m\u001b[0m\u001b[0m\n\u001b[1;32m  10095\u001b[0m             \u001b[0mright\u001b[0m\u001b[0;34m,\u001b[0m\u001b[0;34m\u001b[0m\u001b[0;34m\u001b[0m\u001b[0m\n",
            "\u001b[0;32m/usr/local/lib/python3.10/dist-packages/pandas/core/reshape/merge.py\u001b[0m in \u001b[0;36mmerge\u001b[0;34m(left, right, how, on, left_on, right_on, left_index, right_index, sort, suffixes, copy, indicator, validate)\u001b[0m\n\u001b[1;32m    108\u001b[0m     \u001b[0mvalidate\u001b[0m\u001b[0;34m:\u001b[0m \u001b[0mstr\u001b[0m \u001b[0;34m|\u001b[0m \u001b[0;32mNone\u001b[0m \u001b[0;34m=\u001b[0m \u001b[0;32mNone\u001b[0m\u001b[0;34m,\u001b[0m\u001b[0;34m\u001b[0m\u001b[0;34m\u001b[0m\u001b[0m\n\u001b[1;32m    109\u001b[0m ) -> DataFrame:\n\u001b[0;32m--> 110\u001b[0;31m     op = _MergeOperation(\n\u001b[0m\u001b[1;32m    111\u001b[0m         \u001b[0mleft\u001b[0m\u001b[0;34m,\u001b[0m\u001b[0;34m\u001b[0m\u001b[0;34m\u001b[0m\u001b[0m\n\u001b[1;32m    112\u001b[0m         \u001b[0mright\u001b[0m\u001b[0;34m,\u001b[0m\u001b[0;34m\u001b[0m\u001b[0;34m\u001b[0m\u001b[0m\n",
            "\u001b[0;32m/usr/local/lib/python3.10/dist-packages/pandas/core/reshape/merge.py\u001b[0m in \u001b[0;36m__init__\u001b[0;34m(self, left, right, how, on, left_on, right_on, axis, left_index, right_index, sort, suffixes, indicator, validate)\u001b[0m\n\u001b[1;32m    701\u001b[0m             \u001b[0mself\u001b[0m\u001b[0;34m.\u001b[0m\u001b[0mright_join_keys\u001b[0m\u001b[0;34m,\u001b[0m\u001b[0;34m\u001b[0m\u001b[0;34m\u001b[0m\u001b[0m\n\u001b[1;32m    702\u001b[0m             \u001b[0mself\u001b[0m\u001b[0;34m.\u001b[0m\u001b[0mjoin_names\u001b[0m\u001b[0;34m,\u001b[0m\u001b[0;34m\u001b[0m\u001b[0;34m\u001b[0m\u001b[0m\n\u001b[0;32m--> 703\u001b[0;31m         ) = self._get_merge_keys()\n\u001b[0m\u001b[1;32m    704\u001b[0m \u001b[0;34m\u001b[0m\u001b[0m\n\u001b[1;32m    705\u001b[0m         \u001b[0;31m# validate the merge keys dtypes. We may need to coerce\u001b[0m\u001b[0;34m\u001b[0m\u001b[0;34m\u001b[0m\u001b[0m\n",
            "\u001b[0;32m/usr/local/lib/python3.10/dist-packages/pandas/core/reshape/merge.py\u001b[0m in \u001b[0;36m_get_merge_keys\u001b[0;34m(self)\u001b[0m\n\u001b[1;32m   1177\u001b[0m                         \u001b[0;31m#  the latter of which will raise\u001b[0m\u001b[0;34m\u001b[0m\u001b[0;34m\u001b[0m\u001b[0m\n\u001b[1;32m   1178\u001b[0m                         \u001b[0mlk\u001b[0m \u001b[0;34m=\u001b[0m \u001b[0mcast\u001b[0m\u001b[0;34m(\u001b[0m\u001b[0mHashable\u001b[0m\u001b[0;34m,\u001b[0m \u001b[0mlk\u001b[0m\u001b[0;34m)\u001b[0m\u001b[0;34m\u001b[0m\u001b[0;34m\u001b[0m\u001b[0m\n\u001b[0;32m-> 1179\u001b[0;31m                         \u001b[0mleft_keys\u001b[0m\u001b[0;34m.\u001b[0m\u001b[0mappend\u001b[0m\u001b[0;34m(\u001b[0m\u001b[0mleft\u001b[0m\u001b[0;34m.\u001b[0m\u001b[0m_get_label_or_level_values\u001b[0m\u001b[0;34m(\u001b[0m\u001b[0mlk\u001b[0m\u001b[0;34m)\u001b[0m\u001b[0;34m)\u001b[0m\u001b[0;34m\u001b[0m\u001b[0;34m\u001b[0m\u001b[0m\n\u001b[0m\u001b[1;32m   1180\u001b[0m                         \u001b[0mjoin_names\u001b[0m\u001b[0;34m.\u001b[0m\u001b[0mappend\u001b[0m\u001b[0;34m(\u001b[0m\u001b[0mlk\u001b[0m\u001b[0;34m)\u001b[0m\u001b[0;34m\u001b[0m\u001b[0;34m\u001b[0m\u001b[0m\n\u001b[1;32m   1181\u001b[0m                     \u001b[0;32melse\u001b[0m\u001b[0;34m:\u001b[0m\u001b[0;34m\u001b[0m\u001b[0;34m\u001b[0m\u001b[0m\n",
            "\u001b[0;32m/usr/local/lib/python3.10/dist-packages/pandas/core/generic.py\u001b[0m in \u001b[0;36m_get_label_or_level_values\u001b[0;34m(self, key, axis)\u001b[0m\n\u001b[1;32m   1848\u001b[0m             )\n\u001b[1;32m   1849\u001b[0m         \u001b[0;32melse\u001b[0m\u001b[0;34m:\u001b[0m\u001b[0;34m\u001b[0m\u001b[0;34m\u001b[0m\u001b[0m\n\u001b[0;32m-> 1850\u001b[0;31m             \u001b[0;32mraise\u001b[0m \u001b[0mKeyError\u001b[0m\u001b[0;34m(\u001b[0m\u001b[0mkey\u001b[0m\u001b[0;34m)\u001b[0m\u001b[0;34m\u001b[0m\u001b[0;34m\u001b[0m\u001b[0m\n\u001b[0m\u001b[1;32m   1851\u001b[0m \u001b[0;34m\u001b[0m\u001b[0m\n\u001b[1;32m   1852\u001b[0m         \u001b[0;31m# Check for duplicates\u001b[0m\u001b[0;34m\u001b[0m\u001b[0;34m\u001b[0m\u001b[0m\n",
            "\u001b[0;31mKeyError\u001b[0m: 'productid'"
          ]
        }
      ]
    },
    {
      "cell_type": "markdown",
      "source": [
        "### Drop columns"
      ],
      "metadata": {
        "id": "mnByUAB1J7Vj"
      }
    },
    {
      "cell_type": "code",
      "source": [
        "cust_ord_prods_df.drop('_id_x',axis=1,inplace=True)\n",
        "cust_ord_prods_df.drop('_id_y',axis=1,inplace=True)\n",
        "cust_ord_prods_df.drop('_id',axis=1,inplace=True)"
      ],
      "metadata": {
        "id": "uXyQAwHKlxYk"
      },
      "execution_count": null,
      "outputs": []
    },
    {
      "cell_type": "code",
      "source": [
        "cust_ord_prods_df.head(3)"
      ],
      "metadata": {
        "id": "NKS42223mZif"
      },
      "execution_count": null,
      "outputs": []
    },
    {
      "cell_type": "code",
      "source": [
        "#df['date_field'] =\n",
        "#pd.to_datetime(customers_orders_df['purchase_date']).dt.date"
      ],
      "metadata": {
        "id": "lu_6TxOz1L-u"
      },
      "execution_count": null,
      "outputs": []
    },
    {
      "cell_type": "code",
      "source": [
        "#customers_orders_df['purchase_date'].apply(pd.Series).merge(customers_orders_df, left_index=True, right_index=True).drop('purchase_date', axis=1)"
      ],
      "metadata": {
        "id": "o5lkQX7imagv"
      },
      "execution_count": null,
      "outputs": []
    },
    {
      "cell_type": "markdown",
      "source": [
        "## JSON into list of python dictionary"
      ],
      "metadata": {
        "id": "cxTLWKDlKwfp"
      }
    },
    {
      "cell_type": "markdown",
      "source": [
        "### read customers JSON file"
      ],
      "metadata": {
        "id": "QhRCNHBCMnvq"
      }
    },
    {
      "cell_type": "code",
      "source": [
        "with open('customers.json') as json_file:\n",
        "    customers = json.load(json_file)\n",
        "\n",
        "customers[0:2] # show the first 2 records (like head with n=2)"
      ],
      "metadata": {
        "id": "7xI5xoDWpWnC"
      },
      "execution_count": null,
      "outputs": []
    },
    {
      "cell_type": "markdown",
      "source": [
        "#### explore list of dictionaries"
      ],
      "metadata": {
        "id": "B1PoW_WEMcPy"
      }
    },
    {
      "cell_type": "code",
      "source": [
        "type(customers)"
      ],
      "metadata": {
        "id": "c9KN0fACMKoE"
      },
      "execution_count": null,
      "outputs": []
    },
    {
      "cell_type": "code",
      "source": [
        "len(customers)"
      ],
      "metadata": {
        "id": "KQxGmb9EMSK0"
      },
      "execution_count": null,
      "outputs": []
    },
    {
      "cell_type": "code",
      "source": [
        "type(customers[1])"
      ],
      "metadata": {
        "id": "UTR84x-jMMdU"
      },
      "execution_count": null,
      "outputs": []
    },
    {
      "cell_type": "code",
      "source": [
        "customers[1]"
      ],
      "metadata": {
        "id": "ZjBCArv4Lv6X"
      },
      "execution_count": null,
      "outputs": []
    },
    {
      "cell_type": "code",
      "source": [
        "customers[1]['name']"
      ],
      "metadata": {
        "id": "E-niZJ0LLahT"
      },
      "execution_count": null,
      "outputs": []
    },
    {
      "cell_type": "code",
      "source": [
        "customers[1].get('name')"
      ],
      "metadata": {
        "id": "zoIPVSlrL0tB"
      },
      "execution_count": null,
      "outputs": []
    },
    {
      "cell_type": "markdown",
      "source": [
        "### read orders JSON file"
      ],
      "metadata": {
        "id": "WMabTm-HMic5"
      }
    },
    {
      "cell_type": "code",
      "source": [
        "with open('orders_gt_2023_5_15.json') as json_file:\n",
        "    orders = json.load(json_file)\n",
        "\n",
        "orders[0:2] # show the first 2 records (like head with n=2)"
      ],
      "metadata": {
        "id": "npvFrxQ7K13s"
      },
      "execution_count": null,
      "outputs": []
    },
    {
      "cell_type": "markdown",
      "source": [
        "### read products JSON file"
      ],
      "metadata": {
        "id": "xGq9M_6xMlbz"
      }
    },
    {
      "cell_type": "code",
      "source": [
        "with open('products.json') as json_file:\n",
        "    products = json.load(json_file)\n",
        "\n",
        "products[0:2] # show the first 2 records (like head with n=2)"
      ],
      "metadata": {
        "id": "LyVVjgw3LHB3"
      },
      "execution_count": null,
      "outputs": []
    }
  ]
}