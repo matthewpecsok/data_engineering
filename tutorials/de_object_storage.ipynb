{
  "nbformat": 4,
  "nbformat_minor": 0,
  "metadata": {
    "colab": {
      "provenance": [],
      "authorship_tag": "ABX9TyPOudZCoJsvMhrgXzsoHfSu",
      "include_colab_link": true
    },
    "kernelspec": {
      "name": "python3",
      "display_name": "Python 3"
    },
    "language_info": {
      "name": "python"
    }
  },
  "cells": [
    {
      "cell_type": "markdown",
      "metadata": {
        "id": "view-in-github",
        "colab_type": "text"
      },
      "source": [
        "<a href=\"https://colab.research.google.com/github/matthewpecsok/data_engineering/blob/main/tutorials/de_object_storage.ipynb\" target=\"_parent\"><img src=\"https://colab.research.google.com/assets/colab-badge.svg\" alt=\"Open In Colab\"/></a>"
      ]
    },
    {
      "cell_type": "markdown",
      "source": [
        "this tutorial requires you to have created a GCP project and a storage bucket created.\n",
        "\n",
        "1.    Log into console.cloud.google.com\n",
        "2.    Create a storage bucket\n",
        "3.    Create an IAM service account with Storage Object User Role\n",
        "4.    Add a KEY (JSON)\n",
        "5.    Upload the key to you colab VM"
      ],
      "metadata": {
        "id": "ddcKatvQlu6H"
      }
    },
    {
      "cell_type": "code",
      "source": [
        "from google.colab import userdata\n",
        "import os\n",
        "import sqlite3\n",
        "import pandas as pd"
      ],
      "metadata": {
        "id": "SIbs3UNBmPd3"
      },
      "execution_count": 1,
      "outputs": []
    },
    {
      "cell_type": "code",
      "source": [
        "os.environ[\"GOOGLE_APPLICATION_CREDENTIALS\"] = \"/content/fleet-space-407416-a177ff0a8af7.json\""
      ],
      "metadata": {
        "id": "5QQDs7rSm-FO"
      },
      "execution_count": null,
      "outputs": []
    },
    {
      "cell_type": "markdown",
      "source": [
        "download the northwind sqlite db"
      ],
      "metadata": {
        "id": "G44O7ZzkjzC-"
      }
    },
    {
      "cell_type": "code",
      "source": [
        "!wget -O northwind.db https://github.com/matthewpecsok/data_engineering/raw/main/data/northwind.db"
      ],
      "metadata": {
        "id": "vASKMnXHoIYr",
        "outputId": "48d79958-67fa-4467-c3e8-9770e2f755bc",
        "colab": {
          "base_uri": "https://localhost:8080/"
        }
      },
      "execution_count": 2,
      "outputs": [
        {
          "output_type": "stream",
          "name": "stdout",
          "text": [
            "--2024-08-01 17:11:28--  https://github.com/matthewpecsok/data_engineering/raw/main/data/northwind.db\n",
            "Resolving github.com (github.com)... 140.82.116.3\n",
            "Connecting to github.com (github.com)|140.82.116.3|:443... connected.\n",
            "HTTP request sent, awaiting response... 302 Found\n",
            "Location: https://raw.githubusercontent.com/matthewpecsok/data_engineering/main/data/northwind.db [following]\n",
            "--2024-08-01 17:11:28--  https://raw.githubusercontent.com/matthewpecsok/data_engineering/main/data/northwind.db\n",
            "Resolving raw.githubusercontent.com (raw.githubusercontent.com)... 185.199.108.133, 185.199.109.133, 185.199.110.133, ...\n",
            "Connecting to raw.githubusercontent.com (raw.githubusercontent.com)|185.199.108.133|:443... connected.\n",
            "HTTP request sent, awaiting response... 200 OK\n",
            "Length: 602112 (588K) [application/octet-stream]\n",
            "Saving to: ‘northwind.db’\n",
            "\n",
            "northwind.db        100%[===================>] 588.00K  --.-KB/s    in 0.04s   \n",
            "\n",
            "2024-08-01 17:11:28 (16.4 MB/s) - ‘northwind.db’ saved [602112/602112]\n",
            "\n"
          ]
        }
      ]
    },
    {
      "cell_type": "markdown",
      "source": [
        "create a connection object"
      ],
      "metadata": {
        "id": "EI8SUxTyj13i"
      }
    },
    {
      "cell_type": "code",
      "source": [
        "conn = sqlite3.connect(\"northwind.db\")"
      ],
      "metadata": {
        "id": "BDI8yLBGR2Dg"
      },
      "execution_count": 3,
      "outputs": []
    },
    {
      "cell_type": "markdown",
      "source": [
        "using pandas and the connection object retrieve a list of table names from the database"
      ],
      "metadata": {
        "id": "IwylpQ5jj3nB"
      }
    },
    {
      "cell_type": "code",
      "source": [
        "pd.read_sql(\"SELECT name FROM sqlite_master WHERE type='table';\", conn)"
      ],
      "metadata": {
        "id": "1dGF9aUVWWBW",
        "outputId": "71f8eb78-4c3b-4f35-ec53-7f731b572740",
        "colab": {
          "base_uri": "https://localhost:8080/",
          "height": 488
        }
      },
      "execution_count": 4,
      "outputs": [
        {
          "output_type": "execute_result",
          "data": {
            "text/plain": [
              "                    name\n",
              "0             Categories\n",
              "1        sqlite_sequence\n",
              "2   CustomerCustomerDemo\n",
              "3   CustomerDemographics\n",
              "4              Customers\n",
              "5              Employees\n",
              "6    EmployeeTerritories\n",
              "7          Order Details\n",
              "8                 Orders\n",
              "9               Products\n",
              "10               Regions\n",
              "11              Shippers\n",
              "12             Suppliers\n",
              "13           Territories"
            ],
            "text/html": [
              "\n",
              "  <div id=\"df-30ee2fac-fb44-4a10-988a-0466d08a2b56\" class=\"colab-df-container\">\n",
              "    <div>\n",
              "<style scoped>\n",
              "    .dataframe tbody tr th:only-of-type {\n",
              "        vertical-align: middle;\n",
              "    }\n",
              "\n",
              "    .dataframe tbody tr th {\n",
              "        vertical-align: top;\n",
              "    }\n",
              "\n",
              "    .dataframe thead th {\n",
              "        text-align: right;\n",
              "    }\n",
              "</style>\n",
              "<table border=\"1\" class=\"dataframe\">\n",
              "  <thead>\n",
              "    <tr style=\"text-align: right;\">\n",
              "      <th></th>\n",
              "      <th>name</th>\n",
              "    </tr>\n",
              "  </thead>\n",
              "  <tbody>\n",
              "    <tr>\n",
              "      <th>0</th>\n",
              "      <td>Categories</td>\n",
              "    </tr>\n",
              "    <tr>\n",
              "      <th>1</th>\n",
              "      <td>sqlite_sequence</td>\n",
              "    </tr>\n",
              "    <tr>\n",
              "      <th>2</th>\n",
              "      <td>CustomerCustomerDemo</td>\n",
              "    </tr>\n",
              "    <tr>\n",
              "      <th>3</th>\n",
              "      <td>CustomerDemographics</td>\n",
              "    </tr>\n",
              "    <tr>\n",
              "      <th>4</th>\n",
              "      <td>Customers</td>\n",
              "    </tr>\n",
              "    <tr>\n",
              "      <th>5</th>\n",
              "      <td>Employees</td>\n",
              "    </tr>\n",
              "    <tr>\n",
              "      <th>6</th>\n",
              "      <td>EmployeeTerritories</td>\n",
              "    </tr>\n",
              "    <tr>\n",
              "      <th>7</th>\n",
              "      <td>Order Details</td>\n",
              "    </tr>\n",
              "    <tr>\n",
              "      <th>8</th>\n",
              "      <td>Orders</td>\n",
              "    </tr>\n",
              "    <tr>\n",
              "      <th>9</th>\n",
              "      <td>Products</td>\n",
              "    </tr>\n",
              "    <tr>\n",
              "      <th>10</th>\n",
              "      <td>Regions</td>\n",
              "    </tr>\n",
              "    <tr>\n",
              "      <th>11</th>\n",
              "      <td>Shippers</td>\n",
              "    </tr>\n",
              "    <tr>\n",
              "      <th>12</th>\n",
              "      <td>Suppliers</td>\n",
              "    </tr>\n",
              "    <tr>\n",
              "      <th>13</th>\n",
              "      <td>Territories</td>\n",
              "    </tr>\n",
              "  </tbody>\n",
              "</table>\n",
              "</div>\n",
              "    <div class=\"colab-df-buttons\">\n",
              "\n",
              "  <div class=\"colab-df-container\">\n",
              "    <button class=\"colab-df-convert\" onclick=\"convertToInteractive('df-30ee2fac-fb44-4a10-988a-0466d08a2b56')\"\n",
              "            title=\"Convert this dataframe to an interactive table.\"\n",
              "            style=\"display:none;\">\n",
              "\n",
              "  <svg xmlns=\"http://www.w3.org/2000/svg\" height=\"24px\" viewBox=\"0 -960 960 960\">\n",
              "    <path d=\"M120-120v-720h720v720H120Zm60-500h600v-160H180v160Zm220 220h160v-160H400v160Zm0 220h160v-160H400v160ZM180-400h160v-160H180v160Zm440 0h160v-160H620v160ZM180-180h160v-160H180v160Zm440 0h160v-160H620v160Z\"/>\n",
              "  </svg>\n",
              "    </button>\n",
              "\n",
              "  <style>\n",
              "    .colab-df-container {\n",
              "      display:flex;\n",
              "      gap: 12px;\n",
              "    }\n",
              "\n",
              "    .colab-df-convert {\n",
              "      background-color: #E8F0FE;\n",
              "      border: none;\n",
              "      border-radius: 50%;\n",
              "      cursor: pointer;\n",
              "      display: none;\n",
              "      fill: #1967D2;\n",
              "      height: 32px;\n",
              "      padding: 0 0 0 0;\n",
              "      width: 32px;\n",
              "    }\n",
              "\n",
              "    .colab-df-convert:hover {\n",
              "      background-color: #E2EBFA;\n",
              "      box-shadow: 0px 1px 2px rgba(60, 64, 67, 0.3), 0px 1px 3px 1px rgba(60, 64, 67, 0.15);\n",
              "      fill: #174EA6;\n",
              "    }\n",
              "\n",
              "    .colab-df-buttons div {\n",
              "      margin-bottom: 4px;\n",
              "    }\n",
              "\n",
              "    [theme=dark] .colab-df-convert {\n",
              "      background-color: #3B4455;\n",
              "      fill: #D2E3FC;\n",
              "    }\n",
              "\n",
              "    [theme=dark] .colab-df-convert:hover {\n",
              "      background-color: #434B5C;\n",
              "      box-shadow: 0px 1px 3px 1px rgba(0, 0, 0, 0.15);\n",
              "      filter: drop-shadow(0px 1px 2px rgba(0, 0, 0, 0.3));\n",
              "      fill: #FFFFFF;\n",
              "    }\n",
              "  </style>\n",
              "\n",
              "    <script>\n",
              "      const buttonEl =\n",
              "        document.querySelector('#df-30ee2fac-fb44-4a10-988a-0466d08a2b56 button.colab-df-convert');\n",
              "      buttonEl.style.display =\n",
              "        google.colab.kernel.accessAllowed ? 'block' : 'none';\n",
              "\n",
              "      async function convertToInteractive(key) {\n",
              "        const element = document.querySelector('#df-30ee2fac-fb44-4a10-988a-0466d08a2b56');\n",
              "        const dataTable =\n",
              "          await google.colab.kernel.invokeFunction('convertToInteractive',\n",
              "                                                    [key], {});\n",
              "        if (!dataTable) return;\n",
              "\n",
              "        const docLinkHtml = 'Like what you see? Visit the ' +\n",
              "          '<a target=\"_blank\" href=https://colab.research.google.com/notebooks/data_table.ipynb>data table notebook</a>'\n",
              "          + ' to learn more about interactive tables.';\n",
              "        element.innerHTML = '';\n",
              "        dataTable['output_type'] = 'display_data';\n",
              "        await google.colab.output.renderOutput(dataTable, element);\n",
              "        const docLink = document.createElement('div');\n",
              "        docLink.innerHTML = docLinkHtml;\n",
              "        element.appendChild(docLink);\n",
              "      }\n",
              "    </script>\n",
              "  </div>\n",
              "\n",
              "\n",
              "<div id=\"df-df4e4746-1549-4c2c-88fa-141a6666a7fa\">\n",
              "  <button class=\"colab-df-quickchart\" onclick=\"quickchart('df-df4e4746-1549-4c2c-88fa-141a6666a7fa')\"\n",
              "            title=\"Suggest charts\"\n",
              "            style=\"display:none;\">\n",
              "\n",
              "<svg xmlns=\"http://www.w3.org/2000/svg\" height=\"24px\"viewBox=\"0 0 24 24\"\n",
              "     width=\"24px\">\n",
              "    <g>\n",
              "        <path d=\"M19 3H5c-1.1 0-2 .9-2 2v14c0 1.1.9 2 2 2h14c1.1 0 2-.9 2-2V5c0-1.1-.9-2-2-2zM9 17H7v-7h2v7zm4 0h-2V7h2v10zm4 0h-2v-4h2v4z\"/>\n",
              "    </g>\n",
              "</svg>\n",
              "  </button>\n",
              "\n",
              "<style>\n",
              "  .colab-df-quickchart {\n",
              "      --bg-color: #E8F0FE;\n",
              "      --fill-color: #1967D2;\n",
              "      --hover-bg-color: #E2EBFA;\n",
              "      --hover-fill-color: #174EA6;\n",
              "      --disabled-fill-color: #AAA;\n",
              "      --disabled-bg-color: #DDD;\n",
              "  }\n",
              "\n",
              "  [theme=dark] .colab-df-quickchart {\n",
              "      --bg-color: #3B4455;\n",
              "      --fill-color: #D2E3FC;\n",
              "      --hover-bg-color: #434B5C;\n",
              "      --hover-fill-color: #FFFFFF;\n",
              "      --disabled-bg-color: #3B4455;\n",
              "      --disabled-fill-color: #666;\n",
              "  }\n",
              "\n",
              "  .colab-df-quickchart {\n",
              "    background-color: var(--bg-color);\n",
              "    border: none;\n",
              "    border-radius: 50%;\n",
              "    cursor: pointer;\n",
              "    display: none;\n",
              "    fill: var(--fill-color);\n",
              "    height: 32px;\n",
              "    padding: 0;\n",
              "    width: 32px;\n",
              "  }\n",
              "\n",
              "  .colab-df-quickchart:hover {\n",
              "    background-color: var(--hover-bg-color);\n",
              "    box-shadow: 0 1px 2px rgba(60, 64, 67, 0.3), 0 1px 3px 1px rgba(60, 64, 67, 0.15);\n",
              "    fill: var(--button-hover-fill-color);\n",
              "  }\n",
              "\n",
              "  .colab-df-quickchart-complete:disabled,\n",
              "  .colab-df-quickchart-complete:disabled:hover {\n",
              "    background-color: var(--disabled-bg-color);\n",
              "    fill: var(--disabled-fill-color);\n",
              "    box-shadow: none;\n",
              "  }\n",
              "\n",
              "  .colab-df-spinner {\n",
              "    border: 2px solid var(--fill-color);\n",
              "    border-color: transparent;\n",
              "    border-bottom-color: var(--fill-color);\n",
              "    animation:\n",
              "      spin 1s steps(1) infinite;\n",
              "  }\n",
              "\n",
              "  @keyframes spin {\n",
              "    0% {\n",
              "      border-color: transparent;\n",
              "      border-bottom-color: var(--fill-color);\n",
              "      border-left-color: var(--fill-color);\n",
              "    }\n",
              "    20% {\n",
              "      border-color: transparent;\n",
              "      border-left-color: var(--fill-color);\n",
              "      border-top-color: var(--fill-color);\n",
              "    }\n",
              "    30% {\n",
              "      border-color: transparent;\n",
              "      border-left-color: var(--fill-color);\n",
              "      border-top-color: var(--fill-color);\n",
              "      border-right-color: var(--fill-color);\n",
              "    }\n",
              "    40% {\n",
              "      border-color: transparent;\n",
              "      border-right-color: var(--fill-color);\n",
              "      border-top-color: var(--fill-color);\n",
              "    }\n",
              "    60% {\n",
              "      border-color: transparent;\n",
              "      border-right-color: var(--fill-color);\n",
              "    }\n",
              "    80% {\n",
              "      border-color: transparent;\n",
              "      border-right-color: var(--fill-color);\n",
              "      border-bottom-color: var(--fill-color);\n",
              "    }\n",
              "    90% {\n",
              "      border-color: transparent;\n",
              "      border-bottom-color: var(--fill-color);\n",
              "    }\n",
              "  }\n",
              "</style>\n",
              "\n",
              "  <script>\n",
              "    async function quickchart(key) {\n",
              "      const quickchartButtonEl =\n",
              "        document.querySelector('#' + key + ' button');\n",
              "      quickchartButtonEl.disabled = true;  // To prevent multiple clicks.\n",
              "      quickchartButtonEl.classList.add('colab-df-spinner');\n",
              "      try {\n",
              "        const charts = await google.colab.kernel.invokeFunction(\n",
              "            'suggestCharts', [key], {});\n",
              "      } catch (error) {\n",
              "        console.error('Error during call to suggestCharts:', error);\n",
              "      }\n",
              "      quickchartButtonEl.classList.remove('colab-df-spinner');\n",
              "      quickchartButtonEl.classList.add('colab-df-quickchart-complete');\n",
              "    }\n",
              "    (() => {\n",
              "      let quickchartButtonEl =\n",
              "        document.querySelector('#df-df4e4746-1549-4c2c-88fa-141a6666a7fa button');\n",
              "      quickchartButtonEl.style.display =\n",
              "        google.colab.kernel.accessAllowed ? 'block' : 'none';\n",
              "    })();\n",
              "  </script>\n",
              "</div>\n",
              "\n",
              "    </div>\n",
              "  </div>\n"
            ],
            "application/vnd.google.colaboratory.intrinsic+json": {
              "type": "dataframe",
              "summary": "{\n  \"name\": \"pd\",\n  \"rows\": 14,\n  \"fields\": [\n    {\n      \"column\": \"name\",\n      \"properties\": {\n        \"dtype\": \"string\",\n        \"num_unique_values\": 14,\n        \"samples\": [\n          \"Products\",\n          \"Shippers\",\n          \"Categories\"\n        ],\n        \"semantic_type\": \"\",\n        \"description\": \"\"\n      }\n    }\n  ]\n}"
            }
          },
          "metadata": {},
          "execution_count": 4
        }
      ]
    },
    {
      "cell_type": "markdown",
      "source": [
        "\n",
        "\n",
        "1.   read the customers table into a pandas dataframe\n",
        "2.   write the dataframe to a csv file (exclude the index)\n",
        "3.   using the shell command tail show the last 10 rows of the csv file.\n",
        "\n"
      ],
      "metadata": {
        "id": "oI5ANSCRj-_p"
      }
    },
    {
      "cell_type": "code",
      "source": [
        "customers = pd.read_sql(\"SELECT * FROM customers\", conn)\n",
        "customers.to_csv(\"customers.csv\",index=False)\n",
        "!tail customers.csv"
      ],
      "metadata": {
        "id": "8f0CCGveR-bY",
        "outputId": "386ebc27-77e0-47d2-cd28-2011c8c53985",
        "colab": {
          "base_uri": "https://localhost:8080/"
        }
      },
      "execution_count": 5,
      "outputs": [
        {
          "output_type": "stream",
          "name": "stdout",
          "text": [
            "Val2 ,IT,Val2,IT,,,,,,,\n",
            "VALON,IT,Valon Hoti,IT,,,,,,,\n",
            "VICTE,Victuailles en stock,Mary Saveley,Sales Agent,\"2, rue du Commerce\",Lyon,Western Europe,69004,France,78.32.54.86,78.32.54.87\n",
            "VINET,Vins et alcools Chevalier,Paul Henriot,Accounting Manager,59 rue de l'Abbaye,Reims,Western Europe,51100,France,26.47.15.10,26.47.15.11\n",
            "WANDK,Die Wandernde Kuh,Rita Müller,Sales Representative,Adenauerallee 900,Stuttgart,Western Europe,70563,Germany,0711-020361,0711-035428\n",
            "WARTH,Wartian Herkku,Pirkko Koskitalo,Accounting Manager,Torikatu 38,Oulu,Scandinavia,90110,Finland,981-443655,981-443655\n",
            "WELLI,Wellington Importadora,Paula Parente,Sales Manager,\"Rua do Mercado, 12\",Resende,South America,08737-363,Brazil,(14) 555-8122,\n",
            "WHITC,White Clover Markets,Karl Jablonski,Owner,305 - 14th Ave. S. Suite 3B,Seattle,North America,98128,USA,(206) 555-4112,(206) 555-4115\n",
            "WILMK,Wilman Kala,Matti Karttunen,Owner/Marketing Assistant,Keskuskatu 45,Helsinki,Scandinavia,21240,Finland,90-224 8858,90-224 8858\n",
            "WOLZA,Wolski  Zajazd,Zbyszek Piestrzeniewicz,Owner,ul. Filtrowa 68,Warszawa,Eastern Europe,01-012,Poland,(26) 642-7012,(26) 642-7012\n"
          ]
        }
      ]
    },
    {
      "cell_type": "code",
      "source": [
        "customers.shape"
      ],
      "metadata": {
        "id": "h7mc0iCm7YA6",
        "outputId": "d4e8ce7b-e72c-40db-aba0-66377ad63ad0",
        "colab": {
          "base_uri": "https://localhost:8080/"
        }
      },
      "execution_count": 6,
      "outputs": [
        {
          "output_type": "execute_result",
          "data": {
            "text/plain": [
              "(93, 11)"
            ]
          },
          "metadata": {},
          "execution_count": 6
        }
      ]
    },
    {
      "cell_type": "code",
      "source": [
        "!ls -ltrh customers.csv"
      ],
      "metadata": {
        "id": "9lTQwdnh7byi",
        "outputId": "f0c137c6-2b6e-491f-b408-5320ace99dc1",
        "colab": {
          "base_uri": "https://localhost:8080/"
        }
      },
      "execution_count": 7,
      "outputs": [
        {
          "output_type": "stream",
          "name": "stdout",
          "text": [
            "-rw-r--r-- 1 root root 13K Aug  1 17:12 customers.csv\n"
          ]
        }
      ]
    },
    {
      "cell_type": "code",
      "source": [
        "customers.to_parquet(\"customers.parquet\",index=False)"
      ],
      "metadata": {
        "id": "hnvPOrdP7eLN"
      },
      "execution_count": 8,
      "outputs": []
    },
    {
      "cell_type": "code",
      "source": [
        "!ls -ltrh customers*"
      ],
      "metadata": {
        "id": "HS4ASv7R7ila",
        "outputId": "b5b9f525-2375-44f9-8010-6ec35b82d007",
        "colab": {
          "base_uri": "https://localhost:8080/"
        }
      },
      "execution_count": 9,
      "outputs": [
        {
          "output_type": "stream",
          "name": "stdout",
          "text": [
            "-rw-r--r-- 1 root root 13K Aug  1 17:12 customers.csv\n",
            "-rw-r--r-- 1 root root 18K Aug  1 17:12 customers.parquet\n"
          ]
        }
      ]
    },
    {
      "cell_type": "markdown",
      "source": [
        "#  Parquet vs CSV\n",
        "\n",
        "based on these results is it better to use csv or parquet for customer data?"
      ],
      "metadata": {
        "id": "V1xtOmbC7yZL"
      }
    },
    {
      "cell_type": "markdown",
      "source": [
        "1.   read the orders table into a pandas dataframe\n",
        "2.   write the dataframe to a csv file (exclude the index)\n",
        "3.   using the shell command tail show the last 10 rows of the csv file.\n"
      ],
      "metadata": {
        "id": "u9cOo4vLkVT8"
      }
    },
    {
      "cell_type": "code",
      "source": [
        "orders = pd.read_sql(\"SELECT * FROM orders\", conn)\n",
        "orders.to_csv(\"orders.csv\",index=False)\n",
        "!tail orders.csv"
      ],
      "metadata": {
        "id": "JpSspcN2S_Ov"
      },
      "execution_count": null,
      "outputs": []
    },
    {
      "cell_type": "markdown",
      "source": [
        "1.   read the order detail table into a pandas dataframe\n",
        "2.   write the dataframe to a csv file (exclude the index)\n",
        "3.   using the shell command tail show the last 10 rows of the csv file.\n"
      ],
      "metadata": {
        "id": "7BKrD1bmkXZ1"
      }
    },
    {
      "cell_type": "code",
      "source": [
        "order_detail = pd.read_sql(\"SELECT * FROM 'Order Details'\", conn)\n",
        "order_detail.to_csv(\"order_detail.csv\",index=False)\n",
        "!tail order_detail.csv"
      ],
      "metadata": {
        "id": "VXjkSgsgWAfp"
      },
      "execution_count": null,
      "outputs": []
    },
    {
      "cell_type": "code",
      "execution_count": null,
      "metadata": {
        "id": "ve6_pQ9clTGd"
      },
      "outputs": [],
      "source": [
        "\n",
        "\n",
        "# create a new function for uploading to GCP cloud storage\n",
        "def upload_to_storage(bucket_name, source_file_name, destination_blob_name):\n",
        "    from google.cloud import storage\n",
        "\n",
        "    storage_client = storage.Client() # create the Client.\n",
        "    bucket = storage_client.bucket(bucket_name) # get the bucket instance\n",
        "    blob = bucket.blob(destination_blob_name) # create a new blob\n",
        "\n",
        "    blob.upload_from_filename(source_file_name) # upload the file\n",
        "\n",
        "    print(f\"File {source_file_name} uploaded to {destination_blob_name}.\") # print the success message\n",
        "\n",
        "# create a new function for downloading from GCP cloud storage\n",
        "def download_from_storage(bucket_name, source_file_name, destination_blob_name):\n",
        "    from google.cloud import storage\n",
        "\n",
        "    storage_client = storage.Client() # create the Client.\n",
        "    bucket = storage_client.bucket(bucket_name) # get the bucket instance\n",
        "    blob = bucket.blob(source_file_name) # create a new blob\n",
        "\n",
        "    blob.download_to_filename(destination_blob_name) # upload the file\n",
        "\n",
        "    print(f\"File {source_file_name} downloaded to {destination_blob_name}.\") # print the success message\n"
      ]
    },
    {
      "cell_type": "markdown",
      "source": [
        "upload the 3 local csv files into our GCP cloud storage bucket."
      ],
      "metadata": {
        "id": "iVNIGDQQkszl"
      }
    },
    {
      "cell_type": "code",
      "source": [
        "bucket_name = \"6850test1\" # Replace with your bucket name\n",
        "source_file_name = \"customers.csv\" # Replace with the path to your local file\n",
        "destination_blob_name = \"customers.csv\" # Replace with the destination object name in the bucket\n",
        "\n",
        "upload_to_storage(bucket_name, source_file_name, destination_blob_name)"
      ],
      "metadata": {
        "id": "r7VkIhjkTLCT"
      },
      "execution_count": null,
      "outputs": []
    },
    {
      "cell_type": "code",
      "source": [
        "bucket_name = \"6850test1\" # Replace with your bucket name\n",
        "source_file_name = \"orders.csv\" # Replace with the path to your local file\n",
        "destination_blob_name = \"orders.csv\" # Replace with the destination object name in the bucket\n",
        "\n",
        "upload_to_storage(bucket_name, source_file_name, destination_blob_name)"
      ],
      "metadata": {
        "id": "TM1pkJ0zTfQ_"
      },
      "execution_count": null,
      "outputs": []
    },
    {
      "cell_type": "code",
      "source": [
        "bucket_name = \"6850test1\" # Replace with your bucket name\n",
        "source_file_name = \"order_detail.csv\" # Replace with the path to your local file\n",
        "destination_blob_name = \"order_detail.csv\" # Replace with the destination object name in the bucket\n",
        "\n",
        "upload_to_storage(bucket_name, source_file_name, destination_blob_name)"
      ],
      "metadata": {
        "id": "JjKtFsWtWtQI"
      },
      "execution_count": null,
      "outputs": []
    },
    {
      "cell_type": "markdown",
      "source": [
        "Now download them back from storage but this time don't save them to the filesystem, read them directly into a pandas dataframe in memory."
      ],
      "metadata": {
        "id": "ugscJ2JCkxG-"
      }
    },
    {
      "cell_type": "code",
      "source": [
        "import gcsfs\n",
        "\n",
        "gcs = gcsfs.GCSFileSystem(project='fleet-space-407416')"
      ],
      "metadata": {
        "id": "W-uzt3voURpd"
      },
      "execution_count": null,
      "outputs": []
    },
    {
      "cell_type": "code",
      "source": [
        "bucket_name = '6850test1'\n",
        "file_path = 'orders.csv'\n",
        "\n",
        "# Use the gcsfs file system object to open the CSV file\n",
        "with gcs.open(f'{bucket_name}/{file_path}') as file:\n",
        "    orders_df = pd.read_csv(file)\n"
      ],
      "metadata": {
        "id": "oo06KjCCULYd"
      },
      "execution_count": null,
      "outputs": []
    },
    {
      "cell_type": "code",
      "source": [
        "orders_df.shape"
      ],
      "metadata": {
        "id": "1j1ZfMuYUdUa"
      },
      "execution_count": null,
      "outputs": []
    },
    {
      "cell_type": "code",
      "source": [
        "orders_df.head()"
      ],
      "metadata": {
        "id": "tXiiIUflUeWI"
      },
      "execution_count": null,
      "outputs": []
    },
    {
      "cell_type": "code",
      "source": [
        "# Use the gcsfs file system object to open the CSV file\n",
        "file_path = 'customers.csv'\n",
        "\n",
        "with gcs.open(f'{bucket_name}/{file_path}') as file:\n",
        "    customers_df = pd.read_csv(file)\n",
        "\n",
        "customers_df.shape"
      ],
      "metadata": {
        "id": "xzWEYQ7NUfwY"
      },
      "execution_count": null,
      "outputs": []
    },
    {
      "cell_type": "code",
      "source": [
        "customers_df.head()"
      ],
      "metadata": {
        "id": "lRuIqGFpVGBY"
      },
      "execution_count": null,
      "outputs": []
    },
    {
      "cell_type": "markdown",
      "source": [
        "join the customers and orders pandas dataframes"
      ],
      "metadata": {
        "id": "nPDnhR6GlePv"
      }
    },
    {
      "cell_type": "code",
      "source": [
        "customers_orders = orders_df.merge(customers_df, left_on='CustomerID', right_on='CustomerID', how='left')\n",
        "customers_orders.columns"
      ],
      "metadata": {
        "id": "svWlyGYsU9iY"
      },
      "execution_count": null,
      "outputs": []
    },
    {
      "cell_type": "code",
      "source": [
        "customers_orders.head()"
      ],
      "metadata": {
        "id": "7ZFT4OybVBi6"
      },
      "execution_count": null,
      "outputs": []
    },
    {
      "cell_type": "code",
      "source": [
        "# Use the gcsfs file system object to open the CSV file\n",
        "file_path = 'order_detail.csv'\n",
        "\n",
        "with gcs.open(f'{bucket_name}/{file_path}') as file:\n",
        "    order_detail_df = pd.read_csv(file)\n",
        "\n",
        "order_detail_df.shape"
      ],
      "metadata": {
        "id": "PpXiKgg_VzeP"
      },
      "execution_count": null,
      "outputs": []
    },
    {
      "cell_type": "code",
      "source": [
        "order_detail_df.columns"
      ],
      "metadata": {
        "id": "VSZXXn3TXCps"
      },
      "execution_count": null,
      "outputs": []
    },
    {
      "cell_type": "markdown",
      "source": [
        "join the customers_order and order detail pandas dataframes"
      ],
      "metadata": {
        "id": "gXwjVq9Plj2X"
      }
    },
    {
      "cell_type": "code",
      "source": [
        "customers_order_detail = customers_orders.merge(order_detail_df, left_on='OrderID', right_on='OrderID', how='left')\n",
        "customers_order_detail.columns"
      ],
      "metadata": {
        "id": "ZfHIOk7WXAc3"
      },
      "execution_count": null,
      "outputs": []
    },
    {
      "cell_type": "markdown",
      "source": [
        "write the new dataframe to a parquet file"
      ],
      "metadata": {
        "id": "0w-r5sUflmTF"
      }
    },
    {
      "cell_type": "code",
      "source": [
        "customers_order_detail.to_parquet('customers_order_detail.parquet')"
      ],
      "metadata": {
        "id": "2DRmwnBIXWmq"
      },
      "execution_count": null,
      "outputs": []
    },
    {
      "cell_type": "markdown",
      "source": [
        "upload the parquet file to GCP cloud storage."
      ],
      "metadata": {
        "id": "NNfuLk9Ulocl"
      }
    },
    {
      "cell_type": "code",
      "source": [
        "bucket_name = \"6850test1\" # Replace with your bucket name\n",
        "source_file_name = \"customers_order_detail.parquet\" # Replace with the path to your local file\n",
        "destination_blob_name = \"customers_order_detail.parquet\" # Replace with the destination object name in the bucket\n",
        "\n",
        "upload_to_storage(bucket_name, source_file_name, destination_blob_name)"
      ],
      "metadata": {
        "id": "MI-0XrgPXVFX"
      },
      "execution_count": null,
      "outputs": []
    }
  ]
}