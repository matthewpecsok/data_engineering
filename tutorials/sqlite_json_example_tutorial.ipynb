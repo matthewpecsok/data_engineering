{
  "nbformat": 4,
  "nbformat_minor": 0,
  "metadata": {
    "colab": {
      "provenance": [],
      "authorship_tag": "ABX9TyNttDoVSMdma8qoTna2FYMZ",
      "include_colab_link": true
    },
    "kernelspec": {
      "name": "python3",
      "display_name": "Python 3"
    },
    "language_info": {
      "name": "python"
    }
  },
  "cells": [
    {
      "cell_type": "markdown",
      "metadata": {
        "id": "view-in-github",
        "colab_type": "text"
      },
      "source": [
        "<a href=\"https://colab.research.google.com/github/matthewpecsok/data_engineering/blob/main/tutorials/sqlite_json_example_tutorial.ipynb\" target=\"_parent\"><img src=\"https://colab.research.google.com/assets/colab-badge.svg\" alt=\"Open In Colab\"/></a>"
      ]
    },
    {
      "cell_type": "code",
      "source": [
        "import sqlite3\n",
        "\n",
        "conn = sqlite3.connect('test.db')\n",
        "print(\"Opened database successfully\")"
      ],
      "metadata": {
        "id": "HJlhzj4KVlS8"
      },
      "execution_count": null,
      "outputs": []
    },
    {
      "cell_type": "code",
      "source": [
        "conn.execute('''CREATE TABLE if not exists customers (\n",
        "    id INTEGER PRIMARY KEY AUTOINCREMENT,\n",
        "    name TEXT NOT NULL,\n",
        "    email TEXT NOT NULL,\n",
        "    addresses TEXT -- Stores JSON data as text\n",
        ");\n",
        "''')\n",
        "\n",
        "conn.commit()\n",
        "print(\"Table created successfully\")"
      ],
      "metadata": {
        "id": "Vv1lIfxuVmnh"
      },
      "execution_count": null,
      "outputs": []
    },
    {
      "cell_type": "code",
      "source": [
        "conn.execute('''\n",
        "INSERT INTO customers (name, email, addresses)\n",
        "VALUES\n",
        "('John Doe', 'john.doe@example.com', '[{\"street\": \"123 Main St\", \"city\": \"Springfield\", \"state\": \"IL\", \"zip\": \"62704\"},\n",
        "{\"street\": \"44 Some St\", \"city\": \"Buffalo\", \"state\": \"IL\", \"zip\": \"63018\"}]'),\n",
        "\n",
        "('Jane Smith', 'jane.smith@example.com', '[{\"street\": \"456 Elm St\", \"city\": \"Chicago\", \"state\": \"IL\", \"zip\": \"60616\"}]');\n",
        "\n",
        "''')\n",
        "\n",
        "conn.commit()"
      ],
      "metadata": {
        "id": "ykPiHTXqVi3d"
      },
      "execution_count": null,
      "outputs": []
    },
    {
      "cell_type": "code",
      "source": [],
      "metadata": {
        "id": "Wk9_87OmVzUk"
      },
      "execution_count": null,
      "outputs": []
    },
    {
      "cell_type": "code",
      "source": [
        "conn.execute('''\n",
        "\n",
        "SELECT\n",
        "    name,\n",
        "    json_extract(value, '$.street') AS street,\n",
        "    json_extract(value, '$.city') AS city,\n",
        "    json_extract(value, '$.state') AS state,\n",
        "    json_extract(value, '$.zip') AS zip\n",
        "FROM customers, json_each(customers.addresses);\n",
        "\n",
        "\n",
        "''').fetchall()"
      ],
      "metadata": {
        "id": "SfT8rsXXV0MX"
      },
      "execution_count": null,
      "outputs": []
    },
    {
      "cell_type": "code",
      "source": [],
      "metadata": {
        "id": "eru0jNF-V6X7"
      },
      "execution_count": null,
      "outputs": []
    }
  ]
}