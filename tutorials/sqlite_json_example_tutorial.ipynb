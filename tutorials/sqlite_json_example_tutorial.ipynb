{
  "nbformat": 4,
  "nbformat_minor": 0,
  "metadata": {
    "colab": {
      "provenance": [],
      "authorship_tag": "ABX9TyPqB+I9O31hHKZcsajNYaej",
      "include_colab_link": true
    },
    "kernelspec": {
      "name": "python3",
      "display_name": "Python 3"
    },
    "language_info": {
      "name": "python"
    }
  },
  "cells": [
    {
      "cell_type": "markdown",
      "metadata": {
        "id": "view-in-github",
        "colab_type": "text"
      },
      "source": [
        "<a href=\"https://colab.research.google.com/github/matthewpecsok/data_engineering/blob/main/tutorials/sqlite_json_example_tutorial.ipynb\" target=\"_parent\"><img src=\"https://colab.research.google.com/assets/colab-badge.svg\" alt=\"Open In Colab\"/></a>"
      ]
    },
    {
      "cell_type": "code",
      "source": [
        "import sqlite3\n",
        "\n",
        "conn = sqlite3.connect('test.db')\n",
        "print(\"Opened database successfully\")"
      ],
      "metadata": {
        "colab": {
          "base_uri": "https://localhost:8080/"
        },
        "id": "HJlhzj4KVlS8",
        "outputId": "83d34f01-3a45-4df9-a659-d5c119c5034d"
      },
      "execution_count": 21,
      "outputs": [
        {
          "output_type": "stream",
          "name": "stdout",
          "text": [
            "Opened database successfully\n"
          ]
        }
      ]
    },
    {
      "cell_type": "code",
      "source": [
        "conn.execute('''CREATE TABLE if not exists customers (\n",
        "    id INTEGER PRIMARY KEY AUTOINCREMENT,\n",
        "    name TEXT NOT NULL,\n",
        "    email TEXT NOT NULL,\n",
        "    addresses TEXT -- Stores JSON data as text\n",
        ");\n",
        "''')\n",
        "\n",
        "conn.commit()\n",
        "print(\"Table created successfully\")"
      ],
      "metadata": {
        "colab": {
          "base_uri": "https://localhost:8080/"
        },
        "id": "Vv1lIfxuVmnh",
        "outputId": "c18abece-ef7a-4b6b-ce4a-966cc766b0b3"
      },
      "execution_count": 22,
      "outputs": [
        {
          "output_type": "stream",
          "name": "stdout",
          "text": [
            "Table created successfully\n"
          ]
        }
      ]
    },
    {
      "cell_type": "code",
      "source": [
        "conn.execute('''\n",
        "INSERT INTO customers (name, email, addresses)\n",
        "VALUES\n",
        "('John Doe', 'john.doe@example.com', '[{\"street\": \"123 Main St\", \"city\": \"Springfield\", \"state\": \"IL\", \"zip\": \"62704\"},\n",
        "{\"street\": \"44 Some St\", \"city\": \"Buffalo\", \"state\": \"IL\", \"zip\": \"63018\"}]'),\n",
        "\n",
        "('Jane Smith', 'jane.smith@example.com', '[{\"street\": \"456 Elm St\", \"city\": \"Chicago\", \"state\": \"IL\", \"zip\": \"60616\"}]');\n",
        "\n",
        "''')"
      ],
      "metadata": {
        "colab": {
          "base_uri": "https://localhost:8080/"
        },
        "id": "ykPiHTXqVi3d",
        "outputId": "37b06fdc-756a-4233-e29b-22577fefe779"
      },
      "execution_count": 23,
      "outputs": [
        {
          "output_type": "execute_result",
          "data": {
            "text/plain": [
              "<sqlite3.Cursor at 0x7c889e328d40>"
            ]
          },
          "metadata": {},
          "execution_count": 23
        }
      ]
    },
    {
      "cell_type": "code",
      "source": [
        "conn.commit()"
      ],
      "metadata": {
        "id": "Wk9_87OmVzUk"
      },
      "execution_count": 24,
      "outputs": []
    },
    {
      "cell_type": "code",
      "source": [
        "conn.execute('''\n",
        "\n",
        "SELECT\n",
        "    name,\n",
        "    json_extract(value, '$.street') AS street,\n",
        "    json_extract(value, '$.city') AS city,\n",
        "    json_extract(value, '$.state') AS state,\n",
        "    json_extract(value, '$.zip') AS zip\n",
        "FROM customers, json_each(customers.addresses);\n",
        "\n",
        "\n",
        "''').fetchall()"
      ],
      "metadata": {
        "colab": {
          "base_uri": "https://localhost:8080/"
        },
        "id": "SfT8rsXXV0MX",
        "outputId": "6579f3b1-751e-40b2-a20a-cae18a92dabc"
      },
      "execution_count": 25,
      "outputs": [
        {
          "output_type": "execute_result",
          "data": {
            "text/plain": [
              "[('John Doe', '123 Main St', 'Springfield', 'IL', '62704'),\n",
              " ('John Doe', '44 Some St', 'Buffalo', 'IL', '63018'),\n",
              " ('Jane Smith', '456 Elm St', 'Chicago', 'IL', '60616')]"
            ]
          },
          "metadata": {},
          "execution_count": 25
        }
      ]
    },
    {
      "cell_type": "code",
      "source": [],
      "metadata": {
        "id": "eru0jNF-V6X7"
      },
      "execution_count": 25,
      "outputs": []
    }
  ]
}