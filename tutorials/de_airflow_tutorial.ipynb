{
  "cells": [
    {
      "cell_type": "markdown",
      "metadata": {
        "id": "view-in-github",
        "colab_type": "text"
      },
      "source": [
        "<a href=\"https://colab.research.google.com/github/matthewpecsok/data_engineering/blob/main/tutorials/de_airflow_tutorial.ipynb\" target=\"_parent\"><img src=\"https://colab.research.google.com/assets/colab-badge.svg\" alt=\"Open In Colab\"/></a>"
      ]
    },
    {
      "cell_type": "markdown",
      "source": [
        "# Setups"
      ],
      "metadata": {
        "id": "OSjp9ugHM-PG"
      }
    },
    {
      "cell_type": "code",
      "execution_count": null,
      "metadata": {
        "colab": {
          "base_uri": "https://localhost:8080/"
        },
        "id": "TLjOoz9iXzVQ",
        "outputId": "482a6bba-08ef-46c5-de15-8af07049b912"
      },
      "outputs": [
        {
          "output_type": "stream",
          "name": "stdout",
          "text": [
            "\u001b[2K     \u001b[90m━━━━━━━━━━━━━━━━━━━━━━━━━━━━━━━━━━━━━━━━\u001b[0m \u001b[32m12.1/12.1 MB\u001b[0m \u001b[31m77.8 MB/s\u001b[0m eta \u001b[36m0:00:00\u001b[0m\n",
            "\u001b[2K     \u001b[90m━━━━━━━━━━━━━━━━━━━━━━━━━━━━━━━━━━━━━━\u001b[0m \u001b[32m224.5/224.5 kB\u001b[0m \u001b[31m10.0 MB/s\u001b[0m eta \u001b[36m0:00:00\u001b[0m\n",
            "\u001b[2K     \u001b[90m━━━━━━━━━━━━━━━━━━━━━━━━━━━━━━━━━━━━━━━━\u001b[0m \u001b[32m41.5/41.5 kB\u001b[0m \u001b[31m2.2 MB/s\u001b[0m eta \u001b[36m0:00:00\u001b[0m\n",
            "\u001b[2K     \u001b[90m━━━━━━━━━━━━━━━━━━━━━━━━━━━━━━━━━━━━━━━━\u001b[0m \u001b[32m50.8/50.8 kB\u001b[0m \u001b[31m1.8 MB/s\u001b[0m eta \u001b[36m0:00:00\u001b[0m\n",
            "\u001b[2K     \u001b[90m━━━━━━━━━━━━━━━━━━━━━━━━━━━━━━━━━━━━━━━━\u001b[0m \u001b[32m95.1/95.1 kB\u001b[0m \u001b[31m9.4 MB/s\u001b[0m eta \u001b[36m0:00:00\u001b[0m\n",
            "\u001b[?25h  Preparing metadata (setup.py) ... \u001b[?25l\u001b[?25hdone\n",
            "\u001b[2K     \u001b[90m━━━━━━━━━━━━━━━━━━━━━━━━━━━━━━━━━━━━━━━\u001b[0m \u001b[32m110.5/110.5 kB\u001b[0m \u001b[31m7.3 MB/s\u001b[0m eta \u001b[36m0:00:00\u001b[0m\n",
            "\u001b[2K     \u001b[90m━━━━━━━━━━━━━━━━━━━━━━━━━━━━━━━━━━━━━━━━\u001b[0m \u001b[32m2.5/2.5 MB\u001b[0m \u001b[31m75.4 MB/s\u001b[0m eta \u001b[36m0:00:00\u001b[0m\n",
            "\u001b[2K     \u001b[90m━━━━━━━━━━━━━━━━━━━━━━━━━━━━━━━━━━━━━━━━\u001b[0m \u001b[32m79.5/79.5 kB\u001b[0m \u001b[31m5.6 MB/s\u001b[0m eta \u001b[36m0:00:00\u001b[0m\n",
            "\u001b[2K     \u001b[90m━━━━━━━━━━━━━━━━━━━━━━━━━━━━━━━━━━━━━━━━\u001b[0m \u001b[32m75.4/75.4 kB\u001b[0m \u001b[31m5.5 MB/s\u001b[0m eta \u001b[36m0:00:00\u001b[0m\n",
            "\u001b[2K     \u001b[90m━━━━━━━━━━━━━━━━━━━━━━━━━━━━━━━━━━━━━━━━\u001b[0m \u001b[32m63.3/63.3 kB\u001b[0m \u001b[31m5.5 MB/s\u001b[0m eta \u001b[36m0:00:00\u001b[0m\n",
            "\u001b[2K     \u001b[90m━━━━━━━━━━━━━━━━━━━━━━━━━━━━━━━━━━━━━━━━\u001b[0m \u001b[32m54.1/54.1 kB\u001b[0m \u001b[31m4.0 MB/s\u001b[0m eta \u001b[36m0:00:00\u001b[0m\n",
            "\u001b[2K     \u001b[90m━━━━━━━━━━━━━━━━━━━━━━━━━━━━━━━━━━━━━━━━\u001b[0m \u001b[32m81.2/81.2 kB\u001b[0m \u001b[31m7.7 MB/s\u001b[0m eta \u001b[36m0:00:00\u001b[0m\n",
            "\u001b[?25h  Installing build dependencies ... \u001b[?25l\u001b[?25hdone\n",
            "  Getting requirements to build wheel ... \u001b[?25l\u001b[?25hdone\n",
            "  Preparing metadata (pyproject.toml) ... \u001b[?25l\u001b[?25hdone\n",
            "  Preparing metadata (setup.py) ... \u001b[?25l\u001b[?25hdone\n",
            "\u001b[2K     \u001b[90m━━━━━━━━━━━━━━━━━━━━━━━━━━━━━━━━━━━━━━━━\u001b[0m \u001b[32m1.6/1.6 MB\u001b[0m \u001b[31m41.5 MB/s\u001b[0m eta \u001b[36m0:00:00\u001b[0m\n",
            "\u001b[?25h  Preparing metadata (setup.py) ... \u001b[?25l\u001b[?25hdone\n",
            "\u001b[2K     \u001b[90m━━━━━━━━━━━━━━━━━━━━━━━━━━━━━━━━━━━━━━━━\u001b[0m \u001b[32m49.1/49.1 kB\u001b[0m \u001b[31m4.8 MB/s\u001b[0m eta \u001b[36m0:00:00\u001b[0m\n",
            "\u001b[2K     \u001b[90m━━━━━━━━━━━━━━━━━━━━━━━━━━━━━━━━━━━━━━━━\u001b[0m \u001b[32m92.6/92.6 kB\u001b[0m \u001b[31m7.1 MB/s\u001b[0m eta \u001b[36m0:00:00\u001b[0m\n",
            "\u001b[2K     \u001b[90m━━━━━━━━━━━━━━━━━━━━━━━━━━━━━━━━━━━━━━\u001b[0m \u001b[32m136.5/136.5 kB\u001b[0m \u001b[31m13.6 MB/s\u001b[0m eta \u001b[36m0:00:00\u001b[0m\n",
            "\u001b[2K     \u001b[90m━━━━━━━━━━━━━━━━━━━━━━━━━━━━━━━━━━━━━━━━\u001b[0m \u001b[32m78.7/78.7 kB\u001b[0m \u001b[31m7.3 MB/s\u001b[0m eta \u001b[36m0:00:00\u001b[0m\n",
            "\u001b[2K     \u001b[90m━━━━━━━━━━━━━━━━━━━━━━━━━━━━━━━━━━━━━━\u001b[0m \u001b[32m233.6/233.6 kB\u001b[0m \u001b[31m17.4 MB/s\u001b[0m eta \u001b[36m0:00:00\u001b[0m\n",
            "\u001b[2K     \u001b[90m━━━━━━━━━━━━━━━━━━━━━━━━━━━━━━━━━━━━━━\u001b[0m \u001b[32m490.0/490.0 kB\u001b[0m \u001b[31m33.1 MB/s\u001b[0m eta \u001b[36m0:00:00\u001b[0m\n",
            "\u001b[2K     \u001b[90m━━━━━━━━━━━━━━━━━━━━━━━━━━━━━━━━━━━━━━━━\u001b[0m \u001b[32m1.0/1.0 MB\u001b[0m \u001b[31m59.3 MB/s\u001b[0m eta \u001b[36m0:00:00\u001b[0m\n",
            "\u001b[2K     \u001b[90m━━━━━━━━━━━━━━━━━━━━━━━━━━━━━━━━━━━━━━━━\u001b[0m \u001b[32m54.5/54.5 kB\u001b[0m \u001b[31m4.6 MB/s\u001b[0m eta \u001b[36m0:00:00\u001b[0m\n",
            "\u001b[2K     \u001b[90m━━━━━━━━━━━━━━━━━━━━━━━━━━━━━━━━━━━━━━━━\u001b[0m \u001b[32m72.5/72.5 kB\u001b[0m \u001b[31m7.8 MB/s\u001b[0m eta \u001b[36m0:00:00\u001b[0m\n",
            "\u001b[2K     \u001b[90m━━━━━━━━━━━━━━━━━━━━━━━━━━━━━━━━━━━━━━\u001b[0m \u001b[32m283.7/283.7 kB\u001b[0m \u001b[31m23.7 MB/s\u001b[0m eta \u001b[36m0:00:00\u001b[0m\n",
            "\u001b[2K     \u001b[90m━━━━━━━━━━━━━━━━━━━━━━━━━━━━━━━━━━━━━━━━\u001b[0m \u001b[32m43.0/43.0 kB\u001b[0m \u001b[31m3.9 MB/s\u001b[0m eta \u001b[36m0:00:00\u001b[0m\n",
            "\u001b[2K     \u001b[90m━━━━━━━━━━━━━━━━━━━━━━━━━━━━━━━━━━━━━━━━\u001b[0m \u001b[32m58.3/58.3 kB\u001b[0m \u001b[31m5.6 MB/s\u001b[0m eta \u001b[36m0:00:00\u001b[0m\n",
            "\u001b[2K     \u001b[90m━━━━━━━━━━━━━━━━━━━━━━━━━━━━━━━━━━━━━━\u001b[0m \u001b[32m114.5/114.5 kB\u001b[0m \u001b[31m11.7 MB/s\u001b[0m eta \u001b[36m0:00:00\u001b[0m\n",
            "\u001b[2K     \u001b[90m━━━━━━━━━━━━━━━━━━━━━━━━━━━━━━━━━━━━━━\u001b[0m \u001b[32m268.8/268.8 kB\u001b[0m \u001b[31m16.4 MB/s\u001b[0m eta \u001b[36m0:00:00\u001b[0m\n",
            "\u001b[2K     \u001b[90m━━━━━━━━━━━━━━━━━━━━━━━━━━━━━━━━━━━━━━\u001b[0m \u001b[32m149.6/149.6 kB\u001b[0m \u001b[31m13.8 MB/s\u001b[0m eta \u001b[36m0:00:00\u001b[0m\n",
            "\u001b[?25h  Building wheel for cron-descriptor (setup.py) ... \u001b[?25l\u001b[?25hdone\n",
            "  Building wheel for pendulum (pyproject.toml) ... \u001b[?25l\u001b[?25hdone\n",
            "  Building wheel for python-nvd3 (setup.py) ... \u001b[?25l\u001b[?25hdone\n",
            "  Building wheel for unicodecsv (setup.py) ... \u001b[?25l\u001b[?25hdone\n",
            "\u001b[2K     \u001b[90m━━━━━━━━━━━━━━━━━━━━━━━━━━━━━━━━━━━━━━\u001b[0m \u001b[32m681.2/681.2 kB\u001b[0m \u001b[31m10.0 MB/s\u001b[0m eta \u001b[36m0:00:00\u001b[0m\n",
            "\u001b[?25h  Preparing metadata (setup.py) ... \u001b[?25l\u001b[?25hdone\n",
            "  Building wheel for pyngrok (setup.py) ... \u001b[?25l\u001b[?25hdone\n",
            "Looking in indexes: https://pypi.org/simple, https://us-python.pkg.dev/colab-wheels/public/simple/\n",
            "Collecting kafka-python\n",
            "  Downloading kafka_python-2.0.2-py2.py3-none-any.whl (246 kB)\n",
            "\u001b[2K     \u001b[90m━━━━━━━━━━━━━━━━━━━━━━━━━━━━━━━━━━━━━━━\u001b[0m \u001b[32m246.5/246.5 kB\u001b[0m \u001b[31m5.4 MB/s\u001b[0m eta \u001b[36m0:00:00\u001b[0m\n",
            "\u001b[?25hInstalling collected packages: kafka-python\n",
            "Successfully installed kafka-python-2.0.2\n"
          ]
        }
      ],
      "source": [
        "!pip3 install -q apache-airflow\n",
        "!pip install -q pyngrok\n",
        "!pip install -q pandas\n",
        "!pip install kafka-python"
      ]
    },
    {
      "cell_type": "code",
      "source": [
        "import sqlite3\n",
        "import pandas as pd\n",
        "from pyngrok import ngrok"
      ],
      "metadata": {
        "id": "oPgPIerlIEa5"
      },
      "execution_count": null,
      "outputs": []
    },
    {
      "cell_type": "code",
      "source": [
        "port = 8082\n"
      ],
      "metadata": {
        "id": "JHlCuPceHDoq"
      },
      "execution_count": null,
      "outputs": []
    },
    {
      "cell_type": "markdown",
      "source": [
        "## ngrok auth token\n",
        "\n",
        "Replace this with your auth token"
      ],
      "metadata": {
        "id": "Tc38X0JZIb_m"
      }
    },
    {
      "cell_type": "code",
      "source": [
        "!ngrok config add-authtoken 2MTTFNMd545b26JOziMmU8TphZx_5hff38U9KCaF5Gvrob1Bo"
      ],
      "metadata": {
        "colab": {
          "base_uri": "https://localhost:8080/"
        },
        "id": "kqkqYluYIY61",
        "outputId": "f0faeef5-001b-4698-b93d-079b2df0fbbd"
      },
      "execution_count": null,
      "outputs": [
        {
          "output_type": "stream",
          "name": "stdout",
          "text": [
            "Authtoken saved to configuration file: /root/.ngrok2/ngrok.yml\n"
          ]
        }
      ]
    },
    {
      "cell_type": "code",
      "execution_count": null,
      "metadata": {
        "id": "ORRCO09IX8NG"
      },
      "outputs": [],
      "source": [
        "!export SLUGIFY_USES_TEXT_UNIDECODE=yes\n",
        "#!echo \"\\rload_examples = False\" >> /root/airflow/airflow.cfg\n",
        "!AIRFLOW_HOME=\"/root/airflow/\""
      ]
    },
    {
      "cell_type": "markdown",
      "source": [
        "## Initialize the airflow sqlite database"
      ],
      "metadata": {
        "id": "iWITyLTsIq8X"
      }
    },
    {
      "cell_type": "code",
      "execution_count": null,
      "metadata": {
        "colab": {
          "base_uri": "https://localhost:8080/"
        },
        "id": "e0MXB0pRYN8G",
        "outputId": "25effb83-6561-481d-cee1-f3b8b0af3d1b"
      },
      "outputs": [
        {
          "output_type": "stream",
          "name": "stdout",
          "text": [
            "DB: sqlite:////root/airflow/airflow.db\n",
            "[\u001b[34m2023-06-20T15:11:23.969+0000\u001b[0m] {\u001b[34mmigration.py:\u001b[0m213} INFO\u001b[0m - Context impl \u001b[01mSQLiteImpl\u001b[22m.\u001b[0m\n",
            "[\u001b[34m2023-06-20T15:11:23.971+0000\u001b[0m] {\u001b[34mmigration.py:\u001b[0m216} INFO\u001b[0m - Will assume \u001b[01mnon-transactional\u001b[22m DDL.\u001b[0m\n",
            "INFO  [alembic.runtime.migration] Context impl SQLiteImpl.\n",
            "INFO  [alembic.runtime.migration] Will assume non-transactional DDL.\n",
            "INFO  [alembic.runtime.migration] Running stamp_revision  -> c804e5c76e3e\n",
            "WARNI [airflow.models.crypto] empty cryptography key - values will not be stored encrypted.\n",
            "Initialization done\n"
          ]
        }
      ],
      "source": [
        "!airflow db init"
      ]
    },
    {
      "cell_type": "markdown",
      "source": [
        "## Create your user\n",
        "\n",
        "This will prompt you in the output for a password. Enter your password in the prompt when it asks."
      ],
      "metadata": {
        "id": "1vnciURbIvV_"
      }
    },
    {
      "cell_type": "code",
      "source": [
        "!airflow users create \\\n",
        "    --username admin \\\n",
        "    --firstname matt \\\n",
        "    --lastname pecsok \\\n",
        "    --role Admin \\\n",
        "    --email matthew.pecsok@utah.edu"
      ],
      "metadata": {
        "colab": {
          "base_uri": "https://localhost:8080/"
        },
        "id": "_GHO9d8Vrwzj",
        "outputId": "8b7940c2-3ec5-4729-ab82-440808249835"
      },
      "execution_count": null,
      "outputs": [
        {
          "output_type": "stream",
          "name": "stdout",
          "text": [
            "\u001b[1;33m/usr/local/lib/python3.10/dist-packages/flask_limiter/\u001b[0m\u001b[1;33mextension.py\u001b[0m\u001b[1;33m:\u001b[0m\u001b[1;33m293\u001b[0m\u001b[1;33m UserWarning\u001b[0m\u001b[33m: Using the in-memory storage for tracking rate limits as no storage was explicitly specified. This is not recommended for production use. See: \u001b[0m\u001b[4;33mhttps://flask-limiter.readthedocs.io#configuring-a-storage-backend\u001b[0m\u001b[33m for documentation about configuring the storage backend.\u001b[0m\n",
            "[\u001b[34m2023-06-20T15:11:35.436+0000\u001b[0m] {\u001b[34mmanager.py:\u001b[0m243} INFO\u001b[0m - Inserted Role: Admin\u001b[0m\n",
            "[\u001b[34m2023-06-20T15:11:35.474+0000\u001b[0m] {\u001b[34mmanager.py:\u001b[0m243} INFO\u001b[0m - Inserted Role: Public\u001b[0m\n",
            "[\u001b[34m2023-06-20T15:11:35.480+0000\u001b[0m] {\u001b[34mmanager.py:\u001b[0m853} \u001b[33mWARNING\u001b[0m - \u001b[33mNo user yet created, use flask fab command to do it.\u001b[0m\n",
            "[\u001b[34m2023-06-20T15:11:35.631+0000\u001b[0m] {\u001b[34mmanager.py:\u001b[0m504} INFO\u001b[0m - Created Permission View: can edit on Passwords\u001b[0m\n",
            "[\u001b[34m2023-06-20T15:11:35.658+0000\u001b[0m] {\u001b[34mmanager.py:\u001b[0m562} INFO\u001b[0m - Added Permission can edit on Passwords to role Admin\u001b[0m\n",
            "[\u001b[34m2023-06-20T15:11:35.703+0000\u001b[0m] {\u001b[34mmanager.py:\u001b[0m504} INFO\u001b[0m - Created Permission View: can read on Passwords\u001b[0m\n",
            "[\u001b[34m2023-06-20T15:11:35.729+0000\u001b[0m] {\u001b[34mmanager.py:\u001b[0m562} INFO\u001b[0m - Added Permission can read on Passwords to role Admin\u001b[0m\n",
            "[\u001b[34m2023-06-20T15:11:35.785+0000\u001b[0m] {\u001b[34mmanager.py:\u001b[0m504} INFO\u001b[0m - Created Permission View: can edit on My Password\u001b[0m\n",
            "[\u001b[34m2023-06-20T15:11:35.812+0000\u001b[0m] {\u001b[34mmanager.py:\u001b[0m562} INFO\u001b[0m - Added Permission can edit on My Password to role Admin\u001b[0m\n",
            "[\u001b[34m2023-06-20T15:11:35.834+0000\u001b[0m] {\u001b[34mmanager.py:\u001b[0m504} INFO\u001b[0m - Created Permission View: can read on My Password\u001b[0m\n",
            "[\u001b[34m2023-06-20T15:11:35.851+0000\u001b[0m] {\u001b[34mmanager.py:\u001b[0m562} INFO\u001b[0m - Added Permission can read on My Password to role Admin\u001b[0m\n",
            "[\u001b[34m2023-06-20T15:11:35.912+0000\u001b[0m] {\u001b[34mmanager.py:\u001b[0m504} INFO\u001b[0m - Created Permission View: can edit on My Profile\u001b[0m\n",
            "[\u001b[34m2023-06-20T15:11:35.931+0000\u001b[0m] {\u001b[34mmanager.py:\u001b[0m562} INFO\u001b[0m - Added Permission can edit on My Profile to role Admin\u001b[0m\n",
            "[\u001b[34m2023-06-20T15:11:35.954+0000\u001b[0m] {\u001b[34mmanager.py:\u001b[0m504} INFO\u001b[0m - Created Permission View: can read on My Profile\u001b[0m\n",
            "[\u001b[34m2023-06-20T15:11:35.973+0000\u001b[0m] {\u001b[34mmanager.py:\u001b[0m562} INFO\u001b[0m - Added Permission can read on My Profile to role Admin\u001b[0m\n",
            "[\u001b[34m2023-06-20T15:11:36.100+0000\u001b[0m] {\u001b[34mmanager.py:\u001b[0m504} INFO\u001b[0m - Created Permission View: can create on Users\u001b[0m\n",
            "[\u001b[34m2023-06-20T15:11:36.118+0000\u001b[0m] {\u001b[34mmanager.py:\u001b[0m562} INFO\u001b[0m - Added Permission can create on Users to role Admin\u001b[0m\n",
            "[\u001b[34m2023-06-20T15:11:36.143+0000\u001b[0m] {\u001b[34mmanager.py:\u001b[0m504} INFO\u001b[0m - Created Permission View: can read on Users\u001b[0m\n",
            "[\u001b[34m2023-06-20T15:11:36.162+0000\u001b[0m] {\u001b[34mmanager.py:\u001b[0m562} INFO\u001b[0m - Added Permission can read on Users to role Admin\u001b[0m\n",
            "[\u001b[34m2023-06-20T15:11:36.190+0000\u001b[0m] {\u001b[34mmanager.py:\u001b[0m504} INFO\u001b[0m - Created Permission View: can edit on Users\u001b[0m\n",
            "[\u001b[34m2023-06-20T15:11:36.212+0000\u001b[0m] {\u001b[34mmanager.py:\u001b[0m562} INFO\u001b[0m - Added Permission can edit on Users to role Admin\u001b[0m\n",
            "[\u001b[34m2023-06-20T15:11:36.245+0000\u001b[0m] {\u001b[34mmanager.py:\u001b[0m504} INFO\u001b[0m - Created Permission View: can delete on Users\u001b[0m\n",
            "[\u001b[34m2023-06-20T15:11:36.268+0000\u001b[0m] {\u001b[34mmanager.py:\u001b[0m562} INFO\u001b[0m - Added Permission can delete on Users to role Admin\u001b[0m\n",
            "[\u001b[34m2023-06-20T15:11:36.326+0000\u001b[0m] {\u001b[34mmanager.py:\u001b[0m504} INFO\u001b[0m - Created Permission View: menu access on List Users\u001b[0m\n",
            "[\u001b[34m2023-06-20T15:11:36.344+0000\u001b[0m] {\u001b[34mmanager.py:\u001b[0m562} INFO\u001b[0m - Added Permission menu access on List Users to role Admin\u001b[0m\n",
            "[\u001b[34m2023-06-20T15:11:36.383+0000\u001b[0m] {\u001b[34mmanager.py:\u001b[0m504} INFO\u001b[0m - Created Permission View: menu access on Security\u001b[0m\n",
            "[\u001b[34m2023-06-20T15:11:36.402+0000\u001b[0m] {\u001b[34mmanager.py:\u001b[0m562} INFO\u001b[0m - Added Permission menu access on Security to role Admin\u001b[0m\n",
            "[\u001b[34m2023-06-20T15:11:36.467+0000\u001b[0m] {\u001b[34mmanager.py:\u001b[0m504} INFO\u001b[0m - Created Permission View: can create on Roles\u001b[0m\n",
            "[\u001b[34m2023-06-20T15:11:36.486+0000\u001b[0m] {\u001b[34mmanager.py:\u001b[0m562} INFO\u001b[0m - Added Permission can create on Roles to role Admin\u001b[0m\n",
            "[\u001b[34m2023-06-20T15:11:36.507+0000\u001b[0m] {\u001b[34mmanager.py:\u001b[0m504} INFO\u001b[0m - Created Permission View: can read on Roles\u001b[0m\n",
            "[\u001b[34m2023-06-20T15:11:36.526+0000\u001b[0m] {\u001b[34mmanager.py:\u001b[0m562} INFO\u001b[0m - Added Permission can read on Roles to role Admin\u001b[0m\n",
            "[\u001b[34m2023-06-20T15:11:36.548+0000\u001b[0m] {\u001b[34mmanager.py:\u001b[0m504} INFO\u001b[0m - Created Permission View: can edit on Roles\u001b[0m\n",
            "[\u001b[34m2023-06-20T15:11:36.566+0000\u001b[0m] {\u001b[34mmanager.py:\u001b[0m562} INFO\u001b[0m - Added Permission can edit on Roles to role Admin\u001b[0m\n",
            "[\u001b[34m2023-06-20T15:11:36.586+0000\u001b[0m] {\u001b[34mmanager.py:\u001b[0m504} INFO\u001b[0m - Created Permission View: can delete on Roles\u001b[0m\n",
            "[\u001b[34m2023-06-20T15:11:36.605+0000\u001b[0m] {\u001b[34mmanager.py:\u001b[0m562} INFO\u001b[0m - Added Permission can delete on Roles to role Admin\u001b[0m\n",
            "[\u001b[34m2023-06-20T15:11:36.671+0000\u001b[0m] {\u001b[34mmanager.py:\u001b[0m504} INFO\u001b[0m - Created Permission View: menu access on List Roles\u001b[0m\n",
            "[\u001b[34m2023-06-20T15:11:36.691+0000\u001b[0m] {\u001b[34mmanager.py:\u001b[0m562} INFO\u001b[0m - Added Permission menu access on List Roles to role Admin\u001b[0m\n",
            "[\u001b[34m2023-06-20T15:11:36.762+0000\u001b[0m] {\u001b[34mmanager.py:\u001b[0m504} INFO\u001b[0m - Created Permission View: can read on User Stats Chart\u001b[0m\n",
            "[\u001b[34m2023-06-20T15:11:36.787+0000\u001b[0m] {\u001b[34mmanager.py:\u001b[0m562} INFO\u001b[0m - Added Permission can read on User Stats Chart to role Admin\u001b[0m\n",
            "[\u001b[34m2023-06-20T15:11:36.837+0000\u001b[0m] {\u001b[34mmanager.py:\u001b[0m504} INFO\u001b[0m - Created Permission View: menu access on User's Statistics\u001b[0m\n",
            "[\u001b[34m2023-06-20T15:11:36.857+0000\u001b[0m] {\u001b[34mmanager.py:\u001b[0m562} INFO\u001b[0m - Added Permission menu access on User's Statistics to role Admin\u001b[0m\n",
            "[\u001b[34m2023-06-20T15:11:37.092+0000\u001b[0m] {\u001b[34mmanager.py:\u001b[0m504} INFO\u001b[0m - Created Permission View: can read on Permissions\u001b[0m\n",
            "[\u001b[34m2023-06-20T15:11:37.109+0000\u001b[0m] {\u001b[34mmanager.py:\u001b[0m562} INFO\u001b[0m - Added Permission can read on Permissions to role Admin\u001b[0m\n",
            "[\u001b[34m2023-06-20T15:11:37.168+0000\u001b[0m] {\u001b[34mmanager.py:\u001b[0m504} INFO\u001b[0m - Created Permission View: menu access on Actions\u001b[0m\n",
            "[\u001b[34m2023-06-20T15:11:37.188+0000\u001b[0m] {\u001b[34mmanager.py:\u001b[0m562} INFO\u001b[0m - Added Permission menu access on Actions to role Admin\u001b[0m\n",
            "[\u001b[34m2023-06-20T15:11:37.256+0000\u001b[0m] {\u001b[34mmanager.py:\u001b[0m504} INFO\u001b[0m - Created Permission View: can read on View Menus\u001b[0m\n",
            "[\u001b[34m2023-06-20T15:11:37.275+0000\u001b[0m] {\u001b[34mmanager.py:\u001b[0m562} INFO\u001b[0m - Added Permission can read on View Menus to role Admin\u001b[0m\n",
            "[\u001b[34m2023-06-20T15:11:37.315+0000\u001b[0m] {\u001b[34mmanager.py:\u001b[0m504} INFO\u001b[0m - Created Permission View: menu access on Resources\u001b[0m\n",
            "[\u001b[34m2023-06-20T15:11:37.335+0000\u001b[0m] {\u001b[34mmanager.py:\u001b[0m562} INFO\u001b[0m - Added Permission menu access on Resources to role Admin\u001b[0m\n",
            "[\u001b[34m2023-06-20T15:11:37.400+0000\u001b[0m] {\u001b[34mmanager.py:\u001b[0m504} INFO\u001b[0m - Created Permission View: can read on Permission Views\u001b[0m\n",
            "[\u001b[34m2023-06-20T15:11:37.419+0000\u001b[0m] {\u001b[34mmanager.py:\u001b[0m562} INFO\u001b[0m - Added Permission can read on Permission Views to role Admin\u001b[0m\n",
            "[\u001b[34m2023-06-20T15:11:37.456+0000\u001b[0m] {\u001b[34mmanager.py:\u001b[0m504} INFO\u001b[0m - Created Permission View: menu access on Permission Pairs\u001b[0m\n",
            "[\u001b[34m2023-06-20T15:11:37.478+0000\u001b[0m] {\u001b[34mmanager.py:\u001b[0m562} INFO\u001b[0m - Added Permission menu access on Permission Pairs to role Admin\u001b[0m\n",
            "Password:\n",
            "Repeat for confirmation:\n",
            "[\u001b[34m2023-06-20T15:11:47.133+0000\u001b[0m] {\u001b[34mmanager.py:\u001b[0m212} INFO\u001b[0m - Added user admin\u001b[0m\n",
            "User \"admin\" created with role \"Admin\"\n"
          ]
        }
      ]
    },
    {
      "cell_type": "markdown",
      "source": [
        "## Open a ngrok tunnel to the HTTP server\n",
        "\n",
        "Use the ngrok-free url to access airflow"
      ],
      "metadata": {
        "id": "XLe7KWViIQYG"
      }
    },
    {
      "cell_type": "code",
      "source": [
        "public_url = ngrok.connect(port).public_url\n",
        "print(\" * ngrok tunnel \\\"{}\\\" -> \\\"http://127.0.0.1:{}\\\"\".format(public_url, port))"
      ],
      "metadata": {
        "colab": {
          "base_uri": "https://localhost:8080/"
        },
        "id": "73CW0XO_HBOo",
        "outputId": "8618a6d7-17f2-499d-f0bd-6abd6e573863"
      },
      "execution_count": null,
      "outputs": [
        {
          "output_type": "stream",
          "name": "stderr",
          "text": [
            "WARNING:pyngrok.process.ngrok:t=2023-06-20T15:11:47+0000 lvl=warn msg=\"ngrok config file found at legacy location, move to XDG location\" xdg_path=/root/.config/ngrok/ngrok.yml legacy_path=/root/.ngrok2/ngrok.yml\n"
          ]
        },
        {
          "output_type": "stream",
          "name": "stdout",
          "text": [
            " * ngrok tunnel \"https://d6dc-35-190-178-144.ngrok-free.app\" -> \"http://127.0.0.1:8082\"\n"
          ]
        }
      ]
    },
    {
      "cell_type": "markdown",
      "source": [
        "Using the ngrok link above use click visit site on the page that comes up (or potentially realize you didn't add your auth token. If so you will need to do so.\n",
        "\n"
      ],
      "metadata": {
        "id": "GD0Ha7zVK-5B"
      }
    },
    {
      "cell_type": "markdown",
      "source": [
        "![image.png](data:image/png;base64,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)"
      ],
      "metadata": {
        "id": "ywaq-3YsK7lg"
      }
    },
    {
      "cell_type": "markdown",
      "source": [
        "Enter\n",
        "\n",
        "*   username: *admin*\n",
        "*   password: *the password you created a moment ag*o\n",
        "\n",
        "\n"
      ],
      "metadata": {
        "id": "NaA_RRZMLYh-"
      }
    },
    {
      "cell_type": "markdown",
      "source": [
        "![image.png](data:image/png;base64,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)"
      ],
      "metadata": {
        "id": "n_eme2r3LTq9"
      }
    },
    {
      "cell_type": "markdown",
      "source": [
        "## Create a shell script for starting airflow"
      ],
      "metadata": {
        "id": "ZoXt3Hn0I58y"
      }
    },
    {
      "cell_type": "code",
      "source": [
        "%%writefile airflow_shell.sh\n",
        "\n",
        "nohup airflow scheduler -D &\n",
        "nohup airflow webserver -D --port 8082 --host 127.0.0.1 &"
      ],
      "metadata": {
        "colab": {
          "base_uri": "https://localhost:8080/"
        },
        "id": "tOqVc6B4to38",
        "outputId": "381e29a1-2c84-47b9-fdd0-3ae7a3477361"
      },
      "execution_count": null,
      "outputs": [
        {
          "output_type": "stream",
          "name": "stdout",
          "text": [
            "Writing airflow_shell.sh\n"
          ]
        }
      ]
    },
    {
      "cell_type": "code",
      "source": [
        "!chmod 755 airflow_shell.sh ## modify the file permissions for execute"
      ],
      "metadata": {
        "id": "rwQHRcL3HDcB"
      },
      "execution_count": null,
      "outputs": []
    },
    {
      "cell_type": "code",
      "source": [
        "!./airflow_shell.sh & # start airflow webserver and scheduler"
      ],
      "metadata": {
        "colab": {
          "base_uri": "https://localhost:8080/"
        },
        "id": "w-LGYpmFuBkh",
        "outputId": "d237b9c4-8092-4717-f25d-f0bde340e80d"
      },
      "execution_count": null,
      "outputs": [
        {
          "output_type": "stream",
          "name": "stdout",
          "text": [
            "nohup: appending output to 'nohup.out'\n",
            "nohup: appending output to 'nohup.out'\n"
          ]
        }
      ]
    },
    {
      "cell_type": "code",
      "source": [
        "!ps -ef | grep airflow"
      ],
      "metadata": {
        "colab": {
          "base_uri": "https://localhost:8080/"
        },
        "id": "62CdMAXRUWlg",
        "outputId": "234be3b7-9f05-4ad7-b327-0384257b0d6a"
      },
      "execution_count": null,
      "outputs": [
        {
          "output_type": "stream",
          "name": "stdout",
          "text": [
            "root        1180       1  0 15:11 ?        00:00:00 /usr/bin/python3 /usr/local/bin/airflow scheduler -D\n",
            "root        1182       1  0 15:11 ?        00:00:00 /usr/bin/python3 /usr/local/bin/airflow webserver -D --port 8082 --host 127.0.0.1\n",
            "root        1186     483  0 15:11 ?        00:00:00 /bin/bash -c ps -ef | grep airflow\n",
            "root        1188    1186  0 15:11 ?        00:00:00 grep airflow\n"
          ]
        }
      ]
    },
    {
      "cell_type": "markdown",
      "source": [
        "## remove all the example dags"
      ],
      "metadata": {
        "id": "okMgeIpIJbB6"
      }
    },
    {
      "cell_type": "code",
      "source": [
        "!rm -rf /usr/local/lib/python3.10/dist-packages/airflow/example_dags/example*.py\n",
        "!rm -rf /usr/local/lib/python3.10/dist-packages/airflow/example_dags/tutorial*.py"
      ],
      "metadata": {
        "id": "WGxY73sjoMuc"
      },
      "execution_count": null,
      "outputs": []
    },
    {
      "cell_type": "markdown",
      "source": [
        "## create some directories for dags and data"
      ],
      "metadata": {
        "id": "aRSXhlYWJfrg"
      }
    },
    {
      "cell_type": "code",
      "source": [
        "!mkdir /root/airflow/dags/\n",
        "!mkdir /root/airflow/data/"
      ],
      "metadata": {
        "id": "--9SN1AZQefS"
      },
      "execution_count": null,
      "outputs": []
    },
    {
      "cell_type": "code",
      "source": [
        "#/usr/local/lib/python3.10/dist-packages/airflow/example_dags"
      ],
      "metadata": {
        "id": "U34Ui3DORFos"
      },
      "execution_count": null,
      "outputs": []
    },
    {
      "cell_type": "markdown",
      "source": [
        "## list DAGs and import errors"
      ],
      "metadata": {
        "id": "bGA3qWqmJkLl"
      }
    },
    {
      "cell_type": "code",
      "source": [
        "!airflow dags list-import-errors # this lists import errors found in your DAG (if there are any)"
      ],
      "metadata": {
        "colab": {
          "base_uri": "https://localhost:8080/"
        },
        "id": "F2U6qCs0TtP2",
        "outputId": "ebf5171e-19e2-4630-c2c5-58158af9f0cd"
      },
      "execution_count": null,
      "outputs": [
        {
          "output_type": "stream",
          "name": "stdout",
          "text": [
            "No data found\n"
          ]
        }
      ]
    },
    {
      "cell_type": "code",
      "source": [
        "!airflow dags list # This lists all the DAGS in airflow."
      ],
      "metadata": {
        "colab": {
          "base_uri": "https://localhost:8080/"
        },
        "id": "a8QHEmkLN2ze",
        "outputId": "7bb659fb-695e-4572-adbe-0c1cd69b29c5"
      },
      "execution_count": null,
      "outputs": [
        {
          "output_type": "stream",
          "name": "stdout",
          "text": [
            "No data found\n"
          ]
        }
      ]
    },
    {
      "cell_type": "markdown",
      "source": [
        "# DAG1 Create your first hello world DAG"
      ],
      "metadata": {
        "id": "vh--GCCFNNML"
      }
    },
    {
      "cell_type": "code",
      "source": [
        "%%writefile /usr/local/lib/python3.10/dist-packages/airflow/example_dags/hello_world_example.py\n",
        "\n",
        "from airflow import DAG\n",
        "from airflow.operators.python_operator import PythonOperator\n",
        "from datetime import datetime\n",
        "\n",
        "def say_hello():\n",
        "    print(\"Hello, World! I'm your first airflow DAG and I executed successfully!\")\n",
        "\n",
        "with DAG('hello_world_example', start_date=datetime(2023, 6, 19), schedule_interval=None) as dag:\n",
        "    task = PythonOperator(\n",
        "        task_id='hello_task',\n",
        "        python_callable=say_hello\n",
        "    )\n",
        "\n"
      ],
      "metadata": {
        "colab": {
          "base_uri": "https://localhost:8080/"
        },
        "id": "hcE03G4ewoPy",
        "outputId": "5c47bd20-de3c-442f-cc39-e18b24f0c709"
      },
      "execution_count": null,
      "outputs": [
        {
          "output_type": "stream",
          "name": "stdout",
          "text": [
            "Writing /usr/local/lib/python3.10/dist-packages/airflow/example_dags/hello_world_example.py\n"
          ]
        }
      ]
    },
    {
      "cell_type": "code",
      "source": [
        "!airflow dags list # This lists all the DAGS in airflow."
      ],
      "metadata": {
        "colab": {
          "base_uri": "https://localhost:8080/"
        },
        "id": "bUI7W6fjJvQk",
        "outputId": "89a641bc-a1b8-4b98-88dd-ff3e6237f642"
      },
      "execution_count": null,
      "outputs": [
        {
          "output_type": "stream",
          "name": "stdout",
          "text": [
            "\u001b[1mdag_id             \u001b[0m\u001b[1m \u001b[0m|\u001b[1m \u001b[0m\u001b[1mfilepath                               \u001b[0m\u001b[1m \u001b[0m|\u001b[1m \u001b[0m\u001b[1mowner  \u001b[0m\u001b[1m \u001b[0m|\u001b[1m \u001b[0m\u001b[1mpaused\u001b[0m\n",
            "====================+=========================================+=========+=======\n",
            "hello_world_example | /usr/local/lib/python3.10/dist-packages | airflow | None  \n",
            "                    | /airflow/example_dags/hello_world_examp |         |       \n",
            "                    | le.py                                   |         |       \n",
            "\u001b[2;3m                                                                                \u001b[0m\n"
          ]
        }
      ]
    },
    {
      "cell_type": "markdown",
      "source": [
        "# DAG2 Second  DAG. multi task.\n",
        "\n",
        "This DAG has 3 tasks\n",
        "\n",
        "1.   Read sample CSV file from github. Write the file to the local filesystem.\n",
        "2.   Read the local CSV and add a new column in Pandas. Write back to filesystem as a new file.\n",
        "3.   Connect to a new local sqlite database. Import CSV with new column into Pandas dataframe. Write the dataframe to a table.\n",
        "\n",
        "\n"
      ],
      "metadata": {
        "id": "LCao8TDdNTBt"
      }
    },
    {
      "cell_type": "code",
      "source": [
        "%%writefile /usr/local/lib/python3.10/dist-packages/airflow/example_dags/github.py\n",
        "\n",
        "from airflow import DAG\n",
        "from airflow.operators.python_operator import PythonOperator\n",
        "from airflow.providers.http.hooks.http import HttpHook\n",
        "from airflow.providers.sqlite.hooks.sqlite import SqliteHook\n",
        "from datetime import datetime\n",
        "import pandas as pd\n",
        "import requests\n",
        "from sqlalchemy import create_engine\n",
        "\n",
        "\n",
        "default_args = {\n",
        "    'start_date': datetime(2023, 6, 19),\n",
        "    'retries': 1,\n",
        "}\n",
        "\n",
        "def fetch_csv_from_github():\n",
        "    url = 'https://raw.githubusercontent.com/matthewpecsok/data_engineering/main/data/set_df_1.csv'\n",
        "    response =  requests.get(url)\n",
        "    with open('/root/airflow/data/file.csv', 'wb') as f:\n",
        "        f.write(response.content)\n",
        "\n",
        "def modify_csv():\n",
        "    df = pd.read_csv('/root/airflow/data/file.csv')\n",
        "    df['new_column'] = 'New Value'\n",
        "    df.to_csv('/root/airflow/data/modified_file.csv', index=False)\n",
        "\n",
        "def write_to_database():\n",
        "    csv_path = '/root/airflow/data/modified_file.csv'\n",
        "    table_name = 'my_table'\n",
        "    conn_id = 'sqlite_default'\n",
        "\n",
        "    df = pd.read_csv(csv_path)\n",
        "\n",
        "    engine = create_engine(f'sqlite:///{conn_id}')\n",
        "    with engine.connect() as conn:\n",
        "        df.to_sql(table_name, conn, if_exists='replace', index=False)\n",
        "\n",
        "\n",
        "with DAG('github_csv_example', default_args=default_args, schedule_interval=None) as dag:\n",
        "    fetch_task = PythonOperator(\n",
        "        task_id='fetch_csv_task',\n",
        "        python_callable=fetch_csv_from_github\n",
        "    )\n",
        "\n",
        "    modify_task = PythonOperator(\n",
        "        task_id='modify_csv_task',\n",
        "        python_callable=modify_csv\n",
        "    )\n",
        "\n",
        "    write_task = PythonOperator(\n",
        "      task_id='write_to_database_task',\n",
        "      python_callable=write_to_database\n",
        "    )\n",
        "\n",
        "    fetch_task >> modify_task >> write_task"
      ],
      "metadata": {
        "colab": {
          "base_uri": "https://localhost:8080/"
        },
        "id": "bm79SG5nR3IP",
        "outputId": "f45853a1-edf1-4418-ab89-2bec04791e77"
      },
      "execution_count": null,
      "outputs": [
        {
          "output_type": "stream",
          "name": "stdout",
          "text": [
            "Writing /usr/local/lib/python3.10/dist-packages/airflow/example_dags/github.py\n"
          ]
        }
      ]
    },
    {
      "cell_type": "markdown",
      "source": [
        "## Check our sqlite database"
      ],
      "metadata": {
        "id": "A0fzl-itObE3"
      }
    },
    {
      "cell_type": "code",
      "source": [
        "con = sqlite3.connect('/sqlite_default')"
      ],
      "metadata": {
        "id": "c6YJJnColr2d"
      },
      "execution_count": null,
      "outputs": []
    },
    {
      "cell_type": "code",
      "source": [
        "pd.read_sql_query(\"select * from my_table\",con)"
      ],
      "metadata": {
        "colab": {
          "base_uri": "https://localhost:8080/",
          "height": 451
        },
        "id": "ccJ7nvdRmd1p",
        "outputId": "7a554232-d49d-4d5e-8a98-4ddb1e917c91"
      },
      "execution_count": null,
      "outputs": [
        {
          "output_type": "error",
          "ename": "DatabaseError",
          "evalue": "ignored",
          "traceback": [
            "\u001b[0;31m---------------------------------------------------------------------------\u001b[0m",
            "\u001b[0;31mOperationalError\u001b[0m                          Traceback (most recent call last)",
            "\u001b[0;32m/usr/local/lib/python3.10/dist-packages/pandas/io/sql.py\u001b[0m in \u001b[0;36mexecute\u001b[0;34m(self, *args, **kwargs)\u001b[0m\n\u001b[1;32m   2017\u001b[0m         \u001b[0;32mtry\u001b[0m\u001b[0;34m:\u001b[0m\u001b[0;34m\u001b[0m\u001b[0;34m\u001b[0m\u001b[0m\n\u001b[0;32m-> 2018\u001b[0;31m             \u001b[0mcur\u001b[0m\u001b[0;34m.\u001b[0m\u001b[0mexecute\u001b[0m\u001b[0;34m(\u001b[0m\u001b[0;34m*\u001b[0m\u001b[0margs\u001b[0m\u001b[0;34m,\u001b[0m \u001b[0;34m**\u001b[0m\u001b[0mkwargs\u001b[0m\u001b[0;34m)\u001b[0m\u001b[0;34m\u001b[0m\u001b[0;34m\u001b[0m\u001b[0m\n\u001b[0m\u001b[1;32m   2019\u001b[0m             \u001b[0;32mreturn\u001b[0m \u001b[0mcur\u001b[0m\u001b[0;34m\u001b[0m\u001b[0;34m\u001b[0m\u001b[0m\n",
            "\u001b[0;31mOperationalError\u001b[0m: no such table: my_table",
            "\nThe above exception was the direct cause of the following exception:\n",
            "\u001b[0;31mDatabaseError\u001b[0m                             Traceback (most recent call last)",
            "\u001b[0;32m<ipython-input-22-edbd8a720ebc>\u001b[0m in \u001b[0;36m<cell line: 1>\u001b[0;34m()\u001b[0m\n\u001b[0;32m----> 1\u001b[0;31m \u001b[0mpd\u001b[0m\u001b[0;34m.\u001b[0m\u001b[0mread_sql_query\u001b[0m\u001b[0;34m(\u001b[0m\u001b[0;34m\"select * from my_table\"\u001b[0m\u001b[0;34m,\u001b[0m\u001b[0mcon\u001b[0m\u001b[0;34m)\u001b[0m\u001b[0;34m\u001b[0m\u001b[0;34m\u001b[0m\u001b[0m\n\u001b[0m",
            "\u001b[0;32m/usr/local/lib/python3.10/dist-packages/pandas/io/sql.py\u001b[0m in \u001b[0;36mread_sql_query\u001b[0;34m(sql, con, index_col, coerce_float, params, parse_dates, chunksize, dtype)\u001b[0m\n\u001b[1;32m    395\u001b[0m     \"\"\"\n\u001b[1;32m    396\u001b[0m     \u001b[0mpandas_sql\u001b[0m \u001b[0;34m=\u001b[0m \u001b[0mpandasSQL_builder\u001b[0m\u001b[0;34m(\u001b[0m\u001b[0mcon\u001b[0m\u001b[0;34m)\u001b[0m\u001b[0;34m\u001b[0m\u001b[0;34m\u001b[0m\u001b[0m\n\u001b[0;32m--> 397\u001b[0;31m     return pandas_sql.read_query(\n\u001b[0m\u001b[1;32m    398\u001b[0m         \u001b[0msql\u001b[0m\u001b[0;34m,\u001b[0m\u001b[0;34m\u001b[0m\u001b[0;34m\u001b[0m\u001b[0m\n\u001b[1;32m    399\u001b[0m         \u001b[0mindex_col\u001b[0m\u001b[0;34m=\u001b[0m\u001b[0mindex_col\u001b[0m\u001b[0;34m,\u001b[0m\u001b[0;34m\u001b[0m\u001b[0;34m\u001b[0m\u001b[0m\n",
            "\u001b[0;32m/usr/local/lib/python3.10/dist-packages/pandas/io/sql.py\u001b[0m in \u001b[0;36mread_query\u001b[0;34m(self, sql, index_col, coerce_float, params, parse_dates, chunksize, dtype)\u001b[0m\n\u001b[1;32m   2076\u001b[0m \u001b[0;34m\u001b[0m\u001b[0m\n\u001b[1;32m   2077\u001b[0m         \u001b[0margs\u001b[0m \u001b[0;34m=\u001b[0m \u001b[0m_convert_params\u001b[0m\u001b[0;34m(\u001b[0m\u001b[0msql\u001b[0m\u001b[0;34m,\u001b[0m \u001b[0mparams\u001b[0m\u001b[0;34m)\u001b[0m\u001b[0;34m\u001b[0m\u001b[0;34m\u001b[0m\u001b[0m\n\u001b[0;32m-> 2078\u001b[0;31m         \u001b[0mcursor\u001b[0m \u001b[0;34m=\u001b[0m \u001b[0mself\u001b[0m\u001b[0;34m.\u001b[0m\u001b[0mexecute\u001b[0m\u001b[0;34m(\u001b[0m\u001b[0;34m*\u001b[0m\u001b[0margs\u001b[0m\u001b[0;34m)\u001b[0m\u001b[0;34m\u001b[0m\u001b[0;34m\u001b[0m\u001b[0m\n\u001b[0m\u001b[1;32m   2079\u001b[0m         \u001b[0mcolumns\u001b[0m \u001b[0;34m=\u001b[0m \u001b[0;34m[\u001b[0m\u001b[0mcol_desc\u001b[0m\u001b[0;34m[\u001b[0m\u001b[0;36m0\u001b[0m\u001b[0;34m]\u001b[0m \u001b[0;32mfor\u001b[0m \u001b[0mcol_desc\u001b[0m \u001b[0;32min\u001b[0m \u001b[0mcursor\u001b[0m\u001b[0;34m.\u001b[0m\u001b[0mdescription\u001b[0m\u001b[0;34m]\u001b[0m\u001b[0;34m\u001b[0m\u001b[0;34m\u001b[0m\u001b[0m\n\u001b[1;32m   2080\u001b[0m \u001b[0;34m\u001b[0m\u001b[0m\n",
            "\u001b[0;32m/usr/local/lib/python3.10/dist-packages/pandas/io/sql.py\u001b[0m in \u001b[0;36mexecute\u001b[0;34m(self, *args, **kwargs)\u001b[0m\n\u001b[1;32m   2028\u001b[0m \u001b[0;34m\u001b[0m\u001b[0m\n\u001b[1;32m   2029\u001b[0m             \u001b[0mex\u001b[0m \u001b[0;34m=\u001b[0m \u001b[0mDatabaseError\u001b[0m\u001b[0;34m(\u001b[0m\u001b[0;34mf\"Execution failed on sql '{args[0]}': {exc}\"\u001b[0m\u001b[0;34m)\u001b[0m\u001b[0;34m\u001b[0m\u001b[0;34m\u001b[0m\u001b[0m\n\u001b[0;32m-> 2030\u001b[0;31m             \u001b[0;32mraise\u001b[0m \u001b[0mex\u001b[0m \u001b[0;32mfrom\u001b[0m \u001b[0mexc\u001b[0m\u001b[0;34m\u001b[0m\u001b[0;34m\u001b[0m\u001b[0m\n\u001b[0m\u001b[1;32m   2031\u001b[0m \u001b[0;34m\u001b[0m\u001b[0m\n\u001b[1;32m   2032\u001b[0m     \u001b[0;34m@\u001b[0m\u001b[0mstaticmethod\u001b[0m\u001b[0;34m\u001b[0m\u001b[0;34m\u001b[0m\u001b[0m\n",
            "\u001b[0;31mDatabaseError\u001b[0m: Execution failed on sql 'select * from my_table': no such table: my_table"
          ]
        }
      ]
    },
    {
      "cell_type": "code",
      "source": [
        "pd.read_sql_query(\"SELECT name FROM sqlite_master WHERE type='table'\",con)"
      ],
      "metadata": {
        "id": "BraeplF-mhxZ"
      },
      "execution_count": null,
      "outputs": []
    },
    {
      "cell_type": "markdown",
      "source": [
        "# DAG3 multi-data source\n",
        "\n",
        "In this portion of the tutorial we will complicate things by having both a batch and streaming datasource.\n",
        "\n",
        "We will use the original CSV datasource from DAG2, but we will also install kafka and have a streaming source. Airflow will handle pulling data from each and writing the output to the sqlite database we created in DAG2."
      ],
      "metadata": {
        "id": "rROX1HHMPK15"
      }
    },
    {
      "cell_type": "code",
      "source": [
        "%%writefile /usr/local/lib/python3.10/dist-packages/airflow/example_dags/kafka.py\n",
        "\n",
        "from datetime import datetime, timedelta\n",
        "from airflow import DAG\n",
        "from airflow.operators.python_operator import PythonOperator\n",
        "from kafka import KafkaConsumer\n",
        "from kafka.structs import TopicPartition\n",
        "\n",
        "default_args = {\n",
        "    'owner': 'airflow',\n",
        "    'start_date': datetime(2023, 1, 1),\n",
        "    'retries': 1,\n",
        "    'retry_delay': timedelta(seconds=5),\n",
        "}\n",
        "\n",
        "def consume_from_kafka():\n",
        "\n",
        "    topic = 'sample-streaming-data'\n",
        "    consumer = KafkaConsumer(\n",
        "        'sample-streaming-data',\n",
        "        bootstrap_servers='127.0.0.1:9092',\n",
        "        auto_offset_reset='earliest',\n",
        "        enable_auto_commit=True,\n",
        "        group_id='my_consumer_group',\n",
        "    )\n",
        "    #consumer.assign([TopicPartition(topic, 0)])\n",
        "\n",
        "    for message in consumer:\n",
        "        print(f\"Received message: {message.value}\")\n",
        "\n",
        "        message_str = message.value.decode('utf-8')\n",
        "        with open('/root/airflow/data/kafka.txt', 'a') as f:\n",
        "          f.write(f\"Received message: {message_str}\\n\")\n",
        "\n",
        "dag = DAG(\n",
        "    'kafka_consumer',\n",
        "    description='DAG to consume messages from Kafka topic when run',\n",
        "    default_args=default_args,\n",
        ")\n",
        "\n",
        "consume_task = PythonOperator(\n",
        "    task_id='consume_from_kafka',\n",
        "    python_callable=consume_from_kafka,\n",
        "    dag=dag,\n",
        ")"
      ],
      "metadata": {
        "id": "MwbwZvOfnFKu",
        "colab": {
          "base_uri": "https://localhost:8080/"
        },
        "outputId": "1df0c433-d781-4f90-f3e9-77de49361371"
      },
      "execution_count": null,
      "outputs": [
        {
          "output_type": "stream",
          "name": "stdout",
          "text": [
            "Overwriting /usr/local/lib/python3.10/dist-packages/airflow/example_dags/kafka.py\n"
          ]
        }
      ]
    },
    {
      "cell_type": "code",
      "source": [
        "!curl -sSOL https://downloads.apache.org/kafka/3.4.1/kafka_2.12-3.4.1.tgz\n",
        "!tar -xzf kafka_2.12-3.4.1.tgz"
      ],
      "metadata": {
        "id": "7JGFgeAVq6I6"
      },
      "execution_count": null,
      "outputs": []
    },
    {
      "cell_type": "code",
      "source": [
        "!ls -l kafka*"
      ],
      "metadata": {
        "colab": {
          "base_uri": "https://localhost:8080/"
        },
        "id": "hF38PGZVQfIt",
        "outputId": "ff53e3de-a83f-4a83-e9c4-b9d6d0d77c2f"
      },
      "execution_count": null,
      "outputs": [
        {
          "output_type": "stream",
          "name": "stdout",
          "text": [
            "-rw-r--r-- 1 root root 106809260 Jun 20 15:13 kafka_2.12-3.4.1.tgz\n",
            "\n",
            "kafka_2.12-3.4.1:\n",
            "total 64\n",
            "drwxr-xr-x 3 root root  4096 May 26 01:41 bin\n",
            "drwxr-xr-x 3 root root  4096 May 26 01:41 config\n",
            "drwxr-xr-x 2 root root  4096 Jun 20 15:13 libs\n",
            "-rw-r--r-- 1 root root 14910 May 26 01:40 LICENSE\n",
            "drwxr-xr-x 2 root root  4096 May 26 01:41 licenses\n",
            "-rw-r--r-- 1 root root 28184 May 26 01:40 NOTICE\n",
            "drwxr-xr-x 2 root root  4096 May 26 01:41 site-docs\n"
          ]
        }
      ]
    },
    {
      "cell_type": "code",
      "source": [
        "!./kafka_2.12-3.4.1/bin/zookeeper-server-start.sh -daemon ./kafka_2.12-3.4.1/config/zookeeper.properties\n",
        "!./kafka_2.12-3.4.1/bin/kafka-server-start.sh -daemon ./kafka_2.12-3.4.1/config/server.properties\n",
        "!echo \"Give the processes 10 seconds to start before proceeding.\"\n",
        "!sleep 10"
      ],
      "metadata": {
        "colab": {
          "base_uri": "https://localhost:8080/"
        },
        "id": "TCqW10UeQR-k",
        "outputId": "8179e25c-bd7b-4a2c-c005-caeb0279159d"
      },
      "execution_count": null,
      "outputs": [
        {
          "output_type": "stream",
          "name": "stdout",
          "text": [
            "Give the processes 10 seconds to start before proceeding.\n"
          ]
        }
      ]
    },
    {
      "cell_type": "code",
      "source": [
        "!ps -ef | grep kafka"
      ],
      "metadata": {
        "colab": {
          "base_uri": "https://localhost:8080/"
        },
        "id": "VHcT_irEP1m9",
        "outputId": "13da0906-942e-4d3e-fd49-65aaf137a499"
      },
      "execution_count": null,
      "outputs": [
        {
          "output_type": "stream",
          "name": "stdout",
          "text": [
            "root        2135       1 15 15:14 ?        00:00:02 java -Xmx512M -Xms512M -server -XX:+UseG1GC -XX:MaxGCPauseMillis=20 -XX:InitiatingHeapOccupancyPercent=35 -XX:+ExplicitGCInvokesConcurrent -XX:MaxInlineLevel=15 -Djava.awt.headless=true -Xlog:gc*:file=/content/kafka_2.12-3.4.1/bin/../logs/zookeeper-gc.log:time,tags:filecount=10,filesize=100M -Dcom.sun.management.jmxremote -Dcom.sun.management.jmxremote.authenticate=false -Dcom.sun.management.jmxremote.ssl=false -Dkafka.logs.dir=/content/kafka_2.12-3.4.1/bin/../logs -Dlog4j.configuration=file:./kafka_2.12-3.4.1/bin/../config/log4j.properties -cp /content/kafka_2.12-3.4.1/bin/../libs/activation-1.1.1.jar:/content/kafka_2.12-3.4.1/bin/../libs/aopalliance-repackaged-2.6.1.jar:/content/kafka_2.12-3.4.1/bin/../libs/argparse4j-0.7.0.jar:/content/kafka_2.12-3.4.1/bin/../libs/audience-annotations-0.13.0.jar:/content/kafka_2.12-3.4.1/bin/../libs/commons-cli-1.4.jar:/content/kafka_2.12-3.4.1/bin/../libs/commons-lang3-3.8.1.jar:/content/kafka_2.12-3.4.1/bin/../libs/connect-api-3.4.1.jar:/content/kafka_2.12-3.4.1/bin/../libs/connect-basic-auth-extension-3.4.1.jar:/content/kafka_2.12-3.4.1/bin/../libs/connect-json-3.4.1.jar:/content/kafka_2.12-3.4.1/bin/../libs/connect-mirror-3.4.1.jar:/content/kafka_2.12-3.4.1/bin/../libs/connect-mirror-client-3.4.1.jar:/content/kafka_2.12-3.4.1/bin/../libs/connect-runtime-3.4.1.jar:/content/kafka_2.12-3.4.1/bin/../libs/connect-transforms-3.4.1.jar:/content/kafka_2.12-3.4.1/bin/../libs/hk2-api-2.6.1.jar:/content/kafka_2.12-3.4.1/bin/../libs/hk2-locator-2.6.1.jar:/content/kafka_2.12-3.4.1/bin/../libs/hk2-utils-2.6.1.jar:/content/kafka_2.12-3.4.1/bin/../libs/jackson-annotations-2.13.5.jar:/content/kafka_2.12-3.4.1/bin/../libs/jackson-core-2.13.5.jar:/content/kafka_2.12-3.4.1/bin/../libs/jackson-databind-2.13.5.jar:/content/kafka_2.12-3.4.1/bin/../libs/jackson-dataformat-csv-2.13.5.jar:/content/kafka_2.12-3.4.1/bin/../libs/jackson-datatype-jdk8-2.13.5.jar:/content/kafka_2.12-3.4.1/bin/../libs/jackson-jaxrs-base-2.13.5.jar:/content/kafka_2.12-3.4.1/bin/../libs/jackson-jaxrs-json-provider-2.13.5.jar:/content/kafka_2.12-3.4.1/bin/../libs/jackson-module-jaxb-annotations-2.13.5.jar:/content/kafka_2.12-3.4.1/bin/../libs/jackson-module-scala_2.12-2.13.5.jar:/content/kafka_2.12-3.4.1/bin/../libs/jakarta.activation-api-1.2.2.jar:/content/kafka_2.12-3.4.1/bin/../libs/jakarta.annotation-api-1.3.5.jar:/content/kafka_2.12-3.4.1/bin/../libs/jakarta.inject-2.6.1.jar:/content/kafka_2.12-3.4.1/bin/../libs/jakarta.validation-api-2.0.2.jar:/content/kafka_2.12-3.4.1/bin/../libs/jakarta.ws.rs-api-2.1.6.jar:/content/kafka_2.12-3.4.1/bin/../libs/jakarta.xml.bind-api-2.3.3.jar:/content/kafka_2.12-3.4.1/bin/../libs/javassist-3.29.2-GA.jar:/content/kafka_2.12-3.4.1/bin/../libs/javax.activation-api-1.2.0.jar:/content/kafka_2.12-3.4.1/bin/../libs/javax.annotation-api-1.3.2.jar:/content/kafka_2.12-3.4.1/bin/../libs/javax.servlet-api-3.1.0.jar:/content/kafka_2.12-3.4.1/bin/../libs/javax.ws.rs-api-2.1.1.jar:/content/kafka_2.12-3.4.1/bin/../libs/jaxb-api-2.3.1.jar:/content/kafka_2.12-3.4.1/bin/../libs/jersey-client-2.39.1.jar:/content/kafka_2.12-3.4.1/bin/../libs/jersey-common-2.39.1.jar:/content/kafka_2.12-3.4.1/bin/../libs/jersey-container-servlet-2.39.1.jar:/content/kafka_2.12-3.4.1/bin/../libs/jersey-container-servlet-core-2.39.1.jar:/content/kafka_2.12-3.4.1/bin/../libs/jersey-hk2-2.39.1.jar:/content/kafka_2.12-3.4.1/bin/../libs/jersey-server-2.39.1.jar:/content/kafka_2.12-3.4.1/bin/../libs/jetty-client-9.4.51.v20230217.jar:/content/kafka_2.12-3.4.1/bin/../libs/jetty-continuation-9.4.51.v20230217.jar:/content/kafka_2.12-3.4.1/bin/../libs/jetty-http-9.4.51.v20230217.jar:/content/kafka_2.12-3.4.1/bin/../libs/jetty-io-9.4.51.v20230217.jar:/content/kafka_2.12-3.4.1/bin/../libs/jetty-security-9.4.51.v20230217.jar:/content/kafka_2.12-3.4.1/bin/../libs/jetty-server-9.4.51.v20230217.jar:/content/kafka_2.12-3.4.1/bin/../libs/jetty-servlet-9.4.51.v20230217.jar:/content/kafka_2.12-3.4.1/bin/../libs/jetty-servlets-9.4.51.v20230217.jar:/content/kafka_2.12-3.4.1/bin/../libs/jetty-util-9.4.51.v20230217.jar:/content/kafka_2.12-3.4.1/bin/../libs/jetty-util-ajax-9.4.51.v20230217.jar:/content/kafka_2.12-3.4.1/bin/../libs/jline-3.22.0.jar:/content/kafka_2.12-3.4.1/bin/../libs/jopt-simple-5.0.4.jar:/content/kafka_2.12-3.4.1/bin/../libs/jose4j-0.9.3.jar:/content/kafka_2.12-3.4.1/bin/../libs/kafka_2.12-3.4.1.jar:/content/kafka_2.12-3.4.1/bin/../libs/kafka-clients-3.4.1.jar:/content/kafka_2.12-3.4.1/bin/../libs/kafka-group-coordinator-3.4.1.jar:/content/kafka_2.12-3.4.1/bin/../libs/kafka-log4j-appender-3.4.1.jar:/content/kafka_2.12-3.4.1/bin/../libs/kafka-metadata-3.4.1.jar:/content/kafka_2.12-3.4.1/bin/../libs/kafka-raft-3.4.1.jar:/content/kafka_2.12-3.4.1/bin/../libs/kafka-server-common-3.4.1.jar:/content/kafka_2.12-3.4.1/bin/../libs/kafka-shell-3.4.1.jar:/content/kafka_2.12-3.4.1/bin/../libs/kafka-storage-3.4.1.jar:/content/kafka_2.12-3.4.1/bin/../libs/kafka-storage-api-3.4.1.jar:/content/kafka_2.12-3.4.1/bin/../libs/kafka-streams-3.4.1.jar:/content/kafka_2.12-3.4.1/bin/../libs/kafka-streams-examples-3.4.1.jar:/content/kafka_2.12-3.4.1/bin/../libs/kafka-streams-scala_2.12-3.4.1.jar:/content/kafka_2.12-3.4.1/bin/../libs/kafka-streams-test-utils-3.4.1.jar:/content/kafka_2.12-3.4.1/bin/../libs/kafka-tools-3.4.1.jar:/content/kafka_2.12-3.4.1/bin/../libs/lz4-java-1.8.0.jar:/content/kafka_2.12-3.4.1/bin/../libs/maven-artifact-3.8.4.jar:/content/kafka_2.12-3.4.1/bin/../libs/metrics-core-2.2.0.jar:/content/kafka_2.12-3.4.1/bin/../libs/metrics-core-4.1.12.1.jar:/content/kafka_2.12-3.4.1/bin/../libs/netty-buffer-4.1.92.Final.jar:/content/kafka_2.12-3.4.1/bin/../libs/netty-codec-4.1.92.Final.jar:/content/kafka_2.12-3.4.1/bin/../libs/netty-common-4.1.92.Final.jar:/content/kafka_2.12-3.4.1/bin/../libs/netty-handler-4.1.92.Final.jar:/content/kafka_2.12-3.4.1/bin/../libs/netty-resolver-4.1.92.Final.jar:/content/kafka_2.12-3.4.1/bin/../libs/netty-transport-4.1.92.Final.jar:/content/kafka_2.12-3.4.1/bin/../libs/netty-transport-classes-epoll-4.1.92.Final.jar:/content/kafka_2.12-3.4.1/bin/../libs/netty-transport-native-epoll-4.1.92.Final.jar:/content/kafka_2.12-3.4.1/bin/../libs/netty-transport-native-unix-common-4.1.92.Final.jar:/content/kafka_2.12-3.4.1/bin/../libs/osgi-resource-locator-1.0.3.jar:/content/kafka_2.12-3.4.1/bin/../libs/paranamer-2.8.jar:/content/kafka_2.12-3.4.1/bin/../libs/plexus-utils-3.3.0.jar:/content/kafka_2.12-3.4.1/bin/../libs/reflections-0.9.12.jar:/content/kafka_2.12-3.4.1/bin/../libs/reload4j-1.2.25.jar:/content/kafka_2.12-3.4.1/bin/../libs/rocksdbjni-7.1.2.jar:/content/kafka_2.12-3.4.1/bin/../libs/scala-collection-compat_2.12-2.10.0.jar:/content/kafka_2.12-3.4.1/bin/../libs/scala-java8-compat_2.12-1.0.2.jar:/content/kafka_2.12-3.4.1/bin/../libs/scala-library-2.12.15.jar:/content/kafka_2.12-3.4.1/bin/../libs/scala-logging_2.12-3.9.4.jar:/content/kafka_2.12-3.4.1/bin/../libs/scala-reflect-2.12.15.jar:/content/kafka_2.12-3.4.1/bin/../libs/slf4j-api-1.7.36.jar:/content/kafka_2.12-3.4.1/bin/../libs/slf4j-reload4j-1.7.36.jar:/content/kafka_2.12-3.4.1/bin/../libs/snappy-java-1.1.8.4.jar:/content/kafka_2.12-3.4.1/bin/../libs/swagger-annotations-2.2.0.jar:/content/kafka_2.12-3.4.1/bin/../libs/trogdor-3.4.1.jar:/content/kafka_2.12-3.4.1/bin/../libs/zookeeper-3.6.4.jar:/content/kafka_2.12-3.4.1/bin/../libs/zookeeper-jute-3.6.4.jar:/content/kafka_2.12-3.4.1/bin/../libs/zstd-jni-1.5.2-1.jar org.apache.zookeeper.server.quorum.QuorumPeerMain ./kafka_2.12-3.4.1/config/zookeeper.properties\n",
            "root        2495       1 53 15:14 ?        00:00:07 java -Xmx1G -Xms1G -server -XX:+UseG1GC -XX:MaxGCPauseMillis=20 -XX:InitiatingHeapOccupancyPercent=35 -XX:+ExplicitGCInvokesConcurrent -XX:MaxInlineLevel=15 -Djava.awt.headless=true -Xlog:gc*:file=/content/kafka_2.12-3.4.1/bin/../logs/kafkaServer-gc.log:time,tags:filecount=10,filesize=100M -Dcom.sun.management.jmxremote -Dcom.sun.management.jmxremote.authenticate=false -Dcom.sun.management.jmxremote.ssl=false -Dkafka.logs.dir=/content/kafka_2.12-3.4.1/bin/../logs -Dlog4j.configuration=file:./kafka_2.12-3.4.1/bin/../config/log4j.properties -cp /content/kafka_2.12-3.4.1/bin/../libs/activation-1.1.1.jar:/content/kafka_2.12-3.4.1/bin/../libs/aopalliance-repackaged-2.6.1.jar:/content/kafka_2.12-3.4.1/bin/../libs/argparse4j-0.7.0.jar:/content/kafka_2.12-3.4.1/bin/../libs/audience-annotations-0.13.0.jar:/content/kafka_2.12-3.4.1/bin/../libs/commons-cli-1.4.jar:/content/kafka_2.12-3.4.1/bin/../libs/commons-lang3-3.8.1.jar:/content/kafka_2.12-3.4.1/bin/../libs/connect-api-3.4.1.jar:/content/kafka_2.12-3.4.1/bin/../libs/connect-basic-auth-extension-3.4.1.jar:/content/kafka_2.12-3.4.1/bin/../libs/connect-json-3.4.1.jar:/content/kafka_2.12-3.4.1/bin/../libs/connect-mirror-3.4.1.jar:/content/kafka_2.12-3.4.1/bin/../libs/connect-mirror-client-3.4.1.jar:/content/kafka_2.12-3.4.1/bin/../libs/connect-runtime-3.4.1.jar:/content/kafka_2.12-3.4.1/bin/../libs/connect-transforms-3.4.1.jar:/content/kafka_2.12-3.4.1/bin/../libs/hk2-api-2.6.1.jar:/content/kafka_2.12-3.4.1/bin/../libs/hk2-locator-2.6.1.jar:/content/kafka_2.12-3.4.1/bin/../libs/hk2-utils-2.6.1.jar:/content/kafka_2.12-3.4.1/bin/../libs/jackson-annotations-2.13.5.jar:/content/kafka_2.12-3.4.1/bin/../libs/jackson-core-2.13.5.jar:/content/kafka_2.12-3.4.1/bin/../libs/jackson-databind-2.13.5.jar:/content/kafka_2.12-3.4.1/bin/../libs/jackson-dataformat-csv-2.13.5.jar:/content/kafka_2.12-3.4.1/bin/../libs/jackson-datatype-jdk8-2.13.5.jar:/content/kafka_2.12-3.4.1/bin/../libs/jackson-jaxrs-base-2.13.5.jar:/content/kafka_2.12-3.4.1/bin/../libs/jackson-jaxrs-json-provider-2.13.5.jar:/content/kafka_2.12-3.4.1/bin/../libs/jackson-module-jaxb-annotations-2.13.5.jar:/content/kafka_2.12-3.4.1/bin/../libs/jackson-module-scala_2.12-2.13.5.jar:/content/kafka_2.12-3.4.1/bin/../libs/jakarta.activation-api-1.2.2.jar:/content/kafka_2.12-3.4.1/bin/../libs/jakarta.annotation-api-1.3.5.jar:/content/kafka_2.12-3.4.1/bin/../libs/jakarta.inject-2.6.1.jar:/content/kafka_2.12-3.4.1/bin/../libs/jakarta.validation-api-2.0.2.jar:/content/kafka_2.12-3.4.1/bin/../libs/jakarta.ws.rs-api-2.1.6.jar:/content/kafka_2.12-3.4.1/bin/../libs/jakarta.xml.bind-api-2.3.3.jar:/content/kafka_2.12-3.4.1/bin/../libs/javassist-3.29.2-GA.jar:/content/kafka_2.12-3.4.1/bin/../libs/javax.activation-api-1.2.0.jar:/content/kafka_2.12-3.4.1/bin/../libs/javax.annotation-api-1.3.2.jar:/content/kafka_2.12-3.4.1/bin/../libs/javax.servlet-api-3.1.0.jar:/content/kafka_2.12-3.4.1/bin/../libs/javax.ws.rs-api-2.1.1.jar:/content/kafka_2.12-3.4.1/bin/../libs/jaxb-api-2.3.1.jar:/content/kafka_2.12-3.4.1/bin/../libs/jersey-client-2.39.1.jar:/content/kafka_2.12-3.4.1/bin/../libs/jersey-common-2.39.1.jar:/content/kafka_2.12-3.4.1/bin/../libs/jersey-container-servlet-2.39.1.jar:/content/kafka_2.12-3.4.1/bin/../libs/jersey-container-servlet-core-2.39.1.jar:/content/kafka_2.12-3.4.1/bin/../libs/jersey-hk2-2.39.1.jar:/content/kafka_2.12-3.4.1/bin/../libs/jersey-server-2.39.1.jar:/content/kafka_2.12-3.4.1/bin/../libs/jetty-client-9.4.51.v20230217.jar:/content/kafka_2.12-3.4.1/bin/../libs/jetty-continuation-9.4.51.v20230217.jar:/content/kafka_2.12-3.4.1/bin/../libs/jetty-http-9.4.51.v20230217.jar:/content/kafka_2.12-3.4.1/bin/../libs/jetty-io-9.4.51.v20230217.jar:/content/kafka_2.12-3.4.1/bin/../libs/jetty-security-9.4.51.v20230217.jar:/content/kafka_2.12-3.4.1/bin/../libs/jetty-server-9.4.51.v20230217.jar:/content/kafka_2.12-3.4.1/bin/../libs/jetty-servlet-9.4.51.v20230217.jar:/content/kafka_2.12-3.4.1/bin/../libs/jetty-servlets-9.4.51.v20230217.jar:/content/kafka_2.12-3.4.1/bin/../libs/jetty-util-9.4.51.v20230217.jar:/content/kafka_2.12-3.4.1/bin/../libs/jetty-util-ajax-9.4.51.v20230217.jar:/content/kafka_2.12-3.4.1/bin/../libs/jline-3.22.0.jar:/content/kafka_2.12-3.4.1/bin/../libs/jopt-simple-5.0.4.jar:/content/kafka_2.12-3.4.1/bin/../libs/jose4j-0.9.3.jar:/content/kafka_2.12-3.4.1/bin/../libs/kafka_2.12-3.4.1.jar:/content/kafka_2.12-3.4.1/bin/../libs/kafka-clients-3.4.1.jar:/content/kafka_2.12-3.4.1/bin/../libs/kafka-group-coordinator-3.4.1.jar:/content/kafka_2.12-3.4.1/bin/../libs/kafka-log4j-appender-3.4.1.jar:/content/kafka_2.12-3.4.1/bin/../libs/kafka-metadata-3.4.1.jar:/content/kafka_2.12-3.4.1/bin/../libs/kafka-raft-3.4.1.jar:/content/kafka_2.12-3.4.1/bin/../libs/kafka-server-common-3.4.1.jar:/content/kafka_2.12-3.4.1/bin/../libs/kafka-shell-3.4.1.jar:/content/kafka_2.12-3.4.1/bin/../libs/kafka-storage-3.4.1.jar:/content/kafka_2.12-3.4.1/bin/../libs/kafka-storage-api-3.4.1.jar:/content/kafka_2.12-3.4.1/bin/../libs/kafka-streams-3.4.1.jar:/content/kafka_2.12-3.4.1/bin/../libs/kafka-streams-examples-3.4.1.jar:/content/kafka_2.12-3.4.1/bin/../libs/kafka-streams-scala_2.12-3.4.1.jar:/content/kafka_2.12-3.4.1/bin/../libs/kafka-streams-test-utils-3.4.1.jar:/content/kafka_2.12-3.4.1/bin/../libs/kafka-tools-3.4.1.jar:/content/kafka_2.12-3.4.1/bin/../libs/lz4-java-1.8.0.jar:/content/kafka_2.12-3.4.1/bin/../libs/maven-artifact-3.8.4.jar:/content/kafka_2.12-3.4.1/bin/../libs/metrics-core-2.2.0.jar:/content/kafka_2.12-3.4.1/bin/../libs/metrics-core-4.1.12.1.jar:/content/kafka_2.12-3.4.1/bin/../libs/netty-buffer-4.1.92.Final.jar:/content/kafka_2.12-3.4.1/bin/../libs/netty-codec-4.1.92.Final.jar:/content/kafka_2.12-3.4.1/bin/../libs/netty-common-4.1.92.Final.jar:/content/kafka_2.12-3.4.1/bin/../libs/netty-handler-4.1.92.Final.jar:/content/kafka_2.12-3.4.1/bin/../libs/netty-resolver-4.1.92.Final.jar:/content/kafka_2.12-3.4.1/bin/../libs/netty-transport-4.1.92.Final.jar:/content/kafka_2.12-3.4.1/bin/../libs/netty-transport-classes-epoll-4.1.92.Final.jar:/content/kafka_2.12-3.4.1/bin/../libs/netty-transport-native-epoll-4.1.92.Final.jar:/content/kafka_2.12-3.4.1/bin/../libs/netty-transport-native-unix-common-4.1.92.Final.jar:/content/kafka_2.12-3.4.1/bin/../libs/osgi-resource-locator-1.0.3.jar:/content/kafka_2.12-3.4.1/bin/../libs/paranamer-2.8.jar:/content/kafka_2.12-3.4.1/bin/../libs/plexus-utils-3.3.0.jar:/content/kafka_2.12-3.4.1/bin/../libs/reflections-0.9.12.jar:/content/kafka_2.12-3.4.1/bin/../libs/reload4j-1.2.25.jar:/content/kafka_2.12-3.4.1/bin/../libs/rocksdbjni-7.1.2.jar:/content/kafka_2.12-3.4.1/bin/../libs/scala-collection-compat_2.12-2.10.0.jar:/content/kafka_2.12-3.4.1/bin/../libs/scala-java8-compat_2.12-1.0.2.jar:/content/kafka_2.12-3.4.1/bin/../libs/scala-library-2.12.15.jar:/content/kafka_2.12-3.4.1/bin/../libs/scala-logging_2.12-3.9.4.jar:/content/kafka_2.12-3.4.1/bin/../libs/scala-reflect-2.12.15.jar:/content/kafka_2.12-3.4.1/bin/../libs/slf4j-api-1.7.36.jar:/content/kafka_2.12-3.4.1/bin/../libs/slf4j-reload4j-1.7.36.jar:/content/kafka_2.12-3.4.1/bin/../libs/snappy-java-1.1.8.4.jar:/content/kafka_2.12-3.4.1/bin/../libs/swagger-annotations-2.2.0.jar:/content/kafka_2.12-3.4.1/bin/../libs/trogdor-3.4.1.jar:/content/kafka_2.12-3.4.1/bin/../libs/zookeeper-3.6.4.jar:/content/kafka_2.12-3.4.1/bin/../libs/zookeeper-jute-3.6.4.jar:/content/kafka_2.12-3.4.1/bin/../libs/zstd-jni-1.5.2-1.jar kafka.Kafka ./kafka_2.12-3.4.1/config/server.properties\n",
            "root        2649     483  0 15:14 ?        00:00:00 /bin/bash -c ps -ef | grep kafka\n",
            "root        2651    2649  0 15:14 ?        00:00:00 grep kafka\n"
          ]
        }
      ]
    },
    {
      "cell_type": "code",
      "source": [
        "!./kafka_2.12-3.4.1/bin/kafka-topics.sh --create --bootstrap-server 127.0.0.1:9092 --replication-factor 1 --partitions 1 --topic sample-streaming-data"
      ],
      "metadata": {
        "colab": {
          "base_uri": "https://localhost:8080/"
        },
        "id": "UH5G4WfwR3QA",
        "outputId": "c8a75b8b-58e7-423e-b741-54490679a8fc"
      },
      "execution_count": null,
      "outputs": [
        {
          "output_type": "stream",
          "name": "stdout",
          "text": [
            "Created topic sample-streaming-data.\n"
          ]
        }
      ]
    },
    {
      "cell_type": "code",
      "source": [
        "%%writefile generator.py\n",
        "\n",
        "import sys\n",
        "args = sys.argv  # a list of the arguments provided (str)\n",
        "print(\"running generator.py\", args)\n",
        "iterations = int(args[1])\n",
        "print(f'iterations: {iterations}')\n",
        "\n",
        "def error_callback(exc):\n",
        "    raise Exception('Error while sendig data to kafka: {0}'.format(str(exc)))\n",
        "\n",
        "def write_to_kafka(topic_name, items):\n",
        "  from kafka import KafkaProducer\n",
        "\n",
        "  count=0\n",
        "  producer = KafkaProducer(bootstrap_servers=['127.0.0.1:9092'])\n",
        "  for message, key in items:\n",
        "    producer.send(topic_name, key=key.encode('utf-8'), value=message.encode('utf-8'), partition=0).add_errback(error_callback)\n",
        "    count+=1\n",
        "  producer.flush()\n",
        "  print(\"Wrote {0} messages into topic: {1}\".format(count, topic_name))\n",
        "\n",
        "import random\n",
        "from time import sleep\n",
        "\n",
        "def generate_data(rows=2):\n",
        "\n",
        "  for i in range(1,rows):\n",
        "\n",
        "    index_num = random.randint(0,1000000)\n",
        "    print(index_num)\n",
        "    keys = list([f'{index_num}'])\n",
        "    msg = list([f'hello world!{index_num}'])\n",
        "    data = zip(keys , msg)\n",
        "\n",
        "  return data\n",
        "\n",
        "for i in range(iterations):\n",
        "  write_to_kafka(\"sample-streaming-data\", generate_data())\n",
        "  sleep(random.randint(0,10))\n",
        "\n"
      ],
      "metadata": {
        "colab": {
          "base_uri": "https://localhost:8080/"
        },
        "id": "NrSLFDeWT-z8",
        "outputId": "8b574dd5-430c-41e5-d345-2e1282e9e850"
      },
      "execution_count": null,
      "outputs": [
        {
          "output_type": "stream",
          "name": "stdout",
          "text": [
            "Writing generator.py\n"
          ]
        }
      ]
    },
    {
      "cell_type": "code",
      "source": [
        "%%script bash --bg\n",
        "\n",
        "python generator.py 3"
      ],
      "metadata": {
        "id": "_r1AuAB8UDz5"
      },
      "execution_count": null,
      "outputs": []
    },
    {
      "cell_type": "code",
      "source": [],
      "metadata": {
        "id": "Uk8sWpasUEeY"
      },
      "execution_count": null,
      "outputs": []
    }
  ],
  "metadata": {
    "colab": {
      "provenance": [],
      "authorship_tag": "ABX9TyP/knlDpufisjabPJC2kbZN",
      "include_colab_link": true
    },
    "kernelspec": {
      "display_name": "Python 3",
      "name": "python3"
    },
    "language_info": {
      "name": "python"
    }
  },
  "nbformat": 4,
  "nbformat_minor": 0
}