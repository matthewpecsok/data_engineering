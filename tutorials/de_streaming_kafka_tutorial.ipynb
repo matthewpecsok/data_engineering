{
  "cells": [
    {
      "cell_type": "markdown",
      "metadata": {
        "id": "view-in-github",
        "colab_type": "text"
      },
      "source": [
        "<a href=\"https://colab.research.google.com/github/matthewpecsok/data_engineering/blob/main/tutorials/de_streaming_kafka_tutorial.ipynb\" target=\"_parent\"><img src=\"https://colab.research.google.com/assets/colab-badge.svg\" alt=\"Open In Colab\"/></a>"
      ]
    },
    {
      "cell_type": "markdown",
      "metadata": {
        "id": "upgCc3gXybsA"
      },
      "source": [
        "### Install the required kafka packages"
      ]
    },
    {
      "cell_type": "code",
      "source": [
        "output_path = '/content/drive/MyDrive/Colab Notebooks/data_engineering'"
      ],
      "metadata": {
        "id": "hqVQXFpIqibh"
      },
      "execution_count": 2,
      "outputs": []
    },
    {
      "cell_type": "code",
      "execution_count": 3,
      "metadata": {
        "id": "48B9eAMMhAgw",
        "colab": {
          "base_uri": "https://localhost:8080/"
        },
        "outputId": "b23728a4-f454-4aab-8956-a42ffec319d3"
      },
      "outputs": [
        {
          "output_type": "stream",
          "name": "stdout",
          "text": [
            "Looking in indexes: https://pypi.org/simple, https://us-python.pkg.dev/colab-wheels/public/simple/\n",
            "Collecting kafka-python\n",
            "  Downloading kafka_python-2.0.2-py2.py3-none-any.whl (246 kB)\n",
            "\u001b[2K     \u001b[90m━━━━━━━━━━━━━━━━━━━━━━━━━━━━━━━━━━━━━━\u001b[0m \u001b[32m246.5/246.5 kB\u001b[0m \u001b[31m14.3 MB/s\u001b[0m eta \u001b[36m0:00:00\u001b[0m\n",
            "\u001b[?25hInstalling collected packages: kafka-python\n",
            "Successfully installed kafka-python-2.0.2\n"
          ]
        }
      ],
      "source": [
        "!pip install kafka-python"
      ]
    },
    {
      "cell_type": "markdown",
      "metadata": {
        "id": "gjrZNJQRJP-U"
      },
      "source": [
        "### Import packages"
      ]
    },
    {
      "cell_type": "code",
      "execution_count": 4,
      "metadata": {
        "id": "m6KXZuTBWgRm"
      },
      "outputs": [],
      "source": [
        "import os\n",
        "from datetime import datetime\n",
        "import time\n",
        "import threading\n",
        "import json\n",
        "from kafka import KafkaProducer\n",
        "from kafka.errors import KafkaError\n"
      ]
    },
    {
      "cell_type": "markdown",
      "metadata": {
        "id": "yZmI7l_GykcW"
      },
      "source": [
        "## Download and setup Kafka and Zookeeper instances\n",
        "\n",
        "For demo purposes, the following instances are setup locally:\n",
        "\n",
        "- Kafka (Brokers: 127.0.0.1:9092)\n",
        "- Zookeeper (Node: 127.0.0.1:2181)\n"
      ]
    },
    {
      "cell_type": "code",
      "execution_count": 5,
      "metadata": {
        "id": "YUj0878jPyz7"
      },
      "outputs": [],
      "source": [
        "!curl -sSOL https://downloads.apache.org/kafka/3.4.0/kafka_2.12-3.4.0.tgz\n",
        "!tar -xzf kafka_2.12-3.4.0.tgz"
      ]
    },
    {
      "cell_type": "markdown",
      "metadata": {
        "id": "vAzfu_WiEs4F"
      },
      "source": [
        "Kafka with defaults"
      ]
    },
    {
      "cell_type": "code",
      "execution_count": 6,
      "metadata": {
        "id": "n9ujlunrWgRx",
        "colab": {
          "base_uri": "https://localhost:8080/"
        },
        "outputId": "c5793b7a-3498-4b08-f301-d3d3ff295f4a"
      },
      "outputs": [
        {
          "output_type": "stream",
          "name": "stdout",
          "text": [
            "Give the processes 10 seconds to start before proceeding.\n"
          ]
        }
      ],
      "source": [
        "!./kafka_2.12-3.4.0/bin/zookeeper-server-start.sh -daemon ./kafka_2.12-3.4.0/config/zookeeper.properties\n",
        "!./kafka_2.12-3.4.0/bin/kafka-server-start.sh -daemon ./kafka_2.12-3.4.0/config/server.properties\n",
        "!echo \"Give the processes 10 seconds to start before proceeding.\"\n",
        "!sleep 10"
      ]
    },
    {
      "cell_type": "markdown",
      "metadata": {
        "id": "f6qxCdypE1DD"
      },
      "source": [
        "Is Kafka running?"
      ]
    },
    {
      "cell_type": "code",
      "execution_count": 7,
      "metadata": {
        "id": "48LqMJ1BEHm5",
        "colab": {
          "base_uri": "https://localhost:8080/"
        },
        "outputId": "6bb9f7dd-c0fc-4d5a-d5c6-98d87a3d1660"
      },
      "outputs": [
        {
          "output_type": "stream",
          "name": "stdout",
          "text": [
            "root        1956       1 16 03:55 ?        00:00:01 java -Xmx512M -Xms512M -server -XX:+UseG1GC -XX:MaxGCPauseMillis=20 -XX:InitiatingHeapOccupancyPercent=35 -XX:+ExplicitGCInvokesConcurrent -XX:MaxInlineLevel=15 -Djava.awt.headless=true -Xlog:gc*:file=/content/kafka_2.12-3.4.0/bin/../logs/zookeeper-gc.log:time,tags:filecount=10,filesize=100M -Dcom.sun.management.jmxremote -Dcom.sun.management.jmxremote.authenticate=false -Dcom.sun.management.jmxremote.ssl=false -Dkafka.logs.dir=/content/kafka_2.12-3.4.0/bin/../logs -Dlog4j.configuration=file:./kafka_2.12-3.4.0/bin/../config/log4j.properties -cp /content/kafka_2.12-3.4.0/bin/../libs/activation-1.1.1.jar:/content/kafka_2.12-3.4.0/bin/../libs/aopalliance-repackaged-2.6.1.jar:/content/kafka_2.12-3.4.0/bin/../libs/argparse4j-0.7.0.jar:/content/kafka_2.12-3.4.0/bin/../libs/audience-annotations-0.5.0.jar:/content/kafka_2.12-3.4.0/bin/../libs/commons-cli-1.4.jar:/content/kafka_2.12-3.4.0/bin/../libs/commons-lang3-3.8.1.jar:/content/kafka_2.12-3.4.0/bin/../libs/connect-api-3.4.0.jar:/content/kafka_2.12-3.4.0/bin/../libs/connect-basic-auth-extension-3.4.0.jar:/content/kafka_2.12-3.4.0/bin/../libs/connect-json-3.4.0.jar:/content/kafka_2.12-3.4.0/bin/../libs/connect-mirror-3.4.0.jar:/content/kafka_2.12-3.4.0/bin/../libs/connect-mirror-client-3.4.0.jar:/content/kafka_2.12-3.4.0/bin/../libs/connect-runtime-3.4.0.jar:/content/kafka_2.12-3.4.0/bin/../libs/connect-transforms-3.4.0.jar:/content/kafka_2.12-3.4.0/bin/../libs/hk2-api-2.6.1.jar:/content/kafka_2.12-3.4.0/bin/../libs/hk2-locator-2.6.1.jar:/content/kafka_2.12-3.4.0/bin/../libs/hk2-utils-2.6.1.jar:/content/kafka_2.12-3.4.0/bin/../libs/jackson-annotations-2.13.4.jar:/content/kafka_2.12-3.4.0/bin/../libs/jackson-core-2.13.4.jar:/content/kafka_2.12-3.4.0/bin/../libs/jackson-databind-2.13.4.2.jar:/content/kafka_2.12-3.4.0/bin/../libs/jackson-dataformat-csv-2.13.4.jar:/content/kafka_2.12-3.4.0/bin/../libs/jackson-datatype-jdk8-2.13.4.jar:/content/kafka_2.12-3.4.0/bin/../libs/jackson-jaxrs-base-2.13.4.jar:/content/kafka_2.12-3.4.0/bin/../libs/jackson-jaxrs-json-provider-2.13.4.jar:/content/kafka_2.12-3.4.0/bin/../libs/jackson-module-jaxb-annotations-2.13.4.jar:/content/kafka_2.12-3.4.0/bin/../libs/jackson-module-scala_2.12-2.13.4.jar:/content/kafka_2.12-3.4.0/bin/../libs/jakarta.activation-api-1.2.2.jar:/content/kafka_2.12-3.4.0/bin/../libs/jakarta.annotation-api-1.3.5.jar:/content/kafka_2.12-3.4.0/bin/../libs/jakarta.inject-2.6.1.jar:/content/kafka_2.12-3.4.0/bin/../libs/jakarta.validation-api-2.0.2.jar:/content/kafka_2.12-3.4.0/bin/../libs/jakarta.ws.rs-api-2.1.6.jar:/content/kafka_2.12-3.4.0/bin/../libs/jakarta.xml.bind-api-2.3.3.jar:/content/kafka_2.12-3.4.0/bin/../libs/javassist-3.27.0-GA.jar:/content/kafka_2.12-3.4.0/bin/../libs/javax.annotation-api-1.3.2.jar:/content/kafka_2.12-3.4.0/bin/../libs/javax.servlet-api-3.1.0.jar:/content/kafka_2.12-3.4.0/bin/../libs/javax.ws.rs-api-2.1.1.jar:/content/kafka_2.12-3.4.0/bin/../libs/jaxb-api-2.3.0.jar:/content/kafka_2.12-3.4.0/bin/../libs/jersey-client-2.34.jar:/content/kafka_2.12-3.4.0/bin/../libs/jersey-common-2.34.jar:/content/kafka_2.12-3.4.0/bin/../libs/jersey-container-servlet-2.34.jar:/content/kafka_2.12-3.4.0/bin/../libs/jersey-container-servlet-core-2.34.jar:/content/kafka_2.12-3.4.0/bin/../libs/jersey-hk2-2.34.jar:/content/kafka_2.12-3.4.0/bin/../libs/jersey-server-2.34.jar:/content/kafka_2.12-3.4.0/bin/../libs/jetty-client-9.4.48.v20220622.jar:/content/kafka_2.12-3.4.0/bin/../libs/jetty-continuation-9.4.48.v20220622.jar:/content/kafka_2.12-3.4.0/bin/../libs/jetty-http-9.4.48.v20220622.jar:/content/kafka_2.12-3.4.0/bin/../libs/jetty-io-9.4.48.v20220622.jar:/content/kafka_2.12-3.4.0/bin/../libs/jetty-security-9.4.48.v20220622.jar:/content/kafka_2.12-3.4.0/bin/../libs/jetty-server-9.4.48.v20220622.jar:/content/kafka_2.12-3.4.0/bin/../libs/jetty-servlet-9.4.48.v20220622.jar:/content/kafka_2.12-3.4.0/bin/../libs/jetty-servlets-9.4.48.v20220622.jar:/content/kafka_2.12-3.4.0/bin/../libs/jetty-util-9.4.48.v20220622.jar:/content/kafka_2.12-3.4.0/bin/../libs/jetty-util-ajax-9.4.48.v20220622.jar:/content/kafka_2.12-3.4.0/bin/../libs/jline-3.21.0.jar:/content/kafka_2.12-3.4.0/bin/../libs/jopt-simple-5.0.4.jar:/content/kafka_2.12-3.4.0/bin/../libs/jose4j-0.7.9.jar:/content/kafka_2.12-3.4.0/bin/../libs/kafka_2.12-3.4.0.jar:/content/kafka_2.12-3.4.0/bin/../libs/kafka-clients-3.4.0.jar:/content/kafka_2.12-3.4.0/bin/../libs/kafka-group-coordinator-3.4.0.jar:/content/kafka_2.12-3.4.0/bin/../libs/kafka-log4j-appender-3.4.0.jar:/content/kafka_2.12-3.4.0/bin/../libs/kafka-metadata-3.4.0.jar:/content/kafka_2.12-3.4.0/bin/../libs/kafka-raft-3.4.0.jar:/content/kafka_2.12-3.4.0/bin/../libs/kafka-server-common-3.4.0.jar:/content/kafka_2.12-3.4.0/bin/../libs/kafka-shell-3.4.0.jar:/content/kafka_2.12-3.4.0/bin/../libs/kafka-storage-3.4.0.jar:/content/kafka_2.12-3.4.0/bin/../libs/kafka-storage-api-3.4.0.jar:/content/kafka_2.12-3.4.0/bin/../libs/kafka-streams-3.4.0.jar:/content/kafka_2.12-3.4.0/bin/../libs/kafka-streams-examples-3.4.0.jar:/content/kafka_2.12-3.4.0/bin/../libs/kafka-streams-scala_2.12-3.4.0.jar:/content/kafka_2.12-3.4.0/bin/../libs/kafka-streams-test-utils-3.4.0.jar:/content/kafka_2.12-3.4.0/bin/../libs/kafka-tools-3.4.0.jar:/content/kafka_2.12-3.4.0/bin/../libs/lz4-java-1.8.0.jar:/content/kafka_2.12-3.4.0/bin/../libs/maven-artifact-3.8.4.jar:/content/kafka_2.12-3.4.0/bin/../libs/metrics-core-2.2.0.jar:/content/kafka_2.12-3.4.0/bin/../libs/metrics-core-4.1.12.1.jar:/content/kafka_2.12-3.4.0/bin/../libs/netty-buffer-4.1.78.Final.jar:/content/kafka_2.12-3.4.0/bin/../libs/netty-codec-4.1.78.Final.jar:/content/kafka_2.12-3.4.0/bin/../libs/netty-common-4.1.78.Final.jar:/content/kafka_2.12-3.4.0/bin/../libs/netty-handler-4.1.78.Final.jar:/content/kafka_2.12-3.4.0/bin/../libs/netty-resolver-4.1.78.Final.jar:/content/kafka_2.12-3.4.0/bin/../libs/netty-transport-4.1.78.Final.jar:/content/kafka_2.12-3.4.0/bin/../libs/netty-transport-classes-epoll-4.1.78.Final.jar:/content/kafka_2.12-3.4.0/bin/../libs/netty-transport-native-epoll-4.1.78.Final.jar:/content/kafka_2.12-3.4.0/bin/../libs/netty-transport-native-unix-common-4.1.78.Final.jar:/content/kafka_2.12-3.4.0/bin/../libs/osgi-resource-locator-1.0.3.jar:/content/kafka_2.12-3.4.0/bin/../libs/paranamer-2.8.jar:/content/kafka_2.12-3.4.0/bin/../libs/plexus-utils-3.3.0.jar:/content/kafka_2.12-3.4.0/bin/../libs/reflections-0.9.12.jar:/content/kafka_2.12-3.4.0/bin/../libs/reload4j-1.2.19.jar:/content/kafka_2.12-3.4.0/bin/../libs/rocksdbjni-7.1.2.jar:/content/kafka_2.12-3.4.0/bin/../libs/scala-collection-compat_2.12-2.6.0.jar:/content/kafka_2.12-3.4.0/bin/../libs/scala-java8-compat_2.12-1.0.2.jar:/content/kafka_2.12-3.4.0/bin/../libs/scala-library-2.12.15.jar:/content/kafka_2.12-3.4.0/bin/../libs/scala-logging_2.12-3.9.4.jar:/content/kafka_2.12-3.4.0/bin/../libs/scala-reflect-2.12.15.jar:/content/kafka_2.12-3.4.0/bin/../libs/slf4j-api-1.7.36.jar:/content/kafka_2.12-3.4.0/bin/../libs/slf4j-reload4j-1.7.36.jar:/content/kafka_2.12-3.4.0/bin/../libs/snappy-java-1.1.8.4.jar:/content/kafka_2.12-3.4.0/bin/../libs/swagger-annotations-2.2.0.jar:/content/kafka_2.12-3.4.0/bin/../libs/trogdor-3.4.0.jar:/content/kafka_2.12-3.4.0/bin/../libs/zookeeper-3.6.3.jar:/content/kafka_2.12-3.4.0/bin/../libs/zookeeper-jute-3.6.3.jar:/content/kafka_2.12-3.4.0/bin/../libs/zstd-jni-1.5.2-1.jar org.apache.zookeeper.server.quorum.QuorumPeerMain ./kafka_2.12-3.4.0/config/zookeeper.properties\n",
            "root        2323       1 51 03:55 ?        00:00:05 java -Xmx1G -Xms1G -server -XX:+UseG1GC -XX:MaxGCPauseMillis=20 -XX:InitiatingHeapOccupancyPercent=35 -XX:+ExplicitGCInvokesConcurrent -XX:MaxInlineLevel=15 -Djava.awt.headless=true -Xlog:gc*:file=/content/kafka_2.12-3.4.0/bin/../logs/kafkaServer-gc.log:time,tags:filecount=10,filesize=100M -Dcom.sun.management.jmxremote -Dcom.sun.management.jmxremote.authenticate=false -Dcom.sun.management.jmxremote.ssl=false -Dkafka.logs.dir=/content/kafka_2.12-3.4.0/bin/../logs -Dlog4j.configuration=file:./kafka_2.12-3.4.0/bin/../config/log4j.properties -cp /content/kafka_2.12-3.4.0/bin/../libs/activation-1.1.1.jar:/content/kafka_2.12-3.4.0/bin/../libs/aopalliance-repackaged-2.6.1.jar:/content/kafka_2.12-3.4.0/bin/../libs/argparse4j-0.7.0.jar:/content/kafka_2.12-3.4.0/bin/../libs/audience-annotations-0.5.0.jar:/content/kafka_2.12-3.4.0/bin/../libs/commons-cli-1.4.jar:/content/kafka_2.12-3.4.0/bin/../libs/commons-lang3-3.8.1.jar:/content/kafka_2.12-3.4.0/bin/../libs/connect-api-3.4.0.jar:/content/kafka_2.12-3.4.0/bin/../libs/connect-basic-auth-extension-3.4.0.jar:/content/kafka_2.12-3.4.0/bin/../libs/connect-json-3.4.0.jar:/content/kafka_2.12-3.4.0/bin/../libs/connect-mirror-3.4.0.jar:/content/kafka_2.12-3.4.0/bin/../libs/connect-mirror-client-3.4.0.jar:/content/kafka_2.12-3.4.0/bin/../libs/connect-runtime-3.4.0.jar:/content/kafka_2.12-3.4.0/bin/../libs/connect-transforms-3.4.0.jar:/content/kafka_2.12-3.4.0/bin/../libs/hk2-api-2.6.1.jar:/content/kafka_2.12-3.4.0/bin/../libs/hk2-locator-2.6.1.jar:/content/kafka_2.12-3.4.0/bin/../libs/hk2-utils-2.6.1.jar:/content/kafka_2.12-3.4.0/bin/../libs/jackson-annotations-2.13.4.jar:/content/kafka_2.12-3.4.0/bin/../libs/jackson-core-2.13.4.jar:/content/kafka_2.12-3.4.0/bin/../libs/jackson-databind-2.13.4.2.jar:/content/kafka_2.12-3.4.0/bin/../libs/jackson-dataformat-csv-2.13.4.jar:/content/kafka_2.12-3.4.0/bin/../libs/jackson-datatype-jdk8-2.13.4.jar:/content/kafka_2.12-3.4.0/bin/../libs/jackson-jaxrs-base-2.13.4.jar:/content/kafka_2.12-3.4.0/bin/../libs/jackson-jaxrs-json-provider-2.13.4.jar:/content/kafka_2.12-3.4.0/bin/../libs/jackson-module-jaxb-annotations-2.13.4.jar:/content/kafka_2.12-3.4.0/bin/../libs/jackson-module-scala_2.12-2.13.4.jar:/content/kafka_2.12-3.4.0/bin/../libs/jakarta.activation-api-1.2.2.jar:/content/kafka_2.12-3.4.0/bin/../libs/jakarta.annotation-api-1.3.5.jar:/content/kafka_2.12-3.4.0/bin/../libs/jakarta.inject-2.6.1.jar:/content/kafka_2.12-3.4.0/bin/../libs/jakarta.validation-api-2.0.2.jar:/content/kafka_2.12-3.4.0/bin/../libs/jakarta.ws.rs-api-2.1.6.jar:/content/kafka_2.12-3.4.0/bin/../libs/jakarta.xml.bind-api-2.3.3.jar:/content/kafka_2.12-3.4.0/bin/../libs/javassist-3.27.0-GA.jar:/content/kafka_2.12-3.4.0/bin/../libs/javax.annotation-api-1.3.2.jar:/content/kafka_2.12-3.4.0/bin/../libs/javax.servlet-api-3.1.0.jar:/content/kafka_2.12-3.4.0/bin/../libs/javax.ws.rs-api-2.1.1.jar:/content/kafka_2.12-3.4.0/bin/../libs/jaxb-api-2.3.0.jar:/content/kafka_2.12-3.4.0/bin/../libs/jersey-client-2.34.jar:/content/kafka_2.12-3.4.0/bin/../libs/jersey-common-2.34.jar:/content/kafka_2.12-3.4.0/bin/../libs/jersey-container-servlet-2.34.jar:/content/kafka_2.12-3.4.0/bin/../libs/jersey-container-servlet-core-2.34.jar:/content/kafka_2.12-3.4.0/bin/../libs/jersey-hk2-2.34.jar:/content/kafka_2.12-3.4.0/bin/../libs/jersey-server-2.34.jar:/content/kafka_2.12-3.4.0/bin/../libs/jetty-client-9.4.48.v20220622.jar:/content/kafka_2.12-3.4.0/bin/../libs/jetty-continuation-9.4.48.v20220622.jar:/content/kafka_2.12-3.4.0/bin/../libs/jetty-http-9.4.48.v20220622.jar:/content/kafka_2.12-3.4.0/bin/../libs/jetty-io-9.4.48.v20220622.jar:/content/kafka_2.12-3.4.0/bin/../libs/jetty-security-9.4.48.v20220622.jar:/content/kafka_2.12-3.4.0/bin/../libs/jetty-server-9.4.48.v20220622.jar:/content/kafka_2.12-3.4.0/bin/../libs/jetty-servlet-9.4.48.v20220622.jar:/content/kafka_2.12-3.4.0/bin/../libs/jetty-servlets-9.4.48.v20220622.jar:/content/kafka_2.12-3.4.0/bin/../libs/jetty-util-9.4.48.v20220622.jar:/content/kafka_2.12-3.4.0/bin/../libs/jetty-util-ajax-9.4.48.v20220622.jar:/content/kafka_2.12-3.4.0/bin/../libs/jline-3.21.0.jar:/content/kafka_2.12-3.4.0/bin/../libs/jopt-simple-5.0.4.jar:/content/kafka_2.12-3.4.0/bin/../libs/jose4j-0.7.9.jar:/content/kafka_2.12-3.4.0/bin/../libs/kafka_2.12-3.4.0.jar:/content/kafka_2.12-3.4.0/bin/../libs/kafka-clients-3.4.0.jar:/content/kafka_2.12-3.4.0/bin/../libs/kafka-group-coordinator-3.4.0.jar:/content/kafka_2.12-3.4.0/bin/../libs/kafka-log4j-appender-3.4.0.jar:/content/kafka_2.12-3.4.0/bin/../libs/kafka-metadata-3.4.0.jar:/content/kafka_2.12-3.4.0/bin/../libs/kafka-raft-3.4.0.jar:/content/kafka_2.12-3.4.0/bin/../libs/kafka-server-common-3.4.0.jar:/content/kafka_2.12-3.4.0/bin/../libs/kafka-shell-3.4.0.jar:/content/kafka_2.12-3.4.0/bin/../libs/kafka-storage-3.4.0.jar:/content/kafka_2.12-3.4.0/bin/../libs/kafka-storage-api-3.4.0.jar:/content/kafka_2.12-3.4.0/bin/../libs/kafka-streams-3.4.0.jar:/content/kafka_2.12-3.4.0/bin/../libs/kafka-streams-examples-3.4.0.jar:/content/kafka_2.12-3.4.0/bin/../libs/kafka-streams-scala_2.12-3.4.0.jar:/content/kafka_2.12-3.4.0/bin/../libs/kafka-streams-test-utils-3.4.0.jar:/content/kafka_2.12-3.4.0/bin/../libs/kafka-tools-3.4.0.jar:/content/kafka_2.12-3.4.0/bin/../libs/lz4-java-1.8.0.jar:/content/kafka_2.12-3.4.0/bin/../libs/maven-artifact-3.8.4.jar:/content/kafka_2.12-3.4.0/bin/../libs/metrics-core-2.2.0.jar:/content/kafka_2.12-3.4.0/bin/../libs/metrics-core-4.1.12.1.jar:/content/kafka_2.12-3.4.0/bin/../libs/netty-buffer-4.1.78.Final.jar:/content/kafka_2.12-3.4.0/bin/../libs/netty-codec-4.1.78.Final.jar:/content/kafka_2.12-3.4.0/bin/../libs/netty-common-4.1.78.Final.jar:/content/kafka_2.12-3.4.0/bin/../libs/netty-handler-4.1.78.Final.jar:/content/kafka_2.12-3.4.0/bin/../libs/netty-resolver-4.1.78.Final.jar:/content/kafka_2.12-3.4.0/bin/../libs/netty-transport-4.1.78.Final.jar:/content/kafka_2.12-3.4.0/bin/../libs/netty-transport-classes-epoll-4.1.78.Final.jar:/content/kafka_2.12-3.4.0/bin/../libs/netty-transport-native-epoll-4.1.78.Final.jar:/content/kafka_2.12-3.4.0/bin/../libs/netty-transport-native-unix-common-4.1.78.Final.jar:/content/kafka_2.12-3.4.0/bin/../libs/osgi-resource-locator-1.0.3.jar:/content/kafka_2.12-3.4.0/bin/../libs/paranamer-2.8.jar:/content/kafka_2.12-3.4.0/bin/../libs/plexus-utils-3.3.0.jar:/content/kafka_2.12-3.4.0/bin/../libs/reflections-0.9.12.jar:/content/kafka_2.12-3.4.0/bin/../libs/reload4j-1.2.19.jar:/content/kafka_2.12-3.4.0/bin/../libs/rocksdbjni-7.1.2.jar:/content/kafka_2.12-3.4.0/bin/../libs/scala-collection-compat_2.12-2.6.0.jar:/content/kafka_2.12-3.4.0/bin/../libs/scala-java8-compat_2.12-1.0.2.jar:/content/kafka_2.12-3.4.0/bin/../libs/scala-library-2.12.15.jar:/content/kafka_2.12-3.4.0/bin/../libs/scala-logging_2.12-3.9.4.jar:/content/kafka_2.12-3.4.0/bin/../libs/scala-reflect-2.12.15.jar:/content/kafka_2.12-3.4.0/bin/../libs/slf4j-api-1.7.36.jar:/content/kafka_2.12-3.4.0/bin/../libs/slf4j-reload4j-1.7.36.jar:/content/kafka_2.12-3.4.0/bin/../libs/snappy-java-1.1.8.4.jar:/content/kafka_2.12-3.4.0/bin/../libs/swagger-annotations-2.2.0.jar:/content/kafka_2.12-3.4.0/bin/../libs/trogdor-3.4.0.jar:/content/kafka_2.12-3.4.0/bin/../libs/zookeeper-3.6.3.jar:/content/kafka_2.12-3.4.0/bin/../libs/zookeeper-jute-3.6.3.jar:/content/kafka_2.12-3.4.0/bin/../libs/zstd-jni-1.5.2-1.jar kafka.Kafka ./kafka_2.12-3.4.0/config/server.properties\n",
            "root        2465    1431  0 03:55 ?        00:00:00 /bin/bash -c ps -ef | grep kafka\n",
            "root        2467    2465  0 03:55 ?        00:00:00 grep kafka\n"
          ]
        }
      ],
      "source": [
        "!ps -ef | grep kafka"
      ]
    },
    {
      "cell_type": "markdown",
      "metadata": {
        "id": "Z3TntBqanQnh"
      },
      "source": [
        "Create the kafka topics with the following specs:\n",
        "\n",
        "- sample-streaming-data: partitions=1"
      ]
    },
    {
      "cell_type": "code",
      "execution_count": 8,
      "metadata": {
        "id": "lXJWqMmWnPyP",
        "colab": {
          "base_uri": "https://localhost:8080/"
        },
        "outputId": "259ee1d9-4b13-4443-b9fc-360199d72e74"
      },
      "outputs": [
        {
          "output_type": "stream",
          "name": "stdout",
          "text": [
            "Created topic sample-streaming-data.\n"
          ]
        }
      ],
      "source": [
        "!./kafka_2.12-3.4.0/bin/kafka-topics.sh --create --bootstrap-server 127.0.0.1:9092 --replication-factor 1 --partitions 1 --topic sample-streaming-data"
      ]
    },
    {
      "cell_type": "markdown",
      "metadata": {
        "id": "kNxf_NqjnycC"
      },
      "source": [
        "Describe the topic for details on the configuration"
      ]
    },
    {
      "cell_type": "code",
      "execution_count": 9,
      "metadata": {
        "id": "apCf9pfVnwn7",
        "colab": {
          "base_uri": "https://localhost:8080/"
        },
        "outputId": "9001a3b6-cb6f-4de2-8db8-11a70b8290dd"
      },
      "outputs": [
        {
          "output_type": "stream",
          "name": "stdout",
          "text": [
            "Topic: sample-streaming-data\tTopicId: 8Rc6azxPSCKDjGyvufXM1w\tPartitionCount: 1\tReplicationFactor: 1\tConfigs: \n",
            "\tTopic: sample-streaming-data\tPartition: 0\tLeader: 0\tReplicas: 0\tIsr: 0\n"
          ]
        }
      ],
      "source": [
        "!./kafka_2.12-3.4.0/bin/kafka-topics.sh --describe --bootstrap-server 127.0.0.1:9092 --topic sample-streaming-data"
      ]
    },
    {
      "cell_type": "markdown",
      "source": [
        "## generator python script"
      ],
      "metadata": {
        "id": "eD6MgELGdYrE"
      }
    },
    {
      "cell_type": "code",
      "source": [
        "%%writefile generator.py\n",
        "\n",
        "import sys\n",
        "args = sys.argv  # a list of the arguments provided (str)\n",
        "print(\"running generator.py\", args)\n",
        "iterations = int(args[1])\n",
        "print(f'iterations: {iterations}')\n",
        "\n",
        "def error_callback(exc):\n",
        "    raise Exception('Error while sendig data to kafka: {0}'.format(str(exc)))\n",
        "\n",
        "def write_to_kafka(topic_name, items):\n",
        "  from kafka import KafkaProducer\n",
        "\n",
        "  count=0\n",
        "  producer = KafkaProducer(bootstrap_servers=['127.0.0.1:9092'])\n",
        "  for message, key in items:\n",
        "    producer.send(topic_name, key=key.encode('utf-8'), value=message.encode('utf-8'), partition=0).add_errback(error_callback)\n",
        "    count+=1\n",
        "  producer.flush()\n",
        "  print(\"Wrote {0} messages into topic: {1}\".format(count, topic_name))\n",
        "\n",
        "import random\n",
        "from time import sleep\n",
        "\n",
        "def generate_data(rows=2):\n",
        "\n",
        "  for i in range(1,rows):\n",
        "\n",
        "    index_num = random.randint(0,1000000)\n",
        "    print(index_num)\n",
        "    keys = list([f'{index_num}'])\n",
        "    msg = list([f'hello world!{index_num}'])\n",
        "    data = zip(keys , msg)\n",
        "\n",
        "  return data\n",
        "\n",
        "for i in range(iterations):\n",
        "  write_to_kafka(\"sample-streaming-data\", generate_data())\n",
        "  sleep(random.randint(0,10))\n",
        "\n"
      ],
      "metadata": {
        "colab": {
          "base_uri": "https://localhost:8080/"
        },
        "id": "jXTRHjchRzQP",
        "outputId": "412083f4-98ea-4b0a-cd7a-e489228ec9c7"
      },
      "execution_count": 10,
      "outputs": [
        {
          "output_type": "stream",
          "name": "stdout",
          "text": [
            "Writing generator.py\n"
          ]
        }
      ]
    },
    {
      "cell_type": "markdown",
      "source": [
        "# retrieve messages"
      ],
      "metadata": {
        "id": "qNigtAVzv89C"
      }
    },
    {
      "cell_type": "code",
      "source": [
        "def retrieve_messages(topic='sample-streaming-data',bootstrap_servers = '127.0.0.1:9092',output_path='output_path'):\n",
        "\n",
        "  from kafka import KafkaConsumer\n",
        "  from kafka.structs import TopicPartition\n",
        "  import gspread\n",
        "\n",
        "  consumer = KafkaConsumer(\n",
        "      bootstrap_servers=bootstrap_servers,\n",
        "      auto_offset_reset='earliest',\n",
        "      group_id='retrieve_last_items_group'\n",
        "      )###,enable_auto_commit=True)\n",
        "  # Read the specified partition\n",
        "  consumer.assign([TopicPartition(topic, 0)])\n",
        "\n",
        "\n",
        "\n",
        "  for msg in consumer:\n",
        "      # Open the file in write mode ('a')\n",
        "      file_path = output_path+'steaming_data.csv'  # Replace with the desired file path\n",
        "      file = open(file_path, 'a')\n",
        "\n",
        "      print(f\"the msg: {msg.value.decode('utf-8')}\")\n",
        "        # Write content to the file\n",
        "      file.write(f\"{msg.value.decode('utf-8')}\\n\")\n",
        "      # Close the file\n",
        "      file.close()"
      ],
      "metadata": {
        "id": "gSyyabEVBWHV"
      },
      "execution_count": 11,
      "outputs": []
    },
    {
      "cell_type": "markdown",
      "source": [
        "# write some data"
      ],
      "metadata": {
        "id": "xslSU8wFe9uo"
      }
    },
    {
      "cell_type": "code",
      "source": [
        "%%script bash --bg\n",
        "\n",
        "python generator.py 3 "
      ],
      "metadata": {
        "id": "8KuaSYrRSMTu"
      },
      "execution_count": 19,
      "outputs": []
    },
    {
      "cell_type": "markdown",
      "source": [
        "function for retrieve messages. "
      ],
      "metadata": {
        "id": "cc6L3ezS5eny"
      }
    },
    {
      "cell_type": "code",
      "source": [
        "retrieve_messages()"
      ],
      "metadata": {
        "id": "sRZeQuTiBWDv",
        "colab": {
          "base_uri": "https://localhost:8080/",
          "height": 337
        },
        "outputId": "4a9496a1-8c4e-4724-f236-09e02fc673c0"
      },
      "execution_count": 20,
      "outputs": [
        {
          "output_type": "stream",
          "name": "stdout",
          "text": [
            "the msg: 196997\n"
          ]
        },
        {
          "output_type": "error",
          "ename": "KeyboardInterrupt",
          "evalue": "ignored",
          "traceback": [
            "\u001b[0;31m---------------------------------------------------------------------------\u001b[0m",
            "\u001b[0;31mKeyboardInterrupt\u001b[0m                         Traceback (most recent call last)",
            "\u001b[0;32m<ipython-input-20-8a601ba845ba>\u001b[0m in \u001b[0;36m<cell line: 1>\u001b[0;34m()\u001b[0m\n\u001b[0;32m----> 1\u001b[0;31m \u001b[0mretrieve_messages\u001b[0m\u001b[0;34m(\u001b[0m\u001b[0;34m)\u001b[0m\u001b[0;34m\u001b[0m\u001b[0;34m\u001b[0m\u001b[0m\n\u001b[0m",
            "\u001b[0;32m<ipython-input-11-ab322671daa2>\u001b[0m in \u001b[0;36mretrieve_messages\u001b[0;34m(topic, bootstrap_servers, output_path)\u001b[0m\n\u001b[1;32m     15\u001b[0m \u001b[0;34m\u001b[0m\u001b[0m\n\u001b[1;32m     16\u001b[0m \u001b[0;34m\u001b[0m\u001b[0m\n\u001b[0;32m---> 17\u001b[0;31m   \u001b[0;32mfor\u001b[0m \u001b[0mmsg\u001b[0m \u001b[0;32min\u001b[0m \u001b[0mconsumer\u001b[0m\u001b[0;34m:\u001b[0m\u001b[0;34m\u001b[0m\u001b[0;34m\u001b[0m\u001b[0m\n\u001b[0m\u001b[1;32m     18\u001b[0m       \u001b[0;31m# Open the file in write mode ('a')\u001b[0m\u001b[0;34m\u001b[0m\u001b[0;34m\u001b[0m\u001b[0m\n\u001b[1;32m     19\u001b[0m       \u001b[0mfile_path\u001b[0m \u001b[0;34m=\u001b[0m \u001b[0moutput_path\u001b[0m\u001b[0;34m+\u001b[0m\u001b[0;34m'steaming_data.csv'\u001b[0m  \u001b[0;31m# Replace with the desired file path\u001b[0m\u001b[0;34m\u001b[0m\u001b[0;34m\u001b[0m\u001b[0m\n",
            "\u001b[0;32m/usr/local/lib/python3.10/dist-packages/kafka/consumer/group.py\u001b[0m in \u001b[0;36m__next__\u001b[0;34m(self)\u001b[0m\n\u001b[1;32m   1191\u001b[0m             \u001b[0;32mreturn\u001b[0m \u001b[0mself\u001b[0m\u001b[0;34m.\u001b[0m\u001b[0mnext_v1\u001b[0m\u001b[0;34m(\u001b[0m\u001b[0;34m)\u001b[0m\u001b[0;34m\u001b[0m\u001b[0;34m\u001b[0m\u001b[0m\n\u001b[1;32m   1192\u001b[0m         \u001b[0;32melse\u001b[0m\u001b[0;34m:\u001b[0m\u001b[0;34m\u001b[0m\u001b[0;34m\u001b[0m\u001b[0m\n\u001b[0;32m-> 1193\u001b[0;31m             \u001b[0;32mreturn\u001b[0m \u001b[0mself\u001b[0m\u001b[0;34m.\u001b[0m\u001b[0mnext_v2\u001b[0m\u001b[0;34m(\u001b[0m\u001b[0;34m)\u001b[0m\u001b[0;34m\u001b[0m\u001b[0;34m\u001b[0m\u001b[0m\n\u001b[0m\u001b[1;32m   1194\u001b[0m \u001b[0;34m\u001b[0m\u001b[0m\n\u001b[1;32m   1195\u001b[0m     \u001b[0;32mdef\u001b[0m \u001b[0mnext_v2\u001b[0m\u001b[0;34m(\u001b[0m\u001b[0mself\u001b[0m\u001b[0;34m)\u001b[0m\u001b[0;34m:\u001b[0m\u001b[0;34m\u001b[0m\u001b[0;34m\u001b[0m\u001b[0m\n",
            "\u001b[0;32m/usr/local/lib/python3.10/dist-packages/kafka/consumer/group.py\u001b[0m in \u001b[0;36mnext_v2\u001b[0;34m(self)\u001b[0m\n\u001b[1;32m   1199\u001b[0m                 \u001b[0mself\u001b[0m\u001b[0;34m.\u001b[0m\u001b[0m_iterator\u001b[0m \u001b[0;34m=\u001b[0m \u001b[0mself\u001b[0m\u001b[0;34m.\u001b[0m\u001b[0m_message_generator_v2\u001b[0m\u001b[0;34m(\u001b[0m\u001b[0;34m)\u001b[0m\u001b[0;34m\u001b[0m\u001b[0;34m\u001b[0m\u001b[0m\n\u001b[1;32m   1200\u001b[0m             \u001b[0;32mtry\u001b[0m\u001b[0;34m:\u001b[0m\u001b[0;34m\u001b[0m\u001b[0;34m\u001b[0m\u001b[0m\n\u001b[0;32m-> 1201\u001b[0;31m                 \u001b[0;32mreturn\u001b[0m \u001b[0mnext\u001b[0m\u001b[0;34m(\u001b[0m\u001b[0mself\u001b[0m\u001b[0;34m.\u001b[0m\u001b[0m_iterator\u001b[0m\u001b[0;34m)\u001b[0m\u001b[0;34m\u001b[0m\u001b[0;34m\u001b[0m\u001b[0m\n\u001b[0m\u001b[1;32m   1202\u001b[0m             \u001b[0;32mexcept\u001b[0m \u001b[0mStopIteration\u001b[0m\u001b[0;34m:\u001b[0m\u001b[0;34m\u001b[0m\u001b[0;34m\u001b[0m\u001b[0m\n\u001b[1;32m   1203\u001b[0m                 \u001b[0mself\u001b[0m\u001b[0;34m.\u001b[0m\u001b[0m_iterator\u001b[0m \u001b[0;34m=\u001b[0m \u001b[0;32mNone\u001b[0m\u001b[0;34m\u001b[0m\u001b[0;34m\u001b[0m\u001b[0m\n",
            "\u001b[0;32m/usr/local/lib/python3.10/dist-packages/kafka/consumer/group.py\u001b[0m in \u001b[0;36m_message_generator_v2\u001b[0;34m(self)\u001b[0m\n\u001b[1;32m   1114\u001b[0m     \u001b[0;32mdef\u001b[0m \u001b[0m_message_generator_v2\u001b[0m\u001b[0;34m(\u001b[0m\u001b[0mself\u001b[0m\u001b[0;34m)\u001b[0m\u001b[0;34m:\u001b[0m\u001b[0;34m\u001b[0m\u001b[0;34m\u001b[0m\u001b[0m\n\u001b[1;32m   1115\u001b[0m         \u001b[0mtimeout_ms\u001b[0m \u001b[0;34m=\u001b[0m \u001b[0;36m1000\u001b[0m \u001b[0;34m*\u001b[0m \u001b[0;34m(\u001b[0m\u001b[0mself\u001b[0m\u001b[0;34m.\u001b[0m\u001b[0m_consumer_timeout\u001b[0m \u001b[0;34m-\u001b[0m \u001b[0mtime\u001b[0m\u001b[0;34m.\u001b[0m\u001b[0mtime\u001b[0m\u001b[0;34m(\u001b[0m\u001b[0;34m)\u001b[0m\u001b[0;34m)\u001b[0m\u001b[0;34m\u001b[0m\u001b[0;34m\u001b[0m\u001b[0m\n\u001b[0;32m-> 1116\u001b[0;31m         \u001b[0mrecord_map\u001b[0m \u001b[0;34m=\u001b[0m \u001b[0mself\u001b[0m\u001b[0;34m.\u001b[0m\u001b[0mpoll\u001b[0m\u001b[0;34m(\u001b[0m\u001b[0mtimeout_ms\u001b[0m\u001b[0;34m=\u001b[0m\u001b[0mtimeout_ms\u001b[0m\u001b[0;34m,\u001b[0m \u001b[0mupdate_offsets\u001b[0m\u001b[0;34m=\u001b[0m\u001b[0;32mFalse\u001b[0m\u001b[0;34m)\u001b[0m\u001b[0;34m\u001b[0m\u001b[0;34m\u001b[0m\u001b[0m\n\u001b[0m\u001b[1;32m   1117\u001b[0m         \u001b[0;32mfor\u001b[0m \u001b[0mtp\u001b[0m\u001b[0;34m,\u001b[0m \u001b[0mrecords\u001b[0m \u001b[0;32min\u001b[0m \u001b[0msix\u001b[0m\u001b[0;34m.\u001b[0m\u001b[0miteritems\u001b[0m\u001b[0;34m(\u001b[0m\u001b[0mrecord_map\u001b[0m\u001b[0;34m)\u001b[0m\u001b[0;34m:\u001b[0m\u001b[0;34m\u001b[0m\u001b[0;34m\u001b[0m\u001b[0m\n\u001b[1;32m   1118\u001b[0m             \u001b[0;31m# Generators are stateful, and it is possible that the tp / records\u001b[0m\u001b[0;34m\u001b[0m\u001b[0;34m\u001b[0m\u001b[0m\n",
            "\u001b[0;32m/usr/local/lib/python3.10/dist-packages/kafka/consumer/group.py\u001b[0m in \u001b[0;36mpoll\u001b[0;34m(self, timeout_ms, max_records, update_offsets)\u001b[0m\n\u001b[1;32m    653\u001b[0m         \u001b[0mremaining\u001b[0m \u001b[0;34m=\u001b[0m \u001b[0mtimeout_ms\u001b[0m\u001b[0;34m\u001b[0m\u001b[0;34m\u001b[0m\u001b[0m\n\u001b[1;32m    654\u001b[0m         \u001b[0;32mwhile\u001b[0m \u001b[0;32mTrue\u001b[0m\u001b[0;34m:\u001b[0m\u001b[0;34m\u001b[0m\u001b[0;34m\u001b[0m\u001b[0m\n\u001b[0;32m--> 655\u001b[0;31m             \u001b[0mrecords\u001b[0m \u001b[0;34m=\u001b[0m \u001b[0mself\u001b[0m\u001b[0;34m.\u001b[0m\u001b[0m_poll_once\u001b[0m\u001b[0;34m(\u001b[0m\u001b[0mremaining\u001b[0m\u001b[0;34m,\u001b[0m \u001b[0mmax_records\u001b[0m\u001b[0;34m,\u001b[0m \u001b[0mupdate_offsets\u001b[0m\u001b[0;34m=\u001b[0m\u001b[0mupdate_offsets\u001b[0m\u001b[0;34m)\u001b[0m\u001b[0;34m\u001b[0m\u001b[0;34m\u001b[0m\u001b[0m\n\u001b[0m\u001b[1;32m    656\u001b[0m             \u001b[0;32mif\u001b[0m \u001b[0mrecords\u001b[0m\u001b[0;34m:\u001b[0m\u001b[0;34m\u001b[0m\u001b[0;34m\u001b[0m\u001b[0m\n\u001b[1;32m    657\u001b[0m                 \u001b[0;32mreturn\u001b[0m \u001b[0mrecords\u001b[0m\u001b[0;34m\u001b[0m\u001b[0;34m\u001b[0m\u001b[0m\n",
            "\u001b[0;32m/usr/local/lib/python3.10/dist-packages/kafka/consumer/group.py\u001b[0m in \u001b[0;36m_poll_once\u001b[0;34m(self, timeout_ms, max_records, update_offsets)\u001b[0m\n\u001b[1;32m    700\u001b[0m \u001b[0;34m\u001b[0m\u001b[0m\n\u001b[1;32m    701\u001b[0m         \u001b[0mtimeout_ms\u001b[0m \u001b[0;34m=\u001b[0m \u001b[0mmin\u001b[0m\u001b[0;34m(\u001b[0m\u001b[0mtimeout_ms\u001b[0m\u001b[0;34m,\u001b[0m \u001b[0mself\u001b[0m\u001b[0;34m.\u001b[0m\u001b[0m_coordinator\u001b[0m\u001b[0;34m.\u001b[0m\u001b[0mtime_to_next_poll\u001b[0m\u001b[0;34m(\u001b[0m\u001b[0;34m)\u001b[0m \u001b[0;34m*\u001b[0m \u001b[0;36m1000\u001b[0m\u001b[0;34m)\u001b[0m\u001b[0;34m\u001b[0m\u001b[0;34m\u001b[0m\u001b[0m\n\u001b[0;32m--> 702\u001b[0;31m         \u001b[0mself\u001b[0m\u001b[0;34m.\u001b[0m\u001b[0m_client\u001b[0m\u001b[0;34m.\u001b[0m\u001b[0mpoll\u001b[0m\u001b[0;34m(\u001b[0m\u001b[0mtimeout_ms\u001b[0m\u001b[0;34m=\u001b[0m\u001b[0mtimeout_ms\u001b[0m\u001b[0;34m)\u001b[0m\u001b[0;34m\u001b[0m\u001b[0;34m\u001b[0m\u001b[0m\n\u001b[0m\u001b[1;32m    703\u001b[0m         \u001b[0;31m# after the long poll, we should check whether the group needs to rebalance\u001b[0m\u001b[0;34m\u001b[0m\u001b[0;34m\u001b[0m\u001b[0m\n\u001b[1;32m    704\u001b[0m         \u001b[0;31m# prior to returning data so that the group can stabilize faster\u001b[0m\u001b[0;34m\u001b[0m\u001b[0;34m\u001b[0m\u001b[0m\n",
            "\u001b[0;32m/usr/local/lib/python3.10/dist-packages/kafka/client_async.py\u001b[0m in \u001b[0;36mpoll\u001b[0;34m(self, timeout_ms, future)\u001b[0m\n\u001b[1;32m    600\u001b[0m                     \u001b[0mtimeout\u001b[0m \u001b[0;34m=\u001b[0m \u001b[0mmax\u001b[0m\u001b[0;34m(\u001b[0m\u001b[0;36m0\u001b[0m\u001b[0;34m,\u001b[0m \u001b[0mtimeout\u001b[0m\u001b[0;34m)\u001b[0m  \u001b[0;31m# avoid negative timeouts\u001b[0m\u001b[0;34m\u001b[0m\u001b[0;34m\u001b[0m\u001b[0m\n\u001b[1;32m    601\u001b[0m \u001b[0;34m\u001b[0m\u001b[0m\n\u001b[0;32m--> 602\u001b[0;31m                 \u001b[0mself\u001b[0m\u001b[0;34m.\u001b[0m\u001b[0m_poll\u001b[0m\u001b[0;34m(\u001b[0m\u001b[0mtimeout\u001b[0m \u001b[0;34m/\u001b[0m \u001b[0;36m1000\u001b[0m\u001b[0;34m)\u001b[0m\u001b[0;34m\u001b[0m\u001b[0;34m\u001b[0m\u001b[0m\n\u001b[0m\u001b[1;32m    603\u001b[0m \u001b[0;34m\u001b[0m\u001b[0m\n\u001b[1;32m    604\u001b[0m             \u001b[0;31m# called without the lock to avoid deadlock potential\u001b[0m\u001b[0;34m\u001b[0m\u001b[0;34m\u001b[0m\u001b[0m\n",
            "\u001b[0;32m/usr/local/lib/python3.10/dist-packages/kafka/client_async.py\u001b[0m in \u001b[0;36m_poll\u001b[0;34m(self, timeout)\u001b[0m\n\u001b[1;32m    632\u001b[0m \u001b[0;34m\u001b[0m\u001b[0m\n\u001b[1;32m    633\u001b[0m         \u001b[0mstart_select\u001b[0m \u001b[0;34m=\u001b[0m \u001b[0mtime\u001b[0m\u001b[0;34m.\u001b[0m\u001b[0mtime\u001b[0m\u001b[0;34m(\u001b[0m\u001b[0;34m)\u001b[0m\u001b[0;34m\u001b[0m\u001b[0;34m\u001b[0m\u001b[0m\n\u001b[0;32m--> 634\u001b[0;31m         \u001b[0mready\u001b[0m \u001b[0;34m=\u001b[0m \u001b[0mself\u001b[0m\u001b[0;34m.\u001b[0m\u001b[0m_selector\u001b[0m\u001b[0;34m.\u001b[0m\u001b[0mselect\u001b[0m\u001b[0;34m(\u001b[0m\u001b[0mtimeout\u001b[0m\u001b[0;34m)\u001b[0m\u001b[0;34m\u001b[0m\u001b[0;34m\u001b[0m\u001b[0m\n\u001b[0m\u001b[1;32m    635\u001b[0m         \u001b[0mend_select\u001b[0m \u001b[0;34m=\u001b[0m \u001b[0mtime\u001b[0m\u001b[0;34m.\u001b[0m\u001b[0mtime\u001b[0m\u001b[0;34m(\u001b[0m\u001b[0;34m)\u001b[0m\u001b[0;34m\u001b[0m\u001b[0;34m\u001b[0m\u001b[0m\n\u001b[1;32m    636\u001b[0m         \u001b[0;32mif\u001b[0m \u001b[0mself\u001b[0m\u001b[0;34m.\u001b[0m\u001b[0m_sensors\u001b[0m\u001b[0;34m:\u001b[0m\u001b[0;34m\u001b[0m\u001b[0;34m\u001b[0m\u001b[0m\n",
            "\u001b[0;32m/usr/lib/python3.10/selectors.py\u001b[0m in \u001b[0;36mselect\u001b[0;34m(self, timeout)\u001b[0m\n\u001b[1;32m    467\u001b[0m             \u001b[0mready\u001b[0m \u001b[0;34m=\u001b[0m \u001b[0;34m[\u001b[0m\u001b[0;34m]\u001b[0m\u001b[0;34m\u001b[0m\u001b[0;34m\u001b[0m\u001b[0m\n\u001b[1;32m    468\u001b[0m             \u001b[0;32mtry\u001b[0m\u001b[0;34m:\u001b[0m\u001b[0;34m\u001b[0m\u001b[0;34m\u001b[0m\u001b[0m\n\u001b[0;32m--> 469\u001b[0;31m                 \u001b[0mfd_event_list\u001b[0m \u001b[0;34m=\u001b[0m \u001b[0mself\u001b[0m\u001b[0;34m.\u001b[0m\u001b[0m_selector\u001b[0m\u001b[0;34m.\u001b[0m\u001b[0mpoll\u001b[0m\u001b[0;34m(\u001b[0m\u001b[0mtimeout\u001b[0m\u001b[0;34m,\u001b[0m \u001b[0mmax_ev\u001b[0m\u001b[0;34m)\u001b[0m\u001b[0;34m\u001b[0m\u001b[0;34m\u001b[0m\u001b[0m\n\u001b[0m\u001b[1;32m    470\u001b[0m             \u001b[0;32mexcept\u001b[0m \u001b[0mInterruptedError\u001b[0m\u001b[0;34m:\u001b[0m\u001b[0;34m\u001b[0m\u001b[0;34m\u001b[0m\u001b[0m\n\u001b[1;32m    471\u001b[0m                 \u001b[0;32mreturn\u001b[0m \u001b[0mready\u001b[0m\u001b[0;34m\u001b[0m\u001b[0;34m\u001b[0m\u001b[0m\n",
            "\u001b[0;31mKeyboardInterrupt\u001b[0m: "
          ]
        }
      ]
    },
    {
      "cell_type": "code",
      "source": [
        "!cat steaming_data.csv"
      ],
      "metadata": {
        "colab": {
          "base_uri": "https://localhost:8080/"
        },
        "id": "FEsm1CM2eymR",
        "outputId": "e1a29918-532a-4467-ab2b-e167f798c8fb"
      },
      "execution_count": null,
      "outputs": [
        {
          "output_type": "stream",
          "name": "stdout",
          "text": [
            "ConsumerRecord(topic='sample-streaming-data', partition=0, offset=68, timestamp=1685984005605, timestamp_type=0, key=b'hello world!199281', value=b'199281', headers=[], checksum=None, serialized_key_size=18, serialized_value_size=6, serialized_header_size=-1)\n",
            "ConsumerRecord(topic='sample-streaming-data', partition=0, offset=68, timestamp=1685984005605, timestamp_type=0, key=b'hello world!199281', value=b'199281', headers=[], checksum=None, serialized_key_size=18, serialized_value_size=6, serialized_header_size=-1)\n",
            "ConsumerRecord(topic='sample-streaming-data', partition=0, offset=69, timestamp=1685984006723, timestamp_type=0, key=b'hello world!383087', value=b'383087', headers=[], checksum=None, serialized_key_size=18, serialized_value_size=6, serialized_header_size=-1)\n",
            "ConsumerRecord(topic='sample-streaming-data', partition=0, offset=70, timestamp=1685984016847, timestamp_type=0, key=b'hello world!231836', value=b'231836', headers=[], checksum=None, serialized_key_size=18, serialized_value_size=6, serialized_header_size=-1)\n",
            "ConsumerRecord(topic='sample-streaming-data', partition=0, offset=71, timestamp=1685984125944, timestamp_type=0, key=b'hello world!969407', value=b'969407', headers=[], checksum=None, serialized_key_size=18, serialized_value_size=6, serialized_header_size=-1)\n",
            "ConsumerRecord(topic='sample-streaming-data', partition=0, offset=72, timestamp=1685984131057, timestamp_type=0, key=b'hello world!140891', value=b'140891', headers=[], checksum=None, serialized_key_size=18, serialized_value_size=6, serialized_header_size=-1)\n",
            "ConsumerRecord(topic='sample-streaming-data', partition=0, offset=73, timestamp=1685984132174, timestamp_type=0, key=b'hello world!768300', value=b'768300', headers=[], checksum=None, serialized_key_size=18, serialized_value_size=6, serialized_header_size=-1)\n",
            "534593\n",
            "362594\n"
          ]
        }
      ]
    },
    {
      "cell_type": "code",
      "source": [
        "from google.colab.output import eval_js\n",
        "print(eval_js(\"google.colab.kernel.proxyPort(5000)\"))"
      ],
      "metadata": {
        "colab": {
          "base_uri": "https://localhost:8080/",
          "height": 35
        },
        "id": "up15hKceZj07",
        "outputId": "d828c305-1c77-415e-b979-ba515ea6d049"
      },
      "execution_count": null,
      "outputs": [
        {
          "output_type": "stream",
          "name": "stdout",
          "text": [
            "https://0ws9l2u0epo-496ff2e9c6d22116-5000-colab.googleusercontent.com/\n"
          ]
        }
      ]
    },
    {
      "cell_type": "code",
      "source": [
        "from google.colab.output import eval_js\n",
        "print(eval_js(\"google.colab.kernel.proxyPort(9092)\"))"
      ],
      "metadata": {
        "colab": {
          "base_uri": "https://localhost:8080/",
          "height": 35
        },
        "id": "R_acXExwZkJp",
        "outputId": "a5116c40-2f1d-4e98-c0ba-ff25819ae621"
      },
      "execution_count": null,
      "outputs": [
        {
          "output_type": "stream",
          "name": "stdout",
          "text": [
            "https://02zd6cwvt4t3-496ff2e9c6d22116-9092-colab.googleusercontent.com/\n"
          ]
        }
      ]
    },
    {
      "cell_type": "code",
      "source": [
        "#%%write_file recommender.py\n",
        "\n",
        "import numpy as np\n",
        "\n",
        "# Sample user-item matrix\n",
        "user_item_matrix = np.array([\n",
        "    [4, 5, 0, 5, 0],\n",
        "    [5, 0, 4, 0, 3],\n",
        "    [0, 3, 0, 4, 5],\n",
        "    [4, 0, 5, 0, 4],\n",
        "    [0, 4, 0, 3, 0]\n",
        "])\n",
        "\n",
        "# Calculate item similarities using cosine similarity\n",
        "def calculate_item_similarities(matrix):\n",
        "    num_items = matrix.shape[1]\n",
        "    similarities = np.zeros((num_items, num_items))\n",
        "    \n",
        "    for i in range(num_items):\n",
        "        for j in range(num_items):\n",
        "            if i != j:\n",
        "                item_i = matrix[:, i]\n",
        "                item_j = matrix[:, j]\n",
        "                similarity = np.dot(item_i, item_j) / (np.linalg.norm(item_i) * np.linalg.norm(item_j))\n",
        "                similarities[i, j] = similarity\n",
        "    \n",
        "    return similarities\n",
        "\n",
        "# Generate item recommendations for a target user\n",
        "def generate_item_recommendations(user_id, matrix, similarities, top_k=3):\n",
        "    user_ratings = matrix[user_id]\n",
        "    num_items = matrix.shape[1]\n",
        "    \n",
        "    item_scores = np.zeros(num_items)\n",
        "    \n",
        "    for i in range(num_items):\n",
        "        if user_ratings[i] == 0:\n",
        "            item_i_similarity = similarities[i]\n",
        "            item_i_ratings = matrix[:, i]\n",
        "            item_scores[i] = np.dot(item_i_similarity, item_i_ratings) / np.sum(item_i_similarity)\n",
        "            print(item_scores)\n",
        "    \n",
        "    #item_scores = #np.argsort(item_scores)[::-1][:top_k]\n",
        "    print(item_scores)\n",
        "    \n",
        "    return item_scores\n",
        "\n",
        "# Calculate item similarities\n",
        "item_similarities = calculate_item_similarities(user_item_matrix)\n",
        "\n",
        "# Generate recommendations for user 2\n",
        "user_id = 4\n",
        "recommendations = generate_item_recommendations(user_id, user_item_matrix, item_similarities, top_k=6)\n",
        "\n",
        "print(f\"Recommendations for user {user_id}: {recommendations} with matrix {user_item_matrix[user_id]}\")"
      ],
      "metadata": {
        "colab": {
          "base_uri": "https://localhost:8080/"
        },
        "id": "5MJg1y8IU7-i",
        "outputId": "d5911868-0cea-4ad7-ae76-de440d49c90c"
      },
      "execution_count": null,
      "outputs": [
        {
          "output_type": "stream",
          "name": "stdout",
          "text": [
            "[1.56287158 0.         0.         0.         0.        ]\n",
            "[1.56287158 0.         0.         0.         0.        ]\n",
            "[1.56287158 0.         0.         0.         3.03596272]\n",
            "[1.56287158 0.         0.         0.         3.03596272]\n",
            "Recommendations for user 4: [1.56287158 0.         0.         0.         3.03596272] with matrix [0 4 0 3 0]\n"
          ]
        }
      ]
    },
    {
      "cell_type": "code",
      "source": [
        "np.nonzero(recommendations)"
      ],
      "metadata": {
        "id": "WHAmm4GTU99j",
        "colab": {
          "base_uri": "https://localhost:8080/"
        },
        "outputId": "dd99c999-64fe-4bbc-d17c-8e3c12eec712"
      },
      "execution_count": null,
      "outputs": [
        {
          "output_type": "execute_result",
          "data": {
            "text/plain": [
              "(array([0, 4]),)"
            ]
          },
          "metadata": {},
          "execution_count": 95
        }
      ]
    },
    {
      "cell_type": "code",
      "source": [
        "np.take(recommendations, np.nonzero(recommendations), axis=0)"
      ],
      "metadata": {
        "colab": {
          "base_uri": "https://localhost:8080/"
        },
        "id": "5fYv3anBola6",
        "outputId": "16b87ca2-a845-4a6f-9d4a-4aa9eb772768"
      },
      "execution_count": null,
      "outputs": [
        {
          "output_type": "execute_result",
          "data": {
            "text/plain": [
              "array([[1.56287158, 3.03596272]])"
            ]
          },
          "metadata": {},
          "execution_count": 96
        }
      ]
    },
    {
      "cell_type": "code",
      "source": [
        "import numpy as np\n",
        "arr1 = np.nonzero(recommendations)\n",
        "arr2 = np.take(recommendations, np.nonzero(recommendations), axis=0)"
      ],
      "metadata": {
        "id": "1TViCM2IrSVH"
      },
      "execution_count": null,
      "outputs": []
    },
    {
      "cell_type": "code",
      "source": [
        "arr1inds = np.take(recommendations, np.nonzero(recommendations), axis=0).argsort()\n",
        "sorted_arr1 = arr1[arr1inds[::-1]]\n",
        "sorted_arr2 = arr2[arr1inds[::-1]]"
      ],
      "metadata": {
        "colab": {
          "base_uri": "https://localhost:8080/",
          "height": 205
        },
        "id": "qrAZiHDgudnQ",
        "outputId": "02eb4f40-5f34-404d-9f91-71b778d8ead7"
      },
      "execution_count": null,
      "outputs": [
        {
          "output_type": "error",
          "ename": "TypeError",
          "evalue": "ignored",
          "traceback": [
            "\u001b[0;31m---------------------------------------------------------------------------\u001b[0m",
            "\u001b[0;31mTypeError\u001b[0m                                 Traceback (most recent call last)",
            "\u001b[0;32m<ipython-input-101-0f7e3b72e26b>\u001b[0m in \u001b[0;36m<cell line: 2>\u001b[0;34m()\u001b[0m\n\u001b[1;32m      1\u001b[0m \u001b[0marr1inds\u001b[0m \u001b[0;34m=\u001b[0m \u001b[0mnp\u001b[0m\u001b[0;34m.\u001b[0m\u001b[0mtake\u001b[0m\u001b[0;34m(\u001b[0m\u001b[0mrecommendations\u001b[0m\u001b[0;34m,\u001b[0m \u001b[0mnp\u001b[0m\u001b[0;34m.\u001b[0m\u001b[0mnonzero\u001b[0m\u001b[0;34m(\u001b[0m\u001b[0mrecommendations\u001b[0m\u001b[0;34m)\u001b[0m\u001b[0;34m,\u001b[0m \u001b[0maxis\u001b[0m\u001b[0;34m=\u001b[0m\u001b[0;36m0\u001b[0m\u001b[0;34m)\u001b[0m\u001b[0;34m.\u001b[0m\u001b[0margsort\u001b[0m\u001b[0;34m(\u001b[0m\u001b[0;34m)\u001b[0m\u001b[0;34m\u001b[0m\u001b[0;34m\u001b[0m\u001b[0m\n\u001b[0;32m----> 2\u001b[0;31m \u001b[0msorted_arr1\u001b[0m \u001b[0;34m=\u001b[0m \u001b[0marr1\u001b[0m\u001b[0;34m[\u001b[0m\u001b[0marr1inds\u001b[0m\u001b[0;34m[\u001b[0m\u001b[0;34m:\u001b[0m\u001b[0;34m:\u001b[0m\u001b[0;34m-\u001b[0m\u001b[0;36m1\u001b[0m\u001b[0;34m]\u001b[0m\u001b[0;34m]\u001b[0m\u001b[0;34m\u001b[0m\u001b[0;34m\u001b[0m\u001b[0m\n\u001b[0m\u001b[1;32m      3\u001b[0m \u001b[0msorted_arr2\u001b[0m \u001b[0;34m=\u001b[0m \u001b[0marr2\u001b[0m\u001b[0;34m[\u001b[0m\u001b[0marr1inds\u001b[0m\u001b[0;34m[\u001b[0m\u001b[0;34m:\u001b[0m\u001b[0;34m:\u001b[0m\u001b[0;34m-\u001b[0m\u001b[0;36m1\u001b[0m\u001b[0;34m]\u001b[0m\u001b[0;34m]\u001b[0m\u001b[0;34m\u001b[0m\u001b[0;34m\u001b[0m\u001b[0m\n",
            "\u001b[0;31mTypeError\u001b[0m: only integer scalar arrays can be converted to a scalar index"
          ]
        }
      ]
    },
    {
      "cell_type": "code",
      "source": [
        "sorted_arr1"
      ],
      "metadata": {
        "colab": {
          "base_uri": "https://localhost:8080/"
        },
        "id": "_JhCg-3Fufef",
        "outputId": "2ae553ed-4100-4786-f5fa-467ada8987ad"
      },
      "execution_count": null,
      "outputs": [
        {
          "output_type": "execute_result",
          "data": {
            "text/plain": [
              "array([ 3.97583144e+00,  3.48842058e+00,  3.01221175e+00,  2.61093858e+00,\n",
              "        2.43753764e+00,  2.40396995e+00,  2.32398323e+00,  2.19034315e+00,\n",
              "        2.18064940e+00,  2.16479278e+00,  2.10215695e+00,  2.09097581e+00,\n",
              "        2.03091065e+00,  2.01582145e+00,  1.97145254e+00,  1.96448400e+00,\n",
              "        1.88353211e+00,  1.87470075e+00,  1.84159690e+00,  1.79092806e+00,\n",
              "        1.78035461e+00,  1.74380435e+00,  1.70244858e+00,  1.67513932e+00,\n",
              "        1.66148327e+00,  1.64881577e+00,  1.62005823e+00,  1.55425777e+00,\n",
              "        1.53557978e+00,  1.53043486e+00,  1.47431449e+00,  1.39267760e+00,\n",
              "        1.27604491e+00,  1.27439093e+00,  1.23881365e+00,  1.21070937e+00,\n",
              "        1.15896704e+00,  1.14355372e+00,  1.03596263e+00,  9.70231796e-01,\n",
              "        9.46891209e-01,  9.27501260e-01,  9.10105989e-01,  8.60661074e-01,\n",
              "        8.10277034e-01,  7.81987365e-01,  7.72246716e-01,  6.92631153e-01,\n",
              "        6.30862217e-01,  6.13289002e-01,  6.11394201e-01,  6.08175330e-01,\n",
              "        5.37225852e-01,  4.99632627e-01,  4.73296829e-01,  4.34579994e-01,\n",
              "        4.23521071e-01,  4.01100521e-01,  3.06116931e-01,  2.98009892e-01,\n",
              "        2.91924504e-01,  2.42960335e-01,  1.63043406e-01,  1.33698983e-01,\n",
              "        7.44309184e-02,  3.18146030e-03, -1.19507108e-02, -1.96642775e-01,\n",
              "       -2.03495602e-01, -2.13601814e-01, -2.19781262e-01, -2.92548589e-01,\n",
              "       -3.15247810e-01, -3.37072333e-01, -5.12869444e-01, -6.89982448e-01,\n",
              "       -7.92673736e-01, -7.96050552e-01, -1.14352127e+00, -1.15565228e+00])"
            ]
          },
          "metadata": {},
          "execution_count": 99
        }
      ]
    },
    {
      "cell_type": "code",
      "source": [
        "from kafka import KafkaAdminClient, KafkaProducer\n",
        "from kafka.admin import NewTopic\n",
        "\n",
        "# Kafka broker details\n",
        "bootstrap_servers = 'localhost:9092'\n",
        "\n",
        "# Topic details\n",
        "topic_name = 'my_topic'\n",
        "num_partitions = 1\n",
        "replication_factor = 1\n",
        "\n",
        "# Create Kafka topic\n",
        "admin_client = KafkaAdminClient(bootstrap_servers=bootstrap_servers)\n",
        "topic = NewTopic(name=topic_name, num_partitions=num_partitions, replication_factor=replication_factor)\n",
        "admin_client.create_topics([topic])\n",
        "\n",
        "# Produce messages to Kafka topic\n",
        "producer = KafkaProducer(bootstrap_servers=bootstrap_servers)\n",
        "messages = ['Hello', 'World', 'Kafka', 'Python']\n",
        "\n",
        "for message in messages:\n",
        "    producer.send(topic_name, value=message.encode('utf-8'))\n",
        "\n",
        "# Close Kafka producer\n",
        "producer.flush()\n",
        "producer.close()"
      ],
      "metadata": {
        "id": "iDqlqcXquh9o"
      },
      "execution_count": 15,
      "outputs": []
    },
    {
      "cell_type": "code",
      "source": [
        "from kafka import KafkaConsumer\n",
        "\n",
        "# Kafka broker details\n",
        "bootstrap_servers = 'localhost:9092'\n",
        "\n",
        "# Topic details\n",
        "topic_name = 'my_topic'\n",
        "\n",
        "# Kafka consumer configuration\n",
        "consumer = KafkaConsumer(\n",
        "    topic_name,\n",
        "    bootstrap_servers=bootstrap_servers,\n",
        "    group_id='my_consumer_group2',\n",
        "    auto_offset_reset='earliest',\n",
        "    #enable_auto_commit=True,\n",
        "    value_deserializer=lambda x: x.decode('utf-8')\n",
        ")\n",
        "\n",
        "# Consume and process messages from Kafka topic\n",
        "for message in consumer:\n",
        "    print(\"Received message:\", message.value)\n",
        "\n",
        "# Close Kafka consumer\n",
        "consumer.close()\n"
      ],
      "metadata": {
        "id": "tLiVNwbjz72I",
        "colab": {
          "base_uri": "https://localhost:8080/",
          "height": 447
        },
        "outputId": "2f9a45b3-2138-4f80-9de2-4c80c3c594a1"
      },
      "execution_count": 17,
      "outputs": [
        {
          "output_type": "stream",
          "name": "stderr",
          "text": [
            "WARNING:kafka.coordinator:Heartbeat failed for group my_consumer_group2 because it is rebalancing\n",
            "WARNING:kafka.coordinator:Heartbeat failed for group my_consumer_group2 because it is rebalancing\n"
          ]
        },
        {
          "output_type": "error",
          "ename": "KeyboardInterrupt",
          "evalue": "ignored",
          "traceback": [
            "\u001b[0;31m---------------------------------------------------------------------------\u001b[0m",
            "\u001b[0;31mKeyboardInterrupt\u001b[0m                         Traceback (most recent call last)",
            "\u001b[0;32m<ipython-input-17-67c3b23b38e0>\u001b[0m in \u001b[0;36m<cell line: 20>\u001b[0;34m()\u001b[0m\n\u001b[1;32m     18\u001b[0m \u001b[0;34m\u001b[0m\u001b[0m\n\u001b[1;32m     19\u001b[0m \u001b[0;31m# Consume and process messages from Kafka topic\u001b[0m\u001b[0;34m\u001b[0m\u001b[0;34m\u001b[0m\u001b[0m\n\u001b[0;32m---> 20\u001b[0;31m \u001b[0;32mfor\u001b[0m \u001b[0mmessage\u001b[0m \u001b[0;32min\u001b[0m \u001b[0mconsumer\u001b[0m\u001b[0;34m:\u001b[0m\u001b[0;34m\u001b[0m\u001b[0;34m\u001b[0m\u001b[0m\n\u001b[0m\u001b[1;32m     21\u001b[0m     \u001b[0mprint\u001b[0m\u001b[0;34m(\u001b[0m\u001b[0;34m\"Received message:\"\u001b[0m\u001b[0;34m,\u001b[0m \u001b[0mmessage\u001b[0m\u001b[0;34m.\u001b[0m\u001b[0mvalue\u001b[0m\u001b[0;34m)\u001b[0m\u001b[0;34m\u001b[0m\u001b[0;34m\u001b[0m\u001b[0m\n\u001b[1;32m     22\u001b[0m \u001b[0;34m\u001b[0m\u001b[0m\n",
            "\u001b[0;32m/usr/local/lib/python3.10/dist-packages/kafka/consumer/group.py\u001b[0m in \u001b[0;36m__next__\u001b[0;34m(self)\u001b[0m\n\u001b[1;32m   1191\u001b[0m             \u001b[0;32mreturn\u001b[0m \u001b[0mself\u001b[0m\u001b[0;34m.\u001b[0m\u001b[0mnext_v1\u001b[0m\u001b[0;34m(\u001b[0m\u001b[0;34m)\u001b[0m\u001b[0;34m\u001b[0m\u001b[0;34m\u001b[0m\u001b[0m\n\u001b[1;32m   1192\u001b[0m         \u001b[0;32melse\u001b[0m\u001b[0;34m:\u001b[0m\u001b[0;34m\u001b[0m\u001b[0;34m\u001b[0m\u001b[0m\n\u001b[0;32m-> 1193\u001b[0;31m             \u001b[0;32mreturn\u001b[0m \u001b[0mself\u001b[0m\u001b[0;34m.\u001b[0m\u001b[0mnext_v2\u001b[0m\u001b[0;34m(\u001b[0m\u001b[0;34m)\u001b[0m\u001b[0;34m\u001b[0m\u001b[0;34m\u001b[0m\u001b[0m\n\u001b[0m\u001b[1;32m   1194\u001b[0m \u001b[0;34m\u001b[0m\u001b[0m\n\u001b[1;32m   1195\u001b[0m     \u001b[0;32mdef\u001b[0m \u001b[0mnext_v2\u001b[0m\u001b[0;34m(\u001b[0m\u001b[0mself\u001b[0m\u001b[0;34m)\u001b[0m\u001b[0;34m:\u001b[0m\u001b[0;34m\u001b[0m\u001b[0;34m\u001b[0m\u001b[0m\n",
            "\u001b[0;32m/usr/local/lib/python3.10/dist-packages/kafka/consumer/group.py\u001b[0m in \u001b[0;36mnext_v2\u001b[0;34m(self)\u001b[0m\n\u001b[1;32m   1199\u001b[0m                 \u001b[0mself\u001b[0m\u001b[0;34m.\u001b[0m\u001b[0m_iterator\u001b[0m \u001b[0;34m=\u001b[0m \u001b[0mself\u001b[0m\u001b[0;34m.\u001b[0m\u001b[0m_message_generator_v2\u001b[0m\u001b[0;34m(\u001b[0m\u001b[0;34m)\u001b[0m\u001b[0;34m\u001b[0m\u001b[0;34m\u001b[0m\u001b[0m\n\u001b[1;32m   1200\u001b[0m             \u001b[0;32mtry\u001b[0m\u001b[0;34m:\u001b[0m\u001b[0;34m\u001b[0m\u001b[0;34m\u001b[0m\u001b[0m\n\u001b[0;32m-> 1201\u001b[0;31m                 \u001b[0;32mreturn\u001b[0m \u001b[0mnext\u001b[0m\u001b[0;34m(\u001b[0m\u001b[0mself\u001b[0m\u001b[0;34m.\u001b[0m\u001b[0m_iterator\u001b[0m\u001b[0;34m)\u001b[0m\u001b[0;34m\u001b[0m\u001b[0;34m\u001b[0m\u001b[0m\n\u001b[0m\u001b[1;32m   1202\u001b[0m             \u001b[0;32mexcept\u001b[0m \u001b[0mStopIteration\u001b[0m\u001b[0;34m:\u001b[0m\u001b[0;34m\u001b[0m\u001b[0;34m\u001b[0m\u001b[0m\n\u001b[1;32m   1203\u001b[0m                 \u001b[0mself\u001b[0m\u001b[0;34m.\u001b[0m\u001b[0m_iterator\u001b[0m \u001b[0;34m=\u001b[0m \u001b[0;32mNone\u001b[0m\u001b[0;34m\u001b[0m\u001b[0;34m\u001b[0m\u001b[0m\n",
            "\u001b[0;32m/usr/local/lib/python3.10/dist-packages/kafka/consumer/group.py\u001b[0m in \u001b[0;36m_message_generator_v2\u001b[0;34m(self)\u001b[0m\n\u001b[1;32m   1114\u001b[0m     \u001b[0;32mdef\u001b[0m \u001b[0m_message_generator_v2\u001b[0m\u001b[0;34m(\u001b[0m\u001b[0mself\u001b[0m\u001b[0;34m)\u001b[0m\u001b[0;34m:\u001b[0m\u001b[0;34m\u001b[0m\u001b[0;34m\u001b[0m\u001b[0m\n\u001b[1;32m   1115\u001b[0m         \u001b[0mtimeout_ms\u001b[0m \u001b[0;34m=\u001b[0m \u001b[0;36m1000\u001b[0m \u001b[0;34m*\u001b[0m \u001b[0;34m(\u001b[0m\u001b[0mself\u001b[0m\u001b[0;34m.\u001b[0m\u001b[0m_consumer_timeout\u001b[0m \u001b[0;34m-\u001b[0m \u001b[0mtime\u001b[0m\u001b[0;34m.\u001b[0m\u001b[0mtime\u001b[0m\u001b[0;34m(\u001b[0m\u001b[0;34m)\u001b[0m\u001b[0;34m)\u001b[0m\u001b[0;34m\u001b[0m\u001b[0;34m\u001b[0m\u001b[0m\n\u001b[0;32m-> 1116\u001b[0;31m         \u001b[0mrecord_map\u001b[0m \u001b[0;34m=\u001b[0m \u001b[0mself\u001b[0m\u001b[0;34m.\u001b[0m\u001b[0mpoll\u001b[0m\u001b[0;34m(\u001b[0m\u001b[0mtimeout_ms\u001b[0m\u001b[0;34m=\u001b[0m\u001b[0mtimeout_ms\u001b[0m\u001b[0;34m,\u001b[0m \u001b[0mupdate_offsets\u001b[0m\u001b[0;34m=\u001b[0m\u001b[0;32mFalse\u001b[0m\u001b[0;34m)\u001b[0m\u001b[0;34m\u001b[0m\u001b[0;34m\u001b[0m\u001b[0m\n\u001b[0m\u001b[1;32m   1117\u001b[0m         \u001b[0;32mfor\u001b[0m \u001b[0mtp\u001b[0m\u001b[0;34m,\u001b[0m \u001b[0mrecords\u001b[0m \u001b[0;32min\u001b[0m \u001b[0msix\u001b[0m\u001b[0;34m.\u001b[0m\u001b[0miteritems\u001b[0m\u001b[0;34m(\u001b[0m\u001b[0mrecord_map\u001b[0m\u001b[0;34m)\u001b[0m\u001b[0;34m:\u001b[0m\u001b[0;34m\u001b[0m\u001b[0;34m\u001b[0m\u001b[0m\n\u001b[1;32m   1118\u001b[0m             \u001b[0;31m# Generators are stateful, and it is possible that the tp / records\u001b[0m\u001b[0;34m\u001b[0m\u001b[0;34m\u001b[0m\u001b[0m\n",
            "\u001b[0;32m/usr/local/lib/python3.10/dist-packages/kafka/consumer/group.py\u001b[0m in \u001b[0;36mpoll\u001b[0;34m(self, timeout_ms, max_records, update_offsets)\u001b[0m\n\u001b[1;32m    653\u001b[0m         \u001b[0mremaining\u001b[0m \u001b[0;34m=\u001b[0m \u001b[0mtimeout_ms\u001b[0m\u001b[0;34m\u001b[0m\u001b[0;34m\u001b[0m\u001b[0m\n\u001b[1;32m    654\u001b[0m         \u001b[0;32mwhile\u001b[0m \u001b[0;32mTrue\u001b[0m\u001b[0;34m:\u001b[0m\u001b[0;34m\u001b[0m\u001b[0;34m\u001b[0m\u001b[0m\n\u001b[0;32m--> 655\u001b[0;31m             \u001b[0mrecords\u001b[0m \u001b[0;34m=\u001b[0m \u001b[0mself\u001b[0m\u001b[0;34m.\u001b[0m\u001b[0m_poll_once\u001b[0m\u001b[0;34m(\u001b[0m\u001b[0mremaining\u001b[0m\u001b[0;34m,\u001b[0m \u001b[0mmax_records\u001b[0m\u001b[0;34m,\u001b[0m \u001b[0mupdate_offsets\u001b[0m\u001b[0;34m=\u001b[0m\u001b[0mupdate_offsets\u001b[0m\u001b[0;34m)\u001b[0m\u001b[0;34m\u001b[0m\u001b[0;34m\u001b[0m\u001b[0m\n\u001b[0m\u001b[1;32m    656\u001b[0m             \u001b[0;32mif\u001b[0m \u001b[0mrecords\u001b[0m\u001b[0;34m:\u001b[0m\u001b[0;34m\u001b[0m\u001b[0;34m\u001b[0m\u001b[0m\n\u001b[1;32m    657\u001b[0m                 \u001b[0;32mreturn\u001b[0m \u001b[0mrecords\u001b[0m\u001b[0;34m\u001b[0m\u001b[0;34m\u001b[0m\u001b[0m\n",
            "\u001b[0;32m/usr/local/lib/python3.10/dist-packages/kafka/consumer/group.py\u001b[0m in \u001b[0;36m_poll_once\u001b[0;34m(self, timeout_ms, max_records, update_offsets)\u001b[0m\n\u001b[1;32m    673\u001b[0m             \u001b[0mdict\u001b[0m\u001b[0;34m:\u001b[0m \u001b[0mMap\u001b[0m \u001b[0mof\u001b[0m \u001b[0mtopic\u001b[0m \u001b[0mto\u001b[0m \u001b[0mlist\u001b[0m \u001b[0mof\u001b[0m \u001b[0mrecords\u001b[0m \u001b[0;34m(\u001b[0m\u001b[0mmay\u001b[0m \u001b[0mbe\u001b[0m \u001b[0mempty\u001b[0m\u001b[0;34m)\u001b[0m\u001b[0;34m.\u001b[0m\u001b[0;34m\u001b[0m\u001b[0;34m\u001b[0m\u001b[0m\n\u001b[1;32m    674\u001b[0m         \"\"\"\n\u001b[0;32m--> 675\u001b[0;31m         \u001b[0mself\u001b[0m\u001b[0;34m.\u001b[0m\u001b[0m_coordinator\u001b[0m\u001b[0;34m.\u001b[0m\u001b[0mpoll\u001b[0m\u001b[0;34m(\u001b[0m\u001b[0;34m)\u001b[0m\u001b[0;34m\u001b[0m\u001b[0;34m\u001b[0m\u001b[0m\n\u001b[0m\u001b[1;32m    676\u001b[0m \u001b[0;34m\u001b[0m\u001b[0m\n\u001b[1;32m    677\u001b[0m         \u001b[0;31m# Fetch positions if we have partitions we're subscribed to that we\u001b[0m\u001b[0;34m\u001b[0m\u001b[0;34m\u001b[0m\u001b[0m\n",
            "\u001b[0;32m/usr/local/lib/python3.10/dist-packages/kafka/coordinator/consumer.py\u001b[0m in \u001b[0;36mpoll\u001b[0;34m(self)\u001b[0m\n\u001b[1;32m    287\u001b[0m                     \u001b[0mself\u001b[0m\u001b[0;34m.\u001b[0m\u001b[0m_client\u001b[0m\u001b[0;34m.\u001b[0m\u001b[0mpoll\u001b[0m\u001b[0;34m(\u001b[0m\u001b[0mfuture\u001b[0m\u001b[0;34m=\u001b[0m\u001b[0mmetadata_update\u001b[0m\u001b[0;34m)\u001b[0m\u001b[0;34m\u001b[0m\u001b[0;34m\u001b[0m\u001b[0m\n\u001b[1;32m    288\u001b[0m \u001b[0;34m\u001b[0m\u001b[0m\n\u001b[0;32m--> 289\u001b[0;31m                 \u001b[0mself\u001b[0m\u001b[0;34m.\u001b[0m\u001b[0mensure_active_group\u001b[0m\u001b[0;34m(\u001b[0m\u001b[0;34m)\u001b[0m\u001b[0;34m\u001b[0m\u001b[0;34m\u001b[0m\u001b[0m\n\u001b[0m\u001b[1;32m    290\u001b[0m \u001b[0;34m\u001b[0m\u001b[0m\n\u001b[1;32m    291\u001b[0m             \u001b[0mself\u001b[0m\u001b[0;34m.\u001b[0m\u001b[0mpoll_heartbeat\u001b[0m\u001b[0;34m(\u001b[0m\u001b[0;34m)\u001b[0m\u001b[0;34m\u001b[0m\u001b[0;34m\u001b[0m\u001b[0m\n",
            "\u001b[0;32m/usr/local/lib/python3.10/dist-packages/kafka/coordinator/base.py\u001b[0m in \u001b[0;36mensure_active_group\u001b[0;34m(self)\u001b[0m\n\u001b[1;32m    405\u001b[0m                     \u001b[0mfuture\u001b[0m \u001b[0;34m=\u001b[0m \u001b[0mself\u001b[0m\u001b[0;34m.\u001b[0m\u001b[0mjoin_future\u001b[0m\u001b[0;34m\u001b[0m\u001b[0;34m\u001b[0m\u001b[0m\n\u001b[1;32m    406\u001b[0m \u001b[0;34m\u001b[0m\u001b[0m\n\u001b[0;32m--> 407\u001b[0;31m                 \u001b[0mself\u001b[0m\u001b[0;34m.\u001b[0m\u001b[0m_client\u001b[0m\u001b[0;34m.\u001b[0m\u001b[0mpoll\u001b[0m\u001b[0;34m(\u001b[0m\u001b[0mfuture\u001b[0m\u001b[0;34m=\u001b[0m\u001b[0mfuture\u001b[0m\u001b[0;34m)\u001b[0m\u001b[0;34m\u001b[0m\u001b[0;34m\u001b[0m\u001b[0m\n\u001b[0m\u001b[1;32m    408\u001b[0m \u001b[0;34m\u001b[0m\u001b[0m\n\u001b[1;32m    409\u001b[0m                 \u001b[0;32mif\u001b[0m \u001b[0mfuture\u001b[0m\u001b[0;34m.\u001b[0m\u001b[0msucceeded\u001b[0m\u001b[0;34m(\u001b[0m\u001b[0;34m)\u001b[0m\u001b[0;34m:\u001b[0m\u001b[0;34m\u001b[0m\u001b[0;34m\u001b[0m\u001b[0m\n",
            "\u001b[0;32m/usr/local/lib/python3.10/dist-packages/kafka/client_async.py\u001b[0m in \u001b[0;36mpoll\u001b[0;34m(self, timeout_ms, future)\u001b[0m\n\u001b[1;32m    600\u001b[0m                     \u001b[0mtimeout\u001b[0m \u001b[0;34m=\u001b[0m \u001b[0mmax\u001b[0m\u001b[0;34m(\u001b[0m\u001b[0;36m0\u001b[0m\u001b[0;34m,\u001b[0m \u001b[0mtimeout\u001b[0m\u001b[0;34m)\u001b[0m  \u001b[0;31m# avoid negative timeouts\u001b[0m\u001b[0;34m\u001b[0m\u001b[0;34m\u001b[0m\u001b[0m\n\u001b[1;32m    601\u001b[0m \u001b[0;34m\u001b[0m\u001b[0m\n\u001b[0;32m--> 602\u001b[0;31m                 \u001b[0mself\u001b[0m\u001b[0;34m.\u001b[0m\u001b[0m_poll\u001b[0m\u001b[0;34m(\u001b[0m\u001b[0mtimeout\u001b[0m \u001b[0;34m/\u001b[0m \u001b[0;36m1000\u001b[0m\u001b[0;34m)\u001b[0m\u001b[0;34m\u001b[0m\u001b[0;34m\u001b[0m\u001b[0m\n\u001b[0m\u001b[1;32m    603\u001b[0m \u001b[0;34m\u001b[0m\u001b[0m\n\u001b[1;32m    604\u001b[0m             \u001b[0;31m# called without the lock to avoid deadlock potential\u001b[0m\u001b[0;34m\u001b[0m\u001b[0;34m\u001b[0m\u001b[0m\n",
            "\u001b[0;32m/usr/local/lib/python3.10/dist-packages/kafka/client_async.py\u001b[0m in \u001b[0;36m_poll\u001b[0;34m(self, timeout)\u001b[0m\n\u001b[1;32m    632\u001b[0m \u001b[0;34m\u001b[0m\u001b[0m\n\u001b[1;32m    633\u001b[0m         \u001b[0mstart_select\u001b[0m \u001b[0;34m=\u001b[0m \u001b[0mtime\u001b[0m\u001b[0;34m.\u001b[0m\u001b[0mtime\u001b[0m\u001b[0;34m(\u001b[0m\u001b[0;34m)\u001b[0m\u001b[0;34m\u001b[0m\u001b[0;34m\u001b[0m\u001b[0m\n\u001b[0;32m--> 634\u001b[0;31m         \u001b[0mready\u001b[0m \u001b[0;34m=\u001b[0m \u001b[0mself\u001b[0m\u001b[0;34m.\u001b[0m\u001b[0m_selector\u001b[0m\u001b[0;34m.\u001b[0m\u001b[0mselect\u001b[0m\u001b[0;34m(\u001b[0m\u001b[0mtimeout\u001b[0m\u001b[0;34m)\u001b[0m\u001b[0;34m\u001b[0m\u001b[0;34m\u001b[0m\u001b[0m\n\u001b[0m\u001b[1;32m    635\u001b[0m         \u001b[0mend_select\u001b[0m \u001b[0;34m=\u001b[0m \u001b[0mtime\u001b[0m\u001b[0;34m.\u001b[0m\u001b[0mtime\u001b[0m\u001b[0;34m(\u001b[0m\u001b[0;34m)\u001b[0m\u001b[0;34m\u001b[0m\u001b[0;34m\u001b[0m\u001b[0m\n\u001b[1;32m    636\u001b[0m         \u001b[0;32mif\u001b[0m \u001b[0mself\u001b[0m\u001b[0;34m.\u001b[0m\u001b[0m_sensors\u001b[0m\u001b[0;34m:\u001b[0m\u001b[0;34m\u001b[0m\u001b[0;34m\u001b[0m\u001b[0m\n",
            "\u001b[0;32m/usr/lib/python3.10/selectors.py\u001b[0m in \u001b[0;36mselect\u001b[0;34m(self, timeout)\u001b[0m\n\u001b[1;32m    467\u001b[0m             \u001b[0mready\u001b[0m \u001b[0;34m=\u001b[0m \u001b[0;34m[\u001b[0m\u001b[0;34m]\u001b[0m\u001b[0;34m\u001b[0m\u001b[0;34m\u001b[0m\u001b[0m\n\u001b[1;32m    468\u001b[0m             \u001b[0;32mtry\u001b[0m\u001b[0;34m:\u001b[0m\u001b[0;34m\u001b[0m\u001b[0;34m\u001b[0m\u001b[0m\n\u001b[0;32m--> 469\u001b[0;31m                 \u001b[0mfd_event_list\u001b[0m \u001b[0;34m=\u001b[0m \u001b[0mself\u001b[0m\u001b[0;34m.\u001b[0m\u001b[0m_selector\u001b[0m\u001b[0;34m.\u001b[0m\u001b[0mpoll\u001b[0m\u001b[0;34m(\u001b[0m\u001b[0mtimeout\u001b[0m\u001b[0;34m,\u001b[0m \u001b[0mmax_ev\u001b[0m\u001b[0;34m)\u001b[0m\u001b[0;34m\u001b[0m\u001b[0;34m\u001b[0m\u001b[0m\n\u001b[0m\u001b[1;32m    470\u001b[0m             \u001b[0;32mexcept\u001b[0m \u001b[0mInterruptedError\u001b[0m\u001b[0;34m:\u001b[0m\u001b[0;34m\u001b[0m\u001b[0;34m\u001b[0m\u001b[0m\n\u001b[1;32m    471\u001b[0m                 \u001b[0;32mreturn\u001b[0m \u001b[0mready\u001b[0m\u001b[0;34m\u001b[0m\u001b[0;34m\u001b[0m\u001b[0m\n",
            "\u001b[0;31mKeyboardInterrupt\u001b[0m: "
          ]
        }
      ]
    },
    {
      "cell_type": "code",
      "source": [],
      "metadata": {
        "id": "yx3MecqE0NSw"
      },
      "execution_count": null,
      "outputs": []
    }
  ],
  "metadata": {
    "colab": {
      "provenance": [],
      "machine_shape": "hm",
      "toc_visible": true,
      "include_colab_link": true
    },
    "kernelspec": {
      "display_name": "Python 3",
      "name": "python3"
    }
  },
  "nbformat": 4,
  "nbformat_minor": 0
}