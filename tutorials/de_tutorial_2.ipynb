{
  "nbformat": 4,
  "nbformat_minor": 0,
  "metadata": {
    "colab": {
      "provenance": [],
      "toc_visible": true,
      "authorship_tag": "ABX9TyP4Vki0VrbTpKEMkkjHmcM5",
      "include_colab_link": true
    },
    "kernelspec": {
      "name": "python3",
      "display_name": "Python 3"
    },
    "language_info": {
      "name": "python"
    }
  },
  "cells": [
    {
      "cell_type": "markdown",
      "metadata": {
        "id": "view-in-github",
        "colab_type": "text"
      },
      "source": [
        "<a href=\"https://colab.research.google.com/github/matthewpecsok/data_engineering/blob/main/tutorials/de_tutorial_2.ipynb\" target=\"_parent\"><img src=\"https://colab.research.google.com/assets/colab-badge.svg\" alt=\"Open In Colab\"/></a>"
      ]
    },
    {
      "cell_type": "markdown",
      "source": [
        "# Data Extraction from a OLTP Source System\n",
        "\n",
        "In this tutorial we'll begin exploring the concept of querying a OLTP database, not for analytics, but rather to start extracting data for downstream data engineering applications."
      ],
      "metadata": {
        "id": "xAiVeVSSlu0E"
      }
    },
    {
      "cell_type": "markdown",
      "source": [
        "**Data Engineering**\n",
        "\n",
        "**Matthew Pecsok 2/10/2023**\n",
        "\n",
        "\n"
      ],
      "metadata": {
        "id": "CKCSeniFldev"
      }
    },
    {
      "cell_type": "markdown",
      "source": [
        "# 1.&nbsp;A quick overview of lists and tuples\n"
      ],
      "metadata": {
        "id": "bGx_0RHcXUaM"
      }
    },
    {
      "cell_type": "markdown",
      "source": [
        "## Lists\n",
        "\n",
        "A list is object that can store multiple items, is changeable, and allows duplicate values. Define a list using [] around all the elements to be included in the list.\n",
        "\n",
        "A list can begin empty and items can be added to it."
      ],
      "metadata": {
        "id": "Z4FqvfyqBX2F"
      }
    },
    {
      "cell_type": "code",
      "source": [
        "import sys"
      ],
      "metadata": {
        "id": "gcLIrRMFmd8Y"
      },
      "execution_count": 66,
      "outputs": []
    },
    {
      "cell_type": "code",
      "source": [
        "my_list = [] #create an empty list\n",
        "my_list"
      ],
      "metadata": {
        "id": "uN5f7xlrXtBP",
        "colab": {
          "base_uri": "https://localhost:8080/"
        },
        "outputId": "10136319-db53-4ff0-bbbc-01563c683f4e"
      },
      "execution_count": 76,
      "outputs": [
        {
          "output_type": "execute_result",
          "data": {
            "text/plain": [
              "[]"
            ]
          },
          "metadata": {},
          "execution_count": 76
        }
      ]
    },
    {
      "cell_type": "code",
      "source": [
        "type(my_list)"
      ],
      "metadata": {
        "id": "0fF2zw-Ac6Qe",
        "outputId": "b516208f-1930-4005-e1aa-4817eab3a500",
        "colab": {
          "base_uri": "https://localhost:8080/"
        }
      },
      "execution_count": 94,
      "outputs": [
        {
          "output_type": "execute_result",
          "data": {
            "text/plain": [
              "list"
            ]
          },
          "metadata": {},
          "execution_count": 94
        }
      ]
    },
    {
      "cell_type": "code",
      "source": [
        "my_list.append('movie_1') # append a single item to the list\n",
        "my_list"
      ],
      "metadata": {
        "id": "ow25R0zNXkDt",
        "colab": {
          "base_uri": "https://localhost:8080/"
        },
        "outputId": "9b5f22ca-828f-4d0a-c1a7-08cee4599cc5"
      },
      "execution_count": 80,
      "outputs": [
        {
          "output_type": "execute_result",
          "data": {
            "text/plain": [
              "['movie_1', 'movie_1', 'movie_1', 'movie_1']"
            ]
          },
          "metadata": {},
          "execution_count": 80
        }
      ]
    },
    {
      "cell_type": "code",
      "source": [
        "my_list.extend(['movie_2','movie_3']) # concatenate two lists together creating a single list as a result\n",
        "my_list"
      ],
      "metadata": {
        "id": "sGK4V0IxXXaS",
        "colab": {
          "base_uri": "https://localhost:8080/"
        },
        "outputId": "abb2a682-1800-4ae8-ac68-c3a6daae76c0"
      },
      "execution_count": 86,
      "outputs": [
        {
          "output_type": "execute_result",
          "data": {
            "text/plain": [
              "['movie_1',\n",
              " 'movie_1',\n",
              " 'movie_1',\n",
              " 'movie_1',\n",
              " 'movie_2',\n",
              " 'movie_3',\n",
              " 'movie_2',\n",
              " 'movie_3',\n",
              " 'movie_2',\n",
              " 'movie_3',\n",
              " 'movie_2',\n",
              " 'movie_3',\n",
              " 'movie_2',\n",
              " 'movie_3']"
            ]
          },
          "metadata": {},
          "execution_count": 86
        }
      ]
    },
    {
      "cell_type": "code",
      "source": [
        "len(my_list) # how long is out new list?"
      ],
      "metadata": {
        "id": "11LbeMHyYkhw",
        "colab": {
          "base_uri": "https://localhost:8080/"
        },
        "outputId": "c56854e4-03cb-48f5-9663-3fb7ac80a84e"
      },
      "execution_count": 87,
      "outputs": [
        {
          "output_type": "execute_result",
          "data": {
            "text/plain": [
              "14"
            ]
          },
          "metadata": {},
          "execution_count": 87
        }
      ]
    },
    {
      "cell_type": "code",
      "source": [
        "my_list[0] # get the zeroth (or first depending on how you count) element in the list"
      ],
      "metadata": {
        "id": "ZdSeRjf4SFes"
      },
      "execution_count": null,
      "outputs": []
    },
    {
      "cell_type": "markdown",
      "source": [
        "### YOUDO\n",
        "\n",
        "Create a list with apples, apples, oranges and pears. Apples should appear twice. Lists allow duplicate values. Call the list variable \"fruit\"."
      ],
      "metadata": {
        "id": "P8qIfIix_xWM"
      }
    },
    {
      "cell_type": "code",
      "source": [],
      "metadata": {
        "id": "9x6t7O9Z_7zg"
      },
      "execution_count": null,
      "outputs": []
    },
    {
      "cell_type": "markdown",
      "source": [
        "## Tuple\n",
        "\n",
        "What if we want to store immutable data? We can use a **tuple**. A tuple is similar to a list except it is unchangeable. Notice the parenthesis instead of brackets.\n",
        "\n",
        "We can store multiple data types in a list. They need not all be the same type. Here we store a string as well as an integer literal value."
      ],
      "metadata": {
        "id": "7wqa2HMfYsKB"
      }
    },
    {
      "cell_type": "code",
      "source": [
        "movie_1 = ('Toy Story',1995)\n",
        "movie_1"
      ],
      "metadata": {
        "id": "A-3gK65YZJHv"
      },
      "execution_count": null,
      "outputs": []
    },
    {
      "cell_type": "code",
      "source": [
        "movie_2 = ('Monsters Inc.',2001)\n",
        "movie_2"
      ],
      "metadata": {
        "id": "ocU0hyi7ZWsT"
      },
      "execution_count": null,
      "outputs": []
    },
    {
      "cell_type": "code",
      "source": [
        "my_complex_list = []\n",
        "my_complex_list"
      ],
      "metadata": {
        "id": "H59dMJTCYreX"
      },
      "execution_count": null,
      "outputs": []
    },
    {
      "cell_type": "code",
      "source": [
        "my_complex_list.extend([movie_1,movie_2])"
      ],
      "metadata": {
        "id": "ypC0sUpdZfCb"
      },
      "execution_count": null,
      "outputs": []
    },
    {
      "cell_type": "code",
      "source": [
        "my_complex_list"
      ],
      "metadata": {
        "id": "9Mv6oMuEZj5Y"
      },
      "execution_count": null,
      "outputs": []
    },
    {
      "cell_type": "code",
      "source": [
        "my_complex_list[0] # get the zeroth (or first depending on how you count) element in the list"
      ],
      "metadata": {
        "id": "y43M5CsXZpHm"
      },
      "execution_count": null,
      "outputs": []
    },
    {
      "cell_type": "code",
      "source": [
        "my_complex_list[0][1]"
      ],
      "metadata": {
        "id": "rdrHQOwjZquh"
      },
      "execution_count": null,
      "outputs": []
    },
    {
      "cell_type": "markdown",
      "source": [
        "### YOUDO\n",
        "\n",
        "Create a tuple with a first name, last name and age."
      ],
      "metadata": {
        "id": "8VHG8BeRBGhA"
      }
    },
    {
      "cell_type": "markdown",
      "source": [
        "## For loops on lists\n",
        "\n",
        "It's quite easy to loop through a list and execute some code on that list. Here's a few examples to get your comfortable.\n",
        "\n",
        "Please note, for loops are not the most efficient way to accomplish tasks like this, but they are simple to understand. Experienced programmers might prefer list comprehensions coupled with functions.\n",
        "\n",
        "Note that the code that is enclosed in the for loop is indented. Anything not indented is outside of the for loop and will not run for every iteration.\n",
        "\n",
        "some_numbers = [1,2,3,4,5,6,7,8,9,10]\n",
        "\n",
        "for number in some_numbers:\n",
        "  print(f'the current number is {number}') <- this is inde\n",
        "\n",
        "print('we are outside the for loop and run once')"
      ],
      "metadata": {
        "id": "3t-8LxH-0ySV"
      }
    },
    {
      "cell_type": "code",
      "source": [
        "some_numbers = [1,2,3,4,5,6,7,8,9,10]\n",
        "\n",
        "for number in some_numbers:\n",
        "  print(f'the current number is {number}') # this line of code is indented\n",
        "\n",
        "print('we are outside the for loop and run once') # this line of code is NOT indented"
      ],
      "metadata": {
        "id": "iWn1_2IYBwXj"
      },
      "execution_count": null,
      "outputs": []
    },
    {
      "cell_type": "code",
      "source": [
        "for number in some_numbers:\n",
        "  print(f\"adding 10 to {number} gives the result {number + 10}\")"
      ],
      "metadata": {
        "id": "F7j_7DT8B1t_"
      },
      "execution_count": null,
      "outputs": []
    },
    {
      "cell_type": "markdown",
      "source": [
        "the variable name chosen should be descriptive of what it contains, but it is not required to do so."
      ],
      "metadata": {
        "id": "vNA22icTCFZ-"
      }
    },
    {
      "cell_type": "code",
      "source": [
        "for water in some_numbers:\n",
        "  print(f\"adding 10 to {water} gives the result {water + 10}\")"
      ],
      "metadata": {
        "id": "GALlcPNzCQvx"
      },
      "execution_count": null,
      "outputs": []
    },
    {
      "cell_type": "markdown",
      "source": [
        "### YOUDO\n",
        "\n",
        "create a list of the numbers 10,15,20. Run a for loop on this list and add 100 to each number and print the result."
      ],
      "metadata": {
        "id": "sKd6AGYzCZJD"
      }
    },
    {
      "cell_type": "code",
      "source": [],
      "metadata": {
        "id": "1NH_nVsUCtAl"
      },
      "execution_count": null,
      "outputs": []
    },
    {
      "cell_type": "code",
      "source": [
        "i = 0\n",
        "\n",
        "fruit_list = ['apples','oranges','bananas']\n",
        "\n",
        "for fruit in fruit_list:\n",
        "  print(f'the current fruit is {fruit}')\n",
        "  i += 1\n",
        "\n",
        "print(f'we looped {i} times')"
      ],
      "metadata": {
        "id": "TdnYKarZ17Jx"
      },
      "execution_count": null,
      "outputs": []
    },
    {
      "cell_type": "code",
      "source": [
        "for the_number in [1,2,3,4,5,6,42]:\n",
        "  print(f'{the_number} is even = {(the_number%2==0)}')"
      ],
      "metadata": {
        "id": "ZySG_tna0xXJ"
      },
      "execution_count": null,
      "outputs": []
    },
    {
      "cell_type": "markdown",
      "source": [
        "The takeaway here is that a for loop allows us to iterate over a list and execute code for each element in the list."
      ],
      "metadata": {
        "id": "Xva5Wh0Y3CME"
      }
    },
    {
      "cell_type": "markdown",
      "source": [
        "## Brief introduction to Conditional Statements. If statements.\n",
        "\n",
        "What if we want to only operate on certain elements of the list? We can use Python conditions to do so.\n",
        "\n",
        "The code below checks to see if the_number is has a remainder or not, if the remainder (when dividing by 2) is 0 then we conditionally print the number and say that it is even.\n",
        "\n",
        "If statements are also indented to denote what should execute if the statement evaluates to True"
      ],
      "metadata": {
        "id": "i3Q4gcaZC6N8"
      }
    },
    {
      "cell_type": "code",
      "source": [
        "if True:\n",
        "  print('Yes!')"
      ],
      "metadata": {
        "id": "3C0P11tGFZ-V"
      },
      "execution_count": null,
      "outputs": []
    },
    {
      "cell_type": "code",
      "source": [
        "if 1==1:\n",
        "  print('Yes!')"
      ],
      "metadata": {
        "id": "FfI9uGusFUtl"
      },
      "execution_count": null,
      "outputs": []
    },
    {
      "cell_type": "code",
      "source": [
        "if 1!=2:\n",
        "  print('Yes!')"
      ],
      "metadata": {
        "id": "wCKE4SGKFh3r"
      },
      "execution_count": null,
      "outputs": []
    },
    {
      "cell_type": "code",
      "source": [
        "if 2!=2:\n",
        "  print('Yes!')"
      ],
      "metadata": {
        "id": "E_5VRr1OFmKz"
      },
      "execution_count": null,
      "outputs": []
    },
    {
      "cell_type": "markdown",
      "source": [
        "### YOUDO\n",
        "\n",
        "Create an if statement that checks to see if 4 is greater than 2 and print \"It is!\" if the result is True."
      ],
      "metadata": {
        "id": "t-991eUDFpAW"
      }
    },
    {
      "cell_type": "code",
      "source": [
        "# you do"
      ],
      "metadata": {
        "id": "9ygImRfoGRKh"
      },
      "execution_count": 88,
      "outputs": []
    },
    {
      "cell_type": "markdown",
      "source": [
        "## Combining For Loops and Conditionals\n",
        "\n"
      ],
      "metadata": {
        "id": "IDL6rU0kF-of"
      }
    },
    {
      "cell_type": "code",
      "source": [
        "for the_number in [1,2,3,4,5,6,42]:\n",
        "  if (the_number%2==0):\n",
        "    print(f'{the_number} is even')\n"
      ],
      "metadata": {
        "id": "TB3_T0FGDShg",
        "outputId": "36c9d355-5f2d-41e9-f61c-81135d421f61",
        "colab": {
          "base_uri": "https://localhost:8080/"
        }
      },
      "execution_count": 89,
      "outputs": [
        {
          "output_type": "stream",
          "name": "stdout",
          "text": [
            "2 is even\n",
            "4 is even\n",
            "6 is even\n",
            "42 is even\n"
          ]
        }
      ]
    },
    {
      "cell_type": "code",
      "source": [
        "for the_number in [1,2,3,4,5,6,42]:\n",
        "  if (the_number%2!=0):\n",
        "    print(f'{the_number} is odd')"
      ],
      "metadata": {
        "id": "zuSDzk5SDsn0",
        "outputId": "cd6505b8-6788-4b6f-f78e-c5fb56e918f2",
        "colab": {
          "base_uri": "https://localhost:8080/"
        }
      },
      "execution_count": 90,
      "outputs": [
        {
          "output_type": "stream",
          "name": "stdout",
          "text": [
            "1 is odd\n",
            "3 is odd\n",
            "5 is odd\n"
          ]
        }
      ]
    },
    {
      "cell_type": "markdown",
      "source": [
        "If the number does not have a remainder of 0 when divided by 2 it must be odd."
      ],
      "metadata": {
        "id": "DOeS_mkNDu4v"
      }
    },
    {
      "cell_type": "markdown",
      "source": [
        "### YOUDO  \n",
        "\n",
        "Loop on the \"fruit_list\" variable and use an If statement to conditionally print that the element is an apple if it is truly an apple."
      ],
      "metadata": {
        "id": "RUVVJHBbD3QE"
      }
    },
    {
      "cell_type": "code",
      "source": [
        "# you do"
      ],
      "metadata": {
        "id": "WAy3oWAPD_A_"
      },
      "execution_count": 91,
      "outputs": []
    },
    {
      "cell_type": "markdown",
      "source": [
        "# 2.&nbsp;Package import and get database"
      ],
      "metadata": {
        "id": "arrHkjf8bcJw"
      }
    },
    {
      "cell_type": "code",
      "execution_count": null,
      "metadata": {
        "id": "N1yc-iVTXDvv"
      },
      "outputs": [],
      "source": [
        "import pandas as pd\n",
        "import sqlite3\n",
        "from tqdm import tqdm"
      ]
    },
    {
      "cell_type": "code",
      "source": [
        "!wget -qO movies.db https://github.com/matthewpecsok/data_engineering/blob/main/data/movies.sqlite?raw=true\n",
        "\n",
        "!pip -q install --upgrade ipython\n",
        "!pip -q install --upgrade ipython-sql\n",
        "\n",
        "con_movie_source = sqlite3.connect('movies.db')\n",
        "\n",
        "%load_ext sql\n",
        "%sql sqlite:///movies.db\n",
        "\n",
        "%config SqlMagic.autopandas = True\n",
        "%config SqlMagic.feedback = False"
      ],
      "metadata": {
        "id": "WtfwacKRXILU"
      },
      "execution_count": null,
      "outputs": []
    },
    {
      "cell_type": "code",
      "source": [
        "con_movie_source # con is our connection to the database"
      ],
      "metadata": {
        "id": "8IRd1QFKbolu"
      },
      "execution_count": null,
      "outputs": []
    },
    {
      "cell_type": "code",
      "source": [
        "cur_movie_source = con_movie_source.cursor()\n",
        "cur_movie_source # cursor"
      ],
      "metadata": {
        "id": "NuByQBYqexaa"
      },
      "execution_count": null,
      "outputs": []
    },
    {
      "cell_type": "markdown",
      "source": [
        "## Querying with Pandas\n",
        "\n",
        "A dataframe is basically like a spreadsheet that holds columns and rows of data. We can use it to hold query data retrieved from our database.\n",
        "\n",
        "We can directly query with Pandas and receive a DataFrame as the result of the query.\n",
        "\n",
        "Below we query the movies table and intentionally limit the query to two movies. The resulting dataframe has just two rows as expected.\n",
        "\n",
        "Pandas knows what database to query because we pass the connection object in as the second argument to the read_sql_query function.\n",
        "\n",
        "https://pandas.pydata.org/docs/reference/api/pandas.read_sql_query.html\n",
        "\n",
        "*pandas.read_sql_query(sql, con, index_col=None, coerce_float=True, params=None, parse_dates=None, chunksize=None, dtype=None, dtype_backend=_NoDefault.no_default)*"
      ],
      "metadata": {
        "id": "PULkDr8kxfkn"
      }
    },
    {
      "cell_type": "markdown",
      "source": [
        "## verify the source data\n",
        "\n",
        "We do some basic queries to inspect the source database table and the data in it. This is a crucial step to be sure the data is what is expected."
      ],
      "metadata": {
        "id": "om1KW1o5rRQt"
      }
    },
    {
      "cell_type": "markdown",
      "source": [
        "### inspect the first few rows"
      ],
      "metadata": {
        "id": "5KcgImNNrjhn"
      }
    },
    {
      "cell_type": "code",
      "source": [
        "two_movies = pd.read_sql_query('select * from movies limit 2',con_movie_source)\n",
        "\n",
        "two_movies"
      ],
      "metadata": {
        "id": "Bc0jLR-auqVk",
        "colab": {
          "base_uri": "https://localhost:8080/",
          "height": 164
        },
        "outputId": "200f21d1-54cd-4f17-b5ea-c8eea1235d04"
      },
      "execution_count": 92,
      "outputs": [
        {
          "output_type": "execute_result",
          "data": {
            "text/plain": [
              "      id                            original_title     budget  popularity  \\\n",
              "0  43597                                    Avatar  237000000         150   \n",
              "1  43598  Pirates of the Caribbean: At World's End  300000000         139   \n",
              "\n",
              "  release_date     revenue                                     title  \\\n",
              "0   2009-12-10  2787965087                                    Avatar   \n",
              "1   2007-05-19   961000000  Pirates of the Caribbean: At World's End   \n",
              "\n",
              "   vote_average  vote_count  \\\n",
              "0           7.2       11800   \n",
              "1           6.9        4500   \n",
              "\n",
              "                                            overview  \\\n",
              "0  In the 22nd century, a paraplegic Marine is di...   \n",
              "1  Captain Barbossa, long believed to be dead, ha...   \n",
              "\n",
              "                                          tagline    uid  director_id  \n",
              "0                     Enter the World of Pandora.  19995         4762  \n",
              "1  At the end of the world, the adventure begins.    285         4763  "
            ],
            "text/html": [
              "\n",
              "  <div id=\"df-00db309b-e038-4e8c-a5e6-bafec0bf0980\" class=\"colab-df-container\">\n",
              "    <div>\n",
              "<style scoped>\n",
              "    .dataframe tbody tr th:only-of-type {\n",
              "        vertical-align: middle;\n",
              "    }\n",
              "\n",
              "    .dataframe tbody tr th {\n",
              "        vertical-align: top;\n",
              "    }\n",
              "\n",
              "    .dataframe thead th {\n",
              "        text-align: right;\n",
              "    }\n",
              "</style>\n",
              "<table border=\"1\" class=\"dataframe\">\n",
              "  <thead>\n",
              "    <tr style=\"text-align: right;\">\n",
              "      <th></th>\n",
              "      <th>id</th>\n",
              "      <th>original_title</th>\n",
              "      <th>budget</th>\n",
              "      <th>popularity</th>\n",
              "      <th>release_date</th>\n",
              "      <th>revenue</th>\n",
              "      <th>title</th>\n",
              "      <th>vote_average</th>\n",
              "      <th>vote_count</th>\n",
              "      <th>overview</th>\n",
              "      <th>tagline</th>\n",
              "      <th>uid</th>\n",
              "      <th>director_id</th>\n",
              "    </tr>\n",
              "  </thead>\n",
              "  <tbody>\n",
              "    <tr>\n",
              "      <th>0</th>\n",
              "      <td>43597</td>\n",
              "      <td>Avatar</td>\n",
              "      <td>237000000</td>\n",
              "      <td>150</td>\n",
              "      <td>2009-12-10</td>\n",
              "      <td>2787965087</td>\n",
              "      <td>Avatar</td>\n",
              "      <td>7.2</td>\n",
              "      <td>11800</td>\n",
              "      <td>In the 22nd century, a paraplegic Marine is di...</td>\n",
              "      <td>Enter the World of Pandora.</td>\n",
              "      <td>19995</td>\n",
              "      <td>4762</td>\n",
              "    </tr>\n",
              "    <tr>\n",
              "      <th>1</th>\n",
              "      <td>43598</td>\n",
              "      <td>Pirates of the Caribbean: At World's End</td>\n",
              "      <td>300000000</td>\n",
              "      <td>139</td>\n",
              "      <td>2007-05-19</td>\n",
              "      <td>961000000</td>\n",
              "      <td>Pirates of the Caribbean: At World's End</td>\n",
              "      <td>6.9</td>\n",
              "      <td>4500</td>\n",
              "      <td>Captain Barbossa, long believed to be dead, ha...</td>\n",
              "      <td>At the end of the world, the adventure begins.</td>\n",
              "      <td>285</td>\n",
              "      <td>4763</td>\n",
              "    </tr>\n",
              "  </tbody>\n",
              "</table>\n",
              "</div>\n",
              "    <div class=\"colab-df-buttons\">\n",
              "\n",
              "  <div class=\"colab-df-container\">\n",
              "    <button class=\"colab-df-convert\" onclick=\"convertToInteractive('df-00db309b-e038-4e8c-a5e6-bafec0bf0980')\"\n",
              "            title=\"Convert this dataframe to an interactive table.\"\n",
              "            style=\"display:none;\">\n",
              "\n",
              "  <svg xmlns=\"http://www.w3.org/2000/svg\" height=\"24px\" viewBox=\"0 -960 960 960\">\n",
              "    <path d=\"M120-120v-720h720v720H120Zm60-500h600v-160H180v160Zm220 220h160v-160H400v160Zm0 220h160v-160H400v160ZM180-400h160v-160H180v160Zm440 0h160v-160H620v160ZM180-180h160v-160H180v160Zm440 0h160v-160H620v160Z\"/>\n",
              "  </svg>\n",
              "    </button>\n",
              "\n",
              "  <style>\n",
              "    .colab-df-container {\n",
              "      display:flex;\n",
              "      gap: 12px;\n",
              "    }\n",
              "\n",
              "    .colab-df-convert {\n",
              "      background-color: #E8F0FE;\n",
              "      border: none;\n",
              "      border-radius: 50%;\n",
              "      cursor: pointer;\n",
              "      display: none;\n",
              "      fill: #1967D2;\n",
              "      height: 32px;\n",
              "      padding: 0 0 0 0;\n",
              "      width: 32px;\n",
              "    }\n",
              "\n",
              "    .colab-df-convert:hover {\n",
              "      background-color: #E2EBFA;\n",
              "      box-shadow: 0px 1px 2px rgba(60, 64, 67, 0.3), 0px 1px 3px 1px rgba(60, 64, 67, 0.15);\n",
              "      fill: #174EA6;\n",
              "    }\n",
              "\n",
              "    .colab-df-buttons div {\n",
              "      margin-bottom: 4px;\n",
              "    }\n",
              "\n",
              "    [theme=dark] .colab-df-convert {\n",
              "      background-color: #3B4455;\n",
              "      fill: #D2E3FC;\n",
              "    }\n",
              "\n",
              "    [theme=dark] .colab-df-convert:hover {\n",
              "      background-color: #434B5C;\n",
              "      box-shadow: 0px 1px 3px 1px rgba(0, 0, 0, 0.15);\n",
              "      filter: drop-shadow(0px 1px 2px rgba(0, 0, 0, 0.3));\n",
              "      fill: #FFFFFF;\n",
              "    }\n",
              "  </style>\n",
              "\n",
              "    <script>\n",
              "      const buttonEl =\n",
              "        document.querySelector('#df-00db309b-e038-4e8c-a5e6-bafec0bf0980 button.colab-df-convert');\n",
              "      buttonEl.style.display =\n",
              "        google.colab.kernel.accessAllowed ? 'block' : 'none';\n",
              "\n",
              "      async function convertToInteractive(key) {\n",
              "        const element = document.querySelector('#df-00db309b-e038-4e8c-a5e6-bafec0bf0980');\n",
              "        const dataTable =\n",
              "          await google.colab.kernel.invokeFunction('convertToInteractive',\n",
              "                                                    [key], {});\n",
              "        if (!dataTable) return;\n",
              "\n",
              "        const docLinkHtml = 'Like what you see? Visit the ' +\n",
              "          '<a target=\"_blank\" href=https://colab.research.google.com/notebooks/data_table.ipynb>data table notebook</a>'\n",
              "          + ' to learn more about interactive tables.';\n",
              "        element.innerHTML = '';\n",
              "        dataTable['output_type'] = 'display_data';\n",
              "        await google.colab.output.renderOutput(dataTable, element);\n",
              "        const docLink = document.createElement('div');\n",
              "        docLink.innerHTML = docLinkHtml;\n",
              "        element.appendChild(docLink);\n",
              "      }\n",
              "    </script>\n",
              "  </div>\n",
              "\n",
              "\n",
              "<div id=\"df-935be3ef-8dd6-4234-b4f9-726f9cde08ec\">\n",
              "  <button class=\"colab-df-quickchart\" onclick=\"quickchart('df-935be3ef-8dd6-4234-b4f9-726f9cde08ec')\"\n",
              "            title=\"Suggest charts\"\n",
              "            style=\"display:none;\">\n",
              "\n",
              "<svg xmlns=\"http://www.w3.org/2000/svg\" height=\"24px\"viewBox=\"0 0 24 24\"\n",
              "     width=\"24px\">\n",
              "    <g>\n",
              "        <path d=\"M19 3H5c-1.1 0-2 .9-2 2v14c0 1.1.9 2 2 2h14c1.1 0 2-.9 2-2V5c0-1.1-.9-2-2-2zM9 17H7v-7h2v7zm4 0h-2V7h2v10zm4 0h-2v-4h2v4z\"/>\n",
              "    </g>\n",
              "</svg>\n",
              "  </button>\n",
              "\n",
              "<style>\n",
              "  .colab-df-quickchart {\n",
              "      --bg-color: #E8F0FE;\n",
              "      --fill-color: #1967D2;\n",
              "      --hover-bg-color: #E2EBFA;\n",
              "      --hover-fill-color: #174EA6;\n",
              "      --disabled-fill-color: #AAA;\n",
              "      --disabled-bg-color: #DDD;\n",
              "  }\n",
              "\n",
              "  [theme=dark] .colab-df-quickchart {\n",
              "      --bg-color: #3B4455;\n",
              "      --fill-color: #D2E3FC;\n",
              "      --hover-bg-color: #434B5C;\n",
              "      --hover-fill-color: #FFFFFF;\n",
              "      --disabled-bg-color: #3B4455;\n",
              "      --disabled-fill-color: #666;\n",
              "  }\n",
              "\n",
              "  .colab-df-quickchart {\n",
              "    background-color: var(--bg-color);\n",
              "    border: none;\n",
              "    border-radius: 50%;\n",
              "    cursor: pointer;\n",
              "    display: none;\n",
              "    fill: var(--fill-color);\n",
              "    height: 32px;\n",
              "    padding: 0;\n",
              "    width: 32px;\n",
              "  }\n",
              "\n",
              "  .colab-df-quickchart:hover {\n",
              "    background-color: var(--hover-bg-color);\n",
              "    box-shadow: 0 1px 2px rgba(60, 64, 67, 0.3), 0 1px 3px 1px rgba(60, 64, 67, 0.15);\n",
              "    fill: var(--button-hover-fill-color);\n",
              "  }\n",
              "\n",
              "  .colab-df-quickchart-complete:disabled,\n",
              "  .colab-df-quickchart-complete:disabled:hover {\n",
              "    background-color: var(--disabled-bg-color);\n",
              "    fill: var(--disabled-fill-color);\n",
              "    box-shadow: none;\n",
              "  }\n",
              "\n",
              "  .colab-df-spinner {\n",
              "    border: 2px solid var(--fill-color);\n",
              "    border-color: transparent;\n",
              "    border-bottom-color: var(--fill-color);\n",
              "    animation:\n",
              "      spin 1s steps(1) infinite;\n",
              "  }\n",
              "\n",
              "  @keyframes spin {\n",
              "    0% {\n",
              "      border-color: transparent;\n",
              "      border-bottom-color: var(--fill-color);\n",
              "      border-left-color: var(--fill-color);\n",
              "    }\n",
              "    20% {\n",
              "      border-color: transparent;\n",
              "      border-left-color: var(--fill-color);\n",
              "      border-top-color: var(--fill-color);\n",
              "    }\n",
              "    30% {\n",
              "      border-color: transparent;\n",
              "      border-left-color: var(--fill-color);\n",
              "      border-top-color: var(--fill-color);\n",
              "      border-right-color: var(--fill-color);\n",
              "    }\n",
              "    40% {\n",
              "      border-color: transparent;\n",
              "      border-right-color: var(--fill-color);\n",
              "      border-top-color: var(--fill-color);\n",
              "    }\n",
              "    60% {\n",
              "      border-color: transparent;\n",
              "      border-right-color: var(--fill-color);\n",
              "    }\n",
              "    80% {\n",
              "      border-color: transparent;\n",
              "      border-right-color: var(--fill-color);\n",
              "      border-bottom-color: var(--fill-color);\n",
              "    }\n",
              "    90% {\n",
              "      border-color: transparent;\n",
              "      border-bottom-color: var(--fill-color);\n",
              "    }\n",
              "  }\n",
              "</style>\n",
              "\n",
              "  <script>\n",
              "    async function quickchart(key) {\n",
              "      const quickchartButtonEl =\n",
              "        document.querySelector('#' + key + ' button');\n",
              "      quickchartButtonEl.disabled = true;  // To prevent multiple clicks.\n",
              "      quickchartButtonEl.classList.add('colab-df-spinner');\n",
              "      try {\n",
              "        const charts = await google.colab.kernel.invokeFunction(\n",
              "            'suggestCharts', [key], {});\n",
              "      } catch (error) {\n",
              "        console.error('Error during call to suggestCharts:', error);\n",
              "      }\n",
              "      quickchartButtonEl.classList.remove('colab-df-spinner');\n",
              "      quickchartButtonEl.classList.add('colab-df-quickchart-complete');\n",
              "    }\n",
              "    (() => {\n",
              "      let quickchartButtonEl =\n",
              "        document.querySelector('#df-935be3ef-8dd6-4234-b4f9-726f9cde08ec button');\n",
              "      quickchartButtonEl.style.display =\n",
              "        google.colab.kernel.accessAllowed ? 'block' : 'none';\n",
              "    })();\n",
              "  </script>\n",
              "</div>\n",
              "\n",
              "  <div id=\"id_b4a9684a-a3b5-486b-aa93-02a2f1bc0c31\">\n",
              "    <style>\n",
              "      .colab-df-generate {\n",
              "        background-color: #E8F0FE;\n",
              "        border: none;\n",
              "        border-radius: 50%;\n",
              "        cursor: pointer;\n",
              "        display: none;\n",
              "        fill: #1967D2;\n",
              "        height: 32px;\n",
              "        padding: 0 0 0 0;\n",
              "        width: 32px;\n",
              "      }\n",
              "\n",
              "      .colab-df-generate:hover {\n",
              "        background-color: #E2EBFA;\n",
              "        box-shadow: 0px 1px 2px rgba(60, 64, 67, 0.3), 0px 1px 3px 1px rgba(60, 64, 67, 0.15);\n",
              "        fill: #174EA6;\n",
              "      }\n",
              "\n",
              "      [theme=dark] .colab-df-generate {\n",
              "        background-color: #3B4455;\n",
              "        fill: #D2E3FC;\n",
              "      }\n",
              "\n",
              "      [theme=dark] .colab-df-generate:hover {\n",
              "        background-color: #434B5C;\n",
              "        box-shadow: 0px 1px 3px 1px rgba(0, 0, 0, 0.15);\n",
              "        filter: drop-shadow(0px 1px 2px rgba(0, 0, 0, 0.3));\n",
              "        fill: #FFFFFF;\n",
              "      }\n",
              "    </style>\n",
              "    <button class=\"colab-df-generate\" onclick=\"generateWithVariable('two_movies')\"\n",
              "            title=\"Generate code using this dataframe.\"\n",
              "            style=\"display:none;\">\n",
              "\n",
              "  <svg xmlns=\"http://www.w3.org/2000/svg\" height=\"24px\"viewBox=\"0 0 24 24\"\n",
              "       width=\"24px\">\n",
              "    <path d=\"M7,19H8.4L18.45,9,17,7.55,7,17.6ZM5,21V16.75L18.45,3.32a2,2,0,0,1,2.83,0l1.4,1.43a1.91,1.91,0,0,1,.58,1.4,1.91,1.91,0,0,1-.58,1.4L9.25,21ZM18.45,9,17,7.55Zm-12,3A5.31,5.31,0,0,0,4.9,8.1,5.31,5.31,0,0,0,1,6.5,5.31,5.31,0,0,0,4.9,4.9,5.31,5.31,0,0,0,6.5,1,5.31,5.31,0,0,0,8.1,4.9,5.31,5.31,0,0,0,12,6.5,5.46,5.46,0,0,0,6.5,12Z\"/>\n",
              "  </svg>\n",
              "    </button>\n",
              "    <script>\n",
              "      (() => {\n",
              "      const buttonEl =\n",
              "        document.querySelector('#id_b4a9684a-a3b5-486b-aa93-02a2f1bc0c31 button.colab-df-generate');\n",
              "      buttonEl.style.display =\n",
              "        google.colab.kernel.accessAllowed ? 'block' : 'none';\n",
              "\n",
              "      buttonEl.onclick = () => {\n",
              "        google.colab.notebook.generateWithVariable('two_movies');\n",
              "      }\n",
              "      })();\n",
              "    </script>\n",
              "  </div>\n",
              "\n",
              "    </div>\n",
              "  </div>\n"
            ],
            "application/vnd.google.colaboratory.intrinsic+json": {
              "type": "dataframe",
              "variable_name": "two_movies",
              "summary": "{\n  \"name\": \"two_movies\",\n  \"rows\": 2,\n  \"fields\": [\n    {\n      \"column\": \"id\",\n      \"properties\": {\n        \"dtype\": \"number\",\n        \"std\": 0,\n        \"min\": 43597,\n        \"max\": 43598,\n        \"num_unique_values\": 2,\n        \"samples\": [\n          43598,\n          43597\n        ],\n        \"semantic_type\": \"\",\n        \"description\": \"\"\n      }\n    },\n    {\n      \"column\": \"original_title\",\n      \"properties\": {\n        \"dtype\": \"string\",\n        \"num_unique_values\": 2,\n        \"samples\": [\n          \"Pirates of the Caribbean: At World's End\",\n          \"Avatar\"\n        ],\n        \"semantic_type\": \"\",\n        \"description\": \"\"\n      }\n    },\n    {\n      \"column\": \"budget\",\n      \"properties\": {\n        \"dtype\": \"number\",\n        \"std\": 44547727,\n        \"min\": 237000000,\n        \"max\": 300000000,\n        \"num_unique_values\": 2,\n        \"samples\": [\n          300000000,\n          237000000\n        ],\n        \"semantic_type\": \"\",\n        \"description\": \"\"\n      }\n    },\n    {\n      \"column\": \"popularity\",\n      \"properties\": {\n        \"dtype\": \"number\",\n        \"std\": 7,\n        \"min\": 139,\n        \"max\": 150,\n        \"num_unique_values\": 2,\n        \"samples\": [\n          139,\n          150\n        ],\n        \"semantic_type\": \"\",\n        \"description\": \"\"\n      }\n    },\n    {\n      \"column\": \"release_date\",\n      \"properties\": {\n        \"dtype\": \"object\",\n        \"num_unique_values\": 2,\n        \"samples\": [\n          \"2007-05-19\",\n          \"2009-12-10\"\n        ],\n        \"semantic_type\": \"\",\n        \"description\": \"\"\n      }\n    },\n    {\n      \"column\": \"revenue\",\n      \"properties\": {\n        \"dtype\": \"number\",\n        \"std\": 1291859402,\n        \"min\": 961000000,\n        \"max\": 2787965087,\n        \"num_unique_values\": 2,\n        \"samples\": [\n          961000000,\n          2787965087\n        ],\n        \"semantic_type\": \"\",\n        \"description\": \"\"\n      }\n    },\n    {\n      \"column\": \"title\",\n      \"properties\": {\n        \"dtype\": \"string\",\n        \"num_unique_values\": 2,\n        \"samples\": [\n          \"Pirates of the Caribbean: At World's End\",\n          \"Avatar\"\n        ],\n        \"semantic_type\": \"\",\n        \"description\": \"\"\n      }\n    },\n    {\n      \"column\": \"vote_average\",\n      \"properties\": {\n        \"dtype\": \"number\",\n        \"std\": 0.21213203435596412,\n        \"min\": 6.9,\n        \"max\": 7.2,\n        \"num_unique_values\": 2,\n        \"samples\": [\n          6.9,\n          7.2\n        ],\n        \"semantic_type\": \"\",\n        \"description\": \"\"\n      }\n    },\n    {\n      \"column\": \"vote_count\",\n      \"properties\": {\n        \"dtype\": \"number\",\n        \"std\": 5161,\n        \"min\": 4500,\n        \"max\": 11800,\n        \"num_unique_values\": 2,\n        \"samples\": [\n          4500,\n          11800\n        ],\n        \"semantic_type\": \"\",\n        \"description\": \"\"\n      }\n    },\n    {\n      \"column\": \"overview\",\n      \"properties\": {\n        \"dtype\": \"string\",\n        \"num_unique_values\": 2,\n        \"samples\": [\n          \"Captain Barbossa, long believed to be dead, has come back to life and is headed to the edge of the Earth with Will Turner and Elizabeth Swann. But nothing is quite as it seems.\",\n          \"In the 22nd century, a paraplegic Marine is dispatched to the moon Pandora on a unique mission, but becomes torn between following orders and protecting an alien civilization.\"\n        ],\n        \"semantic_type\": \"\",\n        \"description\": \"\"\n      }\n    },\n    {\n      \"column\": \"tagline\",\n      \"properties\": {\n        \"dtype\": \"string\",\n        \"num_unique_values\": 2,\n        \"samples\": [\n          \"At the end of the world, the adventure begins.\",\n          \"Enter the World of Pandora.\"\n        ],\n        \"semantic_type\": \"\",\n        \"description\": \"\"\n      }\n    },\n    {\n      \"column\": \"uid\",\n      \"properties\": {\n        \"dtype\": \"number\",\n        \"std\": 13937,\n        \"min\": 285,\n        \"max\": 19995,\n        \"num_unique_values\": 2,\n        \"samples\": [\n          285,\n          19995\n        ],\n        \"semantic_type\": \"\",\n        \"description\": \"\"\n      }\n    },\n    {\n      \"column\": \"director_id\",\n      \"properties\": {\n        \"dtype\": \"number\",\n        \"std\": 0,\n        \"min\": 4762,\n        \"max\": 4763,\n        \"num_unique_values\": 2,\n        \"samples\": [\n          4763,\n          4762\n        ],\n        \"semantic_type\": \"\",\n        \"description\": \"\"\n      }\n    }\n  ]\n}"
            }
          },
          "metadata": {},
          "execution_count": 92
        }
      ]
    },
    {
      "cell_type": "code",
      "source": [
        "type(two_movies)"
      ],
      "metadata": {
        "id": "KAN2CGnsc_Yl",
        "outputId": "39403c87-f8ba-4a4b-fa15-1fe8dd5c6300",
        "colab": {
          "base_uri": "https://localhost:8080/",
          "height": 204
        }
      },
      "execution_count": 95,
      "outputs": [
        {
          "output_type": "execute_result",
          "data": {
            "text/plain": [
              "pandas.core.frame.DataFrame"
            ],
            "text/html": [
              "<div style=\"max-width:800px; border: 1px solid var(--colab-border-color);\"><style>\n",
              "      pre.function-repr-contents {\n",
              "        overflow-x: auto;\n",
              "        padding: 8px 12px;\n",
              "        max-height: 500px;\n",
              "      }\n",
              "\n",
              "      pre.function-repr-contents.function-repr-contents-collapsed {\n",
              "        cursor: pointer;\n",
              "        max-height: 100px;\n",
              "      }\n",
              "    </style>\n",
              "    <pre style=\"white-space: initial; background:\n",
              "         var(--colab-secondary-surface-color); padding: 8px 12px;\n",
              "         border-bottom: 1px solid var(--colab-border-color);\"><b>pandas.core.frame.DataFrame</b><br/>def __init__(data=None, index: Axes | None=None, columns: Axes | None=None, dtype: Dtype | None=None, copy: bool | None=None) -&gt; None</pre><pre class=\"function-repr-contents function-repr-contents-collapsed\" style=\"\"><a class=\"filepath\" style=\"display:none\" href=\"#\">/usr/local/lib/python3.11/dist-packages/pandas/core/frame.py</a>Two-dimensional, size-mutable, potentially heterogeneous tabular data.\n",
              "\n",
              "Data structure also contains labeled axes (rows and columns).\n",
              "Arithmetic operations align on both row and column labels. Can be\n",
              "thought of as a dict-like container for Series objects. The primary\n",
              "pandas data structure.\n",
              "\n",
              "Parameters\n",
              "----------\n",
              "data : ndarray (structured or homogeneous), Iterable, dict, or DataFrame\n",
              "    Dict can contain Series, arrays, constants, dataclass or list-like objects. If\n",
              "    data is a dict, column order follows insertion-order. If a dict contains Series\n",
              "    which have an index defined, it is aligned by its index. This alignment also\n",
              "    occurs if data is a Series or a DataFrame itself. Alignment is done on\n",
              "    Series/DataFrame inputs.\n",
              "\n",
              "    If data is a list of dicts, column order follows insertion-order.\n",
              "\n",
              "index : Index or array-like\n",
              "    Index to use for resulting frame. Will default to RangeIndex if\n",
              "    no indexing information part of input data and no index provided.\n",
              "columns : Index or array-like\n",
              "    Column labels to use for resulting frame when data does not have them,\n",
              "    defaulting to RangeIndex(0, 1, 2, ..., n). If data contains column labels,\n",
              "    will perform column selection instead.\n",
              "dtype : dtype, default None\n",
              "    Data type to force. Only a single dtype is allowed. If None, infer.\n",
              "copy : bool or None, default None\n",
              "    Copy data from inputs.\n",
              "    For dict data, the default of None behaves like ``copy=True``.  For DataFrame\n",
              "    or 2d ndarray input, the default of None behaves like ``copy=False``.\n",
              "    If data is a dict containing one or more Series (possibly of different dtypes),\n",
              "    ``copy=False`` will ensure that these inputs are not copied.\n",
              "\n",
              "    .. versionchanged:: 1.3.0\n",
              "\n",
              "See Also\n",
              "--------\n",
              "DataFrame.from_records : Constructor from tuples, also record arrays.\n",
              "DataFrame.from_dict : From dicts of Series, arrays, or dicts.\n",
              "read_csv : Read a comma-separated values (csv) file into DataFrame.\n",
              "read_table : Read general delimited file into DataFrame.\n",
              "read_clipboard : Read text from clipboard into DataFrame.\n",
              "\n",
              "Notes\n",
              "-----\n",
              "Please reference the :ref:`User Guide &lt;basics.dataframe&gt;` for more information.\n",
              "\n",
              "Examples\n",
              "--------\n",
              "Constructing DataFrame from a dictionary.\n",
              "\n",
              "&gt;&gt;&gt; d = {&#x27;col1&#x27;: [1, 2], &#x27;col2&#x27;: [3, 4]}\n",
              "&gt;&gt;&gt; df = pd.DataFrame(data=d)\n",
              "&gt;&gt;&gt; df\n",
              "   col1  col2\n",
              "0     1     3\n",
              "1     2     4\n",
              "\n",
              "Notice that the inferred dtype is int64.\n",
              "\n",
              "&gt;&gt;&gt; df.dtypes\n",
              "col1    int64\n",
              "col2    int64\n",
              "dtype: object\n",
              "\n",
              "To enforce a single dtype:\n",
              "\n",
              "&gt;&gt;&gt; df = pd.DataFrame(data=d, dtype=np.int8)\n",
              "&gt;&gt;&gt; df.dtypes\n",
              "col1    int8\n",
              "col2    int8\n",
              "dtype: object\n",
              "\n",
              "Constructing DataFrame from a dictionary including Series:\n",
              "\n",
              "&gt;&gt;&gt; d = {&#x27;col1&#x27;: [0, 1, 2, 3], &#x27;col2&#x27;: pd.Series([2, 3], index=[2, 3])}\n",
              "&gt;&gt;&gt; pd.DataFrame(data=d, index=[0, 1, 2, 3])\n",
              "   col1  col2\n",
              "0     0   NaN\n",
              "1     1   NaN\n",
              "2     2   2.0\n",
              "3     3   3.0\n",
              "\n",
              "Constructing DataFrame from numpy ndarray:\n",
              "\n",
              "&gt;&gt;&gt; df2 = pd.DataFrame(np.array([[1, 2, 3], [4, 5, 6], [7, 8, 9]]),\n",
              "...                    columns=[&#x27;a&#x27;, &#x27;b&#x27;, &#x27;c&#x27;])\n",
              "&gt;&gt;&gt; df2\n",
              "   a  b  c\n",
              "0  1  2  3\n",
              "1  4  5  6\n",
              "2  7  8  9\n",
              "\n",
              "Constructing DataFrame from a numpy ndarray that has labeled columns:\n",
              "\n",
              "&gt;&gt;&gt; data = np.array([(1, 2, 3), (4, 5, 6), (7, 8, 9)],\n",
              "...                 dtype=[(&quot;a&quot;, &quot;i4&quot;), (&quot;b&quot;, &quot;i4&quot;), (&quot;c&quot;, &quot;i4&quot;)])\n",
              "&gt;&gt;&gt; df3 = pd.DataFrame(data, columns=[&#x27;c&#x27;, &#x27;a&#x27;])\n",
              "...\n",
              "&gt;&gt;&gt; df3\n",
              "   c  a\n",
              "0  3  1\n",
              "1  6  4\n",
              "2  9  7\n",
              "\n",
              "Constructing DataFrame from dataclass:\n",
              "\n",
              "&gt;&gt;&gt; from dataclasses import make_dataclass\n",
              "&gt;&gt;&gt; Point = make_dataclass(&quot;Point&quot;, [(&quot;x&quot;, int), (&quot;y&quot;, int)])\n",
              "&gt;&gt;&gt; pd.DataFrame([Point(0, 0), Point(0, 3), Point(2, 3)])\n",
              "   x  y\n",
              "0  0  0\n",
              "1  0  3\n",
              "2  2  3\n",
              "\n",
              "Constructing DataFrame from Series/DataFrame:\n",
              "\n",
              "&gt;&gt;&gt; ser = pd.Series([1, 2, 3], index=[&quot;a&quot;, &quot;b&quot;, &quot;c&quot;])\n",
              "&gt;&gt;&gt; df = pd.DataFrame(data=ser, index=[&quot;a&quot;, &quot;c&quot;])\n",
              "&gt;&gt;&gt; df\n",
              "   0\n",
              "a  1\n",
              "c  3\n",
              "\n",
              "&gt;&gt;&gt; df1 = pd.DataFrame([1, 2, 3], index=[&quot;a&quot;, &quot;b&quot;, &quot;c&quot;], columns=[&quot;x&quot;])\n",
              "&gt;&gt;&gt; df2 = pd.DataFrame(data=df1, index=[&quot;a&quot;, &quot;c&quot;])\n",
              "&gt;&gt;&gt; df2\n",
              "   x\n",
              "a  1\n",
              "c  3</pre>\n",
              "      <script>\n",
              "      if (google.colab.kernel.accessAllowed && google.colab.files && google.colab.files.view) {\n",
              "        for (const element of document.querySelectorAll('.filepath')) {\n",
              "          element.style.display = 'block'\n",
              "          element.onclick = (event) => {\n",
              "            event.preventDefault();\n",
              "            event.stopPropagation();\n",
              "            google.colab.files.view(element.textContent, 509);\n",
              "          };\n",
              "        }\n",
              "      }\n",
              "      for (const element of document.querySelectorAll('.function-repr-contents')) {\n",
              "        element.onclick = (event) => {\n",
              "          event.preventDefault();\n",
              "          event.stopPropagation();\n",
              "          element.classList.toggle('function-repr-contents-collapsed');\n",
              "        };\n",
              "      }\n",
              "      </script>\n",
              "      </div>"
            ]
          },
          "metadata": {},
          "execution_count": 95
        }
      ]
    },
    {
      "cell_type": "markdown",
      "source": [
        "Now we query again and return all movies as a dataframe. This new dataframe has 4773 movies in it."
      ],
      "metadata": {
        "id": "MB8bAZU6yczR"
      }
    },
    {
      "cell_type": "markdown",
      "source": [
        "### get the total count of rows and columns"
      ],
      "metadata": {
        "id": "B588gVQOrnbo"
      }
    },
    {
      "cell_type": "code",
      "source": [
        "all_movies = pd.read_sql_query('select * from movies',con_movie_source)\n",
        "\n",
        "all_movies.shape"
      ],
      "metadata": {
        "id": "JquDDZ8wyB5V"
      },
      "execution_count": null,
      "outputs": []
    },
    {
      "cell_type": "markdown",
      "source": [
        "### check datatypes and null values."
      ],
      "metadata": {
        "id": "3mn48TbjruFs"
      }
    },
    {
      "cell_type": "code",
      "source": [
        "all_movies.info()"
      ],
      "metadata": {
        "id": "UtIbvHdvqLJ8"
      },
      "execution_count": null,
      "outputs": []
    },
    {
      "cell_type": "markdown",
      "source": [
        "# Creating an extract query along with a transform\n",
        "\n",
        "Using sql combine ET steps.\n",
        "\n",
        "We'll assume the machine learning team doesn't need each individual movie. They just want yearly data and average budget and revenue for the year. So, we can reduce the granularity from specific dates and movies to just aggregated information."
      ],
      "metadata": {
        "id": "mS_nCU64sQbh"
      }
    },
    {
      "cell_type": "code",
      "source": [
        "yearly_aggregates = pd.read_sql_query('''\n",
        "select\n",
        "  strftime('%Y',release_date) as release_year\n",
        "  ,avg(budget) as avg_budget\n",
        "  ,avg(revenue) as avg_revenue\n",
        "  ,count(1) as movie_count\n",
        "from movies\n",
        "group by release_year\n",
        "''',con_movie_source)"
      ],
      "metadata": {
        "id": "BNbgjCgzsP-8"
      },
      "execution_count": null,
      "outputs": []
    },
    {
      "cell_type": "markdown",
      "source": [
        "## show the top 5 row"
      ],
      "metadata": {
        "id": "ut0ABtxbpPP_"
      }
    },
    {
      "cell_type": "code",
      "source": [
        "yearly_aggregates.head()"
      ],
      "metadata": {
        "id": "0EGdJxQHttkT"
      },
      "execution_count": null,
      "outputs": []
    },
    {
      "cell_type": "markdown",
      "source": [
        "# Migrate as Bulk Insert\n",
        "\n",
        "We insert all rows at once. This only works for smaller data migrations. Larger migrations would likely crash due to lack of RAM to hold a larger dataset in memory."
      ],
      "metadata": {
        "id": "mhIC5xWmyEsL"
      }
    },
    {
      "cell_type": "markdown",
      "source": [
        "## Migrating data to a NEW database\n",
        "\n",
        "In data engineering we are often moving data from a SOURCE system to a DESTINATION system. For the purpose of this tutorial we'll assume the movies database is the source.\n",
        "\n",
        "Let's create an entirely new database called \"movie_destination.db\" and practice moving data into it.\n",
        "\n",
        "We'll consider multiple movement strategies. First, we'll just move the entire movie table, then we'll begin thinking about how to move this data in batches."
      ],
      "metadata": {
        "id": "1u3u75BWzXFE"
      }
    },
    {
      "cell_type": "markdown",
      "source": [
        "This code creates a new movie database. You can see it in your files on the left nav bar after you run the code.\n",
        "\n",
        "Also, notice that we have created a new connection object as well as a cursor object both with appropriate names for the destination database."
      ],
      "metadata": {
        "id": "HVSnsGBYz_1g"
      }
    },
    {
      "cell_type": "markdown",
      "source": [
        "## create destination connection and cursor"
      ],
      "metadata": {
        "id": "hSkr4rjfpTpq"
      }
    },
    {
      "cell_type": "code",
      "source": [
        "con_movie_destination = sqlite3.connect('movie_destination.db')\n",
        "cur_movie_destination = con_movie_destination.cursor()"
      ],
      "metadata": {
        "id": "jvF7at_ozWq1"
      },
      "execution_count": null,
      "outputs": []
    },
    {
      "cell_type": "markdown",
      "source": [
        "## drop table (if exists)"
      ],
      "metadata": {
        "id": "t5VPx50VpVuO"
      }
    },
    {
      "cell_type": "code",
      "source": [
        "cur_movie_destination.execute('''\n",
        "drop table if exists yearly_aggregates\n",
        "''')\n",
        "con_movie_destination.commit()"
      ],
      "metadata": {
        "id": "TlXHBnC0urQo"
      },
      "execution_count": null,
      "outputs": []
    },
    {
      "cell_type": "markdown",
      "source": [
        "## create table (if not exists)"
      ],
      "metadata": {
        "id": "UrvEf2bmpYaA"
      }
    },
    {
      "cell_type": "code",
      "source": [
        "cur_movie_destination.execute('''\n",
        "CREATE TABLE IF NOT EXISTS yearly_aggregates (\n",
        "  release_year int,\n",
        "  avg_budget REAL,\n",
        "  avg_revenue REAL,\n",
        "  movie_count INTEGER\n",
        ")\n",
        "''')\n",
        "con_movie_destination.commit()"
      ],
      "metadata": {
        "id": "IsBWTW8guHAU"
      },
      "execution_count": null,
      "outputs": []
    },
    {
      "cell_type": "markdown",
      "source": [
        "## check for existing data"
      ],
      "metadata": {
        "id": "INbMirb1pjNh"
      }
    },
    {
      "cell_type": "code",
      "source": [
        "pd.read_sql_query('select * from yearly_aggregates',con_movie_destination)"
      ],
      "metadata": {
        "id": "MU2f0qLPuRTd"
      },
      "execution_count": null,
      "outputs": []
    },
    {
      "cell_type": "markdown",
      "source": [
        "## delete existing data"
      ],
      "metadata": {
        "id": "CjaImkoVwG-n"
      }
    },
    {
      "cell_type": "code",
      "source": [
        "cur_movie_destination.execute('delete from yearly_aggregates')\n",
        "con_movie_destination.commit()"
      ],
      "metadata": {
        "id": "uCFLDePqwA6v"
      },
      "execution_count": null,
      "outputs": []
    },
    {
      "cell_type": "markdown",
      "source": [
        "ensure the deletion was successful"
      ],
      "metadata": {
        "id": "xvd50iWiwJ6y"
      }
    },
    {
      "cell_type": "code",
      "source": [
        "pd.read_sql_query('select * from yearly_aggregates',con_movie_destination)"
      ],
      "metadata": {
        "id": "XD7JqA50wMau"
      },
      "execution_count": null,
      "outputs": []
    },
    {
      "cell_type": "markdown",
      "source": [
        "## check for the existing years in destination (coalesce)\n",
        "\n",
        "Use coalesce to ensure a value even if the query returns null"
      ],
      "metadata": {
        "id": "qRG0vhUYpl78"
      }
    },
    {
      "cell_type": "code",
      "source": [
        "migrated_movie_years = cur_movie_destination.execute('select coalesce(max(release_year),0) from yearly_aggregates').fetchall()"
      ],
      "metadata": {
        "id": "rSCNbG_5uROD"
      },
      "execution_count": null,
      "outputs": []
    },
    {
      "cell_type": "markdown",
      "source": [
        "The return value is a list of tuples"
      ],
      "metadata": {
        "id": "7soszRckpwZ7"
      }
    },
    {
      "cell_type": "code",
      "source": [
        "migrated_movie_years"
      ],
      "metadata": {
        "id": "RU5qynmhnhmB"
      },
      "execution_count": null,
      "outputs": []
    },
    {
      "cell_type": "markdown",
      "source": [
        "## convert list of tuple to a simple integer value"
      ],
      "metadata": {
        "id": "BusBbya3pzxG"
      }
    },
    {
      "cell_type": "code",
      "source": [
        "migrated_movie_years = migrated_movie_years[0][0] # 0 means no migrated years\n",
        "migrated_movie_years"
      ],
      "metadata": {
        "id": "tvWTrKadu-_2"
      },
      "execution_count": null,
      "outputs": []
    },
    {
      "cell_type": "markdown",
      "source": [
        "#"
      ],
      "metadata": {
        "id": "myRzTYYbp3I5"
      }
    },
    {
      "cell_type": "markdown",
      "source": [
        "## create a dataframe for Loading into Destination db\n",
        "\n",
        "we filter the query to exclude years that have already been migrated."
      ],
      "metadata": {
        "id": "o4Zw8CnUqML-"
      }
    },
    {
      "cell_type": "code",
      "source": [
        "year_data = pd.read_sql_query(f\"\"\"\n",
        "select\n",
        "  CAST(strftime('%Y',release_date) as INTEGER) as release_year,\n",
        "  avg(budget) as avg_budget,\n",
        "  avg(revenue) as avg_revenue,\n",
        "  count(1) as movie_count\n",
        "from movies\n",
        "where release_year > {migrated_movie_years}\n",
        "group by release_year;\n",
        "\"\"\",con=con_movie_source)\n",
        "\n",
        "year_data.shape"
      ],
      "metadata": {
        "id": "7X49zX5008Fm"
      },
      "execution_count": null,
      "outputs": []
    },
    {
      "cell_type": "markdown",
      "source": [
        "This pandas dataframe method takes the data in the dataframe and appends it to the existing table (if it exists) or it creates the table if it doesn't exist in the db specified by the con argument. It excludes the internal dataframe index from being added to the table."
      ],
      "metadata": {
        "id": "tcp7jg1rYfGn"
      }
    },
    {
      "cell_type": "code",
      "source": [
        "year_data.to_sql('yearly_aggregates',if_exists='append',index=False,con=con_movie_destination)"
      ],
      "metadata": {
        "id": "rWDlA-f6xHhZ"
      },
      "execution_count": null,
      "outputs": []
    },
    {
      "cell_type": "markdown",
      "source": [
        "## check migrated data integrity\n",
        "\n",
        "perform queries to ensure the data has been migrated as expected. perform multiple checks"
      ],
      "metadata": {
        "id": "IVJHgXqH1z47"
      }
    },
    {
      "cell_type": "code",
      "source": [
        "pd.read_sql_query('select * from yearly_aggregates limit 5',con_movie_destination)"
      ],
      "metadata": {
        "id": "6ZmG1JuZ1KaU"
      },
      "execution_count": null,
      "outputs": []
    },
    {
      "cell_type": "code",
      "source": [
        "pd.read_sql_query('select min(release_year),max(release_year) from yearly_aggregates',con_movie_destination)"
      ],
      "metadata": {
        "id": "lwWX5I1lweTm"
      },
      "execution_count": null,
      "outputs": []
    },
    {
      "cell_type": "code",
      "source": [
        "pd.read_sql_query('select count(1) as year_count from yearly_aggregates',con_movie_destination)"
      ],
      "metadata": {
        "id": "oHDc_jR2nusY"
      },
      "execution_count": null,
      "outputs": []
    },
    {
      "cell_type": "markdown",
      "source": [
        "# Migrate in mini-batches.\n",
        "\n",
        "We'll migrate each year separately.\n",
        "\n",
        "This has the advantage of reducing the batch size. Each insert is just a single row, but we increase the overall time for inserting as there are many small inserts."
      ],
      "metadata": {
        "id": "Ys6vKOn8xgWP"
      }
    },
    {
      "cell_type": "markdown",
      "source": [
        "## get a list of year tuples"
      ],
      "metadata": {
        "id": "p8FSlTHFwSl2"
      }
    },
    {
      "cell_type": "code",
      "source": [
        "unique_source_years = cur_movie_source.execute(\"select distinct(CAST(strftime('%Y',release_date) as INTEGER)) as unique_release_year from movies order by unique_release_year\").fetchall()\n",
        "unique_source_years[0:5]"
      ],
      "metadata": {
        "id": "mzyvUJE2vDkp"
      },
      "execution_count": null,
      "outputs": []
    },
    {
      "cell_type": "code",
      "source": [
        "cur_movie_destination.execute('delete from yearly_aggregates')\n",
        "con_movie_destination.commit()"
      ],
      "metadata": {
        "id": "CnQECbOowOD4"
      },
      "execution_count": null,
      "outputs": []
    },
    {
      "cell_type": "markdown",
      "source": [
        "## ensure the deletion was successful"
      ],
      "metadata": {
        "id": "gnBjPyK-wOD4"
      }
    },
    {
      "cell_type": "code",
      "source": [
        "pd.read_sql_query('select * from yearly_aggregates',con_movie_destination)"
      ],
      "metadata": {
        "id": "ZiSmUi8_wOD4"
      },
      "execution_count": null,
      "outputs": []
    },
    {
      "cell_type": "markdown",
      "source": [
        "## for loop\n",
        "\n",
        "we query for each year individually. Each iteration through the for loop creates a new row in the database."
      ],
      "metadata": {
        "id": "dl7vU1pXyaem"
      }
    },
    {
      "cell_type": "code",
      "source": [
        "migrated_years = cur_movie_destination.execute(\"select release_year as migrated_years from yearly_aggregates\").fetchall()\n",
        "migrated_years[0:3]"
      ],
      "metadata": {
        "id": "wexTZ1Cky3oX"
      },
      "execution_count": null,
      "outputs": []
    },
    {
      "cell_type": "markdown",
      "source": [
        "a list comprehension, which is a simple and concise way to build a list\n",
        "\n",
        "https://www.w3schools.com/Python/python_lists_comprehension.asp\n"
      ],
      "metadata": {
        "id": "k20xRoQvmx5w"
      }
    },
    {
      "cell_type": "code",
      "source": [
        "unmigrated_years = [x for x in unique_source_years if x not in migrated_years]\n",
        "\n",
        "unmigrated_years[0:4]"
      ],
      "metadata": {
        "id": "5THtJJTHzcjZ"
      },
      "execution_count": null,
      "outputs": []
    },
    {
      "cell_type": "code",
      "source": [
        "for year in tqdm(unique_source_years):\n",
        "  year = year[0] # get int from tuple\n",
        "\n",
        "  year_data = pd.read_sql_query(f\"\"\"\n",
        "  select\n",
        "    CAST(strftime('%Y',release_date) as INTEGER) as release_year,\n",
        "    avg(budget) as avg_budget,\n",
        "    avg(revenue) as avg_revenue,\n",
        "    count(1) as movie_count\n",
        "  from movies\n",
        "  where release_year = {year}\n",
        "  group by release_year;\n",
        "  \"\"\",con=con_movie_source)\n",
        "\n",
        "  year_data.to_sql('yearly_aggregates',if_exists='append',index=False,con=con_movie_destination)"
      ],
      "metadata": {
        "id": "rOI_pdfYwVvI"
      },
      "execution_count": null,
      "outputs": []
    },
    {
      "cell_type": "markdown",
      "source": [
        "## check migrated data integrity\n",
        "\n",
        "perform queries to ensure the data has been migrated as expected. perform multiple checks"
      ],
      "metadata": {
        "id": "EbwCc0t1w5fa"
      }
    },
    {
      "cell_type": "code",
      "source": [
        "pd.read_sql_query('select * from yearly_aggregates limit 5',con_movie_destination)"
      ],
      "metadata": {
        "id": "Dati_LMBw5fj"
      },
      "execution_count": null,
      "outputs": []
    },
    {
      "cell_type": "code",
      "source": [
        "pd.read_sql_query('select min(release_year),max(release_year) from yearly_aggregates',con_movie_destination)"
      ],
      "metadata": {
        "id": "e8-fvzE6w5fj"
      },
      "execution_count": null,
      "outputs": []
    },
    {
      "cell_type": "code",
      "source": [
        "pd.read_sql_query('select count(1) as year_count from yearly_aggregates',con_movie_destination)"
      ],
      "metadata": {
        "id": "AzFF-gfxw5fj"
      },
      "execution_count": null,
      "outputs": []
    },
    {
      "cell_type": "code",
      "source": [
        "import random\n",
        "random.randint(1, 100)"
      ],
      "metadata": {
        "id": "NCL6-y0-43AI"
      },
      "execution_count": null,
      "outputs": []
    },
    {
      "cell_type": "markdown",
      "source": [
        "### YOU DO\n",
        "\n",
        "Migrate the director data from the existing db to a new database.\n",
        "\n",
        "Use .execute and .fetchall to get a list of tuples. Use a for loop to iterate over that list of tuples and print element if the director's name contains 'Steven'"
      ],
      "metadata": {
        "id": "k2sRWgA5GyhQ"
      }
    },
    {
      "cell_type": "code",
      "source": [
        "name = \"Matthew Pecsok\"\n",
        "has_substr = \"Matt\" in name\n",
        "has_substr"
      ],
      "metadata": {
        "id": "SMsJE7KCJX-e"
      },
      "execution_count": null,
      "outputs": []
    },
    {
      "cell_type": "code",
      "source": [
        "directors = cur_movie_source.execute(\"select * from directors\").fetchall()"
      ],
      "metadata": {
        "id": "zUPi0JRNI2zg"
      },
      "execution_count": null,
      "outputs": []
    },
    {
      "cell_type": "code",
      "source": [
        "directors[0:3]"
      ],
      "metadata": {
        "id": "PYv4gVV7JE7e"
      },
      "execution_count": null,
      "outputs": []
    },
    {
      "cell_type": "code",
      "source": [
        "for director in directors:\n",
        "  if \"Steven\" in director[0]:\n",
        "    print(director)"
      ],
      "metadata": {
        "id": "xe8wJVS7KB-S"
      },
      "execution_count": null,
      "outputs": []
    },
    {
      "cell_type": "markdown",
      "source": [
        "### YOUDO\n",
        "\n",
        "Create a new database called steven_directors.\n",
        "It should contain the just a column called name that will contain the directors name.\n",
        "Only migrate directors that start contain \"Steven\" in the name.\n"
      ],
      "metadata": {
        "id": "m5kqmGQMKMRn"
      }
    },
    {
      "cell_type": "code",
      "source": [
        "# Create the new database. Should return a new connection object.\n",
        "# Create a new cursor to the new database using the new connection object.\n",
        "\n",
        "# drop the table if it exists.\n",
        "con_steven_directors.commit()\n",
        "\n",
        "# create the table.\n",
        "con_steven_directors.commit()\n",
        "\n",
        "# fetch all directors from the origin db as a list of tuples.\n",
        "\n",
        "# use a for loop to identify directors with the name Steven\n",
        "# use a parameterized insert to insert each row one at a time in the for loop\n",
        "# cur_steven_directors.execute(\"insert into steven_directors (name) values (?)\",(director[0],))\n",
        "con_steven_directors.commit()\n"
      ],
      "metadata": {
        "id": "QbOVs6DdMHZ_"
      },
      "execution_count": null,
      "outputs": []
    },
    {
      "cell_type": "markdown",
      "source": [
        "Check the migrated data to see if all of the correct directors were migrated."
      ],
      "metadata": {
        "id": "48bEmCESNq3l"
      }
    }
  ]
}