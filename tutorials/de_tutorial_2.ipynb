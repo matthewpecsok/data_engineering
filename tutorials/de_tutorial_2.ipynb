{
  "nbformat": 4,
  "nbformat_minor": 0,
  "metadata": {
    "colab": {
      "provenance": [],
      "toc_visible": true,
      "authorship_tag": "ABX9TyO00XZUkRXWf6Eum/jdKnqF",
      "include_colab_link": true
    },
    "kernelspec": {
      "name": "python3",
      "display_name": "Python 3"
    },
    "language_info": {
      "name": "python"
    }
  },
  "cells": [
    {
      "cell_type": "markdown",
      "metadata": {
        "id": "view-in-github",
        "colab_type": "text"
      },
      "source": [
        "<a href=\"https://colab.research.google.com/github/matthewpecsok/data_engineering/blob/main/tutorials/de_tutorial_2.ipynb\" target=\"_parent\"><img src=\"https://colab.research.google.com/assets/colab-badge.svg\" alt=\"Open In Colab\"/></a>"
      ]
    },
    {
      "cell_type": "markdown",
      "source": [
        "# Data Extraction from a OLTP Source System\n",
        "\n",
        "In this tutorial we'll begin exploring the concept of querying a OLTP database, not for analytics, but rather to start extracting data for downstream data engineering applications."
      ],
      "metadata": {
        "id": "xAiVeVSSlu0E"
      }
    },
    {
      "cell_type": "markdown",
      "source": [
        "**Data Engineering**\n",
        "\n",
        "**Matthew Pecsok 2/10/2023**\n",
        "\n",
        "\n"
      ],
      "metadata": {
        "id": "CKCSeniFldev"
      }
    },
    {
      "cell_type": "markdown",
      "source": [
        "# 1.&nbsp;A quick overview of lists and tuples\n"
      ],
      "metadata": {
        "id": "bGx_0RHcXUaM"
      }
    },
    {
      "cell_type": "markdown",
      "source": [
        "## Lists\n",
        "\n",
        "A list is object that can store multiple items, is changeable, and allows duplicate values. Define a list using [] around all the elements to be included in the list.\n",
        "\n",
        "A list can begin empty and items can be added to it."
      ],
      "metadata": {
        "id": "Z4FqvfyqBX2F"
      }
    },
    {
      "cell_type": "code",
      "source": [
        "import sys"
      ],
      "metadata": {
        "id": "gcLIrRMFmd8Y"
      },
      "execution_count": 66,
      "outputs": []
    },
    {
      "cell_type": "code",
      "source": [
        "my_list = [] #create an empty list\n",
        "my_list"
      ],
      "metadata": {
        "id": "uN5f7xlrXtBP",
        "colab": {
          "base_uri": "https://localhost:8080/"
        },
        "outputId": "10136319-db53-4ff0-bbbc-01563c683f4e"
      },
      "execution_count": 76,
      "outputs": [
        {
          "output_type": "execute_result",
          "data": {
            "text/plain": [
              "[]"
            ]
          },
          "metadata": {},
          "execution_count": 76
        }
      ]
    },
    {
      "cell_type": "code",
      "source": [
        "my_list.append('movie_1') # append a single item to the list\n",
        "my_list"
      ],
      "metadata": {
        "id": "ow25R0zNXkDt",
        "colab": {
          "base_uri": "https://localhost:8080/"
        },
        "outputId": "9b5f22ca-828f-4d0a-c1a7-08cee4599cc5"
      },
      "execution_count": 80,
      "outputs": [
        {
          "output_type": "execute_result",
          "data": {
            "text/plain": [
              "['movie_1', 'movie_1', 'movie_1', 'movie_1']"
            ]
          },
          "metadata": {},
          "execution_count": 80
        }
      ]
    },
    {
      "cell_type": "code",
      "source": [
        "my_list.extend(['movie_2','movie_3']) # concatenate two lists together creating a single list as a result\n",
        "my_list"
      ],
      "metadata": {
        "id": "sGK4V0IxXXaS",
        "colab": {
          "base_uri": "https://localhost:8080/"
        },
        "outputId": "abb2a682-1800-4ae8-ac68-c3a6daae76c0"
      },
      "execution_count": 86,
      "outputs": [
        {
          "output_type": "execute_result",
          "data": {
            "text/plain": [
              "['movie_1',\n",
              " 'movie_1',\n",
              " 'movie_1',\n",
              " 'movie_1',\n",
              " 'movie_2',\n",
              " 'movie_3',\n",
              " 'movie_2',\n",
              " 'movie_3',\n",
              " 'movie_2',\n",
              " 'movie_3',\n",
              " 'movie_2',\n",
              " 'movie_3',\n",
              " 'movie_2',\n",
              " 'movie_3']"
            ]
          },
          "metadata": {},
          "execution_count": 86
        }
      ]
    },
    {
      "cell_type": "code",
      "source": [
        "len(my_list) # how long is out new list?"
      ],
      "metadata": {
        "id": "11LbeMHyYkhw",
        "colab": {
          "base_uri": "https://localhost:8080/"
        },
        "outputId": "c56854e4-03cb-48f5-9663-3fb7ac80a84e"
      },
      "execution_count": 87,
      "outputs": [
        {
          "output_type": "execute_result",
          "data": {
            "text/plain": [
              "14"
            ]
          },
          "metadata": {},
          "execution_count": 87
        }
      ]
    },
    {
      "cell_type": "code",
      "source": [
        "my_list[0] # get the zeroth (or first depending on how you count) element in the list"
      ],
      "metadata": {
        "id": "ZdSeRjf4SFes"
      },
      "execution_count": null,
      "outputs": []
    },
    {
      "cell_type": "markdown",
      "source": [
        "### YOUDO\n",
        "\n",
        "Create a list with apples, apples, oranges and pears. Apples should appear twice. Lists allow duplicate values. Call the list variable \"fruit\"."
      ],
      "metadata": {
        "id": "P8qIfIix_xWM"
      }
    },
    {
      "cell_type": "code",
      "source": [],
      "metadata": {
        "id": "9x6t7O9Z_7zg"
      },
      "execution_count": null,
      "outputs": []
    },
    {
      "cell_type": "markdown",
      "source": [
        "## Tuple\n",
        "\n",
        "What if we want to store immutable data? We can use a **tuple**. A tuple is similar to a list except it is unchangeable. Notice the parenthesis instead of brackets.\n",
        "\n",
        "We can store multiple data types in a list. They need not all be the same type. Here we store a string as well as an integer literal value."
      ],
      "metadata": {
        "id": "7wqa2HMfYsKB"
      }
    },
    {
      "cell_type": "code",
      "source": [
        "movie_1 = ('Toy Story',1995)\n",
        "movie_1"
      ],
      "metadata": {
        "id": "A-3gK65YZJHv"
      },
      "execution_count": null,
      "outputs": []
    },
    {
      "cell_type": "code",
      "source": [
        "movie_2 = ('Monsters Inc.',2001)\n",
        "movie_2"
      ],
      "metadata": {
        "id": "ocU0hyi7ZWsT"
      },
      "execution_count": null,
      "outputs": []
    },
    {
      "cell_type": "code",
      "source": [
        "my_complex_list = []\n",
        "my_complex_list"
      ],
      "metadata": {
        "id": "H59dMJTCYreX"
      },
      "execution_count": null,
      "outputs": []
    },
    {
      "cell_type": "code",
      "source": [
        "my_complex_list.extend([movie_1,movie_2])"
      ],
      "metadata": {
        "id": "ypC0sUpdZfCb"
      },
      "execution_count": null,
      "outputs": []
    },
    {
      "cell_type": "code",
      "source": [
        "my_complex_list"
      ],
      "metadata": {
        "id": "9Mv6oMuEZj5Y"
      },
      "execution_count": null,
      "outputs": []
    },
    {
      "cell_type": "code",
      "source": [
        "my_complex_list[0] # get the zeroth (or first depending on how you count) element in the list"
      ],
      "metadata": {
        "id": "y43M5CsXZpHm"
      },
      "execution_count": null,
      "outputs": []
    },
    {
      "cell_type": "code",
      "source": [
        "my_complex_list[0][1]"
      ],
      "metadata": {
        "id": "rdrHQOwjZquh"
      },
      "execution_count": null,
      "outputs": []
    },
    {
      "cell_type": "markdown",
      "source": [
        "### YOUDO\n",
        "\n",
        "Create a tuple with a first name, last name and age."
      ],
      "metadata": {
        "id": "8VHG8BeRBGhA"
      }
    },
    {
      "cell_type": "markdown",
      "source": [
        "## For loops on lists\n",
        "\n",
        "It's quite easy to loop through a list and execute some code on that list. Here's a few examples to get your comfortable.\n",
        "\n",
        "Please note, for loops are not the most efficient way to accomplish tasks like this, but they are simple to understand. Experienced programmers might prefer list comprehensions coupled with functions.\n",
        "\n",
        "Note that the code that is enclosed in the for loop is indented. Anything not indented is outside of the for loop and will not run for every iteration.\n",
        "\n",
        "some_numbers = [1,2,3,4,5,6,7,8,9,10]\n",
        "\n",
        "for number in some_numbers:\n",
        "  print(f'the current number is {number}') <- this is inde\n",
        "\n",
        "print('we are outside the for loop and run once')"
      ],
      "metadata": {
        "id": "3t-8LxH-0ySV"
      }
    },
    {
      "cell_type": "code",
      "source": [
        "some_numbers = [1,2,3,4,5,6,7,8,9,10]\n",
        "\n",
        "for number in some_numbers:\n",
        "  print(f'the current number is {number}') # this line of code is indented\n",
        "\n",
        "print('we are outside the for loop and run once') # this line of code is NOT indented"
      ],
      "metadata": {
        "id": "iWn1_2IYBwXj"
      },
      "execution_count": null,
      "outputs": []
    },
    {
      "cell_type": "code",
      "source": [
        "for number in some_numbers:\n",
        "  print(f\"adding 10 to {number} gives the result {number + 10}\")"
      ],
      "metadata": {
        "id": "F7j_7DT8B1t_"
      },
      "execution_count": null,
      "outputs": []
    },
    {
      "cell_type": "markdown",
      "source": [
        "the variable name chosen should be descriptive of what it contains, but it is not required to do so."
      ],
      "metadata": {
        "id": "vNA22icTCFZ-"
      }
    },
    {
      "cell_type": "code",
      "source": [
        "for water in some_numbers:\n",
        "  print(f\"adding 10 to {water} gives the result {water + 10}\")"
      ],
      "metadata": {
        "id": "GALlcPNzCQvx"
      },
      "execution_count": null,
      "outputs": []
    },
    {
      "cell_type": "markdown",
      "source": [
        "### YOUDO\n",
        "\n",
        "create a list of the numbers 10,15,20. Run a for loop on this list and add 100 to each number and print the result."
      ],
      "metadata": {
        "id": "sKd6AGYzCZJD"
      }
    },
    {
      "cell_type": "code",
      "source": [],
      "metadata": {
        "id": "1NH_nVsUCtAl"
      },
      "execution_count": null,
      "outputs": []
    },
    {
      "cell_type": "code",
      "source": [
        "i = 0\n",
        "\n",
        "fruit_list = ['apples','oranges','bananas']\n",
        "\n",
        "for fruit in fruit_list:\n",
        "  print(f'the current fruit is {fruit}')\n",
        "  i += 1\n",
        "\n",
        "print(f'we looped {i} times')"
      ],
      "metadata": {
        "id": "TdnYKarZ17Jx"
      },
      "execution_count": null,
      "outputs": []
    },
    {
      "cell_type": "code",
      "source": [
        "for the_number in [1,2,3,4,5,6,42]:\n",
        "  print(f'{the_number} is even = {(the_number%2==0)}')"
      ],
      "metadata": {
        "id": "ZySG_tna0xXJ"
      },
      "execution_count": null,
      "outputs": []
    },
    {
      "cell_type": "markdown",
      "source": [
        "The takeaway here is that a for loop allows us to iterate over a list and execute code for each element in the list."
      ],
      "metadata": {
        "id": "Xva5Wh0Y3CME"
      }
    },
    {
      "cell_type": "markdown",
      "source": [
        "## Brief introduction to Conditional Statements. If statements.\n",
        "\n",
        "What if we want to only operate on certain elements of the list? We can use Python conditions to do so.\n",
        "\n",
        "The code below checks to see if the_number is has a remainder or not, if the remainder (when dividing by 2) is 0 then we conditionally print the number and say that it is even.\n",
        "\n",
        "If statements are also indented to denote what should execute if the statement evaluates to True"
      ],
      "metadata": {
        "id": "i3Q4gcaZC6N8"
      }
    },
    {
      "cell_type": "code",
      "source": [
        "if True:\n",
        "  print('Yes!')"
      ],
      "metadata": {
        "id": "3C0P11tGFZ-V"
      },
      "execution_count": null,
      "outputs": []
    },
    {
      "cell_type": "code",
      "source": [
        "if 1==1:\n",
        "  print('Yes!')"
      ],
      "metadata": {
        "id": "FfI9uGusFUtl"
      },
      "execution_count": null,
      "outputs": []
    },
    {
      "cell_type": "code",
      "source": [
        "if 1!=2:\n",
        "  print('Yes!')"
      ],
      "metadata": {
        "id": "wCKE4SGKFh3r"
      },
      "execution_count": null,
      "outputs": []
    },
    {
      "cell_type": "code",
      "source": [
        "if 2!=2:\n",
        "  print('Yes!')"
      ],
      "metadata": {
        "id": "E_5VRr1OFmKz"
      },
      "execution_count": null,
      "outputs": []
    },
    {
      "cell_type": "markdown",
      "source": [
        "### YOUDO\n",
        "\n",
        "Create an if statement that checks to see if 4 is greater than 2 and print \"It is!\" if the result is True."
      ],
      "metadata": {
        "id": "t-991eUDFpAW"
      }
    },
    {
      "cell_type": "code",
      "source": [
        "# you do"
      ],
      "metadata": {
        "id": "9ygImRfoGRKh"
      },
      "execution_count": 88,
      "outputs": []
    },
    {
      "cell_type": "markdown",
      "source": [
        "## Combining For Loops and Conditionals\n",
        "\n"
      ],
      "metadata": {
        "id": "IDL6rU0kF-of"
      }
    },
    {
      "cell_type": "code",
      "source": [
        "for the_number in [1,2,3,4,5,6,42]:\n",
        "  if (the_number%2==0):\n",
        "    print(f'{the_number} is even')\n"
      ],
      "metadata": {
        "id": "TB3_T0FGDShg",
        "outputId": "36c9d355-5f2d-41e9-f61c-81135d421f61",
        "colab": {
          "base_uri": "https://localhost:8080/"
        }
      },
      "execution_count": 89,
      "outputs": [
        {
          "output_type": "stream",
          "name": "stdout",
          "text": [
            "2 is even\n",
            "4 is even\n",
            "6 is even\n",
            "42 is even\n"
          ]
        }
      ]
    },
    {
      "cell_type": "code",
      "source": [
        "for the_number in [1,2,3,4,5,6,42]:\n",
        "  if (the_number%2!=0):\n",
        "    print(f'{the_number} is odd')"
      ],
      "metadata": {
        "id": "zuSDzk5SDsn0",
        "outputId": "cd6505b8-6788-4b6f-f78e-c5fb56e918f2",
        "colab": {
          "base_uri": "https://localhost:8080/"
        }
      },
      "execution_count": 90,
      "outputs": [
        {
          "output_type": "stream",
          "name": "stdout",
          "text": [
            "1 is odd\n",
            "3 is odd\n",
            "5 is odd\n"
          ]
        }
      ]
    },
    {
      "cell_type": "markdown",
      "source": [
        "If the number does not have a remainder of 0 when divided by 2 it must be odd."
      ],
      "metadata": {
        "id": "DOeS_mkNDu4v"
      }
    },
    {
      "cell_type": "markdown",
      "source": [
        "### YOUDO  \n",
        "\n",
        "Loop on the \"fruit_list\" variable and use an If statement to conditionally print that the element is an apple if it is truly an apple."
      ],
      "metadata": {
        "id": "RUVVJHBbD3QE"
      }
    },
    {
      "cell_type": "code",
      "source": [
        "# you do"
      ],
      "metadata": {
        "id": "WAy3oWAPD_A_"
      },
      "execution_count": 91,
      "outputs": []
    },
    {
      "cell_type": "markdown",
      "source": [
        "# 2.&nbsp;Package import and get database"
      ],
      "metadata": {
        "id": "arrHkjf8bcJw"
      }
    },
    {
      "cell_type": "code",
      "execution_count": null,
      "metadata": {
        "id": "N1yc-iVTXDvv"
      },
      "outputs": [],
      "source": [
        "import pandas as pd\n",
        "import sqlite3\n",
        "from tqdm import tqdm"
      ]
    },
    {
      "cell_type": "code",
      "source": [
        "!wget -qO movies.db https://github.com/matthewpecsok/data_engineering/blob/main/data/movies.sqlite?raw=true\n",
        "\n",
        "!pip -q install --upgrade ipython\n",
        "!pip -q install --upgrade ipython-sql\n",
        "\n",
        "con_movie_source = sqlite3.connect('movies.db')\n",
        "\n",
        "%load_ext sql\n",
        "%sql sqlite:///movies.db\n",
        "\n",
        "%config SqlMagic.autopandas = True\n",
        "%config SqlMagic.feedback = False"
      ],
      "metadata": {
        "id": "WtfwacKRXILU"
      },
      "execution_count": null,
      "outputs": []
    },
    {
      "cell_type": "code",
      "source": [
        "con_movie_source # con is our connection to the database"
      ],
      "metadata": {
        "id": "8IRd1QFKbolu"
      },
      "execution_count": null,
      "outputs": []
    },
    {
      "cell_type": "code",
      "source": [
        "cur_movie_source = con_movie_source.cursor()\n",
        "cur_movie_source # cursor"
      ],
      "metadata": {
        "id": "NuByQBYqexaa"
      },
      "execution_count": null,
      "outputs": []
    },
    {
      "cell_type": "markdown",
      "source": [
        "## Querying with Pandas\n",
        "\n",
        "We can directly query with Pandas and receive a DataFrame as the result of the query.\n",
        "\n",
        "Below we query the movies table and intentionally limit the query to two movies. The resulting dataframe has just two rows as expected.\n",
        "\n",
        "Pandas knows what database to query because we pass the connection object in as the second argument to the read_sql_query function.\n",
        "\n",
        "https://pandas.pydata.org/docs/reference/api/pandas.read_sql_query.html\n",
        "\n",
        "*pandas.read_sql_query(sql, con, index_col=None, coerce_float=True, params=None, parse_dates=None, chunksize=None, dtype=None, dtype_backend=_NoDefault.no_default)*"
      ],
      "metadata": {
        "id": "PULkDr8kxfkn"
      }
    },
    {
      "cell_type": "markdown",
      "source": [
        "## verify the source data\n",
        "\n",
        "We do some basic queries to inspect the source database table and the data in it. This is a crucial step to be sure the data is what is expected."
      ],
      "metadata": {
        "id": "om1KW1o5rRQt"
      }
    },
    {
      "cell_type": "markdown",
      "source": [
        "### inspect the first few rows"
      ],
      "metadata": {
        "id": "5KcgImNNrjhn"
      }
    },
    {
      "cell_type": "code",
      "source": [
        "two_movies = pd.read_sql_query('select * from movies limit 2',con_movie_source)\n",
        "\n",
        "two_movies"
      ],
      "metadata": {
        "id": "Bc0jLR-auqVk"
      },
      "execution_count": null,
      "outputs": []
    },
    {
      "cell_type": "markdown",
      "source": [
        "Now we query again and return all movies as a dataframe. This new dataframe has 4773 movies in it."
      ],
      "metadata": {
        "id": "MB8bAZU6yczR"
      }
    },
    {
      "cell_type": "markdown",
      "source": [
        "### get the total count of rows and columns"
      ],
      "metadata": {
        "id": "B588gVQOrnbo"
      }
    },
    {
      "cell_type": "code",
      "source": [
        "all_movies = pd.read_sql_query('select * from movies',con_movie_source)\n",
        "\n",
        "all_movies.shape"
      ],
      "metadata": {
        "id": "JquDDZ8wyB5V"
      },
      "execution_count": null,
      "outputs": []
    },
    {
      "cell_type": "markdown",
      "source": [
        "### check datatypes and null values."
      ],
      "metadata": {
        "id": "3mn48TbjruFs"
      }
    },
    {
      "cell_type": "code",
      "source": [
        "all_movies.info()"
      ],
      "metadata": {
        "id": "UtIbvHdvqLJ8"
      },
      "execution_count": null,
      "outputs": []
    },
    {
      "cell_type": "markdown",
      "source": [
        "# Creating an extract query along with a transform\n",
        "\n",
        "Using sql combine ET steps.\n",
        "\n",
        "We'll assume the machine learning team doesn't need each individual movie. They just want yearly data and average budget and revenue for the year. So, we can reduce the granularity from specific dates and movies to just aggregated information."
      ],
      "metadata": {
        "id": "mS_nCU64sQbh"
      }
    },
    {
      "cell_type": "code",
      "source": [
        "yearly_aggregates = pd.read_sql_query('''\n",
        "select\n",
        "  strftime('%Y',release_date) as release_year\n",
        "  ,avg(budget) as avg_budget\n",
        "  ,avg(revenue) as avg_revenue\n",
        "  ,count(1) as movie_count\n",
        "from movies\n",
        "group by release_year\n",
        "''',con_movie_source)"
      ],
      "metadata": {
        "id": "BNbgjCgzsP-8"
      },
      "execution_count": null,
      "outputs": []
    },
    {
      "cell_type": "markdown",
      "source": [
        "## show the top 5 row"
      ],
      "metadata": {
        "id": "ut0ABtxbpPP_"
      }
    },
    {
      "cell_type": "code",
      "source": [
        "yearly_aggregates.head()"
      ],
      "metadata": {
        "id": "0EGdJxQHttkT"
      },
      "execution_count": null,
      "outputs": []
    },
    {
      "cell_type": "markdown",
      "source": [
        "# Migrate as Bulk Insert\n",
        "\n",
        "We insert all rows at once. This only works for smaller data migrations. Larger migrations would likely crash due to lack of RAM to hold a larger dataset in memory."
      ],
      "metadata": {
        "id": "mhIC5xWmyEsL"
      }
    },
    {
      "cell_type": "markdown",
      "source": [
        "## Migrating data to a NEW database\n",
        "\n",
        "In data engineering we are often moving data from a SOURCE system to a DESTINATION system. For the purpose of this tutorial we'll assume the movies database is the source.\n",
        "\n",
        "Let's create an entirely new database called \"movie_destination.db\" and practice moving data into it.\n",
        "\n",
        "We'll consider multiple movement strategies. First, we'll just move the entire movie table, then we'll begin thinking about how to move this data in batches."
      ],
      "metadata": {
        "id": "1u3u75BWzXFE"
      }
    },
    {
      "cell_type": "markdown",
      "source": [
        "This code creates a new movie database. You can see it in your files on the left nav bar after you run the code.\n",
        "\n",
        "Also, notice that we have created a new connection object as well as a cursor object both with appropriate names for the destination database."
      ],
      "metadata": {
        "id": "HVSnsGBYz_1g"
      }
    },
    {
      "cell_type": "markdown",
      "source": [
        "## create destination connection and cursor"
      ],
      "metadata": {
        "id": "hSkr4rjfpTpq"
      }
    },
    {
      "cell_type": "code",
      "source": [
        "con_movie_destination = sqlite3.connect('movie_destination.db')\n",
        "cur_movie_destination = con_movie_destination.cursor()"
      ],
      "metadata": {
        "id": "jvF7at_ozWq1"
      },
      "execution_count": null,
      "outputs": []
    },
    {
      "cell_type": "markdown",
      "source": [
        "## drop table (if exists)"
      ],
      "metadata": {
        "id": "t5VPx50VpVuO"
      }
    },
    {
      "cell_type": "code",
      "source": [
        "cur_movie_destination.execute('''\n",
        "drop table if exists yearly_aggregates\n",
        "''')\n",
        "con_movie_destination.commit()"
      ],
      "metadata": {
        "id": "TlXHBnC0urQo"
      },
      "execution_count": null,
      "outputs": []
    },
    {
      "cell_type": "markdown",
      "source": [
        "## create table (if not exists)"
      ],
      "metadata": {
        "id": "UrvEf2bmpYaA"
      }
    },
    {
      "cell_type": "code",
      "source": [
        "cur_movie_destination.execute('''\n",
        "CREATE TABLE IF NOT EXISTS yearly_aggregates (\n",
        "  release_year int,\n",
        "  avg_budget REAL,\n",
        "  avg_revenue REAL,\n",
        "  movie_count INTEGER\n",
        ")\n",
        "''')\n",
        "con_movie_destination.commit()"
      ],
      "metadata": {
        "id": "IsBWTW8guHAU"
      },
      "execution_count": null,
      "outputs": []
    },
    {
      "cell_type": "markdown",
      "source": [
        "## check for existing data"
      ],
      "metadata": {
        "id": "INbMirb1pjNh"
      }
    },
    {
      "cell_type": "code",
      "source": [
        "pd.read_sql_query('select * from yearly_aggregates',con_movie_destination)"
      ],
      "metadata": {
        "id": "MU2f0qLPuRTd"
      },
      "execution_count": null,
      "outputs": []
    },
    {
      "cell_type": "markdown",
      "source": [
        "## delete existing data"
      ],
      "metadata": {
        "id": "CjaImkoVwG-n"
      }
    },
    {
      "cell_type": "code",
      "source": [
        "cur_movie_destination.execute('delete from yearly_aggregates')\n",
        "con_movie_destination.commit()"
      ],
      "metadata": {
        "id": "uCFLDePqwA6v"
      },
      "execution_count": null,
      "outputs": []
    },
    {
      "cell_type": "markdown",
      "source": [
        "ensure the deletion was successful"
      ],
      "metadata": {
        "id": "xvd50iWiwJ6y"
      }
    },
    {
      "cell_type": "code",
      "source": [
        "pd.read_sql_query('select * from yearly_aggregates',con_movie_destination)"
      ],
      "metadata": {
        "id": "XD7JqA50wMau"
      },
      "execution_count": null,
      "outputs": []
    },
    {
      "cell_type": "markdown",
      "source": [
        "## check for the existing years in destination (coalesce)\n",
        "\n",
        "Use coalesce to ensure a value even if the query returns null"
      ],
      "metadata": {
        "id": "qRG0vhUYpl78"
      }
    },
    {
      "cell_type": "code",
      "source": [
        "migrated_movie_years = cur_movie_destination.execute('select coalesce(max(release_year),0) from yearly_aggregates').fetchall()"
      ],
      "metadata": {
        "id": "rSCNbG_5uROD"
      },
      "execution_count": null,
      "outputs": []
    },
    {
      "cell_type": "markdown",
      "source": [
        "The return value is a list of tuples"
      ],
      "metadata": {
        "id": "7soszRckpwZ7"
      }
    },
    {
      "cell_type": "code",
      "source": [
        "migrated_movie_years"
      ],
      "metadata": {
        "id": "RU5qynmhnhmB"
      },
      "execution_count": null,
      "outputs": []
    },
    {
      "cell_type": "markdown",
      "source": [
        "## convert list of tuple to a simple integer value"
      ],
      "metadata": {
        "id": "BusBbya3pzxG"
      }
    },
    {
      "cell_type": "code",
      "source": [
        "migrated_movie_years = migrated_movie_years[0][0] # 0 means no migrated years\n",
        "migrated_movie_years"
      ],
      "metadata": {
        "id": "tvWTrKadu-_2"
      },
      "execution_count": null,
      "outputs": []
    },
    {
      "cell_type": "markdown",
      "source": [
        "#"
      ],
      "metadata": {
        "id": "myRzTYYbp3I5"
      }
    },
    {
      "cell_type": "markdown",
      "source": [
        "## create a dataframe for Loading into Destination db\n",
        "\n",
        "we filter the query to exclude years that have already been migrated."
      ],
      "metadata": {
        "id": "o4Zw8CnUqML-"
      }
    },
    {
      "cell_type": "code",
      "source": [
        "year_data = pd.read_sql_query(f\"\"\"\n",
        "select\n",
        "  CAST(strftime('%Y',release_date) as INTEGER) as release_year,\n",
        "  avg(budget) as avg_budget,\n",
        "  avg(revenue) as avg_revenue,\n",
        "  count(1) as movie_count\n",
        "from movies\n",
        "where release_year > {migrated_movie_years}\n",
        "group by release_year;\n",
        "\"\"\",con=con_movie_source)\n",
        "\n",
        "year_data.shape"
      ],
      "metadata": {
        "id": "7X49zX5008Fm"
      },
      "execution_count": null,
      "outputs": []
    },
    {
      "cell_type": "markdown",
      "source": [
        "This pandas dataframe method takes the data in the dataframe and appends it to the existing table (if it exists) or it creates the table if it doesn't exist in the db specified by the con argument. It excludes the internal dataframe index from being added to the table."
      ],
      "metadata": {
        "id": "tcp7jg1rYfGn"
      }
    },
    {
      "cell_type": "code",
      "source": [
        "year_data.to_sql('yearly_aggregates',if_exists='append',index=False,con=con_movie_destination)"
      ],
      "metadata": {
        "id": "rWDlA-f6xHhZ"
      },
      "execution_count": null,
      "outputs": []
    },
    {
      "cell_type": "markdown",
      "source": [
        "## check migrated data integrity\n",
        "\n",
        "perform queries to ensure the data has been migrated as expected. perform multiple checks"
      ],
      "metadata": {
        "id": "IVJHgXqH1z47"
      }
    },
    {
      "cell_type": "code",
      "source": [
        "pd.read_sql_query('select * from yearly_aggregates limit 5',con_movie_destination)"
      ],
      "metadata": {
        "id": "6ZmG1JuZ1KaU"
      },
      "execution_count": null,
      "outputs": []
    },
    {
      "cell_type": "code",
      "source": [
        "pd.read_sql_query('select min(release_year),max(release_year) from yearly_aggregates',con_movie_destination)"
      ],
      "metadata": {
        "id": "lwWX5I1lweTm"
      },
      "execution_count": null,
      "outputs": []
    },
    {
      "cell_type": "code",
      "source": [
        "pd.read_sql_query('select count(1) as year_count from yearly_aggregates',con_movie_destination)"
      ],
      "metadata": {
        "id": "oHDc_jR2nusY"
      },
      "execution_count": null,
      "outputs": []
    },
    {
      "cell_type": "markdown",
      "source": [
        "# Migrate in mini-batches.\n",
        "\n",
        "We'll migrate each year separately.\n",
        "\n",
        "This has the advantage of reducing the batch size. Each insert is just a single row, but we increase the overall time for inserting as there are many small inserts."
      ],
      "metadata": {
        "id": "Ys6vKOn8xgWP"
      }
    },
    {
      "cell_type": "markdown",
      "source": [
        "## get a list of year tuples"
      ],
      "metadata": {
        "id": "p8FSlTHFwSl2"
      }
    },
    {
      "cell_type": "code",
      "source": [
        "unique_source_years = cur_movie_source.execute(\"select distinct(CAST(strftime('%Y',release_date) as INTEGER)) as unique_release_year from movies order by unique_release_year\").fetchall()\n",
        "unique_source_years[0:5]"
      ],
      "metadata": {
        "id": "mzyvUJE2vDkp"
      },
      "execution_count": null,
      "outputs": []
    },
    {
      "cell_type": "code",
      "source": [
        "cur_movie_destination.execute('delete from yearly_aggregates')\n",
        "con_movie_destination.commit()"
      ],
      "metadata": {
        "id": "CnQECbOowOD4"
      },
      "execution_count": null,
      "outputs": []
    },
    {
      "cell_type": "markdown",
      "source": [
        "## ensure the deletion was successful"
      ],
      "metadata": {
        "id": "gnBjPyK-wOD4"
      }
    },
    {
      "cell_type": "code",
      "source": [
        "pd.read_sql_query('select * from yearly_aggregates',con_movie_destination)"
      ],
      "metadata": {
        "id": "ZiSmUi8_wOD4"
      },
      "execution_count": null,
      "outputs": []
    },
    {
      "cell_type": "markdown",
      "source": [
        "## for loop\n",
        "\n",
        "we query for each year individually. Each iteration through the for loop creates a new row in the database."
      ],
      "metadata": {
        "id": "dl7vU1pXyaem"
      }
    },
    {
      "cell_type": "code",
      "source": [
        "migrated_years = cur_movie_destination.execute(\"select release_year as migrated_years from yearly_aggregates\").fetchall()\n",
        "migrated_years[0:3]"
      ],
      "metadata": {
        "id": "wexTZ1Cky3oX"
      },
      "execution_count": null,
      "outputs": []
    },
    {
      "cell_type": "markdown",
      "source": [
        "a list comprehension, which is a simple and concise way to build a list\n",
        "\n",
        "https://www.w3schools.com/Python/python_lists_comprehension.asp\n"
      ],
      "metadata": {
        "id": "k20xRoQvmx5w"
      }
    },
    {
      "cell_type": "code",
      "source": [
        "unmigrated_years = [x for x in unique_source_years if x not in migrated_years]\n",
        "\n",
        "unmigrated_years[0:4]"
      ],
      "metadata": {
        "id": "5THtJJTHzcjZ"
      },
      "execution_count": null,
      "outputs": []
    },
    {
      "cell_type": "code",
      "source": [
        "for year in tqdm(unique_source_years):\n",
        "  year = year[0] # get int from tuple\n",
        "\n",
        "  year_data = pd.read_sql_query(f\"\"\"\n",
        "  select\n",
        "    CAST(strftime('%Y',release_date) as INTEGER) as release_year,\n",
        "    avg(budget) as avg_budget,\n",
        "    avg(revenue) as avg_revenue,\n",
        "    count(1) as movie_count\n",
        "  from movies\n",
        "  where release_year = {year}\n",
        "  group by release_year;\n",
        "  \"\"\",con=con_movie_source)\n",
        "\n",
        "  year_data.to_sql('yearly_aggregates',if_exists='append',index=False,con=con_movie_destination)"
      ],
      "metadata": {
        "id": "rOI_pdfYwVvI"
      },
      "execution_count": null,
      "outputs": []
    },
    {
      "cell_type": "markdown",
      "source": [
        "## check migrated data integrity\n",
        "\n",
        "perform queries to ensure the data has been migrated as expected. perform multiple checks"
      ],
      "metadata": {
        "id": "EbwCc0t1w5fa"
      }
    },
    {
      "cell_type": "code",
      "source": [
        "pd.read_sql_query('select * from yearly_aggregates limit 5',con_movie_destination)"
      ],
      "metadata": {
        "id": "Dati_LMBw5fj"
      },
      "execution_count": null,
      "outputs": []
    },
    {
      "cell_type": "code",
      "source": [
        "pd.read_sql_query('select min(release_year),max(release_year) from yearly_aggregates',con_movie_destination)"
      ],
      "metadata": {
        "id": "e8-fvzE6w5fj"
      },
      "execution_count": null,
      "outputs": []
    },
    {
      "cell_type": "code",
      "source": [
        "pd.read_sql_query('select count(1) as year_count from yearly_aggregates',con_movie_destination)"
      ],
      "metadata": {
        "id": "AzFF-gfxw5fj"
      },
      "execution_count": null,
      "outputs": []
    },
    {
      "cell_type": "code",
      "source": [
        "import random\n",
        "random.randint(1, 100)"
      ],
      "metadata": {
        "id": "NCL6-y0-43AI"
      },
      "execution_count": null,
      "outputs": []
    },
    {
      "cell_type": "markdown",
      "source": [
        "### YOU DO\n",
        "\n",
        "Migrate the director data from the existing db to a new database.\n",
        "\n",
        "Use .execute and .fetchall to get a list of tuples. Use a for loop to iterate over that list of tuples and print element if the director's name contains 'Steven'"
      ],
      "metadata": {
        "id": "k2sRWgA5GyhQ"
      }
    },
    {
      "cell_type": "code",
      "source": [
        "name = \"Matthew Pecsok\"\n",
        "has_substr = \"Matt\" in name\n",
        "has_substr"
      ],
      "metadata": {
        "id": "SMsJE7KCJX-e"
      },
      "execution_count": null,
      "outputs": []
    },
    {
      "cell_type": "code",
      "source": [
        "directors = cur_movie_source.execute(\"select * from directors\").fetchall()"
      ],
      "metadata": {
        "id": "zUPi0JRNI2zg"
      },
      "execution_count": null,
      "outputs": []
    },
    {
      "cell_type": "code",
      "source": [
        "directors[0:3]"
      ],
      "metadata": {
        "id": "PYv4gVV7JE7e"
      },
      "execution_count": null,
      "outputs": []
    },
    {
      "cell_type": "code",
      "source": [
        "for director in directors:\n",
        "  if \"Steven\" in director[0]:\n",
        "    print(director)"
      ],
      "metadata": {
        "id": "xe8wJVS7KB-S"
      },
      "execution_count": null,
      "outputs": []
    },
    {
      "cell_type": "markdown",
      "source": [
        "### YOUDO\n",
        "\n",
        "Create a new database called steven_directors.\n",
        "It should contain the just a column called name that will contain the directors name.\n",
        "Only migrate directors that start contain \"Steven\" in the name.\n"
      ],
      "metadata": {
        "id": "m5kqmGQMKMRn"
      }
    },
    {
      "cell_type": "code",
      "source": [
        "# Create the new database. Should return a new connection object.\n",
        "# Create a new cursor to the new database using the new connection object.\n",
        "\n",
        "# drop the table if it exists.\n",
        "con_steven_directors.commit()\n",
        "\n",
        "# create the table.\n",
        "con_steven_directors.commit()\n",
        "\n",
        "# fetch all directors from the origin db as a list of tuples.\n",
        "\n",
        "# use a for loop to identify directors with the name Steven\n",
        "# use a parameterized insert to insert each row one at a time in the for loop\n",
        "# cur_steven_directors.execute(\"insert into steven_directors (name) values (?)\",(director[0],))\n",
        "con_steven_directors.commit()\n"
      ],
      "metadata": {
        "id": "QbOVs6DdMHZ_"
      },
      "execution_count": null,
      "outputs": []
    },
    {
      "cell_type": "markdown",
      "source": [
        "Check the migrated data to see if all of the correct directors were migrated."
      ],
      "metadata": {
        "id": "48bEmCESNq3l"
      }
    }
  ]
}