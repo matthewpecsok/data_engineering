{
  "nbformat": 4,
  "nbformat_minor": 0,
  "metadata": {
    "colab": {
      "provenance": [],
      "toc_visible": true,
      "authorship_tag": "ABX9TyMb/ajKZ0S9klTOBz77adng",
      "include_colab_link": true
    },
    "kernelspec": {
      "name": "python3",
      "display_name": "Python 3"
    },
    "language_info": {
      "name": "python"
    }
  },
  "cells": [
    {
      "cell_type": "markdown",
      "metadata": {
        "id": "view-in-github",
        "colab_type": "text"
      },
      "source": [
        "<a href=\"https://colab.research.google.com/github/matthewpecsok/data_engineering/blob/main/tutorials/de_tutorial_2.ipynb\" target=\"_parent\"><img src=\"https://colab.research.google.com/assets/colab-badge.svg\" alt=\"Open In Colab\"/></a>"
      ]
    },
    {
      "cell_type": "markdown",
      "source": [
        "# Data Extraction from a OLTP Source System\n",
        "\n",
        "In this tutorial we'll begin exploring the concept of querying a OLTP database, not for analytics, but rather to start extracting data for downstream data engineering applications."
      ],
      "metadata": {
        "id": "xAiVeVSSlu0E"
      }
    },
    {
      "cell_type": "markdown",
      "source": [
        "**Data Engineering**\n",
        "\n",
        "**Matthew Pecsok 2/10/2023**\n",
        "\n",
        "\n"
      ],
      "metadata": {
        "id": "CKCSeniFldev"
      }
    },
    {
      "cell_type": "markdown",
      "source": [
        "# 1.&nbsp;A quick overview of lists and tuples\n",
        "\n",
        "in python a list is object that can store multiple items, is changeable, and allows duplicate values.\n",
        "\n",
        "A list can begin empty and items can be added to it."
      ],
      "metadata": {
        "id": "bGx_0RHcXUaM"
      }
    },
    {
      "cell_type": "code",
      "source": [
        "import sys"
      ],
      "metadata": {
        "id": "gcLIrRMFmd8Y"
      },
      "execution_count": null,
      "outputs": []
    },
    {
      "cell_type": "code",
      "source": [
        "my_list = [] #create an empty list\n",
        "my_list"
      ],
      "metadata": {
        "id": "uN5f7xlrXtBP",
        "colab": {
          "base_uri": "https://localhost:8080/"
        },
        "outputId": "22302e15-4731-473a-8d46-671657ba7c82"
      },
      "execution_count": null,
      "outputs": [
        {
          "output_type": "execute_result",
          "data": {
            "text/plain": [
              "[]"
            ]
          },
          "metadata": {},
          "execution_count": 5
        }
      ]
    },
    {
      "cell_type": "code",
      "source": [
        "my_list.append('movie_1') # append a single item to the list\n",
        "my_list"
      ],
      "metadata": {
        "id": "ow25R0zNXkDt",
        "colab": {
          "base_uri": "https://localhost:8080/"
        },
        "outputId": "fac2eea9-7138-4e95-f195-5a69787bcb33"
      },
      "execution_count": null,
      "outputs": [
        {
          "output_type": "execute_result",
          "data": {
            "text/plain": [
              "['movie_1']"
            ]
          },
          "metadata": {},
          "execution_count": 6
        }
      ]
    },
    {
      "cell_type": "code",
      "source": [
        "my_list.extend(['movie_2','movie_3']) # concatenate two lists together creating a single list as a result\n",
        "my_list"
      ],
      "metadata": {
        "id": "sGK4V0IxXXaS",
        "colab": {
          "base_uri": "https://localhost:8080/"
        },
        "outputId": "26d28b88-9941-4bf8-d81b-d971532496ef"
      },
      "execution_count": null,
      "outputs": [
        {
          "output_type": "execute_result",
          "data": {
            "text/plain": [
              "['movie_1', 'movie_2', 'movie_3']"
            ]
          },
          "metadata": {},
          "execution_count": 7
        }
      ]
    },
    {
      "cell_type": "code",
      "source": [
        "len(my_list) # how long is out new list?"
      ],
      "metadata": {
        "id": "11LbeMHyYkhw",
        "colab": {
          "base_uri": "https://localhost:8080/"
        },
        "outputId": "bd524244-5bf1-4c53-e791-760544592e6a"
      },
      "execution_count": null,
      "outputs": [
        {
          "output_type": "execute_result",
          "data": {
            "text/plain": [
              "3"
            ]
          },
          "metadata": {},
          "execution_count": 8
        }
      ]
    },
    {
      "cell_type": "markdown",
      "source": [
        "What if we want to store immutable data? We can use a **tuple**. A tuple is similar to a list except it is ordered unchangeable, and allows duplicate values. Notice the parenthesis instead of brackets."
      ],
      "metadata": {
        "id": "7wqa2HMfYsKB"
      }
    },
    {
      "cell_type": "code",
      "source": [
        "movie_1 = ('Toy Story',1995)\n",
        "movie_1"
      ],
      "metadata": {
        "id": "A-3gK65YZJHv",
        "colab": {
          "base_uri": "https://localhost:8080/"
        },
        "outputId": "9a3da77c-89d6-46e1-cf5f-a6046279d83e"
      },
      "execution_count": null,
      "outputs": [
        {
          "output_type": "execute_result",
          "data": {
            "text/plain": [
              "('Toy Story', 1995)"
            ]
          },
          "metadata": {},
          "execution_count": 9
        }
      ]
    },
    {
      "cell_type": "code",
      "source": [
        "movie_2 = ('Monsters Inc.',2001)\n",
        "movie_2"
      ],
      "metadata": {
        "id": "ocU0hyi7ZWsT",
        "colab": {
          "base_uri": "https://localhost:8080/"
        },
        "outputId": "4c360d6a-2b60-4f1f-a15f-2a26a248790f"
      },
      "execution_count": null,
      "outputs": [
        {
          "output_type": "execute_result",
          "data": {
            "text/plain": [
              "('Monsters Inc.', 2001)"
            ]
          },
          "metadata": {},
          "execution_count": 10
        }
      ]
    },
    {
      "cell_type": "code",
      "source": [
        "my_complex_list = []\n",
        "my_complex_list"
      ],
      "metadata": {
        "id": "H59dMJTCYreX",
        "colab": {
          "base_uri": "https://localhost:8080/"
        },
        "outputId": "cc2fcdc6-4af9-453d-cd77-b2ad2be69d13"
      },
      "execution_count": null,
      "outputs": [
        {
          "output_type": "execute_result",
          "data": {
            "text/plain": [
              "[]"
            ]
          },
          "metadata": {},
          "execution_count": 11
        }
      ]
    },
    {
      "cell_type": "code",
      "source": [
        "my_complex_list.extend([movie_1,movie_2])"
      ],
      "metadata": {
        "id": "ypC0sUpdZfCb"
      },
      "execution_count": null,
      "outputs": []
    },
    {
      "cell_type": "code",
      "source": [
        "my_complex_list"
      ],
      "metadata": {
        "id": "9Mv6oMuEZj5Y",
        "colab": {
          "base_uri": "https://localhost:8080/"
        },
        "outputId": "f75b8e12-40a9-4873-de20-524020dc9c86"
      },
      "execution_count": null,
      "outputs": [
        {
          "output_type": "execute_result",
          "data": {
            "text/plain": [
              "[('Toy Story', 1995), ('Monsters Inc.', 2001)]"
            ]
          },
          "metadata": {},
          "execution_count": 13
        }
      ]
    },
    {
      "cell_type": "code",
      "source": [
        "my_complex_list[0] # get the zeroth (or first depending on how you count) element in the list"
      ],
      "metadata": {
        "id": "y43M5CsXZpHm",
        "colab": {
          "base_uri": "https://localhost:8080/"
        },
        "outputId": "50177b2c-3763-4dc6-dd00-23123529b2d6"
      },
      "execution_count": null,
      "outputs": [
        {
          "output_type": "execute_result",
          "data": {
            "text/plain": [
              "('Toy Story', 1995)"
            ]
          },
          "metadata": {},
          "execution_count": 14
        }
      ]
    },
    {
      "cell_type": "code",
      "source": [
        "my_complex_list[0][1]"
      ],
      "metadata": {
        "id": "rdrHQOwjZquh",
        "colab": {
          "base_uri": "https://localhost:8080/"
        },
        "outputId": "04dd5747-f54d-4e10-bf49-c643bd92e589"
      },
      "execution_count": null,
      "outputs": [
        {
          "output_type": "execute_result",
          "data": {
            "text/plain": [
              "1995"
            ]
          },
          "metadata": {},
          "execution_count": 15
        }
      ]
    },
    {
      "cell_type": "markdown",
      "source": [
        "## For loops on lists\n",
        "\n",
        "It's quite easy to loop through a list and execute some code on that list. Here's a few examples to get your comfortable.\n",
        "\n",
        "Please note, for loops are not the most efficient way to accomplish tasks like this, but they are simple to understand."
      ],
      "metadata": {
        "id": "3t-8LxH-0ySV"
      }
    },
    {
      "cell_type": "code",
      "source": [
        "i = 0\n",
        "\n",
        "for fruit in ['apples','oranges','bananas']:\n",
        "  print(f'the current fruit is {fruit}')\n",
        "  i += 1\n",
        "\n",
        "print(f'we looped {i} times')"
      ],
      "metadata": {
        "id": "TdnYKarZ17Jx",
        "colab": {
          "base_uri": "https://localhost:8080/"
        },
        "outputId": "0143ab6d-c10a-40d4-e452-b21a0ea2d6fd"
      },
      "execution_count": null,
      "outputs": [
        {
          "output_type": "stream",
          "name": "stdout",
          "text": [
            "the current fruit is apples\n",
            "the current fruit is oranges\n",
            "the current fruit is bananas\n",
            "we looped 3 times\n"
          ]
        }
      ]
    },
    {
      "cell_type": "code",
      "source": [
        "for the_number in [1,2,3,4,5,6,42]:\n",
        "  print(f'{the_number} is even = {(the_number%2==0)}')"
      ],
      "metadata": {
        "id": "ZySG_tna0xXJ",
        "colab": {
          "base_uri": "https://localhost:8080/"
        },
        "outputId": "b4bb75dc-583f-4fcd-d517-b5758a67f39d"
      },
      "execution_count": null,
      "outputs": [
        {
          "output_type": "stream",
          "name": "stdout",
          "text": [
            "1 is even = False\n",
            "2 is even = True\n",
            "3 is even = False\n",
            "4 is even = True\n",
            "5 is even = False\n",
            "6 is even = True\n",
            "42 is even = True\n"
          ]
        }
      ]
    },
    {
      "cell_type": "markdown",
      "source": [
        "The takeaway here is that a for loop allows us to iterate over a list and execute code for each element in the list."
      ],
      "metadata": {
        "id": "Xva5Wh0Y3CME"
      }
    },
    {
      "cell_type": "markdown",
      "source": [
        "# 2.&nbsp;Package import and get database"
      ],
      "metadata": {
        "id": "arrHkjf8bcJw"
      }
    },
    {
      "cell_type": "code",
      "execution_count": null,
      "metadata": {
        "id": "N1yc-iVTXDvv"
      },
      "outputs": [],
      "source": [
        "import pandas as pd\n",
        "import sqlite3\n",
        "import tqdm"
      ]
    },
    {
      "cell_type": "code",
      "source": [
        "!wget -qO movies.db https://github.com/matthewpecsok/data_engineering/blob/main/data/movies.sqlite?raw=true\n",
        "\n",
        "!pip -q install --upgrade ipython\n",
        "!pip -q install --upgrade ipython-sql\n",
        "\n",
        "con = sqlite3.connect('movies.db')\n",
        "\n",
        "%load_ext sql\n",
        "%sql sqlite:///movies.db\n",
        "\n",
        "%config SqlMagic.autopandas = True\n",
        "%config SqlMagic.feedback = False"
      ],
      "metadata": {
        "id": "WtfwacKRXILU",
        "colab": {
          "base_uri": "https://localhost:8080/"
        },
        "outputId": "7da866d3-dfa1-43c4-a9b7-89092b4c37f5"
      },
      "execution_count": null,
      "outputs": [
        {
          "output_type": "stream",
          "name": "stdout",
          "text": [
            "\u001b[2K     \u001b[90m━━━━━━━━━━━━━━━━━━━━━━━━━━━━━━━━━━━━━━━━\u001b[0m \u001b[32m810.0/810.0 kB\u001b[0m \u001b[31m7.4 MB/s\u001b[0m eta \u001b[36m0:00:00\u001b[0m\n",
            "\u001b[2K     \u001b[90m━━━━━━━━━━━━━━━━━━━━━━━━━━━━━━━━━━━━━━━━\u001b[0m \u001b[32m1.6/1.6 MB\u001b[0m \u001b[31m12.9 MB/s\u001b[0m eta \u001b[36m0:00:00\u001b[0m\n",
            "\u001b[?25h\u001b[31mERROR: pip's dependency resolver does not currently take into account all the packages that are installed. This behaviour is the source of the following dependency conflicts.\n",
            "google-colab 1.0.0 requires ipython==7.34.0, but you have ipython 8.21.0 which is incompatible.\u001b[0m\u001b[31m\n",
            "\u001b[0m"
          ]
        }
      ]
    },
    {
      "cell_type": "code",
      "source": [
        "con # con is our connection to the database"
      ],
      "metadata": {
        "id": "8IRd1QFKbolu",
        "colab": {
          "base_uri": "https://localhost:8080/"
        },
        "outputId": "77143c33-ca49-4da9-9e1b-d266064d73f4"
      },
      "execution_count": null,
      "outputs": [
        {
          "output_type": "execute_result",
          "data": {
            "text/plain": [
              "<sqlite3.Connection at 0x7f2a2ca97e40>"
            ]
          },
          "metadata": {},
          "execution_count": 20
        }
      ]
    },
    {
      "cell_type": "code",
      "source": [
        "cur = con.cursor()\n",
        "cur # cursor"
      ],
      "metadata": {
        "id": "NuByQBYqexaa",
        "colab": {
          "base_uri": "https://localhost:8080/"
        },
        "outputId": "d65706bb-42c5-4410-c70e-dcab1628d18a"
      },
      "execution_count": null,
      "outputs": [
        {
          "output_type": "execute_result",
          "data": {
            "text/plain": [
              "<sqlite3.Cursor at 0x7f2a5b7d7f40>"
            ]
          },
          "metadata": {},
          "execution_count": 21
        }
      ]
    },
    {
      "cell_type": "code",
      "source": [
        "pd.read_sql_query('select * from movies limit 2',con)"
      ],
      "metadata": {
        "id": "Bc0jLR-auqVk",
        "colab": {
          "base_uri": "https://localhost:8080/",
          "height": 323
        },
        "outputId": "337ff20d-f51a-419b-991b-08f359ee6a0b"
      },
      "execution_count": null,
      "outputs": [
        {
          "output_type": "execute_result",
          "data": {
            "text/plain": [
              "      id                            original_title     budget  popularity  \\\n",
              "0  43597                                    Avatar  237000000         150   \n",
              "1  43598  Pirates of the Caribbean: At World's End  300000000         139   \n",
              "\n",
              "  release_date     revenue                                     title  \\\n",
              "0   2009-12-10  2787965087                                    Avatar   \n",
              "1   2007-05-19   961000000  Pirates of the Caribbean: At World's End   \n",
              "\n",
              "   vote_average  vote_count  \\\n",
              "0           7.2       11800   \n",
              "1           6.9        4500   \n",
              "\n",
              "                                            overview  \\\n",
              "0  In the 22nd century, a paraplegic Marine is di...   \n",
              "1  Captain Barbossa, long believed to be dead, ha...   \n",
              "\n",
              "                                          tagline    uid  director_id  \n",
              "0                     Enter the World of Pandora.  19995         4762  \n",
              "1  At the end of the world, the adventure begins.    285         4763  "
            ],
            "text/html": [
              "\n",
              "  <div id=\"df-803bc9dd-60b7-41fd-a137-24fa564e370e\" class=\"colab-df-container\">\n",
              "    <div>\n",
              "<style scoped>\n",
              "    .dataframe tbody tr th:only-of-type {\n",
              "        vertical-align: middle;\n",
              "    }\n",
              "\n",
              "    .dataframe tbody tr th {\n",
              "        vertical-align: top;\n",
              "    }\n",
              "\n",
              "    .dataframe thead th {\n",
              "        text-align: right;\n",
              "    }\n",
              "</style>\n",
              "<table border=\"1\" class=\"dataframe\">\n",
              "  <thead>\n",
              "    <tr style=\"text-align: right;\">\n",
              "      <th></th>\n",
              "      <th>id</th>\n",
              "      <th>original_title</th>\n",
              "      <th>budget</th>\n",
              "      <th>popularity</th>\n",
              "      <th>release_date</th>\n",
              "      <th>revenue</th>\n",
              "      <th>title</th>\n",
              "      <th>vote_average</th>\n",
              "      <th>vote_count</th>\n",
              "      <th>overview</th>\n",
              "      <th>tagline</th>\n",
              "      <th>uid</th>\n",
              "      <th>director_id</th>\n",
              "    </tr>\n",
              "  </thead>\n",
              "  <tbody>\n",
              "    <tr>\n",
              "      <th>0</th>\n",
              "      <td>43597</td>\n",
              "      <td>Avatar</td>\n",
              "      <td>237000000</td>\n",
              "      <td>150</td>\n",
              "      <td>2009-12-10</td>\n",
              "      <td>2787965087</td>\n",
              "      <td>Avatar</td>\n",
              "      <td>7.2</td>\n",
              "      <td>11800</td>\n",
              "      <td>In the 22nd century, a paraplegic Marine is di...</td>\n",
              "      <td>Enter the World of Pandora.</td>\n",
              "      <td>19995</td>\n",
              "      <td>4762</td>\n",
              "    </tr>\n",
              "    <tr>\n",
              "      <th>1</th>\n",
              "      <td>43598</td>\n",
              "      <td>Pirates of the Caribbean: At World's End</td>\n",
              "      <td>300000000</td>\n",
              "      <td>139</td>\n",
              "      <td>2007-05-19</td>\n",
              "      <td>961000000</td>\n",
              "      <td>Pirates of the Caribbean: At World's End</td>\n",
              "      <td>6.9</td>\n",
              "      <td>4500</td>\n",
              "      <td>Captain Barbossa, long believed to be dead, ha...</td>\n",
              "      <td>At the end of the world, the adventure begins.</td>\n",
              "      <td>285</td>\n",
              "      <td>4763</td>\n",
              "    </tr>\n",
              "  </tbody>\n",
              "</table>\n",
              "</div>\n",
              "    <div class=\"colab-df-buttons\">\n",
              "\n",
              "  <div class=\"colab-df-container\">\n",
              "    <button class=\"colab-df-convert\" onclick=\"convertToInteractive('df-803bc9dd-60b7-41fd-a137-24fa564e370e')\"\n",
              "            title=\"Convert this dataframe to an interactive table.\"\n",
              "            style=\"display:none;\">\n",
              "\n",
              "  <svg xmlns=\"http://www.w3.org/2000/svg\" height=\"24px\" viewBox=\"0 -960 960 960\">\n",
              "    <path d=\"M120-120v-720h720v720H120Zm60-500h600v-160H180v160Zm220 220h160v-160H400v160Zm0 220h160v-160H400v160ZM180-400h160v-160H180v160Zm440 0h160v-160H620v160ZM180-180h160v-160H180v160Zm440 0h160v-160H620v160Z\"/>\n",
              "  </svg>\n",
              "    </button>\n",
              "\n",
              "  <style>\n",
              "    .colab-df-container {\n",
              "      display:flex;\n",
              "      gap: 12px;\n",
              "    }\n",
              "\n",
              "    .colab-df-convert {\n",
              "      background-color: #E8F0FE;\n",
              "      border: none;\n",
              "      border-radius: 50%;\n",
              "      cursor: pointer;\n",
              "      display: none;\n",
              "      fill: #1967D2;\n",
              "      height: 32px;\n",
              "      padding: 0 0 0 0;\n",
              "      width: 32px;\n",
              "    }\n",
              "\n",
              "    .colab-df-convert:hover {\n",
              "      background-color: #E2EBFA;\n",
              "      box-shadow: 0px 1px 2px rgba(60, 64, 67, 0.3), 0px 1px 3px 1px rgba(60, 64, 67, 0.15);\n",
              "      fill: #174EA6;\n",
              "    }\n",
              "\n",
              "    .colab-df-buttons div {\n",
              "      margin-bottom: 4px;\n",
              "    }\n",
              "\n",
              "    [theme=dark] .colab-df-convert {\n",
              "      background-color: #3B4455;\n",
              "      fill: #D2E3FC;\n",
              "    }\n",
              "\n",
              "    [theme=dark] .colab-df-convert:hover {\n",
              "      background-color: #434B5C;\n",
              "      box-shadow: 0px 1px 3px 1px rgba(0, 0, 0, 0.15);\n",
              "      filter: drop-shadow(0px 1px 2px rgba(0, 0, 0, 0.3));\n",
              "      fill: #FFFFFF;\n",
              "    }\n",
              "  </style>\n",
              "\n",
              "    <script>\n",
              "      const buttonEl =\n",
              "        document.querySelector('#df-803bc9dd-60b7-41fd-a137-24fa564e370e button.colab-df-convert');\n",
              "      buttonEl.style.display =\n",
              "        google.colab.kernel.accessAllowed ? 'block' : 'none';\n",
              "\n",
              "      async function convertToInteractive(key) {\n",
              "        const element = document.querySelector('#df-803bc9dd-60b7-41fd-a137-24fa564e370e');\n",
              "        const dataTable =\n",
              "          await google.colab.kernel.invokeFunction('convertToInteractive',\n",
              "                                                    [key], {});\n",
              "        if (!dataTable) return;\n",
              "\n",
              "        const docLinkHtml = 'Like what you see? Visit the ' +\n",
              "          '<a target=\"_blank\" href=https://colab.research.google.com/notebooks/data_table.ipynb>data table notebook</a>'\n",
              "          + ' to learn more about interactive tables.';\n",
              "        element.innerHTML = '';\n",
              "        dataTable['output_type'] = 'display_data';\n",
              "        await google.colab.output.renderOutput(dataTable, element);\n",
              "        const docLink = document.createElement('div');\n",
              "        docLink.innerHTML = docLinkHtml;\n",
              "        element.appendChild(docLink);\n",
              "      }\n",
              "    </script>\n",
              "  </div>\n",
              "\n",
              "\n",
              "<div id=\"df-96efed4c-d5be-4df5-8973-f8939f8215eb\">\n",
              "  <button class=\"colab-df-quickchart\" onclick=\"quickchart('df-96efed4c-d5be-4df5-8973-f8939f8215eb')\"\n",
              "            title=\"Suggest charts\"\n",
              "            style=\"display:none;\">\n",
              "\n",
              "<svg xmlns=\"http://www.w3.org/2000/svg\" height=\"24px\"viewBox=\"0 0 24 24\"\n",
              "     width=\"24px\">\n",
              "    <g>\n",
              "        <path d=\"M19 3H5c-1.1 0-2 .9-2 2v14c0 1.1.9 2 2 2h14c1.1 0 2-.9 2-2V5c0-1.1-.9-2-2-2zM9 17H7v-7h2v7zm4 0h-2V7h2v10zm4 0h-2v-4h2v4z\"/>\n",
              "    </g>\n",
              "</svg>\n",
              "  </button>\n",
              "\n",
              "<style>\n",
              "  .colab-df-quickchart {\n",
              "      --bg-color: #E8F0FE;\n",
              "      --fill-color: #1967D2;\n",
              "      --hover-bg-color: #E2EBFA;\n",
              "      --hover-fill-color: #174EA6;\n",
              "      --disabled-fill-color: #AAA;\n",
              "      --disabled-bg-color: #DDD;\n",
              "  }\n",
              "\n",
              "  [theme=dark] .colab-df-quickchart {\n",
              "      --bg-color: #3B4455;\n",
              "      --fill-color: #D2E3FC;\n",
              "      --hover-bg-color: #434B5C;\n",
              "      --hover-fill-color: #FFFFFF;\n",
              "      --disabled-bg-color: #3B4455;\n",
              "      --disabled-fill-color: #666;\n",
              "  }\n",
              "\n",
              "  .colab-df-quickchart {\n",
              "    background-color: var(--bg-color);\n",
              "    border: none;\n",
              "    border-radius: 50%;\n",
              "    cursor: pointer;\n",
              "    display: none;\n",
              "    fill: var(--fill-color);\n",
              "    height: 32px;\n",
              "    padding: 0;\n",
              "    width: 32px;\n",
              "  }\n",
              "\n",
              "  .colab-df-quickchart:hover {\n",
              "    background-color: var(--hover-bg-color);\n",
              "    box-shadow: 0 1px 2px rgba(60, 64, 67, 0.3), 0 1px 3px 1px rgba(60, 64, 67, 0.15);\n",
              "    fill: var(--button-hover-fill-color);\n",
              "  }\n",
              "\n",
              "  .colab-df-quickchart-complete:disabled,\n",
              "  .colab-df-quickchart-complete:disabled:hover {\n",
              "    background-color: var(--disabled-bg-color);\n",
              "    fill: var(--disabled-fill-color);\n",
              "    box-shadow: none;\n",
              "  }\n",
              "\n",
              "  .colab-df-spinner {\n",
              "    border: 2px solid var(--fill-color);\n",
              "    border-color: transparent;\n",
              "    border-bottom-color: var(--fill-color);\n",
              "    animation:\n",
              "      spin 1s steps(1) infinite;\n",
              "  }\n",
              "\n",
              "  @keyframes spin {\n",
              "    0% {\n",
              "      border-color: transparent;\n",
              "      border-bottom-color: var(--fill-color);\n",
              "      border-left-color: var(--fill-color);\n",
              "    }\n",
              "    20% {\n",
              "      border-color: transparent;\n",
              "      border-left-color: var(--fill-color);\n",
              "      border-top-color: var(--fill-color);\n",
              "    }\n",
              "    30% {\n",
              "      border-color: transparent;\n",
              "      border-left-color: var(--fill-color);\n",
              "      border-top-color: var(--fill-color);\n",
              "      border-right-color: var(--fill-color);\n",
              "    }\n",
              "    40% {\n",
              "      border-color: transparent;\n",
              "      border-right-color: var(--fill-color);\n",
              "      border-top-color: var(--fill-color);\n",
              "    }\n",
              "    60% {\n",
              "      border-color: transparent;\n",
              "      border-right-color: var(--fill-color);\n",
              "    }\n",
              "    80% {\n",
              "      border-color: transparent;\n",
              "      border-right-color: var(--fill-color);\n",
              "      border-bottom-color: var(--fill-color);\n",
              "    }\n",
              "    90% {\n",
              "      border-color: transparent;\n",
              "      border-bottom-color: var(--fill-color);\n",
              "    }\n",
              "  }\n",
              "</style>\n",
              "\n",
              "  <script>\n",
              "    async function quickchart(key) {\n",
              "      const quickchartButtonEl =\n",
              "        document.querySelector('#' + key + ' button');\n",
              "      quickchartButtonEl.disabled = true;  // To prevent multiple clicks.\n",
              "      quickchartButtonEl.classList.add('colab-df-spinner');\n",
              "      try {\n",
              "        const charts = await google.colab.kernel.invokeFunction(\n",
              "            'suggestCharts', [key], {});\n",
              "      } catch (error) {\n",
              "        console.error('Error during call to suggestCharts:', error);\n",
              "      }\n",
              "      quickchartButtonEl.classList.remove('colab-df-spinner');\n",
              "      quickchartButtonEl.classList.add('colab-df-quickchart-complete');\n",
              "    }\n",
              "    (() => {\n",
              "      let quickchartButtonEl =\n",
              "        document.querySelector('#df-96efed4c-d5be-4df5-8973-f8939f8215eb button');\n",
              "      quickchartButtonEl.style.display =\n",
              "        google.colab.kernel.accessAllowed ? 'block' : 'none';\n",
              "    })();\n",
              "  </script>\n",
              "</div>\n",
              "\n",
              "    </div>\n",
              "  </div>\n"
            ],
            "application/vnd.google.colaboratory.intrinsic+json": {
              "type": "dataframe",
              "repr_error": "'str' object has no attribute 'empty'"
            }
          },
          "metadata": {},
          "execution_count": 22
        }
      ]
    },
    {
      "cell_type": "code",
      "source": [
        "res = cur.execute('select * from movies').fetchall()\n",
        "len(res)"
      ],
      "metadata": {
        "id": "1-dlecVle4vM",
        "colab": {
          "base_uri": "https://localhost:8080/"
        },
        "outputId": "22cd44af-0e02-4632-b12b-c7bc3e885126"
      },
      "execution_count": null,
      "outputs": [
        {
          "output_type": "execute_result",
          "data": {
            "text/plain": [
              "4773"
            ]
          },
          "metadata": {},
          "execution_count": 23
        }
      ]
    },
    {
      "cell_type": "code",
      "source": [
        "release_date_range = cur.execute(\"select min(release_date),max(release_date),JULIANDAY(max(release_date))-JULIANDAY(min(release_date)) as days from movies\").fetchall()\n",
        "release_date_range"
      ],
      "metadata": {
        "id": "W353m_8VfXXk",
        "colab": {
          "base_uri": "https://localhost:8080/"
        },
        "outputId": "197a7d9a-3ad4-4315-b3b9-8f50f79154a8"
      },
      "execution_count": null,
      "outputs": [
        {
          "output_type": "execute_result",
          "data": {
            "text/plain": [
              "[('1916-09-04', '2017-02-03', 36677.0)]"
            ]
          },
          "metadata": {},
          "execution_count": 24
        }
      ]
    },
    {
      "cell_type": "markdown",
      "source": [
        "If we create an extraction for each date (as we might in a daily batch system) then we will have 36677 batches. That's about 365 batches for each day of the year x 100 years of data (approx)\n",
        "\n",
        "to visualize this process let's print out just the first 4 batches"
      ],
      "metadata": {
        "id": "6y2I0Lv_m7N-"
      }
    },
    {
      "cell_type": "code",
      "source": [
        "for release_date in range(0,4):\n",
        "  result = cur.execute(f\"select * from movies where release_date = date('1916-09-04','+{release_date} days')\").fetchall()\n",
        "  display(result)"
      ],
      "metadata": {
        "id": "2oJD8BEUkh37",
        "colab": {
          "base_uri": "https://localhost:8080/",
          "height": 331
        },
        "outputId": "643ebb9c-efce-41c0-9a09-456672816c6c"
      },
      "execution_count": null,
      "outputs": [
        {
          "output_type": "display_data",
          "data": {
            "text/plain": [
              "[(48189,\n",
              "  'Intolerance',\n",
              "  385907,\n",
              "  3,\n",
              "  '1916-09-04',\n",
              "  8394751,\n",
              "  'Intolerance',\n",
              "  7.4,\n",
              "  60,\n",
              "  'The story of a poor young woman, separated by prejudice from her husband and baby, is interwoven with tales of intolerance from throughout history.',\n",
              "  'The Cruel Hand of Intolerance',\n",
              "  3059,\n",
              "  6968)]"
            ]
          },
          "metadata": {}
        },
        {
          "output_type": "display_data",
          "data": {
            "text/plain": [
              "[]"
            ]
          },
          "metadata": {}
        },
        {
          "output_type": "display_data",
          "data": {
            "text/plain": [
              "[]"
            ]
          },
          "metadata": {}
        },
        {
          "output_type": "display_data",
          "data": {
            "text/plain": [
              "[]"
            ]
          },
          "metadata": {}
        }
      ]
    },
    {
      "cell_type": "markdown",
      "source": [
        "as you can see the first batch has data, but the next 3 do not (empty data respresented by [] <- an empty list.\n",
        "\n",
        "Let's see how long it takes to run all 36,677 batch queries.\n",
        "\n",
        "tqdm gives us a running counter for our for loop"
      ],
      "metadata": {
        "id": "bCyecV6msnvd"
      }
    },
    {
      "cell_type": "markdown",
      "source": [
        "### create a simple list with one tuple for exploration using the data above."
      ],
      "metadata": {
        "id": "EpWpdPYu7s8b"
      }
    },
    {
      "cell_type": "code",
      "source": [
        "movie_list = [(48189,\n",
        "  'Intolerance',\n",
        "  385907,\n",
        "  3,\n",
        "  '1916-09-04',\n",
        "  8394751,\n",
        "  'Intolerance',\n",
        "  7.4,\n",
        "  60,\n",
        "  'The story of a poor young woman, separated by prejudice from her husband and baby, is interwoven with tales of intolerance from throughout history.',\n",
        "  'The Cruel Hand of Intolerance',\n",
        "  3059,\n",
        "  6968)]\n",
        "\n",
        "movie_list[0][1] # the first movie in the list and second column"
      ],
      "metadata": {
        "id": "5ufnjCgswm7a",
        "colab": {
          "base_uri": "https://localhost:8080/",
          "height": 36
        },
        "outputId": "656a21ec-8b82-44f7-bfdc-1c818a674fbb"
      },
      "execution_count": null,
      "outputs": [
        {
          "output_type": "execute_result",
          "data": {
            "text/plain": [
              "'Intolerance'"
            ],
            "application/vnd.google.colaboratory.intrinsic+json": {
              "type": "string"
            }
          },
          "metadata": {},
          "execution_count": 26
        }
      ]
    },
    {
      "cell_type": "code",
      "source": [
        "for release_date_int in tqdm.tqdm(range(0,36678)):\n",
        "  batch = cur.execute(f\"select * from movies where release_date = date('1916-09-04','+{release_date_int} days')\").fetchall()\n",
        "  #print(f' batch for {release_date_int} with size {len(batch)}')"
      ],
      "metadata": {
        "id": "XZQOAj2TOIoM",
        "colab": {
          "base_uri": "https://localhost:8080/"
        },
        "outputId": "db5f0f2c-0741-4819-f50b-60a44c2d13d3"
      },
      "execution_count": null,
      "outputs": [
        {
          "output_type": "stream",
          "name": "stderr",
          "text": [
            "100%|██████████| 36678/36678 [00:53<00:00, 682.85it/s]\n"
          ]
        }
      ]
    },
    {
      "cell_type": "markdown",
      "source": [
        "We will simulate a daily pull by writing a simple for loop and processing all of the movies for each date. In a real system you can imagine this process kicks off each day using the previous day's date to extract all of the movies entered each day.\n",
        "\n",
        "The extraction appears to take about a minute or so.\n",
        "\n",
        "**Of course, we haven't moved the data anywhere yet so that will take additional time.**\n",
        "\n",
        "Let's create a new database with a NEW table that just has the batch number and the movie title as we migrate the data from the existing to this new table.\n",
        "\n",
        "This NEW database is EMPTY (for now)"
      ],
      "metadata": {
        "id": "iIqe_a9Bn0N7"
      }
    },
    {
      "cell_type": "code",
      "source": [
        "con_migrate = sqlite3.connect('movies_migrated.db')\n",
        "cur_migrate = con_migrate.cursor()"
      ],
      "metadata": {
        "id": "DC4MMuodvaRj"
      },
      "execution_count": null,
      "outputs": []
    },
    {
      "cell_type": "code",
      "source": [
        "cur_migrate.execute(\"drop table if exists movie_migration\").fetchall()\n",
        "cur_migrate.execute(\"create table movie_migration(batch_id INT,movie_title TEXT)\").fetchall()"
      ],
      "metadata": {
        "id": "e2vojVujn0jx",
        "colab": {
          "base_uri": "https://localhost:8080/"
        },
        "outputId": "07b297bc-79f1-4d76-ee0c-8c891f1e94a8"
      },
      "execution_count": null,
      "outputs": [
        {
          "output_type": "execute_result",
          "data": {
            "text/plain": [
              "[]"
            ]
          },
          "metadata": {},
          "execution_count": 29
        }
      ]
    },
    {
      "cell_type": "markdown",
      "source": [
        "whenever you are about to run something 36678 times, start with just a few rows to make sure it works as expected."
      ],
      "metadata": {
        "id": "EARCyur8y1Jj"
      }
    },
    {
      "cell_type": "code",
      "source": [
        "for release_date_int in tqdm.tqdm(range(0,3)):\n",
        "  batch = cur.execute(f\"select title from movies where release_date = date('1916-09-04','+{release_date_int} days')\").fetchall()\n",
        "  for i in range(len(batch)): # there may be multiple movies for a given release date, loop for each\n",
        "    display(batch[i])\n",
        "    cur_migrate.execute(f\"insert into movie_migration (batch_id,movie_title) values ({release_date_int},'{batch[i][0]}')\")"
      ],
      "metadata": {
        "id": "-YQAhlUJnzY4",
        "colab": {
          "base_uri": "https://localhost:8080/",
          "height": 72
        },
        "outputId": "f404e89d-b80b-4e24-a248-e094c3b5e81c"
      },
      "execution_count": null,
      "outputs": [
        {
          "output_type": "stream",
          "name": "stderr",
          "text": [
            "\r  0%|          | 0/3 [00:00<?, ?it/s]"
          ]
        },
        {
          "output_type": "display_data",
          "data": {
            "text/plain": [
              "('Intolerance',)"
            ]
          },
          "metadata": {}
        },
        {
          "output_type": "stream",
          "name": "stderr",
          "text": [
            "\r100%|██████████| 3/3 [00:00<00:00, 308.60it/s]\n"
          ]
        }
      ]
    },
    {
      "cell_type": "code",
      "source": [
        "pd.read_sql_query('select * from movie_migration',con_migrate)"
      ],
      "metadata": {
        "id": "zfbPEgQgyDpm",
        "colab": {
          "base_uri": "https://localhost:8080/",
          "height": 81
        },
        "outputId": "40c972d0-4b16-43a1-9512-f682e687b225"
      },
      "execution_count": null,
      "outputs": [
        {
          "output_type": "execute_result",
          "data": {
            "text/plain": [
              "   batch_id  movie_title\n",
              "0         0  Intolerance"
            ],
            "text/html": [
              "\n",
              "  <div id=\"df-01bc36bc-3eff-444f-83ad-601d0ba693ef\" class=\"colab-df-container\">\n",
              "    <div>\n",
              "<style scoped>\n",
              "    .dataframe tbody tr th:only-of-type {\n",
              "        vertical-align: middle;\n",
              "    }\n",
              "\n",
              "    .dataframe tbody tr th {\n",
              "        vertical-align: top;\n",
              "    }\n",
              "\n",
              "    .dataframe thead th {\n",
              "        text-align: right;\n",
              "    }\n",
              "</style>\n",
              "<table border=\"1\" class=\"dataframe\">\n",
              "  <thead>\n",
              "    <tr style=\"text-align: right;\">\n",
              "      <th></th>\n",
              "      <th>batch_id</th>\n",
              "      <th>movie_title</th>\n",
              "    </tr>\n",
              "  </thead>\n",
              "  <tbody>\n",
              "    <tr>\n",
              "      <th>0</th>\n",
              "      <td>0</td>\n",
              "      <td>Intolerance</td>\n",
              "    </tr>\n",
              "  </tbody>\n",
              "</table>\n",
              "</div>\n",
              "    <div class=\"colab-df-buttons\">\n",
              "\n",
              "  <div class=\"colab-df-container\">\n",
              "    <button class=\"colab-df-convert\" onclick=\"convertToInteractive('df-01bc36bc-3eff-444f-83ad-601d0ba693ef')\"\n",
              "            title=\"Convert this dataframe to an interactive table.\"\n",
              "            style=\"display:none;\">\n",
              "\n",
              "  <svg xmlns=\"http://www.w3.org/2000/svg\" height=\"24px\" viewBox=\"0 -960 960 960\">\n",
              "    <path d=\"M120-120v-720h720v720H120Zm60-500h600v-160H180v160Zm220 220h160v-160H400v160Zm0 220h160v-160H400v160ZM180-400h160v-160H180v160Zm440 0h160v-160H620v160ZM180-180h160v-160H180v160Zm440 0h160v-160H620v160Z\"/>\n",
              "  </svg>\n",
              "    </button>\n",
              "\n",
              "  <style>\n",
              "    .colab-df-container {\n",
              "      display:flex;\n",
              "      gap: 12px;\n",
              "    }\n",
              "\n",
              "    .colab-df-convert {\n",
              "      background-color: #E8F0FE;\n",
              "      border: none;\n",
              "      border-radius: 50%;\n",
              "      cursor: pointer;\n",
              "      display: none;\n",
              "      fill: #1967D2;\n",
              "      height: 32px;\n",
              "      padding: 0 0 0 0;\n",
              "      width: 32px;\n",
              "    }\n",
              "\n",
              "    .colab-df-convert:hover {\n",
              "      background-color: #E2EBFA;\n",
              "      box-shadow: 0px 1px 2px rgba(60, 64, 67, 0.3), 0px 1px 3px 1px rgba(60, 64, 67, 0.15);\n",
              "      fill: #174EA6;\n",
              "    }\n",
              "\n",
              "    .colab-df-buttons div {\n",
              "      margin-bottom: 4px;\n",
              "    }\n",
              "\n",
              "    [theme=dark] .colab-df-convert {\n",
              "      background-color: #3B4455;\n",
              "      fill: #D2E3FC;\n",
              "    }\n",
              "\n",
              "    [theme=dark] .colab-df-convert:hover {\n",
              "      background-color: #434B5C;\n",
              "      box-shadow: 0px 1px 3px 1px rgba(0, 0, 0, 0.15);\n",
              "      filter: drop-shadow(0px 1px 2px rgba(0, 0, 0, 0.3));\n",
              "      fill: #FFFFFF;\n",
              "    }\n",
              "  </style>\n",
              "\n",
              "    <script>\n",
              "      const buttonEl =\n",
              "        document.querySelector('#df-01bc36bc-3eff-444f-83ad-601d0ba693ef button.colab-df-convert');\n",
              "      buttonEl.style.display =\n",
              "        google.colab.kernel.accessAllowed ? 'block' : 'none';\n",
              "\n",
              "      async function convertToInteractive(key) {\n",
              "        const element = document.querySelector('#df-01bc36bc-3eff-444f-83ad-601d0ba693ef');\n",
              "        const dataTable =\n",
              "          await google.colab.kernel.invokeFunction('convertToInteractive',\n",
              "                                                    [key], {});\n",
              "        if (!dataTable) return;\n",
              "\n",
              "        const docLinkHtml = 'Like what you see? Visit the ' +\n",
              "          '<a target=\"_blank\" href=https://colab.research.google.com/notebooks/data_table.ipynb>data table notebook</a>'\n",
              "          + ' to learn more about interactive tables.';\n",
              "        element.innerHTML = '';\n",
              "        dataTable['output_type'] = 'display_data';\n",
              "        await google.colab.output.renderOutput(dataTable, element);\n",
              "        const docLink = document.createElement('div');\n",
              "        docLink.innerHTML = docLinkHtml;\n",
              "        element.appendChild(docLink);\n",
              "      }\n",
              "    </script>\n",
              "  </div>\n",
              "\n",
              "\n",
              "    </div>\n",
              "  </div>\n"
            ],
            "application/vnd.google.colaboratory.intrinsic+json": {
              "type": "dataframe",
              "summary": "{\n  \"name\": \"pd\",\n  \"rows\": 1,\n  \"fields\": [\n    {\n      \"column\": \"batch_id\",\n      \"properties\": {\n        \"dtype\": \"number\",\n        \"std\": null,\n        \"min\": 0,\n        \"max\": 0,\n        \"num_unique_values\": 1,\n        \"samples\": [\n          0\n        ],\n        \"semantic_type\": \"\",\n        \"description\": \"\"\n      }\n    },\n    {\n      \"column\": \"movie_title\",\n      \"properties\": {\n        \"dtype\": \"string\",\n        \"num_unique_values\": 1,\n        \"samples\": [\n          \"Intolerance\"\n        ],\n        \"semantic_type\": \"\",\n        \"description\": \"\"\n      }\n    }\n  ]\n}"
            }
          },
          "metadata": {},
          "execution_count": 31
        }
      ]
    },
    {
      "cell_type": "markdown",
      "source": [
        "Great! It worked and inserted the one movie we expected and didn't seem to create any other rows we wouldn't have wanted.\n",
        "\n",
        "Next let's clean the table up and get rid of the rows before re-running."
      ],
      "metadata": {
        "id": "VidtZvSQzAjY"
      }
    },
    {
      "cell_type": "code",
      "source": [
        "cur_migrate.execute(f\"delete from movie_migration\")\n",
        "cur_migrate.execute(f\"select count(1) from movie_migration\").fetchall()"
      ],
      "metadata": {
        "id": "vK4bAo61zLOd",
        "colab": {
          "base_uri": "https://localhost:8080/"
        },
        "outputId": "14ee765e-f66a-4c44-9be6-56a836c31b99"
      },
      "execution_count": null,
      "outputs": [
        {
          "output_type": "execute_result",
          "data": {
            "text/plain": [
              "[(0,)]"
            ]
          },
          "metadata": {},
          "execution_count": 32
        }
      ]
    },
    {
      "cell_type": "markdown",
      "source": [
        "Now run it for ALL records.\n",
        "\n",
        "This process creates an insert statement for EACH DAY. Each batch is then extremely small (often zero records)."
      ],
      "metadata": {
        "id": "NlNh3zpc7BAI"
      }
    },
    {
      "cell_type": "markdown",
      "source": [
        "# all records in one batch"
      ],
      "metadata": {
        "id": "dVgkNvnONoLI"
      }
    },
    {
      "cell_type": "code",
      "source": [
        "cur_migrate.execute(f\"delete from movie_migration\")\n",
        "batch = cur.execute(f\"select 1,title from movies\").fetchall()\n",
        "print(f\"size of batch: {sys.getsizeof(batch)} bytes\")\n",
        "\n",
        "cur_migrate.executemany(f\"insert into movie_migration (batch_id,movie_title) values (?,?)\",batch)\n",
        "cur.execute(f\"select count(1) from movies\").fetchall()"
      ],
      "metadata": {
        "colab": {
          "base_uri": "https://localhost:8080/"
        },
        "id": "PyagwL8KNqLj",
        "outputId": "3b4a0c86-5080-4b04-8e07-2a68215f3678"
      },
      "execution_count": null,
      "outputs": [
        {
          "output_type": "stream",
          "name": "stdout",
          "text": [
            "size of batch: 41880 bytes\n"
          ]
        },
        {
          "output_type": "execute_result",
          "data": {
            "text/plain": [
              "[(4773,)]"
            ]
          },
          "metadata": {},
          "execution_count": 35
        }
      ]
    },
    {
      "cell_type": "markdown",
      "source": [
        "# 3.&nbsp;Small batch insert"
      ],
      "metadata": {
        "id": "2_8t3oXujt1w"
      }
    },
    {
      "cell_type": "code",
      "source": [
        "total_batch_size = 0\n",
        "\n",
        "\n",
        "for release_date_int in tqdm.tqdm(range(0,36678)):\n",
        "  batch = cur.execute(f\"select title from movies where release_date = date('1916-09-04','+{release_date_int} days')\").fetchall()\n",
        "  batch_mem = sys.getsizeof(batch)\n",
        "  total_batch_size += batch_mem\n",
        "\n",
        "  for i in range(len(batch)):\n",
        "    # display(batch[i]) uncomment this to see the tuple of movies that are being inserted\n",
        "    cur_migrate.execute(f\"\"\"insert into movie_migration (batch_id,movie_title) values ({release_date_int},\"{batch[i][0]}\")\"\"\")\n",
        "\n",
        "\n"
      ],
      "metadata": {
        "id": "tdg7gkixzv2_",
        "colab": {
          "base_uri": "https://localhost:8080/"
        },
        "outputId": "527863e2-cb8b-4f33-886b-e2869a7c43ad"
      },
      "execution_count": null,
      "outputs": [
        {
          "output_type": "stream",
          "name": "stderr",
          "text": [
            "100%|██████████| 36678/36678 [00:47<00:00, 764.23it/s]"
          ]
        },
        {
          "output_type": "stream",
          "name": "stdout",
          "text": [
            "2159792\n"
          ]
        },
        {
          "output_type": "stream",
          "name": "stderr",
          "text": [
            "\n"
          ]
        }
      ]
    },
    {
      "cell_type": "code",
      "source": [
        "print(f\"\\ntotal size:{total_batch_size}\")\n",
        "print(f\"\\ntotal size:{round(total_batch_size/1024/1024,2)}MB\")"
      ],
      "metadata": {
        "colab": {
          "base_uri": "https://localhost:8080/"
        },
        "id": "zba9zq9mnyxx",
        "outputId": "7b660e16-73de-4846-9930-55ef2358dddc"
      },
      "execution_count": null,
      "outputs": [
        {
          "output_type": "stream",
          "name": "stdout",
          "text": [
            "\n",
            "total size:2159792\n",
            "\n",
            "total size:2.06MB\n"
          ]
        }
      ]
    },
    {
      "cell_type": "markdown",
      "source": [
        "That took a little over a minute to run. Let's check out our new database and table"
      ],
      "metadata": {
        "id": "zUe-XIXsOn12"
      }
    },
    {
      "cell_type": "code",
      "source": [
        "pd.read_sql_query('select * from movie_migration limit 8',con_migrate)"
      ],
      "metadata": {
        "id": "J2Z9LUJ4OXha"
      },
      "execution_count": null,
      "outputs": []
    },
    {
      "cell_type": "code",
      "source": [
        "pd.read_sql_query('select count(1) from movie_migration',con_migrate)"
      ],
      "metadata": {
        "id": "hGHDo0f12TAJ"
      },
      "execution_count": null,
      "outputs": []
    },
    {
      "cell_type": "code",
      "source": [
        "pd.read_sql_query('select count(1) from movies',con)"
      ],
      "metadata": {
        "id": "MIgYI4y62dmX"
      },
      "execution_count": null,
      "outputs": []
    },
    {
      "cell_type": "markdown",
      "source": [
        "# 4.&nbsp;Large batch insert\n",
        "\n",
        "Create batches by YEAR instead of by day. This greatly increases the batch size. When we processed by day we had over 36,000 batches, many with 0 records. With year we should have only 100 or so batches with many more records in each batch.\n",
        "\n",
        "\n"
      ],
      "metadata": {
        "id": "g1onZpGMc0_R"
      }
    },
    {
      "cell_type": "markdown",
      "source": [
        "\n",
        "\n",
        "*   By Year\n",
        "\n"
      ],
      "metadata": {
        "id": "PwOIT6u9cSdg"
      }
    },
    {
      "cell_type": "code",
      "source": [
        "%%sql select\n",
        "\n",
        "round(avg(count),1) as avg_yearly_release_count,\n",
        "avg(count) as avg_release_count\n",
        "\n",
        "from (\n",
        "  select count(1) as count from movies group by strftime('%Y',release_date)\n",
        "  ) as count"
      ],
      "metadata": {
        "id": "3ll9DTTpa9Vk",
        "colab": {
          "base_uri": "https://localhost:8080/",
          "height": 99
        },
        "outputId": "4e146c07-3d71-4570-f87a-e17ce45aa83b"
      },
      "execution_count": null,
      "outputs": [
        {
          "output_type": "stream",
          "name": "stdout",
          "text": [
            " * sqlite:///movies.db\n"
          ]
        },
        {
          "output_type": "execute_result",
          "data": {
            "text/plain": [
              "   avg_yearly_release_count  avg_release_count\n",
              "0                      53.0          53.033333"
            ],
            "text/html": [
              "\n",
              "  <div id=\"df-ae8cbab5-64d0-478b-af45-87694e1865d0\" class=\"colab-df-container\">\n",
              "    <div>\n",
              "<style scoped>\n",
              "    .dataframe tbody tr th:only-of-type {\n",
              "        vertical-align: middle;\n",
              "    }\n",
              "\n",
              "    .dataframe tbody tr th {\n",
              "        vertical-align: top;\n",
              "    }\n",
              "\n",
              "    .dataframe thead th {\n",
              "        text-align: right;\n",
              "    }\n",
              "</style>\n",
              "<table border=\"1\" class=\"dataframe\">\n",
              "  <thead>\n",
              "    <tr style=\"text-align: right;\">\n",
              "      <th></th>\n",
              "      <th>avg_yearly_release_count</th>\n",
              "      <th>avg_release_count</th>\n",
              "    </tr>\n",
              "  </thead>\n",
              "  <tbody>\n",
              "    <tr>\n",
              "      <th>0</th>\n",
              "      <td>53.0</td>\n",
              "      <td>53.033333</td>\n",
              "    </tr>\n",
              "  </tbody>\n",
              "</table>\n",
              "</div>\n",
              "    <div class=\"colab-df-buttons\">\n",
              "\n",
              "  <div class=\"colab-df-container\">\n",
              "    <button class=\"colab-df-convert\" onclick=\"convertToInteractive('df-ae8cbab5-64d0-478b-af45-87694e1865d0')\"\n",
              "            title=\"Convert this dataframe to an interactive table.\"\n",
              "            style=\"display:none;\">\n",
              "\n",
              "  <svg xmlns=\"http://www.w3.org/2000/svg\" height=\"24px\" viewBox=\"0 -960 960 960\">\n",
              "    <path d=\"M120-120v-720h720v720H120Zm60-500h600v-160H180v160Zm220 220h160v-160H400v160Zm0 220h160v-160H400v160ZM180-400h160v-160H180v160Zm440 0h160v-160H620v160ZM180-180h160v-160H180v160Zm440 0h160v-160H620v160Z\"/>\n",
              "  </svg>\n",
              "    </button>\n",
              "\n",
              "  <style>\n",
              "    .colab-df-container {\n",
              "      display:flex;\n",
              "      gap: 12px;\n",
              "    }\n",
              "\n",
              "    .colab-df-convert {\n",
              "      background-color: #E8F0FE;\n",
              "      border: none;\n",
              "      border-radius: 50%;\n",
              "      cursor: pointer;\n",
              "      display: none;\n",
              "      fill: #1967D2;\n",
              "      height: 32px;\n",
              "      padding: 0 0 0 0;\n",
              "      width: 32px;\n",
              "    }\n",
              "\n",
              "    .colab-df-convert:hover {\n",
              "      background-color: #E2EBFA;\n",
              "      box-shadow: 0px 1px 2px rgba(60, 64, 67, 0.3), 0px 1px 3px 1px rgba(60, 64, 67, 0.15);\n",
              "      fill: #174EA6;\n",
              "    }\n",
              "\n",
              "    .colab-df-buttons div {\n",
              "      margin-bottom: 4px;\n",
              "    }\n",
              "\n",
              "    [theme=dark] .colab-df-convert {\n",
              "      background-color: #3B4455;\n",
              "      fill: #D2E3FC;\n",
              "    }\n",
              "\n",
              "    [theme=dark] .colab-df-convert:hover {\n",
              "      background-color: #434B5C;\n",
              "      box-shadow: 0px 1px 3px 1px rgba(0, 0, 0, 0.15);\n",
              "      filter: drop-shadow(0px 1px 2px rgba(0, 0, 0, 0.3));\n",
              "      fill: #FFFFFF;\n",
              "    }\n",
              "  </style>\n",
              "\n",
              "    <script>\n",
              "      const buttonEl =\n",
              "        document.querySelector('#df-ae8cbab5-64d0-478b-af45-87694e1865d0 button.colab-df-convert');\n",
              "      buttonEl.style.display =\n",
              "        google.colab.kernel.accessAllowed ? 'block' : 'none';\n",
              "\n",
              "      async function convertToInteractive(key) {\n",
              "        const element = document.querySelector('#df-ae8cbab5-64d0-478b-af45-87694e1865d0');\n",
              "        const dataTable =\n",
              "          await google.colab.kernel.invokeFunction('convertToInteractive',\n",
              "                                                    [key], {});\n",
              "        if (!dataTable) return;\n",
              "\n",
              "        const docLinkHtml = 'Like what you see? Visit the ' +\n",
              "          '<a target=\"_blank\" href=https://colab.research.google.com/notebooks/data_table.ipynb>data table notebook</a>'\n",
              "          + ' to learn more about interactive tables.';\n",
              "        element.innerHTML = '';\n",
              "        dataTable['output_type'] = 'display_data';\n",
              "        await google.colab.output.renderOutput(dataTable, element);\n",
              "        const docLink = document.createElement('div');\n",
              "        docLink.innerHTML = docLinkHtml;\n",
              "        element.appendChild(docLink);\n",
              "      }\n",
              "    </script>\n",
              "  </div>\n",
              "\n",
              "\n",
              "    </div>\n",
              "  </div>\n"
            ],
            "application/vnd.google.colaboratory.intrinsic+json": {
              "type": "dataframe",
              "summary": "{\n  \"name\": \"get_ipython()\",\n  \"rows\": 1,\n  \"fields\": [\n    {\n      \"column\": \"avg_yearly_release_count\",\n      \"properties\": {\n        \"dtype\": \"number\",\n        \"std\": null,\n        \"min\": 53.0,\n        \"max\": 53.0,\n        \"num_unique_values\": 1,\n        \"samples\": [\n          53.0\n        ],\n        \"semantic_type\": \"\",\n        \"description\": \"\"\n      }\n    },\n    {\n      \"column\": \"avg_release_count\",\n      \"properties\": {\n        \"dtype\": \"number\",\n        \"std\": null,\n        \"min\": 53.03333333333333,\n        \"max\": 53.03333333333333,\n        \"num_unique_values\": 1,\n        \"samples\": [\n          53.03333333333333\n        ],\n        \"semantic_type\": \"\",\n        \"description\": \"\"\n      }\n    }\n  ]\n}"
            }
          },
          "metadata": {},
          "execution_count": 42
        }
      ]
    },
    {
      "cell_type": "markdown",
      "source": [
        "\n",
        "\n",
        "*   By Date (day)\n",
        "\n"
      ],
      "metadata": {
        "id": "Np5ksRlWcVP0"
      }
    },
    {
      "cell_type": "code",
      "source": [
        "%%sql select\n",
        "round(avg(count),1) as avg_daily_release_count,\n",
        "avg(count) as avg_release_count\n",
        "\n",
        "from (\n",
        "  select count(1) as count from movies group by release_date\n",
        "  ) as count"
      ],
      "metadata": {
        "id": "pjoVbu_lbtie",
        "colab": {
          "base_uri": "https://localhost:8080/",
          "height": 99
        },
        "outputId": "1f1f21ea-c297-4977-8e22-89ce514bf1e3"
      },
      "execution_count": null,
      "outputs": [
        {
          "output_type": "stream",
          "name": "stdout",
          "text": [
            " * sqlite:///movies.db\n"
          ]
        },
        {
          "output_type": "execute_result",
          "data": {
            "text/plain": [
              "   avg_daily_release_count  avg_release_count\n",
              "0                      1.5           1.458741"
            ],
            "text/html": [
              "\n",
              "  <div id=\"df-6fcba11c-030d-4b80-80c9-64cc5cd2bf24\" class=\"colab-df-container\">\n",
              "    <div>\n",
              "<style scoped>\n",
              "    .dataframe tbody tr th:only-of-type {\n",
              "        vertical-align: middle;\n",
              "    }\n",
              "\n",
              "    .dataframe tbody tr th {\n",
              "        vertical-align: top;\n",
              "    }\n",
              "\n",
              "    .dataframe thead th {\n",
              "        text-align: right;\n",
              "    }\n",
              "</style>\n",
              "<table border=\"1\" class=\"dataframe\">\n",
              "  <thead>\n",
              "    <tr style=\"text-align: right;\">\n",
              "      <th></th>\n",
              "      <th>avg_daily_release_count</th>\n",
              "      <th>avg_release_count</th>\n",
              "    </tr>\n",
              "  </thead>\n",
              "  <tbody>\n",
              "    <tr>\n",
              "      <th>0</th>\n",
              "      <td>1.5</td>\n",
              "      <td>1.458741</td>\n",
              "    </tr>\n",
              "  </tbody>\n",
              "</table>\n",
              "</div>\n",
              "    <div class=\"colab-df-buttons\">\n",
              "\n",
              "  <div class=\"colab-df-container\">\n",
              "    <button class=\"colab-df-convert\" onclick=\"convertToInteractive('df-6fcba11c-030d-4b80-80c9-64cc5cd2bf24')\"\n",
              "            title=\"Convert this dataframe to an interactive table.\"\n",
              "            style=\"display:none;\">\n",
              "\n",
              "  <svg xmlns=\"http://www.w3.org/2000/svg\" height=\"24px\" viewBox=\"0 -960 960 960\">\n",
              "    <path d=\"M120-120v-720h720v720H120Zm60-500h600v-160H180v160Zm220 220h160v-160H400v160Zm0 220h160v-160H400v160ZM180-400h160v-160H180v160Zm440 0h160v-160H620v160ZM180-180h160v-160H180v160Zm440 0h160v-160H620v160Z\"/>\n",
              "  </svg>\n",
              "    </button>\n",
              "\n",
              "  <style>\n",
              "    .colab-df-container {\n",
              "      display:flex;\n",
              "      gap: 12px;\n",
              "    }\n",
              "\n",
              "    .colab-df-convert {\n",
              "      background-color: #E8F0FE;\n",
              "      border: none;\n",
              "      border-radius: 50%;\n",
              "      cursor: pointer;\n",
              "      display: none;\n",
              "      fill: #1967D2;\n",
              "      height: 32px;\n",
              "      padding: 0 0 0 0;\n",
              "      width: 32px;\n",
              "    }\n",
              "\n",
              "    .colab-df-convert:hover {\n",
              "      background-color: #E2EBFA;\n",
              "      box-shadow: 0px 1px 2px rgba(60, 64, 67, 0.3), 0px 1px 3px 1px rgba(60, 64, 67, 0.15);\n",
              "      fill: #174EA6;\n",
              "    }\n",
              "\n",
              "    .colab-df-buttons div {\n",
              "      margin-bottom: 4px;\n",
              "    }\n",
              "\n",
              "    [theme=dark] .colab-df-convert {\n",
              "      background-color: #3B4455;\n",
              "      fill: #D2E3FC;\n",
              "    }\n",
              "\n",
              "    [theme=dark] .colab-df-convert:hover {\n",
              "      background-color: #434B5C;\n",
              "      box-shadow: 0px 1px 3px 1px rgba(0, 0, 0, 0.15);\n",
              "      filter: drop-shadow(0px 1px 2px rgba(0, 0, 0, 0.3));\n",
              "      fill: #FFFFFF;\n",
              "    }\n",
              "  </style>\n",
              "\n",
              "    <script>\n",
              "      const buttonEl =\n",
              "        document.querySelector('#df-6fcba11c-030d-4b80-80c9-64cc5cd2bf24 button.colab-df-convert');\n",
              "      buttonEl.style.display =\n",
              "        google.colab.kernel.accessAllowed ? 'block' : 'none';\n",
              "\n",
              "      async function convertToInteractive(key) {\n",
              "        const element = document.querySelector('#df-6fcba11c-030d-4b80-80c9-64cc5cd2bf24');\n",
              "        const dataTable =\n",
              "          await google.colab.kernel.invokeFunction('convertToInteractive',\n",
              "                                                    [key], {});\n",
              "        if (!dataTable) return;\n",
              "\n",
              "        const docLinkHtml = 'Like what you see? Visit the ' +\n",
              "          '<a target=\"_blank\" href=https://colab.research.google.com/notebooks/data_table.ipynb>data table notebook</a>'\n",
              "          + ' to learn more about interactive tables.';\n",
              "        element.innerHTML = '';\n",
              "        dataTable['output_type'] = 'display_data';\n",
              "        await google.colab.output.renderOutput(dataTable, element);\n",
              "        const docLink = document.createElement('div');\n",
              "        docLink.innerHTML = docLinkHtml;\n",
              "        element.appendChild(docLink);\n",
              "      }\n",
              "    </script>\n",
              "  </div>\n",
              "\n",
              "\n",
              "    </div>\n",
              "  </div>\n"
            ],
            "application/vnd.google.colaboratory.intrinsic+json": {
              "type": "dataframe",
              "summary": "{\n  \"name\": \"get_ipython()\",\n  \"rows\": 1,\n  \"fields\": [\n    {\n      \"column\": \"avg_daily_release_count\",\n      \"properties\": {\n        \"dtype\": \"number\",\n        \"std\": null,\n        \"min\": 1.5,\n        \"max\": 1.5,\n        \"num_unique_values\": 1,\n        \"samples\": [\n          1.5\n        ],\n        \"semantic_type\": \"\",\n        \"description\": \"\"\n      }\n    },\n    {\n      \"column\": \"avg_release_count\",\n      \"properties\": {\n        \"dtype\": \"number\",\n        \"std\": null,\n        \"min\": 1.4587408312958434,\n        \"max\": 1.4587408312958434,\n        \"num_unique_values\": 1,\n        \"samples\": [\n          1.4587408312958434\n        ],\n        \"semantic_type\": \"\",\n        \"description\": \"\"\n      }\n    }\n  ]\n}"
            }
          },
          "metadata": {},
          "execution_count": 43
        }
      ]
    },
    {
      "cell_type": "markdown",
      "source": [
        "the average number of movies released each year is 53.\n",
        "\n",
        "The table below attempts to show the tradeoffs between larger and smaller batches.\n",
        "\n",
        "Batch Type | Batch Count | Avg Movies per Batch | Pro | Con\n",
        "--|--|--- | ---| ---\n",
        "by Day | 36,000  | 1.5 | low memory batches | many batches\n",
        "by Year | 100  | 53 | higher memory batches | fewer batches\n"
      ],
      "metadata": {
        "id": "YoUl-Tr9bSac"
      }
    },
    {
      "cell_type": "code",
      "source": [
        "cur_migrate.execute(f\"delete from movie_migration\")\n",
        "cur_migrate.execute(f\"select count(1) from movie_migration\").fetchall()"
      ],
      "metadata": {
        "id": "SKYUnbpL2g9I"
      },
      "execution_count": null,
      "outputs": []
    },
    {
      "cell_type": "code",
      "source": [
        "%%sql select\n",
        "min(strftime('%Y',release_date)) as first_year,\n",
        "max(strftime('%Y',release_date)) as last_year,\n",
        "\n",
        "cast(max(strftime('%Y',release_date)) as int) - cast(min(strftime('%Y',release_date)) as int) as total_years\n",
        " from movies"
      ],
      "metadata": {
        "id": "v9bxRnohdSK2"
      },
      "execution_count": null,
      "outputs": []
    },
    {
      "cell_type": "code",
      "source": [
        "for release_year_int in tqdm.tqdm(range(1916,2018)):\n",
        "  batch = cur.execute(f\"select {release_year_int},title from movies where strftime('%Y',release_date) = cast({release_year_int} as str)\").fetchall()\n",
        "  cur_migrate.executemany(f\"insert into movie_migration (batch_id,movie_title) values (?,?)\",batch)\n",
        "\n",
        "con_migrate.commit()"
      ],
      "metadata": {
        "id": "0v7teQ7_dLzu"
      },
      "execution_count": null,
      "outputs": []
    },
    {
      "cell_type": "markdown",
      "source": [
        "this new batch mode went from 45 seconds to less than a second to insert all the records."
      ],
      "metadata": {
        "id": "FGaQYbgdgfNw"
      }
    },
    {
      "cell_type": "code",
      "source": [
        "pd.read_sql_query(\"select count(1) from movie_migration\",con_migrate)"
      ],
      "metadata": {
        "id": "3fZqrD_wfs-v"
      },
      "execution_count": null,
      "outputs": []
    },
    {
      "cell_type": "code",
      "source": [
        "pd.read_sql_query(\"select * from movie_migration order by batch_id desc limit 10\",con_migrate)"
      ],
      "metadata": {
        "id": "c89j3gIUAzgb"
      },
      "execution_count": null,
      "outputs": []
    },
    {
      "cell_type": "markdown",
      "source": [
        "# 5.&nbsp;Fixed size batch insert\n",
        "\n",
        "Create batches by a specific number of rows. We then have a specific batch size each time (except for the last batch). In this way we create a specific payload size for each batch rather than a variable size as shown in the previous examples.\n"
      ],
      "metadata": {
        "id": "Kp5-KZ2XCDlY"
      }
    },
    {
      "cell_type": "code",
      "source": [
        "cur_migrate.execute(f\"delete from movie_migration\")\n",
        "cur_migrate.execute(f\"select count(1) from movie_migration\").fetchall()"
      ],
      "metadata": {
        "id": "w1fVQ7WbCY8m"
      },
      "execution_count": null,
      "outputs": []
    },
    {
      "cell_type": "code",
      "source": [
        "cur.execute(f\"select count(1) from movies\").fetchall()"
      ],
      "metadata": {
        "id": "gebtNBUwDWdm"
      },
      "execution_count": null,
      "outputs": []
    },
    {
      "cell_type": "markdown",
      "source": [
        "4773 movies. in batches of 1000 that should be 5 batches."
      ],
      "metadata": {
        "id": "fbLTVdL0DYve"
      }
    },
    {
      "cell_type": "code",
      "source": [
        "cur.execute(f\"select cast(cast(count(1) as float)/1000 as float) from movies\").fetchall()"
      ],
      "metadata": {
        "id": "BecjaL_PC4GN"
      },
      "execution_count": null,
      "outputs": []
    },
    {
      "cell_type": "code",
      "source": [
        "fixed_batch = [0, 1000, 2000, 3000, 4000]\n",
        "fixed_batch"
      ],
      "metadata": {
        "id": "EeKHXyzcDiSr"
      },
      "execution_count": null,
      "outputs": []
    },
    {
      "cell_type": "markdown",
      "source": [
        "In this case we take advantage of the limit and offset parameters in sql to create batches of fixed size (1000 rows) in each batch.\n",
        "\n",
        "Fixed batch sizes allows for predictable payload and memory requirements.\n",
        "\n",
        "**LIMIT** forces a specific number of rows to be returned.\n",
        "\n",
        "**OFFSET** sets the number of rows to skip.\n",
        "\n",
        "By keeping limit fixed and increasing OFFSET we can pull\n",
        "\n",
        "row range| batch | OFFSET | LIMIT\n",
        "--|--| -- | --\n",
        "1-1000 | (batch 1) | 0 | 1000\n",
        "1001-2000 | (batch 2) | 1000 | 1000\n",
        "2001-3000 | (batch 3) | 2000 | 1000\n",
        "3001-4000 | (batch 4) | 3000 | 1000\n",
        "4001-5000  | (batch 5) | 4000  | 1000\n"
      ],
      "metadata": {
        "id": "bgCu743OHQqZ"
      }
    },
    {
      "cell_type": "code",
      "source": [
        "for batch_num in tqdm.tqdm(fixed_batch):\n",
        "  batch = cur.execute(f\"select {batch_num},title from movies LIMIT 1000 OFFSET {batch_num}\").fetchall()\n",
        "  cur_migrate.executemany(f\"insert into movie_migration (batch_id,movie_title) values (?,?)\",batch)\n",
        "\n",
        "con_migrate.commit()"
      ],
      "metadata": {
        "id": "s7p0sq7SCCrU"
      },
      "execution_count": null,
      "outputs": []
    },
    {
      "cell_type": "code",
      "source": [
        "pd.read_sql_query(\"select count(1),batch_id from movie_migration group by batch_id\",con_migrate)"
      ],
      "metadata": {
        "id": "ZN017ji9EvAs"
      },
      "execution_count": null,
      "outputs": []
    },
    {
      "cell_type": "code",
      "source": [
        "%%sql select\n",
        "count(1),batch_id from movie_migration group by batch_id"
      ],
      "metadata": {
        "id": "UtEjKEWJEjUH"
      },
      "execution_count": null,
      "outputs": []
    },
    {
      "cell_type": "markdown",
      "source": [
        "# 6.&nbsp;Conclusion\n",
        "\n",
        "Moving data between two databases means that we need to break our data up into groups of rows aka batches. Trying to do one enormous batch would generally overwhelm our system resources.\n",
        "\n",
        "* **Small Batches**: By choosing many small batches we reduce memory requirements for each batch, but we increase the number of batches which if latency is a concern may be a problem.\n",
        "\n",
        "*  **Large Batches**: By choosing large batches we increase memory requirements for each batch, but we decrease the total number of trips to the database which can reduce the impact of latency.\n",
        "\n",
        "* **Fixed Batches**: can force a specific number of rows into the payload. This can help create a standardized data pull for each batch rather than a variable size as the previous two example showed."
      ],
      "metadata": {
        "id": "hm9WvbjNgwEO"
      }
    }
  ]
}