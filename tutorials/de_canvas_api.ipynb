{
  "nbformat": 4,
  "nbformat_minor": 0,
  "metadata": {
    "colab": {
      "provenance": [],
      "include_colab_link": true
    },
    "kernelspec": {
      "name": "python3",
      "display_name": "Python 3"
    },
    "language_info": {
      "name": "python"
    }
  },
  "cells": [
    {
      "cell_type": "markdown",
      "metadata": {
        "id": "view-in-github",
        "colab_type": "text"
      },
      "source": [
        "<a href=\"https://colab.research.google.com/github/matthewpecsok/data_engineering/blob/main/tutorials/de_canvas_api.ipynb\" target=\"_parent\"><img src=\"https://colab.research.google.com/assets/colab-badge.svg\" alt=\"Open In Colab\"/></a>"
      ]
    },
    {
      "cell_type": "markdown",
      "source": [
        "import packages"
      ],
      "metadata": {
        "id": "29WHzPDSoJr9"
      }
    },
    {
      "cell_type": "code",
      "source": [
        "from google.colab import userdata\n",
        "import requests\n",
        "import json\n",
        "import pandas as pd\n"
      ],
      "metadata": {
        "id": "uHQdkxxymvfD"
      },
      "execution_count": null,
      "outputs": []
    },
    {
      "cell_type": "markdown",
      "source": [
        "import your canvas bearer token"
      ],
      "metadata": {
        "id": "uE8_WZaQoCdO"
      }
    },
    {
      "cell_type": "code",
      "source": [
        "access_token = userdata.get('canvas')"
      ],
      "metadata": {
        "id": "PxI8B4qaoIbg"
      },
      "execution_count": null,
      "outputs": []
    },
    {
      "cell_type": "code",
      "source": [
        "# Set the headers for the request. This is just a dictionary.\n",
        "headers = {\n",
        "    'Authorization': f'Bearer {access_token}'\n",
        "}"
      ],
      "metadata": {
        "id": "9a9IvSX_oMdP"
      },
      "execution_count": null,
      "outputs": []
    },
    {
      "cell_type": "code",
      "source": [
        "# Set the URL for the request\n",
        "url = 'https://utah.instructure.com/api/v1/courses'"
      ],
      "metadata": {
        "id": "sBBC2XX5oWRf"
      },
      "execution_count": null,
      "outputs": []
    },
    {
      "cell_type": "markdown",
      "source": [
        "we pass the url (the endpoint) we want to connect to, and the header with our token so the site can authenticate and authorize us."
      ],
      "metadata": {
        "id": "MNsRiWBLoYPJ"
      }
    },
    {
      "cell_type": "code",
      "source": [
        "# Make the request\n",
        "response = requests.get(url, headers=headers)\n",
        "\n",
        "response #if it worked we get a 200 http response."
      ],
      "metadata": {
        "id": "dRmqaCeDoXNw"
      },
      "execution_count": null,
      "outputs": []
    },
    {
      "cell_type": "markdown",
      "source": [
        "check the response and programmtically check for a 200, if we received a 200 turn the JSON response into a list of dictionaries, otherwise print an error message."
      ],
      "metadata": {
        "id": "RJrK_acYopMp"
      }
    },
    {
      "cell_type": "code",
      "execution_count": null,
      "metadata": {
        "id": "_MkVSzNTmKQJ"
      },
      "outputs": [],
      "source": [
        "# Check if the request was successful 200 is a successful response all others are not.\n",
        "if response.status_code == 200:\n",
        "    # Parse the JSON response into a list of dictionaries\n",
        "    courses = response.json()\n",
        "else:\n",
        "    # Print an error message\n",
        "    print('Error retrieving courses: {}'.format(response.status_code))\n"
      ]
    },
    {
      "cell_type": "code",
      "source": [
        "type(courses) # this is a list of dictionaries (a python object)"
      ],
      "metadata": {
        "id": "AqC3uf3mnjol"
      },
      "execution_count": null,
      "outputs": []
    },
    {
      "cell_type": "code",
      "source": [
        "len(courses)"
      ],
      "metadata": {
        "id": "zLhELxkDqsTS"
      },
      "execution_count": null,
      "outputs": []
    },
    {
      "cell_type": "code",
      "source": [
        "for course in courses:\n",
        "  print(type(course))"
      ],
      "metadata": {
        "id": "uOxJvbVpqo6h"
      },
      "execution_count": null,
      "outputs": []
    },
    {
      "cell_type": "code",
      "source": [
        "# Print the courses\n",
        "for course in courses:\n",
        "    print(course['name'])"
      ],
      "metadata": {
        "id": "axaKpziIox6g"
      },
      "execution_count": null,
      "outputs": []
    },
    {
      "cell_type": "code",
      "source": [
        "json_courses = json.dumps(courses) # this becomes just text and can be written to a file as JSON\n",
        "json_courses"
      ],
      "metadata": {
        "id": "FIdQftgXnDC_"
      },
      "execution_count": null,
      "outputs": []
    },
    {
      "cell_type": "code",
      "source": [
        "with open(\"courses.json\", \"w\") as outfile:\n",
        "    json.dump(json_courses, outfile)"
      ],
      "metadata": {
        "id": "GZPLZpa9nRZL"
      },
      "execution_count": null,
      "outputs": []
    },
    {
      "cell_type": "markdown",
      "source": [
        "alternately, let's turn it into a dataframe"
      ],
      "metadata": {
        "id": "DEd4uUftpSJB"
      }
    },
    {
      "cell_type": "code",
      "source": [
        "courses_df = pd.DataFrame(courses)\n",
        "courses_df"
      ],
      "metadata": {
        "id": "EWEKySBYpRKN"
      },
      "execution_count": null,
      "outputs": []
    },
    {
      "cell_type": "markdown",
      "source": [],
      "metadata": {
        "id": "9KpRD2FVoA6t"
      }
    },
    {
      "cell_type": "code",
      "source": [
        "course_id = 932332"
      ],
      "metadata": {
        "id": "TEtbeq2Gp_O9"
      },
      "execution_count": null,
      "outputs": []
    },
    {
      "cell_type": "code",
      "source": [
        "# Send the GET request to list all assignments\n",
        "response = requests.get(\n",
        "    f\"https://utah.instructure.com/api/v1/courses/{course_id}/students\",\n",
        "    headers=headers,\n",
        ")\n",
        "\n",
        "# Check if the request was successful\n",
        "if response.status_code == 200:\n",
        "    student_list = response.json()\n",
        "else:\n",
        "    print(f\"Error: {response.status_code}\")"
      ],
      "metadata": {
        "id": "3AXsXvHUp8ju"
      },
      "execution_count": null,
      "outputs": []
    },
    {
      "cell_type": "code",
      "source": [
        "for student in student_list:\n",
        "  print(student['name'])"
      ],
      "metadata": {
        "colab": {
          "base_uri": "https://localhost:8080/"
        },
        "id": "UgKJV5JdvUdE",
        "outputId": "d5957721-02e1-4c98-c5e5-93088d74ac76"
      },
      "execution_count": null,
      "outputs": [
        {
          "output_type": "stream",
          "name": "stdout",
          "text": [
            "AFSHA BEGUM\n",
            "NIKHIL BHAVANASI\n",
            "KIM BUESSER\n",
            "ADAM BUSHMAN\n",
            "ETHAN CHRISTENSEN\n",
            "APOORVA DHARADHAR\n",
            "ARCHIT DUDEJA\n",
            "KAM DUKENBAEVA\n",
            "TOHEEB EKUNDAYO\n",
            "Michelle Gordon\n",
            "BROOKE GREENE\n",
            "RJ HAZEN\n",
            "MICHAEL HERMAN\n",
            "SAM Im\n",
            "SANKET JANOLKAR\n",
            "JASMINE JHUANG\n",
            "SHREEJA KAPOOR\n",
            "JESSICA KERSEY\n",
            "IZHAAR KHAN\n",
            "BAOMINH LE\n",
            "JAKE MERRITT\n",
            "NIKHIL MOHAPATRA\n",
            "GAUTAM NAIR\n",
            "OLOLADE OLAITAN\n",
            "BRYCE ORTON\n",
            "Venkata Naga Satya Kiran Pasupuleti\n",
            "AMIT KUMAR SAHU\n",
            "SUJAN SHAHI\n",
            "SCOTT SILVERSTEIN\n",
            "PRIYANKER RAO TAKKALAPELLI\n",
            "NARENDRA TATI\n",
            "GOUTHAMI VANATHADUPULA\n",
            "ANDREW WALTON\n",
            "ETHAN WILKINSON\n"
          ]
        }
      ]
    }
  ]
}