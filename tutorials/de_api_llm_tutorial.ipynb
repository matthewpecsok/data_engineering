{
  "nbformat": 4,
  "nbformat_minor": 0,
  "metadata": {
    "colab": {
      "provenance": [],
      "gpuType": "T4",
      "authorship_tag": "ABX9TyNI8sCZVkoeIVb50W+JbZgY",
      "include_colab_link": true
    },
    "kernelspec": {
      "name": "python3",
      "display_name": "Python 3"
    },
    "language_info": {
      "name": "python"
    },
    "accelerator": "GPU"
  },
  "cells": [
    {
      "cell_type": "markdown",
      "metadata": {
        "id": "view-in-github",
        "colab_type": "text"
      },
      "source": [
        "<a href=\"https://colab.research.google.com/github/matthewpecsok/data_engineering/blob/main/tutorials/de_api_llm_tutorial.ipynb\" target=\"_parent\"><img src=\"https://colab.research.google.com/assets/colab-badge.svg\" alt=\"Open In Colab\"/></a>"
      ]
    },
    {
      "cell_type": "markdown",
      "source": [
        "# APIs and LLMs Tutorial\n",
        "\n",
        "This notebook is intended to be used as a template notebook for the homework assingment on APIs and LLMs. You may use all of the code provided.\n",
        "\n",
        "Make sure your runtime is set to a GPU or TPU!"
      ],
      "metadata": {
        "id": "1-gFvLjORE9X"
      }
    },
    {
      "cell_type": "markdown",
      "source": [
        "## Import the google places api token"
      ],
      "metadata": {
        "id": "2c8Gn9SfRVzr"
      }
    },
    {
      "cell_type": "code",
      "execution_count": null,
      "metadata": {
        "id": "JMTZ64XQqD6f"
      },
      "outputs": [],
      "source": [
        "from google.colab import userdata\n",
        "API_KEY = userdata.get('google_maps_api')"
      ]
    },
    {
      "cell_type": "code",
      "source": [
        "import requests"
      ],
      "metadata": {
        "id": "Oz5uS7z7rvvB"
      },
      "execution_count": null,
      "outputs": []
    },
    {
      "cell_type": "markdown",
      "source": [
        "## Define the business name\n",
        "\n",
        "this is the name of the business we will identify with the findplace endpoint."
      ],
      "metadata": {
        "id": "aMvj1Vw0RmGw"
      }
    },
    {
      "cell_type": "code",
      "source": [
        "BUSINESS_NAME = 'sweetaly gelato fifteenth and fifteenth utah'"
      ],
      "metadata": {
        "id": "2cAObhhmRdKD"
      },
      "execution_count": null,
      "outputs": []
    },
    {
      "cell_type": "markdown",
      "source": [
        "## Use the findplace api endpoint\n",
        "\n",
        "We need to identify the place_id of the given business. we'll use the findplace endpoint to learn the unique identifier for the business.\n",
        "\n",
        "Note using common name may return multiple candidate places, we'll assume the first one is the correct business.\n",
        "\n",
        "We use a get request and the url with the business name and api key\n",
        "\n",
        "We take the response and extract the json data from it."
      ],
      "metadata": {
        "id": "xF35fhZ-Rtol"
      }
    },
    {
      "cell_type": "code",
      "source": [
        "find_place_url = f\"https://maps.googleapis.com/maps/api/place/findplacefromtext/json?input={BUSINESS_NAME}&inputtype=textquery&key={API_KEY}\"\n",
        "response = requests.get(find_place_url)\n",
        "json_response = response.json()\n",
        "json_response"
      ],
      "metadata": {
        "id": "N7opGbUeRk8w"
      },
      "execution_count": null,
      "outputs": []
    },
    {
      "cell_type": "markdown",
      "source": [
        "get the list of candidates from the dictionary key 'candidates'. if candidates isn't found return an empty list."
      ],
      "metadata": {
        "id": "KmGts55jTioV"
      }
    },
    {
      "cell_type": "code",
      "source": [
        "candidates = json_response.get('candidates', [])\n",
        "candidates"
      ],
      "metadata": {
        "id": "-9nVej1oSVnw"
      },
      "execution_count": null,
      "outputs": []
    },
    {
      "cell_type": "markdown",
      "source": [
        "return '' if we cannot find the place id key. assume the 1st element is the one we want."
      ],
      "metadata": {
        "id": "EP0rGhOuTTla"
      }
    },
    {
      "cell_type": "code",
      "source": [
        "place_id = candidates[0].get('place_id','')\n",
        "place_id"
      ],
      "metadata": {
        "id": "Wo8pkvkySgW4"
      },
      "execution_count": null,
      "outputs": []
    },
    {
      "cell_type": "markdown",
      "source": [
        "ok great, we have a placeid (Google's unique identifier for this business)\n",
        "\n",
        "Let's use Google's API again to retrieve the reviews for the place."
      ],
      "metadata": {
        "id": "9abDQV5FTteG"
      }
    },
    {
      "cell_type": "markdown",
      "source": [
        "## Retrieve Business Reviews\n",
        "\n",
        "We now simplify and and reduce the number of steps for to extract the reviews in a line of code rather than many lines."
      ],
      "metadata": {
        "id": "BWqK4XBHT2Nx"
      }
    },
    {
      "cell_type": "code",
      "source": [
        "details_url = f\"https://maps.googleapis.com/maps/api/place/details/json?place_id={place_id}&fields=reviews&key={API_KEY}\"\n",
        "response = requests.get(details_url)\n",
        "reviews = response.json().get('result', {}).get('reviews', [])"
      ],
      "metadata": {
        "id": "1ufeSX9jT4AV"
      },
      "execution_count": null,
      "outputs": []
    },
    {
      "cell_type": "code",
      "source": [
        "reviews"
      ],
      "metadata": {
        "id": "eqD1r5R0UGTS"
      },
      "execution_count": null,
      "outputs": []
    },
    {
      "cell_type": "markdown",
      "source": [
        "# Hugging Face Setups\n",
        "\n",
        "This code will import the LLama model. It will take while. It's quite large.\n",
        "\n",
        "We import the required packages, define the token variable and create a pipeline object. A pipeline defines what the model will do which model to use, what the token is and to use the GPU (device_map) if it's available."
      ],
      "metadata": {
        "id": "t0DKgpz6yhfa"
      }
    },
    {
      "cell_type": "code",
      "source": [
        "import torch\n",
        "from transformers import pipeline\n",
        "\n",
        "HF_TOKEN = userdata.get('HF_TOKEN') # Your token must be in this secret.\n",
        "\n",
        "pipe = pipeline(\"text-generation\", \"meta-llama/Meta-Llama-3-8B-Instruct\", torch_dtype=torch.bfloat16, device_map=\"auto\",token=HF_TOKEN)"
      ],
      "metadata": {
        "id": "uQNl1r3gybUB"
      },
      "execution_count": null,
      "outputs": []
    },
    {
      "cell_type": "markdown",
      "source": [
        "## Process a single review\n",
        "\n",
        "For now let's process just one review to get comfortable with the workflow"
      ],
      "metadata": {
        "id": "teCNuZB8zBjI"
      }
    },
    {
      "cell_type": "code",
      "source": [
        "review = reviews[0]['text']\n",
        "review"
      ],
      "metadata": {
        "id": "XzeHx5GNzeWM"
      },
      "execution_count": null,
      "outputs": []
    },
    {
      "cell_type": "markdown",
      "source": [
        "## LLM chat setups\n",
        "\n",
        "create a chat list defining what we want the LLM to accomplish, and what content to be used.\n",
        "\n",
        "The dictionary with role = system defines the behavior we intend.\n",
        "The dictionary with role = user is our review text to be evaluated."
      ],
      "metadata": {
        "id": "DAxJUWfVVKXo"
      }
    },
    {
      "cell_type": "code",
      "source": [
        "chat = [\n",
        "    {\"role\": \"system\", \"content\": \"What specific flavors of gelato were mentioned? Return a list of strings with each flavor an element. If none were mentioned return a list with an element saying 'flavor-missing' only return the list. nothing else.\"},\n",
        "    {\"role\": \"user\", \"content\": review}\n",
        "]\n",
        "\n",
        "chat"
      ],
      "metadata": {
        "id": "W0PC_EzXzDjs"
      },
      "execution_count": null,
      "outputs": []
    },
    {
      "cell_type": "markdown",
      "source": [
        "## Run the pipeline\n",
        "\n",
        "This will return the generated text acting on the text provided.\n",
        "\n",
        "The return is a STRING, but it looks like a list. We'll need to convert it."
      ],
      "metadata": {
        "id": "nG7d5H1iVpPx"
      }
    },
    {
      "cell_type": "code",
      "source": [
        "chat_response = pipe(chat, max_new_tokens=512)\n",
        "flavor_list_string = chat_response[0]['generated_text'][-1]['content']\n",
        "print(flavor_list_string)"
      ],
      "metadata": {
        "id": "5vqz3jX-ypxi"
      },
      "execution_count": null,
      "outputs": []
    },
    {
      "cell_type": "code",
      "source": [
        "type(flavor_list_string)"
      ],
      "metadata": {
        "id": "QoYV5aoK0anW"
      },
      "execution_count": null,
      "outputs": []
    },
    {
      "cell_type": "markdown",
      "source": [
        "We'll need a new package to convert the string into an actual python list object.\n",
        "\n",
        "This package literally interprets the string. This literal interpretion results in a list object being created."
      ],
      "metadata": {
        "id": "ZOZ0n-YcWQfz"
      }
    },
    {
      "cell_type": "code",
      "source": [
        "import ast\n",
        "flavor_list = ast.literal_eval(flavor_list_string)"
      ],
      "metadata": {
        "id": "aiosTx-u1LE9"
      },
      "execution_count": null,
      "outputs": []
    },
    {
      "cell_type": "code",
      "source": [
        "flavor_list"
      ],
      "metadata": {
        "id": "DWtKnd95Wdua"
      },
      "execution_count": null,
      "outputs": []
    },
    {
      "cell_type": "code",
      "source": [
        "type(flavor_list)"
      ],
      "metadata": {
        "id": "PRigLGRyWfqA"
      },
      "execution_count": null,
      "outputs": []
    },
    {
      "cell_type": "markdown",
      "source": [
        "## Update the reviews with the chat response\n",
        "\n",
        "put the list of flavors into the reviews dictionary\n",
        "\n",
        "For the correct review, place the extract list of flavors mentioned into the review. We pulled the first review, so we can put the list into the first review."
      ],
      "metadata": {
        "id": "IDiyEpCSW0D8"
      }
    },
    {
      "cell_type": "code",
      "source": [
        "reviews[0]['flavors'] = flavor_list"
      ],
      "metadata": {
        "id": "eWMBTN670ijD"
      },
      "execution_count": null,
      "outputs": []
    },
    {
      "cell_type": "code",
      "source": [
        "reviews[0]"
      ],
      "metadata": {
        "id": "x_fZXRXq0jVl"
      },
      "execution_count": null,
      "outputs": []
    },
    {
      "cell_type": "code",
      "source": [
        "import pandas as pd"
      ],
      "metadata": {
        "id": "w8_lu4Wzkjb1"
      },
      "execution_count": null,
      "outputs": []
    },
    {
      "cell_type": "code",
      "source": [
        "reviews_df = pd.DataFrame(reviews)\n",
        "reviews_df"
      ],
      "metadata": {
        "id": "dcqGXM97XgUy"
      },
      "execution_count": null,
      "outputs": []
    },
    {
      "cell_type": "markdown",
      "source": [
        "## Explode the dataframe\n",
        "\n",
        "That sounds dangerous. It's not. It simply creates multiple rows for the list object column. So, we get a row for each flavor. This will be the format we need for inserting into the database."
      ],
      "metadata": {
        "id": "I27JXuTfX21R"
      }
    },
    {
      "cell_type": "code",
      "source": [
        "exploded_df = reviews_df.explode('flavors')\n",
        "exploded_df"
      ],
      "metadata": {
        "id": "yjhza5OiYENK"
      },
      "execution_count": null,
      "outputs": []
    },
    {
      "cell_type": "code",
      "source": [
        "from tqdm import tqdm"
      ],
      "metadata": {
        "id": "rseDevNN1_E1"
      },
      "execution_count": null,
      "outputs": []
    },
    {
      "cell_type": "markdown",
      "source": [
        "# How do we loop over all the reviews?\n",
        "\n",
        "You can use a for loop to iterate over all of the reviews for the business."
      ],
      "metadata": {
        "id": "lMV0Rn8oYfFf"
      }
    },
    {
      "cell_type": "code",
      "source": [
        "for review in tqdm(reviews):\n",
        "  print('do stuff!')"
      ],
      "metadata": {
        "id": "Mdnwdzzf1ecG"
      },
      "execution_count": null,
      "outputs": []
    }
  ]
}