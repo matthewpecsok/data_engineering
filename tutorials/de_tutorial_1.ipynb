{
  "cells": [
    {
      "cell_type": "markdown",
      "metadata": {
        "colab_type": "text",
        "id": "view-in-github"
      },
      "source": [
        "<a href=\"https://colab.research.google.com/github/matthewpecsok/data_engineering/blob/main/tutorials/de_tutorial_1.ipynb\" target=\"_parent\"><img src=\"https://colab.research.google.com/assets/colab-badge.svg\" alt=\"Open In Colab\"/></a>"
      ]
    },
    {
      "cell_type": "markdown",
      "metadata": {},
      "source": [
        "# Welcome to Jupyter!\n",
        "\n",
        "This is a Jupyter notebook. Some blocks are simply text and others are Python code or shell commands. \n",
        "\n",
        "We run the notebook from Top->Bottom in sequence with each block of code often requiring the prior block of code to have been executed. "
      ]
    },
    {
      "cell_type": "markdown",
      "metadata": {},
      "source": [
        "# Step 1: Install required packages\n",
        "\n",
        "The standard Python distribution doesn't contain all the functionality required for many tasks. To extend the functionality we install packages. Packages can be installed by using pip (package installer for Python) which is a Python script. To call this script we use !"
      ]
    },
    {
      "cell_type": "markdown",
      "metadata": {},
      "source": [
        "### !\n",
        "\n",
        "In order to call pip we can use the ! prefix to tell the Jupyer notebook to execute the code as a shell command. Shell commands are a common way to interact with the operating system on unix/linux platforms. Your Google Colab environment is running the Ubuntu Linux operating system."
      ]
    },
    {
      "cell_type": "markdown",
      "metadata": {},
      "source": [
        "## pip details"
      ]
    },
    {
      "cell_type": "markdown",
      "metadata": {},
      "source": [
        "### pip -q"
      ]
    },
    {
      "cell_type": "markdown",
      "metadata": {},
      "source": [
        "The \"-q\" flag tells the pip to be quiet about its output. This hides more verbose output that would normally be printed when the packages install. We don't want to see all that output so we use the \"-q\" option to tell pip to hide it. "
      ]
    },
    {
      "cell_type": "markdown",
      "metadata": {},
      "source": [
        "### install --upgrade\n",
        "\n",
        "The install command tells pip we are planning to install a package. Since the ipython package is already installed we use the --upgrade flag to tell pip to upgrade ipython to the latest version. "
      ]
    },
    {
      "cell_type": "markdown",
      "metadata": {},
      "source": [
        "### Which package?\n",
        "\n",
        "Finally we tell pip which package we want to install. In this case we are installing/upgrading 2 packages, ipython and ipython-sql."
      ]
    },
    {
      "cell_type": "code",
      "execution_count": 1,
      "metadata": {
        "id": "Hvei-LCJccmY"
      },
      "outputs": [
        {
          "name": "stderr",
          "output_type": "stream",
          "text": [
            "\n",
            "[notice] A new release of pip is available: 24.0 -> 24.2\n",
            "[notice] To update, run: python.exe -m pip install --upgrade pip\n",
            "\n",
            "[notice] A new release of pip is available: 24.0 -> 24.2\n",
            "[notice] To update, run: python.exe -m pip install --upgrade pip\n"
          ]
        }
      ],
      "source": [
        "!pip -q install --upgrade ipython\n",
        "!pip -q install --upgrade ipython-sql"
      ]
    },
    {
      "cell_type": "markdown",
      "metadata": {},
      "source": [
        "# Import sqlite3\n",
        "\n",
        "sqlite3 is a package that allows us to use a lightweight, file-based SQL database. We'll use this simple database to perform common database operations without needing to install a more complex database like MySql or Postres. For our purposes a simple flat file database is sufficient. "
      ]
    },
    {
      "cell_type": "code",
      "execution_count": 3,
      "metadata": {
        "id": "N1yc-iVTXDvv"
      },
      "outputs": [],
      "source": [
        "import sqlite3"
      ]
    },
    {
      "cell_type": "markdown",
      "metadata": {},
      "source": [
        "use the shell command 'wget' to retrieve the movies database file from github. You can see it in your files path on the left nav bar in colab after running the code. \n",
        "\n",
        "If you attempt to run this code on a windows operating system it will fail because wget isn't an available command on windows, only unix based platforms. "
      ]
    },
    {
      "cell_type": "code",
      "execution_count": 4,
      "metadata": {},
      "outputs": [
        {
          "name": "stderr",
          "output_type": "stream",
          "text": [
            "'wget' is not recognized as an internal or external command,\n",
            "operable program or batch file.\n"
          ]
        }
      ],
      "source": [
        "!wget -O movies.db https://github.com/matthewpecsok/data_engineering/blob/main/data/movies.sqlite?raw=true"
      ]
    },
    {
      "cell_type": "markdown",
      "metadata": {},
      "source": [
        "# Create a sqlite connection object. \n",
        "\n",
        "To interact with the database we can create a connection object. We'll call it 'movie_con' but be aware we can give it any name we like, and we can have multiple connection objects to multiple databases open at any time. "
      ]
    },
    {
      "cell_type": "code",
      "execution_count": 2,
      "metadata": {},
      "outputs": [
        {
          "ename": "NameError",
          "evalue": "name 'sqlite3' is not defined",
          "output_type": "error",
          "traceback": [
            "\u001b[1;31m---------------------------------------------------------------------------\u001b[0m",
            "\u001b[1;31mNameError\u001b[0m                                 Traceback (most recent call last)",
            "Cell \u001b[1;32mIn[2], line 1\u001b[0m\n\u001b[1;32m----> 1\u001b[0m movie_con \u001b[38;5;241m=\u001b[39m \u001b[43msqlite3\u001b[49m\u001b[38;5;241m.\u001b[39mconnect(\u001b[38;5;124m'\u001b[39m\u001b[38;5;124mmovies.db\u001b[39m\u001b[38;5;124m'\u001b[39m)\n",
            "\u001b[1;31mNameError\u001b[0m: name 'sqlite3' is not defined"
          ]
        }
      ],
      "source": [
        "movie_con = sqlite3.connect('movies.db')"
      ]
    },
    {
      "cell_type": "code",
      "execution_count": null,
      "metadata": {
        "id": "WtfwacKRXILU"
      },
      "outputs": [],
      "source": [
        "\n",
        "\n",
        "\n",
        "\n",
        "%load_ext sql\n",
        "%sql sqlite:///movies.db\n",
        "\n",
        "%config SqlMagic.autopandas = True\n",
        "%config SqlMagic.feedback = False\n",
        "%config SqlMagic.displaycon = False"
      ]
    },
    {
      "cell_type": "code",
      "execution_count": null,
      "metadata": {
        "id": "b_5At-sRaZDB"
      },
      "outputs": [],
      "source": [
        "%%sql SELECT name, sql FROM sqlite_master\n",
        "WHERE type='table'\n",
        "ORDER BY name;"
      ]
    },
    {
      "cell_type": "code",
      "execution_count": null,
      "metadata": {
        "id": "Z8qjN_MpXa86"
      },
      "outputs": [],
      "source": [
        "%sql select count(1) from movies"
      ]
    },
    {
      "cell_type": "code",
      "execution_count": null,
      "metadata": {
        "id": "_jbd1ISkXqNO"
      },
      "outputs": [],
      "source": [
        "%sql select count(1) as director_count from directors"
      ]
    },
    {
      "cell_type": "code",
      "execution_count": null,
      "metadata": {
        "id": "8bZu1ryVafpB"
      },
      "outputs": [],
      "source": [
        "%sql select * from movies limit 5"
      ]
    },
    {
      "cell_type": "code",
      "execution_count": null,
      "metadata": {
        "id": "VrrnLqa5iv5-"
      },
      "outputs": [],
      "source": [
        "%sql select * from directors limit 5"
      ]
    },
    {
      "cell_type": "code",
      "execution_count": null,
      "metadata": {
        "id": "VHdrEFQ0altU"
      },
      "outputs": [],
      "source": [
        "%sql select max(budget),max(revenue) from movies"
      ]
    },
    {
      "cell_type": "code",
      "execution_count": null,
      "metadata": {
        "id": "zhdZ1WvBjZ26"
      },
      "outputs": [],
      "source": [
        "%sql select budget,title from movies order by budget desc limit 10"
      ]
    },
    {
      "cell_type": "code",
      "execution_count": null,
      "metadata": {
        "id": "sgQoLIZHcOJa"
      },
      "outputs": [],
      "source": [
        "%sql select min(release_date),max(release_date),max(release_date) - min(release_date) as years_of_releases from movies"
      ]
    },
    {
      "cell_type": "code",
      "execution_count": null,
      "metadata": {
        "id": "DS87SVK3hNjZ"
      },
      "outputs": [],
      "source": [
        "%%sql select\n",
        "\n",
        "avg(budget),\n",
        "avg(revenue),\n",
        "director_id\n",
        "\n",
        "from movies\n",
        "\n",
        "group by director_id order by (avg(budget)) desc\n",
        "limit 5"
      ]
    },
    {
      "cell_type": "code",
      "execution_count": null,
      "metadata": {
        "id": "loc2hkwBtlu-"
      },
      "outputs": [],
      "source": [
        "%sql select distinct(department) from directors"
      ]
    },
    {
      "cell_type": "code",
      "execution_count": null,
      "metadata": {
        "id": "J6e_S5dttGuj"
      },
      "outputs": [],
      "source": [
        "%%sql select *\n",
        "\n",
        "from movies m\n",
        "left join directors d on m.director_id = d.id\n",
        "\n",
        "\n",
        "limit 80"
      ]
    },
    {
      "cell_type": "code",
      "execution_count": null,
      "metadata": {
        "id": "bZhiIJP5hR1Z"
      },
      "outputs": [],
      "source": [
        "%%sql select\n",
        "\n",
        "avg(budget),\n",
        "avg(revenue),\n",
        "director_id,\n",
        "name,\n",
        "count(1) as movie_count,\n",
        "max(m.title)\n",
        "\n",
        "\n",
        "from movies m\n",
        "left join directors d on m.director_id = d.id\n",
        "\n",
        "group by director_id\n",
        "order by avg(budget)\n",
        "desc\n",
        "limit 5\n"
      ]
    },
    {
      "cell_type": "code",
      "execution_count": null,
      "metadata": {
        "id": "_I-PXXS8innY"
      },
      "outputs": [],
      "source": [
        "%sql select title from movies where title like '%Star Wars%'"
      ]
    },
    {
      "cell_type": "code",
      "execution_count": null,
      "metadata": {
        "id": "6HXSqfrnNIM5"
      },
      "outputs": [],
      "source": []
    }
  ],
  "metadata": {
    "colab": {
      "authorship_tag": "ABX9TyMT2SV6h/ZoeosVcLqYqHnF",
      "include_colab_link": true,
      "provenance": []
    },
    "kernelspec": {
      "display_name": "Python 3",
      "name": "python3"
    },
    "language_info": {
      "codemirror_mode": {
        "name": "ipython",
        "version": 3
      },
      "file_extension": ".py",
      "mimetype": "text/x-python",
      "name": "python",
      "nbconvert_exporter": "python",
      "pygments_lexer": "ipython3",
      "version": "3.12.3"
    }
  },
  "nbformat": 4,
  "nbformat_minor": 0
}
