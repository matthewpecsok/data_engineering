{
  "cells": [
    {
      "cell_type": "markdown",
      "metadata": {
        "id": "view-in-github",
        "colab_type": "text"
      },
      "source": [
        "<a href=\"https://colab.research.google.com/github/matthewpecsok/data_engineering/blob/main/tutorials/de_tutorial_1.ipynb\" target=\"_parent\"><img src=\"https://colab.research.google.com/assets/colab-badge.svg\" alt=\"Open In Colab\"/></a>"
      ]
    },
    {
      "cell_type": "markdown",
      "metadata": {
        "id": "i3bAhAuQnFNl"
      },
      "source": [
        "# Welcome to Jupyter!\n",
        "\n",
        "This is a Jupyter notebook. Some blocks are simply text and others are Python code or shell commands.\n",
        "\n",
        "We run the notebook from Top->Bottom in sequence with each block of code often requiring the prior block of code to have been executed."
      ]
    },
    {
      "cell_type": "markdown",
      "metadata": {
        "id": "5BXWaD3anFNn"
      },
      "source": [
        "# Step 1: Install required packages\n",
        "\n",
        "The standard Python distribution doesn't contain all the functionality required for many tasks. To extend the functionality we install packages. Packages can be installed by using pip (package installer for Python) which is a Python script. To call this script we use !"
      ]
    },
    {
      "cell_type": "markdown",
      "metadata": {
        "id": "RTIgiTjknFNo"
      },
      "source": [
        "### !\n",
        "\n",
        "In order to call pip we can use the ! prefix to tell the Jupyer notebook to execute the code as a shell command. Shell commands are a common way to interact with the operating system on unix/linux platforms. Your Google Colab environment is running the Ubuntu Linux operating system."
      ]
    },
    {
      "cell_type": "markdown",
      "metadata": {
        "id": "cvuOYge6nFNo"
      },
      "source": [
        "## pip details"
      ]
    },
    {
      "cell_type": "markdown",
      "metadata": {
        "id": "1He54uY3nFNp"
      },
      "source": [
        "### pip -q"
      ]
    },
    {
      "cell_type": "markdown",
      "metadata": {
        "id": "0h-PhIulnFNp"
      },
      "source": [
        "The \"-q\" flag tells the pip to be quiet about its output. This hides more verbose output that would normally be printed when the packages install. We don't want to see all that output so we use the \"-q\" option to tell pip to hide it."
      ]
    },
    {
      "cell_type": "markdown",
      "metadata": {
        "id": "E637VDl8nFNq"
      },
      "source": [
        "### install --upgrade\n",
        "\n",
        "The install command tells pip we are planning to install a package. Since the ipython package is already installed we use the --upgrade flag to tell pip to upgrade ipython to the latest version."
      ]
    },
    {
      "cell_type": "markdown",
      "metadata": {
        "id": "sArdNT24nFNq"
      },
      "source": [
        "### Which package?\n",
        "\n",
        "Finally we tell pip which package we want to install. In this case we are installing/upgrading 2 packages, ipython and ipython-sql."
      ]
    },
    {
      "cell_type": "code",
      "execution_count": null,
      "metadata": {
        "id": "Hvei-LCJccmY"
      },
      "outputs": [],
      "source": [
        "!pip -q install --upgrade ipython\n",
        "!pip -q install --upgrade ipython-sql"
      ]
    },
    {
      "cell_type": "markdown",
      "source": [
        "### YOUDO\n",
        "\n",
        "Install a package named boto3 and import boto3.\n",
        "\n",
        "\n",
        "\n",
        "> Boto3 is the Amazon Web Services (AWS) Software Development Kit (SDK) for Python, which allows Python developers to write software that makes use of services like Amazon S3 and Amazon EC2. You can find the latest, most up to date, documentation at our doc site, including a list of services that are supported.\n",
        "\n"
      ],
      "metadata": {
        "id": "C0h2UDQxARfg"
      }
    },
    {
      "cell_type": "markdown",
      "source": [
        "### YOUDO ANSWER"
      ],
      "metadata": {
        "id": "qfmGdvDQCSuI"
      }
    },
    {
      "cell_type": "code",
      "source": [],
      "metadata": {
        "id": "WE0urpjwCWY7"
      },
      "execution_count": null,
      "outputs": []
    },
    {
      "cell_type": "code",
      "source": [
        "import boto3"
      ],
      "metadata": {
        "id": "B63rUHVVCZaI"
      },
      "execution_count": null,
      "outputs": []
    },
    {
      "cell_type": "markdown",
      "metadata": {
        "id": "7SoP1rVcnFNs"
      },
      "source": [
        "# Step 2: Import sqlite3 package\n",
        "\n",
        "sqlite3 is a package that allows us to use a lightweight, file-based SQL database. We'll use this simple database to perform common database operations without needing to install a more complex database like MySql or Postres. For our purposes a simple flat file database is sufficient."
      ]
    },
    {
      "cell_type": "code",
      "execution_count": null,
      "metadata": {
        "id": "N1yc-iVTXDvv"
      },
      "outputs": [],
      "source": [
        "import sqlite3"
      ]
    },
    {
      "cell_type": "markdown",
      "source": [
        "How do you learn what these packages can do? Read the documentation."
      ],
      "metadata": {
        "id": "_fsTMJmzAC9X"
      }
    },
    {
      "cell_type": "markdown",
      "source": [
        "https://www.sqlite.org/doclist.html"
      ],
      "metadata": {
        "id": "aEYhbiaBBbBj"
      }
    },
    {
      "cell_type": "code",
      "source": [
        "# help(sqlite3)"
      ],
      "metadata": {
        "id": "G6Q16bxbAIFe"
      },
      "execution_count": null,
      "outputs": []
    },
    {
      "cell_type": "markdown",
      "source": [
        "# Step 3: Download the database to a local file"
      ],
      "metadata": {
        "id": "pFlze_Z_w1bS"
      }
    },
    {
      "cell_type": "markdown",
      "metadata": {
        "id": "cLPmN3xAnFNs"
      },
      "source": [
        "use the shell command 'wget' to retrieve the movies database file from github. You can see it in your files path on the left nav bar in colab after running the code.\n",
        "\n",
        "If you attempt to run this code on a windows operating system it will fail because wget isn't an available command on windows, only unix based platforms."
      ]
    },
    {
      "cell_type": "code",
      "execution_count": null,
      "metadata": {
        "id": "9koeqd4YnFNs"
      },
      "outputs": [],
      "source": [
        "!wget -O movies.db https://github.com/matthewpecsok/data_engineering/blob/main/data/movies.sqlite?raw=true"
      ]
    },
    {
      "cell_type": "markdown",
      "metadata": {
        "id": "zvv6PuGRnFNs"
      },
      "source": [
        "# Step 4: Create a sqlite connection object.\n",
        "\n",
        "To interact with the database we can create a connection object. We'll call it 'movie_con' but be aware we can give it any name we like, and we can have multiple connection objects to multiple databases open at any time."
      ]
    },
    {
      "cell_type": "code",
      "execution_count": null,
      "metadata": {
        "id": "DNs7uKjCnFNs"
      },
      "outputs": [],
      "source": [
        "movie_con = sqlite3.connect('movies.db')"
      ]
    },
    {
      "cell_type": "markdown",
      "source": [],
      "metadata": {
        "id": "uzEXlYoqniw0"
      }
    },
    {
      "cell_type": "code",
      "source": [
        "type(movie_con) # use type to tell us what type of object movie_con is."
      ],
      "metadata": {
        "id": "amcWUsWAnbUx"
      },
      "execution_count": null,
      "outputs": []
    },
    {
      "cell_type": "code",
      "execution_count": null,
      "metadata": {
        "id": "WtfwacKRXILU"
      },
      "outputs": [],
      "source": [
        "# here we setup Jupyter to allow us to interact with the sqlite database easily within code blocks.\n",
        "\n",
        "%load_ext sql\n",
        "%sql sqlite:///movies.db\n",
        "\n",
        "%config SqlMagic.autopandas = True # automatically return a pandas dataframe object.\n",
        "%config SqlMagic.feedback = False\n",
        "%config SqlMagic.displaycon = False"
      ]
    },
    {
      "cell_type": "markdown",
      "source": [
        "# Querying the sqlite_master table\n",
        "\n",
        "What table names are in our database?\n",
        "\n",
        "Use %% magic to run a multi-line sql statement querying the sqlite_master table which tells us all of the tables in the database.\n",
        "\n",
        "\n",
        "The two tables of interest are directors and movies.\n",
        "\n",
        "Let's explore those tables."
      ],
      "metadata": {
        "id": "NYD6s_b-oITV"
      }
    },
    {
      "cell_type": "code",
      "execution_count": null,
      "metadata": {
        "id": "b_5At-sRaZDB"
      },
      "outputs": [],
      "source": [
        "%%sql SELECT name, sql FROM sqlite_master\n",
        "WHERE type='table'\n",
        "ORDER BY name;"
      ]
    },
    {
      "cell_type": "markdown",
      "source": [
        "# Step 5: Sql queries"
      ],
      "metadata": {
        "id": "6XTVoPK05LR4"
      }
    },
    {
      "cell_type": "markdown",
      "source": [
        "## sql select * from table\n",
        "\n",
        "notice the return is a pandas dataframe and includes the first 5 and last 5 movies.\n",
        "\n",
        "\\* returns all columns from the table.\n"
      ],
      "metadata": {
        "id": "gM8IhqmuHuv8"
      }
    },
    {
      "cell_type": "code",
      "source": [
        "%sql select * from movies"
      ],
      "metadata": {
        "id": "BIf9GiABHtcK"
      },
      "execution_count": null,
      "outputs": []
    },
    {
      "cell_type": "markdown",
      "source": [
        "# sql count\n",
        "\n",
        "%sql runs a single line sql statement. How many rows are in our movies table?\n",
        "\n"
      ],
      "metadata": {
        "id": "SmTy6Gn0oavB"
      }
    },
    {
      "cell_type": "code",
      "execution_count": null,
      "metadata": {
        "id": "Z8qjN_MpXa86"
      },
      "outputs": [],
      "source": [
        "%sql select count(1) as movie_count from movies"
      ]
    },
    {
      "cell_type": "markdown",
      "source": [
        "How many rows in directors table?"
      ],
      "metadata": {
        "id": "8zv_BKkPovzQ"
      }
    },
    {
      "cell_type": "markdown",
      "source": [
        "### YOUDO"
      ],
      "metadata": {
        "id": "lYtFjzu2BoWL"
      }
    },
    {
      "cell_type": "code",
      "source": [],
      "metadata": {
        "id": "BKbtWDtPBnzc"
      },
      "execution_count": null,
      "outputs": []
    },
    {
      "cell_type": "markdown",
      "source": [
        "### YOUDO ANSWER"
      ],
      "metadata": {
        "id": "yI8Yq0VUBwZG"
      }
    },
    {
      "cell_type": "code",
      "execution_count": null,
      "metadata": {
        "id": "_jbd1ISkXqNO"
      },
      "outputs": [],
      "source": [
        "%sql select count(1) as director_count from directors"
      ]
    },
    {
      "cell_type": "markdown",
      "source": [
        "# sql order by"
      ],
      "metadata": {
        "id": "gEn5f06sVWOa"
      }
    },
    {
      "cell_type": "code",
      "source": [
        "%sql select popularity,title from movies order by popularity desc limit 5"
      ],
      "metadata": {
        "id": "d3nolC_9VT6y"
      },
      "execution_count": null,
      "outputs": []
    },
    {
      "cell_type": "code",
      "source": [
        "%sql select popularity,title from movies order by popularity limit 5"
      ],
      "metadata": {
        "id": "rJ1pWviUVw6J"
      },
      "execution_count": null,
      "outputs": []
    },
    {
      "cell_type": "markdown",
      "source": [
        "# sql Limit\n",
        "\n",
        "Show the first 5 rows in the movies table.\n",
        "\n",
        "* The id column is the primary key of the table\n",
        "* original_title is the original name of the movie\n",
        "* budget is the cost of the movie (in dollars)\n",
        "* popularity is a score for how popular th emovie was.\n",
        "* revenue (in dollars, how much the movie brought in)\n",
        "* title is the name of the movie\n",
        "* vote_average a score of votes on a 10 point scale\n",
        "* vote_count: the count of votes\n",
        "* overview: description of the movie\n",
        "* tagline: the tagline of the movie\n",
        "* uid (ignorable)\n",
        "* director_id: foreign key to the director table.\n"
      ],
      "metadata": {
        "id": "H3m_MmTJo0zF"
      }
    },
    {
      "cell_type": "code",
      "execution_count": null,
      "metadata": {
        "id": "8bZu1ryVafpB"
      },
      "outputs": [],
      "source": [
        "%sql select * from movies limit 5"
      ]
    },
    {
      "cell_type": "markdown",
      "source": [
        "### YOUDO\n",
        "\n",
        "Show the first 3 rows in the directors table"
      ],
      "metadata": {
        "id": "RyzwSZIeCAc0"
      }
    },
    {
      "cell_type": "code",
      "source": [],
      "metadata": {
        "id": "zMS5F25ICF9F"
      },
      "execution_count": null,
      "outputs": []
    },
    {
      "cell_type": "markdown",
      "source": [
        "### YOUDO ANSWER"
      ],
      "metadata": {
        "id": "gVT_66LgCGQt"
      }
    },
    {
      "cell_type": "code",
      "source": [
        "%sql select * from directors limit 3"
      ],
      "metadata": {
        "id": "UI1lhx8bCKKV"
      },
      "execution_count": null,
      "outputs": []
    },
    {
      "cell_type": "markdown",
      "source": [
        "# sql max function\n",
        "\n",
        "Show both the maximum budget and maximum revenue from all movies. Note these may be from 2 different movies."
      ],
      "metadata": {
        "id": "fTjSpzFXtRfy"
      }
    },
    {
      "cell_type": "code",
      "execution_count": null,
      "metadata": {
        "id": "VHdrEFQ0altU"
      },
      "outputs": [],
      "source": [
        "%sql select max(budget),max(revenue) from movies"
      ]
    },
    {
      "cell_type": "markdown",
      "source": [
        "## YOUDO\n",
        "\n",
        "Find the minimum revenue and budget from the movie table."
      ],
      "metadata": {
        "id": "-IwCgaYdFmig"
      }
    },
    {
      "cell_type": "code",
      "source": [
        "%sql select min(budget),min(revenue) from movies"
      ],
      "metadata": {
        "id": "64vhoPSvFvHv"
      },
      "execution_count": null,
      "outputs": []
    },
    {
      "cell_type": "markdown",
      "source": [
        "# Which movie(s) had the max budget?"
      ],
      "metadata": {
        "id": "dQg7loAqten3"
      }
    },
    {
      "cell_type": "code",
      "source": [
        "%sql select * from movies where budget = 380000000"
      ],
      "metadata": {
        "id": "08Cwb6AQtXuI"
      },
      "execution_count": null,
      "outputs": []
    },
    {
      "cell_type": "markdown",
      "source": [
        "Which movie(s) had the max revenue??"
      ],
      "metadata": {
        "id": "-FzmoczXtiFa"
      }
    },
    {
      "cell_type": "code",
      "source": [
        "%sql select * from movies where revenue = 2787965087"
      ],
      "metadata": {
        "id": "FdUakRQ_tbh6"
      },
      "execution_count": null,
      "outputs": []
    },
    {
      "cell_type": "markdown",
      "source": [
        "# sql left join"
      ],
      "metadata": {
        "id": "nsSyMI4V5tMG"
      }
    },
    {
      "cell_type": "code",
      "source": [
        "%sql select count(1) from movies m left join directors d on m.director_id = d.id"
      ],
      "metadata": {
        "id": "JkkR7Aoa5y9J"
      },
      "execution_count": null,
      "outputs": []
    },
    {
      "cell_type": "markdown",
      "source": [
        "# sql inner join"
      ],
      "metadata": {
        "id": "evxVphUe6HI5"
      }
    },
    {
      "cell_type": "code",
      "source": [
        "%sql select count(1) from movies m inner join directors d on m.director_id = d.id"
      ],
      "metadata": {
        "id": "QkanSSPJ58Y_"
      },
      "execution_count": null,
      "outputs": []
    },
    {
      "cell_type": "markdown",
      "source": [
        "select specific columns from the movie table, sort the dataset by the budget in descending order, limit to the top 10 budgets.\n",
        "\n",
        "left join to the directors table so we can also retrieve the director's name."
      ],
      "metadata": {
        "id": "IkqQZWy2tkxq"
      }
    },
    {
      "cell_type": "code",
      "execution_count": null,
      "metadata": {
        "id": "zhdZ1WvBjZ26"
      },
      "outputs": [],
      "source": [
        "%sql select budget,title,d.name from movies m left join directors d on m.director_id = d.id order by budget desc limit 10"
      ]
    },
    {
      "cell_type": "markdown",
      "source": [
        "### YOUDO\n",
        "\n",
        "for the title and budget from movies table sort the movies in descending order by revenue limit to 5 movies."
      ],
      "metadata": {
        "id": "R3jMsHSoGKTR"
      }
    },
    {
      "cell_type": "code",
      "source": [],
      "metadata": {
        "id": "y3RqVL6QHcPM"
      },
      "execution_count": null,
      "outputs": []
    },
    {
      "cell_type": "markdown",
      "source": [
        "### YOUDO ANSWER"
      ],
      "metadata": {
        "id": "0jltBWW2Hcjq"
      }
    },
    {
      "cell_type": "code",
      "source": [
        "%sql select title,budget from movies order by revenue desc limit 5"
      ],
      "metadata": {
        "id": "daPWXn-kGVhi"
      },
      "execution_count": null,
      "outputs": []
    },
    {
      "cell_type": "markdown",
      "source": [
        "We might be curious what the earliest release data was, and the latest release date. Finally we might want to know what range of years are in our dataset.\n",
        "\n",
        "We can subtract the min release_date from the max_release date to give us the count of years in the dataset.  "
      ],
      "metadata": {
        "id": "vVC37iZitwHe"
      }
    },
    {
      "cell_type": "code",
      "execution_count": null,
      "metadata": {
        "id": "sgQoLIZHcOJa"
      },
      "outputs": [],
      "source": [
        "%sql select min(release_date),max(release_date),max(release_date) - min(release_date) as years_of_releases from movies"
      ]
    },
    {
      "cell_type": "markdown",
      "source": [
        "# sql avg and group by\n",
        "\n",
        "We can compute the average budget and revenue over our dataset grouped by director. We then show which directors had the highest average budget.\n",
        "\n",
        "While Rob Marshal had the most expensive movie by budget his average movie budget was less than other averages. It's worth noting that many directors such as Byron Howard only had 1 movie in the dataset."
      ],
      "metadata": {
        "id": "Rwp7xkIGuHQ0"
      }
    },
    {
      "cell_type": "code",
      "execution_count": null,
      "metadata": {
        "id": "DS87SVK3hNjZ"
      },
      "outputs": [],
      "source": [
        "%%sql select\n",
        "\n",
        "avg(budget),\n",
        "avg(revenue),\n",
        "name as director_name,\n",
        "count(1) as movie_count\n",
        "\n",
        "from movies m left join directors d on m.director_id = d.id\n",
        "group by director_id order by (avg(budget)) desc\n",
        "limit 8"
      ]
    },
    {
      "cell_type": "markdown",
      "source": [
        "# sql distinct"
      ],
      "metadata": {
        "id": "Kyc_kul3wrEs"
      }
    },
    {
      "cell_type": "code",
      "execution_count": null,
      "metadata": {
        "id": "loc2hkwBtlu-"
      },
      "outputs": [],
      "source": [
        "%sql select distinct(department) from directors"
      ]
    },
    {
      "cell_type": "code",
      "execution_count": null,
      "metadata": {
        "id": "J6e_S5dttGuj"
      },
      "outputs": [],
      "source": [
        "%%sql select *\n",
        "\n",
        "from movies m\n",
        "left join directors d on m.director_id = d.id\n",
        "\n",
        "\n",
        "limit 5"
      ]
    },
    {
      "cell_type": "markdown",
      "source": [
        "# comparing max and average budgets by director.\n",
        "\n"
      ],
      "metadata": {
        "id": "CuVws4kdxijH"
      }
    },
    {
      "cell_type": "markdown",
      "source": [
        "## Top 5 directors by average budget."
      ],
      "metadata": {
        "id": "Bikk-hhN0qN_"
      }
    },
    {
      "cell_type": "code",
      "execution_count": null,
      "metadata": {
        "id": "bZhiIJP5hR1Z"
      },
      "outputs": [],
      "source": [
        "%%sql select\n",
        "avg(budget),\n",
        "max(budget),\n",
        "avg(revenue),\n",
        "max(revenue),\n",
        "director_id,\n",
        "name,\n",
        "count(1) as movie_count\n",
        "\n",
        "\n",
        "from movies m\n",
        "left join directors d on m.director_id = d.id\n",
        "\n",
        "group by director_id\n",
        "order by avg(budget)\n",
        "desc\n",
        "limit 5\n"
      ]
    },
    {
      "cell_type": "markdown",
      "source": [
        "# sql like statement\n",
        "\n",
        "Query for any movie with the words star wars. Notice that sqlite is case insensitive.\n",
        "\n",
        "'% %' searches for any text within the column\n"
      ],
      "metadata": {
        "id": "bJOVRuBhxp9T"
      }
    },
    {
      "cell_type": "code",
      "execution_count": null,
      "metadata": {
        "id": "_I-PXXS8innY"
      },
      "outputs": [],
      "source": [
        "%sql select title from movies where title like '%star wars%'"
      ]
    },
    {
      "cell_type": "markdown",
      "source": [
        "# sql ends with %\n",
        "\n",
        "search for any title ending with the word 'star'."
      ],
      "metadata": {
        "id": "tuXbRPetzXGV"
      }
    },
    {
      "cell_type": "code",
      "source": [
        "%sql select title from movies where title like '%star'"
      ],
      "metadata": {
        "id": "UDCzj77vzTdD"
      },
      "execution_count": null,
      "outputs": []
    },
    {
      "cell_type": "code",
      "source": [
        "%sql select * from movies where overview like '%comedy%'"
      ],
      "metadata": {
        "id": "dUPFYzyLzghY"
      },
      "execution_count": null,
      "outputs": []
    },
    {
      "cell_type": "markdown",
      "source": [
        "### YOUDO\n",
        "\n",
        "find all movies with a tagline starting with the text hero"
      ],
      "metadata": {
        "id": "irkzk58tIH7r"
      }
    },
    {
      "cell_type": "code",
      "source": [],
      "metadata": {
        "id": "fjF_WQ-NIfdJ"
      },
      "execution_count": null,
      "outputs": []
    },
    {
      "cell_type": "markdown",
      "source": [
        "### YOUDO ANSWER"
      ],
      "metadata": {
        "id": "GDNQGupZIfxz"
      }
    },
    {
      "cell_type": "code",
      "source": [
        "%sql select * from movies where tagline like 'hero%'"
      ],
      "metadata": {
        "id": "AhOvwIL4IHr_"
      },
      "execution_count": null,
      "outputs": []
    },
    {
      "cell_type": "markdown",
      "source": [
        "# sql greater than, greater than or equal\n",
        "\n",
        "there are some popular movies... that only 1 person voted for."
      ],
      "metadata": {
        "id": "Z__JQe8Cz2uT"
      }
    },
    {
      "cell_type": "code",
      "source": [
        "%sql select * from movies where vote_average > 9"
      ],
      "metadata": {
        "id": "Ws3Ov3zlzlCA"
      },
      "execution_count": null,
      "outputs": []
    },
    {
      "cell_type": "code",
      "source": [
        "%sql select * from movies where vote_average >= 8.5 and vote_count >= 10"
      ],
      "metadata": {
        "id": "c6J4LzJ3z7-R"
      },
      "execution_count": null,
      "outputs": []
    },
    {
      "cell_type": "markdown",
      "source": [
        "# sql having clause\n",
        "\n",
        "We can group by and then use the having clause to filter records on aggregated data. For example we can filter movies that have directors who have directed at least 5 movies.\n",
        "\n",
        "There are 211 directors who have directed at least 5 movies."
      ],
      "metadata": {
        "id": "ZHtT9YBc04p4"
      }
    },
    {
      "cell_type": "code",
      "source": [
        "%sql select d.name,count(1) from movies m left join directors d on m.director_id = d.id group by director_id having count(1) >= 5 order by count(1) desc"
      ],
      "metadata": {
        "id": "HTJpXfom0Kpg"
      },
      "execution_count": null,
      "outputs": []
    },
    {
      "cell_type": "markdown",
      "source": [
        "# year extraction\n",
        "\n",
        "What if we want to extract the year itself from the date?"
      ],
      "metadata": {
        "id": "5aLqx8uT6oj6"
      }
    },
    {
      "cell_type": "code",
      "source": [
        "%sql select release_date from movies limit 5"
      ],
      "metadata": {
        "id": "rBH1e4bE7t1w"
      },
      "execution_count": null,
      "outputs": []
    },
    {
      "cell_type": "markdown",
      "source": [
        "## solution 1: substring\n",
        "\n",
        "we can use subtring to get the first through fourth characters."
      ],
      "metadata": {
        "id": "W4Y16fr06uVa"
      }
    },
    {
      "cell_type": "code",
      "source": [
        "%sql select release_date,substr(release_date,1,4) as year from movies limit 5"
      ],
      "metadata": {
        "id": "kSAuzCzH1u7n"
      },
      "execution_count": null,
      "outputs": []
    },
    {
      "cell_type": "markdown",
      "source": [
        "## solution 2: string format\n",
        "\n",
        "we can use date specific string formats to more easily do this (the code is also more readable)"
      ],
      "metadata": {
        "id": "T5FD9Xy97bfr"
      }
    },
    {
      "cell_type": "code",
      "source": [
        "%sql select strftime('%Y', release_date) as year from movies limit 5"
      ],
      "metadata": {
        "id": "IKMdDms36yoQ"
      },
      "execution_count": null,
      "outputs": []
    },
    {
      "cell_type": "markdown",
      "source": [
        "### YOUDO\n",
        "\n",
        "extract the day from the text using substring and strftime.\n",
        "\n"
      ],
      "metadata": {
        "id": "k5YyORTCXRen"
      }
    },
    {
      "cell_type": "markdown",
      "source": [],
      "metadata": {
        "id": "Xbe7mGAuXHT3"
      }
    },
    {
      "cell_type": "code",
      "source": [],
      "metadata": {
        "id": "PnvbpOjsXaSv"
      },
      "execution_count": null,
      "outputs": []
    },
    {
      "cell_type": "markdown",
      "source": [
        "### YOUDO ANSWER\n",
        "\n",
        "%sql select release_date, strftime('%d', release_date) as day,substr(release_date,9,2) from movies limit 5"
      ],
      "metadata": {
        "id": "VzunP_yWYJcn"
      }
    },
    {
      "cell_type": "markdown",
      "source": [
        "# sql count of movies by year"
      ],
      "metadata": {
        "id": "hfGtmOoY8Ut9"
      }
    },
    {
      "cell_type": "code",
      "source": [
        "%sql select strftime('%Y', release_date) as movie_year,count(1) as year_count from movies group by movie_year order by year_count desc limit 5"
      ],
      "metadata": {
        "id": "1rbWzssx8UQ-"
      },
      "execution_count": null,
      "outputs": []
    },
    {
      "cell_type": "markdown",
      "source": [
        "# VIEWS\n",
        "\n",
        "a view is a sql statement masquerading as a table. views are great for exposing underlying tables to your users without giving them direct access to those tables themselves.\n",
        "\n"
      ],
      "metadata": {
        "id": "CjcN8Q5y9NVn"
      }
    },
    {
      "cell_type": "code",
      "source": [
        "%sql select * from sqlite_master"
      ],
      "metadata": {
        "id": "yepKBAeg8aiR"
      },
      "execution_count": null,
      "outputs": []
    },
    {
      "cell_type": "code",
      "source": [
        "%sql create view movie_year_count as select strftime('%Y', release_date) as movie_year,count(1) as year_count from movies group by movie_year order by year_count desc"
      ],
      "metadata": {
        "id": "OFEk0zxz9SCG"
      },
      "execution_count": null,
      "outputs": []
    },
    {
      "cell_type": "code",
      "source": [
        "%sql select * from sqlite_master"
      ],
      "metadata": {
        "id": "Oq9YFmYw9kwy"
      },
      "execution_count": null,
      "outputs": []
    },
    {
      "cell_type": "markdown",
      "source": [
        "Now we have a view and can query for all views"
      ],
      "metadata": {
        "id": "03PDnvSM9nbH"
      }
    },
    {
      "cell_type": "code",
      "source": [
        "%sql select * from sqlite_master where type = 'view'"
      ],
      "metadata": {
        "id": "xcRzGsfB9t0i"
      },
      "execution_count": null,
      "outputs": []
    },
    {
      "cell_type": "code",
      "source": [
        "%sql select * from movie_year_count"
      ],
      "metadata": {
        "id": "JRC_Mz-y9vCN"
      },
      "execution_count": null,
      "outputs": []
    },
    {
      "cell_type": "markdown",
      "source": [
        "# Table creation and population"
      ],
      "metadata": {
        "id": "MWBAvXoCGhuQ"
      }
    },
    {
      "cell_type": "markdown",
      "source": [
        "## drop the table (if it exists)"
      ],
      "metadata": {
        "id": "7kjcfI5tGlRf"
      }
    },
    {
      "cell_type": "code",
      "source": [
        "%sql drop table if exists user_favorite_movies"
      ],
      "metadata": {
        "id": "VV51izoe_N9s"
      },
      "execution_count": null,
      "outputs": []
    },
    {
      "cell_type": "markdown",
      "source": [
        "## create the table\n",
        "\n",
        "use if not exists to avoid an error if this code re-runs and the table already exists. this is best practice."
      ],
      "metadata": {
        "id": "Cni4dW9iGonW"
      }
    },
    {
      "cell_type": "code",
      "source": [
        "%sql create table if not exists user_favorite_movies (user_id integer, movie_id integer,user_score integer)"
      ],
      "metadata": {
        "id": "WRYsqeQi9xtt"
      },
      "execution_count": null,
      "outputs": []
    },
    {
      "cell_type": "markdown",
      "source": [
        "## insert 5 rows into the table"
      ],
      "metadata": {
        "id": "JxcxKAPfGr1J"
      }
    },
    {
      "cell_type": "code",
      "source": [
        "%sql insert into user_favorite_movies values (1,1,10)\n",
        "%sql insert into user_favorite_movies values (1,2,7.5)\n",
        "%sql insert into user_favorite_movies values (1,3,7.5)\n",
        "%sql insert into user_favorite_movies values (1,5,3.5)\n",
        "%sql insert into user_favorite_movies values (1,9,5.5)"
      ],
      "metadata": {
        "id": "FMlRk-e5GOGa"
      },
      "execution_count": null,
      "outputs": []
    },
    {
      "cell_type": "markdown",
      "source": [
        "## query the table."
      ],
      "metadata": {
        "id": "ksFQ3tPGGu1A"
      }
    },
    {
      "cell_type": "code",
      "source": [
        "%sql select * from user_favorite_movies"
      ],
      "metadata": {
        "id": "e0DUgnVnGS77"
      },
      "execution_count": null,
      "outputs": []
    },
    {
      "cell_type": "markdown",
      "source": [
        "# round score"
      ],
      "metadata": {
        "id": "Tm3xYMuCP-kD"
      }
    },
    {
      "cell_type": "code",
      "source": [
        "%sql select round(user_score,0),user_score user_score from user_favorite_movies"
      ],
      "metadata": {
        "id": "GA-wh6KDP242"
      },
      "execution_count": null,
      "outputs": []
    },
    {
      "cell_type": "code",
      "source": [],
      "metadata": {
        "id": "W3KC_j1jP7GN"
      },
      "execution_count": null,
      "outputs": []
    }
  ],
  "metadata": {
    "colab": {
      "provenance": [],
      "toc_visible": true,
      "include_colab_link": true
    },
    "kernelspec": {
      "display_name": "Python 3",
      "name": "python3"
    },
    "language_info": {
      "codemirror_mode": {
        "name": "ipython",
        "version": 3
      },
      "file_extension": ".py",
      "mimetype": "text/x-python",
      "name": "python",
      "nbconvert_exporter": "python",
      "pygments_lexer": "ipython3",
      "version": "3.12.3"
    }
  },
  "nbformat": 4,
  "nbformat_minor": 0
}