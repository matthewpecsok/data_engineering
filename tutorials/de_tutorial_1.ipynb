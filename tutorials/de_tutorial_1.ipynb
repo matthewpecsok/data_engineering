{
  "nbformat": 4,
  "nbformat_minor": 0,
  "metadata": {
    "colab": {
      "provenance": [],
      "authorship_tag": "ABX9TyMT2SV6h/ZoeosVcLqYqHnF",
      "include_colab_link": true
    },
    "kernelspec": {
      "name": "python3",
      "display_name": "Python 3"
    },
    "language_info": {
      "name": "python"
    }
  },
  "cells": [
    {
      "cell_type": "markdown",
      "metadata": {
        "id": "view-in-github",
        "colab_type": "text"
      },
      "source": [
        "<a href=\"https://colab.research.google.com/github/matthewpecsok/data_engineering/blob/main/tutorials/de_tutorial_1.ipynb\" target=\"_parent\"><img src=\"https://colab.research.google.com/assets/colab-badge.svg\" alt=\"Open In Colab\"/></a>"
      ]
    },
    {
      "cell_type": "code",
      "source": [
        "!pip -q install --upgrade ipython\n",
        "!pip -q install --upgrade ipython-sql"
      ],
      "metadata": {
        "id": "Hvei-LCJccmY"
      },
      "execution_count": null,
      "outputs": []
    },
    {
      "cell_type": "code",
      "execution_count": null,
      "metadata": {
        "id": "N1yc-iVTXDvv"
      },
      "outputs": [],
      "source": [
        "import pandas as pd\n",
        "import sqlite3"
      ]
    },
    {
      "cell_type": "code",
      "source": [
        "!wget -O movies.db https://github.com/matthewpecsok/data_engineering/blob/main/data/movies.sqlite?raw=true\n",
        "\n",
        "con = sqlite3.connect('movies.db')\n",
        "\n",
        "%load_ext sql\n",
        "%sql sqlite:///movies.db\n",
        "\n",
        "%config SqlMagic.autopandas = True\n",
        "%config SqlMagic.feedback = False\n",
        "%config SqlMagic.displaycon = False"
      ],
      "metadata": {
        "id": "WtfwacKRXILU"
      },
      "execution_count": null,
      "outputs": []
    },
    {
      "cell_type": "code",
      "source": [
        "%%sql SELECT name, sql FROM sqlite_master\n",
        "WHERE type='table'\n",
        "ORDER BY name;"
      ],
      "metadata": {
        "id": "b_5At-sRaZDB"
      },
      "execution_count": null,
      "outputs": []
    },
    {
      "cell_type": "code",
      "source": [
        "%sql select count(1) from movies"
      ],
      "metadata": {
        "id": "Z8qjN_MpXa86"
      },
      "execution_count": null,
      "outputs": []
    },
    {
      "cell_type": "code",
      "source": [
        "%sql select count(1) as director_count from directors"
      ],
      "metadata": {
        "id": "_jbd1ISkXqNO"
      },
      "execution_count": null,
      "outputs": []
    },
    {
      "cell_type": "code",
      "source": [
        "%sql select * from movies limit 5"
      ],
      "metadata": {
        "id": "8bZu1ryVafpB"
      },
      "execution_count": null,
      "outputs": []
    },
    {
      "cell_type": "code",
      "source": [
        "%sql select * from directors limit 5"
      ],
      "metadata": {
        "id": "VrrnLqa5iv5-"
      },
      "execution_count": null,
      "outputs": []
    },
    {
      "cell_type": "code",
      "source": [
        "%sql select max(budget),max(revenue) from movies"
      ],
      "metadata": {
        "id": "VHdrEFQ0altU"
      },
      "execution_count": null,
      "outputs": []
    },
    {
      "cell_type": "code",
      "source": [
        "%sql select budget,title from movies order by budget desc limit 10"
      ],
      "metadata": {
        "id": "zhdZ1WvBjZ26"
      },
      "execution_count": null,
      "outputs": []
    },
    {
      "cell_type": "code",
      "source": [
        "%sql select min(release_date),max(release_date),max(release_date) - min(release_date) as years_of_releases from movies"
      ],
      "metadata": {
        "id": "sgQoLIZHcOJa"
      },
      "execution_count": null,
      "outputs": []
    },
    {
      "cell_type": "code",
      "source": [
        "%%sql select\n",
        "\n",
        "avg(budget),\n",
        "avg(revenue),\n",
        "director_id\n",
        "\n",
        "from movies\n",
        "\n",
        "group by director_id order by (avg(budget)) desc\n",
        "limit 5"
      ],
      "metadata": {
        "id": "DS87SVK3hNjZ"
      },
      "execution_count": null,
      "outputs": []
    },
    {
      "cell_type": "code",
      "source": [
        "%sql select distinct(department) from directors"
      ],
      "metadata": {
        "id": "loc2hkwBtlu-"
      },
      "execution_count": null,
      "outputs": []
    },
    {
      "cell_type": "code",
      "source": [
        "%%sql select *\n",
        "\n",
        "from movies m\n",
        "left join directors d on m.director_id = d.id\n",
        "\n",
        "\n",
        "limit 80"
      ],
      "metadata": {
        "id": "J6e_S5dttGuj"
      },
      "execution_count": null,
      "outputs": []
    },
    {
      "cell_type": "code",
      "source": [
        "%%sql select\n",
        "\n",
        "avg(budget),\n",
        "avg(revenue),\n",
        "director_id,\n",
        "name,\n",
        "count(1) as movie_count,\n",
        "max(m.title)\n",
        "\n",
        "\n",
        "from movies m\n",
        "left join directors d on m.director_id = d.id\n",
        "\n",
        "group by director_id\n",
        "order by avg(budget)\n",
        "desc\n",
        "limit 5\n"
      ],
      "metadata": {
        "id": "bZhiIJP5hR1Z"
      },
      "execution_count": null,
      "outputs": []
    },
    {
      "cell_type": "code",
      "source": [
        "%sql select title from movies where title like '%Star Wars%'"
      ],
      "metadata": {
        "id": "_I-PXXS8innY"
      },
      "execution_count": null,
      "outputs": []
    },
    {
      "cell_type": "code",
      "source": [],
      "metadata": {
        "id": "6HXSqfrnNIM5"
      },
      "execution_count": null,
      "outputs": []
    }
  ]
}