{
  "nbformat": 4,
  "nbformat_minor": 0,
  "metadata": {
    "colab": {
      "provenance": [],
      "authorship_tag": "ABX9TyNGoKJzbR73kT1nt8w3iSrM",
      "include_colab_link": true
    },
    "kernelspec": {
      "name": "python3",
      "display_name": "Python 3"
    },
    "language_info": {
      "name": "python"
    }
  },
  "cells": [
    {
      "cell_type": "markdown",
      "metadata": {
        "id": "view-in-github",
        "colab_type": "text"
      },
      "source": [
        "<a href=\"https://colab.research.google.com/github/matthewpecsok/data_engineering/blob/main/tutorials/de_api_tutorial_northwind.ipynb\" target=\"_parent\"><img src=\"https://colab.research.google.com/assets/colab-badge.svg\" alt=\"Open In Colab\"/></a>"
      ]
    },
    {
      "cell_type": "markdown",
      "source": [
        "# get the database"
      ],
      "metadata": {
        "id": "07H-Kp2s7wNQ"
      }
    },
    {
      "cell_type": "code",
      "source": [
        "!wget -O northwind.db https://github.com/matthewpecsok/data_engineering/raw/main/data/northwind.db"
      ],
      "metadata": {
        "colab": {
          "base_uri": "https://localhost:8080/"
        },
        "id": "_7BGOn1G7vK0",
        "outputId": "fb022f7c-9f32-4f12-a3bd-072bccc701be"
      },
      "execution_count": 1,
      "outputs": [
        {
          "output_type": "stream",
          "name": "stdout",
          "text": [
            "--2024-08-02 20:00:47--  https://github.com/matthewpecsok/data_engineering/raw/main/data/northwind.db\n",
            "Resolving github.com (github.com)... 140.82.113.3\n",
            "Connecting to github.com (github.com)|140.82.113.3|:443... connected.\n",
            "HTTP request sent, awaiting response... 302 Found\n",
            "Location: https://raw.githubusercontent.com/matthewpecsok/data_engineering/main/data/northwind.db [following]\n",
            "--2024-08-02 20:00:47--  https://raw.githubusercontent.com/matthewpecsok/data_engineering/main/data/northwind.db\n",
            "Resolving raw.githubusercontent.com (raw.githubusercontent.com)... 185.199.109.133, 185.199.111.133, 185.199.110.133, ...\n",
            "Connecting to raw.githubusercontent.com (raw.githubusercontent.com)|185.199.109.133|:443... connected.\n",
            "HTTP request sent, awaiting response... 200 OK\n",
            "Length: 602112 (588K) [application/octet-stream]\n",
            "Saving to: ‘northwind.db’\n",
            "\n",
            "northwind.db        100%[===================>] 588.00K  --.-KB/s    in 0.05s   \n",
            "\n",
            "2024-08-02 20:00:48 (11.8 MB/s) - ‘northwind.db’ saved [602112/602112]\n",
            "\n"
          ]
        }
      ]
    },
    {
      "cell_type": "markdown",
      "source": [
        "# install required libraries"
      ],
      "metadata": {
        "id": "yHs_H2s3nthh"
      }
    },
    {
      "cell_type": "code",
      "source": [
        "!pip install flask # webserver\n",
        "!pip install faker # fake data generator"
      ],
      "metadata": {
        "colab": {
          "base_uri": "https://localhost:8080/"
        },
        "id": "HurJHgqDPa1O",
        "outputId": "6b0740b7-cb07-4c63-e1cd-8d2432a05712"
      },
      "execution_count": 2,
      "outputs": [
        {
          "output_type": "stream",
          "name": "stdout",
          "text": [
            "Requirement already satisfied: flask in /usr/local/lib/python3.10/dist-packages (2.2.5)\n",
            "Requirement already satisfied: Werkzeug>=2.2.2 in /usr/local/lib/python3.10/dist-packages (from flask) (3.0.3)\n",
            "Requirement already satisfied: Jinja2>=3.0 in /usr/local/lib/python3.10/dist-packages (from flask) (3.1.4)\n",
            "Requirement already satisfied: itsdangerous>=2.0 in /usr/local/lib/python3.10/dist-packages (from flask) (2.2.0)\n",
            "Requirement already satisfied: click>=8.0 in /usr/local/lib/python3.10/dist-packages (from flask) (8.1.7)\n",
            "Requirement already satisfied: MarkupSafe>=2.0 in /usr/local/lib/python3.10/dist-packages (from Jinja2>=3.0->flask) (2.1.5)\n",
            "Collecting faker\n",
            "  Downloading Faker-26.1.0-py3-none-any.whl.metadata (15 kB)\n",
            "Requirement already satisfied: python-dateutil>=2.4 in /usr/local/lib/python3.10/dist-packages (from faker) (2.8.2)\n",
            "Requirement already satisfied: six>=1.5 in /usr/local/lib/python3.10/dist-packages (from python-dateutil>=2.4->faker) (1.16.0)\n",
            "Downloading Faker-26.1.0-py3-none-any.whl (1.8 MB)\n",
            "\u001b[2K   \u001b[90m━━━━━━━━━━━━━━━━━━━━━━━━━━━━━━━━━━━━━━━━\u001b[0m \u001b[32m1.8/1.8 MB\u001b[0m \u001b[31m6.7 MB/s\u001b[0m eta \u001b[36m0:00:00\u001b[0m\n",
            "\u001b[?25hInstalling collected packages: faker\n",
            "Successfully installed faker-26.1.0\n"
          ]
        }
      ]
    },
    {
      "cell_type": "code",
      "source": [
        "import requests"
      ],
      "metadata": {
        "id": "6TBzNq4eGa-I"
      },
      "execution_count": 3,
      "outputs": []
    },
    {
      "cell_type": "markdown",
      "source": [
        "# create the API app in flask\n",
        "\n",
        "use multithreading to run Flask in a new thread so the notebook is free to continue executing other code."
      ],
      "metadata": {
        "id": "wsTIsZranytq"
      }
    },
    {
      "cell_type": "code",
      "execution_count": 43,
      "metadata": {
        "colab": {
          "base_uri": "https://localhost:8080/"
        },
        "id": "_-uuQhd_PVYt",
        "outputId": "985f0a00-32a7-4228-fe4d-6f6a182b1fe7"
      },
      "outputs": [
        {
          "output_type": "stream",
          "name": "stdout",
          "text": [
            "Process ID: 5233\n",
            " * Serving Flask app '__main__'\n",
            " * Debug mode: off\n"
          ]
        },
        {
          "output_type": "stream",
          "name": "stderr",
          "text": [
            "Address already in use\n",
            "Port 5000 is in use by another program. Either identify and stop that program, or start the server with a different port.\n"
          ]
        }
      ],
      "source": [
        "from flask import Flask, request, jsonify\n",
        "import sqlite3\n",
        "import threading\n",
        "import multiprocessing, time\n",
        "import pandas as pd\n",
        "\n",
        "app = Flask(__name__)\n",
        "\n",
        "DATABASE = 'northwind.db'\n",
        "\n",
        "@app.route(\"/\")\n",
        "def home():\n",
        "    return \"Hello World! This is the API homepage. No swagger.\"\n",
        "\n",
        "\n",
        "\n",
        "@app.route('/customers', methods=['GET'], strict_slashes=False)\n",
        "def get_customers():\n",
        "    conn = sqlite3.connect(DATABASE)\n",
        "    df = pd.read_sql_query(\"SELECT * FROM customers\",conn)\n",
        "    df_dict = df.to_dict(orient='records')\n",
        "    conn.close()\n",
        "    customers = {}\n",
        "    customers['customers'] = df_dict\n",
        "    return jsonify(customers), 200\n",
        "\n",
        "@app.route('/products', methods=['GET'], strict_slashes=False)\n",
        "def get_products():\n",
        "    conn = sqlite3.connect(DATABASE)\n",
        "    df = pd.read_sql_query(\"SELECT * FROM products\",conn)\n",
        "    df_dict = df.to_dict(orient='records')\n",
        "    conn.close()\n",
        "    products = {}\n",
        "    products['products'] = df_dict\n",
        "    return jsonify(products), 200\n",
        "\n",
        "@app.route('/customers/<string:customer_id>', methods=['GET'], strict_slashes=False)\n",
        "def get_customer_by_id(customer_id):\n",
        "    conn = sqlite3.connect(DATABASE)\n",
        "    df = pd.read_sql_query(f\"SELECT * FROM customers where CustomerID = '{customer_id}'\",conn)\n",
        "    if df.shape[0] == 0:\n",
        "      return jsonify({'error': 'Customer not found'}), 404\n",
        "\n",
        "    df_dict = df.to_dict(orient='records')\n",
        "\n",
        "    conn.close()\n",
        "    return jsonify(df_dict[0])\n",
        "\n",
        "\n",
        "if __name__ == '__main__':\n",
        "    process = multiprocessing.Process(target=app.run) # this is required for background running so the cell can be released.\n",
        "    process.start()\n",
        "    print(f\"Process ID: {process.pid}\")\n",
        "\n"
      ]
    },
    {
      "cell_type": "code",
      "source": [
        "con = sqlite3.connect(DATABASE)\n",
        "matt = pd.read_sql_query(f\"SELECT * FROM customers where CustomerID = 'ALFKI'\",con)\n",
        "matt"
      ],
      "metadata": {
        "colab": {
          "base_uri": "https://localhost:8080/",
          "height": 89
        },
        "id": "JgO_2JHxwQjA",
        "outputId": "4869bf2f-a226-41ff-ebc1-621a1cbbe61b"
      },
      "execution_count": 48,
      "outputs": [
        {
          "output_type": "execute_result",
          "data": {
            "text/plain": [
              "  CustomerID          CompanyName   ContactName          ContactTitle  \\\n",
              "0      ALFKI  Alfreds Futterkiste  Maria Anders  Sales Representative   \n",
              "\n",
              "         Address    City          Region PostalCode  Country        Phone  \\\n",
              "0  Obere Str. 57  Berlin  Western Europe      12209  Germany  030-0074321   \n",
              "\n",
              "           Fax  \n",
              "0  030-0076545  "
            ],
            "text/html": [
              "\n",
              "  <div id=\"df-26f0bd28-a2af-40a7-a87c-20e9643186ef\" class=\"colab-df-container\">\n",
              "    <div>\n",
              "<style scoped>\n",
              "    .dataframe tbody tr th:only-of-type {\n",
              "        vertical-align: middle;\n",
              "    }\n",
              "\n",
              "    .dataframe tbody tr th {\n",
              "        vertical-align: top;\n",
              "    }\n",
              "\n",
              "    .dataframe thead th {\n",
              "        text-align: right;\n",
              "    }\n",
              "</style>\n",
              "<table border=\"1\" class=\"dataframe\">\n",
              "  <thead>\n",
              "    <tr style=\"text-align: right;\">\n",
              "      <th></th>\n",
              "      <th>CustomerID</th>\n",
              "      <th>CompanyName</th>\n",
              "      <th>ContactName</th>\n",
              "      <th>ContactTitle</th>\n",
              "      <th>Address</th>\n",
              "      <th>City</th>\n",
              "      <th>Region</th>\n",
              "      <th>PostalCode</th>\n",
              "      <th>Country</th>\n",
              "      <th>Phone</th>\n",
              "      <th>Fax</th>\n",
              "    </tr>\n",
              "  </thead>\n",
              "  <tbody>\n",
              "    <tr>\n",
              "      <th>0</th>\n",
              "      <td>ALFKI</td>\n",
              "      <td>Alfreds Futterkiste</td>\n",
              "      <td>Maria Anders</td>\n",
              "      <td>Sales Representative</td>\n",
              "      <td>Obere Str. 57</td>\n",
              "      <td>Berlin</td>\n",
              "      <td>Western Europe</td>\n",
              "      <td>12209</td>\n",
              "      <td>Germany</td>\n",
              "      <td>030-0074321</td>\n",
              "      <td>030-0076545</td>\n",
              "    </tr>\n",
              "  </tbody>\n",
              "</table>\n",
              "</div>\n",
              "    <div class=\"colab-df-buttons\">\n",
              "\n",
              "  <div class=\"colab-df-container\">\n",
              "    <button class=\"colab-df-convert\" onclick=\"convertToInteractive('df-26f0bd28-a2af-40a7-a87c-20e9643186ef')\"\n",
              "            title=\"Convert this dataframe to an interactive table.\"\n",
              "            style=\"display:none;\">\n",
              "\n",
              "  <svg xmlns=\"http://www.w3.org/2000/svg\" height=\"24px\" viewBox=\"0 -960 960 960\">\n",
              "    <path d=\"M120-120v-720h720v720H120Zm60-500h600v-160H180v160Zm220 220h160v-160H400v160Zm0 220h160v-160H400v160ZM180-400h160v-160H180v160Zm440 0h160v-160H620v160ZM180-180h160v-160H180v160Zm440 0h160v-160H620v160Z\"/>\n",
              "  </svg>\n",
              "    </button>\n",
              "\n",
              "  <style>\n",
              "    .colab-df-container {\n",
              "      display:flex;\n",
              "      gap: 12px;\n",
              "    }\n",
              "\n",
              "    .colab-df-convert {\n",
              "      background-color: #E8F0FE;\n",
              "      border: none;\n",
              "      border-radius: 50%;\n",
              "      cursor: pointer;\n",
              "      display: none;\n",
              "      fill: #1967D2;\n",
              "      height: 32px;\n",
              "      padding: 0 0 0 0;\n",
              "      width: 32px;\n",
              "    }\n",
              "\n",
              "    .colab-df-convert:hover {\n",
              "      background-color: #E2EBFA;\n",
              "      box-shadow: 0px 1px 2px rgba(60, 64, 67, 0.3), 0px 1px 3px 1px rgba(60, 64, 67, 0.15);\n",
              "      fill: #174EA6;\n",
              "    }\n",
              "\n",
              "    .colab-df-buttons div {\n",
              "      margin-bottom: 4px;\n",
              "    }\n",
              "\n",
              "    [theme=dark] .colab-df-convert {\n",
              "      background-color: #3B4455;\n",
              "      fill: #D2E3FC;\n",
              "    }\n",
              "\n",
              "    [theme=dark] .colab-df-convert:hover {\n",
              "      background-color: #434B5C;\n",
              "      box-shadow: 0px 1px 3px 1px rgba(0, 0, 0, 0.15);\n",
              "      filter: drop-shadow(0px 1px 2px rgba(0, 0, 0, 0.3));\n",
              "      fill: #FFFFFF;\n",
              "    }\n",
              "  </style>\n",
              "\n",
              "    <script>\n",
              "      const buttonEl =\n",
              "        document.querySelector('#df-26f0bd28-a2af-40a7-a87c-20e9643186ef button.colab-df-convert');\n",
              "      buttonEl.style.display =\n",
              "        google.colab.kernel.accessAllowed ? 'block' : 'none';\n",
              "\n",
              "      async function convertToInteractive(key) {\n",
              "        const element = document.querySelector('#df-26f0bd28-a2af-40a7-a87c-20e9643186ef');\n",
              "        const dataTable =\n",
              "          await google.colab.kernel.invokeFunction('convertToInteractive',\n",
              "                                                    [key], {});\n",
              "        if (!dataTable) return;\n",
              "\n",
              "        const docLinkHtml = 'Like what you see? Visit the ' +\n",
              "          '<a target=\"_blank\" href=https://colab.research.google.com/notebooks/data_table.ipynb>data table notebook</a>'\n",
              "          + ' to learn more about interactive tables.';\n",
              "        element.innerHTML = '';\n",
              "        dataTable['output_type'] = 'display_data';\n",
              "        await google.colab.output.renderOutput(dataTable, element);\n",
              "        const docLink = document.createElement('div');\n",
              "        docLink.innerHTML = docLinkHtml;\n",
              "        element.appendChild(docLink);\n",
              "      }\n",
              "    </script>\n",
              "  </div>\n",
              "\n",
              "\n",
              "  <div id=\"id_d309a07a-c67d-4858-9405-2821facba430\">\n",
              "    <style>\n",
              "      .colab-df-generate {\n",
              "        background-color: #E8F0FE;\n",
              "        border: none;\n",
              "        border-radius: 50%;\n",
              "        cursor: pointer;\n",
              "        display: none;\n",
              "        fill: #1967D2;\n",
              "        height: 32px;\n",
              "        padding: 0 0 0 0;\n",
              "        width: 32px;\n",
              "      }\n",
              "\n",
              "      .colab-df-generate:hover {\n",
              "        background-color: #E2EBFA;\n",
              "        box-shadow: 0px 1px 2px rgba(60, 64, 67, 0.3), 0px 1px 3px 1px rgba(60, 64, 67, 0.15);\n",
              "        fill: #174EA6;\n",
              "      }\n",
              "\n",
              "      [theme=dark] .colab-df-generate {\n",
              "        background-color: #3B4455;\n",
              "        fill: #D2E3FC;\n",
              "      }\n",
              "\n",
              "      [theme=dark] .colab-df-generate:hover {\n",
              "        background-color: #434B5C;\n",
              "        box-shadow: 0px 1px 3px 1px rgba(0, 0, 0, 0.15);\n",
              "        filter: drop-shadow(0px 1px 2px rgba(0, 0, 0, 0.3));\n",
              "        fill: #FFFFFF;\n",
              "      }\n",
              "    </style>\n",
              "    <button class=\"colab-df-generate\" onclick=\"generateWithVariable('matt')\"\n",
              "            title=\"Generate code using this dataframe.\"\n",
              "            style=\"display:none;\">\n",
              "\n",
              "  <svg xmlns=\"http://www.w3.org/2000/svg\" height=\"24px\"viewBox=\"0 0 24 24\"\n",
              "       width=\"24px\">\n",
              "    <path d=\"M7,19H8.4L18.45,9,17,7.55,7,17.6ZM5,21V16.75L18.45,3.32a2,2,0,0,1,2.83,0l1.4,1.43a1.91,1.91,0,0,1,.58,1.4,1.91,1.91,0,0,1-.58,1.4L9.25,21ZM18.45,9,17,7.55Zm-12,3A5.31,5.31,0,0,0,4.9,8.1,5.31,5.31,0,0,0,1,6.5,5.31,5.31,0,0,0,4.9,4.9,5.31,5.31,0,0,0,6.5,1,5.31,5.31,0,0,0,8.1,4.9,5.31,5.31,0,0,0,12,6.5,5.46,5.46,0,0,0,6.5,12Z\"/>\n",
              "  </svg>\n",
              "    </button>\n",
              "    <script>\n",
              "      (() => {\n",
              "      const buttonEl =\n",
              "        document.querySelector('#id_d309a07a-c67d-4858-9405-2821facba430 button.colab-df-generate');\n",
              "      buttonEl.style.display =\n",
              "        google.colab.kernel.accessAllowed ? 'block' : 'none';\n",
              "\n",
              "      buttonEl.onclick = () => {\n",
              "        google.colab.notebook.generateWithVariable('matt');\n",
              "      }\n",
              "      })();\n",
              "    </script>\n",
              "  </div>\n",
              "\n",
              "    </div>\n",
              "  </div>\n"
            ],
            "application/vnd.google.colaboratory.intrinsic+json": {
              "type": "dataframe",
              "variable_name": "matt",
              "summary": "{\n  \"name\": \"matt\",\n  \"rows\": 1,\n  \"fields\": [\n    {\n      \"column\": \"CustomerID\",\n      \"properties\": {\n        \"dtype\": \"string\",\n        \"num_unique_values\": 1,\n        \"samples\": [\n          \"ALFKI\"\n        ],\n        \"semantic_type\": \"\",\n        \"description\": \"\"\n      }\n    },\n    {\n      \"column\": \"CompanyName\",\n      \"properties\": {\n        \"dtype\": \"string\",\n        \"num_unique_values\": 1,\n        \"samples\": [\n          \"Alfreds Futterkiste\"\n        ],\n        \"semantic_type\": \"\",\n        \"description\": \"\"\n      }\n    },\n    {\n      \"column\": \"ContactName\",\n      \"properties\": {\n        \"dtype\": \"string\",\n        \"num_unique_values\": 1,\n        \"samples\": [\n          \"Maria Anders\"\n        ],\n        \"semantic_type\": \"\",\n        \"description\": \"\"\n      }\n    },\n    {\n      \"column\": \"ContactTitle\",\n      \"properties\": {\n        \"dtype\": \"string\",\n        \"num_unique_values\": 1,\n        \"samples\": [\n          \"Sales Representative\"\n        ],\n        \"semantic_type\": \"\",\n        \"description\": \"\"\n      }\n    },\n    {\n      \"column\": \"Address\",\n      \"properties\": {\n        \"dtype\": \"string\",\n        \"num_unique_values\": 1,\n        \"samples\": [\n          \"Obere Str. 57\"\n        ],\n        \"semantic_type\": \"\",\n        \"description\": \"\"\n      }\n    },\n    {\n      \"column\": \"City\",\n      \"properties\": {\n        \"dtype\": \"string\",\n        \"num_unique_values\": 1,\n        \"samples\": [\n          \"Berlin\"\n        ],\n        \"semantic_type\": \"\",\n        \"description\": \"\"\n      }\n    },\n    {\n      \"column\": \"Region\",\n      \"properties\": {\n        \"dtype\": \"string\",\n        \"num_unique_values\": 1,\n        \"samples\": [\n          \"Western Europe\"\n        ],\n        \"semantic_type\": \"\",\n        \"description\": \"\"\n      }\n    },\n    {\n      \"column\": \"PostalCode\",\n      \"properties\": {\n        \"dtype\": \"string\",\n        \"num_unique_values\": 1,\n        \"samples\": [\n          \"12209\"\n        ],\n        \"semantic_type\": \"\",\n        \"description\": \"\"\n      }\n    },\n    {\n      \"column\": \"Country\",\n      \"properties\": {\n        \"dtype\": \"string\",\n        \"num_unique_values\": 1,\n        \"samples\": [\n          \"Germany\"\n        ],\n        \"semantic_type\": \"\",\n        \"description\": \"\"\n      }\n    },\n    {\n      \"column\": \"Phone\",\n      \"properties\": {\n        \"dtype\": \"string\",\n        \"num_unique_values\": 1,\n        \"samples\": [\n          \"030-0074321\"\n        ],\n        \"semantic_type\": \"\",\n        \"description\": \"\"\n      }\n    },\n    {\n      \"column\": \"Fax\",\n      \"properties\": {\n        \"dtype\": \"string\",\n        \"num_unique_values\": 1,\n        \"samples\": [\n          \"030-0076545\"\n        ],\n        \"semantic_type\": \"\",\n        \"description\": \"\"\n      }\n    }\n  ]\n}"
            }
          },
          "metadata": {},
          "execution_count": 48
        }
      ]
    },
    {
      "cell_type": "code",
      "source": [
        "conn = sqlite3.connect(DATABASE)\n",
        "cursor = conn.cursor()\n",
        "cursor.execute(\"SELECT * FROM customers where CustomerID = ? \",('BLAUS',)).fetchall()"
      ],
      "metadata": {
        "colab": {
          "base_uri": "https://localhost:8080/"
        },
        "id": "5J5lMJil_My5",
        "outputId": "4b17111e-b270-4411-cbb7-5ccd240b17be"
      },
      "execution_count": 5,
      "outputs": [
        {
          "output_type": "execute_result",
          "data": {
            "text/plain": [
              "[('BLAUS',\n",
              "  'Blauer See Delikatessen',\n",
              "  'Hanna Moos',\n",
              "  'Sales Representative',\n",
              "  'Forsterstr. 57',\n",
              "  'Mannheim',\n",
              "  'Western Europe',\n",
              "  '68306',\n",
              "  'Germany',\n",
              "  '0621-08460',\n",
              "  '0621-08924')]"
            ]
          },
          "metadata": {},
          "execution_count": 5
        }
      ]
    },
    {
      "cell_type": "code",
      "source": [
        "!ps -ef | grep 1810"
      ],
      "metadata": {
        "colab": {
          "base_uri": "https://localhost:8080/"
        },
        "id": "UFnQL719A0nY",
        "outputId": "cf2f7965-fdd4-425f-b398-bc94c11eeb12"
      },
      "execution_count": 6,
      "outputs": [
        {
          "output_type": "stream",
          "name": "stdout",
          "text": [
            "root         436     179  0 20:01 ?        00:00:00 /bin/bash -c ps -ef | grep 1810\n",
            "root         440     436  0 20:01 ?        00:00:00 grep 1810\n"
          ]
        }
      ]
    },
    {
      "cell_type": "code",
      "source": [
        "!kill -9 4369"
      ],
      "metadata": {
        "id": "NNyytGou-dZh"
      },
      "execution_count": 40,
      "outputs": []
    },
    {
      "cell_type": "markdown",
      "source": [
        "# get public url\n",
        "\n",
        "use the url here to make sure flask is running. you should get a webpage that says '*Hello World! This is the API homepage.*'"
      ],
      "metadata": {
        "id": "2G_i2VO5n-KB"
      }
    },
    {
      "cell_type": "code",
      "source": [
        "# this cell outputs the url you can use in your browser to see if the website/api is running.\n",
        "# it cannot be used locally in python code, for that we need to use 127.0.0.1:5000\n",
        "\n",
        "from google.colab.output import eval_js\n",
        "http_url = eval_js(\"google.colab.kernel.proxyPort(5000)\")\n",
        "print(http_url)"
      ],
      "metadata": {
        "colab": {
          "base_uri": "https://localhost:8080/",
          "height": 34
        },
        "id": "Qk1JhyQLQB2p",
        "outputId": "71c20233-47c5-4416-9ef5-5450bd7e0b58"
      },
      "execution_count": 42,
      "outputs": [
        {
          "output_type": "stream",
          "name": "stdout",
          "text": [
            "https://ytlr8kiwha-496ff2e9c6d22116-5000-colab.googleusercontent.com/\n"
          ]
        }
      ]
    },
    {
      "cell_type": "code",
      "source": [
        "localhost = 'http://127.0.0.1:5000'"
      ],
      "metadata": {
        "id": "lKm3tlYkuBbV"
      },
      "execution_count": 28,
      "outputs": []
    },
    {
      "cell_type": "code",
      "source": [
        "url = f\"{localhost}/customers/\"\n",
        "print(url)\n",
        "resp = requests.get(url)\n",
        "customers = resp.json()\n",
        "customers['customers'][0:2]"
      ],
      "metadata": {
        "colab": {
          "base_uri": "https://localhost:8080/"
        },
        "id": "16VVeQbSsKwM",
        "outputId": "837640de-72b0-4aba-9c6f-74b837499a9d"
      },
      "execution_count": 67,
      "outputs": [
        {
          "output_type": "stream",
          "name": "stdout",
          "text": [
            "http://127.0.0.1:5000/customers/\n"
          ]
        },
        {
          "output_type": "execute_result",
          "data": {
            "text/plain": [
              "[{'Address': 'Obere Str. 57',\n",
              "  'City': 'Berlin',\n",
              "  'CompanyName': 'Alfreds Futterkiste',\n",
              "  'ContactName': 'Maria Anders',\n",
              "  'ContactTitle': 'Sales Representative',\n",
              "  'Country': 'Germany',\n",
              "  'CustomerID': 'ALFKI',\n",
              "  'Fax': '030-0076545',\n",
              "  'Phone': '030-0074321',\n",
              "  'PostalCode': '12209',\n",
              "  'Region': 'Western Europe'},\n",
              " {'Address': 'Avda. de la Constitución 2222',\n",
              "  'City': 'México D.F.',\n",
              "  'CompanyName': 'Ana Trujillo Emparedados y helados',\n",
              "  'ContactName': 'Ana Trujillo',\n",
              "  'ContactTitle': 'Owner',\n",
              "  'Country': 'Mexico',\n",
              "  'CustomerID': 'ANATR',\n",
              "  'Fax': '(5) 555-3745',\n",
              "  'Phone': '(5) 555-4729',\n",
              "  'PostalCode': '05021',\n",
              "  'Region': 'Central America'}]"
            ]
          },
          "metadata": {},
          "execution_count": 67
        }
      ]
    },
    {
      "cell_type": "code",
      "source": [
        "import requests\n",
        "customerid = 'BLAUS'\n",
        "url = f\"{localhost}/customers/{customerid}\"\n",
        "print(url)\n",
        "resp = requests.get(url)\n",
        "print(resp)\n",
        "resp.json()"
      ],
      "metadata": {
        "colab": {
          "base_uri": "https://localhost:8080/"
        },
        "id": "NCPBXxJS_uG8",
        "outputId": "bdc5ce69-701e-43c9-e28d-5aaea49fed90"
      },
      "execution_count": 59,
      "outputs": [
        {
          "output_type": "stream",
          "name": "stdout",
          "text": [
            "http://127.0.0.1:5000/customers/BLAUS\n",
            "<Response [200]>\n"
          ]
        },
        {
          "output_type": "execute_result",
          "data": {
            "text/plain": [
              "{'Address': 'Forsterstr. 57',\n",
              " 'City': 'Mannheim',\n",
              " 'CompanyName': 'Blauer See Delikatessen',\n",
              " 'ContactName': 'Hanna Moos',\n",
              " 'ContactTitle': 'Sales Representative',\n",
              " 'Country': 'Germany',\n",
              " 'CustomerID': 'BLAUS',\n",
              " 'Fax': '0621-08924',\n",
              " 'Phone': '0621-08460',\n",
              " 'PostalCode': '68306',\n",
              " 'Region': 'Western Europe'}"
            ]
          },
          "metadata": {},
          "execution_count": 59
        }
      ]
    },
    {
      "cell_type": "code",
      "source": [
        "import requests\n",
        "customerid = 'Hello'\n",
        "url = f\"{localhost}/customers/{customerid}\"\n",
        "print(url)\n",
        "resp = requests.get(url)\n",
        "print(resp)\n",
        "resp.json()"
      ],
      "metadata": {
        "colab": {
          "base_uri": "https://localhost:8080/"
        },
        "id": "OLlFNi5Aw9Xv",
        "outputId": "3a522310-88d1-4b98-9530-9cc516e2dfe2"
      },
      "execution_count": 60,
      "outputs": [
        {
          "output_type": "stream",
          "name": "stdout",
          "text": [
            "http://127.0.0.1:5000/customers/Hello\n",
            "<Response [404]>\n"
          ]
        },
        {
          "output_type": "execute_result",
          "data": {
            "text/plain": [
              "{'error': 'Customer not found'}"
            ]
          },
          "metadata": {},
          "execution_count": 60
        }
      ]
    },
    {
      "cell_type": "code",
      "source": [
        "url = f\"{localhost}/products/\"\n",
        "print(url)\n",
        "resp = requests.get(url)\n",
        "products = resp.json()\n",
        "products['products'][0:3]"
      ],
      "metadata": {
        "colab": {
          "base_uri": "https://localhost:8080/"
        },
        "id": "IASqtLkuvc0O",
        "outputId": "842372b3-6fa7-4b16-f67d-f93ef0ef4de2"
      },
      "execution_count": 64,
      "outputs": [
        {
          "output_type": "stream",
          "name": "stdout",
          "text": [
            "http://127.0.0.1:5000/products/\n"
          ]
        },
        {
          "output_type": "execute_result",
          "data": {
            "text/plain": [
              "[{'CategoryID': 1,\n",
              "  'Discontinued': '0',\n",
              "  'ProductID': 1,\n",
              "  'ProductName': 'Chai',\n",
              "  'QuantityPerUnit': '10 boxes x 20 bags',\n",
              "  'ReorderLevel': 10,\n",
              "  'SupplierID': 1,\n",
              "  'UnitPrice': 18.0,\n",
              "  'UnitsInStock': 39,\n",
              "  'UnitsOnOrder': 0},\n",
              " {'CategoryID': 1,\n",
              "  'Discontinued': '0',\n",
              "  'ProductID': 2,\n",
              "  'ProductName': 'Chang',\n",
              "  'QuantityPerUnit': '24 - 12 oz bottles',\n",
              "  'ReorderLevel': 25,\n",
              "  'SupplierID': 1,\n",
              "  'UnitPrice': 19.0,\n",
              "  'UnitsInStock': 17,\n",
              "  'UnitsOnOrder': 40},\n",
              " {'CategoryID': 2,\n",
              "  'Discontinued': '0',\n",
              "  'ProductID': 3,\n",
              "  'ProductName': 'Aniseed Syrup',\n",
              "  'QuantityPerUnit': '12 - 550 ml bottles',\n",
              "  'ReorderLevel': 25,\n",
              "  'SupplierID': 1,\n",
              "  'UnitPrice': 10.0,\n",
              "  'UnitsInStock': 13,\n",
              "  'UnitsOnOrder': 70}]"
            ]
          },
          "metadata": {},
          "execution_count": 64
        }
      ]
    },
    {
      "cell_type": "code",
      "source": [
        "response = requests.get('http://127.0.0.1:5000/customers/WELLI')\n",
        "response.json()"
      ],
      "metadata": {
        "colab": {
          "base_uri": "https://localhost:8080/"
        },
        "id": "kerQ0psYAl1K",
        "outputId": "2d2d3bf8-3df3-42d7-a596-4207f8605891"
      },
      "execution_count": 10,
      "outputs": [
        {
          "output_type": "execute_result",
          "data": {
            "text/plain": [
              "[{'Address': 'Rua do Mercado, 12',\n",
              "  'City': 'Resende',\n",
              "  'CompanyName': 'Wellington Importadora',\n",
              "  'ContactName': 'Paula Parente',\n",
              "  'ContactTitle': 'Sales Manager',\n",
              "  'Country': 'Brazil',\n",
              "  'CustomerID': 'WELLI',\n",
              "  'Fax': None,\n",
              "  'Phone': '(14) 555-8122',\n",
              "  'PostalCode': '08737-363',\n",
              "  'Region': 'South America'}]"
            ]
          },
          "metadata": {},
          "execution_count": 10
        }
      ]
    },
    {
      "cell_type": "code",
      "source": [
        "response = requests.get('http://127.0.0.1:5000/products/')\n",
        "products = response.json()\n",
        "products['products'][0:3]"
      ],
      "metadata": {
        "colab": {
          "base_uri": "https://localhost:8080/"
        },
        "id": "ByiM_LABCflr",
        "outputId": "3e0b70d2-2454-4bb5-8943-8e4725b79ea2"
      },
      "execution_count": 63,
      "outputs": [
        {
          "output_type": "execute_result",
          "data": {
            "text/plain": [
              "[{'CategoryID': 1,\n",
              "  'Discontinued': '0',\n",
              "  'ProductID': 1,\n",
              "  'ProductName': 'Chai',\n",
              "  'QuantityPerUnit': '10 boxes x 20 bags',\n",
              "  'ReorderLevel': 10,\n",
              "  'SupplierID': 1,\n",
              "  'UnitPrice': 18.0,\n",
              "  'UnitsInStock': 39,\n",
              "  'UnitsOnOrder': 0},\n",
              " {'CategoryID': 1,\n",
              "  'Discontinued': '0',\n",
              "  'ProductID': 2,\n",
              "  'ProductName': 'Chang',\n",
              "  'QuantityPerUnit': '24 - 12 oz bottles',\n",
              "  'ReorderLevel': 25,\n",
              "  'SupplierID': 1,\n",
              "  'UnitPrice': 19.0,\n",
              "  'UnitsInStock': 17,\n",
              "  'UnitsOnOrder': 40},\n",
              " {'CategoryID': 2,\n",
              "  'Discontinued': '0',\n",
              "  'ProductID': 3,\n",
              "  'ProductName': 'Aniseed Syrup',\n",
              "  'QuantityPerUnit': '12 - 550 ml bottles',\n",
              "  'ReorderLevel': 25,\n",
              "  'SupplierID': 1,\n",
              "  'UnitPrice': 10.0,\n",
              "  'UnitsInStock': 13,\n",
              "  'UnitsOnOrder': 70}]"
            ]
          },
          "metadata": {},
          "execution_count": 63
        }
      ]
    },
    {
      "cell_type": "code",
      "source": [],
      "metadata": {
        "id": "3QrUOkm2xth-"
      },
      "execution_count": null,
      "outputs": []
    }
  ]
}