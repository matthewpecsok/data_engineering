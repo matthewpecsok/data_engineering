{
  "nbformat": 4,
  "nbformat_minor": 0,
  "metadata": {
    "colab": {
      "provenance": [],
      "toc_visible": true,
      "authorship_tag": "ABX9TyM7DojwqMM4X5YRojjQetrs",
      "include_colab_link": true
    },
    "kernelspec": {
      "name": "python3",
      "display_name": "Python 3"
    },
    "language_info": {
      "name": "python"
    }
  },
  "cells": [
    {
      "cell_type": "markdown",
      "metadata": {
        "id": "view-in-github",
        "colab_type": "text"
      },
      "source": [
        "<a href=\"https://colab.research.google.com/github/matthewpecsok/data_engineering/blob/main/tutorials/de_testing_tutorial.ipynb\" target=\"_parent\"><img src=\"https://colab.research.google.com/assets/colab-badge.svg\" alt=\"Open In Colab\"/></a>"
      ]
    },
    {
      "cell_type": "markdown",
      "source": [
        "# Introduction to unit tests"
      ],
      "metadata": {
        "id": "I5xlK1gma8RX"
      }
    },
    {
      "cell_type": "markdown",
      "source": [
        "suppose we write a function intended to add two numbers together and return the result."
      ],
      "metadata": {
        "id": "x8By5EfoKNm9"
      }
    },
    {
      "cell_type": "code",
      "source": [
        "import unittest"
      ],
      "metadata": {
        "id": "-eDpyDoxbj3d"
      },
      "execution_count": null,
      "outputs": []
    },
    {
      "cell_type": "code",
      "execution_count": null,
      "metadata": {
        "id": "mAz1F7PWJbI7"
      },
      "outputs": [],
      "source": [
        "def add_positive_numbers(a,b):\n",
        "  return a-b # broken intentionally"
      ]
    },
    {
      "cell_type": "code",
      "source": [
        "add_positive_numbers(6,7)"
      ],
      "metadata": {
        "colab": {
          "base_uri": "https://localhost:8080/"
        },
        "id": "8lpapeInKWMC",
        "outputId": "a7b432fb-d821-4b78-a495-55c7f347db4a"
      },
      "execution_count": null,
      "outputs": [
        {
          "output_type": "execute_result",
          "data": {
            "text/plain": [
              "-1"
            ]
          },
          "metadata": {},
          "execution_count": 5
        }
      ]
    },
    {
      "cell_type": "markdown",
      "source": [
        "how can we make sure this works correctly automatically?\n"
      ],
      "metadata": {
        "id": "Zy5uetyFLBvU"
      }
    },
    {
      "cell_type": "markdown",
      "source": [
        "\n",
        "\n",
        "Here we write a unit test to see if the function correctly returns the sum of the two numbers.\n",
        "\n",
        "Any functions that meet the following criteria will be run.\n",
        "\n",
        "*  within classes that inherit from TestCase\n",
        "*  names start with test_\n",
        "\n",
        "\n",
        "*This test should fail to pass.*"
      ],
      "metadata": {
        "id": "Y8dUl-wbMag9"
      }
    },
    {
      "cell_type": "markdown",
      "source": [
        "Define the test\n",
        "\n",
        "We test to see if the function returns a result of 5.\n",
        "\n",
        "This is normally what you get when you add 2 and 3 together...."
      ],
      "metadata": {
        "id": "vBT47qAuboXb"
      }
    },
    {
      "cell_type": "markdown",
      "source": [
        "## Test should fail."
      ],
      "metadata": {
        "id": "zdRQ1NN3bRTI"
      }
    },
    {
      "cell_type": "code",
      "source": [
        "class TestAddNumbers(unittest.TestCase):\n",
        "    def test_add_positive_numbers(self):\n",
        "        result = add_positive_numbers(2, 3)\n",
        "        self.assertEqual(result, 5)  # Assert that the result is equal to 5"
      ],
      "metadata": {
        "id": "KwKnpyHObn6m"
      },
      "execution_count": null,
      "outputs": []
    },
    {
      "cell_type": "markdown",
      "source": [
        "### Run the test."
      ],
      "metadata": {
        "id": "qEB-xBpDb6ME"
      }
    },
    {
      "cell_type": "code",
      "source": [
        "unittest.main(argv=['first-arg-is-ignored'], exit=False)"
      ],
      "metadata": {
        "colab": {
          "base_uri": "https://localhost:8080/"
        },
        "id": "ud3hbN0XKgny",
        "outputId": "4614c91b-ff53-40a9-b897-98ffbca4d98d"
      },
      "execution_count": null,
      "outputs": [
        {
          "output_type": "stream",
          "name": "stderr",
          "text": [
            "FE\n",
            "======================================================================\n",
            "ERROR: test_get_data_from_api (__main__.TestGetDataFromAPI)\n",
            "----------------------------------------------------------------------\n",
            "Traceback (most recent call last):\n",
            "  File \"/usr/lib/python3.10/unittest/mock.py\", line 1379, in patched\n",
            "    return func(*newargs, **newkeywargs)\n",
            "  File \"<ipython-input-1-bacfabae15b9>\", line 10, in test_get_data_from_api\n",
            "    result = get_data_from_api()\n",
            "NameError: name 'get_data_from_api' is not defined\n",
            "\n",
            "======================================================================\n",
            "FAIL: test_add_positive_numbers (__main__.TestAddNumbers)\n",
            "----------------------------------------------------------------------\n",
            "Traceback (most recent call last):\n",
            "  File \"<ipython-input-6-ccc59a65e38c>\", line 4, in test_add_positive_numbers\n",
            "    self.assertEqual(result, 5)  # Assert that the result is equal to 5\n",
            "AssertionError: -1 != 5\n",
            "\n",
            "----------------------------------------------------------------------\n",
            "Ran 2 tests in 0.086s\n",
            "\n",
            "FAILED (failures=1, errors=1)\n"
          ]
        },
        {
          "output_type": "execute_result",
          "data": {
            "text/plain": [
              "<unittest.main.TestProgram at 0x7f44b2363a30>"
            ]
          },
          "metadata": {},
          "execution_count": 7
        }
      ]
    },
    {
      "cell_type": "markdown",
      "source": [
        "-1 is truly not equal to 5. This test caught the fact that the function incorrectly added two numbers together."
      ],
      "metadata": {
        "id": "SegDsumFbNyk"
      }
    },
    {
      "cell_type": "markdown",
      "source": [
        "Now we attempt to fix the function. We re-define the function and run the test again.\n",
        "\n",
        "This test should pass."
      ],
      "metadata": {
        "id": "IWMZd-VsMhjf"
      }
    },
    {
      "cell_type": "markdown",
      "source": [
        "## Fixed function."
      ],
      "metadata": {
        "id": "l4dYtNjsbYzT"
      }
    },
    {
      "cell_type": "code",
      "source": [
        "def add_positive_numbers(a, b):\n",
        "    return a + b # fixed"
      ],
      "metadata": {
        "id": "2WuwFNx1Lpvd"
      },
      "execution_count": null,
      "outputs": []
    },
    {
      "cell_type": "markdown",
      "source": [
        "### Rerun Test."
      ],
      "metadata": {
        "id": "LE-0eZBlbdZt"
      }
    },
    {
      "cell_type": "code",
      "source": [
        "unittest.main(argv=['first-arg-is-ignored'], exit=False)"
      ],
      "metadata": {
        "colab": {
          "base_uri": "https://localhost:8080/"
        },
        "id": "mEl8cC2PchOD",
        "outputId": "1df3e1c8-bd6c-48cd-f5da-0faedc3c3ea0"
      },
      "execution_count": null,
      "outputs": [
        {
          "output_type": "stream",
          "name": "stderr",
          "text": [
            ".E\n",
            "======================================================================\n",
            "ERROR: test_get_data_from_api (__main__.TestGetDataFromAPI)\n",
            "----------------------------------------------------------------------\n",
            "Traceback (most recent call last):\n",
            "  File \"/usr/lib/python3.10/unittest/mock.py\", line 1379, in patched\n",
            "    return func(*newargs, **newkeywargs)\n",
            "  File \"<ipython-input-1-bacfabae15b9>\", line 10, in test_get_data_from_api\n",
            "    result = get_data_from_api()\n",
            "NameError: name 'get_data_from_api' is not defined\n",
            "\n",
            "----------------------------------------------------------------------\n",
            "Ran 2 tests in 0.011s\n",
            "\n",
            "FAILED (errors=1)\n"
          ]
        },
        {
          "output_type": "execute_result",
          "data": {
            "text/plain": [
              "<unittest.main.TestProgram at 0x7f44964796f0>"
            ]
          },
          "metadata": {},
          "execution_count": 9
        }
      ]
    },
    {
      "cell_type": "markdown",
      "source": [
        "## Raising errors.\n",
        "\n",
        "Good error handling means raising errors in certain cases."
      ],
      "metadata": {
        "id": "diUWGEChbmXc"
      }
    },
    {
      "cell_type": "markdown",
      "source": [
        "What if we want to handle an error that SHOULD be raised?\n",
        "\n",
        "Here we add additional code that makes sure neither a or b is negative."
      ],
      "metadata": {
        "id": "kWMJanIFM-EX"
      }
    },
    {
      "cell_type": "code",
      "source": [
        "def add_positive_numbers(a, b):\n",
        "    if (a <= 0) or (b <= 0):\n",
        "        raise ValueError(\"Cannot pass negative numbers\")\n",
        "    return a + b"
      ],
      "metadata": {
        "id": "ZEAxVR0uclNT"
      },
      "execution_count": null,
      "outputs": []
    },
    {
      "cell_type": "code",
      "source": [
        "class TestNegative(unittest.TestCase):\n",
        "    def test_negative(self):\n",
        "        with self.assertRaises(ValueError):  # Asserts that a ValueError is raised\n",
        "            add_positive_numbers(-5, 10)"
      ],
      "metadata": {
        "id": "vphKAzXlM0yS"
      },
      "execution_count": null,
      "outputs": []
    },
    {
      "cell_type": "code",
      "source": [
        "if __name__ == '__main__':\n",
        "  unittest.main(argv=['first-arg-is-ignored'], exit=False)"
      ],
      "metadata": {
        "colab": {
          "base_uri": "https://localhost:8080/"
        },
        "id": "wNQKf4Hec3Aq",
        "outputId": "1e7c371a-60fe-49ad-b842-9dbea7670c5f"
      },
      "execution_count": null,
      "outputs": [
        {
          "output_type": "stream",
          "name": "stderr",
          "text": [
            ".E.\n",
            "======================================================================\n",
            "ERROR: test_get_data_from_api (__main__.TestGetDataFromAPI)\n",
            "----------------------------------------------------------------------\n",
            "Traceback (most recent call last):\n",
            "  File \"/usr/lib/python3.10/unittest/mock.py\", line 1379, in patched\n",
            "    return func(*newargs, **newkeywargs)\n",
            "  File \"<ipython-input-1-bacfabae15b9>\", line 10, in test_get_data_from_api\n",
            "    result = get_data_from_api()\n",
            "NameError: name 'get_data_from_api' is not defined\n",
            "\n",
            "----------------------------------------------------------------------\n",
            "Ran 3 tests in 0.011s\n",
            "\n",
            "FAILED (errors=1)\n"
          ]
        }
      ]
    },
    {
      "cell_type": "markdown",
      "source": [
        "## Adding names to tests."
      ],
      "metadata": {
        "id": "C0ansYhrb_TE"
      }
    },
    {
      "cell_type": "markdown",
      "source": [
        "What if we would like to know the names of the tests?\n",
        "\n",
        "We can override the addSuccess and addFailure methods.\n",
        "\n",
        "Overriding allows us to provide custom functionality that we choose to implement. In this case we make sure to call the base method that would normally run, and we print some text along with the test id.\n",
        "\n",
        "This code\n",
        "\n",
        "\n",
        "```\n",
        "print(f\"Test Passed: {test.id()}\")\n",
        "```\n",
        "and\n",
        "```\n",
        "print(f\"Test Failed: {test.id()}\")\n",
        "```\n",
        "\n",
        "is what gives us the test name/id"
      ],
      "metadata": {
        "id": "yP7iHXn8QF9q"
      }
    },
    {
      "cell_type": "markdown",
      "source": [
        "### Overriding addSuccess and addFailure"
      ],
      "metadata": {
        "id": "yP_0YvoacCmP"
      }
    },
    {
      "cell_type": "code",
      "source": [
        "import unittest\n",
        "\n",
        "class CustomTestResult(unittest.TestResult):\n",
        "    def addSuccess(self, test):\n",
        "        super().addSuccess(test)\n",
        "        print(f\"Test Passed: {test.id()}\")\n",
        "\n",
        "    def addFailure(self, test, err):\n",
        "        super().addFailure(test, err)\n",
        "        print(f\"Test Failed: {test.id()}\")"
      ],
      "metadata": {
        "id": "U4E0DQ_bPz2d"
      },
      "execution_count": null,
      "outputs": []
    },
    {
      "cell_type": "markdown",
      "source": [
        "we must then call our custom test class to make sure to use the functionality."
      ],
      "metadata": {
        "id": "dgsSaYlweXvz"
      }
    },
    {
      "cell_type": "markdown",
      "source": [
        "### Updating the test run contructor."
      ],
      "metadata": {
        "id": "gdkHZv8OcHy9"
      }
    },
    {
      "cell_type": "code",
      "source": [
        "unittest.main(testRunner=unittest.TextTestRunner(resultclass=CustomTestResult),\n",
        "              argv=['first-arg-is-ignored'],\n",
        "              exit=False)"
      ],
      "metadata": {
        "colab": {
          "base_uri": "https://localhost:8080/"
        },
        "id": "v7SdhSTedDa0",
        "outputId": "06aa6b0a-a28b-471c-9278-67cf500a189f"
      },
      "execution_count": null,
      "outputs": [
        {
          "output_type": "stream",
          "name": "stderr",
          "text": [
            "Ran 3 tests in 0.014s\n",
            "\n",
            "FAILED (errors=1)\n"
          ]
        },
        {
          "output_type": "stream",
          "name": "stdout",
          "text": [
            "Test Passed: __main__.TestAddNumbers.test_add_positive_numbers\n",
            "Test Passed: __main__.TestNegative.test_negative\n"
          ]
        },
        {
          "output_type": "execute_result",
          "data": {
            "text/plain": [
              "<unittest.main.TestProgram at 0x7f449647b340>"
            ]
          },
          "metadata": {},
          "execution_count": 14
        }
      ]
    },
    {
      "cell_type": "markdown",
      "source": [
        "## Evaluating expressions"
      ],
      "metadata": {
        "id": "-SwAOFd6cPjI"
      }
    },
    {
      "cell_type": "markdown",
      "source": [
        "there are many things we can check for\n",
        "\n",
        "what if we have an expression that should correctly check the length of a list and return either True or False?"
      ],
      "metadata": {
        "id": "lOn_P8UYSZwO"
      }
    },
    {
      "cell_type": "code",
      "source": [
        "array_length_five = [1,2,3,4,5]\n",
        "\n",
        "len(array_length_five) < 6"
      ],
      "metadata": {
        "colab": {
          "base_uri": "https://localhost:8080/"
        },
        "id": "UJp7y-3gQYE-",
        "outputId": "94a2747f-62e0-4daf-c10d-93f26f3a9471"
      },
      "execution_count": null,
      "outputs": [
        {
          "output_type": "execute_result",
          "data": {
            "text/plain": [
              "True"
            ]
          },
          "metadata": {},
          "execution_count": 15
        }
      ]
    },
    {
      "cell_type": "code",
      "source": [
        "len(array_length_five) < 4"
      ],
      "metadata": {
        "colab": {
          "base_uri": "https://localhost:8080/"
        },
        "id": "Dc47VWfHSnuc",
        "outputId": "f146d8e7-a80f-470f-ca9a-2cf7c6d23bf1"
      },
      "execution_count": null,
      "outputs": [
        {
          "output_type": "execute_result",
          "data": {
            "text/plain": [
              "False"
            ]
          },
          "metadata": {},
          "execution_count": 16
        }
      ]
    },
    {
      "cell_type": "code",
      "source": [
        "class LengthTest(unittest.TestCase):\n",
        "    def test_check_expression_true(self):\n",
        "        self.assertTrue(len([1,2,3,4,5]) < 10) # is this true is the length less than 10?\n",
        ""
      ],
      "metadata": {
        "id": "kIwb5Rfmex1U"
      },
      "execution_count": null,
      "outputs": []
    },
    {
      "cell_type": "code",
      "source": [
        "if __name__ == '__main__':\n",
        "  unittest.main(testRunner=unittest.TextTestRunner(resultclass=CustomTestResult),\n",
        "                argv=['first-arg-is-ignored'],\n",
        "                exit=False)"
      ],
      "metadata": {
        "colab": {
          "base_uri": "https://localhost:8080/"
        },
        "id": "boQKu-idUG3F",
        "outputId": "450e9199-a80d-4f26-9eb2-cdf455086c94"
      },
      "execution_count": null,
      "outputs": [
        {
          "output_type": "stream",
          "name": "stderr",
          "text": [
            "Ran 4 tests in 0.010s\n",
            "\n",
            "FAILED (errors=1)\n"
          ]
        },
        {
          "output_type": "stream",
          "name": "stdout",
          "text": [
            "Test Passed: __main__.LengthTest.test_check_expression_true\n",
            "Test Passed: __main__.TestAddNumbers.test_add_positive_numbers\n",
            "Test Passed: __main__.TestNegative.test_negative\n"
          ]
        }
      ]
    },
    {
      "cell_type": "markdown",
      "source": [
        "Notice how each time a new method is registered it is run by the unittest. Now we have 3 methods that have been run."
      ],
      "metadata": {
        "id": "jpJ2pNife0eB"
      }
    },
    {
      "cell_type": "code",
      "source": [
        "if __name__ == '__main__':\n",
        "  unittest.main(testRunner=unittest.TextTestRunner(resultclass=CustomTestResult),\n",
        "                argv=['first-arg-is-ignored'],\n",
        "                exit=False)"
      ],
      "metadata": {
        "id": "Yx9T0PGlXpjw",
        "colab": {
          "base_uri": "https://localhost:8080/"
        },
        "outputId": "bfb52580-d0fe-4e41-f6f3-7e3564b7acbf"
      },
      "execution_count": null,
      "outputs": [
        {
          "output_type": "stream",
          "name": "stderr",
          "text": [
            "Ran 4 tests in 0.009s\n",
            "\n",
            "FAILED (errors=1)\n"
          ]
        },
        {
          "output_type": "stream",
          "name": "stdout",
          "text": [
            "Test Passed: __main__.LengthTest.test_check_expression_true\n",
            "Test Passed: __main__.TestAddNumbers.test_add_positive_numbers\n",
            "Test Passed: __main__.TestNegative.test_negative\n"
          ]
        }
      ]
    },
    {
      "cell_type": "markdown",
      "source": [
        "# Testing Data Pipelines (multiple stages)"
      ],
      "metadata": {
        "id": "UyCXBDhgcUHh"
      }
    },
    {
      "cell_type": "markdown",
      "source": [
        "Testing in the context of Data Engineering.\n",
        "\n",
        "How to test a sequence of data transformations?\n",
        "\n",
        "Imagine we have order dates and delivery dates."
      ],
      "metadata": {
        "id": "f_HrqxSdfl5x"
      }
    },
    {
      "cell_type": "markdown",
      "source": [
        "## Transformations as individual calls in sequence."
      ],
      "metadata": {
        "id": "j5Kbt3Nacf4D"
      }
    },
    {
      "cell_type": "code",
      "source": [
        "from pandas.core.internals.array_manager import NaT\n",
        "import pandas as pd\n",
        "import numpy as np\n",
        "import random as random\n",
        "from datetime import datetime, timedelta\n",
        "\n",
        "order_dates = [\n",
        "    datetime(2023, 1, 1),\n",
        "    datetime(2023, 2, 15),\n",
        "    datetime(2023, 3, 8),\n",
        "    datetime(2023, 4, 22),\n",
        "    datetime(2023, 5, 10),\n",
        "    NaT,\n",
        "    datetime(2023, 7, 14),\n",
        "    datetime(2023, 8, 19),\n",
        "    datetime(2023, 9, 3),\n",
        "    datetime(2023, 10, 31)\n",
        "]\n",
        "\n",
        "received_dates = [\n",
        "    datetime(2023, 1, 13),\n",
        "    datetime(2023, 1, 25),\n",
        "    NaT,\n",
        "    datetime(2023, 5, 12),\n",
        "    datetime(2023, 6, 22),\n",
        "    datetime(2023, 8, 21),\n",
        "    datetime(2023, 8, 19),\n",
        "    datetime(2023, 9, 13),\n",
        "    datetime(2023, 10, 11),\n",
        "    datetime(2023, 12, 11)\n",
        "]\n",
        "\n",
        "dates_df_orig = pd.DataFrame({\n",
        "    'order_date' : order_dates,\n",
        "    'received_date' : received_dates\n",
        "})\n",
        "\n",
        "dates_df = dates_df_orig.copy()"
      ],
      "metadata": {
        "id": "Ikd1yyh-fr8h"
      },
      "execution_count": null,
      "outputs": []
    },
    {
      "cell_type": "markdown",
      "source": [
        "our first step to computing the number of days from order to delivery might be to drop any null values."
      ],
      "metadata": {
        "id": "i_HYdxgbia3K"
      }
    },
    {
      "cell_type": "code",
      "source": [
        "dates_df = dates_df.dropna().copy()\n",
        "dates_df"
      ],
      "metadata": {
        "colab": {
          "base_uri": "https://localhost:8080/",
          "height": 300
        },
        "id": "sGRM1hHQh-pz",
        "outputId": "dfb5a4c3-e73d-41a5-9579-9a1407f521d8"
      },
      "execution_count": null,
      "outputs": [
        {
          "output_type": "execute_result",
          "data": {
            "text/plain": [
              "  order_date received_date\n",
              "0 2023-01-01    2023-01-13\n",
              "1 2023-02-15    2023-01-25\n",
              "3 2023-04-22    2023-05-12\n",
              "4 2023-05-10    2023-06-22\n",
              "6 2023-07-14    2023-08-19\n",
              "7 2023-08-19    2023-09-13\n",
              "8 2023-09-03    2023-10-11\n",
              "9 2023-10-31    2023-12-11"
            ],
            "text/html": [
              "\n",
              "  <div id=\"df-8a226557-e919-4397-a23d-1e397522fac1\">\n",
              "    <div class=\"colab-df-container\">\n",
              "      <div>\n",
              "<style scoped>\n",
              "    .dataframe tbody tr th:only-of-type {\n",
              "        vertical-align: middle;\n",
              "    }\n",
              "\n",
              "    .dataframe tbody tr th {\n",
              "        vertical-align: top;\n",
              "    }\n",
              "\n",
              "    .dataframe thead th {\n",
              "        text-align: right;\n",
              "    }\n",
              "</style>\n",
              "<table border=\"1\" class=\"dataframe\">\n",
              "  <thead>\n",
              "    <tr style=\"text-align: right;\">\n",
              "      <th></th>\n",
              "      <th>order_date</th>\n",
              "      <th>received_date</th>\n",
              "    </tr>\n",
              "  </thead>\n",
              "  <tbody>\n",
              "    <tr>\n",
              "      <th>0</th>\n",
              "      <td>2023-01-01</td>\n",
              "      <td>2023-01-13</td>\n",
              "    </tr>\n",
              "    <tr>\n",
              "      <th>1</th>\n",
              "      <td>2023-02-15</td>\n",
              "      <td>2023-01-25</td>\n",
              "    </tr>\n",
              "    <tr>\n",
              "      <th>3</th>\n",
              "      <td>2023-04-22</td>\n",
              "      <td>2023-05-12</td>\n",
              "    </tr>\n",
              "    <tr>\n",
              "      <th>4</th>\n",
              "      <td>2023-05-10</td>\n",
              "      <td>2023-06-22</td>\n",
              "    </tr>\n",
              "    <tr>\n",
              "      <th>6</th>\n",
              "      <td>2023-07-14</td>\n",
              "      <td>2023-08-19</td>\n",
              "    </tr>\n",
              "    <tr>\n",
              "      <th>7</th>\n",
              "      <td>2023-08-19</td>\n",
              "      <td>2023-09-13</td>\n",
              "    </tr>\n",
              "    <tr>\n",
              "      <th>8</th>\n",
              "      <td>2023-09-03</td>\n",
              "      <td>2023-10-11</td>\n",
              "    </tr>\n",
              "    <tr>\n",
              "      <th>9</th>\n",
              "      <td>2023-10-31</td>\n",
              "      <td>2023-12-11</td>\n",
              "    </tr>\n",
              "  </tbody>\n",
              "</table>\n",
              "</div>\n",
              "      <button class=\"colab-df-convert\" onclick=\"convertToInteractive('df-8a226557-e919-4397-a23d-1e397522fac1')\"\n",
              "              title=\"Convert this dataframe to an interactive table.\"\n",
              "              style=\"display:none;\">\n",
              "        \n",
              "  <svg xmlns=\"http://www.w3.org/2000/svg\" height=\"24px\"viewBox=\"0 0 24 24\"\n",
              "       width=\"24px\">\n",
              "    <path d=\"M0 0h24v24H0V0z\" fill=\"none\"/>\n",
              "    <path d=\"M18.56 5.44l.94 2.06.94-2.06 2.06-.94-2.06-.94-.94-2.06-.94 2.06-2.06.94zm-11 1L8.5 8.5l.94-2.06 2.06-.94-2.06-.94L8.5 2.5l-.94 2.06-2.06.94zm10 10l.94 2.06.94-2.06 2.06-.94-2.06-.94-.94-2.06-.94 2.06-2.06.94z\"/><path d=\"M17.41 7.96l-1.37-1.37c-.4-.4-.92-.59-1.43-.59-.52 0-1.04.2-1.43.59L10.3 9.45l-7.72 7.72c-.78.78-.78 2.05 0 2.83L4 21.41c.39.39.9.59 1.41.59.51 0 1.02-.2 1.41-.59l7.78-7.78 2.81-2.81c.8-.78.8-2.07 0-2.86zM5.41 20L4 18.59l7.72-7.72 1.47 1.35L5.41 20z\"/>\n",
              "  </svg>\n",
              "      </button>\n",
              "      \n",
              "  <style>\n",
              "    .colab-df-container {\n",
              "      display:flex;\n",
              "      flex-wrap:wrap;\n",
              "      gap: 12px;\n",
              "    }\n",
              "\n",
              "    .colab-df-convert {\n",
              "      background-color: #E8F0FE;\n",
              "      border: none;\n",
              "      border-radius: 50%;\n",
              "      cursor: pointer;\n",
              "      display: none;\n",
              "      fill: #1967D2;\n",
              "      height: 32px;\n",
              "      padding: 0 0 0 0;\n",
              "      width: 32px;\n",
              "    }\n",
              "\n",
              "    .colab-df-convert:hover {\n",
              "      background-color: #E2EBFA;\n",
              "      box-shadow: 0px 1px 2px rgba(60, 64, 67, 0.3), 0px 1px 3px 1px rgba(60, 64, 67, 0.15);\n",
              "      fill: #174EA6;\n",
              "    }\n",
              "\n",
              "    [theme=dark] .colab-df-convert {\n",
              "      background-color: #3B4455;\n",
              "      fill: #D2E3FC;\n",
              "    }\n",
              "\n",
              "    [theme=dark] .colab-df-convert:hover {\n",
              "      background-color: #434B5C;\n",
              "      box-shadow: 0px 1px 3px 1px rgba(0, 0, 0, 0.15);\n",
              "      filter: drop-shadow(0px 1px 2px rgba(0, 0, 0, 0.3));\n",
              "      fill: #FFFFFF;\n",
              "    }\n",
              "  </style>\n",
              "\n",
              "      <script>\n",
              "        const buttonEl =\n",
              "          document.querySelector('#df-8a226557-e919-4397-a23d-1e397522fac1 button.colab-df-convert');\n",
              "        buttonEl.style.display =\n",
              "          google.colab.kernel.accessAllowed ? 'block' : 'none';\n",
              "\n",
              "        async function convertToInteractive(key) {\n",
              "          const element = document.querySelector('#df-8a226557-e919-4397-a23d-1e397522fac1');\n",
              "          const dataTable =\n",
              "            await google.colab.kernel.invokeFunction('convertToInteractive',\n",
              "                                                     [key], {});\n",
              "          if (!dataTable) return;\n",
              "\n",
              "          const docLinkHtml = 'Like what you see? Visit the ' +\n",
              "            '<a target=\"_blank\" href=https://colab.research.google.com/notebooks/data_table.ipynb>data table notebook</a>'\n",
              "            + ' to learn more about interactive tables.';\n",
              "          element.innerHTML = '';\n",
              "          dataTable['output_type'] = 'display_data';\n",
              "          await google.colab.output.renderOutput(dataTable, element);\n",
              "          const docLink = document.createElement('div');\n",
              "          docLink.innerHTML = docLinkHtml;\n",
              "          element.appendChild(docLink);\n",
              "        }\n",
              "      </script>\n",
              "    </div>\n",
              "  </div>\n",
              "  "
            ]
          },
          "metadata": {},
          "execution_count": 21
        }
      ]
    },
    {
      "cell_type": "markdown",
      "source": [
        "our second step could then be to compute"
      ],
      "metadata": {
        "id": "kVgM1KG_isPT"
      }
    },
    {
      "cell_type": "code",
      "source": [
        "dates_df.loc[:, 'elapsed_days'] = (dates_df['received_date'] - dates_df['order_date']).dt.days\n",
        "dates_df"
      ],
      "metadata": {
        "colab": {
          "base_uri": "https://localhost:8080/",
          "height": 300
        },
        "id": "VpNa87lJijw7",
        "outputId": "4f453777-28d5-411c-d4ad-748caf587cae"
      },
      "execution_count": null,
      "outputs": [
        {
          "output_type": "execute_result",
          "data": {
            "text/plain": [
              "  order_date received_date  elapsed_days\n",
              "0 2023-01-01    2023-01-13            12\n",
              "1 2023-02-15    2023-01-25           -21\n",
              "3 2023-04-22    2023-05-12            20\n",
              "4 2023-05-10    2023-06-22            43\n",
              "6 2023-07-14    2023-08-19            36\n",
              "7 2023-08-19    2023-09-13            25\n",
              "8 2023-09-03    2023-10-11            38\n",
              "9 2023-10-31    2023-12-11            41"
            ],
            "text/html": [
              "\n",
              "  <div id=\"df-e8a92db6-a701-4a7e-91fd-5f053f6bf9d2\">\n",
              "    <div class=\"colab-df-container\">\n",
              "      <div>\n",
              "<style scoped>\n",
              "    .dataframe tbody tr th:only-of-type {\n",
              "        vertical-align: middle;\n",
              "    }\n",
              "\n",
              "    .dataframe tbody tr th {\n",
              "        vertical-align: top;\n",
              "    }\n",
              "\n",
              "    .dataframe thead th {\n",
              "        text-align: right;\n",
              "    }\n",
              "</style>\n",
              "<table border=\"1\" class=\"dataframe\">\n",
              "  <thead>\n",
              "    <tr style=\"text-align: right;\">\n",
              "      <th></th>\n",
              "      <th>order_date</th>\n",
              "      <th>received_date</th>\n",
              "      <th>elapsed_days</th>\n",
              "    </tr>\n",
              "  </thead>\n",
              "  <tbody>\n",
              "    <tr>\n",
              "      <th>0</th>\n",
              "      <td>2023-01-01</td>\n",
              "      <td>2023-01-13</td>\n",
              "      <td>12</td>\n",
              "    </tr>\n",
              "    <tr>\n",
              "      <th>1</th>\n",
              "      <td>2023-02-15</td>\n",
              "      <td>2023-01-25</td>\n",
              "      <td>-21</td>\n",
              "    </tr>\n",
              "    <tr>\n",
              "      <th>3</th>\n",
              "      <td>2023-04-22</td>\n",
              "      <td>2023-05-12</td>\n",
              "      <td>20</td>\n",
              "    </tr>\n",
              "    <tr>\n",
              "      <th>4</th>\n",
              "      <td>2023-05-10</td>\n",
              "      <td>2023-06-22</td>\n",
              "      <td>43</td>\n",
              "    </tr>\n",
              "    <tr>\n",
              "      <th>6</th>\n",
              "      <td>2023-07-14</td>\n",
              "      <td>2023-08-19</td>\n",
              "      <td>36</td>\n",
              "    </tr>\n",
              "    <tr>\n",
              "      <th>7</th>\n",
              "      <td>2023-08-19</td>\n",
              "      <td>2023-09-13</td>\n",
              "      <td>25</td>\n",
              "    </tr>\n",
              "    <tr>\n",
              "      <th>8</th>\n",
              "      <td>2023-09-03</td>\n",
              "      <td>2023-10-11</td>\n",
              "      <td>38</td>\n",
              "    </tr>\n",
              "    <tr>\n",
              "      <th>9</th>\n",
              "      <td>2023-10-31</td>\n",
              "      <td>2023-12-11</td>\n",
              "      <td>41</td>\n",
              "    </tr>\n",
              "  </tbody>\n",
              "</table>\n",
              "</div>\n",
              "      <button class=\"colab-df-convert\" onclick=\"convertToInteractive('df-e8a92db6-a701-4a7e-91fd-5f053f6bf9d2')\"\n",
              "              title=\"Convert this dataframe to an interactive table.\"\n",
              "              style=\"display:none;\">\n",
              "        \n",
              "  <svg xmlns=\"http://www.w3.org/2000/svg\" height=\"24px\"viewBox=\"0 0 24 24\"\n",
              "       width=\"24px\">\n",
              "    <path d=\"M0 0h24v24H0V0z\" fill=\"none\"/>\n",
              "    <path d=\"M18.56 5.44l.94 2.06.94-2.06 2.06-.94-2.06-.94-.94-2.06-.94 2.06-2.06.94zm-11 1L8.5 8.5l.94-2.06 2.06-.94-2.06-.94L8.5 2.5l-.94 2.06-2.06.94zm10 10l.94 2.06.94-2.06 2.06-.94-2.06-.94-.94-2.06-.94 2.06-2.06.94z\"/><path d=\"M17.41 7.96l-1.37-1.37c-.4-.4-.92-.59-1.43-.59-.52 0-1.04.2-1.43.59L10.3 9.45l-7.72 7.72c-.78.78-.78 2.05 0 2.83L4 21.41c.39.39.9.59 1.41.59.51 0 1.02-.2 1.41-.59l7.78-7.78 2.81-2.81c.8-.78.8-2.07 0-2.86zM5.41 20L4 18.59l7.72-7.72 1.47 1.35L5.41 20z\"/>\n",
              "  </svg>\n",
              "      </button>\n",
              "      \n",
              "  <style>\n",
              "    .colab-df-container {\n",
              "      display:flex;\n",
              "      flex-wrap:wrap;\n",
              "      gap: 12px;\n",
              "    }\n",
              "\n",
              "    .colab-df-convert {\n",
              "      background-color: #E8F0FE;\n",
              "      border: none;\n",
              "      border-radius: 50%;\n",
              "      cursor: pointer;\n",
              "      display: none;\n",
              "      fill: #1967D2;\n",
              "      height: 32px;\n",
              "      padding: 0 0 0 0;\n",
              "      width: 32px;\n",
              "    }\n",
              "\n",
              "    .colab-df-convert:hover {\n",
              "      background-color: #E2EBFA;\n",
              "      box-shadow: 0px 1px 2px rgba(60, 64, 67, 0.3), 0px 1px 3px 1px rgba(60, 64, 67, 0.15);\n",
              "      fill: #174EA6;\n",
              "    }\n",
              "\n",
              "    [theme=dark] .colab-df-convert {\n",
              "      background-color: #3B4455;\n",
              "      fill: #D2E3FC;\n",
              "    }\n",
              "\n",
              "    [theme=dark] .colab-df-convert:hover {\n",
              "      background-color: #434B5C;\n",
              "      box-shadow: 0px 1px 3px 1px rgba(0, 0, 0, 0.15);\n",
              "      filter: drop-shadow(0px 1px 2px rgba(0, 0, 0, 0.3));\n",
              "      fill: #FFFFFF;\n",
              "    }\n",
              "  </style>\n",
              "\n",
              "      <script>\n",
              "        const buttonEl =\n",
              "          document.querySelector('#df-e8a92db6-a701-4a7e-91fd-5f053f6bf9d2 button.colab-df-convert');\n",
              "        buttonEl.style.display =\n",
              "          google.colab.kernel.accessAllowed ? 'block' : 'none';\n",
              "\n",
              "        async function convertToInteractive(key) {\n",
              "          const element = document.querySelector('#df-e8a92db6-a701-4a7e-91fd-5f053f6bf9d2');\n",
              "          const dataTable =\n",
              "            await google.colab.kernel.invokeFunction('convertToInteractive',\n",
              "                                                     [key], {});\n",
              "          if (!dataTable) return;\n",
              "\n",
              "          const docLinkHtml = 'Like what you see? Visit the ' +\n",
              "            '<a target=\"_blank\" href=https://colab.research.google.com/notebooks/data_table.ipynb>data table notebook</a>'\n",
              "            + ' to learn more about interactive tables.';\n",
              "          element.innerHTML = '';\n",
              "          dataTable['output_type'] = 'display_data';\n",
              "          await google.colab.output.renderOutput(dataTable, element);\n",
              "          const docLink = document.createElement('div');\n",
              "          docLink.innerHTML = docLinkHtml;\n",
              "          element.appendChild(docLink);\n",
              "        }\n",
              "      </script>\n",
              "    </div>\n",
              "  </div>\n",
              "  "
            ]
          },
          "metadata": {},
          "execution_count": 22
        }
      ]
    },
    {
      "cell_type": "markdown",
      "source": [
        "our final step might be then to drop impossible values (such as negative elapsed days)"
      ],
      "metadata": {
        "id": "vl5EyW7Htq04"
      }
    },
    {
      "cell_type": "code",
      "source": [
        "dates_df = dates_df[dates_df['elapsed_days']> 0]\n",
        "dates_df"
      ],
      "metadata": {
        "colab": {
          "base_uri": "https://localhost:8080/",
          "height": 268
        },
        "id": "tRe5mr8ztol7",
        "outputId": "9dfb2896-3e39-4461-c9ae-4aedcf02fe81"
      },
      "execution_count": null,
      "outputs": [
        {
          "output_type": "execute_result",
          "data": {
            "text/plain": [
              "  order_date received_date  elapsed_days\n",
              "0 2023-01-01    2023-01-13            12\n",
              "3 2023-04-22    2023-05-12            20\n",
              "4 2023-05-10    2023-06-22            43\n",
              "6 2023-07-14    2023-08-19            36\n",
              "7 2023-08-19    2023-09-13            25\n",
              "8 2023-09-03    2023-10-11            38\n",
              "9 2023-10-31    2023-12-11            41"
            ],
            "text/html": [
              "\n",
              "  <div id=\"df-a8e10944-d48a-415e-95ea-8d8240eb9a18\">\n",
              "    <div class=\"colab-df-container\">\n",
              "      <div>\n",
              "<style scoped>\n",
              "    .dataframe tbody tr th:only-of-type {\n",
              "        vertical-align: middle;\n",
              "    }\n",
              "\n",
              "    .dataframe tbody tr th {\n",
              "        vertical-align: top;\n",
              "    }\n",
              "\n",
              "    .dataframe thead th {\n",
              "        text-align: right;\n",
              "    }\n",
              "</style>\n",
              "<table border=\"1\" class=\"dataframe\">\n",
              "  <thead>\n",
              "    <tr style=\"text-align: right;\">\n",
              "      <th></th>\n",
              "      <th>order_date</th>\n",
              "      <th>received_date</th>\n",
              "      <th>elapsed_days</th>\n",
              "    </tr>\n",
              "  </thead>\n",
              "  <tbody>\n",
              "    <tr>\n",
              "      <th>0</th>\n",
              "      <td>2023-01-01</td>\n",
              "      <td>2023-01-13</td>\n",
              "      <td>12</td>\n",
              "    </tr>\n",
              "    <tr>\n",
              "      <th>3</th>\n",
              "      <td>2023-04-22</td>\n",
              "      <td>2023-05-12</td>\n",
              "      <td>20</td>\n",
              "    </tr>\n",
              "    <tr>\n",
              "      <th>4</th>\n",
              "      <td>2023-05-10</td>\n",
              "      <td>2023-06-22</td>\n",
              "      <td>43</td>\n",
              "    </tr>\n",
              "    <tr>\n",
              "      <th>6</th>\n",
              "      <td>2023-07-14</td>\n",
              "      <td>2023-08-19</td>\n",
              "      <td>36</td>\n",
              "    </tr>\n",
              "    <tr>\n",
              "      <th>7</th>\n",
              "      <td>2023-08-19</td>\n",
              "      <td>2023-09-13</td>\n",
              "      <td>25</td>\n",
              "    </tr>\n",
              "    <tr>\n",
              "      <th>8</th>\n",
              "      <td>2023-09-03</td>\n",
              "      <td>2023-10-11</td>\n",
              "      <td>38</td>\n",
              "    </tr>\n",
              "    <tr>\n",
              "      <th>9</th>\n",
              "      <td>2023-10-31</td>\n",
              "      <td>2023-12-11</td>\n",
              "      <td>41</td>\n",
              "    </tr>\n",
              "  </tbody>\n",
              "</table>\n",
              "</div>\n",
              "      <button class=\"colab-df-convert\" onclick=\"convertToInteractive('df-a8e10944-d48a-415e-95ea-8d8240eb9a18')\"\n",
              "              title=\"Convert this dataframe to an interactive table.\"\n",
              "              style=\"display:none;\">\n",
              "        \n",
              "  <svg xmlns=\"http://www.w3.org/2000/svg\" height=\"24px\"viewBox=\"0 0 24 24\"\n",
              "       width=\"24px\">\n",
              "    <path d=\"M0 0h24v24H0V0z\" fill=\"none\"/>\n",
              "    <path d=\"M18.56 5.44l.94 2.06.94-2.06 2.06-.94-2.06-.94-.94-2.06-.94 2.06-2.06.94zm-11 1L8.5 8.5l.94-2.06 2.06-.94-2.06-.94L8.5 2.5l-.94 2.06-2.06.94zm10 10l.94 2.06.94-2.06 2.06-.94-2.06-.94-.94-2.06-.94 2.06-2.06.94z\"/><path d=\"M17.41 7.96l-1.37-1.37c-.4-.4-.92-.59-1.43-.59-.52 0-1.04.2-1.43.59L10.3 9.45l-7.72 7.72c-.78.78-.78 2.05 0 2.83L4 21.41c.39.39.9.59 1.41.59.51 0 1.02-.2 1.41-.59l7.78-7.78 2.81-2.81c.8-.78.8-2.07 0-2.86zM5.41 20L4 18.59l7.72-7.72 1.47 1.35L5.41 20z\"/>\n",
              "  </svg>\n",
              "      </button>\n",
              "      \n",
              "  <style>\n",
              "    .colab-df-container {\n",
              "      display:flex;\n",
              "      flex-wrap:wrap;\n",
              "      gap: 12px;\n",
              "    }\n",
              "\n",
              "    .colab-df-convert {\n",
              "      background-color: #E8F0FE;\n",
              "      border: none;\n",
              "      border-radius: 50%;\n",
              "      cursor: pointer;\n",
              "      display: none;\n",
              "      fill: #1967D2;\n",
              "      height: 32px;\n",
              "      padding: 0 0 0 0;\n",
              "      width: 32px;\n",
              "    }\n",
              "\n",
              "    .colab-df-convert:hover {\n",
              "      background-color: #E2EBFA;\n",
              "      box-shadow: 0px 1px 2px rgba(60, 64, 67, 0.3), 0px 1px 3px 1px rgba(60, 64, 67, 0.15);\n",
              "      fill: #174EA6;\n",
              "    }\n",
              "\n",
              "    [theme=dark] .colab-df-convert {\n",
              "      background-color: #3B4455;\n",
              "      fill: #D2E3FC;\n",
              "    }\n",
              "\n",
              "    [theme=dark] .colab-df-convert:hover {\n",
              "      background-color: #434B5C;\n",
              "      box-shadow: 0px 1px 3px 1px rgba(0, 0, 0, 0.15);\n",
              "      filter: drop-shadow(0px 1px 2px rgba(0, 0, 0, 0.3));\n",
              "      fill: #FFFFFF;\n",
              "    }\n",
              "  </style>\n",
              "\n",
              "      <script>\n",
              "        const buttonEl =\n",
              "          document.querySelector('#df-a8e10944-d48a-415e-95ea-8d8240eb9a18 button.colab-df-convert');\n",
              "        buttonEl.style.display =\n",
              "          google.colab.kernel.accessAllowed ? 'block' : 'none';\n",
              "\n",
              "        async function convertToInteractive(key) {\n",
              "          const element = document.querySelector('#df-a8e10944-d48a-415e-95ea-8d8240eb9a18');\n",
              "          const dataTable =\n",
              "            await google.colab.kernel.invokeFunction('convertToInteractive',\n",
              "                                                     [key], {});\n",
              "          if (!dataTable) return;\n",
              "\n",
              "          const docLinkHtml = 'Like what you see? Visit the ' +\n",
              "            '<a target=\"_blank\" href=https://colab.research.google.com/notebooks/data_table.ipynb>data table notebook</a>'\n",
              "            + ' to learn more about interactive tables.';\n",
              "          element.innerHTML = '';\n",
              "          dataTable['output_type'] = 'display_data';\n",
              "          await google.colab.output.renderOutput(dataTable, element);\n",
              "          const docLink = document.createElement('div');\n",
              "          docLink.innerHTML = docLinkHtml;\n",
              "          element.appendChild(docLink);\n",
              "        }\n",
              "      </script>\n",
              "    </div>\n",
              "  </div>\n",
              "  "
            ]
          },
          "metadata": {},
          "execution_count": 23
        }
      ]
    },
    {
      "cell_type": "markdown",
      "source": [
        "Now let's imagine this is a production pipeline with each step a function.We'd like to run multiple commands in sequence and at each step check the results to be sure our transformations are correct.\n",
        "\n",
        "Let's create some helper functions."
      ],
      "metadata": {
        "id": "I7jsYoNiueg_"
      }
    },
    {
      "cell_type": "markdown",
      "source": [
        "## Using functions to create a pipeline."
      ],
      "metadata": {
        "id": "brWZuBj1clqA"
      }
    },
    {
      "cell_type": "code",
      "source": [
        "# Step 1\n",
        "def step_1_dropnull(df):\n",
        "  df = df.dropna().copy()\n",
        "  return df\n",
        "\n",
        "# Step 2\n",
        "def step_2_compute_days(df):\n",
        "  df.loc[:, 'elapsed_days'] = (df['received_date'] - df['order_date']).dt.days\n",
        "  return df\n",
        "\n",
        "# Step 3\n",
        "def step_3_dropnegative(df):\n",
        "  df = df[df['elapsed_days']> 0]\n",
        "  return df"
      ],
      "metadata": {
        "id": "EBVGEapdtyca"
      },
      "execution_count": null,
      "outputs": []
    },
    {
      "cell_type": "code",
      "source": [
        "df = step_1_dropnull(dates_df_orig)\n",
        "df = step_2_compute_days(df)\n",
        "df = step_3_dropnegative(df)\n",
        "df"
      ],
      "metadata": {
        "colab": {
          "base_uri": "https://localhost:8080/",
          "height": 268
        },
        "id": "6FdgPqDQc-u7",
        "outputId": "1f321d15-1c5d-4813-d5ab-8a721ad7f2c3"
      },
      "execution_count": null,
      "outputs": [
        {
          "output_type": "execute_result",
          "data": {
            "text/plain": [
              "  order_date received_date  elapsed_days\n",
              "0 2023-01-01    2023-01-13            12\n",
              "3 2023-04-22    2023-05-12            20\n",
              "4 2023-05-10    2023-06-22            43\n",
              "6 2023-07-14    2023-08-19            36\n",
              "7 2023-08-19    2023-09-13            25\n",
              "8 2023-09-03    2023-10-11            38\n",
              "9 2023-10-31    2023-12-11            41"
            ],
            "text/html": [
              "\n",
              "  <div id=\"df-f9271123-2bc4-4bf3-93ab-81765191d9d0\">\n",
              "    <div class=\"colab-df-container\">\n",
              "      <div>\n",
              "<style scoped>\n",
              "    .dataframe tbody tr th:only-of-type {\n",
              "        vertical-align: middle;\n",
              "    }\n",
              "\n",
              "    .dataframe tbody tr th {\n",
              "        vertical-align: top;\n",
              "    }\n",
              "\n",
              "    .dataframe thead th {\n",
              "        text-align: right;\n",
              "    }\n",
              "</style>\n",
              "<table border=\"1\" class=\"dataframe\">\n",
              "  <thead>\n",
              "    <tr style=\"text-align: right;\">\n",
              "      <th></th>\n",
              "      <th>order_date</th>\n",
              "      <th>received_date</th>\n",
              "      <th>elapsed_days</th>\n",
              "    </tr>\n",
              "  </thead>\n",
              "  <tbody>\n",
              "    <tr>\n",
              "      <th>0</th>\n",
              "      <td>2023-01-01</td>\n",
              "      <td>2023-01-13</td>\n",
              "      <td>12</td>\n",
              "    </tr>\n",
              "    <tr>\n",
              "      <th>3</th>\n",
              "      <td>2023-04-22</td>\n",
              "      <td>2023-05-12</td>\n",
              "      <td>20</td>\n",
              "    </tr>\n",
              "    <tr>\n",
              "      <th>4</th>\n",
              "      <td>2023-05-10</td>\n",
              "      <td>2023-06-22</td>\n",
              "      <td>43</td>\n",
              "    </tr>\n",
              "    <tr>\n",
              "      <th>6</th>\n",
              "      <td>2023-07-14</td>\n",
              "      <td>2023-08-19</td>\n",
              "      <td>36</td>\n",
              "    </tr>\n",
              "    <tr>\n",
              "      <th>7</th>\n",
              "      <td>2023-08-19</td>\n",
              "      <td>2023-09-13</td>\n",
              "      <td>25</td>\n",
              "    </tr>\n",
              "    <tr>\n",
              "      <th>8</th>\n",
              "      <td>2023-09-03</td>\n",
              "      <td>2023-10-11</td>\n",
              "      <td>38</td>\n",
              "    </tr>\n",
              "    <tr>\n",
              "      <th>9</th>\n",
              "      <td>2023-10-31</td>\n",
              "      <td>2023-12-11</td>\n",
              "      <td>41</td>\n",
              "    </tr>\n",
              "  </tbody>\n",
              "</table>\n",
              "</div>\n",
              "      <button class=\"colab-df-convert\" onclick=\"convertToInteractive('df-f9271123-2bc4-4bf3-93ab-81765191d9d0')\"\n",
              "              title=\"Convert this dataframe to an interactive table.\"\n",
              "              style=\"display:none;\">\n",
              "        \n",
              "  <svg xmlns=\"http://www.w3.org/2000/svg\" height=\"24px\"viewBox=\"0 0 24 24\"\n",
              "       width=\"24px\">\n",
              "    <path d=\"M0 0h24v24H0V0z\" fill=\"none\"/>\n",
              "    <path d=\"M18.56 5.44l.94 2.06.94-2.06 2.06-.94-2.06-.94-.94-2.06-.94 2.06-2.06.94zm-11 1L8.5 8.5l.94-2.06 2.06-.94-2.06-.94L8.5 2.5l-.94 2.06-2.06.94zm10 10l.94 2.06.94-2.06 2.06-.94-2.06-.94-.94-2.06-.94 2.06-2.06.94z\"/><path d=\"M17.41 7.96l-1.37-1.37c-.4-.4-.92-.59-1.43-.59-.52 0-1.04.2-1.43.59L10.3 9.45l-7.72 7.72c-.78.78-.78 2.05 0 2.83L4 21.41c.39.39.9.59 1.41.59.51 0 1.02-.2 1.41-.59l7.78-7.78 2.81-2.81c.8-.78.8-2.07 0-2.86zM5.41 20L4 18.59l7.72-7.72 1.47 1.35L5.41 20z\"/>\n",
              "  </svg>\n",
              "      </button>\n",
              "      \n",
              "  <style>\n",
              "    .colab-df-container {\n",
              "      display:flex;\n",
              "      flex-wrap:wrap;\n",
              "      gap: 12px;\n",
              "    }\n",
              "\n",
              "    .colab-df-convert {\n",
              "      background-color: #E8F0FE;\n",
              "      border: none;\n",
              "      border-radius: 50%;\n",
              "      cursor: pointer;\n",
              "      display: none;\n",
              "      fill: #1967D2;\n",
              "      height: 32px;\n",
              "      padding: 0 0 0 0;\n",
              "      width: 32px;\n",
              "    }\n",
              "\n",
              "    .colab-df-convert:hover {\n",
              "      background-color: #E2EBFA;\n",
              "      box-shadow: 0px 1px 2px rgba(60, 64, 67, 0.3), 0px 1px 3px 1px rgba(60, 64, 67, 0.15);\n",
              "      fill: #174EA6;\n",
              "    }\n",
              "\n",
              "    [theme=dark] .colab-df-convert {\n",
              "      background-color: #3B4455;\n",
              "      fill: #D2E3FC;\n",
              "    }\n",
              "\n",
              "    [theme=dark] .colab-df-convert:hover {\n",
              "      background-color: #434B5C;\n",
              "      box-shadow: 0px 1px 3px 1px rgba(0, 0, 0, 0.15);\n",
              "      filter: drop-shadow(0px 1px 2px rgba(0, 0, 0, 0.3));\n",
              "      fill: #FFFFFF;\n",
              "    }\n",
              "  </style>\n",
              "\n",
              "      <script>\n",
              "        const buttonEl =\n",
              "          document.querySelector('#df-f9271123-2bc4-4bf3-93ab-81765191d9d0 button.colab-df-convert');\n",
              "        buttonEl.style.display =\n",
              "          google.colab.kernel.accessAllowed ? 'block' : 'none';\n",
              "\n",
              "        async function convertToInteractive(key) {\n",
              "          const element = document.querySelector('#df-f9271123-2bc4-4bf3-93ab-81765191d9d0');\n",
              "          const dataTable =\n",
              "            await google.colab.kernel.invokeFunction('convertToInteractive',\n",
              "                                                     [key], {});\n",
              "          if (!dataTable) return;\n",
              "\n",
              "          const docLinkHtml = 'Like what you see? Visit the ' +\n",
              "            '<a target=\"_blank\" href=https://colab.research.google.com/notebooks/data_table.ipynb>data table notebook</a>'\n",
              "            + ' to learn more about interactive tables.';\n",
              "          element.innerHTML = '';\n",
              "          dataTable['output_type'] = 'display_data';\n",
              "          await google.colab.output.renderOutput(dataTable, element);\n",
              "          const docLink = document.createElement('div');\n",
              "          docLink.innerHTML = docLinkHtml;\n",
              "          element.appendChild(docLink);\n",
              "        }\n",
              "      </script>\n",
              "    </div>\n",
              "  </div>\n",
              "  "
            ]
          },
          "metadata": {},
          "execution_count": 25
        }
      ]
    },
    {
      "cell_type": "markdown",
      "source": [
        "There is a problem here though. Have we done ANY error handling? What happens if we pass bad data into our sequence?\n",
        "\n",
        "### Poor error handling.(really NO error handling)"
      ],
      "metadata": {
        "id": "EQP_n0kIdg4k"
      }
    },
    {
      "cell_type": "code",
      "source": [
        "df = step_1_dropnull(\" Hi I'm NOT a dataframe. I'm a string! \")\n",
        "df = step_2_compute_days(df)\n",
        "df = step_3_dropnegative(df)\n",
        "df"
      ],
      "metadata": {
        "colab": {
          "base_uri": "https://localhost:8080/",
          "height": 349
        },
        "id": "5S_rOaQhdxfR",
        "outputId": "70869b3b-41fc-4428-e9e8-e6e059155b18"
      },
      "execution_count": null,
      "outputs": [
        {
          "output_type": "error",
          "ename": "AttributeError",
          "evalue": "ignored",
          "traceback": [
            "\u001b[0;31m---------------------------------------------------------------------------\u001b[0m",
            "\u001b[0;31mAttributeError\u001b[0m                            Traceback (most recent call last)",
            "\u001b[0;32m<ipython-input-26-a3ebdc7134ae>\u001b[0m in \u001b[0;36m<cell line: 1>\u001b[0;34m()\u001b[0m\n\u001b[0;32m----> 1\u001b[0;31m \u001b[0mdf\u001b[0m \u001b[0;34m=\u001b[0m \u001b[0mstep_1_dropnull\u001b[0m\u001b[0;34m(\u001b[0m\u001b[0;34m\" Hi I'm NOT a dataframe. I'm a string! \"\u001b[0m\u001b[0;34m)\u001b[0m\u001b[0;34m\u001b[0m\u001b[0;34m\u001b[0m\u001b[0m\n\u001b[0m\u001b[1;32m      2\u001b[0m \u001b[0mdf\u001b[0m \u001b[0;34m=\u001b[0m \u001b[0mstep_2_compute_days\u001b[0m\u001b[0;34m(\u001b[0m\u001b[0mdf\u001b[0m\u001b[0;34m)\u001b[0m\u001b[0;34m\u001b[0m\u001b[0;34m\u001b[0m\u001b[0m\n\u001b[1;32m      3\u001b[0m \u001b[0mdf\u001b[0m \u001b[0;34m=\u001b[0m \u001b[0mstep_3_dropnegative\u001b[0m\u001b[0;34m(\u001b[0m\u001b[0mdf\u001b[0m\u001b[0;34m)\u001b[0m\u001b[0;34m\u001b[0m\u001b[0;34m\u001b[0m\u001b[0m\n\u001b[1;32m      4\u001b[0m \u001b[0mdf\u001b[0m\u001b[0;34m\u001b[0m\u001b[0;34m\u001b[0m\u001b[0m\n",
            "\u001b[0;32m<ipython-input-24-7a23fba1bba2>\u001b[0m in \u001b[0;36mstep_1_dropnull\u001b[0;34m(df)\u001b[0m\n\u001b[1;32m      1\u001b[0m \u001b[0;31m# Step 1\u001b[0m\u001b[0;34m\u001b[0m\u001b[0;34m\u001b[0m\u001b[0m\n\u001b[1;32m      2\u001b[0m \u001b[0;32mdef\u001b[0m \u001b[0mstep_1_dropnull\u001b[0m\u001b[0;34m(\u001b[0m\u001b[0mdf\u001b[0m\u001b[0;34m)\u001b[0m\u001b[0;34m:\u001b[0m\u001b[0;34m\u001b[0m\u001b[0;34m\u001b[0m\u001b[0m\n\u001b[0;32m----> 3\u001b[0;31m   \u001b[0mdf\u001b[0m \u001b[0;34m=\u001b[0m \u001b[0mdf\u001b[0m\u001b[0;34m.\u001b[0m\u001b[0mdropna\u001b[0m\u001b[0;34m(\u001b[0m\u001b[0;34m)\u001b[0m\u001b[0;34m.\u001b[0m\u001b[0mcopy\u001b[0m\u001b[0;34m(\u001b[0m\u001b[0;34m)\u001b[0m\u001b[0;34m\u001b[0m\u001b[0;34m\u001b[0m\u001b[0m\n\u001b[0m\u001b[1;32m      4\u001b[0m   \u001b[0;32mreturn\u001b[0m \u001b[0mdf\u001b[0m\u001b[0;34m\u001b[0m\u001b[0;34m\u001b[0m\u001b[0m\n\u001b[1;32m      5\u001b[0m \u001b[0;34m\u001b[0m\u001b[0m\n",
            "\u001b[0;31mAttributeError\u001b[0m: 'str' object has no attribute 'dropna'"
          ]
        }
      ]
    },
    {
      "cell_type": "markdown",
      "source": [
        "Good code and pipelines not only process data when everything is perfect. They handle situations in which the pipeline will fail and do so gracefully."
      ],
      "metadata": {
        "id": "l_BAJrP9d7z3"
      }
    },
    {
      "cell_type": "markdown",
      "source": [
        "### Beginning to handle errors."
      ],
      "metadata": {
        "id": "8e20HwcneOka"
      }
    },
    {
      "cell_type": "code",
      "source": [
        "def step_1_dropnull(df):\n",
        "  try:\n",
        "    if isinstance(df, pd.DataFrame):\n",
        "        # Process the DataFrame\n",
        "        df = df.dropna().copy()\n",
        "    else:\n",
        "        raise TypeError(\"Input is not a DataFrame.\")\n",
        "  except TypeError as e:\n",
        "    print(f\"step_1_dropnull: {e}\")\n",
        "    raise\n",
        "\n",
        "  return df\n",
        "\n",
        "def step_2_compute_days(df):\n",
        "  df.loc[:, 'elapsed_days'] = (df['received_date'] - df['order_date']).dt.days\n",
        "  return df\n",
        "\n",
        "def step_3_dropnegative(df):\n",
        "  df = df[df['elapsed_days']> 0]\n",
        "  return df"
      ],
      "metadata": {
        "id": "jfFWOQ_tcy-o"
      },
      "execution_count": null,
      "outputs": []
    },
    {
      "cell_type": "code",
      "source": [
        "df = step_1_dropnull(\"hi i'm definitely not a dataframe\")\n",
        "df = step_2_compute_days(df)\n",
        "df = step_3_dropnegative(df)\n",
        "df"
      ],
      "metadata": {
        "id": "tevd-J0ewpy5"
      },
      "execution_count": null,
      "outputs": []
    },
    {
      "cell_type": "markdown",
      "source": [
        "This is better, we've returned a custom error message that helps us diagnose the issue, but the code still crashes. We'd like to handle errors in such a way that the code doesn't crash, but rather fails gracefully."
      ],
      "metadata": {
        "id": "focN0KfCfCQA"
      }
    },
    {
      "cell_type": "markdown",
      "source": [
        "### Graceful error handling\n",
        "\n",
        "Here we stop returning an error and instead choose a number to represent failure. In this case we use -5 which means the passed data was not a dataframe. Now we can truly gracefully handle this error and can send a useful message to a data engineer to troubleshoot."
      ],
      "metadata": {
        "id": "FOOCipR8eX_t"
      }
    },
    {
      "cell_type": "code",
      "source": [
        "def the_pipeline(df):\n",
        "  try:\n",
        "    df = step_1_dropnull(df)\n",
        "    df = step_2_compute_days(df)\n",
        "    df = step_3_dropnegative(df)\n",
        "    df\n",
        "\n",
        "    return df\n",
        "\n",
        "  except Exception as e:\n",
        "    print(f\"Pipeline failed with error: {e}\")\n",
        "    return -5 # negative 5 means the pipeline failed."
      ],
      "metadata": {
        "id": "mk-MLkc7wtEA"
      },
      "execution_count": null,
      "outputs": []
    },
    {
      "cell_type": "code",
      "source": [
        "the_pipeline(\"hi i'm definitely not a dataframe\")"
      ],
      "metadata": {
        "id": "nHP1xJzvxxnY"
      },
      "execution_count": null,
      "outputs": []
    },
    {
      "cell_type": "markdown",
      "source": [
        "# Test driven development\n",
        "\n",
        "Write the Test first. Then write the Code.\n",
        "\n",
        "This might seem like a meaningless change, but it causes you to think first about all the ways your code can and should fail."
      ],
      "metadata": {
        "id": "hX_SH3kVgK2u"
      }
    },
    {
      "cell_type": "code",
      "source": [
        "class MultiplyNumbers(unittest.TestCase):\n",
        "    def test_multiply_two_numbers(self):\n",
        "        result = multiply_two_numbers(2, 4)\n",
        "        self.assertEqual(result, 8)  # Assert that the result is equal to 8"
      ],
      "metadata": {
        "id": "nMWlcmJ7gat0"
      },
      "execution_count": null,
      "outputs": []
    },
    {
      "cell_type": "code",
      "source": [
        "def multiply_two_numbers(a,b):\n",
        "  return"
      ],
      "metadata": {
        "id": "mhfoyuFzhWTu"
      },
      "execution_count": null,
      "outputs": []
    },
    {
      "cell_type": "code",
      "source": [
        "if __name__ == '__main__':\n",
        "  unittest.main(testRunner=unittest.TextTestRunner(resultclass=CustomTestResult),\n",
        "                argv=['first-arg-is-ignored'],\n",
        "                exit=False)"
      ],
      "metadata": {
        "id": "kxFhNxOvg5v2"
      },
      "execution_count": null,
      "outputs": []
    },
    {
      "cell_type": "markdown",
      "source": [
        "Now we know the test appears to work as it failed as expected.\n",
        "\n",
        "Refactor the code so the test will pass."
      ],
      "metadata": {
        "id": "X_edSOO8hklL"
      }
    },
    {
      "cell_type": "code",
      "source": [
        "def multiply_two_numbers(a,b):\n",
        "  result = a*b\n",
        "  return result"
      ],
      "metadata": {
        "id": "nqOtpDr3hjaj"
      },
      "execution_count": null,
      "outputs": []
    },
    {
      "cell_type": "code",
      "source": [
        "if __name__ == '__main__':\n",
        "  unittest.main(testRunner=unittest.TextTestRunner(resultclass=CustomTestResult),\n",
        "                argv=['first-arg-is-ignored'],\n",
        "                exit=False)"
      ],
      "metadata": {
        "id": "sBowG5m-hjao"
      },
      "execution_count": null,
      "outputs": []
    },
    {
      "cell_type": "markdown",
      "source": [
        "# Mocking\n",
        "\n"
      ],
      "metadata": {
        "id": "O-cJvpDLarbe"
      }
    },
    {
      "cell_type": "code",
      "source": [
        "import requests\n",
        "\n",
        "def get_data_from_api():\n",
        "    response = requests.get('https://api.example.com/data')\n",
        "    return response.json()"
      ],
      "metadata": {
        "id": "QvwHUsVkc-u1"
      },
      "execution_count": null,
      "outputs": []
    },
    {
      "cell_type": "code",
      "source": [
        "import unittest\n",
        "from unittest.mock import patch\n",
        "from unittest import mock\n",
        "import requests\n",
        "\n",
        "class TestGetDataFromAPI(unittest.TestCase):\n",
        "    @patch('requests.get')\n",
        "    def test_get_data_from_api(self, mock_get):\n",
        "        mock_response = {'data': 'mocked data'}\n",
        "        mock_get.return_value.json.return_value = mock_response\n",
        "\n",
        "        result = get_data_from_api()\n",
        "\n",
        "        mock_get.assert_called_once_with('https://api.example.com/data')\n",
        "        self.assertEqual(result, mock_response)\n",
        "\n",
        "    @patch('requests.get')\n",
        "    def test_successful_api_response(self, mock_get):\n",
        "        # Mock the API response\n",
        "        mock_response = mock.Mock()\n",
        "        mock_response.status_code = 200\n",
        "        mock_response.json.return_value = {'data': 'example'}\n",
        "        mock_get.return_value = mock_response\n",
        "\n",
        "        # Call the function that interacts with the API\n",
        "        result = get_data_from_api()\n",
        "\n",
        "        # Assertions\n",
        "        mock_get.assert_called_once_with('https://api.example.com/data')\n",
        "        self.assertEqual(result, {'data': 'example'})"
      ],
      "metadata": {
        "id": "MY1vteOuZ_kn"
      },
      "execution_count": null,
      "outputs": []
    },
    {
      "cell_type": "code",
      "source": [
        "if __name__ == '__main__':\n",
        "  unittest.main(testRunner=unittest.TextTestRunner(resultclass=CustomTestResult),\n",
        "                argv=['first-arg-is-ignored'],\n",
        "                exit=False)"
      ],
      "metadata": {
        "colab": {
          "base_uri": "https://localhost:8080/"
        },
        "id": "wlT9gxJ9cIBi",
        "outputId": "647fb519-eb07-46b3-97bb-af370fa8015b"
      },
      "execution_count": null,
      "outputs": [
        {
          "output_type": "stream",
          "name": "stderr",
          "text": [
            "Ran 5 tests in 0.007s\n",
            "\n",
            "OK\n"
          ]
        },
        {
          "output_type": "stream",
          "name": "stdout",
          "text": [
            "Test Passed: __main__.LengthTest.test_check_expression_true\n",
            "Test Passed: __main__.TestAddNumbers.test_add_positive_numbers\n",
            "Test Passed: __main__.TestGetDataFromAPI.test_get_data_from_api\n",
            "Test Passed: __main__.TestGetDataFromAPI.test_successful_api_response\n",
            "Test Passed: __main__.TestNegative.test_negative\n"
          ]
        }
      ]
    },
    {
      "cell_type": "code",
      "source": [
        "!pip install coverage"
      ],
      "metadata": {
        "colab": {
          "base_uri": "https://localhost:8080/"
        },
        "id": "qamABes8oV3o",
        "outputId": "2f1a4546-5b6e-499c-a315-6ba31849ede8"
      },
      "execution_count": null,
      "outputs": [
        {
          "output_type": "stream",
          "name": "stdout",
          "text": [
            "Looking in indexes: https://pypi.org/simple, https://us-python.pkg.dev/colab-wheels/public/simple/\n",
            "Collecting coverage\n",
            "  Downloading coverage-7.2.7-cp310-cp310-manylinux_2_5_x86_64.manylinux1_x86_64.manylinux_2_17_x86_64.manylinux2014_x86_64.whl (228 kB)\n",
            "\u001b[2K     \u001b[90m━━━━━━━━━━━━━━━━━━━━━━━━━━━━━━━━━━━━━━━\u001b[0m \u001b[32m228.7/228.7 kB\u001b[0m \u001b[31m5.9 MB/s\u001b[0m eta \u001b[36m0:00:00\u001b[0m\n",
            "\u001b[?25hInstalling collected packages: coverage\n",
            "Successfully installed coverage-7.2.7\n"
          ]
        }
      ]
    },
    {
      "cell_type": "code",
      "source": [
        "import coverage\n",
        "\n",
        "def square(x):\n",
        "    return x ** 2\n",
        "\n",
        "def add(a, b):\n",
        "    return a + b\n",
        "\n",
        "def subtract(a, b):\n",
        "    return a - b\n",
        "\n",
        "\n",
        "# Create a coverage object\n",
        "cov = coverage.Coverage()\n",
        "\n",
        "# Start measuring code coverage\n",
        "cov.start()\n",
        "\n",
        "# Call the functions to be tested\n",
        "result1 = square(5)\n",
        "result2 = add(3, 7)\n",
        "result3 = subtract(10, 4)\n",
        "\n",
        "# Stop measuring code coverage\n",
        "cov.stop()\n",
        "\n",
        "# Generate coverage report\n",
        "cov.report()\n",
        "\n",
        "# Optionally, generate an HTML report\n",
        "cov.html_report(directory='coverage_report')\n",
        "\n",
        "# Optionally, generate an XML report\n",
        "cov.xml_report(outfile='coverage.xml')\n"
      ],
      "metadata": {
        "colab": {
          "base_uri": "https://localhost:8080/",
          "height": 433
        },
        "id": "kv1ta5mQcPlV",
        "outputId": "db2dae5b-e7b3-4eef-83b6-0d49aa23357a"
      },
      "execution_count": null,
      "outputs": [
        {
          "output_type": "stream",
          "name": "stderr",
          "text": [
            "/usr/local/lib/python3.10/dist-packages/coverage/control.py:860: CoverageWarning: No data was collected. (no-data-collected)\n",
            "  self._warn(\"No data was collected.\", slug=\"no-data-collected\")\n"
          ]
        },
        {
          "output_type": "error",
          "ename": "NoDataError",
          "evalue": "ignored",
          "traceback": [
            "\u001b[0;31m---------------------------------------------------------------------------\u001b[0m",
            "\u001b[0;31mNoDataError\u001b[0m                               Traceback (most recent call last)",
            "\u001b[0;32m<ipython-input-14-1de2754499d4>\u001b[0m in \u001b[0;36m<cell line: 28>\u001b[0;34m()\u001b[0m\n\u001b[1;32m     26\u001b[0m \u001b[0;34m\u001b[0m\u001b[0m\n\u001b[1;32m     27\u001b[0m \u001b[0;31m# Generate coverage report\u001b[0m\u001b[0;34m\u001b[0m\u001b[0;34m\u001b[0m\u001b[0m\n\u001b[0;32m---> 28\u001b[0;31m \u001b[0mcov\u001b[0m\u001b[0;34m.\u001b[0m\u001b[0mreport\u001b[0m\u001b[0;34m(\u001b[0m\u001b[0;34m)\u001b[0m\u001b[0;34m\u001b[0m\u001b[0;34m\u001b[0m\u001b[0m\n\u001b[0m\u001b[1;32m     29\u001b[0m \u001b[0;34m\u001b[0m\u001b[0m\n\u001b[1;32m     30\u001b[0m \u001b[0;31m# Optionally, generate an HTML report\u001b[0m\u001b[0;34m\u001b[0m\u001b[0;34m\u001b[0m\u001b[0m\n",
            "\u001b[0;32m/usr/local/lib/python3.10/dist-packages/coverage/control.py\u001b[0m in \u001b[0;36mreport\u001b[0;34m(self, morfs, show_missing, ignore_errors, file, omit, include, skip_covered, contexts, skip_empty, precision, sort, output_format)\u001b[0m\n\u001b[1;32m   1059\u001b[0m         ):\n\u001b[1;32m   1060\u001b[0m             \u001b[0mreporter\u001b[0m \u001b[0;34m=\u001b[0m \u001b[0mSummaryReporter\u001b[0m\u001b[0;34m(\u001b[0m\u001b[0mself\u001b[0m\u001b[0;34m)\u001b[0m\u001b[0;34m\u001b[0m\u001b[0;34m\u001b[0m\u001b[0m\n\u001b[0;32m-> 1061\u001b[0;31m             \u001b[0;32mreturn\u001b[0m \u001b[0mreporter\u001b[0m\u001b[0;34m.\u001b[0m\u001b[0mreport\u001b[0m\u001b[0;34m(\u001b[0m\u001b[0mmorfs\u001b[0m\u001b[0;34m,\u001b[0m \u001b[0moutfile\u001b[0m\u001b[0;34m=\u001b[0m\u001b[0mfile\u001b[0m\u001b[0;34m)\u001b[0m\u001b[0;34m\u001b[0m\u001b[0;34m\u001b[0m\u001b[0m\n\u001b[0m\u001b[1;32m   1062\u001b[0m \u001b[0;34m\u001b[0m\u001b[0m\n\u001b[1;32m   1063\u001b[0m     def annotate(\n",
            "\u001b[0;32m/usr/local/lib/python3.10/dist-packages/coverage/report.py\u001b[0m in \u001b[0;36mreport\u001b[0;34m(self, morfs, outfile)\u001b[0m\n\u001b[1;32m    179\u001b[0m \u001b[0;34m\u001b[0m\u001b[0m\n\u001b[1;32m    180\u001b[0m         \u001b[0mself\u001b[0m\u001b[0;34m.\u001b[0m\u001b[0mcoverage\u001b[0m\u001b[0;34m.\u001b[0m\u001b[0mget_data\u001b[0m\u001b[0;34m(\u001b[0m\u001b[0;34m)\u001b[0m\u001b[0;34m.\u001b[0m\u001b[0mset_query_contexts\u001b[0m\u001b[0;34m(\u001b[0m\u001b[0mself\u001b[0m\u001b[0;34m.\u001b[0m\u001b[0mconfig\u001b[0m\u001b[0;34m.\u001b[0m\u001b[0mreport_contexts\u001b[0m\u001b[0;34m)\u001b[0m\u001b[0;34m\u001b[0m\u001b[0;34m\u001b[0m\u001b[0m\n\u001b[0;32m--> 181\u001b[0;31m         \u001b[0;32mfor\u001b[0m \u001b[0mfr\u001b[0m\u001b[0;34m,\u001b[0m \u001b[0manalysis\u001b[0m \u001b[0;32min\u001b[0m \u001b[0mget_analysis_to_report\u001b[0m\u001b[0;34m(\u001b[0m\u001b[0mself\u001b[0m\u001b[0;34m.\u001b[0m\u001b[0mcoverage\u001b[0m\u001b[0;34m,\u001b[0m \u001b[0mmorfs\u001b[0m\u001b[0;34m)\u001b[0m\u001b[0;34m:\u001b[0m\u001b[0;34m\u001b[0m\u001b[0;34m\u001b[0m\u001b[0m\n\u001b[0m\u001b[1;32m    182\u001b[0m             \u001b[0mself\u001b[0m\u001b[0;34m.\u001b[0m\u001b[0mreport_one_file\u001b[0m\u001b[0;34m(\u001b[0m\u001b[0mfr\u001b[0m\u001b[0;34m,\u001b[0m \u001b[0manalysis\u001b[0m\u001b[0;34m)\u001b[0m\u001b[0;34m\u001b[0m\u001b[0;34m\u001b[0m\u001b[0m\n\u001b[1;32m    183\u001b[0m \u001b[0;34m\u001b[0m\u001b[0m\n",
            "\u001b[0;32m/usr/local/lib/python3.10/dist-packages/coverage/report_core.py\u001b[0m in \u001b[0;36mget_analysis_to_report\u001b[0;34m(coverage, morfs)\u001b[0m\n\u001b[1;32m     92\u001b[0m \u001b[0;34m\u001b[0m\u001b[0m\n\u001b[1;32m     93\u001b[0m     \u001b[0;32mif\u001b[0m \u001b[0;32mnot\u001b[0m \u001b[0mfile_reporters\u001b[0m\u001b[0;34m:\u001b[0m\u001b[0;34m\u001b[0m\u001b[0;34m\u001b[0m\u001b[0m\n\u001b[0;32m---> 94\u001b[0;31m         \u001b[0;32mraise\u001b[0m \u001b[0mNoDataError\u001b[0m\u001b[0;34m(\u001b[0m\u001b[0;34m\"No data to report.\"\u001b[0m\u001b[0;34m)\u001b[0m\u001b[0;34m\u001b[0m\u001b[0;34m\u001b[0m\u001b[0m\n\u001b[0m\u001b[1;32m     95\u001b[0m \u001b[0;34m\u001b[0m\u001b[0m\n\u001b[1;32m     96\u001b[0m     \u001b[0;32mfor\u001b[0m \u001b[0mfr\u001b[0m \u001b[0;32min\u001b[0m \u001b[0msorted\u001b[0m\u001b[0;34m(\u001b[0m\u001b[0mfile_reporters\u001b[0m\u001b[0;34m)\u001b[0m\u001b[0;34m:\u001b[0m\u001b[0;34m\u001b[0m\u001b[0;34m\u001b[0m\u001b[0m\n",
            "\u001b[0;31mNoDataError\u001b[0m: No data to report."
          ]
        }
      ]
    },
    {
      "cell_type": "code",
      "source": [
        "%%writefile sample.py\n",
        "\n",
        "def sum(num1, num2):\n",
        "    if (num1>5):\n",
        "      print('gt5')\n",
        "    else:\n",
        "      print('lte5')\n",
        "\n",
        "    return num1 + num2\n",
        "\n",
        "\n",
        "def sum_only_positive(num1, num2):\n",
        "    if num1 > 0 and num2 > 0:\n",
        "        return num1 + num2\n",
        "    else:\n",
        "        return None"
      ],
      "metadata": {
        "id": "jO0AP89BoSEV",
        "colab": {
          "base_uri": "https://localhost:8080/"
        },
        "outputId": "fc038c9d-c12a-47c2-901c-ab0ed1ac8d52"
      },
      "execution_count": null,
      "outputs": [
        {
          "output_type": "stream",
          "name": "stdout",
          "text": [
            "Overwriting sample.py\n"
          ]
        }
      ]
    },
    {
      "cell_type": "code",
      "source": [
        "%%writefile test.py\n",
        "\n",
        "from sample import sum, sum_only_positive\n",
        "\n",
        "#def test_sum():\n",
        "#    assert sum(5, 5) == 10\n",
        "\n",
        "def test_sum_positive_ok():\n",
        "    assert sum_only_positive(2, 2) == 4\n",
        "\n",
        "def test_sum_positive_fail():\n",
        "    assert sum_only_positive(-1, 2) is None"
      ],
      "metadata": {
        "colab": {
          "base_uri": "https://localhost:8080/"
        },
        "id": "BfzQ5IdA3Vok",
        "outputId": "54eaf959-0a13-46d9-e2b1-e6b62b0145c4"
      },
      "execution_count": null,
      "outputs": [
        {
          "output_type": "stream",
          "name": "stdout",
          "text": [
            "Overwriting test.py\n"
          ]
        }
      ]
    },
    {
      "cell_type": "code",
      "source": [
        "!coverage run --source=sample -m pytest test.py"
      ],
      "metadata": {
        "colab": {
          "base_uri": "https://localhost:8080/"
        },
        "id": "mfRhSeVy3kQC",
        "outputId": "5b0aae65-8af8-4c2c-cfc6-bcd09b0138af"
      },
      "execution_count": null,
      "outputs": [
        {
          "output_type": "stream",
          "name": "stdout",
          "text": [
            "\u001b[1m============================= test session starts ==============================\u001b[0m\n",
            "platform linux -- Python 3.10.12, pytest-7.2.2, pluggy-1.0.0\n",
            "rootdir: /content\n",
            "plugins: anyio-3.6.2\n",
            "\u001b[1mcollecting ... \u001b[0m\u001b[1m\rcollected 2 items                                                              \u001b[0m\n",
            "\n",
            "test.py \u001b[32m.\u001b[0m\u001b[32m.\u001b[0m\u001b[32m                                                               [100%]\u001b[0m\n",
            "\n",
            "\u001b[32m============================== \u001b[32m\u001b[1m2 passed\u001b[0m\u001b[32m in 0.02s\u001b[0m\u001b[32m ===============================\u001b[0m\n"
          ]
        }
      ]
    },
    {
      "cell_type": "code",
      "source": [
        "%%writefile __init__.py"
      ],
      "metadata": {
        "colab": {
          "base_uri": "https://localhost:8080/"
        },
        "id": "69Pbmhld3lOZ",
        "outputId": "d2225151-e254-49f3-b4ad-2d31e797efc0"
      },
      "execution_count": null,
      "outputs": [
        {
          "output_type": "stream",
          "name": "stdout",
          "text": [
            "Writing __init__.py\n"
          ]
        }
      ]
    }
  ]
}