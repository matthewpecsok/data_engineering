{
  "nbformat": 4,
  "nbformat_minor": 0,
  "metadata": {
    "colab": {
      "provenance": [],
      "authorship_tag": "ABX9TyNi6xexT3lN7bequiAnmQ3d",
      "include_colab_link": true
    },
    "kernelspec": {
      "name": "python3",
      "display_name": "Python 3"
    },
    "language_info": {
      "name": "python"
    }
  },
  "cells": [
    {
      "cell_type": "markdown",
      "metadata": {
        "id": "view-in-github",
        "colab_type": "text"
      },
      "source": [
        "<a href=\"https://colab.research.google.com/github/matthewpecsok/data_engineering/blob/main/tutorials/de_data_transformations.ipynb\" target=\"_parent\"><img src=\"https://colab.research.google.com/assets/colab-badge.svg\" alt=\"Open In Colab\"/></a>"
      ]
    },
    {
      "cell_type": "code",
      "execution_count": null,
      "metadata": {
        "id": "OTOpgFHVilBH"
      },
      "outputs": [],
      "source": [
        "import os\n",
        "import sqlite3\n",
        "import pandas as pd"
      ]
    },
    {
      "cell_type": "code",
      "source": [
        "!wget -O northwind.db https://github.com/matthewpecsok/data_engineering/raw/main/data/northwind.db"
      ],
      "metadata": {
        "id": "nhENDPZwiwOy"
      },
      "execution_count": null,
      "outputs": []
    },
    {
      "cell_type": "code",
      "source": [
        "conn = sqlite3.connect(\"northwind.db\")"
      ],
      "metadata": {
        "id": "R39iojXmiwxg"
      },
      "execution_count": null,
      "outputs": []
    },
    {
      "cell_type": "code",
      "source": [
        "cur = conn.cursor()"
      ],
      "metadata": {
        "id": "le7BdPAXjOcQ"
      },
      "execution_count": null,
      "outputs": []
    },
    {
      "cell_type": "markdown",
      "source": [
        "# intentionally create some nulls"
      ],
      "metadata": {
        "id": "JANs3LGxjs5i"
      }
    },
    {
      "cell_type": "code",
      "source": [
        "cur.execute('update products set unitprice = null where productid  in (1,4,15,22,30,35,38,40,55)')\n",
        "conn.commit()"
      ],
      "metadata": {
        "id": "iDHJxIf1jUAl"
      },
      "execution_count": null,
      "outputs": []
    },
    {
      "cell_type": "code",
      "source": [
        "products_df = pd.read_sql(\"SELECT * FROM Products;\", conn)\n",
        "products_df.shape"
      ],
      "metadata": {
        "id": "UQyybtfBi0cj"
      },
      "execution_count": null,
      "outputs": []
    },
    {
      "cell_type": "code",
      "source": [
        "products_df.head(6)"
      ],
      "metadata": {
        "id": "fKNqLysOi2eU"
      },
      "execution_count": null,
      "outputs": []
    },
    {
      "cell_type": "markdown",
      "source": [
        "notice UnitPrice non-null count is now 68"
      ],
      "metadata": {
        "id": "ABULVYA8j1bS"
      }
    },
    {
      "cell_type": "code",
      "source": [
        "products_df.info()"
      ],
      "metadata": {
        "id": "G26eGIx5jMsS"
      },
      "execution_count": null,
      "outputs": []
    },
    {
      "cell_type": "markdown",
      "source": [
        "# dealing with nulls"
      ],
      "metadata": {
        "id": "2kYgrCeJkFRt"
      }
    },
    {
      "cell_type": "code",
      "source": [],
      "metadata": {
        "id": "ZjKHXuB5jkWm"
      },
      "execution_count": null,
      "outputs": []
    },
    {
      "cell_type": "markdown",
      "source": [
        "## nulls option 1 - sql COALESCE\n",
        "\n",
        "COALESCE allows us to force a default value if the value returned by the row is Null. In this case we choose 0.00 instead of Null as the return value. COALESCE can have multiple values possible for return. It returns the first non-null value in the list.\n",
        "\n",
        "https://www.w3schools.com/sql/func_sqlserver_coalesce.asp\n",
        "\n",
        "This fact may at first seem uninsteresting, but the possible values can themselves be queries, allowing you much versatility in the coalesce.\n"
      ],
      "metadata": {
        "id": "xDDgGwU5kH5M"
      }
    },
    {
      "cell_type": "markdown",
      "source": [],
      "metadata": {
        "id": "8nn6K-P6kXNF"
      }
    },
    {
      "cell_type": "code",
      "source": [
        "products_sql_coalesce_df = pd.read_sql(\"\"\"SELECT ProductID,\n",
        "ProductName,\n",
        "SupplierID,\n",
        "CategoryID,\n",
        "QuantityPerUnit,\n",
        "COALESCE(UnitPrice, 0.0) AS UnitPrice,\n",
        "UnitsInStock,\n",
        "UnitsOnOrder,\n",
        "ReorderLevel,\n",
        "Discontinued\n",
        "FROM Products;\"\"\", conn)\n",
        "products_sql_coalesce_df.info()\n"
      ],
      "metadata": {
        "id": "RhkzSwYEkKkn"
      },
      "execution_count": null,
      "outputs": []
    },
    {
      "cell_type": "code",
      "source": [
        "products_pandas_transform_df = products_df.copy()\n",
        "products_pandas_transform_df.info()"
      ],
      "metadata": {
        "id": "XKZiQ9oolaW3"
      },
      "execution_count": null,
      "outputs": []
    },
    {
      "cell_type": "markdown",
      "source": [
        "# Transform with Pandas\n",
        "\n",
        "We use the expression `products_pandas_transform_df['UnitPrice']` to access the UnitPrice column.\n",
        "\n",
        "We then use the method fillna(0) to fill the Not a Number values with a 0. In Pandas nulls are either NaN if numeric columns, or None if Object."
      ],
      "metadata": {
        "id": "pwtvy-sclo6A"
      }
    },
    {
      "cell_type": "markdown",
      "source": [
        "## NaN transform"
      ],
      "metadata": {
        "id": "vJMhKs6pnwGR"
      }
    },
    {
      "cell_type": "code",
      "source": [
        "products_pandas_transform_df['UnitPrice'] = products_pandas_transform_df['UnitPrice'].fillna(0)\n",
        "products_pandas_transform_df.info()"
      ],
      "metadata": {
        "id": "r0TdOwl0lkbk"
      },
      "execution_count": null,
      "outputs": []
    },
    {
      "cell_type": "markdown",
      "source": [
        "## absolute value transform\n",
        "\n",
        "Let's assume a column mistakenly has negative values in it."
      ],
      "metadata": {
        "id": "IAZsSvj0nygy"
      }
    },
    {
      "cell_type": "code",
      "source": [
        "products_pandas_transform_df.UnitPrice = products_pandas_transform_df.UnitPrice*-1\n",
        "products_pandas_transform_df.head()"
      ],
      "metadata": {
        "id": "cAf3CXRFmdb_"
      },
      "execution_count": null,
      "outputs": []
    },
    {
      "cell_type": "markdown",
      "source": [
        "Use abs() to resolve this. It's worth noting that sql has the same function available."
      ],
      "metadata": {
        "id": "I6v9dj-Rn_W9"
      }
    },
    {
      "cell_type": "code",
      "source": [
        "products_pandas_transform_df['UnitPrice'] = products_pandas_transform_df['UnitPrice'].abs()\n",
        "products_pandas_transform_df.head()"
      ],
      "metadata": {
        "id": "sl_9vX9Vn9Rw"
      },
      "execution_count": null,
      "outputs": []
    },
    {
      "cell_type": "markdown",
      "source": [
        "# creating new boolean columns\n",
        "\n",
        "beware the behavior with null values, these may not behave as you expect."
      ],
      "metadata": {
        "id": "jZKMvFQ1od0C"
      }
    },
    {
      "cell_type": "markdown",
      "source": [
        "## sql boolean columns\n",
        "\n",
        "sql often assume 0 = False and 1 = True"
      ],
      "metadata": {
        "id": "TCvjKqUzpJxx"
      }
    },
    {
      "cell_type": "code",
      "source": [
        "pd.read_sql(\"SELECT UnitPrice,IIF(UnitPrice>15,True,False) as UnitPrice_gt_15 FROM Products;\", conn)"
      ],
      "metadata": {
        "id": "tWAZYYuJoZEf"
      },
      "execution_count": null,
      "outputs": []
    },
    {
      "cell_type": "markdown",
      "source": [
        "## pandas boolean columns"
      ],
      "metadata": {
        "id": "F8gvZahqpMMM"
      }
    },
    {
      "cell_type": "code",
      "source": [
        "products_df['UnitPrice_gt_15'] = products_df['UnitPrice']>15\n",
        "products_df.head()"
      ],
      "metadata": {
        "id": "ckP7w9dvoux5"
      },
      "execution_count": null,
      "outputs": []
    },
    {
      "cell_type": "markdown",
      "source": [
        "### pandas sum boolean"
      ],
      "metadata": {
        "id": "OyMjdRixpk-Z"
      }
    },
    {
      "cell_type": "code",
      "source": [
        "products_df['UnitPrice_gt_15'].value_counts()"
      ],
      "metadata": {
        "id": "pwOupj6BphxL"
      },
      "execution_count": null,
      "outputs": []
    },
    {
      "cell_type": "code",
      "source": [
        "products_df['UnitPrice_gt_15'].sum()"
      ],
      "metadata": {
        "id": "I4wLGNuHpbcK"
      },
      "execution_count": null,
      "outputs": []
    },
    {
      "cell_type": "markdown",
      "source": [
        "# inserting with a select statement\n",
        "\n",
        "we can use existing tables to create a resultset which can be used to populate a new table without ever leaving the database. This can reduce network hops and latency and allow the database to do the heavy lifting instead of Python."
      ],
      "metadata": {
        "id": "4u8-D2W9u3vS"
      }
    },
    {
      "cell_type": "code",
      "source": [
        "cur.execute(\"\"\"drop table if  exists customer_order_count \"\"\")\n",
        "conn.commit()"
      ],
      "metadata": {
        "id": "UjRolV9bv8V6"
      },
      "execution_count": null,
      "outputs": []
    },
    {
      "cell_type": "code",
      "source": [
        "cur.execute(\"\"\"create table if not exists customer_order_count (\n",
        "customerid int,\n",
        "ordercount int\n",
        ")\"\"\"\n",
        ")\n",
        "conn.commit()"
      ],
      "metadata": {
        "id": "mjmnMZM0vN2f"
      },
      "execution_count": null,
      "outputs": []
    },
    {
      "cell_type": "code",
      "source": [
        "cur.execute(\"\"\"\n",
        "delete from customer_order_count\n",
        "\"\"\")\n",
        "conn.commit()"
      ],
      "metadata": {
        "id": "RzqK2oRzv4Gk"
      },
      "execution_count": null,
      "outputs": []
    },
    {
      "cell_type": "code",
      "source": [
        "cur.execute(\"\"\"\n",
        "insert into customer_order_count\n",
        "SELECT c.CustomerID, COUNT(o.OrderID) AS TotalOrders\n",
        "FROM Customers c\n",
        "LEFT JOIN Orders o ON c.CustomerID = o.CustomerID\n",
        "GROUP BY c.CustomerID;\n",
        "\"\"\")\n",
        "conn.commit()\n"
      ],
      "metadata": {
        "id": "VhZwPSj2vyIQ"
      },
      "execution_count": null,
      "outputs": []
    },
    {
      "cell_type": "code",
      "source": [
        "pd.read_sql(\"select * from customer_order_count;\", conn)"
      ],
      "metadata": {
        "id": "W9uwGn7Sv0hL"
      },
      "execution_count": null,
      "outputs": []
    },
    {
      "cell_type": "markdown",
      "source": [
        "# create a dataframe with some null values"
      ],
      "metadata": {
        "id": "vmAgeCtYS0Hg"
      }
    },
    {
      "cell_type": "code",
      "source": [
        "data = {'first_name': ['Alice', 'Bob', 'Charlie', 'David', 'Eve', 'Frank', 'Grace', 'Henry', 'Isabella', 'Jack', np.nan, np.nan],\n",
        "        'last_name': ['Smith', 'Jones', 'Williams', 'Brown', 'Davis', 'Miller', 'Wilson', 'Moore', 'Taylor', 'Anderson', np.nan, np.nan]}\n",
        "\n",
        "df = pd.DataFrame(data)\n",
        "print(df)\n"
      ],
      "metadata": {
        "id": "G9wGA2ruv14v"
      },
      "execution_count": null,
      "outputs": []
    },
    {
      "cell_type": "markdown",
      "source": [
        "## fill the nulls with 'missing'"
      ],
      "metadata": {
        "id": "TUjQvBfcS4AR"
      }
    },
    {
      "cell_type": "code",
      "source": [
        "df['first_name'] = df['first_name'].fillna('missing')\n",
        "df\n"
      ],
      "metadata": {
        "id": "uE114_RTRHjo"
      },
      "execution_count": null,
      "outputs": []
    },
    {
      "cell_type": "markdown",
      "source": [
        "# retrieve the customers and orders tables as dataframes"
      ],
      "metadata": {
        "id": "RzOrjrd2S8gM"
      }
    },
    {
      "cell_type": "code",
      "source": [
        "customers_df = pd.read_sql(\"SELECT * FROM Customers;\", conn)\n",
        "orders_df = pd.read_sql(\"SELECT * FROM Orders;\", conn)"
      ],
      "metadata": {
        "id": "88fBp0JARfRL"
      },
      "execution_count": null,
      "outputs": []
    },
    {
      "cell_type": "code",
      "source": [
        "customers_df.head(2)"
      ],
      "metadata": {
        "id": "dL1hFLlZR5X2"
      },
      "execution_count": null,
      "outputs": []
    },
    {
      "cell_type": "code",
      "source": [
        "orders_df.head(2)"
      ],
      "metadata": {
        "id": "Vi7W1aF8R7Tp"
      },
      "execution_count": null,
      "outputs": []
    },
    {
      "cell_type": "markdown",
      "source": [
        "## in pandas join via left join"
      ],
      "metadata": {
        "id": "YKImPlxnTAvT"
      }
    },
    {
      "cell_type": "code",
      "source": [
        "merged_df_left = pd.merge(customers_df, orders_df, on='CustomerID', how='left')\n",
        "merged_df_left.head(2)\n"
      ],
      "metadata": {
        "id": "OpKJOaENR9dB"
      },
      "execution_count": null,
      "outputs": []
    },
    {
      "cell_type": "markdown",
      "source": [
        "## in pandas join via inner join"
      ],
      "metadata": {
        "id": "7gFgUUDgTEV5"
      }
    },
    {
      "cell_type": "code",
      "source": [
        "merged_df_inner = pd.merge(customers_df, orders_df, on='CustomerID', how='inner')\n",
        "merged_df_inner.head(2)"
      ],
      "metadata": {
        "id": "wkrMRijYShWa"
      },
      "execution_count": null,
      "outputs": []
    }
  ]
}