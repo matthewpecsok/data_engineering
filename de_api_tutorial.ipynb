{
  "nbformat": 4,
  "nbformat_minor": 0,
  "metadata": {
    "colab": {
      "provenance": [],
      "authorship_tag": "ABX9TyP3zGAfU+ioVCoZ/HoYCEdY",
      "include_colab_link": true
    },
    "kernelspec": {
      "name": "python3",
      "display_name": "Python 3"
    },
    "language_info": {
      "name": "python"
    }
  },
  "cells": [
    {
      "cell_type": "markdown",
      "metadata": {
        "id": "view-in-github",
        "colab_type": "text"
      },
      "source": [
        "<a href=\"https://colab.research.google.com/github/matthewpecsok/data_engineering/blob/main/de_api_tutorial.ipynb\" target=\"_parent\"><img src=\"https://colab.research.google.com/assets/colab-badge.svg\" alt=\"Open In Colab\"/></a>"
      ]
    },
    {
      "cell_type": "markdown",
      "source": [
        "# install required libraries"
      ],
      "metadata": {
        "id": "yHs_H2s3nthh"
      }
    },
    {
      "cell_type": "code",
      "source": [
        "!pip install flask # webserver\n",
        "!pip install faker # fake data generator"
      ],
      "metadata": {
        "colab": {
          "base_uri": "https://localhost:8080/"
        },
        "id": "HurJHgqDPa1O",
        "outputId": "415ffd47-8647-4e4f-902b-c7ddf9652656"
      },
      "execution_count": 1,
      "outputs": [
        {
          "output_type": "stream",
          "name": "stdout",
          "text": [
            "Requirement already satisfied: flask in /usr/local/lib/python3.10/dist-packages (2.2.5)\n",
            "Requirement already satisfied: Werkzeug>=2.2.2 in /usr/local/lib/python3.10/dist-packages (from flask) (3.0.1)\n",
            "Requirement already satisfied: Jinja2>=3.0 in /usr/local/lib/python3.10/dist-packages (from flask) (3.1.3)\n",
            "Requirement already satisfied: itsdangerous>=2.0 in /usr/local/lib/python3.10/dist-packages (from flask) (2.1.2)\n",
            "Requirement already satisfied: click>=8.0 in /usr/local/lib/python3.10/dist-packages (from flask) (8.1.7)\n",
            "Requirement already satisfied: MarkupSafe>=2.0 in /usr/local/lib/python3.10/dist-packages (from Jinja2>=3.0->flask) (2.1.4)\n",
            "Collecting faker\n",
            "  Downloading Faker-22.5.1-py3-none-any.whl (1.7 MB)\n",
            "\u001b[2K     \u001b[90m━━━━━━━━━━━━━━━━━━━━━━━━━━━━━━━━━━━━━━━━\u001b[0m \u001b[32m1.7/1.7 MB\u001b[0m \u001b[31m9.3 MB/s\u001b[0m eta \u001b[36m0:00:00\u001b[0m\n",
            "\u001b[?25hRequirement already satisfied: python-dateutil>=2.4 in /usr/local/lib/python3.10/dist-packages (from faker) (2.8.2)\n",
            "Requirement already satisfied: six>=1.5 in /usr/local/lib/python3.10/dist-packages (from python-dateutil>=2.4->faker) (1.16.0)\n",
            "Installing collected packages: faker\n",
            "Successfully installed faker-22.5.1\n"
          ]
        }
      ]
    },
    {
      "cell_type": "code",
      "source": [
        "import requests"
      ],
      "metadata": {
        "id": "6TBzNq4eGa-I"
      },
      "execution_count": 2,
      "outputs": []
    },
    {
      "cell_type": "markdown",
      "source": [
        "# create the API app in flask\n",
        "\n",
        "use multithreading to run Flask in a new thread so the notebook is free to continue executing other code."
      ],
      "metadata": {
        "id": "wsTIsZranytq"
      }
    },
    {
      "cell_type": "code",
      "execution_count": 3,
      "metadata": {
        "colab": {
          "base_uri": "https://localhost:8080/"
        },
        "id": "_-uuQhd_PVYt",
        "outputId": "506e4735-2dfb-4c3f-a778-deaed519d531"
      },
      "outputs": [
        {
          "output_type": "stream",
          "name": "stdout",
          "text": [
            " * Serving Flask app '__main__'\n"
          ]
        }
      ],
      "source": [
        "from flask import Flask, request, jsonify\n",
        "import sqlite3\n",
        "import threading\n",
        "import multiprocessing, time\n",
        "\n",
        "app = Flask(__name__)\n",
        "\n",
        "DATABASE = 'customers.db'\n",
        "\n",
        "@app.route(\"/\")\n",
        "def home():\n",
        "    return \"Hello World! This is the API homepage. No swagger.\"\n",
        "\n",
        "\n",
        "def create_table():\n",
        "    conn = sqlite3.connect(DATABASE)\n",
        "    cursor = conn.cursor()\n",
        "    cursor.execute('''\n",
        "        CREATE TABLE IF NOT EXISTS customers (\n",
        "            id INTEGER PRIMARY KEY AUTOINCREMENT,\n",
        "            name TEXT NOT NULL,\n",
        "            email TEXT NOT NULL,\n",
        "            phone TEXT NOT NULL\n",
        "        )\n",
        "    ''')\n",
        "    conn.commit()\n",
        "    conn.close()\n",
        "\n",
        "@app.route('/customers', methods=['GET'])\n",
        "def get_customers():\n",
        "    conn = sqlite3.connect(DATABASE)\n",
        "    cursor = conn.cursor()\n",
        "    cursor.execute(\"SELECT * FROM customers\")\n",
        "    customers = cursor.fetchall()\n",
        "    conn.close()\n",
        "    return jsonify(customers)\n",
        "\n",
        "@app.route('/customers/<int:customer_id>', methods=['GET'])\n",
        "def get_customer_by_id(customer_id):\n",
        "    conn = sqlite3.connect(DATABASE)\n",
        "    cursor = conn.cursor()\n",
        "    cursor.execute(\"SELECT * FROM customers where id = ?\",(customer_id,))\n",
        "    customers = cursor.fetchall()\n",
        "    conn.close()\n",
        "    return jsonify(customers)\n",
        "\n",
        "@app.route('/customers', methods=['POST'])\n",
        "def add_customer():\n",
        "    name = request.json.get('name')\n",
        "    email = request.json.get('email')\n",
        "    phone = request.json.get('phone')\n",
        "\n",
        "    conn = sqlite3.connect(DATABASE)\n",
        "    cursor = conn.cursor()\n",
        "    cursor.execute(\"INSERT INTO customers (name, email, phone) VALUES (?, ?, ?)\", (name, email, phone))\n",
        "    conn.commit()\n",
        "    conn.close()\n",
        "\n",
        "    return jsonify({'message': 'Customer added successfully'})\n",
        "\n",
        "@app.route('/customers/<int:customer_id>', methods=['PUT'])\n",
        "def update_customer(customer_id):\n",
        "    name = request.json.get('name')\n",
        "    email = request.json.get('email')\n",
        "    phone = request.json.get('phone')\n",
        "\n",
        "    conn = sqlite3.connect(DATABASE)\n",
        "    cursor = conn.cursor()\n",
        "    cursor.execute(\"UPDATE customers SET name=?, email=?, phone=? WHERE id=?\", (name, email, phone, customer_id))\n",
        "    conn.commit()\n",
        "    conn.close()\n",
        "\n",
        "    return jsonify({'message': 'Customer updated successfully'})\n",
        "\n",
        "@app.route('/customers/<int:customer_id>', methods=['DELETE'])\n",
        "def delete_customer(customer_id):\n",
        "    conn = sqlite3.connect(DATABASE)\n",
        "    cursor = conn.cursor()\n",
        "    cursor.execute(\"DELETE FROM customers WHERE id=?\", (customer_id,))\n",
        "    conn.commit()\n",
        "    conn.close()\n",
        "\n",
        "    return jsonify({'message': 'Customer deleted successfully'})\n",
        "\n",
        "if __name__ == '__main__':\n",
        "    create_table()\n",
        "    multiprocessing.Process(target=app.run).start() # this is required for background running so the cell can be released.\n",
        "\n"
      ]
    },
    {
      "cell_type": "markdown",
      "source": [
        "# get public url\n",
        "\n",
        "use the url here to make sure flask is running. you should get a webpage that says '*Hello World! This is the API homepage.*'"
      ],
      "metadata": {
        "id": "2G_i2VO5n-KB"
      }
    },
    {
      "cell_type": "code",
      "source": [
        "# this cell outputs the url you can use in your browser to see if the website/api is running.\n",
        "\n",
        "from google.colab.output import eval_js\n",
        "print(eval_js(\"google.colab.kernel.proxyPort(5000)\"))"
      ],
      "metadata": {
        "colab": {
          "base_uri": "https://localhost:8080/",
          "height": 34
        },
        "id": "Qk1JhyQLQB2p",
        "outputId": "7a7ddc15-36cc-48bc-a3cc-eeda97aa729c"
      },
      "execution_count": 4,
      "outputs": [
        {
          "output_type": "stream",
          "name": "stdout",
          "text": [
            "https://01kvgzg464uo-496ff2e9c6d22116-5000-colab.googleusercontent.com/\n"
          ]
        }
      ]
    },
    {
      "cell_type": "markdown",
      "source": [
        "## function: get customers"
      ],
      "metadata": {
        "id": "V_3-zTbfnpsC"
      }
    },
    {
      "cell_type": "code",
      "source": [
        "def helper_get_customers():\n",
        "\n",
        "  import requests\n",
        "\n",
        "  url = f'http://localhost:5000/customers'\n",
        "\n",
        "  response = requests.get(url)\n",
        "  customers = response.json()\n",
        "\n",
        "  if response.status_code == 200:\n",
        "      return customers\n",
        "  else:\n",
        "      return(f'Error: {response.status_code} - {response.text}')\n",
        "\n",
        "  return customers\n",
        "\n",
        "\n",
        "def helper_get_customer(customerid):\n",
        "\n",
        "  import requests\n",
        "\n",
        "  url = f'http://localhost:5000/customers/{customerid}'\n",
        "\n",
        "  response = requests.get(url)\n",
        "\n",
        "\n",
        "  if response.status_code == 200:\n",
        "      customer = response.json()\n",
        "      return customer\n",
        "  else:\n",
        "      return(f'Error: {response.status_code} - {response.text}')\n",
        "\n",
        "  return customer\n"
      ],
      "metadata": {
        "id": "2hdL7Sx4jYvG"
      },
      "execution_count": 5,
      "outputs": []
    },
    {
      "cell_type": "markdown",
      "source": [
        "# function: generate fake customer\n",
        "\n",
        "generate fake customer, post to the API which inserts the record into sqlite."
      ],
      "metadata": {
        "id": "SLogLvR8oKcv"
      }
    },
    {
      "cell_type": "code",
      "source": [
        "def generate_customers():\n",
        "\n",
        "  import requests\n",
        "  from faker import Faker\n",
        "\n",
        "  url = 'http://localhost:5000/customers'\n",
        "\n",
        "  faker = Faker()\n",
        "\n",
        "  new_customer = {\n",
        "      'name': faker.name(),\n",
        "      'email': faker.email(),\n",
        "      'phone': faker.phone_number()\n",
        "  }\n",
        "\n",
        "  response = requests.post(url, json=new_customer)\n",
        "\n",
        "  if response.status_code == 200:\n",
        "      print('New customer added successfully.')\n",
        "  else:\n",
        "      print(f'Error: {response.status_code} - {response.text}')\n"
      ],
      "metadata": {
        "id": "02aVst9ukXx_"
      },
      "execution_count": 6,
      "outputs": []
    },
    {
      "cell_type": "markdown",
      "source": [
        "# generate a new customer record and post it to the API"
      ],
      "metadata": {
        "id": "5FNcpV0XnQsh"
      }
    },
    {
      "cell_type": "code",
      "source": [
        "generate_customers()"
      ],
      "metadata": {
        "colab": {
          "base_uri": "https://localhost:8080/"
        },
        "id": "oCFejbxBmlr7",
        "outputId": "533156fb-90e7-4d39-ec8d-fa22d67fd4fc"
      },
      "execution_count": 7,
      "outputs": [
        {
          "output_type": "stream",
          "name": "stdout",
          "text": [
            "New customer added successfully.\n"
          ]
        }
      ]
    },
    {
      "cell_type": "markdown",
      "source": [
        "# get all customer records with the API"
      ],
      "metadata": {
        "id": "6w5l8uoOnUOb"
      }
    },
    {
      "cell_type": "code",
      "source": [
        "helper_get_customers()"
      ],
      "metadata": {
        "colab": {
          "base_uri": "https://localhost:8080/"
        },
        "id": "bkc5QgrmlXW7",
        "outputId": "01e4e2c7-618b-48a2-a0e9-8b99e0834bac"
      },
      "execution_count": 8,
      "outputs": [
        {
          "output_type": "execute_result",
          "data": {
            "text/plain": [
              "[[1, 'Thomas Torres', 'pittsgary@example.net', '491-357-9338x6362']]"
            ]
          },
          "metadata": {},
          "execution_count": 8
        }
      ]
    },
    {
      "cell_type": "code",
      "source": [
        "helper_get_customer(1)"
      ],
      "metadata": {
        "colab": {
          "base_uri": "https://localhost:8080/"
        },
        "id": "WlzRrSbb2IIb",
        "outputId": "b4f210af-5650-4de6-f526-0650eaba2294"
      },
      "execution_count": 9,
      "outputs": [
        {
          "output_type": "execute_result",
          "data": {
            "text/plain": [
              "[[1, 'Thomas Torres', 'pittsgary@example.net', '491-357-9338x6362']]"
            ]
          },
          "metadata": {},
          "execution_count": 9
        }
      ]
    },
    {
      "cell_type": "markdown",
      "source": [
        "# query the database with pandas"
      ],
      "metadata": {
        "id": "Wswld-KQnOVx"
      }
    },
    {
      "cell_type": "code",
      "source": [
        "import pandas as pd"
      ],
      "metadata": {
        "id": "qDBVMrFXmdSJ"
      },
      "execution_count": 10,
      "outputs": []
    },
    {
      "cell_type": "code",
      "source": [
        "DATABASE = 'customers.db'"
      ],
      "metadata": {
        "id": "Ja6voRNnnFkO"
      },
      "execution_count": 11,
      "outputs": []
    },
    {
      "cell_type": "code",
      "source": [
        "conn = sqlite3.connect(DATABASE)"
      ],
      "metadata": {
        "id": "yVWKebDlm_L-"
      },
      "execution_count": 12,
      "outputs": []
    },
    {
      "cell_type": "code",
      "source": [
        "pd.read_sql_query(\"select * from customers\",conn)"
      ],
      "metadata": {
        "colab": {
          "base_uri": "https://localhost:8080/",
          "height": 80
        },
        "id": "c76AHS39m1u6",
        "outputId": "559bacc4-f400-4137-8c1c-e00ea149c82c"
      },
      "execution_count": 13,
      "outputs": [
        {
          "output_type": "execute_result",
          "data": {
            "text/plain": [
              "   id           name                  email              phone\n",
              "0   1  Thomas Torres  pittsgary@example.net  491-357-9338x6362"
            ],
            "text/html": [
              "\n",
              "  <div id=\"df-3b9f9f5e-ec75-47e3-a4f4-6ee68291e093\" class=\"colab-df-container\">\n",
              "    <div>\n",
              "<style scoped>\n",
              "    .dataframe tbody tr th:only-of-type {\n",
              "        vertical-align: middle;\n",
              "    }\n",
              "\n",
              "    .dataframe tbody tr th {\n",
              "        vertical-align: top;\n",
              "    }\n",
              "\n",
              "    .dataframe thead th {\n",
              "        text-align: right;\n",
              "    }\n",
              "</style>\n",
              "<table border=\"1\" class=\"dataframe\">\n",
              "  <thead>\n",
              "    <tr style=\"text-align: right;\">\n",
              "      <th></th>\n",
              "      <th>id</th>\n",
              "      <th>name</th>\n",
              "      <th>email</th>\n",
              "      <th>phone</th>\n",
              "    </tr>\n",
              "  </thead>\n",
              "  <tbody>\n",
              "    <tr>\n",
              "      <th>0</th>\n",
              "      <td>1</td>\n",
              "      <td>Thomas Torres</td>\n",
              "      <td>pittsgary@example.net</td>\n",
              "      <td>491-357-9338x6362</td>\n",
              "    </tr>\n",
              "  </tbody>\n",
              "</table>\n",
              "</div>\n",
              "    <div class=\"colab-df-buttons\">\n",
              "\n",
              "  <div class=\"colab-df-container\">\n",
              "    <button class=\"colab-df-convert\" onclick=\"convertToInteractive('df-3b9f9f5e-ec75-47e3-a4f4-6ee68291e093')\"\n",
              "            title=\"Convert this dataframe to an interactive table.\"\n",
              "            style=\"display:none;\">\n",
              "\n",
              "  <svg xmlns=\"http://www.w3.org/2000/svg\" height=\"24px\" viewBox=\"0 -960 960 960\">\n",
              "    <path d=\"M120-120v-720h720v720H120Zm60-500h600v-160H180v160Zm220 220h160v-160H400v160Zm0 220h160v-160H400v160ZM180-400h160v-160H180v160Zm440 0h160v-160H620v160ZM180-180h160v-160H180v160Zm440 0h160v-160H620v160Z\"/>\n",
              "  </svg>\n",
              "    </button>\n",
              "\n",
              "  <style>\n",
              "    .colab-df-container {\n",
              "      display:flex;\n",
              "      gap: 12px;\n",
              "    }\n",
              "\n",
              "    .colab-df-convert {\n",
              "      background-color: #E8F0FE;\n",
              "      border: none;\n",
              "      border-radius: 50%;\n",
              "      cursor: pointer;\n",
              "      display: none;\n",
              "      fill: #1967D2;\n",
              "      height: 32px;\n",
              "      padding: 0 0 0 0;\n",
              "      width: 32px;\n",
              "    }\n",
              "\n",
              "    .colab-df-convert:hover {\n",
              "      background-color: #E2EBFA;\n",
              "      box-shadow: 0px 1px 2px rgba(60, 64, 67, 0.3), 0px 1px 3px 1px rgba(60, 64, 67, 0.15);\n",
              "      fill: #174EA6;\n",
              "    }\n",
              "\n",
              "    .colab-df-buttons div {\n",
              "      margin-bottom: 4px;\n",
              "    }\n",
              "\n",
              "    [theme=dark] .colab-df-convert {\n",
              "      background-color: #3B4455;\n",
              "      fill: #D2E3FC;\n",
              "    }\n",
              "\n",
              "    [theme=dark] .colab-df-convert:hover {\n",
              "      background-color: #434B5C;\n",
              "      box-shadow: 0px 1px 3px 1px rgba(0, 0, 0, 0.15);\n",
              "      filter: drop-shadow(0px 1px 2px rgba(0, 0, 0, 0.3));\n",
              "      fill: #FFFFFF;\n",
              "    }\n",
              "  </style>\n",
              "\n",
              "    <script>\n",
              "      const buttonEl =\n",
              "        document.querySelector('#df-3b9f9f5e-ec75-47e3-a4f4-6ee68291e093 button.colab-df-convert');\n",
              "      buttonEl.style.display =\n",
              "        google.colab.kernel.accessAllowed ? 'block' : 'none';\n",
              "\n",
              "      async function convertToInteractive(key) {\n",
              "        const element = document.querySelector('#df-3b9f9f5e-ec75-47e3-a4f4-6ee68291e093');\n",
              "        const dataTable =\n",
              "          await google.colab.kernel.invokeFunction('convertToInteractive',\n",
              "                                                    [key], {});\n",
              "        if (!dataTable) return;\n",
              "\n",
              "        const docLinkHtml = 'Like what you see? Visit the ' +\n",
              "          '<a target=\"_blank\" href=https://colab.research.google.com/notebooks/data_table.ipynb>data table notebook</a>'\n",
              "          + ' to learn more about interactive tables.';\n",
              "        element.innerHTML = '';\n",
              "        dataTable['output_type'] = 'display_data';\n",
              "        await google.colab.output.renderOutput(dataTable, element);\n",
              "        const docLink = document.createElement('div');\n",
              "        docLink.innerHTML = docLinkHtml;\n",
              "        element.appendChild(docLink);\n",
              "      }\n",
              "    </script>\n",
              "  </div>\n",
              "\n",
              "\n",
              "    </div>\n",
              "  </div>\n"
            ]
          },
          "metadata": {},
          "execution_count": 13
        }
      ]
    },
    {
      "cell_type": "markdown",
      "source": [
        "## kill the webserver\n"
      ],
      "metadata": {
        "id": "zvVt3PA9rPom"
      }
    },
    {
      "cell_type": "code",
      "source": [
        "!lsof -i :5000"
      ],
      "metadata": {
        "colab": {
          "base_uri": "https://localhost:8080/"
        },
        "id": "TTNTWi71GSo0",
        "outputId": "2b4b5bfa-1697-467e-b607-0179f36cb543"
      },
      "execution_count": 14,
      "outputs": [
        {
          "output_type": "stream",
          "name": "stdout",
          "text": [
            "COMMAND PID USER   FD   TYPE DEVICE SIZE/OFF NODE NAME\n",
            "python3 368 root   45u  IPv4  24755      0t0  TCP localhost:5000 (LISTEN)\n"
          ]
        }
      ]
    },
    {
      "cell_type": "code",
      "source": [
        "!kill -9 1607"
      ],
      "metadata": {
        "colab": {
          "base_uri": "https://localhost:8080/"
        },
        "id": "Q_LrfGUYH2nU",
        "outputId": "243ba76e-0b95-4c78-e839-24985ce3b5c3"
      },
      "execution_count": 15,
      "outputs": [
        {
          "output_type": "stream",
          "name": "stdout",
          "text": [
            "/bin/bash: line 1: kill: (1607) - No such process\n"
          ]
        }
      ]
    },
    {
      "cell_type": "code",
      "source": [],
      "metadata": {
        "id": "cPH3hEHrH4nH"
      },
      "execution_count": 15,
      "outputs": []
    }
  ]
}